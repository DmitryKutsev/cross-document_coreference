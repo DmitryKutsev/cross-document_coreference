{
  "nbformat": 4,
  "nbformat_minor": 0,
  "metadata": {
    "colab": {
      "name": "Untitled55.ipynb",
      "provenance": [],
      "authorship_tag": "ABX9TyPvL8sZQPScBxrcVJl07phP",
      "include_colab_link": true
    },
    "kernelspec": {
      "name": "python3",
      "display_name": "Python 3"
    },
    "language_info": {
      "name": "python"
    }
  },
  "cells": [
    {
      "cell_type": "markdown",
      "metadata": {
        "id": "view-in-github",
        "colab_type": "text"
      },
      "source": [
        "<a href=\"https://colab.research.google.com/github/DmitryKutsev/cross-document_coreference/blob/main/text_analysis.ipynb\" target=\"_parent\"><img src=\"https://colab.research.google.com/assets/colab-badge.svg\" alt=\"Open In Colab\"/></a>"
      ]
    },
    {
      "cell_type": "code",
      "metadata": {
        "colab": {
          "base_uri": "https://localhost:8080/"
        },
        "id": "tOvjxp5z8ZDc",
        "outputId": "cfdbd28f-db02-403b-d482-1ba4a7a1312f"
      },
      "source": [
        "!wget https://raw.githubusercontent.com/DmitryKutsev/cross-document_coreference/main/scraping/neuroleptic_ru.txt"
      ],
      "execution_count": 1,
      "outputs": [
        {
          "output_type": "stream",
          "text": [
            "--2021-04-04 17:33:03--  https://raw.githubusercontent.com/DmitryKutsev/cross-document_coreference/main/scraping/neuroleptic_ru.txt\n",
            "Resolving raw.githubusercontent.com (raw.githubusercontent.com)... 185.199.110.133, 185.199.109.133, 185.199.111.133, ...\n",
            "Connecting to raw.githubusercontent.com (raw.githubusercontent.com)|185.199.110.133|:443... connected.\n",
            "HTTP request sent, awaiting response... 200 OK\n",
            "Length: 3638613 (3.5M) [text/plain]\n",
            "Saving to: ‘neuroleptic_ru.txt’\n",
            "\n",
            "neuroleptic_ru.txt  100%[===================>]   3.47M  19.9MB/s    in 0.2s    \n",
            "\n",
            "2021-04-04 17:33:04 (19.9 MB/s) - ‘neuroleptic_ru.txt’ saved [3638613/3638613]\n",
            "\n"
          ],
          "name": "stdout"
        }
      ]
    },
    {
      "cell_type": "code",
      "metadata": {
        "id": "v3dEmsOH8eOZ"
      },
      "source": [
        "handler = open('neuroleptic_ru.txt', 'r', encoding='utf-8')"
      ],
      "execution_count": 5,
      "outputs": []
    },
    {
      "cell_type": "code",
      "metadata": {
        "id": "JLT6J1ua82fF"
      },
      "source": [
        "my_txt = handler.read()\n",
        "handler.close()"
      ],
      "execution_count": 6,
      "outputs": []
    },
    {
      "cell_type": "code",
      "metadata": {
        "id": "eUqZQohG9B5m"
      },
      "source": [
        "str_list = my_txt.split('----')"
      ],
      "execution_count": 7,
      "outputs": []
    },
    {
      "cell_type": "code",
      "metadata": {
        "colab": {
          "base_uri": "https://localhost:8080/",
          "height": 54
        },
        "id": "WISiAodR9MvG",
        "outputId": "3da20f1b-1e73-4465-dd2b-5d41cae45564"
      },
      "source": [
        "str_list[0]"
      ],
      "execution_count": 8,
      "outputs": [
        {
          "output_type": "execute_result",
          "data": {
            "application/vnd.google.colaboratory.intrinsic+json": {
              "type": "string"
            },
            "text/plain": [
              "'На рынок снова вернулся алимемазин (раньше терален назывался). Хотелось бы узнать Ваше мнение. Кто принимал в своей практике, что хорошего, что плохого\\n\\n____________________________________________\\nСообщение отредактировано.\\n\\nДобавлена ссылка на ролик в You Tube.\\n\\nСообщение отредактировал Гилев: 12 Апрель 2020 - 07:55\\nДобавлена ссылка на ролик в You Tube\\n'"
            ]
          },
          "metadata": {
            "tags": []
          },
          "execution_count": 8
        }
      ]
    },
    {
      "cell_type": "code",
      "metadata": {
        "colab": {
          "base_uri": "https://localhost:8080/",
          "height": 72
        },
        "id": "Qj8u1Nmt9OfF",
        "outputId": "e5a493ff-0d12-427e-f8b2-d7a97dbc2d5c"
      },
      "source": [
        "str_list[1]"
      ],
      "execution_count": 9,
      "outputs": [
        {
          "output_type": "execute_result",
          "data": {
            "application/vnd.google.colaboratory.intrinsic+json": {
              "type": "string"
            },
            "text/plain": [
              "'\\nОрто сказал(а) 27.11.2008, 19:59:\\nНа рынок снова вернулся алимемазин (раньше терален назывался). Хотелось бы узнать Ваше мнение. Кто принимал в своей практике, что хорошего, что плохого\\n\\nЭто тот редкий случай , когда антипсихотик оставил самые приятные впечатления ( к сожалению про моно-терапию рассказать не могу т.к принимал его совместно с антидепрессантами )\\nОрто , а где его можно приобрести не подскажете ???\\n'"
            ]
          },
          "metadata": {
            "tags": []
          },
          "execution_count": 9
        }
      ]
    },
    {
      "cell_type": "code",
      "metadata": {
        "id": "lTV8uk09-2wh"
      },
      "source": [
        ""
      ],
      "execution_count": null,
      "outputs": []
    }
  ]
}