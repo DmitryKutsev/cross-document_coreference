{
  "nbformat": 4,
  "nbformat_minor": 0,
  "metadata": {
    "colab": {
      "name": "Untitled55.ipynb",
      "provenance": [],
      "authorship_tag": "ABX9TyM+cpHAaIS9Sac+wge5xfFJ",
      "include_colab_link": true
    },
    "kernelspec": {
      "name": "python3",
      "display_name": "Python 3"
    },
    "language_info": {
      "name": "python"
    }
  },
  "cells": [
    {
      "cell_type": "markdown",
      "metadata": {
        "id": "view-in-github",
        "colab_type": "text"
      },
      "source": [
        "<a href=\"https://colab.research.google.com/github/DmitryKutsev/cross-document_coreference/blob/main/text_analysis.ipynb\" target=\"_parent\"><img src=\"https://colab.research.google.com/assets/colab-badge.svg\" alt=\"Open In Colab\"/></a>"
      ]
    },
    {
      "cell_type": "code",
      "metadata": {
        "colab": {
          "base_uri": "https://localhost:8080/"
        },
        "id": "oA2EFVEBdpW8",
        "outputId": "b9424e27-9d62-4acc-de76-a09abbc7f694"
      },
      "source": [
        "!pip install -U pip setuptools wheel\n",
        "!pip install -U spacy\n",
        "!python -m spacy download ru_core_news_sm\n",
        "!python -m spacy download ru_core_news_md"
      ],
      "execution_count": 1,
      "outputs": [
        {
          "output_type": "stream",
          "text": [
            "Collecting pip\n",
            "\u001b[?25l  Downloading https://files.pythonhosted.org/packages/fe/ef/60d7ba03b5c442309ef42e7d69959f73aacccd0d86008362a681c4698e83/pip-21.0.1-py3-none-any.whl (1.5MB)\n",
            "\r\u001b[K     |▏                               | 10kB 16.4MB/s eta 0:00:01\r\u001b[K     |▍                               | 20kB 23.3MB/s eta 0:00:01\r\u001b[K     |▋                               | 30kB 23.9MB/s eta 0:00:01\r\u001b[K     |▉                               | 40kB 24.5MB/s eta 0:00:01\r\u001b[K     |█                               | 51kB 20.6MB/s eta 0:00:01\r\u001b[K     |█▎                              | 61kB 16.1MB/s eta 0:00:01\r\u001b[K     |█▌                              | 71kB 17.5MB/s eta 0:00:01\r\u001b[K     |█▊                              | 81kB 16.1MB/s eta 0:00:01\r\u001b[K     |██                              | 92kB 15.7MB/s eta 0:00:01\r\u001b[K     |██▏                             | 102kB 15.3MB/s eta 0:00:01\r\u001b[K     |██▍                             | 112kB 15.3MB/s eta 0:00:01\r\u001b[K     |██▌                             | 122kB 15.3MB/s eta 0:00:01\r\u001b[K     |██▊                             | 133kB 15.3MB/s eta 0:00:01\r\u001b[K     |███                             | 143kB 15.3MB/s eta 0:00:01\r\u001b[K     |███▏                            | 153kB 15.3MB/s eta 0:00:01\r\u001b[K     |███▍                            | 163kB 15.3MB/s eta 0:00:01\r\u001b[K     |███▋                            | 174kB 15.3MB/s eta 0:00:01\r\u001b[K     |███▉                            | 184kB 15.3MB/s eta 0:00:01\r\u001b[K     |████                            | 194kB 15.3MB/s eta 0:00:01\r\u001b[K     |████▎                           | 204kB 15.3MB/s eta 0:00:01\r\u001b[K     |████▌                           | 215kB 15.3MB/s eta 0:00:01\r\u001b[K     |████▊                           | 225kB 15.3MB/s eta 0:00:01\r\u001b[K     |█████                           | 235kB 15.3MB/s eta 0:00:01\r\u001b[K     |█████                           | 245kB 15.3MB/s eta 0:00:01\r\u001b[K     |█████▎                          | 256kB 15.3MB/s eta 0:00:01\r\u001b[K     |█████▌                          | 266kB 15.3MB/s eta 0:00:01\r\u001b[K     |█████▊                          | 276kB 15.3MB/s eta 0:00:01\r\u001b[K     |██████                          | 286kB 15.3MB/s eta 0:00:01\r\u001b[K     |██████▏                         | 296kB 15.3MB/s eta 0:00:01\r\u001b[K     |██████▍                         | 307kB 15.3MB/s eta 0:00:01\r\u001b[K     |██████▋                         | 317kB 15.3MB/s eta 0:00:01\r\u001b[K     |██████▉                         | 327kB 15.3MB/s eta 0:00:01\r\u001b[K     |███████                         | 337kB 15.3MB/s eta 0:00:01\r\u001b[K     |███████▎                        | 348kB 15.3MB/s eta 0:00:01\r\u001b[K     |███████▌                        | 358kB 15.3MB/s eta 0:00:01\r\u001b[K     |███████▋                        | 368kB 15.3MB/s eta 0:00:01\r\u001b[K     |███████▉                        | 378kB 15.3MB/s eta 0:00:01\r\u001b[K     |████████                        | 389kB 15.3MB/s eta 0:00:01\r\u001b[K     |████████▎                       | 399kB 15.3MB/s eta 0:00:01\r\u001b[K     |████████▌                       | 409kB 15.3MB/s eta 0:00:01\r\u001b[K     |████████▊                       | 419kB 15.3MB/s eta 0:00:01\r\u001b[K     |█████████                       | 430kB 15.3MB/s eta 0:00:01\r\u001b[K     |█████████▏                      | 440kB 15.3MB/s eta 0:00:01\r\u001b[K     |█████████▍                      | 450kB 15.3MB/s eta 0:00:01\r\u001b[K     |█████████▋                      | 460kB 15.3MB/s eta 0:00:01\r\u001b[K     |█████████▉                      | 471kB 15.3MB/s eta 0:00:01\r\u001b[K     |██████████                      | 481kB 15.3MB/s eta 0:00:01\r\u001b[K     |██████████▏                     | 491kB 15.3MB/s eta 0:00:01\r\u001b[K     |██████████▍                     | 501kB 15.3MB/s eta 0:00:01\r\u001b[K     |██████████▋                     | 512kB 15.3MB/s eta 0:00:01\r\u001b[K     |██████████▉                     | 522kB 15.3MB/s eta 0:00:01\r\u001b[K     |███████████                     | 532kB 15.3MB/s eta 0:00:01\r\u001b[K     |███████████▎                    | 542kB 15.3MB/s eta 0:00:01\r\u001b[K     |███████████▌                    | 552kB 15.3MB/s eta 0:00:01\r\u001b[K     |███████████▊                    | 563kB 15.3MB/s eta 0:00:01\r\u001b[K     |████████████                    | 573kB 15.3MB/s eta 0:00:01\r\u001b[K     |████████████▏                   | 583kB 15.3MB/s eta 0:00:01\r\u001b[K     |████████████▍                   | 593kB 15.3MB/s eta 0:00:01\r\u001b[K     |████████████▋                   | 604kB 15.3MB/s eta 0:00:01\r\u001b[K     |████████████▊                   | 614kB 15.3MB/s eta 0:00:01\r\u001b[K     |█████████████                   | 624kB 15.3MB/s eta 0:00:01\r\u001b[K     |█████████████▏                  | 634kB 15.3MB/s eta 0:00:01\r\u001b[K     |█████████████▍                  | 645kB 15.3MB/s eta 0:00:01\r\u001b[K     |█████████████▋                  | 655kB 15.3MB/s eta 0:00:01\r\u001b[K     |█████████████▉                  | 665kB 15.3MB/s eta 0:00:01\r\u001b[K     |██████████████                  | 675kB 15.3MB/s eta 0:00:01\r\u001b[K     |██████████████▎                 | 686kB 15.3MB/s eta 0:00:01\r\u001b[K     |██████████████▌                 | 696kB 15.3MB/s eta 0:00:01\r\u001b[K     |██████████████▊                 | 706kB 15.3MB/s eta 0:00:01\r\u001b[K     |███████████████                 | 716kB 15.3MB/s eta 0:00:01\r\u001b[K     |███████████████▏                | 727kB 15.3MB/s eta 0:00:01\r\u001b[K     |███████████████▎                | 737kB 15.3MB/s eta 0:00:01\r\u001b[K     |███████████████▌                | 747kB 15.3MB/s eta 0:00:01\r\u001b[K     |███████████████▊                | 757kB 15.3MB/s eta 0:00:01\r\u001b[K     |████████████████                | 768kB 15.3MB/s eta 0:00:01\r\u001b[K     |████████████████▏               | 778kB 15.3MB/s eta 0:00:01\r\u001b[K     |████████████████▍               | 788kB 15.3MB/s eta 0:00:01\r\u001b[K     |████████████████▋               | 798kB 15.3MB/s eta 0:00:01\r\u001b[K     |████████████████▉               | 808kB 15.3MB/s eta 0:00:01\r\u001b[K     |█████████████████               | 819kB 15.3MB/s eta 0:00:01\r\u001b[K     |█████████████████▎              | 829kB 15.3MB/s eta 0:00:01\r\u001b[K     |█████████████████▌              | 839kB 15.3MB/s eta 0:00:01\r\u001b[K     |█████████████████▊              | 849kB 15.3MB/s eta 0:00:01\r\u001b[K     |█████████████████▉              | 860kB 15.3MB/s eta 0:00:01\r\u001b[K     |██████████████████              | 870kB 15.3MB/s eta 0:00:01\r\u001b[K     |██████████████████▎             | 880kB 15.3MB/s eta 0:00:01\r\u001b[K     |██████████████████▌             | 890kB 15.3MB/s eta 0:00:01\r\u001b[K     |██████████████████▊             | 901kB 15.3MB/s eta 0:00:01\r\u001b[K     |███████████████████             | 911kB 15.3MB/s eta 0:00:01\r\u001b[K     |███████████████████▏            | 921kB 15.3MB/s eta 0:00:01\r\u001b[K     |███████████████████▍            | 931kB 15.3MB/s eta 0:00:01\r\u001b[K     |███████████████████▋            | 942kB 15.3MB/s eta 0:00:01\r\u001b[K     |███████████████████▉            | 952kB 15.3MB/s eta 0:00:01\r\u001b[K     |████████████████████            | 962kB 15.3MB/s eta 0:00:01\r\u001b[K     |████████████████████▎           | 972kB 15.3MB/s eta 0:00:01\r\u001b[K     |████████████████████▍           | 983kB 15.3MB/s eta 0:00:01\r\u001b[K     |████████████████████▋           | 993kB 15.3MB/s eta 0:00:01\r\u001b[K     |████████████████████▉           | 1.0MB 15.3MB/s eta 0:00:01\r\u001b[K     |█████████████████████           | 1.0MB 15.3MB/s eta 0:00:01\r\u001b[K     |█████████████████████▎          | 1.0MB 15.3MB/s eta 0:00:01\r\u001b[K     |█████████████████████▌          | 1.0MB 15.3MB/s eta 0:00:01\r\u001b[K     |█████████████████████▊          | 1.0MB 15.3MB/s eta 0:00:01\r\u001b[K     |██████████████████████          | 1.1MB 15.3MB/s eta 0:00:01\r\u001b[K     |██████████████████████▏         | 1.1MB 15.3MB/s eta 0:00:01\r\u001b[K     |██████████████████████▍         | 1.1MB 15.3MB/s eta 0:00:01\r\u001b[K     |██████████████████████▋         | 1.1MB 15.3MB/s eta 0:00:01\r\u001b[K     |██████████████████████▉         | 1.1MB 15.3MB/s eta 0:00:01\r\u001b[K     |███████████████████████         | 1.1MB 15.3MB/s eta 0:00:01\r\u001b[K     |███████████████████████▏        | 1.1MB 15.3MB/s eta 0:00:01\r\u001b[K     |███████████████████████▍        | 1.1MB 15.3MB/s eta 0:00:01\r\u001b[K     |███████████████████████▋        | 1.1MB 15.3MB/s eta 0:00:01\r\u001b[K     |███████████████████████▉        | 1.1MB 15.3MB/s eta 0:00:01\r\u001b[K     |████████████████████████        | 1.2MB 15.3MB/s eta 0:00:01\r\u001b[K     |████████████████████████▎       | 1.2MB 15.3MB/s eta 0:00:01\r\u001b[K     |████████████████████████▌       | 1.2MB 15.3MB/s eta 0:00:01\r\u001b[K     |████████████████████████▊       | 1.2MB 15.3MB/s eta 0:00:01\r\u001b[K     |█████████████████████████       | 1.2MB 15.3MB/s eta 0:00:01\r\u001b[K     |█████████████████████████▏      | 1.2MB 15.3MB/s eta 0:00:01\r\u001b[K     |█████████████████████████▍      | 1.2MB 15.3MB/s eta 0:00:01\r\u001b[K     |█████████████████████████▌      | 1.2MB 15.3MB/s eta 0:00:01\r\u001b[K     |█████████████████████████▊      | 1.2MB 15.3MB/s eta 0:00:01\r\u001b[K     |██████████████████████████      | 1.2MB 15.3MB/s eta 0:00:01\r\u001b[K     |██████████████████████████▏     | 1.3MB 15.3MB/s eta 0:00:01\r\u001b[K     |██████████████████████████▍     | 1.3MB 15.3MB/s eta 0:00:01\r\u001b[K     |██████████████████████████▋     | 1.3MB 15.3MB/s eta 0:00:01\r\u001b[K     |██████████████████████████▉     | 1.3MB 15.3MB/s eta 0:00:01\r\u001b[K     |███████████████████████████     | 1.3MB 15.3MB/s eta 0:00:01\r\u001b[K     |███████████████████████████▎    | 1.3MB 15.3MB/s eta 0:00:01\r\u001b[K     |███████████████████████████▌    | 1.3MB 15.3MB/s eta 0:00:01\r\u001b[K     |███████████████████████████▊    | 1.3MB 15.3MB/s eta 0:00:01\r\u001b[K     |███████████████████████████▉    | 1.3MB 15.3MB/s eta 0:00:01\r\u001b[K     |████████████████████████████    | 1.4MB 15.3MB/s eta 0:00:01\r\u001b[K     |████████████████████████████▎   | 1.4MB 15.3MB/s eta 0:00:01\r\u001b[K     |████████████████████████████▌   | 1.4MB 15.3MB/s eta 0:00:01\r\u001b[K     |████████████████████████████▊   | 1.4MB 15.3MB/s eta 0:00:01\r\u001b[K     |█████████████████████████████   | 1.4MB 15.3MB/s eta 0:00:01\r\u001b[K     |█████████████████████████████▏  | 1.4MB 15.3MB/s eta 0:00:01\r\u001b[K     |█████████████████████████████▍  | 1.4MB 15.3MB/s eta 0:00:01\r\u001b[K     |█████████████████████████████▋  | 1.4MB 15.3MB/s eta 0:00:01\r\u001b[K     |█████████████████████████████▉  | 1.4MB 15.3MB/s eta 0:00:01\r\u001b[K     |██████████████████████████████  | 1.4MB 15.3MB/s eta 0:00:01\r\u001b[K     |██████████████████████████████▎ | 1.5MB 15.3MB/s eta 0:00:01\r\u001b[K     |██████████████████████████████▍ | 1.5MB 15.3MB/s eta 0:00:01\r\u001b[K     |██████████████████████████████▋ | 1.5MB 15.3MB/s eta 0:00:01\r\u001b[K     |██████████████████████████████▉ | 1.5MB 15.3MB/s eta 0:00:01\r\u001b[K     |███████████████████████████████ | 1.5MB 15.3MB/s eta 0:00:01\r\u001b[K     |███████████████████████████████▎| 1.5MB 15.3MB/s eta 0:00:01\r\u001b[K     |███████████████████████████████▌| 1.5MB 15.3MB/s eta 0:00:01\r\u001b[K     |███████████████████████████████▊| 1.5MB 15.3MB/s eta 0:00:01\r\u001b[K     |████████████████████████████████| 1.5MB 15.3MB/s eta 0:00:01\r\u001b[K     |████████████████████████████████| 1.5MB 15.3MB/s \n",
            "\u001b[?25hRequirement already up-to-date: setuptools in /usr/local/lib/python3.7/dist-packages (56.0.0)\n",
            "Requirement already up-to-date: wheel in /usr/local/lib/python3.7/dist-packages (0.36.2)\n",
            "Installing collected packages: pip\n",
            "  Found existing installation: pip 19.3.1\n",
            "    Uninstalling pip-19.3.1:\n",
            "      Successfully uninstalled pip-19.3.1\n",
            "Successfully installed pip-21.0.1\n",
            "Requirement already satisfied: spacy in /usr/local/lib/python3.7/dist-packages (2.2.4)\n",
            "Collecting spacy\n",
            "  Downloading spacy-3.0.6-cp37-cp37m-manylinux2014_x86_64.whl (12.8 MB)\n",
            "\u001b[K     |████████████████████████████████| 12.8 MB 85 kB/s \n",
            "\u001b[?25hCollecting thinc<8.1.0,>=8.0.3\n",
            "  Downloading thinc-8.0.3-cp37-cp37m-manylinux2014_x86_64.whl (1.1 MB)\n",
            "\u001b[K     |████████████████████████████████| 1.1 MB 64.9 MB/s \n",
            "\u001b[?25hRequirement already satisfied: tqdm<5.0.0,>=4.38.0 in /usr/local/lib/python3.7/dist-packages (from spacy) (4.41.1)\n",
            "Requirement already satisfied: numpy>=1.15.0 in /usr/local/lib/python3.7/dist-packages (from spacy) (1.19.5)\n",
            "Requirement already satisfied: blis<0.8.0,>=0.4.0 in /usr/local/lib/python3.7/dist-packages (from spacy) (0.4.1)\n",
            "Requirement already satisfied: preshed<3.1.0,>=3.0.2 in /usr/local/lib/python3.7/dist-packages (from spacy) (3.0.5)\n",
            "Collecting pydantic<1.8.0,>=1.7.1\n",
            "  Downloading pydantic-1.7.3-cp37-cp37m-manylinux2014_x86_64.whl (9.1 MB)\n",
            "\u001b[K     |████████████████████████████████| 9.1 MB 34.4 MB/s \n",
            "\u001b[?25hRequirement already satisfied: requests<3.0.0,>=2.13.0 in /usr/local/lib/python3.7/dist-packages (from spacy) (2.23.0)\n",
            "Requirement already satisfied: setuptools in /usr/local/lib/python3.7/dist-packages (from spacy) (56.0.0)\n",
            "Collecting pathy>=0.3.5\n",
            "  Downloading pathy-0.5.0-py3-none-any.whl (38 kB)\n",
            "Collecting srsly<3.0.0,>=2.4.1\n",
            "  Downloading srsly-2.4.1-cp37-cp37m-manylinux2014_x86_64.whl (456 kB)\n",
            "\u001b[K     |████████████████████████████████| 456 kB 63.1 MB/s \n",
            "\u001b[?25hRequirement already satisfied: typing-extensions<4.0.0.0,>=3.7.4 in /usr/local/lib/python3.7/dist-packages (from spacy) (3.7.4.3)\n",
            "Requirement already satisfied: cymem<2.1.0,>=2.0.2 in /usr/local/lib/python3.7/dist-packages (from spacy) (2.0.5)\n",
            "Requirement already satisfied: packaging>=20.0 in /usr/local/lib/python3.7/dist-packages (from spacy) (20.9)\n",
            "Requirement already satisfied: murmurhash<1.1.0,>=0.28.0 in /usr/local/lib/python3.7/dist-packages (from spacy) (1.0.5)\n",
            "Requirement already satisfied: wasabi<1.1.0,>=0.8.1 in /usr/local/lib/python3.7/dist-packages (from spacy) (0.8.2)\n",
            "Collecting catalogue<2.1.0,>=2.0.3\n",
            "  Downloading catalogue-2.0.3-py3-none-any.whl (16 kB)\n",
            "Requirement already satisfied: jinja2 in /usr/local/lib/python3.7/dist-packages (from spacy) (2.11.3)\n",
            "Collecting typer<0.4.0,>=0.3.0\n",
            "  Downloading typer-0.3.2-py3-none-any.whl (21 kB)\n",
            "Collecting spacy-legacy<3.1.0,>=3.0.4\n",
            "  Downloading spacy_legacy-3.0.4-py2.py3-none-any.whl (12 kB)\n",
            "Requirement already satisfied: zipp>=0.5 in /usr/local/lib/python3.7/dist-packages (from catalogue<2.1.0,>=2.0.3->spacy) (3.4.1)\n",
            "Requirement already satisfied: pyparsing>=2.0.2 in /usr/local/lib/python3.7/dist-packages (from packaging>=20.0->spacy) (2.4.7)\n",
            "Collecting smart-open<4.0.0,>=2.2.0\n",
            "  Downloading smart_open-3.0.0.tar.gz (113 kB)\n",
            "\u001b[K     |████████████████████████████████| 113 kB 59.8 MB/s \n",
            "\u001b[?25hRequirement already satisfied: urllib3!=1.25.0,!=1.25.1,<1.26,>=1.21.1 in /usr/local/lib/python3.7/dist-packages (from requests<3.0.0,>=2.13.0->spacy) (1.24.3)\n",
            "Requirement already satisfied: idna<3,>=2.5 in /usr/local/lib/python3.7/dist-packages (from requests<3.0.0,>=2.13.0->spacy) (2.10)\n",
            "Requirement already satisfied: certifi>=2017.4.17 in /usr/local/lib/python3.7/dist-packages (from requests<3.0.0,>=2.13.0->spacy) (2020.12.5)\n",
            "Requirement already satisfied: chardet<4,>=3.0.2 in /usr/local/lib/python3.7/dist-packages (from requests<3.0.0,>=2.13.0->spacy) (3.0.4)\n",
            "Requirement already satisfied: click<7.2.0,>=7.1.1 in /usr/local/lib/python3.7/dist-packages (from typer<0.4.0,>=0.3.0->spacy) (7.1.2)\n",
            "Requirement already satisfied: MarkupSafe>=0.23 in /usr/local/lib/python3.7/dist-packages (from jinja2->spacy) (1.1.1)\n",
            "Building wheels for collected packages: smart-open\n",
            "  Building wheel for smart-open (setup.py) ... \u001b[?25l\u001b[?25hdone\n",
            "  Created wheel for smart-open: filename=smart_open-3.0.0-py3-none-any.whl size=107097 sha256=df3584b4ca612314e1289644087685c4ad2bea0514e8d4f89b2b50c720284c8e\n",
            "  Stored in directory: /root/.cache/pip/wheels/83/a6/12/bf3c1a667bde4251be5b7a3368b2d604c9af2105b5c1cb1870\n",
            "Successfully built smart-open\n",
            "Installing collected packages: catalogue, typer, srsly, smart-open, pydantic, thinc, spacy-legacy, pathy, spacy\n",
            "  Attempting uninstall: catalogue\n",
            "    Found existing installation: catalogue 1.0.0\n",
            "    Uninstalling catalogue-1.0.0:\n",
            "      Successfully uninstalled catalogue-1.0.0\n",
            "  Attempting uninstall: srsly\n",
            "    Found existing installation: srsly 1.0.5\n",
            "    Uninstalling srsly-1.0.5:\n",
            "      Successfully uninstalled srsly-1.0.5\n",
            "  Attempting uninstall: smart-open\n",
            "    Found existing installation: smart-open 5.0.0\n",
            "    Uninstalling smart-open-5.0.0:\n",
            "      Successfully uninstalled smart-open-5.0.0\n",
            "  Attempting uninstall: thinc\n",
            "    Found existing installation: thinc 7.4.0\n",
            "    Uninstalling thinc-7.4.0:\n",
            "      Successfully uninstalled thinc-7.4.0\n",
            "  Attempting uninstall: spacy\n",
            "    Found existing installation: spacy 2.2.4\n",
            "    Uninstalling spacy-2.2.4:\n",
            "      Successfully uninstalled spacy-2.2.4\n",
            "Successfully installed catalogue-2.0.3 pathy-0.5.0 pydantic-1.7.3 smart-open-3.0.0 spacy-3.0.6 spacy-legacy-3.0.4 srsly-2.4.1 thinc-8.0.3 typer-0.3.2\n",
            "2021-04-23 20:33:23.946201: I tensorflow/stream_executor/platform/default/dso_loader.cc:49] Successfully opened dynamic library libcudart.so.11.0\n",
            "Collecting ru-core-news-sm==3.0.0\n",
            "  Downloading https://github.com/explosion/spacy-models/releases/download/ru_core_news_sm-3.0.0/ru_core_news_sm-3.0.0-py3-none-any.whl (17.9 MB)\n",
            "\u001b[K     |████████████████████████████████| 17.9 MB 221 kB/s \n",
            "\u001b[?25hCollecting pymorphy2>=0.9\n",
            "  Downloading pymorphy2-0.9.1-py3-none-any.whl (55 kB)\n",
            "\u001b[K     |████████████████████████████████| 55 kB 3.2 MB/s \n",
            "\u001b[?25hRequirement already satisfied: spacy<3.1.0,>=3.0.0 in /usr/local/lib/python3.7/dist-packages (from ru-core-news-sm==3.0.0) (3.0.6)\n",
            "Collecting dawg-python>=0.7.1\n",
            "  Downloading DAWG_Python-0.7.2-py2.py3-none-any.whl (11 kB)\n",
            "Requirement already satisfied: docopt>=0.6 in /usr/local/lib/python3.7/dist-packages (from pymorphy2>=0.9->ru-core-news-sm==3.0.0) (0.6.2)\n",
            "Collecting pymorphy2-dicts-ru<3.0,>=2.4\n",
            "  Downloading pymorphy2_dicts_ru-2.4.417127.4579844-py2.py3-none-any.whl (8.2 MB)\n",
            "\u001b[K     |████████████████████████████████| 8.2 MB 25.9 MB/s \n",
            "\u001b[?25hRequirement already satisfied: blis<0.8.0,>=0.4.0 in /usr/local/lib/python3.7/dist-packages (from spacy<3.1.0,>=3.0.0->ru-core-news-sm==3.0.0) (0.4.1)\n",
            "Requirement already satisfied: murmurhash<1.1.0,>=0.28.0 in /usr/local/lib/python3.7/dist-packages (from spacy<3.1.0,>=3.0.0->ru-core-news-sm==3.0.0) (1.0.5)\n",
            "Requirement already satisfied: tqdm<5.0.0,>=4.38.0 in /usr/local/lib/python3.7/dist-packages (from spacy<3.1.0,>=3.0.0->ru-core-news-sm==3.0.0) (4.41.1)\n",
            "Requirement already satisfied: numpy>=1.15.0 in /usr/local/lib/python3.7/dist-packages (from spacy<3.1.0,>=3.0.0->ru-core-news-sm==3.0.0) (1.19.5)\n",
            "Requirement already satisfied: requests<3.0.0,>=2.13.0 in /usr/local/lib/python3.7/dist-packages (from spacy<3.1.0,>=3.0.0->ru-core-news-sm==3.0.0) (2.23.0)\n",
            "Requirement already satisfied: typer<0.4.0,>=0.3.0 in /usr/local/lib/python3.7/dist-packages (from spacy<3.1.0,>=3.0.0->ru-core-news-sm==3.0.0) (0.3.2)\n",
            "Requirement already satisfied: pydantic<1.8.0,>=1.7.1 in /usr/local/lib/python3.7/dist-packages (from spacy<3.1.0,>=3.0.0->ru-core-news-sm==3.0.0) (1.7.3)\n",
            "Requirement already satisfied: packaging>=20.0 in /usr/local/lib/python3.7/dist-packages (from spacy<3.1.0,>=3.0.0->ru-core-news-sm==3.0.0) (20.9)\n",
            "Requirement already satisfied: thinc<8.1.0,>=8.0.3 in /usr/local/lib/python3.7/dist-packages (from spacy<3.1.0,>=3.0.0->ru-core-news-sm==3.0.0) (8.0.3)\n",
            "Requirement already satisfied: cymem<2.1.0,>=2.0.2 in /usr/local/lib/python3.7/dist-packages (from spacy<3.1.0,>=3.0.0->ru-core-news-sm==3.0.0) (2.0.5)\n",
            "Requirement already satisfied: pathy>=0.3.5 in /usr/local/lib/python3.7/dist-packages (from spacy<3.1.0,>=3.0.0->ru-core-news-sm==3.0.0) (0.5.0)\n",
            "Requirement already satisfied: typing-extensions<4.0.0.0,>=3.7.4 in /usr/local/lib/python3.7/dist-packages (from spacy<3.1.0,>=3.0.0->ru-core-news-sm==3.0.0) (3.7.4.3)\n",
            "Requirement already satisfied: catalogue<2.1.0,>=2.0.3 in /usr/local/lib/python3.7/dist-packages (from spacy<3.1.0,>=3.0.0->ru-core-news-sm==3.0.0) (2.0.3)\n",
            "Requirement already satisfied: setuptools in /usr/local/lib/python3.7/dist-packages (from spacy<3.1.0,>=3.0.0->ru-core-news-sm==3.0.0) (56.0.0)\n",
            "Requirement already satisfied: spacy-legacy<3.1.0,>=3.0.4 in /usr/local/lib/python3.7/dist-packages (from spacy<3.1.0,>=3.0.0->ru-core-news-sm==3.0.0) (3.0.4)\n",
            "Requirement already satisfied: wasabi<1.1.0,>=0.8.1 in /usr/local/lib/python3.7/dist-packages (from spacy<3.1.0,>=3.0.0->ru-core-news-sm==3.0.0) (0.8.2)\n",
            "Requirement already satisfied: srsly<3.0.0,>=2.4.1 in /usr/local/lib/python3.7/dist-packages (from spacy<3.1.0,>=3.0.0->ru-core-news-sm==3.0.0) (2.4.1)\n",
            "Requirement already satisfied: preshed<3.1.0,>=3.0.2 in /usr/local/lib/python3.7/dist-packages (from spacy<3.1.0,>=3.0.0->ru-core-news-sm==3.0.0) (3.0.5)\n",
            "Requirement already satisfied: jinja2 in /usr/local/lib/python3.7/dist-packages (from spacy<3.1.0,>=3.0.0->ru-core-news-sm==3.0.0) (2.11.3)\n",
            "Requirement already satisfied: zipp>=0.5 in /usr/local/lib/python3.7/dist-packages (from catalogue<2.1.0,>=2.0.3->spacy<3.1.0,>=3.0.0->ru-core-news-sm==3.0.0) (3.4.1)\n",
            "Requirement already satisfied: pyparsing>=2.0.2 in /usr/local/lib/python3.7/dist-packages (from packaging>=20.0->spacy<3.1.0,>=3.0.0->ru-core-news-sm==3.0.0) (2.4.7)\n",
            "Requirement already satisfied: smart-open<4.0.0,>=2.2.0 in /usr/local/lib/python3.7/dist-packages (from pathy>=0.3.5->spacy<3.1.0,>=3.0.0->ru-core-news-sm==3.0.0) (3.0.0)\n",
            "Requirement already satisfied: chardet<4,>=3.0.2 in /usr/local/lib/python3.7/dist-packages (from requests<3.0.0,>=2.13.0->spacy<3.1.0,>=3.0.0->ru-core-news-sm==3.0.0) (3.0.4)\n",
            "Requirement already satisfied: urllib3!=1.25.0,!=1.25.1,<1.26,>=1.21.1 in /usr/local/lib/python3.7/dist-packages (from requests<3.0.0,>=2.13.0->spacy<3.1.0,>=3.0.0->ru-core-news-sm==3.0.0) (1.24.3)\n",
            "Requirement already satisfied: certifi>=2017.4.17 in /usr/local/lib/python3.7/dist-packages (from requests<3.0.0,>=2.13.0->spacy<3.1.0,>=3.0.0->ru-core-news-sm==3.0.0) (2020.12.5)\n",
            "Requirement already satisfied: idna<3,>=2.5 in /usr/local/lib/python3.7/dist-packages (from requests<3.0.0,>=2.13.0->spacy<3.1.0,>=3.0.0->ru-core-news-sm==3.0.0) (2.10)\n",
            "Requirement already satisfied: click<7.2.0,>=7.1.1 in /usr/local/lib/python3.7/dist-packages (from typer<0.4.0,>=0.3.0->spacy<3.1.0,>=3.0.0->ru-core-news-sm==3.0.0) (7.1.2)\n",
            "Requirement already satisfied: MarkupSafe>=0.23 in /usr/local/lib/python3.7/dist-packages (from jinja2->spacy<3.1.0,>=3.0.0->ru-core-news-sm==3.0.0) (1.1.1)\n",
            "Installing collected packages: pymorphy2-dicts-ru, dawg-python, pymorphy2, ru-core-news-sm\n",
            "Successfully installed dawg-python-0.7.2 pymorphy2-0.9.1 pymorphy2-dicts-ru-2.4.417127.4579844 ru-core-news-sm-3.0.0\n",
            "\u001b[38;5;2m✔ Download and installation successful\u001b[0m\n",
            "You can now load the package via spacy.load('ru_core_news_sm')\n",
            "2021-04-23 20:33:34.098963: I tensorflow/stream_executor/platform/default/dso_loader.cc:49] Successfully opened dynamic library libcudart.so.11.0\n",
            "Collecting ru-core-news-md==3.0.0\n",
            "  Downloading https://github.com/explosion/spacy-models/releases/download/ru_core_news_md-3.0.0/ru_core_news_md-3.0.0-py3-none-any.whl (43.9 MB)\n",
            "\u001b[K     |████████████████████████████████| 43.9 MB 20 kB/s \n",
            "\u001b[?25hRequirement already satisfied: pymorphy2>=0.9 in /usr/local/lib/python3.7/dist-packages (from ru-core-news-md==3.0.0) (0.9.1)\n",
            "Requirement already satisfied: spacy<3.1.0,>=3.0.0 in /usr/local/lib/python3.7/dist-packages (from ru-core-news-md==3.0.0) (3.0.6)\n",
            "Requirement already satisfied: dawg-python>=0.7.1 in /usr/local/lib/python3.7/dist-packages (from pymorphy2>=0.9->ru-core-news-md==3.0.0) (0.7.2)\n",
            "Requirement already satisfied: docopt>=0.6 in /usr/local/lib/python3.7/dist-packages (from pymorphy2>=0.9->ru-core-news-md==3.0.0) (0.6.2)\n",
            "Requirement already satisfied: pymorphy2-dicts-ru<3.0,>=2.4 in /usr/local/lib/python3.7/dist-packages (from pymorphy2>=0.9->ru-core-news-md==3.0.0) (2.4.417127.4579844)\n",
            "Requirement already satisfied: preshed<3.1.0,>=3.0.2 in /usr/local/lib/python3.7/dist-packages (from spacy<3.1.0,>=3.0.0->ru-core-news-md==3.0.0) (3.0.5)\n",
            "Requirement already satisfied: catalogue<2.1.0,>=2.0.3 in /usr/local/lib/python3.7/dist-packages (from spacy<3.1.0,>=3.0.0->ru-core-news-md==3.0.0) (2.0.3)\n",
            "Requirement already satisfied: requests<3.0.0,>=2.13.0 in /usr/local/lib/python3.7/dist-packages (from spacy<3.1.0,>=3.0.0->ru-core-news-md==3.0.0) (2.23.0)\n",
            "Requirement already satisfied: packaging>=20.0 in /usr/local/lib/python3.7/dist-packages (from spacy<3.1.0,>=3.0.0->ru-core-news-md==3.0.0) (20.9)\n",
            "Requirement already satisfied: thinc<8.1.0,>=8.0.3 in /usr/local/lib/python3.7/dist-packages (from spacy<3.1.0,>=3.0.0->ru-core-news-md==3.0.0) (8.0.3)\n",
            "Requirement already satisfied: typer<0.4.0,>=0.3.0 in /usr/local/lib/python3.7/dist-packages (from spacy<3.1.0,>=3.0.0->ru-core-news-md==3.0.0) (0.3.2)\n",
            "Requirement already satisfied: numpy>=1.15.0 in /usr/local/lib/python3.7/dist-packages (from spacy<3.1.0,>=3.0.0->ru-core-news-md==3.0.0) (1.19.5)\n",
            "Requirement already satisfied: setuptools in /usr/local/lib/python3.7/dist-packages (from spacy<3.1.0,>=3.0.0->ru-core-news-md==3.0.0) (56.0.0)\n",
            "Requirement already satisfied: murmurhash<1.1.0,>=0.28.0 in /usr/local/lib/python3.7/dist-packages (from spacy<3.1.0,>=3.0.0->ru-core-news-md==3.0.0) (1.0.5)\n",
            "Requirement already satisfied: blis<0.8.0,>=0.4.0 in /usr/local/lib/python3.7/dist-packages (from spacy<3.1.0,>=3.0.0->ru-core-news-md==3.0.0) (0.4.1)\n",
            "Requirement already satisfied: spacy-legacy<3.1.0,>=3.0.4 in /usr/local/lib/python3.7/dist-packages (from spacy<3.1.0,>=3.0.0->ru-core-news-md==3.0.0) (3.0.4)\n",
            "Requirement already satisfied: wasabi<1.1.0,>=0.8.1 in /usr/local/lib/python3.7/dist-packages (from spacy<3.1.0,>=3.0.0->ru-core-news-md==3.0.0) (0.8.2)\n",
            "Requirement already satisfied: srsly<3.0.0,>=2.4.1 in /usr/local/lib/python3.7/dist-packages (from spacy<3.1.0,>=3.0.0->ru-core-news-md==3.0.0) (2.4.1)\n",
            "Requirement already satisfied: pydantic<1.8.0,>=1.7.1 in /usr/local/lib/python3.7/dist-packages (from spacy<3.1.0,>=3.0.0->ru-core-news-md==3.0.0) (1.7.3)\n",
            "Requirement already satisfied: tqdm<5.0.0,>=4.38.0 in /usr/local/lib/python3.7/dist-packages (from spacy<3.1.0,>=3.0.0->ru-core-news-md==3.0.0) (4.41.1)\n",
            "Requirement already satisfied: cymem<2.1.0,>=2.0.2 in /usr/local/lib/python3.7/dist-packages (from spacy<3.1.0,>=3.0.0->ru-core-news-md==3.0.0) (2.0.5)\n",
            "Requirement already satisfied: typing-extensions<4.0.0.0,>=3.7.4 in /usr/local/lib/python3.7/dist-packages (from spacy<3.1.0,>=3.0.0->ru-core-news-md==3.0.0) (3.7.4.3)\n",
            "Requirement already satisfied: jinja2 in /usr/local/lib/python3.7/dist-packages (from spacy<3.1.0,>=3.0.0->ru-core-news-md==3.0.0) (2.11.3)\n",
            "Requirement already satisfied: pathy>=0.3.5 in /usr/local/lib/python3.7/dist-packages (from spacy<3.1.0,>=3.0.0->ru-core-news-md==3.0.0) (0.5.0)\n",
            "Requirement already satisfied: zipp>=0.5 in /usr/local/lib/python3.7/dist-packages (from catalogue<2.1.0,>=2.0.3->spacy<3.1.0,>=3.0.0->ru-core-news-md==3.0.0) (3.4.1)\n",
            "Requirement already satisfied: pyparsing>=2.0.2 in /usr/local/lib/python3.7/dist-packages (from packaging>=20.0->spacy<3.1.0,>=3.0.0->ru-core-news-md==3.0.0) (2.4.7)\n",
            "Requirement already satisfied: smart-open<4.0.0,>=2.2.0 in /usr/local/lib/python3.7/dist-packages (from pathy>=0.3.5->spacy<3.1.0,>=3.0.0->ru-core-news-md==3.0.0) (3.0.0)\n",
            "Requirement already satisfied: urllib3!=1.25.0,!=1.25.1,<1.26,>=1.21.1 in /usr/local/lib/python3.7/dist-packages (from requests<3.0.0,>=2.13.0->spacy<3.1.0,>=3.0.0->ru-core-news-md==3.0.0) (1.24.3)\n",
            "Requirement already satisfied: certifi>=2017.4.17 in /usr/local/lib/python3.7/dist-packages (from requests<3.0.0,>=2.13.0->spacy<3.1.0,>=3.0.0->ru-core-news-md==3.0.0) (2020.12.5)\n",
            "Requirement already satisfied: idna<3,>=2.5 in /usr/local/lib/python3.7/dist-packages (from requests<3.0.0,>=2.13.0->spacy<3.1.0,>=3.0.0->ru-core-news-md==3.0.0) (2.10)\n",
            "Requirement already satisfied: chardet<4,>=3.0.2 in /usr/local/lib/python3.7/dist-packages (from requests<3.0.0,>=2.13.0->spacy<3.1.0,>=3.0.0->ru-core-news-md==3.0.0) (3.0.4)\n",
            "Requirement already satisfied: click<7.2.0,>=7.1.1 in /usr/local/lib/python3.7/dist-packages (from typer<0.4.0,>=0.3.0->spacy<3.1.0,>=3.0.0->ru-core-news-md==3.0.0) (7.1.2)\n",
            "Requirement already satisfied: MarkupSafe>=0.23 in /usr/local/lib/python3.7/dist-packages (from jinja2->spacy<3.1.0,>=3.0.0->ru-core-news-md==3.0.0) (1.1.1)\n",
            "Installing collected packages: ru-core-news-md\n",
            "Successfully installed ru-core-news-md-3.0.0\n",
            "\u001b[38;5;2m✔ Download and installation successful\u001b[0m\n",
            "You can now load the package via spacy.load('ru_core_news_md')\n"
          ],
          "name": "stdout"
        }
      ]
    },
    {
      "cell_type": "code",
      "metadata": {
        "colab": {
          "base_uri": "https://localhost:8080/"
        },
        "id": "V7UjWjAX7P9d",
        "outputId": "9f9eb4d3-c9f6-41ac-b62c-e0621928aff3"
      },
      "source": [
        "pip install pymorphy2[fast]"
      ],
      "execution_count": 2,
      "outputs": [
        {
          "output_type": "stream",
          "text": [
            "Requirement already satisfied: pymorphy2[fast] in /usr/local/lib/python3.7/dist-packages (0.9.1)\n",
            "Requirement already satisfied: pymorphy2-dicts-ru<3.0,>=2.4 in /usr/local/lib/python3.7/dist-packages (from pymorphy2[fast]) (2.4.417127.4579844)\n",
            "Requirement already satisfied: docopt>=0.6 in /usr/local/lib/python3.7/dist-packages (from pymorphy2[fast]) (0.6.2)\n",
            "Requirement already satisfied: dawg-python>=0.7.1 in /usr/local/lib/python3.7/dist-packages (from pymorphy2[fast]) (0.7.2)\n",
            "Collecting DAWG>=0.8\n",
            "  Downloading DAWG-0.8.0.tar.gz (371 kB)\n",
            "\u001b[K     |████████████████████████████████| 371 kB 21.5 MB/s \n",
            "\u001b[?25hBuilding wheels for collected packages: DAWG\n",
            "  Building wheel for DAWG (setup.py) ... \u001b[?25l\u001b[?25hdone\n",
            "  Created wheel for DAWG: filename=DAWG-0.8.0-cp37-cp37m-linux_x86_64.whl size=865707 sha256=c4635cb5774d4213a539cec9e75a39bb67b59f807b2caf3e7d41d0a60802a5cc\n",
            "  Stored in directory: /root/.cache/pip/wheels/85/51/a4/2de41ff197786537075027c27b479a38da92f50abc86634445\n",
            "Successfully built DAWG\n",
            "Installing collected packages: DAWG\n",
            "Successfully installed DAWG-0.8.0\n"
          ],
          "name": "stdout"
        }
      ]
    },
    {
      "cell_type": "code",
      "metadata": {
        "colab": {
          "base_uri": "https://localhost:8080/"
        },
        "id": "YPb5-By9vJOA",
        "outputId": "100686eb-449b-456f-92c9-89b7ef178329"
      },
      "source": [
        "pip install Gensim"
      ],
      "execution_count": 3,
      "outputs": [
        {
          "output_type": "stream",
          "text": [
            "Requirement already satisfied: Gensim in /usr/local/lib/python3.7/dist-packages (3.6.0)\n",
            "Requirement already satisfied: smart-open>=1.2.1 in /usr/local/lib/python3.7/dist-packages (from Gensim) (3.0.0)\n",
            "Requirement already satisfied: six>=1.5.0 in /usr/local/lib/python3.7/dist-packages (from Gensim) (1.15.0)\n",
            "Requirement already satisfied: scipy>=0.18.1 in /usr/local/lib/python3.7/dist-packages (from Gensim) (1.4.1)\n",
            "Requirement already satisfied: numpy>=1.11.3 in /usr/local/lib/python3.7/dist-packages (from Gensim) (1.19.5)\n",
            "Requirement already satisfied: requests in /usr/local/lib/python3.7/dist-packages (from smart-open>=1.2.1->Gensim) (2.23.0)\n",
            "Requirement already satisfied: idna<3,>=2.5 in /usr/local/lib/python3.7/dist-packages (from requests->smart-open>=1.2.1->Gensim) (2.10)\n",
            "Requirement already satisfied: certifi>=2017.4.17 in /usr/local/lib/python3.7/dist-packages (from requests->smart-open>=1.2.1->Gensim) (2020.12.5)\n",
            "Requirement already satisfied: urllib3!=1.25.0,!=1.25.1,<1.26,>=1.21.1 in /usr/local/lib/python3.7/dist-packages (from requests->smart-open>=1.2.1->Gensim) (1.24.3)\n",
            "Requirement already satisfied: chardet<4,>=3.0.2 in /usr/local/lib/python3.7/dist-packages (from requests->smart-open>=1.2.1->Gensim) (3.0.4)\n"
          ],
          "name": "stdout"
        }
      ]
    },
    {
      "cell_type": "code",
      "metadata": {
        "id": "FA9wDY-2d-pF"
      },
      "source": [
        "import spacy\n",
        "import gensim\n",
        "from gensim.models import Word2Vec \n",
        "from nltk.tokenize import RegexpTokenizer\n",
        "from nltk import  sent_tokenize\n",
        "from sklearn.metrics.pairwise import cosine_distances, cosine_similarity\n",
        "import numpy as np\n",
        "import pandas as pd"
      ],
      "execution_count": 4,
      "outputs": []
    },
    {
      "cell_type": "code",
      "metadata": {
        "id": "eBhu8gSAd_6M"
      },
      "source": [
        "nlp = spacy.load('ru_core_news_md')"
      ],
      "execution_count": 5,
      "outputs": []
    },
    {
      "cell_type": "code",
      "metadata": {
        "colab": {
          "base_uri": "https://localhost:8080/"
        },
        "id": "tOvjxp5z8ZDc",
        "outputId": "e79467e2-6e45-4231-9b1b-e15b57ec28e2"
      },
      "source": [
        "!wget https://raw.githubusercontent.com/DmitryKutsev/cross-document_coreference/main/scraping/neuroleptic_ru.txt"
      ],
      "execution_count": 9,
      "outputs": [
        {
          "output_type": "stream",
          "text": [
            "--2021-04-23 20:35:06--  https://raw.githubusercontent.com/DmitryKutsev/cross-document_coreference/main/scraping/neuroleptic_ru.txt\n",
            "Resolving raw.githubusercontent.com (raw.githubusercontent.com)... 185.199.108.133, 185.199.109.133, 185.199.110.133, ...\n",
            "Connecting to raw.githubusercontent.com (raw.githubusercontent.com)|185.199.108.133|:443... connected.\n",
            "HTTP request sent, awaiting response... 200 OK\n",
            "Length: 3638613 (3.5M) [text/plain]\n",
            "Saving to: ‘neuroleptic_ru.txt’\n",
            "\n",
            "neuroleptic_ru.txt  100%[===================>]   3.47M  --.-KB/s    in 0.05s   \n",
            "\n",
            "2021-04-23 20:35:06 (69.0 MB/s) - ‘neuroleptic_ru.txt’ saved [3638613/3638613]\n",
            "\n"
          ],
          "name": "stdout"
        }
      ]
    },
    {
      "cell_type": "code",
      "metadata": {
        "colab": {
          "base_uri": "https://localhost:8080/"
        },
        "id": "Ql21vrWnb2qF",
        "outputId": "2fc3b302-1f19-4aa7-bef6-45dc89d8fcec"
      },
      "source": [
        "!wget https://raw.githubusercontent.com/DmitryKutsev/cross-document_coreference/main/scraping/rakpobedim_ru.txt"
      ],
      "execution_count": 6,
      "outputs": [
        {
          "output_type": "stream",
          "text": [
            "--2021-04-23 20:34:30--  https://raw.githubusercontent.com/DmitryKutsev/cross-document_coreference/main/scraping/rakpobedim_ru.txt\n",
            "Resolving raw.githubusercontent.com (raw.githubusercontent.com)... 185.199.108.133, 185.199.109.133, 185.199.110.133, ...\n",
            "Connecting to raw.githubusercontent.com (raw.githubusercontent.com)|185.199.108.133|:443... connected.\n",
            "HTTP request sent, awaiting response... 200 OK\n",
            "Length: 12963713 (12M) [text/plain]\n",
            "Saving to: ‘rakpobedim_ru.txt’\n",
            "\n",
            "rakpobedim_ru.txt   100%[===================>]  12.36M  --.-KB/s    in 0.1s    \n",
            "\n",
            "2021-04-23 20:34:31 (117 MB/s) - ‘rakpobedim_ru.txt’ saved [12963713/12963713]\n",
            "\n"
          ],
          "name": "stdout"
        }
      ]
    },
    {
      "cell_type": "code",
      "metadata": {
        "colab": {
          "base_uri": "https://localhost:8080/"
        },
        "id": "R0ZudIeTb22Z",
        "outputId": "2477690c-0083-430f-bd22-2c5353103e88"
      },
      "source": [
        "!wget https://raw.githubusercontent.com/DmitryKutsev/cross-document_coreference/main/scraping/hv-info_gepatit.txt"
      ],
      "execution_count": 7,
      "outputs": [
        {
          "output_type": "stream",
          "text": [
            "--2021-04-23 20:34:34--  https://raw.githubusercontent.com/DmitryKutsev/cross-document_coreference/main/scraping/hv-info_gepatit.txt\n",
            "Resolving raw.githubusercontent.com (raw.githubusercontent.com)... 185.199.108.133, 185.199.109.133, 185.199.110.133, ...\n",
            "Connecting to raw.githubusercontent.com (raw.githubusercontent.com)|185.199.108.133|:443... connected.\n",
            "HTTP request sent, awaiting response... 200 OK\n",
            "Length: 6298252 (6.0M) [text/plain]\n",
            "Saving to: ‘hv-info_gepatit.txt’\n",
            "\n",
            "hv-info_gepatit.txt 100%[===================>]   6.01M  --.-KB/s    in 0.08s   \n",
            "\n",
            "2021-04-23 20:34:34 (71.7 MB/s) - ‘hv-info_gepatit.txt’ saved [6298252/6298252]\n",
            "\n"
          ],
          "name": "stdout"
        }
      ]
    },
    {
      "cell_type": "code",
      "metadata": {
        "colab": {
          "base_uri": "https://localhost:8080/"
        },
        "id": "vpy6V0dtsM79",
        "outputId": "9773c39e-140c-4d1d-b15a-83df43ebab1f"
      },
      "source": [
        "!wget https://rusvectores.org/static/models/news_upos_cbow_300_2_2017.bin.gz"
      ],
      "execution_count": null,
      "outputs": [
        {
          "output_type": "stream",
          "text": [
            "--2021-04-11 11:52:41--  https://rusvectores.org/static/models/news_upos_cbow_300_2_2017.bin.gz\n",
            "Resolving rusvectores.org (rusvectores.org)... 116.203.104.23\n",
            "Connecting to rusvectores.org (rusvectores.org)|116.203.104.23|:443... connected.\n",
            "HTTP request sent, awaiting response... 200 OK\n",
            "Length: 140310878 (134M) [application/x-gzip]\n",
            "Saving to: ‘news_upos_cbow_300_2_2017.bin.gz.1’\n",
            "\n",
            "news_upos_cbow_300_ 100%[===================>] 133.81M   189MB/s    in 0.7s    \n",
            "\n",
            "2021-04-11 11:52:42 (189 MB/s) - ‘news_upos_cbow_300_2_2017.bin.gz.1’ saved [140310878/140310878]\n",
            "\n"
          ],
          "name": "stdout"
        }
      ]
    },
    {
      "cell_type": "code",
      "metadata": {
        "id": "v3dEmsOH8eOZ"
      },
      "source": [
        "handler = open('neuroleptic_ru.txt', 'r', encoding='utf-8')\n",
        "my_txt = handler.read()\n",
        "handler.close()\n"
      ],
      "execution_count": 10,
      "outputs": []
    },
    {
      "cell_type": "code",
      "metadata": {
        "id": "G4UmH2pucmxK"
      },
      "source": [
        "handler = open('hv-info_gepatit.txt', 'r', encoding='utf-8')\n",
        "my_txt += handler.read()\n",
        "handler.close()"
      ],
      "execution_count": 16,
      "outputs": []
    },
    {
      "cell_type": "code",
      "metadata": {
        "id": "wBp9WjLNcgsJ"
      },
      "source": [
        "handler = open('rakpobedim_ru.txt', 'r', encoding='utf-8')\n",
        "my_txt += handler.read()\n",
        "handler.close()"
      ],
      "execution_count": 17,
      "outputs": []
    },
    {
      "cell_type": "code",
      "metadata": {
        "colab": {
          "base_uri": "https://localhost:8080/"
        },
        "id": "Z_8MyfaucZxO",
        "outputId": "23177f11-80f2-462c-8445-40d32140c4a9"
      },
      "source": [
        "len(my_txt)"
      ],
      "execution_count": 18,
      "outputs": [
        {
          "output_type": "execute_result",
          "data": {
            "text/plain": [
              "13016911"
            ]
          },
          "metadata": {
            "tags": []
          },
          "execution_count": 18
        }
      ]
    },
    {
      "cell_type": "code",
      "metadata": {
        "colab": {
          "base_uri": "https://localhost:8080/"
        },
        "id": "e410Dy9KdGqv",
        "outputId": "dc527852-df76-4406-b6d7-9e2d2a7f02ea"
      },
      "source": [
        "!wget https://rusvectores.org/static/models/news_upos_cbow_300_2_2017.bin.gz"
      ],
      "execution_count": 22,
      "outputs": [
        {
          "output_type": "stream",
          "text": [
            "--2021-04-23 20:38:21--  https://rusvectores.org/static/models/news_upos_cbow_300_2_2017.bin.gz\n",
            "Resolving rusvectores.org (rusvectores.org)... 116.203.104.23\n",
            "Connecting to rusvectores.org (rusvectores.org)|116.203.104.23|:443... connected.\n",
            "HTTP request sent, awaiting response... 200 OK\n",
            "Length: 140310878 (134M) [application/x-gzip]\n",
            "Saving to: ‘news_upos_cbow_300_2_2017.bin.gz’\n",
            "\n",
            "news_upos_cbow_300_ 100%[===================>] 133.81M  32.6MB/s    in 4.7s    \n",
            "\n",
            "2021-04-23 20:38:27 (28.2 MB/s) - ‘news_upos_cbow_300_2_2017.bin.gz’ saved [140310878/140310878]\n",
            "\n"
          ],
          "name": "stdout"
        }
      ]
    },
    {
      "cell_type": "code",
      "metadata": {
        "id": "JLT6J1ua82fF"
      },
      "source": [
        "posts = str_list = my_txt.split('----')"
      ],
      "execution_count": 19,
      "outputs": []
    },
    {
      "cell_type": "code",
      "metadata": {
        "id": "zXZdM39Zzais"
      },
      "source": [
        "tokenizer = RegexpTokenizer(r'\\w+')\n",
        "sentences_tokenized = [w.lower() for w in posts]\n",
        "sentences_tokenized = [tokenizer.tokenize(i) for i in sentences_tokenized]"
      ],
      "execution_count": 20,
      "outputs": []
    },
    {
      "cell_type": "code",
      "metadata": {
        "id": "ucjN2SXmu_qe"
      },
      "source": [
        "w2v = gensim.models.KeyedVectors.load_word2vec_format('news_upos_cbow_300_2_2017.bin.gz', binary=True)"
      ],
      "execution_count": 23,
      "outputs": []
    },
    {
      "cell_type": "code",
      "metadata": {
        "colab": {
          "base_uri": "https://localhost:8080/"
        },
        "id": "Ufr_mUmQwc_3",
        "outputId": "ac26cd5c-e018-40e2-f5e6-b160a00e275f"
      },
      "source": [
        "model = Word2Vec(size=300, min_count=1)\n",
        "model.build_vocab(sentences_tokenized)\n",
        "total_examples = model.corpus_count\n",
        "model.build_vocab([list(w2v.vocab.keys())], update=True)\n",
        "model.intersect_word2vec_format(\"news_upos_cbow_300_2_2017.bin.gz\", binary=True)\n",
        "model.train(sentences_tokenized, total_examples=total_examples, epochs=model.iter)"
      ],
      "execution_count": 24,
      "outputs": [
        {
          "output_type": "stream",
          "text": [
            "/usr/local/lib/python3.7/dist-packages/ipykernel_launcher.py:6: DeprecationWarning: Call to deprecated `iter` (Attribute will be removed in 4.0.0, use self.epochs instead).\n",
            "  \n"
          ],
          "name": "stderr"
        },
        {
          "output_type": "execute_result",
          "data": {
            "text/plain": [
              "(8406168, 9683300)"
            ]
          },
          "metadata": {
            "tags": []
          },
          "execution_count": 24
        }
      ]
    },
    {
      "cell_type": "code",
      "metadata": {
        "colab": {
          "base_uri": "https://localhost:8080/"
        },
        "id": "FQK8uC2H0737",
        "outputId": "dd907416-98e0-4e08-a16b-afe19be15a68"
      },
      "source": [
        "model.most_similar('препарат')"
      ],
      "execution_count": 25,
      "outputs": [
        {
          "output_type": "stream",
          "text": [
            "/usr/local/lib/python3.7/dist-packages/ipykernel_launcher.py:1: DeprecationWarning: Call to deprecated `most_similar` (Method will be removed in 4.0.0, use self.wv.most_similar() instead).\n",
            "  \"\"\"Entry point for launching an IPython kernel.\n"
          ],
          "name": "stderr"
        },
        {
          "output_type": "execute_result",
          "data": {
            "text/plain": [
              "[('нельзя', 0.7883257865905762),\n",
              " ('который', 0.7685508728027344),\n",
              " ('его', 0.7212514877319336),\n",
              " ('человек', 0.7043541073799133),\n",
              " ('счёт', 0.6969262361526489),\n",
              " ('нейролептик', 0.6952941417694092),\n",
              " ('нам', 0.6857447624206543),\n",
              " ('дольше', 0.677767813205719),\n",
              " ('постоянно', 0.6756583452224731),\n",
              " ('мощный', 0.6753535270690918)]"
            ]
          },
          "metadata": {
            "tags": []
          },
          "execution_count": 25
        }
      ]
    },
    {
      "cell_type": "code",
      "metadata": {
        "colab": {
          "base_uri": "https://localhost:8080/"
        },
        "id": "st-Fx4gW18sL",
        "outputId": "8bc512f6-e993-4535-ab63-249814896878"
      },
      "source": [
        "# model['алимемазин']\n",
        "model.wv.most_similar('алимемазин')"
      ],
      "execution_count": 26,
      "outputs": [
        {
          "output_type": "execute_result",
          "data": {
            "text/plain": [
              "[('чистили', 0.795113205909729),\n",
              " ('блоками', 0.7911574840545654),\n",
              " ('выравнялся', 0.7900457382202148),\n",
              " ('пребывал', 0.774469256401062),\n",
              " ('допиваю', 0.7743908166885376),\n",
              " ('пропадают', 0.76788330078125),\n",
              " ('расти', 0.7603928446769714),\n",
              " ('третичная', 0.7532668709754944),\n",
              " ('слабоумным', 0.7530084252357483),\n",
              " ('сбор', 0.7485941648483276)]"
            ]
          },
          "metadata": {
            "tags": []
          },
          "execution_count": 26
        }
      ]
    },
    {
      "cell_type": "code",
      "metadata": {
        "colab": {
          "base_uri": "https://localhost:8080/"
        },
        "id": "81Goel5Q3Q0f",
        "outputId": "09cb4cc0-f7fe-4a66-bd55-8cb385c828b5"
      },
      "source": [
        "cosine_similarity(np.atleast_2d(model.wv.get_vector('алимемазин')), \\\n",
        "                  np.atleast_2d(model.wv.get_vector('азалептин')))[0][0]"
      ],
      "execution_count": 27,
      "outputs": [
        {
          "output_type": "execute_result",
          "data": {
            "text/plain": [
              "0.2850779"
            ]
          },
          "metadata": {
            "tags": []
          },
          "execution_count": 27
        }
      ]
    },
    {
      "cell_type": "code",
      "metadata": {
        "colab": {
          "base_uri": "https://localhost:8080/"
        },
        "id": "zC3kW8hY5LNN",
        "outputId": "e1ea29a4-faae-489d-cd74-68360ebbfa15"
      },
      "source": [
        "cosine_similarity(np.atleast_2d(model.wv.get_vector('алимемазин')), \\\n",
        "                  np.atleast_2d(model.wv.get_vector('стул')))[0][0]"
      ],
      "execution_count": 28,
      "outputs": [
        {
          "output_type": "execute_result",
          "data": {
            "text/plain": [
              "0.19343388"
            ]
          },
          "metadata": {
            "tags": []
          },
          "execution_count": 28
        }
      ]
    },
    {
      "cell_type": "code",
      "metadata": {
        "id": "H3YeIYgLf9o2"
      },
      "source": [
        "# Модель есть, теперь надо набрать корпус из трех форумов примерно поровну, и чтобы не помереть при разметке."
      ],
      "execution_count": 30,
      "outputs": []
    },
    {
      "cell_type": "code",
      "metadata": {
        "id": "SPnaS6Vq3Hxz"
      },
      "source": [
        "short_txt = \" \"\n",
        "handler = open('neuroleptic_ru.txt', 'r', encoding='utf-8')\n",
        "short_txt = handler.read()[:200000]\n",
        "handler.close()\n",
        "\n",
        "handler = open('rakpobedim_ru.txt', 'r', encoding='utf-8')\n",
        "short_txt += handler.read()[:200000]\n",
        "handler.close()\n",
        "\n",
        "handler = open('hv-info_gepatit.txt', 'r', encoding='utf-8')\n",
        "short_txt += handler.read()[:200000]\n",
        "handler.close()"
      ],
      "execution_count": 41,
      "outputs": []
    },
    {
      "cell_type": "code",
      "metadata": {
        "colab": {
          "base_uri": "https://localhost:8080/"
        },
        "id": "WISiAodR9MvG",
        "outputId": "f1562061-937b-466e-81b1-c912989b8a05"
      },
      "source": [
        "len(short_txt)"
      ],
      "execution_count": 42,
      "outputs": [
        {
          "output_type": "execute_result",
          "data": {
            "text/plain": [
              "600000"
            ]
          },
          "metadata": {
            "tags": []
          },
          "execution_count": 42
        }
      ]
    },
    {
      "cell_type": "code",
      "metadata": {
        "id": "p10zOb_FigNW"
      },
      "source": [
        "short_posts = str_list = short_txt.split('----')"
      ],
      "execution_count": 43,
      "outputs": []
    },
    {
      "cell_type": "code",
      "metadata": {
        "colab": {
          "base_uri": "https://localhost:8080/"
        },
        "id": "iA5HwgJZiu_p",
        "outputId": "f2a84490-f123-4a66-845f-75fcda8fb131"
      },
      "source": [
        "len(short_posts)"
      ],
      "execution_count": 44,
      "outputs": [
        {
          "output_type": "execute_result",
          "data": {
            "text/plain": [
              "1615"
            ]
          },
          "metadata": {
            "tags": []
          },
          "execution_count": 44
        }
      ]
    },
    {
      "cell_type": "code",
      "metadata": {
        "id": "OYNALloAivPV"
      },
      "source": [
        "tokenizer = RegexpTokenizer(r'\\w+')\n",
        "sentences_tokenized = [w.lower() for w in short_posts]\n",
        "sentences_tokenized = [tokenizer.tokenize(i) for i in sentences_tokenized]"
      ],
      "execution_count": 45,
      "outputs": []
    },
    {
      "cell_type": "code",
      "metadata": {
        "id": "ZbCygQg1yRlG"
      },
      "source": [
        "doc = nlp(u'Кто принимал его в своей практике? Это не хороший препарат.')"
      ],
      "execution_count": 46,
      "outputs": []
    },
    {
      "cell_type": "code",
      "metadata": {
        "id": "F-3v3Ee47avH"
      },
      "source": [
        "import pymorphy2\n",
        "morph = pymorphy2.MorphAnalyzer()"
      ],
      "execution_count": 47,
      "outputs": []
    },
    {
      "cell_type": "code",
      "metadata": {
        "colab": {
          "base_uri": "https://localhost:8080/"
        },
        "id": "TjqqQEOB0XaO",
        "outputId": "59e7ca83-7d36-47c0-e7f8-f346c94b9d62"
      },
      "source": [
        "sample = 'их'\n",
        "print('Одуш', morph.parse(sample)[0].tag.animacy)\n",
        "print('Падеж', morph.parse(sample)[0].tag.case )\n",
        "print('Пол', morph.parse(sample)[0].tag.gender)\n",
        "print('Число', morph.parse(sample)[0].tag.number)\n",
        "print('Лицо', morph.parse(sample)[0].tag.person)\n",
        "print('Часть речи', morph.parse(sample)[0].tag.POS)\n",
        "print('Время', morph.parse(sample)[0].tag.tense)\n",
        "print('Залог', morph.parse(sample)[0].tag.voice)\n"
      ],
      "execution_count": 95,
      "outputs": [
        {
          "output_type": "stream",
          "text": [
            "Одуш None\n",
            "Падеж accs\n",
            "Пол None\n",
            "Число plur\n",
            "Лицо 3per\n",
            "Часть речи NPRO\n",
            "Время None\n",
            "Залог None\n"
          ],
          "name": "stdout"
        }
      ]
    },
    {
      "cell_type": "code",
      "metadata": {
        "id": "ztjqE_Mu04w3"
      },
      "source": [
        ""
      ],
      "execution_count": null,
      "outputs": []
    },
    {
      "cell_type": "code",
      "metadata": {
        "colab": {
          "base_uri": "https://localhost:8080/"
        },
        "id": "4dd4UU-Dde0K",
        "outputId": "114a6c3f-c8b1-47f1-9e8e-0668f2c666ce"
      },
      "source": [
        "for token in doc:\n",
        "    print(token.text, token.dep_, token.head.text, token.head.pos_, \n",
        "            [child for child in token.children], morph.parse(token.text)[0].tag)\n"
      ],
      "execution_count": 48,
      "outputs": [
        {
          "output_type": "stream",
          "text": [
            "Кто nsubj принимал VERB [] NPRO,masc sing,nomn\n",
            "принимал ROOT принимал VERB [Кто, его, практике, ?] VERB,impf,tran masc,sing,past,indc\n",
            "его obj принимал VERB [] NPRO,masc,3per,Anph sing,accs\n",
            "в case практике NOUN [] PREP\n",
            "своей det практике NOUN [] ADJF,Apro,Anph femn,sing,gent\n",
            "практике obl принимал VERB [в, своей] NOUN,inan,femn sing,loct\n",
            "? punct принимал VERB [] PNCT\n",
            "Это nsubj препарат NOUN [] PRCL\n",
            "не advmod хороший ADJ [] PRCL\n",
            "хороший amod препарат NOUN [не] ADJF,Qual masc,sing,nomn\n",
            "препарат ROOT препарат NOUN [Это, хороший, .] NOUN,inan,masc sing,nomn\n",
            ". punct препарат NOUN [] PNCT\n"
          ],
          "name": "stdout"
        }
      ]
    },
    {
      "cell_type": "code",
      "metadata": {
        "id": "usOq-L20oxIH"
      },
      "source": [
        "def find_args(my_text, my_spacy):\n",
        "  sents = text.split('.')\n",
        "  for sent in sents:\n",
        "    doc = my_spacy(u'Кто принимал его в своей практике')"
      ],
      "execution_count": 49,
      "outputs": []
    },
    {
      "cell_type": "code",
      "metadata": {
        "id": "CMgIiH7DmIK6"
      },
      "source": [
        "token_list = [i for i in doc]"
      ],
      "execution_count": 50,
      "outputs": []
    },
    {
      "cell_type": "code",
      "metadata": {
        "colab": {
          "base_uri": "https://localhost:8080/"
        },
        "id": "zdAobQDPlCKu",
        "outputId": "f4b55ea6-e0d2-4797-aae3-e7f5c240eebb"
      },
      "source": [
        "for token in doc:\n",
        "  if token.dep_ == 'obj':\n",
        "    print(token.text, token.dep_, token.head.text, token.head.pos_,\n",
        "        [child for child in token.children])"
      ],
      "execution_count": 51,
      "outputs": [
        {
          "output_type": "stream",
          "text": [
            "его obj принимал VERB []\n"
          ],
          "name": "stdout"
        }
      ]
    },
    {
      "cell_type": "code",
      "metadata": {
        "colab": {
          "base_uri": "https://localhost:8080/"
        },
        "id": "Qj8u1Nmt9OfF",
        "outputId": "1e0aea93-2fc6-4e77-e3d1-6a31ca4bedad"
      },
      "source": [
        "sentences_tokenized[2]"
      ],
      "execution_count": 52,
      "outputs": [
        {
          "output_type": "execute_result",
          "data": {
            "text/plain": [
              "['в',\n",
              " 'волгограде',\n",
              " 'есть',\n",
              " 'почти',\n",
              " 'во',\n",
              " 'всех',\n",
              " 'аптеках',\n",
              " 'стоит',\n",
              " '80',\n",
              " 'руб',\n",
              " 'мы',\n",
              " 'его',\n",
              " 'применяемм',\n",
              " 'в',\n",
              " 'основном',\n",
              " 'как',\n",
              " 'вегетостабилизатор']"
            ]
          },
          "metadata": {
            "tags": []
          },
          "execution_count": 52
        }
      ]
    },
    {
      "cell_type": "code",
      "metadata": {
        "id": "oKZOrf91s6YM"
      },
      "source": [
        "sentences_for_annts = [' '.join(sent) for sent in sentences_tokenized]\n",
        "sentences_for_annts = [sent.split() for sent in set(sentences_for_annts)]\n",
        "sents_for_annts= []\n",
        "for sent in sentences_for_annts:\n",
        "  sent.append('\\n')\n",
        "  sents_for_annts.extend(sent) "
      ],
      "execution_count": 53,
      "outputs": []
    },
    {
      "cell_type": "code",
      "metadata": {
        "colab": {
          "base_uri": "https://localhost:8080/"
        },
        "id": "JZmU6fU7xGVM",
        "outputId": "85650485-b5cd-41d0-b3df-d4ba2481addd"
      },
      "source": [
        "len(sents_for_annts)"
      ],
      "execution_count": 54,
      "outputs": [
        {
          "output_type": "execute_result",
          "data": {
            "text/plain": [
              "85522"
            ]
          },
          "metadata": {
            "tags": []
          },
          "execution_count": 54
        }
      ]
    },
    {
      "cell_type": "code",
      "metadata": {
        "id": "AYG06aCdsx3u"
      },
      "source": [
        "df = pd.DataFrame(columns=['TOKEN', 'NER', 'COREFERENCE_CLUSTER'])"
      ],
      "execution_count": 55,
      "outputs": []
    },
    {
      "cell_type": "code",
      "metadata": {
        "id": "a0SWzTUkui8_"
      },
      "source": [
        "df['TOKEN'] = sents_for_annts\n",
        "df['NER'] = [0 for i in range(len(sents_for_annts))]"
      ],
      "execution_count": 56,
      "outputs": []
    },
    {
      "cell_type": "code",
      "metadata": {
        "colab": {
          "base_uri": "https://localhost:8080/",
          "height": 407
        },
        "id": "2glFpIjhyebf",
        "outputId": "1ffd84c2-3d44-49ac-c585-e1c623e7b50c"
      },
      "source": [
        "df"
      ],
      "execution_count": 57,
      "outputs": [
        {
          "output_type": "execute_result",
          "data": {
            "text/html": [
              "<div>\n",
              "<style scoped>\n",
              "    .dataframe tbody tr th:only-of-type {\n",
              "        vertical-align: middle;\n",
              "    }\n",
              "\n",
              "    .dataframe tbody tr th {\n",
              "        vertical-align: top;\n",
              "    }\n",
              "\n",
              "    .dataframe thead th {\n",
              "        text-align: right;\n",
              "    }\n",
              "</style>\n",
              "<table border=\"1\" class=\"dataframe\">\n",
              "  <thead>\n",
              "    <tr style=\"text-align: right;\">\n",
              "      <th></th>\n",
              "      <th>TOKEN</th>\n",
              "      <th>NER</th>\n",
              "      <th>COREFERENCE_CLUSTER</th>\n",
              "    </tr>\n",
              "  </thead>\n",
              "  <tbody>\n",
              "    <tr>\n",
              "      <th>0</th>\n",
              "      <td>\\n</td>\n",
              "      <td>0</td>\n",
              "      <td>NaN</td>\n",
              "    </tr>\n",
              "    <tr>\n",
              "      <th>1</th>\n",
              "      <td>мне</td>\n",
              "      <td>0</td>\n",
              "      <td>NaN</td>\n",
              "    </tr>\n",
              "    <tr>\n",
              "      <th>2</th>\n",
              "      <td>назначили</td>\n",
              "      <td>0</td>\n",
              "      <td>NaN</td>\n",
              "    </tr>\n",
              "    <tr>\n",
              "      <th>3</th>\n",
              "      <td>хлорпротиксен</td>\n",
              "      <td>0</td>\n",
              "      <td>NaN</td>\n",
              "    </tr>\n",
              "    <tr>\n",
              "      <th>4</th>\n",
              "      <td>вместо</td>\n",
              "      <td>0</td>\n",
              "      <td>NaN</td>\n",
              "    </tr>\n",
              "    <tr>\n",
              "      <th>...</th>\n",
              "      <td>...</td>\n",
              "      <td>...</td>\n",
              "      <td>...</td>\n",
              "    </tr>\n",
              "    <tr>\n",
              "      <th>85517</th>\n",
              "      <td>информацию</td>\n",
              "      <td>0</td>\n",
              "      <td>NaN</td>\n",
              "    </tr>\n",
              "    <tr>\n",
              "      <th>85518</th>\n",
              "      <td>ценно</td>\n",
              "      <td>0</td>\n",
              "      <td>NaN</td>\n",
              "    </tr>\n",
              "    <tr>\n",
              "      <th>85519</th>\n",
              "      <td>и</td>\n",
              "      <td>0</td>\n",
              "      <td>NaN</td>\n",
              "    </tr>\n",
              "    <tr>\n",
              "      <th>85520</th>\n",
              "      <td>ободряет</td>\n",
              "      <td>0</td>\n",
              "      <td>NaN</td>\n",
              "    </tr>\n",
              "    <tr>\n",
              "      <th>85521</th>\n",
              "      <td>\\n</td>\n",
              "      <td>0</td>\n",
              "      <td>NaN</td>\n",
              "    </tr>\n",
              "  </tbody>\n",
              "</table>\n",
              "<p>85522 rows × 3 columns</p>\n",
              "</div>"
            ],
            "text/plain": [
              "               TOKEN  NER COREFERENCE_CLUSTER\n",
              "0                 \\n    0                 NaN\n",
              "1                мне    0                 NaN\n",
              "2          назначили    0                 NaN\n",
              "3      хлорпротиксен    0                 NaN\n",
              "4             вместо    0                 NaN\n",
              "...              ...  ...                 ...\n",
              "85517     информацию    0                 NaN\n",
              "85518          ценно    0                 NaN\n",
              "85519              и    0                 NaN\n",
              "85520       ободряет    0                 NaN\n",
              "85521             \\n    0                 NaN\n",
              "\n",
              "[85522 rows x 3 columns]"
            ]
          },
          "metadata": {
            "tags": []
          },
          "execution_count": 57
        }
      ]
    },
    {
      "cell_type": "code",
      "metadata": {
        "id": "zV8uqAxWyfdJ"
      },
      "source": [
        "df.to_csv('for_annts3k.csv', sep=' ', index=False)"
      ],
      "execution_count": 58,
      "outputs": []
    },
    {
      "cell_type": "code",
      "metadata": {
        "id": "xujLpAnmyrku"
      },
      "source": [
        "from google.colab import files\n"
      ],
      "execution_count": 59,
      "outputs": []
    },
    {
      "cell_type": "code",
      "metadata": {
        "colab": {
          "base_uri": "https://localhost:8080/",
          "height": 17
        },
        "id": "DI5N-fvSy9Tv",
        "outputId": "8e3dcf75-2bed-413b-8599-5f80bef6b19b"
      },
      "source": [
        "files.download('for_annts3k.csv')"
      ],
      "execution_count": 61,
      "outputs": [
        {
          "output_type": "display_data",
          "data": {
            "application/javascript": [
              "\n",
              "    async function download(id, filename, size) {\n",
              "      if (!google.colab.kernel.accessAllowed) {\n",
              "        return;\n",
              "      }\n",
              "      const div = document.createElement('div');\n",
              "      const label = document.createElement('label');\n",
              "      label.textContent = `Downloading \"${filename}\": `;\n",
              "      div.appendChild(label);\n",
              "      const progress = document.createElement('progress');\n",
              "      progress.max = size;\n",
              "      div.appendChild(progress);\n",
              "      document.body.appendChild(div);\n",
              "\n",
              "      const buffers = [];\n",
              "      let downloaded = 0;\n",
              "\n",
              "      const channel = await google.colab.kernel.comms.open(id);\n",
              "      // Send a message to notify the kernel that we're ready.\n",
              "      channel.send({})\n",
              "\n",
              "      for await (const message of channel.messages) {\n",
              "        // Send a message to notify the kernel that we're ready.\n",
              "        channel.send({})\n",
              "        if (message.buffers) {\n",
              "          for (const buffer of message.buffers) {\n",
              "            buffers.push(buffer);\n",
              "            downloaded += buffer.byteLength;\n",
              "            progress.value = downloaded;\n",
              "          }\n",
              "        }\n",
              "      }\n",
              "      const blob = new Blob(buffers, {type: 'application/binary'});\n",
              "      const a = document.createElement('a');\n",
              "      a.href = window.URL.createObjectURL(blob);\n",
              "      a.download = filename;\n",
              "      div.appendChild(a);\n",
              "      a.click();\n",
              "      div.remove();\n",
              "    }\n",
              "  "
            ],
            "text/plain": [
              "<IPython.core.display.Javascript object>"
            ]
          },
          "metadata": {
            "tags": []
          }
        },
        {
          "output_type": "display_data",
          "data": {
            "application/javascript": [
              "download(\"download_e51bfdd0-3e87-4125-a7f1-a451ad166247\", \"for_annts3k.csv\", 1202456)"
            ],
            "text/plain": [
              "<IPython.core.display.Javascript object>"
            ]
          },
          "metadata": {
            "tags": []
          }
        }
      ]
    },
    {
      "cell_type": "markdown",
      "metadata": {
        "id": "ku0NMgIJomMR"
      },
      "source": [
        "***Разметка для кореференции***"
      ]
    },
    {
      "cell_type": "code",
      "metadata": {
        "id": "4YIBZyzczBPH",
        "colab": {
          "base_uri": "https://localhost:8080/"
        },
        "outputId": "827d1a39-b8d3-4ccc-a6be-dd3d28a27ec5"
      },
      "source": [
        "# sents_for_annts[1]\n",
        "sentences_for_annts[8]"
      ],
      "execution_count": 73,
      "outputs": [
        {
          "output_type": "execute_result",
          "data": {
            "text/plain": [
              "['snay',\n",
              " 'сказал',\n",
              " 'а',\n",
              " '24',\n",
              " '9',\n",
              " '2008',\n",
              " '16',\n",
              " '59',\n",
              " 'а',\n",
              " 'есть',\n",
              " 'ли',\n",
              " 'какой',\n",
              " 'нибудь',\n",
              " 'способ',\n",
              " 'проверить',\n",
              " 'что',\n",
              " 'то',\n",
              " 'вроде',\n",
              " 'анализа',\n",
              " 'сколько',\n",
              " 'по',\n",
              " 'времени',\n",
              " 'нужно',\n",
              " 'принимать',\n",
              " 'этот',\n",
              " 'препарат',\n",
              " 'как',\n",
              " 'мне',\n",
              " 'объяснила',\n",
              " 'мой',\n",
              " 'врач',\n",
              " 'нужно',\n",
              " 'ждать',\n",
              " 'пока',\n",
              " 'не',\n",
              " 'помрёт',\n",
              " 'тот',\n",
              " 'самый',\n",
              " 'ген',\n",
              " 'который',\n",
              " 'запустил',\n",
              " 'болезнь',\n",
              " 'или',\n",
              " 'пока',\n",
              " 'организм',\n",
              " 'не',\n",
              " 'привыкнет',\n",
              " 'к',\n",
              " 'такому',\n",
              " 'состоянию',\n",
              " 'и',\n",
              " 'ему',\n",
              " 'уже',\n",
              " 'не',\n",
              " 'нужны',\n",
              " 'будут',\n",
              " 'таблетки',\n",
              " 'но',\n",
              " 'это',\n",
              " 'так',\n",
              " 'расплывчато',\n",
              " 'и',\n",
              " 'неопределенно',\n",
              " 'что',\n",
              " 'вводит',\n",
              " 'в',\n",
              " 'замешательство',\n",
              " 'должны',\n",
              " 'же',\n",
              " 'быть',\n",
              " 'какие',\n",
              " 'то',\n",
              " 'конкретные',\n",
              " 'признаки',\n",
              " 'как',\n",
              " 'работает',\n",
              " 'мозг',\n",
              " 'нужен',\n",
              " 'ли',\n",
              " 'ему',\n",
              " 'ещё',\n",
              " 'препарат',\n",
              " 'как',\n",
              " 'себя',\n",
              " 'будет',\n",
              " 'вести',\n",
              " 'мозг',\n",
              " 'после',\n",
              " 'отмены',\n",
              " 'препарата',\n",
              " 'и',\n",
              " 'как',\n",
              " 'он',\n",
              " 'себя',\n",
              " 'ведет',\n",
              " 'во',\n",
              " 'время',\n",
              " 'его',\n",
              " 'приема',\n",
              " 'я',\n",
              " 'понимаю',\n",
              " 'что',\n",
              " 'область',\n",
              " 'психиатрии',\n",
              " 'это',\n",
              " 'очень',\n",
              " 'сложная',\n",
              " 'наука',\n",
              " 'но',\n",
              " 'если',\n",
              " 'есть',\n",
              " 'ответы',\n",
              " 'на',\n",
              " 'мои',\n",
              " 'вопросы',\n",
              " 'напишите',\n",
              " 'пожалуйста',\n",
              " 'к',\n",
              " 'сожалению',\n",
              " 'нет',\n",
              " 'анализов',\n",
              " 'которые',\n",
              " 'могут',\n",
              " 'определить',\n",
              " 'длительность',\n",
              " 'приема',\n",
              " 'нейролептика',\n",
              " '\\n']"
            ]
          },
          "metadata": {
            "tags": []
          },
          "execution_count": 73
        }
      ]
    },
    {
      "cell_type": "code",
      "metadata": {
        "id": "i13--Gw9pASO"
      },
      "source": [
        ""
      ],
      "execution_count": null,
      "outputs": []
    }
  ]
}