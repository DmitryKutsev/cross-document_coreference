{
  "nbformat": 4,
  "nbformat_minor": 0,
  "metadata": {
    "colab": {
      "name": "Untitled55.ipynb",
      "provenance": [],
      "authorship_tag": "ABX9TyM5gwQA3JKxjnjmDLCgVlNr",
      "include_colab_link": true
    },
    "kernelspec": {
      "name": "python3",
      "display_name": "Python 3"
    },
    "language_info": {
      "name": "python"
    }
  },
  "cells": [
    {
      "cell_type": "markdown",
      "metadata": {
        "id": "view-in-github",
        "colab_type": "text"
      },
      "source": [
        "<a href=\"https://colab.research.google.com/github/DmitryKutsev/cross-document_coreference/blob/main/text_analysis_coref60k.ipynb\" target=\"_parent\"><img src=\"https://colab.research.google.com/assets/colab-badge.svg\" alt=\"Open In Colab\"/></a>"
      ]
    },
    {
      "cell_type": "code",
      "metadata": {
        "colab": {
          "base_uri": "https://localhost:8080/",
          "height": 1000
        },
        "id": "oA2EFVEBdpW8",
        "outputId": "4f5e123a-9bc2-470e-ff95-2e1800bd6749"
      },
      "source": [
        "!pip install -U pip setuptools wheel\n",
        "!pip install -U spacy\n",
        "!python -m spacy download ru_core_news_sm\n",
        "!python -m spacy download ru_core_news_md"
      ],
      "execution_count": 1,
      "outputs": [
        {
          "output_type": "stream",
          "text": [
            "Collecting pip\n",
            "\u001b[?25l  Downloading https://files.pythonhosted.org/packages/cd/6f/43037c7bcc8bd8ba7c9074256b1a11596daa15555808ec748048c1507f08/pip-21.1.1-py3-none-any.whl (1.5MB)\n",
            "\u001b[K     |████████████████████████████████| 1.6MB 3.9MB/s \n",
            "\u001b[?25hCollecting setuptools\n",
            "\u001b[?25l  Downloading https://files.pythonhosted.org/packages/d0/15/5041473f5d142ee93bf1593deb8f932e27a078f6f04e2020cf44044f72c5/setuptools-56.2.0-py3-none-any.whl (785kB)\n",
            "\u001b[K     |████████████████████████████████| 788kB 32.0MB/s \n",
            "\u001b[?25hRequirement already up-to-date: wheel in /usr/local/lib/python3.7/dist-packages (0.36.2)\n",
            "\u001b[31mERROR: datascience 0.10.6 has requirement folium==0.2.1, but you'll have folium 0.8.3 which is incompatible.\u001b[0m\n",
            "Installing collected packages: pip, setuptools\n",
            "  Found existing installation: pip 19.3.1\n",
            "    Uninstalling pip-19.3.1:\n",
            "      Successfully uninstalled pip-19.3.1\n",
            "  Found existing installation: setuptools 56.1.0\n",
            "    Uninstalling setuptools-56.1.0:\n",
            "      Successfully uninstalled setuptools-56.1.0\n",
            "Successfully installed pip-21.1.1 setuptools-56.2.0\n"
          ],
          "name": "stdout"
        },
        {
          "output_type": "display_data",
          "data": {
            "application/vnd.colab-display-data+json": {
              "pip_warning": {
                "packages": [
                  "pkg_resources"
                ]
              }
            }
          },
          "metadata": {
            "tags": []
          }
        },
        {
          "output_type": "stream",
          "text": [
            "Requirement already satisfied: spacy in /usr/local/lib/python3.7/dist-packages (2.2.4)\n",
            "Collecting spacy\n",
            "  Downloading spacy-3.0.6-cp37-cp37m-manylinux2014_x86_64.whl (12.8 MB)\n",
            "\u001b[K     |████████████████████████████████| 12.8 MB 92 kB/s \n",
            "\u001b[?25hRequirement already satisfied: murmurhash<1.1.0,>=0.28.0 in /usr/local/lib/python3.7/dist-packages (from spacy) (1.0.5)\n",
            "Requirement already satisfied: requests<3.0.0,>=2.13.0 in /usr/local/lib/python3.7/dist-packages (from spacy) (2.23.0)\n",
            "Collecting pydantic<1.8.0,>=1.7.1\n",
            "  Downloading pydantic-1.7.4-cp37-cp37m-manylinux2014_x86_64.whl (9.1 MB)\n",
            "\u001b[K     |████████████████████████████████| 9.1 MB 38.2 MB/s \n",
            "\u001b[?25hCollecting srsly<3.0.0,>=2.4.1\n",
            "  Downloading srsly-2.4.1-cp37-cp37m-manylinux2014_x86_64.whl (456 kB)\n",
            "\u001b[K     |████████████████████████████████| 456 kB 51.5 MB/s \n",
            "\u001b[?25hCollecting pathy>=0.3.5\n",
            "  Downloading pathy-0.5.2-py3-none-any.whl (42 kB)\n",
            "\u001b[K     |████████████████████████████████| 42 kB 956 kB/s \n",
            "\u001b[?25hRequirement already satisfied: blis<0.8.0,>=0.4.0 in /usr/local/lib/python3.7/dist-packages (from spacy) (0.4.1)\n",
            "Requirement already satisfied: setuptools in /usr/local/lib/python3.7/dist-packages (from spacy) (56.2.0)\n",
            "Requirement already satisfied: jinja2 in /usr/local/lib/python3.7/dist-packages (from spacy) (2.11.3)\n",
            "Requirement already satisfied: wasabi<1.1.0,>=0.8.1 in /usr/local/lib/python3.7/dist-packages (from spacy) (0.8.2)\n",
            "Requirement already satisfied: numpy>=1.15.0 in /usr/local/lib/python3.7/dist-packages (from spacy) (1.19.5)\n",
            "Requirement already satisfied: typing-extensions<4.0.0.0,>=3.7.4 in /usr/local/lib/python3.7/dist-packages (from spacy) (3.7.4.3)\n",
            "Collecting typer<0.4.0,>=0.3.0\n",
            "  Downloading typer-0.3.2-py3-none-any.whl (21 kB)\n",
            "Collecting spacy-legacy<3.1.0,>=3.0.4\n",
            "  Downloading spacy_legacy-3.0.5-py2.py3-none-any.whl (12 kB)\n",
            "Collecting catalogue<2.1.0,>=2.0.3\n",
            "  Downloading catalogue-2.0.4-py3-none-any.whl (16 kB)\n",
            "Collecting thinc<8.1.0,>=8.0.3\n",
            "  Downloading thinc-8.0.3-cp37-cp37m-manylinux2014_x86_64.whl (1.1 MB)\n",
            "\u001b[K     |████████████████████████████████| 1.1 MB 44.6 MB/s \n",
            "\u001b[?25hRequirement already satisfied: tqdm<5.0.0,>=4.38.0 in /usr/local/lib/python3.7/dist-packages (from spacy) (4.41.1)\n",
            "Requirement already satisfied: preshed<3.1.0,>=3.0.2 in /usr/local/lib/python3.7/dist-packages (from spacy) (3.0.5)\n",
            "Requirement already satisfied: cymem<2.1.0,>=2.0.2 in /usr/local/lib/python3.7/dist-packages (from spacy) (2.0.5)\n",
            "Requirement already satisfied: packaging>=20.0 in /usr/local/lib/python3.7/dist-packages (from spacy) (20.9)\n",
            "Requirement already satisfied: zipp>=0.5 in /usr/local/lib/python3.7/dist-packages (from catalogue<2.1.0,>=2.0.3->spacy) (3.4.1)\n",
            "Requirement already satisfied: pyparsing>=2.0.2 in /usr/local/lib/python3.7/dist-packages (from packaging>=20.0->spacy) (2.4.7)\n",
            "Collecting smart-open<4.0.0,>=2.2.0\n",
            "  Downloading smart_open-3.0.0.tar.gz (113 kB)\n",
            "\u001b[K     |████████████████████████████████| 113 kB 65.8 MB/s \n",
            "\u001b[?25hRequirement already satisfied: urllib3!=1.25.0,!=1.25.1,<1.26,>=1.21.1 in /usr/local/lib/python3.7/dist-packages (from requests<3.0.0,>=2.13.0->spacy) (1.24.3)\n",
            "Requirement already satisfied: chardet<4,>=3.0.2 in /usr/local/lib/python3.7/dist-packages (from requests<3.0.0,>=2.13.0->spacy) (3.0.4)\n",
            "Requirement already satisfied: certifi>=2017.4.17 in /usr/local/lib/python3.7/dist-packages (from requests<3.0.0,>=2.13.0->spacy) (2020.12.5)\n",
            "Requirement already satisfied: idna<3,>=2.5 in /usr/local/lib/python3.7/dist-packages (from requests<3.0.0,>=2.13.0->spacy) (2.10)\n",
            "Requirement already satisfied: click<7.2.0,>=7.1.1 in /usr/local/lib/python3.7/dist-packages (from typer<0.4.0,>=0.3.0->spacy) (7.1.2)\n",
            "Requirement already satisfied: MarkupSafe>=0.23 in /usr/local/lib/python3.7/dist-packages (from jinja2->spacy) (1.1.1)\n",
            "Building wheels for collected packages: smart-open\n",
            "  Building wheel for smart-open (setup.py) ... \u001b[?25l\u001b[?25hdone\n",
            "  Created wheel for smart-open: filename=smart_open-3.0.0-py3-none-any.whl size=107097 sha256=05c93c447f4e70f39b794d1646c10d16771e99de9414c522ec99bbd333b86727\n",
            "  Stored in directory: /root/.cache/pip/wheels/83/a6/12/bf3c1a667bde4251be5b7a3368b2d604c9af2105b5c1cb1870\n",
            "Successfully built smart-open\n",
            "Installing collected packages: catalogue, typer, srsly, smart-open, pydantic, thinc, spacy-legacy, pathy, spacy\n",
            "  Attempting uninstall: catalogue\n",
            "    Found existing installation: catalogue 1.0.0\n",
            "    Uninstalling catalogue-1.0.0:\n",
            "      Successfully uninstalled catalogue-1.0.0\n",
            "  Attempting uninstall: srsly\n",
            "    Found existing installation: srsly 1.0.5\n",
            "    Uninstalling srsly-1.0.5:\n",
            "      Successfully uninstalled srsly-1.0.5\n",
            "  Attempting uninstall: smart-open\n",
            "    Found existing installation: smart-open 5.0.0\n",
            "    Uninstalling smart-open-5.0.0:\n",
            "      Successfully uninstalled smart-open-5.0.0\n",
            "  Attempting uninstall: thinc\n",
            "    Found existing installation: thinc 7.4.0\n",
            "    Uninstalling thinc-7.4.0:\n",
            "      Successfully uninstalled thinc-7.4.0\n",
            "  Attempting uninstall: spacy\n",
            "    Found existing installation: spacy 2.2.4\n",
            "    Uninstalling spacy-2.2.4:\n",
            "      Successfully uninstalled spacy-2.2.4\n",
            "Successfully installed catalogue-2.0.4 pathy-0.5.2 pydantic-1.7.4 smart-open-3.0.0 spacy-3.0.6 spacy-legacy-3.0.5 srsly-2.4.1 thinc-8.0.3 typer-0.3.2\n",
            "\u001b[33mWARNING: Running pip as root will break packages and permissions. You should install packages reliably by using venv: https://pip.pypa.io/warnings/venv\u001b[0m\n",
            "2021-05-12 13:14:48.301667: I tensorflow/stream_executor/platform/default/dso_loader.cc:49] Successfully opened dynamic library libcudart.so.11.0\n",
            "Collecting ru-core-news-sm==3.0.0\n",
            "  Downloading https://github.com/explosion/spacy-models/releases/download/ru_core_news_sm-3.0.0/ru_core_news_sm-3.0.0-py3-none-any.whl (17.9 MB)\n",
            "\u001b[K     |████████████████████████████████| 17.9 MB 1.2 MB/s \n",
            "\u001b[?25hRequirement already satisfied: spacy<3.1.0,>=3.0.0 in /usr/local/lib/python3.7/dist-packages (from ru-core-news-sm==3.0.0) (3.0.6)\n",
            "Collecting pymorphy2>=0.9\n",
            "  Downloading pymorphy2-0.9.1-py3-none-any.whl (55 kB)\n",
            "\u001b[K     |████████████████████████████████| 55 kB 1.5 MB/s \n",
            "\u001b[?25hCollecting dawg-python>=0.7.1\n",
            "  Downloading DAWG_Python-0.7.2-py2.py3-none-any.whl (11 kB)\n",
            "Collecting pymorphy2-dicts-ru<3.0,>=2.4\n",
            "  Downloading pymorphy2_dicts_ru-2.4.417127.4579844-py2.py3-none-any.whl (8.2 MB)\n",
            "\u001b[K     |████████████████████████████████| 8.2 MB 4.8 MB/s \n",
            "\u001b[?25hRequirement already satisfied: docopt>=0.6 in /usr/local/lib/python3.7/dist-packages (from pymorphy2>=0.9->ru-core-news-sm==3.0.0) (0.6.2)\n",
            "Requirement already satisfied: catalogue<2.1.0,>=2.0.3 in /usr/local/lib/python3.7/dist-packages (from spacy<3.1.0,>=3.0.0->ru-core-news-sm==3.0.0) (2.0.4)\n",
            "Requirement already satisfied: cymem<2.1.0,>=2.0.2 in /usr/local/lib/python3.7/dist-packages (from spacy<3.1.0,>=3.0.0->ru-core-news-sm==3.0.0) (2.0.5)\n",
            "Requirement already satisfied: srsly<3.0.0,>=2.4.1 in /usr/local/lib/python3.7/dist-packages (from spacy<3.1.0,>=3.0.0->ru-core-news-sm==3.0.0) (2.4.1)\n",
            "Requirement already satisfied: blis<0.8.0,>=0.4.0 in /usr/local/lib/python3.7/dist-packages (from spacy<3.1.0,>=3.0.0->ru-core-news-sm==3.0.0) (0.4.1)\n",
            "Requirement already satisfied: pydantic<1.8.0,>=1.7.1 in /usr/local/lib/python3.7/dist-packages (from spacy<3.1.0,>=3.0.0->ru-core-news-sm==3.0.0) (1.7.4)\n",
            "Requirement already satisfied: murmurhash<1.1.0,>=0.28.0 in /usr/local/lib/python3.7/dist-packages (from spacy<3.1.0,>=3.0.0->ru-core-news-sm==3.0.0) (1.0.5)\n",
            "Requirement already satisfied: wasabi<1.1.0,>=0.8.1 in /usr/local/lib/python3.7/dist-packages (from spacy<3.1.0,>=3.0.0->ru-core-news-sm==3.0.0) (0.8.2)\n",
            "Requirement already satisfied: setuptools in /usr/local/lib/python3.7/dist-packages (from spacy<3.1.0,>=3.0.0->ru-core-news-sm==3.0.0) (56.2.0)\n",
            "Requirement already satisfied: packaging>=20.0 in /usr/local/lib/python3.7/dist-packages (from spacy<3.1.0,>=3.0.0->ru-core-news-sm==3.0.0) (20.9)\n",
            "Requirement already satisfied: spacy-legacy<3.1.0,>=3.0.4 in /usr/local/lib/python3.7/dist-packages (from spacy<3.1.0,>=3.0.0->ru-core-news-sm==3.0.0) (3.0.5)\n",
            "Requirement already satisfied: pathy>=0.3.5 in /usr/local/lib/python3.7/dist-packages (from spacy<3.1.0,>=3.0.0->ru-core-news-sm==3.0.0) (0.5.2)\n",
            "Requirement already satisfied: preshed<3.1.0,>=3.0.2 in /usr/local/lib/python3.7/dist-packages (from spacy<3.1.0,>=3.0.0->ru-core-news-sm==3.0.0) (3.0.5)\n",
            "Requirement already satisfied: typing-extensions<4.0.0.0,>=3.7.4 in /usr/local/lib/python3.7/dist-packages (from spacy<3.1.0,>=3.0.0->ru-core-news-sm==3.0.0) (3.7.4.3)\n",
            "Requirement already satisfied: numpy>=1.15.0 in /usr/local/lib/python3.7/dist-packages (from spacy<3.1.0,>=3.0.0->ru-core-news-sm==3.0.0) (1.19.5)\n",
            "Requirement already satisfied: typer<0.4.0,>=0.3.0 in /usr/local/lib/python3.7/dist-packages (from spacy<3.1.0,>=3.0.0->ru-core-news-sm==3.0.0) (0.3.2)\n",
            "Requirement already satisfied: tqdm<5.0.0,>=4.38.0 in /usr/local/lib/python3.7/dist-packages (from spacy<3.1.0,>=3.0.0->ru-core-news-sm==3.0.0) (4.41.1)\n",
            "Requirement already satisfied: thinc<8.1.0,>=8.0.3 in /usr/local/lib/python3.7/dist-packages (from spacy<3.1.0,>=3.0.0->ru-core-news-sm==3.0.0) (8.0.3)\n",
            "Requirement already satisfied: requests<3.0.0,>=2.13.0 in /usr/local/lib/python3.7/dist-packages (from spacy<3.1.0,>=3.0.0->ru-core-news-sm==3.0.0) (2.23.0)\n",
            "Requirement already satisfied: jinja2 in /usr/local/lib/python3.7/dist-packages (from spacy<3.1.0,>=3.0.0->ru-core-news-sm==3.0.0) (2.11.3)\n",
            "Requirement already satisfied: zipp>=0.5 in /usr/local/lib/python3.7/dist-packages (from catalogue<2.1.0,>=2.0.3->spacy<3.1.0,>=3.0.0->ru-core-news-sm==3.0.0) (3.4.1)\n",
            "Requirement already satisfied: pyparsing>=2.0.2 in /usr/local/lib/python3.7/dist-packages (from packaging>=20.0->spacy<3.1.0,>=3.0.0->ru-core-news-sm==3.0.0) (2.4.7)\n",
            "Requirement already satisfied: smart-open<4.0.0,>=2.2.0 in /usr/local/lib/python3.7/dist-packages (from pathy>=0.3.5->spacy<3.1.0,>=3.0.0->ru-core-news-sm==3.0.0) (3.0.0)\n",
            "Requirement already satisfied: chardet<4,>=3.0.2 in /usr/local/lib/python3.7/dist-packages (from requests<3.0.0,>=2.13.0->spacy<3.1.0,>=3.0.0->ru-core-news-sm==3.0.0) (3.0.4)\n",
            "Requirement already satisfied: certifi>=2017.4.17 in /usr/local/lib/python3.7/dist-packages (from requests<3.0.0,>=2.13.0->spacy<3.1.0,>=3.0.0->ru-core-news-sm==3.0.0) (2020.12.5)\n",
            "Requirement already satisfied: urllib3!=1.25.0,!=1.25.1,<1.26,>=1.21.1 in /usr/local/lib/python3.7/dist-packages (from requests<3.0.0,>=2.13.0->spacy<3.1.0,>=3.0.0->ru-core-news-sm==3.0.0) (1.24.3)\n",
            "Requirement already satisfied: idna<3,>=2.5 in /usr/local/lib/python3.7/dist-packages (from requests<3.0.0,>=2.13.0->spacy<3.1.0,>=3.0.0->ru-core-news-sm==3.0.0) (2.10)\n",
            "Requirement already satisfied: click<7.2.0,>=7.1.1 in /usr/local/lib/python3.7/dist-packages (from typer<0.4.0,>=0.3.0->spacy<3.1.0,>=3.0.0->ru-core-news-sm==3.0.0) (7.1.2)\n",
            "Requirement already satisfied: MarkupSafe>=0.23 in /usr/local/lib/python3.7/dist-packages (from jinja2->spacy<3.1.0,>=3.0.0->ru-core-news-sm==3.0.0) (1.1.1)\n",
            "Installing collected packages: pymorphy2-dicts-ru, dawg-python, pymorphy2, ru-core-news-sm\n",
            "Successfully installed dawg-python-0.7.2 pymorphy2-0.9.1 pymorphy2-dicts-ru-2.4.417127.4579844 ru-core-news-sm-3.0.0\n",
            "\u001b[33mWARNING: Running pip as root will break packages and permissions. You should install packages reliably by using venv: https://pip.pypa.io/warnings/venv\u001b[0m\n",
            "\u001b[38;5;2m✔ Download and installation successful\u001b[0m\n",
            "You can now load the package via spacy.load('ru_core_news_sm')\n",
            "2021-05-12 13:15:00.792429: I tensorflow/stream_executor/platform/default/dso_loader.cc:49] Successfully opened dynamic library libcudart.so.11.0\n",
            "Collecting ru-core-news-md==3.0.0\n",
            "  Downloading https://github.com/explosion/spacy-models/releases/download/ru_core_news_md-3.0.0/ru_core_news_md-3.0.0-py3-none-any.whl (43.9 MB)\n",
            "\u001b[K     |████████████████████████████████| 43.9 MB 19 kB/s \n",
            "\u001b[?25hRequirement already satisfied: pymorphy2>=0.9 in /usr/local/lib/python3.7/dist-packages (from ru-core-news-md==3.0.0) (0.9.1)\n",
            "Requirement already satisfied: spacy<3.1.0,>=3.0.0 in /usr/local/lib/python3.7/dist-packages (from ru-core-news-md==3.0.0) (3.0.6)\n",
            "Requirement already satisfied: docopt>=0.6 in /usr/local/lib/python3.7/dist-packages (from pymorphy2>=0.9->ru-core-news-md==3.0.0) (0.6.2)\n",
            "Requirement already satisfied: pymorphy2-dicts-ru<3.0,>=2.4 in /usr/local/lib/python3.7/dist-packages (from pymorphy2>=0.9->ru-core-news-md==3.0.0) (2.4.417127.4579844)\n",
            "Requirement already satisfied: dawg-python>=0.7.1 in /usr/local/lib/python3.7/dist-packages (from pymorphy2>=0.9->ru-core-news-md==3.0.0) (0.7.2)\n",
            "Requirement already satisfied: murmurhash<1.1.0,>=0.28.0 in /usr/local/lib/python3.7/dist-packages (from spacy<3.1.0,>=3.0.0->ru-core-news-md==3.0.0) (1.0.5)\n",
            "Requirement already satisfied: spacy-legacy<3.1.0,>=3.0.4 in /usr/local/lib/python3.7/dist-packages (from spacy<3.1.0,>=3.0.0->ru-core-news-md==3.0.0) (3.0.5)\n",
            "Requirement already satisfied: catalogue<2.1.0,>=2.0.3 in /usr/local/lib/python3.7/dist-packages (from spacy<3.1.0,>=3.0.0->ru-core-news-md==3.0.0) (2.0.4)\n",
            "Requirement already satisfied: typing-extensions<4.0.0.0,>=3.7.4 in /usr/local/lib/python3.7/dist-packages (from spacy<3.1.0,>=3.0.0->ru-core-news-md==3.0.0) (3.7.4.3)\n",
            "Requirement already satisfied: pydantic<1.8.0,>=1.7.1 in /usr/local/lib/python3.7/dist-packages (from spacy<3.1.0,>=3.0.0->ru-core-news-md==3.0.0) (1.7.4)\n",
            "Requirement already satisfied: srsly<3.0.0,>=2.4.1 in /usr/local/lib/python3.7/dist-packages (from spacy<3.1.0,>=3.0.0->ru-core-news-md==3.0.0) (2.4.1)\n",
            "Requirement already satisfied: setuptools in /usr/local/lib/python3.7/dist-packages (from spacy<3.1.0,>=3.0.0->ru-core-news-md==3.0.0) (56.2.0)\n",
            "Requirement already satisfied: thinc<8.1.0,>=8.0.3 in /usr/local/lib/python3.7/dist-packages (from spacy<3.1.0,>=3.0.0->ru-core-news-md==3.0.0) (8.0.3)\n",
            "Requirement already satisfied: typer<0.4.0,>=0.3.0 in /usr/local/lib/python3.7/dist-packages (from spacy<3.1.0,>=3.0.0->ru-core-news-md==3.0.0) (0.3.2)\n",
            "Requirement already satisfied: requests<3.0.0,>=2.13.0 in /usr/local/lib/python3.7/dist-packages (from spacy<3.1.0,>=3.0.0->ru-core-news-md==3.0.0) (2.23.0)\n",
            "Requirement already satisfied: cymem<2.1.0,>=2.0.2 in /usr/local/lib/python3.7/dist-packages (from spacy<3.1.0,>=3.0.0->ru-core-news-md==3.0.0) (2.0.5)\n",
            "Requirement already satisfied: wasabi<1.1.0,>=0.8.1 in /usr/local/lib/python3.7/dist-packages (from spacy<3.1.0,>=3.0.0->ru-core-news-md==3.0.0) (0.8.2)\n",
            "Requirement already satisfied: tqdm<5.0.0,>=4.38.0 in /usr/local/lib/python3.7/dist-packages (from spacy<3.1.0,>=3.0.0->ru-core-news-md==3.0.0) (4.41.1)\n",
            "Requirement already satisfied: packaging>=20.0 in /usr/local/lib/python3.7/dist-packages (from spacy<3.1.0,>=3.0.0->ru-core-news-md==3.0.0) (20.9)\n",
            "Requirement already satisfied: preshed<3.1.0,>=3.0.2 in /usr/local/lib/python3.7/dist-packages (from spacy<3.1.0,>=3.0.0->ru-core-news-md==3.0.0) (3.0.5)\n",
            "Requirement already satisfied: pathy>=0.3.5 in /usr/local/lib/python3.7/dist-packages (from spacy<3.1.0,>=3.0.0->ru-core-news-md==3.0.0) (0.5.2)\n",
            "Requirement already satisfied: jinja2 in /usr/local/lib/python3.7/dist-packages (from spacy<3.1.0,>=3.0.0->ru-core-news-md==3.0.0) (2.11.3)\n",
            "Requirement already satisfied: blis<0.8.0,>=0.4.0 in /usr/local/lib/python3.7/dist-packages (from spacy<3.1.0,>=3.0.0->ru-core-news-md==3.0.0) (0.4.1)\n",
            "Requirement already satisfied: numpy>=1.15.0 in /usr/local/lib/python3.7/dist-packages (from spacy<3.1.0,>=3.0.0->ru-core-news-md==3.0.0) (1.19.5)\n",
            "Requirement already satisfied: zipp>=0.5 in /usr/local/lib/python3.7/dist-packages (from catalogue<2.1.0,>=2.0.3->spacy<3.1.0,>=3.0.0->ru-core-news-md==3.0.0) (3.4.1)\n",
            "Requirement already satisfied: pyparsing>=2.0.2 in /usr/local/lib/python3.7/dist-packages (from packaging>=20.0->spacy<3.1.0,>=3.0.0->ru-core-news-md==3.0.0) (2.4.7)\n",
            "Requirement already satisfied: smart-open<4.0.0,>=2.2.0 in /usr/local/lib/python3.7/dist-packages (from pathy>=0.3.5->spacy<3.1.0,>=3.0.0->ru-core-news-md==3.0.0) (3.0.0)\n",
            "Requirement already satisfied: certifi>=2017.4.17 in /usr/local/lib/python3.7/dist-packages (from requests<3.0.0,>=2.13.0->spacy<3.1.0,>=3.0.0->ru-core-news-md==3.0.0) (2020.12.5)\n",
            "Requirement already satisfied: urllib3!=1.25.0,!=1.25.1,<1.26,>=1.21.1 in /usr/local/lib/python3.7/dist-packages (from requests<3.0.0,>=2.13.0->spacy<3.1.0,>=3.0.0->ru-core-news-md==3.0.0) (1.24.3)\n",
            "Requirement already satisfied: chardet<4,>=3.0.2 in /usr/local/lib/python3.7/dist-packages (from requests<3.0.0,>=2.13.0->spacy<3.1.0,>=3.0.0->ru-core-news-md==3.0.0) (3.0.4)\n",
            "Requirement already satisfied: idna<3,>=2.5 in /usr/local/lib/python3.7/dist-packages (from requests<3.0.0,>=2.13.0->spacy<3.1.0,>=3.0.0->ru-core-news-md==3.0.0) (2.10)\n",
            "Requirement already satisfied: click<7.2.0,>=7.1.1 in /usr/local/lib/python3.7/dist-packages (from typer<0.4.0,>=0.3.0->spacy<3.1.0,>=3.0.0->ru-core-news-md==3.0.0) (7.1.2)\n",
            "Requirement already satisfied: MarkupSafe>=0.23 in /usr/local/lib/python3.7/dist-packages (from jinja2->spacy<3.1.0,>=3.0.0->ru-core-news-md==3.0.0) (1.1.1)\n",
            "Installing collected packages: ru-core-news-md\n",
            "Successfully installed ru-core-news-md-3.0.0\n",
            "\u001b[33mWARNING: Running pip as root will break packages and permissions. You should install packages reliably by using venv: https://pip.pypa.io/warnings/venv\u001b[0m\n",
            "\u001b[38;5;2m✔ Download and installation successful\u001b[0m\n",
            "You can now load the package via spacy.load('ru_core_news_md')\n"
          ],
          "name": "stdout"
        }
      ]
    },
    {
      "cell_type": "code",
      "metadata": {
        "colab": {
          "base_uri": "https://localhost:8080/"
        },
        "id": "V7UjWjAX7P9d",
        "outputId": "30a92a5f-24da-4dc4-e354-f7f173fd0e12"
      },
      "source": [
        "pip install pymorphy2[fast]"
      ],
      "execution_count": 2,
      "outputs": [
        {
          "output_type": "stream",
          "text": [
            "Requirement already satisfied: pymorphy2[fast] in /usr/local/lib/python3.7/dist-packages (0.9.1)\n",
            "Requirement already satisfied: pymorphy2-dicts-ru<3.0,>=2.4 in /usr/local/lib/python3.7/dist-packages (from pymorphy2[fast]) (2.4.417127.4579844)\n",
            "Requirement already satisfied: dawg-python>=0.7.1 in /usr/local/lib/python3.7/dist-packages (from pymorphy2[fast]) (0.7.2)\n",
            "Requirement already satisfied: docopt>=0.6 in /usr/local/lib/python3.7/dist-packages (from pymorphy2[fast]) (0.6.2)\n",
            "Collecting DAWG>=0.8\n",
            "  Downloading DAWG-0.8.0.tar.gz (371 kB)\n",
            "\u001b[K     |████████████████████████████████| 371 kB 4.0 MB/s \n",
            "\u001b[?25hBuilding wheels for collected packages: DAWG\n",
            "  Building wheel for DAWG (setup.py) ... \u001b[?25l\u001b[?25hdone\n",
            "  Created wheel for DAWG: filename=DAWG-0.8.0-cp37-cp37m-linux_x86_64.whl size=867028 sha256=a5529ad1966c8f6497da642205543379e94950dc18c5e0f76b67a546fcfd2adc\n",
            "  Stored in directory: /root/.cache/pip/wheels/85/51/a4/2de41ff197786537075027c27b479a38da92f50abc86634445\n",
            "Successfully built DAWG\n",
            "Installing collected packages: DAWG\n",
            "Successfully installed DAWG-0.8.0\n",
            "\u001b[33mWARNING: Running pip as root will break packages and permissions. You should install packages reliably by using venv: https://pip.pypa.io/warnings/venv\u001b[0m\n"
          ],
          "name": "stdout"
        }
      ]
    },
    {
      "cell_type": "code",
      "metadata": {
        "colab": {
          "base_uri": "https://localhost:8080/"
        },
        "id": "YPb5-By9vJOA",
        "outputId": "d0e39747-69a2-4f00-c417-9b4bf7c159e4"
      },
      "source": [
        "pip install Gensim"
      ],
      "execution_count": 3,
      "outputs": [
        {
          "output_type": "stream",
          "text": [
            "Requirement already satisfied: Gensim in /usr/local/lib/python3.7/dist-packages (3.6.0)\n",
            "Requirement already satisfied: six>=1.5.0 in /usr/local/lib/python3.7/dist-packages (from Gensim) (1.15.0)\n",
            "Requirement already satisfied: numpy>=1.11.3 in /usr/local/lib/python3.7/dist-packages (from Gensim) (1.19.5)\n",
            "Requirement already satisfied: scipy>=0.18.1 in /usr/local/lib/python3.7/dist-packages (from Gensim) (1.4.1)\n",
            "Requirement already satisfied: smart-open>=1.2.1 in /usr/local/lib/python3.7/dist-packages (from Gensim) (3.0.0)\n",
            "Requirement already satisfied: requests in /usr/local/lib/python3.7/dist-packages (from smart-open>=1.2.1->Gensim) (2.23.0)\n",
            "Requirement already satisfied: certifi>=2017.4.17 in /usr/local/lib/python3.7/dist-packages (from requests->smart-open>=1.2.1->Gensim) (2020.12.5)\n",
            "Requirement already satisfied: chardet<4,>=3.0.2 in /usr/local/lib/python3.7/dist-packages (from requests->smart-open>=1.2.1->Gensim) (3.0.4)\n",
            "Requirement already satisfied: urllib3!=1.25.0,!=1.25.1,<1.26,>=1.21.1 in /usr/local/lib/python3.7/dist-packages (from requests->smart-open>=1.2.1->Gensim) (1.24.3)\n",
            "Requirement already satisfied: idna<3,>=2.5 in /usr/local/lib/python3.7/dist-packages (from requests->smart-open>=1.2.1->Gensim) (2.10)\n",
            "\u001b[33mWARNING: Running pip as root will break packages and permissions. You should install packages reliably by using venv: https://pip.pypa.io/warnings/venv\u001b[0m\n"
          ],
          "name": "stdout"
        }
      ]
    },
    {
      "cell_type": "code",
      "metadata": {
        "id": "FA9wDY-2d-pF"
      },
      "source": [
        "import spacy\n",
        "import gensim\n",
        "from gensim.models import Word2Vec \n",
        "from nltk.tokenize import RegexpTokenizer\n",
        "from nltk import  sent_tokenize\n",
        "from sklearn.metrics.pairwise import cosine_distances, cosine_similarity\n",
        "import numpy as np\n",
        "import pandas as pd\n",
        "from sklearn.feature_extraction.text import TfidfVectorizer"
      ],
      "execution_count": 4,
      "outputs": []
    },
    {
      "cell_type": "code",
      "metadata": {
        "id": "eBhu8gSAd_6M"
      },
      "source": [
        "nlp = spacy.load('ru_core_news_md')"
      ],
      "execution_count": 5,
      "outputs": []
    },
    {
      "cell_type": "code",
      "metadata": {
        "colab": {
          "base_uri": "https://localhost:8080/"
        },
        "id": "tOvjxp5z8ZDc",
        "outputId": "da650395-0296-42d7-efa0-d3d1d46cb203"
      },
      "source": [
        "!wget https://raw.githubusercontent.com/DmitryKutsev/cross-document_coreference/main/scraping/neuroleptic_antidepr2.txt"
      ],
      "execution_count": 6,
      "outputs": [
        {
          "output_type": "stream",
          "text": [
            "--2021-05-12 13:15:47--  https://raw.githubusercontent.com/DmitryKutsev/cross-document_coreference/main/scraping/neuroleptic_antidepr2.txt\n",
            "Resolving raw.githubusercontent.com (raw.githubusercontent.com)... 185.199.108.133, 185.199.109.133, 185.199.110.133, ...\n",
            "Connecting to raw.githubusercontent.com (raw.githubusercontent.com)|185.199.108.133|:443... connected.\n",
            "HTTP request sent, awaiting response... 200 OK\n",
            "Length: 11655409 (11M) [text/plain]\n",
            "Saving to: ‘neuroleptic_antidepr2.txt’\n",
            "\n",
            "neuroleptic_antidep 100%[===================>]  11.12M  62.3MB/s    in 0.2s    \n",
            "\n",
            "2021-05-12 13:15:48 (62.3 MB/s) - ‘neuroleptic_antidepr2.txt’ saved [11655409/11655409]\n",
            "\n"
          ],
          "name": "stdout"
        }
      ]
    },
    {
      "cell_type": "code",
      "metadata": {
        "colab": {
          "base_uri": "https://localhost:8080/"
        },
        "id": "Ql21vrWnb2qF",
        "outputId": "48bb472c-bd4d-4341-a7f4-fa072f1e2f13"
      },
      "source": [
        "!wget https://raw.githubusercontent.com/DmitryKutsev/cross-document_coreference/main/scraping/rakpobedim_ru2.txt"
      ],
      "execution_count": 7,
      "outputs": [
        {
          "output_type": "stream",
          "text": [
            "--2021-05-12 13:15:48--  https://raw.githubusercontent.com/DmitryKutsev/cross-document_coreference/main/scraping/rakpobedim_ru2.txt\n",
            "Resolving raw.githubusercontent.com (raw.githubusercontent.com)... 185.199.108.133, 185.199.109.133, 185.199.110.133, ...\n",
            "Connecting to raw.githubusercontent.com (raw.githubusercontent.com)|185.199.108.133|:443... connected.\n",
            "HTTP request sent, awaiting response... 200 OK\n",
            "Length: 19072917 (18M) [text/plain]\n",
            "Saving to: ‘rakpobedim_ru2.txt’\n",
            "\n",
            "rakpobedim_ru2.txt  100%[===================>]  18.19M  23.1MB/s    in 0.8s    \n",
            "\n",
            "2021-05-12 13:15:49 (23.1 MB/s) - ‘rakpobedim_ru2.txt’ saved [19072917/19072917]\n",
            "\n"
          ],
          "name": "stdout"
        }
      ]
    },
    {
      "cell_type": "code",
      "metadata": {
        "colab": {
          "base_uri": "https://localhost:8080/"
        },
        "id": "R0ZudIeTb22Z",
        "outputId": "5ddfdd62-3f2b-4378-c308-6b1ee1a6dcbd"
      },
      "source": [
        "!wget https://raw.githubusercontent.com/DmitryKutsev/cross-document_coreference/main/scraping/hv-info_gepatit2.txt"
      ],
      "execution_count": 8,
      "outputs": [
        {
          "output_type": "stream",
          "text": [
            "--2021-05-12 13:15:49--  https://raw.githubusercontent.com/DmitryKutsev/cross-document_coreference/main/scraping/hv-info_gepatit2.txt\n",
            "Resolving raw.githubusercontent.com (raw.githubusercontent.com)... 185.199.109.133, 185.199.110.133, 185.199.111.133, ...\n",
            "Connecting to raw.githubusercontent.com (raw.githubusercontent.com)|185.199.109.133|:443... connected.\n",
            "HTTP request sent, awaiting response... 200 OK\n",
            "Length: 18273113 (17M) [text/plain]\n",
            "Saving to: ‘hv-info_gepatit2.txt’\n",
            "\n",
            "hv-info_gepatit2.tx 100%[===================>]  17.43M  27.4MB/s    in 0.6s    \n",
            "\n",
            "2021-05-12 13:15:50 (27.4 MB/s) - ‘hv-info_gepatit2.txt’ saved [18273113/18273113]\n",
            "\n"
          ],
          "name": "stdout"
        }
      ]
    },
    {
      "cell_type": "code",
      "metadata": {
        "colab": {
          "base_uri": "https://localhost:8080/"
        },
        "id": "vpy6V0dtsM79",
        "outputId": "70bb8021-b441-4788-d3ee-32d3485c7458"
      },
      "source": [
        "!wget https://rusvectores.org/static/models/news_upos_cbow_300_2_2017.bin.gz"
      ],
      "execution_count": 9,
      "outputs": [
        {
          "output_type": "stream",
          "text": [
            "--2021-05-12 13:15:50--  https://rusvectores.org/static/models/news_upos_cbow_300_2_2017.bin.gz\n",
            "Resolving rusvectores.org (rusvectores.org)... 116.203.104.23\n",
            "Connecting to rusvectores.org (rusvectores.org)|116.203.104.23|:443... connected.\n",
            "HTTP request sent, awaiting response... 200 OK\n",
            "Length: 140310878 (134M) [application/x-gzip]\n",
            "Saving to: ‘news_upos_cbow_300_2_2017.bin.gz’\n",
            "\n",
            "news_upos_cbow_300_ 100%[===================>] 133.81M  28.2MB/s    in 5.6s    \n",
            "\n",
            "2021-05-12 13:15:56 (24.0 MB/s) - ‘news_upos_cbow_300_2_2017.bin.gz’ saved [140310878/140310878]\n",
            "\n"
          ],
          "name": "stdout"
        }
      ]
    },
    {
      "cell_type": "code",
      "metadata": {
        "id": "v3dEmsOH8eOZ"
      },
      "source": [
        "handler = open('neuroleptic_antidepr2.txt', 'r', encoding='utf-8')\n",
        "my_txt = handler.read()\n",
        "handler.close()\n"
      ],
      "execution_count": 10,
      "outputs": []
    },
    {
      "cell_type": "code",
      "metadata": {
        "id": "G4UmH2pucmxK"
      },
      "source": [
        "handler = open('hv-info_gepatit2.txt', 'r', encoding='utf-8')\n",
        "my_txt += handler.read()\n",
        "handler.close()"
      ],
      "execution_count": 11,
      "outputs": []
    },
    {
      "cell_type": "code",
      "metadata": {
        "id": "wBp9WjLNcgsJ"
      },
      "source": [
        "handler = open('rakpobedim_ru2.txt', 'r', encoding='utf-8')\n",
        "my_txt += handler.read()\n",
        "handler.close()"
      ],
      "execution_count": 12,
      "outputs": []
    },
    {
      "cell_type": "code",
      "metadata": {
        "colab": {
          "base_uri": "https://localhost:8080/"
        },
        "id": "Z_8MyfaucZxO",
        "outputId": "10fcba8c-7c1a-4462-b0ca-30c4e76a86d9"
      },
      "source": [
        "len(my_txt)"
      ],
      "execution_count": 13,
      "outputs": [
        {
          "output_type": "execute_result",
          "data": {
            "text/plain": [
              "27946773"
            ]
          },
          "metadata": {
            "tags": []
          },
          "execution_count": 13
        }
      ]
    },
    {
      "cell_type": "code",
      "metadata": {
        "id": "aiQH5Q0pZJQZ"
      },
      "source": [
        "tfidf = TfidfVectorizer(max_features=3000, ngram_range=(1,3))"
      ],
      "execution_count": 14,
      "outputs": []
    },
    {
      "cell_type": "code",
      "metadata": {
        "colab": {
          "base_uri": "https://localhost:8080/"
        },
        "id": "e410Dy9KdGqv",
        "outputId": "d3f47725-ee94-4f54-e878-ec6ba3d77778"
      },
      "source": [
        "!wget https://rusvectores.org/static/models/news_upos_cbow_300_2_2017.bin.gz"
      ],
      "execution_count": 15,
      "outputs": [
        {
          "output_type": "stream",
          "text": [
            "--2021-05-12 13:15:57--  https://rusvectores.org/static/models/news_upos_cbow_300_2_2017.bin.gz\n",
            "Resolving rusvectores.org (rusvectores.org)... 116.203.104.23\n",
            "Connecting to rusvectores.org (rusvectores.org)|116.203.104.23|:443... connected.\n",
            "HTTP request sent, awaiting response... 200 OK\n",
            "Length: 140310878 (134M) [application/x-gzip]\n",
            "Saving to: ‘news_upos_cbow_300_2_2017.bin.gz.1’\n",
            "\n",
            "news_upos_cbow_300_ 100%[===================>] 133.81M  26.9MB/s    in 5.7s    \n",
            "\n",
            "2021-05-12 13:16:03 (23.4 MB/s) - ‘news_upos_cbow_300_2_2017.bin.gz.1’ saved [140310878/140310878]\n",
            "\n"
          ],
          "name": "stdout"
        }
      ]
    },
    {
      "cell_type": "code",
      "metadata": {
        "id": "JLT6J1ua82fF"
      },
      "source": [
        "posts = my_txt.split('----')"
      ],
      "execution_count": 16,
      "outputs": []
    },
    {
      "cell_type": "code",
      "metadata": {
        "id": "zXZdM39Zzais"
      },
      "source": [
        "tokenizer = RegexpTokenizer(r'\\w+')\n",
        "sentences_tokenized = [w.lower() for w in posts]\n",
        "\n",
        "vectorized_txt = tfidf.fit_transform(sentences_tokenized)\n",
        "sentences_tokenized = [tokenizer.tokenize(i) for i in sentences_tokenized]"
      ],
      "execution_count": 17,
      "outputs": []
    },
    {
      "cell_type": "code",
      "metadata": {
        "id": "W44Ejf4ILyxP"
      },
      "source": [
        "from gensim.models import FastText\n",
        "from google.colab import files"
      ],
      "execution_count": 18,
      "outputs": []
    },
    {
      "cell_type": "code",
      "metadata": {
        "id": "H3DaCSYSLbti"
      },
      "source": [
        "ft = FastText(sentences_tokenized, size=100, window=5, min_count=5, workers=4,sg=1)"
      ],
      "execution_count": 19,
      "outputs": []
    },
    {
      "cell_type": "code",
      "metadata": {
        "id": "ZYAobGf_ubLC"
      },
      "source": [
        "ft.save('ft_model')"
      ],
      "execution_count": 21,
      "outputs": []
    },
    {
      "cell_type": "code",
      "metadata": {
        "id": "_j-FLzi4vWaM",
        "outputId": "6bceadf4-36c0-425b-9e7e-84f406406fc3",
        "colab": {
          "base_uri": "https://localhost:8080/",
          "height": 35
        }
      },
      "source": [
        "files.download('ft_model')"
      ],
      "execution_count": 22,
      "outputs": [
        {
          "output_type": "display_data",
          "data": {
            "application/javascript": [
              "\n",
              "    async function download(id, filename, size) {\n",
              "      if (!google.colab.kernel.accessAllowed) {\n",
              "        return;\n",
              "      }\n",
              "      const div = document.createElement('div');\n",
              "      const label = document.createElement('label');\n",
              "      label.textContent = `Downloading \"${filename}\": `;\n",
              "      div.appendChild(label);\n",
              "      const progress = document.createElement('progress');\n",
              "      progress.max = size;\n",
              "      div.appendChild(progress);\n",
              "      document.body.appendChild(div);\n",
              "\n",
              "      const buffers = [];\n",
              "      let downloaded = 0;\n",
              "\n",
              "      const channel = await google.colab.kernel.comms.open(id);\n",
              "      // Send a message to notify the kernel that we're ready.\n",
              "      channel.send({})\n",
              "\n",
              "      for await (const message of channel.messages) {\n",
              "        // Send a message to notify the kernel that we're ready.\n",
              "        channel.send({})\n",
              "        if (message.buffers) {\n",
              "          for (const buffer of message.buffers) {\n",
              "            buffers.push(buffer);\n",
              "            downloaded += buffer.byteLength;\n",
              "            progress.value = downloaded;\n",
              "          }\n",
              "        }\n",
              "      }\n",
              "      const blob = new Blob(buffers, {type: 'application/binary'});\n",
              "      const a = document.createElement('a');\n",
              "      a.href = window.URL.createObjectURL(blob);\n",
              "      a.download = filename;\n",
              "      div.appendChild(a);\n",
              "      a.click();\n",
              "      div.remove();\n",
              "    }\n",
              "  "
            ],
            "text/plain": [
              "<IPython.core.display.Javascript object>"
            ]
          },
          "metadata": {
            "tags": []
          }
        },
        {
          "output_type": "display_data",
          "data": {
            "application/javascript": [
              "download(\"download_ee53bb2d-4b03-4205-abcf-3e26d8f6b69e\", \"ft_model\", 93008691)"
            ],
            "text/plain": [
              "<IPython.core.display.Javascript object>"
            ]
          },
          "metadata": {
            "tags": []
          }
        }
      ]
    },
    {
      "cell_type": "code",
      "metadata": {
        "id": "wjXk9HzZL7Xi",
        "colab": {
          "base_uri": "https://localhost:8080/"
        },
        "outputId": "e3fbb7ce-0875-4874-d282-f593d7e3c534"
      },
      "source": [
        "ft.most_similar('алимемазин')"
      ],
      "execution_count": 23,
      "outputs": [
        {
          "output_type": "stream",
          "text": [
            "/usr/local/lib/python3.7/dist-packages/ipykernel_launcher.py:1: DeprecationWarning: Call to deprecated `most_similar` (Method will be removed in 4.0.0, use self.wv.most_similar() instead).\n",
            "  \"\"\"Entry point for launching an IPython kernel.\n"
          ],
          "name": "stderr"
        },
        {
          "output_type": "execute_result",
          "data": {
            "text/plain": [
              "[('левомепромазин', 0.8979489207267761),\n",
              " ('триоксазин', 0.874335527420044),\n",
              " ('пипофезин', 0.8493138551712036),\n",
              " ('ипрониазид', 0.8471090197563171),\n",
              " ('трифлуоперазин', 0.8378884196281433),\n",
              " ('хлорпромазин', 0.8374974727630615),\n",
              " ('изокарбоксазид', 0.8326647877693176),\n",
              " ('амантадин', 0.8255673050880432),\n",
              " ('зимелидин', 0.824378490447998),\n",
              " ('циннаризин', 0.8230087757110596)]"
            ]
          },
          "metadata": {
            "tags": []
          },
          "execution_count": 23
        }
      ]
    },
    {
      "cell_type": "code",
      "metadata": {
        "id": "wWOUZIx5Mu4e",
        "colab": {
          "base_uri": "https://localhost:8080/"
        },
        "outputId": "c5926890-1554-4e27-fc0c-ec9f4a2353e1"
      },
      "source": [
        "ft.wv.__getitem__('алимемазин')"
      ],
      "execution_count": 24,
      "outputs": [
        {
          "output_type": "execute_result",
          "data": {
            "text/plain": [
              "array([-0.05775867,  0.46130186,  0.38849556, -0.24214096,  0.22653395,\n",
              "       -0.07002843, -0.12172057, -0.54947907, -0.11094741, -0.3451789 ,\n",
              "       -0.42877352, -0.27495173, -0.13682874,  0.14018442, -0.43751225,\n",
              "        0.29785836, -0.15194319,  0.06956109,  0.17998223, -0.10941223,\n",
              "        0.19574946, -0.01324173, -0.42461526, -0.02078769, -0.20089838,\n",
              "       -0.07457326, -0.390331  , -0.03649953, -0.2926915 , -0.24403553,\n",
              "       -0.24678361,  0.09366226,  0.1330747 ,  0.13525921, -0.00950358,\n",
              "       -0.46540686,  0.56805336,  0.16115424,  0.4053657 ,  0.5581465 ,\n",
              "       -0.34713313,  0.11172093, -0.3003896 , -0.44697806, -0.29174685,\n",
              "       -0.13037734,  0.14267357,  0.06560019, -0.5022244 , -0.10276933,\n",
              "       -0.0485286 ,  0.22886796, -0.0031797 ,  0.00116397, -0.01978077,\n",
              "        0.0203611 , -0.34837362, -0.19621074,  0.56698763, -0.24664648,\n",
              "       -0.00816329, -0.16921383,  0.07255679, -0.14432296, -0.626815  ,\n",
              "       -0.07959672,  0.49015716,  0.11925812,  0.19290179,  0.3070443 ,\n",
              "       -0.3146155 , -0.49700764,  0.15927775,  0.08194955,  0.19151372,\n",
              "        0.26854816,  0.45441583, -0.68009865, -0.5188983 , -0.09646575,\n",
              "        0.10562927, -0.14852028,  0.5375556 , -0.289864  , -0.30424097,\n",
              "        0.3807956 ,  0.10848559,  0.16471194, -0.11173347,  0.43158045,\n",
              "       -0.2755282 ,  0.05339258,  0.14053121,  0.3120863 , -0.3332489 ,\n",
              "       -0.23546843, -0.00102578, -0.19775653,  0.10447062,  0.60794735],\n",
              "      dtype=float32)"
            ]
          },
          "metadata": {
            "tags": []
          },
          "execution_count": 24
        }
      ]
    },
    {
      "cell_type": "code",
      "metadata": {
        "id": "ZXJmNeDnFJb8"
      },
      "source": [
        "# files.download('small_fasttext60k')"
      ],
      "execution_count": 25,
      "outputs": []
    },
    {
      "cell_type": "code",
      "metadata": {
        "id": "ucjN2SXmu_qe"
      },
      "source": [
        "# w2v = gensim.models.KeyedVectors.load_word2vec_format('news_upos_cbow_300_2_2017.bin.gz', binary=True)"
      ],
      "execution_count": 26,
      "outputs": []
    },
    {
      "cell_type": "code",
      "metadata": {
        "id": "Ufr_mUmQwc_3"
      },
      "source": [
        "# model = Word2Vec(size=300, min_count=1)\n",
        "# model.build_vocab(sentences_tokenized)\n",
        "# total_examples = model.corpus_count\n",
        "# model.build_vocab([list(w2v.vocab.keys())], update=True)\n",
        "# model.intersect_word2vec_format(\"news_upos_cbow_300_2_2017.bin.gz\", binary=True)\n",
        "# model.train(sentences_tokenized, total_examples=total_examples, epochs=model.iter)"
      ],
      "execution_count": 27,
      "outputs": []
    },
    {
      "cell_type": "code",
      "metadata": {
        "id": "sXFz2x3vNSmI",
        "colab": {
          "base_uri": "https://localhost:8080/"
        },
        "outputId": "4b5060bf-a0cf-4308-b846-63176dc63e73"
      },
      "source": [
        "cosine_similarity(np.atleast_2d(ft.wv.get_vector('алимемазин')), \\\n",
        "                  np.atleast_2d(ft.wv.get_vector('азалептин')))[0][0]"
      ],
      "execution_count": 28,
      "outputs": [
        {
          "output_type": "execute_result",
          "data": {
            "text/plain": [
              "0.6998119"
            ]
          },
          "metadata": {
            "tags": []
          },
          "execution_count": 28
        }
      ]
    },
    {
      "cell_type": "code",
      "metadata": {
        "id": "cSaPsAMzNXcq",
        "colab": {
          "base_uri": "https://localhost:8080/"
        },
        "outputId": "da4c8811-82f3-44b0-aa2d-4e837552d239"
      },
      "source": [
        "cosine_similarity(np.atleast_2d(ft.wv.get_vector('алимемазин')), \\\n",
        "                  np.atleast_2d(ft.wv.get_vector('стул')))[0][0]"
      ],
      "execution_count": 29,
      "outputs": [
        {
          "output_type": "execute_result",
          "data": {
            "text/plain": [
              "0.30082676"
            ]
          },
          "metadata": {
            "tags": []
          },
          "execution_count": 29
        }
      ]
    },
    {
      "cell_type": "code",
      "metadata": {
        "id": "sWfPCgbmNw3n",
        "colab": {
          "base_uri": "https://localhost:8080/"
        },
        "outputId": "6a3fc5ef-7cee-4ce7-b7c0-5d087aa6726e"
      },
      "source": [
        "cosine_similarity(np.atleast_2d(ft.wv.get_vector('дак')), \\\n",
        "                  np.atleast_2d(ft.wv.get_vector('соф')))[0][0]"
      ],
      "execution_count": 30,
      "outputs": [
        {
          "output_type": "execute_result",
          "data": {
            "text/plain": [
              "0.90550596"
            ]
          },
          "metadata": {
            "tags": []
          },
          "execution_count": 30
        }
      ]
    },
    {
      "cell_type": "code",
      "metadata": {
        "id": "zC3kW8hY5LNN",
        "colab": {
          "base_uri": "https://localhost:8080/"
        },
        "outputId": "770ff9fb-00b6-43e2-f166-55fc289f25df"
      },
      "source": [
        "cosine_similarity(np.atleast_2d(ft.wv.get_vector('дак')), \\\n",
        "                  np.atleast_2d(ft.wv.get_vector('софосбувир')))[0][0]"
      ],
      "execution_count": 31,
      "outputs": [
        {
          "output_type": "execute_result",
          "data": {
            "text/plain": [
              "0.5476695"
            ]
          },
          "metadata": {
            "tags": []
          },
          "execution_count": 31
        }
      ]
    },
    {
      "cell_type": "code",
      "metadata": {
        "id": "nDMJTQnwNlWN",
        "colab": {
          "base_uri": "https://localhost:8080/"
        },
        "outputId": "0099d8b3-a309-4fda-99d5-cf162be545ac"
      },
      "source": [
        "cosine_similarity(np.atleast_2d(ft.wv.get_vector('соф')), \\\n",
        "                  np.atleast_2d(ft.wv.get_vector('софосбувир')))[0][0]"
      ],
      "execution_count": 32,
      "outputs": [
        {
          "output_type": "execute_result",
          "data": {
            "text/plain": [
              "0.52093095"
            ]
          },
          "metadata": {
            "tags": []
          },
          "execution_count": 32
        }
      ]
    },
    {
      "cell_type": "code",
      "metadata": {
        "id": "H3YeIYgLf9o2"
      },
      "source": [
        "# Модель есть, теперь надо набрать корпус из трех форумов примерно поровну, и чтобы не помереть при разметке."
      ],
      "execution_count": 33,
      "outputs": []
    },
    {
      "cell_type": "markdown",
      "metadata": {
        "id": "2sdy4JIXW_Ld"
      },
      "source": [
        "СОВСЕМ НЕМНОЖКО, для начала!!\n"
      ]
    },
    {
      "cell_type": "code",
      "metadata": {
        "id": "SPnaS6Vq3Hxz"
      },
      "source": [
        "short_txt = \" \"\n",
        "handler = open('neuroleptic_antidepr2.txt', 'r', encoding='utf-8')\n",
        "short_txt = handler.read()[:60000]\n",
        "handler.close()\n",
        "\n",
        "handler = open('rakpobedim_ru2.txt', 'r', encoding='utf-8')\n",
        "short_txt += handler.read()[:60000]\n",
        "handler.close()\n",
        "\n",
        "handler = open('hv-info_gepatit2.txt', 'r', encoding='utf-8')\n",
        "short_txt += handler.read()[:60000]\n",
        "handler.close()"
      ],
      "execution_count": 48,
      "outputs": []
    },
    {
      "cell_type": "code",
      "metadata": {
        "colab": {
          "base_uri": "https://localhost:8080/"
        },
        "id": "WISiAodR9MvG",
        "outputId": "72486286-c6b2-460c-9715-f0422619fed8"
      },
      "source": [
        "len(short_txt)"
      ],
      "execution_count": 49,
      "outputs": [
        {
          "output_type": "execute_result",
          "data": {
            "text/plain": [
              "180000"
            ]
          },
          "metadata": {
            "tags": []
          },
          "execution_count": 49
        }
      ]
    },
    {
      "cell_type": "code",
      "metadata": {
        "colab": {
          "base_uri": "https://localhost:8080/"
        },
        "id": "11jQB9ave4EV",
        "outputId": "b8f88a3d-5a6c-4596-b199-ebd7b362fcb9"
      },
      "source": [
        "import nltk\n",
        "nltk.download('punkt')"
      ],
      "execution_count": 50,
      "outputs": [
        {
          "output_type": "stream",
          "text": [
            "[nltk_data] Downloading package punkt to /root/nltk_data...\n",
            "[nltk_data]   Package punkt is already up-to-date!\n"
          ],
          "name": "stdout"
        },
        {
          "output_type": "execute_result",
          "data": {
            "text/plain": [
              "True"
            ]
          },
          "metadata": {
            "tags": []
          },
          "execution_count": 50
        }
      ]
    },
    {
      "cell_type": "code",
      "metadata": {
        "id": "F-3v3Ee47avH"
      },
      "source": [
        "import pymorphy2\n",
        "morph = pymorphy2.MorphAnalyzer()"
      ],
      "execution_count": 51,
      "outputs": []
    },
    {
      "cell_type": "code",
      "metadata": {
        "colab": {
          "base_uri": "https://localhost:8080/"
        },
        "id": "TjqqQEOB0XaO",
        "outputId": "773304b0-f549-41c0-c37c-c57a29d89111"
      },
      "source": [
        "sample = 'он'\n",
        "print('Одуш', morph.parse(sample)[0].tag.animacy)\n",
        "print('Падеж', morph.parse(sample)[0].tag.case )\n",
        "print('Пол', morph.parse(sample)[0].tag.gender)\n",
        "print('Число', morph.parse(sample)[0].tag.number)\n",
        "print('Лицо', morph.parse(sample)[0].tag.person)\n",
        "print('Часть речи', morph.parse(sample)[0].tag.POS)\n",
        "print('Время', morph.parse(sample)[0].tag.tense)\n",
        "print('Залог', morph.parse(sample)[0].tag.voice)\n",
        "\n"
      ],
      "execution_count": 52,
      "outputs": [
        {
          "output_type": "stream",
          "text": [
            "Одуш None\n",
            "Падеж nomn\n",
            "Пол masc\n",
            "Число sing\n",
            "Лицо 3per\n",
            "Часть речи NPRO\n",
            "Время None\n",
            "Залог None\n"
          ],
          "name": "stdout"
        }
      ]
    },
    {
      "cell_type": "code",
      "metadata": {
        "colab": {
          "base_uri": "https://localhost:8080/"
        },
        "id": "zLk-dMgV7Ucy",
        "outputId": "4085adaa-28a5-482a-8074-ec089107f2a6"
      },
      "source": [
        "aa = morph.parse(sample)[0]\n",
        "print(aa.tag)"
      ],
      "execution_count": 53,
      "outputs": [
        {
          "output_type": "stream",
          "text": [
            "NPRO,masc,3per,Anph sing,nomn\n"
          ],
          "name": "stdout"
        }
      ]
    },
    {
      "cell_type": "code",
      "metadata": {
        "id": "ztjqE_Mu04w3",
        "colab": {
          "base_uri": "https://localhost:8080/"
        },
        "outputId": "9a644172-4196-40d7-ad68-a18e2120210a"
      },
      "source": [
        "doc = nlp('У меня практически нет никаких проблем, и в частности, с лекарством.')\n",
        "for token in doc:\n",
        "    print(token.text, token.dep_, token.head.text, token.head.pos_, \n",
        "            [child for child in token.children], morph.parse(token.text)[0].tag,\n",
        "          [child for child in token.head.children])\n"
      ],
      "execution_count": 54,
      "outputs": [
        {
          "output_type": "stream",
          "text": [
            "У case меня PRON [] PREP [У]\n",
            "меня obl нет VERB [У] NPRO,1per sing,accs [меня, практически, проблем, лекарством, .]\n",
            "практически advmod нет VERB [] ADVB [меня, практически, проблем, лекарством, .]\n",
            "нет ROOT нет VERB [меня, практически, проблем, лекарством, .] PRED,pres [меня, практически, проблем, лекарством, .]\n",
            "никаких det проблем NOUN [] ADJF,Apro plur,gent [никаких]\n",
            "проблем nsubj нет VERB [никаких] NOUN,inan,femn plur,gent [меня, практически, проблем, лекарством, .]\n",
            ", punct лекарством NOUN [] PNCT [,, и, в, с]\n",
            "и cc лекарством NOUN [] CONJ [,, и, в, с]\n",
            "в discourse лекарством NOUN [частности, ,] PREP [,, и, в, с]\n",
            "частности fixed в ADP [] NOUN,inan,femn sing,loct [частности, ,]\n",
            ", punct в ADP [] PNCT [частности, ,]\n",
            "с case лекарством NOUN [] PREP [,, и, в, с]\n",
            "лекарством conj нет VERB [,, и, в, с] NOUN,inan,neut sing,ablt [меня, практически, проблем, лекарством, .]\n",
            ". punct нет VERB [] PNCT [меня, практически, проблем, лекарством, .]\n"
          ],
          "name": "stdout"
        }
      ]
    },
    {
      "cell_type": "code",
      "metadata": {
        "colab": {
          "base_uri": "https://localhost:8080/"
        },
        "id": "4dd4UU-Dde0K",
        "outputId": "75157b43-5f40-41fd-da09-a72f3ae9009c"
      },
      "source": [
        "doc = nlp('У меня практически нет никаких проблем, и в частности, с лекарством.')\n",
        "for token in doc:\n",
        "    print(token.text, token.dep_, token.head.text, token.head.pos_,\n",
        "            [child for child in token.children], morph.parse(token.text)[0].tag,\n",
        "          [child for child in token.head.children],)\n"
      ],
      "execution_count": 55,
      "outputs": [
        {
          "output_type": "stream",
          "text": [
            "У case меня PRON [] PREP [У]\n",
            "меня obl нет VERB [У] NPRO,1per sing,accs [меня, практически, проблем, лекарством, .]\n",
            "практически advmod нет VERB [] ADVB [меня, практически, проблем, лекарством, .]\n",
            "нет ROOT нет VERB [меня, практически, проблем, лекарством, .] PRED,pres [меня, практически, проблем, лекарством, .]\n",
            "никаких det проблем NOUN [] ADJF,Apro plur,gent [никаких]\n",
            "проблем nsubj нет VERB [никаких] NOUN,inan,femn plur,gent [меня, практически, проблем, лекарством, .]\n",
            ", punct лекарством NOUN [] PNCT [,, и, в, с]\n",
            "и cc лекарством NOUN [] CONJ [,, и, в, с]\n",
            "в discourse лекарством NOUN [частности, ,] PREP [,, и, в, с]\n",
            "частности fixed в ADP [] NOUN,inan,femn sing,loct [частности, ,]\n",
            ", punct в ADP [] PNCT [частности, ,]\n",
            "с case лекарством NOUN [] PREP [,, и, в, с]\n",
            "лекарством conj нет VERB [,, и, в, с] NOUN,inan,neut sing,ablt [меня, практически, проблем, лекарством, .]\n",
            ". punct нет VERB [] PNCT [меня, практически, проблем, лекарством, .]\n"
          ],
          "name": "stdout"
        }
      ]
    },
    {
      "cell_type": "code",
      "metadata": {
        "id": "DOm7fPDO8AMI",
        "colab": {
          "base_uri": "https://localhost:8080/"
        },
        "outputId": "42e2cca0-7460-4fc4-b361-6c43272ef131"
      },
      "source": [
        "sample = 'он'\n",
        "print('Одуш', morph.parse(sample)[0].tag.animacy)\n",
        "print('Падеж', morph.parse(sample)[0].tag.case )\n",
        "print('Пол', morph.parse(sample)[0].tag.gender)\n",
        "print('Число', morph.parse(sample)[0].tag.number)\n",
        "print('Лицо', morph.parse(sample)[0].tag.person)\n",
        "print('Часть речи', morph.parse(sample)[0].tag.POS)\n",
        "print('Время', morph.parse(sample)[0].tag.tense)\n",
        "print('Залог', morph.parse(sample)[0].tag.voice)\n"
      ],
      "execution_count": 56,
      "outputs": [
        {
          "output_type": "stream",
          "text": [
            "Одуш None\n",
            "Падеж nomn\n",
            "Пол masc\n",
            "Число sing\n",
            "Лицо 3per\n",
            "Часть речи NPRO\n",
            "Время None\n",
            "Залог None\n"
          ],
          "name": "stdout"
        }
      ]
    },
    {
      "cell_type": "markdown",
      "metadata": {
        "id": "ku0NMgIJomMR"
      },
      "source": [
        "***Разметка для кореференции***"
      ]
    },
    {
      "cell_type": "code",
      "metadata": {
        "id": "Fsph7ljhaSyu"
      },
      "source": [
        "topic_list = short_txt.split('\\nTOPIC')"
      ],
      "execution_count": 76,
      "outputs": []
    },
    {
      "cell_type": "code",
      "metadata": {
        "id": "gFVyrTNBrxHq",
        "outputId": "d25a349c-483a-41c5-b391-faa3ed7a525a",
        "colab": {
          "base_uri": "https://localhost:8080/"
        }
      },
      "source": [
        "import re\n",
        "print(re.search(r'[A-Za-zА-Яа-я]', ','))"
      ],
      "execution_count": 77,
      "outputs": [
        {
          "output_type": "stream",
          "text": [
            "None\n"
          ],
          "name": "stdout"
        }
      ]
    },
    {
      "cell_type": "code",
      "metadata": {
        "id": "q3ETC8YL4msn"
      },
      "source": [
        "# sentences_tokenized = [w.lower() for w in short_posts]\n",
        "# sentences_tokenized = [tokenizer.tokenize(i) for i in sentences_tokenized]\n",
        "# sentences_tokenized[2]"
      ],
      "execution_count": 78,
      "outputs": []
    },
    {
      "cell_type": "code",
      "metadata": {
        "id": "09ZSqQ2CBRaU",
        "outputId": "47c98f65-47ab-4ca1-def3-0a27c196903a",
        "colab": {
          "base_uri": "https://localhost:8080/",
          "height": 126
        }
      },
      "source": [
        "topic_list[1]"
      ],
      "execution_count": 79,
      "outputs": [
        {
          "output_type": "execute_result",
          "data": {
            "application/vnd.google.colaboratory.intrinsic+json": {
              "type": "string"
            },
            "text/plain": [
              "'\\nОбсуждаем препарат Рисперидон (Рисполепт, Сперидан)\\n----\\nНЕ знаю, стоило ли мне писать. У меня практически нет никаких проблем, и в частности, с лекарством. По крайней мере врач говорит, что всё идёт как надо. У меня с детства бывают состояния, когда я без видимых причин впадаю в панику, не управляю своими действиями. Странное беспокойство может продолжаться от нескольких мгновений до нескольких суток. Как-то удавалось жить и с этим мириться. Каждый раз, придя в себя, вынуждена придумывать для окружающих более или менее правдоподобное оправдание своим поступкам. Чувствую себя сторонним наблюдателем собственной жизни. В определённый момент страхи стали в основном связаны с учёбой (а ещё с общением). На последнем курсе училища всё это вылилось в невозможность в общем потоке сдать экзамены.\\nОбратились к врачу. Со стороны родителей это делалось с большой неохотой. От чего меня лечат, не уточнили. После пары \"вводных бесед\" назначили небольшую дозировку рисполепта (сказали \"для начала\"...). Принимаю несколько дней. Меня, конечно предупреждали, что появится заторможенность, рассеянность, возможно придётся больше спать. Результат превзошёл ожидания: ужасно кружится голова, руки трясутся, ноги не слушаются. Боюсь пройти по квартире, брать в руки вещи, чтобы ничего не сломать (инцеденты уже были). Рассеянность - Ухитрилась заблудиться возле собственного дома!\\nВрач велела больше спать. Но я сплю как обычно и не часом больше.\\nЖдать ли мне положительных результатов или я просто дура, что подсела на таблетки (так говорят все родственники)?\\n\\nПрошу прощения за такой пространный рассказ о жизни.\\nВпервые решила воспользоваться форумом, ещё нет опыта.\\nЛюди! Если даже я беспокою вас впустую! Если кто-нибудь есть неравнодушный, Будет время - посоветуйте, как мне реагировать на происходящее, что можно почитать на эту тему.\\nМожет, я выбрала не ту тему, чтобы писать в форум. И снова прошу прощения, если таковое возможно.\\n----\\nНадо подумать... сказал(а)\\nЖдать ли мне положительных результатов или я просто дура, что подсела на таблетки (так говорят все родственники)?\\nИсходя из написанного Вами, проблемы все-таки достаточно серьезные, и, видимо, требуют именно психофармакотерапии. Так что таблетки нужны. Но вот какие именно, подбирать дозу, учитывать побочные эффекты - это все должен делать лечащий врач. В принципе, те эффекты, которые Вы описали, могут быть при приеме рисполепта. Эти побочные эффекты могут проходить через несколько дней после начала лечения, могут требовать коррекции дозы, назначение корректоров нейролептической терапии или смены препарата.\\nP.S. Напишите, пожалуйста, как себя чувствуете сейчас? Есть какие-то изменения?\\n----\\nА почему именно назначили рисперидон?! У Вас вероятно наблюдается снижение АД, связанное в адреноблоеирующими свойствами препарата.\\nФлюанксол в низких дозировках, вероятно, мог быть благоприятнее.\\n----\\nПочему-же надо было начинать с тяжелой артиллерии Сонапакс с тормозным компонентом для начала был бы неплох\\n----\\nоднозначно хороший препарат, особенно при лечении параноидной шизофрении.\\n----\\nК сожалению препарат не впечатляет! На нем у меня одна пациентка суициднула! Между рисполептом и азалептином я отдаю преимущество последнему!\\n----\\nподелюсь своими впечатлениями: при биполярном аффективном расстройстве препарат хорошо снимает вязкость мыслей, препятствует образованию бредовых идей, и, как ни странно, приводит к лучшему засыпанию. но основная проблема - это его влияние на повышение пролактина и образование пролактиномы гипофиза. эта проблема у меня проявилась. пришлось принимать бромкриптин - пролактин в норму вошёл, а уменьшилась ли микроаденома ещё не знаю. от рисполепта отказалась на свой страх и риск.\\nесли кто-то здесь сталкивался с гормональными проблемами - поделитесь, пожалуйста, вашим опытом.\\n----\\nКто-нибудь применяет дженерик Торендо ?\\nКакие клинические наблюдения есть?\\n----\\nпробовали знаем. лечили меня рисполептом после санопакса и паксила. side effects один в один как у автора ветки. бросал потом начинал опять не выдержал в итоге и бросил пить окончательно тк от навязчивых мыслей он не избавил а существование отравил еще как\\n----\\n'"
            ]
          },
          "metadata": {
            "tags": []
          },
          "execution_count": 79
        }
      ]
    },
    {
      "cell_type": "code",
      "metadata": {
        "id": "-_WJFXZm_Lwu"
      },
      "source": [
        "post_list = []\n",
        "sent_list = []\n",
        "for topic_num, topic in enumerate(topic_list):\n",
        "  for post_num, post in enumerate(topic.split('----')):\n",
        "    for sent_num, sent in enumerate(sent_tokenize(post)):\n",
        "      # sent_list.append((tokenizer.tokenize(sent.lower()), sent_num, post_num, topic_num))\n",
        "      if sent.lower():\n",
        "        sent_list.append((sent.lower(), sent_num, post_num, topic_num))\n",
        "# post_list[35] # quote"
      ],
      "execution_count": 80,
      "outputs": []
    },
    {
      "cell_type": "code",
      "metadata": {
        "id": "gntQTQ0p2apw",
        "outputId": "3c1b4e05-5306-4ff0-c64d-7910b2f51e52",
        "colab": {
          "base_uri": "https://localhost:8080/"
        }
      },
      "source": [
        "len(sent_list)"
      ],
      "execution_count": 81,
      "outputs": [
        {
          "output_type": "execute_result",
          "data": {
            "text/plain": [
              "2243"
            ]
          },
          "metadata": {
            "tags": []
          },
          "execution_count": 81
        }
      ]
    },
    {
      "cell_type": "code",
      "metadata": {
        "id": "esN_Oldp7sJj",
        "outputId": "6171f238-d1ba-43a2-c0fa-27db391b4d26",
        "colab": {
          "base_uri": "https://localhost:8080/"
        }
      },
      "source": [
        "sent_list[0][1]"
      ],
      "execution_count": 96,
      "outputs": [
        {
          "output_type": "execute_result",
          "data": {
            "text/plain": [
              "0"
            ]
          },
          "metadata": {
            "tags": []
          },
          "execution_count": 96
        }
      ]
    },
    {
      "cell_type": "code",
      "metadata": {
        "id": "YaCmridtEUhP",
        "outputId": "bc8c7e48-1e00-4886-8c8b-e3319ca39207",
        "colab": {
          "base_uri": "https://localhost:8080/"
        }
      },
      "source": [
        "sent_list[10:15]"
      ],
      "execution_count": 82,
      "outputs": [
        {
          "output_type": "execute_result",
          "data": {
            "text/plain": [
              "[('на последнем курсе училища всё это вылилось в невозможность в общем потоке сдать экзамены.',\n",
              "  9,\n",
              "  1,\n",
              "  1),\n",
              " ('обратились к врачу.', 10, 1, 1),\n",
              " ('со стороны родителей это делалось с большой неохотой.', 11, 1, 1),\n",
              " ('от чего меня лечат, не уточнили.', 12, 1, 1),\n",
              " ('после пары \"вводных бесед\" назначили небольшую дозировку рисполепта (сказали \"для начала\"...).',\n",
              "  13,\n",
              "  1,\n",
              "  1)]"
            ]
          },
          "metadata": {
            "tags": []
          },
          "execution_count": 82
        }
      ]
    },
    {
      "cell_type": "code",
      "metadata": {
        "id": "i13--Gw9pASO"
      },
      "source": [
        "coref_df = pd.DataFrame(columns=['TOKEN', 'TOKEN_VECT', 'TOPIC_NUM', 'POST_NUM', 'SENT_NUM', 'ANIMACY', 'CASE', 'GENDER', 'PERSON', 'POS', 'DEPENDENCY', 'HEAD',\n",
        "                                  'HEAD_ANIMACY', 'HEAD_CASE', 'HEAD_GENDER',  'HEAD_POS', 'HEAD_VECT', 'SENT_VECT', 'HEAD_CHILDS_VECT', 'NER',\n",
        "                                 'COREFERENCE_CLUSTER', ])"
      ],
      "execution_count": 112,
      "outputs": []
    },
    {
      "cell_type": "code",
      "metadata": {
        "id": "W2fyFOMJ2gf6",
        "outputId": "95924958-4498-4914-d631-e775c245c56a",
        "colab": {
          "base_uri": "https://localhost:8080/",
          "height": 431
        }
      },
      "source": [
        "for sent_info in sent_list:\n",
        "\n",
        "  topic_num = sent_info[3]\n",
        "  post_num = sent_info[2]\n",
        "  sent_num = sent_info[1]\n",
        "\n",
        "  sent = sent_info[0]\n",
        "  sent_tokens = tokenizer.tokenize(sent)\n",
        "  spacy_tokens = nlp(sent)\n",
        "\n",
        "  sent_vector = 0\n",
        "  for token in sent_tokens:\n",
        "    sent_vector += ft.wv.__getitem__(token.lower())\n",
        "    sent_vector = sent_vector/len(sent_tokens) if len(sent_tokens) > 0 else 0\n",
        "  \n",
        "  for token in spacy_tokens:\n",
        "    # if re.search(r'[A-Za-zА-Яа-я]', token.text):\n",
        "    if tokenizer.tokenize(token.text):\n",
        "        morphy = morph.parse(token.text)[0]\n",
        "\n",
        "        app_dict = {}\n",
        "        app_dict['TOKEN'] = token.text\n",
        "        try:\n",
        "          app_dict['TOKEN_VECT'] = ft.wv.__getitem__(token.text.lower()) if token.text else None\n",
        "        except KeyError:\n",
        "          print(token.text.lower(), 'O__o')\n",
        "\n",
        "        app_dict['TOPIC_NUM'] = topic_num \n",
        "        app_dict['POST_NUM'] = post_num \n",
        "        app_dict['SENT_NUM'] = sent_num \n",
        "\n",
        "        app_dict['ANIMACY'] = morphy.tag.animacy\n",
        "        app_dict['CASE'] = morphy.tag.case\n",
        "        app_dict['GENDER'] = morphy.tag.gender\n",
        "        app_dict['PERSON'] = morphy.tag.person\n",
        "        app_dict['POS'] = morphy.tag.POS\n",
        "        app_dict['DEPENDENCY'] = token.dep_ \n",
        "\n",
        "        app_dict['HEAD'] = token.head.text\n",
        "        try:\n",
        "          app_dict['HEAD_VECT'] = ft.wv.__getitem__(token.head.text.lower()) if token.head.text else '-'\n",
        "        except KeyError:\n",
        "          app_dict['HEAD_VECT'] = None\n",
        "          print(token.head.text.lower(), 'here')\n",
        "        app_dict['HEAD_POS'] = token.head.pos_\n",
        "        morphy = morph.parse(token.head.text)[0]\n",
        "        app_dict['HEAD_ANIMACY'] = morphy.tag.animacy\n",
        "        app_dict['HEAD_CASE'] = morphy.tag.case \n",
        "        app_dict['HEAD_GENDER'] = morphy.tag.gender \n",
        "        # app_dict['HEAD_PERSON'] = morphy.tag.person or '-'\n",
        "        app_dict['HEAD_POS'] = morphy.tag.POS\n",
        "        app_dict['SENT_VECT'] = sent_vector\n",
        "        try:\n",
        "          if token.head.children:\n",
        "            app_dict['HEAD_CHILDS_VECT'] = 0\n",
        "            for child in token.head.children:\n",
        "              if re.search(r'[A-Za-zА-Яа-я]', child.text):\n",
        "                app_dict['HEAD_CHILDS_VECT'] += ft[child.text.lower()]\n",
        "            if list(token.head.children):\n",
        "              app_dict['HEAD_CHILDS_VECT'] = app_dict['HEAD_CHILDS_VECT']/len(list(token.head.children))\n",
        "        except (KeyError, ZeroDivisionError):\n",
        "          print(child.text.lower(), 'end')\n",
        "\n",
        "        app_dict['NER'] = 0\n",
        "        app_dict['COREFERENCE_CLUSTER'] = 0\n",
        "        coref_df = coref_df.append(app_dict, ignore_index=True)  \n",
        "    \n"
      ],
      "execution_count": 113,
      "outputs": [
        {
          "output_type": "stream",
          "text": [
            "/usr/local/lib/python3.7/dist-packages/ipykernel_launcher.py:58: DeprecationWarning: Call to deprecated `__getitem__` (Method will be removed in 4.0.0, use self.wv.__getitem__() instead).\n"
          ],
          "name": "stderr"
        },
        {
          "output_type": "error",
          "ename": "KeyboardInterrupt",
          "evalue": "ignored",
          "traceback": [
            "\u001b[0;31m---------------------------------------------------------------------------\u001b[0m",
            "\u001b[0;31mKeyboardInterrupt\u001b[0m                         Traceback (most recent call last)",
            "\u001b[0;32m<ipython-input-113-5b359a9bb6fc>\u001b[0m in \u001b[0;36m<module>\u001b[0;34m()\u001b[0m\n\u001b[1;32m     64\u001b[0m         \u001b[0mapp_dict\u001b[0m\u001b[0;34m[\u001b[0m\u001b[0;34m'NER'\u001b[0m\u001b[0;34m]\u001b[0m \u001b[0;34m=\u001b[0m \u001b[0;36m0\u001b[0m\u001b[0;34m\u001b[0m\u001b[0;34m\u001b[0m\u001b[0m\n\u001b[1;32m     65\u001b[0m         \u001b[0mapp_dict\u001b[0m\u001b[0;34m[\u001b[0m\u001b[0;34m'COREFERENCE_CLUSTER'\u001b[0m\u001b[0;34m]\u001b[0m \u001b[0;34m=\u001b[0m \u001b[0;36m0\u001b[0m\u001b[0;34m\u001b[0m\u001b[0;34m\u001b[0m\u001b[0m\n\u001b[0;32m---> 66\u001b[0;31m         \u001b[0mcoref_df\u001b[0m \u001b[0;34m=\u001b[0m \u001b[0mcoref_df\u001b[0m\u001b[0;34m.\u001b[0m\u001b[0mappend\u001b[0m\u001b[0;34m(\u001b[0m\u001b[0mapp_dict\u001b[0m\u001b[0;34m,\u001b[0m \u001b[0mignore_index\u001b[0m\u001b[0;34m=\u001b[0m\u001b[0;32mTrue\u001b[0m\u001b[0;34m)\u001b[0m\u001b[0;34m\u001b[0m\u001b[0;34m\u001b[0m\u001b[0m\n\u001b[0m\u001b[1;32m     67\u001b[0m \u001b[0;34m\u001b[0m\u001b[0m\n",
            "\u001b[0;32m/usr/local/lib/python3.7/dist-packages/pandas/core/frame.py\u001b[0m in \u001b[0;36mappend\u001b[0;34m(self, other, ignore_index, verify_integrity, sort)\u001b[0m\n\u001b[1;32m   7724\u001b[0m                 \u001b[0mcombined_columns\u001b[0m \u001b[0;34m=\u001b[0m \u001b[0mself\u001b[0m\u001b[0;34m.\u001b[0m\u001b[0mcolumns\u001b[0m\u001b[0;34m.\u001b[0m\u001b[0mastype\u001b[0m\u001b[0;34m(\u001b[0m\u001b[0mobject\u001b[0m\u001b[0;34m)\u001b[0m\u001b[0;34m.\u001b[0m\u001b[0mappend\u001b[0m\u001b[0;34m(\u001b[0m\u001b[0midx_diff\u001b[0m\u001b[0;34m)\u001b[0m\u001b[0;34m\u001b[0m\u001b[0;34m\u001b[0m\u001b[0m\n\u001b[1;32m   7725\u001b[0m             other = (\n\u001b[0;32m-> 7726\u001b[0;31m                 \u001b[0mother\u001b[0m\u001b[0;34m.\u001b[0m\u001b[0mreindex\u001b[0m\u001b[0;34m(\u001b[0m\u001b[0mcombined_columns\u001b[0m\u001b[0;34m,\u001b[0m \u001b[0mcopy\u001b[0m\u001b[0;34m=\u001b[0m\u001b[0;32mFalse\u001b[0m\u001b[0;34m)\u001b[0m\u001b[0;34m\u001b[0m\u001b[0;34m\u001b[0m\u001b[0m\n\u001b[0m\u001b[1;32m   7727\u001b[0m                 \u001b[0;34m.\u001b[0m\u001b[0mto_frame\u001b[0m\u001b[0;34m(\u001b[0m\u001b[0;34m)\u001b[0m\u001b[0;34m\u001b[0m\u001b[0;34m\u001b[0m\u001b[0m\n\u001b[1;32m   7728\u001b[0m                 \u001b[0;34m.\u001b[0m\u001b[0mT\u001b[0m\u001b[0;34m.\u001b[0m\u001b[0minfer_objects\u001b[0m\u001b[0;34m(\u001b[0m\u001b[0;34m)\u001b[0m\u001b[0;34m\u001b[0m\u001b[0;34m\u001b[0m\u001b[0m\n",
            "\u001b[0;32m/usr/local/lib/python3.7/dist-packages/pandas/core/generic.py\u001b[0m in \u001b[0;36minfer_objects\u001b[0;34m(self)\u001b[0m\n\u001b[1;32m   5763\u001b[0m         return self._constructor(\n\u001b[1;32m   5764\u001b[0m             self._mgr.convert(\n\u001b[0;32m-> 5765\u001b[0;31m                 \u001b[0mdatetime\u001b[0m\u001b[0;34m=\u001b[0m\u001b[0;32mTrue\u001b[0m\u001b[0;34m,\u001b[0m \u001b[0mnumeric\u001b[0m\u001b[0;34m=\u001b[0m\u001b[0;32mFalse\u001b[0m\u001b[0;34m,\u001b[0m \u001b[0mtimedelta\u001b[0m\u001b[0;34m=\u001b[0m\u001b[0;32mTrue\u001b[0m\u001b[0;34m,\u001b[0m \u001b[0mcoerce\u001b[0m\u001b[0;34m=\u001b[0m\u001b[0;32mFalse\u001b[0m\u001b[0;34m,\u001b[0m \u001b[0mcopy\u001b[0m\u001b[0;34m=\u001b[0m\u001b[0;32mTrue\u001b[0m\u001b[0;34m\u001b[0m\u001b[0;34m\u001b[0m\u001b[0m\n\u001b[0m\u001b[1;32m   5766\u001b[0m             )\n\u001b[1;32m   5767\u001b[0m         ).__finalize__(self, method=\"infer_objects\")\n",
            "\u001b[0;32m/usr/local/lib/python3.7/dist-packages/pandas/core/internals/managers.py\u001b[0m in \u001b[0;36mconvert\u001b[0;34m(self, copy, datetime, numeric, timedelta, coerce)\u001b[0m\n\u001b[1;32m    618\u001b[0m             \u001b[0mnumeric\u001b[0m\u001b[0;34m=\u001b[0m\u001b[0mnumeric\u001b[0m\u001b[0;34m,\u001b[0m\u001b[0;34m\u001b[0m\u001b[0;34m\u001b[0m\u001b[0m\n\u001b[1;32m    619\u001b[0m             \u001b[0mtimedelta\u001b[0m\u001b[0;34m=\u001b[0m\u001b[0mtimedelta\u001b[0m\u001b[0;34m,\u001b[0m\u001b[0;34m\u001b[0m\u001b[0;34m\u001b[0m\u001b[0m\n\u001b[0;32m--> 620\u001b[0;31m             \u001b[0mcoerce\u001b[0m\u001b[0;34m=\u001b[0m\u001b[0mcoerce\u001b[0m\u001b[0;34m,\u001b[0m\u001b[0;34m\u001b[0m\u001b[0;34m\u001b[0m\u001b[0m\n\u001b[0m\u001b[1;32m    621\u001b[0m         )\n\u001b[1;32m    622\u001b[0m \u001b[0;34m\u001b[0m\u001b[0m\n",
            "\u001b[0;32m/usr/local/lib/python3.7/dist-packages/pandas/core/internals/managers.py\u001b[0m in \u001b[0;36mapply\u001b[0;34m(self, f, align_keys, **kwargs)\u001b[0m\n\u001b[1;32m    407\u001b[0m                 \u001b[0mapplied\u001b[0m \u001b[0;34m=\u001b[0m \u001b[0mb\u001b[0m\u001b[0;34m.\u001b[0m\u001b[0mapply\u001b[0m\u001b[0;34m(\u001b[0m\u001b[0mf\u001b[0m\u001b[0;34m,\u001b[0m \u001b[0;34m**\u001b[0m\u001b[0mkwargs\u001b[0m\u001b[0;34m)\u001b[0m\u001b[0;34m\u001b[0m\u001b[0;34m\u001b[0m\u001b[0m\n\u001b[1;32m    408\u001b[0m             \u001b[0;32melse\u001b[0m\u001b[0;34m:\u001b[0m\u001b[0;34m\u001b[0m\u001b[0;34m\u001b[0m\u001b[0m\n\u001b[0;32m--> 409\u001b[0;31m                 \u001b[0mapplied\u001b[0m \u001b[0;34m=\u001b[0m \u001b[0mgetattr\u001b[0m\u001b[0;34m(\u001b[0m\u001b[0mb\u001b[0m\u001b[0;34m,\u001b[0m \u001b[0mf\u001b[0m\u001b[0;34m)\u001b[0m\u001b[0;34m(\u001b[0m\u001b[0;34m**\u001b[0m\u001b[0mkwargs\u001b[0m\u001b[0;34m)\u001b[0m\u001b[0;34m\u001b[0m\u001b[0;34m\u001b[0m\u001b[0m\n\u001b[0m\u001b[1;32m    410\u001b[0m             \u001b[0mresult_blocks\u001b[0m \u001b[0;34m=\u001b[0m \u001b[0m_extend_blocks\u001b[0m\u001b[0;34m(\u001b[0m\u001b[0mapplied\u001b[0m\u001b[0;34m,\u001b[0m \u001b[0mresult_blocks\u001b[0m\u001b[0;34m)\u001b[0m\u001b[0;34m\u001b[0m\u001b[0;34m\u001b[0m\u001b[0m\n\u001b[1;32m    411\u001b[0m \u001b[0;34m\u001b[0m\u001b[0m\n",
            "\u001b[0;32m/usr/local/lib/python3.7/dist-packages/pandas/core/internals/blocks.py\u001b[0m in \u001b[0;36mconvert\u001b[0;34m(self, copy, datetime, numeric, timedelta, coerce)\u001b[0m\n\u001b[1;32m   2440\u001b[0m \u001b[0;34m\u001b[0m\u001b[0m\n\u001b[1;32m   2441\u001b[0m         \u001b[0;32mif\u001b[0m \u001b[0mself\u001b[0m\u001b[0;34m.\u001b[0m\u001b[0mndim\u001b[0m \u001b[0;34m==\u001b[0m \u001b[0;36m2\u001b[0m\u001b[0;34m:\u001b[0m\u001b[0;34m\u001b[0m\u001b[0;34m\u001b[0m\u001b[0m\n\u001b[0;32m-> 2442\u001b[0;31m             \u001b[0mblocks\u001b[0m \u001b[0;34m=\u001b[0m \u001b[0mself\u001b[0m\u001b[0;34m.\u001b[0m\u001b[0msplit_and_operate\u001b[0m\u001b[0;34m(\u001b[0m\u001b[0;32mNone\u001b[0m\u001b[0;34m,\u001b[0m \u001b[0mf\u001b[0m\u001b[0;34m,\u001b[0m \u001b[0;32mFalse\u001b[0m\u001b[0;34m)\u001b[0m\u001b[0;34m\u001b[0m\u001b[0;34m\u001b[0m\u001b[0m\n\u001b[0m\u001b[1;32m   2443\u001b[0m         \u001b[0;32melse\u001b[0m\u001b[0;34m:\u001b[0m\u001b[0;34m\u001b[0m\u001b[0;34m\u001b[0m\u001b[0m\n\u001b[1;32m   2444\u001b[0m             \u001b[0mvalues\u001b[0m \u001b[0;34m=\u001b[0m \u001b[0mf\u001b[0m\u001b[0;34m(\u001b[0m\u001b[0;32mNone\u001b[0m\u001b[0;34m,\u001b[0m \u001b[0mself\u001b[0m\u001b[0;34m.\u001b[0m\u001b[0mvalues\u001b[0m\u001b[0;34m.\u001b[0m\u001b[0mravel\u001b[0m\u001b[0;34m(\u001b[0m\u001b[0;34m)\u001b[0m\u001b[0;34m,\u001b[0m \u001b[0;32mNone\u001b[0m\u001b[0;34m)\u001b[0m\u001b[0;34m\u001b[0m\u001b[0;34m\u001b[0m\u001b[0m\n",
            "\u001b[0;32m/usr/local/lib/python3.7/dist-packages/pandas/core/internals/blocks.py\u001b[0m in \u001b[0;36msplit_and_operate\u001b[0;34m(self, mask, f, inplace)\u001b[0m\n\u001b[1;32m    460\u001b[0m                 \u001b[0mnv\u001b[0m \u001b[0;34m=\u001b[0m \u001b[0mv\u001b[0m \u001b[0;32mif\u001b[0m \u001b[0minplace\u001b[0m \u001b[0;32melse\u001b[0m \u001b[0mv\u001b[0m\u001b[0;34m.\u001b[0m\u001b[0mcopy\u001b[0m\u001b[0;34m(\u001b[0m\u001b[0;34m)\u001b[0m\u001b[0;34m\u001b[0m\u001b[0;34m\u001b[0m\u001b[0m\n\u001b[1;32m    461\u001b[0m \u001b[0;34m\u001b[0m\u001b[0m\n\u001b[0;32m--> 462\u001b[0;31m             \u001b[0mblock\u001b[0m \u001b[0;34m=\u001b[0m \u001b[0mmake_a_block\u001b[0m\u001b[0;34m(\u001b[0m\u001b[0mnv\u001b[0m\u001b[0;34m,\u001b[0m \u001b[0;34m[\u001b[0m\u001b[0mref_loc\u001b[0m\u001b[0;34m]\u001b[0m\u001b[0;34m)\u001b[0m\u001b[0;34m\u001b[0m\u001b[0;34m\u001b[0m\u001b[0m\n\u001b[0m\u001b[1;32m    463\u001b[0m             \u001b[0mnew_blocks\u001b[0m\u001b[0;34m.\u001b[0m\u001b[0mappend\u001b[0m\u001b[0;34m(\u001b[0m\u001b[0mblock\u001b[0m\u001b[0;34m)\u001b[0m\u001b[0;34m\u001b[0m\u001b[0;34m\u001b[0m\u001b[0m\n\u001b[1;32m    464\u001b[0m \u001b[0;34m\u001b[0m\u001b[0m\n",
            "\u001b[0;32m/usr/local/lib/python3.7/dist-packages/pandas/core/internals/blocks.py\u001b[0m in \u001b[0;36mmake_a_block\u001b[0;34m(nv, ref_loc)\u001b[0m\n\u001b[1;32m    436\u001b[0m                 \u001b[0;31m# a block out of the result.\u001b[0m\u001b[0;34m\u001b[0m\u001b[0;34m\u001b[0m\u001b[0;34m\u001b[0m\u001b[0m\n\u001b[1;32m    437\u001b[0m                 \u001b[0mnv\u001b[0m \u001b[0;34m=\u001b[0m \u001b[0m_block_shape\u001b[0m\u001b[0;34m(\u001b[0m\u001b[0mnv\u001b[0m\u001b[0;34m,\u001b[0m \u001b[0mndim\u001b[0m\u001b[0;34m=\u001b[0m\u001b[0mself\u001b[0m\u001b[0;34m.\u001b[0m\u001b[0mndim\u001b[0m\u001b[0;34m)\u001b[0m\u001b[0;34m\u001b[0m\u001b[0;34m\u001b[0m\u001b[0m\n\u001b[0;32m--> 438\u001b[0;31m                 \u001b[0mblock\u001b[0m \u001b[0;34m=\u001b[0m \u001b[0mself\u001b[0m\u001b[0;34m.\u001b[0m\u001b[0mmake_block\u001b[0m\u001b[0;34m(\u001b[0m\u001b[0mvalues\u001b[0m\u001b[0;34m=\u001b[0m\u001b[0mnv\u001b[0m\u001b[0;34m,\u001b[0m \u001b[0mplacement\u001b[0m\u001b[0;34m=\u001b[0m\u001b[0mref_loc\u001b[0m\u001b[0;34m)\u001b[0m\u001b[0;34m\u001b[0m\u001b[0;34m\u001b[0m\u001b[0m\n\u001b[0m\u001b[1;32m    439\u001b[0m             \u001b[0;32mreturn\u001b[0m \u001b[0mblock\u001b[0m\u001b[0;34m\u001b[0m\u001b[0;34m\u001b[0m\u001b[0m\n\u001b[1;32m    440\u001b[0m \u001b[0;34m\u001b[0m\u001b[0m\n",
            "\u001b[0;32m/usr/local/lib/python3.7/dist-packages/pandas/core/internals/blocks.py\u001b[0m in \u001b[0;36mmake_block\u001b[0;34m(self, values, placement)\u001b[0m\n\u001b[1;32m    252\u001b[0m             \u001b[0mvalues\u001b[0m \u001b[0;34m=\u001b[0m \u001b[0m_block_shape\u001b[0m\u001b[0;34m(\u001b[0m\u001b[0mvalues\u001b[0m\u001b[0;34m,\u001b[0m \u001b[0mndim\u001b[0m\u001b[0;34m=\u001b[0m\u001b[0mself\u001b[0m\u001b[0;34m.\u001b[0m\u001b[0mndim\u001b[0m\u001b[0;34m)\u001b[0m\u001b[0;34m\u001b[0m\u001b[0;34m\u001b[0m\u001b[0m\n\u001b[1;32m    253\u001b[0m \u001b[0;34m\u001b[0m\u001b[0m\n\u001b[0;32m--> 254\u001b[0;31m         \u001b[0;32mreturn\u001b[0m \u001b[0mmake_block\u001b[0m\u001b[0;34m(\u001b[0m\u001b[0mvalues\u001b[0m\u001b[0;34m,\u001b[0m \u001b[0mplacement\u001b[0m\u001b[0;34m=\u001b[0m\u001b[0mplacement\u001b[0m\u001b[0;34m,\u001b[0m \u001b[0mndim\u001b[0m\u001b[0;34m=\u001b[0m\u001b[0mself\u001b[0m\u001b[0;34m.\u001b[0m\u001b[0mndim\u001b[0m\u001b[0;34m)\u001b[0m\u001b[0;34m\u001b[0m\u001b[0;34m\u001b[0m\u001b[0m\n\u001b[0m\u001b[1;32m    255\u001b[0m \u001b[0;34m\u001b[0m\u001b[0m\n\u001b[1;32m    256\u001b[0m     \u001b[0;32mdef\u001b[0m \u001b[0mmake_block_same_class\u001b[0m\u001b[0;34m(\u001b[0m\u001b[0mself\u001b[0m\u001b[0;34m,\u001b[0m \u001b[0mvalues\u001b[0m\u001b[0;34m,\u001b[0m \u001b[0mplacement\u001b[0m\u001b[0;34m=\u001b[0m\u001b[0;32mNone\u001b[0m\u001b[0;34m,\u001b[0m \u001b[0mndim\u001b[0m\u001b[0;34m=\u001b[0m\u001b[0;32mNone\u001b[0m\u001b[0;34m)\u001b[0m\u001b[0;34m:\u001b[0m\u001b[0;34m\u001b[0m\u001b[0;34m\u001b[0m\u001b[0m\n",
            "\u001b[0;32m/usr/local/lib/python3.7/dist-packages/pandas/core/internals/blocks.py\u001b[0m in \u001b[0;36mmake_block\u001b[0;34m(values, placement, klass, ndim, dtype)\u001b[0m\n\u001b[1;32m   2742\u001b[0m         \u001b[0mvalues\u001b[0m \u001b[0;34m=\u001b[0m \u001b[0mDatetimeArray\u001b[0m\u001b[0;34m.\u001b[0m\u001b[0m_simple_new\u001b[0m\u001b[0;34m(\u001b[0m\u001b[0mvalues\u001b[0m\u001b[0;34m,\u001b[0m \u001b[0mdtype\u001b[0m\u001b[0;34m=\u001b[0m\u001b[0mdtype\u001b[0m\u001b[0;34m)\u001b[0m\u001b[0;34m\u001b[0m\u001b[0;34m\u001b[0m\u001b[0m\n\u001b[1;32m   2743\u001b[0m \u001b[0;34m\u001b[0m\u001b[0m\n\u001b[0;32m-> 2744\u001b[0;31m     \u001b[0;32mreturn\u001b[0m \u001b[0mklass\u001b[0m\u001b[0;34m(\u001b[0m\u001b[0mvalues\u001b[0m\u001b[0;34m,\u001b[0m \u001b[0mndim\u001b[0m\u001b[0;34m=\u001b[0m\u001b[0mndim\u001b[0m\u001b[0;34m,\u001b[0m \u001b[0mplacement\u001b[0m\u001b[0;34m=\u001b[0m\u001b[0mplacement\u001b[0m\u001b[0;34m)\u001b[0m\u001b[0;34m\u001b[0m\u001b[0;34m\u001b[0m\u001b[0m\n\u001b[0m\u001b[1;32m   2745\u001b[0m \u001b[0;34m\u001b[0m\u001b[0m\n\u001b[1;32m   2746\u001b[0m \u001b[0;34m\u001b[0m\u001b[0m\n",
            "\u001b[0;32m/usr/local/lib/python3.7/dist-packages/pandas/core/internals/blocks.py\u001b[0m in \u001b[0;36m__init__\u001b[0;34m(self, values, placement, ndim)\u001b[0m\n\u001b[1;32m    124\u001b[0m     \u001b[0;32mdef\u001b[0m \u001b[0m__init__\u001b[0m\u001b[0;34m(\u001b[0m\u001b[0mself\u001b[0m\u001b[0;34m,\u001b[0m \u001b[0mvalues\u001b[0m\u001b[0;34m,\u001b[0m \u001b[0mplacement\u001b[0m\u001b[0;34m,\u001b[0m \u001b[0mndim\u001b[0m\u001b[0;34m=\u001b[0m\u001b[0;32mNone\u001b[0m\u001b[0;34m)\u001b[0m\u001b[0;34m:\u001b[0m\u001b[0;34m\u001b[0m\u001b[0;34m\u001b[0m\u001b[0m\n\u001b[1;32m    125\u001b[0m         \u001b[0mself\u001b[0m\u001b[0;34m.\u001b[0m\u001b[0mndim\u001b[0m \u001b[0;34m=\u001b[0m \u001b[0mself\u001b[0m\u001b[0;34m.\u001b[0m\u001b[0m_check_ndim\u001b[0m\u001b[0;34m(\u001b[0m\u001b[0mvalues\u001b[0m\u001b[0;34m,\u001b[0m \u001b[0mndim\u001b[0m\u001b[0;34m)\u001b[0m\u001b[0;34m\u001b[0m\u001b[0;34m\u001b[0m\u001b[0m\n\u001b[0;32m--> 126\u001b[0;31m         \u001b[0mself\u001b[0m\u001b[0;34m.\u001b[0m\u001b[0mmgr_locs\u001b[0m \u001b[0;34m=\u001b[0m \u001b[0mplacement\u001b[0m\u001b[0;34m\u001b[0m\u001b[0;34m\u001b[0m\u001b[0m\n\u001b[0m\u001b[1;32m    127\u001b[0m         \u001b[0mself\u001b[0m\u001b[0;34m.\u001b[0m\u001b[0mvalues\u001b[0m \u001b[0;34m=\u001b[0m \u001b[0mvalues\u001b[0m\u001b[0;34m\u001b[0m\u001b[0;34m\u001b[0m\u001b[0m\n\u001b[1;32m    128\u001b[0m \u001b[0;34m\u001b[0m\u001b[0m\n",
            "\u001b[0;32m/usr/local/lib/python3.7/dist-packages/pandas/core/internals/blocks.py\u001b[0m in \u001b[0;36mmgr_locs\u001b[0;34m(self, new_mgr_locs)\u001b[0m\n\u001b[1;32m    238\u001b[0m     \u001b[0;32mdef\u001b[0m \u001b[0mmgr_locs\u001b[0m\u001b[0;34m(\u001b[0m\u001b[0mself\u001b[0m\u001b[0;34m,\u001b[0m \u001b[0mnew_mgr_locs\u001b[0m\u001b[0;34m)\u001b[0m\u001b[0;34m:\u001b[0m\u001b[0;34m\u001b[0m\u001b[0;34m\u001b[0m\u001b[0m\n\u001b[1;32m    239\u001b[0m         \u001b[0;32mif\u001b[0m \u001b[0;32mnot\u001b[0m \u001b[0misinstance\u001b[0m\u001b[0;34m(\u001b[0m\u001b[0mnew_mgr_locs\u001b[0m\u001b[0;34m,\u001b[0m \u001b[0mlibinternals\u001b[0m\u001b[0;34m.\u001b[0m\u001b[0mBlockPlacement\u001b[0m\u001b[0;34m)\u001b[0m\u001b[0;34m:\u001b[0m\u001b[0;34m\u001b[0m\u001b[0;34m\u001b[0m\u001b[0m\n\u001b[0;32m--> 240\u001b[0;31m             \u001b[0mnew_mgr_locs\u001b[0m \u001b[0;34m=\u001b[0m \u001b[0mlibinternals\u001b[0m\u001b[0;34m.\u001b[0m\u001b[0mBlockPlacement\u001b[0m\u001b[0;34m(\u001b[0m\u001b[0mnew_mgr_locs\u001b[0m\u001b[0;34m)\u001b[0m\u001b[0;34m\u001b[0m\u001b[0;34m\u001b[0m\u001b[0m\n\u001b[0m\u001b[1;32m    241\u001b[0m \u001b[0;34m\u001b[0m\u001b[0m\n\u001b[1;32m    242\u001b[0m         \u001b[0mself\u001b[0m\u001b[0;34m.\u001b[0m\u001b[0m_mgr_locs\u001b[0m \u001b[0;34m=\u001b[0m \u001b[0mnew_mgr_locs\u001b[0m\u001b[0;34m\u001b[0m\u001b[0;34m\u001b[0m\u001b[0m\n",
            "\u001b[0;32mpandas/_libs/internals.pyx\u001b[0m in \u001b[0;36mpandas._libs.internals.BlockPlacement.__init__\u001b[0;34m()\u001b[0m\n",
            "\u001b[0;32m/usr/local/lib/python3.7/dist-packages/numpy/core/_asarray.py\u001b[0m in \u001b[0;36mrequire\u001b[0;34m(a, dtype, requirements)\u001b[0m\n\u001b[1;32m    314\u001b[0m         \u001b[0mrequirements\u001b[0m\u001b[0;34m.\u001b[0m\u001b[0mremove\u001b[0m\u001b[0;34m(\u001b[0m\u001b[0;34m'C'\u001b[0m\u001b[0;34m)\u001b[0m\u001b[0;34m\u001b[0m\u001b[0;34m\u001b[0m\u001b[0m\n\u001b[1;32m    315\u001b[0m \u001b[0;34m\u001b[0m\u001b[0m\n\u001b[0;32m--> 316\u001b[0;31m     \u001b[0marr\u001b[0m \u001b[0;34m=\u001b[0m \u001b[0marray\u001b[0m\u001b[0;34m(\u001b[0m\u001b[0ma\u001b[0m\u001b[0;34m,\u001b[0m \u001b[0mdtype\u001b[0m\u001b[0;34m=\u001b[0m\u001b[0mdtype\u001b[0m\u001b[0;34m,\u001b[0m \u001b[0morder\u001b[0m\u001b[0;34m=\u001b[0m\u001b[0morder\u001b[0m\u001b[0;34m,\u001b[0m \u001b[0mcopy\u001b[0m\u001b[0;34m=\u001b[0m\u001b[0;32mFalse\u001b[0m\u001b[0;34m,\u001b[0m \u001b[0msubok\u001b[0m\u001b[0;34m=\u001b[0m\u001b[0msubok\u001b[0m\u001b[0;34m)\u001b[0m\u001b[0;34m\u001b[0m\u001b[0;34m\u001b[0m\u001b[0m\n\u001b[0m\u001b[1;32m    317\u001b[0m \u001b[0;34m\u001b[0m\u001b[0m\n\u001b[1;32m    318\u001b[0m     \u001b[0;32mfor\u001b[0m \u001b[0mprop\u001b[0m \u001b[0;32min\u001b[0m \u001b[0mrequirements\u001b[0m\u001b[0;34m:\u001b[0m\u001b[0;34m\u001b[0m\u001b[0;34m\u001b[0m\u001b[0m\n",
            "\u001b[0;31mKeyboardInterrupt\u001b[0m: "
          ]
        }
      ]
    },
    {
      "cell_type": "code",
      "metadata": {
        "id": "B3G6ZS-h7LJ0",
        "outputId": "e8acd4f1-3a62-4222-9750-8ed8a3e3893d",
        "colab": {
          "base_uri": "https://localhost:8080/",
          "height": 963
        }
      },
      "source": [
        "coref_df"
      ],
      "execution_count": 114,
      "outputs": [
        {
          "output_type": "execute_result",
          "data": {
            "text/html": [
              "<div>\n",
              "<style scoped>\n",
              "    .dataframe tbody tr th:only-of-type {\n",
              "        vertical-align: middle;\n",
              "    }\n",
              "\n",
              "    .dataframe tbody tr th {\n",
              "        vertical-align: top;\n",
              "    }\n",
              "\n",
              "    .dataframe thead th {\n",
              "        text-align: right;\n",
              "    }\n",
              "</style>\n",
              "<table border=\"1\" class=\"dataframe\">\n",
              "  <thead>\n",
              "    <tr style=\"text-align: right;\">\n",
              "      <th></th>\n",
              "      <th>TOKEN</th>\n",
              "      <th>TOKEN_VECT</th>\n",
              "      <th>TOPIC_NUM</th>\n",
              "      <th>POST_NUM</th>\n",
              "      <th>SENT_NUM</th>\n",
              "      <th>ANIMACY</th>\n",
              "      <th>CASE</th>\n",
              "      <th>GENDER</th>\n",
              "      <th>PERSON</th>\n",
              "      <th>POS</th>\n",
              "      <th>DEPENDENCY</th>\n",
              "      <th>HEAD</th>\n",
              "      <th>HEAD_ANIMACY</th>\n",
              "      <th>HEAD_CASE</th>\n",
              "      <th>HEAD_GENDER</th>\n",
              "      <th>HEAD_POS</th>\n",
              "      <th>HEAD_VECT</th>\n",
              "      <th>SENT_VECT</th>\n",
              "      <th>HEAD_CHILDS_VECT</th>\n",
              "      <th>NER</th>\n",
              "      <th>COREFERENCE_CLUSTER</th>\n",
              "    </tr>\n",
              "  </thead>\n",
              "  <tbody>\n",
              "    <tr>\n",
              "      <th>0</th>\n",
              "      <td>обсуждаем</td>\n",
              "      <td>[0.34450704, 0.8560562, -0.0044013127, 0.66203...</td>\n",
              "      <td>1</td>\n",
              "      <td>0</td>\n",
              "      <td>0</td>\n",
              "      <td>None</td>\n",
              "      <td>None</td>\n",
              "      <td>None</td>\n",
              "      <td>1per</td>\n",
              "      <td>VERB</td>\n",
              "      <td>ROOT</td>\n",
              "      <td>обсуждаем</td>\n",
              "      <td>None</td>\n",
              "      <td>None</td>\n",
              "      <td>None</td>\n",
              "      <td>VERB</td>\n",
              "      <td>[0.34450704, 0.8560562, -0.0044013127, 0.66203...</td>\n",
              "      <td>[0.12520595, 0.19646826, 0.18255863, -0.018242...</td>\n",
              "      <td>[-0.50261563, 0.40844542, -0.11883611, 1.28966...</td>\n",
              "      <td>0</td>\n",
              "      <td>0</td>\n",
              "    </tr>\n",
              "    <tr>\n",
              "      <th>1</th>\n",
              "      <td>препарат</td>\n",
              "      <td>[-0.50261563, 0.40844542, -0.11883611, 1.28966...</td>\n",
              "      <td>1</td>\n",
              "      <td>0</td>\n",
              "      <td>0</td>\n",
              "      <td>inan</td>\n",
              "      <td>nomn</td>\n",
              "      <td>masc</td>\n",
              "      <td>None</td>\n",
              "      <td>NOUN</td>\n",
              "      <td>obj</td>\n",
              "      <td>обсуждаем</td>\n",
              "      <td>None</td>\n",
              "      <td>None</td>\n",
              "      <td>None</td>\n",
              "      <td>VERB</td>\n",
              "      <td>[0.34450704, 0.8560562, -0.0044013127, 0.66203...</td>\n",
              "      <td>[0.12520595, 0.19646826, 0.18255863, -0.018242...</td>\n",
              "      <td>[-0.50261563, 0.40844542, -0.11883611, 1.28966...</td>\n",
              "      <td>0</td>\n",
              "      <td>0</td>\n",
              "    </tr>\n",
              "    <tr>\n",
              "      <th>2</th>\n",
              "      <td>рисперидон</td>\n",
              "      <td>[0.6172444, 0.751901, 0.9422064, 0.15860376, 0...</td>\n",
              "      <td>1</td>\n",
              "      <td>0</td>\n",
              "      <td>0</td>\n",
              "      <td>anim</td>\n",
              "      <td>nomn</td>\n",
              "      <td>masc</td>\n",
              "      <td>None</td>\n",
              "      <td>NOUN</td>\n",
              "      <td>appos</td>\n",
              "      <td>препарат</td>\n",
              "      <td>inan</td>\n",
              "      <td>nomn</td>\n",
              "      <td>masc</td>\n",
              "      <td>NOUN</td>\n",
              "      <td>[-0.50261563, 0.40844542, -0.11883611, 1.28966...</td>\n",
              "      <td>[0.12520595, 0.19646826, 0.18255863, -0.018242...</td>\n",
              "      <td>[0.6172444, 0.751901, 0.9422064, 0.15860376, 0...</td>\n",
              "      <td>0</td>\n",
              "      <td>0</td>\n",
              "    </tr>\n",
              "    <tr>\n",
              "      <th>3</th>\n",
              "      <td>рисполепт</td>\n",
              "      <td>[0.28646922, 0.89700633, 0.8091157, -0.3616157...</td>\n",
              "      <td>1</td>\n",
              "      <td>0</td>\n",
              "      <td>0</td>\n",
              "      <td>inan</td>\n",
              "      <td>gent</td>\n",
              "      <td>femn</td>\n",
              "      <td>None</td>\n",
              "      <td>NOUN</td>\n",
              "      <td>parataxis</td>\n",
              "      <td>рисперидон</td>\n",
              "      <td>anim</td>\n",
              "      <td>nomn</td>\n",
              "      <td>masc</td>\n",
              "      <td>NOUN</td>\n",
              "      <td>[0.6172444, 0.751901, 0.9422064, 0.15860376, 0...</td>\n",
              "      <td>[0.12520595, 0.19646826, 0.18255863, -0.018242...</td>\n",
              "      <td>[0.28646922, 0.89700633, 0.8091157, -0.3616157...</td>\n",
              "      <td>0</td>\n",
              "      <td>0</td>\n",
              "    </tr>\n",
              "    <tr>\n",
              "      <th>4</th>\n",
              "      <td>сперидан</td>\n",
              "      <td>[0.5475158, 0.76822674, 0.71423954, -0.0366117...</td>\n",
              "      <td>1</td>\n",
              "      <td>0</td>\n",
              "      <td>0</td>\n",
              "      <td>None</td>\n",
              "      <td>None</td>\n",
              "      <td>masc</td>\n",
              "      <td>None</td>\n",
              "      <td>PRTS</td>\n",
              "      <td>conj</td>\n",
              "      <td>рисполепт</td>\n",
              "      <td>inan</td>\n",
              "      <td>gent</td>\n",
              "      <td>femn</td>\n",
              "      <td>NOUN</td>\n",
              "      <td>[0.28646922, 0.89700633, 0.8091157, -0.3616157...</td>\n",
              "      <td>[0.12520595, 0.19646826, 0.18255863, -0.018242...</td>\n",
              "      <td>[0.18250526, 0.2560756, 0.23807985, -0.0122039...</td>\n",
              "      <td>0</td>\n",
              "      <td>0</td>\n",
              "    </tr>\n",
              "    <tr>\n",
              "      <th>...</th>\n",
              "      <td>...</td>\n",
              "      <td>...</td>\n",
              "      <td>...</td>\n",
              "      <td>...</td>\n",
              "      <td>...</td>\n",
              "      <td>...</td>\n",
              "      <td>...</td>\n",
              "      <td>...</td>\n",
              "      <td>...</td>\n",
              "      <td>...</td>\n",
              "      <td>...</td>\n",
              "      <td>...</td>\n",
              "      <td>...</td>\n",
              "      <td>...</td>\n",
              "      <td>...</td>\n",
              "      <td>...</td>\n",
              "      <td>...</td>\n",
              "      <td>...</td>\n",
              "      <td>...</td>\n",
              "      <td>...</td>\n",
              "      <td>...</td>\n",
              "    </tr>\n",
              "    <tr>\n",
              "      <th>334</th>\n",
              "      <td>принципе</td>\n",
              "      <td>[-0.0064957333, 0.5092437, 0.7455027, -0.16826...</td>\n",
              "      <td>1</td>\n",
              "      <td>2</td>\n",
              "      <td>4</td>\n",
              "      <td>inan</td>\n",
              "      <td>loct</td>\n",
              "      <td>masc</td>\n",
              "      <td>None</td>\n",
              "      <td>NOUN</td>\n",
              "      <td>parataxis</td>\n",
              "      <td>могут</td>\n",
              "      <td>None</td>\n",
              "      <td>None</td>\n",
              "      <td>None</td>\n",
              "      <td>VERB</td>\n",
              "      <td>[0.33842045, 0.539373, -0.51442444, 0.12705159...</td>\n",
              "      <td>[0.030700484, 0.049278986, 0.08944881, -0.0215...</td>\n",
              "      <td>[0.3391438, 0.4833119, 0.41575015, 0.014712052...</td>\n",
              "      <td>0</td>\n",
              "      <td>0</td>\n",
              "    </tr>\n",
              "    <tr>\n",
              "      <th>335</th>\n",
              "      <td>те</td>\n",
              "      <td>[0.15337908, 0.5469546, -0.045358922, 0.106809...</td>\n",
              "      <td>1</td>\n",
              "      <td>2</td>\n",
              "      <td>4</td>\n",
              "      <td>None</td>\n",
              "      <td>nomn</td>\n",
              "      <td>None</td>\n",
              "      <td>None</td>\n",
              "      <td>ADJF</td>\n",
              "      <td>det</td>\n",
              "      <td>эффекты</td>\n",
              "      <td>inan</td>\n",
              "      <td>nomn</td>\n",
              "      <td>masc</td>\n",
              "      <td>NOUN</td>\n",
              "      <td>[0.700324, 1.3596344, -0.13599071, 0.14096847,...</td>\n",
              "      <td>[0.030700484, 0.049278986, 0.08944881, -0.0215...</td>\n",
              "      <td>[0.15132344, 0.3362012, -0.03360761, -0.139445...</td>\n",
              "      <td>0</td>\n",
              "      <td>0</td>\n",
              "    </tr>\n",
              "    <tr>\n",
              "      <th>336</th>\n",
              "      <td>эффекты</td>\n",
              "      <td>[0.700324, 1.3596344, -0.13599071, 0.14096847,...</td>\n",
              "      <td>1</td>\n",
              "      <td>2</td>\n",
              "      <td>4</td>\n",
              "      <td>inan</td>\n",
              "      <td>nomn</td>\n",
              "      <td>masc</td>\n",
              "      <td>None</td>\n",
              "      <td>NOUN</td>\n",
              "      <td>nsubj</td>\n",
              "      <td>могут</td>\n",
              "      <td>None</td>\n",
              "      <td>None</td>\n",
              "      <td>None</td>\n",
              "      <td>VERB</td>\n",
              "      <td>[0.33842045, 0.539373, -0.51442444, 0.12705159...</td>\n",
              "      <td>[0.030700484, 0.049278986, 0.08944881, -0.0215...</td>\n",
              "      <td>[0.3391438, 0.4833119, 0.41575015, 0.014712052...</td>\n",
              "      <td>0</td>\n",
              "      <td>0</td>\n",
              "    </tr>\n",
              "    <tr>\n",
              "      <th>337</th>\n",
              "      <td>которые</td>\n",
              "      <td>[0.2554143, 0.1360954, -0.08302414, -0.8105475...</td>\n",
              "      <td>1</td>\n",
              "      <td>2</td>\n",
              "      <td>4</td>\n",
              "      <td>None</td>\n",
              "      <td>nomn</td>\n",
              "      <td>None</td>\n",
              "      <td>None</td>\n",
              "      <td>ADJF</td>\n",
              "      <td>obj</td>\n",
              "      <td>описали</td>\n",
              "      <td>None</td>\n",
              "      <td>None</td>\n",
              "      <td>None</td>\n",
              "      <td>VERB</td>\n",
              "      <td>[0.30059123, 0.46164897, -0.055463906, -0.5251...</td>\n",
              "      <td>[0.030700484, 0.049278986, 0.08944881, -0.0215...</td>\n",
              "      <td>[-0.1439762, 0.2216049, -0.33080056, -0.384414...</td>\n",
              "      <td>0</td>\n",
              "      <td>0</td>\n",
              "    </tr>\n",
              "    <tr>\n",
              "      <th>338</th>\n",
              "      <td>вы</td>\n",
              "      <td>[-0.6873429, 0.5287193, -0.9093776, -0.3426958...</td>\n",
              "      <td>1</td>\n",
              "      <td>2</td>\n",
              "      <td>4</td>\n",
              "      <td>None</td>\n",
              "      <td>nomn</td>\n",
              "      <td>None</td>\n",
              "      <td>2per</td>\n",
              "      <td>NPRO</td>\n",
              "      <td>nsubj</td>\n",
              "      <td>описали</td>\n",
              "      <td>None</td>\n",
              "      <td>None</td>\n",
              "      <td>None</td>\n",
              "      <td>VERB</td>\n",
              "      <td>[0.30059123, 0.46164897, -0.055463906, -0.5251...</td>\n",
              "      <td>[0.030700484, 0.049278986, 0.08944881, -0.0215...</td>\n",
              "      <td>[-0.1439762, 0.2216049, -0.33080056, -0.384414...</td>\n",
              "      <td>0</td>\n",
              "      <td>0</td>\n",
              "    </tr>\n",
              "  </tbody>\n",
              "</table>\n",
              "<p>339 rows × 21 columns</p>\n",
              "</div>"
            ],
            "text/plain": [
              "          TOKEN  ... COREFERENCE_CLUSTER\n",
              "0     обсуждаем  ...                   0\n",
              "1      препарат  ...                   0\n",
              "2    рисперидон  ...                   0\n",
              "3     рисполепт  ...                   0\n",
              "4      сперидан  ...                   0\n",
              "..          ...  ...                 ...\n",
              "334    принципе  ...                   0\n",
              "335          те  ...                   0\n",
              "336     эффекты  ...                   0\n",
              "337     которые  ...                   0\n",
              "338          вы  ...                   0\n",
              "\n",
              "[339 rows x 21 columns]"
            ]
          },
          "metadata": {
            "tags": []
          },
          "execution_count": 114
        }
      ]
    },
    {
      "cell_type": "code",
      "metadata": {
        "id": "jGtB6FGc9ITr"
      },
      "source": [
        "coref_df_anns = coref_df.loc[:, ['TOKEN', 'TOPIC_NUM', 'POST_NUM', 'HEAD', 'NER', 'COREFERENCE_CLUSTER' ]]"
      ],
      "execution_count": 87,
      "outputs": []
    },
    {
      "cell_type": "code",
      "metadata": {
        "id": "2VDbf0ysWDkb"
      },
      "source": [
        "coref_df.to_csv('coref_fasttext60k.csv', sep=' ', index=False)"
      ],
      "execution_count": null,
      "outputs": []
    },
    {
      "cell_type": "code",
      "metadata": {
        "id": "88RYff8nbTQB"
      },
      "source": [
        "coref_df_anns.to_csv('coref_df_anns60k.csv', sep=' ', index=False)"
      ],
      "execution_count": null,
      "outputs": []
    },
    {
      "cell_type": "code",
      "metadata": {
        "id": "KuDjOd2g-Pg0"
      },
      "source": [
        "from google.colab import files"
      ],
      "execution_count": null,
      "outputs": []
    },
    {
      "cell_type": "code",
      "metadata": {
        "id": "tSAG8kV8-Rob"
      },
      "source": [
        "files.download('coref_fasttext60k.csv')"
      ],
      "execution_count": null,
      "outputs": []
    },
    {
      "cell_type": "code",
      "metadata": {
        "id": "Qb2JTOA1QJri"
      },
      "source": [
        "files.download('coref_df_anns60k.csv')"
      ],
      "execution_count": null,
      "outputs": []
    },
    {
      "cell_type": "code",
      "metadata": {
        "id": "C0pG-kpddYp8"
      },
      "source": [
        ""
      ],
      "execution_count": null,
      "outputs": []
    },
    {
      "cell_type": "code",
      "metadata": {
        "id": "9jnyIYAyxi6i"
      },
      "source": [
        "# for topic_num, topic in topic_list:\n",
        "#   post_list = topic.split('----')\n",
        "#   sent_list = [(sent, topic_num) for sent, topic_num in enumerate]\n",
        "#   for sent in sent_list:\n",
        "#     sent_vector = 0\n",
        "#     post_num = sent_dict.get(sent)\n",
        "#     # sent_vector = sum([model.wv.__getitem__(tok.lower())[-1] for tok in sent.split()])\n",
        "#     if 'сказал(а)', 'писал(а)' in sent:\n",
        "#       sent.replace('сказал(а)', 'SOQ')\n",
        "#     for i in sent.split():\n",
        "#       if re.search(r'[A-Za-zА-Яа-я]', i):\n",
        "#         try:     \n",
        "#           sent_vector += ft.wv.__getitem__(i.lower())\n",
        "#         except KeyError:\n",
        "#           print(i.lower(), 111)\n",
        "#     if len(sent.split()) > 0:\n",
        "#       sent_vector = sent_vector/len(sent.split())\n",
        "\n",
        "\n",
        "#     my_sent = nlp(sent)\n",
        "#     for token in my_sent:\n",
        "#       if re.search(r'[A-Za-zА-Яа-я]', token.text):\n",
        "#         morphy = morph.parse(token.text)[0]\n",
        "\n",
        "#         app_dict = {}\n",
        "#         app_dict['TOKEN'] = token.text or '-'\n",
        "#         try:\n",
        "#           app_dict['TOKEN_VECT'] = ft.wv.__getitem__(token.text.lower()) if token.text else '-'\n",
        "#         except KeyError:\n",
        "#           print(token.text.lower(), 'O__o')\n",
        "#         app_dict['POST_NUM'] = post_num or '-'\n",
        "#         app_dict['ANIMACY'] = morphy.tag.animacy or '-'\n",
        "#         app_dict['CASE'] = morphy.tag.case or '-'\n",
        "#         app_dict['GENDER'] = morphy.tag.gender or '-'\n",
        "#         app_dict['PERSON'] = morphy.tag.person or '-'\n",
        "#         app_dict['POS'] = morphy.tag.POS or '-' \n",
        "#         app_dict['DEPENDENCY'] = token.dep_ or '-'\n",
        "\n",
        "#         app_dict['HEAD'] = token.head.text or '-'\n",
        "#         try:\n",
        "#           app_dict['HEAD_VECT'] = ft.wv.__getitem__(token.head.text.lower()) if token.head.text else '-'\n",
        "#         except KeyError:\n",
        "#           app_dict['HEAD_VECT'] = '-'\n",
        "#           print(token.head.text.lower(), 'here')\n",
        "#         app_dict['HEAD_POS'] = token.head.pos_ or '-'\n",
        "#         morphy = morph.parse(token.head.text)[0] or '-'\n",
        "#         app_dict['HEAD_ANIMACY'] = morphy.tag.animacy or '-'\n",
        "#         app_dict['HEAD_CASE'] = morphy.tag.case or '-'\n",
        "#         app_dict['HEAD_GENDER'] = morphy.tag.gender or '-'\n",
        "#         app_dict['HEAD_POS'] = morphy.tag.POS or '-'\n",
        "#         app_dict['SENT_VECTOR'] = sent_vector\n",
        "#         try:\n",
        "#           if token.head.children:\n",
        "#             app_dict['HEAD_CHILDS_VECT'] = 0\n",
        "#             for child in token.head.children:\n",
        "#               if re.search(r'[A-Za-zА-Яа-я]', child.text):\n",
        "#                 app_dict['HEAD_CHILDS_VECT'] += ft[child.text.lower()]\n",
        "#             if list(token.head.children):\n",
        "#               app_dict['HEAD_CHILDS_VECT'] = app_dict['HEAD_CHILDS_VECT']/len(list(token.head.children))\n",
        "#         except (KeyError, ZeroDivisionError):\n",
        "#           print(child.text.lower(), 'end')\n",
        "\n",
        "#         app_dict['NER'] = 0\n",
        "#         app_dict['COREFERENCE_CLUSTER'] = 0\n",
        "#         coref_df = coref_df.append(app_dict, ignore_index=True)\n"
      ],
      "execution_count": null,
      "outputs": []
    },
    {
      "cell_type": "code",
      "metadata": {
        "id": "Sm-d5yaz5mH5"
      },
      "source": [
        "# for topic in topic_list:\n",
        "#   sent_list = topic.split('----')\n",
        "#   for sent in sent_list:\n",
        "#     sent_vector = 0\n",
        "#     post_num = sent_dict.get(sent)\n",
        "#     # sent_vector = sum([model.wv.__getitem__(tok.lower())[-1] for tok in sent.split()])\n",
        "    \n",
        "#     for i in sent.split():\n",
        "#       if re.search(r'[A-Za-zА-Яа-я]', i):\n",
        "#         try:     \n",
        "#           sent_vector += ft.wv.__getitem__(i.lower())\n",
        "#         except KeyError:\n",
        "#           print(i.lower(), 111)\n",
        "#     if len(sent.split()) > 0:\n",
        "#       sent_vector = sent_vector/len(sent.split())\n",
        "\n",
        "#     # if sent_vector == '-' or None or 0:\n",
        "#     #   print(sent)\n",
        "#     my_sent = nlp(sent)\n",
        "#     for token in my_sent:\n",
        "#       if re.search(r'[A-Za-zА-Яа-я]', token.text):\n",
        "#         morphy = morph.parse(token.text)[0]\n",
        "\n",
        "#         app_dict = {}\n",
        "#         app_dict['TOKEN'] = token.text or '-'\n",
        "#         try:\n",
        "#           app_dict['TOKEN_VECT'] = ft.wv.__getitem__(token.text.lower()) if token.text else '-'\n",
        "#         except KeyError:\n",
        "#           print(token.text.lower(), 'O__o')\n",
        "#         app_dict['POST_NUM'] = post_num or '-'\n",
        "#         app_dict['ANIMACY'] = morphy.tag.animacy or '-'\n",
        "#         app_dict['CASE'] = morphy.tag.case or '-'\n",
        "#         app_dict['GENDER'] = morphy.tag.gender or '-'\n",
        "#         app_dict['PERSON'] = morphy.tag.person or '-'\n",
        "#         app_dict['POS'] = morphy.tag.POS or '-' \n",
        "#         app_dict['DEPENDENCY'] = token.dep_ or '-'\n",
        "\n",
        "#         app_dict['HEAD'] = token.head.text or '-'\n",
        "#         try:\n",
        "#           app_dict['HEAD_VECT'] = ft.wv.__getitem__(token.head.text.lower()) if token.head.text else '-'\n",
        "#         except KeyError:\n",
        "#           app_dict['HEAD_VECT'] = '-'\n",
        "#           print(token.head.text.lower(), 'here')\n",
        "#         app_dict['HEAD_POS'] = token.head.pos_ or '-'\n",
        "#         morphy = morph.parse(token.head.text)[0] or '-'\n",
        "#         app_dict['HEAD_ANIMACY'] = morphy.tag.animacy or '-'\n",
        "#         app_dict['HEAD_CASE'] = morphy.tag.case or '-'\n",
        "#         app_dict['HEAD_GENDER'] = morphy.tag.gender or '-'\n",
        "#         # app_dict['HEAD_PERSON'] = morphy.tag.person or '-'\n",
        "#         app_dict['HEAD_POS'] = morphy.tag.POS or '-'\n",
        "#         app_dict['SENT_VECTOR'] = sent_vector\n",
        "#         try:\n",
        "#           if token.head.children:\n",
        "#             app_dict['HEAD_CHILDS_VECT'] = 0\n",
        "#             for child in token.head.children:\n",
        "#               if re.search(r'[A-Za-zА-Яа-я]', child.text):\n",
        "#                 app_dict['HEAD_CHILDS_VECT'] += ft[child.text.lower()]\n",
        "#             if list(token.head.children):\n",
        "#               app_dict['HEAD_CHILDS_VECT'] = app_dict['HEAD_CHILDS_VECT']/len(list(token.head.children))\n",
        "#         except (KeyError, ZeroDivisionError):\n",
        "#           print(child.text.lower(), 'end')\n",
        "\n",
        "#         app_dict['NER'] = 0\n",
        "#         app_dict['COREFERENCE_CLUSTER'] = 0\n",
        "#         coref_df = coref_df.append(app_dict, ignore_index=True)\n"
      ],
      "execution_count": 86,
      "outputs": []
    }
  ]
}