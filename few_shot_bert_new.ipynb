{
  "nbformat": 4,
  "nbformat_minor": 0,
  "metadata": {
    "colab": {
      "name": "Untitled56.ipynb",
      "provenance": [],
      "authorship_tag": "ABX9TyPFmEmd8vIoC//l9KY2ucxc",
      "include_colab_link": true
    },
    "kernelspec": {
      "name": "python3",
      "display_name": "Python 3"
    },
    "language_info": {
      "name": "python"
    }
  },
  "cells": [
    {
      "cell_type": "markdown",
      "metadata": {
        "id": "view-in-github",
        "colab_type": "text"
      },
      "source": [
        "<a href=\"https://colab.research.google.com/github/DmitryKutsev/cross-document_coreference/blob/main/few_shot_bert_new.ipynb\" target=\"_parent\"><img src=\"https://colab.research.google.com/assets/colab-badge.svg\" alt=\"Open In Colab\"/></a>"
      ]
    },
    {
      "cell_type": "code",
      "metadata": {
        "id": "-lchxyQMFPz9",
        "colab": {
          "base_uri": "https://localhost:8080/"
        },
        "outputId": "c06e53ed-413a-4f06-abf6-7b93eae07e93"
      },
      "source": [
        "!pip install deeppavlov"
      ],
      "execution_count": 93,
      "outputs": [
        {
          "output_type": "stream",
          "text": [
            "Requirement already satisfied: deeppavlov in /usr/local/lib/python3.7/dist-packages (0.15.0)\n",
            "Requirement already satisfied: Cython==0.29.14 in /usr/local/lib/python3.7/dist-packages (from deeppavlov) (0.29.14)\n",
            "Requirement already satisfied: scipy==1.4.1 in /usr/local/lib/python3.7/dist-packages (from deeppavlov) (1.4.1)\n",
            "Requirement already satisfied: pandas==0.25.3 in /usr/local/lib/python3.7/dist-packages (from deeppavlov) (0.25.3)\n",
            "Requirement already satisfied: ruamel.yaml==0.15.100 in /usr/local/lib/python3.7/dist-packages (from deeppavlov) (0.15.100)\n",
            "Requirement already satisfied: rusenttokenize==0.0.5 in /usr/local/lib/python3.7/dist-packages (from deeppavlov) (0.0.5)\n",
            "Requirement already satisfied: h5py==2.10.0 in /usr/local/lib/python3.7/dist-packages (from deeppavlov) (2.10.0)\n",
            "Requirement already satisfied: prometheus-client==0.7.1 in /usr/local/lib/python3.7/dist-packages (from deeppavlov) (0.7.1)\n",
            "Requirement already satisfied: pymorphy2-dicts-ru in /usr/local/lib/python3.7/dist-packages (from deeppavlov) (2.4.417127.4579844)\n",
            "Requirement already satisfied: pyopenssl==19.1.0 in /usr/local/lib/python3.7/dist-packages (from deeppavlov) (19.1.0)\n",
            "Requirement already satisfied: requests==2.22.0 in /usr/local/lib/python3.7/dist-packages (from deeppavlov) (2.22.0)\n",
            "Requirement already satisfied: overrides==2.7.0 in /usr/local/lib/python3.7/dist-packages (from deeppavlov) (2.7.0)\n",
            "Requirement already satisfied: pytz==2019.1 in /usr/local/lib/python3.7/dist-packages (from deeppavlov) (2019.1)\n",
            "Requirement already satisfied: tqdm==4.41.1 in /usr/local/lib/python3.7/dist-packages (from deeppavlov) (4.41.1)\n",
            "Requirement already satisfied: click==7.1.2 in /usr/local/lib/python3.7/dist-packages (from deeppavlov) (7.1.2)\n",
            "Requirement already satisfied: nltk==3.4.5 in /usr/local/lib/python3.7/dist-packages (from deeppavlov) (3.4.5)\n",
            "Requirement already satisfied: pydantic==1.3 in /usr/local/lib/python3.7/dist-packages (from deeppavlov) (1.3)\n",
            "Requirement already satisfied: uvloop==0.14.0 in /usr/local/lib/python3.7/dist-packages (from deeppavlov) (0.14.0)\n",
            "Requirement already satisfied: filelock==3.0.12 in /usr/local/lib/python3.7/dist-packages (from deeppavlov) (3.0.12)\n",
            "Requirement already satisfied: aio-pika==6.4.1 in /usr/local/lib/python3.7/dist-packages (from deeppavlov) (6.4.1)\n",
            "Requirement already satisfied: fastapi==0.47.1 in /usr/local/lib/python3.7/dist-packages (from deeppavlov) (0.47.1)\n",
            "Requirement already satisfied: pytelegrambotapi==3.6.7 in /usr/local/lib/python3.7/dist-packages (from deeppavlov) (3.6.7)\n",
            "Requirement already satisfied: pymorphy2==0.8 in /usr/local/lib/python3.7/dist-packages (from deeppavlov) (0.8)\n",
            "Requirement already satisfied: uvicorn==0.11.7 in /usr/local/lib/python3.7/dist-packages (from deeppavlov) (0.11.7)\n",
            "Requirement already satisfied: sacremoses==0.0.35 in /usr/local/lib/python3.7/dist-packages (from deeppavlov) (0.0.35)\n",
            "Requirement already satisfied: numpy==1.18.0 in /usr/local/lib/python3.7/dist-packages (from deeppavlov) (1.18.0)\n",
            "Requirement already satisfied: scikit-learn==0.21.2 in /usr/local/lib/python3.7/dist-packages (from deeppavlov) (0.21.2)\n",
            "Requirement already satisfied: python-dateutil>=2.6.1 in /usr/local/lib/python3.7/dist-packages (from pandas==0.25.3->deeppavlov) (2.8.1)\n",
            "Requirement already satisfied: six in /usr/local/lib/python3.7/dist-packages (from h5py==2.10.0->deeppavlov) (1.15.0)\n",
            "Requirement already satisfied: cryptography>=2.8 in /usr/local/lib/python3.7/dist-packages (from pyopenssl==19.1.0->deeppavlov) (3.4.7)\n",
            "Requirement already satisfied: urllib3!=1.25.0,!=1.25.1,<1.26,>=1.21.1 in /usr/local/lib/python3.7/dist-packages (from requests==2.22.0->deeppavlov) (1.24.3)\n",
            "Requirement already satisfied: idna<2.9,>=2.5 in /usr/local/lib/python3.7/dist-packages (from requests==2.22.0->deeppavlov) (2.8)\n",
            "Requirement already satisfied: certifi>=2017.4.17 in /usr/local/lib/python3.7/dist-packages (from requests==2.22.0->deeppavlov) (2020.12.5)\n",
            "Requirement already satisfied: chardet<3.1.0,>=3.0.2 in /usr/local/lib/python3.7/dist-packages (from requests==2.22.0->deeppavlov) (3.0.4)\n",
            "Requirement already satisfied: yarl in /usr/local/lib/python3.7/dist-packages (from aio-pika==6.4.1->deeppavlov) (1.6.3)\n",
            "Requirement already satisfied: aiormq<4,>=3.2.0 in /usr/local/lib/python3.7/dist-packages (from aio-pika==6.4.1->deeppavlov) (3.3.1)\n",
            "Requirement already satisfied: starlette<=0.12.9,>=0.12.9 in /usr/local/lib/python3.7/dist-packages (from fastapi==0.47.1->deeppavlov) (0.12.9)\n",
            "Requirement already satisfied: dawg-python>=0.7 in /usr/local/lib/python3.7/dist-packages (from pymorphy2==0.8->deeppavlov) (0.7.2)\n",
            "Requirement already satisfied: pymorphy2-dicts<3.0,>=2.4 in /usr/local/lib/python3.7/dist-packages (from pymorphy2==0.8->deeppavlov) (2.4.393442.3710985)\n",
            "Requirement already satisfied: docopt>=0.6 in /usr/local/lib/python3.7/dist-packages (from pymorphy2==0.8->deeppavlov) (0.6.2)\n",
            "Requirement already satisfied: httptools==0.1.*; sys_platform != \"win32\" and sys_platform != \"cygwin\" and platform_python_implementation != \"PyPy\" in /usr/local/lib/python3.7/dist-packages (from uvicorn==0.11.7->deeppavlov) (0.1.2)\n",
            "Requirement already satisfied: websockets==8.* in /usr/local/lib/python3.7/dist-packages (from uvicorn==0.11.7->deeppavlov) (8.1)\n",
            "Requirement already satisfied: h11<0.10,>=0.8 in /usr/local/lib/python3.7/dist-packages (from uvicorn==0.11.7->deeppavlov) (0.9.0)\n",
            "Requirement already satisfied: joblib in /usr/local/lib/python3.7/dist-packages (from sacremoses==0.0.35->deeppavlov) (1.0.1)\n",
            "Requirement already satisfied: cffi>=1.12 in /usr/local/lib/python3.7/dist-packages (from cryptography>=2.8->pyopenssl==19.1.0->deeppavlov) (1.14.5)\n",
            "Requirement already satisfied: typing-extensions>=3.7.4; python_version < \"3.8\" in /usr/local/lib/python3.7/dist-packages (from yarl->aio-pika==6.4.1->deeppavlov) (3.7.4.3)\n",
            "Requirement already satisfied: multidict>=4.0 in /usr/local/lib/python3.7/dist-packages (from yarl->aio-pika==6.4.1->deeppavlov) (5.1.0)\n",
            "Requirement already satisfied: pamqp==2.3.0 in /usr/local/lib/python3.7/dist-packages (from aiormq<4,>=3.2.0->aio-pika==6.4.1->deeppavlov) (2.3.0)\n",
            "Requirement already satisfied: pycparser in /usr/local/lib/python3.7/dist-packages (from cffi>=1.12->cryptography>=2.8->pyopenssl==19.1.0->deeppavlov) (2.20)\n"
          ],
          "name": "stdout"
        }
      ]
    },
    {
      "cell_type": "code",
      "metadata": {
        "id": "-Zv4yPfCkQcI",
        "colab": {
          "base_uri": "https://localhost:8080/"
        },
        "outputId": "1d508e32-e247-43b5-b11f-432c5113d403"
      },
      "source": [
        "!pip install tensorflow==1.15.0"
      ],
      "execution_count": 94,
      "outputs": [
        {
          "output_type": "stream",
          "text": [
            "Requirement already satisfied: tensorflow==1.15.0 in /usr/local/lib/python3.7/dist-packages (1.15.0)\n",
            "Requirement already satisfied: keras-preprocessing>=1.0.5 in /usr/local/lib/python3.7/dist-packages (from tensorflow==1.15.0) (1.1.2)\n",
            "Requirement already satisfied: tensorboard<1.16.0,>=1.15.0 in /usr/local/lib/python3.7/dist-packages (from tensorflow==1.15.0) (1.15.0)\n",
            "Requirement already satisfied: termcolor>=1.1.0 in /usr/local/lib/python3.7/dist-packages (from tensorflow==1.15.0) (1.1.0)\n",
            "Requirement already satisfied: gast==0.2.2 in /usr/local/lib/python3.7/dist-packages (from tensorflow==1.15.0) (0.2.2)\n",
            "Requirement already satisfied: absl-py>=0.7.0 in /usr/local/lib/python3.7/dist-packages (from tensorflow==1.15.0) (0.12.0)\n",
            "Requirement already satisfied: grpcio>=1.8.6 in /usr/local/lib/python3.7/dist-packages (from tensorflow==1.15.0) (1.32.0)\n",
            "Requirement already satisfied: wheel>=0.26 in /usr/local/lib/python3.7/dist-packages (from tensorflow==1.15.0) (0.36.2)\n",
            "Requirement already satisfied: opt-einsum>=2.3.2 in /usr/local/lib/python3.7/dist-packages (from tensorflow==1.15.0) (3.3.0)\n",
            "Requirement already satisfied: wrapt>=1.11.1 in /usr/local/lib/python3.7/dist-packages (from tensorflow==1.15.0) (1.12.1)\n",
            "Requirement already satisfied: protobuf>=3.6.1 in /usr/local/lib/python3.7/dist-packages (from tensorflow==1.15.0) (3.12.4)\n",
            "Requirement already satisfied: astor>=0.6.0 in /usr/local/lib/python3.7/dist-packages (from tensorflow==1.15.0) (0.8.1)\n",
            "Requirement already satisfied: six>=1.10.0 in /usr/local/lib/python3.7/dist-packages (from tensorflow==1.15.0) (1.15.0)\n",
            "Requirement already satisfied: tensorflow-estimator==1.15.1 in /usr/local/lib/python3.7/dist-packages (from tensorflow==1.15.0) (1.15.1)\n",
            "Requirement already satisfied: google-pasta>=0.1.6 in /usr/local/lib/python3.7/dist-packages (from tensorflow==1.15.0) (0.2.0)\n",
            "Requirement already satisfied: keras-applications>=1.0.8 in /usr/local/lib/python3.7/dist-packages (from tensorflow==1.15.0) (1.0.8)\n",
            "Requirement already satisfied: numpy<2.0,>=1.16.0 in /usr/local/lib/python3.7/dist-packages (from tensorflow==1.15.0) (1.18.0)\n",
            "Requirement already satisfied: setuptools>=41.0.0 in /usr/local/lib/python3.7/dist-packages (from tensorboard<1.16.0,>=1.15.0->tensorflow==1.15.0) (56.1.0)\n",
            "Requirement already satisfied: markdown>=2.6.8 in /usr/local/lib/python3.7/dist-packages (from tensorboard<1.16.0,>=1.15.0->tensorflow==1.15.0) (3.3.4)\n",
            "Requirement already satisfied: werkzeug>=0.11.15 in /usr/local/lib/python3.7/dist-packages (from tensorboard<1.16.0,>=1.15.0->tensorflow==1.15.0) (2.0.0)\n",
            "Requirement already satisfied: h5py in /usr/local/lib/python3.7/dist-packages (from keras-applications>=1.0.8->tensorflow==1.15.0) (2.10.0)\n",
            "Requirement already satisfied: importlib-metadata; python_version < \"3.8\" in /usr/local/lib/python3.7/dist-packages (from markdown>=2.6.8->tensorboard<1.16.0,>=1.15.0->tensorflow==1.15.0) (4.0.1)\n",
            "Requirement already satisfied: zipp>=0.5 in /usr/local/lib/python3.7/dist-packages (from importlib-metadata; python_version < \"3.8\"->markdown>=2.6.8->tensorboard<1.16.0,>=1.15.0->tensorflow==1.15.0) (3.4.1)\n",
            "Requirement already satisfied: typing-extensions>=3.6.4; python_version < \"3.8\" in /usr/local/lib/python3.7/dist-packages (from importlib-metadata; python_version < \"3.8\"->markdown>=2.6.8->tensorboard<1.16.0,>=1.15.0->tensorflow==1.15.0) (3.7.4.3)\n"
          ],
          "name": "stdout"
        }
      ]
    },
    {
      "cell_type": "code",
      "metadata": {
        "id": "IplZsCMwkV60",
        "colab": {
          "base_uri": "https://localhost:8080/"
        },
        "outputId": "9e92f886-b979-4809-f653-4d8990becd91"
      },
      "source": [
        "!apt-get --yes install git"
      ],
      "execution_count": 95,
      "outputs": [
        {
          "output_type": "stream",
          "text": [
            "Reading package lists... Done\n",
            "Building dependency tree       \n",
            "Reading state information... Done\n",
            "git is already the newest version (1:2.17.1-1ubuntu0.8).\n",
            "The following package was automatically installed and is no longer required:\n",
            "  libnvidia-common-460\n",
            "Use 'apt autoremove' to remove it.\n",
            "0 upgraded, 0 newly installed, 0 to remove and 34 not upgraded.\n"
          ],
          "name": "stdout"
        }
      ]
    },
    {
      "cell_type": "code",
      "metadata": {
        "id": "7IZC4U_KkZrd",
        "colab": {
          "base_uri": "https://localhost:8080/"
        },
        "outputId": "331ce7f5-eb01-431f-ed17-77580032bb13"
      },
      "source": [
        "!pip install git+https://github.com/deepmipt/bert.git@feat/multi_gpu"
      ],
      "execution_count": 96,
      "outputs": [
        {
          "output_type": "stream",
          "text": [
            "Collecting git+https://github.com/deepmipt/bert.git@feat/multi_gpu\n",
            "  Cloning https://github.com/deepmipt/bert.git (to revision feat/multi_gpu) to /tmp/pip-req-build-8awr1kjb\n",
            "  Running command git clone -q https://github.com/deepmipt/bert.git /tmp/pip-req-build-8awr1kjb\n",
            "Requirement already satisfied (use --upgrade to upgrade): bert-dp==1.0 from git+https://github.com/deepmipt/bert.git@feat/multi_gpu in /usr/local/lib/python3.7/dist-packages\n",
            "Building wheels for collected packages: bert-dp\n",
            "  Building wheel for bert-dp (setup.py) ... \u001b[?25l\u001b[?25hdone\n",
            "  Created wheel for bert-dp: filename=bert_dp-1.0-cp37-none-any.whl size=23581 sha256=88468b19c758a754fc409a63353a531c37bfe17e5846f5cb529c7796077bf7f5\n",
            "  Stored in directory: /tmp/pip-ephem-wheel-cache-3qz91yqx/wheels/1e/41/94/886107eaf932532594886fd8bfc9cb9d4db632e94add49d326\n",
            "Successfully built bert-dp\n"
          ],
          "name": "stdout"
        }
      ]
    },
    {
      "cell_type": "code",
      "metadata": {
        "id": "_p1PH-06ML1S",
        "outputId": "a626ed7d-adaa-4057-dc5f-44f61066c8d8",
        "colab": {
          "base_uri": "https://localhost:8080/"
        }
      },
      "source": [
        "from google.colab import drive\n",
        "drive.mount('./content', force_remount=False)"
      ],
      "execution_count": 97,
      "outputs": [
        {
          "output_type": "stream",
          "text": [
            "Drive already mounted at ./content; to attempt to forcibly remount, call drive.mount(\"./content\", force_remount=True).\n"
          ],
          "name": "stdout"
        }
      ]
    },
    {
      "cell_type": "code",
      "metadata": {
        "id": "cXSKHpqzqjee"
      },
      "source": [
        "import csv\n",
        "import pandas as pd\n",
        "import re\n",
        "import numpy as np\n",
        "from google.colab import files\n",
        "from sklearn.model_selection import train_test_split\n",
        "from sklearn.metrics.pairwise import cosine_similarity"
      ],
      "execution_count": 98,
      "outputs": []
    },
    {
      "cell_type": "code",
      "metadata": {
        "id": "9ArrrVpOpqik",
        "colab": {
          "base_uri": "https://localhost:8080/"
        },
        "outputId": "48ad707a-0048-46b8-d06b-f1791d754e72"
      },
      "source": [
        "!wget https://raw.githubusercontent.com/DmitryKutsev/cross-document_coreference/main/data/coref_df_anns60k.csv\n",
        "!wget https://raw.githubusercontent.com/DmitryKutsev/cross-document_coreference/main/data/new_anns60k.csv"
      ],
      "execution_count": 99,
      "outputs": [
        {
          "output_type": "stream",
          "text": [
            "--2021-05-22 22:00:33--  https://raw.githubusercontent.com/DmitryKutsev/cross-document_coreference/main/data/coref_df_anns60k.csv\n",
            "Resolving raw.githubusercontent.com (raw.githubusercontent.com)... 185.199.110.133, 185.199.109.133, 185.199.111.133, ...\n",
            "Connecting to raw.githubusercontent.com (raw.githubusercontent.com)|185.199.110.133|:443... connected.\n",
            "HTTP request sent, awaiting response... 404 Not Found\n",
            "2021-05-22 22:00:33 ERROR 404: Not Found.\n",
            "\n",
            "--2021-05-22 22:00:34--  https://raw.githubusercontent.com/DmitryKutsev/cross-document_coreference/main/data/new_anns60k.csv\n",
            "Resolving raw.githubusercontent.com (raw.githubusercontent.com)... 185.199.108.133, 185.199.111.133, 185.199.109.133, ...\n",
            "Connecting to raw.githubusercontent.com (raw.githubusercontent.com)|185.199.108.133|:443... connected.\n",
            "HTTP request sent, awaiting response... 200 OK\n",
            "Length: 1192227 (1.1M) [text/plain]\n",
            "Saving to: ‘new_anns60k.csv.15’\n",
            "\n",
            "new_anns60k.csv.15  100%[===================>]   1.14M  --.-KB/s    in 0.02s   \n",
            "\n",
            "2021-05-22 22:00:34 (52.4 MB/s) - ‘new_anns60k.csv.15’ saved [1192227/1192227]\n",
            "\n"
          ],
          "name": "stdout"
        }
      ]
    },
    {
      "cell_type": "code",
      "metadata": {
        "id": "y_Q2vaoCtD31"
      },
      "source": [
        "anns_df = pd.read_csv('new_df_anns60k.csv', delimiter='\\t')"
      ],
      "execution_count": 100,
      "outputs": []
    },
    {
      "cell_type": "code",
      "metadata": {
        "id": "_5OMPb7MZcy6"
      },
      "source": [
        "with open('new_anns60k.csv') as csvfile:\n",
        "  reader = csv.reader(csvfile, delimiter='\\t')\n",
        "  with open('new_df_anns60k.csv', 'w') as write_file:\n",
        "    writer = csv.writer(write_file, delimiter='\\t')\n",
        "    c = 0\n",
        "    for row in reader:\n",
        "      new_row = [i if i and not re.match(r'\\t+?', i) else 0 for i in row]\n",
        "      if len(new_row) > 9:\n",
        "        new_row = new_row[:9]\n",
        "      writer.writerow(new_row)"
      ],
      "execution_count": 101,
      "outputs": []
    },
    {
      "cell_type": "code",
      "metadata": {
        "id": "SkB8LyVXrehJ",
        "outputId": "a5a49391-fb1c-48cb-b7cd-c73496781bb8",
        "colab": {
          "base_uri": "https://localhost:8080/",
          "height": 963
        }
      },
      "source": [
        "cor_df = pd.read_csv('content/MyDrive/coref_fasttext60k.csv', delimiter=' ')\n",
        "cor_df"
      ],
      "execution_count": 102,
      "outputs": [
        {
          "output_type": "execute_result",
          "data": {
            "text/html": [
              "<div>\n",
              "<style scoped>\n",
              "    .dataframe tbody tr th:only-of-type {\n",
              "        vertical-align: middle;\n",
              "    }\n",
              "\n",
              "    .dataframe tbody tr th {\n",
              "        vertical-align: top;\n",
              "    }\n",
              "\n",
              "    .dataframe thead th {\n",
              "        text-align: right;\n",
              "    }\n",
              "</style>\n",
              "<table border=\"1\" class=\"dataframe\">\n",
              "  <thead>\n",
              "    <tr style=\"text-align: right;\">\n",
              "      <th></th>\n",
              "      <th>TOKEN</th>\n",
              "      <th>TOKEN_VECT</th>\n",
              "      <th>IS_ANSWER</th>\n",
              "      <th>TOPIC_NUM</th>\n",
              "      <th>POST_NUM</th>\n",
              "      <th>SENT_NUM</th>\n",
              "      <th>TOKEN_NUM</th>\n",
              "      <th>ANIMACY</th>\n",
              "      <th>CASE</th>\n",
              "      <th>GENDER</th>\n",
              "      <th>PERSON</th>\n",
              "      <th>POS</th>\n",
              "      <th>DEPENDENCY</th>\n",
              "      <th>HEAD</th>\n",
              "      <th>HEAD_ANIMACY</th>\n",
              "      <th>HEAD_CASE</th>\n",
              "      <th>HEAD_GENDER</th>\n",
              "      <th>HEAD_POS</th>\n",
              "      <th>HEAD_VECT</th>\n",
              "      <th>SENT_VECT</th>\n",
              "      <th>HEAD_CHILDS_VECT</th>\n",
              "      <th>NER</th>\n",
              "      <th>COREFERENCE_CLUSTER</th>\n",
              "    </tr>\n",
              "  </thead>\n",
              "  <tbody>\n",
              "    <tr>\n",
              "      <th>0</th>\n",
              "      <td>обсуждаем</td>\n",
              "      <td>[-2.08233938e-01  9.96180058e-01 -2.79894114e-...</td>\n",
              "      <td>0</td>\n",
              "      <td>1</td>\n",
              "      <td>0</td>\n",
              "      <td>0</td>\n",
              "      <td>0</td>\n",
              "      <td>NaN</td>\n",
              "      <td>NaN</td>\n",
              "      <td>NaN</td>\n",
              "      <td>1per</td>\n",
              "      <td>VERB</td>\n",
              "      <td>ROOT</td>\n",
              "      <td>обсуждаем</td>\n",
              "      <td>NaN</td>\n",
              "      <td>NaN</td>\n",
              "      <td>NaN</td>\n",
              "      <td>VERB</td>\n",
              "      <td>[-2.08233938e-01  9.96180058e-01 -2.79894114e-...</td>\n",
              "      <td>[ 0.01863711  0.2306802   0.14600733 -0.019119...</td>\n",
              "      <td>[-0.17725945  0.94834274  0.90867615  0.850609...</td>\n",
              "      <td>0</td>\n",
              "      <td>0</td>\n",
              "    </tr>\n",
              "    <tr>\n",
              "      <th>1</th>\n",
              "      <td>препарат</td>\n",
              "      <td>[-0.17725945  0.94834274  0.90867615  0.850609...</td>\n",
              "      <td>0</td>\n",
              "      <td>1</td>\n",
              "      <td>0</td>\n",
              "      <td>0</td>\n",
              "      <td>1</td>\n",
              "      <td>inan</td>\n",
              "      <td>nomn</td>\n",
              "      <td>masc</td>\n",
              "      <td>NaN</td>\n",
              "      <td>NOUN</td>\n",
              "      <td>obj</td>\n",
              "      <td>обсуждаем</td>\n",
              "      <td>NaN</td>\n",
              "      <td>NaN</td>\n",
              "      <td>NaN</td>\n",
              "      <td>VERB</td>\n",
              "      <td>[-2.08233938e-01  9.96180058e-01 -2.79894114e-...</td>\n",
              "      <td>[ 0.01863711  0.2306802   0.14600733 -0.019119...</td>\n",
              "      <td>[-0.17725945  0.94834274  0.90867615  0.850609...</td>\n",
              "      <td>0</td>\n",
              "      <td>0</td>\n",
              "    </tr>\n",
              "    <tr>\n",
              "      <th>2</th>\n",
              "      <td>рисперидон</td>\n",
              "      <td>[ 0.15259643  1.0673474   0.84192747 -0.077515...</td>\n",
              "      <td>0</td>\n",
              "      <td>1</td>\n",
              "      <td>0</td>\n",
              "      <td>0</td>\n",
              "      <td>2</td>\n",
              "      <td>anim</td>\n",
              "      <td>nomn</td>\n",
              "      <td>masc</td>\n",
              "      <td>NaN</td>\n",
              "      <td>NOUN</td>\n",
              "      <td>appos</td>\n",
              "      <td>препарат</td>\n",
              "      <td>inan</td>\n",
              "      <td>nomn</td>\n",
              "      <td>masc</td>\n",
              "      <td>NOUN</td>\n",
              "      <td>[-0.17725945  0.94834274  0.90867615  0.850609...</td>\n",
              "      <td>[ 0.01863711  0.2306802   0.14600733 -0.019119...</td>\n",
              "      <td>[ 0.15259643  1.0673474   0.84192747 -0.077515...</td>\n",
              "      <td>0</td>\n",
              "      <td>0</td>\n",
              "    </tr>\n",
              "    <tr>\n",
              "      <th>3</th>\n",
              "      <td>рисполепт</td>\n",
              "      <td>[ 1.2426247e-02  1.0408522e+00  6.9133490e-01 ...</td>\n",
              "      <td>0</td>\n",
              "      <td>1</td>\n",
              "      <td>0</td>\n",
              "      <td>0</td>\n",
              "      <td>3</td>\n",
              "      <td>inan</td>\n",
              "      <td>gent</td>\n",
              "      <td>femn</td>\n",
              "      <td>NaN</td>\n",
              "      <td>NOUN</td>\n",
              "      <td>parataxis</td>\n",
              "      <td>рисперидон</td>\n",
              "      <td>anim</td>\n",
              "      <td>nomn</td>\n",
              "      <td>masc</td>\n",
              "      <td>NOUN</td>\n",
              "      <td>[ 0.15259643  1.0673474   0.84192747 -0.077515...</td>\n",
              "      <td>[ 0.01863711  0.2306802   0.14600733 -0.019119...</td>\n",
              "      <td>[ 1.2426247e-02  1.0408522e+00  6.9133490e-01 ...</td>\n",
              "      <td>0</td>\n",
              "      <td>0</td>\n",
              "    </tr>\n",
              "    <tr>\n",
              "      <th>4</th>\n",
              "      <td>сперидан</td>\n",
              "      <td>[ 0.08634768  0.893356    0.55127096 -0.065075...</td>\n",
              "      <td>0</td>\n",
              "      <td>1</td>\n",
              "      <td>0</td>\n",
              "      <td>0</td>\n",
              "      <td>4</td>\n",
              "      <td>NaN</td>\n",
              "      <td>NaN</td>\n",
              "      <td>masc</td>\n",
              "      <td>NaN</td>\n",
              "      <td>PRTS</td>\n",
              "      <td>conj</td>\n",
              "      <td>рисполепт</td>\n",
              "      <td>inan</td>\n",
              "      <td>gent</td>\n",
              "      <td>femn</td>\n",
              "      <td>NOUN</td>\n",
              "      <td>[ 1.2426247e-02  1.0408522e+00  6.9133490e-01 ...</td>\n",
              "      <td>[ 0.01863711  0.2306802   0.14600733 -0.019119...</td>\n",
              "      <td>[ 0.02878256  0.29778534  0.18375699 -0.021691...</td>\n",
              "      <td>0</td>\n",
              "      <td>0</td>\n",
              "    </tr>\n",
              "    <tr>\n",
              "      <th>...</th>\n",
              "      <td>...</td>\n",
              "      <td>...</td>\n",
              "      <td>...</td>\n",
              "      <td>...</td>\n",
              "      <td>...</td>\n",
              "      <td>...</td>\n",
              "      <td>...</td>\n",
              "      <td>...</td>\n",
              "      <td>...</td>\n",
              "      <td>...</td>\n",
              "      <td>...</td>\n",
              "      <td>...</td>\n",
              "      <td>...</td>\n",
              "      <td>...</td>\n",
              "      <td>...</td>\n",
              "      <td>...</td>\n",
              "      <td>...</td>\n",
              "      <td>...</td>\n",
              "      <td>...</td>\n",
              "      <td>...</td>\n",
              "      <td>...</td>\n",
              "      <td>...</td>\n",
              "      <td>...</td>\n",
              "    </tr>\n",
              "    <tr>\n",
              "      <th>26492</th>\n",
              "      <td>и</td>\n",
              "      <td>[ 0.5048941   0.81449467  0.29763442  0.603937...</td>\n",
              "      <td>0</td>\n",
              "      <td>22</td>\n",
              "      <td>68</td>\n",
              "      <td>0</td>\n",
              "      <td>7</td>\n",
              "      <td>NaN</td>\n",
              "      <td>NaN</td>\n",
              "      <td>NaN</td>\n",
              "      <td>NaN</td>\n",
              "      <td>CONJ</td>\n",
              "      <td>cc</td>\n",
              "      <td>пошлины</td>\n",
              "      <td>inan</td>\n",
              "      <td>nomn</td>\n",
              "      <td>femn</td>\n",
              "      <td>NOUN</td>\n",
              "      <td>[ 0.7365944  -0.48505062 -0.00257558  0.168963...</td>\n",
              "      <td>[ 1.00772209e-01  6.29534647e-02 -3.53814550e-...</td>\n",
              "      <td>[ 0.41243815  0.190811   -0.11933009  0.042429...</td>\n",
              "      <td>0</td>\n",
              "      <td>0</td>\n",
              "    </tr>\n",
              "    <tr>\n",
              "      <th>26493</th>\n",
              "      <td>таможенные</td>\n",
              "      <td>[ 0.73242044 -0.24206167 -0.6556247  -0.476650...</td>\n",
              "      <td>0</td>\n",
              "      <td>22</td>\n",
              "      <td>68</td>\n",
              "      <td>0</td>\n",
              "      <td>8</td>\n",
              "      <td>NaN</td>\n",
              "      <td>nomn</td>\n",
              "      <td>NaN</td>\n",
              "      <td>NaN</td>\n",
              "      <td>ADJF</td>\n",
              "      <td>amod</td>\n",
              "      <td>пошлины</td>\n",
              "      <td>inan</td>\n",
              "      <td>nomn</td>\n",
              "      <td>femn</td>\n",
              "      <td>NOUN</td>\n",
              "      <td>[ 0.7365944  -0.48505062 -0.00257558  0.168963...</td>\n",
              "      <td>[ 1.00772209e-01  6.29534647e-02 -3.53814550e-...</td>\n",
              "      <td>[ 0.41243815  0.190811   -0.11933009  0.042429...</td>\n",
              "      <td>0</td>\n",
              "      <td>0</td>\n",
              "    </tr>\n",
              "    <tr>\n",
              "      <th>26494</th>\n",
              "      <td>пошлины</td>\n",
              "      <td>[ 0.7365944  -0.48505062 -0.00257558  0.168963...</td>\n",
              "      <td>0</td>\n",
              "      <td>22</td>\n",
              "      <td>68</td>\n",
              "      <td>0</td>\n",
              "      <td>9</td>\n",
              "      <td>inan</td>\n",
              "      <td>nomn</td>\n",
              "      <td>femn</td>\n",
              "      <td>NaN</td>\n",
              "      <td>NOUN</td>\n",
              "      <td>nsubj</td>\n",
              "      <td>есть</td>\n",
              "      <td>NaN</td>\n",
              "      <td>NaN</td>\n",
              "      <td>NaN</td>\n",
              "      <td>INFN</td>\n",
              "      <td>[-0.0050342   0.14796825  0.08416066 -0.776544...</td>\n",
              "      <td>[ 1.00772209e-01  6.29534647e-02 -3.53814550e-...</td>\n",
              "      <td>[ 5.7842094e-01  9.1962010e-02 -1.9555457e-01 ...</td>\n",
              "      <td>0</td>\n",
              "      <td>0</td>\n",
              "    </tr>\n",
              "    <tr>\n",
              "      <th>26495</th>\n",
              "      <td>как</td>\n",
              "      <td>[ 1.0349948e+00  7.3793733e-01 -3.8374668e-01 ...</td>\n",
              "      <td>0</td>\n",
              "      <td>22</td>\n",
              "      <td>68</td>\n",
              "      <td>0</td>\n",
              "      <td>10</td>\n",
              "      <td>NaN</td>\n",
              "      <td>NaN</td>\n",
              "      <td>NaN</td>\n",
              "      <td>NaN</td>\n",
              "      <td>CONJ</td>\n",
              "      <td>advmod</td>\n",
              "      <td>есть</td>\n",
              "      <td>NaN</td>\n",
              "      <td>NaN</td>\n",
              "      <td>NaN</td>\n",
              "      <td>INFN</td>\n",
              "      <td>[-0.0050342   0.14796825  0.08416066 -0.776544...</td>\n",
              "      <td>[ 1.00772209e-01  6.29534647e-02 -3.53814550e-...</td>\n",
              "      <td>[ 5.7842094e-01  9.1962010e-02 -1.9555457e-01 ...</td>\n",
              "      <td>0</td>\n",
              "      <td>0</td>\n",
              "    </tr>\n",
              "    <tr>\n",
              "      <th>26496</th>\n",
              "      <td>светка</td>\n",
              "      <td>[ 0.5079827   0.70259637  0.12796001 -0.312092...</td>\n",
              "      <td>0</td>\n",
              "      <td>22</td>\n",
              "      <td>69</td>\n",
              "      <td>0</td>\n",
              "      <td>0</td>\n",
              "      <td>inan</td>\n",
              "      <td>nomn</td>\n",
              "      <td>femn</td>\n",
              "      <td>NaN</td>\n",
              "      <td>NOUN</td>\n",
              "      <td>ROOT</td>\n",
              "      <td>светка</td>\n",
              "      <td>inan</td>\n",
              "      <td>nomn</td>\n",
              "      <td>femn</td>\n",
              "      <td>NOUN</td>\n",
              "      <td>[ 0.5079827   0.70259637  0.12796001 -0.312092...</td>\n",
              "      <td>[ 0.5079827   0.70259637  0.12796001 -0.312092...</td>\n",
              "      <td>0.0</td>\n",
              "      <td>0</td>\n",
              "      <td>0</td>\n",
              "    </tr>\n",
              "  </tbody>\n",
              "</table>\n",
              "<p>26497 rows × 23 columns</p>\n",
              "</div>"
            ],
            "text/plain": [
              "            TOKEN  ... COREFERENCE_CLUSTER\n",
              "0       обсуждаем  ...                   0\n",
              "1        препарат  ...                   0\n",
              "2      рисперидон  ...                   0\n",
              "3       рисполепт  ...                   0\n",
              "4        сперидан  ...                   0\n",
              "...           ...  ...                 ...\n",
              "26492           и  ...                   0\n",
              "26493  таможенные  ...                   0\n",
              "26494     пошлины  ...                   0\n",
              "26495         как  ...                   0\n",
              "26496      светка  ...                   0\n",
              "\n",
              "[26497 rows x 23 columns]"
            ]
          },
          "metadata": {
            "tags": []
          },
          "execution_count": 102
        }
      ]
    },
    {
      "cell_type": "code",
      "metadata": {
        "id": "uJqJZizzsDYm"
      },
      "source": [
        "cor_df.TOKEN_VECT = [np.matrix(i).A[0] for i in cor_df.TOKEN_VECT]\n",
        "cor_df.HEAD_VECT = [np.matrix(i).A[0] for i in cor_df.HEAD_VECT]\n",
        "cor_df.SENT_VECT = [np.matrix(i).A[0] for i in cor_df.SENT_VECT]\n",
        "cor_df.HEAD_CHILDS_VECT = [np.matrix(i).A[0] for i in cor_df.HEAD_CHILDS_VECT]"
      ],
      "execution_count": 103,
      "outputs": []
    },
    {
      "cell_type": "code",
      "metadata": {
        "id": "Z_QUWs5Ssa7I"
      },
      "source": [
        "df = cor_df.iloc[:9500,:]"
      ],
      "execution_count": 104,
      "outputs": []
    },
    {
      "cell_type": "code",
      "metadata": {
        "id": "w2I16EWhsI6o"
      },
      "source": [
        "cor_df['NER'] = anns_df['NER']\n",
        "cor_df['COREFERENCE_CLUSTER'] = anns_df['COREFERENCE_CLUSTER']"
      ],
      "execution_count": 105,
      "outputs": []
    },
    {
      "cell_type": "code",
      "metadata": {
        "id": "aCqjyeIitQLE",
        "outputId": "fa8a078d-b0a4-4887-cce9-1692d854ae76",
        "colab": {
          "base_uri": "https://localhost:8080/",
          "height": 641
        }
      },
      "source": [
        "axis_df = df.query('POST_NUM == 0 and TOKEN_NUM == 2 and SENT_NUM == 0')\n",
        "axis_df"
      ],
      "execution_count": 106,
      "outputs": [
        {
          "output_type": "execute_result",
          "data": {
            "text/html": [
              "<div>\n",
              "<style scoped>\n",
              "    .dataframe tbody tr th:only-of-type {\n",
              "        vertical-align: middle;\n",
              "    }\n",
              "\n",
              "    .dataframe tbody tr th {\n",
              "        vertical-align: top;\n",
              "    }\n",
              "\n",
              "    .dataframe thead th {\n",
              "        text-align: right;\n",
              "    }\n",
              "</style>\n",
              "<table border=\"1\" class=\"dataframe\">\n",
              "  <thead>\n",
              "    <tr style=\"text-align: right;\">\n",
              "      <th></th>\n",
              "      <th>TOKEN</th>\n",
              "      <th>TOKEN_VECT</th>\n",
              "      <th>IS_ANSWER</th>\n",
              "      <th>TOPIC_NUM</th>\n",
              "      <th>POST_NUM</th>\n",
              "      <th>SENT_NUM</th>\n",
              "      <th>TOKEN_NUM</th>\n",
              "      <th>ANIMACY</th>\n",
              "      <th>CASE</th>\n",
              "      <th>GENDER</th>\n",
              "      <th>PERSON</th>\n",
              "      <th>POS</th>\n",
              "      <th>DEPENDENCY</th>\n",
              "      <th>HEAD</th>\n",
              "      <th>HEAD_ANIMACY</th>\n",
              "      <th>HEAD_CASE</th>\n",
              "      <th>HEAD_GENDER</th>\n",
              "      <th>HEAD_POS</th>\n",
              "      <th>HEAD_VECT</th>\n",
              "      <th>SENT_VECT</th>\n",
              "      <th>HEAD_CHILDS_VECT</th>\n",
              "      <th>NER</th>\n",
              "      <th>COREFERENCE_CLUSTER</th>\n",
              "    </tr>\n",
              "  </thead>\n",
              "  <tbody>\n",
              "    <tr>\n",
              "      <th>2</th>\n",
              "      <td>рисперидон</td>\n",
              "      <td>[0.15259643, 1.0673474, 0.84192747, -0.0775155...</td>\n",
              "      <td>0</td>\n",
              "      <td>1</td>\n",
              "      <td>0</td>\n",
              "      <td>0</td>\n",
              "      <td>2</td>\n",
              "      <td>anim</td>\n",
              "      <td>nomn</td>\n",
              "      <td>masc</td>\n",
              "      <td>NaN</td>\n",
              "      <td>NOUN</td>\n",
              "      <td>appos</td>\n",
              "      <td>препарат</td>\n",
              "      <td>inan</td>\n",
              "      <td>nomn</td>\n",
              "      <td>masc</td>\n",
              "      <td>NOUN</td>\n",
              "      <td>[-0.17725945, 0.94834274, 0.90867615, 0.850609...</td>\n",
              "      <td>[0.01863711, 0.2306802, 0.14600733, -0.0191193...</td>\n",
              "      <td>[0.15259643, 1.0673474, 0.84192747, -0.0775155...</td>\n",
              "      <td>0</td>\n",
              "      <td>0</td>\n",
              "    </tr>\n",
              "    <tr>\n",
              "      <th>576</th>\n",
              "      <td>зелдокс</td>\n",
              "      <td>[0.2465947, 1.0097265, 0.31869438, 0.07363212,...</td>\n",
              "      <td>0</td>\n",
              "      <td>2</td>\n",
              "      <td>0</td>\n",
              "      <td>0</td>\n",
              "      <td>2</td>\n",
              "      <td>inan</td>\n",
              "      <td>nomn</td>\n",
              "      <td>masc</td>\n",
              "      <td>NaN</td>\n",
              "      <td>NOUN</td>\n",
              "      <td>appos</td>\n",
              "      <td>препарат</td>\n",
              "      <td>inan</td>\n",
              "      <td>nomn</td>\n",
              "      <td>masc</td>\n",
              "      <td>NOUN</td>\n",
              "      <td>[-0.17725945, 0.94834274, 0.90867615, 0.850609...</td>\n",
              "      <td>[0.03948287, 0.24082112, 0.22588146, -0.017884...</td>\n",
              "      <td>[0.2465947, 1.0097265, 0.31869438, 0.07363212,...</td>\n",
              "      <td>0</td>\n",
              "      <td>0</td>\n",
              "    </tr>\n",
              "    <tr>\n",
              "      <th>1870</th>\n",
              "      <td>оланзапин</td>\n",
              "      <td>[-0.082683861, 1.2017089, 0.67815673, -0.22599...</td>\n",
              "      <td>0</td>\n",
              "      <td>3</td>\n",
              "      <td>0</td>\n",
              "      <td>0</td>\n",
              "      <td>2</td>\n",
              "      <td>inan</td>\n",
              "      <td>gent</td>\n",
              "      <td>femn</td>\n",
              "      <td>NaN</td>\n",
              "      <td>NOUN</td>\n",
              "      <td>appos</td>\n",
              "      <td>препарат</td>\n",
              "      <td>inan</td>\n",
              "      <td>nomn</td>\n",
              "      <td>masc</td>\n",
              "      <td>NOUN</td>\n",
              "      <td>[-0.17725945, 0.94834274, 0.90867615, 0.850609...</td>\n",
              "      <td>[0.01915067, 0.0875298, 0.09080387, 0.00378973...</td>\n",
              "      <td>[-0.082683861, 1.2017089, 0.67815673, -0.22599...</td>\n",
              "      <td>0</td>\n",
              "      <td>0</td>\n",
              "    </tr>\n",
              "    <tr>\n",
              "      <th>5555</th>\n",
              "      <td>галоперидол</td>\n",
              "      <td>[-0.03019532, 1.2394575, 0.18222564, -0.215572...</td>\n",
              "      <td>0</td>\n",
              "      <td>4</td>\n",
              "      <td>0</td>\n",
              "      <td>0</td>\n",
              "      <td>2</td>\n",
              "      <td>inan</td>\n",
              "      <td>nomn</td>\n",
              "      <td>masc</td>\n",
              "      <td>NaN</td>\n",
              "      <td>NOUN</td>\n",
              "      <td>obj</td>\n",
              "      <td>обсуждаем</td>\n",
              "      <td>NaN</td>\n",
              "      <td>NaN</td>\n",
              "      <td>NaN</td>\n",
              "      <td>VERB</td>\n",
              "      <td>[-0.208233938, 0.996180058, -0.279894114, -0.9...</td>\n",
              "      <td>[-0.03747297, 0.5554195, 0.15133946, -0.011017...</td>\n",
              "      <td>[-0.10372739, 1.0939001, 0.5454509, 0.3175185,...</td>\n",
              "      <td>0</td>\n",
              "      <td>0</td>\n",
              "    </tr>\n",
              "    <tr>\n",
              "      <th>6200</th>\n",
              "      <td>тиаприд</td>\n",
              "      <td>[0.27581334, 0.80696917, 1.0271364, -0.1037090...</td>\n",
              "      <td>0</td>\n",
              "      <td>5</td>\n",
              "      <td>0</td>\n",
              "      <td>0</td>\n",
              "      <td>2</td>\n",
              "      <td>anim</td>\n",
              "      <td>nomn</td>\n",
              "      <td>masc</td>\n",
              "      <td>NaN</td>\n",
              "      <td>NOUN</td>\n",
              "      <td>appos</td>\n",
              "      <td>препарат</td>\n",
              "      <td>inan</td>\n",
              "      <td>nomn</td>\n",
              "      <td>masc</td>\n",
              "      <td>NOUN</td>\n",
              "      <td>[-0.17725945, 0.94834274, 0.90867615, 0.850609...</td>\n",
              "      <td>[0.10855111, 0.28903672, 0.2550475, -0.0276597...</td>\n",
              "      <td>[0.27581334, 0.80696917, 1.0271364, -0.1037090...</td>\n",
              "      <td>0</td>\n",
              "      <td>0</td>\n",
              "    </tr>\n",
              "    <tr>\n",
              "      <th>8450</th>\n",
              "      <td>сероквель</td>\n",
              "      <td>[0.087633356, 0.93445277, 0.69432694, 0.298702...</td>\n",
              "      <td>0</td>\n",
              "      <td>6</td>\n",
              "      <td>0</td>\n",
              "      <td>0</td>\n",
              "      <td>2</td>\n",
              "      <td>inan</td>\n",
              "      <td>gent</td>\n",
              "      <td>femn</td>\n",
              "      <td>NaN</td>\n",
              "      <td>NOUN</td>\n",
              "      <td>appos</td>\n",
              "      <td>препарат</td>\n",
              "      <td>inan</td>\n",
              "      <td>nomn</td>\n",
              "      <td>masc</td>\n",
              "      <td>NOUN</td>\n",
              "      <td>[-0.17725945, 0.94834274, 0.90867615, 0.850609...</td>\n",
              "      <td>[-0.04207938, 0.36281538, 0.25962716, 0.010672...</td>\n",
              "      <td>[0.087633356, 0.93445277, 0.69432694, 0.298702...</td>\n",
              "      <td>0</td>\n",
              "      <td>0</td>\n",
              "    </tr>\n",
              "    <tr>\n",
              "      <th>8541</th>\n",
              "      <td>день</td>\n",
              "      <td>[0.11187396, 1.2210127, -0.88301444, -0.466371...</td>\n",
              "      <td>0</td>\n",
              "      <td>7</td>\n",
              "      <td>0</td>\n",
              "      <td>0</td>\n",
              "      <td>2</td>\n",
              "      <td>inan</td>\n",
              "      <td>accs</td>\n",
              "      <td>masc</td>\n",
              "      <td>NaN</td>\n",
              "      <td>NOUN</td>\n",
              "      <td>ROOT</td>\n",
              "      <td>день</td>\n",
              "      <td>inan</td>\n",
              "      <td>accs</td>\n",
              "      <td>masc</td>\n",
              "      <td>NOUN</td>\n",
              "      <td>[0.11187396, 1.2210127, -0.88301444, -0.466371...</td>\n",
              "      <td>[0.10426845, 0.58591, -0.40001512, -0.31153095...</td>\n",
              "      <td>[0.3036255, 0.7870125, -0.33815098, -0.5249253...</td>\n",
              "      <td>0</td>\n",
              "      <td>0</td>\n",
              "    </tr>\n",
              "  </tbody>\n",
              "</table>\n",
              "</div>"
            ],
            "text/plain": [
              "            TOKEN  ... COREFERENCE_CLUSTER\n",
              "2      рисперидон  ...                   0\n",
              "576       зелдокс  ...                   0\n",
              "1870    оланзапин  ...                   0\n",
              "5555  галоперидол  ...                   0\n",
              "6200      тиаприд  ...                   0\n",
              "8450    сероквель  ...                   0\n",
              "8541         день  ...                   0\n",
              "\n",
              "[7 rows x 23 columns]"
            ]
          },
          "metadata": {
            "tags": []
          },
          "execution_count": 106
        }
      ]
    },
    {
      "cell_type": "code",
      "metadata": {
        "id": "5muDCkp-tNCq"
      },
      "source": [
        "\n",
        "token_axe = sum(axis_df.TOKEN_VECT)/len(axis_df.TOKEN_VECT)\n",
        "head_axe = sum(axis_df.HEAD_VECT)/len(axis_df.HEAD_VECT)\n",
        "head_childs_axe = sum(axis_df.HEAD_CHILDS_VECT)/len(axis_df.HEAD_CHILDS_VECT)\n",
        "sent_axe = sum(axis_df.SENT_VECT)/len(axis_df.SENT_VECT)"
      ],
      "execution_count": 107,
      "outputs": []
    },
    {
      "cell_type": "code",
      "metadata": {
        "id": "HDdmPJVxsXu0"
      },
      "source": [
        "def make_similarity(df, col, axe):\n",
        "  new_col = []\n",
        "  for ind, vect in enumerate(df[col]):\n",
        "    try:\n",
        "      new_col.append(cosine_similarity([axe], [vect])[-1][-1])\n",
        "    except ValueError:\n",
        "      new_col.append(0)\n",
        "  df[col] = new_col"
      ],
      "execution_count": 108,
      "outputs": []
    },
    {
      "cell_type": "code",
      "metadata": {
        "id": "5lRJwGLrsZW6",
        "outputId": "7ccb7939-3d59-40dc-8d61-26af30e22845",
        "colab": {
          "base_uri": "https://localhost:8080/"
        }
      },
      "source": [
        "make_similarity(df, 'TOKEN_VECT', token_axe)\n",
        "make_similarity(df, 'HEAD_VECT', head_axe)\n",
        "make_similarity(df, 'HEAD_CHILDS_VECT', head_childs_axe)\n",
        "make_similarity(df, 'SENT_VECT', sent_axe)"
      ],
      "execution_count": 109,
      "outputs": [
        {
          "output_type": "stream",
          "text": [
            "/usr/local/lib/python3.7/dist-packages/ipykernel_launcher.py:8: SettingWithCopyWarning: \n",
            "A value is trying to be set on a copy of a slice from a DataFrame.\n",
            "Try using .loc[row_indexer,col_indexer] = value instead\n",
            "\n",
            "See the caveats in the documentation: http://pandas.pydata.org/pandas-docs/stable/user_guide/indexing.html#returning-a-view-versus-a-copy\n",
            "  \n",
            "/usr/local/lib/python3.7/dist-packages/ipykernel_launcher.py:8: SettingWithCopyWarning: \n",
            "A value is trying to be set on a copy of a slice from a DataFrame.\n",
            "Try using .loc[row_indexer,col_indexer] = value instead\n",
            "\n",
            "See the caveats in the documentation: http://pandas.pydata.org/pandas-docs/stable/user_guide/indexing.html#returning-a-view-versus-a-copy\n",
            "  \n",
            "/usr/local/lib/python3.7/dist-packages/ipykernel_launcher.py:8: SettingWithCopyWarning: \n",
            "A value is trying to be set on a copy of a slice from a DataFrame.\n",
            "Try using .loc[row_indexer,col_indexer] = value instead\n",
            "\n",
            "See the caveats in the documentation: http://pandas.pydata.org/pandas-docs/stable/user_guide/indexing.html#returning-a-view-versus-a-copy\n",
            "  \n",
            "/usr/local/lib/python3.7/dist-packages/ipykernel_launcher.py:8: SettingWithCopyWarning: \n",
            "A value is trying to be set on a copy of a slice from a DataFrame.\n",
            "Try using .loc[row_indexer,col_indexer] = value instead\n",
            "\n",
            "See the caveats in the documentation: http://pandas.pydata.org/pandas-docs/stable/user_guide/indexing.html#returning-a-view-versus-a-copy\n",
            "  \n"
          ],
          "name": "stderr"
        }
      ]
    },
    {
      "cell_type": "code",
      "metadata": {
        "id": "NOBet-8DsLXs",
        "outputId": "0f68f9eb-6da8-4ea9-d8c8-4fc17fc42ba1",
        "colab": {
          "base_uri": "https://localhost:8080/"
        }
      },
      "source": [
        "for_factorize = 'ANIMACY\tCASE\tGENDER\tPERSON\tPOS\tDEPENDENCY\tHEAD\tHEAD_ANIMACY\tHEAD_CASE\tHEAD_GENDER\tHEAD_POS'.split()\n",
        "for_factorize"
      ],
      "execution_count": 110,
      "outputs": [
        {
          "output_type": "execute_result",
          "data": {
            "text/plain": [
              "['ANIMACY',\n",
              " 'CASE',\n",
              " 'GENDER',\n",
              " 'PERSON',\n",
              " 'POS',\n",
              " 'DEPENDENCY',\n",
              " 'HEAD',\n",
              " 'HEAD_ANIMACY',\n",
              " 'HEAD_CASE',\n",
              " 'HEAD_GENDER',\n",
              " 'HEAD_POS']"
            ]
          },
          "metadata": {
            "tags": []
          },
          "execution_count": 110
        }
      ]
    },
    {
      "cell_type": "code",
      "metadata": {
        "id": "cUqxtb5ZsisC",
        "outputId": "f16e44eb-a6bb-4260-969c-82e5df027e02",
        "colab": {
          "base_uri": "https://localhost:8080/"
        }
      },
      "source": [
        "mapping_dict = {}\n",
        "for col_name in for_factorize:\n",
        "  col, lbl = pd.factorize(df[col_name])\n",
        "  df[col_name] = col\n",
        "  mapping_dict[col_name] = lbl\n",
        "mapping_dict  "
      ],
      "execution_count": 111,
      "outputs": [
        {
          "output_type": "stream",
          "text": [
            "/usr/local/lib/python3.7/dist-packages/ipykernel_launcher.py:4: SettingWithCopyWarning: \n",
            "A value is trying to be set on a copy of a slice from a DataFrame.\n",
            "Try using .loc[row_indexer,col_indexer] = value instead\n",
            "\n",
            "See the caveats in the documentation: http://pandas.pydata.org/pandas-docs/stable/user_guide/indexing.html#returning-a-view-versus-a-copy\n",
            "  after removing the cwd from sys.path.\n"
          ],
          "name": "stderr"
        },
        {
          "output_type": "execute_result",
          "data": {
            "text/plain": [
              "{'ANIMACY': Index(['inan', 'anim'], dtype='object'),\n",
              " 'CASE': Index(['nomn', 'gent', 'datv', 'accs', 'loct', 'ablt', 'loc2'], dtype='object'),\n",
              " 'DEPENDENCY': Index(['ROOT', 'obj', 'appos', 'parataxis', 'conj', 'advmod', 'ccomp', 'iobj',\n",
              "        'csubj', 'case', 'obl', 'det', 'nsubj', 'cc', 'discourse', 'fixed',\n",
              "        'mark', 'amod', 'advcl', 'xcomp', 'nummod', 'nmod', 'nsubj:pass',\n",
              "        'nummod:gov', 'cop', 'acl:relcl', 'acl', 'aux', 'flat:foreign', 'punct',\n",
              "        'obl:agent', 'flat', 'aux:pass', 'orphan', 'expl'],\n",
              "       dtype='object'),\n",
              " 'GENDER': Index(['masc', 'femn', 'neut'], dtype='object'),\n",
              " 'HEAD': Index(['обсуждаем', 'препарат', 'рисперидон', 'рисполепт', 'знаю', 'стоило',\n",
              "        'меня', 'нет', 'проблем', 'лекарством',\n",
              "        ...\n",
              "        'нексиум', 'париет', 'желудке', 'пробиотики', 'схемы', 'обсудить',\n",
              "        'химиком', 'терапевтом', 'паллиативным', 'понадобятся'],\n",
              "       dtype='object', length=1795),\n",
              " 'HEAD_ANIMACY': Index(['inan', 'anim'], dtype='object'),\n",
              " 'HEAD_CASE': Index(['nomn', 'gent', 'accs', 'ablt', 'datv', 'loct', 'loc2'], dtype='object'),\n",
              " 'HEAD_GENDER': Index(['masc', 'femn', 'neut'], dtype='object'),\n",
              " 'HEAD_POS': Index(['VERB', 'NOUN', 'NPRO', 'PRED', 'PREP', 'INFN', 'PRTS', 'GRND', 'ADJF',\n",
              "        'ADVB', 'PRCL', 'PRTF', 'CONJ', 'ADJS', 'COMP', 'INTJ', 'NUMR'],\n",
              "       dtype='object'),\n",
              " 'PERSON': Index(['1per', '3per', '2per'], dtype='object'),\n",
              " 'POS': Index(['VERB', 'NOUN', 'PRTS', 'PRCL', 'CONJ', 'NPRO', 'INFN', 'PREP', 'ADVB',\n",
              "        'PRED', 'ADJF', 'NUMR', 'GRND', 'COMP', 'PRTF', 'ADJS', 'INTJ'],\n",
              "       dtype='object')}"
            ]
          },
          "metadata": {
            "tags": []
          },
          "execution_count": 111
        }
      ]
    },
    {
      "cell_type": "code",
      "metadata": {
        "id": "8VeNabPdsTpV"
      },
      "source": [
        "axis_df = df.query('POST_NUM == 0 and TOKEN_NUM == 2 and SENT_NUM == 0')\n",
        "token_axe = sum(axis_df.TOKEN_VECT)/len(axis_df.TOKEN_VECT)\n",
        "head_axe = sum(axis_df.HEAD_VECT)/len(axis_df.HEAD_VECT)\n",
        "head_childs_axe = sum(axis_df.HEAD_CHILDS_VECT)/len(axis_df.HEAD_CHILDS_VECT)\n",
        "sent_axe = sum(axis_df.SENT_VECT)/len(axis_df.SENT_VECT)"
      ],
      "execution_count": 112,
      "outputs": []
    },
    {
      "cell_type": "code",
      "metadata": {
        "id": "qrdqK3azvqsR"
      },
      "source": [
        "df = df[['TOKEN', 'NER']].iloc[:5000,:]"
      ],
      "execution_count": 113,
      "outputs": []
    },
    {
      "cell_type": "code",
      "metadata": {
        "id": "AW48eXSlw12t"
      },
      "source": [
        "lst = []\n",
        "for i in df.NER:\n",
        "  if i == 1.0:\n",
        "    lst.append('B-MED')\n",
        "  elif i == 2.0:\n",
        "    lst.append('B-NOMIN')\n",
        "  elif i == 3.0:\n",
        "    lst.append('B-PRON')\n",
        "  else:\n",
        "    lst.append('0')\n",
        "df.NER = lst"
      ],
      "execution_count": 114,
      "outputs": []
    },
    {
      "cell_type": "code",
      "metadata": {
        "id": "SNvK8uFOtk1S"
      },
      "source": [
        "train, test \\\n",
        "    = train_test_split(df, random_state=1)\n",
        "\n",
        "train, val \\\n",
        "    = train_test_split(train,  random_state=1) # 0.25 x 0.8 = 0.2"
      ],
      "execution_count": 115,
      "outputs": []
    },
    {
      "cell_type": "code",
      "metadata": {
        "id": "r8UoBbop0rX5",
        "outputId": "321090ec-147b-4a5e-8e4f-8bb1a7f78960",
        "colab": {
          "base_uri": "https://localhost:8080/",
          "height": 407
        }
      },
      "source": [
        "train"
      ],
      "execution_count": 116,
      "outputs": [
        {
          "output_type": "execute_result",
          "data": {
            "text/html": [
              "<div>\n",
              "<style scoped>\n",
              "    .dataframe tbody tr th:only-of-type {\n",
              "        vertical-align: middle;\n",
              "    }\n",
              "\n",
              "    .dataframe tbody tr th {\n",
              "        vertical-align: top;\n",
              "    }\n",
              "\n",
              "    .dataframe thead th {\n",
              "        text-align: right;\n",
              "    }\n",
              "</style>\n",
              "<table border=\"1\" class=\"dataframe\">\n",
              "  <thead>\n",
              "    <tr style=\"text-align: right;\">\n",
              "      <th></th>\n",
              "      <th>TOKEN</th>\n",
              "      <th>NER</th>\n",
              "    </tr>\n",
              "  </thead>\n",
              "  <tbody>\n",
              "    <tr>\n",
              "      <th>508</th>\n",
              "      <td>страх</td>\n",
              "      <td>0</td>\n",
              "    </tr>\n",
              "    <tr>\n",
              "      <th>3048</th>\n",
              "      <td>тысяче</td>\n",
              "      <td>0</td>\n",
              "    </tr>\n",
              "    <tr>\n",
              "      <th>2781</th>\n",
              "      <td>аппетит</td>\n",
              "      <td>0</td>\n",
              "    </tr>\n",
              "    <tr>\n",
              "      <th>4840</th>\n",
              "      <td>19:23</td>\n",
              "      <td>0</td>\n",
              "    </tr>\n",
              "    <tr>\n",
              "      <th>4586</th>\n",
              "      <td>дозой</td>\n",
              "      <td>0</td>\n",
              "    </tr>\n",
              "    <tr>\n",
              "      <th>...</th>\n",
              "      <td>...</td>\n",
              "      <td>...</td>\n",
              "    </tr>\n",
              "    <tr>\n",
              "      <th>3056</th>\n",
              "      <td>заслуги</td>\n",
              "      <td>0</td>\n",
              "    </tr>\n",
              "    <tr>\n",
              "      <th>4566</th>\n",
              "      <td>со</td>\n",
              "      <td>0</td>\n",
              "    </tr>\n",
              "    <tr>\n",
              "      <th>777</th>\n",
              "      <td>что</td>\n",
              "      <td>0</td>\n",
              "    </tr>\n",
              "    <tr>\n",
              "      <th>4682</th>\n",
              "      <td>рекомендуют</td>\n",
              "      <td>0</td>\n",
              "    </tr>\n",
              "    <tr>\n",
              "      <th>2474</th>\n",
              "      <td>под</td>\n",
              "      <td>0</td>\n",
              "    </tr>\n",
              "  </tbody>\n",
              "</table>\n",
              "<p>2812 rows × 2 columns</p>\n",
              "</div>"
            ],
            "text/plain": [
              "            TOKEN NER\n",
              "508         страх   0\n",
              "3048       тысяче   0\n",
              "2781      аппетит   0\n",
              "4840        19:23   0\n",
              "4586        дозой   0\n",
              "...           ...  ..\n",
              "3056      заслуги   0\n",
              "4566           со   0\n",
              "777           что   0\n",
              "4682  рекомендуют   0\n",
              "2474          под   0\n",
              "\n",
              "[2812 rows x 2 columns]"
            ]
          },
          "metadata": {
            "tags": []
          },
          "execution_count": 116
        }
      ]
    },
    {
      "cell_type": "code",
      "metadata": {
        "id": "pS4cVUGN0uAn",
        "outputId": "b4e99f47-15f7-418e-b78a-0ed1fd43f49b",
        "colab": {
          "base_uri": "https://localhost:8080/",
          "height": 407
        }
      },
      "source": [
        "test "
      ],
      "execution_count": 117,
      "outputs": [
        {
          "output_type": "execute_result",
          "data": {
            "text/html": [
              "<div>\n",
              "<style scoped>\n",
              "    .dataframe tbody tr th:only-of-type {\n",
              "        vertical-align: middle;\n",
              "    }\n",
              "\n",
              "    .dataframe tbody tr th {\n",
              "        vertical-align: top;\n",
              "    }\n",
              "\n",
              "    .dataframe thead th {\n",
              "        text-align: right;\n",
              "    }\n",
              "</style>\n",
              "<table border=\"1\" class=\"dataframe\">\n",
              "  <thead>\n",
              "    <tr style=\"text-align: right;\">\n",
              "      <th></th>\n",
              "      <th>TOKEN</th>\n",
              "      <th>NER</th>\n",
              "    </tr>\n",
              "  </thead>\n",
              "  <tbody>\n",
              "    <tr>\n",
              "      <th>2764</th>\n",
              "      <td>кг</td>\n",
              "      <td>0</td>\n",
              "    </tr>\n",
              "    <tr>\n",
              "      <th>4767</th>\n",
              "      <td>же</td>\n",
              "      <td>0</td>\n",
              "    </tr>\n",
              "    <tr>\n",
              "      <th>3814</th>\n",
              "      <td>szt</td>\n",
              "      <td>0</td>\n",
              "    </tr>\n",
              "    <tr>\n",
              "      <th>3499</th>\n",
              "      <td>при</td>\n",
              "      <td>0</td>\n",
              "    </tr>\n",
              "    <tr>\n",
              "      <th>2735</th>\n",
              "      <td>явления</td>\n",
              "      <td>0</td>\n",
              "    </tr>\n",
              "    <tr>\n",
              "      <th>...</th>\n",
              "      <td>...</td>\n",
              "      <td>...</td>\n",
              "    </tr>\n",
              "    <tr>\n",
              "      <th>3015</th>\n",
              "      <td>корпорацию</td>\n",
              "      <td>0</td>\n",
              "    </tr>\n",
              "    <tr>\n",
              "      <th>1891</th>\n",
              "      <td>кто</td>\n",
              "      <td>0</td>\n",
              "    </tr>\n",
              "    <tr>\n",
              "      <th>2773</th>\n",
              "      <td>0,5</td>\n",
              "      <td>0</td>\n",
              "    </tr>\n",
              "    <tr>\n",
              "      <th>3803</th>\n",
              "      <td>mg</td>\n",
              "      <td>0</td>\n",
              "    </tr>\n",
              "    <tr>\n",
              "      <th>3301</th>\n",
              "      <td>на</td>\n",
              "      <td>0</td>\n",
              "    </tr>\n",
              "  </tbody>\n",
              "</table>\n",
              "<p>1250 rows × 2 columns</p>\n",
              "</div>"
            ],
            "text/plain": [
              "           TOKEN NER\n",
              "2764          кг   0\n",
              "4767          же   0\n",
              "3814         szt   0\n",
              "3499         при   0\n",
              "2735     явления   0\n",
              "...          ...  ..\n",
              "3015  корпорацию   0\n",
              "1891         кто   0\n",
              "2773         0,5   0\n",
              "3803          mg   0\n",
              "3301          на   0\n",
              "\n",
              "[1250 rows x 2 columns]"
            ]
          },
          "metadata": {
            "tags": []
          },
          "execution_count": 117
        }
      ]
    },
    {
      "cell_type": "code",
      "metadata": {
        "id": "sta3gJev0xac",
        "outputId": "7f3f6646-64a1-4da5-fd1d-9c3f9fd5546b",
        "colab": {
          "base_uri": "https://localhost:8080/",
          "height": 407
        }
      },
      "source": [
        "val"
      ],
      "execution_count": 118,
      "outputs": [
        {
          "output_type": "execute_result",
          "data": {
            "text/html": [
              "<div>\n",
              "<style scoped>\n",
              "    .dataframe tbody tr th:only-of-type {\n",
              "        vertical-align: middle;\n",
              "    }\n",
              "\n",
              "    .dataframe tbody tr th {\n",
              "        vertical-align: top;\n",
              "    }\n",
              "\n",
              "    .dataframe thead th {\n",
              "        text-align: right;\n",
              "    }\n",
              "</style>\n",
              "<table border=\"1\" class=\"dataframe\">\n",
              "  <thead>\n",
              "    <tr style=\"text-align: right;\">\n",
              "      <th></th>\n",
              "      <th>TOKEN</th>\n",
              "      <th>NER</th>\n",
              "    </tr>\n",
              "  </thead>\n",
              "  <tbody>\n",
              "    <tr>\n",
              "      <th>2723</th>\n",
              "      <td>ли</td>\n",
              "      <td>0</td>\n",
              "    </tr>\n",
              "    <tr>\n",
              "      <th>1029</th>\n",
              "      <td>ли</td>\n",
              "      <td>0</td>\n",
              "    </tr>\n",
              "    <tr>\n",
              "      <th>4435</th>\n",
              "      <td>потом</td>\n",
              "      <td>0</td>\n",
              "    </tr>\n",
              "    <tr>\n",
              "      <th>908</th>\n",
              "      <td>на</td>\n",
              "      <td>0</td>\n",
              "    </tr>\n",
              "    <tr>\n",
              "      <th>3330</th>\n",
              "      <td>врачу</td>\n",
              "      <td>0</td>\n",
              "    </tr>\n",
              "    <tr>\n",
              "      <th>...</th>\n",
              "      <td>...</td>\n",
              "      <td>...</td>\n",
              "    </tr>\n",
              "    <tr>\n",
              "      <th>1980</th>\n",
              "      <td>сильного</td>\n",
              "      <td>0</td>\n",
              "    </tr>\n",
              "    <tr>\n",
              "      <th>537</th>\n",
              "      <td>после</td>\n",
              "      <td>0</td>\n",
              "    </tr>\n",
              "    <tr>\n",
              "      <th>2246</th>\n",
              "      <td>подавших</td>\n",
              "      <td>0</td>\n",
              "    </tr>\n",
              "    <tr>\n",
              "      <th>2806</th>\n",
              "      <td>может</td>\n",
              "      <td>0</td>\n",
              "    </tr>\n",
              "    <tr>\n",
              "      <th>4880</th>\n",
              "      <td>в</td>\n",
              "      <td>0</td>\n",
              "    </tr>\n",
              "  </tbody>\n",
              "</table>\n",
              "<p>938 rows × 2 columns</p>\n",
              "</div>"
            ],
            "text/plain": [
              "         TOKEN NER\n",
              "2723        ли   0\n",
              "1029        ли   0\n",
              "4435     потом   0\n",
              "908         на   0\n",
              "3330     врачу   0\n",
              "...        ...  ..\n",
              "1980  сильного   0\n",
              "537      после   0\n",
              "2246  подавших   0\n",
              "2806     может   0\n",
              "4880         в   0\n",
              "\n",
              "[938 rows x 2 columns]"
            ]
          },
          "metadata": {
            "tags": []
          },
          "execution_count": 118
        }
      ]
    },
    {
      "cell_type": "code",
      "metadata": {
        "id": "6ZW2zsJkq9TE"
      },
      "source": [
        "train.to_csv('tmp_train.txt', sep=' ', header=False, index=False)\n",
        "test.to_csv('tmp_test.txt', sep=' ', header=False, index=False)\n",
        "val.to_csv('tmp_valid.txt', sep=' ', header=False, index=False)"
      ],
      "execution_count": 119,
      "outputs": []
    },
    {
      "cell_type": "code",
      "metadata": {
        "id": "gH9X25q-0-jw"
      },
      "source": [
        "# train.to_csv('train.txt', sep=' ', header=False, index=False)\n",
        "# test.to_csv('test.txt', sep=' ', header=False, index=False)\n",
        "# val.to_csv('valid.txt', sep=' ', header=False, index=False)"
      ],
      "execution_count": 120,
      "outputs": []
    },
    {
      "cell_type": "code",
      "metadata": {
        "id": "HBnJDPQvsGm8"
      },
      "source": [
        "# print(open('train.txt').readlines()[0].split())\n",
        "# open('valid.txt').readlines()[10].split()"
      ],
      "execution_count": 121,
      "outputs": []
    },
    {
      "cell_type": "code",
      "metadata": {
        "id": "XnJsw03MsBkG"
      },
      "source": [
        "# handler = open('tmp_train.txt')\n",
        "# wr = open('train.txt', 'w')\n",
        "# # print(len(handler.readlines()))\n",
        "# for i in handler.readlines():\n",
        "#   i = i.replace('\\t', ' ')\n",
        "#   i = i.replace('O', '0')\n",
        "#   wr.write(i)\n",
        "# wr.close()\n",
        "# handler.close"
      ],
      "execution_count": 122,
      "outputs": []
    },
    {
      "cell_type": "code",
      "metadata": {
        "id": "vOU59D3bz83W"
      },
      "source": [
        "import re"
      ],
      "execution_count": 123,
      "outputs": []
    },
    {
      "cell_type": "code",
      "metadata": {
        "colab": {
          "base_uri": "https://localhost:8080/"
        },
        "id": "VuWyRwA2hOfY",
        "outputId": "7b039368-9330-43a0-9a0a-7788f430b3d3"
      },
      "source": [
        "len(open('tmp_test.txt', encoding='utf-8').readlines())"
      ],
      "execution_count": 124,
      "outputs": [
        {
          "output_type": "execute_result",
          "data": {
            "text/plain": [
              "1250"
            ]
          },
          "metadata": {
            "tags": []
          },
          "execution_count": 124
        }
      ]
    },
    {
      "cell_type": "code",
      "metadata": {
        "colab": {
          "base_uri": "https://localhost:8080/"
        },
        "id": "OIIuujeKg7BW",
        "outputId": "12af2714-ec2b-48af-f041-ee79af0d2f51"
      },
      "source": [
        "handler = open('tmp_test.txt', encoding='utf-8')\n",
        "wr = open('test.txt', 'w', encoding='utf-8')\n",
        "ll = ['B-MED', 'I-MED', 'B-PRON', 'I-EFFECT', 'B-NOMIN', 'I-SICK', '0', 0]\n",
        "# print(len(handler.readlines()))\n",
        "for i in handler.readlines():\n",
        "  i = i.replace('\\t', ' ')\n",
        "  if i == '\\n':\n",
        "    # print('yep')\n",
        "    wr.write('\\n')\n",
        "  if i.split() and len(i.split()) > 1:\n",
        "    if re.match(r'[A-zА-я]+', i.split()[0]) and i.split()[1] in ll:\n",
        "      wr.write(f'{i.split()[0]} {i.split()[1]}\\n')\n",
        "wr.close()\n",
        "handler.close"
      ],
      "execution_count": 125,
      "outputs": [
        {
          "output_type": "execute_result",
          "data": {
            "text/plain": [
              "<function TextIOWrapper.close>"
            ]
          },
          "metadata": {
            "tags": []
          },
          "execution_count": 125
        }
      ]
    },
    {
      "cell_type": "code",
      "metadata": {
        "colab": {
          "base_uri": "https://localhost:8080/"
        },
        "id": "TcwmrvdihaWD",
        "outputId": "4e87810e-bc7e-4577-af07-049bf8ba3181"
      },
      "source": [
        "len(open('tmp_test.txt', encoding='utf-8').readlines())"
      ],
      "execution_count": 126,
      "outputs": [
        {
          "output_type": "execute_result",
          "data": {
            "text/plain": [
              "1250"
            ]
          },
          "metadata": {
            "tags": []
          },
          "execution_count": 126
        }
      ]
    },
    {
      "cell_type": "code",
      "metadata": {
        "id": "mDagxtUKYCkd",
        "colab": {
          "base_uri": "https://localhost:8080/"
        },
        "outputId": "2c90c937-cbdb-4ff7-97ea-2bce37fbd641"
      },
      "source": [
        "handler = open('tmp_train.txt', encoding='utf-8')\n",
        "wr = open('train.txt', 'w', encoding='utf-8')\n",
        "ll = ['B-MED', 'I-MED', 'B-PRON', 'I-EFFECT', 'B-NOMIN', 'I-SICK', '0', 0]\n",
        "# print(len(handler.readlines()))\n",
        "for i in handler.readlines():\n",
        "  i = i.replace('\\t', ' ')\n",
        "  if i == '\\n':\n",
        "    # print('yep')\n",
        "    wr.write('\\n')\n",
        "  if i.split() and len(i.split()) > 1:\n",
        "    if re.match(r'[A-zА-я]+', i.split()[0]) and i.split()[1] in ll:\n",
        "      wr.write(f'{i.split()[0]} {i.split()[1]}\\n')\n",
        "wr.close()\n",
        "handler.close"
      ],
      "execution_count": 127,
      "outputs": [
        {
          "output_type": "execute_result",
          "data": {
            "text/plain": [
              "<function TextIOWrapper.close>"
            ]
          },
          "metadata": {
            "tags": []
          },
          "execution_count": 127
        }
      ]
    },
    {
      "cell_type": "code",
      "metadata": {
        "id": "mOxOXJIg2DxL",
        "outputId": "cf698e2b-2725-4586-c57f-d833c37886d6",
        "colab": {
          "base_uri": "https://localhost:8080/"
        }
      },
      "source": [
        "handler = open('tmp_valid.txt', encoding='utf-8')\n",
        "wr = open('valid.txt', 'w', encoding='utf-8')\n",
        "ll = ['B-MED', 'I-MED', 'B-PRON', 'I-EFFECT', 'B-NOMIN', 'I-SICK', '0', 0]\n",
        "# print(len(handler.readlines()))\n",
        "for i in handler.readlines():\n",
        "  i = i.replace('\\t', ' ')\n",
        "  if i == '\\n':\n",
        "    # print('yep')\n",
        "    wr.write('\\n')\n",
        "  if i.split() and len(i.split()) > 1:\n",
        "    if re.match(r'[A-zА-я]+', i.split()[0]) and i.split()[1] in ll:\n",
        "      wr.write(f'{i.split()[0]} {i.split()[1]}\\n')\n",
        "wr.close()\n",
        "handler.close"
      ],
      "execution_count": 128,
      "outputs": [
        {
          "output_type": "execute_result",
          "data": {
            "text/plain": [
              "<function TextIOWrapper.close>"
            ]
          },
          "metadata": {
            "tags": []
          },
          "execution_count": 128
        }
      ]
    },
    {
      "cell_type": "code",
      "metadata": {
        "id": "kneg5O4t7sF0",
        "outputId": "3e5aaf4f-befe-4393-d200-29273ee27414",
        "colab": {
          "base_uri": "https://localhost:8080/"
        }
      },
      "source": [
        "print(open('train.txt').readlines()[0].split())\n",
        "print(open('test.txt').readlines()[1].split())\n",
        "print(open('valid.txt').readlines()[1].split())"
      ],
      "execution_count": 129,
      "outputs": [
        {
          "output_type": "stream",
          "text": [
            "['страх', '0']\n",
            "['же', '0']\n",
            "['ли', '0']\n"
          ],
          "name": "stdout"
        }
      ]
    },
    {
      "cell_type": "code",
      "metadata": {
        "id": "TtgAC81fbm_K",
        "colab": {
          "base_uri": "https://localhost:8080/"
        },
        "outputId": "3c3e9290-9d26-43a7-911e-8550fd3e8b54"
      },
      "source": [
        "print(len(open('train.txt').readlines()))"
      ],
      "execution_count": 130,
      "outputs": [
        {
          "output_type": "stream",
          "text": [
            "2664\n"
          ],
          "name": "stdout"
        }
      ]
    },
    {
      "cell_type": "code",
      "metadata": {
        "id": "LjY9b3zHbuA8"
      },
      "source": [
        "# !rm -r logs  tag.dict\ttest.txt  valid.txt\n",
        "# !ls"
      ],
      "execution_count": 131,
      "outputs": []
    },
    {
      "cell_type": "code",
      "metadata": {
        "id": "pcgJe5tp7Yv5"
      },
      "source": [
        "# !wget https://raw.githubusercontent.com/DmitryKutsev/cross-document_coreference/main/data/few_shot_bert/test.txt\n",
        "# !wget https://raw.githubusercontent.com/DmitryKutsev/cross-document_coreference/main/data/few_shot_bert/valid.txt"
      ],
      "execution_count": 132,
      "outputs": []
    },
    {
      "cell_type": "code",
      "metadata": {
        "id": "3RtWmauwrjol",
        "colab": {
          "base_uri": "https://localhost:8080/"
        },
        "outputId": "36ca675b-6946-4541-c17c-37276544ff4d"
      },
      "source": [
        "# !cp train.txt test.txt\n",
        "# !cp train.txt valid.txt\n",
        "#  !rm -r logs  tag.dict\ttest.txt  train.txt  valid.txt\n",
        "# !rm test.txt  train.txt  valid.txt\n",
        "# !rm tmp_test.txt\ttmp_train.txt tmp_valid.txt\n",
        "\n",
        "!ls"
      ],
      "execution_count": 133,
      "outputs": [
        {
          "output_type": "stream",
          "text": [
            "content\t\t    new_anns60k.csv.13\tnew_anns60k.csv.6   test.txt\n",
            "logs\t\t    new_anns60k.csv.14\tnew_anns60k.csv.7   tmp_test.txt\n",
            "new_anns60k.csv     new_anns60k.csv.15\tnew_anns60k.csv.8   tmp_train.txt\n",
            "new_anns60k.csv.1   new_anns60k.csv.2\tnew_anns60k.csv.9   tmp_valid.txt\n",
            "new_anns60k.csv.10  new_anns60k.csv.3\tnew_df_anns60k.csv  train.txt\n",
            "new_anns60k.csv.11  new_anns60k.csv.4\tsample_data\t    valid.txt\n",
            "new_anns60k.csv.12  new_anns60k.csv.5\ttag.dict\t    valid.txt.1\n"
          ],
          "name": "stdout"
        }
      ]
    },
    {
      "cell_type": "code",
      "metadata": {
        "id": "VX0--aKxkbV4"
      },
      "source": [
        "import os\n",
        "import json\n",
        "from deeppavlov import configs, build_model, train_model\n",
        "\n",
        "with configs.ner.ner_ontonotes_bert_mult.open(encoding='utf8') as f:\n",
        "    ner_config = json.load(f)\n",
        "\n",
        "ner_config['train']['epochs'] = 3 # !!!тут обычно 30, но после того, как все грохнулось, временно будет 10\n",
        "os.environ[\"CUDA_VISIBLE_DEVICES\"]='3'\n",
        "ner_config['train']['pytest_batch_size']= 10\n",
        "ner_config['device']='GPU'\n",
        "ner_config['dataset_reader']['data_path'] = './'  # directory with train.txt, valid.txt and test.txt files\n",
        "ner_config['metadata']['variables']['NER_PATH'] = './'\n",
        "ner_config['metadata']['download'] = [ner_config['metadata']['download'][-1]]\n",
        "ner_config['train']['batch_size'] = 10"
      ],
      "execution_count": 134,
      "outputs": []
    },
    {
      "cell_type": "code",
      "metadata": {
        "id": "xtl00_qkAAFp"
      },
      "source": [
        "# ner_config"
      ],
      "execution_count": 135,
      "outputs": []
    },
    {
      "cell_type": "code",
      "metadata": {
        "colab": {
          "base_uri": "https://localhost:8080/"
        },
        "id": "8Gj0m8ASAEqT",
        "outputId": "adc170cb-77f0-495d-f940-28d5a45b69b1"
      },
      "source": [
        "ner_config['train']['epochs']"
      ],
      "execution_count": 136,
      "outputs": [
        {
          "output_type": "execute_result",
          "data": {
            "text/plain": [
              "3"
            ]
          },
          "metadata": {
            "tags": []
          },
          "execution_count": 136
        }
      ]
    },
    {
      "cell_type": "code",
      "metadata": {
        "id": "koC6oPCattuD",
        "colab": {
          "base_uri": "https://localhost:8080/"
        },
        "outputId": "1f0269f9-a5fa-46b8-c98c-d59e800485aa"
      },
      "source": [
        "# ner_config\n",
        "open('train.txt').readlines()[-1], open('test.txt').readlines()[-1], open('valid.txt').readlines()[-1]"
      ],
      "execution_count": 137,
      "outputs": [
        {
          "output_type": "execute_result",
          "data": {
            "text/plain": [
              "('под 0\\n', 'на 0\\n', 'в 0\\n')"
            ]
          },
          "metadata": {
            "tags": []
          },
          "execution_count": 137
        }
      ]
    },
    {
      "cell_type": "code",
      "metadata": {
        "id": "HhcQqAsIoN2u",
        "colab": {
          "base_uri": "https://localhost:8080/"
        },
        "outputId": "4471ac0a-f855-4d7d-8a49-fb16d5a27769"
      },
      "source": [
        "ner_model = train_model(ner_config, download=True)"
      ],
      "execution_count": null,
      "outputs": [
        {
          "output_type": "stream",
          "text": [
            "2021-05-22 22:01:52.47 INFO in 'deeppavlov.download'['download'] at line 138: Skipped http://files.deeppavlov.ai/deeppavlov_data/bert/multi_cased_L-12_H-768_A-12.zip download because of matching hashes\n",
            "2021-05-22 22:01:52.63 INFO in 'deeppavlov.core.trainers.fit_trainer'['fit_trainer'] at line 68: NNTrainer got additional init parameters ['pytest_max_batches', 'pytest_batch_size'] that will be ignored:\n",
            "2021-05-22 22:01:52.508 INFO in 'deeppavlov.core.data.simple_vocab'['simple_vocab'] at line 115: [loading vocabulary from /content/tag.dict]\n",
            "2021-05-22 22:01:52.521 INFO in 'deeppavlov.core.data.simple_vocab'['simple_vocab'] at line 101: [saving vocabulary to /content/tag.dict]\n"
          ],
          "name": "stderr"
        }
      ]
    },
    {
      "cell_type": "code",
      "metadata": {
        "id": "sg4inJipERTm"
      },
      "source": [
        "ner_model.save()"
      ],
      "execution_count": null,
      "outputs": []
    },
    {
      "cell_type": "code",
      "metadata": {
        "id": "Xc2HqRCXqmV1"
      },
      "source": [
        "ner_model([\"какое-то не лекарство\", \"пью леонезит 1 месяц\", \"варкрафт 2 интересная игра\"])"
      ],
      "execution_count": null,
      "outputs": []
    },
    {
      "cell_type": "code",
      "metadata": {
        "id": "TEec-hQRrBVh"
      },
      "source": [
        "nanika = ner_model(['Паксил норм. Принимал около года, щас перерыв. \\\n",
        "  Синдром отмены не то чтобы совсем отсутствует, но мне особых непрятностей не доставил. \\\n",
        "  Еще тироксин в качестве антидепрессанта хорош, хотя формально показания у него другие.'])"
      ],
      "execution_count": null,
      "outputs": []
    },
    {
      "cell_type": "code",
      "metadata": {
        "id": "m9yNpVOB8VzS"
      },
      "source": [
        "list(zip(nanika[0][0], nanika[1][0]))"
      ],
      "execution_count": null,
      "outputs": []
    },
    {
      "cell_type": "code",
      "metadata": {
        "id": "p8FiXz5hf-Yh"
      },
      "source": [
        "# !rm checkpoint -r model.data-00000-of-00001  model.meta logs\ttag.dict     model.index\t\t       sample_data"
      ],
      "execution_count": null,
      "outputs": []
    },
    {
      "cell_type": "code",
      "metadata": {
        "id": "T9RdJzwj6nvC"
      },
      "source": [
        "from google.colab import files\n",
        "import os\n",
        "!ls"
      ],
      "execution_count": null,
      "outputs": []
    },
    {
      "cell_type": "code",
      "metadata": {
        "id": "0IBV1raHdl05"
      },
      "source": [
        "for i in os.listdir():\n",
        "  print(i)\n",
        "  files.download(i)"
      ],
      "execution_count": null,
      "outputs": []
    },
    {
      "cell_type": "code",
      "metadata": {
        "id": "En3hWVLsgc2v"
      },
      "source": [
        ""
      ],
      "execution_count": null,
      "outputs": []
    },
    {
      "cell_type": "code",
      "metadata": {
        "id": "6gwr7dB8VFel"
      },
      "source": [
        ""
      ],
      "execution_count": null,
      "outputs": []
    }
  ]
}