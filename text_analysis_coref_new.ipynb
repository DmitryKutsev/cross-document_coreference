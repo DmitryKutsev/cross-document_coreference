{
  "nbformat": 4,
  "nbformat_minor": 0,
  "metadata": {
    "colab": {
      "name": "Untitled55.ipynb",
      "provenance": [],
      "authorship_tag": "ABX9TyPI3g3Q+gF9YYTg/8b72GTr",
      "include_colab_link": true
    },
    "kernelspec": {
      "name": "python3",
      "display_name": "Python 3"
    },
    "language_info": {
      "name": "python"
    }
  },
  "cells": [
    {
      "cell_type": "markdown",
      "metadata": {
        "id": "view-in-github",
        "colab_type": "text"
      },
      "source": [
        "<a href=\"https://colab.research.google.com/github/DmitryKutsev/cross-document_coreference/blob/main/text_analysis_coref_new.ipynb\" target=\"_parent\"><img src=\"https://colab.research.google.com/assets/colab-badge.svg\" alt=\"Open In Colab\"/></a>"
      ]
    },
    {
      "cell_type": "code",
      "metadata": {
        "colab": {
          "base_uri": "https://localhost:8080/",
          "height": 1000
        },
        "id": "oA2EFVEBdpW8",
        "outputId": "ed74ec55-e196-4beb-d6f7-321a289b89da"
      },
      "source": [
        "!pip install -U pip setuptools wheel\n",
        "!pip install -U spacy\n",
        "!python -m spacy download ru_core_news_sm\n",
        "!python -m spacy download ru_core_news_md"
      ],
      "execution_count": 2,
      "outputs": [
        {
          "output_type": "stream",
          "text": [
            "Collecting pip\n",
            "\u001b[?25l  Downloading https://files.pythonhosted.org/packages/cd/82/04e9aaf603fdbaecb4323b9e723f13c92c245f6ab2902195c53987848c78/pip-21.1.2-py3-none-any.whl (1.5MB)\n",
            "\u001b[K     |████████████████████████████████| 1.6MB 2.1MB/s \n",
            "\u001b[?25hCollecting setuptools\n",
            "\u001b[?25l  Downloading https://files.pythonhosted.org/packages/4e/78/56aa1b5f4d8ac548755ae767d84f0be54fdd9d404197a3d9e4659d272348/setuptools-57.0.0-py3-none-any.whl (821kB)\n",
            "\u001b[K     |████████████████████████████████| 829kB 19.4MB/s \n",
            "\u001b[?25hRequirement already up-to-date: wheel in /usr/local/lib/python3.7/dist-packages (0.36.2)\n",
            "\u001b[31mERROR: datascience 0.10.6 has requirement folium==0.2.1, but you'll have folium 0.8.3 which is incompatible.\u001b[0m\n",
            "Installing collected packages: pip, setuptools\n",
            "  Found existing installation: pip 19.3.1\n",
            "    Uninstalling pip-19.3.1:\n",
            "      Successfully uninstalled pip-19.3.1\n",
            "  Found existing installation: setuptools 56.1.0\n",
            "    Uninstalling setuptools-56.1.0:\n",
            "      Successfully uninstalled setuptools-56.1.0\n",
            "Successfully installed pip-21.1.2 setuptools-57.0.0\n"
          ],
          "name": "stdout"
        },
        {
          "output_type": "display_data",
          "data": {
            "application/vnd.colab-display-data+json": {
              "pip_warning": {
                "packages": [
                  "pkg_resources"
                ]
              }
            }
          },
          "metadata": {
            "tags": []
          }
        },
        {
          "output_type": "stream",
          "text": [
            "Requirement already satisfied: spacy in /usr/local/lib/python3.7/dist-packages (2.2.4)\n",
            "Collecting spacy\n",
            "  Downloading spacy-3.0.6-cp37-cp37m-manylinux2014_x86_64.whl (12.8 MB)\n",
            "\u001b[K     |████████████████████████████████| 12.8 MB 77 kB/s \n",
            "\u001b[?25hCollecting thinc<8.1.0,>=8.0.3\n",
            "  Downloading thinc-8.0.3-cp37-cp37m-manylinux2014_x86_64.whl (1.1 MB)\n",
            "\u001b[K     |████████████████████████████████| 1.1 MB 53.0 MB/s \n",
            "\u001b[?25hRequirement already satisfied: numpy>=1.15.0 in /usr/local/lib/python3.7/dist-packages (from spacy) (1.19.5)\n",
            "Requirement already satisfied: typing-extensions<4.0.0.0,>=3.7.4 in /usr/local/lib/python3.7/dist-packages (from spacy) (3.7.4.3)\n",
            "Requirement already satisfied: jinja2 in /usr/local/lib/python3.7/dist-packages (from spacy) (2.11.3)\n",
            "Requirement already satisfied: blis<0.8.0,>=0.4.0 in /usr/local/lib/python3.7/dist-packages (from spacy) (0.4.1)\n",
            "Requirement already satisfied: packaging>=20.0 in /usr/local/lib/python3.7/dist-packages (from spacy) (20.9)\n",
            "Collecting spacy-legacy<3.1.0,>=3.0.4\n",
            "  Downloading spacy_legacy-3.0.5-py2.py3-none-any.whl (12 kB)\n",
            "Collecting catalogue<2.1.0,>=2.0.3\n",
            "  Downloading catalogue-2.0.4-py3-none-any.whl (16 kB)\n",
            "Collecting pathy>=0.3.5\n",
            "  Downloading pathy-0.5.2-py3-none-any.whl (42 kB)\n",
            "\u001b[K     |████████████████████████████████| 42 kB 979 kB/s \n",
            "\u001b[?25hRequirement already satisfied: tqdm<5.0.0,>=4.38.0 in /usr/local/lib/python3.7/dist-packages (from spacy) (4.41.1)\n",
            "Requirement already satisfied: setuptools in /usr/local/lib/python3.7/dist-packages (from spacy) (57.0.0)\n",
            "Collecting pydantic<1.8.0,>=1.7.1\n",
            "  Downloading pydantic-1.7.4-cp37-cp37m-manylinux2014_x86_64.whl (9.1 MB)\n",
            "\u001b[K     |████████████████████████████████| 9.1 MB 56.0 MB/s \n",
            "\u001b[?25hRequirement already satisfied: wasabi<1.1.0,>=0.8.1 in /usr/local/lib/python3.7/dist-packages (from spacy) (0.8.2)\n",
            "Collecting srsly<3.0.0,>=2.4.1\n",
            "  Downloading srsly-2.4.1-cp37-cp37m-manylinux2014_x86_64.whl (456 kB)\n",
            "\u001b[K     |████████████████████████████████| 456 kB 47.6 MB/s \n",
            "\u001b[?25hCollecting typer<0.4.0,>=0.3.0\n",
            "  Downloading typer-0.3.2-py3-none-any.whl (21 kB)\n",
            "Requirement already satisfied: murmurhash<1.1.0,>=0.28.0 in /usr/local/lib/python3.7/dist-packages (from spacy) (1.0.5)\n",
            "Requirement already satisfied: requests<3.0.0,>=2.13.0 in /usr/local/lib/python3.7/dist-packages (from spacy) (2.23.0)\n",
            "Requirement already satisfied: cymem<2.1.0,>=2.0.2 in /usr/local/lib/python3.7/dist-packages (from spacy) (2.0.5)\n",
            "Requirement already satisfied: preshed<3.1.0,>=3.0.2 in /usr/local/lib/python3.7/dist-packages (from spacy) (3.0.5)\n",
            "Requirement already satisfied: zipp>=0.5 in /usr/local/lib/python3.7/dist-packages (from catalogue<2.1.0,>=2.0.3->spacy) (3.4.1)\n",
            "Requirement already satisfied: pyparsing>=2.0.2 in /usr/local/lib/python3.7/dist-packages (from packaging>=20.0->spacy) (2.4.7)\n",
            "Collecting smart-open<4.0.0,>=2.2.0\n",
            "  Downloading smart_open-3.0.0.tar.gz (113 kB)\n",
            "\u001b[K     |████████████████████████████████| 113 kB 54.5 MB/s \n",
            "\u001b[?25hRequirement already satisfied: chardet<4,>=3.0.2 in /usr/local/lib/python3.7/dist-packages (from requests<3.0.0,>=2.13.0->spacy) (3.0.4)\n",
            "Requirement already satisfied: urllib3!=1.25.0,!=1.25.1,<1.26,>=1.21.1 in /usr/local/lib/python3.7/dist-packages (from requests<3.0.0,>=2.13.0->spacy) (1.24.3)\n",
            "Requirement already satisfied: idna<3,>=2.5 in /usr/local/lib/python3.7/dist-packages (from requests<3.0.0,>=2.13.0->spacy) (2.10)\n",
            "Requirement already satisfied: certifi>=2017.4.17 in /usr/local/lib/python3.7/dist-packages (from requests<3.0.0,>=2.13.0->spacy) (2020.12.5)\n",
            "Collecting click<7.2.0,>=7.1.1\n",
            "  Downloading click-7.1.2-py2.py3-none-any.whl (82 kB)\n",
            "\u001b[K     |████████████████████████████████| 82 kB 942 kB/s \n",
            "\u001b[?25hRequirement already satisfied: MarkupSafe>=0.23 in /usr/local/lib/python3.7/dist-packages (from jinja2->spacy) (2.0.0)\n",
            "Building wheels for collected packages: smart-open\n",
            "  Building wheel for smart-open (setup.py) ... \u001b[?25l\u001b[?25hdone\n",
            "  Created wheel for smart-open: filename=smart_open-3.0.0-py3-none-any.whl size=107106 sha256=14892efd85e27abfc700670706201252f8c2c9cf3b19d5effbe73b858859e07b\n",
            "  Stored in directory: /root/.cache/pip/wheels/83/a6/12/bf3c1a667bde4251be5b7a3368b2d604c9af2105b5c1cb1870\n",
            "Successfully built smart-open\n",
            "Installing collected packages: click, catalogue, typer, srsly, smart-open, pydantic, thinc, spacy-legacy, pathy, spacy\n",
            "  Attempting uninstall: click\n",
            "    Found existing installation: click 8.0.0\n",
            "    Uninstalling click-8.0.0:\n",
            "      Successfully uninstalled click-8.0.0\n",
            "  Attempting uninstall: catalogue\n",
            "    Found existing installation: catalogue 1.0.0\n",
            "    Uninstalling catalogue-1.0.0:\n",
            "      Successfully uninstalled catalogue-1.0.0\n",
            "  Attempting uninstall: srsly\n",
            "    Found existing installation: srsly 1.0.5\n",
            "    Uninstalling srsly-1.0.5:\n",
            "      Successfully uninstalled srsly-1.0.5\n",
            "  Attempting uninstall: smart-open\n",
            "    Found existing installation: smart-open 5.0.0\n",
            "    Uninstalling smart-open-5.0.0:\n",
            "      Successfully uninstalled smart-open-5.0.0\n",
            "  Attempting uninstall: thinc\n",
            "    Found existing installation: thinc 7.4.0\n",
            "    Uninstalling thinc-7.4.0:\n",
            "      Successfully uninstalled thinc-7.4.0\n",
            "  Attempting uninstall: spacy\n",
            "    Found existing installation: spacy 2.2.4\n",
            "    Uninstalling spacy-2.2.4:\n",
            "      Successfully uninstalled spacy-2.2.4\n",
            "Successfully installed catalogue-2.0.4 click-7.1.2 pathy-0.5.2 pydantic-1.7.4 smart-open-3.0.0 spacy-3.0.6 spacy-legacy-3.0.5 srsly-2.4.1 thinc-8.0.3 typer-0.3.2\n",
            "\u001b[33mWARNING: Running pip as root will break packages and permissions. You should install packages reliably by using venv: https://pip.pypa.io/warnings/venv\u001b[0m\n",
            "2021-05-23 13:30:57.782108: I tensorflow/stream_executor/platform/default/dso_loader.cc:49] Successfully opened dynamic library libcudart.so.11.0\n",
            "Collecting ru-core-news-sm==3.0.0\n",
            "  Downloading https://github.com/explosion/spacy-models/releases/download/ru_core_news_sm-3.0.0/ru_core_news_sm-3.0.0-py3-none-any.whl (17.9 MB)\n",
            "\u001b[K     |████████████████████████████████| 17.9 MB 78.4 MB/s \n",
            "\u001b[?25hCollecting pymorphy2>=0.9\n",
            "  Downloading pymorphy2-0.9.1-py3-none-any.whl (55 kB)\n",
            "\u001b[K     |████████████████████████████████| 55 kB 1.4 MB/s \n",
            "\u001b[?25hRequirement already satisfied: spacy<3.1.0,>=3.0.0 in /usr/local/lib/python3.7/dist-packages (from ru-core-news-sm==3.0.0) (3.0.6)\n",
            "Collecting pymorphy2-dicts-ru<3.0,>=2.4\n",
            "  Downloading pymorphy2_dicts_ru-2.4.417127.4579844-py2.py3-none-any.whl (8.2 MB)\n",
            "\u001b[K     |████████████████████████████████| 8.2 MB 3.7 MB/s \n",
            "\u001b[?25hCollecting dawg-python>=0.7.1\n",
            "  Downloading DAWG_Python-0.7.2-py2.py3-none-any.whl (11 kB)\n",
            "Requirement already satisfied: docopt>=0.6 in /usr/local/lib/python3.7/dist-packages (from pymorphy2>=0.9->ru-core-news-sm==3.0.0) (0.6.2)\n",
            "Requirement already satisfied: thinc<8.1.0,>=8.0.3 in /usr/local/lib/python3.7/dist-packages (from spacy<3.1.0,>=3.0.0->ru-core-news-sm==3.0.0) (8.0.3)\n",
            "Requirement already satisfied: typing-extensions<4.0.0.0,>=3.7.4 in /usr/local/lib/python3.7/dist-packages (from spacy<3.1.0,>=3.0.0->ru-core-news-sm==3.0.0) (3.7.4.3)\n",
            "Requirement already satisfied: wasabi<1.1.0,>=0.8.1 in /usr/local/lib/python3.7/dist-packages (from spacy<3.1.0,>=3.0.0->ru-core-news-sm==3.0.0) (0.8.2)\n",
            "Requirement already satisfied: jinja2 in /usr/local/lib/python3.7/dist-packages (from spacy<3.1.0,>=3.0.0->ru-core-news-sm==3.0.0) (2.11.3)\n",
            "Requirement already satisfied: spacy-legacy<3.1.0,>=3.0.4 in /usr/local/lib/python3.7/dist-packages (from spacy<3.1.0,>=3.0.0->ru-core-news-sm==3.0.0) (3.0.5)\n",
            "Requirement already satisfied: srsly<3.0.0,>=2.4.1 in /usr/local/lib/python3.7/dist-packages (from spacy<3.1.0,>=3.0.0->ru-core-news-sm==3.0.0) (2.4.1)\n",
            "Requirement already satisfied: requests<3.0.0,>=2.13.0 in /usr/local/lib/python3.7/dist-packages (from spacy<3.1.0,>=3.0.0->ru-core-news-sm==3.0.0) (2.23.0)\n",
            "Requirement already satisfied: catalogue<2.1.0,>=2.0.3 in /usr/local/lib/python3.7/dist-packages (from spacy<3.1.0,>=3.0.0->ru-core-news-sm==3.0.0) (2.0.4)\n",
            "Requirement already satisfied: packaging>=20.0 in /usr/local/lib/python3.7/dist-packages (from spacy<3.1.0,>=3.0.0->ru-core-news-sm==3.0.0) (20.9)\n",
            "Requirement already satisfied: pathy>=0.3.5 in /usr/local/lib/python3.7/dist-packages (from spacy<3.1.0,>=3.0.0->ru-core-news-sm==3.0.0) (0.5.2)\n",
            "Requirement already satisfied: setuptools in /usr/local/lib/python3.7/dist-packages (from spacy<3.1.0,>=3.0.0->ru-core-news-sm==3.0.0) (57.0.0)\n",
            "Requirement already satisfied: blis<0.8.0,>=0.4.0 in /usr/local/lib/python3.7/dist-packages (from spacy<3.1.0,>=3.0.0->ru-core-news-sm==3.0.0) (0.4.1)\n",
            "Requirement already satisfied: pydantic<1.8.0,>=1.7.1 in /usr/local/lib/python3.7/dist-packages (from spacy<3.1.0,>=3.0.0->ru-core-news-sm==3.0.0) (1.7.4)\n",
            "Requirement already satisfied: cymem<2.1.0,>=2.0.2 in /usr/local/lib/python3.7/dist-packages (from spacy<3.1.0,>=3.0.0->ru-core-news-sm==3.0.0) (2.0.5)\n",
            "Requirement already satisfied: typer<0.4.0,>=0.3.0 in /usr/local/lib/python3.7/dist-packages (from spacy<3.1.0,>=3.0.0->ru-core-news-sm==3.0.0) (0.3.2)\n",
            "Requirement already satisfied: tqdm<5.0.0,>=4.38.0 in /usr/local/lib/python3.7/dist-packages (from spacy<3.1.0,>=3.0.0->ru-core-news-sm==3.0.0) (4.41.1)\n",
            "Requirement already satisfied: preshed<3.1.0,>=3.0.2 in /usr/local/lib/python3.7/dist-packages (from spacy<3.1.0,>=3.0.0->ru-core-news-sm==3.0.0) (3.0.5)\n",
            "Requirement already satisfied: numpy>=1.15.0 in /usr/local/lib/python3.7/dist-packages (from spacy<3.1.0,>=3.0.0->ru-core-news-sm==3.0.0) (1.19.5)\n",
            "Requirement already satisfied: murmurhash<1.1.0,>=0.28.0 in /usr/local/lib/python3.7/dist-packages (from spacy<3.1.0,>=3.0.0->ru-core-news-sm==3.0.0) (1.0.5)\n",
            "Requirement already satisfied: zipp>=0.5 in /usr/local/lib/python3.7/dist-packages (from catalogue<2.1.0,>=2.0.3->spacy<3.1.0,>=3.0.0->ru-core-news-sm==3.0.0) (3.4.1)\n",
            "Requirement already satisfied: pyparsing>=2.0.2 in /usr/local/lib/python3.7/dist-packages (from packaging>=20.0->spacy<3.1.0,>=3.0.0->ru-core-news-sm==3.0.0) (2.4.7)\n",
            "Requirement already satisfied: smart-open<4.0.0,>=2.2.0 in /usr/local/lib/python3.7/dist-packages (from pathy>=0.3.5->spacy<3.1.0,>=3.0.0->ru-core-news-sm==3.0.0) (3.0.0)\n",
            "Requirement already satisfied: chardet<4,>=3.0.2 in /usr/local/lib/python3.7/dist-packages (from requests<3.0.0,>=2.13.0->spacy<3.1.0,>=3.0.0->ru-core-news-sm==3.0.0) (3.0.4)\n",
            "Requirement already satisfied: urllib3!=1.25.0,!=1.25.1,<1.26,>=1.21.1 in /usr/local/lib/python3.7/dist-packages (from requests<3.0.0,>=2.13.0->spacy<3.1.0,>=3.0.0->ru-core-news-sm==3.0.0) (1.24.3)\n",
            "Requirement already satisfied: idna<3,>=2.5 in /usr/local/lib/python3.7/dist-packages (from requests<3.0.0,>=2.13.0->spacy<3.1.0,>=3.0.0->ru-core-news-sm==3.0.0) (2.10)\n",
            "Requirement already satisfied: certifi>=2017.4.17 in /usr/local/lib/python3.7/dist-packages (from requests<3.0.0,>=2.13.0->spacy<3.1.0,>=3.0.0->ru-core-news-sm==3.0.0) (2020.12.5)\n",
            "Requirement already satisfied: click<7.2.0,>=7.1.1 in /usr/local/lib/python3.7/dist-packages (from typer<0.4.0,>=0.3.0->spacy<3.1.0,>=3.0.0->ru-core-news-sm==3.0.0) (7.1.2)\n",
            "Requirement already satisfied: MarkupSafe>=0.23 in /usr/local/lib/python3.7/dist-packages (from jinja2->spacy<3.1.0,>=3.0.0->ru-core-news-sm==3.0.0) (2.0.0)\n",
            "Installing collected packages: pymorphy2-dicts-ru, dawg-python, pymorphy2, ru-core-news-sm\n",
            "Successfully installed dawg-python-0.7.2 pymorphy2-0.9.1 pymorphy2-dicts-ru-2.4.417127.4579844 ru-core-news-sm-3.0.0\n",
            "\u001b[33mWARNING: Running pip as root will break packages and permissions. You should install packages reliably by using venv: https://pip.pypa.io/warnings/venv\u001b[0m\n",
            "\u001b[38;5;2m✔ Download and installation successful\u001b[0m\n",
            "You can now load the package via spacy.load('ru_core_news_sm')\n",
            "2021-05-23 13:31:10.529438: I tensorflow/stream_executor/platform/default/dso_loader.cc:49] Successfully opened dynamic library libcudart.so.11.0\n",
            "Collecting ru-core-news-md==3.0.0\n",
            "  Downloading https://github.com/explosion/spacy-models/releases/download/ru_core_news_md-3.0.0/ru_core_news_md-3.0.0-py3-none-any.whl (43.9 MB)\n",
            "\u001b[K     |████████████████████████████████| 43.9 MB 19 kB/s \n",
            "\u001b[?25hRequirement already satisfied: pymorphy2>=0.9 in /usr/local/lib/python3.7/dist-packages (from ru-core-news-md==3.0.0) (0.9.1)\n",
            "Requirement already satisfied: spacy<3.1.0,>=3.0.0 in /usr/local/lib/python3.7/dist-packages (from ru-core-news-md==3.0.0) (3.0.6)\n",
            "Requirement already satisfied: docopt>=0.6 in /usr/local/lib/python3.7/dist-packages (from pymorphy2>=0.9->ru-core-news-md==3.0.0) (0.6.2)\n",
            "Requirement already satisfied: dawg-python>=0.7.1 in /usr/local/lib/python3.7/dist-packages (from pymorphy2>=0.9->ru-core-news-md==3.0.0) (0.7.2)\n",
            "Requirement already satisfied: pymorphy2-dicts-ru<3.0,>=2.4 in /usr/local/lib/python3.7/dist-packages (from pymorphy2>=0.9->ru-core-news-md==3.0.0) (2.4.417127.4579844)\n",
            "Requirement already satisfied: thinc<8.1.0,>=8.0.3 in /usr/local/lib/python3.7/dist-packages (from spacy<3.1.0,>=3.0.0->ru-core-news-md==3.0.0) (8.0.3)\n",
            "Requirement already satisfied: numpy>=1.15.0 in /usr/local/lib/python3.7/dist-packages (from spacy<3.1.0,>=3.0.0->ru-core-news-md==3.0.0) (1.19.5)\n",
            "Requirement already satisfied: blis<0.8.0,>=0.4.0 in /usr/local/lib/python3.7/dist-packages (from spacy<3.1.0,>=3.0.0->ru-core-news-md==3.0.0) (0.4.1)\n",
            "Requirement already satisfied: srsly<3.0.0,>=2.4.1 in /usr/local/lib/python3.7/dist-packages (from spacy<3.1.0,>=3.0.0->ru-core-news-md==3.0.0) (2.4.1)\n",
            "Requirement already satisfied: pathy>=0.3.5 in /usr/local/lib/python3.7/dist-packages (from spacy<3.1.0,>=3.0.0->ru-core-news-md==3.0.0) (0.5.2)\n",
            "Requirement already satisfied: jinja2 in /usr/local/lib/python3.7/dist-packages (from spacy<3.1.0,>=3.0.0->ru-core-news-md==3.0.0) (2.11.3)\n",
            "Requirement already satisfied: pydantic<1.8.0,>=1.7.1 in /usr/local/lib/python3.7/dist-packages (from spacy<3.1.0,>=3.0.0->ru-core-news-md==3.0.0) (1.7.4)\n",
            "Requirement already satisfied: preshed<3.1.0,>=3.0.2 in /usr/local/lib/python3.7/dist-packages (from spacy<3.1.0,>=3.0.0->ru-core-news-md==3.0.0) (3.0.5)\n",
            "Requirement already satisfied: tqdm<5.0.0,>=4.38.0 in /usr/local/lib/python3.7/dist-packages (from spacy<3.1.0,>=3.0.0->ru-core-news-md==3.0.0) (4.41.1)\n",
            "Requirement already satisfied: requests<3.0.0,>=2.13.0 in /usr/local/lib/python3.7/dist-packages (from spacy<3.1.0,>=3.0.0->ru-core-news-md==3.0.0) (2.23.0)\n",
            "Requirement already satisfied: catalogue<2.1.0,>=2.0.3 in /usr/local/lib/python3.7/dist-packages (from spacy<3.1.0,>=3.0.0->ru-core-news-md==3.0.0) (2.0.4)\n",
            "Requirement already satisfied: typing-extensions<4.0.0.0,>=3.7.4 in /usr/local/lib/python3.7/dist-packages (from spacy<3.1.0,>=3.0.0->ru-core-news-md==3.0.0) (3.7.4.3)\n",
            "Requirement already satisfied: packaging>=20.0 in /usr/local/lib/python3.7/dist-packages (from spacy<3.1.0,>=3.0.0->ru-core-news-md==3.0.0) (20.9)\n",
            "Requirement already satisfied: murmurhash<1.1.0,>=0.28.0 in /usr/local/lib/python3.7/dist-packages (from spacy<3.1.0,>=3.0.0->ru-core-news-md==3.0.0) (1.0.5)\n",
            "Requirement already satisfied: cymem<2.1.0,>=2.0.2 in /usr/local/lib/python3.7/dist-packages (from spacy<3.1.0,>=3.0.0->ru-core-news-md==3.0.0) (2.0.5)\n",
            "Requirement already satisfied: spacy-legacy<3.1.0,>=3.0.4 in /usr/local/lib/python3.7/dist-packages (from spacy<3.1.0,>=3.0.0->ru-core-news-md==3.0.0) (3.0.5)\n",
            "Requirement already satisfied: typer<0.4.0,>=0.3.0 in /usr/local/lib/python3.7/dist-packages (from spacy<3.1.0,>=3.0.0->ru-core-news-md==3.0.0) (0.3.2)\n",
            "Requirement already satisfied: setuptools in /usr/local/lib/python3.7/dist-packages (from spacy<3.1.0,>=3.0.0->ru-core-news-md==3.0.0) (57.0.0)\n",
            "Requirement already satisfied: wasabi<1.1.0,>=0.8.1 in /usr/local/lib/python3.7/dist-packages (from spacy<3.1.0,>=3.0.0->ru-core-news-md==3.0.0) (0.8.2)\n",
            "Requirement already satisfied: zipp>=0.5 in /usr/local/lib/python3.7/dist-packages (from catalogue<2.1.0,>=2.0.3->spacy<3.1.0,>=3.0.0->ru-core-news-md==3.0.0) (3.4.1)\n",
            "Requirement already satisfied: pyparsing>=2.0.2 in /usr/local/lib/python3.7/dist-packages (from packaging>=20.0->spacy<3.1.0,>=3.0.0->ru-core-news-md==3.0.0) (2.4.7)\n",
            "Requirement already satisfied: smart-open<4.0.0,>=2.2.0 in /usr/local/lib/python3.7/dist-packages (from pathy>=0.3.5->spacy<3.1.0,>=3.0.0->ru-core-news-md==3.0.0) (3.0.0)\n",
            "Requirement already satisfied: chardet<4,>=3.0.2 in /usr/local/lib/python3.7/dist-packages (from requests<3.0.0,>=2.13.0->spacy<3.1.0,>=3.0.0->ru-core-news-md==3.0.0) (3.0.4)\n",
            "Requirement already satisfied: urllib3!=1.25.0,!=1.25.1,<1.26,>=1.21.1 in /usr/local/lib/python3.7/dist-packages (from requests<3.0.0,>=2.13.0->spacy<3.1.0,>=3.0.0->ru-core-news-md==3.0.0) (1.24.3)\n",
            "Requirement already satisfied: certifi>=2017.4.17 in /usr/local/lib/python3.7/dist-packages (from requests<3.0.0,>=2.13.0->spacy<3.1.0,>=3.0.0->ru-core-news-md==3.0.0) (2020.12.5)\n",
            "Requirement already satisfied: idna<3,>=2.5 in /usr/local/lib/python3.7/dist-packages (from requests<3.0.0,>=2.13.0->spacy<3.1.0,>=3.0.0->ru-core-news-md==3.0.0) (2.10)\n",
            "Requirement already satisfied: click<7.2.0,>=7.1.1 in /usr/local/lib/python3.7/dist-packages (from typer<0.4.0,>=0.3.0->spacy<3.1.0,>=3.0.0->ru-core-news-md==3.0.0) (7.1.2)\n",
            "Requirement already satisfied: MarkupSafe>=0.23 in /usr/local/lib/python3.7/dist-packages (from jinja2->spacy<3.1.0,>=3.0.0->ru-core-news-md==3.0.0) (2.0.0)\n",
            "Installing collected packages: ru-core-news-md\n",
            "Successfully installed ru-core-news-md-3.0.0\n",
            "\u001b[33mWARNING: Running pip as root will break packages and permissions. You should install packages reliably by using venv: https://pip.pypa.io/warnings/venv\u001b[0m\n",
            "\u001b[38;5;2m✔ Download and installation successful\u001b[0m\n",
            "You can now load the package via spacy.load('ru_core_news_md')\n"
          ],
          "name": "stdout"
        }
      ]
    },
    {
      "cell_type": "code",
      "metadata": {
        "colab": {
          "base_uri": "https://localhost:8080/"
        },
        "id": "V7UjWjAX7P9d",
        "outputId": "28fea7fb-dd49-400b-8557-969e8ecd3e0f"
      },
      "source": [
        "pip install pymorphy2[fast]"
      ],
      "execution_count": 3,
      "outputs": [
        {
          "output_type": "stream",
          "text": [
            "Requirement already satisfied: pymorphy2[fast] in /usr/local/lib/python3.7/dist-packages (0.9.1)\n",
            "Requirement already satisfied: dawg-python>=0.7.1 in /usr/local/lib/python3.7/dist-packages (from pymorphy2[fast]) (0.7.2)\n",
            "Requirement already satisfied: docopt>=0.6 in /usr/local/lib/python3.7/dist-packages (from pymorphy2[fast]) (0.6.2)\n",
            "Requirement already satisfied: pymorphy2-dicts-ru<3.0,>=2.4 in /usr/local/lib/python3.7/dist-packages (from pymorphy2[fast]) (2.4.417127.4579844)\n",
            "Collecting DAWG>=0.8\n",
            "  Downloading DAWG-0.8.0.tar.gz (371 kB)\n",
            "\u001b[K     |████████████████████████████████| 371 kB 3.0 MB/s \n",
            "\u001b[?25hBuilding wheels for collected packages: DAWG\n",
            "  Building wheel for DAWG (setup.py) ... \u001b[?25l\u001b[?25hdone\n",
            "  Created wheel for DAWG: filename=DAWG-0.8.0-cp37-cp37m-linux_x86_64.whl size=864429 sha256=30503f3629b1342a1db0bbd1b4fce66121e85703f11ab25861be6a6495f59c1f\n",
            "  Stored in directory: /root/.cache/pip/wheels/85/51/a4/2de41ff197786537075027c27b479a38da92f50abc86634445\n",
            "Successfully built DAWG\n",
            "Installing collected packages: DAWG\n",
            "Successfully installed DAWG-0.8.0\n",
            "\u001b[33mWARNING: Running pip as root will break packages and permissions. You should install packages reliably by using venv: https://pip.pypa.io/warnings/venv\u001b[0m\n"
          ],
          "name": "stdout"
        }
      ]
    },
    {
      "cell_type": "code",
      "metadata": {
        "colab": {
          "base_uri": "https://localhost:8080/"
        },
        "id": "YPb5-By9vJOA",
        "outputId": "95955f68-c80c-44f2-fdd5-0345f9732c85"
      },
      "source": [
        "pip install Gensim"
      ],
      "execution_count": 4,
      "outputs": [
        {
          "output_type": "stream",
          "text": [
            "Requirement already satisfied: Gensim in /usr/local/lib/python3.7/dist-packages (3.6.0)\n",
            "Requirement already satisfied: six>=1.5.0 in /usr/local/lib/python3.7/dist-packages (from Gensim) (1.15.0)\n",
            "Requirement already satisfied: numpy>=1.11.3 in /usr/local/lib/python3.7/dist-packages (from Gensim) (1.19.5)\n",
            "Requirement already satisfied: smart-open>=1.2.1 in /usr/local/lib/python3.7/dist-packages (from Gensim) (3.0.0)\n",
            "Requirement already satisfied: scipy>=0.18.1 in /usr/local/lib/python3.7/dist-packages (from Gensim) (1.4.1)\n",
            "Requirement already satisfied: requests in /usr/local/lib/python3.7/dist-packages (from smart-open>=1.2.1->Gensim) (2.23.0)\n",
            "Requirement already satisfied: certifi>=2017.4.17 in /usr/local/lib/python3.7/dist-packages (from requests->smart-open>=1.2.1->Gensim) (2020.12.5)\n",
            "Requirement already satisfied: urllib3!=1.25.0,!=1.25.1,<1.26,>=1.21.1 in /usr/local/lib/python3.7/dist-packages (from requests->smart-open>=1.2.1->Gensim) (1.24.3)\n",
            "Requirement already satisfied: idna<3,>=2.5 in /usr/local/lib/python3.7/dist-packages (from requests->smart-open>=1.2.1->Gensim) (2.10)\n",
            "Requirement already satisfied: chardet<4,>=3.0.2 in /usr/local/lib/python3.7/dist-packages (from requests->smart-open>=1.2.1->Gensim) (3.0.4)\n",
            "\u001b[33mWARNING: Running pip as root will break packages and permissions. You should install packages reliably by using venv: https://pip.pypa.io/warnings/venv\u001b[0m\n"
          ],
          "name": "stdout"
        }
      ]
    },
    {
      "cell_type": "code",
      "metadata": {
        "id": "FA9wDY-2d-pF"
      },
      "source": [
        "import spacy\n",
        "import gensim\n",
        "from gensim.models import Word2Vec \n",
        "from nltk.tokenize import RegexpTokenizer\n",
        "from nltk import  sent_tokenize\n",
        "from sklearn.metrics.pairwise import cosine_distances, cosine_similarity\n",
        "import numpy as np\n",
        "import pandas as pd\n",
        "from sklearn.feature_extraction.text import TfidfVectorizer"
      ],
      "execution_count": 5,
      "outputs": []
    },
    {
      "cell_type": "code",
      "metadata": {
        "id": "eBhu8gSAd_6M"
      },
      "source": [
        "nlp = spacy.load('ru_core_news_md')"
      ],
      "execution_count": 6,
      "outputs": []
    },
    {
      "cell_type": "code",
      "metadata": {
        "colab": {
          "base_uri": "https://localhost:8080/"
        },
        "id": "tOvjxp5z8ZDc",
        "outputId": "523b3876-ab5b-42c6-fc94-4bc4f30479cf"
      },
      "source": [
        "!wget https://raw.githubusercontent.com/DmitryKutsev/cross-document_coreference/main/scraping/neuroleptic_antidepr2.txt"
      ],
      "execution_count": 7,
      "outputs": [
        {
          "output_type": "stream",
          "text": [
            "--2021-05-23 13:31:55--  https://raw.githubusercontent.com/DmitryKutsev/cross-document_coreference/main/scraping/neuroleptic_antidepr2.txt\n",
            "Resolving raw.githubusercontent.com (raw.githubusercontent.com)... 185.199.110.133, 185.199.109.133, 185.199.108.133, ...\n",
            "Connecting to raw.githubusercontent.com (raw.githubusercontent.com)|185.199.110.133|:443... connected.\n",
            "HTTP request sent, awaiting response... 200 OK\n",
            "Length: 11655409 (11M) [text/plain]\n",
            "Saving to: ‘neuroleptic_antidepr2.txt’\n",
            "\n",
            "neuroleptic_antidep 100%[===================>]  11.12M  17.0MB/s    in 0.7s    \n",
            "\n",
            "2021-05-23 13:31:57 (17.0 MB/s) - ‘neuroleptic_antidepr2.txt’ saved [11655409/11655409]\n",
            "\n"
          ],
          "name": "stdout"
        }
      ]
    },
    {
      "cell_type": "code",
      "metadata": {
        "colab": {
          "base_uri": "https://localhost:8080/"
        },
        "id": "Ql21vrWnb2qF",
        "outputId": "61cbf401-8203-447d-b249-4b99012ae9b8"
      },
      "source": [
        "!wget https://raw.githubusercontent.com/DmitryKutsev/cross-document_coreference/main/scraping/rakpobedim_ru2.txt"
      ],
      "execution_count": 8,
      "outputs": [
        {
          "output_type": "stream",
          "text": [
            "--2021-05-23 13:31:57--  https://raw.githubusercontent.com/DmitryKutsev/cross-document_coreference/main/scraping/rakpobedim_ru2.txt\n",
            "Resolving raw.githubusercontent.com (raw.githubusercontent.com)... 185.199.108.133, 185.199.109.133, 185.199.110.133, ...\n",
            "Connecting to raw.githubusercontent.com (raw.githubusercontent.com)|185.199.108.133|:443... connected.\n",
            "HTTP request sent, awaiting response... 200 OK\n",
            "Length: 19072917 (18M) [text/plain]\n",
            "Saving to: ‘rakpobedim_ru2.txt’\n",
            "\n",
            "rakpobedim_ru2.txt  100%[===================>]  18.19M  20.7MB/s    in 0.9s    \n",
            "\n",
            "2021-05-23 13:31:59 (20.7 MB/s) - ‘rakpobedim_ru2.txt’ saved [19072917/19072917]\n",
            "\n"
          ],
          "name": "stdout"
        }
      ]
    },
    {
      "cell_type": "code",
      "metadata": {
        "colab": {
          "base_uri": "https://localhost:8080/"
        },
        "id": "R0ZudIeTb22Z",
        "outputId": "b0883ea6-a5f4-41d3-9de4-f2774cc5d1f4"
      },
      "source": [
        "!wget https://raw.githubusercontent.com/DmitryKutsev/cross-document_coreference/main/scraping/hv-info_gepatit2.txt"
      ],
      "execution_count": 9,
      "outputs": [
        {
          "output_type": "stream",
          "text": [
            "--2021-05-23 13:31:59--  https://raw.githubusercontent.com/DmitryKutsev/cross-document_coreference/main/scraping/hv-info_gepatit2.txt\n",
            "Resolving raw.githubusercontent.com (raw.githubusercontent.com)... 185.199.110.133, 185.199.111.133, 185.199.109.133, ...\n",
            "Connecting to raw.githubusercontent.com (raw.githubusercontent.com)|185.199.110.133|:443... connected.\n",
            "HTTP request sent, awaiting response... 200 OK\n",
            "Length: 18273113 (17M) [text/plain]\n",
            "Saving to: ‘hv-info_gepatit2.txt’\n",
            "\n",
            "hv-info_gepatit2.tx 100%[===================>]  17.43M  20.7MB/s    in 0.8s    \n",
            "\n",
            "2021-05-23 13:32:02 (20.7 MB/s) - ‘hv-info_gepatit2.txt’ saved [18273113/18273113]\n",
            "\n"
          ],
          "name": "stdout"
        }
      ]
    },
    {
      "cell_type": "code",
      "metadata": {
        "colab": {
          "base_uri": "https://localhost:8080/"
        },
        "id": "vpy6V0dtsM79",
        "outputId": "05775d77-9c84-4858-9874-823e1156cd0c"
      },
      "source": [
        "!wget https://rusvectores.org/static/models/news_upos_cbow_300_2_2017.bin.gz"
      ],
      "execution_count": 10,
      "outputs": [
        {
          "output_type": "stream",
          "text": [
            "--2021-05-23 13:32:02--  https://rusvectores.org/static/models/news_upos_cbow_300_2_2017.bin.gz\n",
            "Resolving rusvectores.org (rusvectores.org)... 116.203.104.23\n",
            "Connecting to rusvectores.org (rusvectores.org)|116.203.104.23|:443... connected.\n",
            "HTTP request sent, awaiting response... 200 OK\n",
            "Length: 140310878 (134M) [application/x-gzip]\n",
            "Saving to: ‘news_upos_cbow_300_2_2017.bin.gz’\n",
            "\n",
            "news_upos_cbow_300_ 100%[===================>] 133.81M  10.5MB/s    in 15s     \n",
            "\n",
            "2021-05-23 13:32:18 (8.92 MB/s) - ‘news_upos_cbow_300_2_2017.bin.gz’ saved [140310878/140310878]\n",
            "\n"
          ],
          "name": "stdout"
        }
      ]
    },
    {
      "cell_type": "code",
      "metadata": {
        "id": "v3dEmsOH8eOZ"
      },
      "source": [
        "handler = open('neuroleptic_antidepr2.txt', 'r', encoding='utf-8')\n",
        "my_txt = handler.read()\n",
        "handler.close()\n"
      ],
      "execution_count": 11,
      "outputs": []
    },
    {
      "cell_type": "code",
      "metadata": {
        "id": "G4UmH2pucmxK"
      },
      "source": [
        "handler = open('hv-info_gepatit2.txt', 'r', encoding='utf-8')\n",
        "my_txt += handler.read()\n",
        "handler.close()"
      ],
      "execution_count": 12,
      "outputs": []
    },
    {
      "cell_type": "code",
      "metadata": {
        "id": "wBp9WjLNcgsJ"
      },
      "source": [
        "handler = open('rakpobedim_ru2.txt', 'r', encoding='utf-8')\n",
        "my_txt += handler.read()\n",
        "handler.close()"
      ],
      "execution_count": 13,
      "outputs": []
    },
    {
      "cell_type": "code",
      "metadata": {
        "colab": {
          "base_uri": "https://localhost:8080/"
        },
        "id": "Z_8MyfaucZxO",
        "outputId": "7d33d634-4736-46bc-f4f6-ef3fef0d8654"
      },
      "source": [
        "len(my_txt)"
      ],
      "execution_count": 14,
      "outputs": [
        {
          "output_type": "execute_result",
          "data": {
            "text/plain": [
              "27946773"
            ]
          },
          "metadata": {
            "tags": []
          },
          "execution_count": 14
        }
      ]
    },
    {
      "cell_type": "code",
      "metadata": {
        "id": "aiQH5Q0pZJQZ"
      },
      "source": [
        "tfidf = TfidfVectorizer(max_features=3000, ngram_range=(1,3))"
      ],
      "execution_count": 15,
      "outputs": []
    },
    {
      "cell_type": "code",
      "metadata": {
        "colab": {
          "base_uri": "https://localhost:8080/"
        },
        "id": "e410Dy9KdGqv",
        "outputId": "3fe5915a-fe20-4e95-e01b-94c93136cd20"
      },
      "source": [
        "!wget https://rusvectores.org/static/models/news_upos_cbow_300_2_2017.bin.gz"
      ],
      "execution_count": 16,
      "outputs": [
        {
          "output_type": "stream",
          "text": [
            "--2021-05-23 13:32:19--  https://rusvectores.org/static/models/news_upos_cbow_300_2_2017.bin.gz\n",
            "Resolving rusvectores.org (rusvectores.org)... 116.203.104.23\n",
            "Connecting to rusvectores.org (rusvectores.org)|116.203.104.23|:443... connected.\n",
            "HTTP request sent, awaiting response... 200 OK\n",
            "Length: 140310878 (134M) [application/x-gzip]\n",
            "Saving to: ‘news_upos_cbow_300_2_2017.bin.gz.1’\n",
            "\n",
            "news_upos_cbow_300_ 100%[===================>] 133.81M  9.15MB/s    in 16s     \n",
            "\n",
            "2021-05-23 13:32:36 (8.40 MB/s) - ‘news_upos_cbow_300_2_2017.bin.gz.1’ saved [140310878/140310878]\n",
            "\n"
          ],
          "name": "stdout"
        }
      ]
    },
    {
      "cell_type": "code",
      "metadata": {
        "id": "JLT6J1ua82fF"
      },
      "source": [
        "posts = my_txt.split('----')"
      ],
      "execution_count": 17,
      "outputs": []
    },
    {
      "cell_type": "code",
      "metadata": {
        "id": "zXZdM39Zzais"
      },
      "source": [
        "tokenizer = RegexpTokenizer(r'\\w+')\n",
        "sentences_tokenized = [w.lower() for w in posts]\n",
        "\n",
        "vectorized_txt = tfidf.fit_transform(sentences_tokenized)\n",
        "sentences_tokenized = [tokenizer.tokenize(i) for i in sentences_tokenized]"
      ],
      "execution_count": 18,
      "outputs": []
    },
    {
      "cell_type": "code",
      "metadata": {
        "id": "W44Ejf4ILyxP"
      },
      "source": [
        "from gensim.models import FastText\n",
        "from google.colab import files"
      ],
      "execution_count": 19,
      "outputs": []
    },
    {
      "cell_type": "code",
      "metadata": {
        "id": "H3DaCSYSLbti"
      },
      "source": [
        "ft = FastText(sentences_tokenized, size=100, window=5, min_count=5, workers=4,sg=1)"
      ],
      "execution_count": 20,
      "outputs": []
    },
    {
      "cell_type": "code",
      "metadata": {
        "id": "ZYAobGf_ubLC"
      },
      "source": [
        "ft.save('ft_model')"
      ],
      "execution_count": 21,
      "outputs": []
    },
    {
      "cell_type": "code",
      "metadata": {
        "id": "_j-FLzi4vWaM"
      },
      "source": [
        "# files.download('ft_model')"
      ],
      "execution_count": 22,
      "outputs": []
    },
    {
      "cell_type": "code",
      "metadata": {
        "id": "wjXk9HzZL7Xi",
        "colab": {
          "base_uri": "https://localhost:8080/"
        },
        "outputId": "b42d992c-388f-47a7-afc8-e5838ae2912f"
      },
      "source": [
        "ft.most_similar('алимемазин')"
      ],
      "execution_count": 23,
      "outputs": [
        {
          "output_type": "stream",
          "text": [
            "/usr/local/lib/python3.7/dist-packages/ipykernel_launcher.py:1: DeprecationWarning: Call to deprecated `most_similar` (Method will be removed in 4.0.0, use self.wv.most_similar() instead).\n",
            "  \"\"\"Entry point for launching an IPython kernel.\n"
          ],
          "name": "stderr"
        },
        {
          "output_type": "execute_result",
          "data": {
            "text/plain": [
              "[('левомепромазин', 0.899726390838623),\n",
              " ('триоксазин', 0.8850526809692383),\n",
              " ('трифлуоперазин', 0.8568863868713379),\n",
              " ('хлорпромазин', 0.8523358106613159),\n",
              " ('ипрониазид', 0.850132167339325),\n",
              " ('пипофезин', 0.8348963260650635),\n",
              " ('изокарбоксазид', 0.8278591632843018),\n",
              " ('циннаризин', 0.8212041854858398),\n",
              " ('триптофан', 0.8210098743438721),\n",
              " ('палиперидон', 0.8191432356834412)]"
            ]
          },
          "metadata": {
            "tags": []
          },
          "execution_count": 23
        }
      ]
    },
    {
      "cell_type": "code",
      "metadata": {
        "id": "wWOUZIx5Mu4e",
        "colab": {
          "base_uri": "https://localhost:8080/"
        },
        "outputId": "f9f2bb87-0f59-47de-efe2-c8fd4296a019"
      },
      "source": [
        "ft.wv.__getitem__('алимемазин')"
      ],
      "execution_count": 24,
      "outputs": [
        {
          "output_type": "execute_result",
          "data": {
            "text/plain": [
              "array([-0.13914537,  0.49037123,  0.35195574, -0.33082488,  0.2625781 ,\n",
              "       -0.01711179,  0.18863213, -0.762332  , -0.16764091, -0.14173293,\n",
              "       -0.03594964, -0.01638048, -0.19631246, -0.0946243 , -0.6060728 ,\n",
              "        0.6919058 ,  0.33454388, -0.28131932, -0.3751934 , -0.25247973,\n",
              "        0.23740788, -0.17602734, -0.57717717, -0.13191174, -0.26050946,\n",
              "        0.14145638, -0.23791616,  0.0655006 , -0.31814688, -0.33868396,\n",
              "        0.14097442,  0.25811833, -0.240024  , -0.02049728,  0.17466886,\n",
              "       -0.33226195,  0.37551153, -0.34303775, -0.00953978,  0.4018363 ,\n",
              "       -0.03400435, -0.06378593, -0.27257866, -0.21723142, -0.35316852,\n",
              "       -0.21572937, -0.01192691, -0.0904102 , -0.17547773, -0.01914496,\n",
              "       -0.22859113,  0.43143597,  0.04931618, -0.18091372,  0.01777862,\n",
              "        0.34616038, -0.309538  , -0.0753006 ,  0.44025153,  0.03080644,\n",
              "       -0.4522484 , -0.2209754 ,  0.12743598, -0.36016095, -0.46597236,\n",
              "       -0.0754276 ,  0.45672095,  0.12992878, -0.11100155,  0.22926159,\n",
              "       -0.22000965, -0.20235159, -0.06437619,  0.22815026,  0.17755277,\n",
              "        0.25080654,  0.5091734 , -0.43052274, -0.86476284, -0.15768017,\n",
              "        0.03586296,  0.01609815,  0.4776937 ,  0.22041664, -0.31810537,\n",
              "        0.14710048,  0.16243875,  0.03943007, -0.10155318,  0.13541098,\n",
              "       -0.02569427,  0.04058158, -0.19541857, -0.07477715, -0.41472343,\n",
              "       -0.23732159,  0.22842665, -0.03444336,  0.2882961 ,  0.81094503],\n",
              "      dtype=float32)"
            ]
          },
          "metadata": {
            "tags": []
          },
          "execution_count": 24
        }
      ]
    },
    {
      "cell_type": "code",
      "metadata": {
        "id": "ZXJmNeDnFJb8"
      },
      "source": [
        "# files.download('small_fasttext60k')"
      ],
      "execution_count": 25,
      "outputs": []
    },
    {
      "cell_type": "code",
      "metadata": {
        "id": "ucjN2SXmu_qe"
      },
      "source": [
        "# w2v = gensim.models.KeyedVectors.load_word2vec_format('news_upos_cbow_300_2_2017.bin.gz', binary=True)"
      ],
      "execution_count": 26,
      "outputs": []
    },
    {
      "cell_type": "code",
      "metadata": {
        "id": "Ufr_mUmQwc_3"
      },
      "source": [
        "# model = Word2Vec(size=300, min_count=1)\n",
        "# model.build_vocab(sentences_tokenized)\n",
        "# total_examples = model.corpus_count\n",
        "# model.build_vocab([list(w2v.vocab.keys())], update=True)\n",
        "# model.intersect_word2vec_format(\"news_upos_cbow_300_2_2017.bin.gz\", binary=True)\n",
        "# model.train(sentences_tokenized, total_examples=total_examples, epochs=model.iter)"
      ],
      "execution_count": 27,
      "outputs": []
    },
    {
      "cell_type": "code",
      "metadata": {
        "id": "sXFz2x3vNSmI",
        "colab": {
          "base_uri": "https://localhost:8080/"
        },
        "outputId": "a06bf2d6-ea73-490a-f36c-3f236484bf75"
      },
      "source": [
        "cosine_similarity(np.atleast_2d(ft.wv.get_vector('алимемазин')), \\\n",
        "                  np.atleast_2d(ft.wv.get_vector('азалептин')))[0][0]"
      ],
      "execution_count": 28,
      "outputs": [
        {
          "output_type": "execute_result",
          "data": {
            "text/plain": [
              "0.6867256"
            ]
          },
          "metadata": {
            "tags": []
          },
          "execution_count": 28
        }
      ]
    },
    {
      "cell_type": "code",
      "metadata": {
        "id": "cSaPsAMzNXcq",
        "colab": {
          "base_uri": "https://localhost:8080/"
        },
        "outputId": "6d0bbcf1-2212-415e-f1a1-bce39b160280"
      },
      "source": [
        "cosine_similarity(np.atleast_2d(ft.wv.get_vector('алимемазин')), \\\n",
        "                  np.atleast_2d(ft.wv.get_vector('стул')))[0][0]"
      ],
      "execution_count": 29,
      "outputs": [
        {
          "output_type": "execute_result",
          "data": {
            "text/plain": [
              "0.32480207"
            ]
          },
          "metadata": {
            "tags": []
          },
          "execution_count": 29
        }
      ]
    },
    {
      "cell_type": "code",
      "metadata": {
        "id": "sWfPCgbmNw3n",
        "colab": {
          "base_uri": "https://localhost:8080/"
        },
        "outputId": "6c7f0510-72e8-4ddf-a478-fbaca7c063b8"
      },
      "source": [
        "cosine_similarity(np.atleast_2d(ft.wv.get_vector('дак')), \\\n",
        "                  np.atleast_2d(ft.wv.get_vector('соф')))[0][0]"
      ],
      "execution_count": 30,
      "outputs": [
        {
          "output_type": "execute_result",
          "data": {
            "text/plain": [
              "0.90405065"
            ]
          },
          "metadata": {
            "tags": []
          },
          "execution_count": 30
        }
      ]
    },
    {
      "cell_type": "code",
      "metadata": {
        "id": "zC3kW8hY5LNN",
        "colab": {
          "base_uri": "https://localhost:8080/"
        },
        "outputId": "16f77a1a-a092-445c-8416-ead6d040ba3b"
      },
      "source": [
        "cosine_similarity(np.atleast_2d(ft.wv.get_vector('дак')), \\\n",
        "                  np.atleast_2d(ft.wv.get_vector('софосбувир')))[0][0]"
      ],
      "execution_count": 31,
      "outputs": [
        {
          "output_type": "execute_result",
          "data": {
            "text/plain": [
              "0.49524438"
            ]
          },
          "metadata": {
            "tags": []
          },
          "execution_count": 31
        }
      ]
    },
    {
      "cell_type": "code",
      "metadata": {
        "id": "nDMJTQnwNlWN",
        "colab": {
          "base_uri": "https://localhost:8080/"
        },
        "outputId": "c8031957-c3b6-484c-9f6b-db260ebb3eed"
      },
      "source": [
        "cosine_similarity(np.atleast_2d(ft.wv.get_vector('соф')), \\\n",
        "                  np.atleast_2d(ft.wv.get_vector('софосбувир')))[0][0]"
      ],
      "execution_count": 32,
      "outputs": [
        {
          "output_type": "execute_result",
          "data": {
            "text/plain": [
              "0.4834314"
            ]
          },
          "metadata": {
            "tags": []
          },
          "execution_count": 32
        }
      ]
    },
    {
      "cell_type": "code",
      "metadata": {
        "id": "H3YeIYgLf9o2"
      },
      "source": [
        "# Модель есть, теперь надо набрать корпус из трех форумов примерно поровну, и чтобы не помереть при разметке."
      ],
      "execution_count": 33,
      "outputs": []
    },
    {
      "cell_type": "markdown",
      "metadata": {
        "id": "2sdy4JIXW_Ld"
      },
      "source": [
        "СОВСЕМ НЕМНОЖКО, для начала!!\n"
      ]
    },
    {
      "cell_type": "code",
      "metadata": {
        "id": "SPnaS6Vq3Hxz"
      },
      "source": [
        "short_txt = \" \"\n",
        "handler = open('neuroleptic_antidepr2.txt', 'r', encoding='utf-8')\n",
        "short_txt = handler.read()[:60000]\n",
        "handler.close()\n",
        "\n",
        "handler = open('rakpobedim_ru2.txt', 'r', encoding='utf-8')\n",
        "short_txt += handler.read()[:60000]\n",
        "handler.close()\n",
        "\n",
        "handler = open('hv-info_gepatit2.txt', 'r', encoding='utf-8')\n",
        "short_txt += handler.read()[:60000]\n",
        "handler.close()"
      ],
      "execution_count": 34,
      "outputs": []
    },
    {
      "cell_type": "code",
      "metadata": {
        "colab": {
          "base_uri": "https://localhost:8080/"
        },
        "id": "WISiAodR9MvG",
        "outputId": "bc79d2f7-056f-4970-e195-0940bec1a865"
      },
      "source": [
        "len(short_txt)"
      ],
      "execution_count": 35,
      "outputs": [
        {
          "output_type": "execute_result",
          "data": {
            "text/plain": [
              "180000"
            ]
          },
          "metadata": {
            "tags": []
          },
          "execution_count": 35
        }
      ]
    },
    {
      "cell_type": "code",
      "metadata": {
        "colab": {
          "base_uri": "https://localhost:8080/"
        },
        "id": "11jQB9ave4EV",
        "outputId": "8cad476b-cb43-4ec5-a5ac-f62e5173008d"
      },
      "source": [
        "import nltk\n",
        "nltk.download('punkt')"
      ],
      "execution_count": 36,
      "outputs": [
        {
          "output_type": "stream",
          "text": [
            "[nltk_data] Downloading package punkt to /root/nltk_data...\n",
            "[nltk_data]   Unzipping tokenizers/punkt.zip.\n"
          ],
          "name": "stdout"
        },
        {
          "output_type": "execute_result",
          "data": {
            "text/plain": [
              "True"
            ]
          },
          "metadata": {
            "tags": []
          },
          "execution_count": 36
        }
      ]
    },
    {
      "cell_type": "code",
      "metadata": {
        "id": "F-3v3Ee47avH"
      },
      "source": [
        "import pymorphy2\n",
        "morph = pymorphy2.MorphAnalyzer()"
      ],
      "execution_count": 37,
      "outputs": []
    },
    {
      "cell_type": "code",
      "metadata": {
        "colab": {
          "base_uri": "https://localhost:8080/"
        },
        "id": "TjqqQEOB0XaO",
        "outputId": "4f693085-0d7d-4880-c42d-0bf73950da54"
      },
      "source": [
        "sample = 'он'\n",
        "print('Одуш', morph.parse(sample)[0].tag.animacy)\n",
        "print('Падеж', morph.parse(sample)[0].tag.case )\n",
        "print('Пол', morph.parse(sample)[0].tag.gender)\n",
        "print('Число', morph.parse(sample)[0].tag.number)\n",
        "print('Лицо', morph.parse(sample)[0].tag.person)\n",
        "print('Часть речи', morph.parse(sample)[0].tag.POS)\n",
        "print('Время', morph.parse(sample)[0].tag.tense)\n",
        "print('Залог', morph.parse(sample)[0].tag.voice)\n",
        "\n"
      ],
      "execution_count": 38,
      "outputs": [
        {
          "output_type": "stream",
          "text": [
            "Одуш None\n",
            "Падеж nomn\n",
            "Пол masc\n",
            "Число sing\n",
            "Лицо 3per\n",
            "Часть речи NPRO\n",
            "Время None\n",
            "Залог None\n"
          ],
          "name": "stdout"
        }
      ]
    },
    {
      "cell_type": "code",
      "metadata": {
        "colab": {
          "base_uri": "https://localhost:8080/"
        },
        "id": "zLk-dMgV7Ucy",
        "outputId": "7b7ec804-2ed9-40a8-dc8f-51ba7261f9cc"
      },
      "source": [
        "aa = morph.parse(sample)[0]\n",
        "print(aa.tag)"
      ],
      "execution_count": 39,
      "outputs": [
        {
          "output_type": "stream",
          "text": [
            "NPRO,masc,3per,Anph sing,nomn\n"
          ],
          "name": "stdout"
        }
      ]
    },
    {
      "cell_type": "code",
      "metadata": {
        "id": "ztjqE_Mu04w3",
        "colab": {
          "base_uri": "https://localhost:8080/"
        },
        "outputId": "d800587a-98f8-4f17-9d7b-10a8e4a4f4a8"
      },
      "source": [
        "doc = nlp('У меня практически нет никаких проблем, и в частности, с лекарством.')\n",
        "for token in doc:\n",
        "    print(token.text, token.dep_, token.head.text, token.head.pos_, \n",
        "            [child for child in token.children], morph.parse(token.text)[0].tag,\n",
        "          [child for child in token.head.children])\n"
      ],
      "execution_count": 40,
      "outputs": [
        {
          "output_type": "stream",
          "text": [
            "У case меня PRON [] PREP [У]\n",
            "меня obl нет VERB [У] NPRO,1per sing,accs [меня, практически, проблем, лекарством, .]\n",
            "практически advmod нет VERB [] ADVB [меня, практически, проблем, лекарством, .]\n",
            "нет ROOT нет VERB [меня, практически, проблем, лекарством, .] PRED,pres [меня, практически, проблем, лекарством, .]\n",
            "никаких det проблем NOUN [] ADJF,Apro plur,gent [никаких]\n",
            "проблем nsubj нет VERB [никаких] NOUN,inan,femn plur,gent [меня, практически, проблем, лекарством, .]\n",
            ", punct лекарством NOUN [] PNCT [,, и, в, с]\n",
            "и cc лекарством NOUN [] CONJ [,, и, в, с]\n",
            "в discourse лекарством NOUN [частности, ,] PREP [,, и, в, с]\n",
            "частности fixed в ADP [] NOUN,inan,femn sing,loct [частности, ,]\n",
            ", punct в ADP [] PNCT [частности, ,]\n",
            "с case лекарством NOUN [] PREP [,, и, в, с]\n",
            "лекарством conj нет VERB [,, и, в, с] NOUN,inan,neut sing,ablt [меня, практически, проблем, лекарством, .]\n",
            ". punct нет VERB [] PNCT [меня, практически, проблем, лекарством, .]\n"
          ],
          "name": "stdout"
        }
      ]
    },
    {
      "cell_type": "code",
      "metadata": {
        "colab": {
          "base_uri": "https://localhost:8080/"
        },
        "id": "4dd4UU-Dde0K",
        "outputId": "64f23a8f-52a7-456c-cdd7-a9bf9b31e2fd"
      },
      "source": [
        "doc = nlp('У меня практически нет никаких проблем, и в частности, с лекарством.')\n",
        "for token in doc:\n",
        "    print(token.text, token.dep_, token.head.text, token.head.pos_,\n",
        "            [child for child in token.children], morph.parse(token.text)[0].tag,\n",
        "          [child for child in token.head.children],)\n"
      ],
      "execution_count": 41,
      "outputs": [
        {
          "output_type": "stream",
          "text": [
            "У case меня PRON [] PREP [У]\n",
            "меня obl нет VERB [У] NPRO,1per sing,accs [меня, практически, проблем, лекарством, .]\n",
            "практически advmod нет VERB [] ADVB [меня, практически, проблем, лекарством, .]\n",
            "нет ROOT нет VERB [меня, практически, проблем, лекарством, .] PRED,pres [меня, практически, проблем, лекарством, .]\n",
            "никаких det проблем NOUN [] ADJF,Apro plur,gent [никаких]\n",
            "проблем nsubj нет VERB [никаких] NOUN,inan,femn plur,gent [меня, практически, проблем, лекарством, .]\n",
            ", punct лекарством NOUN [] PNCT [,, и, в, с]\n",
            "и cc лекарством NOUN [] CONJ [,, и, в, с]\n",
            "в discourse лекарством NOUN [частности, ,] PREP [,, и, в, с]\n",
            "частности fixed в ADP [] NOUN,inan,femn sing,loct [частности, ,]\n",
            ", punct в ADP [] PNCT [частности, ,]\n",
            "с case лекарством NOUN [] PREP [,, и, в, с]\n",
            "лекарством conj нет VERB [,, и, в, с] NOUN,inan,neut sing,ablt [меня, практически, проблем, лекарством, .]\n",
            ". punct нет VERB [] PNCT [меня, практически, проблем, лекарством, .]\n"
          ],
          "name": "stdout"
        }
      ]
    },
    {
      "cell_type": "code",
      "metadata": {
        "id": "DOm7fPDO8AMI",
        "colab": {
          "base_uri": "https://localhost:8080/"
        },
        "outputId": "417acea8-1916-4b8e-f166-887d2dbe73f8"
      },
      "source": [
        "sample = 'он'\n",
        "print('Одуш', morph.parse(sample)[0].tag.animacy)\n",
        "print('Падеж', morph.parse(sample)[0].tag.case )\n",
        "print('Пол', morph.parse(sample)[0].tag.gender)\n",
        "print('Число', morph.parse(sample)[0].tag.number)\n",
        "print('Лицо', morph.parse(sample)[0].tag.person)\n",
        "print('Часть речи', morph.parse(sample)[0].tag.POS)\n",
        "print('Время', morph.parse(sample)[0].tag.tense)\n",
        "print('Залог', morph.parse(sample)[0].tag.voice)\n"
      ],
      "execution_count": 42,
      "outputs": [
        {
          "output_type": "stream",
          "text": [
            "Одуш None\n",
            "Падеж nomn\n",
            "Пол masc\n",
            "Число sing\n",
            "Лицо 3per\n",
            "Часть речи NPRO\n",
            "Время None\n",
            "Залог None\n"
          ],
          "name": "stdout"
        }
      ]
    },
    {
      "cell_type": "markdown",
      "metadata": {
        "id": "ku0NMgIJomMR"
      },
      "source": [
        "***Разметка для кореференции***"
      ]
    },
    {
      "cell_type": "code",
      "metadata": {
        "id": "Fsph7ljhaSyu"
      },
      "source": [
        "topic_list = short_txt.split('\\nTOPIC')"
      ],
      "execution_count": 43,
      "outputs": []
    },
    {
      "cell_type": "code",
      "metadata": {
        "colab": {
          "base_uri": "https://localhost:8080/"
        },
        "id": "gFVyrTNBrxHq",
        "outputId": "abf7379d-e4a9-4ea8-d28a-1e2826a4666a"
      },
      "source": [
        "import re\n",
        "print(re.search(r'[A-Za-zА-Яа-я]', ','))"
      ],
      "execution_count": 44,
      "outputs": [
        {
          "output_type": "stream",
          "text": [
            "None\n"
          ],
          "name": "stdout"
        }
      ]
    },
    {
      "cell_type": "code",
      "metadata": {
        "id": "q3ETC8YL4msn"
      },
      "source": [
        "# sentences_tokenized = [w.lower() for w in short_posts]\n",
        "# sentences_tokenized = [tokenizer.tokenize(i) for i in sentences_tokenized]\n",
        "# sentences_tokenized[2]"
      ],
      "execution_count": 45,
      "outputs": []
    },
    {
      "cell_type": "code",
      "metadata": {
        "colab": {
          "base_uri": "https://localhost:8080/",
          "height": 145
        },
        "id": "09ZSqQ2CBRaU",
        "outputId": "61cc04a4-dda5-4d42-baa4-1b8ed12c54b6"
      },
      "source": [
        "print(len(topic_list))\n",
        "topic_list[1]"
      ],
      "execution_count": 46,
      "outputs": [
        {
          "output_type": "stream",
          "text": [
            "23\n"
          ],
          "name": "stdout"
        },
        {
          "output_type": "execute_result",
          "data": {
            "application/vnd.google.colaboratory.intrinsic+json": {
              "type": "string"
            },
            "text/plain": [
              "'\\nОбсуждаем препарат Рисперидон (Рисполепт, Сперидан)\\n----\\nНЕ знаю, стоило ли мне писать. У меня практически нет никаких проблем, и в частности, с лекарством. По крайней мере врач говорит, что всё идёт как надо. У меня с детства бывают состояния, когда я без видимых причин впадаю в панику, не управляю своими действиями. Странное беспокойство может продолжаться от нескольких мгновений до нескольких суток. Как-то удавалось жить и с этим мириться. Каждый раз, придя в себя, вынуждена придумывать для окружающих более или менее правдоподобное оправдание своим поступкам. Чувствую себя сторонним наблюдателем собственной жизни. В определённый момент страхи стали в основном связаны с учёбой (а ещё с общением). На последнем курсе училища всё это вылилось в невозможность в общем потоке сдать экзамены.\\nОбратились к врачу. Со стороны родителей это делалось с большой неохотой. От чего меня лечат, не уточнили. После пары \"вводных бесед\" назначили небольшую дозировку рисполепта (сказали \"для начала\"...). Принимаю несколько дней. Меня, конечно предупреждали, что появится заторможенность, рассеянность, возможно придётся больше спать. Результат превзошёл ожидания: ужасно кружится голова, руки трясутся, ноги не слушаются. Боюсь пройти по квартире, брать в руки вещи, чтобы ничего не сломать (инцеденты уже были). Рассеянность - Ухитрилась заблудиться возле собственного дома!\\nВрач велела больше спать. Но я сплю как обычно и не часом больше.\\nЖдать ли мне положительных результатов или я просто дура, что подсела на таблетки (так говорят все родственники)?\\n\\nПрошу прощения за такой пространный рассказ о жизни.\\nВпервые решила воспользоваться форумом, ещё нет опыта.\\nЛюди! Если даже я беспокою вас впустую! Если кто-нибудь есть неравнодушный, Будет время - посоветуйте, как мне реагировать на происходящее, что можно почитать на эту тему.\\nМожет, я выбрала не ту тему, чтобы писать в форум. И снова прошу прощения, если таковое возможно.\\n----\\nНадо подумать... сказал(а)\\nЖдать ли мне положительных результатов или я просто дура, что подсела на таблетки (так говорят все родственники)?\\nИсходя из написанного Вами, проблемы все-таки достаточно серьезные, и, видимо, требуют именно психофармакотерапии. Так что таблетки нужны. Но вот какие именно, подбирать дозу, учитывать побочные эффекты - это все должен делать лечащий врач. В принципе, те эффекты, которые Вы описали, могут быть при приеме рисполепта. Эти побочные эффекты могут проходить через несколько дней после начала лечения, могут требовать коррекции дозы, назначение корректоров нейролептической терапии или смены препарата.\\nP.S. Напишите, пожалуйста, как себя чувствуете сейчас? Есть какие-то изменения?\\n----\\nА почему именно назначили рисперидон?! У Вас вероятно наблюдается снижение АД, связанное в адреноблоеирующими свойствами препарата.\\nФлюанксол в низких дозировках, вероятно, мог быть благоприятнее.\\n----\\nПочему-же надо было начинать с тяжелой артиллерии Сонапакс с тормозным компонентом для начала был бы неплох\\n----\\nоднозначно хороший препарат, особенно при лечении параноидной шизофрении.\\n----\\nК сожалению препарат не впечатляет! На нем у меня одна пациентка суициднула! Между рисполептом и азалептином я отдаю преимущество последнему!\\n----\\nподелюсь своими впечатлениями: при биполярном аффективном расстройстве препарат хорошо снимает вязкость мыслей, препятствует образованию бредовых идей, и, как ни странно, приводит к лучшему засыпанию. но основная проблема - это его влияние на повышение пролактина и образование пролактиномы гипофиза. эта проблема у меня проявилась. пришлось принимать бромкриптин - пролактин в норму вошёл, а уменьшилась ли микроаденома ещё не знаю. от рисполепта отказалась на свой страх и риск.\\nесли кто-то здесь сталкивался с гормональными проблемами - поделитесь, пожалуйста, вашим опытом.\\n----\\nКто-нибудь применяет дженерик Торендо ?\\nКакие клинические наблюдения есть?\\n----\\nпробовали знаем. лечили меня рисполептом после санопакса и паксила. side effects один в один как у автора ветки. бросал потом начинал опять не выдержал в итоге и бросил пить окончательно тк от навязчивых мыслей он не избавил а существование отравил еще как\\n----\\n'"
            ]
          },
          "metadata": {
            "tags": []
          },
          "execution_count": 46
        }
      ]
    },
    {
      "cell_type": "code",
      "metadata": {
        "id": "-_WJFXZm_Lwu"
      },
      "source": [
        "post_list = []\n",
        "sent_list = []\n",
        "for topic_num, topic in enumerate(topic_list):\n",
        "  for post_num, post in enumerate(topic.split('----')):\n",
        "    for sent_num, sent in enumerate(sent_tokenize(post)):\n",
        "      # sent_list.append((tokenizer.tokenize(sent.lower()), sent_num, post_num, topic_num))\n",
        "      if sent.lower():\n",
        "        sent_list.append((sent.lower(), sent_num, post_num, topic_num))\n",
        "# post_list[35] # quote"
      ],
      "execution_count": 47,
      "outputs": []
    },
    {
      "cell_type": "code",
      "metadata": {
        "colab": {
          "base_uri": "https://localhost:8080/"
        },
        "id": "gntQTQ0p2apw",
        "outputId": "64b4ba8a-49ea-4b9b-83bf-71d5aa4b0e1a"
      },
      "source": [
        "len(sent_list)"
      ],
      "execution_count": 48,
      "outputs": [
        {
          "output_type": "execute_result",
          "data": {
            "text/plain": [
              "2243"
            ]
          },
          "metadata": {
            "tags": []
          },
          "execution_count": 48
        }
      ]
    },
    {
      "cell_type": "code",
      "metadata": {
        "colab": {
          "base_uri": "https://localhost:8080/"
        },
        "id": "esN_Oldp7sJj",
        "outputId": "6755f7d4-6dbe-4ac3-f6ab-93d1445cdf69"
      },
      "source": [
        "sent_list[0][1]"
      ],
      "execution_count": 49,
      "outputs": [
        {
          "output_type": "execute_result",
          "data": {
            "text/plain": [
              "0"
            ]
          },
          "metadata": {
            "tags": []
          },
          "execution_count": 49
        }
      ]
    },
    {
      "cell_type": "code",
      "metadata": {
        "colab": {
          "base_uri": "https://localhost:8080/"
        },
        "id": "YaCmridtEUhP",
        "outputId": "5f5a6d21-6699-4e94-b2cc-6c5ffac9bdf0"
      },
      "source": [
        "sent_list[10:15]"
      ],
      "execution_count": 50,
      "outputs": [
        {
          "output_type": "execute_result",
          "data": {
            "text/plain": [
              "[('на последнем курсе училища всё это вылилось в невозможность в общем потоке сдать экзамены.',\n",
              "  9,\n",
              "  1,\n",
              "  1),\n",
              " ('обратились к врачу.', 10, 1, 1),\n",
              " ('со стороны родителей это делалось с большой неохотой.', 11, 1, 1),\n",
              " ('от чего меня лечат, не уточнили.', 12, 1, 1),\n",
              " ('после пары \"вводных бесед\" назначили небольшую дозировку рисполепта (сказали \"для начала\"...).',\n",
              "  13,\n",
              "  1,\n",
              "  1)]"
            ]
          },
          "metadata": {
            "tags": []
          },
          "execution_count": 50
        }
      ]
    },
    {
      "cell_type": "code",
      "metadata": {
        "colab": {
          "base_uri": "https://localhost:8080/"
        },
        "id": "bEhG-VL23MwI",
        "outputId": "45094bc3-9da3-4883-bbfc-0fef38e06021"
      },
      "source": [
        "sent = 'я сказал(а) ты п'\n",
        "is_ans = 0\n",
        "\n",
        "for i in ['сказал(а)', ') писал:', 'писал(а): ↑']:\n",
        "  is_ans = is_ans + (1 if i in sent else 0) \n",
        "is_ans"
      ],
      "execution_count": 51,
      "outputs": [
        {
          "output_type": "execute_result",
          "data": {
            "text/plain": [
              "1"
            ]
          },
          "metadata": {
            "tags": []
          },
          "execution_count": 51
        }
      ]
    },
    {
      "cell_type": "code",
      "metadata": {
        "id": "i13--Gw9pASO"
      },
      "source": [
        "coref_df = pd.DataFrame(columns=['TOKEN', 'TOKEN_VECT', 'IS_ANSWER', 'TOPIC_NUM', 'POST_NUM', 'SENT_NUM', 'TOKEN_NUM', 'ANIMACY', 'CASE', 'GENDER', 'PERSON', 'POS', 'DEPENDENCY', 'HEAD',\n",
        "                                  'HEAD_ANIMACY', 'HEAD_CASE', 'HEAD_GENDER',  'HEAD_POS', 'HEAD_VECT', 'SENT_VECT', 'HEAD_CHILDS_VECT', 'NER',\n",
        "                                 'COREFERENCE_CLUSTER', ])"
      ],
      "execution_count": 52,
      "outputs": []
    },
    {
      "cell_type": "code",
      "metadata": {
        "colab": {
          "base_uri": "https://localhost:8080/"
        },
        "id": "W2fyFOMJ2gf6",
        "outputId": "336d253b-7eb7-4cd2-e991-22f73e6adf91"
      },
      "source": [
        "topic_num = 0\n",
        "\n",
        "for sent_info in sent_list:\n",
        "\n",
        "  if sent_info[3] != topic_num:\n",
        "    start_new_topic = True\n",
        "\n",
        "  if sent_info[2] != post_num:\n",
        "    start_new_post = True\n",
        "    is_ans = 0\n",
        "\n",
        "  topic_num = sent_info[3]\n",
        "  post_num = sent_info[2]\n",
        "  sent_num = sent_info[1]\n",
        "  sent = sent_info[0]\n",
        "\n",
        "  if start_new_topic:\n",
        "    token_pos = 0\n",
        "\n",
        "  if start_new_post:\n",
        "    for i in ['сказал(а)', ') писал:', 'писал(а): ↑']:\n",
        "      if i in sent:\n",
        "        is_ans = 1\n",
        "        start_new_post = False \n",
        "\n",
        "  sent_tokens = tokenizer.tokenize(sent)\n",
        "  spacy_tokens = nlp(sent)\n",
        "\n",
        "  sent_vector = 0\n",
        "  for token in sent_tokens:\n",
        "    try:\n",
        "      sent_vector += ft.wv.__getitem__(token.lower())\n",
        "      sent_vector = sent_vector/len(sent_tokens) if len(sent_tokens) > 0 else 0\n",
        "    except KeyError:\n",
        "      print(token.lower(), 'O__o')\n",
        "  \n",
        "  for token in spacy_tokens:\n",
        "\n",
        "    # if re.search(r'[A-Za-zА-Яа-я]', token.text):\n",
        "    if tokenizer.tokenize(token.text):\n",
        "        morphy = morph.parse(token.text)[0]\n",
        "\n",
        "        app_dict = {}\n",
        "        app_dict['TOKEN_NUM'] = token_pos\n",
        "        token_pos += 1\n",
        "        app_dict['TOKEN'] = token.text\n",
        "        try:\n",
        "          app_dict['TOKEN_VECT'] = ft.wv.get_vector(token.text.lower())  if token.text else None\n",
        "        except KeyError:\n",
        "          print(token.text.lower(), 'O__o')\n",
        "        app_dict['IS_ANSWER'] = is_ans\n",
        "        app_dict['TOPIC_NUM'] = topic_num \n",
        "        app_dict['POST_NUM'] = post_num \n",
        "        app_dict['SENT_NUM'] = sent_num \n",
        "\n",
        "        app_dict['ANIMACY'] = morphy.tag.animacy\n",
        "        app_dict['CASE'] = morphy.tag.case\n",
        "        app_dict['GENDER'] = morphy.tag.gender\n",
        "        app_dict['PERSON'] = morphy.tag.person\n",
        "        app_dict['NUMBER'] = morphy.tag.number\n",
        "        app_dict['POS'] = morphy.tag.POS\n",
        "        app_dict['DEPENDENCY'] = token.dep_ \n",
        "\n",
        "        app_dict['HEAD'] = token.head.text\n",
        "        try:\n",
        "          app_dict['HEAD_VECT'] = ft.wv.get_vector(token.head.text.lower()) if token.head.text else '-'\n",
        "        except KeyError:\n",
        "          app_dict['HEAD_VECT'] = None\n",
        "          print(token.head.text.lower(), 'here')\n",
        "        app_dict['HEAD_POS'] = token.head.pos_\n",
        "        morphy = morph.parse(token.head.text)[0]\n",
        "        app_dict['HEAD_ANIMACY'] = morphy.tag.animacy\n",
        "        app_dict['HEAD_CASE'] = morphy.tag.case \n",
        "        app_dict['HEAD_GENDER'] = morphy.tag.gender \n",
        "        # app_dict['HEAD_PERSON'] = morphy.tag.person or '-'\n",
        "        app_dict['HEAD_POS'] = morphy.tag.POS\n",
        "        app_dict['SENT_VECT'] = sent_vector\n",
        "        try:\n",
        "          if token.head.children:\n",
        "            app_dict['HEAD_CHILDS_VECT'] = 0\n",
        "            for child in token.head.children:\n",
        "              if re.search(r'[A-Za-zА-Яа-я]', child.text):\n",
        "                app_dict['HEAD_CHILDS_VECT'] += ft.wv.get_vector(child.text.lower())\n",
        "            if list(token.head.children):\n",
        "              app_dict['HEAD_CHILDS_VECT'] = app_dict['HEAD_CHILDS_VECT']/len(list(token.head.children))\n",
        "        except (KeyError, ZeroDivisionError):\n",
        "          # app_dict['HEAD_CHILDS_VECT'] = 0\n",
        "          print(child.text.lower(), 'end')\n",
        "\n",
        "        app_dict['NER'] = 0\n",
        "        app_dict['COREFERENCE_CLUSTER'] = 0\n",
        "        coref_df = coref_df.append(app_dict, ignore_index=True)  \n",
        "    \n"
      ],
      "execution_count": 53,
      "outputs": [
        {
          "output_type": "stream",
          "text": [
            "т.к end\n",
            "т.к end\n",
            "т.к O__o\n",
            "т.к end\n",
            "\n",
            " here\n",
            "\n",
            " here\n",
            "\n",
            " here\n",
            "2-е end\n",
            "2-е O__o\n",
            "2-е end\n",
            "2-е end\n",
            "\n",
            "\n",
            " here\n",
            "\n",
            "\n",
            " here\n",
            "т.к end\n",
            "т.к end\n",
            "т.к O__o\n",
            "т.к end\n",
            "\n",
            " here\n",
            "\n",
            " here\n",
            "\n",
            " here\n",
            "2-е end\n",
            "2-е O__o\n",
            "2-е end\n",
            "2-е end\n",
            "\n",
            "\n",
            " here\n",
            "\n",
            "\n",
            " here\n",
            "0,5 O__o\n",
            "$ here\n",
            "u.s end\n",
            "u.s end\n",
            "u.s end\n",
            "u.s end\n",
            "1.4 O__o\n",
            "$ here\n",
            "u.s end\n",
            "u.s O__o\n",
            "u.s end\n",
            "u.s end\n",
            "- here\n",
            "- here\n",
            "\n",
            "\n",
            " here\n",
            "\n",
            "\n",
            " here\n",
            "\n",
            "\n",
            " here\n",
            "1.2 O__o\n",
            "\n",
            "\n",
            " here\n",
            "\n",
            "\n",
            " here\n",
            "\n",
            " here\n",
            "0,5 O__o\n",
            "0,5 O__o\n",
            "$ here\n",
            "u.s end\n",
            "u.s end\n",
            "u.s end\n",
            "u.s end\n",
            "1.4 O__o\n",
            "$ here\n",
            "u.s end\n",
            "u.s O__o\n",
            "u.s end\n",
            "u.s end\n",
            "- here\n",
            "- here\n",
            "\n",
            "\n",
            " here\n",
            "\n",
            "\n",
            " here\n",
            "\n",
            "\n",
            " here\n",
            "1.2 O__o\n",
            "\n",
            "\n",
            " here\n",
            "\n",
            "\n",
            " here\n",
            "\n",
            " here\n",
            "0,5 O__o\n",
            "% here\n",
            "% here\n",
            "% here\n",
            "% here\n",
            "% here\n",
            "% here\n",
            "4x7 O__o\n",
            "4x7 O__o\n",
            "4x7 O__o\n",
            "\n",
            "\n",
            " here\n",
            "\n",
            "\n",
            " here\n",
            "\n",
            " here\n",
            "\n",
            "\n",
            " here\n",
            "5,5 O__o\n",
            "\n",
            "\n",
            " here\n",
            "\n",
            " here\n",
            "\n",
            " here\n",
            "2,5 O__o\n",
            "\n",
            " here\n",
            "\n",
            " here\n",
            "% here\n",
            "% here\n",
            "% here\n",
            "\n",
            " here\n",
            "\n",
            " here\n",
            "\n",
            "\n",
            " here\n",
            "\n",
            "\n",
            " here\n",
            "\n",
            "\n",
            " here\n",
            "* here\n",
            "\n",
            "\n",
            " here\n",
            "8) O__o\n",
            "\n",
            "\n",
            " here\n",
            "\n",
            " here\n",
            "\n",
            " here\n",
            "\n",
            " here\n",
            "\n",
            " here\n",
            "т.е end\n",
            "1,5 O__o\n",
            "т.е end\n",
            "т.е end\n",
            "т.е end\n",
            "т.е end\n",
            "т.е O__o\n",
            "т.е end\n",
            "т.е end\n",
            "1,5 O__o\n",
            "т.е end\n",
            "т.е end\n",
            "т.е end\n",
            "т.е end\n",
            "т.е O__o\n",
            "т.е end\n",
            "- here\n",
            "т.е end\n",
            "т.е end\n",
            "- here\n",
            "- here\n",
            "т.е end\n",
            "т.е O__o\n",
            "т.е end\n",
            "т.е end\n",
            "т.е end\n",
            "- here\n",
            "- here\n",
            "т.е end\n",
            "т.е O__o\n",
            "т.е end\n",
            "... here\n",
            "- here\n",
            "- here\n",
            "т.ч here\n",
            "т.ч O__o\n",
            "т.ч end\n",
            "\n",
            " here\n",
            "\n",
            " here\n",
            "т.ч here\n",
            "т.ч O__o\n",
            "т.ч end\n",
            "\n",
            " here\n",
            "\n",
            " here\n",
            "1р O__o\n",
            "\n",
            " here\n",
            "\n",
            " here\n",
            "\n",
            " here\n",
            "\n",
            " here\n",
            "\n",
            " here\n",
            "\n",
            " here\n",
            "\n",
            " here\n",
            "\n",
            " here\n",
            "\n",
            " here\n",
            "\n",
            " here\n",
            "\n",
            " here\n",
            "\n",
            "\n",
            " here\n",
            "\n",
            " here\n",
            "\n",
            "\n",
            " here\n",
            "\n",
            "\n",
            " here\n",
            "\n",
            " here\n",
            "\n",
            " here\n",
            "\n",
            " here\n",
            "\n",
            " here\n",
            ", here\n",
            ", here\n",
            ", here\n",
            ", here\n",
            "\n",
            "  here\n",
            "т.к end\n",
            "т.к O__o\n",
            "т.к end\n",
            "\n",
            "\n",
            " here\n",
            "\n",
            "\n",
            " here\n",
            "т.к end\n",
            "т.к O__o\n",
            "т.к end\n",
            "\n",
            " here\n",
            "2,9 here\n",
            "2,9 here\n",
            "2,9 O__o\n",
            "т.е end\n",
            "т.е end\n",
            "т.е end\n",
            "т.е end\n",
            "т.е end\n",
            "т.е end\n",
            "т.е end\n",
            "т.е O__o\n",
            "т.е end\n",
            "\n",
            " here\n",
            "\n",
            " here\n",
            "2,9 here\n",
            "2,9 here\n",
            "2,9 O__o\n",
            "т.е O__o\n",
            "т.е here\n",
            "  here\n",
            "  here\n",
            "\n",
            "  here\n",
            "\n",
            " here\n",
            "\n",
            " here\n",
            "\n",
            "  here\n",
            "\n",
            "  here\n",
            "\n",
            "\n",
            " here\n",
            "\n",
            "\n",
            " here\n",
            "\n",
            "\n",
            " here\n",
            ", here\n",
            ", here\n",
            "\n",
            "\n",
            " here\n",
            "\n",
            "\n",
            " here\n",
            "\n",
            "\n",
            " here\n",
            ", here\n",
            ", here\n",
            "\n",
            "\n",
            " here\n",
            "\n",
            "\n",
            " here\n",
            "1-б O__o\n",
            "1-б end\n",
            "\n",
            "  here\n",
            "\n",
            "\n",
            " here\n",
            "\n",
            "\n",
            " here\n",
            "\n",
            "\n",
            " here\n",
            "\n",
            "  here\n",
            "\n",
            "  here\n",
            "\n",
            "  here\n",
            ", here\n",
            "\n",
            "\n",
            " here\n",
            "\n",
            "\n",
            " here\n",
            ", here\n",
            "\n",
            "\n",
            " here\n",
            "\n",
            "\n",
            " here\n",
            "\n",
            "\n",
            " here\n",
            "\n",
            "\n",
            " here\n",
            "\n",
            "  here\n",
            "\n",
            "\n",
            " here\n",
            "\n",
            "\n",
            " here\n",
            "\n",
            "  here\n",
            "\n",
            "  here\n",
            "\n",
            "  here\n",
            "\n",
            "  here\n",
            "\n",
            "\n",
            " here\n",
            "\n",
            " here\n",
            "\n",
            "  here\n",
            "\n",
            "  here\n",
            "\n",
            "\n",
            " here\n",
            "\n",
            "\n",
            " here\n",
            "\n",
            "\n",
            " here\n",
            "\n",
            "  here\n",
            "\n",
            "  here\n",
            "\n",
            " here\n",
            "- here\n",
            "\n",
            " here\n",
            "  here\n",
            ". here\n",
            "\n",
            "  here\n",
            "- here\n",
            "- here\n",
            "\n",
            " here\n",
            "\n",
            " here\n",
            "% here\n",
            "% here\n",
            "3–4 O__o\n",
            "\n",
            " here\n",
            "\n",
            "  here\n",
            "\n",
            "\n",
            " here\n",
            "\n",
            "\n",
            " here\n",
            "\n",
            "\n",
            " here\n",
            "\n",
            "\n",
            " here\n",
            "\n",
            " here\n",
            "\n",
            " here\n",
            "\n",
            "\n",
            " here\n",
            "\n",
            "\n",
            " here\n",
            "\n",
            "\n",
            " here\n",
            "т.е end\n",
            "т.е end\n",
            "т.е end\n",
            "т.е O__o\n",
            "т.е end\n",
            ", here\n",
            "\n",
            " here\n",
            "= here\n",
            "= here\n",
            "\n",
            " here\n",
            "\n",
            " here\n",
            "\n",
            " here\n",
            "- here\n",
            "\n",
            " here\n",
            "↑ here\n",
            "\n",
            " here\n",
            "- here\n",
            "% here\n",
            "% here\n",
            "% here\n",
            "% here\n",
            "% here\n",
            "% here\n",
            "% here\n",
            "% here\n",
            "% here\n",
            "\n",
            " here\n",
            "\n",
            " here\n",
            "\n",
            " here\n",
            "\n",
            " here\n",
            "\n",
            " here\n",
            "\n",
            "\n",
            " here\n",
            "\n",
            " here\n",
            "т.е O__o\n",
            "т.е here\n",
            "т.е O__o\n",
            "т.е here\n",
            "т.е O__o\n",
            "т.е here\n",
            "\n",
            " here\n",
            "\n",
            " here\n",
            "\n",
            " here\n",
            "\n",
            " here\n",
            "\n",
            " here\n",
            "\n",
            " here\n",
            "\n",
            " here\n",
            "- here\n",
            "\n",
            " here\n",
            "\n",
            " here\n",
            "• here\n",
            "• here\n",
            "% here\n",
            "% here\n",
            "% here\n",
            "\n",
            " here\n",
            "\n",
            " here\n",
            "\n",
            " here\n",
            "% here\n",
            "% here\n",
            "% here\n",
            "\n",
            " here\n",
            "↑ here\n",
            "- here\n",
            "\n",
            " here\n",
            "\n",
            " here\n",
            "\n",
            " here\n",
            "% here\n",
            "% here\n",
            "% here\n",
            ", here\n",
            "т.е end\n",
            "т.е end\n",
            "т.е end\n",
            "т.е end\n",
            "т.е end\n",
            "т.е end\n",
            "т.е O__o\n",
            "т.е end\n",
            "\n",
            "\n",
            " here\n",
            "\n",
            "\n",
            " here\n",
            "\n",
            "\n",
            " here\n",
            "% here\n",
            "% here\n",
            "% here\n",
            "% here\n",
            "% here\n",
            "% here\n",
            "% here\n",
            "% here\n",
            "% here\n",
            "% here\n",
            "s. end\n",
            "s. end\n",
            "s. end\n",
            "s. end\n",
            "s. O__o\n",
            "s. end\n",
            "s. end\n",
            "\n",
            " here\n",
            "\n",
            " here\n",
            "\n",
            " here\n",
            "\n",
            " here\n",
            "\n",
            " here\n",
            "\n",
            " here\n",
            "\n",
            " here\n",
            "\n",
            " here\n",
            "% here\n",
            "% here\n",
            "% here\n",
            "% here\n",
            "% here\n",
            "% here\n",
            "% here\n",
            "% here\n",
            "% here\n",
            "% here\n",
            "\n",
            " here\n",
            "\n",
            " here\n",
            "\n",
            " here\n",
            "\n",
            " here\n",
            "\n",
            " here\n",
            "\n",
            "\n",
            " here\n",
            "\n",
            " here\n",
            "\n",
            " here\n",
            "\n",
            " here\n",
            ", here\n",
            "% here\n",
            "% here\n",
            "\n",
            " here\n",
            "\n",
            " here\n",
            "\n",
            " here\n",
            "\n",
            " here\n",
            "т.к end\n",
            "т.к end\n",
            "т.к end\n",
            "т.к end\n",
            "т.к O__o\n",
            "т.к end\n",
            "% here\n",
            "% here\n",
            "- here\n",
            "\n",
            " here\n",
            "$ here\n",
            "\n",
            " here\n",
            "\n",
            " here\n",
            "\n",
            " here\n",
            "\n",
            "\n",
            " here\n",
            "% here\n",
            "% here\n",
            "% here\n",
            "\n",
            "\n",
            " here\n",
            "\n",
            "\n",
            " here\n",
            "\n",
            "\n",
            " here\n",
            "\n",
            "\n",
            " here\n",
            "\n",
            "\n",
            " here\n",
            "\n",
            "\n",
            " here\n",
            "\n",
            "\n",
            " here\n",
            "\n",
            "\n",
            " here\n",
            "\n",
            " here\n",
            "$ here\n",
            "\n",
            " here\n",
            "\n",
            " here\n",
            "$ here\n",
            "$ here\n",
            "$ here\n",
            "$ here\n",
            "$ here\n",
            "$ here\n",
            "\n",
            " here\n",
            "\n",
            " here\n",
            "\n",
            " here\n",
            "\n",
            " here\n",
            "\n",
            "\n",
            " here\n",
            "\n",
            "\n",
            " here\n",
            "\n",
            "\n",
            " here\n",
            "\n",
            "\n",
            " here\n",
            "\n",
            "\n",
            " here\n",
            "\n",
            "\n",
            " here\n",
            "\n",
            "\n",
            " here\n",
            "\n",
            "\n",
            " here\n",
            "\n",
            "\n",
            " here\n",
            "\n",
            "\n",
            " here\n",
            "\n",
            "\n",
            " here\n",
            "\n",
            "\n",
            " here\n",
            "\n",
            " here\n",
            "\n",
            "\n",
            " here\n",
            "\n",
            "\n",
            " here\n",
            "\n",
            "\n",
            " here\n",
            "\n",
            "\n",
            " here\n",
            "\n",
            "\n",
            " here\n",
            "\n",
            "\n",
            " here\n",
            "\n",
            " here\n",
            "\n",
            " here\n",
            "\n",
            " here\n",
            "\n",
            " here\n",
            "\n",
            " here\n",
            "\n",
            " here\n",
            "\n",
            " here\n",
            "\n",
            " here\n",
            "\n",
            "\n",
            " here\n",
            "\n",
            "\n",
            " here\n",
            "\n",
            "\n",
            " here\n",
            "\n",
            "\n",
            " here\n",
            "$ here\n",
            "$ here\n",
            "$ here\n",
            "$ here\n",
            "\n",
            "\n",
            " here\n",
            "\n",
            "\n",
            " here\n",
            "$ here\n",
            "$ here\n",
            "$ here\n",
            "$ here\n",
            "\n",
            "\n",
            " here\n",
            "\n",
            "\n",
            " here\n",
            "$ here\n",
            "$ here\n",
            "$ here\n",
            "$ here\n",
            "\n",
            "\n",
            " here\n",
            "\n",
            "\n",
            " here\n",
            "\n",
            "\n",
            " here\n",
            "\n",
            "\n",
            " here\n",
            "& here\n",
            "$ here\n",
            "$ here\n",
            "$ here\n",
            "$ here\n",
            "$ here\n",
            "$ here\n",
            "$ here\n",
            "$ here\n",
            "$ here\n",
            "$ here\n",
            "$ here\n",
            "$ here\n",
            "$ here\n",
            "$ here\n",
            "$ here\n",
            "$ here\n",
            "\n",
            "\n",
            " here\n",
            "$ here\n",
            "$ here\n",
            "$ here\n",
            "$ here\n",
            "$ here\n",
            "$ here\n",
            "$ here\n",
            "$ here\n",
            "$ here\n",
            "$ here\n",
            "$ here\n",
            "$ here\n",
            "$ here\n",
            "$ here\n",
            "$ here\n",
            "$ here\n",
            "\n",
            "\n",
            " here\n",
            "$ here\n",
            "$ here\n",
            "\n",
            "\n",
            "\n",
            " here\n",
            "$ here\n",
            "$ here\n",
            "\n",
            "\n",
            "\n",
            " here\n",
            "$ here\n",
            "$ here\n",
            "$ here\n",
            "$ here\n",
            "$ here\n",
            "$ here\n",
            "$ here\n",
            "\n",
            "\n",
            "\n",
            " here\n",
            "$ here\n",
            "$ here\n",
            "$ here\n",
            "\n",
            "\n",
            " here\n",
            "$ here\n",
            "$ here\n",
            "\n",
            "\n",
            "\n",
            " here\n",
            "$ here\n",
            "\n",
            "\n",
            " here\n",
            "$ here\n",
            "\n",
            "\n",
            " here\n",
            "\n",
            "\n",
            " here\n",
            "$ here\n",
            "$ here\n",
            "$ here\n",
            "$ here\n",
            "$ here\n",
            "$ here\n",
            "$ here\n",
            "$ here\n",
            "$ here\n",
            "\n",
            " here\n",
            "\n",
            " here\n",
            "\n",
            "\n",
            " here\n",
            "$ here\n",
            "\n",
            "\n",
            " here\n",
            "\n",
            "\n",
            " here\n",
            "$ here\n",
            "$ here\n",
            "$ here\n",
            "$ here\n",
            "$ here\n",
            "$ here\n",
            "\n",
            "\n",
            " here\n",
            "$ here\n",
            "$ here\n",
            "$ here\n",
            "$ here\n",
            "\n",
            "\n",
            " here\n",
            "\n",
            "\n",
            " here\n",
            "& here\n",
            "$ here\n",
            "$ here\n",
            "$ here\n",
            "$ here\n",
            "\n",
            "\n",
            " here\n",
            "\n",
            "\n",
            " here\n",
            "$ here\n",
            "$ here\n",
            "$ here\n",
            "$ here\n",
            "\n",
            "\n",
            " here\n",
            "\n",
            "\n",
            " here\n",
            "$ here\n",
            "$ here\n",
            "$ here\n",
            "$ here\n",
            "\n",
            "\n",
            " here\n",
            "\n",
            "\n",
            " here\n",
            "$ here\n",
            "$ here\n",
            "$ here\n",
            "$ here\n",
            "\n",
            "\n",
            " here\n",
            "\n",
            "\n",
            " here\n",
            "\n",
            "\n",
            " here\n",
            "\n",
            "\n",
            " here\n",
            "$ here\n",
            "\n",
            " here\n",
            "\n",
            " here\n",
            "\n",
            " here\n",
            "\n",
            " here\n",
            "\n",
            "\n",
            " here\n",
            "\n",
            " here\n",
            "\n",
            " here\n",
            "\n",
            " here\n",
            "\n",
            " here\n",
            "& here\n",
            "$ here\n",
            "$ here\n",
            "$ here\n",
            "$ here\n",
            "$ here\n",
            "$ here\n",
            "$ here\n",
            "$ here\n",
            "$ here\n",
            "\n",
            "\n",
            " here\n",
            "$ here\n",
            "\n",
            "\n",
            " here\n",
            "\n",
            "\n",
            " here\n",
            "$ here\n",
            "$ here\n",
            "$ here\n",
            "$ here\n",
            "$ here\n",
            "$ here\n",
            "$ here\n",
            "$ here\n",
            "$ here\n",
            "$ here\n",
            "$ here\n",
            "$ here\n",
            "$ here\n",
            "\n",
            " here\n",
            "\n",
            " here\n",
            "\n",
            " here\n",
            "\n",
            " here\n",
            "\n",
            " here\n",
            "\n",
            " here\n",
            "\n",
            " here\n",
            "\n",
            " here\n"
          ],
          "name": "stdout"
        }
      ]
    },
    {
      "cell_type": "code",
      "metadata": {
        "colab": {
          "base_uri": "https://localhost:8080/",
          "height": 945
        },
        "id": "B3G6ZS-h7LJ0",
        "outputId": "31f12009-56b5-4c20-bc64-5bd16e5d5398"
      },
      "source": [
        "coref_df"
      ],
      "execution_count": 54,
      "outputs": [
        {
          "output_type": "execute_result",
          "data": {
            "text/html": [
              "<div>\n",
              "<style scoped>\n",
              "    .dataframe tbody tr th:only-of-type {\n",
              "        vertical-align: middle;\n",
              "    }\n",
              "\n",
              "    .dataframe tbody tr th {\n",
              "        vertical-align: top;\n",
              "    }\n",
              "\n",
              "    .dataframe thead th {\n",
              "        text-align: right;\n",
              "    }\n",
              "</style>\n",
              "<table border=\"1\" class=\"dataframe\">\n",
              "  <thead>\n",
              "    <tr style=\"text-align: right;\">\n",
              "      <th></th>\n",
              "      <th>TOKEN</th>\n",
              "      <th>TOKEN_VECT</th>\n",
              "      <th>IS_ANSWER</th>\n",
              "      <th>TOPIC_NUM</th>\n",
              "      <th>POST_NUM</th>\n",
              "      <th>SENT_NUM</th>\n",
              "      <th>TOKEN_NUM</th>\n",
              "      <th>ANIMACY</th>\n",
              "      <th>CASE</th>\n",
              "      <th>GENDER</th>\n",
              "      <th>PERSON</th>\n",
              "      <th>POS</th>\n",
              "      <th>DEPENDENCY</th>\n",
              "      <th>HEAD</th>\n",
              "      <th>HEAD_ANIMACY</th>\n",
              "      <th>HEAD_CASE</th>\n",
              "      <th>HEAD_GENDER</th>\n",
              "      <th>HEAD_POS</th>\n",
              "      <th>HEAD_VECT</th>\n",
              "      <th>SENT_VECT</th>\n",
              "      <th>HEAD_CHILDS_VECT</th>\n",
              "      <th>NER</th>\n",
              "      <th>COREFERENCE_CLUSTER</th>\n",
              "      <th>NUMBER</th>\n",
              "    </tr>\n",
              "  </thead>\n",
              "  <tbody>\n",
              "    <tr>\n",
              "      <th>0</th>\n",
              "      <td>обсуждаем</td>\n",
              "      <td>[-0.40269375, 1.0305619, -0.40463898, -0.03661...</td>\n",
              "      <td>0</td>\n",
              "      <td>1</td>\n",
              "      <td>0</td>\n",
              "      <td>0</td>\n",
              "      <td>0</td>\n",
              "      <td>None</td>\n",
              "      <td>None</td>\n",
              "      <td>None</td>\n",
              "      <td>1per</td>\n",
              "      <td>VERB</td>\n",
              "      <td>ROOT</td>\n",
              "      <td>обсуждаем</td>\n",
              "      <td>None</td>\n",
              "      <td>None</td>\n",
              "      <td>None</td>\n",
              "      <td>VERB</td>\n",
              "      <td>[-0.40269375, 1.0305619, -0.40463898, -0.03661...</td>\n",
              "      <td>[0.07140819, 0.19123015, 0.08086982, -0.107933...</td>\n",
              "      <td>[0.16047958, -0.114265405, 0.24913357, -0.1901...</td>\n",
              "      <td>0</td>\n",
              "      <td>0</td>\n",
              "      <td>plur</td>\n",
              "    </tr>\n",
              "    <tr>\n",
              "      <th>1</th>\n",
              "      <td>препарат</td>\n",
              "      <td>[0.16047958, -0.114265405, 0.24913357, -0.1901...</td>\n",
              "      <td>0</td>\n",
              "      <td>1</td>\n",
              "      <td>0</td>\n",
              "      <td>0</td>\n",
              "      <td>1</td>\n",
              "      <td>inan</td>\n",
              "      <td>nomn</td>\n",
              "      <td>masc</td>\n",
              "      <td>None</td>\n",
              "      <td>NOUN</td>\n",
              "      <td>obj</td>\n",
              "      <td>обсуждаем</td>\n",
              "      <td>None</td>\n",
              "      <td>None</td>\n",
              "      <td>None</td>\n",
              "      <td>VERB</td>\n",
              "      <td>[-0.40269375, 1.0305619, -0.40463898, -0.03661...</td>\n",
              "      <td>[0.07140819, 0.19123015, 0.08086982, -0.107933...</td>\n",
              "      <td>[0.16047958, -0.114265405, 0.24913357, -0.1901...</td>\n",
              "      <td>0</td>\n",
              "      <td>0</td>\n",
              "      <td>sing</td>\n",
              "    </tr>\n",
              "    <tr>\n",
              "      <th>2</th>\n",
              "      <td>рисперидон</td>\n",
              "      <td>[0.52487624, 0.9913485, 0.48671848, -0.5277118...</td>\n",
              "      <td>0</td>\n",
              "      <td>1</td>\n",
              "      <td>0</td>\n",
              "      <td>0</td>\n",
              "      <td>2</td>\n",
              "      <td>anim</td>\n",
              "      <td>nomn</td>\n",
              "      <td>masc</td>\n",
              "      <td>None</td>\n",
              "      <td>NOUN</td>\n",
              "      <td>appos</td>\n",
              "      <td>препарат</td>\n",
              "      <td>inan</td>\n",
              "      <td>nomn</td>\n",
              "      <td>masc</td>\n",
              "      <td>NOUN</td>\n",
              "      <td>[0.16047958, -0.114265405, 0.24913357, -0.1901...</td>\n",
              "      <td>[0.07140819, 0.19123015, 0.08086982, -0.107933...</td>\n",
              "      <td>[0.52487624, 0.9913485, 0.48671848, -0.5277118...</td>\n",
              "      <td>0</td>\n",
              "      <td>0</td>\n",
              "      <td>sing</td>\n",
              "    </tr>\n",
              "    <tr>\n",
              "      <th>3</th>\n",
              "      <td>рисполепт</td>\n",
              "      <td>[0.40367538, 0.7136028, 0.42602408, -0.5178368...</td>\n",
              "      <td>0</td>\n",
              "      <td>1</td>\n",
              "      <td>0</td>\n",
              "      <td>0</td>\n",
              "      <td>3</td>\n",
              "      <td>inan</td>\n",
              "      <td>gent</td>\n",
              "      <td>femn</td>\n",
              "      <td>None</td>\n",
              "      <td>NOUN</td>\n",
              "      <td>parataxis</td>\n",
              "      <td>рисперидон</td>\n",
              "      <td>anim</td>\n",
              "      <td>nomn</td>\n",
              "      <td>masc</td>\n",
              "      <td>NOUN</td>\n",
              "      <td>[0.52487624, 0.9913485, 0.48671848, -0.5277118...</td>\n",
              "      <td>[0.07140819, 0.19123015, 0.08086982, -0.107933...</td>\n",
              "      <td>[0.40367538, 0.7136028, 0.42602408, -0.5178368...</td>\n",
              "      <td>0</td>\n",
              "      <td>0</td>\n",
              "      <td>plur</td>\n",
              "    </tr>\n",
              "    <tr>\n",
              "      <th>4</th>\n",
              "      <td>сперидан</td>\n",
              "      <td>[0.2546713, 0.7730414, 0.29832992, -0.41340947...</td>\n",
              "      <td>0</td>\n",
              "      <td>1</td>\n",
              "      <td>0</td>\n",
              "      <td>0</td>\n",
              "      <td>4</td>\n",
              "      <td>None</td>\n",
              "      <td>None</td>\n",
              "      <td>masc</td>\n",
              "      <td>None</td>\n",
              "      <td>PRTS</td>\n",
              "      <td>conj</td>\n",
              "      <td>рисполепт</td>\n",
              "      <td>inan</td>\n",
              "      <td>gent</td>\n",
              "      <td>femn</td>\n",
              "      <td>NOUN</td>\n",
              "      <td>[0.40367538, 0.7136028, 0.42602408, -0.5178368...</td>\n",
              "      <td>[0.07140819, 0.19123015, 0.08086982, -0.107933...</td>\n",
              "      <td>[0.08489043, 0.25768048, 0.09944331, -0.137803...</td>\n",
              "      <td>0</td>\n",
              "      <td>0</td>\n",
              "      <td>sing</td>\n",
              "    </tr>\n",
              "    <tr>\n",
              "      <th>...</th>\n",
              "      <td>...</td>\n",
              "      <td>...</td>\n",
              "      <td>...</td>\n",
              "      <td>...</td>\n",
              "      <td>...</td>\n",
              "      <td>...</td>\n",
              "      <td>...</td>\n",
              "      <td>...</td>\n",
              "      <td>...</td>\n",
              "      <td>...</td>\n",
              "      <td>...</td>\n",
              "      <td>...</td>\n",
              "      <td>...</td>\n",
              "      <td>...</td>\n",
              "      <td>...</td>\n",
              "      <td>...</td>\n",
              "      <td>...</td>\n",
              "      <td>...</td>\n",
              "      <td>...</td>\n",
              "      <td>...</td>\n",
              "      <td>...</td>\n",
              "      <td>...</td>\n",
              "      <td>...</td>\n",
              "      <td>...</td>\n",
              "    </tr>\n",
              "    <tr>\n",
              "      <th>26492</th>\n",
              "      <td>и</td>\n",
              "      <td>[0.67441714, 0.04903572, 0.2998654, 0.01092519...</td>\n",
              "      <td>0</td>\n",
              "      <td>22</td>\n",
              "      <td>68</td>\n",
              "      <td>0</td>\n",
              "      <td>7</td>\n",
              "      <td>None</td>\n",
              "      <td>None</td>\n",
              "      <td>None</td>\n",
              "      <td>None</td>\n",
              "      <td>CONJ</td>\n",
              "      <td>cc</td>\n",
              "      <td>пошлины</td>\n",
              "      <td>inan</td>\n",
              "      <td>nomn</td>\n",
              "      <td>femn</td>\n",
              "      <td>NOUN</td>\n",
              "      <td>[0.18197066, -0.079768315, 0.24252239, -0.1724...</td>\n",
              "      <td>[0.024603862, 0.0012355688, 0.02936204, -0.040...</td>\n",
              "      <td>[0.1540027, -0.016645903, -0.11273248, -0.1195...</td>\n",
              "      <td>0</td>\n",
              "      <td>0</td>\n",
              "      <td>None</td>\n",
              "    </tr>\n",
              "    <tr>\n",
              "      <th>26493</th>\n",
              "      <td>таможенные</td>\n",
              "      <td>[-0.21240905, -0.09897343, -0.63806283, -0.369...</td>\n",
              "      <td>0</td>\n",
              "      <td>22</td>\n",
              "      <td>68</td>\n",
              "      <td>0</td>\n",
              "      <td>8</td>\n",
              "      <td>None</td>\n",
              "      <td>nomn</td>\n",
              "      <td>None</td>\n",
              "      <td>None</td>\n",
              "      <td>ADJF</td>\n",
              "      <td>amod</td>\n",
              "      <td>пошлины</td>\n",
              "      <td>inan</td>\n",
              "      <td>nomn</td>\n",
              "      <td>femn</td>\n",
              "      <td>NOUN</td>\n",
              "      <td>[0.18197066, -0.079768315, 0.24252239, -0.1724...</td>\n",
              "      <td>[0.024603862, 0.0012355688, 0.02936204, -0.040...</td>\n",
              "      <td>[0.1540027, -0.016645903, -0.11273248, -0.1195...</td>\n",
              "      <td>0</td>\n",
              "      <td>0</td>\n",
              "      <td>plur</td>\n",
              "    </tr>\n",
              "    <tr>\n",
              "      <th>26494</th>\n",
              "      <td>пошлины</td>\n",
              "      <td>[0.18197066, -0.079768315, 0.24252239, -0.1724...</td>\n",
              "      <td>0</td>\n",
              "      <td>22</td>\n",
              "      <td>68</td>\n",
              "      <td>0</td>\n",
              "      <td>9</td>\n",
              "      <td>inan</td>\n",
              "      <td>nomn</td>\n",
              "      <td>femn</td>\n",
              "      <td>None</td>\n",
              "      <td>NOUN</td>\n",
              "      <td>nsubj</td>\n",
              "      <td>есть</td>\n",
              "      <td>None</td>\n",
              "      <td>None</td>\n",
              "      <td>None</td>\n",
              "      <td>INFN</td>\n",
              "      <td>[-0.41748393, -0.4562771, -0.036876928, -0.147...</td>\n",
              "      <td>[0.024603862, 0.0012355688, 0.02936204, -0.040...</td>\n",
              "      <td>[0.030193144, -0.003693381, 0.08763971, 0.0136...</td>\n",
              "      <td>0</td>\n",
              "      <td>0</td>\n",
              "      <td>plur</td>\n",
              "    </tr>\n",
              "    <tr>\n",
              "      <th>26495</th>\n",
              "      <td>как</td>\n",
              "      <td>[0.2552875, 0.02162384, 0.30599418, -0.4300343...</td>\n",
              "      <td>0</td>\n",
              "      <td>22</td>\n",
              "      <td>68</td>\n",
              "      <td>0</td>\n",
              "      <td>10</td>\n",
              "      <td>None</td>\n",
              "      <td>None</td>\n",
              "      <td>None</td>\n",
              "      <td>None</td>\n",
              "      <td>CONJ</td>\n",
              "      <td>advmod</td>\n",
              "      <td>есть</td>\n",
              "      <td>None</td>\n",
              "      <td>None</td>\n",
              "      <td>None</td>\n",
              "      <td>INFN</td>\n",
              "      <td>[-0.41748393, -0.4562771, -0.036876928, -0.147...</td>\n",
              "      <td>[0.024603862, 0.0012355688, 0.02936204, -0.040...</td>\n",
              "      <td>[0.030193144, -0.003693381, 0.08763971, 0.0136...</td>\n",
              "      <td>0</td>\n",
              "      <td>0</td>\n",
              "      <td>None</td>\n",
              "    </tr>\n",
              "    <tr>\n",
              "      <th>26496</th>\n",
              "      <td>светка</td>\n",
              "      <td>[-0.22076564, 0.6467652, 0.3048853, -0.9342180...</td>\n",
              "      <td>0</td>\n",
              "      <td>22</td>\n",
              "      <td>69</td>\n",
              "      <td>0</td>\n",
              "      <td>0</td>\n",
              "      <td>inan</td>\n",
              "      <td>nomn</td>\n",
              "      <td>femn</td>\n",
              "      <td>None</td>\n",
              "      <td>NOUN</td>\n",
              "      <td>ROOT</td>\n",
              "      <td>светка</td>\n",
              "      <td>inan</td>\n",
              "      <td>nomn</td>\n",
              "      <td>femn</td>\n",
              "      <td>NOUN</td>\n",
              "      <td>[-0.22076564, 0.6467652, 0.3048853, -0.9342180...</td>\n",
              "      <td>[-0.22076564, 0.6467652, 0.3048853, -0.9342180...</td>\n",
              "      <td>0</td>\n",
              "      <td>0</td>\n",
              "      <td>0</td>\n",
              "      <td>sing</td>\n",
              "    </tr>\n",
              "  </tbody>\n",
              "</table>\n",
              "<p>26497 rows × 24 columns</p>\n",
              "</div>"
            ],
            "text/plain": [
              "            TOKEN  ... NUMBER\n",
              "0       обсуждаем  ...   plur\n",
              "1        препарат  ...   sing\n",
              "2      рисперидон  ...   sing\n",
              "3       рисполепт  ...   plur\n",
              "4        сперидан  ...   sing\n",
              "...           ...  ...    ...\n",
              "26492           и  ...   None\n",
              "26493  таможенные  ...   plur\n",
              "26494     пошлины  ...   plur\n",
              "26495         как  ...   None\n",
              "26496      светка  ...   sing\n",
              "\n",
              "[26497 rows x 24 columns]"
            ]
          },
          "metadata": {
            "tags": []
          },
          "execution_count": 54
        }
      ]
    },
    {
      "cell_type": "code",
      "metadata": {
        "id": "IZeDS3zSL25z",
        "colab": {
          "base_uri": "https://localhost:8080/",
          "height": 150
        },
        "outputId": "04bc9a2a-ec01-4c08-bec3-637c9cb7cc2d"
      },
      "source": [
        "coref_df.iloc[:1]"
      ],
      "execution_count": 55,
      "outputs": [
        {
          "output_type": "execute_result",
          "data": {
            "text/html": [
              "<div>\n",
              "<style scoped>\n",
              "    .dataframe tbody tr th:only-of-type {\n",
              "        vertical-align: middle;\n",
              "    }\n",
              "\n",
              "    .dataframe tbody tr th {\n",
              "        vertical-align: top;\n",
              "    }\n",
              "\n",
              "    .dataframe thead th {\n",
              "        text-align: right;\n",
              "    }\n",
              "</style>\n",
              "<table border=\"1\" class=\"dataframe\">\n",
              "  <thead>\n",
              "    <tr style=\"text-align: right;\">\n",
              "      <th></th>\n",
              "      <th>TOKEN</th>\n",
              "      <th>TOKEN_VECT</th>\n",
              "      <th>IS_ANSWER</th>\n",
              "      <th>TOPIC_NUM</th>\n",
              "      <th>POST_NUM</th>\n",
              "      <th>SENT_NUM</th>\n",
              "      <th>TOKEN_NUM</th>\n",
              "      <th>ANIMACY</th>\n",
              "      <th>CASE</th>\n",
              "      <th>GENDER</th>\n",
              "      <th>PERSON</th>\n",
              "      <th>POS</th>\n",
              "      <th>DEPENDENCY</th>\n",
              "      <th>HEAD</th>\n",
              "      <th>HEAD_ANIMACY</th>\n",
              "      <th>HEAD_CASE</th>\n",
              "      <th>HEAD_GENDER</th>\n",
              "      <th>HEAD_POS</th>\n",
              "      <th>HEAD_VECT</th>\n",
              "      <th>SENT_VECT</th>\n",
              "      <th>HEAD_CHILDS_VECT</th>\n",
              "      <th>NER</th>\n",
              "      <th>COREFERENCE_CLUSTER</th>\n",
              "      <th>NUMBER</th>\n",
              "    </tr>\n",
              "  </thead>\n",
              "  <tbody>\n",
              "    <tr>\n",
              "      <th>0</th>\n",
              "      <td>обсуждаем</td>\n",
              "      <td>[-0.40269375, 1.0305619, -0.40463898, -0.03661...</td>\n",
              "      <td>0</td>\n",
              "      <td>1</td>\n",
              "      <td>0</td>\n",
              "      <td>0</td>\n",
              "      <td>0</td>\n",
              "      <td>None</td>\n",
              "      <td>None</td>\n",
              "      <td>None</td>\n",
              "      <td>1per</td>\n",
              "      <td>VERB</td>\n",
              "      <td>ROOT</td>\n",
              "      <td>обсуждаем</td>\n",
              "      <td>None</td>\n",
              "      <td>None</td>\n",
              "      <td>None</td>\n",
              "      <td>VERB</td>\n",
              "      <td>[-0.40269375, 1.0305619, -0.40463898, -0.03661...</td>\n",
              "      <td>[0.07140819, 0.19123015, 0.08086982, -0.107933...</td>\n",
              "      <td>[0.16047958, -0.114265405, 0.24913357, -0.1901...</td>\n",
              "      <td>0</td>\n",
              "      <td>0</td>\n",
              "      <td>plur</td>\n",
              "    </tr>\n",
              "  </tbody>\n",
              "</table>\n",
              "</div>"
            ],
            "text/plain": [
              "       TOKEN  ... NUMBER\n",
              "0  обсуждаем  ...   plur\n",
              "\n",
              "[1 rows x 24 columns]"
            ]
          },
          "metadata": {
            "tags": []
          },
          "execution_count": 55
        }
      ]
    },
    {
      "cell_type": "code",
      "metadata": {
        "id": "jGtB6FGc9ITr"
      },
      "source": [
        "annotations_table = coref_df.drop(['TOKEN_VECT', 'HEAD_VECT', 'SENT_VECT', 'HEAD_CHILDS_VECT'], axis=1)"
      ],
      "execution_count": 58,
      "outputs": []
    },
    {
      "cell_type": "code",
      "metadata": {
        "id": "KuDjOd2g-Pg0"
      },
      "source": [
        "from google.colab import files"
      ],
      "execution_count": 59,
      "outputs": []
    },
    {
      "cell_type": "code",
      "metadata": {
        "id": "88RYff8nbTQB"
      },
      "source": [
        "annotations_table.to_csv('annotations_table.csv', sep=' ', index=False)"
      ],
      "execution_count": 61,
      "outputs": []
    },
    {
      "cell_type": "code",
      "metadata": {
        "id": "soYa30x1axKh",
        "outputId": "65531b9b-3e35-4ffa-c4c4-bef22b05d95e",
        "colab": {
          "base_uri": "https://localhost:8080/",
          "height": 17
        }
      },
      "source": [
        "files.download('annotations_table.csv')"
      ],
      "execution_count": 62,
      "outputs": [
        {
          "output_type": "display_data",
          "data": {
            "application/javascript": [
              "\n",
              "    async function download(id, filename, size) {\n",
              "      if (!google.colab.kernel.accessAllowed) {\n",
              "        return;\n",
              "      }\n",
              "      const div = document.createElement('div');\n",
              "      const label = document.createElement('label');\n",
              "      label.textContent = `Downloading \"${filename}\": `;\n",
              "      div.appendChild(label);\n",
              "      const progress = document.createElement('progress');\n",
              "      progress.max = size;\n",
              "      div.appendChild(progress);\n",
              "      document.body.appendChild(div);\n",
              "\n",
              "      const buffers = [];\n",
              "      let downloaded = 0;\n",
              "\n",
              "      const channel = await google.colab.kernel.comms.open(id);\n",
              "      // Send a message to notify the kernel that we're ready.\n",
              "      channel.send({})\n",
              "\n",
              "      for await (const message of channel.messages) {\n",
              "        // Send a message to notify the kernel that we're ready.\n",
              "        channel.send({})\n",
              "        if (message.buffers) {\n",
              "          for (const buffer of message.buffers) {\n",
              "            buffers.push(buffer);\n",
              "            downloaded += buffer.byteLength;\n",
              "            progress.value = downloaded;\n",
              "          }\n",
              "        }\n",
              "      }\n",
              "      const blob = new Blob(buffers, {type: 'application/binary'});\n",
              "      const a = document.createElement('a');\n",
              "      a.href = window.URL.createObjectURL(blob);\n",
              "      a.download = filename;\n",
              "      div.appendChild(a);\n",
              "      a.click();\n",
              "      div.remove();\n",
              "    }\n",
              "  "
            ],
            "text/plain": [
              "<IPython.core.display.Javascript object>"
            ]
          },
          "metadata": {
            "tags": []
          }
        },
        {
          "output_type": "display_data",
          "data": {
            "application/javascript": [
              "download(\"download_bc12185a-8268-46cb-b0cb-97ca36380b86\", \"annotations_table.csv\", 2032422)"
            ],
            "text/plain": [
              "<IPython.core.display.Javascript object>"
            ]
          },
          "metadata": {
            "tags": []
          }
        }
      ]
    },
    {
      "cell_type": "code",
      "metadata": {
        "colab": {
          "base_uri": "https://localhost:8080/",
          "height": 17
        },
        "id": "tSAG8kV8-Rob",
        "outputId": "b0a7065f-f158-42dc-ed3e-2525d7cd1a3a"
      },
      "source": [
        "files.download('coref_fasttext60k.csv')"
      ],
      "execution_count": 61,
      "outputs": [
        {
          "output_type": "display_data",
          "data": {
            "application/javascript": [
              "\n",
              "    async function download(id, filename, size) {\n",
              "      if (!google.colab.kernel.accessAllowed) {\n",
              "        return;\n",
              "      }\n",
              "      const div = document.createElement('div');\n",
              "      const label = document.createElement('label');\n",
              "      label.textContent = `Downloading \"${filename}\": `;\n",
              "      div.appendChild(label);\n",
              "      const progress = document.createElement('progress');\n",
              "      progress.max = size;\n",
              "      div.appendChild(progress);\n",
              "      document.body.appendChild(div);\n",
              "\n",
              "      const buffers = [];\n",
              "      let downloaded = 0;\n",
              "\n",
              "      const channel = await google.colab.kernel.comms.open(id);\n",
              "      // Send a message to notify the kernel that we're ready.\n",
              "      channel.send({})\n",
              "\n",
              "      for await (const message of channel.messages) {\n",
              "        // Send a message to notify the kernel that we're ready.\n",
              "        channel.send({})\n",
              "        if (message.buffers) {\n",
              "          for (const buffer of message.buffers) {\n",
              "            buffers.push(buffer);\n",
              "            downloaded += buffer.byteLength;\n",
              "            progress.value = downloaded;\n",
              "          }\n",
              "        }\n",
              "      }\n",
              "      const blob = new Blob(buffers, {type: 'application/binary'});\n",
              "      const a = document.createElement('a');\n",
              "      a.href = window.URL.createObjectURL(blob);\n",
              "      a.download = filename;\n",
              "      div.appendChild(a);\n",
              "      a.click();\n",
              "      div.remove();\n",
              "    }\n",
              "  "
            ],
            "text/plain": [
              "<IPython.core.display.Javascript object>"
            ]
          },
          "metadata": {
            "tags": []
          }
        },
        {
          "output_type": "display_data",
          "data": {
            "application/javascript": [
              "download(\"download_4068cded-8b47-4024-b2d0-67b6cd3367fa\", \"coref_fasttext60k.csv\", 137375866)"
            ],
            "text/plain": [
              "<IPython.core.display.Javascript object>"
            ]
          },
          "metadata": {
            "tags": []
          }
        }
      ]
    },
    {
      "cell_type": "code",
      "metadata": {
        "id": "2VDbf0ysWDkb"
      },
      "source": [
        "coref_df.to_csv('coref_fasttext60k.csv', sep=' ', index=False)"
      ],
      "execution_count": 58,
      "outputs": []
    },
    {
      "cell_type": "code",
      "metadata": {
        "id": "C0pG-kpddYp8",
        "outputId": "d5603654-2515-4024-bd1d-9ac4de8fb0e7",
        "colab": {
          "base_uri": "https://localhost:8080/",
          "height": 407
        }
      },
      "source": [
        "coref_df_anns"
      ],
      "execution_count": 66,
      "outputs": [
        {
          "output_type": "execute_result",
          "data": {
            "text/html": [
              "<div>\n",
              "<style scoped>\n",
              "    .dataframe tbody tr th:only-of-type {\n",
              "        vertical-align: middle;\n",
              "    }\n",
              "\n",
              "    .dataframe tbody tr th {\n",
              "        vertical-align: top;\n",
              "    }\n",
              "\n",
              "    .dataframe thead th {\n",
              "        text-align: right;\n",
              "    }\n",
              "</style>\n",
              "<table border=\"1\" class=\"dataframe\">\n",
              "  <thead>\n",
              "    <tr style=\"text-align: right;\">\n",
              "      <th></th>\n",
              "      <th>TOKEN</th>\n",
              "      <th>TOPIC_NUM</th>\n",
              "      <th>POST_NUM</th>\n",
              "      <th>SENT_NUM</th>\n",
              "      <th>IS_ANSWER</th>\n",
              "      <th>HEAD</th>\n",
              "      <th>NER</th>\n",
              "      <th>COREFERENCE_CLUSTER</th>\n",
              "    </tr>\n",
              "  </thead>\n",
              "  <tbody>\n",
              "    <tr>\n",
              "      <th>0</th>\n",
              "      <td>обсуждаем</td>\n",
              "      <td>1</td>\n",
              "      <td>0</td>\n",
              "      <td>0</td>\n",
              "      <td>0</td>\n",
              "      <td>обсуждаем</td>\n",
              "      <td>0</td>\n",
              "      <td>0</td>\n",
              "    </tr>\n",
              "    <tr>\n",
              "      <th>1</th>\n",
              "      <td>препарат</td>\n",
              "      <td>1</td>\n",
              "      <td>0</td>\n",
              "      <td>0</td>\n",
              "      <td>0</td>\n",
              "      <td>обсуждаем</td>\n",
              "      <td>0</td>\n",
              "      <td>0</td>\n",
              "    </tr>\n",
              "    <tr>\n",
              "      <th>2</th>\n",
              "      <td>рисперидон</td>\n",
              "      <td>1</td>\n",
              "      <td>0</td>\n",
              "      <td>0</td>\n",
              "      <td>0</td>\n",
              "      <td>препарат</td>\n",
              "      <td>0</td>\n",
              "      <td>0</td>\n",
              "    </tr>\n",
              "    <tr>\n",
              "      <th>3</th>\n",
              "      <td>рисполепт</td>\n",
              "      <td>1</td>\n",
              "      <td>0</td>\n",
              "      <td>0</td>\n",
              "      <td>0</td>\n",
              "      <td>рисперидон</td>\n",
              "      <td>0</td>\n",
              "      <td>0</td>\n",
              "    </tr>\n",
              "    <tr>\n",
              "      <th>4</th>\n",
              "      <td>сперидан</td>\n",
              "      <td>1</td>\n",
              "      <td>0</td>\n",
              "      <td>0</td>\n",
              "      <td>0</td>\n",
              "      <td>рисполепт</td>\n",
              "      <td>0</td>\n",
              "      <td>0</td>\n",
              "    </tr>\n",
              "    <tr>\n",
              "      <th>...</th>\n",
              "      <td>...</td>\n",
              "      <td>...</td>\n",
              "      <td>...</td>\n",
              "      <td>...</td>\n",
              "      <td>...</td>\n",
              "      <td>...</td>\n",
              "      <td>...</td>\n",
              "      <td>...</td>\n",
              "    </tr>\n",
              "    <tr>\n",
              "      <th>26492</th>\n",
              "      <td>и</td>\n",
              "      <td>22</td>\n",
              "      <td>68</td>\n",
              "      <td>0</td>\n",
              "      <td>0</td>\n",
              "      <td>пошлины</td>\n",
              "      <td>0</td>\n",
              "      <td>0</td>\n",
              "    </tr>\n",
              "    <tr>\n",
              "      <th>26493</th>\n",
              "      <td>таможенные</td>\n",
              "      <td>22</td>\n",
              "      <td>68</td>\n",
              "      <td>0</td>\n",
              "      <td>0</td>\n",
              "      <td>пошлины</td>\n",
              "      <td>0</td>\n",
              "      <td>0</td>\n",
              "    </tr>\n",
              "    <tr>\n",
              "      <th>26494</th>\n",
              "      <td>пошлины</td>\n",
              "      <td>22</td>\n",
              "      <td>68</td>\n",
              "      <td>0</td>\n",
              "      <td>0</td>\n",
              "      <td>есть</td>\n",
              "      <td>0</td>\n",
              "      <td>0</td>\n",
              "    </tr>\n",
              "    <tr>\n",
              "      <th>26495</th>\n",
              "      <td>как</td>\n",
              "      <td>22</td>\n",
              "      <td>68</td>\n",
              "      <td>0</td>\n",
              "      <td>0</td>\n",
              "      <td>есть</td>\n",
              "      <td>0</td>\n",
              "      <td>0</td>\n",
              "    </tr>\n",
              "    <tr>\n",
              "      <th>26496</th>\n",
              "      <td>светка</td>\n",
              "      <td>22</td>\n",
              "      <td>69</td>\n",
              "      <td>0</td>\n",
              "      <td>0</td>\n",
              "      <td>светка</td>\n",
              "      <td>0</td>\n",
              "      <td>0</td>\n",
              "    </tr>\n",
              "  </tbody>\n",
              "</table>\n",
              "<p>26497 rows × 8 columns</p>\n",
              "</div>"
            ],
            "text/plain": [
              "            TOKEN TOPIC_NUM POST_NUM  ...        HEAD NER COREFERENCE_CLUSTER\n",
              "0       обсуждаем         1        0  ...   обсуждаем   0                   0\n",
              "1        препарат         1        0  ...   обсуждаем   0                   0\n",
              "2      рисперидон         1        0  ...    препарат   0                   0\n",
              "3       рисполепт         1        0  ...  рисперидон   0                   0\n",
              "4        сперидан         1        0  ...   рисполепт   0                   0\n",
              "...           ...       ...      ...  ...         ...  ..                 ...\n",
              "26492           и        22       68  ...     пошлины   0                   0\n",
              "26493  таможенные        22       68  ...     пошлины   0                   0\n",
              "26494     пошлины        22       68  ...        есть   0                   0\n",
              "26495         как        22       68  ...        есть   0                   0\n",
              "26496      светка        22       69  ...      светка   0                   0\n",
              "\n",
              "[26497 rows x 8 columns]"
            ]
          },
          "metadata": {
            "tags": []
          },
          "execution_count": 66
        }
      ]
    },
    {
      "cell_type": "code",
      "metadata": {
        "id": "OHG3wMDl7Soo",
        "outputId": "b3ccdd4a-3583-4f7e-ba35-5e2f1b20c3a7",
        "colab": {
          "base_uri": "https://localhost:8080/",
          "height": 980
        }
      },
      "source": [
        "coref_df"
      ],
      "execution_count": 65,
      "outputs": [
        {
          "output_type": "execute_result",
          "data": {
            "text/html": [
              "<div>\n",
              "<style scoped>\n",
              "    .dataframe tbody tr th:only-of-type {\n",
              "        vertical-align: middle;\n",
              "    }\n",
              "\n",
              "    .dataframe tbody tr th {\n",
              "        vertical-align: top;\n",
              "    }\n",
              "\n",
              "    .dataframe thead th {\n",
              "        text-align: right;\n",
              "    }\n",
              "</style>\n",
              "<table border=\"1\" class=\"dataframe\">\n",
              "  <thead>\n",
              "    <tr style=\"text-align: right;\">\n",
              "      <th></th>\n",
              "      <th>TOKEN</th>\n",
              "      <th>TOKEN_VECT</th>\n",
              "      <th>IS_ANSWER</th>\n",
              "      <th>TOPIC_NUM</th>\n",
              "      <th>POST_NUM</th>\n",
              "      <th>SENT_NUM</th>\n",
              "      <th>TOKEN_NUM</th>\n",
              "      <th>ANIMACY</th>\n",
              "      <th>CASE</th>\n",
              "      <th>GENDER</th>\n",
              "      <th>PERSON</th>\n",
              "      <th>POS</th>\n",
              "      <th>DEPENDENCY</th>\n",
              "      <th>HEAD</th>\n",
              "      <th>HEAD_ANIMACY</th>\n",
              "      <th>HEAD_CASE</th>\n",
              "      <th>HEAD_GENDER</th>\n",
              "      <th>HEAD_POS</th>\n",
              "      <th>HEAD_VECT</th>\n",
              "      <th>SENT_VECT</th>\n",
              "      <th>HEAD_CHILDS_VECT</th>\n",
              "      <th>NER</th>\n",
              "      <th>COREFERENCE_CLUSTER</th>\n",
              "      <th>NUMBER</th>\n",
              "    </tr>\n",
              "  </thead>\n",
              "  <tbody>\n",
              "    <tr>\n",
              "      <th>0</th>\n",
              "      <td>обсуждаем</td>\n",
              "      <td>[0.057627056, 0.9629512, -0.5639207, 0.0987264...</td>\n",
              "      <td>0</td>\n",
              "      <td>1</td>\n",
              "      <td>0</td>\n",
              "      <td>0</td>\n",
              "      <td>0</td>\n",
              "      <td>None</td>\n",
              "      <td>None</td>\n",
              "      <td>None</td>\n",
              "      <td>1per</td>\n",
              "      <td>VERB</td>\n",
              "      <td>ROOT</td>\n",
              "      <td>обсуждаем</td>\n",
              "      <td>None</td>\n",
              "      <td>None</td>\n",
              "      <td>None</td>\n",
              "      <td>VERB</td>\n",
              "      <td>[0.057627056, 0.9629512, -0.5639207, 0.0987264...</td>\n",
              "      <td>[0.14700076, 0.24342926, 0.20734426, -0.007509...</td>\n",
              "      <td>[-0.07295611, 0.330615, 0.8354805, 0.22455317,...</td>\n",
              "      <td>0</td>\n",
              "      <td>0</td>\n",
              "      <td>plur</td>\n",
              "    </tr>\n",
              "    <tr>\n",
              "      <th>1</th>\n",
              "      <td>препарат</td>\n",
              "      <td>[-0.07295611, 0.330615, 0.8354805, 0.22455317,...</td>\n",
              "      <td>0</td>\n",
              "      <td>1</td>\n",
              "      <td>0</td>\n",
              "      <td>0</td>\n",
              "      <td>1</td>\n",
              "      <td>inan</td>\n",
              "      <td>nomn</td>\n",
              "      <td>masc</td>\n",
              "      <td>None</td>\n",
              "      <td>NOUN</td>\n",
              "      <td>obj</td>\n",
              "      <td>обсуждаем</td>\n",
              "      <td>None</td>\n",
              "      <td>None</td>\n",
              "      <td>None</td>\n",
              "      <td>VERB</td>\n",
              "      <td>[0.057627056, 0.9629512, -0.5639207, 0.0987264...</td>\n",
              "      <td>[0.14700076, 0.24342926, 0.20734426, -0.007509...</td>\n",
              "      <td>[-0.07295611, 0.330615, 0.8354805, 0.22455317,...</td>\n",
              "      <td>0</td>\n",
              "      <td>0</td>\n",
              "      <td>sing</td>\n",
              "    </tr>\n",
              "    <tr>\n",
              "      <th>2</th>\n",
              "      <td>рисперидон</td>\n",
              "      <td>[0.7230594, 1.1238927, 0.7188015, 0.16773507, ...</td>\n",
              "      <td>0</td>\n",
              "      <td>1</td>\n",
              "      <td>0</td>\n",
              "      <td>0</td>\n",
              "      <td>2</td>\n",
              "      <td>anim</td>\n",
              "      <td>nomn</td>\n",
              "      <td>masc</td>\n",
              "      <td>None</td>\n",
              "      <td>NOUN</td>\n",
              "      <td>appos</td>\n",
              "      <td>препарат</td>\n",
              "      <td>inan</td>\n",
              "      <td>nomn</td>\n",
              "      <td>masc</td>\n",
              "      <td>NOUN</td>\n",
              "      <td>[-0.07295611, 0.330615, 0.8354805, 0.22455317,...</td>\n",
              "      <td>[0.14700076, 0.24342926, 0.20734426, -0.007509...</td>\n",
              "      <td>[0.7230594, 1.1238927, 0.7188015, 0.16773507, ...</td>\n",
              "      <td>0</td>\n",
              "      <td>0</td>\n",
              "      <td>sing</td>\n",
              "    </tr>\n",
              "    <tr>\n",
              "      <th>3</th>\n",
              "      <td>рисполепт</td>\n",
              "      <td>[0.46538657, 1.0230026, 0.67854816, -0.0316611...</td>\n",
              "      <td>0</td>\n",
              "      <td>1</td>\n",
              "      <td>0</td>\n",
              "      <td>0</td>\n",
              "      <td>3</td>\n",
              "      <td>inan</td>\n",
              "      <td>gent</td>\n",
              "      <td>femn</td>\n",
              "      <td>None</td>\n",
              "      <td>NOUN</td>\n",
              "      <td>parataxis</td>\n",
              "      <td>рисперидон</td>\n",
              "      <td>anim</td>\n",
              "      <td>nomn</td>\n",
              "      <td>masc</td>\n",
              "      <td>NOUN</td>\n",
              "      <td>[0.7230594, 1.1238927, 0.7188015, 0.16773507, ...</td>\n",
              "      <td>[0.14700076, 0.24342926, 0.20734426, -0.007509...</td>\n",
              "      <td>[0.46538657, 1.0230026, 0.67854816, -0.0316611...</td>\n",
              "      <td>0</td>\n",
              "      <td>0</td>\n",
              "      <td>plur</td>\n",
              "    </tr>\n",
              "    <tr>\n",
              "      <th>4</th>\n",
              "      <td>сперидан</td>\n",
              "      <td>[0.6134956, 0.96340436, 0.8664781, -0.03987813...</td>\n",
              "      <td>0</td>\n",
              "      <td>1</td>\n",
              "      <td>0</td>\n",
              "      <td>0</td>\n",
              "      <td>4</td>\n",
              "      <td>None</td>\n",
              "      <td>None</td>\n",
              "      <td>masc</td>\n",
              "      <td>None</td>\n",
              "      <td>PRTS</td>\n",
              "      <td>conj</td>\n",
              "      <td>рисполепт</td>\n",
              "      <td>inan</td>\n",
              "      <td>gent</td>\n",
              "      <td>femn</td>\n",
              "      <td>NOUN</td>\n",
              "      <td>[0.46538657, 1.0230026, 0.67854816, -0.0316611...</td>\n",
              "      <td>[0.14700076, 0.24342926, 0.20734426, -0.007509...</td>\n",
              "      <td>[0.20449853, 0.32113478, 0.28882602, -0.013292...</td>\n",
              "      <td>0</td>\n",
              "      <td>0</td>\n",
              "      <td>sing</td>\n",
              "    </tr>\n",
              "    <tr>\n",
              "      <th>...</th>\n",
              "      <td>...</td>\n",
              "      <td>...</td>\n",
              "      <td>...</td>\n",
              "      <td>...</td>\n",
              "      <td>...</td>\n",
              "      <td>...</td>\n",
              "      <td>...</td>\n",
              "      <td>...</td>\n",
              "      <td>...</td>\n",
              "      <td>...</td>\n",
              "      <td>...</td>\n",
              "      <td>...</td>\n",
              "      <td>...</td>\n",
              "      <td>...</td>\n",
              "      <td>...</td>\n",
              "      <td>...</td>\n",
              "      <td>...</td>\n",
              "      <td>...</td>\n",
              "      <td>...</td>\n",
              "      <td>...</td>\n",
              "      <td>...</td>\n",
              "      <td>...</td>\n",
              "      <td>...</td>\n",
              "      <td>...</td>\n",
              "    </tr>\n",
              "    <tr>\n",
              "      <th>26492</th>\n",
              "      <td>и</td>\n",
              "      <td>[-0.1821897, -0.33401555, -0.4894262, 0.008755...</td>\n",
              "      <td>0</td>\n",
              "      <td>22</td>\n",
              "      <td>68</td>\n",
              "      <td>0</td>\n",
              "      <td>7</td>\n",
              "      <td>None</td>\n",
              "      <td>None</td>\n",
              "      <td>None</td>\n",
              "      <td>None</td>\n",
              "      <td>CONJ</td>\n",
              "      <td>cc</td>\n",
              "      <td>пошлины</td>\n",
              "      <td>inan</td>\n",
              "      <td>nomn</td>\n",
              "      <td>femn</td>\n",
              "      <td>NOUN</td>\n",
              "      <td>[-0.5569697, -0.44752312, -0.5368532, 0.070110...</td>\n",
              "      <td>[0.015651383, 0.011008813, 0.0037842372, -0.03...</td>\n",
              "      <td>[-0.146689, -0.16303231, -0.4624978, -0.182984...</td>\n",
              "      <td>0</td>\n",
              "      <td>0</td>\n",
              "      <td>None</td>\n",
              "    </tr>\n",
              "    <tr>\n",
              "      <th>26493</th>\n",
              "      <td>таможенные</td>\n",
              "      <td>[-0.2578773, -0.15508136, -0.8980672, -0.55770...</td>\n",
              "      <td>0</td>\n",
              "      <td>22</td>\n",
              "      <td>68</td>\n",
              "      <td>0</td>\n",
              "      <td>8</td>\n",
              "      <td>None</td>\n",
              "      <td>nomn</td>\n",
              "      <td>None</td>\n",
              "      <td>None</td>\n",
              "      <td>ADJF</td>\n",
              "      <td>amod</td>\n",
              "      <td>пошлины</td>\n",
              "      <td>inan</td>\n",
              "      <td>nomn</td>\n",
              "      <td>femn</td>\n",
              "      <td>NOUN</td>\n",
              "      <td>[-0.5569697, -0.44752312, -0.5368532, 0.070110...</td>\n",
              "      <td>[0.015651383, 0.011008813, 0.0037842372, -0.03...</td>\n",
              "      <td>[-0.146689, -0.16303231, -0.4624978, -0.182984...</td>\n",
              "      <td>0</td>\n",
              "      <td>0</td>\n",
              "      <td>plur</td>\n",
              "    </tr>\n",
              "    <tr>\n",
              "      <th>26494</th>\n",
              "      <td>пошлины</td>\n",
              "      <td>[-0.5569697, -0.44752312, -0.5368532, 0.070110...</td>\n",
              "      <td>0</td>\n",
              "      <td>22</td>\n",
              "      <td>68</td>\n",
              "      <td>0</td>\n",
              "      <td>9</td>\n",
              "      <td>inan</td>\n",
              "      <td>nomn</td>\n",
              "      <td>femn</td>\n",
              "      <td>None</td>\n",
              "      <td>NOUN</td>\n",
              "      <td>nsubj</td>\n",
              "      <td>есть</td>\n",
              "      <td>None</td>\n",
              "      <td>None</td>\n",
              "      <td>None</td>\n",
              "      <td>INFN</td>\n",
              "      <td>[-0.15163311, -0.24171788, -0.30786017, -0.050...</td>\n",
              "      <td>[0.015651383, 0.011008813, 0.0037842372, -0.03...</td>\n",
              "      <td>[0.069832854, 0.12785286, -0.0618464, -0.03987...</td>\n",
              "      <td>0</td>\n",
              "      <td>0</td>\n",
              "      <td>plur</td>\n",
              "    </tr>\n",
              "    <tr>\n",
              "      <th>26495</th>\n",
              "      <td>как</td>\n",
              "      <td>[0.22500671, 0.1633283, 0.09822812, -0.3939666...</td>\n",
              "      <td>0</td>\n",
              "      <td>22</td>\n",
              "      <td>68</td>\n",
              "      <td>0</td>\n",
              "      <td>10</td>\n",
              "      <td>None</td>\n",
              "      <td>None</td>\n",
              "      <td>None</td>\n",
              "      <td>None</td>\n",
              "      <td>CONJ</td>\n",
              "      <td>advmod</td>\n",
              "      <td>есть</td>\n",
              "      <td>None</td>\n",
              "      <td>None</td>\n",
              "      <td>None</td>\n",
              "      <td>INFN</td>\n",
              "      <td>[-0.15163311, -0.24171788, -0.30786017, -0.050...</td>\n",
              "      <td>[0.015651383, 0.011008813, 0.0037842372, -0.03...</td>\n",
              "      <td>[0.069832854, 0.12785286, -0.0618464, -0.03987...</td>\n",
              "      <td>0</td>\n",
              "      <td>0</td>\n",
              "      <td>None</td>\n",
              "    </tr>\n",
              "    <tr>\n",
              "      <th>26496</th>\n",
              "      <td>светка</td>\n",
              "      <td>[0.06992322, 0.15035622, 0.11260198, -0.759211...</td>\n",
              "      <td>0</td>\n",
              "      <td>22</td>\n",
              "      <td>69</td>\n",
              "      <td>0</td>\n",
              "      <td>0</td>\n",
              "      <td>inan</td>\n",
              "      <td>nomn</td>\n",
              "      <td>femn</td>\n",
              "      <td>None</td>\n",
              "      <td>NOUN</td>\n",
              "      <td>ROOT</td>\n",
              "      <td>светка</td>\n",
              "      <td>inan</td>\n",
              "      <td>nomn</td>\n",
              "      <td>femn</td>\n",
              "      <td>NOUN</td>\n",
              "      <td>[0.06992322, 0.15035622, 0.11260198, -0.759211...</td>\n",
              "      <td>[0.06992322, 0.15035622, 0.11260198, -0.759211...</td>\n",
              "      <td>0</td>\n",
              "      <td>0</td>\n",
              "      <td>0</td>\n",
              "      <td>sing</td>\n",
              "    </tr>\n",
              "  </tbody>\n",
              "</table>\n",
              "<p>26497 rows × 24 columns</p>\n",
              "</div>"
            ],
            "text/plain": [
              "            TOKEN  ... NUMBER\n",
              "0       обсуждаем  ...   plur\n",
              "1        препарат  ...   sing\n",
              "2      рисперидон  ...   sing\n",
              "3       рисполепт  ...   plur\n",
              "4        сперидан  ...   sing\n",
              "...           ...  ...    ...\n",
              "26492           и  ...   None\n",
              "26493  таможенные  ...   plur\n",
              "26494     пошлины  ...   plur\n",
              "26495         как  ...   None\n",
              "26496      светка  ...   sing\n",
              "\n",
              "[26497 rows x 24 columns]"
            ]
          },
          "metadata": {
            "tags": []
          },
          "execution_count": 65
        }
      ]
    },
    {
      "cell_type": "code",
      "metadata": {
        "id": "9jnyIYAyxi6i"
      },
      "source": [
        "# for topic_num, topic in topic_list:\n",
        "#   post_list = topic.split('----')\n",
        "#   sent_list = [(sent, topic_num) for sent, topic_num in enumerate]\n",
        "#   for sent in sent_list:\n",
        "#     sent_vector = 0\n",
        "#     post_num = sent_dict.get(sent)\n",
        "#     # sent_vector = sum([model.wv.__getitem__(tok.lower())[-1] for tok in sent.split()])\n",
        "#     if 'сказал(а)', 'писал(а)' in sent:\n",
        "#       sent.replace('сказал(а)', 'SOQ')\n",
        "#     for i in sent.split():\n",
        "#       if re.search(r'[A-Za-zА-Яа-я]', i):\n",
        "#         try:     \n",
        "#           sent_vector += ft.wv.__getitem__(i.lower())\n",
        "#         except KeyError:\n",
        "#           print(i.lower(), 111)\n",
        "#     if len(sent.split()) > 0:\n",
        "#       sent_vector = sent_vector/len(sent.split())\n",
        "\n",
        "\n",
        "#     my_sent = nlp(sent)\n",
        "#     for token in my_sent:\n",
        "#       if re.search(r'[A-Za-zА-Яа-я]', token.text):\n",
        "#         morphy = morph.parse(token.text)[0]\n",
        "\n",
        "#         app_dict = {}\n",
        "#         app_dict['TOKEN'] = token.text or '-'\n",
        "#         try:\n",
        "#           app_dict['TOKEN_VECT'] = ft.wv.__getitem__(token.text.lower()) if token.text else '-'\n",
        "#         except KeyError:\n",
        "#           print(token.text.lower(), 'O__o')\n",
        "#         app_dict['POST_NUM'] = post_num or '-'\n",
        "#         app_dict['ANIMACY'] = morphy.tag.animacy or '-'\n",
        "#         app_dict['CASE'] = morphy.tag.case or '-'\n",
        "#         app_dict['GENDER'] = morphy.tag.gender or '-'\n",
        "#         app_dict['PERSON'] = morphy.tag.person or '-'\n",
        "#         app_dict['POS'] = morphy.tag.POS or '-' \n",
        "#         app_dict['DEPENDENCY'] = token.dep_ or '-'\n",
        "\n",
        "#         app_dict['HEAD'] = token.head.text or '-'\n",
        "#         try:\n",
        "#           app_dict['HEAD_VECT'] = ft.wv.__getitem__(token.head.text.lower()) if token.head.text else '-'\n",
        "#         except KeyError:\n",
        "#           app_dict['HEAD_VECT'] = '-'\n",
        "#           print(token.head.text.lower(), 'here')\n",
        "#         app_dict['HEAD_POS'] = token.head.pos_ or '-'\n",
        "#         morphy = morph.parse(token.head.text)[0] or '-'\n",
        "#         app_dict['HEAD_ANIMACY'] = morphy.tag.animacy or '-'\n",
        "#         app_dict['HEAD_CASE'] = morphy.tag.case or '-'\n",
        "#         app_dict['HEAD_GENDER'] = morphy.tag.gender or '-'\n",
        "#         app_dict['HEAD_POS'] = morphy.tag.POS or '-'\n",
        "#         app_dict['SENT_VECTOR'] = sent_vector\n",
        "#         try:\n",
        "#           if token.head.children:\n",
        "#             app_dict['HEAD_CHILDS_VECT'] = 0\n",
        "#             for child in token.head.children:\n",
        "#               if re.search(r'[A-Za-zА-Яа-я]', child.text):\n",
        "#                 app_dict['HEAD_CHILDS_VECT'] += ft[child.text.lower()]\n",
        "#             if list(token.head.children):\n",
        "#               app_dict['HEAD_CHILDS_VECT'] = app_dict['HEAD_CHILDS_VECT']/len(list(token.head.children))\n",
        "#         except (KeyError, ZeroDivisionError):\n",
        "#           print(child.text.lower(), 'end')\n",
        "\n",
        "#         app_dict['NER'] = 0\n",
        "#         app_dict['COREFERENCE_CLUSTER'] = 0\n",
        "#         coref_df = coref_df.append(app_dict, ignore_index=True)\n"
      ],
      "execution_count": 63,
      "outputs": []
    },
    {
      "cell_type": "code",
      "metadata": {
        "id": "Sm-d5yaz5mH5"
      },
      "source": [
        "# for topic in topic_list:\n",
        "#   sent_list = topic.split('----')\n",
        "#   for sent in sent_list:\n",
        "#     sent_vector = 0\n",
        "#     post_num = sent_dict.get(sent)\n",
        "#     # sent_vector = sum([model.wv.__getitem__(tok.lower())[-1] for tok in sent.split()])\n",
        "    \n",
        "#     for i in sent.split():\n",
        "#       if re.search(r'[A-Za-zА-Яа-я]', i):\n",
        "#         try:     \n",
        "#           sent_vector += ft.wv.__getitem__(i.lower())\n",
        "#         except KeyError:\n",
        "#           print(i.lower(), 111)\n",
        "#     if len(sent.split()) > 0:\n",
        "#       sent_vector = sent_vector/len(sent.split())\n",
        "\n",
        "#     # if sent_vector == '-' or None or 0:\n",
        "#     #   print(sent)\n",
        "#     my_sent = nlp(sent)\n",
        "#     for token in my_sent:\n",
        "#       if re.search(r'[A-Za-zА-Яа-я]', token.text):\n",
        "#         morphy = morph.parse(token.text)[0]\n",
        "\n",
        "#         app_dict = {}\n",
        "#         app_dict['TOKEN'] = token.text or '-'\n",
        "#         try:\n",
        "#           app_dict['TOKEN_VECT'] = ft.wv.__getitem__(token.text.lower()) if token.text else '-'\n",
        "#         except KeyError:\n",
        "#           print(token.text.lower(), 'O__o')\n",
        "#         app_dict['POST_NUM'] = post_num or '-'\n",
        "#         app_dict['ANIMACY'] = morphy.tag.animacy or '-'\n",
        "#         app_dict['CASE'] = morphy.tag.case or '-'\n",
        "#         app_dict['GENDER'] = morphy.tag.gender or '-'\n",
        "#         app_dict['PERSON'] = morphy.tag.person or '-'\n",
        "#         app_dict['POS'] = morphy.tag.POS or '-' \n",
        "#         app_dict['DEPENDENCY'] = token.dep_ or '-'\n",
        "\n",
        "#         app_dict['HEAD'] = token.head.text or '-'\n",
        "#         try:\n",
        "#           app_dict['HEAD_VECT'] = ft.wv.__getitem__(token.head.text.lower()) if token.head.text else '-'\n",
        "#         except KeyError:\n",
        "#           app_dict['HEAD_VECT'] = '-'\n",
        "#           print(token.head.text.lower(), 'here')\n",
        "#         app_dict['HEAD_POS'] = token.head.pos_ or '-'\n",
        "#         morphy = morph.parse(token.head.text)[0] or '-'\n",
        "#         app_dict['HEAD_ANIMACY'] = morphy.tag.animacy or '-'\n",
        "#         app_dict['HEAD_CASE'] = morphy.tag.case or '-'\n",
        "#         app_dict['HEAD_GENDER'] = morphy.tag.gender or '-'\n",
        "#         # app_dict['HEAD_PERSON'] = morphy.tag.person or '-'\n",
        "#         app_dict['HEAD_POS'] = morphy.tag.POS or '-'\n",
        "#         app_dict['SENT_VECTOR'] = sent_vector\n",
        "#         try:\n",
        "#           if token.head.children:\n",
        "#             app_dict['HEAD_CHILDS_VECT'] = 0\n",
        "#             for child in token.head.children:\n",
        "#               if re.search(r'[A-Za-zА-Яа-я]', child.text):\n",
        "#                 app_dict['HEAD_CHILDS_VECT'] += ft[child.text.lower()]\n",
        "#             if list(token.head.children):\n",
        "#               app_dict['HEAD_CHILDS_VECT'] = app_dict['HEAD_CHILDS_VECT']/len(list(token.head.children))\n",
        "#         except (KeyError, ZeroDivisionError):\n",
        "#           print(child.text.lower(), 'end')\n",
        "\n",
        "#         app_dict['NER'] = 0\n",
        "#         app_dict['COREFERENCE_CLUSTER'] = 0\n",
        "#         coref_df = coref_df.append(app_dict, ignore_index=True)\n"
      ],
      "execution_count": 64,
      "outputs": []
    },
    {
      "cell_type": "code",
      "metadata": {
        "id": "CU5Ms8ZM38w7"
      },
      "source": [
        ""
      ],
      "execution_count": null,
      "outputs": []
    }
  ]
}