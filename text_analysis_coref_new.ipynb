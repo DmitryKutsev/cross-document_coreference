{
  "nbformat": 4,
  "nbformat_minor": 0,
  "metadata": {
    "colab": {
      "name": "Untitled55.ipynb",
      "provenance": [],
      "authorship_tag": "ABX9TyMIc0TZ+DQm4lPKpgTG6EKt",
      "include_colab_link": true
    },
    "kernelspec": {
      "name": "python3",
      "display_name": "Python 3"
    },
    "language_info": {
      "name": "python"
    }
  },
  "cells": [
    {
      "cell_type": "markdown",
      "metadata": {
        "id": "view-in-github",
        "colab_type": "text"
      },
      "source": [
        "<a href=\"https://colab.research.google.com/github/DmitryKutsev/cross-document_coreference/blob/main/text_analysis_coref_new.ipynb\" target=\"_parent\"><img src=\"https://colab.research.google.com/assets/colab-badge.svg\" alt=\"Open In Colab\"/></a>"
      ]
    },
    {
      "cell_type": "code",
      "metadata": {
        "colab": {
          "base_uri": "https://localhost:8080/",
          "height": 1000
        },
        "id": "oA2EFVEBdpW8",
        "outputId": "d6fec583-11ab-4c06-b8f5-69a875d2cb14"
      },
      "source": [
        "!pip install -U pip setuptools wheel\n",
        "!pip install -U spacy\n",
        "!python -m spacy download ru_core_news_sm\n",
        "!python -m spacy download ru_core_news_md"
      ],
      "execution_count": null,
      "outputs": [
        {
          "output_type": "stream",
          "text": [
            "Collecting pip\n",
            "\u001b[?25l  Downloading https://files.pythonhosted.org/packages/cd/6f/43037c7bcc8bd8ba7c9074256b1a11596daa15555808ec748048c1507f08/pip-21.1.1-py3-none-any.whl (1.5MB)\n",
            "\u001b[K     |████████████████████████████████| 1.6MB 4.1MB/s \n",
            "\u001b[?25hCollecting setuptools\n",
            "\u001b[?25l  Downloading https://files.pythonhosted.org/packages/d0/15/5041473f5d142ee93bf1593deb8f932e27a078f6f04e2020cf44044f72c5/setuptools-56.2.0-py3-none-any.whl (785kB)\n",
            "\u001b[K     |████████████████████████████████| 788kB 43.3MB/s \n",
            "\u001b[?25hRequirement already up-to-date: wheel in /usr/local/lib/python3.7/dist-packages (0.36.2)\n",
            "\u001b[31mERROR: datascience 0.10.6 has requirement folium==0.2.1, but you'll have folium 0.8.3 which is incompatible.\u001b[0m\n",
            "Installing collected packages: pip, setuptools\n",
            "  Found existing installation: pip 19.3.1\n",
            "    Uninstalling pip-19.3.1:\n",
            "      Successfully uninstalled pip-19.3.1\n",
            "  Found existing installation: setuptools 56.1.0\n",
            "    Uninstalling setuptools-56.1.0:\n",
            "      Successfully uninstalled setuptools-56.1.0\n",
            "Successfully installed pip-21.1.1 setuptools-56.2.0\n"
          ],
          "name": "stdout"
        },
        {
          "output_type": "display_data",
          "data": {
            "application/vnd.colab-display-data+json": {
              "pip_warning": {
                "packages": [
                  "pkg_resources"
                ]
              }
            }
          },
          "metadata": {
            "tags": []
          }
        },
        {
          "output_type": "stream",
          "text": [
            "Requirement already satisfied: spacy in /usr/local/lib/python3.7/dist-packages (2.2.4)\n",
            "Collecting spacy\n",
            "  Downloading spacy-3.0.6-cp37-cp37m-manylinux2014_x86_64.whl (12.8 MB)\n",
            "\u001b[K     |████████████████████████████████| 12.8 MB 89 kB/s \n",
            "\u001b[?25hRequirement already satisfied: requests<3.0.0,>=2.13.0 in /usr/local/lib/python3.7/dist-packages (from spacy) (2.23.0)\n",
            "Requirement already satisfied: blis<0.8.0,>=0.4.0 in /usr/local/lib/python3.7/dist-packages (from spacy) (0.4.1)\n",
            "Requirement already satisfied: packaging>=20.0 in /usr/local/lib/python3.7/dist-packages (from spacy) (20.9)\n",
            "Requirement already satisfied: wasabi<1.1.0,>=0.8.1 in /usr/local/lib/python3.7/dist-packages (from spacy) (0.8.2)\n",
            "Collecting srsly<3.0.0,>=2.4.1\n",
            "  Downloading srsly-2.4.1-cp37-cp37m-manylinux2014_x86_64.whl (456 kB)\n",
            "\u001b[K     |████████████████████████████████| 456 kB 44.6 MB/s \n",
            "\u001b[?25hRequirement already satisfied: cymem<2.1.0,>=2.0.2 in /usr/local/lib/python3.7/dist-packages (from spacy) (2.0.5)\n",
            "Requirement already satisfied: setuptools in /usr/local/lib/python3.7/dist-packages (from spacy) (56.2.0)\n",
            "Collecting thinc<8.1.0,>=8.0.3\n",
            "  Downloading thinc-8.0.3-cp37-cp37m-manylinux2014_x86_64.whl (1.1 MB)\n",
            "\u001b[K     |████████████████████████████████| 1.1 MB 48.3 MB/s \n",
            "\u001b[?25hCollecting pathy>=0.3.5\n",
            "  Downloading pathy-0.5.2-py3-none-any.whl (42 kB)\n",
            "\u001b[K     |████████████████████████████████| 42 kB 1.1 MB/s \n",
            "\u001b[?25hCollecting spacy-legacy<3.1.0,>=3.0.4\n",
            "  Downloading spacy_legacy-3.0.5-py2.py3-none-any.whl (12 kB)\n",
            "Collecting typer<0.4.0,>=0.3.0\n",
            "  Downloading typer-0.3.2-py3-none-any.whl (21 kB)\n",
            "Collecting catalogue<2.1.0,>=2.0.3\n",
            "  Downloading catalogue-2.0.4-py3-none-any.whl (16 kB)\n",
            "Requirement already satisfied: numpy>=1.15.0 in /usr/local/lib/python3.7/dist-packages (from spacy) (1.19.5)\n",
            "Requirement already satisfied: preshed<3.1.0,>=3.0.2 in /usr/local/lib/python3.7/dist-packages (from spacy) (3.0.5)\n",
            "Requirement already satisfied: tqdm<5.0.0,>=4.38.0 in /usr/local/lib/python3.7/dist-packages (from spacy) (4.41.1)\n",
            "Requirement already satisfied: typing-extensions<4.0.0.0,>=3.7.4 in /usr/local/lib/python3.7/dist-packages (from spacy) (3.7.4.3)\n",
            "Requirement already satisfied: jinja2 in /usr/local/lib/python3.7/dist-packages (from spacy) (2.11.3)\n",
            "Collecting pydantic<1.8.0,>=1.7.1\n",
            "  Downloading pydantic-1.7.4-cp37-cp37m-manylinux2014_x86_64.whl (9.1 MB)\n",
            "\u001b[K     |████████████████████████████████| 9.1 MB 44.0 MB/s \n",
            "\u001b[?25hRequirement already satisfied: murmurhash<1.1.0,>=0.28.0 in /usr/local/lib/python3.7/dist-packages (from spacy) (1.0.5)\n",
            "Requirement already satisfied: zipp>=0.5 in /usr/local/lib/python3.7/dist-packages (from catalogue<2.1.0,>=2.0.3->spacy) (3.4.1)\n",
            "Requirement already satisfied: pyparsing>=2.0.2 in /usr/local/lib/python3.7/dist-packages (from packaging>=20.0->spacy) (2.4.7)\n",
            "Collecting smart-open<4.0.0,>=2.2.0\n",
            "  Downloading smart_open-3.0.0.tar.gz (113 kB)\n",
            "\u001b[K     |████████████████████████████████| 113 kB 63.2 MB/s \n",
            "\u001b[?25hRequirement already satisfied: idna<3,>=2.5 in /usr/local/lib/python3.7/dist-packages (from requests<3.0.0,>=2.13.0->spacy) (2.10)\n",
            "Requirement already satisfied: certifi>=2017.4.17 in /usr/local/lib/python3.7/dist-packages (from requests<3.0.0,>=2.13.0->spacy) (2020.12.5)\n",
            "Requirement already satisfied: urllib3!=1.25.0,!=1.25.1,<1.26,>=1.21.1 in /usr/local/lib/python3.7/dist-packages (from requests<3.0.0,>=2.13.0->spacy) (1.24.3)\n",
            "Requirement already satisfied: chardet<4,>=3.0.2 in /usr/local/lib/python3.7/dist-packages (from requests<3.0.0,>=2.13.0->spacy) (3.0.4)\n",
            "Collecting click<7.2.0,>=7.1.1\n",
            "  Downloading click-7.1.2-py2.py3-none-any.whl (82 kB)\n",
            "\u001b[K     |████████████████████████████████| 82 kB 848 kB/s \n",
            "\u001b[?25hRequirement already satisfied: MarkupSafe>=0.23 in /usr/local/lib/python3.7/dist-packages (from jinja2->spacy) (2.0.0)\n",
            "Building wheels for collected packages: smart-open\n",
            "  Building wheel for smart-open (setup.py) ... \u001b[?25l\u001b[?25hdone\n",
            "  Created wheel for smart-open: filename=smart_open-3.0.0-py3-none-any.whl size=107097 sha256=3c1609782238fedbaa300d2370d9c964bdc4ab167f8a6ffad6ea84f0a4225627\n",
            "  Stored in directory: /root/.cache/pip/wheels/83/a6/12/bf3c1a667bde4251be5b7a3368b2d604c9af2105b5c1cb1870\n",
            "Successfully built smart-open\n",
            "Installing collected packages: click, catalogue, typer, srsly, smart-open, pydantic, thinc, spacy-legacy, pathy, spacy\n",
            "  Attempting uninstall: click\n",
            "    Found existing installation: click 8.0.0\n",
            "    Uninstalling click-8.0.0:\n",
            "      Successfully uninstalled click-8.0.0\n",
            "  Attempting uninstall: catalogue\n",
            "    Found existing installation: catalogue 1.0.0\n",
            "    Uninstalling catalogue-1.0.0:\n",
            "      Successfully uninstalled catalogue-1.0.0\n",
            "  Attempting uninstall: srsly\n",
            "    Found existing installation: srsly 1.0.5\n",
            "    Uninstalling srsly-1.0.5:\n",
            "      Successfully uninstalled srsly-1.0.5\n",
            "  Attempting uninstall: smart-open\n",
            "    Found existing installation: smart-open 5.0.0\n",
            "    Uninstalling smart-open-5.0.0:\n",
            "      Successfully uninstalled smart-open-5.0.0\n",
            "  Attempting uninstall: thinc\n",
            "    Found existing installation: thinc 7.4.0\n",
            "    Uninstalling thinc-7.4.0:\n",
            "      Successfully uninstalled thinc-7.4.0\n",
            "  Attempting uninstall: spacy\n",
            "    Found existing installation: spacy 2.2.4\n",
            "    Uninstalling spacy-2.2.4:\n",
            "      Successfully uninstalled spacy-2.2.4\n",
            "Successfully installed catalogue-2.0.4 click-7.1.2 pathy-0.5.2 pydantic-1.7.4 smart-open-3.0.0 spacy-3.0.6 spacy-legacy-3.0.5 srsly-2.4.1 thinc-8.0.3 typer-0.3.2\n",
            "\u001b[33mWARNING: Running pip as root will break packages and permissions. You should install packages reliably by using venv: https://pip.pypa.io/warnings/venv\u001b[0m\n",
            "2021-05-14 20:15:43.456307: I tensorflow/stream_executor/platform/default/dso_loader.cc:49] Successfully opened dynamic library libcudart.so.11.0\n",
            "Collecting ru-core-news-sm==3.0.0\n",
            "  Downloading https://github.com/explosion/spacy-models/releases/download/ru_core_news_sm-3.0.0/ru_core_news_sm-3.0.0-py3-none-any.whl (17.9 MB)\n",
            "\u001b[K     |████████████████████████████████| 17.9 MB 1.7 MB/s \n",
            "\u001b[?25hCollecting pymorphy2>=0.9\n",
            "  Downloading pymorphy2-0.9.1-py3-none-any.whl (55 kB)\n",
            "\u001b[K     |████████████████████████████████| 55 kB 2.0 MB/s \n",
            "\u001b[?25hRequirement already satisfied: spacy<3.1.0,>=3.0.0 in /usr/local/lib/python3.7/dist-packages (from ru-core-news-sm==3.0.0) (3.0.6)\n",
            "Collecting pymorphy2-dicts-ru<3.0,>=2.4\n",
            "  Downloading pymorphy2_dicts_ru-2.4.417127.4579844-py2.py3-none-any.whl (8.2 MB)\n",
            "\u001b[K     |████████████████████████████████| 8.2 MB 7.5 MB/s \n",
            "\u001b[?25hCollecting dawg-python>=0.7.1\n",
            "  Downloading DAWG_Python-0.7.2-py2.py3-none-any.whl (11 kB)\n",
            "Requirement already satisfied: docopt>=0.6 in /usr/local/lib/python3.7/dist-packages (from pymorphy2>=0.9->ru-core-news-sm==3.0.0) (0.6.2)\n",
            "Requirement already satisfied: pathy>=0.3.5 in /usr/local/lib/python3.7/dist-packages (from spacy<3.1.0,>=3.0.0->ru-core-news-sm==3.0.0) (0.5.2)\n",
            "Requirement already satisfied: spacy-legacy<3.1.0,>=3.0.4 in /usr/local/lib/python3.7/dist-packages (from spacy<3.1.0,>=3.0.0->ru-core-news-sm==3.0.0) (3.0.5)\n",
            "Requirement already satisfied: cymem<2.1.0,>=2.0.2 in /usr/local/lib/python3.7/dist-packages (from spacy<3.1.0,>=3.0.0->ru-core-news-sm==3.0.0) (2.0.5)\n",
            "Requirement already satisfied: wasabi<1.1.0,>=0.8.1 in /usr/local/lib/python3.7/dist-packages (from spacy<3.1.0,>=3.0.0->ru-core-news-sm==3.0.0) (0.8.2)\n",
            "Requirement already satisfied: pydantic<1.8.0,>=1.7.1 in /usr/local/lib/python3.7/dist-packages (from spacy<3.1.0,>=3.0.0->ru-core-news-sm==3.0.0) (1.7.4)\n",
            "Requirement already satisfied: murmurhash<1.1.0,>=0.28.0 in /usr/local/lib/python3.7/dist-packages (from spacy<3.1.0,>=3.0.0->ru-core-news-sm==3.0.0) (1.0.5)\n",
            "Requirement already satisfied: numpy>=1.15.0 in /usr/local/lib/python3.7/dist-packages (from spacy<3.1.0,>=3.0.0->ru-core-news-sm==3.0.0) (1.19.5)\n",
            "Requirement already satisfied: preshed<3.1.0,>=3.0.2 in /usr/local/lib/python3.7/dist-packages (from spacy<3.1.0,>=3.0.0->ru-core-news-sm==3.0.0) (3.0.5)\n",
            "Requirement already satisfied: thinc<8.1.0,>=8.0.3 in /usr/local/lib/python3.7/dist-packages (from spacy<3.1.0,>=3.0.0->ru-core-news-sm==3.0.0) (8.0.3)\n",
            "Requirement already satisfied: blis<0.8.0,>=0.4.0 in /usr/local/lib/python3.7/dist-packages (from spacy<3.1.0,>=3.0.0->ru-core-news-sm==3.0.0) (0.4.1)\n",
            "Requirement already satisfied: typing-extensions<4.0.0.0,>=3.7.4 in /usr/local/lib/python3.7/dist-packages (from spacy<3.1.0,>=3.0.0->ru-core-news-sm==3.0.0) (3.7.4.3)\n",
            "Requirement already satisfied: requests<3.0.0,>=2.13.0 in /usr/local/lib/python3.7/dist-packages (from spacy<3.1.0,>=3.0.0->ru-core-news-sm==3.0.0) (2.23.0)\n",
            "Requirement already satisfied: typer<0.4.0,>=0.3.0 in /usr/local/lib/python3.7/dist-packages (from spacy<3.1.0,>=3.0.0->ru-core-news-sm==3.0.0) (0.3.2)\n",
            "Requirement already satisfied: tqdm<5.0.0,>=4.38.0 in /usr/local/lib/python3.7/dist-packages (from spacy<3.1.0,>=3.0.0->ru-core-news-sm==3.0.0) (4.41.1)\n",
            "Requirement already satisfied: catalogue<2.1.0,>=2.0.3 in /usr/local/lib/python3.7/dist-packages (from spacy<3.1.0,>=3.0.0->ru-core-news-sm==3.0.0) (2.0.4)\n",
            "Requirement already satisfied: srsly<3.0.0,>=2.4.1 in /usr/local/lib/python3.7/dist-packages (from spacy<3.1.0,>=3.0.0->ru-core-news-sm==3.0.0) (2.4.1)\n",
            "Requirement already satisfied: jinja2 in /usr/local/lib/python3.7/dist-packages (from spacy<3.1.0,>=3.0.0->ru-core-news-sm==3.0.0) (2.11.3)\n",
            "Requirement already satisfied: setuptools in /usr/local/lib/python3.7/dist-packages (from spacy<3.1.0,>=3.0.0->ru-core-news-sm==3.0.0) (56.2.0)\n",
            "Requirement already satisfied: packaging>=20.0 in /usr/local/lib/python3.7/dist-packages (from spacy<3.1.0,>=3.0.0->ru-core-news-sm==3.0.0) (20.9)\n",
            "Requirement already satisfied: zipp>=0.5 in /usr/local/lib/python3.7/dist-packages (from catalogue<2.1.0,>=2.0.3->spacy<3.1.0,>=3.0.0->ru-core-news-sm==3.0.0) (3.4.1)\n",
            "Requirement already satisfied: pyparsing>=2.0.2 in /usr/local/lib/python3.7/dist-packages (from packaging>=20.0->spacy<3.1.0,>=3.0.0->ru-core-news-sm==3.0.0) (2.4.7)\n",
            "Requirement already satisfied: smart-open<4.0.0,>=2.2.0 in /usr/local/lib/python3.7/dist-packages (from pathy>=0.3.5->spacy<3.1.0,>=3.0.0->ru-core-news-sm==3.0.0) (3.0.0)\n",
            "Requirement already satisfied: idna<3,>=2.5 in /usr/local/lib/python3.7/dist-packages (from requests<3.0.0,>=2.13.0->spacy<3.1.0,>=3.0.0->ru-core-news-sm==3.0.0) (2.10)\n",
            "Requirement already satisfied: certifi>=2017.4.17 in /usr/local/lib/python3.7/dist-packages (from requests<3.0.0,>=2.13.0->spacy<3.1.0,>=3.0.0->ru-core-news-sm==3.0.0) (2020.12.5)\n",
            "Requirement already satisfied: chardet<4,>=3.0.2 in /usr/local/lib/python3.7/dist-packages (from requests<3.0.0,>=2.13.0->spacy<3.1.0,>=3.0.0->ru-core-news-sm==3.0.0) (3.0.4)\n",
            "Requirement already satisfied: urllib3!=1.25.0,!=1.25.1,<1.26,>=1.21.1 in /usr/local/lib/python3.7/dist-packages (from requests<3.0.0,>=2.13.0->spacy<3.1.0,>=3.0.0->ru-core-news-sm==3.0.0) (1.24.3)\n",
            "Requirement already satisfied: click<7.2.0,>=7.1.1 in /usr/local/lib/python3.7/dist-packages (from typer<0.4.0,>=0.3.0->spacy<3.1.0,>=3.0.0->ru-core-news-sm==3.0.0) (7.1.2)\n",
            "Requirement already satisfied: MarkupSafe>=0.23 in /usr/local/lib/python3.7/dist-packages (from jinja2->spacy<3.1.0,>=3.0.0->ru-core-news-sm==3.0.0) (2.0.0)\n",
            "Installing collected packages: pymorphy2-dicts-ru, dawg-python, pymorphy2, ru-core-news-sm\n",
            "Successfully installed dawg-python-0.7.2 pymorphy2-0.9.1 pymorphy2-dicts-ru-2.4.417127.4579844 ru-core-news-sm-3.0.0\n",
            "\u001b[33mWARNING: Running pip as root will break packages and permissions. You should install packages reliably by using venv: https://pip.pypa.io/warnings/venv\u001b[0m\n",
            "\u001b[38;5;2m✔ Download and installation successful\u001b[0m\n",
            "You can now load the package via spacy.load('ru_core_news_sm')\n",
            "2021-05-14 20:15:57.138208: I tensorflow/stream_executor/platform/default/dso_loader.cc:49] Successfully opened dynamic library libcudart.so.11.0\n",
            "Collecting ru-core-news-md==3.0.0\n",
            "  Downloading https://github.com/explosion/spacy-models/releases/download/ru_core_news_md-3.0.0/ru_core_news_md-3.0.0-py3-none-any.whl (43.9 MB)\n",
            "\u001b[K     |████████████████████████████████| 43.9 MB 19 kB/s \n",
            "\u001b[?25hRequirement already satisfied: spacy<3.1.0,>=3.0.0 in /usr/local/lib/python3.7/dist-packages (from ru-core-news-md==3.0.0) (3.0.6)\n",
            "Requirement already satisfied: pymorphy2>=0.9 in /usr/local/lib/python3.7/dist-packages (from ru-core-news-md==3.0.0) (0.9.1)\n",
            "Requirement already satisfied: pymorphy2-dicts-ru<3.0,>=2.4 in /usr/local/lib/python3.7/dist-packages (from pymorphy2>=0.9->ru-core-news-md==3.0.0) (2.4.417127.4579844)\n",
            "Requirement already satisfied: dawg-python>=0.7.1 in /usr/local/lib/python3.7/dist-packages (from pymorphy2>=0.9->ru-core-news-md==3.0.0) (0.7.2)\n",
            "Requirement already satisfied: docopt>=0.6 in /usr/local/lib/python3.7/dist-packages (from pymorphy2>=0.9->ru-core-news-md==3.0.0) (0.6.2)\n",
            "Requirement already satisfied: catalogue<2.1.0,>=2.0.3 in /usr/local/lib/python3.7/dist-packages (from spacy<3.1.0,>=3.0.0->ru-core-news-md==3.0.0) (2.0.4)\n",
            "Requirement already satisfied: preshed<3.1.0,>=3.0.2 in /usr/local/lib/python3.7/dist-packages (from spacy<3.1.0,>=3.0.0->ru-core-news-md==3.0.0) (3.0.5)\n",
            "Requirement already satisfied: wasabi<1.1.0,>=0.8.1 in /usr/local/lib/python3.7/dist-packages (from spacy<3.1.0,>=3.0.0->ru-core-news-md==3.0.0) (0.8.2)\n",
            "Requirement already satisfied: cymem<2.1.0,>=2.0.2 in /usr/local/lib/python3.7/dist-packages (from spacy<3.1.0,>=3.0.0->ru-core-news-md==3.0.0) (2.0.5)\n",
            "Requirement already satisfied: numpy>=1.15.0 in /usr/local/lib/python3.7/dist-packages (from spacy<3.1.0,>=3.0.0->ru-core-news-md==3.0.0) (1.19.5)\n",
            "Requirement already satisfied: requests<3.0.0,>=2.13.0 in /usr/local/lib/python3.7/dist-packages (from spacy<3.1.0,>=3.0.0->ru-core-news-md==3.0.0) (2.23.0)\n",
            "Requirement already satisfied: pydantic<1.8.0,>=1.7.1 in /usr/local/lib/python3.7/dist-packages (from spacy<3.1.0,>=3.0.0->ru-core-news-md==3.0.0) (1.7.4)\n",
            "Requirement already satisfied: typer<0.4.0,>=0.3.0 in /usr/local/lib/python3.7/dist-packages (from spacy<3.1.0,>=3.0.0->ru-core-news-md==3.0.0) (0.3.2)\n",
            "Requirement already satisfied: pathy>=0.3.5 in /usr/local/lib/python3.7/dist-packages (from spacy<3.1.0,>=3.0.0->ru-core-news-md==3.0.0) (0.5.2)\n",
            "Requirement already satisfied: typing-extensions<4.0.0.0,>=3.7.4 in /usr/local/lib/python3.7/dist-packages (from spacy<3.1.0,>=3.0.0->ru-core-news-md==3.0.0) (3.7.4.3)\n",
            "Requirement already satisfied: thinc<8.1.0,>=8.0.3 in /usr/local/lib/python3.7/dist-packages (from spacy<3.1.0,>=3.0.0->ru-core-news-md==3.0.0) (8.0.3)\n",
            "Requirement already satisfied: spacy-legacy<3.1.0,>=3.0.4 in /usr/local/lib/python3.7/dist-packages (from spacy<3.1.0,>=3.0.0->ru-core-news-md==3.0.0) (3.0.5)\n",
            "Requirement already satisfied: tqdm<5.0.0,>=4.38.0 in /usr/local/lib/python3.7/dist-packages (from spacy<3.1.0,>=3.0.0->ru-core-news-md==3.0.0) (4.41.1)\n",
            "Requirement already satisfied: murmurhash<1.1.0,>=0.28.0 in /usr/local/lib/python3.7/dist-packages (from spacy<3.1.0,>=3.0.0->ru-core-news-md==3.0.0) (1.0.5)\n",
            "Requirement already satisfied: jinja2 in /usr/local/lib/python3.7/dist-packages (from spacy<3.1.0,>=3.0.0->ru-core-news-md==3.0.0) (2.11.3)\n",
            "Requirement already satisfied: setuptools in /usr/local/lib/python3.7/dist-packages (from spacy<3.1.0,>=3.0.0->ru-core-news-md==3.0.0) (56.2.0)\n",
            "Requirement already satisfied: blis<0.8.0,>=0.4.0 in /usr/local/lib/python3.7/dist-packages (from spacy<3.1.0,>=3.0.0->ru-core-news-md==3.0.0) (0.4.1)\n",
            "Requirement already satisfied: packaging>=20.0 in /usr/local/lib/python3.7/dist-packages (from spacy<3.1.0,>=3.0.0->ru-core-news-md==3.0.0) (20.9)\n",
            "Requirement already satisfied: srsly<3.0.0,>=2.4.1 in /usr/local/lib/python3.7/dist-packages (from spacy<3.1.0,>=3.0.0->ru-core-news-md==3.0.0) (2.4.1)\n",
            "Requirement already satisfied: zipp>=0.5 in /usr/local/lib/python3.7/dist-packages (from catalogue<2.1.0,>=2.0.3->spacy<3.1.0,>=3.0.0->ru-core-news-md==3.0.0) (3.4.1)\n",
            "Requirement already satisfied: pyparsing>=2.0.2 in /usr/local/lib/python3.7/dist-packages (from packaging>=20.0->spacy<3.1.0,>=3.0.0->ru-core-news-md==3.0.0) (2.4.7)\n",
            "Requirement already satisfied: smart-open<4.0.0,>=2.2.0 in /usr/local/lib/python3.7/dist-packages (from pathy>=0.3.5->spacy<3.1.0,>=3.0.0->ru-core-news-md==3.0.0) (3.0.0)\n",
            "Requirement already satisfied: chardet<4,>=3.0.2 in /usr/local/lib/python3.7/dist-packages (from requests<3.0.0,>=2.13.0->spacy<3.1.0,>=3.0.0->ru-core-news-md==3.0.0) (3.0.4)\n",
            "Requirement already satisfied: urllib3!=1.25.0,!=1.25.1,<1.26,>=1.21.1 in /usr/local/lib/python3.7/dist-packages (from requests<3.0.0,>=2.13.0->spacy<3.1.0,>=3.0.0->ru-core-news-md==3.0.0) (1.24.3)\n",
            "Requirement already satisfied: idna<3,>=2.5 in /usr/local/lib/python3.7/dist-packages (from requests<3.0.0,>=2.13.0->spacy<3.1.0,>=3.0.0->ru-core-news-md==3.0.0) (2.10)\n",
            "Requirement already satisfied: certifi>=2017.4.17 in /usr/local/lib/python3.7/dist-packages (from requests<3.0.0,>=2.13.0->spacy<3.1.0,>=3.0.0->ru-core-news-md==3.0.0) (2020.12.5)\n",
            "Requirement already satisfied: click<7.2.0,>=7.1.1 in /usr/local/lib/python3.7/dist-packages (from typer<0.4.0,>=0.3.0->spacy<3.1.0,>=3.0.0->ru-core-news-md==3.0.0) (7.1.2)\n",
            "Requirement already satisfied: MarkupSafe>=0.23 in /usr/local/lib/python3.7/dist-packages (from jinja2->spacy<3.1.0,>=3.0.0->ru-core-news-md==3.0.0) (2.0.0)\n",
            "Installing collected packages: ru-core-news-md\n",
            "Successfully installed ru-core-news-md-3.0.0\n",
            "\u001b[33mWARNING: Running pip as root will break packages and permissions. You should install packages reliably by using venv: https://pip.pypa.io/warnings/venv\u001b[0m\n",
            "\u001b[38;5;2m✔ Download and installation successful\u001b[0m\n",
            "You can now load the package via spacy.load('ru_core_news_md')\n"
          ],
          "name": "stdout"
        }
      ]
    },
    {
      "cell_type": "code",
      "metadata": {
        "colab": {
          "base_uri": "https://localhost:8080/"
        },
        "id": "V7UjWjAX7P9d",
        "outputId": "94f4d607-3393-422f-b2c7-d78aba921cd7"
      },
      "source": [
        "pip install pymorphy2[fast]"
      ],
      "execution_count": null,
      "outputs": [
        {
          "output_type": "stream",
          "text": [
            "Requirement already satisfied: pymorphy2[fast] in /usr/local/lib/python3.7/dist-packages (0.9.1)\n",
            "Requirement already satisfied: docopt>=0.6 in /usr/local/lib/python3.7/dist-packages (from pymorphy2[fast]) (0.6.2)\n",
            "Requirement already satisfied: dawg-python>=0.7.1 in /usr/local/lib/python3.7/dist-packages (from pymorphy2[fast]) (0.7.2)\n",
            "Requirement already satisfied: pymorphy2-dicts-ru<3.0,>=2.4 in /usr/local/lib/python3.7/dist-packages (from pymorphy2[fast]) (2.4.417127.4579844)\n",
            "Collecting DAWG>=0.8\n",
            "  Downloading DAWG-0.8.0.tar.gz (371 kB)\n",
            "\u001b[K     |████████████████████████████████| 371 kB 4.3 MB/s \n",
            "\u001b[?25hBuilding wheels for collected packages: DAWG\n",
            "  Building wheel for DAWG (setup.py) ... \u001b[?25l\u001b[?25hdone\n",
            "  Created wheel for DAWG: filename=DAWG-0.8.0-cp37-cp37m-linux_x86_64.whl size=863745 sha256=b92119e6854db1fdc38e30a2e9c627b63103b2bbe9d583243a5ae6da1706c109\n",
            "  Stored in directory: /root/.cache/pip/wheels/85/51/a4/2de41ff197786537075027c27b479a38da92f50abc86634445\n",
            "Successfully built DAWG\n",
            "Installing collected packages: DAWG\n",
            "Successfully installed DAWG-0.8.0\n",
            "\u001b[33mWARNING: Running pip as root will break packages and permissions. You should install packages reliably by using venv: https://pip.pypa.io/warnings/venv\u001b[0m\n"
          ],
          "name": "stdout"
        }
      ]
    },
    {
      "cell_type": "code",
      "metadata": {
        "colab": {
          "base_uri": "https://localhost:8080/"
        },
        "id": "YPb5-By9vJOA",
        "outputId": "f711a095-5710-4d1b-88e1-f91f1d922036"
      },
      "source": [
        "pip install Gensim"
      ],
      "execution_count": null,
      "outputs": [
        {
          "output_type": "stream",
          "text": [
            "Requirement already satisfied: Gensim in /usr/local/lib/python3.7/dist-packages (3.6.0)\n",
            "Requirement already satisfied: numpy>=1.11.3 in /usr/local/lib/python3.7/dist-packages (from Gensim) (1.19.5)\n",
            "Requirement already satisfied: scipy>=0.18.1 in /usr/local/lib/python3.7/dist-packages (from Gensim) (1.4.1)\n",
            "Requirement already satisfied: smart-open>=1.2.1 in /usr/local/lib/python3.7/dist-packages (from Gensim) (3.0.0)\n",
            "Requirement already satisfied: six>=1.5.0 in /usr/local/lib/python3.7/dist-packages (from Gensim) (1.15.0)\n",
            "Requirement already satisfied: requests in /usr/local/lib/python3.7/dist-packages (from smart-open>=1.2.1->Gensim) (2.23.0)\n",
            "Requirement already satisfied: idna<3,>=2.5 in /usr/local/lib/python3.7/dist-packages (from requests->smart-open>=1.2.1->Gensim) (2.10)\n",
            "Requirement already satisfied: urllib3!=1.25.0,!=1.25.1,<1.26,>=1.21.1 in /usr/local/lib/python3.7/dist-packages (from requests->smart-open>=1.2.1->Gensim) (1.24.3)\n",
            "Requirement already satisfied: certifi>=2017.4.17 in /usr/local/lib/python3.7/dist-packages (from requests->smart-open>=1.2.1->Gensim) (2020.12.5)\n",
            "Requirement already satisfied: chardet<4,>=3.0.2 in /usr/local/lib/python3.7/dist-packages (from requests->smart-open>=1.2.1->Gensim) (3.0.4)\n",
            "\u001b[33mWARNING: Running pip as root will break packages and permissions. You should install packages reliably by using venv: https://pip.pypa.io/warnings/venv\u001b[0m\n"
          ],
          "name": "stdout"
        }
      ]
    },
    {
      "cell_type": "code",
      "metadata": {
        "id": "FA9wDY-2d-pF"
      },
      "source": [
        "import spacy\n",
        "import gensim\n",
        "from gensim.models import Word2Vec \n",
        "from nltk.tokenize import RegexpTokenizer\n",
        "from nltk import  sent_tokenize\n",
        "from sklearn.metrics.pairwise import cosine_distances, cosine_similarity\n",
        "import numpy as np\n",
        "import pandas as pd\n",
        "from sklearn.feature_extraction.text import TfidfVectorizer"
      ],
      "execution_count": null,
      "outputs": []
    },
    {
      "cell_type": "code",
      "metadata": {
        "id": "eBhu8gSAd_6M"
      },
      "source": [
        "nlp = spacy.load('ru_core_news_md')"
      ],
      "execution_count": null,
      "outputs": []
    },
    {
      "cell_type": "code",
      "metadata": {
        "colab": {
          "base_uri": "https://localhost:8080/"
        },
        "id": "tOvjxp5z8ZDc",
        "outputId": "4ae746f5-f2b8-4ec7-d30e-99fb62dbbb41"
      },
      "source": [
        "!wget https://raw.githubusercontent.com/DmitryKutsev/cross-document_coreference/main/scraping/neuroleptic_antidepr2.txt"
      ],
      "execution_count": null,
      "outputs": [
        {
          "output_type": "stream",
          "text": [
            "--2021-05-14 20:16:38--  https://raw.githubusercontent.com/DmitryKutsev/cross-document_coreference/main/scraping/neuroleptic_antidepr2.txt\n",
            "Resolving raw.githubusercontent.com (raw.githubusercontent.com)... 185.199.111.133, 185.199.109.133, 185.199.108.133, ...\n",
            "Connecting to raw.githubusercontent.com (raw.githubusercontent.com)|185.199.111.133|:443... connected.\n",
            "HTTP request sent, awaiting response... 200 OK\n",
            "Length: 11655409 (11M) [text/plain]\n",
            "Saving to: ‘neuroleptic_antidepr2.txt’\n",
            "\n",
            "neuroleptic_antidep 100%[===================>]  11.12M  33.8MB/s    in 0.3s    \n",
            "\n",
            "2021-05-14 20:16:39 (33.8 MB/s) - ‘neuroleptic_antidepr2.txt’ saved [11655409/11655409]\n",
            "\n"
          ],
          "name": "stdout"
        }
      ]
    },
    {
      "cell_type": "code",
      "metadata": {
        "colab": {
          "base_uri": "https://localhost:8080/"
        },
        "id": "Ql21vrWnb2qF",
        "outputId": "5cbeba3e-3edf-45a6-8849-110b2a48848f"
      },
      "source": [
        "!wget https://raw.githubusercontent.com/DmitryKutsev/cross-document_coreference/main/scraping/rakpobedim_ru2.txt"
      ],
      "execution_count": null,
      "outputs": [
        {
          "output_type": "stream",
          "text": [
            "--2021-05-14 20:16:40--  https://raw.githubusercontent.com/DmitryKutsev/cross-document_coreference/main/scraping/rakpobedim_ru2.txt\n",
            "Resolving raw.githubusercontent.com (raw.githubusercontent.com)... 185.199.111.133, 185.199.110.133, 185.199.109.133, ...\n",
            "Connecting to raw.githubusercontent.com (raw.githubusercontent.com)|185.199.111.133|:443... connected.\n",
            "HTTP request sent, awaiting response... 200 OK\n",
            "Length: 19072917 (18M) [text/plain]\n",
            "Saving to: ‘rakpobedim_ru2.txt’\n",
            "\n",
            "rakpobedim_ru2.txt  100%[===================>]  18.19M  43.4MB/s    in 0.4s    \n",
            "\n",
            "2021-05-14 20:16:42 (43.4 MB/s) - ‘rakpobedim_ru2.txt’ saved [19072917/19072917]\n",
            "\n"
          ],
          "name": "stdout"
        }
      ]
    },
    {
      "cell_type": "code",
      "metadata": {
        "colab": {
          "base_uri": "https://localhost:8080/"
        },
        "id": "R0ZudIeTb22Z",
        "outputId": "f9002605-3c33-4d8a-b81e-3576f8412e21"
      },
      "source": [
        "!wget https://raw.githubusercontent.com/DmitryKutsev/cross-document_coreference/main/scraping/hv-info_gepatit2.txt"
      ],
      "execution_count": null,
      "outputs": [
        {
          "output_type": "stream",
          "text": [
            "--2021-05-14 20:16:42--  https://raw.githubusercontent.com/DmitryKutsev/cross-document_coreference/main/scraping/hv-info_gepatit2.txt\n",
            "Resolving raw.githubusercontent.com (raw.githubusercontent.com)... 185.199.110.133, 185.199.111.133, 185.199.108.133, ...\n",
            "Connecting to raw.githubusercontent.com (raw.githubusercontent.com)|185.199.110.133|:443... connected.\n",
            "HTTP request sent, awaiting response... 200 OK\n",
            "Length: 18273113 (17M) [text/plain]\n",
            "Saving to: ‘hv-info_gepatit2.txt’\n",
            "\n",
            "hv-info_gepatit2.tx 100%[===================>]  17.43M  41.3MB/s    in 0.4s    \n",
            "\n",
            "2021-05-14 20:16:44 (41.3 MB/s) - ‘hv-info_gepatit2.txt’ saved [18273113/18273113]\n",
            "\n"
          ],
          "name": "stdout"
        }
      ]
    },
    {
      "cell_type": "code",
      "metadata": {
        "colab": {
          "base_uri": "https://localhost:8080/"
        },
        "id": "vpy6V0dtsM79",
        "outputId": "4727570d-3202-4f4f-d72a-93890d613e0e"
      },
      "source": [
        "!wget https://rusvectores.org/static/models/news_upos_cbow_300_2_2017.bin.gz"
      ],
      "execution_count": null,
      "outputs": [
        {
          "output_type": "stream",
          "text": [
            "--2021-05-14 20:16:44--  https://rusvectores.org/static/models/news_upos_cbow_300_2_2017.bin.gz\n",
            "Resolving rusvectores.org (rusvectores.org)... 116.203.104.23\n",
            "Connecting to rusvectores.org (rusvectores.org)|116.203.104.23|:443... connected.\n",
            "HTTP request sent, awaiting response... 200 OK\n",
            "Length: 140310878 (134M) [application/x-gzip]\n",
            "Saving to: ‘news_upos_cbow_300_2_2017.bin.gz’\n",
            "\n",
            "news_upos_cbow_300_ 100%[===================>] 133.81M  9.95MB/s    in 16s     \n",
            "\n",
            "2021-05-14 20:17:02 (8.19 MB/s) - ‘news_upos_cbow_300_2_2017.bin.gz’ saved [140310878/140310878]\n",
            "\n"
          ],
          "name": "stdout"
        }
      ]
    },
    {
      "cell_type": "code",
      "metadata": {
        "id": "v3dEmsOH8eOZ"
      },
      "source": [
        "handler = open('neuroleptic_antidepr2.txt', 'r', encoding='utf-8')\n",
        "my_txt = handler.read()\n",
        "handler.close()\n"
      ],
      "execution_count": null,
      "outputs": []
    },
    {
      "cell_type": "code",
      "metadata": {
        "id": "G4UmH2pucmxK"
      },
      "source": [
        "handler = open('hv-info_gepatit2.txt', 'r', encoding='utf-8')\n",
        "my_txt += handler.read()\n",
        "handler.close()"
      ],
      "execution_count": null,
      "outputs": []
    },
    {
      "cell_type": "code",
      "metadata": {
        "id": "wBp9WjLNcgsJ"
      },
      "source": [
        "handler = open('rakpobedim_ru2.txt', 'r', encoding='utf-8')\n",
        "my_txt += handler.read()\n",
        "handler.close()"
      ],
      "execution_count": null,
      "outputs": []
    },
    {
      "cell_type": "code",
      "metadata": {
        "colab": {
          "base_uri": "https://localhost:8080/"
        },
        "id": "Z_8MyfaucZxO",
        "outputId": "069c9d8a-ad47-495f-83ce-c550a6bace9b"
      },
      "source": [
        "len(my_txt)"
      ],
      "execution_count": null,
      "outputs": [
        {
          "output_type": "execute_result",
          "data": {
            "text/plain": [
              "27946773"
            ]
          },
          "metadata": {
            "tags": []
          },
          "execution_count": 13
        }
      ]
    },
    {
      "cell_type": "code",
      "metadata": {
        "id": "aiQH5Q0pZJQZ"
      },
      "source": [
        "tfidf = TfidfVectorizer(max_features=3000, ngram_range=(1,3))"
      ],
      "execution_count": null,
      "outputs": []
    },
    {
      "cell_type": "code",
      "metadata": {
        "colab": {
          "base_uri": "https://localhost:8080/"
        },
        "id": "e410Dy9KdGqv",
        "outputId": "fd634dd0-86b6-4812-9454-254b49b4419f"
      },
      "source": [
        "!wget https://rusvectores.org/static/models/news_upos_cbow_300_2_2017.bin.gz"
      ],
      "execution_count": null,
      "outputs": [
        {
          "output_type": "stream",
          "text": [
            "--2021-05-14 20:17:02--  https://rusvectores.org/static/models/news_upos_cbow_300_2_2017.bin.gz\n",
            "Resolving rusvectores.org (rusvectores.org)... 116.203.104.23\n",
            "Connecting to rusvectores.org (rusvectores.org)|116.203.104.23|:443... connected.\n",
            "HTTP request sent, awaiting response... 200 OK\n",
            "Length: 140310878 (134M) [application/x-gzip]\n",
            "Saving to: ‘news_upos_cbow_300_2_2017.bin.gz.1’\n",
            "\n",
            "news_upos_cbow_300_ 100%[===================>] 133.81M  10.1MB/s    in 16s     \n",
            "\n",
            "2021-05-14 20:17:20 (8.61 MB/s) - ‘news_upos_cbow_300_2_2017.bin.gz.1’ saved [140310878/140310878]\n",
            "\n"
          ],
          "name": "stdout"
        }
      ]
    },
    {
      "cell_type": "code",
      "metadata": {
        "id": "JLT6J1ua82fF"
      },
      "source": [
        "posts = my_txt.split('----')"
      ],
      "execution_count": null,
      "outputs": []
    },
    {
      "cell_type": "code",
      "metadata": {
        "id": "zXZdM39Zzais"
      },
      "source": [
        "tokenizer = RegexpTokenizer(r'\\w+')\n",
        "sentences_tokenized = [w.lower() for w in posts]\n",
        "\n",
        "vectorized_txt = tfidf.fit_transform(sentences_tokenized)\n",
        "sentences_tokenized = [tokenizer.tokenize(i) for i in sentences_tokenized]"
      ],
      "execution_count": null,
      "outputs": []
    },
    {
      "cell_type": "code",
      "metadata": {
        "id": "W44Ejf4ILyxP"
      },
      "source": [
        "from gensim.models import FastText\n",
        "from google.colab import files"
      ],
      "execution_count": null,
      "outputs": []
    },
    {
      "cell_type": "code",
      "metadata": {
        "id": "H3DaCSYSLbti"
      },
      "source": [
        "ft = FastText(sentences_tokenized, size=100, window=5, min_count=5, workers=4,sg=1)"
      ],
      "execution_count": null,
      "outputs": []
    },
    {
      "cell_type": "code",
      "metadata": {
        "id": "ZYAobGf_ubLC"
      },
      "source": [
        "ft.save('ft_model')"
      ],
      "execution_count": null,
      "outputs": []
    },
    {
      "cell_type": "code",
      "metadata": {
        "colab": {
          "base_uri": "https://localhost:8080/",
          "height": 17
        },
        "id": "_j-FLzi4vWaM",
        "outputId": "98258455-9342-48df-c2f5-e9d8ab944bb4"
      },
      "source": [
        "files.download('ft_model')"
      ],
      "execution_count": null,
      "outputs": [
        {
          "output_type": "display_data",
          "data": {
            "application/javascript": [
              "\n",
              "    async function download(id, filename, size) {\n",
              "      if (!google.colab.kernel.accessAllowed) {\n",
              "        return;\n",
              "      }\n",
              "      const div = document.createElement('div');\n",
              "      const label = document.createElement('label');\n",
              "      label.textContent = `Downloading \"${filename}\": `;\n",
              "      div.appendChild(label);\n",
              "      const progress = document.createElement('progress');\n",
              "      progress.max = size;\n",
              "      div.appendChild(progress);\n",
              "      document.body.appendChild(div);\n",
              "\n",
              "      const buffers = [];\n",
              "      let downloaded = 0;\n",
              "\n",
              "      const channel = await google.colab.kernel.comms.open(id);\n",
              "      // Send a message to notify the kernel that we're ready.\n",
              "      channel.send({})\n",
              "\n",
              "      for await (const message of channel.messages) {\n",
              "        // Send a message to notify the kernel that we're ready.\n",
              "        channel.send({})\n",
              "        if (message.buffers) {\n",
              "          for (const buffer of message.buffers) {\n",
              "            buffers.push(buffer);\n",
              "            downloaded += buffer.byteLength;\n",
              "            progress.value = downloaded;\n",
              "          }\n",
              "        }\n",
              "      }\n",
              "      const blob = new Blob(buffers, {type: 'application/binary'});\n",
              "      const a = document.createElement('a');\n",
              "      a.href = window.URL.createObjectURL(blob);\n",
              "      a.download = filename;\n",
              "      div.appendChild(a);\n",
              "      a.click();\n",
              "      div.remove();\n",
              "    }\n",
              "  "
            ],
            "text/plain": [
              "<IPython.core.display.Javascript object>"
            ]
          },
          "metadata": {
            "tags": []
          }
        },
        {
          "output_type": "display_data",
          "data": {
            "application/javascript": [
              "download(\"download_7fb0c8a7-190f-4324-8b6e-ee9d4ff64c56\", \"ft_model\", 92993156)"
            ],
            "text/plain": [
              "<IPython.core.display.Javascript object>"
            ]
          },
          "metadata": {
            "tags": []
          }
        }
      ]
    },
    {
      "cell_type": "code",
      "metadata": {
        "id": "wjXk9HzZL7Xi",
        "colab": {
          "base_uri": "https://localhost:8080/"
        },
        "outputId": "58e48a95-31d7-455c-8b7a-41316c3c7098"
      },
      "source": [
        "ft.most_similar('алимемазин')"
      ],
      "execution_count": null,
      "outputs": [
        {
          "output_type": "stream",
          "text": [
            "/usr/local/lib/python3.7/dist-packages/ipykernel_launcher.py:1: DeprecationWarning: Call to deprecated `most_similar` (Method will be removed in 4.0.0, use self.wv.most_similar() instead).\n",
            "  \"\"\"Entry point for launching an IPython kernel.\n"
          ],
          "name": "stderr"
        },
        {
          "output_type": "execute_result",
          "data": {
            "text/plain": [
              "[('левомепромазин', 0.8944382667541504),\n",
              " ('триоксазин', 0.8830508589744568),\n",
              " ('ипрониазид', 0.8756979703903198),\n",
              " ('трифлуоперазин', 0.8582566976547241),\n",
              " ('изокарбоксазид', 0.852035403251648),\n",
              " ('зимелидин', 0.8501856923103333),\n",
              " ('пипофезин', 0.8469076752662659),\n",
              " ('хлорпромазин', 0.8438602685928345),\n",
              " ('ципрогептадин', 0.834145188331604),\n",
              " ('тиоридазин', 0.83063805103302)]"
            ]
          },
          "metadata": {
            "tags": []
          },
          "execution_count": 22
        }
      ]
    },
    {
      "cell_type": "code",
      "metadata": {
        "id": "wWOUZIx5Mu4e",
        "colab": {
          "base_uri": "https://localhost:8080/"
        },
        "outputId": "5d5dcd20-0206-4d83-96f8-1953a3441577"
      },
      "source": [
        "ft.wv.__getitem__('алимемазин')"
      ],
      "execution_count": null,
      "outputs": [
        {
          "output_type": "execute_result",
          "data": {
            "text/plain": [
              "array([-0.15363054,  0.5951114 ,  0.33471936, -0.10626673, -0.04398769,\n",
              "        0.10959667, -0.22339845, -0.42273378,  0.09455822, -0.00771589,\n",
              "       -0.18536425, -0.31446812, -0.22208454, -0.09640499, -0.71531045,\n",
              "        0.06203704, -0.1144396 , -0.18365005, -0.04401563, -0.25771317,\n",
              "        0.12279412, -0.06935773, -0.1796265 ,  0.00728191, -0.11599734,\n",
              "       -0.00376376, -0.46405002, -0.28158998, -0.2417926 , -0.11990074,\n",
              "        0.01707693,  0.07069315,  0.31546372,  0.18669775,  0.32485753,\n",
              "       -0.08207721,  0.5275161 , -0.21686628,  0.01900278,  0.78245854,\n",
              "        0.02995081,  0.08692934, -0.32361105, -0.3092262 , -0.2335586 ,\n",
              "        0.00653241, -0.00400801,  0.02885557, -0.4258319 ,  0.15780164,\n",
              "        0.00511625,  0.45574686,  0.02267844, -0.19318427,  0.09947955,\n",
              "        0.09779336, -0.15657312, -0.12470773,  0.30464548, -0.02562983,\n",
              "       -0.22956252, -0.36164686,  0.03074361, -0.5332761 , -0.50118256,\n",
              "       -0.1232222 ,  0.3695333 , -0.04326626,  0.15939313,  0.22911592,\n",
              "       -0.13575928, -0.50761116, -0.17838079,  0.17351693,  0.18450896,\n",
              "        0.4073164 ,  0.84029263, -0.46944067, -0.7124682 , -0.30055928,\n",
              "        0.2440466 , -0.26094422,  0.4220124 , -0.10687023, -0.2094866 ,\n",
              "        0.3201197 ,  0.05580166, -0.01872583, -0.26714864,  0.40120816,\n",
              "       -0.33119336, -0.23892188,  0.2770599 , -0.11133935, -0.25699762,\n",
              "       -0.36425355,  0.01984919, -0.2565283 , -0.01848218,  0.26227897],\n",
              "      dtype=float32)"
            ]
          },
          "metadata": {
            "tags": []
          },
          "execution_count": 23
        }
      ]
    },
    {
      "cell_type": "code",
      "metadata": {
        "id": "ZXJmNeDnFJb8"
      },
      "source": [
        "# files.download('small_fasttext60k')"
      ],
      "execution_count": null,
      "outputs": []
    },
    {
      "cell_type": "code",
      "metadata": {
        "id": "ucjN2SXmu_qe"
      },
      "source": [
        "# w2v = gensim.models.KeyedVectors.load_word2vec_format('news_upos_cbow_300_2_2017.bin.gz', binary=True)"
      ],
      "execution_count": null,
      "outputs": []
    },
    {
      "cell_type": "code",
      "metadata": {
        "id": "Ufr_mUmQwc_3"
      },
      "source": [
        "# model = Word2Vec(size=300, min_count=1)\n",
        "# model.build_vocab(sentences_tokenized)\n",
        "# total_examples = model.corpus_count\n",
        "# model.build_vocab([list(w2v.vocab.keys())], update=True)\n",
        "# model.intersect_word2vec_format(\"news_upos_cbow_300_2_2017.bin.gz\", binary=True)\n",
        "# model.train(sentences_tokenized, total_examples=total_examples, epochs=model.iter)"
      ],
      "execution_count": null,
      "outputs": []
    },
    {
      "cell_type": "code",
      "metadata": {
        "id": "sXFz2x3vNSmI",
        "colab": {
          "base_uri": "https://localhost:8080/"
        },
        "outputId": "1af4b34b-e740-4dd4-cf6e-f9d87837645d"
      },
      "source": [
        "cosine_similarity(np.atleast_2d(ft.wv.get_vector('алимемазин')), \\\n",
        "                  np.atleast_2d(ft.wv.get_vector('азалептин')))[0][0]"
      ],
      "execution_count": null,
      "outputs": [
        {
          "output_type": "execute_result",
          "data": {
            "text/plain": [
              "0.720753"
            ]
          },
          "metadata": {
            "tags": []
          },
          "execution_count": 27
        }
      ]
    },
    {
      "cell_type": "code",
      "metadata": {
        "id": "cSaPsAMzNXcq",
        "colab": {
          "base_uri": "https://localhost:8080/"
        },
        "outputId": "c7e4a3ff-da07-4ebc-f84f-7fc634ebb479"
      },
      "source": [
        "cosine_similarity(np.atleast_2d(ft.wv.get_vector('алимемазин')), \\\n",
        "                  np.atleast_2d(ft.wv.get_vector('стул')))[0][0]"
      ],
      "execution_count": null,
      "outputs": [
        {
          "output_type": "execute_result",
          "data": {
            "text/plain": [
              "0.34516346"
            ]
          },
          "metadata": {
            "tags": []
          },
          "execution_count": 28
        }
      ]
    },
    {
      "cell_type": "code",
      "metadata": {
        "id": "sWfPCgbmNw3n",
        "colab": {
          "base_uri": "https://localhost:8080/"
        },
        "outputId": "5bc0178b-e737-4908-a74e-9a5a2df872c3"
      },
      "source": [
        "cosine_similarity(np.atleast_2d(ft.wv.get_vector('дак')), \\\n",
        "                  np.atleast_2d(ft.wv.get_vector('соф')))[0][0]"
      ],
      "execution_count": null,
      "outputs": [
        {
          "output_type": "execute_result",
          "data": {
            "text/plain": [
              "0.9093131"
            ]
          },
          "metadata": {
            "tags": []
          },
          "execution_count": 29
        }
      ]
    },
    {
      "cell_type": "code",
      "metadata": {
        "id": "zC3kW8hY5LNN",
        "colab": {
          "base_uri": "https://localhost:8080/"
        },
        "outputId": "804315fe-8d7f-496e-9110-fc15264c9634"
      },
      "source": [
        "cosine_similarity(np.atleast_2d(ft.wv.get_vector('дак')), \\\n",
        "                  np.atleast_2d(ft.wv.get_vector('софосбувир')))[0][0]"
      ],
      "execution_count": null,
      "outputs": [
        {
          "output_type": "execute_result",
          "data": {
            "text/plain": [
              "0.51678956"
            ]
          },
          "metadata": {
            "tags": []
          },
          "execution_count": 30
        }
      ]
    },
    {
      "cell_type": "code",
      "metadata": {
        "id": "nDMJTQnwNlWN",
        "colab": {
          "base_uri": "https://localhost:8080/"
        },
        "outputId": "e937b9bc-8495-41e5-8511-7de30519f2e4"
      },
      "source": [
        "cosine_similarity(np.atleast_2d(ft.wv.get_vector('соф')), \\\n",
        "                  np.atleast_2d(ft.wv.get_vector('софосбувир')))[0][0]"
      ],
      "execution_count": null,
      "outputs": [
        {
          "output_type": "execute_result",
          "data": {
            "text/plain": [
              "0.517272"
            ]
          },
          "metadata": {
            "tags": []
          },
          "execution_count": 31
        }
      ]
    },
    {
      "cell_type": "code",
      "metadata": {
        "id": "H3YeIYgLf9o2"
      },
      "source": [
        "# Модель есть, теперь надо набрать корпус из трех форумов примерно поровну, и чтобы не помереть при разметке."
      ],
      "execution_count": null,
      "outputs": []
    },
    {
      "cell_type": "markdown",
      "metadata": {
        "id": "2sdy4JIXW_Ld"
      },
      "source": [
        "СОВСЕМ НЕМНОЖКО, для начала!!\n"
      ]
    },
    {
      "cell_type": "code",
      "metadata": {
        "id": "SPnaS6Vq3Hxz"
      },
      "source": [
        "short_txt = \" \"\n",
        "handler = open('neuroleptic_antidepr2.txt', 'r', encoding='utf-8')\n",
        "short_txt = handler.read()[:60000]\n",
        "handler.close()\n",
        "\n",
        "handler = open('rakpobedim_ru2.txt', 'r', encoding='utf-8')\n",
        "short_txt += handler.read()[:60000]\n",
        "handler.close()\n",
        "\n",
        "handler = open('hv-info_gepatit2.txt', 'r', encoding='utf-8')\n",
        "short_txt += handler.read()[:60000]\n",
        "handler.close()"
      ],
      "execution_count": null,
      "outputs": []
    },
    {
      "cell_type": "code",
      "metadata": {
        "colab": {
          "base_uri": "https://localhost:8080/"
        },
        "id": "WISiAodR9MvG",
        "outputId": "60dcab26-c0d6-40ec-fece-7c86546bac33"
      },
      "source": [
        "len(short_txt)"
      ],
      "execution_count": null,
      "outputs": [
        {
          "output_type": "execute_result",
          "data": {
            "text/plain": [
              "180000"
            ]
          },
          "metadata": {
            "tags": []
          },
          "execution_count": 34
        }
      ]
    },
    {
      "cell_type": "code",
      "metadata": {
        "colab": {
          "base_uri": "https://localhost:8080/"
        },
        "id": "11jQB9ave4EV",
        "outputId": "f32e7f35-b525-4797-c84f-cb8d2ff65fe9"
      },
      "source": [
        "import nltk\n",
        "nltk.download('punkt')"
      ],
      "execution_count": null,
      "outputs": [
        {
          "output_type": "stream",
          "text": [
            "[nltk_data] Downloading package punkt to /root/nltk_data...\n",
            "[nltk_data]   Unzipping tokenizers/punkt.zip.\n"
          ],
          "name": "stdout"
        },
        {
          "output_type": "execute_result",
          "data": {
            "text/plain": [
              "True"
            ]
          },
          "metadata": {
            "tags": []
          },
          "execution_count": 35
        }
      ]
    },
    {
      "cell_type": "code",
      "metadata": {
        "id": "F-3v3Ee47avH"
      },
      "source": [
        "import pymorphy2\n",
        "morph = pymorphy2.MorphAnalyzer()"
      ],
      "execution_count": null,
      "outputs": []
    },
    {
      "cell_type": "code",
      "metadata": {
        "colab": {
          "base_uri": "https://localhost:8080/"
        },
        "id": "TjqqQEOB0XaO",
        "outputId": "75b5a717-0465-4df9-87c5-a6b81d41928b"
      },
      "source": [
        "sample = 'он'\n",
        "print('Одуш', morph.parse(sample)[0].tag.animacy)\n",
        "print('Падеж', morph.parse(sample)[0].tag.case )\n",
        "print('Пол', morph.parse(sample)[0].tag.gender)\n",
        "print('Число', morph.parse(sample)[0].tag.number)\n",
        "print('Лицо', morph.parse(sample)[0].tag.person)\n",
        "print('Часть речи', morph.parse(sample)[0].tag.POS)\n",
        "print('Время', morph.parse(sample)[0].tag.tense)\n",
        "print('Залог', morph.parse(sample)[0].tag.voice)\n",
        "\n"
      ],
      "execution_count": null,
      "outputs": [
        {
          "output_type": "stream",
          "text": [
            "Одуш None\n",
            "Падеж nomn\n",
            "Пол masc\n",
            "Число sing\n",
            "Лицо 3per\n",
            "Часть речи NPRO\n",
            "Время None\n",
            "Залог None\n"
          ],
          "name": "stdout"
        }
      ]
    },
    {
      "cell_type": "code",
      "metadata": {
        "colab": {
          "base_uri": "https://localhost:8080/"
        },
        "id": "zLk-dMgV7Ucy",
        "outputId": "c4635f48-0332-4312-fd94-f135e3498c26"
      },
      "source": [
        "aa = morph.parse(sample)[0]\n",
        "print(aa.tag)"
      ],
      "execution_count": null,
      "outputs": [
        {
          "output_type": "stream",
          "text": [
            "NPRO,masc,3per,Anph sing,nomn\n"
          ],
          "name": "stdout"
        }
      ]
    },
    {
      "cell_type": "code",
      "metadata": {
        "id": "ztjqE_Mu04w3",
        "colab": {
          "base_uri": "https://localhost:8080/"
        },
        "outputId": "00119e5c-6f5e-42d4-b965-82f862c8a2cb"
      },
      "source": [
        "doc = nlp('У меня практически нет никаких проблем, и в частности, с лекарством.')\n",
        "for token in doc:\n",
        "    print(token.text, token.dep_, token.head.text, token.head.pos_, \n",
        "            [child for child in token.children], morph.parse(token.text)[0].tag,\n",
        "          [child for child in token.head.children])\n"
      ],
      "execution_count": null,
      "outputs": [
        {
          "output_type": "stream",
          "text": [
            "У case меня PRON [] PREP [У]\n",
            "меня obl нет VERB [У] NPRO,1per sing,accs [меня, практически, проблем, лекарством, .]\n",
            "практически advmod нет VERB [] ADVB [меня, практически, проблем, лекарством, .]\n",
            "нет ROOT нет VERB [меня, практически, проблем, лекарством, .] PRED,pres [меня, практически, проблем, лекарством, .]\n",
            "никаких det проблем NOUN [] ADJF,Apro plur,gent [никаких]\n",
            "проблем nsubj нет VERB [никаких] NOUN,inan,femn plur,gent [меня, практически, проблем, лекарством, .]\n",
            ", punct лекарством NOUN [] PNCT [,, и, в, с]\n",
            "и cc лекарством NOUN [] CONJ [,, и, в, с]\n",
            "в discourse лекарством NOUN [частности, ,] PREP [,, и, в, с]\n",
            "частности fixed в ADP [] NOUN,inan,femn sing,loct [частности, ,]\n",
            ", punct в ADP [] PNCT [частности, ,]\n",
            "с case лекарством NOUN [] PREP [,, и, в, с]\n",
            "лекарством conj нет VERB [,, и, в, с] NOUN,inan,neut sing,ablt [меня, практически, проблем, лекарством, .]\n",
            ". punct нет VERB [] PNCT [меня, практически, проблем, лекарством, .]\n"
          ],
          "name": "stdout"
        }
      ]
    },
    {
      "cell_type": "code",
      "metadata": {
        "colab": {
          "base_uri": "https://localhost:8080/"
        },
        "id": "4dd4UU-Dde0K",
        "outputId": "da7b08e3-509a-4bfa-a7f2-f29c7930b088"
      },
      "source": [
        "doc = nlp('У меня практически нет никаких проблем, и в частности, с лекарством.')\n",
        "for token in doc:\n",
        "    print(token.text, token.dep_, token.head.text, token.head.pos_,\n",
        "            [child for child in token.children], morph.parse(token.text)[0].tag,\n",
        "          [child for child in token.head.children],)\n"
      ],
      "execution_count": null,
      "outputs": [
        {
          "output_type": "stream",
          "text": [
            "У case меня PRON [] PREP [У]\n",
            "меня obl нет VERB [У] NPRO,1per sing,accs [меня, практически, проблем, лекарством, .]\n",
            "практически advmod нет VERB [] ADVB [меня, практически, проблем, лекарством, .]\n",
            "нет ROOT нет VERB [меня, практически, проблем, лекарством, .] PRED,pres [меня, практически, проблем, лекарством, .]\n",
            "никаких det проблем NOUN [] ADJF,Apro plur,gent [никаких]\n",
            "проблем nsubj нет VERB [никаких] NOUN,inan,femn plur,gent [меня, практически, проблем, лекарством, .]\n",
            ", punct лекарством NOUN [] PNCT [,, и, в, с]\n",
            "и cc лекарством NOUN [] CONJ [,, и, в, с]\n",
            "в discourse лекарством NOUN [частности, ,] PREP [,, и, в, с]\n",
            "частности fixed в ADP [] NOUN,inan,femn sing,loct [частности, ,]\n",
            ", punct в ADP [] PNCT [частности, ,]\n",
            "с case лекарством NOUN [] PREP [,, и, в, с]\n",
            "лекарством conj нет VERB [,, и, в, с] NOUN,inan,neut sing,ablt [меня, практически, проблем, лекарством, .]\n",
            ". punct нет VERB [] PNCT [меня, практически, проблем, лекарством, .]\n"
          ],
          "name": "stdout"
        }
      ]
    },
    {
      "cell_type": "code",
      "metadata": {
        "id": "DOm7fPDO8AMI",
        "colab": {
          "base_uri": "https://localhost:8080/"
        },
        "outputId": "39999549-1c37-43cb-8861-dff38c27c046"
      },
      "source": [
        "sample = 'он'\n",
        "print('Одуш', morph.parse(sample)[0].tag.animacy)\n",
        "print('Падеж', morph.parse(sample)[0].tag.case )\n",
        "print('Пол', morph.parse(sample)[0].tag.gender)\n",
        "print('Число', morph.parse(sample)[0].tag.number)\n",
        "print('Лицо', morph.parse(sample)[0].tag.person)\n",
        "print('Часть речи', morph.parse(sample)[0].tag.POS)\n",
        "print('Время', morph.parse(sample)[0].tag.tense)\n",
        "print('Залог', morph.parse(sample)[0].tag.voice)\n"
      ],
      "execution_count": null,
      "outputs": [
        {
          "output_type": "stream",
          "text": [
            "Одуш None\n",
            "Падеж nomn\n",
            "Пол masc\n",
            "Число sing\n",
            "Лицо 3per\n",
            "Часть речи NPRO\n",
            "Время None\n",
            "Залог None\n"
          ],
          "name": "stdout"
        }
      ]
    },
    {
      "cell_type": "markdown",
      "metadata": {
        "id": "ku0NMgIJomMR"
      },
      "source": [
        "***Разметка для кореференции***"
      ]
    },
    {
      "cell_type": "code",
      "metadata": {
        "id": "Fsph7ljhaSyu"
      },
      "source": [
        "topic_list = short_txt.split('\\nTOPIC')"
      ],
      "execution_count": null,
      "outputs": []
    },
    {
      "cell_type": "code",
      "metadata": {
        "colab": {
          "base_uri": "https://localhost:8080/"
        },
        "id": "gFVyrTNBrxHq",
        "outputId": "cd1f3353-9a90-4a72-faec-93c1b4b21c9e"
      },
      "source": [
        "import re\n",
        "print(re.search(r'[A-Za-zА-Яа-я]', ','))"
      ],
      "execution_count": null,
      "outputs": [
        {
          "output_type": "stream",
          "text": [
            "None\n"
          ],
          "name": "stdout"
        }
      ]
    },
    {
      "cell_type": "code",
      "metadata": {
        "id": "q3ETC8YL4msn"
      },
      "source": [
        "# sentences_tokenized = [w.lower() for w in short_posts]\n",
        "# sentences_tokenized = [tokenizer.tokenize(i) for i in sentences_tokenized]\n",
        "# sentences_tokenized[2]"
      ],
      "execution_count": null,
      "outputs": []
    },
    {
      "cell_type": "code",
      "metadata": {
        "colab": {
          "base_uri": "https://localhost:8080/",
          "height": 145
        },
        "id": "09ZSqQ2CBRaU",
        "outputId": "7b97ce6f-9800-46c6-aba9-fabc97a47ee0"
      },
      "source": [
        "print(len(topic_list))\n",
        "topic_list[1]"
      ],
      "execution_count": null,
      "outputs": [
        {
          "output_type": "stream",
          "text": [
            "23\n"
          ],
          "name": "stdout"
        },
        {
          "output_type": "execute_result",
          "data": {
            "application/vnd.google.colaboratory.intrinsic+json": {
              "type": "string"
            },
            "text/plain": [
              "'\\nОбсуждаем препарат Рисперидон (Рисполепт, Сперидан)\\n----\\nНЕ знаю, стоило ли мне писать. У меня практически нет никаких проблем, и в частности, с лекарством. По крайней мере врач говорит, что всё идёт как надо. У меня с детства бывают состояния, когда я без видимых причин впадаю в панику, не управляю своими действиями. Странное беспокойство может продолжаться от нескольких мгновений до нескольких суток. Как-то удавалось жить и с этим мириться. Каждый раз, придя в себя, вынуждена придумывать для окружающих более или менее правдоподобное оправдание своим поступкам. Чувствую себя сторонним наблюдателем собственной жизни. В определённый момент страхи стали в основном связаны с учёбой (а ещё с общением). На последнем курсе училища всё это вылилось в невозможность в общем потоке сдать экзамены.\\nОбратились к врачу. Со стороны родителей это делалось с большой неохотой. От чего меня лечат, не уточнили. После пары \"вводных бесед\" назначили небольшую дозировку рисполепта (сказали \"для начала\"...). Принимаю несколько дней. Меня, конечно предупреждали, что появится заторможенность, рассеянность, возможно придётся больше спать. Результат превзошёл ожидания: ужасно кружится голова, руки трясутся, ноги не слушаются. Боюсь пройти по квартире, брать в руки вещи, чтобы ничего не сломать (инцеденты уже были). Рассеянность - Ухитрилась заблудиться возле собственного дома!\\nВрач велела больше спать. Но я сплю как обычно и не часом больше.\\nЖдать ли мне положительных результатов или я просто дура, что подсела на таблетки (так говорят все родственники)?\\n\\nПрошу прощения за такой пространный рассказ о жизни.\\nВпервые решила воспользоваться форумом, ещё нет опыта.\\nЛюди! Если даже я беспокою вас впустую! Если кто-нибудь есть неравнодушный, Будет время - посоветуйте, как мне реагировать на происходящее, что можно почитать на эту тему.\\nМожет, я выбрала не ту тему, чтобы писать в форум. И снова прошу прощения, если таковое возможно.\\n----\\nНадо подумать... сказал(а)\\nЖдать ли мне положительных результатов или я просто дура, что подсела на таблетки (так говорят все родственники)?\\nИсходя из написанного Вами, проблемы все-таки достаточно серьезные, и, видимо, требуют именно психофармакотерапии. Так что таблетки нужны. Но вот какие именно, подбирать дозу, учитывать побочные эффекты - это все должен делать лечащий врач. В принципе, те эффекты, которые Вы описали, могут быть при приеме рисполепта. Эти побочные эффекты могут проходить через несколько дней после начала лечения, могут требовать коррекции дозы, назначение корректоров нейролептической терапии или смены препарата.\\nP.S. Напишите, пожалуйста, как себя чувствуете сейчас? Есть какие-то изменения?\\n----\\nА почему именно назначили рисперидон?! У Вас вероятно наблюдается снижение АД, связанное в адреноблоеирующими свойствами препарата.\\nФлюанксол в низких дозировках, вероятно, мог быть благоприятнее.\\n----\\nПочему-же надо было начинать с тяжелой артиллерии Сонапакс с тормозным компонентом для начала был бы неплох\\n----\\nоднозначно хороший препарат, особенно при лечении параноидной шизофрении.\\n----\\nК сожалению препарат не впечатляет! На нем у меня одна пациентка суициднула! Между рисполептом и азалептином я отдаю преимущество последнему!\\n----\\nподелюсь своими впечатлениями: при биполярном аффективном расстройстве препарат хорошо снимает вязкость мыслей, препятствует образованию бредовых идей, и, как ни странно, приводит к лучшему засыпанию. но основная проблема - это его влияние на повышение пролактина и образование пролактиномы гипофиза. эта проблема у меня проявилась. пришлось принимать бромкриптин - пролактин в норму вошёл, а уменьшилась ли микроаденома ещё не знаю. от рисполепта отказалась на свой страх и риск.\\nесли кто-то здесь сталкивался с гормональными проблемами - поделитесь, пожалуйста, вашим опытом.\\n----\\nКто-нибудь применяет дженерик Торендо ?\\nКакие клинические наблюдения есть?\\n----\\nпробовали знаем. лечили меня рисполептом после санопакса и паксила. side effects один в один как у автора ветки. бросал потом начинал опять не выдержал в итоге и бросил пить окончательно тк от навязчивых мыслей он не избавил а существование отравил еще как\\n----\\n'"
            ]
          },
          "metadata": {
            "tags": []
          },
          "execution_count": 45
        }
      ]
    },
    {
      "cell_type": "code",
      "metadata": {
        "id": "-_WJFXZm_Lwu"
      },
      "source": [
        "post_list = []\n",
        "sent_list = []\n",
        "for topic_num, topic in enumerate(topic_list):\n",
        "  for post_num, post in enumerate(topic.split('----')):\n",
        "    for sent_num, sent in enumerate(sent_tokenize(post)):\n",
        "      # sent_list.append((tokenizer.tokenize(sent.lower()), sent_num, post_num, topic_num))\n",
        "      if sent.lower():\n",
        "        sent_list.append((sent.lower(), sent_num, post_num, topic_num))\n",
        "# post_list[35] # quote"
      ],
      "execution_count": null,
      "outputs": []
    },
    {
      "cell_type": "code",
      "metadata": {
        "colab": {
          "base_uri": "https://localhost:8080/"
        },
        "id": "gntQTQ0p2apw",
        "outputId": "73f0f7a9-eb17-4c53-d7bb-fdac200d1c56"
      },
      "source": [
        "len(sent_list)"
      ],
      "execution_count": null,
      "outputs": [
        {
          "output_type": "execute_result",
          "data": {
            "text/plain": [
              "2243"
            ]
          },
          "metadata": {
            "tags": []
          },
          "execution_count": 47
        }
      ]
    },
    {
      "cell_type": "code",
      "metadata": {
        "colab": {
          "base_uri": "https://localhost:8080/"
        },
        "id": "esN_Oldp7sJj",
        "outputId": "f0d2fac9-828a-4c4c-d22f-3294ad6e9628"
      },
      "source": [
        "sent_list[0][1]"
      ],
      "execution_count": null,
      "outputs": [
        {
          "output_type": "execute_result",
          "data": {
            "text/plain": [
              "0"
            ]
          },
          "metadata": {
            "tags": []
          },
          "execution_count": 48
        }
      ]
    },
    {
      "cell_type": "code",
      "metadata": {
        "colab": {
          "base_uri": "https://localhost:8080/"
        },
        "id": "YaCmridtEUhP",
        "outputId": "d2c10e66-86bd-4688-800b-b68bc6680a33"
      },
      "source": [
        "sent_list[10:15]"
      ],
      "execution_count": null,
      "outputs": [
        {
          "output_type": "execute_result",
          "data": {
            "text/plain": [
              "[('на последнем курсе училища всё это вылилось в невозможность в общем потоке сдать экзамены.',\n",
              "  9,\n",
              "  1,\n",
              "  1),\n",
              " ('обратились к врачу.', 10, 1, 1),\n",
              " ('со стороны родителей это делалось с большой неохотой.', 11, 1, 1),\n",
              " ('от чего меня лечат, не уточнили.', 12, 1, 1),\n",
              " ('после пары \"вводных бесед\" назначили небольшую дозировку рисполепта (сказали \"для начала\"...).',\n",
              "  13,\n",
              "  1,\n",
              "  1)]"
            ]
          },
          "metadata": {
            "tags": []
          },
          "execution_count": 49
        }
      ]
    },
    {
      "cell_type": "code",
      "metadata": {
        "colab": {
          "base_uri": "https://localhost:8080/"
        },
        "id": "bEhG-VL23MwI",
        "outputId": "ca6fce27-bd67-4194-9828-5d6f4cdb8f4f"
      },
      "source": [
        "sent = 'я сказал(а) ты п'\n",
        "is_ans = 0\n",
        "\n",
        "for i in ['сказал(а)', ') писал:', 'писал(а): ↑']:\n",
        "  is_ans = is_ans + (1 if i in sent else 0) \n",
        "is_ans"
      ],
      "execution_count": null,
      "outputs": [
        {
          "output_type": "execute_result",
          "data": {
            "text/plain": [
              "1"
            ]
          },
          "metadata": {
            "tags": []
          },
          "execution_count": 50
        }
      ]
    },
    {
      "cell_type": "code",
      "metadata": {
        "id": "i13--Gw9pASO"
      },
      "source": [
        "coref_df = pd.DataFrame(columns=['TOKEN', 'TOKEN_VECT', 'IS_ANSWER', 'TOPIC_NUM', 'POST_NUM', 'SENT_NUM', 'TOKEN_NUM', 'ANIMACY', 'CASE', 'GENDER', 'PERSON', 'POS', 'DEPENDENCY', 'HEAD',\n",
        "                                  'HEAD_ANIMACY', 'HEAD_CASE', 'HEAD_GENDER',  'HEAD_POS', 'HEAD_VECT', 'SENT_VECT', 'HEAD_CHILDS_VECT', 'NER',\n",
        "                                 'COREFERENCE_CLUSTER', ])"
      ],
      "execution_count": null,
      "outputs": []
    },
    {
      "cell_type": "code",
      "metadata": {
        "colab": {
          "base_uri": "https://localhost:8080/"
        },
        "id": "W2fyFOMJ2gf6",
        "outputId": "30bf2341-759d-45ba-dca6-c6c59fbf180d"
      },
      "source": [
        "topic_num = 0\n",
        "\n",
        "for sent_info in sent_list:\n",
        "\n",
        "  if sent_info[3] != topic_num:\n",
        "    start_new_topic = True\n",
        "\n",
        "  if sent_info[2] != post_num:\n",
        "    start_new_post = True\n",
        "    is_ans = 0\n",
        "\n",
        "  topic_num = sent_info[3]\n",
        "  post_num = sent_info[2]\n",
        "  sent_num = sent_info[1]\n",
        "  sent = sent_info[0]\n",
        "\n",
        "  if start_new_topic:\n",
        "    token_pos = 0\n",
        "\n",
        "  if start_new_post:\n",
        "  for i in ['сказал(а)', ') писал:', 'писал(а): ↑']:\n",
        "    if i in sent:\n",
        "      is_ans = 1\n",
        "      start_new_post = False \n",
        "\n",
        "  sent_tokens = tokenizer.tokenize(sent)\n",
        "  spacy_tokens = nlp(sent)\n",
        "\n",
        "  sent_vector = 0\n",
        "  for token in sent_tokens:\n",
        "    try:\n",
        "      sent_vector += ft.wv.__getitem__(token.lower())\n",
        "      sent_vector = sent_vector/len(sent_tokens) if len(sent_tokens) > 0 else 0\n",
        "    except KeyError:\n",
        "      print(token.lower(), 'O__o')\n",
        "  \n",
        "  for token in spacy_tokens:\n",
        "\n",
        "    # if re.search(r'[A-Za-zА-Яа-я]', token.text):\n",
        "    if tokenizer.tokenize(token.text):\n",
        "        morphy = morph.parse(token.text)[0]\n",
        "\n",
        "        app_dict = {}\n",
        "        app_dict['TOKEN_NUM'] = token_pos\n",
        "        token_pos += 1\n",
        "        app_dict['TOKEN'] = token.text\n",
        "        try:\n",
        "          app_dict['TOKEN_VECT'] = ft.wv.get_vector(token.text.lower())  if token.text else None\n",
        "        except KeyError:\n",
        "          print(token.text.lower(), 'O__o')\n",
        "        app_dict['IS_ANSWER'] = is_ans\n",
        "        app_dict['TOPIC_NUM'] = topic_num \n",
        "        app_dict['POST_NUM'] = post_num \n",
        "        app_dict['SENT_NUM'] = sent_num \n",
        "\n",
        "        app_dict['ANIMACY'] = morphy.tag.animacy\n",
        "        app_dict['CASE'] = morphy.tag.case\n",
        "        app_dict['GENDER'] = morphy.tag.gender\n",
        "        app_dict['PERSON'] = morphy.tag.person\n",
        "        app_dict['POS'] = morphy.tag.POS\n",
        "        app_dict['DEPENDENCY'] = token.dep_ \n",
        "\n",
        "        app_dict['HEAD'] = token.head.text\n",
        "        try:\n",
        "          app_dict['HEAD_VECT'] = ft.wv.get_vector(token.head.text.lower()) if token.head.text else '-'\n",
        "        except KeyError:\n",
        "          app_dict['HEAD_VECT'] = None\n",
        "          print(token.head.text.lower(), 'here')\n",
        "        app_dict['HEAD_POS'] = token.head.pos_\n",
        "        morphy = morph.parse(token.head.text)[0]\n",
        "        app_dict['HEAD_ANIMACY'] = morphy.tag.animacy\n",
        "        app_dict['HEAD_CASE'] = morphy.tag.case \n",
        "        app_dict['HEAD_GENDER'] = morphy.tag.gender \n",
        "        # app_dict['HEAD_PERSON'] = morphy.tag.person or '-'\n",
        "        app_dict['HEAD_POS'] = morphy.tag.POS\n",
        "        app_dict['SENT_VECT'] = sent_vector\n",
        "        try:\n",
        "          if token.head.children:\n",
        "            app_dict['HEAD_CHILDS_VECT'] = 0\n",
        "            for child in token.head.children:\n",
        "              if re.search(r'[A-Za-zА-Яа-я]', child.text):\n",
        "                app_dict['HEAD_CHILDS_VECT'] += ft.wv.get_vector(child.text.lower())\n",
        "            if list(token.head.children):\n",
        "              app_dict['HEAD_CHILDS_VECT'] = app_dict['HEAD_CHILDS_VECT']/len(list(token.head.children))\n",
        "        except (KeyError, ZeroDivisionError):\n",
        "          # app_dict['HEAD_CHILDS_VECT'] = 0\n",
        "          print(child.text.lower(), 'end')\n",
        "\n",
        "        app_dict['NER'] = 0\n",
        "        app_dict['COREFERENCE_CLUSTER'] = 0\n",
        "        coref_df = coref_df.append(app_dict, ignore_index=True)  \n",
        "    \n"
      ],
      "execution_count": null,
      "outputs": [
        {
          "output_type": "stream",
          "text": [
            "/usr/local/lib/python3.7/dist-packages/ipykernel_launcher.py:79: DeprecationWarning: Call to deprecated `__getitem__` (Method will be removed in 4.0.0, use self.wv.__getitem__() instead).\n"
          ],
          "name": "stderr"
        },
        {
          "output_type": "stream",
          "text": [
            "т.к end\n",
            "т.к end\n",
            "т.к O__o\n",
            "т.к end\n",
            "\n",
            " here\n",
            "\n",
            " here\n",
            "\n",
            " here\n",
            "2-е end\n",
            "2-е O__o\n",
            "2-е end\n",
            "2-е end\n",
            "\n",
            "\n",
            " here\n",
            "\n",
            "\n",
            " here\n",
            "т.к end\n",
            "т.к end\n",
            "т.к O__o\n",
            "т.к end\n",
            "\n",
            " here\n",
            "\n",
            " here\n",
            "\n",
            " here\n",
            "2-е end\n",
            "2-е O__o\n",
            "2-е end\n",
            "2-е end\n",
            "\n",
            "\n",
            " here\n",
            "\n",
            "\n",
            " here\n",
            "0,5 O__o\n",
            "$ here\n",
            "u.s end\n",
            "u.s end\n",
            "u.s end\n",
            "u.s end\n",
            "1.4 O__o\n",
            "$ here\n",
            "u.s end\n",
            "u.s O__o\n",
            "u.s end\n",
            "u.s end\n",
            "- here\n",
            "- here\n",
            "\n",
            "\n",
            " here\n",
            "\n",
            "\n",
            " here\n",
            "\n",
            "\n",
            " here\n",
            "1.2 O__o\n",
            "\n",
            "\n",
            " here\n",
            "\n",
            "\n",
            " here\n",
            "\n",
            " here\n",
            "0,5 O__o\n",
            "0,5 O__o\n",
            "$ here\n",
            "u.s end\n",
            "u.s end\n",
            "u.s end\n",
            "u.s end\n",
            "1.4 O__o\n",
            "$ here\n",
            "u.s end\n",
            "u.s O__o\n",
            "u.s end\n",
            "u.s end\n",
            "- here\n",
            "- here\n",
            "\n",
            "\n",
            " here\n",
            "\n",
            "\n",
            " here\n",
            "\n",
            "\n",
            " here\n",
            "1.2 O__o\n",
            "\n",
            "\n",
            " here\n",
            "\n",
            "\n",
            " here\n",
            "\n",
            " here\n",
            "0,5 O__o\n",
            "% here\n",
            "% here\n",
            "% here\n",
            "% here\n",
            "% here\n",
            "% here\n",
            "4x7 O__o\n",
            "4x7 O__o\n",
            "4x7 O__o\n",
            "\n",
            "\n",
            " here\n",
            "\n",
            "\n",
            " here\n",
            "\n",
            " here\n",
            "\n",
            "\n",
            " here\n",
            "5,5 O__o\n",
            "\n",
            "\n",
            " here\n",
            "\n",
            " here\n",
            "\n",
            " here\n",
            "2,5 O__o\n",
            "\n",
            " here\n",
            "\n",
            " here\n",
            "% here\n",
            "% here\n",
            "% here\n",
            "\n",
            " here\n",
            "\n",
            " here\n",
            "\n",
            "\n",
            " here\n",
            "\n",
            "\n",
            " here\n",
            "\n",
            "\n",
            " here\n",
            "* here\n",
            "\n",
            "\n",
            " here\n",
            "8) O__o\n",
            "\n",
            "\n",
            " here\n",
            "\n",
            " here\n",
            "\n",
            " here\n",
            "\n",
            " here\n",
            "\n",
            " here\n",
            "т.е end\n",
            "1,5 O__o\n",
            "т.е end\n",
            "т.е end\n",
            "т.е end\n",
            "т.е end\n",
            "т.е O__o\n",
            "т.е end\n",
            "т.е end\n",
            "1,5 O__o\n",
            "т.е end\n",
            "т.е end\n",
            "т.е end\n",
            "т.е end\n",
            "т.е O__o\n",
            "т.е end\n",
            "- here\n",
            "т.е end\n",
            "т.е end\n",
            "- here\n",
            "- here\n",
            "т.е end\n",
            "т.е O__o\n",
            "т.е end\n",
            "т.е end\n",
            "т.е end\n",
            "- here\n",
            "- here\n",
            "т.е end\n",
            "т.е O__o\n",
            "т.е end\n",
            "... here\n",
            "- here\n",
            "- here\n",
            "т.ч here\n",
            "т.ч O__o\n",
            "т.ч end\n",
            "\n",
            " here\n",
            "\n",
            " here\n",
            "т.ч here\n",
            "т.ч O__o\n",
            "т.ч end\n",
            "\n",
            " here\n",
            "\n",
            " here\n",
            "1р O__o\n",
            "\n",
            " here\n",
            "\n",
            " here\n",
            "\n",
            " here\n",
            "\n",
            " here\n",
            "\n",
            " here\n",
            "\n",
            " here\n",
            "\n",
            " here\n",
            "\n",
            " here\n",
            "\n",
            " here\n",
            "\n",
            " here\n",
            "\n",
            " here\n",
            "\n",
            "\n",
            " here\n",
            "\n",
            " here\n",
            "\n",
            "\n",
            " here\n",
            "\n",
            "\n",
            " here\n",
            "\n",
            " here\n",
            "\n",
            " here\n",
            "\n",
            " here\n",
            "\n",
            " here\n",
            ", here\n",
            ", here\n",
            ", here\n",
            ", here\n",
            "\n",
            "  here\n",
            "т.к end\n",
            "т.к O__o\n",
            "т.к end\n",
            "\n",
            "\n",
            " here\n",
            "\n",
            "\n",
            " here\n",
            "т.к end\n",
            "т.к O__o\n",
            "т.к end\n",
            "\n",
            " here\n",
            "2,9 here\n",
            "2,9 here\n",
            "2,9 O__o\n",
            "т.е end\n",
            "т.е end\n",
            "т.е end\n",
            "т.е end\n",
            "т.е end\n",
            "т.е end\n",
            "т.е end\n",
            "т.е O__o\n",
            "т.е end\n",
            "\n",
            " here\n",
            "\n",
            " here\n",
            "2,9 here\n",
            "2,9 here\n",
            "2,9 O__o\n",
            "т.е O__o\n",
            "т.е here\n",
            "  here\n",
            "  here\n",
            "\n",
            "  here\n",
            "\n",
            " here\n",
            "\n",
            " here\n",
            "\n",
            "  here\n",
            "\n",
            "  here\n",
            "\n",
            "\n",
            " here\n",
            "\n",
            "\n",
            " here\n",
            "\n",
            "\n",
            " here\n",
            ", here\n",
            ", here\n",
            "\n",
            "\n",
            " here\n",
            "\n",
            "\n",
            " here\n",
            "\n",
            "\n",
            " here\n",
            ", here\n",
            ", here\n",
            "\n",
            "\n",
            " here\n",
            "\n",
            "\n",
            " here\n",
            "1-б O__o\n",
            "1-б end\n",
            "\n",
            "  here\n",
            "\n",
            "\n",
            " here\n",
            "\n",
            "\n",
            " here\n",
            "\n",
            "\n",
            " here\n",
            "\n",
            "  here\n",
            "\n",
            "  here\n",
            "\n",
            "  here\n",
            ", here\n",
            "\n",
            "\n",
            " here\n",
            "\n",
            "\n",
            " here\n",
            ", here\n",
            "\n",
            "\n",
            " here\n",
            "\n",
            "\n",
            " here\n",
            "\n",
            "\n",
            " here\n",
            "\n",
            "\n",
            " here\n",
            "\n",
            "  here\n",
            "\n",
            "\n",
            " here\n",
            "\n",
            "\n",
            " here\n",
            "\n",
            "  here\n",
            "\n",
            "  here\n",
            "\n",
            "  here\n",
            "\n",
            "  here\n",
            "\n",
            "\n",
            " here\n",
            "\n",
            " here\n",
            "\n",
            "  here\n",
            "\n",
            "  here\n",
            "\n",
            "\n",
            " here\n",
            "\n",
            "\n",
            " here\n",
            "\n",
            "\n",
            " here\n",
            "\n",
            "  here\n",
            "\n",
            "  here\n",
            "\n",
            " here\n",
            "- here\n",
            "\n",
            " here\n",
            "  here\n",
            ". here\n",
            "\n",
            "  here\n",
            "- here\n",
            "- here\n",
            "\n",
            " here\n",
            "\n",
            " here\n",
            "% here\n",
            "% here\n",
            "3–4 O__o\n",
            "\n",
            " here\n",
            "\n",
            "  here\n",
            "\n",
            "\n",
            " here\n",
            "\n",
            "\n",
            " here\n",
            "\n",
            "\n",
            " here\n",
            "\n",
            "\n",
            " here\n",
            "\n",
            " here\n",
            "\n",
            " here\n",
            "\n",
            "\n",
            " here\n",
            "\n",
            "\n",
            " here\n",
            "\n",
            "\n",
            " here\n",
            "т.е end\n",
            "т.е end\n",
            "т.е end\n",
            "т.е O__o\n",
            "т.е end\n",
            ", here\n",
            "\n",
            " here\n",
            "= here\n",
            "= here\n",
            "\n",
            " here\n",
            "\n",
            " here\n",
            "\n",
            " here\n",
            "- here\n",
            "\n",
            " here\n",
            "↑ here\n",
            "\n",
            " here\n",
            "- here\n",
            "% here\n",
            "% here\n",
            "% here\n",
            "% here\n",
            "% here\n",
            "% here\n",
            "% here\n",
            "% here\n",
            "% here\n",
            "\n",
            " here\n",
            "\n",
            " here\n",
            "\n",
            " here\n",
            "\n",
            " here\n",
            "\n",
            " here\n",
            "\n",
            "\n",
            " here\n",
            "\n",
            " here\n",
            "т.е O__o\n",
            "т.е here\n",
            "т.е O__o\n",
            "т.е here\n",
            "т.е O__o\n",
            "т.е here\n",
            "\n",
            " here\n",
            "\n",
            " here\n",
            "\n",
            " here\n",
            "\n",
            " here\n",
            "\n",
            " here\n",
            "\n",
            " here\n",
            "\n",
            " here\n",
            "- here\n",
            "\n",
            " here\n",
            "\n",
            " here\n",
            "• here\n",
            "• here\n",
            "% here\n",
            "% here\n",
            "% here\n",
            "\n",
            " here\n",
            "\n",
            " here\n",
            "\n",
            " here\n",
            "% here\n",
            "% here\n",
            "% here\n",
            "\n",
            " here\n",
            "↑ here\n",
            "- here\n",
            "\n",
            " here\n",
            "\n",
            " here\n",
            "\n",
            " here\n",
            "% here\n",
            "% here\n",
            "% here\n",
            ", here\n",
            "т.е end\n",
            "т.е end\n",
            "т.е end\n",
            "т.е end\n",
            "т.е end\n",
            "т.е end\n",
            "т.е O__o\n",
            "т.е end\n",
            "\n",
            "\n",
            " here\n",
            "\n",
            "\n",
            " here\n",
            "\n",
            "\n",
            " here\n",
            "% here\n",
            "% here\n",
            "% here\n",
            "% here\n",
            "% here\n",
            "% here\n",
            "% here\n",
            "% here\n",
            "% here\n",
            "% here\n",
            "s. end\n",
            "s. end\n",
            "s. end\n",
            "s. end\n",
            "s. O__o\n",
            "s. end\n",
            "s. end\n",
            "\n",
            " here\n",
            "\n",
            " here\n",
            "\n",
            " here\n",
            "\n",
            " here\n",
            "\n",
            " here\n",
            "\n",
            " here\n",
            "\n",
            " here\n",
            "\n",
            " here\n",
            "% here\n",
            "% here\n",
            "% here\n",
            "% here\n",
            "% here\n",
            "% here\n",
            "% here\n",
            "% here\n",
            "% here\n",
            "% here\n",
            "\n",
            " here\n",
            "\n",
            " here\n",
            "\n",
            " here\n",
            "\n",
            " here\n",
            "\n",
            " here\n",
            "\n",
            "\n",
            " here\n",
            "\n",
            " here\n",
            "\n",
            " here\n",
            "\n",
            " here\n",
            ", here\n",
            "% here\n",
            "% here\n",
            "\n",
            " here\n",
            "\n",
            " here\n",
            "\n",
            " here\n",
            "\n",
            " here\n",
            "т.к end\n",
            "т.к end\n",
            "т.к end\n",
            "т.к end\n",
            "т.к O__o\n",
            "т.к end\n",
            "% here\n",
            "% here\n",
            "- here\n",
            "\n",
            " here\n",
            "$ here\n",
            "\n",
            " here\n",
            "\n",
            " here\n",
            "\n",
            " here\n",
            "\n",
            "\n",
            " here\n",
            "% here\n",
            "% here\n",
            "% here\n",
            "\n",
            "\n",
            " here\n",
            "\n",
            "\n",
            " here\n",
            "\n",
            "\n",
            " here\n",
            "\n",
            "\n",
            " here\n",
            "\n",
            "\n",
            " here\n",
            "\n",
            "\n",
            " here\n",
            "\n",
            "\n",
            " here\n",
            "\n",
            "\n",
            " here\n",
            "\n",
            " here\n",
            "$ here\n",
            "\n",
            " here\n",
            "\n",
            " here\n",
            "$ here\n",
            "$ here\n",
            "$ here\n",
            "$ here\n",
            "$ here\n",
            "$ here\n",
            "\n",
            " here\n",
            "\n",
            " here\n",
            "\n",
            " here\n",
            "\n",
            " here\n",
            "\n",
            "\n",
            " here\n",
            "\n",
            "\n",
            " here\n",
            "\n",
            "\n",
            " here\n",
            "\n",
            "\n",
            " here\n",
            "\n",
            "\n",
            " here\n",
            "\n",
            "\n",
            " here\n",
            "\n",
            "\n",
            " here\n",
            "\n",
            "\n",
            " here\n",
            "\n",
            "\n",
            " here\n",
            "\n",
            "\n",
            " here\n",
            "\n",
            "\n",
            " here\n",
            "\n",
            "\n",
            " here\n",
            "\n",
            " here\n",
            "\n",
            "\n",
            " here\n",
            "\n",
            "\n",
            " here\n",
            "\n",
            "\n",
            " here\n",
            "\n",
            "\n",
            " here\n",
            "\n",
            "\n",
            " here\n",
            "\n",
            "\n",
            " here\n",
            "\n",
            " here\n",
            "\n",
            " here\n",
            "\n",
            " here\n",
            "\n",
            " here\n",
            "\n",
            " here\n",
            "\n",
            " here\n",
            "\n",
            " here\n",
            "\n",
            " here\n",
            "\n",
            "\n",
            " here\n",
            "\n",
            "\n",
            " here\n",
            "\n",
            "\n",
            " here\n",
            "\n",
            "\n",
            " here\n",
            "$ here\n",
            "$ here\n",
            "$ here\n",
            "$ here\n",
            "\n",
            "\n",
            " here\n",
            "\n",
            "\n",
            " here\n",
            "$ here\n",
            "$ here\n",
            "$ here\n",
            "$ here\n",
            "\n",
            "\n",
            " here\n",
            "\n",
            "\n",
            " here\n",
            "$ here\n",
            "$ here\n",
            "$ here\n",
            "$ here\n",
            "\n",
            "\n",
            " here\n",
            "\n",
            "\n",
            " here\n",
            "\n",
            "\n",
            " here\n",
            "\n",
            "\n",
            " here\n",
            "& here\n",
            "$ here\n",
            "$ here\n",
            "$ here\n",
            "$ here\n",
            "$ here\n",
            "$ here\n",
            "$ here\n",
            "$ here\n",
            "$ here\n",
            "$ here\n",
            "$ here\n",
            "$ here\n",
            "$ here\n",
            "$ here\n",
            "$ here\n",
            "$ here\n",
            "\n",
            "\n",
            " here\n",
            "$ here\n",
            "$ here\n",
            "$ here\n",
            "$ here\n",
            "$ here\n",
            "$ here\n",
            "$ here\n",
            "$ here\n",
            "$ here\n",
            "$ here\n",
            "$ here\n",
            "$ here\n",
            "$ here\n",
            "$ here\n",
            "$ here\n",
            "$ here\n",
            "\n",
            "\n",
            " here\n",
            "$ here\n",
            "$ here\n",
            "\n",
            "\n",
            "\n",
            " here\n",
            "$ here\n",
            "$ here\n",
            "\n",
            "\n",
            "\n",
            " here\n",
            "$ here\n",
            "$ here\n",
            "$ here\n",
            "$ here\n",
            "$ here\n",
            "$ here\n",
            "$ here\n",
            "\n",
            "\n",
            "\n",
            " here\n",
            "$ here\n",
            "$ here\n",
            "$ here\n",
            "\n",
            "\n",
            " here\n",
            "$ here\n",
            "$ here\n",
            "\n",
            "\n",
            "\n",
            " here\n",
            "$ here\n",
            "\n",
            "\n",
            " here\n",
            "$ here\n",
            "\n",
            "\n",
            " here\n",
            "\n",
            "\n",
            " here\n",
            "$ here\n",
            "$ here\n",
            "$ here\n",
            "$ here\n",
            "$ here\n",
            "$ here\n",
            "$ here\n",
            "$ here\n",
            "$ here\n",
            "\n",
            " here\n",
            "\n",
            " here\n",
            "\n",
            "\n",
            " here\n",
            "$ here\n",
            "\n",
            "\n",
            " here\n",
            "\n",
            "\n",
            " here\n",
            "$ here\n",
            "$ here\n",
            "$ here\n",
            "$ here\n",
            "$ here\n",
            "$ here\n",
            "\n",
            "\n",
            " here\n",
            "$ here\n",
            "$ here\n",
            "$ here\n",
            "$ here\n",
            "\n",
            "\n",
            " here\n",
            "\n",
            "\n",
            " here\n",
            "& here\n",
            "$ here\n",
            "$ here\n",
            "$ here\n",
            "$ here\n",
            "\n",
            "\n",
            " here\n",
            "\n",
            "\n",
            " here\n",
            "$ here\n",
            "$ here\n",
            "$ here\n",
            "$ here\n",
            "\n",
            "\n",
            " here\n",
            "\n",
            "\n",
            " here\n",
            "$ here\n",
            "$ here\n",
            "$ here\n",
            "$ here\n",
            "\n",
            "\n",
            " here\n",
            "\n",
            "\n",
            " here\n",
            "$ here\n",
            "$ here\n",
            "$ here\n",
            "$ here\n",
            "\n",
            "\n",
            " here\n",
            "\n",
            "\n",
            " here\n",
            "\n",
            "\n",
            " here\n",
            "\n",
            "\n",
            " here\n",
            "$ here\n",
            "\n",
            " here\n",
            "\n",
            " here\n",
            "\n",
            " here\n",
            "\n",
            " here\n",
            "\n",
            "\n",
            " here\n",
            "\n",
            " here\n",
            "\n",
            " here\n",
            "\n",
            " here\n",
            "\n",
            " here\n",
            "& here\n",
            "$ here\n",
            "$ here\n",
            "$ here\n",
            "$ here\n",
            "$ here\n",
            "$ here\n",
            "$ here\n",
            "$ here\n",
            "$ here\n",
            "\n",
            "\n",
            " here\n",
            "$ here\n",
            "\n",
            "\n",
            " here\n",
            "\n",
            "\n",
            " here\n",
            "$ here\n",
            "$ here\n",
            "$ here\n",
            "$ here\n",
            "$ here\n",
            "$ here\n",
            "$ here\n",
            "$ here\n",
            "$ here\n",
            "$ here\n",
            "$ here\n",
            "$ here\n",
            "$ here\n",
            "\n",
            " here\n",
            "\n",
            " here\n",
            "\n",
            " here\n",
            "\n",
            " here\n",
            "\n",
            " here\n",
            "\n",
            " here\n",
            "\n",
            " here\n",
            "\n",
            " here\n"
          ],
          "name": "stdout"
        }
      ]
    },
    {
      "cell_type": "code",
      "metadata": {
        "colab": {
          "base_uri": "https://localhost:8080/",
          "height": 945
        },
        "id": "B3G6ZS-h7LJ0",
        "outputId": "e13ddfce-b66b-46eb-cae7-2959b4b0fa5c"
      },
      "source": [
        "coref_df"
      ],
      "execution_count": null,
      "outputs": [
        {
          "output_type": "execute_result",
          "data": {
            "text/html": [
              "<div>\n",
              "<style scoped>\n",
              "    .dataframe tbody tr th:only-of-type {\n",
              "        vertical-align: middle;\n",
              "    }\n",
              "\n",
              "    .dataframe tbody tr th {\n",
              "        vertical-align: top;\n",
              "    }\n",
              "\n",
              "    .dataframe thead th {\n",
              "        text-align: right;\n",
              "    }\n",
              "</style>\n",
              "<table border=\"1\" class=\"dataframe\">\n",
              "  <thead>\n",
              "    <tr style=\"text-align: right;\">\n",
              "      <th></th>\n",
              "      <th>TOKEN</th>\n",
              "      <th>TOKEN_VECT</th>\n",
              "      <th>IS_ANSWER</th>\n",
              "      <th>TOPIC_NUM</th>\n",
              "      <th>POST_NUM</th>\n",
              "      <th>SENT_NUM</th>\n",
              "      <th>TOKEN_NUM</th>\n",
              "      <th>ANIMACY</th>\n",
              "      <th>CASE</th>\n",
              "      <th>GENDER</th>\n",
              "      <th>PERSON</th>\n",
              "      <th>POS</th>\n",
              "      <th>DEPENDENCY</th>\n",
              "      <th>HEAD</th>\n",
              "      <th>HEAD_ANIMACY</th>\n",
              "      <th>HEAD_CASE</th>\n",
              "      <th>HEAD_GENDER</th>\n",
              "      <th>HEAD_POS</th>\n",
              "      <th>HEAD_VECT</th>\n",
              "      <th>SENT_VECT</th>\n",
              "      <th>HEAD_CHILDS_VECT</th>\n",
              "      <th>NER</th>\n",
              "      <th>COREFERENCE_CLUSTER</th>\n",
              "    </tr>\n",
              "  </thead>\n",
              "  <tbody>\n",
              "    <tr>\n",
              "      <th>0</th>\n",
              "      <td>обсуждаем</td>\n",
              "      <td>[-0.20823394, 0.99618006, -0.2798941, -0.90914...</td>\n",
              "      <td>0</td>\n",
              "      <td>1</td>\n",
              "      <td>0</td>\n",
              "      <td>0</td>\n",
              "      <td>0</td>\n",
              "      <td>None</td>\n",
              "      <td>None</td>\n",
              "      <td>None</td>\n",
              "      <td>1per</td>\n",
              "      <td>VERB</td>\n",
              "      <td>ROOT</td>\n",
              "      <td>обсуждаем</td>\n",
              "      <td>None</td>\n",
              "      <td>None</td>\n",
              "      <td>None</td>\n",
              "      <td>VERB</td>\n",
              "      <td>[-0.20823394, 0.99618006, -0.2798941, -0.90914...</td>\n",
              "      <td>[0.018637108, 0.2306802, 0.14600733, -0.019119...</td>\n",
              "      <td>[-0.17725945, 0.94834274, 0.90867615, 0.850609...</td>\n",
              "      <td>0</td>\n",
              "      <td>0</td>\n",
              "    </tr>\n",
              "    <tr>\n",
              "      <th>1</th>\n",
              "      <td>препарат</td>\n",
              "      <td>[-0.17725945, 0.94834274, 0.90867615, 0.850609...</td>\n",
              "      <td>0</td>\n",
              "      <td>1</td>\n",
              "      <td>0</td>\n",
              "      <td>0</td>\n",
              "      <td>1</td>\n",
              "      <td>inan</td>\n",
              "      <td>nomn</td>\n",
              "      <td>masc</td>\n",
              "      <td>None</td>\n",
              "      <td>NOUN</td>\n",
              "      <td>obj</td>\n",
              "      <td>обсуждаем</td>\n",
              "      <td>None</td>\n",
              "      <td>None</td>\n",
              "      <td>None</td>\n",
              "      <td>VERB</td>\n",
              "      <td>[-0.20823394, 0.99618006, -0.2798941, -0.90914...</td>\n",
              "      <td>[0.018637108, 0.2306802, 0.14600733, -0.019119...</td>\n",
              "      <td>[-0.17725945, 0.94834274, 0.90867615, 0.850609...</td>\n",
              "      <td>0</td>\n",
              "      <td>0</td>\n",
              "    </tr>\n",
              "    <tr>\n",
              "      <th>2</th>\n",
              "      <td>рисперидон</td>\n",
              "      <td>[0.15259643, 1.0673474, 0.84192747, -0.0775155...</td>\n",
              "      <td>0</td>\n",
              "      <td>1</td>\n",
              "      <td>0</td>\n",
              "      <td>0</td>\n",
              "      <td>2</td>\n",
              "      <td>anim</td>\n",
              "      <td>nomn</td>\n",
              "      <td>masc</td>\n",
              "      <td>None</td>\n",
              "      <td>NOUN</td>\n",
              "      <td>appos</td>\n",
              "      <td>препарат</td>\n",
              "      <td>inan</td>\n",
              "      <td>nomn</td>\n",
              "      <td>masc</td>\n",
              "      <td>NOUN</td>\n",
              "      <td>[-0.17725945, 0.94834274, 0.90867615, 0.850609...</td>\n",
              "      <td>[0.018637108, 0.2306802, 0.14600733, -0.019119...</td>\n",
              "      <td>[0.15259643, 1.0673474, 0.84192747, -0.0775155...</td>\n",
              "      <td>0</td>\n",
              "      <td>0</td>\n",
              "    </tr>\n",
              "    <tr>\n",
              "      <th>3</th>\n",
              "      <td>рисполепт</td>\n",
              "      <td>[0.012426247, 1.0408522, 0.6913349, -0.1638528...</td>\n",
              "      <td>0</td>\n",
              "      <td>1</td>\n",
              "      <td>0</td>\n",
              "      <td>0</td>\n",
              "      <td>3</td>\n",
              "      <td>inan</td>\n",
              "      <td>gent</td>\n",
              "      <td>femn</td>\n",
              "      <td>None</td>\n",
              "      <td>NOUN</td>\n",
              "      <td>parataxis</td>\n",
              "      <td>рисперидон</td>\n",
              "      <td>anim</td>\n",
              "      <td>nomn</td>\n",
              "      <td>masc</td>\n",
              "      <td>NOUN</td>\n",
              "      <td>[0.15259643, 1.0673474, 0.84192747, -0.0775155...</td>\n",
              "      <td>[0.018637108, 0.2306802, 0.14600733, -0.019119...</td>\n",
              "      <td>[0.012426247, 1.0408522, 0.6913349, -0.1638528...</td>\n",
              "      <td>0</td>\n",
              "      <td>0</td>\n",
              "    </tr>\n",
              "    <tr>\n",
              "      <th>4</th>\n",
              "      <td>сперидан</td>\n",
              "      <td>[0.08634768, 0.893356, 0.55127096, -0.06507572...</td>\n",
              "      <td>0</td>\n",
              "      <td>1</td>\n",
              "      <td>0</td>\n",
              "      <td>0</td>\n",
              "      <td>4</td>\n",
              "      <td>None</td>\n",
              "      <td>None</td>\n",
              "      <td>masc</td>\n",
              "      <td>None</td>\n",
              "      <td>PRTS</td>\n",
              "      <td>conj</td>\n",
              "      <td>рисполепт</td>\n",
              "      <td>inan</td>\n",
              "      <td>gent</td>\n",
              "      <td>femn</td>\n",
              "      <td>NOUN</td>\n",
              "      <td>[0.012426247, 1.0408522, 0.6913349, -0.1638528...</td>\n",
              "      <td>[0.018637108, 0.2306802, 0.14600733, -0.019119...</td>\n",
              "      <td>[0.02878256, 0.29778534, 0.18375699, -0.021691...</td>\n",
              "      <td>0</td>\n",
              "      <td>0</td>\n",
              "    </tr>\n",
              "    <tr>\n",
              "      <th>...</th>\n",
              "      <td>...</td>\n",
              "      <td>...</td>\n",
              "      <td>...</td>\n",
              "      <td>...</td>\n",
              "      <td>...</td>\n",
              "      <td>...</td>\n",
              "      <td>...</td>\n",
              "      <td>...</td>\n",
              "      <td>...</td>\n",
              "      <td>...</td>\n",
              "      <td>...</td>\n",
              "      <td>...</td>\n",
              "      <td>...</td>\n",
              "      <td>...</td>\n",
              "      <td>...</td>\n",
              "      <td>...</td>\n",
              "      <td>...</td>\n",
              "      <td>...</td>\n",
              "      <td>...</td>\n",
              "      <td>...</td>\n",
              "      <td>...</td>\n",
              "      <td>...</td>\n",
              "      <td>...</td>\n",
              "    </tr>\n",
              "    <tr>\n",
              "      <th>26492</th>\n",
              "      <td>и</td>\n",
              "      <td>[0.5048941, 0.81449467, 0.29763442, 0.60393727...</td>\n",
              "      <td>0</td>\n",
              "      <td>22</td>\n",
              "      <td>68</td>\n",
              "      <td>0</td>\n",
              "      <td>7</td>\n",
              "      <td>None</td>\n",
              "      <td>None</td>\n",
              "      <td>None</td>\n",
              "      <td>None</td>\n",
              "      <td>CONJ</td>\n",
              "      <td>cc</td>\n",
              "      <td>пошлины</td>\n",
              "      <td>inan</td>\n",
              "      <td>nomn</td>\n",
              "      <td>femn</td>\n",
              "      <td>NOUN</td>\n",
              "      <td>[0.7365944, -0.48505062, -0.0025755777, 0.1689...</td>\n",
              "      <td>[0.10077221, 0.062953465, -0.035381455, -0.048...</td>\n",
              "      <td>[0.41243815, 0.190811, -0.119330086, 0.0424290...</td>\n",
              "      <td>0</td>\n",
              "      <td>0</td>\n",
              "    </tr>\n",
              "    <tr>\n",
              "      <th>26493</th>\n",
              "      <td>таможенные</td>\n",
              "      <td>[0.73242044, -0.24206167, -0.6556247, -0.47665...</td>\n",
              "      <td>0</td>\n",
              "      <td>22</td>\n",
              "      <td>68</td>\n",
              "      <td>0</td>\n",
              "      <td>8</td>\n",
              "      <td>None</td>\n",
              "      <td>nomn</td>\n",
              "      <td>None</td>\n",
              "      <td>None</td>\n",
              "      <td>ADJF</td>\n",
              "      <td>amod</td>\n",
              "      <td>пошлины</td>\n",
              "      <td>inan</td>\n",
              "      <td>nomn</td>\n",
              "      <td>femn</td>\n",
              "      <td>NOUN</td>\n",
              "      <td>[0.7365944, -0.48505062, -0.0025755777, 0.1689...</td>\n",
              "      <td>[0.10077221, 0.062953465, -0.035381455, -0.048...</td>\n",
              "      <td>[0.41243815, 0.190811, -0.119330086, 0.0424290...</td>\n",
              "      <td>0</td>\n",
              "      <td>0</td>\n",
              "    </tr>\n",
              "    <tr>\n",
              "      <th>26494</th>\n",
              "      <td>пошлины</td>\n",
              "      <td>[0.7365944, -0.48505062, -0.0025755777, 0.1689...</td>\n",
              "      <td>0</td>\n",
              "      <td>22</td>\n",
              "      <td>68</td>\n",
              "      <td>0</td>\n",
              "      <td>9</td>\n",
              "      <td>inan</td>\n",
              "      <td>nomn</td>\n",
              "      <td>femn</td>\n",
              "      <td>None</td>\n",
              "      <td>NOUN</td>\n",
              "      <td>nsubj</td>\n",
              "      <td>есть</td>\n",
              "      <td>None</td>\n",
              "      <td>None</td>\n",
              "      <td>None</td>\n",
              "      <td>INFN</td>\n",
              "      <td>[-0.0050341976, 0.14796825, 0.084160656, -0.77...</td>\n",
              "      <td>[0.10077221, 0.062953465, -0.035381455, -0.048...</td>\n",
              "      <td>[0.57842094, 0.09196201, -0.19555457, -0.26701...</td>\n",
              "      <td>0</td>\n",
              "      <td>0</td>\n",
              "    </tr>\n",
              "    <tr>\n",
              "      <th>26495</th>\n",
              "      <td>как</td>\n",
              "      <td>[1.0349948, 0.73793733, -0.38374668, -0.544819...</td>\n",
              "      <td>0</td>\n",
              "      <td>22</td>\n",
              "      <td>68</td>\n",
              "      <td>0</td>\n",
              "      <td>10</td>\n",
              "      <td>None</td>\n",
              "      <td>None</td>\n",
              "      <td>None</td>\n",
              "      <td>None</td>\n",
              "      <td>CONJ</td>\n",
              "      <td>advmod</td>\n",
              "      <td>есть</td>\n",
              "      <td>None</td>\n",
              "      <td>None</td>\n",
              "      <td>None</td>\n",
              "      <td>INFN</td>\n",
              "      <td>[-0.0050341976, 0.14796825, 0.084160656, -0.77...</td>\n",
              "      <td>[0.10077221, 0.062953465, -0.035381455, -0.048...</td>\n",
              "      <td>[0.57842094, 0.09196201, -0.19555457, -0.26701...</td>\n",
              "      <td>0</td>\n",
              "      <td>0</td>\n",
              "    </tr>\n",
              "    <tr>\n",
              "      <th>26496</th>\n",
              "      <td>светка</td>\n",
              "      <td>[0.5079827, 0.70259637, 0.12796001, -0.3120921...</td>\n",
              "      <td>0</td>\n",
              "      <td>22</td>\n",
              "      <td>69</td>\n",
              "      <td>0</td>\n",
              "      <td>0</td>\n",
              "      <td>inan</td>\n",
              "      <td>nomn</td>\n",
              "      <td>femn</td>\n",
              "      <td>None</td>\n",
              "      <td>NOUN</td>\n",
              "      <td>ROOT</td>\n",
              "      <td>светка</td>\n",
              "      <td>inan</td>\n",
              "      <td>nomn</td>\n",
              "      <td>femn</td>\n",
              "      <td>NOUN</td>\n",
              "      <td>[0.5079827, 0.70259637, 0.12796001, -0.3120921...</td>\n",
              "      <td>[0.5079827, 0.70259637, 0.12796001, -0.3120921...</td>\n",
              "      <td>0</td>\n",
              "      <td>0</td>\n",
              "      <td>0</td>\n",
              "    </tr>\n",
              "  </tbody>\n",
              "</table>\n",
              "<p>26497 rows × 23 columns</p>\n",
              "</div>"
            ],
            "text/plain": [
              "            TOKEN  ... COREFERENCE_CLUSTER\n",
              "0       обсуждаем  ...                   0\n",
              "1        препарат  ...                   0\n",
              "2      рисперидон  ...                   0\n",
              "3       рисполепт  ...                   0\n",
              "4        сперидан  ...                   0\n",
              "...           ...  ...                 ...\n",
              "26492           и  ...                   0\n",
              "26493  таможенные  ...                   0\n",
              "26494     пошлины  ...                   0\n",
              "26495         как  ...                   0\n",
              "26496      светка  ...                   0\n",
              "\n",
              "[26497 rows x 23 columns]"
            ]
          },
          "metadata": {
            "tags": []
          },
          "execution_count": 54
        }
      ]
    },
    {
      "cell_type": "code",
      "metadata": {
        "id": "IZeDS3zSL25z",
        "colab": {
          "base_uri": "https://localhost:8080/",
          "height": 150
        },
        "outputId": "6ad4e90c-5e2f-476e-e478-2cc76acd1f36"
      },
      "source": [
        "coref_df.iloc[:1]"
      ],
      "execution_count": null,
      "outputs": [
        {
          "output_type": "execute_result",
          "data": {
            "text/html": [
              "<div>\n",
              "<style scoped>\n",
              "    .dataframe tbody tr th:only-of-type {\n",
              "        vertical-align: middle;\n",
              "    }\n",
              "\n",
              "    .dataframe tbody tr th {\n",
              "        vertical-align: top;\n",
              "    }\n",
              "\n",
              "    .dataframe thead th {\n",
              "        text-align: right;\n",
              "    }\n",
              "</style>\n",
              "<table border=\"1\" class=\"dataframe\">\n",
              "  <thead>\n",
              "    <tr style=\"text-align: right;\">\n",
              "      <th></th>\n",
              "      <th>TOKEN</th>\n",
              "      <th>TOKEN_VECT</th>\n",
              "      <th>IS_ANSWER</th>\n",
              "      <th>TOPIC_NUM</th>\n",
              "      <th>POST_NUM</th>\n",
              "      <th>SENT_NUM</th>\n",
              "      <th>TOKEN_NUM</th>\n",
              "      <th>ANIMACY</th>\n",
              "      <th>CASE</th>\n",
              "      <th>GENDER</th>\n",
              "      <th>PERSON</th>\n",
              "      <th>POS</th>\n",
              "      <th>DEPENDENCY</th>\n",
              "      <th>HEAD</th>\n",
              "      <th>HEAD_ANIMACY</th>\n",
              "      <th>HEAD_CASE</th>\n",
              "      <th>HEAD_GENDER</th>\n",
              "      <th>HEAD_POS</th>\n",
              "      <th>HEAD_VECT</th>\n",
              "      <th>SENT_VECT</th>\n",
              "      <th>HEAD_CHILDS_VECT</th>\n",
              "      <th>NER</th>\n",
              "      <th>COREFERENCE_CLUSTER</th>\n",
              "    </tr>\n",
              "  </thead>\n",
              "  <tbody>\n",
              "    <tr>\n",
              "      <th>0</th>\n",
              "      <td>обсуждаем</td>\n",
              "      <td>[-0.20823394, 0.99618006, -0.2798941, -0.90914...</td>\n",
              "      <td>0</td>\n",
              "      <td>1</td>\n",
              "      <td>0</td>\n",
              "      <td>0</td>\n",
              "      <td>0</td>\n",
              "      <td>None</td>\n",
              "      <td>None</td>\n",
              "      <td>None</td>\n",
              "      <td>1per</td>\n",
              "      <td>VERB</td>\n",
              "      <td>ROOT</td>\n",
              "      <td>обсуждаем</td>\n",
              "      <td>None</td>\n",
              "      <td>None</td>\n",
              "      <td>None</td>\n",
              "      <td>VERB</td>\n",
              "      <td>[-0.20823394, 0.99618006, -0.2798941, -0.90914...</td>\n",
              "      <td>[0.018637108, 0.2306802, 0.14600733, -0.019119...</td>\n",
              "      <td>[-0.17725945, 0.94834274, 0.90867615, 0.850609...</td>\n",
              "      <td>0</td>\n",
              "      <td>0</td>\n",
              "    </tr>\n",
              "  </tbody>\n",
              "</table>\n",
              "</div>"
            ],
            "text/plain": [
              "       TOKEN  ... COREFERENCE_CLUSTER\n",
              "0  обсуждаем  ...                   0\n",
              "\n",
              "[1 rows x 23 columns]"
            ]
          },
          "metadata": {
            "tags": []
          },
          "execution_count": 55
        }
      ]
    },
    {
      "cell_type": "code",
      "metadata": {
        "id": "jGtB6FGc9ITr"
      },
      "source": [
        "coref_df_anns = coref_df.loc[:, ['TOKEN', 'TOPIC_NUM', 'POST_NUM', 'SENT_NUM', 'IS_ANSWER', 'HEAD', 'NER', 'COREFERENCE_CLUSTER' ]]"
      ],
      "execution_count": null,
      "outputs": []
    },
    {
      "cell_type": "code",
      "metadata": {
        "id": "2VDbf0ysWDkb"
      },
      "source": [
        "coref_df.to_csv('coref_fasttext60k.csv', sep=' ', index=False)"
      ],
      "execution_count": null,
      "outputs": []
    },
    {
      "cell_type": "code",
      "metadata": {
        "id": "88RYff8nbTQB"
      },
      "source": [
        "coref_df_anns.to_csv('coref_df_anns60k.csv', sep=' ', index=False)"
      ],
      "execution_count": null,
      "outputs": []
    },
    {
      "cell_type": "code",
      "metadata": {
        "id": "KuDjOd2g-Pg0"
      },
      "source": [
        "from google.colab import files"
      ],
      "execution_count": null,
      "outputs": []
    },
    {
      "cell_type": "code",
      "metadata": {
        "colab": {
          "base_uri": "https://localhost:8080/",
          "height": 17
        },
        "id": "tSAG8kV8-Rob",
        "outputId": "ba267477-ce9f-488b-ab88-aa3d3359ddc2"
      },
      "source": [
        "files.download('coref_fasttext60k.csv')"
      ],
      "execution_count": null,
      "outputs": [
        {
          "output_type": "display_data",
          "data": {
            "application/javascript": [
              "\n",
              "    async function download(id, filename, size) {\n",
              "      if (!google.colab.kernel.accessAllowed) {\n",
              "        return;\n",
              "      }\n",
              "      const div = document.createElement('div');\n",
              "      const label = document.createElement('label');\n",
              "      label.textContent = `Downloading \"${filename}\": `;\n",
              "      div.appendChild(label);\n",
              "      const progress = document.createElement('progress');\n",
              "      progress.max = size;\n",
              "      div.appendChild(progress);\n",
              "      document.body.appendChild(div);\n",
              "\n",
              "      const buffers = [];\n",
              "      let downloaded = 0;\n",
              "\n",
              "      const channel = await google.colab.kernel.comms.open(id);\n",
              "      // Send a message to notify the kernel that we're ready.\n",
              "      channel.send({})\n",
              "\n",
              "      for await (const message of channel.messages) {\n",
              "        // Send a message to notify the kernel that we're ready.\n",
              "        channel.send({})\n",
              "        if (message.buffers) {\n",
              "          for (const buffer of message.buffers) {\n",
              "            buffers.push(buffer);\n",
              "            downloaded += buffer.byteLength;\n",
              "            progress.value = downloaded;\n",
              "          }\n",
              "        }\n",
              "      }\n",
              "      const blob = new Blob(buffers, {type: 'application/binary'});\n",
              "      const a = document.createElement('a');\n",
              "      a.href = window.URL.createObjectURL(blob);\n",
              "      a.download = filename;\n",
              "      div.appendChild(a);\n",
              "      a.click();\n",
              "      div.remove();\n",
              "    }\n",
              "  "
            ],
            "text/plain": [
              "<IPython.core.display.Javascript object>"
            ]
          },
          "metadata": {
            "tags": []
          }
        },
        {
          "output_type": "display_data",
          "data": {
            "application/javascript": [
              "download(\"download_da34efd1-22a3-4489-83d1-608cf55eea0d\", \"coref_fasttext60k.csv\", 138674011)"
            ],
            "text/plain": [
              "<IPython.core.display.Javascript object>"
            ]
          },
          "metadata": {
            "tags": []
          }
        }
      ]
    },
    {
      "cell_type": "code",
      "metadata": {
        "id": "Qb2JTOA1QJri",
        "colab": {
          "base_uri": "https://localhost:8080/",
          "height": 17
        },
        "outputId": "dbc898bc-3cc2-462e-9d2b-87f592a27d7f"
      },
      "source": [
        "files.download('coref_df_anns60k.csv')"
      ],
      "execution_count": null,
      "outputs": [
        {
          "output_type": "display_data",
          "data": {
            "application/javascript": [
              "\n",
              "    async function download(id, filename, size) {\n",
              "      if (!google.colab.kernel.accessAllowed) {\n",
              "        return;\n",
              "      }\n",
              "      const div = document.createElement('div');\n",
              "      const label = document.createElement('label');\n",
              "      label.textContent = `Downloading \"${filename}\": `;\n",
              "      div.appendChild(label);\n",
              "      const progress = document.createElement('progress');\n",
              "      progress.max = size;\n",
              "      div.appendChild(progress);\n",
              "      document.body.appendChild(div);\n",
              "\n",
              "      const buffers = [];\n",
              "      let downloaded = 0;\n",
              "\n",
              "      const channel = await google.colab.kernel.comms.open(id);\n",
              "      // Send a message to notify the kernel that we're ready.\n",
              "      channel.send({})\n",
              "\n",
              "      for await (const message of channel.messages) {\n",
              "        // Send a message to notify the kernel that we're ready.\n",
              "        channel.send({})\n",
              "        if (message.buffers) {\n",
              "          for (const buffer of message.buffers) {\n",
              "            buffers.push(buffer);\n",
              "            downloaded += buffer.byteLength;\n",
              "            progress.value = downloaded;\n",
              "          }\n",
              "        }\n",
              "      }\n",
              "      const blob = new Blob(buffers, {type: 'application/binary'});\n",
              "      const a = document.createElement('a');\n",
              "      a.href = window.URL.createObjectURL(blob);\n",
              "      a.download = filename;\n",
              "      div.appendChild(a);\n",
              "      a.click();\n",
              "      div.remove();\n",
              "    }\n",
              "  "
            ],
            "text/plain": [
              "<IPython.core.display.Javascript object>"
            ]
          },
          "metadata": {
            "tags": []
          }
        },
        {
          "output_type": "display_data",
          "data": {
            "application/javascript": [
              "download(\"download_9f69710d-4e99-4d13-97d2-79b15c77c401\", \"coref_df_anns60k.csv\", 1040150)"
            ],
            "text/plain": [
              "<IPython.core.display.Javascript object>"
            ]
          },
          "metadata": {
            "tags": []
          }
        }
      ]
    },
    {
      "cell_type": "code",
      "metadata": {
        "id": "C0pG-kpddYp8"
      },
      "source": [
        ""
      ],
      "execution_count": null,
      "outputs": []
    },
    {
      "cell_type": "code",
      "metadata": {
        "id": "9jnyIYAyxi6i"
      },
      "source": [
        "# for topic_num, topic in topic_list:\n",
        "#   post_list = topic.split('----')\n",
        "#   sent_list = [(sent, topic_num) for sent, topic_num in enumerate]\n",
        "#   for sent in sent_list:\n",
        "#     sent_vector = 0\n",
        "#     post_num = sent_dict.get(sent)\n",
        "#     # sent_vector = sum([model.wv.__getitem__(tok.lower())[-1] for tok in sent.split()])\n",
        "#     if 'сказал(а)', 'писал(а)' in sent:\n",
        "#       sent.replace('сказал(а)', 'SOQ')\n",
        "#     for i in sent.split():\n",
        "#       if re.search(r'[A-Za-zА-Яа-я]', i):\n",
        "#         try:     \n",
        "#           sent_vector += ft.wv.__getitem__(i.lower())\n",
        "#         except KeyError:\n",
        "#           print(i.lower(), 111)\n",
        "#     if len(sent.split()) > 0:\n",
        "#       sent_vector = sent_vector/len(sent.split())\n",
        "\n",
        "\n",
        "#     my_sent = nlp(sent)\n",
        "#     for token in my_sent:\n",
        "#       if re.search(r'[A-Za-zА-Яа-я]', token.text):\n",
        "#         morphy = morph.parse(token.text)[0]\n",
        "\n",
        "#         app_dict = {}\n",
        "#         app_dict['TOKEN'] = token.text or '-'\n",
        "#         try:\n",
        "#           app_dict['TOKEN_VECT'] = ft.wv.__getitem__(token.text.lower()) if token.text else '-'\n",
        "#         except KeyError:\n",
        "#           print(token.text.lower(), 'O__o')\n",
        "#         app_dict['POST_NUM'] = post_num or '-'\n",
        "#         app_dict['ANIMACY'] = morphy.tag.animacy or '-'\n",
        "#         app_dict['CASE'] = morphy.tag.case or '-'\n",
        "#         app_dict['GENDER'] = morphy.tag.gender or '-'\n",
        "#         app_dict['PERSON'] = morphy.tag.person or '-'\n",
        "#         app_dict['POS'] = morphy.tag.POS or '-' \n",
        "#         app_dict['DEPENDENCY'] = token.dep_ or '-'\n",
        "\n",
        "#         app_dict['HEAD'] = token.head.text or '-'\n",
        "#         try:\n",
        "#           app_dict['HEAD_VECT'] = ft.wv.__getitem__(token.head.text.lower()) if token.head.text else '-'\n",
        "#         except KeyError:\n",
        "#           app_dict['HEAD_VECT'] = '-'\n",
        "#           print(token.head.text.lower(), 'here')\n",
        "#         app_dict['HEAD_POS'] = token.head.pos_ or '-'\n",
        "#         morphy = morph.parse(token.head.text)[0] or '-'\n",
        "#         app_dict['HEAD_ANIMACY'] = morphy.tag.animacy or '-'\n",
        "#         app_dict['HEAD_CASE'] = morphy.tag.case or '-'\n",
        "#         app_dict['HEAD_GENDER'] = morphy.tag.gender or '-'\n",
        "#         app_dict['HEAD_POS'] = morphy.tag.POS or '-'\n",
        "#         app_dict['SENT_VECTOR'] = sent_vector\n",
        "#         try:\n",
        "#           if token.head.children:\n",
        "#             app_dict['HEAD_CHILDS_VECT'] = 0\n",
        "#             for child in token.head.children:\n",
        "#               if re.search(r'[A-Za-zА-Яа-я]', child.text):\n",
        "#                 app_dict['HEAD_CHILDS_VECT'] += ft[child.text.lower()]\n",
        "#             if list(token.head.children):\n",
        "#               app_dict['HEAD_CHILDS_VECT'] = app_dict['HEAD_CHILDS_VECT']/len(list(token.head.children))\n",
        "#         except (KeyError, ZeroDivisionError):\n",
        "#           print(child.text.lower(), 'end')\n",
        "\n",
        "#         app_dict['NER'] = 0\n",
        "#         app_dict['COREFERENCE_CLUSTER'] = 0\n",
        "#         coref_df = coref_df.append(app_dict, ignore_index=True)\n"
      ],
      "execution_count": null,
      "outputs": []
    },
    {
      "cell_type": "code",
      "metadata": {
        "id": "Sm-d5yaz5mH5"
      },
      "source": [
        "# for topic in topic_list:\n",
        "#   sent_list = topic.split('----')\n",
        "#   for sent in sent_list:\n",
        "#     sent_vector = 0\n",
        "#     post_num = sent_dict.get(sent)\n",
        "#     # sent_vector = sum([model.wv.__getitem__(tok.lower())[-1] for tok in sent.split()])\n",
        "    \n",
        "#     for i in sent.split():\n",
        "#       if re.search(r'[A-Za-zА-Яа-я]', i):\n",
        "#         try:     \n",
        "#           sent_vector += ft.wv.__getitem__(i.lower())\n",
        "#         except KeyError:\n",
        "#           print(i.lower(), 111)\n",
        "#     if len(sent.split()) > 0:\n",
        "#       sent_vector = sent_vector/len(sent.split())\n",
        "\n",
        "#     # if sent_vector == '-' or None or 0:\n",
        "#     #   print(sent)\n",
        "#     my_sent = nlp(sent)\n",
        "#     for token in my_sent:\n",
        "#       if re.search(r'[A-Za-zА-Яа-я]', token.text):\n",
        "#         morphy = morph.parse(token.text)[0]\n",
        "\n",
        "#         app_dict = {}\n",
        "#         app_dict['TOKEN'] = token.text or '-'\n",
        "#         try:\n",
        "#           app_dict['TOKEN_VECT'] = ft.wv.__getitem__(token.text.lower()) if token.text else '-'\n",
        "#         except KeyError:\n",
        "#           print(token.text.lower(), 'O__o')\n",
        "#         app_dict['POST_NUM'] = post_num or '-'\n",
        "#         app_dict['ANIMACY'] = morphy.tag.animacy or '-'\n",
        "#         app_dict['CASE'] = morphy.tag.case or '-'\n",
        "#         app_dict['GENDER'] = morphy.tag.gender or '-'\n",
        "#         app_dict['PERSON'] = morphy.tag.person or '-'\n",
        "#         app_dict['POS'] = morphy.tag.POS or '-' \n",
        "#         app_dict['DEPENDENCY'] = token.dep_ or '-'\n",
        "\n",
        "#         app_dict['HEAD'] = token.head.text or '-'\n",
        "#         try:\n",
        "#           app_dict['HEAD_VECT'] = ft.wv.__getitem__(token.head.text.lower()) if token.head.text else '-'\n",
        "#         except KeyError:\n",
        "#           app_dict['HEAD_VECT'] = '-'\n",
        "#           print(token.head.text.lower(), 'here')\n",
        "#         app_dict['HEAD_POS'] = token.head.pos_ or '-'\n",
        "#         morphy = morph.parse(token.head.text)[0] or '-'\n",
        "#         app_dict['HEAD_ANIMACY'] = morphy.tag.animacy or '-'\n",
        "#         app_dict['HEAD_CASE'] = morphy.tag.case or '-'\n",
        "#         app_dict['HEAD_GENDER'] = morphy.tag.gender or '-'\n",
        "#         # app_dict['HEAD_PERSON'] = morphy.tag.person or '-'\n",
        "#         app_dict['HEAD_POS'] = morphy.tag.POS or '-'\n",
        "#         app_dict['SENT_VECTOR'] = sent_vector\n",
        "#         try:\n",
        "#           if token.head.children:\n",
        "#             app_dict['HEAD_CHILDS_VECT'] = 0\n",
        "#             for child in token.head.children:\n",
        "#               if re.search(r'[A-Za-zА-Яа-я]', child.text):\n",
        "#                 app_dict['HEAD_CHILDS_VECT'] += ft[child.text.lower()]\n",
        "#             if list(token.head.children):\n",
        "#               app_dict['HEAD_CHILDS_VECT'] = app_dict['HEAD_CHILDS_VECT']/len(list(token.head.children))\n",
        "#         except (KeyError, ZeroDivisionError):\n",
        "#           print(child.text.lower(), 'end')\n",
        "\n",
        "#         app_dict['NER'] = 0\n",
        "#         app_dict['COREFERENCE_CLUSTER'] = 0\n",
        "#         coref_df = coref_df.append(app_dict, ignore_index=True)\n"
      ],
      "execution_count": null,
      "outputs": []
    }
  ]
}