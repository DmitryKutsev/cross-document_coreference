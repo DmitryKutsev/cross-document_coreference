{
  "nbformat": 4,
  "nbformat_minor": 0,
  "metadata": {
    "colab": {
      "name": "Untitled63.ipynb",
      "provenance": [],
      "authorship_tag": "ABX9TyOwofvr/KQ10FRWyou83AU+",
      "include_colab_link": true
    },
    "kernelspec": {
      "name": "python3",
      "display_name": "Python 3"
    },
    "language_info": {
      "name": "python"
    }
  },
  "cells": [
    {
      "cell_type": "markdown",
      "metadata": {
        "id": "view-in-github",
        "colab_type": "text"
      },
      "source": [
        "<a href=\"https://colab.research.google.com/github/DmitryKutsev/cross-document_coreference/blob/main/classifiers/ml_classifiers.ipynb\" target=\"_parent\"><img src=\"https://colab.research.google.com/assets/colab-badge.svg\" alt=\"Open In Colab\"/></a>"
      ]
    },
    {
      "cell_type": "markdown",
      "metadata": {
        "id": "MR2ASbW_mPHn"
      },
      "source": [
        "## **Импорт**"
      ]
    },
    {
      "cell_type": "code",
      "metadata": {
        "id": "jRqz8PB_SGaz"
      },
      "source": [
        "from sklearn import tree\n",
        "import pandas as pd\n",
        "import matplotlib.pyplot as plt\n",
        "import seaborn as sns\n",
        "%matplotlib inline\n"
      ],
      "execution_count": 49,
      "outputs": []
    },
    {
      "cell_type": "code",
      "metadata": {
        "id": "OFLx7egYS2qN"
      },
      "source": [
        "from IPython.display import SVG, display, HTML"
      ],
      "execution_count": 50,
      "outputs": []
    },
    {
      "cell_type": "code",
      "metadata": {
        "id": "5Lhnxf_FoRVA",
        "colab": {
          "base_uri": "https://localhost:8080/"
        },
        "outputId": "e8cb36c2-d245-4feb-a2cd-7d1f5fca3256"
      },
      "source": [
        "from google.colab import drive\n",
        "drive.mount('./content', force_remount=False)"
      ],
      "execution_count": 51,
      "outputs": [
        {
          "output_type": "stream",
          "text": [
            "Drive already mounted at ./content; to attempt to forcibly remount, call drive.mount(\"./content\", force_remount=True).\n"
          ],
          "name": "stdout"
        }
      ]
    },
    {
      "cell_type": "code",
      "metadata": {
        "id": "p8tYiCNJzF46"
      },
      "source": [
        "from graphviz import Source\n",
        "from sklearn import tree\n",
        "from sklearn.metrics import confusion_matrix, f1_score, accuracy_score\n",
        "from sklearn.ensemble import RandomForestClassifier\n",
        "from sklearn import linear_model"
      ],
      "execution_count": 52,
      "outputs": []
    },
    {
      "cell_type": "code",
      "metadata": {
        "id": "J_7xbdMuo_RW",
        "colab": {
          "base_uri": "https://localhost:8080/"
        },
        "outputId": "e61e349c-db55-4a5e-858e-c40fa8333606"
      },
      "source": [
        "!ls\n",
        "import os\n",
        "for i in os.listdir('content/'):\n",
        "  print(i)"
      ],
      "execution_count": 53,
      "outputs": [
        {
          "output_type": "stream",
          "text": [
            "content  coref_df_anns60k.csv  new_anns60k.csv\tnew_df_anns60k.csv  sample_data\n",
            ".shortcut-targets-by-id\n",
            "MyDrive\n",
            ".file-revisions-by-id\n",
            ".Trash\n"
          ],
          "name": "stdout"
        }
      ]
    },
    {
      "cell_type": "code",
      "metadata": {
        "id": "L7z8djaJTABE"
      },
      "source": [
        "import csv\n",
        "import re\n",
        "from google.colab import files\n",
        "from sklearn.model_selection import train_test_split\n",
        "from sklearn.metrics.pairwise import cosine_similarity"
      ],
      "execution_count": 54,
      "outputs": []
    },
    {
      "cell_type": "markdown",
      "metadata": {
        "id": "UYfVvz6CmVMq"
      },
      "source": [
        "## **Обработка данных**"
      ]
    },
    {
      "cell_type": "code",
      "metadata": {
        "id": "xk_hRf26TjUD",
        "colab": {
          "base_uri": "https://localhost:8080/"
        },
        "outputId": "d69a26ba-e895-4d2e-dcd1-6fb1f363cea9"
      },
      "source": [
        "!wget https://raw.githubusercontent.com/DmitryKutsev/cross-document_coreference/main/data/coref_df_anns60k.csv\n",
        "!wget https://raw.githubusercontent.com/DmitryKutsev/cross-document_coreference/main/data/new_anns60k.csv"
      ],
      "execution_count": 55,
      "outputs": [
        {
          "output_type": "stream",
          "text": [
            "--2021-05-22 11:05:36--  https://raw.githubusercontent.com/DmitryKutsev/cross-document_coreference/main/data/coref_df_anns60k.csv\n",
            "Resolving raw.githubusercontent.com (raw.githubusercontent.com)... 185.199.108.133, 185.199.109.133, 185.199.110.133, ...\n",
            "Connecting to raw.githubusercontent.com (raw.githubusercontent.com)|185.199.108.133|:443... connected.\n",
            "HTTP request sent, awaiting response... 200 OK\n",
            "Length: 1162863 (1.1M) [text/plain]\n",
            "Saving to: ‘coref_df_anns60k.csv.1’\n",
            "\n",
            "coref_df_anns60k.cs 100%[===================>]   1.11M  --.-KB/s    in 0.07s   \n",
            "\n",
            "2021-05-22 11:05:36 (16.0 MB/s) - ‘coref_df_anns60k.csv.1’ saved [1162863/1162863]\n",
            "\n",
            "--2021-05-22 11:05:36--  https://raw.githubusercontent.com/DmitryKutsev/cross-document_coreference/main/data/new_anns60k.csv\n",
            "Resolving raw.githubusercontent.com (raw.githubusercontent.com)... 185.199.108.133, 185.199.109.133, 185.199.110.133, ...\n",
            "Connecting to raw.githubusercontent.com (raw.githubusercontent.com)|185.199.108.133|:443... connected.\n",
            "HTTP request sent, awaiting response... 200 OK\n",
            "Length: 1191868 (1.1M) [text/plain]\n",
            "Saving to: ‘new_anns60k.csv.1’\n",
            "\n",
            "new_anns60k.csv.1   100%[===================>]   1.14M  --.-KB/s    in 0.03s   \n",
            "\n",
            "2021-05-22 11:05:37 (34.8 MB/s) - ‘new_anns60k.csv.1’ saved [1191868/1191868]\n",
            "\n"
          ],
          "name": "stdout"
        }
      ]
    },
    {
      "cell_type": "markdown",
      "metadata": {
        "id": "cVHJN9DsrmkH"
      },
      "source": [
        "Обработка битых символов, чтобы pandas мог открыть таблицу."
      ]
    },
    {
      "cell_type": "code",
      "metadata": {
        "id": "nKgKz0h9SPOK"
      },
      "source": [
        "# with open('coref_df_anns60k.csv') as csvfile:\n",
        "with open('new_anns60k.csv') as csvfile:\n",
        "  reader = csv.reader(csvfile, delimiter='\\t')\n",
        "  with open('new_df_anns60k.csv', 'w') as write_file:\n",
        "    writer = csv.writer(write_file, delimiter='\\t')\n",
        "    c = 0\n",
        "    for row in reader:\n",
        "      new_row = [i if i and not re.match(r'\\t+?', i) else 0 for i in row]\n",
        "      if len(new_row) > 9:\n",
        "        new_row = new_row[:9]\n",
        "      writer.writerow(new_row)\n"
      ],
      "execution_count": 56,
      "outputs": []
    },
    {
      "cell_type": "code",
      "metadata": {
        "id": "fpbwAAb6sUnL"
      },
      "source": [
        "# anns_df = pd.read_csv('coref_df_anns60k.csv', delimiter='\\t', error_bad_lines=False, header=None)\n",
        "anns_df = pd.read_csv('new_df_anns60k.csv', delimiter='\\t')"
      ],
      "execution_count": 57,
      "outputs": []
    },
    {
      "cell_type": "markdown",
      "metadata": {
        "id": "fBFrdEdsrq0u"
      },
      "source": [
        "Проверим данные"
      ]
    },
    {
      "cell_type": "code",
      "metadata": {
        "id": "2CHdd-PNscSW",
        "colab": {
          "base_uri": "https://localhost:8080/",
          "height": 407
        },
        "outputId": "c7982029-5ec9-4c2c-cad9-b4b755d21f27"
      },
      "source": [
        "anns_df"
      ],
      "execution_count": 58,
      "outputs": [
        {
          "output_type": "execute_result",
          "data": {
            "text/html": [
              "<div>\n",
              "<style scoped>\n",
              "    .dataframe tbody tr th:only-of-type {\n",
              "        vertical-align: middle;\n",
              "    }\n",
              "\n",
              "    .dataframe tbody tr th {\n",
              "        vertical-align: top;\n",
              "    }\n",
              "\n",
              "    .dataframe thead th {\n",
              "        text-align: right;\n",
              "    }\n",
              "</style>\n",
              "<table border=\"1\" class=\"dataframe\">\n",
              "  <thead>\n",
              "    <tr style=\"text-align: right;\">\n",
              "      <th></th>\n",
              "      <th>TOKEN</th>\n",
              "      <th>TOPIC_NUM</th>\n",
              "      <th>POST_NUM</th>\n",
              "      <th>SENT_NUM</th>\n",
              "      <th>TOKEN_NUM</th>\n",
              "      <th>IS_ANSWER</th>\n",
              "      <th>HEAD</th>\n",
              "      <th>NER</th>\n",
              "      <th>COREFERENCE_CLUSTER</th>\n",
              "    </tr>\n",
              "  </thead>\n",
              "  <tbody>\n",
              "    <tr>\n",
              "      <th>0</th>\n",
              "      <td>обсуждаем</td>\n",
              "      <td>1.0</td>\n",
              "      <td>0.0</td>\n",
              "      <td>0.0</td>\n",
              "      <td>0.0</td>\n",
              "      <td>0.0</td>\n",
              "      <td>обсуждаем</td>\n",
              "      <td>0.0</td>\n",
              "      <td>0.0</td>\n",
              "    </tr>\n",
              "    <tr>\n",
              "      <th>1</th>\n",
              "      <td>препарат</td>\n",
              "      <td>1.0</td>\n",
              "      <td>0.0</td>\n",
              "      <td>0.0</td>\n",
              "      <td>1.0</td>\n",
              "      <td>0.0</td>\n",
              "      <td>обсуждаем</td>\n",
              "      <td>0.0</td>\n",
              "      <td>0.0</td>\n",
              "    </tr>\n",
              "    <tr>\n",
              "      <th>2</th>\n",
              "      <td>рисперидон</td>\n",
              "      <td>1.0</td>\n",
              "      <td>0.0</td>\n",
              "      <td>0.0</td>\n",
              "      <td>2.0</td>\n",
              "      <td>0.0</td>\n",
              "      <td>препарат</td>\n",
              "      <td>1.0</td>\n",
              "      <td>2.0</td>\n",
              "    </tr>\n",
              "    <tr>\n",
              "      <th>3</th>\n",
              "      <td>рисполепт</td>\n",
              "      <td>1.0</td>\n",
              "      <td>0.0</td>\n",
              "      <td>0.0</td>\n",
              "      <td>3.0</td>\n",
              "      <td>0.0</td>\n",
              "      <td>рисперидон</td>\n",
              "      <td>1.0</td>\n",
              "      <td>3.0</td>\n",
              "    </tr>\n",
              "    <tr>\n",
              "      <th>4</th>\n",
              "      <td>сперидан</td>\n",
              "      <td>1.0</td>\n",
              "      <td>0.0</td>\n",
              "      <td>0.0</td>\n",
              "      <td>4.0</td>\n",
              "      <td>0.0</td>\n",
              "      <td>рисполепт</td>\n",
              "      <td>1.0</td>\n",
              "      <td>4.0</td>\n",
              "    </tr>\n",
              "    <tr>\n",
              "      <th>...</th>\n",
              "      <td>...</td>\n",
              "      <td>...</td>\n",
              "      <td>...</td>\n",
              "      <td>...</td>\n",
              "      <td>...</td>\n",
              "      <td>...</td>\n",
              "      <td>...</td>\n",
              "      <td>...</td>\n",
              "      <td>...</td>\n",
              "    </tr>\n",
              "    <tr>\n",
              "      <th>15405</th>\n",
              "      <td>0</td>\n",
              "      <td>0.0</td>\n",
              "      <td>0.0</td>\n",
              "      <td>0.0</td>\n",
              "      <td>NaN</td>\n",
              "      <td>NaN</td>\n",
              "      <td>NaN</td>\n",
              "      <td>NaN</td>\n",
              "      <td>NaN</td>\n",
              "    </tr>\n",
              "    <tr>\n",
              "      <th>15406</th>\n",
              "      <td>0</td>\n",
              "      <td>0.0</td>\n",
              "      <td>0.0</td>\n",
              "      <td>0.0</td>\n",
              "      <td>NaN</td>\n",
              "      <td>NaN</td>\n",
              "      <td>NaN</td>\n",
              "      <td>NaN</td>\n",
              "      <td>NaN</td>\n",
              "    </tr>\n",
              "    <tr>\n",
              "      <th>15407</th>\n",
              "      <td>0</td>\n",
              "      <td>0.0</td>\n",
              "      <td>0.0</td>\n",
              "      <td>0.0</td>\n",
              "      <td>NaN</td>\n",
              "      <td>NaN</td>\n",
              "      <td>NaN</td>\n",
              "      <td>NaN</td>\n",
              "      <td>NaN</td>\n",
              "    </tr>\n",
              "    <tr>\n",
              "      <th>15408</th>\n",
              "      <td>0</td>\n",
              "      <td>0.0</td>\n",
              "      <td>0.0</td>\n",
              "      <td>0.0</td>\n",
              "      <td>NaN</td>\n",
              "      <td>NaN</td>\n",
              "      <td>NaN</td>\n",
              "      <td>NaN</td>\n",
              "      <td>NaN</td>\n",
              "    </tr>\n",
              "    <tr>\n",
              "      <th>15409</th>\n",
              "      <td>0</td>\n",
              "      <td>NaN</td>\n",
              "      <td>NaN</td>\n",
              "      <td>NaN</td>\n",
              "      <td>NaN</td>\n",
              "      <td>NaN</td>\n",
              "      <td>NaN</td>\n",
              "      <td>NaN</td>\n",
              "      <td>NaN</td>\n",
              "    </tr>\n",
              "  </tbody>\n",
              "</table>\n",
              "<p>15410 rows × 9 columns</p>\n",
              "</div>"
            ],
            "text/plain": [
              "            TOKEN  TOPIC_NUM  POST_NUM  ...        HEAD  NER  COREFERENCE_CLUSTER\n",
              "0       обсуждаем        1.0       0.0  ...   обсуждаем  0.0                  0.0\n",
              "1        препарат        1.0       0.0  ...   обсуждаем  0.0                  0.0\n",
              "2      рисперидон        1.0       0.0  ...    препарат  1.0                  2.0\n",
              "3       рисполепт        1.0       0.0  ...  рисперидон  1.0                  3.0\n",
              "4        сперидан        1.0       0.0  ...   рисполепт  1.0                  4.0\n",
              "...           ...        ...       ...  ...         ...  ...                  ...\n",
              "15405           0        0.0       0.0  ...         NaN  NaN                  NaN\n",
              "15406           0        0.0       0.0  ...         NaN  NaN                  NaN\n",
              "15407           0        0.0       0.0  ...         NaN  NaN                  NaN\n",
              "15408           0        0.0       0.0  ...         NaN  NaN                  NaN\n",
              "15409           0        NaN       NaN  ...         NaN  NaN                  NaN\n",
              "\n",
              "[15410 rows x 9 columns]"
            ]
          },
          "metadata": {
            "tags": []
          },
          "execution_count": 58
        }
      ]
    },
    {
      "cell_type": "code",
      "metadata": {
        "id": "wi5vLFpvyL14"
      },
      "source": [
        "import numpy as np"
      ],
      "execution_count": 59,
      "outputs": []
    },
    {
      "cell_type": "code",
      "metadata": {
        "id": "zOvIthFwWaOH",
        "colab": {
          "base_uri": "https://localhost:8080/",
          "height": 963
        },
        "outputId": "ea55af93-d774-4216-9f5a-7e1be22714a5"
      },
      "source": [
        "cor_df = pd.read_csv('content/MyDrive/coref_fasttext60k.csv', delimiter=' ')\n",
        "cor_df"
      ],
      "execution_count": 60,
      "outputs": [
        {
          "output_type": "execute_result",
          "data": {
            "text/html": [
              "<div>\n",
              "<style scoped>\n",
              "    .dataframe tbody tr th:only-of-type {\n",
              "        vertical-align: middle;\n",
              "    }\n",
              "\n",
              "    .dataframe tbody tr th {\n",
              "        vertical-align: top;\n",
              "    }\n",
              "\n",
              "    .dataframe thead th {\n",
              "        text-align: right;\n",
              "    }\n",
              "</style>\n",
              "<table border=\"1\" class=\"dataframe\">\n",
              "  <thead>\n",
              "    <tr style=\"text-align: right;\">\n",
              "      <th></th>\n",
              "      <th>TOKEN</th>\n",
              "      <th>TOKEN_VECT</th>\n",
              "      <th>IS_ANSWER</th>\n",
              "      <th>TOPIC_NUM</th>\n",
              "      <th>POST_NUM</th>\n",
              "      <th>SENT_NUM</th>\n",
              "      <th>TOKEN_NUM</th>\n",
              "      <th>ANIMACY</th>\n",
              "      <th>CASE</th>\n",
              "      <th>GENDER</th>\n",
              "      <th>PERSON</th>\n",
              "      <th>POS</th>\n",
              "      <th>DEPENDENCY</th>\n",
              "      <th>HEAD</th>\n",
              "      <th>HEAD_ANIMACY</th>\n",
              "      <th>HEAD_CASE</th>\n",
              "      <th>HEAD_GENDER</th>\n",
              "      <th>HEAD_POS</th>\n",
              "      <th>HEAD_VECT</th>\n",
              "      <th>SENT_VECT</th>\n",
              "      <th>HEAD_CHILDS_VECT</th>\n",
              "      <th>NER</th>\n",
              "      <th>COREFERENCE_CLUSTER</th>\n",
              "    </tr>\n",
              "  </thead>\n",
              "  <tbody>\n",
              "    <tr>\n",
              "      <th>0</th>\n",
              "      <td>обсуждаем</td>\n",
              "      <td>[-2.08233938e-01  9.96180058e-01 -2.79894114e-...</td>\n",
              "      <td>0</td>\n",
              "      <td>1</td>\n",
              "      <td>0</td>\n",
              "      <td>0</td>\n",
              "      <td>0</td>\n",
              "      <td>NaN</td>\n",
              "      <td>NaN</td>\n",
              "      <td>NaN</td>\n",
              "      <td>1per</td>\n",
              "      <td>VERB</td>\n",
              "      <td>ROOT</td>\n",
              "      <td>обсуждаем</td>\n",
              "      <td>NaN</td>\n",
              "      <td>NaN</td>\n",
              "      <td>NaN</td>\n",
              "      <td>VERB</td>\n",
              "      <td>[-2.08233938e-01  9.96180058e-01 -2.79894114e-...</td>\n",
              "      <td>[ 0.01863711  0.2306802   0.14600733 -0.019119...</td>\n",
              "      <td>[-0.17725945  0.94834274  0.90867615  0.850609...</td>\n",
              "      <td>0</td>\n",
              "      <td>0</td>\n",
              "    </tr>\n",
              "    <tr>\n",
              "      <th>1</th>\n",
              "      <td>препарат</td>\n",
              "      <td>[-0.17725945  0.94834274  0.90867615  0.850609...</td>\n",
              "      <td>0</td>\n",
              "      <td>1</td>\n",
              "      <td>0</td>\n",
              "      <td>0</td>\n",
              "      <td>1</td>\n",
              "      <td>inan</td>\n",
              "      <td>nomn</td>\n",
              "      <td>masc</td>\n",
              "      <td>NaN</td>\n",
              "      <td>NOUN</td>\n",
              "      <td>obj</td>\n",
              "      <td>обсуждаем</td>\n",
              "      <td>NaN</td>\n",
              "      <td>NaN</td>\n",
              "      <td>NaN</td>\n",
              "      <td>VERB</td>\n",
              "      <td>[-2.08233938e-01  9.96180058e-01 -2.79894114e-...</td>\n",
              "      <td>[ 0.01863711  0.2306802   0.14600733 -0.019119...</td>\n",
              "      <td>[-0.17725945  0.94834274  0.90867615  0.850609...</td>\n",
              "      <td>0</td>\n",
              "      <td>0</td>\n",
              "    </tr>\n",
              "    <tr>\n",
              "      <th>2</th>\n",
              "      <td>рисперидон</td>\n",
              "      <td>[ 0.15259643  1.0673474   0.84192747 -0.077515...</td>\n",
              "      <td>0</td>\n",
              "      <td>1</td>\n",
              "      <td>0</td>\n",
              "      <td>0</td>\n",
              "      <td>2</td>\n",
              "      <td>anim</td>\n",
              "      <td>nomn</td>\n",
              "      <td>masc</td>\n",
              "      <td>NaN</td>\n",
              "      <td>NOUN</td>\n",
              "      <td>appos</td>\n",
              "      <td>препарат</td>\n",
              "      <td>inan</td>\n",
              "      <td>nomn</td>\n",
              "      <td>masc</td>\n",
              "      <td>NOUN</td>\n",
              "      <td>[-0.17725945  0.94834274  0.90867615  0.850609...</td>\n",
              "      <td>[ 0.01863711  0.2306802   0.14600733 -0.019119...</td>\n",
              "      <td>[ 0.15259643  1.0673474   0.84192747 -0.077515...</td>\n",
              "      <td>0</td>\n",
              "      <td>0</td>\n",
              "    </tr>\n",
              "    <tr>\n",
              "      <th>3</th>\n",
              "      <td>рисполепт</td>\n",
              "      <td>[ 1.2426247e-02  1.0408522e+00  6.9133490e-01 ...</td>\n",
              "      <td>0</td>\n",
              "      <td>1</td>\n",
              "      <td>0</td>\n",
              "      <td>0</td>\n",
              "      <td>3</td>\n",
              "      <td>inan</td>\n",
              "      <td>gent</td>\n",
              "      <td>femn</td>\n",
              "      <td>NaN</td>\n",
              "      <td>NOUN</td>\n",
              "      <td>parataxis</td>\n",
              "      <td>рисперидон</td>\n",
              "      <td>anim</td>\n",
              "      <td>nomn</td>\n",
              "      <td>masc</td>\n",
              "      <td>NOUN</td>\n",
              "      <td>[ 0.15259643  1.0673474   0.84192747 -0.077515...</td>\n",
              "      <td>[ 0.01863711  0.2306802   0.14600733 -0.019119...</td>\n",
              "      <td>[ 1.2426247e-02  1.0408522e+00  6.9133490e-01 ...</td>\n",
              "      <td>0</td>\n",
              "      <td>0</td>\n",
              "    </tr>\n",
              "    <tr>\n",
              "      <th>4</th>\n",
              "      <td>сперидан</td>\n",
              "      <td>[ 0.08634768  0.893356    0.55127096 -0.065075...</td>\n",
              "      <td>0</td>\n",
              "      <td>1</td>\n",
              "      <td>0</td>\n",
              "      <td>0</td>\n",
              "      <td>4</td>\n",
              "      <td>NaN</td>\n",
              "      <td>NaN</td>\n",
              "      <td>masc</td>\n",
              "      <td>NaN</td>\n",
              "      <td>PRTS</td>\n",
              "      <td>conj</td>\n",
              "      <td>рисполепт</td>\n",
              "      <td>inan</td>\n",
              "      <td>gent</td>\n",
              "      <td>femn</td>\n",
              "      <td>NOUN</td>\n",
              "      <td>[ 1.2426247e-02  1.0408522e+00  6.9133490e-01 ...</td>\n",
              "      <td>[ 0.01863711  0.2306802   0.14600733 -0.019119...</td>\n",
              "      <td>[ 0.02878256  0.29778534  0.18375699 -0.021691...</td>\n",
              "      <td>0</td>\n",
              "      <td>0</td>\n",
              "    </tr>\n",
              "    <tr>\n",
              "      <th>...</th>\n",
              "      <td>...</td>\n",
              "      <td>...</td>\n",
              "      <td>...</td>\n",
              "      <td>...</td>\n",
              "      <td>...</td>\n",
              "      <td>...</td>\n",
              "      <td>...</td>\n",
              "      <td>...</td>\n",
              "      <td>...</td>\n",
              "      <td>...</td>\n",
              "      <td>...</td>\n",
              "      <td>...</td>\n",
              "      <td>...</td>\n",
              "      <td>...</td>\n",
              "      <td>...</td>\n",
              "      <td>...</td>\n",
              "      <td>...</td>\n",
              "      <td>...</td>\n",
              "      <td>...</td>\n",
              "      <td>...</td>\n",
              "      <td>...</td>\n",
              "      <td>...</td>\n",
              "      <td>...</td>\n",
              "    </tr>\n",
              "    <tr>\n",
              "      <th>26492</th>\n",
              "      <td>и</td>\n",
              "      <td>[ 0.5048941   0.81449467  0.29763442  0.603937...</td>\n",
              "      <td>0</td>\n",
              "      <td>22</td>\n",
              "      <td>68</td>\n",
              "      <td>0</td>\n",
              "      <td>7</td>\n",
              "      <td>NaN</td>\n",
              "      <td>NaN</td>\n",
              "      <td>NaN</td>\n",
              "      <td>NaN</td>\n",
              "      <td>CONJ</td>\n",
              "      <td>cc</td>\n",
              "      <td>пошлины</td>\n",
              "      <td>inan</td>\n",
              "      <td>nomn</td>\n",
              "      <td>femn</td>\n",
              "      <td>NOUN</td>\n",
              "      <td>[ 0.7365944  -0.48505062 -0.00257558  0.168963...</td>\n",
              "      <td>[ 1.00772209e-01  6.29534647e-02 -3.53814550e-...</td>\n",
              "      <td>[ 0.41243815  0.190811   -0.11933009  0.042429...</td>\n",
              "      <td>0</td>\n",
              "      <td>0</td>\n",
              "    </tr>\n",
              "    <tr>\n",
              "      <th>26493</th>\n",
              "      <td>таможенные</td>\n",
              "      <td>[ 0.73242044 -0.24206167 -0.6556247  -0.476650...</td>\n",
              "      <td>0</td>\n",
              "      <td>22</td>\n",
              "      <td>68</td>\n",
              "      <td>0</td>\n",
              "      <td>8</td>\n",
              "      <td>NaN</td>\n",
              "      <td>nomn</td>\n",
              "      <td>NaN</td>\n",
              "      <td>NaN</td>\n",
              "      <td>ADJF</td>\n",
              "      <td>amod</td>\n",
              "      <td>пошлины</td>\n",
              "      <td>inan</td>\n",
              "      <td>nomn</td>\n",
              "      <td>femn</td>\n",
              "      <td>NOUN</td>\n",
              "      <td>[ 0.7365944  -0.48505062 -0.00257558  0.168963...</td>\n",
              "      <td>[ 1.00772209e-01  6.29534647e-02 -3.53814550e-...</td>\n",
              "      <td>[ 0.41243815  0.190811   -0.11933009  0.042429...</td>\n",
              "      <td>0</td>\n",
              "      <td>0</td>\n",
              "    </tr>\n",
              "    <tr>\n",
              "      <th>26494</th>\n",
              "      <td>пошлины</td>\n",
              "      <td>[ 0.7365944  -0.48505062 -0.00257558  0.168963...</td>\n",
              "      <td>0</td>\n",
              "      <td>22</td>\n",
              "      <td>68</td>\n",
              "      <td>0</td>\n",
              "      <td>9</td>\n",
              "      <td>inan</td>\n",
              "      <td>nomn</td>\n",
              "      <td>femn</td>\n",
              "      <td>NaN</td>\n",
              "      <td>NOUN</td>\n",
              "      <td>nsubj</td>\n",
              "      <td>есть</td>\n",
              "      <td>NaN</td>\n",
              "      <td>NaN</td>\n",
              "      <td>NaN</td>\n",
              "      <td>INFN</td>\n",
              "      <td>[-0.0050342   0.14796825  0.08416066 -0.776544...</td>\n",
              "      <td>[ 1.00772209e-01  6.29534647e-02 -3.53814550e-...</td>\n",
              "      <td>[ 5.7842094e-01  9.1962010e-02 -1.9555457e-01 ...</td>\n",
              "      <td>0</td>\n",
              "      <td>0</td>\n",
              "    </tr>\n",
              "    <tr>\n",
              "      <th>26495</th>\n",
              "      <td>как</td>\n",
              "      <td>[ 1.0349948e+00  7.3793733e-01 -3.8374668e-01 ...</td>\n",
              "      <td>0</td>\n",
              "      <td>22</td>\n",
              "      <td>68</td>\n",
              "      <td>0</td>\n",
              "      <td>10</td>\n",
              "      <td>NaN</td>\n",
              "      <td>NaN</td>\n",
              "      <td>NaN</td>\n",
              "      <td>NaN</td>\n",
              "      <td>CONJ</td>\n",
              "      <td>advmod</td>\n",
              "      <td>есть</td>\n",
              "      <td>NaN</td>\n",
              "      <td>NaN</td>\n",
              "      <td>NaN</td>\n",
              "      <td>INFN</td>\n",
              "      <td>[-0.0050342   0.14796825  0.08416066 -0.776544...</td>\n",
              "      <td>[ 1.00772209e-01  6.29534647e-02 -3.53814550e-...</td>\n",
              "      <td>[ 5.7842094e-01  9.1962010e-02 -1.9555457e-01 ...</td>\n",
              "      <td>0</td>\n",
              "      <td>0</td>\n",
              "    </tr>\n",
              "    <tr>\n",
              "      <th>26496</th>\n",
              "      <td>светка</td>\n",
              "      <td>[ 0.5079827   0.70259637  0.12796001 -0.312092...</td>\n",
              "      <td>0</td>\n",
              "      <td>22</td>\n",
              "      <td>69</td>\n",
              "      <td>0</td>\n",
              "      <td>0</td>\n",
              "      <td>inan</td>\n",
              "      <td>nomn</td>\n",
              "      <td>femn</td>\n",
              "      <td>NaN</td>\n",
              "      <td>NOUN</td>\n",
              "      <td>ROOT</td>\n",
              "      <td>светка</td>\n",
              "      <td>inan</td>\n",
              "      <td>nomn</td>\n",
              "      <td>femn</td>\n",
              "      <td>NOUN</td>\n",
              "      <td>[ 0.5079827   0.70259637  0.12796001 -0.312092...</td>\n",
              "      <td>[ 0.5079827   0.70259637  0.12796001 -0.312092...</td>\n",
              "      <td>0.0</td>\n",
              "      <td>0</td>\n",
              "      <td>0</td>\n",
              "    </tr>\n",
              "  </tbody>\n",
              "</table>\n",
              "<p>26497 rows × 23 columns</p>\n",
              "</div>"
            ],
            "text/plain": [
              "            TOKEN  ... COREFERENCE_CLUSTER\n",
              "0       обсуждаем  ...                   0\n",
              "1        препарат  ...                   0\n",
              "2      рисперидон  ...                   0\n",
              "3       рисполепт  ...                   0\n",
              "4        сперидан  ...                   0\n",
              "...           ...  ...                 ...\n",
              "26492           и  ...                   0\n",
              "26493  таможенные  ...                   0\n",
              "26494     пошлины  ...                   0\n",
              "26495         как  ...                   0\n",
              "26496      светка  ...                   0\n",
              "\n",
              "[26497 rows x 23 columns]"
            ]
          },
          "metadata": {
            "tags": []
          },
          "execution_count": 60
        }
      ]
    },
    {
      "cell_type": "code",
      "metadata": {
        "colab": {
          "base_uri": "https://localhost:8080/"
        },
        "id": "Eoht1lnExJHw",
        "outputId": "a43a7b85-3d23-4143-dafe-86c4138c8003"
      },
      "source": [
        "cosine_similarity([np.matrix(cor_df.TOKEN_VECT[2]).A[0]], [np.matrix(cor_df.TOKEN_VECT[3]).A[0]])[-1][-1]"
      ],
      "execution_count": 61,
      "outputs": [
        {
          "output_type": "execute_result",
          "data": {
            "text/plain": [
              "0.8436395154681279"
            ]
          },
          "metadata": {
            "tags": []
          },
          "execution_count": 61
        }
      ]
    },
    {
      "cell_type": "markdown",
      "metadata": {
        "id": "ZcUH3c9e2Zwe"
      },
      "source": [
        "# **VECTORS HANDLING**"
      ]
    },
    {
      "cell_type": "markdown",
      "metadata": {
        "id": "vtuQeIa7qo7B"
      },
      "source": [
        "Изменяем значения векторов предложений, главного слова группы, зависимых слов группы, и токена на косинусную дистанцию с семантической осью.\n",
        "\n",
        "Сначала, изменим строковое представление на массив."
      ]
    },
    {
      "cell_type": "code",
      "metadata": {
        "id": "pSkpdVWPWofo"
      },
      "source": [
        "cor_df.TOKEN_VECT = [np.matrix(i).A[0] for i in cor_df.TOKEN_VECT]"
      ],
      "execution_count": 62,
      "outputs": []
    },
    {
      "cell_type": "code",
      "metadata": {
        "id": "C33A2cSUzukQ"
      },
      "source": [
        "cor_df.HEAD_VECT = [np.matrix(i).A[0] for i in cor_df.HEAD_VECT]"
      ],
      "execution_count": 63,
      "outputs": []
    },
    {
      "cell_type": "code",
      "metadata": {
        "id": "j5URCPhbzvJD"
      },
      "source": [
        "cor_df.SENT_VECT = [np.matrix(i).A[0] for i in cor_df.SENT_VECT]"
      ],
      "execution_count": 64,
      "outputs": []
    },
    {
      "cell_type": "code",
      "metadata": {
        "id": "-q3XR08zz76n"
      },
      "source": [
        "cor_df.HEAD_CHILDS_VECT = [np.matrix(i).A[0] for i in cor_df.HEAD_CHILDS_VECT]"
      ],
      "execution_count": 65,
      "outputs": []
    },
    {
      "cell_type": "markdown",
      "metadata": {
        "id": "pHpVo0QmrWzE"
      },
      "source": [
        "Добавим размеченные данные, и посмотрим, что получилось."
      ]
    },
    {
      "cell_type": "code",
      "metadata": {
        "id": "FGLkZXITh3BZ"
      },
      "source": [
        "cor_df['NER'] = anns_df['NER']\n",
        "cor_df['COREFERENCE_CLUSTER'] = anns_df['COREFERENCE_CLUSTER']\n",
        "# cor_df"
      ],
      "execution_count": 66,
      "outputs": []
    },
    {
      "cell_type": "markdown",
      "metadata": {
        "id": "9EK9eAjjr8Vm"
      },
      "source": [
        "Ограничим датафрейм теми данными, которые были размечены, чтобы была возможность провести оценку системы."
      ]
    },
    {
      "cell_type": "code",
      "metadata": {
        "id": "8zzHN3oQjNoC"
      },
      "source": [
        "df = cor_df.iloc[:8060,:]"
      ],
      "execution_count": 67,
      "outputs": []
    },
    {
      "cell_type": "markdown",
      "metadata": {
        "id": "Md-DxsOHsLN2"
      },
      "source": [
        "Всего наименований препаратов размечено (это не обязательно антецеденты, любое название препарата)."
      ]
    },
    {
      "cell_type": "code",
      "metadata": {
        "colab": {
          "base_uri": "https://localhost:8080/"
        },
        "id": "ZUxdUD5ZWpku",
        "outputId": "316423e2-b985-4e69-a8a7-eaacfff5c861"
      },
      "source": [
        "len(df.loc[df['NER'] == 1])"
      ],
      "execution_count": 68,
      "outputs": [
        {
          "output_type": "execute_result",
          "data": {
            "text/plain": [
              "358"
            ]
          },
          "metadata": {
            "tags": []
          },
          "execution_count": 68
        }
      ]
    },
    {
      "cell_type": "markdown",
      "metadata": {
        "id": "0kDh_Mw0sO8N"
      },
      "source": [
        "Из них местоимений (прономинальные анафоры)."
      ]
    },
    {
      "cell_type": "code",
      "metadata": {
        "colab": {
          "base_uri": "https://localhost:8080/"
        },
        "id": "4Te0h4xrlvUH",
        "outputId": "95001e86-b74a-4878-becb-a4ada2217556"
      },
      "source": [
        "len(df.loc[df['NER'] == 3])"
      ],
      "execution_count": 69,
      "outputs": [
        {
          "output_type": "execute_result",
          "data": {
            "text/plain": [
              "70"
            ]
          },
          "metadata": {
            "tags": []
          },
          "execution_count": 69
        }
      ]
    },
    {
      "cell_type": "markdown",
      "metadata": {
        "id": "DfRQXgXqsbC2"
      },
      "source": [
        "И номинативные анафоры существительные, такие как \"препарат\" и \"лекарство\". В основном это они и есть."
      ]
    },
    {
      "cell_type": "code",
      "metadata": {
        "colab": {
          "base_uri": "https://localhost:8080/"
        },
        "id": "M1CiLnyGltqt",
        "outputId": "2347873a-1f2a-441b-8e2d-7a238f37f8ba"
      },
      "source": [
        "len(df.loc[df['NER'] == 2])"
      ],
      "execution_count": 70,
      "outputs": [
        {
          "output_type": "execute_result",
          "data": {
            "text/plain": [
              "124"
            ]
          },
          "metadata": {
            "tags": []
          },
          "execution_count": 70
        }
      ]
    },
    {
      "cell_type": "code",
      "metadata": {
        "colab": {
          "base_uri": "https://localhost:8080/"
        },
        "id": "FB-5d7uAn6Jl",
        "outputId": "f7258fb8-6f70-49a6-f93f-c22a09f0613c"
      },
      "source": [
        "len(df.loc[df['NER'].isin([1,2,3])])"
      ],
      "execution_count": 71,
      "outputs": [
        {
          "output_type": "execute_result",
          "data": {
            "text/plain": [
              "552"
            ]
          },
          "metadata": {
            "tags": []
          },
          "execution_count": 71
        }
      ]
    },
    {
      "cell_type": "markdown",
      "metadata": {
        "id": "IHxSn2iAtJW-"
      },
      "source": [
        "Посмотрим на данные."
      ]
    },
    {
      "cell_type": "code",
      "metadata": {
        "colab": {
          "base_uri": "https://localhost:8080/",
          "height": 945
        },
        "id": "0t2P18AaoYk7",
        "outputId": "d9164ed2-16c2-4d8d-c121-bafa13a6b220"
      },
      "source": [
        "df.loc[df['NER'].isin([1,2,3])]"
      ],
      "execution_count": 72,
      "outputs": [
        {
          "output_type": "execute_result",
          "data": {
            "text/html": [
              "<div>\n",
              "<style scoped>\n",
              "    .dataframe tbody tr th:only-of-type {\n",
              "        vertical-align: middle;\n",
              "    }\n",
              "\n",
              "    .dataframe tbody tr th {\n",
              "        vertical-align: top;\n",
              "    }\n",
              "\n",
              "    .dataframe thead th {\n",
              "        text-align: right;\n",
              "    }\n",
              "</style>\n",
              "<table border=\"1\" class=\"dataframe\">\n",
              "  <thead>\n",
              "    <tr style=\"text-align: right;\">\n",
              "      <th></th>\n",
              "      <th>TOKEN</th>\n",
              "      <th>TOKEN_VECT</th>\n",
              "      <th>IS_ANSWER</th>\n",
              "      <th>TOPIC_NUM</th>\n",
              "      <th>POST_NUM</th>\n",
              "      <th>SENT_NUM</th>\n",
              "      <th>TOKEN_NUM</th>\n",
              "      <th>ANIMACY</th>\n",
              "      <th>CASE</th>\n",
              "      <th>GENDER</th>\n",
              "      <th>PERSON</th>\n",
              "      <th>POS</th>\n",
              "      <th>DEPENDENCY</th>\n",
              "      <th>HEAD</th>\n",
              "      <th>HEAD_ANIMACY</th>\n",
              "      <th>HEAD_CASE</th>\n",
              "      <th>HEAD_GENDER</th>\n",
              "      <th>HEAD_POS</th>\n",
              "      <th>HEAD_VECT</th>\n",
              "      <th>SENT_VECT</th>\n",
              "      <th>HEAD_CHILDS_VECT</th>\n",
              "      <th>NER</th>\n",
              "      <th>COREFERENCE_CLUSTER</th>\n",
              "    </tr>\n",
              "  </thead>\n",
              "  <tbody>\n",
              "    <tr>\n",
              "      <th>2</th>\n",
              "      <td>рисперидон</td>\n",
              "      <td>[0.15259643, 1.0673474, 0.84192747, -0.0775155...</td>\n",
              "      <td>0</td>\n",
              "      <td>1</td>\n",
              "      <td>0</td>\n",
              "      <td>0</td>\n",
              "      <td>2</td>\n",
              "      <td>anim</td>\n",
              "      <td>nomn</td>\n",
              "      <td>masc</td>\n",
              "      <td>NaN</td>\n",
              "      <td>NOUN</td>\n",
              "      <td>appos</td>\n",
              "      <td>препарат</td>\n",
              "      <td>inan</td>\n",
              "      <td>nomn</td>\n",
              "      <td>masc</td>\n",
              "      <td>NOUN</td>\n",
              "      <td>[-0.17725945, 0.94834274, 0.90867615, 0.850609...</td>\n",
              "      <td>[0.01863711, 0.2306802, 0.14600733, -0.0191193...</td>\n",
              "      <td>[0.15259643, 1.0673474, 0.84192747, -0.0775155...</td>\n",
              "      <td>1.0</td>\n",
              "      <td>2.0</td>\n",
              "    </tr>\n",
              "    <tr>\n",
              "      <th>3</th>\n",
              "      <td>рисполепт</td>\n",
              "      <td>[0.012426247, 1.0408522, 0.6913349, -0.1638528...</td>\n",
              "      <td>0</td>\n",
              "      <td>1</td>\n",
              "      <td>0</td>\n",
              "      <td>0</td>\n",
              "      <td>3</td>\n",
              "      <td>inan</td>\n",
              "      <td>gent</td>\n",
              "      <td>femn</td>\n",
              "      <td>NaN</td>\n",
              "      <td>NOUN</td>\n",
              "      <td>parataxis</td>\n",
              "      <td>рисперидон</td>\n",
              "      <td>anim</td>\n",
              "      <td>nomn</td>\n",
              "      <td>masc</td>\n",
              "      <td>NOUN</td>\n",
              "      <td>[0.15259643, 1.0673474, 0.84192747, -0.0775155...</td>\n",
              "      <td>[0.01863711, 0.2306802, 0.14600733, -0.0191193...</td>\n",
              "      <td>[0.012426247, 1.0408522, 0.6913349, -0.1638528...</td>\n",
              "      <td>1.0</td>\n",
              "      <td>3.0</td>\n",
              "    </tr>\n",
              "    <tr>\n",
              "      <th>4</th>\n",
              "      <td>сперидан</td>\n",
              "      <td>[0.08634768, 0.893356, 0.55127096, -0.06507572...</td>\n",
              "      <td>0</td>\n",
              "      <td>1</td>\n",
              "      <td>0</td>\n",
              "      <td>0</td>\n",
              "      <td>4</td>\n",
              "      <td>NaN</td>\n",
              "      <td>NaN</td>\n",
              "      <td>masc</td>\n",
              "      <td>NaN</td>\n",
              "      <td>PRTS</td>\n",
              "      <td>conj</td>\n",
              "      <td>рисполепт</td>\n",
              "      <td>inan</td>\n",
              "      <td>gent</td>\n",
              "      <td>femn</td>\n",
              "      <td>NOUN</td>\n",
              "      <td>[0.012426247, 1.0408522, 0.6913349, -0.1638528...</td>\n",
              "      <td>[0.01863711, 0.2306802, 0.14600733, -0.0191193...</td>\n",
              "      <td>[0.02878256, 0.29778534, 0.18375699, -0.021691...</td>\n",
              "      <td>1.0</td>\n",
              "      <td>4.0</td>\n",
              "    </tr>\n",
              "    <tr>\n",
              "      <th>21</th>\n",
              "      <td>лекарством</td>\n",
              "      <td>[0.598588, -0.07832722, 0.23088205, -0.3704158...</td>\n",
              "      <td>0</td>\n",
              "      <td>1</td>\n",
              "      <td>1</td>\n",
              "      <td>1</td>\n",
              "      <td>10</td>\n",
              "      <td>inan</td>\n",
              "      <td>ablt</td>\n",
              "      <td>neut</td>\n",
              "      <td>NaN</td>\n",
              "      <td>NOUN</td>\n",
              "      <td>conj</td>\n",
              "      <td>нет</td>\n",
              "      <td>NaN</td>\n",
              "      <td>NaN</td>\n",
              "      <td>NaN</td>\n",
              "      <td>PRED</td>\n",
              "      <td>[1.3479745, 0.34477097, 0.20343542, 0.10220611...</td>\n",
              "      <td>[0.05498165, -0.00549405, 0.01865345, -0.03142...</td>\n",
              "      <td>[0.42120528, 0.21546456, 0.00441866, -0.240917...</td>\n",
              "      <td>2.0</td>\n",
              "      <td>0.0</td>\n",
              "    </tr>\n",
              "    <tr>\n",
              "      <th>142</th>\n",
              "      <td>рисполепта</td>\n",
              "      <td>[0.20826544, 0.5118653, 0.6703367, -0.22502856...</td>\n",
              "      <td>0</td>\n",
              "      <td>1</td>\n",
              "      <td>1</td>\n",
              "      <td>13</td>\n",
              "      <td>7</td>\n",
              "      <td>inan</td>\n",
              "      <td>nomn</td>\n",
              "      <td>femn</td>\n",
              "      <td>NaN</td>\n",
              "      <td>NOUN</td>\n",
              "      <td>nmod</td>\n",
              "      <td>дозировку</td>\n",
              "      <td>inan</td>\n",
              "      <td>accs</td>\n",
              "      <td>femn</td>\n",
              "      <td>NOUN</td>\n",
              "      <td>[0.5131939, 0.9708054, 0.53676724, 0.09788364,...</td>\n",
              "      <td>[0.11585727, 0.1283627, 0.02299715, -0.0095005...</td>\n",
              "      <td>[0.28126505, 0.3790152, 0.5397224, -0.09368, -...</td>\n",
              "      <td>1.0</td>\n",
              "      <td>142.0</td>\n",
              "    </tr>\n",
              "    <tr>\n",
              "      <th>...</th>\n",
              "      <td>...</td>\n",
              "      <td>...</td>\n",
              "      <td>...</td>\n",
              "      <td>...</td>\n",
              "      <td>...</td>\n",
              "      <td>...</td>\n",
              "      <td>...</td>\n",
              "      <td>...</td>\n",
              "      <td>...</td>\n",
              "      <td>...</td>\n",
              "      <td>...</td>\n",
              "      <td>...</td>\n",
              "      <td>...</td>\n",
              "      <td>...</td>\n",
              "      <td>...</td>\n",
              "      <td>...</td>\n",
              "      <td>...</td>\n",
              "      <td>...</td>\n",
              "      <td>...</td>\n",
              "      <td>...</td>\n",
              "      <td>...</td>\n",
              "      <td>...</td>\n",
              "      <td>...</td>\n",
              "    </tr>\n",
              "    <tr>\n",
              "      <th>7998</th>\n",
              "      <td>ибупрофена</td>\n",
              "      <td>[0.41528076, 0.26439488, 0.2783114, 0.14523816...</td>\n",
              "      <td>1</td>\n",
              "      <td>5</td>\n",
              "      <td>46</td>\n",
              "      <td>0</td>\n",
              "      <td>1796</td>\n",
              "      <td>inan</td>\n",
              "      <td>gent</td>\n",
              "      <td>masc</td>\n",
              "      <td>NaN</td>\n",
              "      <td>NOUN</td>\n",
              "      <td>ROOT</td>\n",
              "      <td>ибупрофена</td>\n",
              "      <td>inan</td>\n",
              "      <td>gent</td>\n",
              "      <td>masc</td>\n",
              "      <td>NOUN</td>\n",
              "      <td>[0.41528076, 0.26439488, 0.2783114, 0.14523816...</td>\n",
              "      <td>[0.06112305, 0.05345329, 0.06121647, 0.0147250...</td>\n",
              "      <td>[0]</td>\n",
              "      <td>1.0</td>\n",
              "      <td>1800.0</td>\n",
              "    </tr>\n",
              "    <tr>\n",
              "      <th>8013</th>\n",
              "      <td>ибупрофена</td>\n",
              "      <td>[0.41528076, 0.26439488, 0.2783114, 0.14523816...</td>\n",
              "      <td>1</td>\n",
              "      <td>5</td>\n",
              "      <td>47</td>\n",
              "      <td>0</td>\n",
              "      <td>1811</td>\n",
              "      <td>inan</td>\n",
              "      <td>gent</td>\n",
              "      <td>masc</td>\n",
              "      <td>NaN</td>\n",
              "      <td>NOUN</td>\n",
              "      <td>nmod</td>\n",
              "      <td>мг</td>\n",
              "      <td>inan</td>\n",
              "      <td>nomn</td>\n",
              "      <td>masc</td>\n",
              "      <td>NOUN</td>\n",
              "      <td>[0.0851192921, 0.789108872, 0.923557222, -0.23...</td>\n",
              "      <td>[0.0163466763, 0.00905085634, 0.00171076425, 0...</td>\n",
              "      <td>[0.34105581, 0.245229617, 0.321489245, 0.23382...</td>\n",
              "      <td>1.0</td>\n",
              "      <td>1815.0</td>\n",
              "    </tr>\n",
              "    <tr>\n",
              "      <th>8014</th>\n",
              "      <td>аскофен</td>\n",
              "      <td>[0.07804646, 0.12211595, 0.687455, 0.5667267, ...</td>\n",
              "      <td>1</td>\n",
              "      <td>5</td>\n",
              "      <td>47</td>\n",
              "      <td>0</td>\n",
              "      <td>1812</td>\n",
              "      <td>inan</td>\n",
              "      <td>nomn</td>\n",
              "      <td>masc</td>\n",
              "      <td>NaN</td>\n",
              "      <td>NOUN</td>\n",
              "      <td>nsubj</td>\n",
              "      <td>называется</td>\n",
              "      <td>NaN</td>\n",
              "      <td>NaN</td>\n",
              "      <td>NaN</td>\n",
              "      <td>VERB</td>\n",
              "      <td>[-0.24524373, 0.20882072, 0.11129183, -0.17496...</td>\n",
              "      <td>[0.0163466763, 0.00905085634, 0.00171076425, 0...</td>\n",
              "      <td>[-0.08169067, 0.38310084, 0.4216038, -0.049363...</td>\n",
              "      <td>1.0</td>\n",
              "      <td>1816.0</td>\n",
              "    </tr>\n",
              "    <tr>\n",
              "      <th>8057</th>\n",
              "      <td>ибупрофена</td>\n",
              "      <td>[0.41528076, 0.26439488, 0.2783114, 0.14523816...</td>\n",
              "      <td>1</td>\n",
              "      <td>5</td>\n",
              "      <td>48</td>\n",
              "      <td>0</td>\n",
              "      <td>1855</td>\n",
              "      <td>inan</td>\n",
              "      <td>gent</td>\n",
              "      <td>masc</td>\n",
              "      <td>NaN</td>\n",
              "      <td>NOUN</td>\n",
              "      <td>nmod</td>\n",
              "      <td>мг</td>\n",
              "      <td>inan</td>\n",
              "      <td>nomn</td>\n",
              "      <td>masc</td>\n",
              "      <td>NOUN</td>\n",
              "      <td>[0.0851192921, 0.789108872, 0.923557222, -0.23...</td>\n",
              "      <td>[0.00764887, -0.00614425, 0.02870062, 0.012436...</td>\n",
              "      <td>[0.34105581, 0.245229617, 0.321489245, 0.23382...</td>\n",
              "      <td>1.0</td>\n",
              "      <td>1859.0</td>\n",
              "    </tr>\n",
              "    <tr>\n",
              "      <th>8059</th>\n",
              "      <td>нурофен</td>\n",
              "      <td>[0.90214854, -0.27407125, 0.2530257, 1.6222421...</td>\n",
              "      <td>1</td>\n",
              "      <td>5</td>\n",
              "      <td>48</td>\n",
              "      <td>0</td>\n",
              "      <td>1857</td>\n",
              "      <td>inan</td>\n",
              "      <td>nomn</td>\n",
              "      <td>masc</td>\n",
              "      <td>NaN</td>\n",
              "      <td>NOUN</td>\n",
              "      <td>parataxis</td>\n",
              "      <td>ибупрофен</td>\n",
              "      <td>NaN</td>\n",
              "      <td>NaN</td>\n",
              "      <td>masc</td>\n",
              "      <td>ADJS</td>\n",
              "      <td>[0.56447846, 0.32898948, 0.42630774, 0.7194719...</td>\n",
              "      <td>[0.00764887, -0.00614425, 0.02870062, 0.012436...</td>\n",
              "      <td>[0.90214854, -0.27407125, 0.2530257, 1.6222421...</td>\n",
              "      <td>1.0</td>\n",
              "      <td>1861.0</td>\n",
              "    </tr>\n",
              "  </tbody>\n",
              "</table>\n",
              "<p>552 rows × 23 columns</p>\n",
              "</div>"
            ],
            "text/plain": [
              "           TOKEN  ... COREFERENCE_CLUSTER\n",
              "2     рисперидон  ...                 2.0\n",
              "3      рисполепт  ...                 3.0\n",
              "4       сперидан  ...                 4.0\n",
              "21    лекарством  ...                 0.0\n",
              "142   рисполепта  ...               142.0\n",
              "...          ...  ...                 ...\n",
              "7998  ибупрофена  ...              1800.0\n",
              "8013  ибупрофена  ...              1815.0\n",
              "8014     аскофен  ...              1816.0\n",
              "8057  ибупрофена  ...              1859.0\n",
              "8059     нурофен  ...              1861.0\n",
              "\n",
              "[552 rows x 23 columns]"
            ]
          },
          "metadata": {
            "tags": []
          },
          "execution_count": 72
        }
      ]
    },
    {
      "cell_type": "markdown",
      "metadata": {
        "id": "ilbjEHUW2d0c"
      },
      "source": [
        "# **SEMANTIC AXIS**"
      ]
    },
    {
      "cell_type": "markdown",
      "metadata": {
        "id": "ICYR890StPgM"
      },
      "source": [
        "Реализация метода семантических осей.\n",
        "Сначала, выбираем первые предложения каждого топика. Посмотрим на них."
      ]
    },
    {
      "cell_type": "code",
      "metadata": {
        "colab": {
          "base_uri": "https://localhost:8080/",
          "height": 477
        },
        "id": "tEK7B7NT8kb5",
        "outputId": "5a23f861-97ad-4938-e9af-e6da3380a0cd"
      },
      "source": [
        "axis_df = df.query('POST_NUM == 0 and TOKEN_NUM == 2 and SENT_NUM == 0')\n",
        "axis_df"
      ],
      "execution_count": 73,
      "outputs": [
        {
          "output_type": "execute_result",
          "data": {
            "text/html": [
              "<div>\n",
              "<style scoped>\n",
              "    .dataframe tbody tr th:only-of-type {\n",
              "        vertical-align: middle;\n",
              "    }\n",
              "\n",
              "    .dataframe tbody tr th {\n",
              "        vertical-align: top;\n",
              "    }\n",
              "\n",
              "    .dataframe thead th {\n",
              "        text-align: right;\n",
              "    }\n",
              "</style>\n",
              "<table border=\"1\" class=\"dataframe\">\n",
              "  <thead>\n",
              "    <tr style=\"text-align: right;\">\n",
              "      <th></th>\n",
              "      <th>TOKEN</th>\n",
              "      <th>TOKEN_VECT</th>\n",
              "      <th>IS_ANSWER</th>\n",
              "      <th>TOPIC_NUM</th>\n",
              "      <th>POST_NUM</th>\n",
              "      <th>SENT_NUM</th>\n",
              "      <th>TOKEN_NUM</th>\n",
              "      <th>ANIMACY</th>\n",
              "      <th>CASE</th>\n",
              "      <th>GENDER</th>\n",
              "      <th>PERSON</th>\n",
              "      <th>POS</th>\n",
              "      <th>DEPENDENCY</th>\n",
              "      <th>HEAD</th>\n",
              "      <th>HEAD_ANIMACY</th>\n",
              "      <th>HEAD_CASE</th>\n",
              "      <th>HEAD_GENDER</th>\n",
              "      <th>HEAD_POS</th>\n",
              "      <th>HEAD_VECT</th>\n",
              "      <th>SENT_VECT</th>\n",
              "      <th>HEAD_CHILDS_VECT</th>\n",
              "      <th>NER</th>\n",
              "      <th>COREFERENCE_CLUSTER</th>\n",
              "    </tr>\n",
              "  </thead>\n",
              "  <tbody>\n",
              "    <tr>\n",
              "      <th>2</th>\n",
              "      <td>рисперидон</td>\n",
              "      <td>[0.15259643, 1.0673474, 0.84192747, -0.0775155...</td>\n",
              "      <td>0</td>\n",
              "      <td>1</td>\n",
              "      <td>0</td>\n",
              "      <td>0</td>\n",
              "      <td>2</td>\n",
              "      <td>anim</td>\n",
              "      <td>nomn</td>\n",
              "      <td>masc</td>\n",
              "      <td>NaN</td>\n",
              "      <td>NOUN</td>\n",
              "      <td>appos</td>\n",
              "      <td>препарат</td>\n",
              "      <td>inan</td>\n",
              "      <td>nomn</td>\n",
              "      <td>masc</td>\n",
              "      <td>NOUN</td>\n",
              "      <td>[-0.17725945, 0.94834274, 0.90867615, 0.850609...</td>\n",
              "      <td>[0.01863711, 0.2306802, 0.14600733, -0.0191193...</td>\n",
              "      <td>[0.15259643, 1.0673474, 0.84192747, -0.0775155...</td>\n",
              "      <td>1.0</td>\n",
              "      <td>2.0</td>\n",
              "    </tr>\n",
              "    <tr>\n",
              "      <th>576</th>\n",
              "      <td>зелдокс</td>\n",
              "      <td>[0.2465947, 1.0097265, 0.31869438, 0.07363212,...</td>\n",
              "      <td>0</td>\n",
              "      <td>2</td>\n",
              "      <td>0</td>\n",
              "      <td>0</td>\n",
              "      <td>2</td>\n",
              "      <td>inan</td>\n",
              "      <td>nomn</td>\n",
              "      <td>masc</td>\n",
              "      <td>NaN</td>\n",
              "      <td>NOUN</td>\n",
              "      <td>appos</td>\n",
              "      <td>препарат</td>\n",
              "      <td>inan</td>\n",
              "      <td>nomn</td>\n",
              "      <td>masc</td>\n",
              "      <td>NOUN</td>\n",
              "      <td>[-0.17725945, 0.94834274, 0.90867615, 0.850609...</td>\n",
              "      <td>[0.03948287, 0.24082112, 0.22588146, -0.017884...</td>\n",
              "      <td>[0.2465947, 1.0097265, 0.31869438, 0.07363212,...</td>\n",
              "      <td>1.0</td>\n",
              "      <td>2.0</td>\n",
              "    </tr>\n",
              "    <tr>\n",
              "      <th>1870</th>\n",
              "      <td>оланзапин</td>\n",
              "      <td>[-0.082683861, 1.2017089, 0.67815673, -0.22599...</td>\n",
              "      <td>0</td>\n",
              "      <td>3</td>\n",
              "      <td>0</td>\n",
              "      <td>0</td>\n",
              "      <td>2</td>\n",
              "      <td>inan</td>\n",
              "      <td>gent</td>\n",
              "      <td>femn</td>\n",
              "      <td>NaN</td>\n",
              "      <td>NOUN</td>\n",
              "      <td>appos</td>\n",
              "      <td>препарат</td>\n",
              "      <td>inan</td>\n",
              "      <td>nomn</td>\n",
              "      <td>masc</td>\n",
              "      <td>NOUN</td>\n",
              "      <td>[-0.17725945, 0.94834274, 0.90867615, 0.850609...</td>\n",
              "      <td>[0.01915067, 0.0875298, 0.09080387, 0.00378973...</td>\n",
              "      <td>[-0.082683861, 1.2017089, 0.67815673, -0.22599...</td>\n",
              "      <td>1.0</td>\n",
              "      <td>2.0</td>\n",
              "    </tr>\n",
              "    <tr>\n",
              "      <th>5555</th>\n",
              "      <td>галоперидол</td>\n",
              "      <td>[-0.03019532, 1.2394575, 0.18222564, -0.215572...</td>\n",
              "      <td>0</td>\n",
              "      <td>4</td>\n",
              "      <td>0</td>\n",
              "      <td>0</td>\n",
              "      <td>2</td>\n",
              "      <td>inan</td>\n",
              "      <td>nomn</td>\n",
              "      <td>masc</td>\n",
              "      <td>NaN</td>\n",
              "      <td>NOUN</td>\n",
              "      <td>obj</td>\n",
              "      <td>обсуждаем</td>\n",
              "      <td>NaN</td>\n",
              "      <td>NaN</td>\n",
              "      <td>NaN</td>\n",
              "      <td>VERB</td>\n",
              "      <td>[-0.208233938, 0.996180058, -0.279894114, -0.9...</td>\n",
              "      <td>[-0.03747297, 0.5554195, 0.15133946, -0.011017...</td>\n",
              "      <td>[-0.10372739, 1.0939001, 0.5454509, 0.3175185,...</td>\n",
              "      <td>1.0</td>\n",
              "      <td>2.0</td>\n",
              "    </tr>\n",
              "    <tr>\n",
              "      <th>6200</th>\n",
              "      <td>тиаприд</td>\n",
              "      <td>[0.27581334, 0.80696917, 1.0271364, -0.1037090...</td>\n",
              "      <td>0</td>\n",
              "      <td>5</td>\n",
              "      <td>0</td>\n",
              "      <td>0</td>\n",
              "      <td>2</td>\n",
              "      <td>anim</td>\n",
              "      <td>nomn</td>\n",
              "      <td>masc</td>\n",
              "      <td>NaN</td>\n",
              "      <td>NOUN</td>\n",
              "      <td>appos</td>\n",
              "      <td>препарат</td>\n",
              "      <td>inan</td>\n",
              "      <td>nomn</td>\n",
              "      <td>masc</td>\n",
              "      <td>NOUN</td>\n",
              "      <td>[-0.17725945, 0.94834274, 0.90867615, 0.850609...</td>\n",
              "      <td>[0.10855111, 0.28903672, 0.2550475, -0.0276597...</td>\n",
              "      <td>[0.27581334, 0.80696917, 1.0271364, -0.1037090...</td>\n",
              "      <td>1.0</td>\n",
              "      <td>3.0</td>\n",
              "    </tr>\n",
              "  </tbody>\n",
              "</table>\n",
              "</div>"
            ],
            "text/plain": [
              "            TOKEN  ... COREFERENCE_CLUSTER\n",
              "2      рисперидон  ...                 2.0\n",
              "576       зелдокс  ...                 2.0\n",
              "1870    оланзапин  ...                 2.0\n",
              "5555  галоперидол  ...                 2.0\n",
              "6200      тиаприд  ...                 3.0\n",
              "\n",
              "[5 rows x 23 columns]"
            ]
          },
          "metadata": {
            "tags": []
          },
          "execution_count": 73
        }
      ]
    },
    {
      "cell_type": "code",
      "metadata": {
        "id": "GEiKxebuCPsC"
      },
      "source": [
        "# sum(df.query('POST_NUM == 0 and TOKEN_NUM == 2 and SENT_NUM == 0').TOKEN_VECT)/len(df.query('POST_NUM == 0 and TOKEN_NUM == 2 and SENT_NUM == 0').TOKEN_VECT)"
      ],
      "execution_count": 74,
      "outputs": []
    },
    {
      "cell_type": "markdown",
      "metadata": {
        "id": "r-A7JcK3tsVt"
      },
      "source": [
        "Суммируем верктора токенов, главных слов, предложения целиком, и зависимых слов. Нормализуем."
      ]
    },
    {
      "cell_type": "code",
      "metadata": {
        "id": "0ESW3_xq2h0O"
      },
      "source": [
        "token_axe = sum(axis_df.TOKEN_VECT)/len(axis_df.TOKEN_VECT)\n",
        "head_axe = sum(axis_df.HEAD_VECT)/len(axis_df.HEAD_VECT)\n",
        "head_childs_axe = sum(axis_df.HEAD_CHILDS_VECT)/len(axis_df.HEAD_CHILDS_VECT)\n",
        "sent_axe = sum(axis_df.SENT_VECT)/len(axis_df.SENT_VECT)"
      ],
      "execution_count": 75,
      "outputs": []
    },
    {
      "cell_type": "code",
      "metadata": {
        "colab": {
          "base_uri": "https://localhost:8080/"
        },
        "id": "1NmYmDIwIbPS",
        "outputId": "d80fff4f-daa1-476d-873e-846ef0c59b79"
      },
      "source": [
        "df.TOKEN_VECT[710]"
      ],
      "execution_count": 76,
      "outputs": [
        {
          "output_type": "execute_result",
          "data": {
            "text/plain": [
              "array([nan])"
            ]
          },
          "metadata": {
            "tags": []
          },
          "execution_count": 76
        }
      ]
    },
    {
      "cell_type": "markdown",
      "metadata": {
        "id": "7La2_kyRuXYI"
      },
      "source": [
        "Функция, которая заменяет столбец с векторами на столбец со значениями косинусной дистанции с соответствующей семантической осью.\n"
      ]
    },
    {
      "cell_type": "code",
      "metadata": {
        "id": "qGfEFxcRHBZz"
      },
      "source": [
        "def make_similarity(df, col, axe):\n",
        "  new_col = []\n",
        "  for ind, vect in enumerate(df[col]):\n",
        "    try:\n",
        "      new_col.append(cosine_similarity([axe], [vect])[-1][-1])\n",
        "    except ValueError:\n",
        "      new_col.append(0)\n",
        "  df[col] = new_col\n",
        "\n"
      ],
      "execution_count": 77,
      "outputs": []
    },
    {
      "cell_type": "code",
      "metadata": {
        "colab": {
          "base_uri": "https://localhost:8080/"
        },
        "id": "pDC2D4LcLFTt",
        "outputId": "387c6ff3-97af-4da9-de5a-63b959897c7f"
      },
      "source": [
        "make_similarity(df, 'TOKEN_VECT', token_axe)\n",
        "make_similarity(df, 'HEAD_VECT', head_axe)\n",
        "make_similarity(df, 'HEAD_CHILDS_VECT', head_childs_axe)\n",
        "make_similarity(df, 'SENT_VECT', sent_axe)"
      ],
      "execution_count": 78,
      "outputs": [
        {
          "output_type": "stream",
          "text": [
            "/usr/local/lib/python3.7/dist-packages/ipykernel_launcher.py:8: SettingWithCopyWarning: \n",
            "A value is trying to be set on a copy of a slice from a DataFrame.\n",
            "Try using .loc[row_indexer,col_indexer] = value instead\n",
            "\n",
            "See the caveats in the documentation: https://pandas.pydata.org/pandas-docs/stable/user_guide/indexing.html#returning-a-view-versus-a-copy\n",
            "  \n",
            "/usr/local/lib/python3.7/dist-packages/ipykernel_launcher.py:8: SettingWithCopyWarning: \n",
            "A value is trying to be set on a copy of a slice from a DataFrame.\n",
            "Try using .loc[row_indexer,col_indexer] = value instead\n",
            "\n",
            "See the caveats in the documentation: https://pandas.pydata.org/pandas-docs/stable/user_guide/indexing.html#returning-a-view-versus-a-copy\n",
            "  \n",
            "/usr/local/lib/python3.7/dist-packages/ipykernel_launcher.py:8: SettingWithCopyWarning: \n",
            "A value is trying to be set on a copy of a slice from a DataFrame.\n",
            "Try using .loc[row_indexer,col_indexer] = value instead\n",
            "\n",
            "See the caveats in the documentation: https://pandas.pydata.org/pandas-docs/stable/user_guide/indexing.html#returning-a-view-versus-a-copy\n",
            "  \n",
            "/usr/local/lib/python3.7/dist-packages/ipykernel_launcher.py:8: SettingWithCopyWarning: \n",
            "A value is trying to be set on a copy of a slice from a DataFrame.\n",
            "Try using .loc[row_indexer,col_indexer] = value instead\n",
            "\n",
            "See the caveats in the documentation: https://pandas.pydata.org/pandas-docs/stable/user_guide/indexing.html#returning-a-view-versus-a-copy\n",
            "  \n"
          ],
          "name": "stderr"
        }
      ]
    },
    {
      "cell_type": "markdown",
      "metadata": {
        "id": "E8S50koyuk8t"
      },
      "source": [
        "Посмотрим на данные."
      ]
    },
    {
      "cell_type": "code",
      "metadata": {
        "colab": {
          "base_uri": "https://localhost:8080/",
          "height": 427
        },
        "id": "U44h8yUwKDhf",
        "outputId": "0af2672d-2a25-44d8-f8d1-0c6f18944edf"
      },
      "source": [
        "df"
      ],
      "execution_count": 94,
      "outputs": [
        {
          "output_type": "execute_result",
          "data": {
            "text/html": [
              "<div>\n",
              "<style scoped>\n",
              "    .dataframe tbody tr th:only-of-type {\n",
              "        vertical-align: middle;\n",
              "    }\n",
              "\n",
              "    .dataframe tbody tr th {\n",
              "        vertical-align: top;\n",
              "    }\n",
              "\n",
              "    .dataframe thead th {\n",
              "        text-align: right;\n",
              "    }\n",
              "</style>\n",
              "<table border=\"1\" class=\"dataframe\">\n",
              "  <thead>\n",
              "    <tr style=\"text-align: right;\">\n",
              "      <th></th>\n",
              "      <th>TOKEN</th>\n",
              "      <th>TOKEN_VECT</th>\n",
              "      <th>IS_ANSWER</th>\n",
              "      <th>TOPIC_NUM</th>\n",
              "      <th>POST_NUM</th>\n",
              "      <th>SENT_NUM</th>\n",
              "      <th>TOKEN_NUM</th>\n",
              "      <th>ANIMACY</th>\n",
              "      <th>CASE</th>\n",
              "      <th>GENDER</th>\n",
              "      <th>PERSON</th>\n",
              "      <th>POS</th>\n",
              "      <th>DEPENDENCY</th>\n",
              "      <th>HEAD</th>\n",
              "      <th>HEAD_ANIMACY</th>\n",
              "      <th>HEAD_CASE</th>\n",
              "      <th>HEAD_GENDER</th>\n",
              "      <th>HEAD_POS</th>\n",
              "      <th>HEAD_VECT</th>\n",
              "      <th>SENT_VECT</th>\n",
              "      <th>HEAD_CHILDS_VECT</th>\n",
              "      <th>NER</th>\n",
              "      <th>COREFERENCE_CLUSTER</th>\n",
              "    </tr>\n",
              "  </thead>\n",
              "  <tbody>\n",
              "    <tr>\n",
              "      <th>0</th>\n",
              "      <td>обсуждаем</td>\n",
              "      <td>0.424228</td>\n",
              "      <td>0</td>\n",
              "      <td>1</td>\n",
              "      <td>0</td>\n",
              "      <td>0</td>\n",
              "      <td>0</td>\n",
              "      <td>NaN</td>\n",
              "      <td>NaN</td>\n",
              "      <td>NaN</td>\n",
              "      <td>1per</td>\n",
              "      <td>VERB</td>\n",
              "      <td>ROOT</td>\n",
              "      <td>обсуждаем</td>\n",
              "      <td>NaN</td>\n",
              "      <td>NaN</td>\n",
              "      <td>NaN</td>\n",
              "      <td>VERB</td>\n",
              "      <td>0.481209</td>\n",
              "      <td>0.904469</td>\n",
              "      <td>0.564925</td>\n",
              "      <td>0.0</td>\n",
              "      <td>0.0</td>\n",
              "    </tr>\n",
              "    <tr>\n",
              "      <th>1</th>\n",
              "      <td>препарат</td>\n",
              "      <td>0.403455</td>\n",
              "      <td>0</td>\n",
              "      <td>1</td>\n",
              "      <td>0</td>\n",
              "      <td>0</td>\n",
              "      <td>1</td>\n",
              "      <td>inan</td>\n",
              "      <td>nomn</td>\n",
              "      <td>masc</td>\n",
              "      <td>NaN</td>\n",
              "      <td>NOUN</td>\n",
              "      <td>obj</td>\n",
              "      <td>обсуждаем</td>\n",
              "      <td>NaN</td>\n",
              "      <td>NaN</td>\n",
              "      <td>NaN</td>\n",
              "      <td>VERB</td>\n",
              "      <td>0.481209</td>\n",
              "      <td>0.904469</td>\n",
              "      <td>0.564925</td>\n",
              "      <td>0.0</td>\n",
              "      <td>0.0</td>\n",
              "    </tr>\n",
              "    <tr>\n",
              "      <th>2</th>\n",
              "      <td>рисперидон</td>\n",
              "      <td>0.933164</td>\n",
              "      <td>0</td>\n",
              "      <td>1</td>\n",
              "      <td>0</td>\n",
              "      <td>0</td>\n",
              "      <td>2</td>\n",
              "      <td>anim</td>\n",
              "      <td>nomn</td>\n",
              "      <td>masc</td>\n",
              "      <td>NaN</td>\n",
              "      <td>NOUN</td>\n",
              "      <td>appos</td>\n",
              "      <td>препарат</td>\n",
              "      <td>inan</td>\n",
              "      <td>nomn</td>\n",
              "      <td>masc</td>\n",
              "      <td>NOUN</td>\n",
              "      <td>0.987311</td>\n",
              "      <td>0.904469</td>\n",
              "      <td>0.917969</td>\n",
              "      <td>1.0</td>\n",
              "      <td>2.0</td>\n",
              "    </tr>\n",
              "    <tr>\n",
              "      <th>3</th>\n",
              "      <td>рисполепт</td>\n",
              "      <td>0.863874</td>\n",
              "      <td>0</td>\n",
              "      <td>1</td>\n",
              "      <td>0</td>\n",
              "      <td>0</td>\n",
              "      <td>3</td>\n",
              "      <td>inan</td>\n",
              "      <td>gent</td>\n",
              "      <td>femn</td>\n",
              "      <td>NaN</td>\n",
              "      <td>NOUN</td>\n",
              "      <td>parataxis</td>\n",
              "      <td>рисперидон</td>\n",
              "      <td>anim</td>\n",
              "      <td>nomn</td>\n",
              "      <td>masc</td>\n",
              "      <td>NOUN</td>\n",
              "      <td>0.415625</td>\n",
              "      <td>0.904469</td>\n",
              "      <td>0.856327</td>\n",
              "      <td>1.0</td>\n",
              "      <td>3.0</td>\n",
              "    </tr>\n",
              "    <tr>\n",
              "      <th>4</th>\n",
              "      <td>сперидан</td>\n",
              "      <td>0.806514</td>\n",
              "      <td>0</td>\n",
              "      <td>1</td>\n",
              "      <td>0</td>\n",
              "      <td>0</td>\n",
              "      <td>4</td>\n",
              "      <td>NaN</td>\n",
              "      <td>NaN</td>\n",
              "      <td>masc</td>\n",
              "      <td>NaN</td>\n",
              "      <td>PRTS</td>\n",
              "      <td>conj</td>\n",
              "      <td>рисполепт</td>\n",
              "      <td>inan</td>\n",
              "      <td>gent</td>\n",
              "      <td>femn</td>\n",
              "      <td>NOUN</td>\n",
              "      <td>0.438658</td>\n",
              "      <td>0.904469</td>\n",
              "      <td>0.806874</td>\n",
              "      <td>1.0</td>\n",
              "      <td>4.0</td>\n",
              "    </tr>\n",
              "    <tr>\n",
              "      <th>...</th>\n",
              "      <td>...</td>\n",
              "      <td>...</td>\n",
              "      <td>...</td>\n",
              "      <td>...</td>\n",
              "      <td>...</td>\n",
              "      <td>...</td>\n",
              "      <td>...</td>\n",
              "      <td>...</td>\n",
              "      <td>...</td>\n",
              "      <td>...</td>\n",
              "      <td>...</td>\n",
              "      <td>...</td>\n",
              "      <td>...</td>\n",
              "      <td>...</td>\n",
              "      <td>...</td>\n",
              "      <td>...</td>\n",
              "      <td>...</td>\n",
              "      <td>...</td>\n",
              "      <td>...</td>\n",
              "      <td>...</td>\n",
              "      <td>...</td>\n",
              "      <td>...</td>\n",
              "      <td>...</td>\n",
              "    </tr>\n",
              "    <tr>\n",
              "      <th>8055</th>\n",
              "      <td>400</td>\n",
              "      <td>0.410595</td>\n",
              "      <td>1</td>\n",
              "      <td>5</td>\n",
              "      <td>48</td>\n",
              "      <td>0</td>\n",
              "      <td>1853</td>\n",
              "      <td>NaN</td>\n",
              "      <td>NaN</td>\n",
              "      <td>NaN</td>\n",
              "      <td>NaN</td>\n",
              "      <td>NaN</td>\n",
              "      <td>nummod</td>\n",
              "      <td>мг</td>\n",
              "      <td>inan</td>\n",
              "      <td>nomn</td>\n",
              "      <td>masc</td>\n",
              "      <td>NOUN</td>\n",
              "      <td>0.295454</td>\n",
              "      <td>0.487671</td>\n",
              "      <td>0.687963</td>\n",
              "      <td>0.0</td>\n",
              "      <td>0.0</td>\n",
              "    </tr>\n",
              "    <tr>\n",
              "      <th>8056</th>\n",
              "      <td>мг</td>\n",
              "      <td>0.611221</td>\n",
              "      <td>1</td>\n",
              "      <td>5</td>\n",
              "      <td>48</td>\n",
              "      <td>0</td>\n",
              "      <td>1854</td>\n",
              "      <td>inan</td>\n",
              "      <td>nomn</td>\n",
              "      <td>masc</td>\n",
              "      <td>NaN</td>\n",
              "      <td>NOUN</td>\n",
              "      <td>nmod</td>\n",
              "      <td>пп</td>\n",
              "      <td>NaN</td>\n",
              "      <td>NaN</td>\n",
              "      <td>NaN</td>\n",
              "      <td>NaN</td>\n",
              "      <td>0.266755</td>\n",
              "      <td>0.487671</td>\n",
              "      <td>0.609623</td>\n",
              "      <td>0.0</td>\n",
              "      <td>0.0</td>\n",
              "    </tr>\n",
              "    <tr>\n",
              "      <th>8057</th>\n",
              "      <td>ибупрофена</td>\n",
              "      <td>0.632453</td>\n",
              "      <td>1</td>\n",
              "      <td>5</td>\n",
              "      <td>48</td>\n",
              "      <td>0</td>\n",
              "      <td>1855</td>\n",
              "      <td>inan</td>\n",
              "      <td>gent</td>\n",
              "      <td>masc</td>\n",
              "      <td>NaN</td>\n",
              "      <td>NOUN</td>\n",
              "      <td>nmod</td>\n",
              "      <td>мг</td>\n",
              "      <td>inan</td>\n",
              "      <td>nomn</td>\n",
              "      <td>masc</td>\n",
              "      <td>NOUN</td>\n",
              "      <td>0.295454</td>\n",
              "      <td>0.487671</td>\n",
              "      <td>0.687963</td>\n",
              "      <td>1.0</td>\n",
              "      <td>1859.0</td>\n",
              "    </tr>\n",
              "    <tr>\n",
              "      <th>8058</th>\n",
              "      <td>ибупрофен</td>\n",
              "      <td>0.637485</td>\n",
              "      <td>1</td>\n",
              "      <td>5</td>\n",
              "      <td>48</td>\n",
              "      <td>0</td>\n",
              "      <td>1856</td>\n",
              "      <td>NaN</td>\n",
              "      <td>NaN</td>\n",
              "      <td>masc</td>\n",
              "      <td>NaN</td>\n",
              "      <td>ADJS</td>\n",
              "      <td>obj</td>\n",
              "      <td>\\n\\n</td>\n",
              "      <td>NaN</td>\n",
              "      <td>NaN</td>\n",
              "      <td>NaN</td>\n",
              "      <td>NaN</td>\n",
              "      <td>0.000000</td>\n",
              "      <td>0.487671</td>\n",
              "      <td>0.725556</td>\n",
              "      <td>0.0</td>\n",
              "      <td>0.0</td>\n",
              "    </tr>\n",
              "    <tr>\n",
              "      <th>8059</th>\n",
              "      <td>нурофен</td>\n",
              "      <td>0.466525</td>\n",
              "      <td>1</td>\n",
              "      <td>5</td>\n",
              "      <td>48</td>\n",
              "      <td>0</td>\n",
              "      <td>1857</td>\n",
              "      <td>inan</td>\n",
              "      <td>nomn</td>\n",
              "      <td>masc</td>\n",
              "      <td>NaN</td>\n",
              "      <td>NOUN</td>\n",
              "      <td>parataxis</td>\n",
              "      <td>ибупрофен</td>\n",
              "      <td>NaN</td>\n",
              "      <td>NaN</td>\n",
              "      <td>masc</td>\n",
              "      <td>ADJS</td>\n",
              "      <td>0.372611</td>\n",
              "      <td>0.487671</td>\n",
              "      <td>0.491239</td>\n",
              "      <td>1.0</td>\n",
              "      <td>1861.0</td>\n",
              "    </tr>\n",
              "  </tbody>\n",
              "</table>\n",
              "<p>8060 rows × 23 columns</p>\n",
              "</div>"
            ],
            "text/plain": [
              "           TOKEN  TOKEN_VECT  ...  NER  COREFERENCE_CLUSTER\n",
              "0      обсуждаем    0.424228  ...  0.0                  0.0\n",
              "1       препарат    0.403455  ...  0.0                  0.0\n",
              "2     рисперидон    0.933164  ...  1.0                  2.0\n",
              "3      рисполепт    0.863874  ...  1.0                  3.0\n",
              "4       сперидан    0.806514  ...  1.0                  4.0\n",
              "...          ...         ...  ...  ...                  ...\n",
              "8055         400    0.410595  ...  0.0                  0.0\n",
              "8056          мг    0.611221  ...  0.0                  0.0\n",
              "8057  ибупрофена    0.632453  ...  1.0               1859.0\n",
              "8058   ибупрофен    0.637485  ...  0.0                  0.0\n",
              "8059     нурофен    0.466525  ...  1.0               1861.0\n",
              "\n",
              "[8060 rows x 23 columns]"
            ]
          },
          "metadata": {
            "tags": []
          },
          "execution_count": 94
        }
      ]
    },
    {
      "cell_type": "code",
      "metadata": {
        "colab": {
          "base_uri": "https://localhost:8080/",
          "height": 288
        },
        "id": "x9dtPGXhkY7q",
        "outputId": "0227c4c2-586e-4801-e798-9d9078855cdb"
      },
      "source": [
        "df.describe()"
      ],
      "execution_count": 39,
      "outputs": [
        {
          "output_type": "execute_result",
          "data": {
            "text/html": [
              "<div>\n",
              "<style scoped>\n",
              "    .dataframe tbody tr th:only-of-type {\n",
              "        vertical-align: middle;\n",
              "    }\n",
              "\n",
              "    .dataframe tbody tr th {\n",
              "        vertical-align: top;\n",
              "    }\n",
              "\n",
              "    .dataframe thead th {\n",
              "        text-align: right;\n",
              "    }\n",
              "</style>\n",
              "<table border=\"1\" class=\"dataframe\">\n",
              "  <thead>\n",
              "    <tr style=\"text-align: right;\">\n",
              "      <th></th>\n",
              "      <th>TOKEN_VECT</th>\n",
              "      <th>IS_ANSWER</th>\n",
              "      <th>TOPIC_NUM</th>\n",
              "      <th>POST_NUM</th>\n",
              "      <th>SENT_NUM</th>\n",
              "      <th>TOKEN_NUM</th>\n",
              "      <th>HEAD_VECT</th>\n",
              "      <th>SENT_VECT</th>\n",
              "      <th>HEAD_CHILDS_VECT</th>\n",
              "      <th>NER</th>\n",
              "      <th>COREFERENCE_CLUSTER</th>\n",
              "    </tr>\n",
              "  </thead>\n",
              "  <tbody>\n",
              "    <tr>\n",
              "      <th>count</th>\n",
              "      <td>8060.0</td>\n",
              "      <td>8060.000000</td>\n",
              "      <td>8060.000000</td>\n",
              "      <td>8060.000000</td>\n",
              "      <td>8060.000000</td>\n",
              "      <td>8060.000000</td>\n",
              "      <td>8060.0</td>\n",
              "      <td>8060.0</td>\n",
              "      <td>8060.0</td>\n",
              "      <td>8060.000000</td>\n",
              "      <td>8060.000000</td>\n",
              "    </tr>\n",
              "    <tr>\n",
              "      <th>mean</th>\n",
              "      <td>0.0</td>\n",
              "      <td>0.942680</td>\n",
              "      <td>3.239082</td>\n",
              "      <td>18.959305</td>\n",
              "      <td>3.981390</td>\n",
              "      <td>1164.631266</td>\n",
              "      <td>0.0</td>\n",
              "      <td>0.0</td>\n",
              "      <td>0.0</td>\n",
              "      <td>0.101241</td>\n",
              "      <td>68.585856</td>\n",
              "    </tr>\n",
              "    <tr>\n",
              "      <th>std</th>\n",
              "      <td>0.0</td>\n",
              "      <td>0.232468</td>\n",
              "      <td>1.180049</td>\n",
              "      <td>13.343202</td>\n",
              "      <td>5.343252</td>\n",
              "      <td>1015.556727</td>\n",
              "      <td>0.0</td>\n",
              "      <td>0.0</td>\n",
              "      <td>0.0</td>\n",
              "      <td>0.417002</td>\n",
              "      <td>359.993333</td>\n",
              "    </tr>\n",
              "    <tr>\n",
              "      <th>min</th>\n",
              "      <td>0.0</td>\n",
              "      <td>0.000000</td>\n",
              "      <td>1.000000</td>\n",
              "      <td>0.000000</td>\n",
              "      <td>0.000000</td>\n",
              "      <td>0.000000</td>\n",
              "      <td>0.0</td>\n",
              "      <td>0.0</td>\n",
              "      <td>0.0</td>\n",
              "      <td>0.000000</td>\n",
              "      <td>0.000000</td>\n",
              "    </tr>\n",
              "    <tr>\n",
              "      <th>25%</th>\n",
              "      <td>0.0</td>\n",
              "      <td>1.000000</td>\n",
              "      <td>3.000000</td>\n",
              "      <td>7.000000</td>\n",
              "      <td>1.000000</td>\n",
              "      <td>314.000000</td>\n",
              "      <td>0.0</td>\n",
              "      <td>0.0</td>\n",
              "      <td>0.0</td>\n",
              "      <td>0.000000</td>\n",
              "      <td>0.000000</td>\n",
              "    </tr>\n",
              "    <tr>\n",
              "      <th>50%</th>\n",
              "      <td>0.0</td>\n",
              "      <td>1.000000</td>\n",
              "      <td>3.000000</td>\n",
              "      <td>18.000000</td>\n",
              "      <td>2.000000</td>\n",
              "      <td>899.500000</td>\n",
              "      <td>0.0</td>\n",
              "      <td>0.0</td>\n",
              "      <td>0.0</td>\n",
              "      <td>0.000000</td>\n",
              "      <td>0.000000</td>\n",
              "    </tr>\n",
              "    <tr>\n",
              "      <th>75%</th>\n",
              "      <td>0.0</td>\n",
              "      <td>1.000000</td>\n",
              "      <td>4.000000</td>\n",
              "      <td>29.000000</td>\n",
              "      <td>5.000000</td>\n",
              "      <td>1755.250000</td>\n",
              "      <td>0.0</td>\n",
              "      <td>0.0</td>\n",
              "      <td>0.0</td>\n",
              "      <td>0.000000</td>\n",
              "      <td>0.000000</td>\n",
              "    </tr>\n",
              "    <tr>\n",
              "      <th>max</th>\n",
              "      <td>0.0</td>\n",
              "      <td>1.000000</td>\n",
              "      <td>5.000000</td>\n",
              "      <td>49.000000</td>\n",
              "      <td>31.000000</td>\n",
              "      <td>3668.000000</td>\n",
              "      <td>0.0</td>\n",
              "      <td>0.0</td>\n",
              "      <td>0.0</td>\n",
              "      <td>3.000000</td>\n",
              "      <td>3653.000000</td>\n",
              "    </tr>\n",
              "  </tbody>\n",
              "</table>\n",
              "</div>"
            ],
            "text/plain": [
              "       TOKEN_VECT    IS_ANSWER  ...          NER  COREFERENCE_CLUSTER\n",
              "count      8060.0  8060.000000  ...  8060.000000          8060.000000\n",
              "mean          0.0     0.942680  ...     0.101241            68.585856\n",
              "std           0.0     0.232468  ...     0.417002           359.993333\n",
              "min           0.0     0.000000  ...     0.000000             0.000000\n",
              "25%           0.0     1.000000  ...     0.000000             0.000000\n",
              "50%           0.0     1.000000  ...     0.000000             0.000000\n",
              "75%           0.0     1.000000  ...     0.000000             0.000000\n",
              "max           0.0     1.000000  ...     3.000000          3653.000000\n",
              "\n",
              "[8 rows x 11 columns]"
            ]
          },
          "metadata": {
            "tags": []
          },
          "execution_count": 39
        }
      ]
    },
    {
      "cell_type": "markdown",
      "metadata": {
        "id": "XZo_bJR6uuvc"
      },
      "source": [
        "## **Модели. Обучение, оценка.**"
      ]
    },
    {
      "cell_type": "markdown",
      "metadata": {
        "id": "qrdNCMTOu1P0"
      },
      "source": [
        "Факторизуем троковые данные, чтобы вместо строковых представлений классов были численные."
      ]
    },
    {
      "cell_type": "code",
      "metadata": {
        "colab": {
          "base_uri": "https://localhost:8080/"
        },
        "id": "hn2LX9ViO9i0",
        "outputId": "9049df64-4f08-441e-f039-3635663ba5e6"
      },
      "source": [
        "for_factorize = 'ANIMACY\tCASE\tGENDER\tPERSON\tPOS\tDEPENDENCY\tHEAD\tHEAD_ANIMACY\tHEAD_CASE\tHEAD_GENDER\tHEAD_POS'.split()\n",
        "for_factorize"
      ],
      "execution_count": 81,
      "outputs": [
        {
          "output_type": "execute_result",
          "data": {
            "text/plain": [
              "['ANIMACY',\n",
              " 'CASE',\n",
              " 'GENDER',\n",
              " 'PERSON',\n",
              " 'POS',\n",
              " 'DEPENDENCY',\n",
              " 'HEAD',\n",
              " 'HEAD_ANIMACY',\n",
              " 'HEAD_CASE',\n",
              " 'HEAD_GENDER',\n",
              " 'HEAD_POS']"
            ]
          },
          "metadata": {
            "tags": []
          },
          "execution_count": 81
        }
      ]
    },
    {
      "cell_type": "code",
      "metadata": {
        "colab": {
          "base_uri": "https://localhost:8080/"
        },
        "id": "MuTn5rTEPJq1",
        "outputId": "f5ae5663-b140-4365-eb67-6315259310b0"
      },
      "source": [
        "_, lbl = pd.factorize(df.ANIMACY)\n",
        "print(lbl, )\n",
        "_"
      ],
      "execution_count": 82,
      "outputs": [
        {
          "output_type": "stream",
          "text": [
            "Index(['inan', 'anim'], dtype='object')\n"
          ],
          "name": "stdout"
        },
        {
          "output_type": "execute_result",
          "data": {
            "text/plain": [
              "array([-1,  0,  1, ...,  0, -1,  0])"
            ]
          },
          "metadata": {
            "tags": []
          },
          "execution_count": 82
        }
      ]
    },
    {
      "cell_type": "markdown",
      "metadata": {
        "id": "okLj0sOex6rt"
      },
      "source": [
        "Делаем словарь с маппингом, чтобы можно было достать нужное значение по индексу. В значении -1 хранится None"
      ]
    },
    {
      "cell_type": "code",
      "metadata": {
        "colab": {
          "base_uri": "https://localhost:8080/"
        },
        "id": "QoqDVz2lQjmV",
        "outputId": "3805278a-c6ae-4f0f-fc38-810576be58d3"
      },
      "source": [
        "mapping_dict = {}\n",
        "for col_name in for_factorize:\n",
        "  col, lbl = pd.factorize(df[col_name])\n",
        "  df[col_name] = col\n",
        "  mapping_dict[col_name] = lbl\n",
        "mapping_dict  "
      ],
      "execution_count": 95,
      "outputs": [
        {
          "output_type": "stream",
          "text": [
            "/usr/local/lib/python3.7/dist-packages/ipykernel_launcher.py:4: SettingWithCopyWarning: \n",
            "A value is trying to be set on a copy of a slice from a DataFrame.\n",
            "Try using .loc[row_indexer,col_indexer] = value instead\n",
            "\n",
            "See the caveats in the documentation: https://pandas.pydata.org/pandas-docs/stable/user_guide/indexing.html#returning-a-view-versus-a-copy\n",
            "  after removing the cwd from sys.path.\n"
          ],
          "name": "stderr"
        },
        {
          "output_type": "execute_result",
          "data": {
            "text/plain": [
              "{'ANIMACY': Index(['inan', 'anim'], dtype='object'),\n",
              " 'CASE': Index(['nomn', 'gent', 'datv', 'accs', 'loct', 'ablt', 'loc2'], dtype='object'),\n",
              " 'DEPENDENCY': Index(['ROOT', 'obj', 'appos', 'parataxis', 'conj', 'advmod', 'ccomp', 'iobj',\n",
              "        'csubj', 'case', 'obl', 'det', 'nsubj', 'cc', 'discourse', 'fixed',\n",
              "        'mark', 'amod', 'advcl', 'xcomp', 'nummod', 'nmod', 'nsubj:pass',\n",
              "        'nummod:gov', 'cop', 'acl:relcl', 'acl', 'aux', 'flat:foreign', 'punct',\n",
              "        'obl:agent', 'flat', 'aux:pass', 'orphan', 'expl'],\n",
              "       dtype='object'),\n",
              " 'GENDER': Index(['masc', 'femn', 'neut'], dtype='object'),\n",
              " 'HEAD': Index(['обсуждаем', 'препарат', 'рисперидон', 'рисполепт', 'знаю', 'стоило',\n",
              "        'меня', 'нет', 'проблем', 'лекарством',\n",
              "        ...\n",
              "        'аскофен', 'ибупрофена', 'yurij76', 'называется', 'составе', 'кофеина',\n",
              "        'ацетилки', 'сказывается', 'кровообращении', 'ибупрофен'],\n",
              "       dtype='object', length=1576),\n",
              " 'HEAD_ANIMACY': Index(['inan', 'anim'], dtype='object'),\n",
              " 'HEAD_CASE': Index(['nomn', 'gent', 'accs', 'ablt', 'datv', 'loct', 'loc2'], dtype='object'),\n",
              " 'HEAD_GENDER': Index(['masc', 'femn', 'neut'], dtype='object'),\n",
              " 'HEAD_POS': Index(['VERB', 'NOUN', 'NPRO', 'PRED', 'PREP', 'INFN', 'PRTS', 'GRND', 'ADJF',\n",
              "        'ADVB', 'PRCL', 'PRTF', 'CONJ', 'ADJS', 'COMP', 'INTJ', 'NUMR'],\n",
              "       dtype='object'),\n",
              " 'PERSON': Index(['1per', '3per', '2per'], dtype='object'),\n",
              " 'POS': Index(['VERB', 'NOUN', 'PRTS', 'PRCL', 'CONJ', 'NPRO', 'INFN', 'PREP', 'ADVB',\n",
              "        'PRED', 'ADJF', 'NUMR', 'GRND', 'COMP', 'PRTF', 'ADJS', 'INTJ'],\n",
              "       dtype='object')}"
            ]
          },
          "metadata": {
            "tags": []
          },
          "execution_count": 95
        }
      ]
    },
    {
      "cell_type": "code",
      "metadata": {
        "id": "pdg6Pp5wbx5Y"
      },
      "source": [
        "\n",
        "# labels_dict = {}\n",
        "# test_labels_dict = {}\n",
        "\n",
        "# for i in X.columns:\n",
        "#   X[i], lbl = pd.factorize(X[i])\n",
        "#   labels_dict[i] = lbl\n",
        "\n",
        "# for i in X_test.columns:\n",
        "#   X_test[i], lbl = pd.factorize(X_test[i])\n",
        "#   test_labels_dict[i] = lbl \n",
        "\n",
        "# y = cor_df['COREFERENCE_CLUSTER']\n",
        "# y, y_label = pd.factorize(y)\n",
        "\n",
        "# y_test = cor_df_test['COREFERENCE_CLUSTER']\n",
        "# y_test, y_test_label = pd.factorize(y_test)"
      ],
      "execution_count": 90,
      "outputs": []
    },
    {
      "cell_type": "markdown",
      "metadata": {
        "id": "gHAqJq-syGu4"
      },
      "source": [
        "Разделим датасет на тестовый и тренировочный. for_train, for_test "
      ]
    },
    {
      "cell_type": "code",
      "metadata": {
        "id": "_iE_6DTwjs9r"
      },
      "source": [
        "train, test = train_test_split(df, test_size=0.2)"
      ],
      "execution_count": 96,
      "outputs": []
    },
    {
      "cell_type": "code",
      "metadata": {
        "id": "NSpO2JclSBoW"
      },
      "source": [
        "train = train.reset_index()"
      ],
      "execution_count": 97,
      "outputs": []
    },
    {
      "cell_type": "markdown",
      "metadata": {
        "id": "p9jYUXyTyO7S"
      },
      "source": [
        ""
      ]
    },
    {
      "cell_type": "code",
      "metadata": {
        "id": "Iqdr1Z1MbxQP"
      },
      "source": [
        "# train = train.iloc[:,:24].drop(['TOKEN', 'level_0', 'index'], axis=1)\n",
        "# train = train.drop(['TOKEN', 'index'], axis=1)"
      ],
      "execution_count": 98,
      "outputs": []
    },
    {
      "cell_type": "code",
      "metadata": {
        "id": "15JsamoeRUQ3"
      },
      "source": [
        "test = test.reset_index()"
      ],
      "execution_count": 99,
      "outputs": []
    },
    {
      "cell_type": "code",
      "metadata": {
        "colab": {
          "base_uri": "https://localhost:8080/",
          "height": 427
        },
        "id": "yJ-7SyinSvCF",
        "outputId": "d5c619fc-0322-4cb6-d567-6ec8741f277d"
      },
      "source": [
        "test"
      ],
      "execution_count": 100,
      "outputs": [
        {
          "output_type": "execute_result",
          "data": {
            "text/html": [
              "<div>\n",
              "<style scoped>\n",
              "    .dataframe tbody tr th:only-of-type {\n",
              "        vertical-align: middle;\n",
              "    }\n",
              "\n",
              "    .dataframe tbody tr th {\n",
              "        vertical-align: top;\n",
              "    }\n",
              "\n",
              "    .dataframe thead th {\n",
              "        text-align: right;\n",
              "    }\n",
              "</style>\n",
              "<table border=\"1\" class=\"dataframe\">\n",
              "  <thead>\n",
              "    <tr style=\"text-align: right;\">\n",
              "      <th></th>\n",
              "      <th>index</th>\n",
              "      <th>TOKEN</th>\n",
              "      <th>TOKEN_VECT</th>\n",
              "      <th>IS_ANSWER</th>\n",
              "      <th>TOPIC_NUM</th>\n",
              "      <th>POST_NUM</th>\n",
              "      <th>SENT_NUM</th>\n",
              "      <th>TOKEN_NUM</th>\n",
              "      <th>ANIMACY</th>\n",
              "      <th>CASE</th>\n",
              "      <th>GENDER</th>\n",
              "      <th>PERSON</th>\n",
              "      <th>POS</th>\n",
              "      <th>DEPENDENCY</th>\n",
              "      <th>HEAD</th>\n",
              "      <th>HEAD_ANIMACY</th>\n",
              "      <th>HEAD_CASE</th>\n",
              "      <th>HEAD_GENDER</th>\n",
              "      <th>HEAD_POS</th>\n",
              "      <th>HEAD_VECT</th>\n",
              "      <th>SENT_VECT</th>\n",
              "      <th>HEAD_CHILDS_VECT</th>\n",
              "      <th>NER</th>\n",
              "      <th>COREFERENCE_CLUSTER</th>\n",
              "    </tr>\n",
              "  </thead>\n",
              "  <tbody>\n",
              "    <tr>\n",
              "      <th>0</th>\n",
              "      <td>8058</td>\n",
              "      <td>ибупрофен</td>\n",
              "      <td>0.637485</td>\n",
              "      <td>1</td>\n",
              "      <td>5</td>\n",
              "      <td>48</td>\n",
              "      <td>0</td>\n",
              "      <td>1856</td>\n",
              "      <td>-1</td>\n",
              "      <td>-1</td>\n",
              "      <td>0</td>\n",
              "      <td>-1</td>\n",
              "      <td>15</td>\n",
              "      <td>1</td>\n",
              "      <td>414</td>\n",
              "      <td>-1</td>\n",
              "      <td>-1</td>\n",
              "      <td>-1</td>\n",
              "      <td>-1</td>\n",
              "      <td>0.000000</td>\n",
              "      <td>0.487671</td>\n",
              "      <td>0.725556</td>\n",
              "      <td>0.0</td>\n",
              "      <td>0.0</td>\n",
              "    </tr>\n",
              "    <tr>\n",
              "      <th>1</th>\n",
              "      <td>3730</td>\n",
              "      <td>еще</td>\n",
              "      <td>0.317339</td>\n",
              "      <td>1</td>\n",
              "      <td>3</td>\n",
              "      <td>23</td>\n",
              "      <td>1</td>\n",
              "      <td>1846</td>\n",
              "      <td>-1</td>\n",
              "      <td>-1</td>\n",
              "      <td>-1</td>\n",
              "      <td>-1</td>\n",
              "      <td>8</td>\n",
              "      <td>5</td>\n",
              "      <td>747</td>\n",
              "      <td>0</td>\n",
              "      <td>1</td>\n",
              "      <td>1</td>\n",
              "      <td>1</td>\n",
              "      <td>0.338868</td>\n",
              "      <td>0.803301</td>\n",
              "      <td>0.352869</td>\n",
              "      <td>0.0</td>\n",
              "      <td>0.0</td>\n",
              "    </tr>\n",
              "    <tr>\n",
              "      <th>2</th>\n",
              "      <td>4351</td>\n",
              "      <td>в</td>\n",
              "      <td>0.194644</td>\n",
              "      <td>1</td>\n",
              "      <td>3</td>\n",
              "      <td>24</td>\n",
              "      <td>4</td>\n",
              "      <td>2467</td>\n",
              "      <td>-1</td>\n",
              "      <td>-1</td>\n",
              "      <td>-1</td>\n",
              "      <td>-1</td>\n",
              "      <td>7</td>\n",
              "      <td>9</td>\n",
              "      <td>945</td>\n",
              "      <td>0</td>\n",
              "      <td>5</td>\n",
              "      <td>1</td>\n",
              "      <td>1</td>\n",
              "      <td>0.414383</td>\n",
              "      <td>0.806958</td>\n",
              "      <td>0.365935</td>\n",
              "      <td>0.0</td>\n",
              "      <td>0.0</td>\n",
              "    </tr>\n",
              "    <tr>\n",
              "      <th>3</th>\n",
              "      <td>3085</td>\n",
              "      <td>в</td>\n",
              "      <td>0.194644</td>\n",
              "      <td>1</td>\n",
              "      <td>3</td>\n",
              "      <td>15</td>\n",
              "      <td>12</td>\n",
              "      <td>1201</td>\n",
              "      <td>-1</td>\n",
              "      <td>-1</td>\n",
              "      <td>-1</td>\n",
              "      <td>-1</td>\n",
              "      <td>7</td>\n",
              "      <td>9</td>\n",
              "      <td>578</td>\n",
              "      <td>0</td>\n",
              "      <td>2</td>\n",
              "      <td>1</td>\n",
              "      <td>1</td>\n",
              "      <td>0.276351</td>\n",
              "      <td>0.473107</td>\n",
              "      <td>0.500132</td>\n",
              "      <td>0.0</td>\n",
              "      <td>0.0</td>\n",
              "    </tr>\n",
              "    <tr>\n",
              "      <th>4</th>\n",
              "      <td>4118</td>\n",
              "      <td>за</td>\n",
              "      <td>0.197296</td>\n",
              "      <td>1</td>\n",
              "      <td>3</td>\n",
              "      <td>23</td>\n",
              "      <td>19</td>\n",
              "      <td>2234</td>\n",
              "      <td>-1</td>\n",
              "      <td>-1</td>\n",
              "      <td>-1</td>\n",
              "      <td>-1</td>\n",
              "      <td>7</td>\n",
              "      <td>9</td>\n",
              "      <td>873</td>\n",
              "      <td>0</td>\n",
              "      <td>0</td>\n",
              "      <td>1</td>\n",
              "      <td>1</td>\n",
              "      <td>0.354975</td>\n",
              "      <td>0.522420</td>\n",
              "      <td>0.487044</td>\n",
              "      <td>0.0</td>\n",
              "      <td>0.0</td>\n",
              "    </tr>\n",
              "    <tr>\n",
              "      <th>...</th>\n",
              "      <td>...</td>\n",
              "      <td>...</td>\n",
              "      <td>...</td>\n",
              "      <td>...</td>\n",
              "      <td>...</td>\n",
              "      <td>...</td>\n",
              "      <td>...</td>\n",
              "      <td>...</td>\n",
              "      <td>...</td>\n",
              "      <td>...</td>\n",
              "      <td>...</td>\n",
              "      <td>...</td>\n",
              "      <td>...</td>\n",
              "      <td>...</td>\n",
              "      <td>...</td>\n",
              "      <td>...</td>\n",
              "      <td>...</td>\n",
              "      <td>...</td>\n",
              "      <td>...</td>\n",
              "      <td>...</td>\n",
              "      <td>...</td>\n",
              "      <td>...</td>\n",
              "      <td>...</td>\n",
              "      <td>...</td>\n",
              "    </tr>\n",
              "    <tr>\n",
              "      <th>1607</th>\n",
              "      <td>5395</td>\n",
              "      <td>рина</td>\n",
              "      <td>0.456404</td>\n",
              "      <td>1</td>\n",
              "      <td>3</td>\n",
              "      <td>45</td>\n",
              "      <td>0</td>\n",
              "      <td>3511</td>\n",
              "      <td>1</td>\n",
              "      <td>0</td>\n",
              "      <td>1</td>\n",
              "      <td>-1</td>\n",
              "      <td>1</td>\n",
              "      <td>0</td>\n",
              "      <td>1118</td>\n",
              "      <td>1</td>\n",
              "      <td>0</td>\n",
              "      <td>1</td>\n",
              "      <td>1</td>\n",
              "      <td>0.198726</td>\n",
              "      <td>0.490095</td>\n",
              "      <td>0.359252</td>\n",
              "      <td>0.0</td>\n",
              "      <td>0.0</td>\n",
              "    </tr>\n",
              "    <tr>\n",
              "      <th>1608</th>\n",
              "      <td>7355</td>\n",
              "      <td>вопрос</td>\n",
              "      <td>0.293592</td>\n",
              "      <td>1</td>\n",
              "      <td>5</td>\n",
              "      <td>36</td>\n",
              "      <td>2</td>\n",
              "      <td>1153</td>\n",
              "      <td>0</td>\n",
              "      <td>0</td>\n",
              "      <td>0</td>\n",
              "      <td>-1</td>\n",
              "      <td>1</td>\n",
              "      <td>0</td>\n",
              "      <td>419</td>\n",
              "      <td>0</td>\n",
              "      <td>0</td>\n",
              "      <td>0</td>\n",
              "      <td>1</td>\n",
              "      <td>0.375784</td>\n",
              "      <td>0.450849</td>\n",
              "      <td>0.420151</td>\n",
              "      <td>0.0</td>\n",
              "      <td>0.0</td>\n",
              "    </tr>\n",
              "    <tr>\n",
              "      <th>1609</th>\n",
              "      <td>7562</td>\n",
              "      <td>недели</td>\n",
              "      <td>0.414771</td>\n",
              "      <td>1</td>\n",
              "      <td>5</td>\n",
              "      <td>37</td>\n",
              "      <td>5</td>\n",
              "      <td>1360</td>\n",
              "      <td>0</td>\n",
              "      <td>1</td>\n",
              "      <td>1</td>\n",
              "      <td>-1</td>\n",
              "      <td>1</td>\n",
              "      <td>10</td>\n",
              "      <td>1509</td>\n",
              "      <td>-1</td>\n",
              "      <td>-1</td>\n",
              "      <td>-1</td>\n",
              "      <td>3</td>\n",
              "      <td>0.506324</td>\n",
              "      <td>0.483823</td>\n",
              "      <td>0.542497</td>\n",
              "      <td>0.0</td>\n",
              "      <td>0.0</td>\n",
              "    </tr>\n",
              "    <tr>\n",
              "      <th>1610</th>\n",
              "      <td>293</td>\n",
              "      <td>подсела</td>\n",
              "      <td>0.472949</td>\n",
              "      <td>1</td>\n",
              "      <td>1</td>\n",
              "      <td>2</td>\n",
              "      <td>0</td>\n",
              "      <td>13</td>\n",
              "      <td>-1</td>\n",
              "      <td>-1</td>\n",
              "      <td>1</td>\n",
              "      <td>-1</td>\n",
              "      <td>0</td>\n",
              "      <td>6</td>\n",
              "      <td>98</td>\n",
              "      <td>-1</td>\n",
              "      <td>-1</td>\n",
              "      <td>-1</td>\n",
              "      <td>5</td>\n",
              "      <td>0.427657</td>\n",
              "      <td>0.423854</td>\n",
              "      <td>0.504989</td>\n",
              "      <td>0.0</td>\n",
              "      <td>0.0</td>\n",
              "    </tr>\n",
              "    <tr>\n",
              "      <th>1611</th>\n",
              "      <td>2026</td>\n",
              "      <td>u.s</td>\n",
              "      <td>0.000000</td>\n",
              "      <td>1</td>\n",
              "      <td>3</td>\n",
              "      <td>5</td>\n",
              "      <td>0</td>\n",
              "      <td>142</td>\n",
              "      <td>-1</td>\n",
              "      <td>-1</td>\n",
              "      <td>-1</td>\n",
              "      <td>-1</td>\n",
              "      <td>-1</td>\n",
              "      <td>28</td>\n",
              "      <td>471</td>\n",
              "      <td>-1</td>\n",
              "      <td>-1</td>\n",
              "      <td>-1</td>\n",
              "      <td>-1</td>\n",
              "      <td>0.367444</td>\n",
              "      <td>0.413066</td>\n",
              "      <td>0.394856</td>\n",
              "      <td>0.0</td>\n",
              "      <td>0.0</td>\n",
              "    </tr>\n",
              "  </tbody>\n",
              "</table>\n",
              "<p>1612 rows × 24 columns</p>\n",
              "</div>"
            ],
            "text/plain": [
              "      index      TOKEN  TOKEN_VECT  ...  HEAD_CHILDS_VECT  NER  COREFERENCE_CLUSTER\n",
              "0      8058  ибупрофен    0.637485  ...          0.725556  0.0                  0.0\n",
              "1      3730        еще    0.317339  ...          0.352869  0.0                  0.0\n",
              "2      4351          в    0.194644  ...          0.365935  0.0                  0.0\n",
              "3      3085          в    0.194644  ...          0.500132  0.0                  0.0\n",
              "4      4118         за    0.197296  ...          0.487044  0.0                  0.0\n",
              "...     ...        ...         ...  ...               ...  ...                  ...\n",
              "1607   5395       рина    0.456404  ...          0.359252  0.0                  0.0\n",
              "1608   7355     вопрос    0.293592  ...          0.420151  0.0                  0.0\n",
              "1609   7562     недели    0.414771  ...          0.542497  0.0                  0.0\n",
              "1610    293    подсела    0.472949  ...          0.504989  0.0                  0.0\n",
              "1611   2026        u.s    0.000000  ...          0.394856  0.0                  0.0\n",
              "\n",
              "[1612 rows x 24 columns]"
            ]
          },
          "metadata": {
            "tags": []
          },
          "execution_count": 100
        }
      ]
    },
    {
      "cell_type": "code",
      "metadata": {
        "id": "4af_SNBkhigO"
      },
      "source": [
        "# test = test.iloc[:,:24].drop(['TOKEN', 'index'], axis=1)\n",
        "# test = test.drop(['TOKEN', 'index'], axis=1)"
      ],
      "execution_count": 101,
      "outputs": []
    },
    {
      "cell_type": "code",
      "metadata": {
        "colab": {
          "base_uri": "https://localhost:8080/",
          "height": 427
        },
        "id": "cBXo00kAS49b",
        "outputId": "45a1dd12-1978-4769-b8b7-b6b92699d009"
      },
      "source": [
        "test"
      ],
      "execution_count": 102,
      "outputs": [
        {
          "output_type": "execute_result",
          "data": {
            "text/html": [
              "<div>\n",
              "<style scoped>\n",
              "    .dataframe tbody tr th:only-of-type {\n",
              "        vertical-align: middle;\n",
              "    }\n",
              "\n",
              "    .dataframe tbody tr th {\n",
              "        vertical-align: top;\n",
              "    }\n",
              "\n",
              "    .dataframe thead th {\n",
              "        text-align: right;\n",
              "    }\n",
              "</style>\n",
              "<table border=\"1\" class=\"dataframe\">\n",
              "  <thead>\n",
              "    <tr style=\"text-align: right;\">\n",
              "      <th></th>\n",
              "      <th>index</th>\n",
              "      <th>TOKEN</th>\n",
              "      <th>TOKEN_VECT</th>\n",
              "      <th>IS_ANSWER</th>\n",
              "      <th>TOPIC_NUM</th>\n",
              "      <th>POST_NUM</th>\n",
              "      <th>SENT_NUM</th>\n",
              "      <th>TOKEN_NUM</th>\n",
              "      <th>ANIMACY</th>\n",
              "      <th>CASE</th>\n",
              "      <th>GENDER</th>\n",
              "      <th>PERSON</th>\n",
              "      <th>POS</th>\n",
              "      <th>DEPENDENCY</th>\n",
              "      <th>HEAD</th>\n",
              "      <th>HEAD_ANIMACY</th>\n",
              "      <th>HEAD_CASE</th>\n",
              "      <th>HEAD_GENDER</th>\n",
              "      <th>HEAD_POS</th>\n",
              "      <th>HEAD_VECT</th>\n",
              "      <th>SENT_VECT</th>\n",
              "      <th>HEAD_CHILDS_VECT</th>\n",
              "      <th>NER</th>\n",
              "      <th>COREFERENCE_CLUSTER</th>\n",
              "    </tr>\n",
              "  </thead>\n",
              "  <tbody>\n",
              "    <tr>\n",
              "      <th>0</th>\n",
              "      <td>8058</td>\n",
              "      <td>ибупрофен</td>\n",
              "      <td>0.637485</td>\n",
              "      <td>1</td>\n",
              "      <td>5</td>\n",
              "      <td>48</td>\n",
              "      <td>0</td>\n",
              "      <td>1856</td>\n",
              "      <td>-1</td>\n",
              "      <td>-1</td>\n",
              "      <td>0</td>\n",
              "      <td>-1</td>\n",
              "      <td>15</td>\n",
              "      <td>1</td>\n",
              "      <td>414</td>\n",
              "      <td>-1</td>\n",
              "      <td>-1</td>\n",
              "      <td>-1</td>\n",
              "      <td>-1</td>\n",
              "      <td>0.000000</td>\n",
              "      <td>0.487671</td>\n",
              "      <td>0.725556</td>\n",
              "      <td>0.0</td>\n",
              "      <td>0.0</td>\n",
              "    </tr>\n",
              "    <tr>\n",
              "      <th>1</th>\n",
              "      <td>3730</td>\n",
              "      <td>еще</td>\n",
              "      <td>0.317339</td>\n",
              "      <td>1</td>\n",
              "      <td>3</td>\n",
              "      <td>23</td>\n",
              "      <td>1</td>\n",
              "      <td>1846</td>\n",
              "      <td>-1</td>\n",
              "      <td>-1</td>\n",
              "      <td>-1</td>\n",
              "      <td>-1</td>\n",
              "      <td>8</td>\n",
              "      <td>5</td>\n",
              "      <td>747</td>\n",
              "      <td>0</td>\n",
              "      <td>1</td>\n",
              "      <td>1</td>\n",
              "      <td>1</td>\n",
              "      <td>0.338868</td>\n",
              "      <td>0.803301</td>\n",
              "      <td>0.352869</td>\n",
              "      <td>0.0</td>\n",
              "      <td>0.0</td>\n",
              "    </tr>\n",
              "    <tr>\n",
              "      <th>2</th>\n",
              "      <td>4351</td>\n",
              "      <td>в</td>\n",
              "      <td>0.194644</td>\n",
              "      <td>1</td>\n",
              "      <td>3</td>\n",
              "      <td>24</td>\n",
              "      <td>4</td>\n",
              "      <td>2467</td>\n",
              "      <td>-1</td>\n",
              "      <td>-1</td>\n",
              "      <td>-1</td>\n",
              "      <td>-1</td>\n",
              "      <td>7</td>\n",
              "      <td>9</td>\n",
              "      <td>945</td>\n",
              "      <td>0</td>\n",
              "      <td>5</td>\n",
              "      <td>1</td>\n",
              "      <td>1</td>\n",
              "      <td>0.414383</td>\n",
              "      <td>0.806958</td>\n",
              "      <td>0.365935</td>\n",
              "      <td>0.0</td>\n",
              "      <td>0.0</td>\n",
              "    </tr>\n",
              "    <tr>\n",
              "      <th>3</th>\n",
              "      <td>3085</td>\n",
              "      <td>в</td>\n",
              "      <td>0.194644</td>\n",
              "      <td>1</td>\n",
              "      <td>3</td>\n",
              "      <td>15</td>\n",
              "      <td>12</td>\n",
              "      <td>1201</td>\n",
              "      <td>-1</td>\n",
              "      <td>-1</td>\n",
              "      <td>-1</td>\n",
              "      <td>-1</td>\n",
              "      <td>7</td>\n",
              "      <td>9</td>\n",
              "      <td>578</td>\n",
              "      <td>0</td>\n",
              "      <td>2</td>\n",
              "      <td>1</td>\n",
              "      <td>1</td>\n",
              "      <td>0.276351</td>\n",
              "      <td>0.473107</td>\n",
              "      <td>0.500132</td>\n",
              "      <td>0.0</td>\n",
              "      <td>0.0</td>\n",
              "    </tr>\n",
              "    <tr>\n",
              "      <th>4</th>\n",
              "      <td>4118</td>\n",
              "      <td>за</td>\n",
              "      <td>0.197296</td>\n",
              "      <td>1</td>\n",
              "      <td>3</td>\n",
              "      <td>23</td>\n",
              "      <td>19</td>\n",
              "      <td>2234</td>\n",
              "      <td>-1</td>\n",
              "      <td>-1</td>\n",
              "      <td>-1</td>\n",
              "      <td>-1</td>\n",
              "      <td>7</td>\n",
              "      <td>9</td>\n",
              "      <td>873</td>\n",
              "      <td>0</td>\n",
              "      <td>0</td>\n",
              "      <td>1</td>\n",
              "      <td>1</td>\n",
              "      <td>0.354975</td>\n",
              "      <td>0.522420</td>\n",
              "      <td>0.487044</td>\n",
              "      <td>0.0</td>\n",
              "      <td>0.0</td>\n",
              "    </tr>\n",
              "    <tr>\n",
              "      <th>...</th>\n",
              "      <td>...</td>\n",
              "      <td>...</td>\n",
              "      <td>...</td>\n",
              "      <td>...</td>\n",
              "      <td>...</td>\n",
              "      <td>...</td>\n",
              "      <td>...</td>\n",
              "      <td>...</td>\n",
              "      <td>...</td>\n",
              "      <td>...</td>\n",
              "      <td>...</td>\n",
              "      <td>...</td>\n",
              "      <td>...</td>\n",
              "      <td>...</td>\n",
              "      <td>...</td>\n",
              "      <td>...</td>\n",
              "      <td>...</td>\n",
              "      <td>...</td>\n",
              "      <td>...</td>\n",
              "      <td>...</td>\n",
              "      <td>...</td>\n",
              "      <td>...</td>\n",
              "      <td>...</td>\n",
              "      <td>...</td>\n",
              "    </tr>\n",
              "    <tr>\n",
              "      <th>1607</th>\n",
              "      <td>5395</td>\n",
              "      <td>рина</td>\n",
              "      <td>0.456404</td>\n",
              "      <td>1</td>\n",
              "      <td>3</td>\n",
              "      <td>45</td>\n",
              "      <td>0</td>\n",
              "      <td>3511</td>\n",
              "      <td>1</td>\n",
              "      <td>0</td>\n",
              "      <td>1</td>\n",
              "      <td>-1</td>\n",
              "      <td>1</td>\n",
              "      <td>0</td>\n",
              "      <td>1118</td>\n",
              "      <td>1</td>\n",
              "      <td>0</td>\n",
              "      <td>1</td>\n",
              "      <td>1</td>\n",
              "      <td>0.198726</td>\n",
              "      <td>0.490095</td>\n",
              "      <td>0.359252</td>\n",
              "      <td>0.0</td>\n",
              "      <td>0.0</td>\n",
              "    </tr>\n",
              "    <tr>\n",
              "      <th>1608</th>\n",
              "      <td>7355</td>\n",
              "      <td>вопрос</td>\n",
              "      <td>0.293592</td>\n",
              "      <td>1</td>\n",
              "      <td>5</td>\n",
              "      <td>36</td>\n",
              "      <td>2</td>\n",
              "      <td>1153</td>\n",
              "      <td>0</td>\n",
              "      <td>0</td>\n",
              "      <td>0</td>\n",
              "      <td>-1</td>\n",
              "      <td>1</td>\n",
              "      <td>0</td>\n",
              "      <td>419</td>\n",
              "      <td>0</td>\n",
              "      <td>0</td>\n",
              "      <td>0</td>\n",
              "      <td>1</td>\n",
              "      <td>0.375784</td>\n",
              "      <td>0.450849</td>\n",
              "      <td>0.420151</td>\n",
              "      <td>0.0</td>\n",
              "      <td>0.0</td>\n",
              "    </tr>\n",
              "    <tr>\n",
              "      <th>1609</th>\n",
              "      <td>7562</td>\n",
              "      <td>недели</td>\n",
              "      <td>0.414771</td>\n",
              "      <td>1</td>\n",
              "      <td>5</td>\n",
              "      <td>37</td>\n",
              "      <td>5</td>\n",
              "      <td>1360</td>\n",
              "      <td>0</td>\n",
              "      <td>1</td>\n",
              "      <td>1</td>\n",
              "      <td>-1</td>\n",
              "      <td>1</td>\n",
              "      <td>10</td>\n",
              "      <td>1509</td>\n",
              "      <td>-1</td>\n",
              "      <td>-1</td>\n",
              "      <td>-1</td>\n",
              "      <td>3</td>\n",
              "      <td>0.506324</td>\n",
              "      <td>0.483823</td>\n",
              "      <td>0.542497</td>\n",
              "      <td>0.0</td>\n",
              "      <td>0.0</td>\n",
              "    </tr>\n",
              "    <tr>\n",
              "      <th>1610</th>\n",
              "      <td>293</td>\n",
              "      <td>подсела</td>\n",
              "      <td>0.472949</td>\n",
              "      <td>1</td>\n",
              "      <td>1</td>\n",
              "      <td>2</td>\n",
              "      <td>0</td>\n",
              "      <td>13</td>\n",
              "      <td>-1</td>\n",
              "      <td>-1</td>\n",
              "      <td>1</td>\n",
              "      <td>-1</td>\n",
              "      <td>0</td>\n",
              "      <td>6</td>\n",
              "      <td>98</td>\n",
              "      <td>-1</td>\n",
              "      <td>-1</td>\n",
              "      <td>-1</td>\n",
              "      <td>5</td>\n",
              "      <td>0.427657</td>\n",
              "      <td>0.423854</td>\n",
              "      <td>0.504989</td>\n",
              "      <td>0.0</td>\n",
              "      <td>0.0</td>\n",
              "    </tr>\n",
              "    <tr>\n",
              "      <th>1611</th>\n",
              "      <td>2026</td>\n",
              "      <td>u.s</td>\n",
              "      <td>0.000000</td>\n",
              "      <td>1</td>\n",
              "      <td>3</td>\n",
              "      <td>5</td>\n",
              "      <td>0</td>\n",
              "      <td>142</td>\n",
              "      <td>-1</td>\n",
              "      <td>-1</td>\n",
              "      <td>-1</td>\n",
              "      <td>-1</td>\n",
              "      <td>-1</td>\n",
              "      <td>28</td>\n",
              "      <td>471</td>\n",
              "      <td>-1</td>\n",
              "      <td>-1</td>\n",
              "      <td>-1</td>\n",
              "      <td>-1</td>\n",
              "      <td>0.367444</td>\n",
              "      <td>0.413066</td>\n",
              "      <td>0.394856</td>\n",
              "      <td>0.0</td>\n",
              "      <td>0.0</td>\n",
              "    </tr>\n",
              "  </tbody>\n",
              "</table>\n",
              "<p>1612 rows × 24 columns</p>\n",
              "</div>"
            ],
            "text/plain": [
              "      index      TOKEN  TOKEN_VECT  ...  HEAD_CHILDS_VECT  NER  COREFERENCE_CLUSTER\n",
              "0      8058  ибупрофен    0.637485  ...          0.725556  0.0                  0.0\n",
              "1      3730        еще    0.317339  ...          0.352869  0.0                  0.0\n",
              "2      4351          в    0.194644  ...          0.365935  0.0                  0.0\n",
              "3      3085          в    0.194644  ...          0.500132  0.0                  0.0\n",
              "4      4118         за    0.197296  ...          0.487044  0.0                  0.0\n",
              "...     ...        ...         ...  ...               ...  ...                  ...\n",
              "1607   5395       рина    0.456404  ...          0.359252  0.0                  0.0\n",
              "1608   7355     вопрос    0.293592  ...          0.420151  0.0                  0.0\n",
              "1609   7562     недели    0.414771  ...          0.542497  0.0                  0.0\n",
              "1610    293    подсела    0.472949  ...          0.504989  0.0                  0.0\n",
              "1611   2026        u.s    0.000000  ...          0.394856  0.0                  0.0\n",
              "\n",
              "[1612 rows x 24 columns]"
            ]
          },
          "metadata": {
            "tags": []
          },
          "execution_count": 102
        }
      ]
    },
    {
      "cell_type": "markdown",
      "metadata": {
        "id": "59_MptFSzbP9"
      },
      "source": [
        "Делаем наборы для обучения моделей."
      ]
    },
    {
      "cell_type": "code",
      "metadata": {
        "id": "Gz0Kri_pTC1s"
      },
      "source": [
        "X, y, X_test, y_test = train.drop(['TOKEN', 'index'], axis=1).iloc[:,:23], train.COREFERENCE_CLUSTER, test.drop(['TOKEN', 'index'], axis=1).iloc[:,:24], test.COREFERENCE_CLUSTER"
      ],
      "execution_count": 103,
      "outputs": []
    },
    {
      "cell_type": "code",
      "metadata": {
        "colab": {
          "base_uri": "https://localhost:8080/",
          "height": 427
        },
        "id": "t3H4tT8RUKbb",
        "outputId": "b46821dc-eda6-4bec-b59f-73ddb571705d"
      },
      "source": [
        "X"
      ],
      "execution_count": 104,
      "outputs": [
        {
          "output_type": "execute_result",
          "data": {
            "text/html": [
              "<div>\n",
              "<style scoped>\n",
              "    .dataframe tbody tr th:only-of-type {\n",
              "        vertical-align: middle;\n",
              "    }\n",
              "\n",
              "    .dataframe tbody tr th {\n",
              "        vertical-align: top;\n",
              "    }\n",
              "\n",
              "    .dataframe thead th {\n",
              "        text-align: right;\n",
              "    }\n",
              "</style>\n",
              "<table border=\"1\" class=\"dataframe\">\n",
              "  <thead>\n",
              "    <tr style=\"text-align: right;\">\n",
              "      <th></th>\n",
              "      <th>TOKEN_VECT</th>\n",
              "      <th>IS_ANSWER</th>\n",
              "      <th>TOPIC_NUM</th>\n",
              "      <th>POST_NUM</th>\n",
              "      <th>SENT_NUM</th>\n",
              "      <th>TOKEN_NUM</th>\n",
              "      <th>ANIMACY</th>\n",
              "      <th>CASE</th>\n",
              "      <th>GENDER</th>\n",
              "      <th>PERSON</th>\n",
              "      <th>POS</th>\n",
              "      <th>DEPENDENCY</th>\n",
              "      <th>HEAD</th>\n",
              "      <th>HEAD_ANIMACY</th>\n",
              "      <th>HEAD_CASE</th>\n",
              "      <th>HEAD_GENDER</th>\n",
              "      <th>HEAD_POS</th>\n",
              "      <th>HEAD_VECT</th>\n",
              "      <th>SENT_VECT</th>\n",
              "      <th>HEAD_CHILDS_VECT</th>\n",
              "      <th>NER</th>\n",
              "      <th>COREFERENCE_CLUSTER</th>\n",
              "    </tr>\n",
              "  </thead>\n",
              "  <tbody>\n",
              "    <tr>\n",
              "      <th>0</th>\n",
              "      <td>0.442453</td>\n",
              "      <td>0</td>\n",
              "      <td>1</td>\n",
              "      <td>1</td>\n",
              "      <td>9</td>\n",
              "      <td>3</td>\n",
              "      <td>0</td>\n",
              "      <td>1</td>\n",
              "      <td>2</td>\n",
              "      <td>-1</td>\n",
              "      <td>1</td>\n",
              "      <td>21</td>\n",
              "      <td>51</td>\n",
              "      <td>0</td>\n",
              "      <td>5</td>\n",
              "      <td>0</td>\n",
              "      <td>1</td>\n",
              "      <td>0.324089</td>\n",
              "      <td>0.620564</td>\n",
              "      <td>0.417731</td>\n",
              "      <td>0.0</td>\n",
              "      <td>0.0</td>\n",
              "    </tr>\n",
              "    <tr>\n",
              "      <th>1</th>\n",
              "      <td>0.206537</td>\n",
              "      <td>1</td>\n",
              "      <td>3</td>\n",
              "      <td>36</td>\n",
              "      <td>2</td>\n",
              "      <td>2945</td>\n",
              "      <td>-1</td>\n",
              "      <td>-1</td>\n",
              "      <td>-1</td>\n",
              "      <td>-1</td>\n",
              "      <td>0</td>\n",
              "      <td>0</td>\n",
              "      <td>422</td>\n",
              "      <td>-1</td>\n",
              "      <td>-1</td>\n",
              "      <td>-1</td>\n",
              "      <td>0</td>\n",
              "      <td>0.293284</td>\n",
              "      <td>0.542475</td>\n",
              "      <td>0.388566</td>\n",
              "      <td>0.0</td>\n",
              "      <td>0.0</td>\n",
              "    </tr>\n",
              "    <tr>\n",
              "      <th>2</th>\n",
              "      <td>0.359865</td>\n",
              "      <td>1</td>\n",
              "      <td>3</td>\n",
              "      <td>18</td>\n",
              "      <td>2</td>\n",
              "      <td>1392</td>\n",
              "      <td>0</td>\n",
              "      <td>1</td>\n",
              "      <td>2</td>\n",
              "      <td>-1</td>\n",
              "      <td>1</td>\n",
              "      <td>10</td>\n",
              "      <td>617</td>\n",
              "      <td>-1</td>\n",
              "      <td>-1</td>\n",
              "      <td>1</td>\n",
              "      <td>0</td>\n",
              "      <td>0.343327</td>\n",
              "      <td>0.553312</td>\n",
              "      <td>0.527563</td>\n",
              "      <td>0.0</td>\n",
              "      <td>0.0</td>\n",
              "    </tr>\n",
              "    <tr>\n",
              "      <th>3</th>\n",
              "      <td>0.339302</td>\n",
              "      <td>1</td>\n",
              "      <td>1</td>\n",
              "      <td>8</td>\n",
              "      <td>1</td>\n",
              "      <td>250</td>\n",
              "      <td>0</td>\n",
              "      <td>1</td>\n",
              "      <td>2</td>\n",
              "      <td>-1</td>\n",
              "      <td>1</td>\n",
              "      <td>12</td>\n",
              "      <td>114</td>\n",
              "      <td>-1</td>\n",
              "      <td>-1</td>\n",
              "      <td>-1</td>\n",
              "      <td>5</td>\n",
              "      <td>0.340372</td>\n",
              "      <td>0.357843</td>\n",
              "      <td>0.364362</td>\n",
              "      <td>0.0</td>\n",
              "      <td>0.0</td>\n",
              "    </tr>\n",
              "    <tr>\n",
              "      <th>4</th>\n",
              "      <td>0.282847</td>\n",
              "      <td>1</td>\n",
              "      <td>5</td>\n",
              "      <td>44</td>\n",
              "      <td>4</td>\n",
              "      <td>1657</td>\n",
              "      <td>-1</td>\n",
              "      <td>-1</td>\n",
              "      <td>-1</td>\n",
              "      <td>-1</td>\n",
              "      <td>8</td>\n",
              "      <td>5</td>\n",
              "      <td>300</td>\n",
              "      <td>0</td>\n",
              "      <td>2</td>\n",
              "      <td>0</td>\n",
              "      <td>1</td>\n",
              "      <td>0.406537</td>\n",
              "      <td>0.664034</td>\n",
              "      <td>0.395589</td>\n",
              "      <td>0.0</td>\n",
              "      <td>0.0</td>\n",
              "    </tr>\n",
              "    <tr>\n",
              "      <th>...</th>\n",
              "      <td>...</td>\n",
              "      <td>...</td>\n",
              "      <td>...</td>\n",
              "      <td>...</td>\n",
              "      <td>...</td>\n",
              "      <td>...</td>\n",
              "      <td>...</td>\n",
              "      <td>...</td>\n",
              "      <td>...</td>\n",
              "      <td>...</td>\n",
              "      <td>...</td>\n",
              "      <td>...</td>\n",
              "      <td>...</td>\n",
              "      <td>...</td>\n",
              "      <td>...</td>\n",
              "      <td>...</td>\n",
              "      <td>...</td>\n",
              "      <td>...</td>\n",
              "      <td>...</td>\n",
              "      <td>...</td>\n",
              "      <td>...</td>\n",
              "      <td>...</td>\n",
              "    </tr>\n",
              "    <tr>\n",
              "      <th>6443</th>\n",
              "      <td>0.193186</td>\n",
              "      <td>1</td>\n",
              "      <td>3</td>\n",
              "      <td>29</td>\n",
              "      <td>0</td>\n",
              "      <td>2599</td>\n",
              "      <td>-1</td>\n",
              "      <td>-1</td>\n",
              "      <td>-1</td>\n",
              "      <td>-1</td>\n",
              "      <td>7</td>\n",
              "      <td>9</td>\n",
              "      <td>683</td>\n",
              "      <td>1</td>\n",
              "      <td>1</td>\n",
              "      <td>0</td>\n",
              "      <td>1</td>\n",
              "      <td>0.289132</td>\n",
              "      <td>0.558765</td>\n",
              "      <td>0.248319</td>\n",
              "      <td>0.0</td>\n",
              "      <td>0.0</td>\n",
              "    </tr>\n",
              "    <tr>\n",
              "      <th>6444</th>\n",
              "      <td>0.396461</td>\n",
              "      <td>1</td>\n",
              "      <td>1</td>\n",
              "      <td>2</td>\n",
              "      <td>3</td>\n",
              "      <td>45</td>\n",
              "      <td>-1</td>\n",
              "      <td>0</td>\n",
              "      <td>-1</td>\n",
              "      <td>-1</td>\n",
              "      <td>10</td>\n",
              "      <td>17</td>\n",
              "      <td>140</td>\n",
              "      <td>0</td>\n",
              "      <td>0</td>\n",
              "      <td>0</td>\n",
              "      <td>1</td>\n",
              "      <td>0.269690</td>\n",
              "      <td>0.527668</td>\n",
              "      <td>0.411001</td>\n",
              "      <td>0.0</td>\n",
              "      <td>0.0</td>\n",
              "    </tr>\n",
              "    <tr>\n",
              "      <th>6445</th>\n",
              "      <td>0.399625</td>\n",
              "      <td>1</td>\n",
              "      <td>2</td>\n",
              "      <td>13</td>\n",
              "      <td>2</td>\n",
              "      <td>685</td>\n",
              "      <td>-1</td>\n",
              "      <td>3</td>\n",
              "      <td>1</td>\n",
              "      <td>-1</td>\n",
              "      <td>10</td>\n",
              "      <td>4</td>\n",
              "      <td>275</td>\n",
              "      <td>-1</td>\n",
              "      <td>2</td>\n",
              "      <td>1</td>\n",
              "      <td>8</td>\n",
              "      <td>0.351504</td>\n",
              "      <td>0.347518</td>\n",
              "      <td>0.627908</td>\n",
              "      <td>0.0</td>\n",
              "      <td>755.0</td>\n",
              "    </tr>\n",
              "    <tr>\n",
              "      <th>6446</th>\n",
              "      <td>0.384189</td>\n",
              "      <td>1</td>\n",
              "      <td>3</td>\n",
              "      <td>23</td>\n",
              "      <td>7</td>\n",
              "      <td>2034</td>\n",
              "      <td>0</td>\n",
              "      <td>0</td>\n",
              "      <td>0</td>\n",
              "      <td>-1</td>\n",
              "      <td>1</td>\n",
              "      <td>1</td>\n",
              "      <td>795</td>\n",
              "      <td>-1</td>\n",
              "      <td>-1</td>\n",
              "      <td>1</td>\n",
              "      <td>0</td>\n",
              "      <td>0.408169</td>\n",
              "      <td>0.773352</td>\n",
              "      <td>0.460142</td>\n",
              "      <td>0.0</td>\n",
              "      <td>0.0</td>\n",
              "    </tr>\n",
              "    <tr>\n",
              "      <th>6447</th>\n",
              "      <td>0.152379</td>\n",
              "      <td>1</td>\n",
              "      <td>3</td>\n",
              "      <td>23</td>\n",
              "      <td>29</td>\n",
              "      <td>2388</td>\n",
              "      <td>-1</td>\n",
              "      <td>-1</td>\n",
              "      <td>-1</td>\n",
              "      <td>-1</td>\n",
              "      <td>7</td>\n",
              "      <td>9</td>\n",
              "      <td>930</td>\n",
              "      <td>0</td>\n",
              "      <td>0</td>\n",
              "      <td>0</td>\n",
              "      <td>1</td>\n",
              "      <td>0.425073</td>\n",
              "      <td>0.542718</td>\n",
              "      <td>0.224044</td>\n",
              "      <td>0.0</td>\n",
              "      <td>0.0</td>\n",
              "    </tr>\n",
              "  </tbody>\n",
              "</table>\n",
              "<p>6448 rows × 22 columns</p>\n",
              "</div>"
            ],
            "text/plain": [
              "      TOKEN_VECT  IS_ANSWER  ...  NER  COREFERENCE_CLUSTER\n",
              "0       0.442453          0  ...  0.0                  0.0\n",
              "1       0.206537          1  ...  0.0                  0.0\n",
              "2       0.359865          1  ...  0.0                  0.0\n",
              "3       0.339302          1  ...  0.0                  0.0\n",
              "4       0.282847          1  ...  0.0                  0.0\n",
              "...          ...        ...  ...  ...                  ...\n",
              "6443    0.193186          1  ...  0.0                  0.0\n",
              "6444    0.396461          1  ...  0.0                  0.0\n",
              "6445    0.399625          1  ...  0.0                755.0\n",
              "6446    0.384189          1  ...  0.0                  0.0\n",
              "6447    0.152379          1  ...  0.0                  0.0\n",
              "\n",
              "[6448 rows x 22 columns]"
            ]
          },
          "metadata": {
            "tags": []
          },
          "execution_count": 104
        }
      ]
    },
    {
      "cell_type": "code",
      "metadata": {
        "colab": {
          "base_uri": "https://localhost:8080/"
        },
        "id": "gV3OdD0OUKeU",
        "outputId": "84973f84-466a-4654-9a2a-bfd87fe6739f"
      },
      "source": [
        "y"
      ],
      "execution_count": 105,
      "outputs": [
        {
          "output_type": "execute_result",
          "data": {
            "text/plain": [
              "0         0.0\n",
              "1         0.0\n",
              "2         0.0\n",
              "3         0.0\n",
              "4         0.0\n",
              "        ...  \n",
              "6443      0.0\n",
              "6444      0.0\n",
              "6445    755.0\n",
              "6446      0.0\n",
              "6447      0.0\n",
              "Name: COREFERENCE_CLUSTER, Length: 6448, dtype: float64"
            ]
          },
          "metadata": {
            "tags": []
          },
          "execution_count": 105
        }
      ]
    },
    {
      "cell_type": "markdown",
      "metadata": {
        "id": "5tK813duz_3P"
      },
      "source": [
        "Обучаем модели."
      ]
    },
    {
      "cell_type": "code",
      "metadata": {
        "colab": {
          "base_uri": "https://localhost:8080/"
        },
        "id": "lpdNSWV0fl47",
        "outputId": "b0cab21d-af21-4f92-d911-e81bbb823394"
      },
      "source": [
        "clf = tree.DecisionTreeClassifier(max_depth=200)\n",
        "clf.fit(X, y)"
      ],
      "execution_count": 106,
      "outputs": [
        {
          "output_type": "execute_result",
          "data": {
            "text/plain": [
              "DecisionTreeClassifier(ccp_alpha=0.0, class_weight=None, criterion='gini',\n",
              "                       max_depth=200, max_features=None, max_leaf_nodes=None,\n",
              "                       min_impurity_decrease=0.0, min_impurity_split=None,\n",
              "                       min_samples_leaf=1, min_samples_split=2,\n",
              "                       min_weight_fraction_leaf=0.0, presort='deprecated',\n",
              "                       random_state=None, splitter='best')"
            ]
          },
          "metadata": {
            "tags": []
          },
          "execution_count": 106
        }
      ]
    },
    {
      "cell_type": "code",
      "metadata": {
        "id": "7EOq1DxzyAiQ",
        "colab": {
          "base_uri": "https://localhost:8080/"
        },
        "outputId": "3a1a9849-32bf-4088-8907-2017d806029f"
      },
      "source": [
        "clf_entropy = tree.DecisionTreeClassifier(criterion='entropy', max_depth=200)\n",
        "clf_entropy.fit(X, y)"
      ],
      "execution_count": 133,
      "outputs": [
        {
          "output_type": "execute_result",
          "data": {
            "text/plain": [
              "DecisionTreeClassifier(ccp_alpha=0.0, class_weight=None, criterion='entropy',\n",
              "                       max_depth=200, max_features=None, max_leaf_nodes=None,\n",
              "                       min_impurity_decrease=0.0, min_impurity_split=None,\n",
              "                       min_samples_leaf=1, min_samples_split=2,\n",
              "                       min_weight_fraction_leaf=0.0, presort='deprecated',\n",
              "                       random_state=None, splitter='best')"
            ]
          },
          "metadata": {
            "tags": []
          },
          "execution_count": 133
        }
      ]
    },
    {
      "cell_type": "code",
      "metadata": {
        "id": "RlsU2DAPDtdR",
        "colab": {
          "base_uri": "https://localhost:8080/"
        },
        "outputId": "2fffa14a-ea5e-40ab-beee-c4ad49aa8bfe"
      },
      "source": [
        "clf.score(X_test, y_test), clf_entropy.score(X_test, y_test)"
      ],
      "execution_count": 134,
      "outputs": [
        {
          "output_type": "execute_result",
          "data": {
            "text/plain": [
              "(0.9330024813895782, 0.9317617866004962)"
            ]
          },
          "metadata": {
            "tags": []
          },
          "execution_count": 134
        }
      ]
    },
    {
      "cell_type": "code",
      "metadata": {
        "id": "795Z0wfKBMRp",
        "outputId": "703b1fd5-28e3-4a55-ca2f-15503e8d6a28",
        "colab": {
          "base_uri": "https://localhost:8080/"
        }
      },
      "source": [
        "randf_clf = RandomForestClassifier(max_depth=15, n_estimators=600, min_samples_split=4, bootstrap=True, )\n",
        "randf_clf.fit(X, y)"
      ],
      "execution_count": 135,
      "outputs": [
        {
          "output_type": "execute_result",
          "data": {
            "text/plain": [
              "RandomForestClassifier(bootstrap=True, ccp_alpha=0.0, class_weight=None,\n",
              "                       criterion='gini', max_depth=15, max_features='auto',\n",
              "                       max_leaf_nodes=None, max_samples=None,\n",
              "                       min_impurity_decrease=0.0, min_impurity_split=None,\n",
              "                       min_samples_leaf=1, min_samples_split=4,\n",
              "                       min_weight_fraction_leaf=0.0, n_estimators=600,\n",
              "                       n_jobs=None, oob_score=False, random_state=None,\n",
              "                       verbose=0, warm_start=False)"
            ]
          },
          "metadata": {
            "tags": []
          },
          "execution_count": 135
        }
      ]
    },
    {
      "cell_type": "code",
      "metadata": {
        "id": "h8j0eFJPEDCI",
        "outputId": "7f0cebcb-ecdc-4f31-b593-d5b8f266a794",
        "colab": {
          "base_uri": "https://localhost:8080/"
        }
      },
      "source": [
        "regr = linear_model.LinearRegression()\n",
        "regr.fit(X, y)"
      ],
      "execution_count": 150,
      "outputs": [
        {
          "output_type": "execute_result",
          "data": {
            "text/plain": [
              "LinearRegression(copy_X=True, fit_intercept=True, n_jobs=None, normalize=False)"
            ]
          },
          "metadata": {
            "tags": []
          },
          "execution_count": 150
        }
      ]
    },
    {
      "cell_type": "markdown",
      "metadata": {
        "id": "wBG278Rc0_XD"
      },
      "source": [
        "Функция для оценки моделей"
      ]
    },
    {
      "cell_type": "code",
      "metadata": {
        "id": "FSTKYAktXiS9"
      },
      "source": [
        "def my_eval(X_predicted, y):\n",
        "  \n",
        "  tp = []\n",
        "  fp = []\n",
        "  tn = []\n",
        "  fn = []\n",
        "\n",
        "  for i in range(len(X_predicted)):\n",
        "    if X_predicted[i] != 0.0:\n",
        "      if X_predicted[i] == y_test[i]:\n",
        "        tp.append(i)\n",
        "      else:\n",
        "        fp.append(i)\n",
        "    # берем только те синглтоны, которые относятся к номинативным или прономинальным группам.\n",
        "    elif X_predicted[i] == 0.0 and test.iloc[:,22:23].iloc[[i]].values[0][0] in (2.0, 3.0):\n",
        "      if X_predicted[i] == y_test[i]:\n",
        "        tn.append(i)\n",
        "      else:\n",
        "        fn.append(i)\n",
        "\n",
        "  P = len(tp)/(len(tp) + len(fp))\n",
        "  R = len(tp)/(len(tp) + len(fn))\n",
        "  F = 2*P*R/(P+R)\n",
        "\n",
        "  print(len(tp), ' true positive')\n",
        "  print(len(fp), ' false positive')\n",
        "  print(len(tn), ' true negative')\n",
        "  print(len(fn), ' false negative')\n",
        "  print('---------')\n",
        "  print(P,' presicion')\n",
        "  print(R, ' recall')\n",
        "  print(F, ' f-score')\n",
        "\n"
      ],
      "execution_count": 145,
      "outputs": []
    },
    {
      "cell_type": "code",
      "metadata": {
        "id": "q0ss_ZBr73-y"
      },
      "source": [
        "pred= clf_ent.predict(X_test)\n",
        "pred_randf = randf_clf.predict(X_test)\n",
        "pred_entropy = clf_entropy.predict(X_test)\n",
        "pred_regr = regr.predict(X_test)"
      ],
      "execution_count": 151,
      "outputs": []
    },
    {
      "cell_type": "code",
      "metadata": {
        "id": "ZUoq9gZXyout",
        "colab": {
          "base_uri": "https://localhost:8080/"
        },
        "outputId": "e6c37553-4a16-494d-d82b-3a6981c8da1b"
      },
      "source": [
        "my_eval(list(pred), list(y_test))"
      ],
      "execution_count": 147,
      "outputs": [
        {
          "output_type": "stream",
          "text": [
            "25  true positive\n",
            "109  false positive\n",
            "8  true negative\n",
            "0  false negative\n",
            "---------\n",
            "0.1865671641791045  presicion\n",
            "1.0  recall\n",
            "0.3144654088050315  f-score\n"
          ],
          "name": "stdout"
        }
      ]
    },
    {
      "cell_type": "code",
      "metadata": {
        "id": "Zg4pmJBnDFtw",
        "outputId": "00b9154f-15db-4e53-bcb6-c4ad748f4561",
        "colab": {
          "base_uri": "https://localhost:8080/"
        }
      },
      "source": [
        "my_eval(list(pred_randf), list(y_test))"
      ],
      "execution_count": 148,
      "outputs": [
        {
          "output_type": "stream",
          "text": [
            "14  true positive\n",
            "114  false positive\n",
            "8  true negative\n",
            "3  false negative\n",
            "---------\n",
            "0.109375  presicion\n",
            "0.8235294117647058  recall\n",
            "0.19310344827586207  f-score\n"
          ],
          "name": "stdout"
        }
      ]
    },
    {
      "cell_type": "code",
      "metadata": {
        "id": "dVEiXSg9DF3Z",
        "outputId": "400aec8c-9ab5-4eb2-e9e8-e6c1d8c86a35",
        "colab": {
          "base_uri": "https://localhost:8080/"
        }
      },
      "source": [
        "my_eval(list(pred_entropy), list(y_test))"
      ],
      "execution_count": 149,
      "outputs": [
        {
          "output_type": "stream",
          "text": [
            "24  true positive\n",
            "110  false positive\n",
            "8  true negative\n",
            "0  false negative\n",
            "---------\n",
            "0.1791044776119403  presicion\n",
            "1.0  recall\n",
            "0.30379746835443033  f-score\n"
          ],
          "name": "stdout"
        }
      ]
    },
    {
      "cell_type": "code",
      "metadata": {
        "id": "aGTYbbgLEQxy",
        "outputId": "c2eb5b7f-a928-4937-bdbd-02d091dc4dbb",
        "colab": {
          "base_uri": "https://localhost:8080/"
        }
      },
      "source": [
        "my_eval(list(pred_regr), list(y_test))"
      ],
      "execution_count": 152,
      "outputs": [
        {
          "output_type": "stream",
          "text": [
            "2  true positive\n",
            "1610  false positive\n",
            "0  true negative\n",
            "0  false negative\n",
            "---------\n",
            "0.0012406947890818859  presicion\n",
            "1.0  recall\n",
            "0.0024783147459727386  f-score\n"
          ],
          "name": "stdout"
        }
      ]
    },
    {
      "cell_type": "code",
      "metadata": {
        "id": "g7isaHkricHw"
      },
      "source": [
        ""
      ],
      "execution_count": null,
      "outputs": []
    }
  ]
}