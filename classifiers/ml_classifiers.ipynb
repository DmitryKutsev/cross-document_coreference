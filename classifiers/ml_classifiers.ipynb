{
  "nbformat": 4,
  "nbformat_minor": 0,
  "metadata": {
    "colab": {
      "name": "Untitled63.ipynb",
      "provenance": [],
      "authorship_tag": "ABX9TyPGbqzpP+SMVtnsE9rl+ddY",
      "include_colab_link": true
    },
    "kernelspec": {
      "name": "python3",
      "display_name": "Python 3"
    },
    "language_info": {
      "name": "python"
    }
  },
  "cells": [
    {
      "cell_type": "markdown",
      "metadata": {
        "id": "view-in-github",
        "colab_type": "text"
      },
      "source": [
        "<a href=\"https://colab.research.google.com/github/DmitryKutsev/cross-document_coreference/blob/main/classifiers/ml_classifiers.ipynb\" target=\"_parent\"><img src=\"https://colab.research.google.com/assets/colab-badge.svg\" alt=\"Open In Colab\"/></a>"
      ]
    },
    {
      "cell_type": "markdown",
      "metadata": {
        "id": "MR2ASbW_mPHn"
      },
      "source": [
        "## **Импорт**"
      ]
    },
    {
      "cell_type": "code",
      "metadata": {
        "id": "jRqz8PB_SGaz"
      },
      "source": [
        "import pandas as pd\n",
        "import matplotlib.pyplot as plt\n",
        "import seaborn as sns\n",
        "%matplotlib inline\n"
      ],
      "execution_count": 218,
      "outputs": []
    },
    {
      "cell_type": "code",
      "metadata": {
        "id": "OFLx7egYS2qN"
      },
      "source": [
        "from IPython.display import SVG, display, HTML"
      ],
      "execution_count": 219,
      "outputs": []
    },
    {
      "cell_type": "code",
      "metadata": {
        "id": "5Lhnxf_FoRVA",
        "colab": {
          "base_uri": "https://localhost:8080/"
        },
        "outputId": "521d9c7c-f1f6-42f5-eade-5f0554bbea76"
      },
      "source": [
        "from google.colab import drive\n",
        "drive.mount('./content', force_remount=False)"
      ],
      "execution_count": 220,
      "outputs": [
        {
          "output_type": "stream",
          "text": [
            "Drive already mounted at ./content; to attempt to forcibly remount, call drive.mount(\"./content\", force_remount=True).\n"
          ],
          "name": "stdout"
        }
      ]
    },
    {
      "cell_type": "code",
      "metadata": {
        "id": "e6z5yVCTZght"
      },
      "source": [
        "import spacy\n",
        "\n",
        "import gensim\n",
        "from gensim.models import Word2Vec \n",
        "from gensim.models import FastText\n",
        "\n",
        "from nltk.tokenize import RegexpTokenizer\n",
        "from nltk import  sent_tokenize\n",
        "from sklearn.metrics.pairwise import cosine_distances, cosine_similarity\n",
        "import numpy as np\n",
        "import pandas as pd\n",
        "from sklearn.feature_extraction.text import TfidfVectorizer"
      ],
      "execution_count": 244,
      "outputs": []
    },
    {
      "cell_type": "code",
      "metadata": {
        "id": "p8tYiCNJzF46"
      },
      "source": [
        "from graphviz import Source\n",
        "from sklearn import tree, svm, linear_model\n",
        "from sklearn.metrics import confusion_matrix, f1_score, accuracy_score\n",
        "from sklearn.ensemble import RandomForestClassifier\n",
        "from sklearn.neighbors import KNeighborsClassifier\n"
      ],
      "execution_count": 222,
      "outputs": []
    },
    {
      "cell_type": "code",
      "metadata": {
        "id": "J_7xbdMuo_RW",
        "colab": {
          "base_uri": "https://localhost:8080/"
        },
        "outputId": "6bbf4965-d5ad-4258-c65d-66162c1cab16"
      },
      "source": [
        "!ls\n",
        "import os\n",
        "for i in os.listdir('content/'):\n",
        "  print(i)"
      ],
      "execution_count": 223,
      "outputs": [
        {
          "output_type": "stream",
          "text": [
            "content\t\t new_anns60k.csv.1  new_coref_df_anns60k.csv  sample_data\n",
            "new_anns60k.csv  new_anns60k.csv.2  new_df_anns60k.csv\n",
            "MyDrive\n",
            ".shortcut-targets-by-id\n",
            ".file-revisions-by-id\n",
            ".Trash\n"
          ],
          "name": "stdout"
        }
      ]
    },
    {
      "cell_type": "code",
      "metadata": {
        "id": "L7z8djaJTABE"
      },
      "source": [
        "import csv\n",
        "import re\n",
        "from google.colab import files\n",
        "from sklearn.model_selection import train_test_split\n",
        "from sklearn.metrics.pairwise import cosine_similarity"
      ],
      "execution_count": 224,
      "outputs": []
    },
    {
      "cell_type": "markdown",
      "metadata": {
        "id": "UYfVvz6CmVMq"
      },
      "source": [
        "## **Обработка данных**"
      ]
    },
    {
      "cell_type": "code",
      "metadata": {
        "colab": {
          "base_uri": "https://localhost:8080/"
        },
        "id": "DHp2dDuqZj6h",
        "outputId": "7cfb8a3e-9936-42ac-d164-75934eb423a5"
      },
      "source": [
        "!wget https://raw.githubusercontent.com/DmitryKutsev/cross-document_coreference/main/scraping/neuroleptic_antidepr2.txt\n",
        "!wget https://raw.githubusercontent.com/DmitryKutsev/cross-document_coreference/main/scraping/rakpobedim_ru2.txt\n",
        "!wget https://raw.githubusercontent.com/DmitryKutsev/cross-document_coreference/main/scraping/hv-info_gepatit2.txt"
      ],
      "execution_count": 225,
      "outputs": [
        {
          "output_type": "stream",
          "text": [
            "--2021-05-23 14:20:03--  https://raw.githubusercontent.com/DmitryKutsev/cross-document_coreference/main/scraping/neuroleptic_antidepr2.txt\n",
            "Resolving raw.githubusercontent.com (raw.githubusercontent.com)... 185.199.108.133, 185.199.109.133, 185.199.110.133, ...\n",
            "Connecting to raw.githubusercontent.com (raw.githubusercontent.com)|185.199.108.133|:443... connected.\n",
            "HTTP request sent, awaiting response... 200 OK\n",
            "Length: 11655409 (11M) [text/plain]\n",
            "Saving to: ‘neuroleptic_antidepr2.txt’\n",
            "\n",
            "neuroleptic_antidep 100%[===================>]  11.12M  16.7MB/s    in 0.7s    \n",
            "\n",
            "2021-05-23 14:20:05 (16.7 MB/s) - ‘neuroleptic_antidepr2.txt’ saved [11655409/11655409]\n",
            "\n",
            "--2021-05-23 14:20:05--  https://raw.githubusercontent.com/DmitryKutsev/cross-document_coreference/main/scraping/rakpobedim_ru2.txt\n",
            "Resolving raw.githubusercontent.com (raw.githubusercontent.com)... 185.199.108.133, 185.199.110.133, 185.199.111.133, ...\n",
            "Connecting to raw.githubusercontent.com (raw.githubusercontent.com)|185.199.108.133|:443... connected.\n",
            "HTTP request sent, awaiting response... 200 OK\n",
            "Length: 19072917 (18M) [text/plain]\n",
            "Saving to: ‘rakpobedim_ru2.txt’\n",
            "\n",
            "rakpobedim_ru2.txt  100%[===================>]  18.19M  21.0MB/s    in 0.9s    \n",
            "\n",
            "2021-05-23 14:20:08 (21.0 MB/s) - ‘rakpobedim_ru2.txt’ saved [19072917/19072917]\n",
            "\n",
            "--2021-05-23 14:20:08--  https://raw.githubusercontent.com/DmitryKutsev/cross-document_coreference/main/scraping/hv-info_gepatit2.txt\n",
            "Resolving raw.githubusercontent.com (raw.githubusercontent.com)... 185.199.110.133, 185.199.111.133, 185.199.109.133, ...\n",
            "Connecting to raw.githubusercontent.com (raw.githubusercontent.com)|185.199.110.133|:443... connected.\n",
            "HTTP request sent, awaiting response... 200 OK\n",
            "Length: 18273113 (17M) [text/plain]\n",
            "Saving to: ‘hv-info_gepatit2.txt’\n",
            "\n",
            "hv-info_gepatit2.tx 100%[===================>]  17.43M  20.5MB/s    in 0.8s    \n",
            "\n",
            "2021-05-23 14:20:10 (20.5 MB/s) - ‘hv-info_gepatit2.txt’ saved [18273113/18273113]\n",
            "\n"
          ],
          "name": "stdout"
        }
      ]
    },
    {
      "cell_type": "code",
      "metadata": {
        "id": "xk_hRf26TjUD",
        "colab": {
          "base_uri": "https://localhost:8080/"
        },
        "outputId": "4070020d-a067-4d9e-c619-6c10404bbec1"
      },
      "source": [
        "!wget https://raw.githubusercontent.com/DmitryKutsev/cross-document_coreference/main/data/coref_df_anns60k.csv\n",
        "!wget https://raw.githubusercontent.com/DmitryKutsev/cross-document_coreference/main/data/annotation_table.csv"
      ],
      "execution_count": 226,
      "outputs": [
        {
          "output_type": "stream",
          "text": [
            "--2021-05-23 14:20:10--  https://raw.githubusercontent.com/DmitryKutsev/cross-document_coreference/main/data/coref_df_anns60k.csv\n",
            "Resolving raw.githubusercontent.com (raw.githubusercontent.com)... 185.199.108.133, 185.199.109.133, 185.199.110.133, ...\n",
            "Connecting to raw.githubusercontent.com (raw.githubusercontent.com)|185.199.108.133|:443... connected.\n",
            "HTTP request sent, awaiting response... 404 Not Found\n",
            "2021-05-23 14:20:11 ERROR 404: Not Found.\n",
            "\n",
            "--2021-05-23 14:20:11--  https://raw.githubusercontent.com/DmitryKutsev/cross-document_coreference/main/data/annotation_table.csv\n",
            "Resolving raw.githubusercontent.com (raw.githubusercontent.com)... 185.199.111.133, 185.199.110.133, 185.199.108.133, ...\n",
            "Connecting to raw.githubusercontent.com (raw.githubusercontent.com)|185.199.111.133|:443... connected.\n",
            "HTTP request sent, awaiting response... 200 OK\n",
            "Length: 2045566 (2.0M) [text/plain]\n",
            "Saving to: ‘annotation_table.csv’\n",
            "\n",
            "annotation_table.cs 100%[===================>]   1.95M  8.61MB/s    in 0.2s    \n",
            "\n",
            "2021-05-23 14:20:12 (8.61 MB/s) - ‘annotation_table.csv’ saved [2045566/2045566]\n",
            "\n"
          ],
          "name": "stdout"
        }
      ]
    },
    {
      "cell_type": "code",
      "metadata": {
        "id": "H_hUZXGd-f3P"
      },
      "source": [
        "handler = open('neuroleptic_antidepr2.txt', 'r', encoding='utf-8')\n",
        "my_txt = handler.read()\n",
        "handler.close()\n",
        "\n",
        "handler = open('hv-info_gepatit2.txt', 'r', encoding='utf-8')\n",
        "my_txt += handler.read()\n",
        "handler.close()\n",
        "\n",
        "handler = open('rakpobedim_ru2.txt', 'r', encoding='utf-8')\n",
        "my_txt += handler.read()\n",
        "handler.close()"
      ],
      "execution_count": 227,
      "outputs": []
    },
    {
      "cell_type": "code",
      "metadata": {
        "id": "Whhtmahdmi36"
      },
      "source": [
        "posts = my_txt.split('----')"
      ],
      "execution_count": 236,
      "outputs": []
    },
    {
      "cell_type": "markdown",
      "metadata": {
        "id": "1BcgZCu2Z6da"
      },
      "source": [
        "## **Обучение векторизатора**"
      ]
    },
    {
      "cell_type": "code",
      "metadata": {
        "id": "LfyCQ883Z1Uy"
      },
      "source": [
        "tokenizer = RegexpTokenizer(r'\\w+')\n",
        "sentences_tokenized = [w.lower() for w in posts]\n",
        "\n",
        "vectorized_txt = tfidf.fit_transform(sentences_tokenized)\n",
        "sentences_tokenized = [tokenizer.tokenize(i) for i in sentences_tokenized]\n",
        "ft = FastText(sentences_tokenized, window=5, min_count=5, workers=4,sg=1)"
      ],
      "execution_count": 245,
      "outputs": []
    },
    {
      "cell_type": "markdown",
      "metadata": {
        "id": "cVHJN9DsrmkH"
      },
      "source": [
        "Обработка битых символов, чтобы pandas мог открыть таблицу."
      ]
    },
    {
      "cell_type": "code",
      "metadata": {
        "colab": {
          "base_uri": "https://localhost:8080/"
        },
        "id": "MSjV15tz-UmH",
        "outputId": "58fe6819-977f-4697-d57b-7f67e36592c9"
      },
      "source": [
        "vvv = 0\n",
        "with open('annotation_table.csv') as csvfile:\n",
        "  with open('annotations.csv', 'w') as write_file:\n",
        "    writer = csv.writer(write_file, delimiter='\\t')\n",
        "    for new_row in csvfile:\n",
        "      vvv +=1\n",
        "      # print(i.split('\\t'))\n",
        "      if len(new_row.split('\\t')) > 18:\n",
        "        new_row = new_row.split('\\t')[:18]\n",
        "      writer.writerow(new_row)\n",
        "vvv"
      ],
      "execution_count": 260,
      "outputs": [
        {
          "output_type": "execute_result",
          "data": {
            "text/plain": [
              "27019"
            ]
          },
          "metadata": {
            "tags": []
          },
          "execution_count": 260
        }
      ]
    },
    {
      "cell_type": "code",
      "metadata": {
        "id": "nKgKz0h9SPOK"
      },
      "source": [
        "# # with open('coref_df_anns60k.csv') as csvfile:\n",
        "# with open('new_anns60k.csv') as csvfile:\n",
        "#   reader = csv.reader(csvfile, delimiter='\\t')\n",
        "#   with open('new_df_anns60k.csv', 'w') as write_file:\n",
        "#     writer = csv.writer(write_file, delimiter='\\t')\n",
        "#     c = 0\n",
        "#     for row in reader:\n",
        "#       c +=1\n",
        "#       new_row = [i if i and not re.match(r'\\t+?', i) else 0 for i in row]\n",
        "#       if len(new_row) > 9:\n",
        "#         new_row = new_row[:9]\n",
        "#       else:\n",
        "#         new_row = [0 for i in range(9)]\n",
        "#       writer.writerow(new_row)\n",
        "# c\n"
      ],
      "execution_count": 261,
      "outputs": []
    },
    {
      "cell_type": "code",
      "metadata": {
        "id": "iHSVRy-axVs8"
      },
      "source": [
        "# !rm new_anns60k.csv.1 new_anns60k.csv.2 new_df_anns60k.csv new_anns60k.csv\n",
        "# !ls"
      ],
      "execution_count": 262,
      "outputs": []
    },
    {
      "cell_type": "code",
      "metadata": {
        "id": "fpbwAAb6sUnL",
        "colab": {
          "base_uri": "https://localhost:8080/",
          "height": 407
        },
        "outputId": "863a3c6b-50d1-448e-c9fe-c9f352cddb32"
      },
      "source": [
        "# anns_df = pd.read_csv('coref_df_anns60k.csv', delimiter='\\t', error_bad_lines=False, header=None)\n",
        "anns_df = pd.read_csv('annotations.csv', delimiter='\\t')\n",
        "anns_df"
      ],
      "execution_count": 263,
      "outputs": [
        {
          "output_type": "execute_result",
          "data": {
            "text/html": [
              "<div>\n",
              "<style scoped>\n",
              "    .dataframe tbody tr th:only-of-type {\n",
              "        vertical-align: middle;\n",
              "    }\n",
              "\n",
              "    .dataframe tbody tr th {\n",
              "        vertical-align: top;\n",
              "    }\n",
              "\n",
              "    .dataframe thead th {\n",
              "        text-align: right;\n",
              "    }\n",
              "</style>\n",
              "<table border=\"1\" class=\"dataframe\">\n",
              "  <thead>\n",
              "    <tr style=\"text-align: right;\">\n",
              "      <th></th>\n",
              "      <th>TOKEN</th>\n",
              "      <th>IS_ANSWER</th>\n",
              "      <th>TOPIC_NUM</th>\n",
              "      <th>POST_NUM</th>\n",
              "      <th>SENT_NUM</th>\n",
              "      <th>TOKEN_NUM</th>\n",
              "      <th>ANIMACY</th>\n",
              "      <th>CASE</th>\n",
              "      <th>GENDER</th>\n",
              "      <th>PERSON</th>\n",
              "      <th>POS</th>\n",
              "      <th>DEPENDENCY</th>\n",
              "      <th>HEAD</th>\n",
              "      <th>HEAD_ANIMACY</th>\n",
              "      <th>HEAD_CASE</th>\n",
              "      <th>HEAD_GENDER</th>\n",
              "      <th>HEAD_POS</th>\n",
              "      <th>NER</th>\n",
              "    </tr>\n",
              "  </thead>\n",
              "  <tbody>\n",
              "    <tr>\n",
              "      <th>0</th>\n",
              "      <td>обсуждаем</td>\n",
              "      <td>0</td>\n",
              "      <td>1</td>\n",
              "      <td>0.0</td>\n",
              "      <td>0.0</td>\n",
              "      <td>0.0</td>\n",
              "      <td>NaN</td>\n",
              "      <td>NaN</td>\n",
              "      <td>NaN</td>\n",
              "      <td>1per</td>\n",
              "      <td>VERB</td>\n",
              "      <td>ROOT</td>\n",
              "      <td>обсуждаем</td>\n",
              "      <td>NaN</td>\n",
              "      <td>NaN</td>\n",
              "      <td>NaN</td>\n",
              "      <td>VERB</td>\n",
              "      <td>0</td>\n",
              "    </tr>\n",
              "    <tr>\n",
              "      <th>1</th>\n",
              "      <td>препарат</td>\n",
              "      <td>0</td>\n",
              "      <td>1</td>\n",
              "      <td>0.0</td>\n",
              "      <td>0.0</td>\n",
              "      <td>1.0</td>\n",
              "      <td>inan</td>\n",
              "      <td>nomn</td>\n",
              "      <td>masc</td>\n",
              "      <td>NaN</td>\n",
              "      <td>NOUN</td>\n",
              "      <td>obj</td>\n",
              "      <td>обсуждаем</td>\n",
              "      <td>NaN</td>\n",
              "      <td>NaN</td>\n",
              "      <td>NaN</td>\n",
              "      <td>VERB</td>\n",
              "      <td>0</td>\n",
              "    </tr>\n",
              "    <tr>\n",
              "      <th>2</th>\n",
              "      <td>рисперидон</td>\n",
              "      <td>0</td>\n",
              "      <td>1</td>\n",
              "      <td>0.0</td>\n",
              "      <td>0.0</td>\n",
              "      <td>2.0</td>\n",
              "      <td>anim</td>\n",
              "      <td>nomn</td>\n",
              "      <td>masc</td>\n",
              "      <td>NaN</td>\n",
              "      <td>NOUN</td>\n",
              "      <td>appos</td>\n",
              "      <td>препарат</td>\n",
              "      <td>inan</td>\n",
              "      <td>nomn</td>\n",
              "      <td>masc</td>\n",
              "      <td>NOUN</td>\n",
              "      <td>1</td>\n",
              "    </tr>\n",
              "    <tr>\n",
              "      <th>3</th>\n",
              "      <td>рисполепт</td>\n",
              "      <td>0</td>\n",
              "      <td>1</td>\n",
              "      <td>0.0</td>\n",
              "      <td>0.0</td>\n",
              "      <td>3.0</td>\n",
              "      <td>inan</td>\n",
              "      <td>gent</td>\n",
              "      <td>femn</td>\n",
              "      <td>NaN</td>\n",
              "      <td>NOUN</td>\n",
              "      <td>parataxis</td>\n",
              "      <td>рисперидон</td>\n",
              "      <td>anim</td>\n",
              "      <td>nomn</td>\n",
              "      <td>masc</td>\n",
              "      <td>NOUN</td>\n",
              "      <td>1</td>\n",
              "    </tr>\n",
              "    <tr>\n",
              "      <th>4</th>\n",
              "      <td>сперидан</td>\n",
              "      <td>0</td>\n",
              "      <td>1</td>\n",
              "      <td>0.0</td>\n",
              "      <td>0.0</td>\n",
              "      <td>4.0</td>\n",
              "      <td>NaN</td>\n",
              "      <td>NaN</td>\n",
              "      <td>masc</td>\n",
              "      <td>NaN</td>\n",
              "      <td>PRTS</td>\n",
              "      <td>conj</td>\n",
              "      <td>рисполепт</td>\n",
              "      <td>inan</td>\n",
              "      <td>gent</td>\n",
              "      <td>femn</td>\n",
              "      <td>NOUN</td>\n",
              "      <td>1</td>\n",
              "    </tr>\n",
              "    <tr>\n",
              "      <th>...</th>\n",
              "      <td>...</td>\n",
              "      <td>...</td>\n",
              "      <td>...</td>\n",
              "      <td>...</td>\n",
              "      <td>...</td>\n",
              "      <td>...</td>\n",
              "      <td>...</td>\n",
              "      <td>...</td>\n",
              "      <td>...</td>\n",
              "      <td>...</td>\n",
              "      <td>...</td>\n",
              "      <td>...</td>\n",
              "      <td>...</td>\n",
              "      <td>...</td>\n",
              "      <td>...</td>\n",
              "      <td>...</td>\n",
              "      <td>...</td>\n",
              "      <td>...</td>\n",
              "    </tr>\n",
              "    <tr>\n",
              "      <th>27013</th>\n",
              "      <td>и</td>\n",
              "      <td>0</td>\n",
              "      <td>22</td>\n",
              "      <td>68.0</td>\n",
              "      <td>0.0</td>\n",
              "      <td>7.0</td>\n",
              "      <td>NaN</td>\n",
              "      <td>NaN</td>\n",
              "      <td>NaN</td>\n",
              "      <td>NaN</td>\n",
              "      <td>CONJ</td>\n",
              "      <td>cc</td>\n",
              "      <td>пошлины</td>\n",
              "      <td>inan</td>\n",
              "      <td>nomn</td>\n",
              "      <td>femn</td>\n",
              "      <td>NOUN</td>\n",
              "      <td>0</td>\n",
              "    </tr>\n",
              "    <tr>\n",
              "      <th>27014</th>\n",
              "      <td>таможенные</td>\n",
              "      <td>0</td>\n",
              "      <td>22</td>\n",
              "      <td>68.0</td>\n",
              "      <td>0.0</td>\n",
              "      <td>8.0</td>\n",
              "      <td>NaN</td>\n",
              "      <td>nomn</td>\n",
              "      <td>NaN</td>\n",
              "      <td>NaN</td>\n",
              "      <td>ADJF</td>\n",
              "      <td>amod</td>\n",
              "      <td>пошлины</td>\n",
              "      <td>inan</td>\n",
              "      <td>nomn</td>\n",
              "      <td>femn</td>\n",
              "      <td>NOUN</td>\n",
              "      <td>0</td>\n",
              "    </tr>\n",
              "    <tr>\n",
              "      <th>27015</th>\n",
              "      <td>пошлины</td>\n",
              "      <td>0</td>\n",
              "      <td>22</td>\n",
              "      <td>68.0</td>\n",
              "      <td>0.0</td>\n",
              "      <td>9.0</td>\n",
              "      <td>inan</td>\n",
              "      <td>nomn</td>\n",
              "      <td>femn</td>\n",
              "      <td>NaN</td>\n",
              "      <td>NOUN</td>\n",
              "      <td>nsubj</td>\n",
              "      <td>есть</td>\n",
              "      <td>NaN</td>\n",
              "      <td>NaN</td>\n",
              "      <td>NaN</td>\n",
              "      <td>INFN</td>\n",
              "      <td>0</td>\n",
              "    </tr>\n",
              "    <tr>\n",
              "      <th>27016</th>\n",
              "      <td>как</td>\n",
              "      <td>0</td>\n",
              "      <td>22</td>\n",
              "      <td>68.0</td>\n",
              "      <td>0.0</td>\n",
              "      <td>10.0</td>\n",
              "      <td>NaN</td>\n",
              "      <td>NaN</td>\n",
              "      <td>NaN</td>\n",
              "      <td>NaN</td>\n",
              "      <td>CONJ</td>\n",
              "      <td>advmod</td>\n",
              "      <td>есть</td>\n",
              "      <td>NaN</td>\n",
              "      <td>NaN</td>\n",
              "      <td>NaN</td>\n",
              "      <td>INFN</td>\n",
              "      <td>0</td>\n",
              "    </tr>\n",
              "    <tr>\n",
              "      <th>27017</th>\n",
              "      <td>светка</td>\n",
              "      <td>0</td>\n",
              "      <td>22</td>\n",
              "      <td>69.0</td>\n",
              "      <td>0.0</td>\n",
              "      <td>0.0</td>\n",
              "      <td>inan</td>\n",
              "      <td>nomn</td>\n",
              "      <td>femn</td>\n",
              "      <td>NaN</td>\n",
              "      <td>NOUN</td>\n",
              "      <td>ROOT</td>\n",
              "      <td>светка</td>\n",
              "      <td>inan</td>\n",
              "      <td>nomn</td>\n",
              "      <td>femn</td>\n",
              "      <td>NOUN</td>\n",
              "      <td>0</td>\n",
              "    </tr>\n",
              "  </tbody>\n",
              "</table>\n",
              "<p>27018 rows × 18 columns</p>\n",
              "</div>"
            ],
            "text/plain": [
              "            TOKEN IS_ANSWER TOPIC_NUM  ...  HEAD_GENDER  HEAD_POS  NER\n",
              "0       обсуждаем         0         1  ...          NaN      VERB    0\n",
              "1        препарат         0         1  ...          NaN      VERB    0\n",
              "2      рисперидон         0         1  ...         masc      NOUN    1\n",
              "3       рисполепт         0         1  ...         masc      NOUN    1\n",
              "4        сперидан         0         1  ...         femn      NOUN    1\n",
              "...           ...       ...       ...  ...          ...       ...  ...\n",
              "27013           и         0        22  ...         femn      NOUN    0\n",
              "27014  таможенные         0        22  ...         femn      NOUN    0\n",
              "27015     пошлины         0        22  ...          NaN      INFN    0\n",
              "27016         как         0        22  ...          NaN      INFN    0\n",
              "27017      светка         0        22  ...         femn      NOUN    0\n",
              "\n",
              "[27018 rows x 18 columns]"
            ]
          },
          "metadata": {
            "tags": []
          },
          "execution_count": 263
        }
      ]
    },
    {
      "cell_type": "code",
      "metadata": {
        "id": "xjM8nQk_jQWn"
      },
      "source": [
        "tok_list = []\n",
        "for token in anns_df.TOKEN:\n",
        "  try:\n",
        "    tok_list.append(ft.wv.__getitem__(token.lower()))\n",
        "  except (KeyError, AttributeError):\n",
        "    tok_list.append(0)\n",
        "    # print(token, 'here')\n",
        "anns_df['TOKEN_VECT'] = tok_list\n",
        "\n",
        "\n",
        "tok_list = []\n",
        "for token in anns_df.HEAD:\n",
        "  try:\n",
        "    tok_list.append(ft.wv.__getitem__(token.lower()))\n",
        "  except (KeyError, AttributeError):\n",
        "    tok_list.append(0)\n",
        "    # print(token, 'here')\n",
        "anns_df['HEAD_VECT'] = tok_list"
      ],
      "execution_count": 265,
      "outputs": []
    },
    {
      "cell_type": "code",
      "metadata": {
        "id": "jWdSbqFUkp8y"
      },
      "source": [
        "# tok_list = []\n",
        "# for sent in \n",
        "# for token in anns_df.HEAD:\n",
        "#   try:\n",
        "#     tok_list.append(ft.wv.__getitem__(token.lower()))\n",
        "#   except KeyError:\n",
        "#     tok_list.append(0)\n",
        "#     print(token, 'here')\n",
        "# anns_df['TOKEN_VECT'] = tok_list"
      ],
      "execution_count": null,
      "outputs": []
    },
    {
      "cell_type": "code",
      "metadata": {
        "id": "Qv4sN0Qz2CQm"
      },
      "source": [
        ""
      ],
      "execution_count": 289,
      "outputs": []
    },
    {
      "cell_type": "code",
      "metadata": {
        "id": "xoPd-FXZzjTG"
      },
      "source": [
        "anns_df = anns_df.loc[(anns_df['TOPIC_NUM'].isin(list(range(30)))) | (anns_df['SENT_NUM'].isin(list(range(10000))))]\n",
        "anns_df = anns_df.reset_index().drop(['index'], axis=1)"
      ],
      "execution_count": 299,
      "outputs": []
    },
    {
      "cell_type": "code",
      "metadata": {
        "colab": {
          "base_uri": "https://localhost:8080/"
        },
        "id": "WkRUG17in__R",
        "outputId": "6ac348f0-0bb9-4ca9-d28c-4dbcdc8745cf"
      },
      "source": [
        "topics = list(set(anns_df.TOPIC_NUM.values))\n",
        "topics\n",
        "sent_vect_list = []\n",
        "# номера предложений топика\n",
        "for topic_num in topics:\n",
        "\n",
        "  sents_in_topic = list(set(anns_df.loc[anns_df['TOPIC_NUM'] == topic_num].SENT_NUM))\n",
        "  topic_len = len(anns_df.loc[anns_df['TOPIC_NUM'] == topic_num])\n",
        "  for sent_num in sents_in_topic:\n",
        "    tok_vects = anns_df.loc[(anns_df['TOPIC_NUM'] == topic_num) & (anns_df['SENT_NUM'] == sent_num)].TOKEN_VECT\n",
        "    try:\n",
        "      sent_vect = sum(list(tok_vects))/len(tok_vects)\n",
        "    except ZeroDivisionError:\n",
        "      sent_vect = 0\n",
        "      print(anns_df.loc[(anns_df['SENT_NUM'] == sent_num)])\n",
        "    for i in range(len(tok_vects)):\n",
        "      sent_vect_list.append(sent_vect)\n",
        "len(sent_vect_list)\n",
        "# если не класть нулевых предложений - будет длина датафрейма, как он раньше импортировлся, но поздно."
      ],
      "execution_count": 300,
      "outputs": [
        {
          "output_type": "execute_result",
          "data": {
            "text/plain": [
              "26497"
            ]
          },
          "metadata": {
            "tags": []
          },
          "execution_count": 300
        }
      ]
    },
    {
      "cell_type": "code",
      "metadata": {
        "id": "yaGN3xQLyECR"
      },
      "source": [
        "anns_df['SENT_VECT '] = sent_vect_list"
      ],
      "execution_count": 301,
      "outputs": []
    },
    {
      "cell_type": "code",
      "metadata": {
        "colab": {
          "base_uri": "https://localhost:8080/",
          "height": 945
        },
        "id": "nxP40HQGnh80",
        "outputId": "02eaa02e-3ad3-4bbf-ac4a-cde9490a8a85"
      },
      "source": [
        "anns_df"
      ],
      "execution_count": 302,
      "outputs": [
        {
          "output_type": "execute_result",
          "data": {
            "text/html": [
              "<div>\n",
              "<style scoped>\n",
              "    .dataframe tbody tr th:only-of-type {\n",
              "        vertical-align: middle;\n",
              "    }\n",
              "\n",
              "    .dataframe tbody tr th {\n",
              "        vertical-align: top;\n",
              "    }\n",
              "\n",
              "    .dataframe thead th {\n",
              "        text-align: right;\n",
              "    }\n",
              "</style>\n",
              "<table border=\"1\" class=\"dataframe\">\n",
              "  <thead>\n",
              "    <tr style=\"text-align: right;\">\n",
              "      <th></th>\n",
              "      <th>TOKEN</th>\n",
              "      <th>IS_ANSWER</th>\n",
              "      <th>TOPIC_NUM</th>\n",
              "      <th>POST_NUM</th>\n",
              "      <th>SENT_NUM</th>\n",
              "      <th>TOKEN_NUM</th>\n",
              "      <th>ANIMACY</th>\n",
              "      <th>CASE</th>\n",
              "      <th>GENDER</th>\n",
              "      <th>PERSON</th>\n",
              "      <th>POS</th>\n",
              "      <th>DEPENDENCY</th>\n",
              "      <th>HEAD</th>\n",
              "      <th>HEAD_ANIMACY</th>\n",
              "      <th>HEAD_CASE</th>\n",
              "      <th>HEAD_GENDER</th>\n",
              "      <th>HEAD_POS</th>\n",
              "      <th>NER</th>\n",
              "      <th>TOKEN_VECT</th>\n",
              "      <th>HEAD_VECT</th>\n",
              "      <th>SENT_VECT</th>\n",
              "    </tr>\n",
              "  </thead>\n",
              "  <tbody>\n",
              "    <tr>\n",
              "      <th>0</th>\n",
              "      <td>обсуждаем</td>\n",
              "      <td>0</td>\n",
              "      <td>1</td>\n",
              "      <td>0.0</td>\n",
              "      <td>0.0</td>\n",
              "      <td>0.0</td>\n",
              "      <td>NaN</td>\n",
              "      <td>NaN</td>\n",
              "      <td>NaN</td>\n",
              "      <td>1per</td>\n",
              "      <td>VERB</td>\n",
              "      <td>ROOT</td>\n",
              "      <td>обсуждаем</td>\n",
              "      <td>NaN</td>\n",
              "      <td>NaN</td>\n",
              "      <td>NaN</td>\n",
              "      <td>VERB</td>\n",
              "      <td>0</td>\n",
              "      <td>[0.19743444, 0.21119584, 0.09573975, -0.425207...</td>\n",
              "      <td>[0.19743444, 0.21119584, 0.09573975, -0.425207...</td>\n",
              "      <td>[0.18557024, 0.35647067, 0.20470199, -0.290656...</td>\n",
              "    </tr>\n",
              "    <tr>\n",
              "      <th>1</th>\n",
              "      <td>препарат</td>\n",
              "      <td>0</td>\n",
              "      <td>1</td>\n",
              "      <td>0.0</td>\n",
              "      <td>0.0</td>\n",
              "      <td>1.0</td>\n",
              "      <td>inan</td>\n",
              "      <td>nomn</td>\n",
              "      <td>masc</td>\n",
              "      <td>NaN</td>\n",
              "      <td>NOUN</td>\n",
              "      <td>obj</td>\n",
              "      <td>обсуждаем</td>\n",
              "      <td>NaN</td>\n",
              "      <td>NaN</td>\n",
              "      <td>NaN</td>\n",
              "      <td>VERB</td>\n",
              "      <td>0</td>\n",
              "      <td>[0.22798513, 0.5543274, -0.20923378, -0.080853...</td>\n",
              "      <td>[0.19743444, 0.21119584, 0.09573975, -0.425207...</td>\n",
              "      <td>[0.18557024, 0.35647067, 0.20470199, -0.290656...</td>\n",
              "    </tr>\n",
              "    <tr>\n",
              "      <th>2</th>\n",
              "      <td>рисперидон</td>\n",
              "      <td>0</td>\n",
              "      <td>1</td>\n",
              "      <td>0.0</td>\n",
              "      <td>0.0</td>\n",
              "      <td>2.0</td>\n",
              "      <td>anim</td>\n",
              "      <td>nomn</td>\n",
              "      <td>masc</td>\n",
              "      <td>NaN</td>\n",
              "      <td>NOUN</td>\n",
              "      <td>appos</td>\n",
              "      <td>препарат</td>\n",
              "      <td>inan</td>\n",
              "      <td>nomn</td>\n",
              "      <td>masc</td>\n",
              "      <td>NOUN</td>\n",
              "      <td>1</td>\n",
              "      <td>[0.43248653, 0.5937064, 0.34339568, -0.0548174...</td>\n",
              "      <td>[0.22798513, 0.5543274, -0.20923378, -0.080853...</td>\n",
              "      <td>[0.18557024, 0.35647067, 0.20470199, -0.290656...</td>\n",
              "    </tr>\n",
              "    <tr>\n",
              "      <th>3</th>\n",
              "      <td>рисполепт</td>\n",
              "      <td>0</td>\n",
              "      <td>1</td>\n",
              "      <td>0.0</td>\n",
              "      <td>0.0</td>\n",
              "      <td>3.0</td>\n",
              "      <td>inan</td>\n",
              "      <td>gent</td>\n",
              "      <td>femn</td>\n",
              "      <td>NaN</td>\n",
              "      <td>NOUN</td>\n",
              "      <td>parataxis</td>\n",
              "      <td>рисперидон</td>\n",
              "      <td>anim</td>\n",
              "      <td>nomn</td>\n",
              "      <td>masc</td>\n",
              "      <td>NOUN</td>\n",
              "      <td>1</td>\n",
              "      <td>[0.46160558, 0.52094615, 0.6171367, -0.1088908...</td>\n",
              "      <td>[0.43248653, 0.5937064, 0.34339568, -0.0548174...</td>\n",
              "      <td>[0.18557024, 0.35647067, 0.20470199, -0.290656...</td>\n",
              "    </tr>\n",
              "    <tr>\n",
              "      <th>4</th>\n",
              "      <td>сперидан</td>\n",
              "      <td>0</td>\n",
              "      <td>1</td>\n",
              "      <td>0.0</td>\n",
              "      <td>0.0</td>\n",
              "      <td>4.0</td>\n",
              "      <td>NaN</td>\n",
              "      <td>NaN</td>\n",
              "      <td>masc</td>\n",
              "      <td>NaN</td>\n",
              "      <td>PRTS</td>\n",
              "      <td>conj</td>\n",
              "      <td>рисполепт</td>\n",
              "      <td>inan</td>\n",
              "      <td>gent</td>\n",
              "      <td>femn</td>\n",
              "      <td>NOUN</td>\n",
              "      <td>1</td>\n",
              "      <td>[0.35837942, 0.58045554, 0.68698806, -0.198242...</td>\n",
              "      <td>[0.46160558, 0.52094615, 0.6171367, -0.1088908...</td>\n",
              "      <td>[0.18557024, 0.35647067, 0.20470199, -0.290656...</td>\n",
              "    </tr>\n",
              "    <tr>\n",
              "      <th>...</th>\n",
              "      <td>...</td>\n",
              "      <td>...</td>\n",
              "      <td>...</td>\n",
              "      <td>...</td>\n",
              "      <td>...</td>\n",
              "      <td>...</td>\n",
              "      <td>...</td>\n",
              "      <td>...</td>\n",
              "      <td>...</td>\n",
              "      <td>...</td>\n",
              "      <td>...</td>\n",
              "      <td>...</td>\n",
              "      <td>...</td>\n",
              "      <td>...</td>\n",
              "      <td>...</td>\n",
              "      <td>...</td>\n",
              "      <td>...</td>\n",
              "      <td>...</td>\n",
              "      <td>...</td>\n",
              "      <td>...</td>\n",
              "      <td>...</td>\n",
              "    </tr>\n",
              "    <tr>\n",
              "      <th>26492</th>\n",
              "      <td>и</td>\n",
              "      <td>0</td>\n",
              "      <td>22</td>\n",
              "      <td>68.0</td>\n",
              "      <td>0.0</td>\n",
              "      <td>7.0</td>\n",
              "      <td>NaN</td>\n",
              "      <td>NaN</td>\n",
              "      <td>NaN</td>\n",
              "      <td>NaN</td>\n",
              "      <td>CONJ</td>\n",
              "      <td>cc</td>\n",
              "      <td>пошлины</td>\n",
              "      <td>inan</td>\n",
              "      <td>nomn</td>\n",
              "      <td>femn</td>\n",
              "      <td>NOUN</td>\n",
              "      <td>0</td>\n",
              "      <td>[0.4180836, -0.024044996, 0.039385114, -0.3076...</td>\n",
              "      <td>[-0.34927273, -0.6403187, -0.4151997, -0.01996...</td>\n",
              "      <td>[0.10717429, 0.3408835, 0.28401107, -0.3589822...</td>\n",
              "    </tr>\n",
              "    <tr>\n",
              "      <th>26493</th>\n",
              "      <td>таможенные</td>\n",
              "      <td>0</td>\n",
              "      <td>22</td>\n",
              "      <td>68.0</td>\n",
              "      <td>0.0</td>\n",
              "      <td>8.0</td>\n",
              "      <td>NaN</td>\n",
              "      <td>nomn</td>\n",
              "      <td>NaN</td>\n",
              "      <td>NaN</td>\n",
              "      <td>ADJF</td>\n",
              "      <td>amod</td>\n",
              "      <td>пошлины</td>\n",
              "      <td>inan</td>\n",
              "      <td>nomn</td>\n",
              "      <td>femn</td>\n",
              "      <td>NOUN</td>\n",
              "      <td>0</td>\n",
              "      <td>[-0.07314223, -1.1396724, -0.84783167, -0.9857...</td>\n",
              "      <td>[-0.34927273, -0.6403187, -0.4151997, -0.01996...</td>\n",
              "      <td>[0.10717429, 0.3408835, 0.28401107, -0.3589822...</td>\n",
              "    </tr>\n",
              "    <tr>\n",
              "      <th>26494</th>\n",
              "      <td>пошлины</td>\n",
              "      <td>0</td>\n",
              "      <td>22</td>\n",
              "      <td>68.0</td>\n",
              "      <td>0.0</td>\n",
              "      <td>9.0</td>\n",
              "      <td>inan</td>\n",
              "      <td>nomn</td>\n",
              "      <td>femn</td>\n",
              "      <td>NaN</td>\n",
              "      <td>NOUN</td>\n",
              "      <td>nsubj</td>\n",
              "      <td>есть</td>\n",
              "      <td>NaN</td>\n",
              "      <td>NaN</td>\n",
              "      <td>NaN</td>\n",
              "      <td>INFN</td>\n",
              "      <td>0</td>\n",
              "      <td>[-0.34927273, -0.6403187, -0.4151997, -0.01996...</td>\n",
              "      <td>[-0.25378042, 0.5518586, 0.41950038, -0.919631...</td>\n",
              "      <td>[0.10717429, 0.3408835, 0.28401107, -0.3589822...</td>\n",
              "    </tr>\n",
              "    <tr>\n",
              "      <th>26495</th>\n",
              "      <td>как</td>\n",
              "      <td>0</td>\n",
              "      <td>22</td>\n",
              "      <td>68.0</td>\n",
              "      <td>0.0</td>\n",
              "      <td>10.0</td>\n",
              "      <td>NaN</td>\n",
              "      <td>NaN</td>\n",
              "      <td>NaN</td>\n",
              "      <td>NaN</td>\n",
              "      <td>CONJ</td>\n",
              "      <td>advmod</td>\n",
              "      <td>есть</td>\n",
              "      <td>NaN</td>\n",
              "      <td>NaN</td>\n",
              "      <td>NaN</td>\n",
              "      <td>INFN</td>\n",
              "      <td>0</td>\n",
              "      <td>[0.5683889, 0.81005967, 0.5475652, -1.6073513,...</td>\n",
              "      <td>[-0.25378042, 0.5518586, 0.41950038, -0.919631...</td>\n",
              "      <td>[0.10717429, 0.3408835, 0.28401107, -0.3589822...</td>\n",
              "    </tr>\n",
              "    <tr>\n",
              "      <th>26496</th>\n",
              "      <td>светка</td>\n",
              "      <td>0</td>\n",
              "      <td>22</td>\n",
              "      <td>69.0</td>\n",
              "      <td>0.0</td>\n",
              "      <td>0.0</td>\n",
              "      <td>inan</td>\n",
              "      <td>nomn</td>\n",
              "      <td>femn</td>\n",
              "      <td>NaN</td>\n",
              "      <td>NOUN</td>\n",
              "      <td>ROOT</td>\n",
              "      <td>светка</td>\n",
              "      <td>inan</td>\n",
              "      <td>nomn</td>\n",
              "      <td>femn</td>\n",
              "      <td>NOUN</td>\n",
              "      <td>0</td>\n",
              "      <td>[0.46039522, 0.46393952, 0.7356109, -0.4497302...</td>\n",
              "      <td>[0.46039522, 0.46393952, 0.7356109, -0.4497302...</td>\n",
              "      <td>[0.10717429, 0.3408835, 0.28401107, -0.3589822...</td>\n",
              "    </tr>\n",
              "  </tbody>\n",
              "</table>\n",
              "<p>26497 rows × 21 columns</p>\n",
              "</div>"
            ],
            "text/plain": [
              "            TOKEN  ...                                         SENT_VECT \n",
              "0       обсуждаем  ...  [0.18557024, 0.35647067, 0.20470199, -0.290656...\n",
              "1        препарат  ...  [0.18557024, 0.35647067, 0.20470199, -0.290656...\n",
              "2      рисперидон  ...  [0.18557024, 0.35647067, 0.20470199, -0.290656...\n",
              "3       рисполепт  ...  [0.18557024, 0.35647067, 0.20470199, -0.290656...\n",
              "4        сперидан  ...  [0.18557024, 0.35647067, 0.20470199, -0.290656...\n",
              "...           ...  ...                                                ...\n",
              "26492           и  ...  [0.10717429, 0.3408835, 0.28401107, -0.3589822...\n",
              "26493  таможенные  ...  [0.10717429, 0.3408835, 0.28401107, -0.3589822...\n",
              "26494     пошлины  ...  [0.10717429, 0.3408835, 0.28401107, -0.3589822...\n",
              "26495         как  ...  [0.10717429, 0.3408835, 0.28401107, -0.3589822...\n",
              "26496      светка  ...  [0.10717429, 0.3408835, 0.28401107, -0.3589822...\n",
              "\n",
              "[26497 rows x 21 columns]"
            ]
          },
          "metadata": {
            "tags": []
          },
          "execution_count": 302
        }
      ]
    },
    {
      "cell_type": "code",
      "metadata": {
        "id": "hdc4AOucmDT4"
      },
      "source": [
        "topics = list(set(df.TOPIC_NUM.values)) \n",
        "for topic_num in topics:\n",
        "  # if topic_num == 2:\n",
        "  #   break\n",
        "  # извлекаем предложения топика\n",
        "  sents_in_topic = list(set(df.loc[df['TOPIC_NUM'] == topic_num ].SENT_NUM))\n",
        "  for sent_num in sents_in_topic:\n",
        "    sent = df.loc[(df['TOPIC_NUM'] == topic_num)  & (df['SENT_NUM'] == sent_num)]"
      ],
      "execution_count": null,
      "outputs": []
    },
    {
      "cell_type": "markdown",
      "metadata": {
        "id": "fBFrdEdsrq0u"
      },
      "source": [
        "Проверим данные"
      ]
    },
    {
      "cell_type": "code",
      "metadata": {
        "id": "2CHdd-PNscSW"
      },
      "source": [
        "anns_df"
      ],
      "execution_count": null,
      "outputs": []
    },
    {
      "cell_type": "code",
      "metadata": {
        "id": "wi5vLFpvyL14"
      },
      "source": [
        "import numpy as np"
      ],
      "execution_count": 183,
      "outputs": []
    },
    {
      "cell_type": "code",
      "metadata": {
        "id": "nKld3dRPz3_m"
      },
      "source": [
        "# vvv = 0\n",
        "# with open('content/MyDrive/coref_fasttext60k_1.csv') as csvfile:\n",
        "#   with open('new_coref_df_anns60k.csv', 'w') as write_file:\n",
        "#     writer = csv.writer(write_file, delimiter='\\t')\n",
        "#     for new_row in csvfile:\n",
        "#       vvv +=1\n",
        "#       # print(i.split('\\t'))\n",
        "#       if len(new_row.split('\\t')) > 9:\n",
        "#         new_row = new_row.split('\\t')[:9]\n",
        "#       writer.writerow(new_row)\n",
        "# vvv"
      ],
      "execution_count": 185,
      "outputs": []
    },
    {
      "cell_type": "code",
      "metadata": {
        "id": "zOvIthFwWaOH"
      },
      "source": [
        "# cor_df = pd.read_csv('content/MyDrive/coref_fasttext60k_1.csv', delimiter=' ')\n",
        "# cor_df"
      ],
      "execution_count": 216,
      "outputs": []
    },
    {
      "cell_type": "code",
      "metadata": {
        "id": "Eoht1lnExJHw"
      },
      "source": [
        "# cosine_similarity([np.matrix(cor_df.TOKEN_VECT[2]).A[0]], [np.matrix(cor_df.TOKEN_VECT[3]).A[0]])[-1][-1]"
      ],
      "execution_count": 217,
      "outputs": []
    },
    {
      "cell_type": "code",
      "metadata": {
        "id": "jJgyUaV7WUAw"
      },
      "source": [
        ""
      ],
      "execution_count": 187,
      "outputs": []
    },
    {
      "cell_type": "markdown",
      "metadata": {
        "id": "ZcUH3c9e2Zwe"
      },
      "source": [
        "# **VECTORS HANDLING**"
      ]
    },
    {
      "cell_type": "markdown",
      "metadata": {
        "id": "vtuQeIa7qo7B"
      },
      "source": [
        "Изменяем значения векторов предложений, главного слова группы, зависимых слов группы, и токена на косинусную дистанцию с семантической осью.\n",
        "\n",
        "Сначала, изменим строковое представление на массив."
      ]
    },
    {
      "cell_type": "code",
      "metadata": {
        "id": "pSkpdVWPWofo"
      },
      "source": [
        "cor_df.TOKEN_VECT = [np.matrix(i).A[0] for i in cor_df.TOKEN_VECT]\n",
        "cor_df.HEAD_VECT = [np.matrix(i).A[0] for i in cor_df.HEAD_VECT]\n",
        "cor_df.SENT_VECT = [np.matrix(i).A[0] for i in cor_df.SENT_VECT]\n",
        "cor_df.HEAD_CHILDS_VECT = [np.matrix(i).A[0] for i in cor_df.HEAD_CHILDS_VECT]\n"
      ],
      "execution_count": 188,
      "outputs": []
    },
    {
      "cell_type": "markdown",
      "metadata": {
        "id": "pHpVo0QmrWzE"
      },
      "source": [
        "Добавим размеченные данные, и посмотрим, что получилось."
      ]
    },
    {
      "cell_type": "code",
      "metadata": {
        "id": "FGLkZXITh3BZ"
      },
      "source": [
        "cor_df['NER'] = anns_df['NER']\n",
        "cor_df['COREFERENCE_CLUSTER'] = anns_df['COREFERENCE_CLUSTER']\n",
        "cor_df['ANN_TOKEN'] = anns_df['TOKEN']\n",
        "# cor_df"
      ],
      "execution_count": 213,
      "outputs": []
    },
    {
      "cell_type": "code",
      "metadata": {
        "id": "An0u3ZGSAqK9"
      },
      "source": [
        "cor_df.loc()"
      ],
      "execution_count": null,
      "outputs": []
    },
    {
      "cell_type": "markdown",
      "metadata": {
        "id": "9EK9eAjjr8Vm"
      },
      "source": [
        "Ограничим датафрейм теми данными, которые были размечены, чтобы была возможность провести оценку системы."
      ]
    },
    {
      "cell_type": "code",
      "metadata": {
        "id": "8zzHN3oQjNoC"
      },
      "source": [
        "df = cor_df.iloc[:15000,:]"
      ],
      "execution_count": 214,
      "outputs": []
    },
    {
      "cell_type": "code",
      "metadata": {
        "colab": {
          "base_uri": "https://localhost:8080/",
          "height": 945
        },
        "id": "K-oA3ghDGz5-",
        "outputId": "052a5644-094f-49c7-892d-6b7af1e1d991"
      },
      "source": [
        "df"
      ],
      "execution_count": 215,
      "outputs": [
        {
          "output_type": "execute_result",
          "data": {
            "text/html": [
              "<div>\n",
              "<style scoped>\n",
              "    .dataframe tbody tr th:only-of-type {\n",
              "        vertical-align: middle;\n",
              "    }\n",
              "\n",
              "    .dataframe tbody tr th {\n",
              "        vertical-align: top;\n",
              "    }\n",
              "\n",
              "    .dataframe thead th {\n",
              "        text-align: right;\n",
              "    }\n",
              "</style>\n",
              "<table border=\"1\" class=\"dataframe\">\n",
              "  <thead>\n",
              "    <tr style=\"text-align: right;\">\n",
              "      <th></th>\n",
              "      <th>TOKEN</th>\n",
              "      <th>TOKEN_VECT</th>\n",
              "      <th>IS_ANSWER</th>\n",
              "      <th>TOPIC_NUM</th>\n",
              "      <th>POST_NUM</th>\n",
              "      <th>SENT_NUM</th>\n",
              "      <th>TOKEN_NUM</th>\n",
              "      <th>ANIMACY</th>\n",
              "      <th>CASE</th>\n",
              "      <th>GENDER</th>\n",
              "      <th>PERSON</th>\n",
              "      <th>POS</th>\n",
              "      <th>DEPENDENCY</th>\n",
              "      <th>HEAD</th>\n",
              "      <th>HEAD_ANIMACY</th>\n",
              "      <th>HEAD_CASE</th>\n",
              "      <th>HEAD_GENDER</th>\n",
              "      <th>HEAD_POS</th>\n",
              "      <th>HEAD_VECT</th>\n",
              "      <th>SENT_VECT</th>\n",
              "      <th>HEAD_CHILDS_VECT</th>\n",
              "      <th>NER</th>\n",
              "      <th>COREFERENCE_CLUSTER</th>\n",
              "      <th>ANN_TOKEN</th>\n",
              "    </tr>\n",
              "  </thead>\n",
              "  <tbody>\n",
              "    <tr>\n",
              "      <th>0</th>\n",
              "      <td>обсуждаем</td>\n",
              "      <td>[0.05871739, 0.34252143, -0.08884978, -0.74504...</td>\n",
              "      <td>0</td>\n",
              "      <td>1</td>\n",
              "      <td>0</td>\n",
              "      <td>0</td>\n",
              "      <td>0</td>\n",
              "      <td>NaN</td>\n",
              "      <td>NaN</td>\n",
              "      <td>NaN</td>\n",
              "      <td>1per</td>\n",
              "      <td>VERB</td>\n",
              "      <td>ROOT</td>\n",
              "      <td>обсуждаем</td>\n",
              "      <td>NaN</td>\n",
              "      <td>NaN</td>\n",
              "      <td>NaN</td>\n",
              "      <td>VERB</td>\n",
              "      <td>[0.05871739, 0.34252143, -0.08884978, -0.74504...</td>\n",
              "      <td>[0.0328866281, 0.142481059, 0.138332754, -0.10...</td>\n",
              "      <td>[-0.7033859, 0.7749181, 0.17049398, 0.19153355...</td>\n",
              "      <td>0</td>\n",
              "      <td>0.0</td>\n",
              "      <td>обсуждаем</td>\n",
              "    </tr>\n",
              "    <tr>\n",
              "      <th>1</th>\n",
              "      <td>препарат</td>\n",
              "      <td>[-0.7033859, 0.7749181, 0.17049398, 0.19153355...</td>\n",
              "      <td>0</td>\n",
              "      <td>1</td>\n",
              "      <td>0</td>\n",
              "      <td>0</td>\n",
              "      <td>1</td>\n",
              "      <td>inan</td>\n",
              "      <td>nomn</td>\n",
              "      <td>masc</td>\n",
              "      <td>NaN</td>\n",
              "      <td>NOUN</td>\n",
              "      <td>obj</td>\n",
              "      <td>обсуждаем</td>\n",
              "      <td>NaN</td>\n",
              "      <td>NaN</td>\n",
              "      <td>NaN</td>\n",
              "      <td>VERB</td>\n",
              "      <td>[0.05871739, 0.34252143, -0.08884978, -0.74504...</td>\n",
              "      <td>[0.0328866281, 0.142481059, 0.138332754, -0.10...</td>\n",
              "      <td>[-0.7033859, 0.7749181, 0.17049398, 0.19153355...</td>\n",
              "      <td>0</td>\n",
              "      <td>0.0</td>\n",
              "      <td>препарат</td>\n",
              "    </tr>\n",
              "    <tr>\n",
              "      <th>2</th>\n",
              "      <td>рисперидон</td>\n",
              "      <td>[0.61300194, 0.6183907, 0.25589323, -0.4421036...</td>\n",
              "      <td>0</td>\n",
              "      <td>1</td>\n",
              "      <td>0</td>\n",
              "      <td>0</td>\n",
              "      <td>2</td>\n",
              "      <td>anim</td>\n",
              "      <td>nomn</td>\n",
              "      <td>masc</td>\n",
              "      <td>NaN</td>\n",
              "      <td>NOUN</td>\n",
              "      <td>appos</td>\n",
              "      <td>препарат</td>\n",
              "      <td>inan</td>\n",
              "      <td>nomn</td>\n",
              "      <td>masc</td>\n",
              "      <td>NOUN</td>\n",
              "      <td>[-0.7033859, 0.7749181, 0.17049398, 0.19153355...</td>\n",
              "      <td>[0.0328866281, 0.142481059, 0.138332754, -0.10...</td>\n",
              "      <td>[0.61300194, 0.6183907, 0.25589323, -0.4421036...</td>\n",
              "      <td>1</td>\n",
              "      <td>2.0</td>\n",
              "      <td>рисперидон</td>\n",
              "    </tr>\n",
              "    <tr>\n",
              "      <th>3</th>\n",
              "      <td>рисполепт</td>\n",
              "      <td>[0.4014503, 0.6873261, 0.49922436, -0.5146114,...</td>\n",
              "      <td>0</td>\n",
              "      <td>1</td>\n",
              "      <td>0</td>\n",
              "      <td>0</td>\n",
              "      <td>3</td>\n",
              "      <td>inan</td>\n",
              "      <td>gent</td>\n",
              "      <td>femn</td>\n",
              "      <td>NaN</td>\n",
              "      <td>NOUN</td>\n",
              "      <td>parataxis</td>\n",
              "      <td>рисперидон</td>\n",
              "      <td>anim</td>\n",
              "      <td>nomn</td>\n",
              "      <td>masc</td>\n",
              "      <td>NOUN</td>\n",
              "      <td>[0.61300194, 0.6183907, 0.25589323, -0.4421036...</td>\n",
              "      <td>[0.0328866281, 0.142481059, 0.138332754, -0.10...</td>\n",
              "      <td>[0.4014503, 0.6873261, 0.49922436, -0.5146114,...</td>\n",
              "      <td>1</td>\n",
              "      <td>3.0</td>\n",
              "      <td>рисполепт</td>\n",
              "    </tr>\n",
              "    <tr>\n",
              "      <th>4</th>\n",
              "      <td>сперидан</td>\n",
              "      <td>[0.0651561394, 0.543457031, 0.580361426, -0.40...</td>\n",
              "      <td>0</td>\n",
              "      <td>1</td>\n",
              "      <td>0</td>\n",
              "      <td>0</td>\n",
              "      <td>4</td>\n",
              "      <td>NaN</td>\n",
              "      <td>NaN</td>\n",
              "      <td>masc</td>\n",
              "      <td>NaN</td>\n",
              "      <td>PRTS</td>\n",
              "      <td>conj</td>\n",
              "      <td>рисполепт</td>\n",
              "      <td>inan</td>\n",
              "      <td>gent</td>\n",
              "      <td>femn</td>\n",
              "      <td>NOUN</td>\n",
              "      <td>[0.4014503, 0.6873261, 0.49922436, -0.5146114,...</td>\n",
              "      <td>[0.0328866281, 0.142481059, 0.138332754, -0.10...</td>\n",
              "      <td>[0.0217187125, 0.181152344, 0.193453804, -0.13...</td>\n",
              "      <td>1</td>\n",
              "      <td>4.0</td>\n",
              "      <td>сперидан</td>\n",
              "    </tr>\n",
              "    <tr>\n",
              "      <th>...</th>\n",
              "      <td>...</td>\n",
              "      <td>...</td>\n",
              "      <td>...</td>\n",
              "      <td>...</td>\n",
              "      <td>...</td>\n",
              "      <td>...</td>\n",
              "      <td>...</td>\n",
              "      <td>...</td>\n",
              "      <td>...</td>\n",
              "      <td>...</td>\n",
              "      <td>...</td>\n",
              "      <td>...</td>\n",
              "      <td>...</td>\n",
              "      <td>...</td>\n",
              "      <td>...</td>\n",
              "      <td>...</td>\n",
              "      <td>...</td>\n",
              "      <td>...</td>\n",
              "      <td>...</td>\n",
              "      <td>...</td>\n",
              "      <td>...</td>\n",
              "      <td>...</td>\n",
              "      <td>...</td>\n",
              "      <td>...</td>\n",
              "    </tr>\n",
              "    <tr>\n",
              "      <th>14995</th>\n",
              "      <td>эта</td>\n",
              "      <td>[0.51364344, 0.02838964, -0.06961589, -0.70076...</td>\n",
              "      <td>0</td>\n",
              "      <td>16</td>\n",
              "      <td>3</td>\n",
              "      <td>0</td>\n",
              "      <td>61</td>\n",
              "      <td>NaN</td>\n",
              "      <td>nomn</td>\n",
              "      <td>femn</td>\n",
              "      <td>NaN</td>\n",
              "      <td>ADJF</td>\n",
              "      <td>det</td>\n",
              "      <td>вакцина</td>\n",
              "      <td>inan</td>\n",
              "      <td>nomn</td>\n",
              "      <td>femn</td>\n",
              "      <td>NOUN</td>\n",
              "      <td>[0.202230185, -0.0267577451, 0.0462362356, -0....</td>\n",
              "      <td>[0.02458156, 0.01716435, 0.00043265, 0.0057551...</td>\n",
              "      <td>[0.51364344, 0.02838964, -0.06961589, -0.70076...</td>\n",
              "      <td>1</td>\n",
              "      <td>2215.0</td>\n",
              "      <td>абраксан</td>\n",
              "    </tr>\n",
              "    <tr>\n",
              "      <th>14996</th>\n",
              "      <td>вакцина</td>\n",
              "      <td>[0.202230185, -0.0267577451, 0.0462362356, -0....</td>\n",
              "      <td>0</td>\n",
              "      <td>16</td>\n",
              "      <td>3</td>\n",
              "      <td>0</td>\n",
              "      <td>62</td>\n",
              "      <td>inan</td>\n",
              "      <td>nomn</td>\n",
              "      <td>femn</td>\n",
              "      <td>NaN</td>\n",
              "      <td>NOUN</td>\n",
              "      <td>nsubj</td>\n",
              "      <td>аукнется</td>\n",
              "      <td>NaN</td>\n",
              "      <td>NaN</td>\n",
              "      <td>NaN</td>\n",
              "      <td>VERB</td>\n",
              "      <td>[-0.08942804, -0.19534485, 0.34863153, -0.2930...</td>\n",
              "      <td>[0.02458156, 0.01716435, 0.00043265, 0.0057551...</td>\n",
              "      <td>[-0.05610157, 0.6278774, 0.33735275, -0.344426...</td>\n",
              "      <td>0</td>\n",
              "      <td>0.0</td>\n",
              "      <td>с</td>\n",
              "    </tr>\n",
              "    <tr>\n",
              "      <th>14997</th>\n",
              "      <td>аукнется</td>\n",
              "      <td>[-0.08942804, -0.19534485, 0.34863153, -0.2930...</td>\n",
              "      <td>0</td>\n",
              "      <td>16</td>\n",
              "      <td>3</td>\n",
              "      <td>0</td>\n",
              "      <td>63</td>\n",
              "      <td>NaN</td>\n",
              "      <td>NaN</td>\n",
              "      <td>NaN</td>\n",
              "      <td>3per</td>\n",
              "      <td>VERB</td>\n",
              "      <td>csubj</td>\n",
              "      <td>неизвестно</td>\n",
              "      <td>NaN</td>\n",
              "      <td>NaN</td>\n",
              "      <td>NaN</td>\n",
              "      <td>ADVB</td>\n",
              "      <td>[0.3954894, 0.05844666, 0.47036946, -0.2928081...</td>\n",
              "      <td>[0.02458156, 0.01716435, 0.00043265, 0.0057551...</td>\n",
              "      <td>[0.0390081294, -0.053258121, 0.118922442, -0.4...</td>\n",
              "      <td>1</td>\n",
              "      <td>2217.0</td>\n",
              "      <td>гемцитабином</td>\n",
              "    </tr>\n",
              "    <tr>\n",
              "      <th>14998</th>\n",
              "      <td>на</td>\n",
              "      <td>[0.421984941, 0.303224176, 0.836256504, -0.617...</td>\n",
              "      <td>0</td>\n",
              "      <td>16</td>\n",
              "      <td>3</td>\n",
              "      <td>0</td>\n",
              "      <td>64</td>\n",
              "      <td>NaN</td>\n",
              "      <td>NaN</td>\n",
              "      <td>NaN</td>\n",
              "      <td>NaN</td>\n",
              "      <td>PREP</td>\n",
              "      <td>case</td>\n",
              "      <td>организме</td>\n",
              "      <td>inan</td>\n",
              "      <td>loct</td>\n",
              "      <td>masc</td>\n",
              "      <td>NOUN</td>\n",
              "      <td>[0.33309454, 0.70234656, 0.59898806, 0.5915255...</td>\n",
              "      <td>[0.02458156, 0.01716435, 0.00043265, 0.0057551...</td>\n",
              "      <td>[0.421984941, 0.303224176, 0.836256504, -0.617...</td>\n",
              "      <td>0</td>\n",
              "      <td>0.0</td>\n",
              "      <td>в</td>\n",
              "    </tr>\n",
              "    <tr>\n",
              "      <th>14999</th>\n",
              "      <td>организме</td>\n",
              "      <td>[0.33309454, 0.70234656, 0.59898806, 0.5915255...</td>\n",
              "      <td>0</td>\n",
              "      <td>16</td>\n",
              "      <td>3</td>\n",
              "      <td>0</td>\n",
              "      <td>65</td>\n",
              "      <td>inan</td>\n",
              "      <td>loct</td>\n",
              "      <td>masc</td>\n",
              "      <td>NaN</td>\n",
              "      <td>NOUN</td>\n",
              "      <td>obl</td>\n",
              "      <td>аукнется</td>\n",
              "      <td>NaN</td>\n",
              "      <td>NaN</td>\n",
              "      <td>NaN</td>\n",
              "      <td>VERB</td>\n",
              "      <td>[-0.08942804, -0.19534485, 0.34863153, -0.2930...</td>\n",
              "      <td>[0.02458156, 0.01716435, 0.00043265, 0.0057551...</td>\n",
              "      <td>[-0.05610157, 0.6278774, 0.33735275, -0.344426...</td>\n",
              "      <td>0</td>\n",
              "      <td>0.0</td>\n",
              "      <td>центре</td>\n",
              "    </tr>\n",
              "  </tbody>\n",
              "</table>\n",
              "<p>15000 rows × 24 columns</p>\n",
              "</div>"
            ],
            "text/plain": [
              "            TOKEN  ...     ANN_TOKEN\n",
              "0       обсуждаем  ...     обсуждаем\n",
              "1        препарат  ...      препарат\n",
              "2      рисперидон  ...    рисперидон\n",
              "3       рисполепт  ...     рисполепт\n",
              "4        сперидан  ...      сперидан\n",
              "...           ...  ...           ...\n",
              "14995         эта  ...      абраксан\n",
              "14996     вакцина  ...             с\n",
              "14997    аукнется  ...  гемцитабином\n",
              "14998          на  ...             в\n",
              "14999   организме  ...        центре\n",
              "\n",
              "[15000 rows x 24 columns]"
            ]
          },
          "metadata": {
            "tags": []
          },
          "execution_count": 215
        }
      ]
    },
    {
      "cell_type": "markdown",
      "metadata": {
        "id": "Md-DxsOHsLN2"
      },
      "source": [
        "Всего наименований препаратов размечено (это не обязательно антецеденты, любое название препарата)."
      ]
    },
    {
      "cell_type": "code",
      "metadata": {
        "colab": {
          "base_uri": "https://localhost:8080/"
        },
        "id": "ZUxdUD5ZWpku",
        "outputId": "2fff354a-3d9a-4b78-82ed-d59dfe3aa1b2"
      },
      "source": [
        "len(df.loc[df['NER'] == 1])"
      ],
      "execution_count": 192,
      "outputs": [
        {
          "output_type": "execute_result",
          "data": {
            "text/plain": [
              "579"
            ]
          },
          "metadata": {
            "tags": []
          },
          "execution_count": 192
        }
      ]
    },
    {
      "cell_type": "markdown",
      "metadata": {
        "id": "0kDh_Mw0sO8N"
      },
      "source": [
        "Из них местоимений (прономинальные анафоры)."
      ]
    },
    {
      "cell_type": "code",
      "metadata": {
        "colab": {
          "base_uri": "https://localhost:8080/"
        },
        "id": "4Te0h4xrlvUH",
        "outputId": "e491daf7-71dd-4b7b-f920-e90e4a119e54"
      },
      "source": [
        "len(df.loc[df['NER'] == 3])"
      ],
      "execution_count": 193,
      "outputs": [
        {
          "output_type": "execute_result",
          "data": {
            "text/plain": [
              "112"
            ]
          },
          "metadata": {
            "tags": []
          },
          "execution_count": 193
        }
      ]
    },
    {
      "cell_type": "markdown",
      "metadata": {
        "id": "DfRQXgXqsbC2"
      },
      "source": [
        "И номинативные анафоры существительные, такие как \"препарат\" и \"лекарство\". В основном это они и есть."
      ]
    },
    {
      "cell_type": "code",
      "metadata": {
        "colab": {
          "base_uri": "https://localhost:8080/"
        },
        "id": "M1CiLnyGltqt",
        "outputId": "64438b60-768f-441c-dad9-c4f5796e81c9"
      },
      "source": [
        "len(df.loc[df['NER'] == 2])"
      ],
      "execution_count": 194,
      "outputs": [
        {
          "output_type": "execute_result",
          "data": {
            "text/plain": [
              "215"
            ]
          },
          "metadata": {
            "tags": []
          },
          "execution_count": 194
        }
      ]
    },
    {
      "cell_type": "code",
      "metadata": {
        "colab": {
          "base_uri": "https://localhost:8080/"
        },
        "id": "FB-5d7uAn6Jl",
        "outputId": "8c282149-f244-44b6-d6f2-509f9ef88f23"
      },
      "source": [
        "len(df.loc[df['NER'].isin([1,2,3])])"
      ],
      "execution_count": 195,
      "outputs": [
        {
          "output_type": "execute_result",
          "data": {
            "text/plain": [
              "906"
            ]
          },
          "metadata": {
            "tags": []
          },
          "execution_count": 195
        }
      ]
    },
    {
      "cell_type": "code",
      "metadata": {
        "id": "LjPlHQCcmBjv"
      },
      "source": [
        "# df['NER'] = [int(i) for i in df['NER']]\n",
        "# df['COREFERENCE_CLUSTER'] = [int(i) for i in df['COREFERENCE_CLUSTER']]"
      ],
      "execution_count": 196,
      "outputs": []
    },
    {
      "cell_type": "markdown",
      "metadata": {
        "id": "IHxSn2iAtJW-"
      },
      "source": [
        "Посмотрим на данные."
      ]
    },
    {
      "cell_type": "code",
      "metadata": {
        "colab": {
          "base_uri": "https://localhost:8080/",
          "height": 945
        },
        "id": "0t2P18AaoYk7",
        "outputId": "6e3f6bca-c591-4f2f-d33c-9ee9b6f86ea8"
      },
      "source": [
        "df.loc[df['NER'].isin([1,2,3])]"
      ],
      "execution_count": 197,
      "outputs": [
        {
          "output_type": "execute_result",
          "data": {
            "text/html": [
              "<div>\n",
              "<style scoped>\n",
              "    .dataframe tbody tr th:only-of-type {\n",
              "        vertical-align: middle;\n",
              "    }\n",
              "\n",
              "    .dataframe tbody tr th {\n",
              "        vertical-align: top;\n",
              "    }\n",
              "\n",
              "    .dataframe thead th {\n",
              "        text-align: right;\n",
              "    }\n",
              "</style>\n",
              "<table border=\"1\" class=\"dataframe\">\n",
              "  <thead>\n",
              "    <tr style=\"text-align: right;\">\n",
              "      <th></th>\n",
              "      <th>TOKEN</th>\n",
              "      <th>TOKEN_VECT</th>\n",
              "      <th>IS_ANSWER</th>\n",
              "      <th>TOPIC_NUM</th>\n",
              "      <th>POST_NUM</th>\n",
              "      <th>SENT_NUM</th>\n",
              "      <th>TOKEN_NUM</th>\n",
              "      <th>ANIMACY</th>\n",
              "      <th>CASE</th>\n",
              "      <th>GENDER</th>\n",
              "      <th>PERSON</th>\n",
              "      <th>POS</th>\n",
              "      <th>DEPENDENCY</th>\n",
              "      <th>HEAD</th>\n",
              "      <th>HEAD_ANIMACY</th>\n",
              "      <th>HEAD_CASE</th>\n",
              "      <th>HEAD_GENDER</th>\n",
              "      <th>HEAD_POS</th>\n",
              "      <th>HEAD_VECT</th>\n",
              "      <th>SENT_VECT</th>\n",
              "      <th>HEAD_CHILDS_VECT</th>\n",
              "      <th>NER</th>\n",
              "      <th>COREFERENCE_CLUSTER</th>\n",
              "    </tr>\n",
              "  </thead>\n",
              "  <tbody>\n",
              "    <tr>\n",
              "      <th>2</th>\n",
              "      <td>рисперидон</td>\n",
              "      <td>[0.61300194, 0.6183907, 0.25589323, -0.4421036...</td>\n",
              "      <td>0</td>\n",
              "      <td>1</td>\n",
              "      <td>0</td>\n",
              "      <td>0</td>\n",
              "      <td>2</td>\n",
              "      <td>anim</td>\n",
              "      <td>nomn</td>\n",
              "      <td>masc</td>\n",
              "      <td>NaN</td>\n",
              "      <td>NOUN</td>\n",
              "      <td>appos</td>\n",
              "      <td>препарат</td>\n",
              "      <td>inan</td>\n",
              "      <td>nomn</td>\n",
              "      <td>masc</td>\n",
              "      <td>NOUN</td>\n",
              "      <td>[-0.7033859, 0.7749181, 0.17049398, 0.19153355...</td>\n",
              "      <td>[0.0328866281, 0.142481059, 0.138332754, -0.10...</td>\n",
              "      <td>[0.61300194, 0.6183907, 0.25589323, -0.4421036...</td>\n",
              "      <td>1</td>\n",
              "      <td>2.0</td>\n",
              "    </tr>\n",
              "    <tr>\n",
              "      <th>3</th>\n",
              "      <td>рисполепт</td>\n",
              "      <td>[0.4014503, 0.6873261, 0.49922436, -0.5146114,...</td>\n",
              "      <td>0</td>\n",
              "      <td>1</td>\n",
              "      <td>0</td>\n",
              "      <td>0</td>\n",
              "      <td>3</td>\n",
              "      <td>inan</td>\n",
              "      <td>gent</td>\n",
              "      <td>femn</td>\n",
              "      <td>NaN</td>\n",
              "      <td>NOUN</td>\n",
              "      <td>parataxis</td>\n",
              "      <td>рисперидон</td>\n",
              "      <td>anim</td>\n",
              "      <td>nomn</td>\n",
              "      <td>masc</td>\n",
              "      <td>NOUN</td>\n",
              "      <td>[0.61300194, 0.6183907, 0.25589323, -0.4421036...</td>\n",
              "      <td>[0.0328866281, 0.142481059, 0.138332754, -0.10...</td>\n",
              "      <td>[0.4014503, 0.6873261, 0.49922436, -0.5146114,...</td>\n",
              "      <td>1</td>\n",
              "      <td>3.0</td>\n",
              "    </tr>\n",
              "    <tr>\n",
              "      <th>4</th>\n",
              "      <td>сперидан</td>\n",
              "      <td>[0.0651561394, 0.543457031, 0.580361426, -0.40...</td>\n",
              "      <td>0</td>\n",
              "      <td>1</td>\n",
              "      <td>0</td>\n",
              "      <td>0</td>\n",
              "      <td>4</td>\n",
              "      <td>NaN</td>\n",
              "      <td>NaN</td>\n",
              "      <td>masc</td>\n",
              "      <td>NaN</td>\n",
              "      <td>PRTS</td>\n",
              "      <td>conj</td>\n",
              "      <td>рисполепт</td>\n",
              "      <td>inan</td>\n",
              "      <td>gent</td>\n",
              "      <td>femn</td>\n",
              "      <td>NOUN</td>\n",
              "      <td>[0.4014503, 0.6873261, 0.49922436, -0.5146114,...</td>\n",
              "      <td>[0.0328866281, 0.142481059, 0.138332754, -0.10...</td>\n",
              "      <td>[0.0217187125, 0.181152344, 0.193453804, -0.13...</td>\n",
              "      <td>1</td>\n",
              "      <td>4.0</td>\n",
              "    </tr>\n",
              "    <tr>\n",
              "      <th>21</th>\n",
              "      <td>лекарством</td>\n",
              "      <td>[0.18107422, 0.10991222, 0.40389267, 0.1257452...</td>\n",
              "      <td>0</td>\n",
              "      <td>1</td>\n",
              "      <td>1</td>\n",
              "      <td>1</td>\n",
              "      <td>21</td>\n",
              "      <td>inan</td>\n",
              "      <td>ablt</td>\n",
              "      <td>neut</td>\n",
              "      <td>NaN</td>\n",
              "      <td>NOUN</td>\n",
              "      <td>conj</td>\n",
              "      <td>нет</td>\n",
              "      <td>NaN</td>\n",
              "      <td>NaN</td>\n",
              "      <td>NaN</td>\n",
              "      <td>PRED</td>\n",
              "      <td>[1.1023946, -0.21851613, 0.27732524, -0.410499...</td>\n",
              "      <td>[0.0144689651, 0.0110738566, 0.0359230712, 0.0...</td>\n",
              "      <td>[0.15912572, 0.25575718, 0.47969347, -0.225838...</td>\n",
              "      <td>2</td>\n",
              "      <td>0.0</td>\n",
              "    </tr>\n",
              "    <tr>\n",
              "      <th>142</th>\n",
              "      <td>рисполепта</td>\n",
              "      <td>[0.41737685, 0.53507644, 0.6493534, -0.4645206...</td>\n",
              "      <td>0</td>\n",
              "      <td>1</td>\n",
              "      <td>1</td>\n",
              "      <td>13</td>\n",
              "      <td>142</td>\n",
              "      <td>inan</td>\n",
              "      <td>nomn</td>\n",
              "      <td>femn</td>\n",
              "      <td>NaN</td>\n",
              "      <td>NOUN</td>\n",
              "      <td>nmod</td>\n",
              "      <td>дозировку</td>\n",
              "      <td>inan</td>\n",
              "      <td>accs</td>\n",
              "      <td>femn</td>\n",
              "      <td>NOUN</td>\n",
              "      <td>[0.21620364, 0.55475205, 0.30858138, 0.0875703...</td>\n",
              "      <td>[0.05283712, 0.04810272, 0.0337651, -0.0647213...</td>\n",
              "      <td>[0.4274913, 0.616717, 0.4384798, -0.31317738, ...</td>\n",
              "      <td>1</td>\n",
              "      <td>142.0</td>\n",
              "    </tr>\n",
              "    <tr>\n",
              "      <th>...</th>\n",
              "      <td>...</td>\n",
              "      <td>...</td>\n",
              "      <td>...</td>\n",
              "      <td>...</td>\n",
              "      <td>...</td>\n",
              "      <td>...</td>\n",
              "      <td>...</td>\n",
              "      <td>...</td>\n",
              "      <td>...</td>\n",
              "      <td>...</td>\n",
              "      <td>...</td>\n",
              "      <td>...</td>\n",
              "      <td>...</td>\n",
              "      <td>...</td>\n",
              "      <td>...</td>\n",
              "      <td>...</td>\n",
              "      <td>...</td>\n",
              "      <td>...</td>\n",
              "      <td>...</td>\n",
              "      <td>...</td>\n",
              "      <td>...</td>\n",
              "      <td>...</td>\n",
              "      <td>...</td>\n",
              "    </tr>\n",
              "    <tr>\n",
              "      <th>14921</th>\n",
              "      <td>случае</td>\n",
              "      <td>[-0.8581553, -0.08993252, 0.46717307, -0.30277...</td>\n",
              "      <td>1</td>\n",
              "      <td>15</td>\n",
              "      <td>19</td>\n",
              "      <td>5</td>\n",
              "      <td>2329</td>\n",
              "      <td>inan</td>\n",
              "      <td>loct</td>\n",
              "      <td>masc</td>\n",
              "      <td>NaN</td>\n",
              "      <td>NOUN</td>\n",
              "      <td>obl</td>\n",
              "      <td>было</td>\n",
              "      <td>NaN</td>\n",
              "      <td>NaN</td>\n",
              "      <td>neut</td>\n",
              "      <td>VERB</td>\n",
              "      <td>[0.2452363, 1.0681885, 0.560035, -0.47977963, ...</td>\n",
              "      <td>[0.05884434, 0.17941733, 0.09611521, -0.085921...</td>\n",
              "      <td>[0.01843335, 0.06042727, 0.14710088, -0.175997...</td>\n",
              "      <td>3</td>\n",
              "      <td>2138.0</td>\n",
              "    </tr>\n",
              "    <tr>\n",
              "      <th>14925</th>\n",
              "      <td>но</td>\n",
              "      <td>[0.02900389, 0.62579334, 0.1714195, -0.1735671...</td>\n",
              "      <td>1</td>\n",
              "      <td>15</td>\n",
              "      <td>19</td>\n",
              "      <td>6</td>\n",
              "      <td>2333</td>\n",
              "      <td>NaN</td>\n",
              "      <td>NaN</td>\n",
              "      <td>NaN</td>\n",
              "      <td>NaN</td>\n",
              "      <td>CONJ</td>\n",
              "      <td>cc</td>\n",
              "      <td>рпж</td>\n",
              "      <td>NaN</td>\n",
              "      <td>NaN</td>\n",
              "      <td>NaN</td>\n",
              "      <td>NaN</td>\n",
              "      <td>[0.33568636, 0.14108977, 0.18520364, -0.061363...</td>\n",
              "      <td>[0.08642551, 0.02916948, 0.0604148, -0.0244103...</td>\n",
              "      <td>[0.35438251, 0.29434806, 0.2716353, -0.2049615...</td>\n",
              "      <td>1</td>\n",
              "      <td>2145.0</td>\n",
              "    </tr>\n",
              "    <tr>\n",
              "      <th>14947</th>\n",
              "      <td>мочевого</td>\n",
              "      <td>[0.30769342, 0.36641997, 0.6807388, -0.2809179...</td>\n",
              "      <td>0</td>\n",
              "      <td>16</td>\n",
              "      <td>1</td>\n",
              "      <td>0</td>\n",
              "      <td>13</td>\n",
              "      <td>NaN</td>\n",
              "      <td>gent</td>\n",
              "      <td>masc</td>\n",
              "      <td>NaN</td>\n",
              "      <td>ADJF</td>\n",
              "      <td>amod</td>\n",
              "      <td>пузыря</td>\n",
              "      <td>inan</td>\n",
              "      <td>gent</td>\n",
              "      <td>masc</td>\n",
              "      <td>NOUN</td>\n",
              "      <td>[-0.07557568, 0.13845481, 0.5604058, 0.0803413...</td>\n",
              "      <td>[-0.00333615, 0.02435627, 0.08215391, 0.005502...</td>\n",
              "      <td>[0.30769342, 0.36641997, 0.6807388, -0.2809179...</td>\n",
              "      <td>1</td>\n",
              "      <td>2167.0</td>\n",
              "    </tr>\n",
              "    <tr>\n",
              "      <th>14995</th>\n",
              "      <td>эта</td>\n",
              "      <td>[0.51364344, 0.02838964, -0.06961589, -0.70076...</td>\n",
              "      <td>0</td>\n",
              "      <td>16</td>\n",
              "      <td>3</td>\n",
              "      <td>0</td>\n",
              "      <td>61</td>\n",
              "      <td>NaN</td>\n",
              "      <td>nomn</td>\n",
              "      <td>femn</td>\n",
              "      <td>NaN</td>\n",
              "      <td>ADJF</td>\n",
              "      <td>det</td>\n",
              "      <td>вакцина</td>\n",
              "      <td>inan</td>\n",
              "      <td>nomn</td>\n",
              "      <td>femn</td>\n",
              "      <td>NOUN</td>\n",
              "      <td>[0.202230185, -0.0267577451, 0.0462362356, -0....</td>\n",
              "      <td>[0.02458156, 0.01716435, 0.00043265, 0.0057551...</td>\n",
              "      <td>[0.51364344, 0.02838964, -0.06961589, -0.70076...</td>\n",
              "      <td>1</td>\n",
              "      <td>2215.0</td>\n",
              "    </tr>\n",
              "    <tr>\n",
              "      <th>14997</th>\n",
              "      <td>аукнется</td>\n",
              "      <td>[-0.08942804, -0.19534485, 0.34863153, -0.2930...</td>\n",
              "      <td>0</td>\n",
              "      <td>16</td>\n",
              "      <td>3</td>\n",
              "      <td>0</td>\n",
              "      <td>63</td>\n",
              "      <td>NaN</td>\n",
              "      <td>NaN</td>\n",
              "      <td>NaN</td>\n",
              "      <td>3per</td>\n",
              "      <td>VERB</td>\n",
              "      <td>csubj</td>\n",
              "      <td>неизвестно</td>\n",
              "      <td>NaN</td>\n",
              "      <td>NaN</td>\n",
              "      <td>NaN</td>\n",
              "      <td>ADVB</td>\n",
              "      <td>[0.3954894, 0.05844666, 0.47036946, -0.2928081...</td>\n",
              "      <td>[0.02458156, 0.01716435, 0.00043265, 0.0057551...</td>\n",
              "      <td>[0.0390081294, -0.053258121, 0.118922442, -0.4...</td>\n",
              "      <td>1</td>\n",
              "      <td>2217.0</td>\n",
              "    </tr>\n",
              "  </tbody>\n",
              "</table>\n",
              "<p>906 rows × 23 columns</p>\n",
              "</div>"
            ],
            "text/plain": [
              "            TOKEN  ... COREFERENCE_CLUSTER\n",
              "2      рисперидон  ...                 2.0\n",
              "3       рисполепт  ...                 3.0\n",
              "4        сперидан  ...                 4.0\n",
              "21     лекарством  ...                 0.0\n",
              "142    рисполепта  ...               142.0\n",
              "...           ...  ...                 ...\n",
              "14921      случае  ...              2138.0\n",
              "14925          но  ...              2145.0\n",
              "14947    мочевого  ...              2167.0\n",
              "14995         эта  ...              2215.0\n",
              "14997    аукнется  ...              2217.0\n",
              "\n",
              "[906 rows x 23 columns]"
            ]
          },
          "metadata": {
            "tags": []
          },
          "execution_count": 197
        }
      ]
    },
    {
      "cell_type": "markdown",
      "metadata": {
        "id": "ilbjEHUW2d0c"
      },
      "source": [
        "# **SEMANTIC AXIS**"
      ]
    },
    {
      "cell_type": "markdown",
      "metadata": {
        "id": "ICYR890StPgM"
      },
      "source": [
        "Реализация метода семантических осей.\n",
        "Сначала, выбираем первые предложения каждого топика. Посмотрим на них."
      ]
    },
    {
      "cell_type": "code",
      "metadata": {
        "colab": {
          "base_uri": "https://localhost:8080/",
          "height": 1000
        },
        "id": "tEK7B7NT8kb5",
        "outputId": "e488a113-8224-46bd-dc50-9aaacc02b71c"
      },
      "source": [
        "axis_df = df.query('POST_NUM == 0 and TOKEN_NUM == 2 and SENT_NUM == 0')\n",
        "axis_df"
      ],
      "execution_count": 198,
      "outputs": [
        {
          "output_type": "execute_result",
          "data": {
            "text/html": [
              "<div>\n",
              "<style scoped>\n",
              "    .dataframe tbody tr th:only-of-type {\n",
              "        vertical-align: middle;\n",
              "    }\n",
              "\n",
              "    .dataframe tbody tr th {\n",
              "        vertical-align: top;\n",
              "    }\n",
              "\n",
              "    .dataframe thead th {\n",
              "        text-align: right;\n",
              "    }\n",
              "</style>\n",
              "<table border=\"1\" class=\"dataframe\">\n",
              "  <thead>\n",
              "    <tr style=\"text-align: right;\">\n",
              "      <th></th>\n",
              "      <th>TOKEN</th>\n",
              "      <th>TOKEN_VECT</th>\n",
              "      <th>IS_ANSWER</th>\n",
              "      <th>TOPIC_NUM</th>\n",
              "      <th>POST_NUM</th>\n",
              "      <th>SENT_NUM</th>\n",
              "      <th>TOKEN_NUM</th>\n",
              "      <th>ANIMACY</th>\n",
              "      <th>CASE</th>\n",
              "      <th>GENDER</th>\n",
              "      <th>PERSON</th>\n",
              "      <th>POS</th>\n",
              "      <th>DEPENDENCY</th>\n",
              "      <th>HEAD</th>\n",
              "      <th>HEAD_ANIMACY</th>\n",
              "      <th>HEAD_CASE</th>\n",
              "      <th>HEAD_GENDER</th>\n",
              "      <th>HEAD_POS</th>\n",
              "      <th>HEAD_VECT</th>\n",
              "      <th>SENT_VECT</th>\n",
              "      <th>HEAD_CHILDS_VECT</th>\n",
              "      <th>NER</th>\n",
              "      <th>COREFERENCE_CLUSTER</th>\n",
              "    </tr>\n",
              "  </thead>\n",
              "  <tbody>\n",
              "    <tr>\n",
              "      <th>2</th>\n",
              "      <td>рисперидон</td>\n",
              "      <td>[0.61300194, 0.6183907, 0.25589323, -0.4421036...</td>\n",
              "      <td>0</td>\n",
              "      <td>1</td>\n",
              "      <td>0</td>\n",
              "      <td>0</td>\n",
              "      <td>2</td>\n",
              "      <td>anim</td>\n",
              "      <td>nomn</td>\n",
              "      <td>masc</td>\n",
              "      <td>NaN</td>\n",
              "      <td>NOUN</td>\n",
              "      <td>appos</td>\n",
              "      <td>препарат</td>\n",
              "      <td>inan</td>\n",
              "      <td>nomn</td>\n",
              "      <td>masc</td>\n",
              "      <td>NOUN</td>\n",
              "      <td>[-0.7033859, 0.7749181, 0.17049398, 0.19153355...</td>\n",
              "      <td>[0.0328866281, 0.142481059, 0.138332754, -0.10...</td>\n",
              "      <td>[0.61300194, 0.6183907, 0.25589323, -0.4421036...</td>\n",
              "      <td>1</td>\n",
              "      <td>2.0</td>\n",
              "    </tr>\n",
              "    <tr>\n",
              "      <th>576</th>\n",
              "      <td>зелдокс</td>\n",
              "      <td>[0.506304026, 0.684155226, -0.141768411, -0.25...</td>\n",
              "      <td>0</td>\n",
              "      <td>2</td>\n",
              "      <td>0</td>\n",
              "      <td>0</td>\n",
              "      <td>2</td>\n",
              "      <td>inan</td>\n",
              "      <td>nomn</td>\n",
              "      <td>masc</td>\n",
              "      <td>NaN</td>\n",
              "      <td>NOUN</td>\n",
              "      <td>appos</td>\n",
              "      <td>препарат</td>\n",
              "      <td>inan</td>\n",
              "      <td>nomn</td>\n",
              "      <td>masc</td>\n",
              "      <td>NOUN</td>\n",
              "      <td>[-0.7033859, 0.7749181, 0.17049398, 0.19153355...</td>\n",
              "      <td>[0.09821402, 0.14675905, 0.10349324, -0.055811...</td>\n",
              "      <td>[0.506304026, 0.684155226, -0.141768411, -0.25...</td>\n",
              "      <td>1</td>\n",
              "      <td>2.0</td>\n",
              "    </tr>\n",
              "    <tr>\n",
              "      <th>1870</th>\n",
              "      <td>оланзапин</td>\n",
              "      <td>[0.69098365, 0.84822035, 0.2730716, -0.3114577...</td>\n",
              "      <td>0</td>\n",
              "      <td>3</td>\n",
              "      <td>0</td>\n",
              "      <td>0</td>\n",
              "      <td>2</td>\n",
              "      <td>inan</td>\n",
              "      <td>gent</td>\n",
              "      <td>femn</td>\n",
              "      <td>NaN</td>\n",
              "      <td>NOUN</td>\n",
              "      <td>appos</td>\n",
              "      <td>препарат</td>\n",
              "      <td>inan</td>\n",
              "      <td>nomn</td>\n",
              "      <td>masc</td>\n",
              "      <td>NOUN</td>\n",
              "      <td>[-0.7033859, 0.7749181, 0.17049398, 0.19153355...</td>\n",
              "      <td>[0.04047806, 0.05509917, 0.08760619, -0.031909...</td>\n",
              "      <td>[0.69098365, 0.84822035, 0.2730716, -0.3114577...</td>\n",
              "      <td>0</td>\n",
              "      <td>0.0</td>\n",
              "    </tr>\n",
              "    <tr>\n",
              "      <th>5555</th>\n",
              "      <td>галоперидол</td>\n",
              "      <td>[0.56483144, 0.9214677, -0.03640855, -0.353968...</td>\n",
              "      <td>0</td>\n",
              "      <td>4</td>\n",
              "      <td>0</td>\n",
              "      <td>0</td>\n",
              "      <td>2</td>\n",
              "      <td>inan</td>\n",
              "      <td>nomn</td>\n",
              "      <td>masc</td>\n",
              "      <td>NaN</td>\n",
              "      <td>NOUN</td>\n",
              "      <td>obj</td>\n",
              "      <td>обсуждаем</td>\n",
              "      <td>NaN</td>\n",
              "      <td>NaN</td>\n",
              "      <td>NaN</td>\n",
              "      <td>VERB</td>\n",
              "      <td>[0.05871739, 0.34252143, -0.08884978, -0.74504...</td>\n",
              "      <td>[0.11229787, 0.4059439, 0.00351686, -0.1243023...</td>\n",
              "      <td>[-0.06927723, 0.84819293, 0.06704271, -0.08121...</td>\n",
              "      <td>0</td>\n",
              "      <td>0.0</td>\n",
              "    </tr>\n",
              "    <tr>\n",
              "      <th>6200</th>\n",
              "      <td>тиаприд</td>\n",
              "      <td>[0.5601152, 0.43141252, 0.26385978, -0.3580163...</td>\n",
              "      <td>0</td>\n",
              "      <td>5</td>\n",
              "      <td>0</td>\n",
              "      <td>0</td>\n",
              "      <td>2</td>\n",
              "      <td>anim</td>\n",
              "      <td>nomn</td>\n",
              "      <td>masc</td>\n",
              "      <td>NaN</td>\n",
              "      <td>NOUN</td>\n",
              "      <td>appos</td>\n",
              "      <td>препарат</td>\n",
              "      <td>inan</td>\n",
              "      <td>nomn</td>\n",
              "      <td>masc</td>\n",
              "      <td>NOUN</td>\n",
              "      <td>[-0.7033859, 0.7749181, 0.17049398, 0.19153355...</td>\n",
              "      <td>[0.16456556, 0.18610603, 0.06807116, -0.096986...</td>\n",
              "      <td>[0.5601152, 0.43141252, 0.26385978, -0.3580163...</td>\n",
              "      <td>0</td>\n",
              "      <td>0.0</td>\n",
              "    </tr>\n",
              "    <tr>\n",
              "      <th>8450</th>\n",
              "      <td>сероквель</td>\n",
              "      <td>[0.41217506, 0.9760998, 0.24672835, -0.1187952...</td>\n",
              "      <td>0</td>\n",
              "      <td>6</td>\n",
              "      <td>0</td>\n",
              "      <td>0</td>\n",
              "      <td>2</td>\n",
              "      <td>inan</td>\n",
              "      <td>gent</td>\n",
              "      <td>femn</td>\n",
              "      <td>NaN</td>\n",
              "      <td>NOUN</td>\n",
              "      <td>appos</td>\n",
              "      <td>препарат</td>\n",
              "      <td>inan</td>\n",
              "      <td>nomn</td>\n",
              "      <td>masc</td>\n",
              "      <td>NOUN</td>\n",
              "      <td>[-0.7033859, 0.7749181, 0.17049398, 0.19153355...</td>\n",
              "      <td>[0.1290171, 0.32225966, 0.07695462, 0.01664167...</td>\n",
              "      <td>[0.41217506, 0.9760998, 0.24672835, -0.1187952...</td>\n",
              "      <td>0</td>\n",
              "      <td>0.0</td>\n",
              "    </tr>\n",
              "    <tr>\n",
              "      <th>8541</th>\n",
              "      <td>день</td>\n",
              "      <td>[0.0313554741, 1.13139975, -0.552433074, -0.44...</td>\n",
              "      <td>0</td>\n",
              "      <td>7</td>\n",
              "      <td>0</td>\n",
              "      <td>0</td>\n",
              "      <td>2</td>\n",
              "      <td>inan</td>\n",
              "      <td>accs</td>\n",
              "      <td>masc</td>\n",
              "      <td>NaN</td>\n",
              "      <td>NOUN</td>\n",
              "      <td>ROOT</td>\n",
              "      <td>день</td>\n",
              "      <td>inan</td>\n",
              "      <td>accs</td>\n",
              "      <td>masc</td>\n",
              "      <td>NOUN</td>\n",
              "      <td>[0.0313554741, 1.13139975, -0.552433074, -0.44...</td>\n",
              "      <td>[0.105745733, 0.553744495, -0.282059699, -0.16...</td>\n",
              "      <td>[0.4499723, 0.7738633, -0.30182838, -0.0148975...</td>\n",
              "      <td>0</td>\n",
              "      <td>0.0</td>\n",
              "    </tr>\n",
              "    <tr>\n",
              "      <th>11117</th>\n",
              "      <td>500</td>\n",
              "      <td>[0.3767316, -0.05859598, 0.92690504, -0.672322...</td>\n",
              "      <td>0</td>\n",
              "      <td>8</td>\n",
              "      <td>0</td>\n",
              "      <td>0</td>\n",
              "      <td>2</td>\n",
              "      <td>NaN</td>\n",
              "      <td>NaN</td>\n",
              "      <td>NaN</td>\n",
              "      <td>NaN</td>\n",
              "      <td>NaN</td>\n",
              "      <td>nummod</td>\n",
              "      <td>мг</td>\n",
              "      <td>inan</td>\n",
              "      <td>nomn</td>\n",
              "      <td>masc</td>\n",
              "      <td>NOUN</td>\n",
              "      <td>[0.17310344, 0.6202443, 0.8790039, -0.30582935...</td>\n",
              "      <td>[-0.0276589, -0.02779311, 0.02321921, -0.00313...</td>\n",
              "      <td>[0.0]</td>\n",
              "      <td>0</td>\n",
              "      <td>0.0</td>\n",
              "    </tr>\n",
              "    <tr>\n",
              "      <th>11787</th>\n",
              "      <td>капецитабин</td>\n",
              "      <td>[0.34493223, 1.3637387, 0.6850874, -0.37695974...</td>\n",
              "      <td>0</td>\n",
              "      <td>10</td>\n",
              "      <td>0</td>\n",
              "      <td>0</td>\n",
              "      <td>2</td>\n",
              "      <td>anim</td>\n",
              "      <td>nomn</td>\n",
              "      <td>masc</td>\n",
              "      <td>NaN</td>\n",
              "      <td>NOUN</td>\n",
              "      <td>ROOT</td>\n",
              "      <td>капецитабин</td>\n",
              "      <td>anim</td>\n",
              "      <td>nomn</td>\n",
              "      <td>masc</td>\n",
              "      <td>NOUN</td>\n",
              "      <td>[0.34493223, 1.3637387, 0.6850874, -0.37695974...</td>\n",
              "      <td>[-0.0151779177, -0.0666496158, 0.0428031757, -...</td>\n",
              "      <td>[0.23536643, 0.30812463, 0.33023566, -0.504914...</td>\n",
              "      <td>0</td>\n",
              "      <td>0.0</td>\n",
              "    </tr>\n",
              "    <tr>\n",
              "      <th>11806</th>\n",
              "      <td>иресса</td>\n",
              "      <td>[0.34256947, 0.46005294, 0.75681233, -0.733530...</td>\n",
              "      <td>0</td>\n",
              "      <td>11</td>\n",
              "      <td>0</td>\n",
              "      <td>0</td>\n",
              "      <td>2</td>\n",
              "      <td>NaN</td>\n",
              "      <td>NaN</td>\n",
              "      <td>NaN</td>\n",
              "      <td>NaN</td>\n",
              "      <td>GRND</td>\n",
              "      <td>nmod</td>\n",
              "      <td>отдам</td>\n",
              "      <td>NaN</td>\n",
              "      <td>NaN</td>\n",
              "      <td>NaN</td>\n",
              "      <td>VERB</td>\n",
              "      <td>[0.5564224, 0.51623684, 0.10405769, -0.6757818...</td>\n",
              "      <td>[0.09474397, 0.05582693, 0.09183251, 0.0153907...</td>\n",
              "      <td>[0.06600111, 0.39540923, 0.91943175, -0.463366...</td>\n",
              "      <td>0</td>\n",
              "      <td>0.0</td>\n",
              "    </tr>\n",
              "    <tr>\n",
              "      <th>12118</th>\n",
              "      <td>очень</td>\n",
              "      <td>[0.59766984, 0.88022304, -0.08467361, -0.98490...</td>\n",
              "      <td>0</td>\n",
              "      <td>12</td>\n",
              "      <td>0</td>\n",
              "      <td>0</td>\n",
              "      <td>2</td>\n",
              "      <td>NaN</td>\n",
              "      <td>NaN</td>\n",
              "      <td>NaN</td>\n",
              "      <td>NaN</td>\n",
              "      <td>ADVB</td>\n",
              "      <td>advmod</td>\n",
              "      <td>нужна</td>\n",
              "      <td>NaN</td>\n",
              "      <td>NaN</td>\n",
              "      <td>femn</td>\n",
              "      <td>ADJS</td>\n",
              "      <td>[0.74211216, -0.48861858, 0.50545043, -1.00021...</td>\n",
              "      <td>[0.08853686, 0.0596716, 0.10612593, -0.1347204...</td>\n",
              "      <td>[0.2995956, 0.28591073, -0.04060022, -0.245029...</td>\n",
              "      <td>0</td>\n",
              "      <td>0.0</td>\n",
              "    </tr>\n",
              "    <tr>\n",
              "      <th>12200</th>\n",
              "      <td>очень</td>\n",
              "      <td>[0.59766984, 0.88022304, -0.08467361, -0.98490...</td>\n",
              "      <td>0</td>\n",
              "      <td>13</td>\n",
              "      <td>0</td>\n",
              "      <td>0</td>\n",
              "      <td>2</td>\n",
              "      <td>NaN</td>\n",
              "      <td>NaN</td>\n",
              "      <td>NaN</td>\n",
              "      <td>NaN</td>\n",
              "      <td>ADVB</td>\n",
              "      <td>advmod</td>\n",
              "      <td>нужна</td>\n",
              "      <td>NaN</td>\n",
              "      <td>NaN</td>\n",
              "      <td>femn</td>\n",
              "      <td>ADJS</td>\n",
              "      <td>[0.74211216, -0.48861858, 0.50545043, -1.00021...</td>\n",
              "      <td>[0.08853686, 0.0596716, 0.10612593, -0.1347204...</td>\n",
              "      <td>[0.2995956, 0.28591073, -0.04060022, -0.245029...</td>\n",
              "      <td>0</td>\n",
              "      <td>0.0</td>\n",
              "    </tr>\n",
              "    <tr>\n",
              "      <th>14936</th>\n",
              "      <td>показания</td>\n",
              "      <td>[0.651532888, 0.194459766, 0.204915792, -0.201...</td>\n",
              "      <td>0</td>\n",
              "      <td>16</td>\n",
              "      <td>0</td>\n",
              "      <td>0</td>\n",
              "      <td>2</td>\n",
              "      <td>inan</td>\n",
              "      <td>nomn</td>\n",
              "      <td>neut</td>\n",
              "      <td>NaN</td>\n",
              "      <td>NOUN</td>\n",
              "      <td>conj</td>\n",
              "      <td>противопоказания</td>\n",
              "      <td>inan</td>\n",
              "      <td>gent</td>\n",
              "      <td>neut</td>\n",
              "      <td>NOUN</td>\n",
              "      <td>[0.473039687, -0.149302974, 0.423339754, -0.01...</td>\n",
              "      <td>[-0.06691235, 0.13633402, 0.09595014, 0.060490...</td>\n",
              "      <td>[0.05559811, 0.63683, 0.3630876, 0.08531602, -...</td>\n",
              "      <td>0</td>\n",
              "      <td>0.0</td>\n",
              "    </tr>\n",
              "  </tbody>\n",
              "</table>\n",
              "</div>"
            ],
            "text/plain": [
              "             TOKEN  ... COREFERENCE_CLUSTER\n",
              "2       рисперидон  ...                 2.0\n",
              "576        зелдокс  ...                 2.0\n",
              "1870     оланзапин  ...                 0.0\n",
              "5555   галоперидол  ...                 0.0\n",
              "6200       тиаприд  ...                 0.0\n",
              "8450     сероквель  ...                 0.0\n",
              "8541          день  ...                 0.0\n",
              "11117          500  ...                 0.0\n",
              "11787  капецитабин  ...                 0.0\n",
              "11806       иресса  ...                 0.0\n",
              "12118        очень  ...                 0.0\n",
              "12200        очень  ...                 0.0\n",
              "14936    показания  ...                 0.0\n",
              "\n",
              "[13 rows x 23 columns]"
            ]
          },
          "metadata": {
            "tags": []
          },
          "execution_count": 198
        }
      ]
    },
    {
      "cell_type": "code",
      "metadata": {
        "id": "GEiKxebuCPsC"
      },
      "source": [
        "# sum(df.query('POST_NUM == 0 and TOKEN_NUM == 2 and SENT_NUM == 0').TOKEN_VECT)/len(df.query('POST_NUM == 0 and TOKEN_NUM == 2 and SENT_NUM == 0').TOKEN_VECT)"
      ],
      "execution_count": 199,
      "outputs": []
    },
    {
      "cell_type": "markdown",
      "metadata": {
        "id": "r-A7JcK3tsVt"
      },
      "source": [
        "Суммируем верктора токенов, главных слов, предложения целиком, и зависимых слов. Нормализуем."
      ]
    },
    {
      "cell_type": "code",
      "metadata": {
        "id": "0ESW3_xq2h0O"
      },
      "source": [
        "\n",
        "token_axe = sum(axis_df.TOKEN_VECT)/len(axis_df.TOKEN_VECT)\n",
        "head_axe = sum(axis_df.HEAD_VECT)/len(axis_df.HEAD_VECT)\n",
        "head_childs_axe = sum(axis_df.HEAD_CHILDS_VECT)/len(axis_df.HEAD_CHILDS_VECT)\n",
        "sent_axe = sum(axis_df.SENT_VECT)/len(axis_df.SENT_VECT)"
      ],
      "execution_count": 200,
      "outputs": []
    },
    {
      "cell_type": "code",
      "metadata": {
        "colab": {
          "base_uri": "https://localhost:8080/"
        },
        "id": "1NmYmDIwIbPS",
        "outputId": "bca78f10-55c7-46f6-8206-ae98a16ab401"
      },
      "source": [
        "df.TOKEN_VECT[710]"
      ],
      "execution_count": 201,
      "outputs": [
        {
          "output_type": "execute_result",
          "data": {
            "text/plain": [
              "array([nan])"
            ]
          },
          "metadata": {
            "tags": []
          },
          "execution_count": 201
        }
      ]
    },
    {
      "cell_type": "markdown",
      "metadata": {
        "id": "7La2_kyRuXYI"
      },
      "source": [
        "Функция, которая заменяет столбец с векторами на столбец со значениями косинусной дистанции с соответствующей семантической осью.\n"
      ]
    },
    {
      "cell_type": "code",
      "metadata": {
        "id": "qGfEFxcRHBZz"
      },
      "source": [
        "def make_similarity(df, col, axe):\n",
        "  new_col = []\n",
        "  for ind, vect in enumerate(df[col]):\n",
        "    try:\n",
        "      new_col.append(cosine_similarity([axe], [vect])[-1][-1])\n",
        "    except ValueError:\n",
        "      new_col.append(0)\n",
        "  df[col] = new_col\n",
        "\n"
      ],
      "execution_count": 202,
      "outputs": []
    },
    {
      "cell_type": "code",
      "metadata": {
        "colab": {
          "base_uri": "https://localhost:8080/"
        },
        "id": "pDC2D4LcLFTt",
        "outputId": "b54e73dc-585d-4076-a2a4-1e6ad5cde5c9"
      },
      "source": [
        "make_similarity(df, 'TOKEN_VECT', token_axe)\n",
        "make_similarity(df, 'HEAD_VECT', head_axe)\n",
        "make_similarity(df, 'HEAD_CHILDS_VECT', head_childs_axe)\n",
        "make_similarity(df, 'SENT_VECT', sent_axe)"
      ],
      "execution_count": 203,
      "outputs": [
        {
          "output_type": "stream",
          "text": [
            "/usr/local/lib/python3.7/dist-packages/ipykernel_launcher.py:8: SettingWithCopyWarning: \n",
            "A value is trying to be set on a copy of a slice from a DataFrame.\n",
            "Try using .loc[row_indexer,col_indexer] = value instead\n",
            "\n",
            "See the caveats in the documentation: https://pandas.pydata.org/pandas-docs/stable/user_guide/indexing.html#returning-a-view-versus-a-copy\n",
            "  \n",
            "/usr/local/lib/python3.7/dist-packages/ipykernel_launcher.py:8: SettingWithCopyWarning: \n",
            "A value is trying to be set on a copy of a slice from a DataFrame.\n",
            "Try using .loc[row_indexer,col_indexer] = value instead\n",
            "\n",
            "See the caveats in the documentation: https://pandas.pydata.org/pandas-docs/stable/user_guide/indexing.html#returning-a-view-versus-a-copy\n",
            "  \n",
            "/usr/local/lib/python3.7/dist-packages/ipykernel_launcher.py:8: SettingWithCopyWarning: \n",
            "A value is trying to be set on a copy of a slice from a DataFrame.\n",
            "Try using .loc[row_indexer,col_indexer] = value instead\n",
            "\n",
            "See the caveats in the documentation: https://pandas.pydata.org/pandas-docs/stable/user_guide/indexing.html#returning-a-view-versus-a-copy\n",
            "  \n",
            "/usr/local/lib/python3.7/dist-packages/ipykernel_launcher.py:8: SettingWithCopyWarning: \n",
            "A value is trying to be set on a copy of a slice from a DataFrame.\n",
            "Try using .loc[row_indexer,col_indexer] = value instead\n",
            "\n",
            "See the caveats in the documentation: https://pandas.pydata.org/pandas-docs/stable/user_guide/indexing.html#returning-a-view-versus-a-copy\n",
            "  \n"
          ],
          "name": "stderr"
        }
      ]
    },
    {
      "cell_type": "code",
      "metadata": {
        "colab": {
          "base_uri": "https://localhost:8080/",
          "height": 35
        },
        "id": "hcdxAoSuucFG",
        "outputId": "5005893d-7b38-4c79-bce9-b96903763d47"
      },
      "source": [
        "df.TOKEN[1]"
      ],
      "execution_count": 204,
      "outputs": [
        {
          "output_type": "execute_result",
          "data": {
            "application/vnd.google.colaboratory.intrinsic+json": {
              "type": "string"
            },
            "text/plain": [
              "'препарат'"
            ]
          },
          "metadata": {
            "tags": []
          },
          "execution_count": 204
        }
      ]
    },
    {
      "cell_type": "code",
      "metadata": {
        "id": "9eJEaD0MuVt-"
      },
      "source": [
        "# df['SUM_VECT']= [(df.TOKEN_VECT[i] + df.SENT_VECT[i])/3 for i in range(len(df.SENT_VECT))]"
      ],
      "execution_count": 205,
      "outputs": []
    },
    {
      "cell_type": "markdown",
      "metadata": {
        "id": "E8S50koyuk8t"
      },
      "source": [
        "Посмотрим на данные."
      ]
    },
    {
      "cell_type": "code",
      "metadata": {
        "colab": {
          "base_uri": "https://localhost:8080/",
          "height": 427
        },
        "id": "U44h8yUwKDhf",
        "outputId": "d75574e8-a3bd-4652-a4a4-ffb9144ce20d"
      },
      "source": [
        "df"
      ],
      "execution_count": 206,
      "outputs": [
        {
          "output_type": "execute_result",
          "data": {
            "text/html": [
              "<div>\n",
              "<style scoped>\n",
              "    .dataframe tbody tr th:only-of-type {\n",
              "        vertical-align: middle;\n",
              "    }\n",
              "\n",
              "    .dataframe tbody tr th {\n",
              "        vertical-align: top;\n",
              "    }\n",
              "\n",
              "    .dataframe thead th {\n",
              "        text-align: right;\n",
              "    }\n",
              "</style>\n",
              "<table border=\"1\" class=\"dataframe\">\n",
              "  <thead>\n",
              "    <tr style=\"text-align: right;\">\n",
              "      <th></th>\n",
              "      <th>TOKEN</th>\n",
              "      <th>TOKEN_VECT</th>\n",
              "      <th>IS_ANSWER</th>\n",
              "      <th>TOPIC_NUM</th>\n",
              "      <th>POST_NUM</th>\n",
              "      <th>SENT_NUM</th>\n",
              "      <th>TOKEN_NUM</th>\n",
              "      <th>ANIMACY</th>\n",
              "      <th>CASE</th>\n",
              "      <th>GENDER</th>\n",
              "      <th>PERSON</th>\n",
              "      <th>POS</th>\n",
              "      <th>DEPENDENCY</th>\n",
              "      <th>HEAD</th>\n",
              "      <th>HEAD_ANIMACY</th>\n",
              "      <th>HEAD_CASE</th>\n",
              "      <th>HEAD_GENDER</th>\n",
              "      <th>HEAD_POS</th>\n",
              "      <th>HEAD_VECT</th>\n",
              "      <th>SENT_VECT</th>\n",
              "      <th>HEAD_CHILDS_VECT</th>\n",
              "      <th>NER</th>\n",
              "      <th>COREFERENCE_CLUSTER</th>\n",
              "    </tr>\n",
              "  </thead>\n",
              "  <tbody>\n",
              "    <tr>\n",
              "      <th>0</th>\n",
              "      <td>обсуждаем</td>\n",
              "      <td>0.462631</td>\n",
              "      <td>0</td>\n",
              "      <td>1</td>\n",
              "      <td>0</td>\n",
              "      <td>0</td>\n",
              "      <td>0</td>\n",
              "      <td>NaN</td>\n",
              "      <td>NaN</td>\n",
              "      <td>NaN</td>\n",
              "      <td>1per</td>\n",
              "      <td>VERB</td>\n",
              "      <td>ROOT</td>\n",
              "      <td>обсуждаем</td>\n",
              "      <td>NaN</td>\n",
              "      <td>NaN</td>\n",
              "      <td>NaN</td>\n",
              "      <td>VERB</td>\n",
              "      <td>0.497135</td>\n",
              "      <td>0.831452</td>\n",
              "      <td>0.612037</td>\n",
              "      <td>0</td>\n",
              "      <td>0.0</td>\n",
              "    </tr>\n",
              "    <tr>\n",
              "      <th>1</th>\n",
              "      <td>препарат</td>\n",
              "      <td>0.537895</td>\n",
              "      <td>0</td>\n",
              "      <td>1</td>\n",
              "      <td>0</td>\n",
              "      <td>0</td>\n",
              "      <td>1</td>\n",
              "      <td>inan</td>\n",
              "      <td>nomn</td>\n",
              "      <td>masc</td>\n",
              "      <td>NaN</td>\n",
              "      <td>NOUN</td>\n",
              "      <td>obj</td>\n",
              "      <td>обсуждаем</td>\n",
              "      <td>NaN</td>\n",
              "      <td>NaN</td>\n",
              "      <td>NaN</td>\n",
              "      <td>VERB</td>\n",
              "      <td>0.497135</td>\n",
              "      <td>0.831452</td>\n",
              "      <td>0.612037</td>\n",
              "      <td>0</td>\n",
              "      <td>0.0</td>\n",
              "    </tr>\n",
              "    <tr>\n",
              "      <th>2</th>\n",
              "      <td>рисперидон</td>\n",
              "      <td>0.798992</td>\n",
              "      <td>0</td>\n",
              "      <td>1</td>\n",
              "      <td>0</td>\n",
              "      <td>0</td>\n",
              "      <td>2</td>\n",
              "      <td>anim</td>\n",
              "      <td>nomn</td>\n",
              "      <td>masc</td>\n",
              "      <td>NaN</td>\n",
              "      <td>NOUN</td>\n",
              "      <td>appos</td>\n",
              "      <td>препарат</td>\n",
              "      <td>inan</td>\n",
              "      <td>nomn</td>\n",
              "      <td>masc</td>\n",
              "      <td>NOUN</td>\n",
              "      <td>0.874818</td>\n",
              "      <td>0.831452</td>\n",
              "      <td>0.819550</td>\n",
              "      <td>1</td>\n",
              "      <td>2.0</td>\n",
              "    </tr>\n",
              "    <tr>\n",
              "      <th>3</th>\n",
              "      <td>рисполепт</td>\n",
              "      <td>0.827964</td>\n",
              "      <td>0</td>\n",
              "      <td>1</td>\n",
              "      <td>0</td>\n",
              "      <td>0</td>\n",
              "      <td>3</td>\n",
              "      <td>inan</td>\n",
              "      <td>gent</td>\n",
              "      <td>femn</td>\n",
              "      <td>NaN</td>\n",
              "      <td>NOUN</td>\n",
              "      <td>parataxis</td>\n",
              "      <td>рисперидон</td>\n",
              "      <td>anim</td>\n",
              "      <td>nomn</td>\n",
              "      <td>masc</td>\n",
              "      <td>NOUN</td>\n",
              "      <td>0.595599</td>\n",
              "      <td>0.831452</td>\n",
              "      <td>0.841689</td>\n",
              "      <td>1</td>\n",
              "      <td>3.0</td>\n",
              "    </tr>\n",
              "    <tr>\n",
              "      <th>4</th>\n",
              "      <td>сперидан</td>\n",
              "      <td>0.741854</td>\n",
              "      <td>0</td>\n",
              "      <td>1</td>\n",
              "      <td>0</td>\n",
              "      <td>0</td>\n",
              "      <td>4</td>\n",
              "      <td>NaN</td>\n",
              "      <td>NaN</td>\n",
              "      <td>masc</td>\n",
              "      <td>NaN</td>\n",
              "      <td>PRTS</td>\n",
              "      <td>conj</td>\n",
              "      <td>рисполепт</td>\n",
              "      <td>inan</td>\n",
              "      <td>gent</td>\n",
              "      <td>femn</td>\n",
              "      <td>NOUN</td>\n",
              "      <td>0.686281</td>\n",
              "      <td>0.831452</td>\n",
              "      <td>0.790878</td>\n",
              "      <td>1</td>\n",
              "      <td>4.0</td>\n",
              "    </tr>\n",
              "    <tr>\n",
              "      <th>...</th>\n",
              "      <td>...</td>\n",
              "      <td>...</td>\n",
              "      <td>...</td>\n",
              "      <td>...</td>\n",
              "      <td>...</td>\n",
              "      <td>...</td>\n",
              "      <td>...</td>\n",
              "      <td>...</td>\n",
              "      <td>...</td>\n",
              "      <td>...</td>\n",
              "      <td>...</td>\n",
              "      <td>...</td>\n",
              "      <td>...</td>\n",
              "      <td>...</td>\n",
              "      <td>...</td>\n",
              "      <td>...</td>\n",
              "      <td>...</td>\n",
              "      <td>...</td>\n",
              "      <td>...</td>\n",
              "      <td>...</td>\n",
              "      <td>...</td>\n",
              "      <td>...</td>\n",
              "      <td>...</td>\n",
              "    </tr>\n",
              "    <tr>\n",
              "      <th>14995</th>\n",
              "      <td>эта</td>\n",
              "      <td>0.396652</td>\n",
              "      <td>0</td>\n",
              "      <td>16</td>\n",
              "      <td>3</td>\n",
              "      <td>0</td>\n",
              "      <td>61</td>\n",
              "      <td>NaN</td>\n",
              "      <td>nomn</td>\n",
              "      <td>femn</td>\n",
              "      <td>NaN</td>\n",
              "      <td>ADJF</td>\n",
              "      <td>det</td>\n",
              "      <td>вакцина</td>\n",
              "      <td>inan</td>\n",
              "      <td>nomn</td>\n",
              "      <td>femn</td>\n",
              "      <td>NOUN</td>\n",
              "      <td>0.468116</td>\n",
              "      <td>0.464917</td>\n",
              "      <td>0.399088</td>\n",
              "      <td>1</td>\n",
              "      <td>2215.0</td>\n",
              "    </tr>\n",
              "    <tr>\n",
              "      <th>14996</th>\n",
              "      <td>вакцина</td>\n",
              "      <td>0.506309</td>\n",
              "      <td>0</td>\n",
              "      <td>16</td>\n",
              "      <td>3</td>\n",
              "      <td>0</td>\n",
              "      <td>62</td>\n",
              "      <td>inan</td>\n",
              "      <td>nomn</td>\n",
              "      <td>femn</td>\n",
              "      <td>NaN</td>\n",
              "      <td>NOUN</td>\n",
              "      <td>nsubj</td>\n",
              "      <td>аукнется</td>\n",
              "      <td>NaN</td>\n",
              "      <td>NaN</td>\n",
              "      <td>NaN</td>\n",
              "      <td>VERB</td>\n",
              "      <td>0.587453</td>\n",
              "      <td>0.464917</td>\n",
              "      <td>0.726396</td>\n",
              "      <td>0</td>\n",
              "      <td>0.0</td>\n",
              "    </tr>\n",
              "    <tr>\n",
              "      <th>14997</th>\n",
              "      <td>аукнется</td>\n",
              "      <td>0.519965</td>\n",
              "      <td>0</td>\n",
              "      <td>16</td>\n",
              "      <td>3</td>\n",
              "      <td>0</td>\n",
              "      <td>63</td>\n",
              "      <td>NaN</td>\n",
              "      <td>NaN</td>\n",
              "      <td>NaN</td>\n",
              "      <td>3per</td>\n",
              "      <td>VERB</td>\n",
              "      <td>csubj</td>\n",
              "      <td>неизвестно</td>\n",
              "      <td>NaN</td>\n",
              "      <td>NaN</td>\n",
              "      <td>NaN</td>\n",
              "      <td>ADVB</td>\n",
              "      <td>0.541723</td>\n",
              "      <td>0.464917</td>\n",
              "      <td>0.595201</td>\n",
              "      <td>1</td>\n",
              "      <td>2217.0</td>\n",
              "    </tr>\n",
              "    <tr>\n",
              "      <th>14998</th>\n",
              "      <td>на</td>\n",
              "      <td>0.444298</td>\n",
              "      <td>0</td>\n",
              "      <td>16</td>\n",
              "      <td>3</td>\n",
              "      <td>0</td>\n",
              "      <td>64</td>\n",
              "      <td>NaN</td>\n",
              "      <td>NaN</td>\n",
              "      <td>NaN</td>\n",
              "      <td>NaN</td>\n",
              "      <td>PREP</td>\n",
              "      <td>case</td>\n",
              "      <td>организме</td>\n",
              "      <td>inan</td>\n",
              "      <td>loct</td>\n",
              "      <td>masc</td>\n",
              "      <td>NOUN</td>\n",
              "      <td>0.475042</td>\n",
              "      <td>0.464917</td>\n",
              "      <td>0.408353</td>\n",
              "      <td>0</td>\n",
              "      <td>0.0</td>\n",
              "    </tr>\n",
              "    <tr>\n",
              "      <th>14999</th>\n",
              "      <td>организме</td>\n",
              "      <td>0.471066</td>\n",
              "      <td>0</td>\n",
              "      <td>16</td>\n",
              "      <td>3</td>\n",
              "      <td>0</td>\n",
              "      <td>65</td>\n",
              "      <td>inan</td>\n",
              "      <td>loct</td>\n",
              "      <td>masc</td>\n",
              "      <td>NaN</td>\n",
              "      <td>NOUN</td>\n",
              "      <td>obl</td>\n",
              "      <td>аукнется</td>\n",
              "      <td>NaN</td>\n",
              "      <td>NaN</td>\n",
              "      <td>NaN</td>\n",
              "      <td>VERB</td>\n",
              "      <td>0.587453</td>\n",
              "      <td>0.464917</td>\n",
              "      <td>0.726396</td>\n",
              "      <td>0</td>\n",
              "      <td>0.0</td>\n",
              "    </tr>\n",
              "  </tbody>\n",
              "</table>\n",
              "<p>15000 rows × 23 columns</p>\n",
              "</div>"
            ],
            "text/plain": [
              "            TOKEN  TOKEN_VECT  ...  NER  COREFERENCE_CLUSTER\n",
              "0       обсуждаем    0.462631  ...    0                  0.0\n",
              "1        препарат    0.537895  ...    0                  0.0\n",
              "2      рисперидон    0.798992  ...    1                  2.0\n",
              "3       рисполепт    0.827964  ...    1                  3.0\n",
              "4        сперидан    0.741854  ...    1                  4.0\n",
              "...           ...         ...  ...  ...                  ...\n",
              "14995         эта    0.396652  ...    1               2215.0\n",
              "14996     вакцина    0.506309  ...    0                  0.0\n",
              "14997    аукнется    0.519965  ...    1               2217.0\n",
              "14998          на    0.444298  ...    0                  0.0\n",
              "14999   организме    0.471066  ...    0                  0.0\n",
              "\n",
              "[15000 rows x 23 columns]"
            ]
          },
          "metadata": {
            "tags": []
          },
          "execution_count": 206
        }
      ]
    },
    {
      "cell_type": "markdown",
      "metadata": {
        "id": "8FndOykVWO2D"
      },
      "source": [
        "# **ПРАВИЛОВЫЙ АЛГОРИТМ**"
      ]
    },
    {
      "cell_type": "code",
      "metadata": {
        "colab": {
          "base_uri": "https://localhost:8080/"
        },
        "id": "sc94aYmsaZE6",
        "outputId": "75088882-5248-43ae-fc72-083564af08c2"
      },
      "source": [
        "topics = list(set(df.TOPIC_NUM.values))\n",
        "topics"
      ],
      "execution_count": 207,
      "outputs": [
        {
          "output_type": "execute_result",
          "data": {
            "text/plain": [
              "[1, 2, 3, 4, 5, 6, 7, 8, 9, 10, 11, 12, 13, 14, 15, 16]"
            ]
          },
          "metadata": {
            "tags": []
          },
          "execution_count": 207
        }
      ]
    },
    {
      "cell_type": "code",
      "metadata": {
        "colab": {
          "base_uri": "https://localhost:8080/",
          "height": 98
        },
        "id": "7TpGdyZywCdx",
        "outputId": "7c4f2d10-f0ab-4604-da3b-f183fc36123e"
      },
      "source": [
        "df.iloc[[11696]]"
      ],
      "execution_count": 208,
      "outputs": [
        {
          "output_type": "execute_result",
          "data": {
            "text/html": [
              "<div>\n",
              "<style scoped>\n",
              "    .dataframe tbody tr th:only-of-type {\n",
              "        vertical-align: middle;\n",
              "    }\n",
              "\n",
              "    .dataframe tbody tr th {\n",
              "        vertical-align: top;\n",
              "    }\n",
              "\n",
              "    .dataframe thead th {\n",
              "        text-align: right;\n",
              "    }\n",
              "</style>\n",
              "<table border=\"1\" class=\"dataframe\">\n",
              "  <thead>\n",
              "    <tr style=\"text-align: right;\">\n",
              "      <th></th>\n",
              "      <th>TOKEN</th>\n",
              "      <th>TOKEN_VECT</th>\n",
              "      <th>IS_ANSWER</th>\n",
              "      <th>TOPIC_NUM</th>\n",
              "      <th>POST_NUM</th>\n",
              "      <th>SENT_NUM</th>\n",
              "      <th>TOKEN_NUM</th>\n",
              "      <th>ANIMACY</th>\n",
              "      <th>CASE</th>\n",
              "      <th>GENDER</th>\n",
              "      <th>PERSON</th>\n",
              "      <th>POS</th>\n",
              "      <th>DEPENDENCY</th>\n",
              "      <th>HEAD</th>\n",
              "      <th>HEAD_ANIMACY</th>\n",
              "      <th>HEAD_CASE</th>\n",
              "      <th>HEAD_GENDER</th>\n",
              "      <th>HEAD_POS</th>\n",
              "      <th>HEAD_VECT</th>\n",
              "      <th>SENT_VECT</th>\n",
              "      <th>HEAD_CHILDS_VECT</th>\n",
              "      <th>NER</th>\n",
              "      <th>COREFERENCE_CLUSTER</th>\n",
              "    </tr>\n",
              "  </thead>\n",
              "  <tbody>\n",
              "    <tr>\n",
              "      <th>11696</th>\n",
              "      <td>спасибо</td>\n",
              "      <td>0.455624</td>\n",
              "      <td>1</td>\n",
              "      <td>9</td>\n",
              "      <td>2</td>\n",
              "      <td>2</td>\n",
              "      <td>527</td>\n",
              "      <td>NaN</td>\n",
              "      <td>NaN</td>\n",
              "      <td>NaN</td>\n",
              "      <td>NaN</td>\n",
              "      <td>INTJ</td>\n",
              "      <td>parataxis</td>\n",
              "      <td>ссылочка</td>\n",
              "      <td>inan</td>\n",
              "      <td>nomn</td>\n",
              "      <td>femn</td>\n",
              "      <td>NOUN</td>\n",
              "      <td>0.336119</td>\n",
              "      <td>0.52036</td>\n",
              "      <td>0.670402</td>\n",
              "      <td>0</td>\n",
              "      <td>0.0</td>\n",
              "    </tr>\n",
              "  </tbody>\n",
              "</table>\n",
              "</div>"
            ],
            "text/plain": [
              "         TOKEN  TOKEN_VECT  ...  NER  COREFERENCE_CLUSTER\n",
              "11696  спасибо    0.455624  ...    0                  0.0\n",
              "\n",
              "[1 rows x 23 columns]"
            ]
          },
          "metadata": {
            "tags": []
          },
          "execution_count": 208
        }
      ]
    },
    {
      "cell_type": "code",
      "metadata": {
        "colab": {
          "base_uri": "https://localhost:8080/",
          "height": 98
        },
        "id": "jegaPaSKarn6",
        "outputId": "e837f7e6-6226-434e-9852-27334bd47ace"
      },
      "source": [
        "\n",
        "topic_num = 1\n",
        "topic_df = df.loc[df['TOPIC_NUM'] == topic_num]\n",
        "# номера предложений топика\n",
        "sents_in_topic = list(set(df.loc[df['TOPIC_NUM'] == topic_num ].SENT_NUM))\n",
        "sents_in_topic\n",
        "# достать пост\n",
        "df.loc[(df['TOPIC_NUM'] == 1) & (df['POST_NUM'] == 1)]\n",
        "# достать конкретное предложение конкретного поста\n",
        "df.loc[(df['TOPIC_NUM'] == 1) & (df['POST_NUM'] == 1) & (df['SENT_NUM'] == 1)]\n",
        "# достать токен из предложение конкретного поста\n",
        "df.loc[(df['TOPIC_NUM'] == 1) & (df['POST_NUM'] == 1) & (df['SENT_NUM'] == 1)].iloc[[2]]"
      ],
      "execution_count": 209,
      "outputs": [
        {
          "output_type": "execute_result",
          "data": {
            "text/html": [
              "<div>\n",
              "<style scoped>\n",
              "    .dataframe tbody tr th:only-of-type {\n",
              "        vertical-align: middle;\n",
              "    }\n",
              "\n",
              "    .dataframe tbody tr th {\n",
              "        vertical-align: top;\n",
              "    }\n",
              "\n",
              "    .dataframe thead th {\n",
              "        text-align: right;\n",
              "    }\n",
              "</style>\n",
              "<table border=\"1\" class=\"dataframe\">\n",
              "  <thead>\n",
              "    <tr style=\"text-align: right;\">\n",
              "      <th></th>\n",
              "      <th>TOKEN</th>\n",
              "      <th>TOKEN_VECT</th>\n",
              "      <th>IS_ANSWER</th>\n",
              "      <th>TOPIC_NUM</th>\n",
              "      <th>POST_NUM</th>\n",
              "      <th>SENT_NUM</th>\n",
              "      <th>TOKEN_NUM</th>\n",
              "      <th>ANIMACY</th>\n",
              "      <th>CASE</th>\n",
              "      <th>GENDER</th>\n",
              "      <th>PERSON</th>\n",
              "      <th>POS</th>\n",
              "      <th>DEPENDENCY</th>\n",
              "      <th>HEAD</th>\n",
              "      <th>HEAD_ANIMACY</th>\n",
              "      <th>HEAD_CASE</th>\n",
              "      <th>HEAD_GENDER</th>\n",
              "      <th>HEAD_POS</th>\n",
              "      <th>HEAD_VECT</th>\n",
              "      <th>SENT_VECT</th>\n",
              "      <th>HEAD_CHILDS_VECT</th>\n",
              "      <th>NER</th>\n",
              "      <th>COREFERENCE_CLUSTER</th>\n",
              "    </tr>\n",
              "  </thead>\n",
              "  <tbody>\n",
              "    <tr>\n",
              "      <th>13</th>\n",
              "      <td>практически</td>\n",
              "      <td>0.551951</td>\n",
              "      <td>0</td>\n",
              "      <td>1</td>\n",
              "      <td>1</td>\n",
              "      <td>1</td>\n",
              "      <td>13</td>\n",
              "      <td>NaN</td>\n",
              "      <td>NaN</td>\n",
              "      <td>NaN</td>\n",
              "      <td>NaN</td>\n",
              "      <td>ADVB</td>\n",
              "      <td>advmod</td>\n",
              "      <td>нет</td>\n",
              "      <td>NaN</td>\n",
              "      <td>NaN</td>\n",
              "      <td>NaN</td>\n",
              "      <td>PRED</td>\n",
              "      <td>0.549618</td>\n",
              "      <td>0.489342</td>\n",
              "      <td>0.656121</td>\n",
              "      <td>0</td>\n",
              "      <td>0.0</td>\n",
              "    </tr>\n",
              "  </tbody>\n",
              "</table>\n",
              "</div>"
            ],
            "text/plain": [
              "          TOKEN  TOKEN_VECT  ...  NER  COREFERENCE_CLUSTER\n",
              "13  практически    0.551951  ...    0                  0.0\n",
              "\n",
              "[1 rows x 23 columns]"
            ]
          },
          "metadata": {
            "tags": []
          },
          "execution_count": 209
        }
      ]
    },
    {
      "cell_type": "code",
      "metadata": {
        "colab": {
          "base_uri": "https://localhost:8080/"
        },
        "id": "CR0AoZS_lUaZ",
        "outputId": "6dd5a602-2ece-4d89-8fb8-99e3028ebf48"
      },
      "source": [
        "df.loc[(df['TOPIC_NUM'] == 1) & (df['POST_NUM'] == 1) & (df['SENT_NUM'] == 1)].iloc[[2]].POST_NUM.values[0]"
      ],
      "execution_count": 210,
      "outputs": [
        {
          "output_type": "execute_result",
          "data": {
            "text/plain": [
              "1"
            ]
          },
          "metadata": {
            "tags": []
          },
          "execution_count": 210
        }
      ]
    },
    {
      "cell_type": "code",
      "metadata": {
        "colab": {
          "base_uri": "https://localhost:8080/",
          "height": 98
        },
        "id": "Q-jlR3l1tXPz",
        "outputId": "6b9cf48f-7fa1-4e48-9fe2-f89444883a49"
      },
      "source": [
        "# анафоры\n",
        "df.loc[(df['TOPIC_NUM'] == 1) & (df['POST_NUM'] == 1) & (df['SENT_NUM'] == 1)\n",
        "& (df['NER'] > 1)]"
      ],
      "execution_count": 211,
      "outputs": [
        {
          "output_type": "execute_result",
          "data": {
            "text/html": [
              "<div>\n",
              "<style scoped>\n",
              "    .dataframe tbody tr th:only-of-type {\n",
              "        vertical-align: middle;\n",
              "    }\n",
              "\n",
              "    .dataframe tbody tr th {\n",
              "        vertical-align: top;\n",
              "    }\n",
              "\n",
              "    .dataframe thead th {\n",
              "        text-align: right;\n",
              "    }\n",
              "</style>\n",
              "<table border=\"1\" class=\"dataframe\">\n",
              "  <thead>\n",
              "    <tr style=\"text-align: right;\">\n",
              "      <th></th>\n",
              "      <th>TOKEN</th>\n",
              "      <th>TOKEN_VECT</th>\n",
              "      <th>IS_ANSWER</th>\n",
              "      <th>TOPIC_NUM</th>\n",
              "      <th>POST_NUM</th>\n",
              "      <th>SENT_NUM</th>\n",
              "      <th>TOKEN_NUM</th>\n",
              "      <th>ANIMACY</th>\n",
              "      <th>CASE</th>\n",
              "      <th>GENDER</th>\n",
              "      <th>PERSON</th>\n",
              "      <th>POS</th>\n",
              "      <th>DEPENDENCY</th>\n",
              "      <th>HEAD</th>\n",
              "      <th>HEAD_ANIMACY</th>\n",
              "      <th>HEAD_CASE</th>\n",
              "      <th>HEAD_GENDER</th>\n",
              "      <th>HEAD_POS</th>\n",
              "      <th>HEAD_VECT</th>\n",
              "      <th>SENT_VECT</th>\n",
              "      <th>HEAD_CHILDS_VECT</th>\n",
              "      <th>NER</th>\n",
              "      <th>COREFERENCE_CLUSTER</th>\n",
              "    </tr>\n",
              "  </thead>\n",
              "  <tbody>\n",
              "    <tr>\n",
              "      <th>21</th>\n",
              "      <td>лекарством</td>\n",
              "      <td>0.427442</td>\n",
              "      <td>0</td>\n",
              "      <td>1</td>\n",
              "      <td>1</td>\n",
              "      <td>1</td>\n",
              "      <td>21</td>\n",
              "      <td>inan</td>\n",
              "      <td>ablt</td>\n",
              "      <td>neut</td>\n",
              "      <td>NaN</td>\n",
              "      <td>NOUN</td>\n",
              "      <td>conj</td>\n",
              "      <td>нет</td>\n",
              "      <td>NaN</td>\n",
              "      <td>NaN</td>\n",
              "      <td>NaN</td>\n",
              "      <td>PRED</td>\n",
              "      <td>0.549618</td>\n",
              "      <td>0.489342</td>\n",
              "      <td>0.656121</td>\n",
              "      <td>2</td>\n",
              "      <td>0.0</td>\n",
              "    </tr>\n",
              "  </tbody>\n",
              "</table>\n",
              "</div>"
            ],
            "text/plain": [
              "         TOKEN  TOKEN_VECT  ...  NER  COREFERENCE_CLUSTER\n",
              "21  лекарством    0.427442  ...    2                  0.0\n",
              "\n",
              "[1 rows x 23 columns]"
            ]
          },
          "metadata": {
            "tags": []
          },
          "execution_count": 211
        }
      ]
    },
    {
      "cell_type": "code",
      "metadata": {
        "colab": {
          "base_uri": "https://localhost:8080/"
        },
        "id": "eyveocHjeLMJ",
        "outputId": "8d7cbb85-deda-4450-bb67-78e68046b26a"
      },
      "source": [
        "# def anaphore_in_sent(sent_num, topic_num) это потом\n",
        "# изначально отталкиваемся от номеров топиков, итерация по ним\n",
        "# topics = list(set(df.TOPIC_NUM.values)) это выше\n",
        "for topic_num in topics:\n",
        "  # if topic_num == 2:\n",
        "  #   break\n",
        "  # извлекаем предложения топика\n",
        "  sents_in_topic = list(set(df.loc[df['TOPIC_NUM'] == topic_num ].SENT_NUM))\n",
        "  for sent_num in sents_in_topic:\n",
        "    sent = df.loc[(df['TOPIC_NUM'] == topic_num)  & (df['SENT_NUM'] == sent_num)]\n",
        "    # собираем анафоры\n",
        "    current_anaphors = sent.loc[(sent['NER'] > 1)]\n",
        "    print(current_anaphors)\n",
        "    if sent_num == 3:\n",
        "      break\n",
        "\n"
      ],
      "execution_count": 212,
      "outputs": [
        {
          "output_type": "stream",
          "text": [
            "        TOKEN  TOKEN_VECT  ...  NER  COREFERENCE_CLUSTER\n",
            "295  таблетки    0.530486  ...    2                  0.0\n",
            "421  препарат    0.537895  ...    2                  2.0\n",
            "429  препарат    0.537895  ...    2                  2.0\n",
            "454  препарат    0.537895  ...    2                  2.0\n",
            "\n",
            "[4 rows x 23 columns]\n",
            "          TOKEN  TOKEN_VECT  ...  NER  COREFERENCE_CLUSTER\n",
            "21   лекарством    0.427442  ...    2                  0.0\n",
            "475         его    0.475986  ...    3                  2.0\n",
            "\n",
            "[2 rows x 23 columns]\n",
            "          TOKEN  TOKEN_VECT  ...  NER  COREFERENCE_CLUSTER\n",
            "446  последнему    0.523204  ...    2                442.0\n",
            "\n",
            "[1 rows x 23 columns]\n",
            "    TOKEN  TOKEN_VECT  IS_ANSWER  ...  HEAD_CHILDS_VECT  NER  COREFERENCE_CLUSTER\n",
            "566    он    0.515951          0  ...          0.649308    3                536.0\n",
            "\n",
            "[1 rows x 23 columns]\n",
            "         TOKEN  TOKEN_VECT  ...  NER  COREFERENCE_CLUSTER\n",
            "575   препарат    0.537895  ...    2                  0.0\n",
            "587         он    0.515951  ...    3                 11.0\n",
            "1408     можно    0.404440  ...    2                755.0\n",
            "\n",
            "[3 rows x 23 columns]\n",
            "         TOKEN  TOKEN_VECT  ...  NER  COREFERENCE_CLUSTER\n",
            "594         он    0.515951  ...    3                 11.0\n",
            "767         он    0.515951  ...    3                182.0\n",
            "1241        он    0.515951  ...    3                658.0\n",
            "1421        мг    0.623475  ...    3                829.0\n",
            "1746  пришлось    0.519657  ...    2               1162.0\n",
            "\n",
            "[5 rows x 23 columns]\n",
            "         TOKEN  TOKEN_VECT  ...  NER  COREFERENCE_CLUSTER\n",
            "779       него    0.518975  ...    3                182.0\n",
            "959   нравится    0.518397  ...    2                375.0\n",
            "1018  нравится    0.518397  ...    2                434.0\n",
            "1433      день    0.665330  ...    3                829.0\n",
            "\n",
            "[4 rows x 23 columns]\n",
            "          TOKEN  TOKEN_VECT  ...  NER  COREFERENCE_CLUSTER\n",
            "825         нём    0.526321  ...    3                182.0\n",
            "828          он    0.515951  ...    3                182.0\n",
            "1248  благодарю    0.375755  ...    3                658.0\n",
            "1613      хотел    0.416115  ...    2               1022.0\n",
            "1672      хотел    0.416115  ...    2               1081.0\n",
            "\n",
            "[5 rows x 23 columns]\n",
            "            TOKEN  TOKEN_VECT  ...  NER  COREFERENCE_CLUSTER\n",
            "2673     препарат    0.537895  ...    3                778.0\n",
            "2698     зипрексе    0.710931  ...    2                806.0\n",
            "3488  проверялась    0.509992  ...    3               1582.0\n",
            "4437        исчез    0.484700  ...    2               2488.0\n",
            "4625        15:42    0.566759  ...    2               2711.0\n",
            "4753     снижение    0.429902  ...    2               2766.0\n",
            "4782    кг(раньше    0.456252  ...    2                  0.0\n",
            "5280          for    0.409249  ...    2               3350.0\n",
            "5283    24.7.2009    0.659775  ...    2               3350.0\n",
            "5285           да    0.481310  ...    2                  0.0\n",
            "5401           на    0.444298  ...    2               3401.0\n",
            "\n",
            "[11 rows x 23 columns]\n",
            "                   TOKEN  TOKEN_VECT  ...  NER  COREFERENCE_CLUSTER\n",
            "1914                 кто    0.508086  ...    2                 26.0\n",
            "3575            заложено    0.453154  ...    2                  3.0\n",
            "3658          повышением    0.453225  ...    2               1750.0\n",
            "3662                  на    0.444298  ...    3               1750.0\n",
            "4652            наоборот    0.511601  ...    2               2711.0\n",
            "4821                 вот    0.507802  ...    3                  3.0\n",
            "5046          art14.html    0.492640  ...    2               3125.0\n",
            "5050  гиперпролактинемия    0.680193  ...    3               3125.0\n",
            "5200               много    0.394197  ...    3               3270.0\n",
            "\n",
            "[9 rows x 23 columns]\n",
            "             TOKEN  TOKEN_VECT  ...  NER  COREFERENCE_CLUSTER\n",
            "2068         людям    0.303683  ...    2                183.0\n",
            "2338     обращаюсь    0.440381  ...    2                446.0\n",
            "2472    обострения    0.598172  ...    2                  0.0\n",
            "3287       молодым    0.531904  ...    2               1379.0\n",
            "3737           все    0.433267  ...    2                  0.0\n",
            "4601           как    0.474905  ...    3                  3.0\n",
            "4769     интересно    0.606694  ...    2                  0.0\n",
            "4774  депрессивную    0.544609  ...    2               2853.0\n",
            "5368            ем    0.464085  ...    2               3401.0\n",
            "\n",
            "[9 rows x 23 columns]\n",
            "               TOKEN  TOKEN_VECT  ...  NER  COREFERENCE_CLUSTER\n",
            "2075   представители    0.480438  ...    3                183.0\n",
            "2091               у    0.493165  ...    3                183.0\n",
            "2347          нибудь    0.462472  ...    3                446.0\n",
            "2729             что    0.442450  ...    2                830.0\n",
            "2890  предназначения    0.541058  ...    3                987.0\n",
            "3614           ущерб    0.407845  ...    2               1684.0\n",
            "3709               в    0.438774  ...    2               1795.0\n",
            "3753        компании    0.438681  ...    2                  0.0\n",
            "\n",
            "[8 rows x 23 columns]\n",
            "                TOKEN  TOKEN_VECT  ...  NER  COREFERENCE_CLUSTER\n",
            "5628              кто    0.508086  ...    3                  5.0\n",
            "5633                с    0.414093  ...    2                  5.0\n",
            "5784                о    0.434912  ...    3                156.0\n",
            "5947  чудодейственной    0.531168  ...    2                287.0\n",
            "5954              сам    0.474611  ...    2                287.0\n",
            "6139        областной    0.469635  ...    2                449.0\n",
            "6147          больным    0.547426  ...    2                527.0\n",
            "6150                и    0.448282  ...    3                527.0\n",
            "6179      современные    0.500009  ...    2                  0.0\n",
            "\n",
            "[9 rows x 23 columns]\n",
            "         TOKEN  TOKEN_VECT  ...  NER  COREFERENCE_CLUSTER\n",
            "5567   тяжелым    0.554118  ...    3               3619.0\n",
            "5664  перевели    0.590924  ...    3                  5.0\n",
            "5724  перевели    0.590924  ...    3                 96.0\n",
            "5821       еще    0.413930  ...    2                  0.0\n",
            "5977  циклодол    0.750025  ...    2                287.0\n",
            "5985     какие    0.471635  ...    2                365.0\n",
            "5988  названий    0.432974  ...    3                367.0\n",
            "\n",
            "[7 rows x 23 columns]\n",
            "     TOKEN  TOKEN_VECT  IS_ANSWER  ...  HEAD_CHILDS_VECT  NER  COREFERENCE_CLUSTER\n",
            "5830   они      0.4307          0  ...          0.696656    2                  0.0\n",
            "\n",
            "[1 rows x 23 columns]\n",
            "         TOKEN  TOKEN_VECT  ...  NER  COREFERENCE_CLUSTER\n",
            "5614  какоинть    0.625526  ...    2                  0.0\n",
            "5619        по    0.452312  ...    2                  2.0\n",
            "\n",
            "[2 rows x 23 columns]\n",
            "               TOKEN  TOKEN_VECT  ...  NER  COREFERENCE_CLUSTER\n",
            "6214  головокружение    0.533702  ...    2                  0.0\n",
            "6226         вызвать    0.496767  ...    2                  0.0\n",
            "6245   агрессивности    0.557278  ...    2                  0.0\n",
            "6281           лучше    0.452129  ...    3                 14.0\n",
            "6335               5    0.528777  ...    3                 41.0\n",
            "6338             две    0.384318  ...    3                 41.0\n",
            "6435       обсуждаем    0.462631  ...    3                135.0\n",
            "6454         тиаприд    0.762957  ...    2                  0.0\n",
            "6501             мне    0.516435  ...    2                239.0\n",
            "6510           лучше    0.452129  ...    3                243.0\n",
            "6564               5    0.528777  ...    3                270.0\n",
            "6567             две    0.384318  ...    3                270.0\n",
            "6717           может    0.394392  ...    3                447.0\n",
            "6787              от    0.390814  ...    2                521.0\n",
            "7260               у    0.493165  ...    2                  0.0\n",
            "7264             как    0.474905  ...    2                  0.0\n",
            "7423            даже    0.540082  ...    2                  0.0\n",
            "7571          сейчас    0.529911  ...    2               1277.0\n",
            "7575            день    0.665330  ...    2                  0.0\n",
            "7702        головные    0.531716  ...    2                  0.0\n",
            "7778        сказал(а    0.496047  ...    3               1455.0\n",
            "8025        абзусной    0.510714  ...    3               1722.0\n",
            "8378            нпвс    0.770842  ...    2                  0.0\n",
            "8404              до    0.529465  ...    3                  0.0\n",
            "\n",
            "[24 rows x 23 columns]\n",
            "           TOKEN  TOKEN_VECT  ...  NER  COREFERENCE_CLUSTER\n",
            "6257       людей    0.354457  ...    2                  0.0\n",
            "6294  поделитесь    0.515479  ...    3                 27.0\n",
            "6319  сверхценно    0.643888  ...    2                 41.0\n",
            "6325   выражаясь    0.459432  ...    3                 41.0\n",
            "6523  поделитесь    0.515479  ...    3                256.0\n",
            "6548  сверхценно    0.643888  ...    2                270.0\n",
            "6554   выражаясь    0.459432  ...    3                270.0\n",
            "6748         это    0.413346  ...    2                482.0\n",
            "6757   запихнуть    0.575661  ...    2                482.0\n",
            "6779          те    0.482940  ...    3                507.0\n",
            "6794        этом    0.415908  ...    3                521.0\n",
            "6824      снимал    0.629570  ...    2                  0.0\n",
            "6992       долго    0.489007  ...    2                659.0\n",
            "7159         как    0.474905  ...    2                870.0\n",
            "7200        того    0.435633  ...    2                  0.0\n",
            "7269    труксала    0.728873  ...    2                  0.0\n",
            "7431          15    0.368962  ...    2                  0.0\n",
            "7704        была    0.503064  ...    2                  0.0\n",
            "8069          из    0.407841  ...    3               1770.0\n",
            "8177       потом    0.483609  ...    2                  0.0\n",
            "8236          за    0.416240  ...    3                  0.0\n",
            "\n",
            "[21 rows x 23 columns]\n",
            "              TOKEN  TOKEN_VECT  ...  NER  COREFERENCE_CLUSTER\n",
            "6264  агрессивности    0.557278  ...    2                  2.0\n",
            "6362            это    0.413346  ...    2                 90.0\n",
            "6418             50    0.586747  ...    3                135.0\n",
            "6488             ли    0.488292  ...    3                218.0\n",
            "6493  агрессивности    0.557278  ...    2                231.0\n",
            "6591            это    0.413346  ...    2                319.0\n",
            "6647             50    0.586747  ...    3                341.0\n",
            "6803         король    0.554078  ...    3                521.0\n",
            "6806     пролактину    0.732195  ...    3                521.0\n",
            "7462         недели    0.533195  ...    2                  0.0\n",
            "7714         лирику    0.651729  ...    2                  0.0\n",
            "7912      кветиапин    0.731697  ...    3               1609.0\n",
            "8194             от    0.390814  ...    3               1884.0\n",
            "\n",
            "[13 rows x 23 columns]\n",
            "         TOKEN  TOKEN_VECT  ...  NER  COREFERENCE_CLUSTER\n",
            "7358        08    0.496611  ...    3                  3.0\n",
            "7375    эффект    0.440917  ...    2                  0.0\n",
            "7380        по    0.452312  ...    2                  0.0\n",
            "7385        не    0.431269  ...    2                  0.0\n",
            "7407  например    0.442805  ...    2                  0.0\n",
            "7484         в    0.438774  ...    2                  0.0\n",
            "7603     каких    0.469433  ...    2                  0.0\n",
            "7736  заявлены    0.347776  ...    2                  0.0\n",
            "\n",
            "[8 rows x 23 columns]\n",
            "Empty DataFrame\n",
            "Columns: [TOKEN, TOKEN_VECT, IS_ANSWER, TOPIC_NUM, POST_NUM, SENT_NUM, TOKEN_NUM, ANIMACY, CASE, GENDER, PERSON, POS, DEPENDENCY, HEAD, HEAD_ANIMACY, HEAD_CASE, HEAD_GENDER, HEAD_POS, HEAD_VECT, SENT_VECT, HEAD_CHILDS_VECT, NER, COREFERENCE_CLUSTER]\n",
            "Index: []\n",
            "Empty DataFrame\n",
            "Columns: [TOKEN, TOKEN_VECT, IS_ANSWER, TOPIC_NUM, POST_NUM, SENT_NUM, TOKEN_NUM, ANIMACY, CASE, GENDER, PERSON, POS, DEPENDENCY, HEAD, HEAD_ANIMACY, HEAD_CASE, HEAD_GENDER, HEAD_POS, HEAD_VECT, SENT_VECT, HEAD_CHILDS_VECT, NER, COREFERENCE_CLUSTER]\n",
            "Index: []\n",
            "Empty DataFrame\n",
            "Columns: [TOKEN, TOKEN_VECT, IS_ANSWER, TOPIC_NUM, POST_NUM, SENT_NUM, TOKEN_NUM, ANIMACY, CASE, GENDER, PERSON, POS, DEPENDENCY, HEAD, HEAD_ANIMACY, HEAD_CASE, HEAD_GENDER, HEAD_POS, HEAD_VECT, SENT_VECT, HEAD_CHILDS_VECT, NER, COREFERENCE_CLUSTER]\n",
            "Index: []\n",
            "     TOKEN  TOKEN_VECT  IS_ANSWER  ...  HEAD_CHILDS_VECT  NER  COREFERENCE_CLUSTER\n",
            "9520  мама     0.51531          0  ...          0.726071    3                852.0\n",
            "\n",
            "[1 rows x 23 columns]\n",
            "         TOKEN  TOKEN_VECT  ...  NER  COREFERENCE_CLUSTER\n",
            "9587  париетом    0.612381  ...    2                  0.0\n",
            "\n",
            "[1 rows x 23 columns]\n",
            "      TOKEN  TOKEN_VECT  IS_ANSWER  ...  HEAD_CHILDS_VECT  NER  COREFERENCE_CLUSTER\n",
            "9536     но    0.461551          0  ...          0.684499    3                881.0\n",
            "9751    так    0.468134          0  ...          0.636935    2                  0.0\n",
            "10603    на    0.444298          1  ...          0.408353    2                  0.0\n",
            "\n",
            "[3 rows x 23 columns]\n",
            "        TOKEN  TOKEN_VECT  ...  NER  COREFERENCE_CLUSTER\n",
            "8929  бабушка    0.502246  ...    2                  0.0\n",
            "9612    может    0.394392  ...    2                  0.0\n",
            "\n",
            "[2 rows x 23 columns]\n",
            "Empty DataFrame\n",
            "Columns: [TOKEN, TOKEN_VECT, IS_ANSWER, TOPIC_NUM, POST_NUM, SENT_NUM, TOKEN_NUM, ANIMACY, CASE, GENDER, PERSON, POS, DEPENDENCY, HEAD, HEAD_ANIMACY, HEAD_CASE, HEAD_GENDER, HEAD_POS, HEAD_VECT, SENT_VECT, HEAD_CHILDS_VECT, NER, COREFERENCE_CLUSTER]\n",
            "Index: []\n",
            "Empty DataFrame\n",
            "Columns: [TOKEN, TOKEN_VECT, IS_ANSWER, TOPIC_NUM, POST_NUM, SENT_NUM, TOKEN_NUM, ANIMACY, CASE, GENDER, PERSON, POS, DEPENDENCY, HEAD, HEAD_ANIMACY, HEAD_CASE, HEAD_GENDER, HEAD_POS, HEAD_VECT, SENT_VECT, HEAD_CHILDS_VECT, NER, COREFERENCE_CLUSTER]\n",
            "Index: []\n",
            "        TOKEN  TOKEN_VECT  ...  NER  COREFERENCE_CLUSTER\n",
            "11152  польза    0.588754  ...    2                  0.0\n",
            "\n",
            "[1 rows x 23 columns]\n",
            "Empty DataFrame\n",
            "Columns: [TOKEN, TOKEN_VECT, IS_ANSWER, TOPIC_NUM, POST_NUM, SENT_NUM, TOKEN_NUM, ANIMACY, CASE, GENDER, PERSON, POS, DEPENDENCY, HEAD, HEAD_ANIMACY, HEAD_CASE, HEAD_GENDER, HEAD_POS, HEAD_VECT, SENT_VECT, HEAD_CHILDS_VECT, NER, COREFERENCE_CLUSTER]\n",
            "Index: []\n",
            "Empty DataFrame\n",
            "Columns: [TOKEN, TOKEN_VECT, IS_ANSWER, TOPIC_NUM, POST_NUM, SENT_NUM, TOKEN_NUM, ANIMACY, CASE, GENDER, PERSON, POS, DEPENDENCY, HEAD, HEAD_ANIMACY, HEAD_CASE, HEAD_GENDER, HEAD_POS, HEAD_VECT, SENT_VECT, HEAD_CHILDS_VECT, NER, COREFERENCE_CLUSTER]\n",
            "Index: []\n",
            "Empty DataFrame\n",
            "Columns: [TOKEN, TOKEN_VECT, IS_ANSWER, TOPIC_NUM, POST_NUM, SENT_NUM, TOKEN_NUM, ANIMACY, CASE, GENDER, PERSON, POS, DEPENDENCY, HEAD, HEAD_ANIMACY, HEAD_CASE, HEAD_GENDER, HEAD_POS, HEAD_VECT, SENT_VECT, HEAD_CHILDS_VECT, NER, COREFERENCE_CLUSTER]\n",
            "Index: []\n",
            "Empty DataFrame\n",
            "Columns: [TOKEN, TOKEN_VECT, IS_ANSWER, TOPIC_NUM, POST_NUM, SENT_NUM, TOKEN_NUM, ANIMACY, CASE, GENDER, PERSON, POS, DEPENDENCY, HEAD, HEAD_ANIMACY, HEAD_CASE, HEAD_GENDER, HEAD_POS, HEAD_VECT, SENT_VECT, HEAD_CHILDS_VECT, NER, COREFERENCE_CLUSTER]\n",
            "Index: []\n",
            "Empty DataFrame\n",
            "Columns: [TOKEN, TOKEN_VECT, IS_ANSWER, TOPIC_NUM, POST_NUM, SENT_NUM, TOKEN_NUM, ANIMACY, CASE, GENDER, PERSON, POS, DEPENDENCY, HEAD, HEAD_ANIMACY, HEAD_CASE, HEAD_GENDER, HEAD_POS, HEAD_VECT, SENT_VECT, HEAD_CHILDS_VECT, NER, COREFERENCE_CLUSTER]\n",
            "Index: []\n",
            "Empty DataFrame\n",
            "Columns: [TOKEN, TOKEN_VECT, IS_ANSWER, TOPIC_NUM, POST_NUM, SENT_NUM, TOKEN_NUM, ANIMACY, CASE, GENDER, PERSON, POS, DEPENDENCY, HEAD, HEAD_ANIMACY, HEAD_CASE, HEAD_GENDER, HEAD_POS, HEAD_VECT, SENT_VECT, HEAD_CHILDS_VECT, NER, COREFERENCE_CLUSTER]\n",
            "Index: []\n",
            "        TOKEN  TOKEN_VECT  ...  NER  COREFERENCE_CLUSTER\n",
            "11917   10:17    0.531003  ...    2                  0.0\n",
            "11976    день    0.665330  ...    3                  0.0\n",
            "12018    2020    0.449328  ...    2                 61.0\n",
            "12020   писал    0.452827  ...    2                 61.0\n",
            "12074     еще    0.413930  ...    2                116.0\n",
            "12076  звонка    0.411197  ...    2                116.0\n",
            "\n",
            "[6 rows x 23 columns]\n",
            "Empty DataFrame\n",
            "Columns: [TOKEN, TOKEN_VECT, IS_ANSWER, TOPIC_NUM, POST_NUM, SENT_NUM, TOKEN_NUM, ANIMACY, CASE, GENDER, PERSON, POS, DEPENDENCY, HEAD, HEAD_ANIMACY, HEAD_CASE, HEAD_GENDER, HEAD_POS, HEAD_VECT, SENT_VECT, HEAD_CHILDS_VECT, NER, COREFERENCE_CLUSTER]\n",
            "Index: []\n",
            "Empty DataFrame\n",
            "Columns: [TOKEN, TOKEN_VECT, IS_ANSWER, TOPIC_NUM, POST_NUM, SENT_NUM, TOKEN_NUM, ANIMACY, CASE, GENDER, PERSON, POS, DEPENDENCY, HEAD, HEAD_ANIMACY, HEAD_CASE, HEAD_GENDER, HEAD_POS, HEAD_VECT, SENT_VECT, HEAD_CHILDS_VECT, NER, COREFERENCE_CLUSTER]\n",
            "Index: []\n",
            "Empty DataFrame\n",
            "Columns: [TOKEN, TOKEN_VECT, IS_ANSWER, TOPIC_NUM, POST_NUM, SENT_NUM, TOKEN_NUM, ANIMACY, CASE, GENDER, PERSON, POS, DEPENDENCY, HEAD, HEAD_ANIMACY, HEAD_CASE, HEAD_GENDER, HEAD_POS, HEAD_VECT, SENT_VECT, HEAD_CHILDS_VECT, NER, COREFERENCE_CLUSTER]\n",
            "Index: []\n",
            "        TOKEN  TOKEN_VECT  ...  NER  COREFERENCE_CLUSTER\n",
            "12120  ирэсса    0.638689  ...    2                133.0\n",
            "\n",
            "[1 rows x 23 columns]\n",
            "Empty DataFrame\n",
            "Columns: [TOKEN, TOKEN_VECT, IS_ANSWER, TOPIC_NUM, POST_NUM, SENT_NUM, TOKEN_NUM, ANIMACY, CASE, GENDER, PERSON, POS, DEPENDENCY, HEAD, HEAD_ANIMACY, HEAD_CASE, HEAD_GENDER, HEAD_POS, HEAD_VECT, SENT_VECT, HEAD_CHILDS_VECT, NER, COREFERENCE_CLUSTER]\n",
            "Index: []\n",
            "          TOKEN  TOKEN_VECT  ...  NER  COREFERENCE_CLUSTER\n",
            "12164  получает    0.498499  ...    2                176.0\n",
            "\n",
            "[1 rows x 23 columns]\n",
            "Empty DataFrame\n",
            "Columns: [TOKEN, TOKEN_VECT, IS_ANSWER, TOPIC_NUM, POST_NUM, SENT_NUM, TOKEN_NUM, ANIMACY, CASE, GENDER, PERSON, POS, DEPENDENCY, HEAD, HEAD_ANIMACY, HEAD_CASE, HEAD_GENDER, HEAD_POS, HEAD_VECT, SENT_VECT, HEAD_CHILDS_VECT, NER, COREFERENCE_CLUSTER]\n",
            "Index: []\n",
            "Empty DataFrame\n",
            "Columns: [TOKEN, TOKEN_VECT, IS_ANSWER, TOPIC_NUM, POST_NUM, SENT_NUM, TOKEN_NUM, ANIMACY, CASE, GENDER, PERSON, POS, DEPENDENCY, HEAD, HEAD_ANIMACY, HEAD_CASE, HEAD_GENDER, HEAD_POS, HEAD_VECT, SENT_VECT, HEAD_CHILDS_VECT, NER, COREFERENCE_CLUSTER]\n",
            "Index: []\n",
            "Empty DataFrame\n",
            "Columns: [TOKEN, TOKEN_VECT, IS_ANSWER, TOPIC_NUM, POST_NUM, SENT_NUM, TOKEN_NUM, ANIMACY, CASE, GENDER, PERSON, POS, DEPENDENCY, HEAD, HEAD_ANIMACY, HEAD_CASE, HEAD_GENDER, HEAD_POS, HEAD_VECT, SENT_VECT, HEAD_CHILDS_VECT, NER, COREFERENCE_CLUSTER]\n",
            "Index: []\n",
            "           TOKEN  TOKEN_VECT  ...  NER  COREFERENCE_CLUSTER\n",
            "12247  лекарства    0.379903  ...    2                288.0\n",
            "\n",
            "[1 rows x 23 columns]\n",
            "      TOKEN  TOKEN_VECT  IS_ANSWER  ...  HEAD_CHILDS_VECT  NER  COREFERENCE_CLUSTER\n",
            "12249   нас     0.52957          0  ...          0.596114    2                288.0\n",
            "\n",
            "[1 rows x 23 columns]\n",
            "Empty DataFrame\n",
            "Columns: [TOKEN, TOKEN_VECT, IS_ANSWER, TOPIC_NUM, POST_NUM, SENT_NUM, TOKEN_NUM, ANIMACY, CASE, GENDER, PERSON, POS, DEPENDENCY, HEAD, HEAD_ANIMACY, HEAD_CASE, HEAD_GENDER, HEAD_POS, HEAD_VECT, SENT_VECT, HEAD_CHILDS_VECT, NER, COREFERENCE_CLUSTER]\n",
            "Index: []\n",
            "Empty DataFrame\n",
            "Columns: [TOKEN, TOKEN_VECT, IS_ANSWER, TOPIC_NUM, POST_NUM, SENT_NUM, TOKEN_NUM, ANIMACY, CASE, GENDER, PERSON, POS, DEPENDENCY, HEAD, HEAD_ANIMACY, HEAD_CASE, HEAD_GENDER, HEAD_POS, HEAD_VECT, SENT_VECT, HEAD_CHILDS_VECT, NER, COREFERENCE_CLUSTER]\n",
            "Index: []\n",
            "Empty DataFrame\n",
            "Columns: [TOKEN, TOKEN_VECT, IS_ANSWER, TOPIC_NUM, POST_NUM, SENT_NUM, TOKEN_NUM, ANIMACY, CASE, GENDER, PERSON, POS, DEPENDENCY, HEAD, HEAD_ANIMACY, HEAD_CASE, HEAD_GENDER, HEAD_POS, HEAD_VECT, SENT_VECT, HEAD_CHILDS_VECT, NER, COREFERENCE_CLUSTER]\n",
            "Index: []\n",
            "       TOKEN  TOKEN_VECT  IS_ANSWER  ...  HEAD_CHILDS_VECT  NER  COREFERENCE_CLUSTER\n",
            "12292  нашли    0.521602          0  ...          0.643971    2                  0.0\n",
            "\n",
            "[1 rows x 23 columns]\n",
            "            TOKEN  TOKEN_VECT  ...  NER  COREFERENCE_CLUSTER\n",
            "13581     февраль    0.551997  ...    3                803.0\n",
            "14419     побочек    0.526580  ...    3                  0.0\n",
            "14601  записались    0.552466  ...    2                  0.0\n",
            "14678      казани    0.586466  ...    2                  0.0\n",
            "14886           к    0.400364  ...    3                  0.0\n",
            "\n",
            "[5 rows x 23 columns]\n",
            "          TOKEN  TOKEN_VECT  ...  NER  COREFERENCE_CLUSTER\n",
            "13412  написала    0.516136  ...    3                654.0\n",
            "\n",
            "[1 rows x 23 columns]\n",
            "         TOKEN  TOKEN_VECT  ...  NER  COREFERENCE_CLUSTER\n",
            "13021  никаких    0.457060  ...    3                263.0\n",
            "13533     делу    0.459632  ...    2                780.0\n",
            "13607    химия    0.551514  ...    2                803.0\n",
            "13611       из    0.407841  ...    3                803.0\n",
            "13724       за    0.416240  ...    2                  0.0\n",
            "14545        а    0.471221  ...    2               1757.0\n",
            "14605  сердцем    0.674412  ...    3               1827.0\n",
            "\n",
            "[7 rows x 23 columns]\n",
            "          TOKEN  TOKEN_VECT  ...  NER  COREFERENCE_CLUSTER\n",
            "12640   поэтому    0.475828  ...    2                  0.0\n",
            "13556     после    0.423621  ...    2                803.0\n",
            "13728        на    0.444298  ...    2                  0.0\n",
            "13947  собирали    0.519076  ...    3               1165.0\n",
            "14126      врач    0.601188  ...    3               1342.0\n",
            "14130    только    0.455754  ...    2                  0.0\n",
            "14455         и    0.448282  ...    2                  0.0\n",
            "14618         в    0.438774  ...    3               1827.0\n",
            "\n",
            "[8 rows x 23 columns]\n",
            "Empty DataFrame\n",
            "Columns: [TOKEN, TOKEN_VECT, IS_ANSWER, TOPIC_NUM, POST_NUM, SENT_NUM, TOKEN_NUM, ANIMACY, CASE, GENDER, PERSON, POS, DEPENDENCY, HEAD, HEAD_ANIMACY, HEAD_CASE, HEAD_GENDER, HEAD_POS, HEAD_VECT, SENT_VECT, HEAD_CHILDS_VECT, NER, COREFERENCE_CLUSTER]\n",
            "Index: []\n",
            "Empty DataFrame\n",
            "Columns: [TOKEN, TOKEN_VECT, IS_ANSWER, TOPIC_NUM, POST_NUM, SENT_NUM, TOKEN_NUM, ANIMACY, CASE, GENDER, PERSON, POS, DEPENDENCY, HEAD, HEAD_ANIMACY, HEAD_CASE, HEAD_GENDER, HEAD_POS, HEAD_VECT, SENT_VECT, HEAD_CHILDS_VECT, NER, COREFERENCE_CLUSTER]\n",
            "Index: []\n",
            "Empty DataFrame\n",
            "Columns: [TOKEN, TOKEN_VECT, IS_ANSWER, TOPIC_NUM, POST_NUM, SENT_NUM, TOKEN_NUM, ANIMACY, CASE, GENDER, PERSON, POS, DEPENDENCY, HEAD, HEAD_ANIMACY, HEAD_CASE, HEAD_GENDER, HEAD_POS, HEAD_VECT, SENT_VECT, HEAD_CHILDS_VECT, NER, COREFERENCE_CLUSTER]\n",
            "Index: []\n",
            "Empty DataFrame\n",
            "Columns: [TOKEN, TOKEN_VECT, IS_ANSWER, TOPIC_NUM, POST_NUM, SENT_NUM, TOKEN_NUM, ANIMACY, CASE, GENDER, PERSON, POS, DEPENDENCY, HEAD, HEAD_ANIMACY, HEAD_CASE, HEAD_GENDER, HEAD_POS, HEAD_VECT, SENT_VECT, HEAD_CHILDS_VECT, NER, COREFERENCE_CLUSTER]\n",
            "Index: []\n"
          ],
          "name": "stdout"
        }
      ]
    },
    {
      "cell_type": "code",
      "metadata": {
        "id": "ic1_rxtCeLXe"
      },
      "source": [
        ""
      ],
      "execution_count": null,
      "outputs": []
    },
    {
      "cell_type": "code",
      "metadata": {
        "id": "r0BCnXXJZtNW"
      },
      "source": [
        "df.loc[df['SENT_NUM'] != 0.0]"
      ],
      "execution_count": null,
      "outputs": []
    },
    {
      "cell_type": "code",
      "metadata": {
        "colab": {
          "base_uri": "https://localhost:8080/"
        },
        "id": "HD8UKo2MWT0A",
        "outputId": "bb50b73c-575a-4b5b-b11e-e52f733f2dbd"
      },
      "source": [
        "for i in range(len(df)):\n",
        "  current_raw = df.iloc[[i]].loc[df['NER'] != 0.0]\n",
        "  print(current_raw)\n",
        "  if i == 3:\n",
        "    break"
      ],
      "execution_count": 65,
      "outputs": [
        {
          "output_type": "stream",
          "text": [
            "Empty DataFrame\n",
            "Columns: [TOKEN, TOKEN_VECT, IS_ANSWER, TOPIC_NUM, POST_NUM, SENT_NUM, TOKEN_NUM, ANIMACY, CASE, GENDER, PERSON, POS, DEPENDENCY, HEAD, HEAD_ANIMACY, HEAD_CASE, HEAD_GENDER, HEAD_POS, HEAD_VECT, SENT_VECT, HEAD_CHILDS_VECT, NER, COREFERENCE_CLUSTER]\n",
            "Index: []\n",
            "Empty DataFrame\n",
            "Columns: [TOKEN, TOKEN_VECT, IS_ANSWER, TOPIC_NUM, POST_NUM, SENT_NUM, TOKEN_NUM, ANIMACY, CASE, GENDER, PERSON, POS, DEPENDENCY, HEAD, HEAD_ANIMACY, HEAD_CASE, HEAD_GENDER, HEAD_POS, HEAD_VECT, SENT_VECT, HEAD_CHILDS_VECT, NER, COREFERENCE_CLUSTER]\n",
            "Index: []\n",
            "        TOKEN  TOKEN_VECT  ...  NER  COREFERENCE_CLUSTER\n",
            "2  рисперидон    0.779845  ...  1.0                  2.0\n",
            "\n",
            "[1 rows x 23 columns]\n",
            "       TOKEN  TOKEN_VECT  IS_ANSWER  ...  HEAD_CHILDS_VECT  NER  COREFERENCE_CLUSTER\n",
            "3  рисполепт    0.797031          0  ...          0.830899  1.0                  3.0\n",
            "\n",
            "[1 rows x 23 columns]\n"
          ],
          "name": "stdout"
        }
      ]
    },
    {
      "cell_type": "code",
      "metadata": {
        "id": "UN4yqiqvYIQH"
      },
      "source": [
        ""
      ],
      "execution_count": null,
      "outputs": []
    },
    {
      "cell_type": "code",
      "metadata": {
        "id": "Yi_RBPf0YISt"
      },
      "source": [
        ""
      ],
      "execution_count": null,
      "outputs": []
    },
    {
      "cell_type": "code",
      "metadata": {
        "id": "26QqspXcYIU3"
      },
      "source": [
        ""
      ],
      "execution_count": null,
      "outputs": []
    },
    {
      "cell_type": "markdown",
      "metadata": {
        "id": "XZo_bJR6uuvc"
      },
      "source": [
        "# **МОДЕЛИ.**"
      ]
    },
    {
      "cell_type": "markdown",
      "metadata": {
        "id": "qrdNCMTOu1P0"
      },
      "source": [
        "Факторизуем троковые данные, чтобы вместо строковых представлений классов были численные."
      ]
    },
    {
      "cell_type": "code",
      "metadata": {
        "colab": {
          "base_uri": "https://localhost:8080/"
        },
        "id": "hn2LX9ViO9i0",
        "outputId": "7a80ec81-11c6-42a9-ca92-d1b024f7abf3"
      },
      "source": [
        "for_factorize = 'ANIMACY\tCASE\tGENDER\tPERSON\tPOS\tDEPENDENCY\tHEAD\tHEAD_ANIMACY\tHEAD_CASE\tHEAD_GENDER\tHEAD_POS'.split()\n",
        "for_factorize"
      ],
      "execution_count": 1404,
      "outputs": [
        {
          "output_type": "execute_result",
          "data": {
            "text/plain": [
              "['ANIMACY',\n",
              " 'CASE',\n",
              " 'GENDER',\n",
              " 'PERSON',\n",
              " 'POS',\n",
              " 'DEPENDENCY',\n",
              " 'HEAD',\n",
              " 'HEAD_ANIMACY',\n",
              " 'HEAD_CASE',\n",
              " 'HEAD_GENDER',\n",
              " 'HEAD_POS']"
            ]
          },
          "metadata": {
            "tags": []
          },
          "execution_count": 1404
        }
      ]
    },
    {
      "cell_type": "code",
      "metadata": {
        "colab": {
          "base_uri": "https://localhost:8080/"
        },
        "id": "MuTn5rTEPJq1",
        "outputId": "1bde336b-a7e0-4972-b571-857c76ac1149"
      },
      "source": [
        "_, lbl = pd.factorize(df.ANIMACY)\n",
        "print(lbl, )\n",
        "_"
      ],
      "execution_count": 1405,
      "outputs": [
        {
          "output_type": "stream",
          "text": [
            "Index(['inan', 'anim'], dtype='object')\n"
          ],
          "name": "stdout"
        },
        {
          "output_type": "execute_result",
          "data": {
            "text/plain": [
              "array([-1,  0,  1, ..., -1, -1,  0])"
            ]
          },
          "metadata": {
            "tags": []
          },
          "execution_count": 1405
        }
      ]
    },
    {
      "cell_type": "markdown",
      "metadata": {
        "id": "okLj0sOex6rt"
      },
      "source": [
        "Делаем словарь с маппингом, чтобы можно было достать нужное значение по индексу. В значении -1 хранится None"
      ]
    },
    {
      "cell_type": "code",
      "metadata": {
        "colab": {
          "base_uri": "https://localhost:8080/"
        },
        "id": "QoqDVz2lQjmV",
        "outputId": "fa3c2e2d-67f7-434d-bcff-9393123c9a41"
      },
      "source": [
        "mapping_dict = {}\n",
        "for col_name in for_factorize:\n",
        "  col, lbl = pd.factorize(df[col_name])\n",
        "  df[col_name] = col\n",
        "  mapping_dict[col_name] = lbl\n",
        "mapping_dict  "
      ],
      "execution_count": 1406,
      "outputs": [
        {
          "output_type": "stream",
          "text": [
            "/usr/local/lib/python3.7/dist-packages/ipykernel_launcher.py:4: SettingWithCopyWarning: \n",
            "A value is trying to be set on a copy of a slice from a DataFrame.\n",
            "Try using .loc[row_indexer,col_indexer] = value instead\n",
            "\n",
            "See the caveats in the documentation: https://pandas.pydata.org/pandas-docs/stable/user_guide/indexing.html#returning-a-view-versus-a-copy\n",
            "  after removing the cwd from sys.path.\n"
          ],
          "name": "stderr"
        },
        {
          "output_type": "execute_result",
          "data": {
            "text/plain": [
              "{'ANIMACY': Index(['inan', 'anim'], dtype='object'),\n",
              " 'CASE': Index(['nomn', 'gent', 'datv', 'accs', 'loct', 'ablt', 'loc2', 'voct', 'gen2'], dtype='object'),\n",
              " 'DEPENDENCY': Index(['ROOT', 'obj', 'appos', 'parataxis', 'conj', 'advmod', 'ccomp', 'iobj',\n",
              "        'csubj', 'case', 'obl', 'det', 'nsubj', 'cc', 'discourse', 'fixed',\n",
              "        'mark', 'amod', 'advcl', 'xcomp', 'nummod', 'nmod', 'nsubj:pass',\n",
              "        'nummod:gov', 'cop', 'acl:relcl', 'acl', 'aux', 'flat:foreign', 'punct',\n",
              "        'obl:agent', 'flat', 'aux:pass', 'orphan', 'expl', 'csubj:pass'],\n",
              "       dtype='object'),\n",
              " 'GENDER': Index(['masc', 'femn', 'neut'], dtype='object'),\n",
              " 'HEAD': Index(['обсуждаем', 'препарат', 'рисперидон', 'рисполепт', 'знаю', 'стоило',\n",
              "        'меня', 'нет', 'проблем', 'лекарством',\n",
              "        ...\n",
              "        'привился', 'прививки', 'решать', 'неизвестно', 'быстро', 'проводились',\n",
              "        'испытания', 'аукнется', 'вакцина', 'организме'],\n",
              "       dtype='object', length=2519),\n",
              " 'HEAD_ANIMACY': Index(['inan', 'anim'], dtype='object'),\n",
              " 'HEAD_CASE': Index(['nomn', 'gent', 'accs', 'ablt', 'datv', 'loct', 'loc2', 'voct'], dtype='object'),\n",
              " 'HEAD_GENDER': Index(['masc', 'femn', 'neut'], dtype='object'),\n",
              " 'HEAD_POS': Index(['VERB', 'NOUN', 'NPRO', 'PRED', 'PREP', 'INFN', 'PRTS', 'GRND', 'ADJF',\n",
              "        'ADVB', 'PRCL', 'PRTF', 'CONJ', 'ADJS', 'COMP', 'INTJ', 'NUMR'],\n",
              "       dtype='object'),\n",
              " 'PERSON': Index(['1per', '3per', '2per'], dtype='object'),\n",
              " 'POS': Index(['VERB', 'NOUN', 'PRTS', 'PRCL', 'CONJ', 'NPRO', 'INFN', 'PREP', 'ADVB',\n",
              "        'PRED', 'ADJF', 'NUMR', 'GRND', 'COMP', 'PRTF', 'ADJS', 'INTJ'],\n",
              "       dtype='object')}"
            ]
          },
          "metadata": {
            "tags": []
          },
          "execution_count": 1406
        }
      ]
    },
    {
      "cell_type": "code",
      "metadata": {
        "id": "pdg6Pp5wbx5Y"
      },
      "source": [
        "\n",
        "# labels_dict = {}\n",
        "# test_labels_dict = {}\n",
        "\n",
        "# for i in X.columns:\n",
        "#   X[i], lbl = pd.factorize(X[i])\n",
        "#   labels_dict[i] = lbl\n",
        "\n",
        "# for i in X_test.columns:\n",
        "#   X_test[i], lbl = pd.factorize(X_test[i])\n",
        "#   test_labels_dict[i] = lbl \n",
        "\n",
        "# y = cor_df['COREFERENCE_CLUSTER']\n",
        "# y, y_label = pd.factorize(y)\n",
        "\n",
        "# y_test = cor_df_test['COREFERENCE_CLUSTER']\n",
        "# y_test, y_test_label = pd.factorize(y_test)"
      ],
      "execution_count": 1407,
      "outputs": []
    },
    {
      "cell_type": "code",
      "metadata": {
        "colab": {
          "base_uri": "https://localhost:8080/",
          "height": 427
        },
        "id": "FJxFPuolOm_y",
        "outputId": "884bdcf4-d66a-4b16-ec0c-664b19ad4dc8"
      },
      "source": [
        "df.loc[(df['NER'] == 1.0) | (df['NER'] == 2.0 )]"
      ],
      "execution_count": 1408,
      "outputs": [
        {
          "output_type": "execute_result",
          "data": {
            "text/html": [
              "<div>\n",
              "<style scoped>\n",
              "    .dataframe tbody tr th:only-of-type {\n",
              "        vertical-align: middle;\n",
              "    }\n",
              "\n",
              "    .dataframe tbody tr th {\n",
              "        vertical-align: top;\n",
              "    }\n",
              "\n",
              "    .dataframe thead th {\n",
              "        text-align: right;\n",
              "    }\n",
              "</style>\n",
              "<table border=\"1\" class=\"dataframe\">\n",
              "  <thead>\n",
              "    <tr style=\"text-align: right;\">\n",
              "      <th></th>\n",
              "      <th>TOKEN</th>\n",
              "      <th>TOKEN_VECT</th>\n",
              "      <th>IS_ANSWER</th>\n",
              "      <th>TOPIC_NUM</th>\n",
              "      <th>POST_NUM</th>\n",
              "      <th>SENT_NUM</th>\n",
              "      <th>TOKEN_NUM</th>\n",
              "      <th>ANIMACY</th>\n",
              "      <th>CASE</th>\n",
              "      <th>GENDER</th>\n",
              "      <th>PERSON</th>\n",
              "      <th>POS</th>\n",
              "      <th>DEPENDENCY</th>\n",
              "      <th>HEAD</th>\n",
              "      <th>HEAD_ANIMACY</th>\n",
              "      <th>HEAD_CASE</th>\n",
              "      <th>HEAD_GENDER</th>\n",
              "      <th>HEAD_POS</th>\n",
              "      <th>HEAD_VECT</th>\n",
              "      <th>SENT_VECT</th>\n",
              "      <th>HEAD_CHILDS_VECT</th>\n",
              "      <th>NER</th>\n",
              "      <th>COREFERENCE_CLUSTER</th>\n",
              "    </tr>\n",
              "  </thead>\n",
              "  <tbody>\n",
              "    <tr>\n",
              "      <th>2</th>\n",
              "      <td>рисперидон</td>\n",
              "      <td>0.779845</td>\n",
              "      <td>0</td>\n",
              "      <td>1</td>\n",
              "      <td>0</td>\n",
              "      <td>0</td>\n",
              "      <td>2</td>\n",
              "      <td>1</td>\n",
              "      <td>0</td>\n",
              "      <td>0</td>\n",
              "      <td>-1</td>\n",
              "      <td>1</td>\n",
              "      <td>2</td>\n",
              "      <td>1</td>\n",
              "      <td>0</td>\n",
              "      <td>0</td>\n",
              "      <td>0</td>\n",
              "      <td>1</td>\n",
              "      <td>0.878739</td>\n",
              "      <td>0.835993</td>\n",
              "      <td>0.808772</td>\n",
              "      <td>1.0</td>\n",
              "      <td>2.0</td>\n",
              "    </tr>\n",
              "    <tr>\n",
              "      <th>3</th>\n",
              "      <td>рисполепт</td>\n",
              "      <td>0.797031</td>\n",
              "      <td>0</td>\n",
              "      <td>1</td>\n",
              "      <td>0</td>\n",
              "      <td>0</td>\n",
              "      <td>3</td>\n",
              "      <td>0</td>\n",
              "      <td>1</td>\n",
              "      <td>1</td>\n",
              "      <td>-1</td>\n",
              "      <td>1</td>\n",
              "      <td>3</td>\n",
              "      <td>2</td>\n",
              "      <td>1</td>\n",
              "      <td>0</td>\n",
              "      <td>0</td>\n",
              "      <td>1</td>\n",
              "      <td>0.554854</td>\n",
              "      <td>0.835993</td>\n",
              "      <td>0.830899</td>\n",
              "      <td>1.0</td>\n",
              "      <td>3.0</td>\n",
              "    </tr>\n",
              "    <tr>\n",
              "      <th>4</th>\n",
              "      <td>сперидан</td>\n",
              "      <td>0.760111</td>\n",
              "      <td>0</td>\n",
              "      <td>1</td>\n",
              "      <td>0</td>\n",
              "      <td>0</td>\n",
              "      <td>4</td>\n",
              "      <td>-1</td>\n",
              "      <td>-1</td>\n",
              "      <td>0</td>\n",
              "      <td>-1</td>\n",
              "      <td>2</td>\n",
              "      <td>4</td>\n",
              "      <td>3</td>\n",
              "      <td>0</td>\n",
              "      <td>1</td>\n",
              "      <td>1</td>\n",
              "      <td>1</td>\n",
              "      <td>0.602089</td>\n",
              "      <td>0.835993</td>\n",
              "      <td>0.805134</td>\n",
              "      <td>1.0</td>\n",
              "      <td>4.0</td>\n",
              "    </tr>\n",
              "    <tr>\n",
              "      <th>21</th>\n",
              "      <td>лекарством</td>\n",
              "      <td>0.456023</td>\n",
              "      <td>0</td>\n",
              "      <td>1</td>\n",
              "      <td>1</td>\n",
              "      <td>1</td>\n",
              "      <td>10</td>\n",
              "      <td>0</td>\n",
              "      <td>5</td>\n",
              "      <td>2</td>\n",
              "      <td>-1</td>\n",
              "      <td>1</td>\n",
              "      <td>4</td>\n",
              "      <td>7</td>\n",
              "      <td>-1</td>\n",
              "      <td>-1</td>\n",
              "      <td>-1</td>\n",
              "      <td>3</td>\n",
              "      <td>0.520258</td>\n",
              "      <td>0.518605</td>\n",
              "      <td>0.660347</td>\n",
              "      <td>2.0</td>\n",
              "      <td>0.0</td>\n",
              "    </tr>\n",
              "    <tr>\n",
              "      <th>142</th>\n",
              "      <td>рисполепта</td>\n",
              "      <td>0.731182</td>\n",
              "      <td>0</td>\n",
              "      <td>1</td>\n",
              "      <td>1</td>\n",
              "      <td>13</td>\n",
              "      <td>7</td>\n",
              "      <td>0</td>\n",
              "      <td>0</td>\n",
              "      <td>1</td>\n",
              "      <td>-1</td>\n",
              "      <td>1</td>\n",
              "      <td>21</td>\n",
              "      <td>69</td>\n",
              "      <td>0</td>\n",
              "      <td>2</td>\n",
              "      <td>1</td>\n",
              "      <td>1</td>\n",
              "      <td>0.471137</td>\n",
              "      <td>0.639488</td>\n",
              "      <td>0.762393</td>\n",
              "      <td>1.0</td>\n",
              "      <td>142.0</td>\n",
              "    </tr>\n",
              "    <tr>\n",
              "      <th>...</th>\n",
              "      <td>...</td>\n",
              "      <td>...</td>\n",
              "      <td>...</td>\n",
              "      <td>...</td>\n",
              "      <td>...</td>\n",
              "      <td>...</td>\n",
              "      <td>...</td>\n",
              "      <td>...</td>\n",
              "      <td>...</td>\n",
              "      <td>...</td>\n",
              "      <td>...</td>\n",
              "      <td>...</td>\n",
              "      <td>...</td>\n",
              "      <td>...</td>\n",
              "      <td>...</td>\n",
              "      <td>...</td>\n",
              "      <td>...</td>\n",
              "      <td>...</td>\n",
              "      <td>...</td>\n",
              "      <td>...</td>\n",
              "      <td>...</td>\n",
              "      <td>...</td>\n",
              "      <td>...</td>\n",
              "    </tr>\n",
              "    <tr>\n",
              "      <th>12726</th>\n",
              "      <td>приходили</td>\n",
              "      <td>0.534609</td>\n",
              "      <td>0</td>\n",
              "      <td>15</td>\n",
              "      <td>0</td>\n",
              "      <td>10</td>\n",
              "      <td>1</td>\n",
              "      <td>-1</td>\n",
              "      <td>-1</td>\n",
              "      <td>-1</td>\n",
              "      <td>-1</td>\n",
              "      <td>0</td>\n",
              "      <td>0</td>\n",
              "      <td>2307</td>\n",
              "      <td>-1</td>\n",
              "      <td>-1</td>\n",
              "      <td>-1</td>\n",
              "      <td>0</td>\n",
              "      <td>0.510058</td>\n",
              "      <td>0.492714</td>\n",
              "      <td>0.630305</td>\n",
              "      <td>1.0</td>\n",
              "      <td>204.0</td>\n",
              "    </tr>\n",
              "    <tr>\n",
              "      <th>12785</th>\n",
              "      <td>завершению</td>\n",
              "      <td>0.453896</td>\n",
              "      <td>0</td>\n",
              "      <td>15</td>\n",
              "      <td>0</td>\n",
              "      <td>16</td>\n",
              "      <td>1</td>\n",
              "      <td>0</td>\n",
              "      <td>2</td>\n",
              "      <td>2</td>\n",
              "      <td>-1</td>\n",
              "      <td>1</td>\n",
              "      <td>10</td>\n",
              "      <td>1851</td>\n",
              "      <td>-1</td>\n",
              "      <td>-1</td>\n",
              "      <td>-1</td>\n",
              "      <td>0</td>\n",
              "      <td>0.390514</td>\n",
              "      <td>0.437342</td>\n",
              "      <td>0.503593</td>\n",
              "      <td>1.0</td>\n",
              "      <td>263.0</td>\n",
              "    </tr>\n",
              "    <tr>\n",
              "      <th>12854</th>\n",
              "      <td>к</td>\n",
              "      <td>0.415880</td>\n",
              "      <td>0</td>\n",
              "      <td>15</td>\n",
              "      <td>0</td>\n",
              "      <td>22</td>\n",
              "      <td>3</td>\n",
              "      <td>-1</td>\n",
              "      <td>-1</td>\n",
              "      <td>-1</td>\n",
              "      <td>-1</td>\n",
              "      <td>7</td>\n",
              "      <td>9</td>\n",
              "      <td>2332</td>\n",
              "      <td>1</td>\n",
              "      <td>2</td>\n",
              "      <td>1</td>\n",
              "      <td>1</td>\n",
              "      <td>0.626481</td>\n",
              "      <td>0.641312</td>\n",
              "      <td>0.428054</td>\n",
              "      <td>1.0</td>\n",
              "      <td>332.0</td>\n",
              "    </tr>\n",
              "    <tr>\n",
              "      <th>12876</th>\n",
              "      <td>стадию</td>\n",
              "      <td>0.542401</td>\n",
              "      <td>0</td>\n",
              "      <td>15</td>\n",
              "      <td>0</td>\n",
              "      <td>25</td>\n",
              "      <td>7</td>\n",
              "      <td>0</td>\n",
              "      <td>3</td>\n",
              "      <td>1</td>\n",
              "      <td>-1</td>\n",
              "      <td>1</td>\n",
              "      <td>1</td>\n",
              "      <td>1777</td>\n",
              "      <td>-1</td>\n",
              "      <td>-1</td>\n",
              "      <td>-1</td>\n",
              "      <td>0</td>\n",
              "      <td>0.475252</td>\n",
              "      <td>0.694040</td>\n",
              "      <td>0.622309</td>\n",
              "      <td>2.0</td>\n",
              "      <td>0.0</td>\n",
              "    </tr>\n",
              "    <tr>\n",
              "      <th>12879</th>\n",
              "      <td>моя</td>\n",
              "      <td>0.407910</td>\n",
              "      <td>0</td>\n",
              "      <td>15</td>\n",
              "      <td>0</td>\n",
              "      <td>26</td>\n",
              "      <td>0</td>\n",
              "      <td>-1</td>\n",
              "      <td>0</td>\n",
              "      <td>1</td>\n",
              "      <td>-1</td>\n",
              "      <td>10</td>\n",
              "      <td>11</td>\n",
              "      <td>2342</td>\n",
              "      <td>1</td>\n",
              "      <td>0</td>\n",
              "      <td>1</td>\n",
              "      <td>1</td>\n",
              "      <td>0.386935</td>\n",
              "      <td>0.578338</td>\n",
              "      <td>0.518951</td>\n",
              "      <td>1.0</td>\n",
              "      <td>357.0</td>\n",
              "    </tr>\n",
              "  </tbody>\n",
              "</table>\n",
              "<p>708 rows × 23 columns</p>\n",
              "</div>"
            ],
            "text/plain": [
              "            TOKEN  TOKEN_VECT  ...  NER  COREFERENCE_CLUSTER\n",
              "2      рисперидон    0.779845  ...  1.0                  2.0\n",
              "3       рисполепт    0.797031  ...  1.0                  3.0\n",
              "4        сперидан    0.760111  ...  1.0                  4.0\n",
              "21     лекарством    0.456023  ...  2.0                  0.0\n",
              "142    рисполепта    0.731182  ...  1.0                142.0\n",
              "...           ...         ...  ...  ...                  ...\n",
              "12726   приходили    0.534609  ...  1.0                204.0\n",
              "12785  завершению    0.453896  ...  1.0                263.0\n",
              "12854           к    0.415880  ...  1.0                332.0\n",
              "12876      стадию    0.542401  ...  2.0                  0.0\n",
              "12879         моя    0.407910  ...  1.0                357.0\n",
              "\n",
              "[708 rows x 23 columns]"
            ]
          },
          "metadata": {
            "tags": []
          },
          "execution_count": 1408
        }
      ]
    },
    {
      "cell_type": "markdown",
      "metadata": {
        "id": "gHAqJq-syGu4"
      },
      "source": [
        "Разделим датасет на тестовый и тренировочный. for_train, for_test "
      ]
    },
    {
      "cell_type": "code",
      "metadata": {
        "id": "_iE_6DTwjs9r"
      },
      "source": [
        "# train, test = train_test_split(df.loc[(df['NER'] == 1.0) | (df['NER'] == 2.0 ) | (df['NER'] == 3.0 )], test_size=0.2)\n",
        "# train, test = train_test_split(df, test_size=0.2)\n",
        "train, test = train_test_split(df.loc[(df['NER'] == 2.0 ) | (df['NER'] == 3.0 )], test_size=0.2)"
      ],
      "execution_count": 1409,
      "outputs": []
    },
    {
      "cell_type": "code",
      "metadata": {
        "id": "NSpO2JclSBoW"
      },
      "source": [
        "train = train.reset_index()"
      ],
      "execution_count": 1410,
      "outputs": []
    },
    {
      "cell_type": "markdown",
      "metadata": {
        "id": "p9jYUXyTyO7S"
      },
      "source": [
        ""
      ]
    },
    {
      "cell_type": "code",
      "metadata": {
        "id": "Iqdr1Z1MbxQP"
      },
      "source": [
        "# train = train.iloc[:,:24].drop(['TOKEN', 'level_0', 'index'], axis=1)\n",
        "# train = train.drop(['TOKEN', 'index'], axis=1)"
      ],
      "execution_count": 1411,
      "outputs": []
    },
    {
      "cell_type": "code",
      "metadata": {
        "id": "15JsamoeRUQ3"
      },
      "source": [
        "test = test.reset_index()"
      ],
      "execution_count": 1412,
      "outputs": []
    },
    {
      "cell_type": "code",
      "metadata": {
        "colab": {
          "base_uri": "https://localhost:8080/",
          "height": 218
        },
        "id": "yJ-7SyinSvCF",
        "outputId": "7d246990-930d-4fa1-f84d-6767dd19dac1"
      },
      "source": [
        "test.head(5)"
      ],
      "execution_count": 1413,
      "outputs": [
        {
          "output_type": "execute_result",
          "data": {
            "text/html": [
              "<div>\n",
              "<style scoped>\n",
              "    .dataframe tbody tr th:only-of-type {\n",
              "        vertical-align: middle;\n",
              "    }\n",
              "\n",
              "    .dataframe tbody tr th {\n",
              "        vertical-align: top;\n",
              "    }\n",
              "\n",
              "    .dataframe thead th {\n",
              "        text-align: right;\n",
              "    }\n",
              "</style>\n",
              "<table border=\"1\" class=\"dataframe\">\n",
              "  <thead>\n",
              "    <tr style=\"text-align: right;\">\n",
              "      <th></th>\n",
              "      <th>index</th>\n",
              "      <th>TOKEN</th>\n",
              "      <th>TOKEN_VECT</th>\n",
              "      <th>IS_ANSWER</th>\n",
              "      <th>TOPIC_NUM</th>\n",
              "      <th>POST_NUM</th>\n",
              "      <th>SENT_NUM</th>\n",
              "      <th>TOKEN_NUM</th>\n",
              "      <th>ANIMACY</th>\n",
              "      <th>CASE</th>\n",
              "      <th>GENDER</th>\n",
              "      <th>PERSON</th>\n",
              "      <th>POS</th>\n",
              "      <th>DEPENDENCY</th>\n",
              "      <th>HEAD</th>\n",
              "      <th>HEAD_ANIMACY</th>\n",
              "      <th>HEAD_CASE</th>\n",
              "      <th>HEAD_GENDER</th>\n",
              "      <th>HEAD_POS</th>\n",
              "      <th>HEAD_VECT</th>\n",
              "      <th>SENT_VECT</th>\n",
              "      <th>HEAD_CHILDS_VECT</th>\n",
              "      <th>NER</th>\n",
              "      <th>COREFERENCE_CLUSTER</th>\n",
              "    </tr>\n",
              "  </thead>\n",
              "  <tbody>\n",
              "    <tr>\n",
              "      <th>0</th>\n",
              "      <td>3673</td>\n",
              "      <td>препараты</td>\n",
              "      <td>0.468716</td>\n",
              "      <td>1</td>\n",
              "      <td>3</td>\n",
              "      <td>22</td>\n",
              "      <td>1</td>\n",
              "      <td>1789</td>\n",
              "      <td>0</td>\n",
              "      <td>0</td>\n",
              "      <td>0</td>\n",
              "      <td>-1</td>\n",
              "      <td>1</td>\n",
              "      <td>1</td>\n",
              "      <td>739</td>\n",
              "      <td>-1</td>\n",
              "      <td>-1</td>\n",
              "      <td>-1</td>\n",
              "      <td>5</td>\n",
              "      <td>0.658265</td>\n",
              "      <td>0.673832</td>\n",
              "      <td>0.677477</td>\n",
              "      <td>2.0</td>\n",
              "      <td>1795.0</td>\n",
              "    </tr>\n",
              "    <tr>\n",
              "      <th>1</th>\n",
              "      <td>2256</td>\n",
              "      <td>препаратов</td>\n",
              "      <td>0.464472</td>\n",
              "      <td>1</td>\n",
              "      <td>3</td>\n",
              "      <td>5</td>\n",
              "      <td>12</td>\n",
              "      <td>372</td>\n",
              "      <td>0</td>\n",
              "      <td>1</td>\n",
              "      <td>0</td>\n",
              "      <td>-1</td>\n",
              "      <td>1</td>\n",
              "      <td>21</td>\n",
              "      <td>569</td>\n",
              "      <td>0</td>\n",
              "      <td>5</td>\n",
              "      <td>1</td>\n",
              "      <td>1</td>\n",
              "      <td>0.420347</td>\n",
              "      <td>0.502091</td>\n",
              "      <td>0.589498</td>\n",
              "      <td>2.0</td>\n",
              "      <td>388.0</td>\n",
              "    </tr>\n",
              "    <tr>\n",
              "      <th>2</th>\n",
              "      <td>9144</td>\n",
              "      <td>химии</td>\n",
              "      <td>0.556986</td>\n",
              "      <td>1</td>\n",
              "      <td>7</td>\n",
              "      <td>1</td>\n",
              "      <td>18</td>\n",
              "      <td>241</td>\n",
              "      <td>0</td>\n",
              "      <td>1</td>\n",
              "      <td>1</td>\n",
              "      <td>-1</td>\n",
              "      <td>1</td>\n",
              "      <td>10</td>\n",
              "      <td>1699</td>\n",
              "      <td>-1</td>\n",
              "      <td>0</td>\n",
              "      <td>2</td>\n",
              "      <td>8</td>\n",
              "      <td>0.465183</td>\n",
              "      <td>0.564593</td>\n",
              "      <td>0.646650</td>\n",
              "      <td>2.0</td>\n",
              "      <td>0.0</td>\n",
              "    </tr>\n",
              "    <tr>\n",
              "      <th>3</th>\n",
              "      <td>7336</td>\n",
              "      <td>нейролептиками</td>\n",
              "      <td>0.589178</td>\n",
              "      <td>1</td>\n",
              "      <td>5</td>\n",
              "      <td>35</td>\n",
              "      <td>3</td>\n",
              "      <td>1134</td>\n",
              "      <td>0</td>\n",
              "      <td>5</td>\n",
              "      <td>0</td>\n",
              "      <td>-1</td>\n",
              "      <td>1</td>\n",
              "      <td>21</td>\n",
              "      <td>1459</td>\n",
              "      <td>0</td>\n",
              "      <td>2</td>\n",
              "      <td>1</td>\n",
              "      <td>1</td>\n",
              "      <td>0.418195</td>\n",
              "      <td>0.493534</td>\n",
              "      <td>0.665142</td>\n",
              "      <td>2.0</td>\n",
              "      <td>0.0</td>\n",
              "    </tr>\n",
              "    <tr>\n",
              "      <th>4</th>\n",
              "      <td>6526</td>\n",
              "      <td>препарат</td>\n",
              "      <td>0.525897</td>\n",
              "      <td>1</td>\n",
              "      <td>5</td>\n",
              "      <td>16</td>\n",
              "      <td>0</td>\n",
              "      <td>324</td>\n",
              "      <td>0</td>\n",
              "      <td>0</td>\n",
              "      <td>0</td>\n",
              "      <td>-1</td>\n",
              "      <td>1</td>\n",
              "      <td>1</td>\n",
              "      <td>1280</td>\n",
              "      <td>-1</td>\n",
              "      <td>-1</td>\n",
              "      <td>-1</td>\n",
              "      <td>0</td>\n",
              "      <td>0.583459</td>\n",
              "      <td>0.713328</td>\n",
              "      <td>0.764346</td>\n",
              "      <td>2.0</td>\n",
              "      <td>319.0</td>\n",
              "    </tr>\n",
              "  </tbody>\n",
              "</table>\n",
              "</div>"
            ],
            "text/plain": [
              "   index           TOKEN  ...  NER  COREFERENCE_CLUSTER\n",
              "0   3673       препараты  ...  2.0               1795.0\n",
              "1   2256      препаратов  ...  2.0                388.0\n",
              "2   9144           химии  ...  2.0                  0.0\n",
              "3   7336  нейролептиками  ...  2.0                  0.0\n",
              "4   6526        препарат  ...  2.0                319.0\n",
              "\n",
              "[5 rows x 24 columns]"
            ]
          },
          "metadata": {
            "tags": []
          },
          "execution_count": 1413
        }
      ]
    },
    {
      "cell_type": "code",
      "metadata": {
        "id": "4af_SNBkhigO"
      },
      "source": [
        "# test = test.iloc[:,:24].drop(['TOKEN', 'index'], axis=1)\n",
        "# test = test.drop(['TOKEN', 'index'], axis=1)"
      ],
      "execution_count": 1414,
      "outputs": []
    },
    {
      "cell_type": "code",
      "metadata": {
        "id": "cBXo00kAS49b"
      },
      "source": [
        "# test.loc[test['NER'] != 0]"
      ],
      "execution_count": 1415,
      "outputs": []
    },
    {
      "cell_type": "code",
      "metadata": {
        "id": "htGIdgGgPeL8"
      },
      "source": [
        "# ['TOPIC_NUM',\t'POST_NUM',\t'TOKEN_NUM',\t'GENDER',\t'PERSON', 'TOKEN', 'TOKEN_VECT', 'IS_ANSWER', 'SENT_NUM', 'HEAD_VECT', 'HEAD_CHILDS_VECT', \n",
        "#  'index', 'HEAD_ANIMACY',\t'HEAD_CASE',\t'HEAD_GENDER', 'ANIMACY',\t'CASE',\t'POS',\t'DEPENDENCY',\t'HEAD',\t'HEAD_POS']"
      ],
      "execution_count": 1416,
      "outputs": []
    },
    {
      "cell_type": "code",
      "metadata": {
        "id": "FweGW5SOrkaH"
      },
      "source": [
        "# best set\n",
        "\n",
        "# X, y, X_test, y_test = train.drop(['TOKEN',  'HEAD_VECT', 'POST_NUM', 'IS_ANSWER', 'PERSON', 'HEAD_CHILDS_VECT', 'TOPIC_NUM', 'CASE', 'SENT_NUM', 'DEPENDENCY',  'index', 'HEAD_ANIMACY',\t'HEAD_CASE',\t'HEAD_GENDER', 'ANIMACY',\t\t\t\t'HEAD',\t'HEAD_POS'], axis=1).iloc[:,:18], \\\n",
        "# train.COREFERENCE_CLUSTER, test.drop(['TOKEN',  'HEAD_VECT', 'POST_NUM', 'IS_ANSWER', 'PERSON', 'HEAD_CHILDS_VECT', 'TOPIC_NUM', 'CASE', 'SENT_NUM', 'DEPENDENCY',    'index', 'HEAD_ANIMACY',\t'HEAD_CASE',\t'HEAD_GENDER', 'ANIMACY',\t\t\t'HEAD',\t'HEAD_POS'], axis=1).iloc[:,:18], test.COREFERENCE_CLUSTER"
      ],
      "execution_count": 1417,
      "outputs": []
    },
    {
      "cell_type": "markdown",
      "metadata": {
        "id": "59_MptFSzbP9"
      },
      "source": [
        "Делаем наборы для обучения моделей."
      ]
    },
    {
      "cell_type": "code",
      "metadata": {
        "id": "Gz0Kri_pTC1s"
      },
      "source": [
        "X, y, X_test, y_test = train.drop(['TOKEN',  'HEAD_VECT', 'POST_NUM', 'IS_ANSWER', 'PERSON', 'HEAD_CHILDS_VECT', 'TOPIC_NUM', 'CASE', 'SENT_NUM', 'DEPENDENCY',  'index', 'HEAD_ANIMACY',\t'HEAD_CASE',\t'HEAD_GENDER', 'ANIMACY',\t\t\t\t'HEAD',\t'HEAD_POS'], axis=1).iloc[:,:18], \\\n",
        "train.COREFERENCE_CLUSTER, test.drop(['TOKEN',  'HEAD_VECT', 'POST_NUM', 'IS_ANSWER', 'PERSON', 'HEAD_CHILDS_VECT', 'TOPIC_NUM', 'CASE', 'SENT_NUM', 'DEPENDENCY',    'index', 'HEAD_ANIMACY',\t'HEAD_CASE',\t'HEAD_GENDER', 'ANIMACY',\t\t\t'HEAD',\t'HEAD_POS'], axis=1).iloc[:,:18], test.COREFERENCE_CLUSTER"
      ],
      "execution_count": 1418,
      "outputs": []
    },
    {
      "cell_type": "code",
      "metadata": {
        "id": "-omX42NNMv52"
      },
      "source": [
        "# X, y, X_test, y_test = train.drop(['TOKEN', 'index'], axis=1).iloc[:,:24], train.COREFERENCE_CLUSTER, test.drop(['TOKEN', 'index'], axis=1).iloc[:,:24], test.COREFERENCE_CLUSTER"
      ],
      "execution_count": 1419,
      "outputs": []
    },
    {
      "cell_type": "code",
      "metadata": {
        "colab": {
          "base_uri": "https://localhost:8080/",
          "height": 407
        },
        "id": "2x9H9mrBGOyH",
        "outputId": "b6781611-7ba2-4601-c078-0567e7d7778e"
      },
      "source": [
        "X"
      ],
      "execution_count": 1420,
      "outputs": [
        {
          "output_type": "execute_result",
          "data": {
            "text/html": [
              "<div>\n",
              "<style scoped>\n",
              "    .dataframe tbody tr th:only-of-type {\n",
              "        vertical-align: middle;\n",
              "    }\n",
              "\n",
              "    .dataframe tbody tr th {\n",
              "        vertical-align: top;\n",
              "    }\n",
              "\n",
              "    .dataframe thead th {\n",
              "        text-align: right;\n",
              "    }\n",
              "</style>\n",
              "<table border=\"1\" class=\"dataframe\">\n",
              "  <thead>\n",
              "    <tr style=\"text-align: right;\">\n",
              "      <th></th>\n",
              "      <th>TOKEN_VECT</th>\n",
              "      <th>TOKEN_NUM</th>\n",
              "      <th>GENDER</th>\n",
              "      <th>POS</th>\n",
              "      <th>SENT_VECT</th>\n",
              "      <th>NER</th>\n",
              "      <th>COREFERENCE_CLUSTER</th>\n",
              "    </tr>\n",
              "  </thead>\n",
              "  <tbody>\n",
              "    <tr>\n",
              "      <th>0</th>\n",
              "      <td>0.519055</td>\n",
              "      <td>221</td>\n",
              "      <td>0</td>\n",
              "      <td>5</td>\n",
              "      <td>0.743045</td>\n",
              "      <td>3.0</td>\n",
              "      <td>218.0</td>\n",
              "    </tr>\n",
              "    <tr>\n",
              "      <th>1</th>\n",
              "      <td>0.584090</td>\n",
              "      <td>84</td>\n",
              "      <td>-1</td>\n",
              "      <td>-1</td>\n",
              "      <td>0.615114</td>\n",
              "      <td>2.0</td>\n",
              "      <td>0.0</td>\n",
              "    </tr>\n",
              "    <tr>\n",
              "      <th>2</th>\n",
              "      <td>0.454605</td>\n",
              "      <td>35</td>\n",
              "      <td>-1</td>\n",
              "      <td>16</td>\n",
              "      <td>0.525582</td>\n",
              "      <td>2.0</td>\n",
              "      <td>0.0</td>\n",
              "    </tr>\n",
              "    <tr>\n",
              "      <th>3</th>\n",
              "      <td>0.457997</td>\n",
              "      <td>62</td>\n",
              "      <td>-1</td>\n",
              "      <td>11</td>\n",
              "      <td>0.600316</td>\n",
              "      <td>2.0</td>\n",
              "      <td>6.0</td>\n",
              "    </tr>\n",
              "    <tr>\n",
              "      <th>4</th>\n",
              "      <td>0.471790</td>\n",
              "      <td>1660</td>\n",
              "      <td>1</td>\n",
              "      <td>5</td>\n",
              "      <td>0.739101</td>\n",
              "      <td>3.0</td>\n",
              "      <td>1657.0</td>\n",
              "    </tr>\n",
              "    <tr>\n",
              "      <th>...</th>\n",
              "      <td>...</td>\n",
              "      <td>...</td>\n",
              "      <td>...</td>\n",
              "      <td>...</td>\n",
              "      <td>...</td>\n",
              "      <td>...</td>\n",
              "      <td>...</td>\n",
              "    </tr>\n",
              "    <tr>\n",
              "      <th>226</th>\n",
              "      <td>0.476860</td>\n",
              "      <td>1568</td>\n",
              "      <td>1</td>\n",
              "      <td>5</td>\n",
              "      <td>0.616808</td>\n",
              "      <td>3.0</td>\n",
              "      <td>1582.0</td>\n",
              "    </tr>\n",
              "    <tr>\n",
              "      <th>227</th>\n",
              "      <td>0.525897</td>\n",
              "      <td>320</td>\n",
              "      <td>0</td>\n",
              "      <td>1</td>\n",
              "      <td>0.641136</td>\n",
              "      <td>2.0</td>\n",
              "      <td>663.0</td>\n",
              "    </tr>\n",
              "    <tr>\n",
              "      <th>228</th>\n",
              "      <td>0.468716</td>\n",
              "      <td>732</td>\n",
              "      <td>0</td>\n",
              "      <td>1</td>\n",
              "      <td>0.435643</td>\n",
              "      <td>2.0</td>\n",
              "      <td>0.0</td>\n",
              "    </tr>\n",
              "    <tr>\n",
              "      <th>229</th>\n",
              "      <td>0.525897</td>\n",
              "      <td>2721</td>\n",
              "      <td>0</td>\n",
              "      <td>1</td>\n",
              "      <td>0.703564</td>\n",
              "      <td>2.0</td>\n",
              "      <td>2711.0</td>\n",
              "    </tr>\n",
              "    <tr>\n",
              "      <th>230</th>\n",
              "      <td>0.525897</td>\n",
              "      <td>635</td>\n",
              "      <td>0</td>\n",
              "      <td>1</td>\n",
              "      <td>0.593342</td>\n",
              "      <td>2.0</td>\n",
              "      <td>0.0</td>\n",
              "    </tr>\n",
              "  </tbody>\n",
              "</table>\n",
              "<p>231 rows × 7 columns</p>\n",
              "</div>"
            ],
            "text/plain": [
              "     TOKEN_VECT  TOKEN_NUM  GENDER  POS  SENT_VECT  NER  COREFERENCE_CLUSTER\n",
              "0      0.519055        221       0    5   0.743045  3.0                218.0\n",
              "1      0.584090         84      -1   -1   0.615114  2.0                  0.0\n",
              "2      0.454605         35      -1   16   0.525582  2.0                  0.0\n",
              "3      0.457997         62      -1   11   0.600316  2.0                  6.0\n",
              "4      0.471790       1660       1    5   0.739101  3.0               1657.0\n",
              "..          ...        ...     ...  ...        ...  ...                  ...\n",
              "226    0.476860       1568       1    5   0.616808  3.0               1582.0\n",
              "227    0.525897        320       0    1   0.641136  2.0                663.0\n",
              "228    0.468716        732       0    1   0.435643  2.0                  0.0\n",
              "229    0.525897       2721       0    1   0.703564  2.0               2711.0\n",
              "230    0.525897        635       0    1   0.593342  2.0                  0.0\n",
              "\n",
              "[231 rows x 7 columns]"
            ]
          },
          "metadata": {
            "tags": []
          },
          "execution_count": 1420
        }
      ]
    },
    {
      "cell_type": "code",
      "metadata": {
        "colab": {
          "base_uri": "https://localhost:8080/",
          "height": 348
        },
        "id": "t3H4tT8RUKbb",
        "outputId": "423d2fa2-6dfb-4dcb-8ec6-656f2f65f2d5"
      },
      "source": [
        "X_test.head(10)"
      ],
      "execution_count": 1421,
      "outputs": [
        {
          "output_type": "execute_result",
          "data": {
            "text/html": [
              "<div>\n",
              "<style scoped>\n",
              "    .dataframe tbody tr th:only-of-type {\n",
              "        vertical-align: middle;\n",
              "    }\n",
              "\n",
              "    .dataframe tbody tr th {\n",
              "        vertical-align: top;\n",
              "    }\n",
              "\n",
              "    .dataframe thead th {\n",
              "        text-align: right;\n",
              "    }\n",
              "</style>\n",
              "<table border=\"1\" class=\"dataframe\">\n",
              "  <thead>\n",
              "    <tr style=\"text-align: right;\">\n",
              "      <th></th>\n",
              "      <th>TOKEN_VECT</th>\n",
              "      <th>TOKEN_NUM</th>\n",
              "      <th>GENDER</th>\n",
              "      <th>POS</th>\n",
              "      <th>SENT_VECT</th>\n",
              "      <th>NER</th>\n",
              "      <th>COREFERENCE_CLUSTER</th>\n",
              "    </tr>\n",
              "  </thead>\n",
              "  <tbody>\n",
              "    <tr>\n",
              "      <th>0</th>\n",
              "      <td>0.468716</td>\n",
              "      <td>1789</td>\n",
              "      <td>0</td>\n",
              "      <td>1</td>\n",
              "      <td>0.673832</td>\n",
              "      <td>2.0</td>\n",
              "      <td>1795.0</td>\n",
              "    </tr>\n",
              "    <tr>\n",
              "      <th>1</th>\n",
              "      <td>0.464472</td>\n",
              "      <td>372</td>\n",
              "      <td>0</td>\n",
              "      <td>1</td>\n",
              "      <td>0.502091</td>\n",
              "      <td>2.0</td>\n",
              "      <td>388.0</td>\n",
              "    </tr>\n",
              "    <tr>\n",
              "      <th>2</th>\n",
              "      <td>0.556986</td>\n",
              "      <td>241</td>\n",
              "      <td>1</td>\n",
              "      <td>1</td>\n",
              "      <td>0.564593</td>\n",
              "      <td>2.0</td>\n",
              "      <td>0.0</td>\n",
              "    </tr>\n",
              "    <tr>\n",
              "      <th>3</th>\n",
              "      <td>0.589178</td>\n",
              "      <td>1134</td>\n",
              "      <td>0</td>\n",
              "      <td>1</td>\n",
              "      <td>0.493534</td>\n",
              "      <td>2.0</td>\n",
              "      <td>0.0</td>\n",
              "    </tr>\n",
              "    <tr>\n",
              "      <th>4</th>\n",
              "      <td>0.525897</td>\n",
              "      <td>324</td>\n",
              "      <td>0</td>\n",
              "      <td>1</td>\n",
              "      <td>0.713328</td>\n",
              "      <td>2.0</td>\n",
              "      <td>319.0</td>\n",
              "    </tr>\n",
              "    <tr>\n",
              "      <th>5</th>\n",
              "      <td>0.406463</td>\n",
              "      <td>72</td>\n",
              "      <td>2</td>\n",
              "      <td>1</td>\n",
              "      <td>0.584244</td>\n",
              "      <td>2.0</td>\n",
              "      <td>0.0</td>\n",
              "    </tr>\n",
              "    <tr>\n",
              "      <th>6</th>\n",
              "      <td>0.459385</td>\n",
              "      <td>1032</td>\n",
              "      <td>0</td>\n",
              "      <td>1</td>\n",
              "      <td>0.497320</td>\n",
              "      <td>2.0</td>\n",
              "      <td>1081.0</td>\n",
              "    </tr>\n",
              "    <tr>\n",
              "      <th>7</th>\n",
              "      <td>0.505452</td>\n",
              "      <td>512</td>\n",
              "      <td>0</td>\n",
              "      <td>5</td>\n",
              "      <td>0.484634</td>\n",
              "      <td>3.0</td>\n",
              "      <td>507.0</td>\n",
              "    </tr>\n",
              "    <tr>\n",
              "      <th>8</th>\n",
              "      <td>0.525897</td>\n",
              "      <td>265</td>\n",
              "      <td>0</td>\n",
              "      <td>1</td>\n",
              "      <td>0.625485</td>\n",
              "      <td>2.0</td>\n",
              "      <td>287.0</td>\n",
              "    </tr>\n",
              "    <tr>\n",
              "      <th>9</th>\n",
              "      <td>0.525897</td>\n",
              "      <td>3113</td>\n",
              "      <td>0</td>\n",
              "      <td>1</td>\n",
              "      <td>0.519936</td>\n",
              "      <td>2.0</td>\n",
              "      <td>3125.0</td>\n",
              "    </tr>\n",
              "  </tbody>\n",
              "</table>\n",
              "</div>"
            ],
            "text/plain": [
              "   TOKEN_VECT  TOKEN_NUM  GENDER  POS  SENT_VECT  NER  COREFERENCE_CLUSTER\n",
              "0    0.468716       1789       0    1   0.673832  2.0               1795.0\n",
              "1    0.464472        372       0    1   0.502091  2.0                388.0\n",
              "2    0.556986        241       1    1   0.564593  2.0                  0.0\n",
              "3    0.589178       1134       0    1   0.493534  2.0                  0.0\n",
              "4    0.525897        324       0    1   0.713328  2.0                319.0\n",
              "5    0.406463         72       2    1   0.584244  2.0                  0.0\n",
              "6    0.459385       1032       0    1   0.497320  2.0               1081.0\n",
              "7    0.505452        512       0    5   0.484634  3.0                507.0\n",
              "8    0.525897        265       0    1   0.625485  2.0                287.0\n",
              "9    0.525897       3113       0    1   0.519936  2.0               3125.0"
            ]
          },
          "metadata": {
            "tags": []
          },
          "execution_count": 1421
        }
      ]
    },
    {
      "cell_type": "code",
      "metadata": {
        "colab": {
          "base_uri": "https://localhost:8080/"
        },
        "id": "gV3OdD0OUKeU",
        "outputId": "ed9ff6ea-4d61-475d-94cc-a9048aa07478"
      },
      "source": [
        "y"
      ],
      "execution_count": 1422,
      "outputs": [
        {
          "output_type": "execute_result",
          "data": {
            "text/plain": [
              "0       218.0\n",
              "1         0.0\n",
              "2         0.0\n",
              "3         6.0\n",
              "4      1657.0\n",
              "        ...  \n",
              "226    1582.0\n",
              "227     663.0\n",
              "228       0.0\n",
              "229    2711.0\n",
              "230       0.0\n",
              "Name: COREFERENCE_CLUSTER, Length: 231, dtype: float64"
            ]
          },
          "metadata": {
            "tags": []
          },
          "execution_count": 1422
        }
      ]
    },
    {
      "cell_type": "markdown",
      "metadata": {
        "id": "5tK813duz_3P"
      },
      "source": [
        "Обучаем модели."
      ]
    },
    {
      "cell_type": "code",
      "metadata": {
        "colab": {
          "base_uri": "https://localhost:8080/"
        },
        "id": "lpdNSWV0fl47",
        "outputId": "73fe96b7-e04b-4640-ae06-90ac43be86ad"
      },
      "source": [
        "clf = tree.DecisionTreeClassifier(max_depth=2000, )\n",
        "clf.fit(X, y)\n",
        "clf.score(X_test, y_test)"
      ],
      "execution_count": 1423,
      "outputs": [
        {
          "output_type": "execute_result",
          "data": {
            "text/plain": [
              "0.603448275862069"
            ]
          },
          "metadata": {
            "tags": []
          },
          "execution_count": 1423
        }
      ]
    },
    {
      "cell_type": "code",
      "metadata": {
        "id": "7EOq1DxzyAiQ",
        "colab": {
          "base_uri": "https://localhost:8080/"
        },
        "outputId": "d4256fa1-b760-4ca6-87f7-1a027252bff7"
      },
      "source": [
        "clf_entropy = tree.DecisionTreeClassifier(criterion='entropy', max_depth=2000)\n",
        "clf_entropy.fit(X, y)\n",
        "clf_entropy.score(X_test, y_test)"
      ],
      "execution_count": 1424,
      "outputs": [
        {
          "output_type": "execute_result",
          "data": {
            "text/plain": [
              "0.6379310344827587"
            ]
          },
          "metadata": {
            "tags": []
          },
          "execution_count": 1424
        }
      ]
    },
    {
      "cell_type": "code",
      "metadata": {
        "colab": {
          "base_uri": "https://localhost:8080/"
        },
        "id": "795Z0wfKBMRp",
        "outputId": "dc8345f5-45fe-4c8a-c81d-529d013a2460"
      },
      "source": [
        "randf_clf = RandomForestClassifier(max_depth=3000, n_estimators=600, bootstrap=True, )\n",
        "randf_clf.fit(X, y)\n",
        "randf_clf.score(X_test, y_test)"
      ],
      "execution_count": 1425,
      "outputs": [
        {
          "output_type": "execute_result",
          "data": {
            "text/plain": [
              "0.5344827586206896"
            ]
          },
          "metadata": {
            "tags": []
          },
          "execution_count": 1425
        }
      ]
    },
    {
      "cell_type": "code",
      "metadata": {
        "colab": {
          "base_uri": "https://localhost:8080/"
        },
        "id": "h8j0eFJPEDCI",
        "outputId": "68bea717-27d8-4880-b744-9fbe0c1a74fa"
      },
      "source": [
        "regr = linear_model.LinearRegression()\n",
        "regr.fit(X, y)\n",
        "regr.score(X_test, y_test)"
      ],
      "execution_count": 1426,
      "outputs": [
        {
          "output_type": "execute_result",
          "data": {
            "text/plain": [
              "1.0"
            ]
          },
          "metadata": {
            "tags": []
          },
          "execution_count": 1426
        }
      ]
    },
    {
      "cell_type": "code",
      "metadata": {
        "id": "LgDyuglZCo55"
      },
      "source": [
        "from sklearn import svm"
      ],
      "execution_count": 1427,
      "outputs": []
    },
    {
      "cell_type": "code",
      "metadata": {
        "colab": {
          "base_uri": "https://localhost:8080/"
        },
        "id": "o5Ol9LJQB-Z5",
        "outputId": "748eb861-1fe3-464b-db5b-3a9075797a8e"
      },
      "source": [
        "svm_clf = svm.SVC(decision_function_shape='ovo', cache_size=500)\n",
        "svm_clf.fit(X, y)\n",
        "svm_clf.score(X_test, y_test)"
      ],
      "execution_count": 1428,
      "outputs": [
        {
          "output_type": "execute_result",
          "data": {
            "text/plain": [
              "0.39655172413793105"
            ]
          },
          "metadata": {
            "tags": []
          },
          "execution_count": 1428
        }
      ]
    },
    {
      "cell_type": "code",
      "metadata": {
        "colab": {
          "base_uri": "https://localhost:8080/"
        },
        "id": "v-Ib98jycNOB",
        "outputId": "7f16d55e-a6f6-4572-958a-6d1d00feb873"
      },
      "source": [
        "from sklearn.neighbors import KNeighborsClassifier\n",
        "knn_clf = KNeighborsClassifier(n_neighbors=7, weights='distance',algorithm='ball_tree',leaf_size=40, metric='minkowski', p=1).fit(X, y)\n",
        "knn_clf.score(X_test, y_test)"
      ],
      "execution_count": 1429,
      "outputs": [
        {
          "output_type": "execute_result",
          "data": {
            "text/plain": [
              "0.6724137931034483"
            ]
          },
          "metadata": {
            "tags": []
          },
          "execution_count": 1429
        }
      ]
    },
    {
      "cell_type": "code",
      "metadata": {
        "id": "4T66NsKoc_IP"
      },
      "source": [
        "# from sklearn.naive_bayes import MultinomialNB\n",
        "# naive_clf = MultinomialNB().fit(X, y)\n"
      ],
      "execution_count": 1430,
      "outputs": []
    },
    {
      "cell_type": "markdown",
      "metadata": {
        "id": "wBG278Rc0_XD"
      },
      "source": [
        "# **ОЦЕНКА МОДЕЛЕЙ**"
      ]
    },
    {
      "cell_type": "code",
      "metadata": {
        "id": "FSTKYAktXiS9"
      },
      "source": [
        "def my_eval(X_predicted, y):\n",
        "  \n",
        "  tp = []\n",
        "  fp = []\n",
        "  tn = []\n",
        "  fn = []\n",
        "\n",
        "  for i in range(len(X_predicted)):\n",
        "    if X_predicted[i] != 0.0:\n",
        "      if X_predicted[i] == y_test[i]:\n",
        "        tp.append(i)\n",
        "      else:\n",
        "        fp.append(i)\n",
        "    # берем только те синглтоны, которые относятся к номинативным или прономинальным группам.\n",
        "    elif X_predicted[i] == 0.0 and test.iloc[:,22:23].iloc[[i]].values[0][0] in (2.0, 3.0):\n",
        "      if X_predicted[i] == y_test[i]:\n",
        "        tn.append(i)\n",
        "      else:\n",
        "        fn.append(i)\n",
        "  try:\n",
        "    P = len(tp)/(len(tp) + len(fp))\n",
        "  except ZeroDivisionError:\n",
        "    P = 0\n",
        "  try:\n",
        "    R = len(tp)/(len(tp) + len(fn))\n",
        "  except ZeroDivisionError:\n",
        "    R = 0\n",
        "  try:\n",
        "    F = 2*P*R/(P+R)\n",
        "  except ZeroDivisionError:\n",
        "    F = 0\n",
        "\n",
        "  print(len(tp), ' true positive')\n",
        "  print(len(fp), ' false positive')\n",
        "  print(len(tn), ' true negative')\n",
        "  print(len(fn), ' false negative')\n",
        "  print('---------')\n",
        "  print(P,' presicion')\n",
        "  print(R, ' recall')\n",
        "  print(F, ' f-score')\n",
        "\n"
      ],
      "execution_count": 1431,
      "outputs": []
    },
    {
      "cell_type": "code",
      "metadata": {
        "id": "q0ss_ZBr73-y"
      },
      "source": [
        "pred = clf.predict(X_test)\n",
        "pred_randf = randf_clf.predict(X_test)\n",
        "pred_entropy = clf_entropy.predict(X_test)\n",
        "pred_regr = regr.predict(X_test)\n",
        "pred_svm = svm_clf.predict(X_test)\n",
        "pred_knn = knn_clf.predict(X_test)\n",
        "# naive_pred = naive_clf.predict(X_test)"
      ],
      "execution_count": 1432,
      "outputs": []
    },
    {
      "cell_type": "code",
      "metadata": {
        "id": "SI2hsUJbdK4Q"
      },
      "source": [
        "# my_eval(list(naive_pred), list(y_test))"
      ],
      "execution_count": 1433,
      "outputs": []
    },
    {
      "cell_type": "code",
      "metadata": {
        "colab": {
          "base_uri": "https://localhost:8080/"
        },
        "id": "iJeUENfIcdNY",
        "outputId": "69035aaa-6fdf-4fa1-b84f-47543b1a2a25"
      },
      "source": [
        "my_eval(list(pred_knn), list(y_test))"
      ],
      "execution_count": 1434,
      "outputs": [
        {
          "output_type": "stream",
          "text": [
            "17  true positive\n",
            "17  false positive\n",
            "22  true negative\n",
            "2  false negative\n",
            "---------\n",
            "0.5  presicion\n",
            "0.8947368421052632  recall\n",
            "0.6415094339622641  f-score\n"
          ],
          "name": "stdout"
        }
      ]
    },
    {
      "cell_type": "code",
      "metadata": {
        "colab": {
          "base_uri": "https://localhost:8080/"
        },
        "id": "dVEiXSg9DF3Z",
        "outputId": "d42abff6-42df-4668-9057-9c42a29a3f6c"
      },
      "source": [
        "my_eval(list(pred_entropy), list(y_test))"
      ],
      "execution_count": 1435,
      "outputs": [
        {
          "output_type": "stream",
          "text": [
            "14  true positive\n",
            "20  false positive\n",
            "23  true negative\n",
            "1  false negative\n",
            "---------\n",
            "0.4117647058823529  presicion\n",
            "0.9333333333333333  recall\n",
            "0.5714285714285713  f-score\n"
          ],
          "name": "stdout"
        }
      ]
    },
    {
      "cell_type": "code",
      "metadata": {
        "id": "ZUoq9gZXyout",
        "colab": {
          "base_uri": "https://localhost:8080/"
        },
        "outputId": "d28a7234-7ca9-4c86-b97b-b2f7718121b3"
      },
      "source": [
        "my_eval(list(pred), list(y_test))"
      ],
      "execution_count": 1436,
      "outputs": [
        {
          "output_type": "stream",
          "text": [
            "12  true positive\n",
            "22  false positive\n",
            "23  true negative\n",
            "1  false negative\n",
            "---------\n",
            "0.35294117647058826  presicion\n",
            "0.9230769230769231  recall\n",
            "0.5106382978723405  f-score\n"
          ],
          "name": "stdout"
        }
      ]
    },
    {
      "cell_type": "code",
      "metadata": {
        "colab": {
          "base_uri": "https://localhost:8080/"
        },
        "id": "Zg4pmJBnDFtw",
        "outputId": "f6806f95-ac6c-4324-802d-be8ce57eb44f"
      },
      "source": [
        "my_eval(list(pred_randf), list(y_test))"
      ],
      "execution_count": 1437,
      "outputs": [
        {
          "output_type": "stream",
          "text": [
            "8  true positive\n",
            "26  false positive\n",
            "23  true negative\n",
            "1  false negative\n",
            "---------\n",
            "0.23529411764705882  presicion\n",
            "0.8888888888888888  recall\n",
            "0.3720930232558139  f-score\n"
          ],
          "name": "stdout"
        }
      ]
    },
    {
      "cell_type": "code",
      "metadata": {
        "colab": {
          "base_uri": "https://localhost:8080/"
        },
        "id": "aGTYbbgLEQxy",
        "outputId": "e9553621-8040-4bc7-ca1c-a4de4dbcd017"
      },
      "source": [
        "my_eval(list(pred_regr), list(y_test))"
      ],
      "execution_count": 1438,
      "outputs": [
        {
          "output_type": "stream",
          "text": [
            "2  true positive\n",
            "56  false positive\n",
            "0  true negative\n",
            "0  false negative\n",
            "---------\n",
            "0.034482758620689655  presicion\n",
            "1.0  recall\n",
            "0.06666666666666667  f-score\n"
          ],
          "name": "stdout"
        }
      ]
    },
    {
      "cell_type": "code",
      "metadata": {
        "colab": {
          "base_uri": "https://localhost:8080/"
        },
        "id": "g7isaHkricHw",
        "outputId": "445d812b-2720-48b1-94b5-59b9e576e6b8"
      },
      "source": [
        "my_eval(list(pred_svm), list(y_test))"
      ],
      "execution_count": 1439,
      "outputs": [
        {
          "output_type": "stream",
          "text": [
            "0  true positive\n",
            "12  false positive\n",
            "23  true negative\n",
            "23  false negative\n",
            "---------\n",
            "0.0  presicion\n",
            "0.0  recall\n",
            "0  f-score\n"
          ],
          "name": "stdout"
        }
      ]
    },
    {
      "cell_type": "code",
      "metadata": {
        "id": "lsoMYdF2CswH"
      },
      "source": [
        ""
      ],
      "execution_count": 1439,
      "outputs": []
    }
  ]
}