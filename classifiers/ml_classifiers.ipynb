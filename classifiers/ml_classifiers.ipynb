{
  "nbformat": 4,
  "nbformat_minor": 0,
  "metadata": {
    "colab": {
      "name": "Untitled63.ipynb",
      "provenance": [],
      "authorship_tag": "ABX9TyOq1rEY9ChWFg6CtGLdmMsV",
      "include_colab_link": true
    },
    "kernelspec": {
      "name": "python3",
      "display_name": "Python 3"
    },
    "language_info": {
      "name": "python"
    }
  },
  "cells": [
    {
      "cell_type": "markdown",
      "metadata": {
        "id": "view-in-github",
        "colab_type": "text"
      },
      "source": [
        "<a href=\"https://colab.research.google.com/github/DmitryKutsev/cross-document_coreference/blob/main/classifiers/ml_classifiers.ipynb\" target=\"_parent\"><img src=\"https://colab.research.google.com/assets/colab-badge.svg\" alt=\"Open In Colab\"/></a>"
      ]
    },
    {
      "cell_type": "markdown",
      "metadata": {
        "id": "MR2ASbW_mPHn"
      },
      "source": [
        "## **Импорт**"
      ]
    },
    {
      "cell_type": "code",
      "metadata": {
        "id": "jRqz8PB_SGaz"
      },
      "source": [
        "import pandas as pd\n",
        "import matplotlib.pyplot as plt\n",
        "import seaborn as sns\n",
        "%matplotlib inline\n"
      ],
      "execution_count": 1233,
      "outputs": []
    },
    {
      "cell_type": "code",
      "metadata": {
        "id": "OFLx7egYS2qN"
      },
      "source": [
        "from IPython.display import SVG, display, HTML"
      ],
      "execution_count": 1234,
      "outputs": []
    },
    {
      "cell_type": "code",
      "metadata": {
        "id": "5Lhnxf_FoRVA",
        "colab": {
          "base_uri": "https://localhost:8080/"
        },
        "outputId": "7065af7d-b000-4340-848e-d501b1ad2c19"
      },
      "source": [
        "from google.colab import drive\n",
        "drive.mount('./content', force_remount=False)"
      ],
      "execution_count": 1235,
      "outputs": [
        {
          "output_type": "stream",
          "text": [
            "Drive already mounted at ./content; to attempt to forcibly remount, call drive.mount(\"./content\", force_remount=True).\n"
          ],
          "name": "stdout"
        }
      ]
    },
    {
      "cell_type": "code",
      "metadata": {
        "id": "p8tYiCNJzF46"
      },
      "source": [
        "from graphviz import Source\n",
        "from sklearn import tree, svm, linear_model\n",
        "from sklearn.metrics import confusion_matrix, f1_score, accuracy_score\n",
        "from sklearn.ensemble import RandomForestClassifier\n",
        "from sklearn.neighbors import KNeighborsClassifier\n"
      ],
      "execution_count": 1236,
      "outputs": []
    },
    {
      "cell_type": "code",
      "metadata": {
        "id": "J_7xbdMuo_RW",
        "colab": {
          "base_uri": "https://localhost:8080/"
        },
        "outputId": "1a7d1f16-752a-4121-8d30-851bc4d75979"
      },
      "source": [
        "!ls\n",
        "import os\n",
        "for i in os.listdir('content/'):\n",
        "  print(i)"
      ],
      "execution_count": 1237,
      "outputs": [
        {
          "output_type": "stream",
          "text": [
            "content  new_anns60k.csv  new_anns60k.csv.1  new_df_anns60k.csv  sample_data\n",
            ".file-revisions-by-id\n",
            ".shortcut-targets-by-id\n",
            "MyDrive\n",
            ".Trash\n"
          ],
          "name": "stdout"
        }
      ]
    },
    {
      "cell_type": "code",
      "metadata": {
        "id": "L7z8djaJTABE"
      },
      "source": [
        "import csv\n",
        "import re\n",
        "from google.colab import files\n",
        "from sklearn.model_selection import train_test_split\n",
        "from sklearn.metrics.pairwise import cosine_similarity"
      ],
      "execution_count": 1238,
      "outputs": []
    },
    {
      "cell_type": "markdown",
      "metadata": {
        "id": "UYfVvz6CmVMq"
      },
      "source": [
        "## **Обработка данных**"
      ]
    },
    {
      "cell_type": "code",
      "metadata": {
        "id": "xk_hRf26TjUD",
        "colab": {
          "base_uri": "https://localhost:8080/"
        },
        "outputId": "f73f1358-0ef6-4745-872f-838abe40c29b"
      },
      "source": [
        "!wget https://raw.githubusercontent.com/DmitryKutsev/cross-document_coreference/main/data/coref_df_anns60k.csv\n",
        "!wget https://raw.githubusercontent.com/DmitryKutsev/cross-document_coreference/main/data/new_anns60k.csv"
      ],
      "execution_count": 1239,
      "outputs": [
        {
          "output_type": "stream",
          "text": [
            "--2021-05-23 01:07:37--  https://raw.githubusercontent.com/DmitryKutsev/cross-document_coreference/main/data/coref_df_anns60k.csv\n",
            "Resolving raw.githubusercontent.com (raw.githubusercontent.com)... 185.199.111.133, 185.199.110.133, 185.199.108.133, ...\n",
            "Connecting to raw.githubusercontent.com (raw.githubusercontent.com)|185.199.111.133|:443... connected.\n",
            "HTTP request sent, awaiting response... 404 Not Found\n",
            "2021-05-23 01:07:37 ERROR 404: Not Found.\n",
            "\n",
            "--2021-05-23 01:07:37--  https://raw.githubusercontent.com/DmitryKutsev/cross-document_coreference/main/data/new_anns60k.csv\n",
            "Resolving raw.githubusercontent.com (raw.githubusercontent.com)... 185.199.108.133, 185.199.109.133, 185.199.110.133, ...\n",
            "Connecting to raw.githubusercontent.com (raw.githubusercontent.com)|185.199.108.133|:443... connected.\n",
            "HTTP request sent, awaiting response... 200 OK\n",
            "Length: 1192455 (1.1M) [text/plain]\n",
            "Saving to: ‘new_anns60k.csv.2’\n",
            "\n",
            "new_anns60k.csv.2   100%[===================>]   1.14M  --.-KB/s    in 0.07s   \n",
            "\n",
            "2021-05-23 01:07:38 (16.7 MB/s) - ‘new_anns60k.csv.2’ saved [1192455/1192455]\n",
            "\n"
          ],
          "name": "stdout"
        }
      ]
    },
    {
      "cell_type": "markdown",
      "metadata": {
        "id": "cVHJN9DsrmkH"
      },
      "source": [
        "Обработка битых символов, чтобы pandas мог открыть таблицу."
      ]
    },
    {
      "cell_type": "code",
      "metadata": {
        "id": "nKgKz0h9SPOK"
      },
      "source": [
        "# with open('coref_df_anns60k.csv') as csvfile:\n",
        "with open('new_anns60k.csv') as csvfile:\n",
        "  reader = csv.reader(csvfile, delimiter='\\t')\n",
        "  with open('new_df_anns60k.csv', 'w') as write_file:\n",
        "    writer = csv.writer(write_file, delimiter='\\t')\n",
        "    c = 0\n",
        "    for row in reader:\n",
        "      new_row = [i if i and not re.match(r'\\t+?', i) else 0 for i in row]\n",
        "      if len(new_row) > 9:\n",
        "        new_row = new_row[:9]\n",
        "      writer.writerow(new_row)\n"
      ],
      "execution_count": 1240,
      "outputs": []
    },
    {
      "cell_type": "code",
      "metadata": {
        "id": "fpbwAAb6sUnL"
      },
      "source": [
        "# anns_df = pd.read_csv('coref_df_anns60k.csv', delimiter='\\t', error_bad_lines=False, header=None)\n",
        "anns_df = pd.read_csv('new_df_anns60k.csv', delimiter='\\t')"
      ],
      "execution_count": 1241,
      "outputs": []
    },
    {
      "cell_type": "markdown",
      "metadata": {
        "id": "fBFrdEdsrq0u"
      },
      "source": [
        "Проверим данные"
      ]
    },
    {
      "cell_type": "code",
      "metadata": {
        "id": "2CHdd-PNscSW",
        "colab": {
          "base_uri": "https://localhost:8080/",
          "height": 407
        },
        "outputId": "1fa6c128-f927-4e75-88f3-1f6bbc90ce6a"
      },
      "source": [
        "anns_df"
      ],
      "execution_count": 1242,
      "outputs": [
        {
          "output_type": "execute_result",
          "data": {
            "text/html": [
              "<div>\n",
              "<style scoped>\n",
              "    .dataframe tbody tr th:only-of-type {\n",
              "        vertical-align: middle;\n",
              "    }\n",
              "\n",
              "    .dataframe tbody tr th {\n",
              "        vertical-align: top;\n",
              "    }\n",
              "\n",
              "    .dataframe thead th {\n",
              "        text-align: right;\n",
              "    }\n",
              "</style>\n",
              "<table border=\"1\" class=\"dataframe\">\n",
              "  <thead>\n",
              "    <tr style=\"text-align: right;\">\n",
              "      <th></th>\n",
              "      <th>TOKEN</th>\n",
              "      <th>TOPIC_NUM</th>\n",
              "      <th>POST_NUM</th>\n",
              "      <th>SENT_NUM</th>\n",
              "      <th>TOKEN_NUM</th>\n",
              "      <th>IS_ANSWER</th>\n",
              "      <th>HEAD</th>\n",
              "      <th>NER</th>\n",
              "      <th>COREFERENCE_CLUSTER</th>\n",
              "    </tr>\n",
              "  </thead>\n",
              "  <tbody>\n",
              "    <tr>\n",
              "      <th>0</th>\n",
              "      <td>обсуждаем</td>\n",
              "      <td>1.0</td>\n",
              "      <td>0.0</td>\n",
              "      <td>0.0</td>\n",
              "      <td>0.0</td>\n",
              "      <td>0.0</td>\n",
              "      <td>обсуждаем</td>\n",
              "      <td>0.0</td>\n",
              "      <td>0.0</td>\n",
              "    </tr>\n",
              "    <tr>\n",
              "      <th>1</th>\n",
              "      <td>препарат</td>\n",
              "      <td>1.0</td>\n",
              "      <td>0.0</td>\n",
              "      <td>0.0</td>\n",
              "      <td>1.0</td>\n",
              "      <td>0.0</td>\n",
              "      <td>обсуждаем</td>\n",
              "      <td>0.0</td>\n",
              "      <td>0.0</td>\n",
              "    </tr>\n",
              "    <tr>\n",
              "      <th>2</th>\n",
              "      <td>рисперидон</td>\n",
              "      <td>1.0</td>\n",
              "      <td>0.0</td>\n",
              "      <td>0.0</td>\n",
              "      <td>2.0</td>\n",
              "      <td>0.0</td>\n",
              "      <td>препарат</td>\n",
              "      <td>1.0</td>\n",
              "      <td>2.0</td>\n",
              "    </tr>\n",
              "    <tr>\n",
              "      <th>3</th>\n",
              "      <td>рисполепт</td>\n",
              "      <td>1.0</td>\n",
              "      <td>0.0</td>\n",
              "      <td>0.0</td>\n",
              "      <td>3.0</td>\n",
              "      <td>0.0</td>\n",
              "      <td>рисперидон</td>\n",
              "      <td>1.0</td>\n",
              "      <td>3.0</td>\n",
              "    </tr>\n",
              "    <tr>\n",
              "      <th>4</th>\n",
              "      <td>сперидан</td>\n",
              "      <td>1.0</td>\n",
              "      <td>0.0</td>\n",
              "      <td>0.0</td>\n",
              "      <td>4.0</td>\n",
              "      <td>0.0</td>\n",
              "      <td>рисполепт</td>\n",
              "      <td>1.0</td>\n",
              "      <td>4.0</td>\n",
              "    </tr>\n",
              "    <tr>\n",
              "      <th>...</th>\n",
              "      <td>...</td>\n",
              "      <td>...</td>\n",
              "      <td>...</td>\n",
              "      <td>...</td>\n",
              "      <td>...</td>\n",
              "      <td>...</td>\n",
              "      <td>...</td>\n",
              "      <td>...</td>\n",
              "      <td>...</td>\n",
              "    </tr>\n",
              "    <tr>\n",
              "      <th>15405</th>\n",
              "      <td>0</td>\n",
              "      <td>0.0</td>\n",
              "      <td>0.0</td>\n",
              "      <td>0.0</td>\n",
              "      <td>NaN</td>\n",
              "      <td>NaN</td>\n",
              "      <td>NaN</td>\n",
              "      <td>NaN</td>\n",
              "      <td>NaN</td>\n",
              "    </tr>\n",
              "    <tr>\n",
              "      <th>15406</th>\n",
              "      <td>0</td>\n",
              "      <td>0.0</td>\n",
              "      <td>0.0</td>\n",
              "      <td>0.0</td>\n",
              "      <td>NaN</td>\n",
              "      <td>NaN</td>\n",
              "      <td>NaN</td>\n",
              "      <td>NaN</td>\n",
              "      <td>NaN</td>\n",
              "    </tr>\n",
              "    <tr>\n",
              "      <th>15407</th>\n",
              "      <td>0</td>\n",
              "      <td>0.0</td>\n",
              "      <td>0.0</td>\n",
              "      <td>0.0</td>\n",
              "      <td>NaN</td>\n",
              "      <td>NaN</td>\n",
              "      <td>NaN</td>\n",
              "      <td>NaN</td>\n",
              "      <td>NaN</td>\n",
              "    </tr>\n",
              "    <tr>\n",
              "      <th>15408</th>\n",
              "      <td>0</td>\n",
              "      <td>0.0</td>\n",
              "      <td>0.0</td>\n",
              "      <td>0.0</td>\n",
              "      <td>NaN</td>\n",
              "      <td>NaN</td>\n",
              "      <td>NaN</td>\n",
              "      <td>NaN</td>\n",
              "      <td>NaN</td>\n",
              "    </tr>\n",
              "    <tr>\n",
              "      <th>15409</th>\n",
              "      <td>0</td>\n",
              "      <td>NaN</td>\n",
              "      <td>NaN</td>\n",
              "      <td>NaN</td>\n",
              "      <td>NaN</td>\n",
              "      <td>NaN</td>\n",
              "      <td>NaN</td>\n",
              "      <td>NaN</td>\n",
              "      <td>NaN</td>\n",
              "    </tr>\n",
              "  </tbody>\n",
              "</table>\n",
              "<p>15410 rows × 9 columns</p>\n",
              "</div>"
            ],
            "text/plain": [
              "            TOKEN  TOPIC_NUM  POST_NUM  ...        HEAD  NER  COREFERENCE_CLUSTER\n",
              "0       обсуждаем        1.0       0.0  ...   обсуждаем  0.0                  0.0\n",
              "1        препарат        1.0       0.0  ...   обсуждаем  0.0                  0.0\n",
              "2      рисперидон        1.0       0.0  ...    препарат  1.0                  2.0\n",
              "3       рисполепт        1.0       0.0  ...  рисперидон  1.0                  3.0\n",
              "4        сперидан        1.0       0.0  ...   рисполепт  1.0                  4.0\n",
              "...           ...        ...       ...  ...         ...  ...                  ...\n",
              "15405           0        0.0       0.0  ...         NaN  NaN                  NaN\n",
              "15406           0        0.0       0.0  ...         NaN  NaN                  NaN\n",
              "15407           0        0.0       0.0  ...         NaN  NaN                  NaN\n",
              "15408           0        0.0       0.0  ...         NaN  NaN                  NaN\n",
              "15409           0        NaN       NaN  ...         NaN  NaN                  NaN\n",
              "\n",
              "[15410 rows x 9 columns]"
            ]
          },
          "metadata": {
            "tags": []
          },
          "execution_count": 1242
        }
      ]
    },
    {
      "cell_type": "code",
      "metadata": {
        "id": "wi5vLFpvyL14"
      },
      "source": [
        "import numpy as np"
      ],
      "execution_count": 1243,
      "outputs": []
    },
    {
      "cell_type": "code",
      "metadata": {
        "id": "zOvIthFwWaOH",
        "colab": {
          "base_uri": "https://localhost:8080/",
          "height": 963
        },
        "outputId": "236a15b8-40d2-4b1c-88e1-274417d3a9db"
      },
      "source": [
        "cor_df = pd.read_csv('content/MyDrive/coref_fasttext60k.csv', delimiter=' ')\n",
        "cor_df"
      ],
      "execution_count": 1244,
      "outputs": [
        {
          "output_type": "execute_result",
          "data": {
            "text/html": [
              "<div>\n",
              "<style scoped>\n",
              "    .dataframe tbody tr th:only-of-type {\n",
              "        vertical-align: middle;\n",
              "    }\n",
              "\n",
              "    .dataframe tbody tr th {\n",
              "        vertical-align: top;\n",
              "    }\n",
              "\n",
              "    .dataframe thead th {\n",
              "        text-align: right;\n",
              "    }\n",
              "</style>\n",
              "<table border=\"1\" class=\"dataframe\">\n",
              "  <thead>\n",
              "    <tr style=\"text-align: right;\">\n",
              "      <th></th>\n",
              "      <th>TOKEN</th>\n",
              "      <th>TOKEN_VECT</th>\n",
              "      <th>IS_ANSWER</th>\n",
              "      <th>TOPIC_NUM</th>\n",
              "      <th>POST_NUM</th>\n",
              "      <th>SENT_NUM</th>\n",
              "      <th>TOKEN_NUM</th>\n",
              "      <th>ANIMACY</th>\n",
              "      <th>CASE</th>\n",
              "      <th>GENDER</th>\n",
              "      <th>PERSON</th>\n",
              "      <th>POS</th>\n",
              "      <th>DEPENDENCY</th>\n",
              "      <th>HEAD</th>\n",
              "      <th>HEAD_ANIMACY</th>\n",
              "      <th>HEAD_CASE</th>\n",
              "      <th>HEAD_GENDER</th>\n",
              "      <th>HEAD_POS</th>\n",
              "      <th>HEAD_VECT</th>\n",
              "      <th>SENT_VECT</th>\n",
              "      <th>HEAD_CHILDS_VECT</th>\n",
              "      <th>NER</th>\n",
              "      <th>COREFERENCE_CLUSTER</th>\n",
              "    </tr>\n",
              "  </thead>\n",
              "  <tbody>\n",
              "    <tr>\n",
              "      <th>0</th>\n",
              "      <td>обсуждаем</td>\n",
              "      <td>[-2.08233938e-01  9.96180058e-01 -2.79894114e-...</td>\n",
              "      <td>0</td>\n",
              "      <td>1</td>\n",
              "      <td>0</td>\n",
              "      <td>0</td>\n",
              "      <td>0</td>\n",
              "      <td>NaN</td>\n",
              "      <td>NaN</td>\n",
              "      <td>NaN</td>\n",
              "      <td>1per</td>\n",
              "      <td>VERB</td>\n",
              "      <td>ROOT</td>\n",
              "      <td>обсуждаем</td>\n",
              "      <td>NaN</td>\n",
              "      <td>NaN</td>\n",
              "      <td>NaN</td>\n",
              "      <td>VERB</td>\n",
              "      <td>[-2.08233938e-01  9.96180058e-01 -2.79894114e-...</td>\n",
              "      <td>[ 0.01863711  0.2306802   0.14600733 -0.019119...</td>\n",
              "      <td>[-0.17725945  0.94834274  0.90867615  0.850609...</td>\n",
              "      <td>0</td>\n",
              "      <td>0</td>\n",
              "    </tr>\n",
              "    <tr>\n",
              "      <th>1</th>\n",
              "      <td>препарат</td>\n",
              "      <td>[-0.17725945  0.94834274  0.90867615  0.850609...</td>\n",
              "      <td>0</td>\n",
              "      <td>1</td>\n",
              "      <td>0</td>\n",
              "      <td>0</td>\n",
              "      <td>1</td>\n",
              "      <td>inan</td>\n",
              "      <td>nomn</td>\n",
              "      <td>masc</td>\n",
              "      <td>NaN</td>\n",
              "      <td>NOUN</td>\n",
              "      <td>obj</td>\n",
              "      <td>обсуждаем</td>\n",
              "      <td>NaN</td>\n",
              "      <td>NaN</td>\n",
              "      <td>NaN</td>\n",
              "      <td>VERB</td>\n",
              "      <td>[-2.08233938e-01  9.96180058e-01 -2.79894114e-...</td>\n",
              "      <td>[ 0.01863711  0.2306802   0.14600733 -0.019119...</td>\n",
              "      <td>[-0.17725945  0.94834274  0.90867615  0.850609...</td>\n",
              "      <td>0</td>\n",
              "      <td>0</td>\n",
              "    </tr>\n",
              "    <tr>\n",
              "      <th>2</th>\n",
              "      <td>рисперидон</td>\n",
              "      <td>[ 0.15259643  1.0673474   0.84192747 -0.077515...</td>\n",
              "      <td>0</td>\n",
              "      <td>1</td>\n",
              "      <td>0</td>\n",
              "      <td>0</td>\n",
              "      <td>2</td>\n",
              "      <td>anim</td>\n",
              "      <td>nomn</td>\n",
              "      <td>masc</td>\n",
              "      <td>NaN</td>\n",
              "      <td>NOUN</td>\n",
              "      <td>appos</td>\n",
              "      <td>препарат</td>\n",
              "      <td>inan</td>\n",
              "      <td>nomn</td>\n",
              "      <td>masc</td>\n",
              "      <td>NOUN</td>\n",
              "      <td>[-0.17725945  0.94834274  0.90867615  0.850609...</td>\n",
              "      <td>[ 0.01863711  0.2306802   0.14600733 -0.019119...</td>\n",
              "      <td>[ 0.15259643  1.0673474   0.84192747 -0.077515...</td>\n",
              "      <td>0</td>\n",
              "      <td>0</td>\n",
              "    </tr>\n",
              "    <tr>\n",
              "      <th>3</th>\n",
              "      <td>рисполепт</td>\n",
              "      <td>[ 1.2426247e-02  1.0408522e+00  6.9133490e-01 ...</td>\n",
              "      <td>0</td>\n",
              "      <td>1</td>\n",
              "      <td>0</td>\n",
              "      <td>0</td>\n",
              "      <td>3</td>\n",
              "      <td>inan</td>\n",
              "      <td>gent</td>\n",
              "      <td>femn</td>\n",
              "      <td>NaN</td>\n",
              "      <td>NOUN</td>\n",
              "      <td>parataxis</td>\n",
              "      <td>рисперидон</td>\n",
              "      <td>anim</td>\n",
              "      <td>nomn</td>\n",
              "      <td>masc</td>\n",
              "      <td>NOUN</td>\n",
              "      <td>[ 0.15259643  1.0673474   0.84192747 -0.077515...</td>\n",
              "      <td>[ 0.01863711  0.2306802   0.14600733 -0.019119...</td>\n",
              "      <td>[ 1.2426247e-02  1.0408522e+00  6.9133490e-01 ...</td>\n",
              "      <td>0</td>\n",
              "      <td>0</td>\n",
              "    </tr>\n",
              "    <tr>\n",
              "      <th>4</th>\n",
              "      <td>сперидан</td>\n",
              "      <td>[ 0.08634768  0.893356    0.55127096 -0.065075...</td>\n",
              "      <td>0</td>\n",
              "      <td>1</td>\n",
              "      <td>0</td>\n",
              "      <td>0</td>\n",
              "      <td>4</td>\n",
              "      <td>NaN</td>\n",
              "      <td>NaN</td>\n",
              "      <td>masc</td>\n",
              "      <td>NaN</td>\n",
              "      <td>PRTS</td>\n",
              "      <td>conj</td>\n",
              "      <td>рисполепт</td>\n",
              "      <td>inan</td>\n",
              "      <td>gent</td>\n",
              "      <td>femn</td>\n",
              "      <td>NOUN</td>\n",
              "      <td>[ 1.2426247e-02  1.0408522e+00  6.9133490e-01 ...</td>\n",
              "      <td>[ 0.01863711  0.2306802   0.14600733 -0.019119...</td>\n",
              "      <td>[ 0.02878256  0.29778534  0.18375699 -0.021691...</td>\n",
              "      <td>0</td>\n",
              "      <td>0</td>\n",
              "    </tr>\n",
              "    <tr>\n",
              "      <th>...</th>\n",
              "      <td>...</td>\n",
              "      <td>...</td>\n",
              "      <td>...</td>\n",
              "      <td>...</td>\n",
              "      <td>...</td>\n",
              "      <td>...</td>\n",
              "      <td>...</td>\n",
              "      <td>...</td>\n",
              "      <td>...</td>\n",
              "      <td>...</td>\n",
              "      <td>...</td>\n",
              "      <td>...</td>\n",
              "      <td>...</td>\n",
              "      <td>...</td>\n",
              "      <td>...</td>\n",
              "      <td>...</td>\n",
              "      <td>...</td>\n",
              "      <td>...</td>\n",
              "      <td>...</td>\n",
              "      <td>...</td>\n",
              "      <td>...</td>\n",
              "      <td>...</td>\n",
              "      <td>...</td>\n",
              "    </tr>\n",
              "    <tr>\n",
              "      <th>26492</th>\n",
              "      <td>и</td>\n",
              "      <td>[ 0.5048941   0.81449467  0.29763442  0.603937...</td>\n",
              "      <td>0</td>\n",
              "      <td>22</td>\n",
              "      <td>68</td>\n",
              "      <td>0</td>\n",
              "      <td>7</td>\n",
              "      <td>NaN</td>\n",
              "      <td>NaN</td>\n",
              "      <td>NaN</td>\n",
              "      <td>NaN</td>\n",
              "      <td>CONJ</td>\n",
              "      <td>cc</td>\n",
              "      <td>пошлины</td>\n",
              "      <td>inan</td>\n",
              "      <td>nomn</td>\n",
              "      <td>femn</td>\n",
              "      <td>NOUN</td>\n",
              "      <td>[ 0.7365944  -0.48505062 -0.00257558  0.168963...</td>\n",
              "      <td>[ 1.00772209e-01  6.29534647e-02 -3.53814550e-...</td>\n",
              "      <td>[ 0.41243815  0.190811   -0.11933009  0.042429...</td>\n",
              "      <td>0</td>\n",
              "      <td>0</td>\n",
              "    </tr>\n",
              "    <tr>\n",
              "      <th>26493</th>\n",
              "      <td>таможенные</td>\n",
              "      <td>[ 0.73242044 -0.24206167 -0.6556247  -0.476650...</td>\n",
              "      <td>0</td>\n",
              "      <td>22</td>\n",
              "      <td>68</td>\n",
              "      <td>0</td>\n",
              "      <td>8</td>\n",
              "      <td>NaN</td>\n",
              "      <td>nomn</td>\n",
              "      <td>NaN</td>\n",
              "      <td>NaN</td>\n",
              "      <td>ADJF</td>\n",
              "      <td>amod</td>\n",
              "      <td>пошлины</td>\n",
              "      <td>inan</td>\n",
              "      <td>nomn</td>\n",
              "      <td>femn</td>\n",
              "      <td>NOUN</td>\n",
              "      <td>[ 0.7365944  -0.48505062 -0.00257558  0.168963...</td>\n",
              "      <td>[ 1.00772209e-01  6.29534647e-02 -3.53814550e-...</td>\n",
              "      <td>[ 0.41243815  0.190811   -0.11933009  0.042429...</td>\n",
              "      <td>0</td>\n",
              "      <td>0</td>\n",
              "    </tr>\n",
              "    <tr>\n",
              "      <th>26494</th>\n",
              "      <td>пошлины</td>\n",
              "      <td>[ 0.7365944  -0.48505062 -0.00257558  0.168963...</td>\n",
              "      <td>0</td>\n",
              "      <td>22</td>\n",
              "      <td>68</td>\n",
              "      <td>0</td>\n",
              "      <td>9</td>\n",
              "      <td>inan</td>\n",
              "      <td>nomn</td>\n",
              "      <td>femn</td>\n",
              "      <td>NaN</td>\n",
              "      <td>NOUN</td>\n",
              "      <td>nsubj</td>\n",
              "      <td>есть</td>\n",
              "      <td>NaN</td>\n",
              "      <td>NaN</td>\n",
              "      <td>NaN</td>\n",
              "      <td>INFN</td>\n",
              "      <td>[-0.0050342   0.14796825  0.08416066 -0.776544...</td>\n",
              "      <td>[ 1.00772209e-01  6.29534647e-02 -3.53814550e-...</td>\n",
              "      <td>[ 5.7842094e-01  9.1962010e-02 -1.9555457e-01 ...</td>\n",
              "      <td>0</td>\n",
              "      <td>0</td>\n",
              "    </tr>\n",
              "    <tr>\n",
              "      <th>26495</th>\n",
              "      <td>как</td>\n",
              "      <td>[ 1.0349948e+00  7.3793733e-01 -3.8374668e-01 ...</td>\n",
              "      <td>0</td>\n",
              "      <td>22</td>\n",
              "      <td>68</td>\n",
              "      <td>0</td>\n",
              "      <td>10</td>\n",
              "      <td>NaN</td>\n",
              "      <td>NaN</td>\n",
              "      <td>NaN</td>\n",
              "      <td>NaN</td>\n",
              "      <td>CONJ</td>\n",
              "      <td>advmod</td>\n",
              "      <td>есть</td>\n",
              "      <td>NaN</td>\n",
              "      <td>NaN</td>\n",
              "      <td>NaN</td>\n",
              "      <td>INFN</td>\n",
              "      <td>[-0.0050342   0.14796825  0.08416066 -0.776544...</td>\n",
              "      <td>[ 1.00772209e-01  6.29534647e-02 -3.53814550e-...</td>\n",
              "      <td>[ 5.7842094e-01  9.1962010e-02 -1.9555457e-01 ...</td>\n",
              "      <td>0</td>\n",
              "      <td>0</td>\n",
              "    </tr>\n",
              "    <tr>\n",
              "      <th>26496</th>\n",
              "      <td>светка</td>\n",
              "      <td>[ 0.5079827   0.70259637  0.12796001 -0.312092...</td>\n",
              "      <td>0</td>\n",
              "      <td>22</td>\n",
              "      <td>69</td>\n",
              "      <td>0</td>\n",
              "      <td>0</td>\n",
              "      <td>inan</td>\n",
              "      <td>nomn</td>\n",
              "      <td>femn</td>\n",
              "      <td>NaN</td>\n",
              "      <td>NOUN</td>\n",
              "      <td>ROOT</td>\n",
              "      <td>светка</td>\n",
              "      <td>inan</td>\n",
              "      <td>nomn</td>\n",
              "      <td>femn</td>\n",
              "      <td>NOUN</td>\n",
              "      <td>[ 0.5079827   0.70259637  0.12796001 -0.312092...</td>\n",
              "      <td>[ 0.5079827   0.70259637  0.12796001 -0.312092...</td>\n",
              "      <td>0.0</td>\n",
              "      <td>0</td>\n",
              "      <td>0</td>\n",
              "    </tr>\n",
              "  </tbody>\n",
              "</table>\n",
              "<p>26497 rows × 23 columns</p>\n",
              "</div>"
            ],
            "text/plain": [
              "            TOKEN  ... COREFERENCE_CLUSTER\n",
              "0       обсуждаем  ...                   0\n",
              "1        препарат  ...                   0\n",
              "2      рисперидон  ...                   0\n",
              "3       рисполепт  ...                   0\n",
              "4        сперидан  ...                   0\n",
              "...           ...  ...                 ...\n",
              "26492           и  ...                   0\n",
              "26493  таможенные  ...                   0\n",
              "26494     пошлины  ...                   0\n",
              "26495         как  ...                   0\n",
              "26496      светка  ...                   0\n",
              "\n",
              "[26497 rows x 23 columns]"
            ]
          },
          "metadata": {
            "tags": []
          },
          "execution_count": 1244
        }
      ]
    },
    {
      "cell_type": "code",
      "metadata": {
        "colab": {
          "base_uri": "https://localhost:8080/"
        },
        "id": "Eoht1lnExJHw",
        "outputId": "48a909c6-d26c-44f9-fabd-bd2bd28b3f7d"
      },
      "source": [
        "cosine_similarity([np.matrix(cor_df.TOKEN_VECT[2]).A[0]], [np.matrix(cor_df.TOKEN_VECT[3]).A[0]])[-1][-1]"
      ],
      "execution_count": 1245,
      "outputs": [
        {
          "output_type": "execute_result",
          "data": {
            "text/plain": [
              "0.8436395154681279"
            ]
          },
          "metadata": {
            "tags": []
          },
          "execution_count": 1245
        }
      ]
    },
    {
      "cell_type": "markdown",
      "metadata": {
        "id": "ZcUH3c9e2Zwe"
      },
      "source": [
        "# **VECTORS HANDLING**"
      ]
    },
    {
      "cell_type": "markdown",
      "metadata": {
        "id": "vtuQeIa7qo7B"
      },
      "source": [
        "Изменяем значения векторов предложений, главного слова группы, зависимых слов группы, и токена на косинусную дистанцию с семантической осью.\n",
        "\n",
        "Сначала, изменим строковое представление на массив."
      ]
    },
    {
      "cell_type": "code",
      "metadata": {
        "id": "pSkpdVWPWofo"
      },
      "source": [
        "cor_df.TOKEN_VECT = [np.matrix(i).A[0] for i in cor_df.TOKEN_VECT]\n",
        "cor_df.HEAD_VECT = [np.matrix(i).A[0] for i in cor_df.HEAD_VECT]\n",
        "cor_df.SENT_VECT = [np.matrix(i).A[0] for i in cor_df.SENT_VECT]\n",
        "cor_df.HEAD_CHILDS_VECT = [np.matrix(i).A[0] for i in cor_df.HEAD_CHILDS_VECT]"
      ],
      "execution_count": 1246,
      "outputs": []
    },
    {
      "cell_type": "markdown",
      "metadata": {
        "id": "pHpVo0QmrWzE"
      },
      "source": [
        "Добавим размеченные данные, и посмотрим, что получилось."
      ]
    },
    {
      "cell_type": "code",
      "metadata": {
        "id": "FGLkZXITh3BZ"
      },
      "source": [
        "cor_df['NER'] = anns_df['NER']\n",
        "cor_df['COREFERENCE_CLUSTER'] = anns_df['COREFERENCE_CLUSTER']\n",
        "# cor_df"
      ],
      "execution_count": 1247,
      "outputs": []
    },
    {
      "cell_type": "markdown",
      "metadata": {
        "id": "9EK9eAjjr8Vm"
      },
      "source": [
        "Ограничим датафрейм теми данными, которые были размечены, чтобы была возможность провести оценку системы."
      ]
    },
    {
      "cell_type": "code",
      "metadata": {
        "id": "8zzHN3oQjNoC"
      },
      "source": [
        "df = cor_df.iloc[:15000,:]"
      ],
      "execution_count": 1248,
      "outputs": []
    },
    {
      "cell_type": "code",
      "metadata": {
        "colab": {
          "base_uri": "https://localhost:8080/",
          "height": 945
        },
        "id": "K-oA3ghDGz5-",
        "outputId": "c94a2790-51c8-4b96-e8c9-550e4ca6e627"
      },
      "source": [
        "df"
      ],
      "execution_count": 1249,
      "outputs": [
        {
          "output_type": "execute_result",
          "data": {
            "text/html": [
              "<div>\n",
              "<style scoped>\n",
              "    .dataframe tbody tr th:only-of-type {\n",
              "        vertical-align: middle;\n",
              "    }\n",
              "\n",
              "    .dataframe tbody tr th {\n",
              "        vertical-align: top;\n",
              "    }\n",
              "\n",
              "    .dataframe thead th {\n",
              "        text-align: right;\n",
              "    }\n",
              "</style>\n",
              "<table border=\"1\" class=\"dataframe\">\n",
              "  <thead>\n",
              "    <tr style=\"text-align: right;\">\n",
              "      <th></th>\n",
              "      <th>TOKEN</th>\n",
              "      <th>TOKEN_VECT</th>\n",
              "      <th>IS_ANSWER</th>\n",
              "      <th>TOPIC_NUM</th>\n",
              "      <th>POST_NUM</th>\n",
              "      <th>SENT_NUM</th>\n",
              "      <th>TOKEN_NUM</th>\n",
              "      <th>ANIMACY</th>\n",
              "      <th>CASE</th>\n",
              "      <th>GENDER</th>\n",
              "      <th>PERSON</th>\n",
              "      <th>POS</th>\n",
              "      <th>DEPENDENCY</th>\n",
              "      <th>HEAD</th>\n",
              "      <th>HEAD_ANIMACY</th>\n",
              "      <th>HEAD_CASE</th>\n",
              "      <th>HEAD_GENDER</th>\n",
              "      <th>HEAD_POS</th>\n",
              "      <th>HEAD_VECT</th>\n",
              "      <th>SENT_VECT</th>\n",
              "      <th>HEAD_CHILDS_VECT</th>\n",
              "      <th>NER</th>\n",
              "      <th>COREFERENCE_CLUSTER</th>\n",
              "    </tr>\n",
              "  </thead>\n",
              "  <tbody>\n",
              "    <tr>\n",
              "      <th>0</th>\n",
              "      <td>обсуждаем</td>\n",
              "      <td>[-0.208233938, 0.996180058, -0.279894114, -0.9...</td>\n",
              "      <td>0</td>\n",
              "      <td>1</td>\n",
              "      <td>0</td>\n",
              "      <td>0</td>\n",
              "      <td>0</td>\n",
              "      <td>NaN</td>\n",
              "      <td>NaN</td>\n",
              "      <td>NaN</td>\n",
              "      <td>1per</td>\n",
              "      <td>VERB</td>\n",
              "      <td>ROOT</td>\n",
              "      <td>обсуждаем</td>\n",
              "      <td>NaN</td>\n",
              "      <td>NaN</td>\n",
              "      <td>NaN</td>\n",
              "      <td>VERB</td>\n",
              "      <td>[-0.208233938, 0.996180058, -0.279894114, -0.9...</td>\n",
              "      <td>[0.01863711, 0.2306802, 0.14600733, -0.0191193...</td>\n",
              "      <td>[-0.17725945, 0.94834274, 0.90867615, 0.850609...</td>\n",
              "      <td>0.0</td>\n",
              "      <td>0.0</td>\n",
              "    </tr>\n",
              "    <tr>\n",
              "      <th>1</th>\n",
              "      <td>препарат</td>\n",
              "      <td>[-0.17725945, 0.94834274, 0.90867615, 0.850609...</td>\n",
              "      <td>0</td>\n",
              "      <td>1</td>\n",
              "      <td>0</td>\n",
              "      <td>0</td>\n",
              "      <td>1</td>\n",
              "      <td>inan</td>\n",
              "      <td>nomn</td>\n",
              "      <td>masc</td>\n",
              "      <td>NaN</td>\n",
              "      <td>NOUN</td>\n",
              "      <td>obj</td>\n",
              "      <td>обсуждаем</td>\n",
              "      <td>NaN</td>\n",
              "      <td>NaN</td>\n",
              "      <td>NaN</td>\n",
              "      <td>VERB</td>\n",
              "      <td>[-0.208233938, 0.996180058, -0.279894114, -0.9...</td>\n",
              "      <td>[0.01863711, 0.2306802, 0.14600733, -0.0191193...</td>\n",
              "      <td>[-0.17725945, 0.94834274, 0.90867615, 0.850609...</td>\n",
              "      <td>0.0</td>\n",
              "      <td>0.0</td>\n",
              "    </tr>\n",
              "    <tr>\n",
              "      <th>2</th>\n",
              "      <td>рисперидон</td>\n",
              "      <td>[0.15259643, 1.0673474, 0.84192747, -0.0775155...</td>\n",
              "      <td>0</td>\n",
              "      <td>1</td>\n",
              "      <td>0</td>\n",
              "      <td>0</td>\n",
              "      <td>2</td>\n",
              "      <td>anim</td>\n",
              "      <td>nomn</td>\n",
              "      <td>masc</td>\n",
              "      <td>NaN</td>\n",
              "      <td>NOUN</td>\n",
              "      <td>appos</td>\n",
              "      <td>препарат</td>\n",
              "      <td>inan</td>\n",
              "      <td>nomn</td>\n",
              "      <td>masc</td>\n",
              "      <td>NOUN</td>\n",
              "      <td>[-0.17725945, 0.94834274, 0.90867615, 0.850609...</td>\n",
              "      <td>[0.01863711, 0.2306802, 0.14600733, -0.0191193...</td>\n",
              "      <td>[0.15259643, 1.0673474, 0.84192747, -0.0775155...</td>\n",
              "      <td>1.0</td>\n",
              "      <td>2.0</td>\n",
              "    </tr>\n",
              "    <tr>\n",
              "      <th>3</th>\n",
              "      <td>рисполепт</td>\n",
              "      <td>[0.012426247, 1.0408522, 0.6913349, -0.1638528...</td>\n",
              "      <td>0</td>\n",
              "      <td>1</td>\n",
              "      <td>0</td>\n",
              "      <td>0</td>\n",
              "      <td>3</td>\n",
              "      <td>inan</td>\n",
              "      <td>gent</td>\n",
              "      <td>femn</td>\n",
              "      <td>NaN</td>\n",
              "      <td>NOUN</td>\n",
              "      <td>parataxis</td>\n",
              "      <td>рисперидон</td>\n",
              "      <td>anim</td>\n",
              "      <td>nomn</td>\n",
              "      <td>masc</td>\n",
              "      <td>NOUN</td>\n",
              "      <td>[0.15259643, 1.0673474, 0.84192747, -0.0775155...</td>\n",
              "      <td>[0.01863711, 0.2306802, 0.14600733, -0.0191193...</td>\n",
              "      <td>[0.012426247, 1.0408522, 0.6913349, -0.1638528...</td>\n",
              "      <td>1.0</td>\n",
              "      <td>3.0</td>\n",
              "    </tr>\n",
              "    <tr>\n",
              "      <th>4</th>\n",
              "      <td>сперидан</td>\n",
              "      <td>[0.08634768, 0.893356, 0.55127096, -0.06507572...</td>\n",
              "      <td>0</td>\n",
              "      <td>1</td>\n",
              "      <td>0</td>\n",
              "      <td>0</td>\n",
              "      <td>4</td>\n",
              "      <td>NaN</td>\n",
              "      <td>NaN</td>\n",
              "      <td>masc</td>\n",
              "      <td>NaN</td>\n",
              "      <td>PRTS</td>\n",
              "      <td>conj</td>\n",
              "      <td>рисполепт</td>\n",
              "      <td>inan</td>\n",
              "      <td>gent</td>\n",
              "      <td>femn</td>\n",
              "      <td>NOUN</td>\n",
              "      <td>[0.012426247, 1.0408522, 0.6913349, -0.1638528...</td>\n",
              "      <td>[0.01863711, 0.2306802, 0.14600733, -0.0191193...</td>\n",
              "      <td>[0.02878256, 0.29778534, 0.18375699, -0.021691...</td>\n",
              "      <td>1.0</td>\n",
              "      <td>4.0</td>\n",
              "    </tr>\n",
              "    <tr>\n",
              "      <th>...</th>\n",
              "      <td>...</td>\n",
              "      <td>...</td>\n",
              "      <td>...</td>\n",
              "      <td>...</td>\n",
              "      <td>...</td>\n",
              "      <td>...</td>\n",
              "      <td>...</td>\n",
              "      <td>...</td>\n",
              "      <td>...</td>\n",
              "      <td>...</td>\n",
              "      <td>...</td>\n",
              "      <td>...</td>\n",
              "      <td>...</td>\n",
              "      <td>...</td>\n",
              "      <td>...</td>\n",
              "      <td>...</td>\n",
              "      <td>...</td>\n",
              "      <td>...</td>\n",
              "      <td>...</td>\n",
              "      <td>...</td>\n",
              "      <td>...</td>\n",
              "      <td>...</td>\n",
              "      <td>...</td>\n",
              "    </tr>\n",
              "    <tr>\n",
              "      <th>14995</th>\n",
              "      <td>эта</td>\n",
              "      <td>[0.46855617, 0.33405855, 0.19523463, -0.341421...</td>\n",
              "      <td>0</td>\n",
              "      <td>16</td>\n",
              "      <td>3</td>\n",
              "      <td>0</td>\n",
              "      <td>10</td>\n",
              "      <td>NaN</td>\n",
              "      <td>nomn</td>\n",
              "      <td>femn</td>\n",
              "      <td>NaN</td>\n",
              "      <td>ADJF</td>\n",
              "      <td>det</td>\n",
              "      <td>вакцина</td>\n",
              "      <td>inan</td>\n",
              "      <td>nomn</td>\n",
              "      <td>femn</td>\n",
              "      <td>NOUN</td>\n",
              "      <td>[0.3625939, 0.13204741, -0.02575476, -0.517570...</td>\n",
              "      <td>[0.0185163, 0.03019085, 0.00883435, 0.01005786...</td>\n",
              "      <td>[0.46855617, 0.33405855, 0.19523463, -0.341421...</td>\n",
              "      <td>0.0</td>\n",
              "      <td>0.0</td>\n",
              "    </tr>\n",
              "    <tr>\n",
              "      <th>14996</th>\n",
              "      <td>вакцина</td>\n",
              "      <td>[0.3625939, 0.13204741, -0.02575476, -0.517570...</td>\n",
              "      <td>0</td>\n",
              "      <td>16</td>\n",
              "      <td>3</td>\n",
              "      <td>0</td>\n",
              "      <td>11</td>\n",
              "      <td>inan</td>\n",
              "      <td>nomn</td>\n",
              "      <td>femn</td>\n",
              "      <td>NaN</td>\n",
              "      <td>NOUN</td>\n",
              "      <td>nsubj</td>\n",
              "      <td>аукнется</td>\n",
              "      <td>NaN</td>\n",
              "      <td>NaN</td>\n",
              "      <td>NaN</td>\n",
              "      <td>VERB</td>\n",
              "      <td>[0.4076383, 0.26426148, 0.31928974, 0.1378843,...</td>\n",
              "      <td>[0.0185163, 0.03019085, 0.00883435, 0.01005786...</td>\n",
              "      <td>[0.49104294, 0.533049, -0.17000696, 0.3062497,...</td>\n",
              "      <td>0.0</td>\n",
              "      <td>0.0</td>\n",
              "    </tr>\n",
              "    <tr>\n",
              "      <th>14997</th>\n",
              "      <td>аукнется</td>\n",
              "      <td>[0.4076383, 0.26426148, 0.31928974, 0.1378843,...</td>\n",
              "      <td>0</td>\n",
              "      <td>16</td>\n",
              "      <td>3</td>\n",
              "      <td>0</td>\n",
              "      <td>12</td>\n",
              "      <td>NaN</td>\n",
              "      <td>NaN</td>\n",
              "      <td>NaN</td>\n",
              "      <td>3per</td>\n",
              "      <td>VERB</td>\n",
              "      <td>csubj</td>\n",
              "      <td>неизвестно</td>\n",
              "      <td>NaN</td>\n",
              "      <td>NaN</td>\n",
              "      <td>NaN</td>\n",
              "      <td>ADVB</td>\n",
              "      <td>[0.49159753, 0.09829157, 0.20229428, -0.199118...</td>\n",
              "      <td>[0.0185163, 0.03019085, 0.00883435, 0.01005786...</td>\n",
              "      <td>[0.22764659, 0.2621964, 0.24174161, 0.01494996...</td>\n",
              "      <td>0.0</td>\n",
              "      <td>0.0</td>\n",
              "    </tr>\n",
              "    <tr>\n",
              "      <th>14998</th>\n",
              "      <td>на</td>\n",
              "      <td>[0.76294684, 0.88684666, 0.41325688, 0.3235328...</td>\n",
              "      <td>0</td>\n",
              "      <td>16</td>\n",
              "      <td>3</td>\n",
              "      <td>0</td>\n",
              "      <td>13</td>\n",
              "      <td>NaN</td>\n",
              "      <td>NaN</td>\n",
              "      <td>NaN</td>\n",
              "      <td>NaN</td>\n",
              "      <td>PREP</td>\n",
              "      <td>case</td>\n",
              "      <td>организме</td>\n",
              "      <td>inan</td>\n",
              "      <td>loct</td>\n",
              "      <td>masc</td>\n",
              "      <td>NOUN</td>\n",
              "      <td>[0.3846327, 0.56424165, 0.09776899, 0.7855562,...</td>\n",
              "      <td>[0.0185163, 0.03019085, 0.00883435, 0.01005786...</td>\n",
              "      <td>[0.76294684, 0.88684666, 0.41325688, 0.3235328...</td>\n",
              "      <td>0.0</td>\n",
              "      <td>0.0</td>\n",
              "    </tr>\n",
              "    <tr>\n",
              "      <th>14999</th>\n",
              "      <td>организме</td>\n",
              "      <td>[0.3846327, 0.56424165, 0.09776899, 0.7855562,...</td>\n",
              "      <td>0</td>\n",
              "      <td>16</td>\n",
              "      <td>3</td>\n",
              "      <td>0</td>\n",
              "      <td>14</td>\n",
              "      <td>inan</td>\n",
              "      <td>loct</td>\n",
              "      <td>masc</td>\n",
              "      <td>NaN</td>\n",
              "      <td>NOUN</td>\n",
              "      <td>obl</td>\n",
              "      <td>аукнется</td>\n",
              "      <td>NaN</td>\n",
              "      <td>NaN</td>\n",
              "      <td>NaN</td>\n",
              "      <td>VERB</td>\n",
              "      <td>[0.4076383, 0.26426148, 0.31928974, 0.1378843,...</td>\n",
              "      <td>[0.0185163, 0.03019085, 0.00883435, 0.01005786...</td>\n",
              "      <td>[0.49104294, 0.533049, -0.17000696, 0.3062497,...</td>\n",
              "      <td>0.0</td>\n",
              "      <td>0.0</td>\n",
              "    </tr>\n",
              "  </tbody>\n",
              "</table>\n",
              "<p>15000 rows × 23 columns</p>\n",
              "</div>"
            ],
            "text/plain": [
              "            TOKEN  ... COREFERENCE_CLUSTER\n",
              "0       обсуждаем  ...                 0.0\n",
              "1        препарат  ...                 0.0\n",
              "2      рисперидон  ...                 2.0\n",
              "3       рисполепт  ...                 3.0\n",
              "4        сперидан  ...                 4.0\n",
              "...           ...  ...                 ...\n",
              "14995         эта  ...                 0.0\n",
              "14996     вакцина  ...                 0.0\n",
              "14997    аукнется  ...                 0.0\n",
              "14998          на  ...                 0.0\n",
              "14999   организме  ...                 0.0\n",
              "\n",
              "[15000 rows x 23 columns]"
            ]
          },
          "metadata": {
            "tags": []
          },
          "execution_count": 1249
        }
      ]
    },
    {
      "cell_type": "markdown",
      "metadata": {
        "id": "Md-DxsOHsLN2"
      },
      "source": [
        "Всего наименований препаратов размечено (это не обязательно антецеденты, любое название препарата)."
      ]
    },
    {
      "cell_type": "code",
      "metadata": {
        "colab": {
          "base_uri": "https://localhost:8080/"
        },
        "id": "ZUxdUD5ZWpku",
        "outputId": "5b56ead1-37dd-49a6-d6f2-8ddef5bed158"
      },
      "source": [
        "len(df.loc[df['NER'] == 1])"
      ],
      "execution_count": 1250,
      "outputs": [
        {
          "output_type": "execute_result",
          "data": {
            "text/plain": [
              "513"
            ]
          },
          "metadata": {
            "tags": []
          },
          "execution_count": 1250
        }
      ]
    },
    {
      "cell_type": "markdown",
      "metadata": {
        "id": "0kDh_Mw0sO8N"
      },
      "source": [
        "Из них местоимений (прономинальные анафоры)."
      ]
    },
    {
      "cell_type": "code",
      "metadata": {
        "colab": {
          "base_uri": "https://localhost:8080/"
        },
        "id": "4Te0h4xrlvUH",
        "outputId": "3aab118c-74bc-4827-aad4-3bfee0bb1b7c"
      },
      "source": [
        "len(df.loc[df['NER'] == 3])"
      ],
      "execution_count": 1251,
      "outputs": [
        {
          "output_type": "execute_result",
          "data": {
            "text/plain": [
              "94"
            ]
          },
          "metadata": {
            "tags": []
          },
          "execution_count": 1251
        }
      ]
    },
    {
      "cell_type": "markdown",
      "metadata": {
        "id": "DfRQXgXqsbC2"
      },
      "source": [
        "И номинативные анафоры существительные, такие как \"препарат\" и \"лекарство\". В основном это они и есть."
      ]
    },
    {
      "cell_type": "code",
      "metadata": {
        "colab": {
          "base_uri": "https://localhost:8080/"
        },
        "id": "M1CiLnyGltqt",
        "outputId": "c8a58002-d7cb-4d03-d634-23101725c2f0"
      },
      "source": [
        "len(df.loc[df['NER'] == 2])"
      ],
      "execution_count": 1252,
      "outputs": [
        {
          "output_type": "execute_result",
          "data": {
            "text/plain": [
              "195"
            ]
          },
          "metadata": {
            "tags": []
          },
          "execution_count": 1252
        }
      ]
    },
    {
      "cell_type": "code",
      "metadata": {
        "colab": {
          "base_uri": "https://localhost:8080/"
        },
        "id": "FB-5d7uAn6Jl",
        "outputId": "226cd08d-a084-4b08-a034-da1d71510560"
      },
      "source": [
        "len(df.loc[df['NER'].isin([1,2,3])])"
      ],
      "execution_count": 1253,
      "outputs": [
        {
          "output_type": "execute_result",
          "data": {
            "text/plain": [
              "802"
            ]
          },
          "metadata": {
            "tags": []
          },
          "execution_count": 1253
        }
      ]
    },
    {
      "cell_type": "code",
      "metadata": {
        "id": "LjPlHQCcmBjv"
      },
      "source": [
        "# df['NER'] = [int(i) for i in df['NER']]\n",
        "# df['COREFERENCE_CLUSTER'] = [int(i) for i in df['COREFERENCE_CLUSTER']]"
      ],
      "execution_count": 1254,
      "outputs": []
    },
    {
      "cell_type": "markdown",
      "metadata": {
        "id": "IHxSn2iAtJW-"
      },
      "source": [
        "Посмотрим на данные."
      ]
    },
    {
      "cell_type": "code",
      "metadata": {
        "colab": {
          "base_uri": "https://localhost:8080/",
          "height": 945
        },
        "id": "0t2P18AaoYk7",
        "outputId": "53c76373-eb2e-4d4c-9515-cbcd6902bd85"
      },
      "source": [
        "df.loc[df['NER'].isin([1,2,3])]"
      ],
      "execution_count": 1255,
      "outputs": [
        {
          "output_type": "execute_result",
          "data": {
            "text/html": [
              "<div>\n",
              "<style scoped>\n",
              "    .dataframe tbody tr th:only-of-type {\n",
              "        vertical-align: middle;\n",
              "    }\n",
              "\n",
              "    .dataframe tbody tr th {\n",
              "        vertical-align: top;\n",
              "    }\n",
              "\n",
              "    .dataframe thead th {\n",
              "        text-align: right;\n",
              "    }\n",
              "</style>\n",
              "<table border=\"1\" class=\"dataframe\">\n",
              "  <thead>\n",
              "    <tr style=\"text-align: right;\">\n",
              "      <th></th>\n",
              "      <th>TOKEN</th>\n",
              "      <th>TOKEN_VECT</th>\n",
              "      <th>IS_ANSWER</th>\n",
              "      <th>TOPIC_NUM</th>\n",
              "      <th>POST_NUM</th>\n",
              "      <th>SENT_NUM</th>\n",
              "      <th>TOKEN_NUM</th>\n",
              "      <th>ANIMACY</th>\n",
              "      <th>CASE</th>\n",
              "      <th>GENDER</th>\n",
              "      <th>PERSON</th>\n",
              "      <th>POS</th>\n",
              "      <th>DEPENDENCY</th>\n",
              "      <th>HEAD</th>\n",
              "      <th>HEAD_ANIMACY</th>\n",
              "      <th>HEAD_CASE</th>\n",
              "      <th>HEAD_GENDER</th>\n",
              "      <th>HEAD_POS</th>\n",
              "      <th>HEAD_VECT</th>\n",
              "      <th>SENT_VECT</th>\n",
              "      <th>HEAD_CHILDS_VECT</th>\n",
              "      <th>NER</th>\n",
              "      <th>COREFERENCE_CLUSTER</th>\n",
              "    </tr>\n",
              "  </thead>\n",
              "  <tbody>\n",
              "    <tr>\n",
              "      <th>2</th>\n",
              "      <td>рисперидон</td>\n",
              "      <td>[0.15259643, 1.0673474, 0.84192747, -0.0775155...</td>\n",
              "      <td>0</td>\n",
              "      <td>1</td>\n",
              "      <td>0</td>\n",
              "      <td>0</td>\n",
              "      <td>2</td>\n",
              "      <td>anim</td>\n",
              "      <td>nomn</td>\n",
              "      <td>masc</td>\n",
              "      <td>NaN</td>\n",
              "      <td>NOUN</td>\n",
              "      <td>appos</td>\n",
              "      <td>препарат</td>\n",
              "      <td>inan</td>\n",
              "      <td>nomn</td>\n",
              "      <td>masc</td>\n",
              "      <td>NOUN</td>\n",
              "      <td>[-0.17725945, 0.94834274, 0.90867615, 0.850609...</td>\n",
              "      <td>[0.01863711, 0.2306802, 0.14600733, -0.0191193...</td>\n",
              "      <td>[0.15259643, 1.0673474, 0.84192747, -0.0775155...</td>\n",
              "      <td>1.0</td>\n",
              "      <td>2.0</td>\n",
              "    </tr>\n",
              "    <tr>\n",
              "      <th>3</th>\n",
              "      <td>рисполепт</td>\n",
              "      <td>[0.012426247, 1.0408522, 0.6913349, -0.1638528...</td>\n",
              "      <td>0</td>\n",
              "      <td>1</td>\n",
              "      <td>0</td>\n",
              "      <td>0</td>\n",
              "      <td>3</td>\n",
              "      <td>inan</td>\n",
              "      <td>gent</td>\n",
              "      <td>femn</td>\n",
              "      <td>NaN</td>\n",
              "      <td>NOUN</td>\n",
              "      <td>parataxis</td>\n",
              "      <td>рисперидон</td>\n",
              "      <td>anim</td>\n",
              "      <td>nomn</td>\n",
              "      <td>masc</td>\n",
              "      <td>NOUN</td>\n",
              "      <td>[0.15259643, 1.0673474, 0.84192747, -0.0775155...</td>\n",
              "      <td>[0.01863711, 0.2306802, 0.14600733, -0.0191193...</td>\n",
              "      <td>[0.012426247, 1.0408522, 0.6913349, -0.1638528...</td>\n",
              "      <td>1.0</td>\n",
              "      <td>3.0</td>\n",
              "    </tr>\n",
              "    <tr>\n",
              "      <th>4</th>\n",
              "      <td>сперидан</td>\n",
              "      <td>[0.08634768, 0.893356, 0.55127096, -0.06507572...</td>\n",
              "      <td>0</td>\n",
              "      <td>1</td>\n",
              "      <td>0</td>\n",
              "      <td>0</td>\n",
              "      <td>4</td>\n",
              "      <td>NaN</td>\n",
              "      <td>NaN</td>\n",
              "      <td>masc</td>\n",
              "      <td>NaN</td>\n",
              "      <td>PRTS</td>\n",
              "      <td>conj</td>\n",
              "      <td>рисполепт</td>\n",
              "      <td>inan</td>\n",
              "      <td>gent</td>\n",
              "      <td>femn</td>\n",
              "      <td>NOUN</td>\n",
              "      <td>[0.012426247, 1.0408522, 0.6913349, -0.1638528...</td>\n",
              "      <td>[0.01863711, 0.2306802, 0.14600733, -0.0191193...</td>\n",
              "      <td>[0.02878256, 0.29778534, 0.18375699, -0.021691...</td>\n",
              "      <td>1.0</td>\n",
              "      <td>4.0</td>\n",
              "    </tr>\n",
              "    <tr>\n",
              "      <th>21</th>\n",
              "      <td>лекарством</td>\n",
              "      <td>[0.598588, -0.07832722, 0.23088205, -0.3704158...</td>\n",
              "      <td>0</td>\n",
              "      <td>1</td>\n",
              "      <td>1</td>\n",
              "      <td>1</td>\n",
              "      <td>10</td>\n",
              "      <td>inan</td>\n",
              "      <td>ablt</td>\n",
              "      <td>neut</td>\n",
              "      <td>NaN</td>\n",
              "      <td>NOUN</td>\n",
              "      <td>conj</td>\n",
              "      <td>нет</td>\n",
              "      <td>NaN</td>\n",
              "      <td>NaN</td>\n",
              "      <td>NaN</td>\n",
              "      <td>PRED</td>\n",
              "      <td>[1.3479745, 0.34477097, 0.20343542, 0.10220611...</td>\n",
              "      <td>[0.05498165, -0.00549405, 0.01865345, -0.03142...</td>\n",
              "      <td>[0.42120528, 0.21546456, 0.00441866, -0.240917...</td>\n",
              "      <td>2.0</td>\n",
              "      <td>0.0</td>\n",
              "    </tr>\n",
              "    <tr>\n",
              "      <th>142</th>\n",
              "      <td>рисполепта</td>\n",
              "      <td>[0.20826544, 0.5118653, 0.6703367, -0.22502856...</td>\n",
              "      <td>0</td>\n",
              "      <td>1</td>\n",
              "      <td>1</td>\n",
              "      <td>13</td>\n",
              "      <td>7</td>\n",
              "      <td>inan</td>\n",
              "      <td>nomn</td>\n",
              "      <td>femn</td>\n",
              "      <td>NaN</td>\n",
              "      <td>NOUN</td>\n",
              "      <td>nmod</td>\n",
              "      <td>дозировку</td>\n",
              "      <td>inan</td>\n",
              "      <td>accs</td>\n",
              "      <td>femn</td>\n",
              "      <td>NOUN</td>\n",
              "      <td>[0.5131939, 0.9708054, 0.53676724, 0.09788364,...</td>\n",
              "      <td>[0.11585727, 0.1283627, 0.02299715, -0.0095005...</td>\n",
              "      <td>[0.28126505, 0.3790152, 0.5397224, -0.09368, -...</td>\n",
              "      <td>1.0</td>\n",
              "      <td>142.0</td>\n",
              "    </tr>\n",
              "    <tr>\n",
              "      <th>...</th>\n",
              "      <td>...</td>\n",
              "      <td>...</td>\n",
              "      <td>...</td>\n",
              "      <td>...</td>\n",
              "      <td>...</td>\n",
              "      <td>...</td>\n",
              "      <td>...</td>\n",
              "      <td>...</td>\n",
              "      <td>...</td>\n",
              "      <td>...</td>\n",
              "      <td>...</td>\n",
              "      <td>...</td>\n",
              "      <td>...</td>\n",
              "      <td>...</td>\n",
              "      <td>...</td>\n",
              "      <td>...</td>\n",
              "      <td>...</td>\n",
              "      <td>...</td>\n",
              "      <td>...</td>\n",
              "      <td>...</td>\n",
              "      <td>...</td>\n",
              "      <td>...</td>\n",
              "      <td>...</td>\n",
              "    </tr>\n",
              "    <tr>\n",
              "      <th>12785</th>\n",
              "      <td>завершению</td>\n",
              "      <td>[0.31051013, 0.10955906, 0.39861053, -0.069338...</td>\n",
              "      <td>0</td>\n",
              "      <td>15</td>\n",
              "      <td>0</td>\n",
              "      <td>16</td>\n",
              "      <td>1</td>\n",
              "      <td>inan</td>\n",
              "      <td>datv</td>\n",
              "      <td>neut</td>\n",
              "      <td>NaN</td>\n",
              "      <td>NOUN</td>\n",
              "      <td>obl</td>\n",
              "      <td>сделали</td>\n",
              "      <td>NaN</td>\n",
              "      <td>NaN</td>\n",
              "      <td>NaN</td>\n",
              "      <td>VERB</td>\n",
              "      <td>[0.18231322, 0.7513995, -0.6068166, -0.1418591...</td>\n",
              "      <td>[0.02632562, 0.20721841, -0.03911034, 0.037120...</td>\n",
              "      <td>[0.13199103, 0.31303656, 0.09326021, 0.0468936...</td>\n",
              "      <td>1.0</td>\n",
              "      <td>263.0</td>\n",
              "    </tr>\n",
              "    <tr>\n",
              "      <th>12791</th>\n",
              "      <td>нашему</td>\n",
              "      <td>[0.75860929, 0.86483002, -0.13026427, -0.15006...</td>\n",
              "      <td>0</td>\n",
              "      <td>15</td>\n",
              "      <td>0</td>\n",
              "      <td>17</td>\n",
              "      <td>2</td>\n",
              "      <td>NaN</td>\n",
              "      <td>datv</td>\n",
              "      <td>neut</td>\n",
              "      <td>NaN</td>\n",
              "      <td>ADJF</td>\n",
              "      <td>det</td>\n",
              "      <td>ужасу</td>\n",
              "      <td>inan</td>\n",
              "      <td>datv</td>\n",
              "      <td>masc</td>\n",
              "      <td>NOUN</td>\n",
              "      <td>[0.901275, 0.16275163, -0.37415406, 0.3714117,...</td>\n",
              "      <td>[-0.02689476, 0.0346927, 0.03875368, 0.0688789...</td>\n",
              "      <td>[0.606111884, 0.528075039, 0.182860225, -0.179...</td>\n",
              "      <td>3.0</td>\n",
              "      <td>263.0</td>\n",
              "    </tr>\n",
              "    <tr>\n",
              "      <th>12854</th>\n",
              "      <td>к</td>\n",
              "      <td>[0.4536144, 0.19132005, 0.4959847, -0.20833261...</td>\n",
              "      <td>0</td>\n",
              "      <td>15</td>\n",
              "      <td>0</td>\n",
              "      <td>22</td>\n",
              "      <td>3</td>\n",
              "      <td>NaN</td>\n",
              "      <td>NaN</td>\n",
              "      <td>NaN</td>\n",
              "      <td>NaN</td>\n",
              "      <td>PREP</td>\n",
              "      <td>case</td>\n",
              "      <td>абраксану</td>\n",
              "      <td>anim</td>\n",
              "      <td>accs</td>\n",
              "      <td>femn</td>\n",
              "      <td>NOUN</td>\n",
              "      <td>[0.5982271, 1.0975795, 0.52676016, 0.0132821, ...</td>\n",
              "      <td>[0.09760628, 0.08554257, 0.02943124, -0.035544...</td>\n",
              "      <td>[0.4536144, 0.19132005, 0.4959847, -0.20833261...</td>\n",
              "      <td>1.0</td>\n",
              "      <td>332.0</td>\n",
              "    </tr>\n",
              "    <tr>\n",
              "      <th>12876</th>\n",
              "      <td>стадию</td>\n",
              "      <td>[0.745928, 0.7292406, 0.04893015, 0.1760835, -...</td>\n",
              "      <td>0</td>\n",
              "      <td>15</td>\n",
              "      <td>0</td>\n",
              "      <td>25</td>\n",
              "      <td>7</td>\n",
              "      <td>inan</td>\n",
              "      <td>accs</td>\n",
              "      <td>femn</td>\n",
              "      <td>NaN</td>\n",
              "      <td>NOUN</td>\n",
              "      <td>obj</td>\n",
              "      <td>имеет</td>\n",
              "      <td>NaN</td>\n",
              "      <td>NaN</td>\n",
              "      <td>NaN</td>\n",
              "      <td>VERB</td>\n",
              "      <td>[0.750769973, 0.43797487, 0.616638899, 0.30344...</td>\n",
              "      <td>[0.056758128, 0.039144114, 0.073397294, 0.0356...</td>\n",
              "      <td>[0.30142662, 0.52905554, -0.21734424, 0.204744...</td>\n",
              "      <td>2.0</td>\n",
              "      <td>0.0</td>\n",
              "    </tr>\n",
              "    <tr>\n",
              "      <th>12879</th>\n",
              "      <td>моя</td>\n",
              "      <td>[0.8802298, 0.5107905, -0.22587825, 0.0159596,...</td>\n",
              "      <td>0</td>\n",
              "      <td>15</td>\n",
              "      <td>0</td>\n",
              "      <td>26</td>\n",
              "      <td>0</td>\n",
              "      <td>NaN</td>\n",
              "      <td>nomn</td>\n",
              "      <td>femn</td>\n",
              "      <td>NaN</td>\n",
              "      <td>ADJF</td>\n",
              "      <td>det</td>\n",
              "      <td>мама</td>\n",
              "      <td>anim</td>\n",
              "      <td>nomn</td>\n",
              "      <td>femn</td>\n",
              "      <td>NOUN</td>\n",
              "      <td>[0.08955146, 0.9836054, 0.33727074, 0.16299829...</td>\n",
              "      <td>[0.05783852, 0.05679638, 0.03057511, -0.005523...</td>\n",
              "      <td>[0.48177946, 0.26994106, 0.38799363, -0.103604...</td>\n",
              "      <td>1.0</td>\n",
              "      <td>357.0</td>\n",
              "    </tr>\n",
              "  </tbody>\n",
              "</table>\n",
              "<p>802 rows × 23 columns</p>\n",
              "</div>"
            ],
            "text/plain": [
              "            TOKEN  ... COREFERENCE_CLUSTER\n",
              "2      рисперидон  ...                 2.0\n",
              "3       рисполепт  ...                 3.0\n",
              "4        сперидан  ...                 4.0\n",
              "21     лекарством  ...                 0.0\n",
              "142    рисполепта  ...               142.0\n",
              "...           ...  ...                 ...\n",
              "12785  завершению  ...               263.0\n",
              "12791      нашему  ...               263.0\n",
              "12854           к  ...               332.0\n",
              "12876      стадию  ...                 0.0\n",
              "12879         моя  ...               357.0\n",
              "\n",
              "[802 rows x 23 columns]"
            ]
          },
          "metadata": {
            "tags": []
          },
          "execution_count": 1255
        }
      ]
    },
    {
      "cell_type": "markdown",
      "metadata": {
        "id": "ilbjEHUW2d0c"
      },
      "source": [
        "# **SEMANTIC AXIS**"
      ]
    },
    {
      "cell_type": "markdown",
      "metadata": {
        "id": "ICYR890StPgM"
      },
      "source": [
        "Реализация метода семантических осей.\n",
        "Сначала, выбираем первые предложения каждого топика. Посмотрим на них."
      ]
    },
    {
      "cell_type": "code",
      "metadata": {
        "colab": {
          "base_uri": "https://localhost:8080/",
          "height": 1000
        },
        "id": "tEK7B7NT8kb5",
        "outputId": "d5a8c977-fa51-485d-8e28-f6d275e0a364"
      },
      "source": [
        "axis_df = df.query('POST_NUM == 0 and TOKEN_NUM == 2 and SENT_NUM == 0')\n",
        "axis_df"
      ],
      "execution_count": 1256,
      "outputs": [
        {
          "output_type": "execute_result",
          "data": {
            "text/html": [
              "<div>\n",
              "<style scoped>\n",
              "    .dataframe tbody tr th:only-of-type {\n",
              "        vertical-align: middle;\n",
              "    }\n",
              "\n",
              "    .dataframe tbody tr th {\n",
              "        vertical-align: top;\n",
              "    }\n",
              "\n",
              "    .dataframe thead th {\n",
              "        text-align: right;\n",
              "    }\n",
              "</style>\n",
              "<table border=\"1\" class=\"dataframe\">\n",
              "  <thead>\n",
              "    <tr style=\"text-align: right;\">\n",
              "      <th></th>\n",
              "      <th>TOKEN</th>\n",
              "      <th>TOKEN_VECT</th>\n",
              "      <th>IS_ANSWER</th>\n",
              "      <th>TOPIC_NUM</th>\n",
              "      <th>POST_NUM</th>\n",
              "      <th>SENT_NUM</th>\n",
              "      <th>TOKEN_NUM</th>\n",
              "      <th>ANIMACY</th>\n",
              "      <th>CASE</th>\n",
              "      <th>GENDER</th>\n",
              "      <th>PERSON</th>\n",
              "      <th>POS</th>\n",
              "      <th>DEPENDENCY</th>\n",
              "      <th>HEAD</th>\n",
              "      <th>HEAD_ANIMACY</th>\n",
              "      <th>HEAD_CASE</th>\n",
              "      <th>HEAD_GENDER</th>\n",
              "      <th>HEAD_POS</th>\n",
              "      <th>HEAD_VECT</th>\n",
              "      <th>SENT_VECT</th>\n",
              "      <th>HEAD_CHILDS_VECT</th>\n",
              "      <th>NER</th>\n",
              "      <th>COREFERENCE_CLUSTER</th>\n",
              "    </tr>\n",
              "  </thead>\n",
              "  <tbody>\n",
              "    <tr>\n",
              "      <th>2</th>\n",
              "      <td>рисперидон</td>\n",
              "      <td>[0.15259643, 1.0673474, 0.84192747, -0.0775155...</td>\n",
              "      <td>0</td>\n",
              "      <td>1</td>\n",
              "      <td>0</td>\n",
              "      <td>0</td>\n",
              "      <td>2</td>\n",
              "      <td>anim</td>\n",
              "      <td>nomn</td>\n",
              "      <td>masc</td>\n",
              "      <td>NaN</td>\n",
              "      <td>NOUN</td>\n",
              "      <td>appos</td>\n",
              "      <td>препарат</td>\n",
              "      <td>inan</td>\n",
              "      <td>nomn</td>\n",
              "      <td>masc</td>\n",
              "      <td>NOUN</td>\n",
              "      <td>[-0.17725945, 0.94834274, 0.90867615, 0.850609...</td>\n",
              "      <td>[0.01863711, 0.2306802, 0.14600733, -0.0191193...</td>\n",
              "      <td>[0.15259643, 1.0673474, 0.84192747, -0.0775155...</td>\n",
              "      <td>1.0</td>\n",
              "      <td>2.0</td>\n",
              "    </tr>\n",
              "    <tr>\n",
              "      <th>576</th>\n",
              "      <td>зелдокс</td>\n",
              "      <td>[0.2465947, 1.0097265, 0.31869438, 0.07363212,...</td>\n",
              "      <td>0</td>\n",
              "      <td>2</td>\n",
              "      <td>0</td>\n",
              "      <td>0</td>\n",
              "      <td>2</td>\n",
              "      <td>inan</td>\n",
              "      <td>nomn</td>\n",
              "      <td>masc</td>\n",
              "      <td>NaN</td>\n",
              "      <td>NOUN</td>\n",
              "      <td>appos</td>\n",
              "      <td>препарат</td>\n",
              "      <td>inan</td>\n",
              "      <td>nomn</td>\n",
              "      <td>masc</td>\n",
              "      <td>NOUN</td>\n",
              "      <td>[-0.17725945, 0.94834274, 0.90867615, 0.850609...</td>\n",
              "      <td>[0.03948287, 0.24082112, 0.22588146, -0.017884...</td>\n",
              "      <td>[0.2465947, 1.0097265, 0.31869438, 0.07363212,...</td>\n",
              "      <td>1.0</td>\n",
              "      <td>2.0</td>\n",
              "    </tr>\n",
              "    <tr>\n",
              "      <th>1870</th>\n",
              "      <td>оланзапин</td>\n",
              "      <td>[-0.082683861, 1.2017089, 0.67815673, -0.22599...</td>\n",
              "      <td>0</td>\n",
              "      <td>3</td>\n",
              "      <td>0</td>\n",
              "      <td>0</td>\n",
              "      <td>2</td>\n",
              "      <td>inan</td>\n",
              "      <td>gent</td>\n",
              "      <td>femn</td>\n",
              "      <td>NaN</td>\n",
              "      <td>NOUN</td>\n",
              "      <td>appos</td>\n",
              "      <td>препарат</td>\n",
              "      <td>inan</td>\n",
              "      <td>nomn</td>\n",
              "      <td>masc</td>\n",
              "      <td>NOUN</td>\n",
              "      <td>[-0.17725945, 0.94834274, 0.90867615, 0.850609...</td>\n",
              "      <td>[0.01915067, 0.0875298, 0.09080387, 0.00378973...</td>\n",
              "      <td>[-0.082683861, 1.2017089, 0.67815673, -0.22599...</td>\n",
              "      <td>1.0</td>\n",
              "      <td>2.0</td>\n",
              "    </tr>\n",
              "    <tr>\n",
              "      <th>5555</th>\n",
              "      <td>галоперидол</td>\n",
              "      <td>[-0.03019532, 1.2394575, 0.18222564, -0.215572...</td>\n",
              "      <td>0</td>\n",
              "      <td>4</td>\n",
              "      <td>0</td>\n",
              "      <td>0</td>\n",
              "      <td>2</td>\n",
              "      <td>inan</td>\n",
              "      <td>nomn</td>\n",
              "      <td>masc</td>\n",
              "      <td>NaN</td>\n",
              "      <td>NOUN</td>\n",
              "      <td>obj</td>\n",
              "      <td>обсуждаем</td>\n",
              "      <td>NaN</td>\n",
              "      <td>NaN</td>\n",
              "      <td>NaN</td>\n",
              "      <td>VERB</td>\n",
              "      <td>[-0.208233938, 0.996180058, -0.279894114, -0.9...</td>\n",
              "      <td>[-0.03747297, 0.5554195, 0.15133946, -0.011017...</td>\n",
              "      <td>[-0.10372739, 1.0939001, 0.5454509, 0.3175185,...</td>\n",
              "      <td>1.0</td>\n",
              "      <td>2.0</td>\n",
              "    </tr>\n",
              "    <tr>\n",
              "      <th>6200</th>\n",
              "      <td>тиаприд</td>\n",
              "      <td>[0.27581334, 0.80696917, 1.0271364, -0.1037090...</td>\n",
              "      <td>0</td>\n",
              "      <td>5</td>\n",
              "      <td>0</td>\n",
              "      <td>0</td>\n",
              "      <td>2</td>\n",
              "      <td>anim</td>\n",
              "      <td>nomn</td>\n",
              "      <td>masc</td>\n",
              "      <td>NaN</td>\n",
              "      <td>NOUN</td>\n",
              "      <td>appos</td>\n",
              "      <td>препарат</td>\n",
              "      <td>inan</td>\n",
              "      <td>nomn</td>\n",
              "      <td>masc</td>\n",
              "      <td>NOUN</td>\n",
              "      <td>[-0.17725945, 0.94834274, 0.90867615, 0.850609...</td>\n",
              "      <td>[0.10855111, 0.28903672, 0.2550475, -0.0276597...</td>\n",
              "      <td>[0.27581334, 0.80696917, 1.0271364, -0.1037090...</td>\n",
              "      <td>1.0</td>\n",
              "      <td>3.0</td>\n",
              "    </tr>\n",
              "    <tr>\n",
              "      <th>8450</th>\n",
              "      <td>сероквель</td>\n",
              "      <td>[0.087633356, 0.93445277, 0.69432694, 0.298702...</td>\n",
              "      <td>0</td>\n",
              "      <td>6</td>\n",
              "      <td>0</td>\n",
              "      <td>0</td>\n",
              "      <td>2</td>\n",
              "      <td>inan</td>\n",
              "      <td>gent</td>\n",
              "      <td>femn</td>\n",
              "      <td>NaN</td>\n",
              "      <td>NOUN</td>\n",
              "      <td>appos</td>\n",
              "      <td>препарат</td>\n",
              "      <td>inan</td>\n",
              "      <td>nomn</td>\n",
              "      <td>masc</td>\n",
              "      <td>NOUN</td>\n",
              "      <td>[-0.17725945, 0.94834274, 0.90867615, 0.850609...</td>\n",
              "      <td>[-0.04207938, 0.36281538, 0.25962716, 0.010672...</td>\n",
              "      <td>[0.087633356, 0.93445277, 0.69432694, 0.298702...</td>\n",
              "      <td>1.0</td>\n",
              "      <td>2.0</td>\n",
              "    </tr>\n",
              "    <tr>\n",
              "      <th>8541</th>\n",
              "      <td>день</td>\n",
              "      <td>[0.11187396, 1.2210127, -0.88301444, -0.466371...</td>\n",
              "      <td>0</td>\n",
              "      <td>7</td>\n",
              "      <td>0</td>\n",
              "      <td>0</td>\n",
              "      <td>2</td>\n",
              "      <td>inan</td>\n",
              "      <td>accs</td>\n",
              "      <td>masc</td>\n",
              "      <td>NaN</td>\n",
              "      <td>NOUN</td>\n",
              "      <td>ROOT</td>\n",
              "      <td>день</td>\n",
              "      <td>inan</td>\n",
              "      <td>accs</td>\n",
              "      <td>masc</td>\n",
              "      <td>NOUN</td>\n",
              "      <td>[0.11187396, 1.2210127, -0.88301444, -0.466371...</td>\n",
              "      <td>[0.10426845, 0.58591, -0.40001512, -0.31153095...</td>\n",
              "      <td>[0.3036255, 0.7870125, -0.33815098, -0.5249253...</td>\n",
              "      <td>0.0</td>\n",
              "      <td>0.0</td>\n",
              "    </tr>\n",
              "    <tr>\n",
              "      <th>11117</th>\n",
              "      <td>500</td>\n",
              "      <td>[0.34515736, 0.99082905, 1.1647757, 0.13400415...</td>\n",
              "      <td>0</td>\n",
              "      <td>8</td>\n",
              "      <td>0</td>\n",
              "      <td>0</td>\n",
              "      <td>2</td>\n",
              "      <td>NaN</td>\n",
              "      <td>NaN</td>\n",
              "      <td>NaN</td>\n",
              "      <td>NaN</td>\n",
              "      <td>NaN</td>\n",
              "      <td>nummod</td>\n",
              "      <td>мг</td>\n",
              "      <td>inan</td>\n",
              "      <td>nomn</td>\n",
              "      <td>masc</td>\n",
              "      <td>NOUN</td>\n",
              "      <td>[0.0851192921, 0.789108872, 0.923557222, -0.23...</td>\n",
              "      <td>[0.00030258, -0.03585999, -0.01680361, -0.0245...</td>\n",
              "      <td>[0.0]</td>\n",
              "      <td>0.0</td>\n",
              "      <td>0.0</td>\n",
              "    </tr>\n",
              "    <tr>\n",
              "      <th>11787</th>\n",
              "      <td>капецитабин</td>\n",
              "      <td>[0.342338204, 1.20741296, 0.623081028, 0.04668...</td>\n",
              "      <td>0</td>\n",
              "      <td>10</td>\n",
              "      <td>0</td>\n",
              "      <td>0</td>\n",
              "      <td>2</td>\n",
              "      <td>anim</td>\n",
              "      <td>nomn</td>\n",
              "      <td>masc</td>\n",
              "      <td>NaN</td>\n",
              "      <td>NOUN</td>\n",
              "      <td>ROOT</td>\n",
              "      <td>капецитабин</td>\n",
              "      <td>anim</td>\n",
              "      <td>nomn</td>\n",
              "      <td>masc</td>\n",
              "      <td>NOUN</td>\n",
              "      <td>[0.342338204, 1.20741296, 0.623081028, 0.04668...</td>\n",
              "      <td>[0.00206052, -0.05985366, 0.06623499, -0.06572...</td>\n",
              "      <td>[-0.0034975, 0.14409654, 0.24720684, -0.020498...</td>\n",
              "      <td>0.0</td>\n",
              "      <td>0.0</td>\n",
              "    </tr>\n",
              "    <tr>\n",
              "      <th>11806</th>\n",
              "      <td>иресса</td>\n",
              "      <td>[0.403851897, 0.462512106, 0.103562765, -0.530...</td>\n",
              "      <td>0</td>\n",
              "      <td>11</td>\n",
              "      <td>0</td>\n",
              "      <td>0</td>\n",
              "      <td>2</td>\n",
              "      <td>NaN</td>\n",
              "      <td>NaN</td>\n",
              "      <td>NaN</td>\n",
              "      <td>NaN</td>\n",
              "      <td>GRND</td>\n",
              "      <td>nmod</td>\n",
              "      <td>отдам</td>\n",
              "      <td>NaN</td>\n",
              "      <td>NaN</td>\n",
              "      <td>NaN</td>\n",
              "      <td>VERB</td>\n",
              "      <td>[0.235153243, -0.000665825617, 0.172356203, 0....</td>\n",
              "      <td>[0.07661632, 0.08160812, 0.05639331, 0.0203737...</td>\n",
              "      <td>[0.12400526, 0.19563669, 0.21844696, -0.525781...</td>\n",
              "      <td>0.0</td>\n",
              "      <td>0.0</td>\n",
              "    </tr>\n",
              "    <tr>\n",
              "      <th>12118</th>\n",
              "      <td>очень</td>\n",
              "      <td>[0.50080717, 0.97543329, 0.21518297, -0.491112...</td>\n",
              "      <td>0</td>\n",
              "      <td>12</td>\n",
              "      <td>0</td>\n",
              "      <td>0</td>\n",
              "      <td>2</td>\n",
              "      <td>NaN</td>\n",
              "      <td>NaN</td>\n",
              "      <td>NaN</td>\n",
              "      <td>NaN</td>\n",
              "      <td>ADVB</td>\n",
              "      <td>advmod</td>\n",
              "      <td>нужна</td>\n",
              "      <td>NaN</td>\n",
              "      <td>NaN</td>\n",
              "      <td>femn</td>\n",
              "      <td>ADJS</td>\n",
              "      <td>[0.80720174, -0.10315988, 0.85512, -0.6219189,...</td>\n",
              "      <td>[0.12552494, 0.08589336, 0.03145502, -0.066575...</td>\n",
              "      <td>[0.382049769, 0.343235791, -0.0281428993, -0.3...</td>\n",
              "      <td>0.0</td>\n",
              "      <td>0.0</td>\n",
              "    </tr>\n",
              "    <tr>\n",
              "      <th>12200</th>\n",
              "      <td>очень</td>\n",
              "      <td>[0.50080717, 0.97543329, 0.21518297, -0.491112...</td>\n",
              "      <td>0</td>\n",
              "      <td>13</td>\n",
              "      <td>0</td>\n",
              "      <td>0</td>\n",
              "      <td>2</td>\n",
              "      <td>NaN</td>\n",
              "      <td>NaN</td>\n",
              "      <td>NaN</td>\n",
              "      <td>NaN</td>\n",
              "      <td>ADVB</td>\n",
              "      <td>advmod</td>\n",
              "      <td>нужна</td>\n",
              "      <td>NaN</td>\n",
              "      <td>NaN</td>\n",
              "      <td>femn</td>\n",
              "      <td>ADJS</td>\n",
              "      <td>[0.80720174, -0.10315988, 0.85512, -0.6219189,...</td>\n",
              "      <td>[0.12552494, 0.08589336, 0.03145502, -0.066575...</td>\n",
              "      <td>[0.382049769, 0.343235791, -0.0281428993, -0.3...</td>\n",
              "      <td>0.0</td>\n",
              "      <td>0.0</td>\n",
              "    </tr>\n",
              "    <tr>\n",
              "      <th>14936</th>\n",
              "      <td>показания</td>\n",
              "      <td>[1.2479405, 0.7843368, 0.13361824, 0.42770186,...</td>\n",
              "      <td>0</td>\n",
              "      <td>16</td>\n",
              "      <td>0</td>\n",
              "      <td>0</td>\n",
              "      <td>2</td>\n",
              "      <td>inan</td>\n",
              "      <td>nomn</td>\n",
              "      <td>neut</td>\n",
              "      <td>NaN</td>\n",
              "      <td>NOUN</td>\n",
              "      <td>conj</td>\n",
              "      <td>противопоказания</td>\n",
              "      <td>inan</td>\n",
              "      <td>gent</td>\n",
              "      <td>neut</td>\n",
              "      <td>NOUN</td>\n",
              "      <td>[1.0876162, 0.81554294, 0.21823575, 0.27713153...</td>\n",
              "      <td>[0.1005468, 0.15991989, 0.04482105, 0.20846026...</td>\n",
              "      <td>[0.91195953, 0.95809585, 0.091002718, 0.921486...</td>\n",
              "      <td>0.0</td>\n",
              "      <td>0.0</td>\n",
              "    </tr>\n",
              "  </tbody>\n",
              "</table>\n",
              "</div>"
            ],
            "text/plain": [
              "             TOKEN  ... COREFERENCE_CLUSTER\n",
              "2       рисперидон  ...                 2.0\n",
              "576        зелдокс  ...                 2.0\n",
              "1870     оланзапин  ...                 2.0\n",
              "5555   галоперидол  ...                 2.0\n",
              "6200       тиаприд  ...                 3.0\n",
              "8450     сероквель  ...                 2.0\n",
              "8541          день  ...                 0.0\n",
              "11117          500  ...                 0.0\n",
              "11787  капецитабин  ...                 0.0\n",
              "11806       иресса  ...                 0.0\n",
              "12118        очень  ...                 0.0\n",
              "12200        очень  ...                 0.0\n",
              "14936    показания  ...                 0.0\n",
              "\n",
              "[13 rows x 23 columns]"
            ]
          },
          "metadata": {
            "tags": []
          },
          "execution_count": 1256
        }
      ]
    },
    {
      "cell_type": "code",
      "metadata": {
        "id": "GEiKxebuCPsC"
      },
      "source": [
        "# sum(df.query('POST_NUM == 0 and TOKEN_NUM == 2 and SENT_NUM == 0').TOKEN_VECT)/len(df.query('POST_NUM == 0 and TOKEN_NUM == 2 and SENT_NUM == 0').TOKEN_VECT)"
      ],
      "execution_count": 1257,
      "outputs": []
    },
    {
      "cell_type": "markdown",
      "metadata": {
        "id": "r-A7JcK3tsVt"
      },
      "source": [
        "Суммируем верктора токенов, главных слов, предложения целиком, и зависимых слов. Нормализуем."
      ]
    },
    {
      "cell_type": "code",
      "metadata": {
        "id": "0ESW3_xq2h0O"
      },
      "source": [
        "\n",
        "token_axe = sum(axis_df.TOKEN_VECT)/len(axis_df.TOKEN_VECT)\n",
        "head_axe = sum(axis_df.HEAD_VECT)/len(axis_df.HEAD_VECT)\n",
        "head_childs_axe = sum(axis_df.HEAD_CHILDS_VECT)/len(axis_df.HEAD_CHILDS_VECT)\n",
        "sent_axe = sum(axis_df.SENT_VECT)/len(axis_df.SENT_VECT)"
      ],
      "execution_count": 1258,
      "outputs": []
    },
    {
      "cell_type": "code",
      "metadata": {
        "colab": {
          "base_uri": "https://localhost:8080/"
        },
        "id": "1NmYmDIwIbPS",
        "outputId": "e93439b8-f319-4cad-c9bc-ffda21fb5a7d"
      },
      "source": [
        "df.TOKEN_VECT[710]"
      ],
      "execution_count": 1259,
      "outputs": [
        {
          "output_type": "execute_result",
          "data": {
            "text/plain": [
              "array([nan])"
            ]
          },
          "metadata": {
            "tags": []
          },
          "execution_count": 1259
        }
      ]
    },
    {
      "cell_type": "markdown",
      "metadata": {
        "id": "7La2_kyRuXYI"
      },
      "source": [
        "Функция, которая заменяет столбец с векторами на столбец со значениями косинусной дистанции с соответствующей семантической осью.\n"
      ]
    },
    {
      "cell_type": "code",
      "metadata": {
        "id": "qGfEFxcRHBZz"
      },
      "source": [
        "def make_similarity(df, col, axe):\n",
        "  new_col = []\n",
        "  for ind, vect in enumerate(df[col]):\n",
        "    try:\n",
        "      new_col.append(cosine_similarity([axe], [vect])[-1][-1])\n",
        "    except ValueError:\n",
        "      new_col.append(0)\n",
        "  df[col] = new_col\n",
        "\n"
      ],
      "execution_count": 1260,
      "outputs": []
    },
    {
      "cell_type": "code",
      "metadata": {
        "colab": {
          "base_uri": "https://localhost:8080/"
        },
        "id": "pDC2D4LcLFTt",
        "outputId": "e640e53d-2537-4a72-c6b2-303bcc4cac27"
      },
      "source": [
        "make_similarity(df, 'TOKEN_VECT', token_axe)\n",
        "make_similarity(df, 'HEAD_VECT', head_axe)\n",
        "make_similarity(df, 'HEAD_CHILDS_VECT', head_childs_axe)\n",
        "make_similarity(df, 'SENT_VECT', sent_axe)"
      ],
      "execution_count": 1261,
      "outputs": [
        {
          "output_type": "stream",
          "text": [
            "/usr/local/lib/python3.7/dist-packages/ipykernel_launcher.py:8: SettingWithCopyWarning: \n",
            "A value is trying to be set on a copy of a slice from a DataFrame.\n",
            "Try using .loc[row_indexer,col_indexer] = value instead\n",
            "\n",
            "See the caveats in the documentation: https://pandas.pydata.org/pandas-docs/stable/user_guide/indexing.html#returning-a-view-versus-a-copy\n",
            "  \n",
            "/usr/local/lib/python3.7/dist-packages/ipykernel_launcher.py:8: SettingWithCopyWarning: \n",
            "A value is trying to be set on a copy of a slice from a DataFrame.\n",
            "Try using .loc[row_indexer,col_indexer] = value instead\n",
            "\n",
            "See the caveats in the documentation: https://pandas.pydata.org/pandas-docs/stable/user_guide/indexing.html#returning-a-view-versus-a-copy\n",
            "  \n",
            "/usr/local/lib/python3.7/dist-packages/ipykernel_launcher.py:8: SettingWithCopyWarning: \n",
            "A value is trying to be set on a copy of a slice from a DataFrame.\n",
            "Try using .loc[row_indexer,col_indexer] = value instead\n",
            "\n",
            "See the caveats in the documentation: https://pandas.pydata.org/pandas-docs/stable/user_guide/indexing.html#returning-a-view-versus-a-copy\n",
            "  \n",
            "/usr/local/lib/python3.7/dist-packages/ipykernel_launcher.py:8: SettingWithCopyWarning: \n",
            "A value is trying to be set on a copy of a slice from a DataFrame.\n",
            "Try using .loc[row_indexer,col_indexer] = value instead\n",
            "\n",
            "See the caveats in the documentation: https://pandas.pydata.org/pandas-docs/stable/user_guide/indexing.html#returning-a-view-versus-a-copy\n",
            "  \n"
          ],
          "name": "stderr"
        }
      ]
    },
    {
      "cell_type": "code",
      "metadata": {
        "id": "hcdxAoSuucFG",
        "outputId": "5d02bdd8-9934-4b2a-cd6a-38d8238284fd",
        "colab": {
          "base_uri": "https://localhost:8080/",
          "height": 35
        }
      },
      "source": [
        "df.TOKEN[1]"
      ],
      "execution_count": 1262,
      "outputs": [
        {
          "output_type": "execute_result",
          "data": {
            "application/vnd.google.colaboratory.intrinsic+json": {
              "type": "string"
            },
            "text/plain": [
              "'препарат'"
            ]
          },
          "metadata": {
            "tags": []
          },
          "execution_count": 1262
        }
      ]
    },
    {
      "cell_type": "code",
      "metadata": {
        "id": "9eJEaD0MuVt-"
      },
      "source": [
        "# df['SUM_VECT']= [(df.TOKEN_VECT[i] + df.SENT_VECT[i])/3 for i in range(len(df.SENT_VECT))]"
      ],
      "execution_count": 1263,
      "outputs": []
    },
    {
      "cell_type": "markdown",
      "metadata": {
        "id": "E8S50koyuk8t"
      },
      "source": [
        "Посмотрим на данные."
      ]
    },
    {
      "cell_type": "code",
      "metadata": {
        "colab": {
          "base_uri": "https://localhost:8080/",
          "height": 427
        },
        "id": "U44h8yUwKDhf",
        "outputId": "4e5a13e1-92ec-4d88-fc4b-1015e681ca4c"
      },
      "source": [
        "df"
      ],
      "execution_count": 1264,
      "outputs": [
        {
          "output_type": "execute_result",
          "data": {
            "text/html": [
              "<div>\n",
              "<style scoped>\n",
              "    .dataframe tbody tr th:only-of-type {\n",
              "        vertical-align: middle;\n",
              "    }\n",
              "\n",
              "    .dataframe tbody tr th {\n",
              "        vertical-align: top;\n",
              "    }\n",
              "\n",
              "    .dataframe thead th {\n",
              "        text-align: right;\n",
              "    }\n",
              "</style>\n",
              "<table border=\"1\" class=\"dataframe\">\n",
              "  <thead>\n",
              "    <tr style=\"text-align: right;\">\n",
              "      <th></th>\n",
              "      <th>TOKEN</th>\n",
              "      <th>TOKEN_VECT</th>\n",
              "      <th>IS_ANSWER</th>\n",
              "      <th>TOPIC_NUM</th>\n",
              "      <th>POST_NUM</th>\n",
              "      <th>SENT_NUM</th>\n",
              "      <th>TOKEN_NUM</th>\n",
              "      <th>ANIMACY</th>\n",
              "      <th>CASE</th>\n",
              "      <th>GENDER</th>\n",
              "      <th>PERSON</th>\n",
              "      <th>POS</th>\n",
              "      <th>DEPENDENCY</th>\n",
              "      <th>HEAD</th>\n",
              "      <th>HEAD_ANIMACY</th>\n",
              "      <th>HEAD_CASE</th>\n",
              "      <th>HEAD_GENDER</th>\n",
              "      <th>HEAD_POS</th>\n",
              "      <th>HEAD_VECT</th>\n",
              "      <th>SENT_VECT</th>\n",
              "      <th>HEAD_CHILDS_VECT</th>\n",
              "      <th>NER</th>\n",
              "      <th>COREFERENCE_CLUSTER</th>\n",
              "    </tr>\n",
              "  </thead>\n",
              "  <tbody>\n",
              "    <tr>\n",
              "      <th>0</th>\n",
              "      <td>обсуждаем</td>\n",
              "      <td>0.478969</td>\n",
              "      <td>0</td>\n",
              "      <td>1</td>\n",
              "      <td>0</td>\n",
              "      <td>0</td>\n",
              "      <td>0</td>\n",
              "      <td>NaN</td>\n",
              "      <td>NaN</td>\n",
              "      <td>NaN</td>\n",
              "      <td>1per</td>\n",
              "      <td>VERB</td>\n",
              "      <td>ROOT</td>\n",
              "      <td>обсуждаем</td>\n",
              "      <td>NaN</td>\n",
              "      <td>NaN</td>\n",
              "      <td>NaN</td>\n",
              "      <td>VERB</td>\n",
              "      <td>0.514440</td>\n",
              "      <td>0.835993</td>\n",
              "      <td>0.605408</td>\n",
              "      <td>0.0</td>\n",
              "      <td>0.0</td>\n",
              "    </tr>\n",
              "    <tr>\n",
              "      <th>1</th>\n",
              "      <td>препарат</td>\n",
              "      <td>0.525897</td>\n",
              "      <td>0</td>\n",
              "      <td>1</td>\n",
              "      <td>0</td>\n",
              "      <td>0</td>\n",
              "      <td>1</td>\n",
              "      <td>inan</td>\n",
              "      <td>nomn</td>\n",
              "      <td>masc</td>\n",
              "      <td>NaN</td>\n",
              "      <td>NOUN</td>\n",
              "      <td>obj</td>\n",
              "      <td>обсуждаем</td>\n",
              "      <td>NaN</td>\n",
              "      <td>NaN</td>\n",
              "      <td>NaN</td>\n",
              "      <td>VERB</td>\n",
              "      <td>0.514440</td>\n",
              "      <td>0.835993</td>\n",
              "      <td>0.605408</td>\n",
              "      <td>0.0</td>\n",
              "      <td>0.0</td>\n",
              "    </tr>\n",
              "    <tr>\n",
              "      <th>2</th>\n",
              "      <td>рисперидон</td>\n",
              "      <td>0.779845</td>\n",
              "      <td>0</td>\n",
              "      <td>1</td>\n",
              "      <td>0</td>\n",
              "      <td>0</td>\n",
              "      <td>2</td>\n",
              "      <td>anim</td>\n",
              "      <td>nomn</td>\n",
              "      <td>masc</td>\n",
              "      <td>NaN</td>\n",
              "      <td>NOUN</td>\n",
              "      <td>appos</td>\n",
              "      <td>препарат</td>\n",
              "      <td>inan</td>\n",
              "      <td>nomn</td>\n",
              "      <td>masc</td>\n",
              "      <td>NOUN</td>\n",
              "      <td>0.878739</td>\n",
              "      <td>0.835993</td>\n",
              "      <td>0.808772</td>\n",
              "      <td>1.0</td>\n",
              "      <td>2.0</td>\n",
              "    </tr>\n",
              "    <tr>\n",
              "      <th>3</th>\n",
              "      <td>рисполепт</td>\n",
              "      <td>0.797031</td>\n",
              "      <td>0</td>\n",
              "      <td>1</td>\n",
              "      <td>0</td>\n",
              "      <td>0</td>\n",
              "      <td>3</td>\n",
              "      <td>inan</td>\n",
              "      <td>gent</td>\n",
              "      <td>femn</td>\n",
              "      <td>NaN</td>\n",
              "      <td>NOUN</td>\n",
              "      <td>parataxis</td>\n",
              "      <td>рисперидон</td>\n",
              "      <td>anim</td>\n",
              "      <td>nomn</td>\n",
              "      <td>masc</td>\n",
              "      <td>NOUN</td>\n",
              "      <td>0.554854</td>\n",
              "      <td>0.835993</td>\n",
              "      <td>0.830899</td>\n",
              "      <td>1.0</td>\n",
              "      <td>3.0</td>\n",
              "    </tr>\n",
              "    <tr>\n",
              "      <th>4</th>\n",
              "      <td>сперидан</td>\n",
              "      <td>0.760111</td>\n",
              "      <td>0</td>\n",
              "      <td>1</td>\n",
              "      <td>0</td>\n",
              "      <td>0</td>\n",
              "      <td>4</td>\n",
              "      <td>NaN</td>\n",
              "      <td>NaN</td>\n",
              "      <td>masc</td>\n",
              "      <td>NaN</td>\n",
              "      <td>PRTS</td>\n",
              "      <td>conj</td>\n",
              "      <td>рисполепт</td>\n",
              "      <td>inan</td>\n",
              "      <td>gent</td>\n",
              "      <td>femn</td>\n",
              "      <td>NOUN</td>\n",
              "      <td>0.602089</td>\n",
              "      <td>0.835993</td>\n",
              "      <td>0.805134</td>\n",
              "      <td>1.0</td>\n",
              "      <td>4.0</td>\n",
              "    </tr>\n",
              "    <tr>\n",
              "      <th>...</th>\n",
              "      <td>...</td>\n",
              "      <td>...</td>\n",
              "      <td>...</td>\n",
              "      <td>...</td>\n",
              "      <td>...</td>\n",
              "      <td>...</td>\n",
              "      <td>...</td>\n",
              "      <td>...</td>\n",
              "      <td>...</td>\n",
              "      <td>...</td>\n",
              "      <td>...</td>\n",
              "      <td>...</td>\n",
              "      <td>...</td>\n",
              "      <td>...</td>\n",
              "      <td>...</td>\n",
              "      <td>...</td>\n",
              "      <td>...</td>\n",
              "      <td>...</td>\n",
              "      <td>...</td>\n",
              "      <td>...</td>\n",
              "      <td>...</td>\n",
              "      <td>...</td>\n",
              "      <td>...</td>\n",
              "    </tr>\n",
              "    <tr>\n",
              "      <th>14995</th>\n",
              "      <td>эта</td>\n",
              "      <td>0.411351</td>\n",
              "      <td>0</td>\n",
              "      <td>16</td>\n",
              "      <td>3</td>\n",
              "      <td>0</td>\n",
              "      <td>10</td>\n",
              "      <td>NaN</td>\n",
              "      <td>nomn</td>\n",
              "      <td>femn</td>\n",
              "      <td>NaN</td>\n",
              "      <td>ADJF</td>\n",
              "      <td>det</td>\n",
              "      <td>вакцина</td>\n",
              "      <td>inan</td>\n",
              "      <td>nomn</td>\n",
              "      <td>femn</td>\n",
              "      <td>NOUN</td>\n",
              "      <td>0.465146</td>\n",
              "      <td>0.449984</td>\n",
              "      <td>0.398606</td>\n",
              "      <td>0.0</td>\n",
              "      <td>0.0</td>\n",
              "    </tr>\n",
              "    <tr>\n",
              "      <th>14996</th>\n",
              "      <td>вакцина</td>\n",
              "      <td>0.506801</td>\n",
              "      <td>0</td>\n",
              "      <td>16</td>\n",
              "      <td>3</td>\n",
              "      <td>0</td>\n",
              "      <td>11</td>\n",
              "      <td>inan</td>\n",
              "      <td>nomn</td>\n",
              "      <td>femn</td>\n",
              "      <td>NaN</td>\n",
              "      <td>NOUN</td>\n",
              "      <td>nsubj</td>\n",
              "      <td>аукнется</td>\n",
              "      <td>NaN</td>\n",
              "      <td>NaN</td>\n",
              "      <td>NaN</td>\n",
              "      <td>VERB</td>\n",
              "      <td>0.617590</td>\n",
              "      <td>0.449984</td>\n",
              "      <td>0.714478</td>\n",
              "      <td>0.0</td>\n",
              "      <td>0.0</td>\n",
              "    </tr>\n",
              "    <tr>\n",
              "      <th>14997</th>\n",
              "      <td>аукнется</td>\n",
              "      <td>0.544597</td>\n",
              "      <td>0</td>\n",
              "      <td>16</td>\n",
              "      <td>3</td>\n",
              "      <td>0</td>\n",
              "      <td>12</td>\n",
              "      <td>NaN</td>\n",
              "      <td>NaN</td>\n",
              "      <td>NaN</td>\n",
              "      <td>3per</td>\n",
              "      <td>VERB</td>\n",
              "      <td>csubj</td>\n",
              "      <td>неизвестно</td>\n",
              "      <td>NaN</td>\n",
              "      <td>NaN</td>\n",
              "      <td>NaN</td>\n",
              "      <td>ADVB</td>\n",
              "      <td>0.561118</td>\n",
              "      <td>0.449984</td>\n",
              "      <td>0.608900</td>\n",
              "      <td>0.0</td>\n",
              "      <td>0.0</td>\n",
              "    </tr>\n",
              "    <tr>\n",
              "      <th>14998</th>\n",
              "      <td>на</td>\n",
              "      <td>0.450034</td>\n",
              "      <td>0</td>\n",
              "      <td>16</td>\n",
              "      <td>3</td>\n",
              "      <td>0</td>\n",
              "      <td>13</td>\n",
              "      <td>NaN</td>\n",
              "      <td>NaN</td>\n",
              "      <td>NaN</td>\n",
              "      <td>NaN</td>\n",
              "      <td>PREP</td>\n",
              "      <td>case</td>\n",
              "      <td>организме</td>\n",
              "      <td>inan</td>\n",
              "      <td>loct</td>\n",
              "      <td>masc</td>\n",
              "      <td>NOUN</td>\n",
              "      <td>0.493778</td>\n",
              "      <td>0.449984</td>\n",
              "      <td>0.418060</td>\n",
              "      <td>0.0</td>\n",
              "      <td>0.0</td>\n",
              "    </tr>\n",
              "    <tr>\n",
              "      <th>14999</th>\n",
              "      <td>организме</td>\n",
              "      <td>0.493471</td>\n",
              "      <td>0</td>\n",
              "      <td>16</td>\n",
              "      <td>3</td>\n",
              "      <td>0</td>\n",
              "      <td>14</td>\n",
              "      <td>inan</td>\n",
              "      <td>loct</td>\n",
              "      <td>masc</td>\n",
              "      <td>NaN</td>\n",
              "      <td>NOUN</td>\n",
              "      <td>obl</td>\n",
              "      <td>аукнется</td>\n",
              "      <td>NaN</td>\n",
              "      <td>NaN</td>\n",
              "      <td>NaN</td>\n",
              "      <td>VERB</td>\n",
              "      <td>0.617590</td>\n",
              "      <td>0.449984</td>\n",
              "      <td>0.714478</td>\n",
              "      <td>0.0</td>\n",
              "      <td>0.0</td>\n",
              "    </tr>\n",
              "  </tbody>\n",
              "</table>\n",
              "<p>15000 rows × 23 columns</p>\n",
              "</div>"
            ],
            "text/plain": [
              "            TOKEN  TOKEN_VECT  ...  NER  COREFERENCE_CLUSTER\n",
              "0       обсуждаем    0.478969  ...  0.0                  0.0\n",
              "1        препарат    0.525897  ...  0.0                  0.0\n",
              "2      рисперидон    0.779845  ...  1.0                  2.0\n",
              "3       рисполепт    0.797031  ...  1.0                  3.0\n",
              "4        сперидан    0.760111  ...  1.0                  4.0\n",
              "...           ...         ...  ...  ...                  ...\n",
              "14995         эта    0.411351  ...  0.0                  0.0\n",
              "14996     вакцина    0.506801  ...  0.0                  0.0\n",
              "14997    аукнется    0.544597  ...  0.0                  0.0\n",
              "14998          на    0.450034  ...  0.0                  0.0\n",
              "14999   организме    0.493471  ...  0.0                  0.0\n",
              "\n",
              "[15000 rows x 23 columns]"
            ]
          },
          "metadata": {
            "tags": []
          },
          "execution_count": 1264
        }
      ]
    },
    {
      "cell_type": "code",
      "metadata": {
        "colab": {
          "base_uri": "https://localhost:8080/",
          "height": 288
        },
        "id": "x9dtPGXhkY7q",
        "outputId": "818b7066-3b07-4391-8f7f-43daa4d7f230"
      },
      "source": [
        "df.describe()"
      ],
      "execution_count": 1265,
      "outputs": [
        {
          "output_type": "execute_result",
          "data": {
            "text/html": [
              "<div>\n",
              "<style scoped>\n",
              "    .dataframe tbody tr th:only-of-type {\n",
              "        vertical-align: middle;\n",
              "    }\n",
              "\n",
              "    .dataframe tbody tr th {\n",
              "        vertical-align: top;\n",
              "    }\n",
              "\n",
              "    .dataframe thead th {\n",
              "        text-align: right;\n",
              "    }\n",
              "</style>\n",
              "<table border=\"1\" class=\"dataframe\">\n",
              "  <thead>\n",
              "    <tr style=\"text-align: right;\">\n",
              "      <th></th>\n",
              "      <th>TOKEN_VECT</th>\n",
              "      <th>IS_ANSWER</th>\n",
              "      <th>TOPIC_NUM</th>\n",
              "      <th>POST_NUM</th>\n",
              "      <th>SENT_NUM</th>\n",
              "      <th>TOKEN_NUM</th>\n",
              "      <th>HEAD_VECT</th>\n",
              "      <th>SENT_VECT</th>\n",
              "      <th>HEAD_CHILDS_VECT</th>\n",
              "      <th>NER</th>\n",
              "      <th>COREFERENCE_CLUSTER</th>\n",
              "    </tr>\n",
              "  </thead>\n",
              "  <tbody>\n",
              "    <tr>\n",
              "      <th>count</th>\n",
              "      <td>15000.000000</td>\n",
              "      <td>15000.000000</td>\n",
              "      <td>15000.000000</td>\n",
              "      <td>15000.000000</td>\n",
              "      <td>15000.000000</td>\n",
              "      <td>15000.000000</td>\n",
              "      <td>15000.000000</td>\n",
              "      <td>15000.000000</td>\n",
              "      <td>15000.000000</td>\n",
              "      <td>15000.000000</td>\n",
              "      <td>15000.000000</td>\n",
              "    </tr>\n",
              "    <tr>\n",
              "      <th>mean</th>\n",
              "      <td>0.500553</td>\n",
              "      <td>0.850467</td>\n",
              "      <td>6.588467</td>\n",
              "      <td>14.147067</td>\n",
              "      <td>6.838267</td>\n",
              "      <td>974.385733</td>\n",
              "      <td>0.481765</td>\n",
              "      <td>0.569179</td>\n",
              "      <td>0.590834</td>\n",
              "      <td>0.079000</td>\n",
              "      <td>47.898600</td>\n",
              "    </tr>\n",
              "    <tr>\n",
              "      <th>std</th>\n",
              "      <td>0.085986</td>\n",
              "      <td>0.356625</td>\n",
              "      <td>4.528098</td>\n",
              "      <td>13.617839</td>\n",
              "      <td>9.702198</td>\n",
              "      <td>922.035645</td>\n",
              "      <td>0.093150</td>\n",
              "      <td>0.086527</td>\n",
              "      <td>0.143591</td>\n",
              "      <td>0.369281</td>\n",
              "      <td>295.585406</td>\n",
              "    </tr>\n",
              "    <tr>\n",
              "      <th>min</th>\n",
              "      <td>-0.239887</td>\n",
              "      <td>0.000000</td>\n",
              "      <td>1.000000</td>\n",
              "      <td>0.000000</td>\n",
              "      <td>0.000000</td>\n",
              "      <td>0.000000</td>\n",
              "      <td>-0.079326</td>\n",
              "      <td>0.341979</td>\n",
              "      <td>-0.034242</td>\n",
              "      <td>0.000000</td>\n",
              "      <td>0.000000</td>\n",
              "    </tr>\n",
              "    <tr>\n",
              "      <th>25%</th>\n",
              "      <td>0.442966</td>\n",
              "      <td>1.000000</td>\n",
              "      <td>3.000000</td>\n",
              "      <td>3.000000</td>\n",
              "      <td>1.000000</td>\n",
              "      <td>152.000000</td>\n",
              "      <td>0.434398</td>\n",
              "      <td>0.512477</td>\n",
              "      <td>0.531937</td>\n",
              "      <td>0.000000</td>\n",
              "      <td>0.000000</td>\n",
              "    </tr>\n",
              "    <tr>\n",
              "      <th>50%</th>\n",
              "      <td>0.487447</td>\n",
              "      <td>1.000000</td>\n",
              "      <td>5.000000</td>\n",
              "      <td>10.000000</td>\n",
              "      <td>3.000000</td>\n",
              "      <td>757.000000</td>\n",
              "      <td>0.483045</td>\n",
              "      <td>0.565054</td>\n",
              "      <td>0.615285</td>\n",
              "      <td>0.000000</td>\n",
              "      <td>0.000000</td>\n",
              "    </tr>\n",
              "    <tr>\n",
              "      <th>75%</th>\n",
              "      <td>0.547759</td>\n",
              "      <td>1.000000</td>\n",
              "      <td>9.000000</td>\n",
              "      <td>21.000000</td>\n",
              "      <td>8.000000</td>\n",
              "      <td>1583.000000</td>\n",
              "      <td>0.535569</td>\n",
              "      <td>0.617071</td>\n",
              "      <td>0.681306</td>\n",
              "      <td>0.000000</td>\n",
              "      <td>0.000000</td>\n",
              "    </tr>\n",
              "    <tr>\n",
              "      <th>max</th>\n",
              "      <td>0.826494</td>\n",
              "      <td>1.000000</td>\n",
              "      <td>16.000000</td>\n",
              "      <td>51.000000</td>\n",
              "      <td>60.000000</td>\n",
              "      <td>3668.000000</td>\n",
              "      <td>0.878739</td>\n",
              "      <td>0.855303</td>\n",
              "      <td>0.917463</td>\n",
              "      <td>3.000000</td>\n",
              "      <td>3653.000000</td>\n",
              "    </tr>\n",
              "  </tbody>\n",
              "</table>\n",
              "</div>"
            ],
            "text/plain": [
              "         TOKEN_VECT     IS_ANSWER  ...           NER  COREFERENCE_CLUSTER\n",
              "count  15000.000000  15000.000000  ...  15000.000000         15000.000000\n",
              "mean       0.500553      0.850467  ...      0.079000            47.898600\n",
              "std        0.085986      0.356625  ...      0.369281           295.585406\n",
              "min       -0.239887      0.000000  ...      0.000000             0.000000\n",
              "25%        0.442966      1.000000  ...      0.000000             0.000000\n",
              "50%        0.487447      1.000000  ...      0.000000             0.000000\n",
              "75%        0.547759      1.000000  ...      0.000000             0.000000\n",
              "max        0.826494      1.000000  ...      3.000000          3653.000000\n",
              "\n",
              "[8 rows x 11 columns]"
            ]
          },
          "metadata": {
            "tags": []
          },
          "execution_count": 1265
        }
      ]
    },
    {
      "cell_type": "markdown",
      "metadata": {
        "id": "XZo_bJR6uuvc"
      },
      "source": [
        "## **Модели. Обучение, оценка.**"
      ]
    },
    {
      "cell_type": "markdown",
      "metadata": {
        "id": "qrdNCMTOu1P0"
      },
      "source": [
        "Факторизуем троковые данные, чтобы вместо строковых представлений классов были численные."
      ]
    },
    {
      "cell_type": "code",
      "metadata": {
        "colab": {
          "base_uri": "https://localhost:8080/"
        },
        "id": "hn2LX9ViO9i0",
        "outputId": "be762b32-1230-4754-fb3a-517fbf89a7e5"
      },
      "source": [
        "for_factorize = 'ANIMACY\tCASE\tGENDER\tPERSON\tPOS\tDEPENDENCY\tHEAD\tHEAD_ANIMACY\tHEAD_CASE\tHEAD_GENDER\tHEAD_POS'.split()\n",
        "for_factorize"
      ],
      "execution_count": 1266,
      "outputs": [
        {
          "output_type": "execute_result",
          "data": {
            "text/plain": [
              "['ANIMACY',\n",
              " 'CASE',\n",
              " 'GENDER',\n",
              " 'PERSON',\n",
              " 'POS',\n",
              " 'DEPENDENCY',\n",
              " 'HEAD',\n",
              " 'HEAD_ANIMACY',\n",
              " 'HEAD_CASE',\n",
              " 'HEAD_GENDER',\n",
              " 'HEAD_POS']"
            ]
          },
          "metadata": {
            "tags": []
          },
          "execution_count": 1266
        }
      ]
    },
    {
      "cell_type": "code",
      "metadata": {
        "colab": {
          "base_uri": "https://localhost:8080/"
        },
        "id": "MuTn5rTEPJq1",
        "outputId": "21c8f635-4279-42bb-d378-600e1ab36b78"
      },
      "source": [
        "_, lbl = pd.factorize(df.ANIMACY)\n",
        "print(lbl, )\n",
        "_"
      ],
      "execution_count": 1267,
      "outputs": [
        {
          "output_type": "stream",
          "text": [
            "Index(['inan', 'anim'], dtype='object')\n"
          ],
          "name": "stdout"
        },
        {
          "output_type": "execute_result",
          "data": {
            "text/plain": [
              "array([-1,  0,  1, ..., -1, -1,  0])"
            ]
          },
          "metadata": {
            "tags": []
          },
          "execution_count": 1267
        }
      ]
    },
    {
      "cell_type": "markdown",
      "metadata": {
        "id": "okLj0sOex6rt"
      },
      "source": [
        "Делаем словарь с маппингом, чтобы можно было достать нужное значение по индексу. В значении -1 хранится None"
      ]
    },
    {
      "cell_type": "code",
      "metadata": {
        "colab": {
          "base_uri": "https://localhost:8080/"
        },
        "id": "QoqDVz2lQjmV",
        "outputId": "43e5f09b-ce3d-4191-cd53-4fbc116e3c1d"
      },
      "source": [
        "mapping_dict = {}\n",
        "for col_name in for_factorize:\n",
        "  col, lbl = pd.factorize(df[col_name])\n",
        "  df[col_name] = col\n",
        "  mapping_dict[col_name] = lbl\n",
        "mapping_dict  "
      ],
      "execution_count": 1268,
      "outputs": [
        {
          "output_type": "stream",
          "text": [
            "/usr/local/lib/python3.7/dist-packages/ipykernel_launcher.py:4: SettingWithCopyWarning: \n",
            "A value is trying to be set on a copy of a slice from a DataFrame.\n",
            "Try using .loc[row_indexer,col_indexer] = value instead\n",
            "\n",
            "See the caveats in the documentation: https://pandas.pydata.org/pandas-docs/stable/user_guide/indexing.html#returning-a-view-versus-a-copy\n",
            "  after removing the cwd from sys.path.\n"
          ],
          "name": "stderr"
        },
        {
          "output_type": "execute_result",
          "data": {
            "text/plain": [
              "{'ANIMACY': Index(['inan', 'anim'], dtype='object'),\n",
              " 'CASE': Index(['nomn', 'gent', 'datv', 'accs', 'loct', 'ablt', 'loc2', 'voct', 'gen2'], dtype='object'),\n",
              " 'DEPENDENCY': Index(['ROOT', 'obj', 'appos', 'parataxis', 'conj', 'advmod', 'ccomp', 'iobj',\n",
              "        'csubj', 'case', 'obl', 'det', 'nsubj', 'cc', 'discourse', 'fixed',\n",
              "        'mark', 'amod', 'advcl', 'xcomp', 'nummod', 'nmod', 'nsubj:pass',\n",
              "        'nummod:gov', 'cop', 'acl:relcl', 'acl', 'aux', 'flat:foreign', 'punct',\n",
              "        'obl:agent', 'flat', 'aux:pass', 'orphan', 'expl', 'csubj:pass'],\n",
              "       dtype='object'),\n",
              " 'GENDER': Index(['masc', 'femn', 'neut'], dtype='object'),\n",
              " 'HEAD': Index(['обсуждаем', 'препарат', 'рисперидон', 'рисполепт', 'знаю', 'стоило',\n",
              "        'меня', 'нет', 'проблем', 'лекарством',\n",
              "        ...\n",
              "        'привился', 'прививки', 'решать', 'неизвестно', 'быстро', 'проводились',\n",
              "        'испытания', 'аукнется', 'вакцина', 'организме'],\n",
              "       dtype='object', length=2519),\n",
              " 'HEAD_ANIMACY': Index(['inan', 'anim'], dtype='object'),\n",
              " 'HEAD_CASE': Index(['nomn', 'gent', 'accs', 'ablt', 'datv', 'loct', 'loc2', 'voct'], dtype='object'),\n",
              " 'HEAD_GENDER': Index(['masc', 'femn', 'neut'], dtype='object'),\n",
              " 'HEAD_POS': Index(['VERB', 'NOUN', 'NPRO', 'PRED', 'PREP', 'INFN', 'PRTS', 'GRND', 'ADJF',\n",
              "        'ADVB', 'PRCL', 'PRTF', 'CONJ', 'ADJS', 'COMP', 'INTJ', 'NUMR'],\n",
              "       dtype='object'),\n",
              " 'PERSON': Index(['1per', '3per', '2per'], dtype='object'),\n",
              " 'POS': Index(['VERB', 'NOUN', 'PRTS', 'PRCL', 'CONJ', 'NPRO', 'INFN', 'PREP', 'ADVB',\n",
              "        'PRED', 'ADJF', 'NUMR', 'GRND', 'COMP', 'PRTF', 'ADJS', 'INTJ'],\n",
              "       dtype='object')}"
            ]
          },
          "metadata": {
            "tags": []
          },
          "execution_count": 1268
        }
      ]
    },
    {
      "cell_type": "code",
      "metadata": {
        "id": "pdg6Pp5wbx5Y"
      },
      "source": [
        "\n",
        "# labels_dict = {}\n",
        "# test_labels_dict = {}\n",
        "\n",
        "# for i in X.columns:\n",
        "#   X[i], lbl = pd.factorize(X[i])\n",
        "#   labels_dict[i] = lbl\n",
        "\n",
        "# for i in X_test.columns:\n",
        "#   X_test[i], lbl = pd.factorize(X_test[i])\n",
        "#   test_labels_dict[i] = lbl \n",
        "\n",
        "# y = cor_df['COREFERENCE_CLUSTER']\n",
        "# y, y_label = pd.factorize(y)\n",
        "\n",
        "# y_test = cor_df_test['COREFERENCE_CLUSTER']\n",
        "# y_test, y_test_label = pd.factorize(y_test)"
      ],
      "execution_count": 1269,
      "outputs": []
    },
    {
      "cell_type": "code",
      "metadata": {
        "colab": {
          "base_uri": "https://localhost:8080/",
          "height": 427
        },
        "id": "FJxFPuolOm_y",
        "outputId": "45d99906-6c93-4201-bdc3-6d8a56ffc475"
      },
      "source": [
        "df.loc[(df['NER'] == 1.0) | (df['NER'] == 2.0 )]"
      ],
      "execution_count": 1270,
      "outputs": [
        {
          "output_type": "execute_result",
          "data": {
            "text/html": [
              "<div>\n",
              "<style scoped>\n",
              "    .dataframe tbody tr th:only-of-type {\n",
              "        vertical-align: middle;\n",
              "    }\n",
              "\n",
              "    .dataframe tbody tr th {\n",
              "        vertical-align: top;\n",
              "    }\n",
              "\n",
              "    .dataframe thead th {\n",
              "        text-align: right;\n",
              "    }\n",
              "</style>\n",
              "<table border=\"1\" class=\"dataframe\">\n",
              "  <thead>\n",
              "    <tr style=\"text-align: right;\">\n",
              "      <th></th>\n",
              "      <th>TOKEN</th>\n",
              "      <th>TOKEN_VECT</th>\n",
              "      <th>IS_ANSWER</th>\n",
              "      <th>TOPIC_NUM</th>\n",
              "      <th>POST_NUM</th>\n",
              "      <th>SENT_NUM</th>\n",
              "      <th>TOKEN_NUM</th>\n",
              "      <th>ANIMACY</th>\n",
              "      <th>CASE</th>\n",
              "      <th>GENDER</th>\n",
              "      <th>PERSON</th>\n",
              "      <th>POS</th>\n",
              "      <th>DEPENDENCY</th>\n",
              "      <th>HEAD</th>\n",
              "      <th>HEAD_ANIMACY</th>\n",
              "      <th>HEAD_CASE</th>\n",
              "      <th>HEAD_GENDER</th>\n",
              "      <th>HEAD_POS</th>\n",
              "      <th>HEAD_VECT</th>\n",
              "      <th>SENT_VECT</th>\n",
              "      <th>HEAD_CHILDS_VECT</th>\n",
              "      <th>NER</th>\n",
              "      <th>COREFERENCE_CLUSTER</th>\n",
              "    </tr>\n",
              "  </thead>\n",
              "  <tbody>\n",
              "    <tr>\n",
              "      <th>2</th>\n",
              "      <td>рисперидон</td>\n",
              "      <td>0.779845</td>\n",
              "      <td>0</td>\n",
              "      <td>1</td>\n",
              "      <td>0</td>\n",
              "      <td>0</td>\n",
              "      <td>2</td>\n",
              "      <td>1</td>\n",
              "      <td>0</td>\n",
              "      <td>0</td>\n",
              "      <td>-1</td>\n",
              "      <td>1</td>\n",
              "      <td>2</td>\n",
              "      <td>1</td>\n",
              "      <td>0</td>\n",
              "      <td>0</td>\n",
              "      <td>0</td>\n",
              "      <td>1</td>\n",
              "      <td>0.878739</td>\n",
              "      <td>0.835993</td>\n",
              "      <td>0.808772</td>\n",
              "      <td>1.0</td>\n",
              "      <td>2.0</td>\n",
              "    </tr>\n",
              "    <tr>\n",
              "      <th>3</th>\n",
              "      <td>рисполепт</td>\n",
              "      <td>0.797031</td>\n",
              "      <td>0</td>\n",
              "      <td>1</td>\n",
              "      <td>0</td>\n",
              "      <td>0</td>\n",
              "      <td>3</td>\n",
              "      <td>0</td>\n",
              "      <td>1</td>\n",
              "      <td>1</td>\n",
              "      <td>-1</td>\n",
              "      <td>1</td>\n",
              "      <td>3</td>\n",
              "      <td>2</td>\n",
              "      <td>1</td>\n",
              "      <td>0</td>\n",
              "      <td>0</td>\n",
              "      <td>1</td>\n",
              "      <td>0.554854</td>\n",
              "      <td>0.835993</td>\n",
              "      <td>0.830899</td>\n",
              "      <td>1.0</td>\n",
              "      <td>3.0</td>\n",
              "    </tr>\n",
              "    <tr>\n",
              "      <th>4</th>\n",
              "      <td>сперидан</td>\n",
              "      <td>0.760111</td>\n",
              "      <td>0</td>\n",
              "      <td>1</td>\n",
              "      <td>0</td>\n",
              "      <td>0</td>\n",
              "      <td>4</td>\n",
              "      <td>-1</td>\n",
              "      <td>-1</td>\n",
              "      <td>0</td>\n",
              "      <td>-1</td>\n",
              "      <td>2</td>\n",
              "      <td>4</td>\n",
              "      <td>3</td>\n",
              "      <td>0</td>\n",
              "      <td>1</td>\n",
              "      <td>1</td>\n",
              "      <td>1</td>\n",
              "      <td>0.602089</td>\n",
              "      <td>0.835993</td>\n",
              "      <td>0.805134</td>\n",
              "      <td>1.0</td>\n",
              "      <td>4.0</td>\n",
              "    </tr>\n",
              "    <tr>\n",
              "      <th>21</th>\n",
              "      <td>лекарством</td>\n",
              "      <td>0.456023</td>\n",
              "      <td>0</td>\n",
              "      <td>1</td>\n",
              "      <td>1</td>\n",
              "      <td>1</td>\n",
              "      <td>10</td>\n",
              "      <td>0</td>\n",
              "      <td>5</td>\n",
              "      <td>2</td>\n",
              "      <td>-1</td>\n",
              "      <td>1</td>\n",
              "      <td>4</td>\n",
              "      <td>7</td>\n",
              "      <td>-1</td>\n",
              "      <td>-1</td>\n",
              "      <td>-1</td>\n",
              "      <td>3</td>\n",
              "      <td>0.520258</td>\n",
              "      <td>0.518605</td>\n",
              "      <td>0.660347</td>\n",
              "      <td>2.0</td>\n",
              "      <td>0.0</td>\n",
              "    </tr>\n",
              "    <tr>\n",
              "      <th>142</th>\n",
              "      <td>рисполепта</td>\n",
              "      <td>0.731182</td>\n",
              "      <td>0</td>\n",
              "      <td>1</td>\n",
              "      <td>1</td>\n",
              "      <td>13</td>\n",
              "      <td>7</td>\n",
              "      <td>0</td>\n",
              "      <td>0</td>\n",
              "      <td>1</td>\n",
              "      <td>-1</td>\n",
              "      <td>1</td>\n",
              "      <td>21</td>\n",
              "      <td>69</td>\n",
              "      <td>0</td>\n",
              "      <td>2</td>\n",
              "      <td>1</td>\n",
              "      <td>1</td>\n",
              "      <td>0.471137</td>\n",
              "      <td>0.639488</td>\n",
              "      <td>0.762393</td>\n",
              "      <td>1.0</td>\n",
              "      <td>142.0</td>\n",
              "    </tr>\n",
              "    <tr>\n",
              "      <th>...</th>\n",
              "      <td>...</td>\n",
              "      <td>...</td>\n",
              "      <td>...</td>\n",
              "      <td>...</td>\n",
              "      <td>...</td>\n",
              "      <td>...</td>\n",
              "      <td>...</td>\n",
              "      <td>...</td>\n",
              "      <td>...</td>\n",
              "      <td>...</td>\n",
              "      <td>...</td>\n",
              "      <td>...</td>\n",
              "      <td>...</td>\n",
              "      <td>...</td>\n",
              "      <td>...</td>\n",
              "      <td>...</td>\n",
              "      <td>...</td>\n",
              "      <td>...</td>\n",
              "      <td>...</td>\n",
              "      <td>...</td>\n",
              "      <td>...</td>\n",
              "      <td>...</td>\n",
              "      <td>...</td>\n",
              "    </tr>\n",
              "    <tr>\n",
              "      <th>12726</th>\n",
              "      <td>приходили</td>\n",
              "      <td>0.534609</td>\n",
              "      <td>0</td>\n",
              "      <td>15</td>\n",
              "      <td>0</td>\n",
              "      <td>10</td>\n",
              "      <td>1</td>\n",
              "      <td>-1</td>\n",
              "      <td>-1</td>\n",
              "      <td>-1</td>\n",
              "      <td>-1</td>\n",
              "      <td>0</td>\n",
              "      <td>0</td>\n",
              "      <td>2307</td>\n",
              "      <td>-1</td>\n",
              "      <td>-1</td>\n",
              "      <td>-1</td>\n",
              "      <td>0</td>\n",
              "      <td>0.510058</td>\n",
              "      <td>0.492714</td>\n",
              "      <td>0.630305</td>\n",
              "      <td>1.0</td>\n",
              "      <td>204.0</td>\n",
              "    </tr>\n",
              "    <tr>\n",
              "      <th>12785</th>\n",
              "      <td>завершению</td>\n",
              "      <td>0.453896</td>\n",
              "      <td>0</td>\n",
              "      <td>15</td>\n",
              "      <td>0</td>\n",
              "      <td>16</td>\n",
              "      <td>1</td>\n",
              "      <td>0</td>\n",
              "      <td>2</td>\n",
              "      <td>2</td>\n",
              "      <td>-1</td>\n",
              "      <td>1</td>\n",
              "      <td>10</td>\n",
              "      <td>1851</td>\n",
              "      <td>-1</td>\n",
              "      <td>-1</td>\n",
              "      <td>-1</td>\n",
              "      <td>0</td>\n",
              "      <td>0.390514</td>\n",
              "      <td>0.437342</td>\n",
              "      <td>0.503593</td>\n",
              "      <td>1.0</td>\n",
              "      <td>263.0</td>\n",
              "    </tr>\n",
              "    <tr>\n",
              "      <th>12854</th>\n",
              "      <td>к</td>\n",
              "      <td>0.415880</td>\n",
              "      <td>0</td>\n",
              "      <td>15</td>\n",
              "      <td>0</td>\n",
              "      <td>22</td>\n",
              "      <td>3</td>\n",
              "      <td>-1</td>\n",
              "      <td>-1</td>\n",
              "      <td>-1</td>\n",
              "      <td>-1</td>\n",
              "      <td>7</td>\n",
              "      <td>9</td>\n",
              "      <td>2332</td>\n",
              "      <td>1</td>\n",
              "      <td>2</td>\n",
              "      <td>1</td>\n",
              "      <td>1</td>\n",
              "      <td>0.626481</td>\n",
              "      <td>0.641312</td>\n",
              "      <td>0.428054</td>\n",
              "      <td>1.0</td>\n",
              "      <td>332.0</td>\n",
              "    </tr>\n",
              "    <tr>\n",
              "      <th>12876</th>\n",
              "      <td>стадию</td>\n",
              "      <td>0.542401</td>\n",
              "      <td>0</td>\n",
              "      <td>15</td>\n",
              "      <td>0</td>\n",
              "      <td>25</td>\n",
              "      <td>7</td>\n",
              "      <td>0</td>\n",
              "      <td>3</td>\n",
              "      <td>1</td>\n",
              "      <td>-1</td>\n",
              "      <td>1</td>\n",
              "      <td>1</td>\n",
              "      <td>1777</td>\n",
              "      <td>-1</td>\n",
              "      <td>-1</td>\n",
              "      <td>-1</td>\n",
              "      <td>0</td>\n",
              "      <td>0.475252</td>\n",
              "      <td>0.694040</td>\n",
              "      <td>0.622309</td>\n",
              "      <td>2.0</td>\n",
              "      <td>0.0</td>\n",
              "    </tr>\n",
              "    <tr>\n",
              "      <th>12879</th>\n",
              "      <td>моя</td>\n",
              "      <td>0.407910</td>\n",
              "      <td>0</td>\n",
              "      <td>15</td>\n",
              "      <td>0</td>\n",
              "      <td>26</td>\n",
              "      <td>0</td>\n",
              "      <td>-1</td>\n",
              "      <td>0</td>\n",
              "      <td>1</td>\n",
              "      <td>-1</td>\n",
              "      <td>10</td>\n",
              "      <td>11</td>\n",
              "      <td>2342</td>\n",
              "      <td>1</td>\n",
              "      <td>0</td>\n",
              "      <td>1</td>\n",
              "      <td>1</td>\n",
              "      <td>0.386935</td>\n",
              "      <td>0.578338</td>\n",
              "      <td>0.518951</td>\n",
              "      <td>1.0</td>\n",
              "      <td>357.0</td>\n",
              "    </tr>\n",
              "  </tbody>\n",
              "</table>\n",
              "<p>708 rows × 23 columns</p>\n",
              "</div>"
            ],
            "text/plain": [
              "            TOKEN  TOKEN_VECT  ...  NER  COREFERENCE_CLUSTER\n",
              "2      рисперидон    0.779845  ...  1.0                  2.0\n",
              "3       рисполепт    0.797031  ...  1.0                  3.0\n",
              "4        сперидан    0.760111  ...  1.0                  4.0\n",
              "21     лекарством    0.456023  ...  2.0                  0.0\n",
              "142    рисполепта    0.731182  ...  1.0                142.0\n",
              "...           ...         ...  ...  ...                  ...\n",
              "12726   приходили    0.534609  ...  1.0                204.0\n",
              "12785  завершению    0.453896  ...  1.0                263.0\n",
              "12854           к    0.415880  ...  1.0                332.0\n",
              "12876      стадию    0.542401  ...  2.0                  0.0\n",
              "12879         моя    0.407910  ...  1.0                357.0\n",
              "\n",
              "[708 rows x 23 columns]"
            ]
          },
          "metadata": {
            "tags": []
          },
          "execution_count": 1270
        }
      ]
    },
    {
      "cell_type": "markdown",
      "metadata": {
        "id": "gHAqJq-syGu4"
      },
      "source": [
        "Разделим датасет на тестовый и тренировочный. for_train, for_test "
      ]
    },
    {
      "cell_type": "code",
      "metadata": {
        "id": "_iE_6DTwjs9r"
      },
      "source": [
        "# train, test = train_test_split(df.loc[(df['NER'] == 1.0) | (df['NER'] == 2.0 ) | (df['NER'] == 3.0 )], test_size=0.2)\n",
        "# train, test = train_test_split(df, test_size=0.2)\n",
        "train, test = train_test_split(df.loc[(df['NER'] == 2.0 ) | (df['NER'] == 3.0 )], test_size=0.2)"
      ],
      "execution_count": 1271,
      "outputs": []
    },
    {
      "cell_type": "code",
      "metadata": {
        "id": "NSpO2JclSBoW"
      },
      "source": [
        "train = train.reset_index()"
      ],
      "execution_count": 1272,
      "outputs": []
    },
    {
      "cell_type": "markdown",
      "metadata": {
        "id": "p9jYUXyTyO7S"
      },
      "source": [
        ""
      ]
    },
    {
      "cell_type": "code",
      "metadata": {
        "id": "Iqdr1Z1MbxQP"
      },
      "source": [
        "# train = train.iloc[:,:24].drop(['TOKEN', 'level_0', 'index'], axis=1)\n",
        "# train = train.drop(['TOKEN', 'index'], axis=1)"
      ],
      "execution_count": 1273,
      "outputs": []
    },
    {
      "cell_type": "code",
      "metadata": {
        "id": "15JsamoeRUQ3"
      },
      "source": [
        "test = test.reset_index()"
      ],
      "execution_count": 1274,
      "outputs": []
    },
    {
      "cell_type": "code",
      "metadata": {
        "colab": {
          "base_uri": "https://localhost:8080/",
          "height": 218
        },
        "id": "yJ-7SyinSvCF",
        "outputId": "608938a9-ef9e-470d-dbe7-ac5bee5e3ad1"
      },
      "source": [
        "test.head(5)"
      ],
      "execution_count": 1275,
      "outputs": [
        {
          "output_type": "execute_result",
          "data": {
            "text/html": [
              "<div>\n",
              "<style scoped>\n",
              "    .dataframe tbody tr th:only-of-type {\n",
              "        vertical-align: middle;\n",
              "    }\n",
              "\n",
              "    .dataframe tbody tr th {\n",
              "        vertical-align: top;\n",
              "    }\n",
              "\n",
              "    .dataframe thead th {\n",
              "        text-align: right;\n",
              "    }\n",
              "</style>\n",
              "<table border=\"1\" class=\"dataframe\">\n",
              "  <thead>\n",
              "    <tr style=\"text-align: right;\">\n",
              "      <th></th>\n",
              "      <th>index</th>\n",
              "      <th>TOKEN</th>\n",
              "      <th>TOKEN_VECT</th>\n",
              "      <th>IS_ANSWER</th>\n",
              "      <th>TOPIC_NUM</th>\n",
              "      <th>POST_NUM</th>\n",
              "      <th>SENT_NUM</th>\n",
              "      <th>TOKEN_NUM</th>\n",
              "      <th>ANIMACY</th>\n",
              "      <th>CASE</th>\n",
              "      <th>GENDER</th>\n",
              "      <th>PERSON</th>\n",
              "      <th>POS</th>\n",
              "      <th>DEPENDENCY</th>\n",
              "      <th>HEAD</th>\n",
              "      <th>HEAD_ANIMACY</th>\n",
              "      <th>HEAD_CASE</th>\n",
              "      <th>HEAD_GENDER</th>\n",
              "      <th>HEAD_POS</th>\n",
              "      <th>HEAD_VECT</th>\n",
              "      <th>SENT_VECT</th>\n",
              "      <th>HEAD_CHILDS_VECT</th>\n",
              "      <th>NER</th>\n",
              "      <th>COREFERENCE_CLUSTER</th>\n",
              "    </tr>\n",
              "  </thead>\n",
              "  <tbody>\n",
              "    <tr>\n",
              "      <th>0</th>\n",
              "      <td>6857</td>\n",
              "      <td>тиапридал</td>\n",
              "      <td>0.741596</td>\n",
              "      <td>1</td>\n",
              "      <td>5</td>\n",
              "      <td>23</td>\n",
              "      <td>6</td>\n",
              "      <td>655</td>\n",
              "      <td>-1</td>\n",
              "      <td>-1</td>\n",
              "      <td>0</td>\n",
              "      <td>-1</td>\n",
              "      <td>0</td>\n",
              "      <td>12</td>\n",
              "      <td>959</td>\n",
              "      <td>-1</td>\n",
              "      <td>-1</td>\n",
              "      <td>-1</td>\n",
              "      <td>0</td>\n",
              "      <td>0.492346</td>\n",
              "      <td>0.677002</td>\n",
              "      <td>0.746307</td>\n",
              "      <td>2.0</td>\n",
              "      <td>659.0</td>\n",
              "    </tr>\n",
              "    <tr>\n",
              "      <th>1</th>\n",
              "      <td>11495</td>\n",
              "      <td>приемом</td>\n",
              "      <td>0.525894</td>\n",
              "      <td>0</td>\n",
              "      <td>9</td>\n",
              "      <td>0</td>\n",
              "      <td>36</td>\n",
              "      <td>5</td>\n",
              "      <td>0</td>\n",
              "      <td>5</td>\n",
              "      <td>0</td>\n",
              "      <td>-1</td>\n",
              "      <td>1</td>\n",
              "      <td>21</td>\n",
              "      <td>2107</td>\n",
              "      <td>0</td>\n",
              "      <td>0</td>\n",
              "      <td>1</td>\n",
              "      <td>1</td>\n",
              "      <td>0.446821</td>\n",
              "      <td>0.589413</td>\n",
              "      <td>0.668940</td>\n",
              "      <td>2.0</td>\n",
              "      <td>0.0</td>\n",
              "    </tr>\n",
              "    <tr>\n",
              "      <th>2</th>\n",
              "      <td>7719</td>\n",
              "      <td>она</td>\n",
              "      <td>0.476860</td>\n",
              "      <td>1</td>\n",
              "      <td>5</td>\n",
              "      <td>42</td>\n",
              "      <td>2</td>\n",
              "      <td>1517</td>\n",
              "      <td>-1</td>\n",
              "      <td>0</td>\n",
              "      <td>1</td>\n",
              "      <td>1</td>\n",
              "      <td>5</td>\n",
              "      <td>12</td>\n",
              "      <td>1531</td>\n",
              "      <td>-1</td>\n",
              "      <td>-1</td>\n",
              "      <td>1</td>\n",
              "      <td>0</td>\n",
              "      <td>0.424577</td>\n",
              "      <td>0.711463</td>\n",
              "      <td>0.741778</td>\n",
              "      <td>3.0</td>\n",
              "      <td>1516.0</td>\n",
              "    </tr>\n",
              "    <tr>\n",
              "      <th>3</th>\n",
              "      <td>825</td>\n",
              "      <td>нём</td>\n",
              "      <td>0.482211</td>\n",
              "      <td>1</td>\n",
              "      <td>2</td>\n",
              "      <td>4</td>\n",
              "      <td>3</td>\n",
              "      <td>160</td>\n",
              "      <td>-1</td>\n",
              "      <td>4</td>\n",
              "      <td>0</td>\n",
              "      <td>1</td>\n",
              "      <td>5</td>\n",
              "      <td>10</td>\n",
              "      <td>42</td>\n",
              "      <td>-1</td>\n",
              "      <td>-1</td>\n",
              "      <td>-1</td>\n",
              "      <td>0</td>\n",
              "      <td>0.455551</td>\n",
              "      <td>0.546205</td>\n",
              "      <td>0.746593</td>\n",
              "      <td>3.0</td>\n",
              "      <td>182.0</td>\n",
              "    </tr>\n",
              "    <tr>\n",
              "      <th>4</th>\n",
              "      <td>3626</td>\n",
              "      <td>его</td>\n",
              "      <td>0.519055</td>\n",
              "      <td>1</td>\n",
              "      <td>3</td>\n",
              "      <td>21</td>\n",
              "      <td>4</td>\n",
              "      <td>1742</td>\n",
              "      <td>-1</td>\n",
              "      <td>3</td>\n",
              "      <td>0</td>\n",
              "      <td>1</td>\n",
              "      <td>5</td>\n",
              "      <td>1</td>\n",
              "      <td>727</td>\n",
              "      <td>-1</td>\n",
              "      <td>-1</td>\n",
              "      <td>-1</td>\n",
              "      <td>0</td>\n",
              "      <td>0.529804</td>\n",
              "      <td>0.519936</td>\n",
              "      <td>0.673091</td>\n",
              "      <td>3.0</td>\n",
              "      <td>1750.0</td>\n",
              "    </tr>\n",
              "  </tbody>\n",
              "</table>\n",
              "</div>"
            ],
            "text/plain": [
              "   index      TOKEN  TOKEN_VECT  ...  HEAD_CHILDS_VECT  NER  COREFERENCE_CLUSTER\n",
              "0   6857  тиапридал    0.741596  ...          0.746307  2.0                659.0\n",
              "1  11495    приемом    0.525894  ...          0.668940  2.0                  0.0\n",
              "2   7719        она    0.476860  ...          0.741778  3.0               1516.0\n",
              "3    825        нём    0.482211  ...          0.746593  3.0                182.0\n",
              "4   3626        его    0.519055  ...          0.673091  3.0               1750.0\n",
              "\n",
              "[5 rows x 24 columns]"
            ]
          },
          "metadata": {
            "tags": []
          },
          "execution_count": 1275
        }
      ]
    },
    {
      "cell_type": "code",
      "metadata": {
        "id": "4af_SNBkhigO"
      },
      "source": [
        "# test = test.iloc[:,:24].drop(['TOKEN', 'index'], axis=1)\n",
        "# test = test.drop(['TOKEN', 'index'], axis=1)"
      ],
      "execution_count": 1276,
      "outputs": []
    },
    {
      "cell_type": "code",
      "metadata": {
        "id": "cBXo00kAS49b"
      },
      "source": [
        "# test.loc[test['NER'] != 0]"
      ],
      "execution_count": 1277,
      "outputs": []
    },
    {
      "cell_type": "code",
      "metadata": {
        "id": "htGIdgGgPeL8"
      },
      "source": [
        "# ['TOPIC_NUM',\t'POST_NUM',\t'TOKEN_NUM',\t'GENDER',\t'PERSON', 'TOKEN', 'TOKEN_VECT', 'IS_ANSWER', 'SENT_NUM', 'HEAD_VECT', 'HEAD_CHILDS_VECT', \n",
        "#  'index', 'HEAD_ANIMACY',\t'HEAD_CASE',\t'HEAD_GENDER', 'ANIMACY',\t'CASE',\t'POS',\t'DEPENDENCY',\t'HEAD',\t'HEAD_POS']"
      ],
      "execution_count": 1278,
      "outputs": []
    },
    {
      "cell_type": "code",
      "metadata": {
        "id": "FweGW5SOrkaH"
      },
      "source": [
        "# best set\n",
        "\n",
        "# X, y, X_test, y_test = train.drop(['TOKEN',  'DEPENDENCY',  'index', 'HEAD_ANIMACY',\t'HEAD_CASE',\t'HEAD_GENDER', 'ANIMACY',\t\t\t\t'HEAD',\t'HEAD_POS'], axis=1).iloc[:,:18], \\\n",
        "# train.COREFERENCE_CLUSTER, test.drop([  'TOKEN', 'DEPENDENCY',    'index', 'HEAD_ANIMACY',\t'HEAD_CASE',\t'HEAD_GENDER', 'ANIMACY',\t\t\t'HEAD',\t'HEAD_POS'], axis=1).iloc[:,:18], test.COREFERENCE_CLUSTER"
      ],
      "execution_count": 1279,
      "outputs": []
    },
    {
      "cell_type": "markdown",
      "metadata": {
        "id": "59_MptFSzbP9"
      },
      "source": [
        "Делаем наборы для обучения моделей."
      ]
    },
    {
      "cell_type": "code",
      "metadata": {
        "id": "Gz0Kri_pTC1s"
      },
      "source": [
        "X, y, X_test, y_test = train.drop(['TOKEN',  'HEAD_VECT', 'POST_NUM', 'IS_ANSWER', 'PERSON', 'HEAD_CHILDS_VECT', 'TOPIC_NUM', 'CASE', 'SENT_NUM', 'DEPENDENCY',  'index', 'HEAD_ANIMACY',\t'HEAD_CASE',\t'HEAD_GENDER', 'ANIMACY',\t\t\t\t'HEAD',\t'HEAD_POS'], axis=1).iloc[:,:18], \\\n",
        "train.COREFERENCE_CLUSTER, test.drop(['TOKEN',  'HEAD_VECT', 'POST_NUM', 'IS_ANSWER', 'PERSON', 'HEAD_CHILDS_VECT', 'TOPIC_NUM', 'CASE', 'SENT_NUM', 'DEPENDENCY',    'index', 'HEAD_ANIMACY',\t'HEAD_CASE',\t'HEAD_GENDER', 'ANIMACY',\t\t\t'HEAD',\t'HEAD_POS'], axis=1).iloc[:,:18], test.COREFERENCE_CLUSTER"
      ],
      "execution_count": 1280,
      "outputs": []
    },
    {
      "cell_type": "code",
      "metadata": {
        "id": "-omX42NNMv52"
      },
      "source": [
        "# X, y, X_test, y_test = train.drop(['TOKEN', 'index'], axis=1).iloc[:,:24], train.COREFERENCE_CLUSTER, test.drop(['TOKEN', 'index'], axis=1).iloc[:,:24], test.COREFERENCE_CLUSTER"
      ],
      "execution_count": 1281,
      "outputs": []
    },
    {
      "cell_type": "code",
      "metadata": {
        "colab": {
          "base_uri": "https://localhost:8080/",
          "height": 407
        },
        "id": "2x9H9mrBGOyH",
        "outputId": "d21034f5-bbe8-46d4-a86e-24fdbb365e8b"
      },
      "source": [
        "X"
      ],
      "execution_count": 1282,
      "outputs": [
        {
          "output_type": "execute_result",
          "data": {
            "text/html": [
              "<div>\n",
              "<style scoped>\n",
              "    .dataframe tbody tr th:only-of-type {\n",
              "        vertical-align: middle;\n",
              "    }\n",
              "\n",
              "    .dataframe tbody tr th {\n",
              "        vertical-align: top;\n",
              "    }\n",
              "\n",
              "    .dataframe thead th {\n",
              "        text-align: right;\n",
              "    }\n",
              "</style>\n",
              "<table border=\"1\" class=\"dataframe\">\n",
              "  <thead>\n",
              "    <tr style=\"text-align: right;\">\n",
              "      <th></th>\n",
              "      <th>TOKEN_VECT</th>\n",
              "      <th>TOKEN_NUM</th>\n",
              "      <th>GENDER</th>\n",
              "      <th>POS</th>\n",
              "      <th>SENT_VECT</th>\n",
              "      <th>NER</th>\n",
              "      <th>COREFERENCE_CLUSTER</th>\n",
              "    </tr>\n",
              "  </thead>\n",
              "  <tbody>\n",
              "    <tr>\n",
              "      <th>0</th>\n",
              "      <td>0.505452</td>\n",
              "      <td>0</td>\n",
              "      <td>0</td>\n",
              "      <td>5</td>\n",
              "      <td>0.647600</td>\n",
              "      <td>3.0</td>\n",
              "      <td>5.0</td>\n",
              "    </tr>\n",
              "    <tr>\n",
              "      <th>1</th>\n",
              "      <td>0.542401</td>\n",
              "      <td>7</td>\n",
              "      <td>1</td>\n",
              "      <td>1</td>\n",
              "      <td>0.694040</td>\n",
              "      <td>2.0</td>\n",
              "      <td>0.0</td>\n",
              "    </tr>\n",
              "    <tr>\n",
              "      <th>2</th>\n",
              "      <td>0.588361</td>\n",
              "      <td>218</td>\n",
              "      <td>-1</td>\n",
              "      <td>-1</td>\n",
              "      <td>0.655383</td>\n",
              "      <td>2.0</td>\n",
              "      <td>27.0</td>\n",
              "    </tr>\n",
              "    <tr>\n",
              "      <th>3</th>\n",
              "      <td>0.497058</td>\n",
              "      <td>8</td>\n",
              "      <td>0</td>\n",
              "      <td>10</td>\n",
              "      <td>0.540236</td>\n",
              "      <td>3.0</td>\n",
              "      <td>122.0</td>\n",
              "    </tr>\n",
              "    <tr>\n",
              "      <th>4</th>\n",
              "      <td>0.589178</td>\n",
              "      <td>1134</td>\n",
              "      <td>0</td>\n",
              "      <td>1</td>\n",
              "      <td>0.493534</td>\n",
              "      <td>2.0</td>\n",
              "      <td>0.0</td>\n",
              "    </tr>\n",
              "    <tr>\n",
              "      <th>...</th>\n",
              "      <td>...</td>\n",
              "      <td>...</td>\n",
              "      <td>...</td>\n",
              "      <td>...</td>\n",
              "      <td>...</td>\n",
              "      <td>...</td>\n",
              "      <td>...</td>\n",
              "    </tr>\n",
              "    <tr>\n",
              "      <th>226</th>\n",
              "      <td>0.746345</td>\n",
              "      <td>520</td>\n",
              "      <td>0</td>\n",
              "      <td>1</td>\n",
              "      <td>0.484634</td>\n",
              "      <td>2.0</td>\n",
              "      <td>521.0</td>\n",
              "    </tr>\n",
              "    <tr>\n",
              "      <th>227</th>\n",
              "      <td>0.459385</td>\n",
              "      <td>86</td>\n",
              "      <td>0</td>\n",
              "      <td>1</td>\n",
              "      <td>0.553520</td>\n",
              "      <td>2.0</td>\n",
              "      <td>344.0</td>\n",
              "    </tr>\n",
              "    <tr>\n",
              "      <th>228</th>\n",
              "      <td>0.525897</td>\n",
              "      <td>3113</td>\n",
              "      <td>0</td>\n",
              "      <td>1</td>\n",
              "      <td>0.519936</td>\n",
              "      <td>2.0</td>\n",
              "      <td>3125.0</td>\n",
              "    </tr>\n",
              "    <tr>\n",
              "      <th>229</th>\n",
              "      <td>0.505452</td>\n",
              "      <td>3255</td>\n",
              "      <td>0</td>\n",
              "      <td>5</td>\n",
              "      <td>0.680939</td>\n",
              "      <td>3.0</td>\n",
              "      <td>3270.0</td>\n",
              "    </tr>\n",
              "    <tr>\n",
              "      <th>230</th>\n",
              "      <td>0.525897</td>\n",
              "      <td>291</td>\n",
              "      <td>0</td>\n",
              "      <td>1</td>\n",
              "      <td>0.679771</td>\n",
              "      <td>2.0</td>\n",
              "      <td>375.0</td>\n",
              "    </tr>\n",
              "  </tbody>\n",
              "</table>\n",
              "<p>231 rows × 7 columns</p>\n",
              "</div>"
            ],
            "text/plain": [
              "     TOKEN_VECT  TOKEN_NUM  GENDER  POS  SENT_VECT  NER  COREFERENCE_CLUSTER\n",
              "0      0.505452          0       0    5   0.647600  3.0                  5.0\n",
              "1      0.542401          7       1    1   0.694040  2.0                  0.0\n",
              "2      0.588361        218      -1   -1   0.655383  2.0                 27.0\n",
              "3      0.497058          8       0   10   0.540236  3.0                122.0\n",
              "4      0.589178       1134       0    1   0.493534  2.0                  0.0\n",
              "..          ...        ...     ...  ...        ...  ...                  ...\n",
              "226    0.746345        520       0    1   0.484634  2.0                521.0\n",
              "227    0.459385         86       0    1   0.553520  2.0                344.0\n",
              "228    0.525897       3113       0    1   0.519936  2.0               3125.0\n",
              "229    0.505452       3255       0    5   0.680939  3.0               3270.0\n",
              "230    0.525897        291       0    1   0.679771  2.0                375.0\n",
              "\n",
              "[231 rows x 7 columns]"
            ]
          },
          "metadata": {
            "tags": []
          },
          "execution_count": 1282
        }
      ]
    },
    {
      "cell_type": "code",
      "metadata": {
        "colab": {
          "base_uri": "https://localhost:8080/",
          "height": 348
        },
        "id": "t3H4tT8RUKbb",
        "outputId": "90f44a06-88c4-47c1-8c57-ec119723de03"
      },
      "source": [
        "X_test.head(10)"
      ],
      "execution_count": 1283,
      "outputs": [
        {
          "output_type": "execute_result",
          "data": {
            "text/html": [
              "<div>\n",
              "<style scoped>\n",
              "    .dataframe tbody tr th:only-of-type {\n",
              "        vertical-align: middle;\n",
              "    }\n",
              "\n",
              "    .dataframe tbody tr th {\n",
              "        vertical-align: top;\n",
              "    }\n",
              "\n",
              "    .dataframe thead th {\n",
              "        text-align: right;\n",
              "    }\n",
              "</style>\n",
              "<table border=\"1\" class=\"dataframe\">\n",
              "  <thead>\n",
              "    <tr style=\"text-align: right;\">\n",
              "      <th></th>\n",
              "      <th>TOKEN_VECT</th>\n",
              "      <th>TOKEN_NUM</th>\n",
              "      <th>GENDER</th>\n",
              "      <th>POS</th>\n",
              "      <th>SENT_VECT</th>\n",
              "      <th>NER</th>\n",
              "      <th>COREFERENCE_CLUSTER</th>\n",
              "    </tr>\n",
              "  </thead>\n",
              "  <tbody>\n",
              "    <tr>\n",
              "      <th>0</th>\n",
              "      <td>0.741596</td>\n",
              "      <td>655</td>\n",
              "      <td>0</td>\n",
              "      <td>0</td>\n",
              "      <td>0.677002</td>\n",
              "      <td>2.0</td>\n",
              "      <td>659.0</td>\n",
              "    </tr>\n",
              "    <tr>\n",
              "      <th>1</th>\n",
              "      <td>0.525894</td>\n",
              "      <td>5</td>\n",
              "      <td>0</td>\n",
              "      <td>1</td>\n",
              "      <td>0.589413</td>\n",
              "      <td>2.0</td>\n",
              "      <td>0.0</td>\n",
              "    </tr>\n",
              "    <tr>\n",
              "      <th>2</th>\n",
              "      <td>0.476860</td>\n",
              "      <td>1517</td>\n",
              "      <td>1</td>\n",
              "      <td>5</td>\n",
              "      <td>0.711463</td>\n",
              "      <td>3.0</td>\n",
              "      <td>1516.0</td>\n",
              "    </tr>\n",
              "    <tr>\n",
              "      <th>3</th>\n",
              "      <td>0.482211</td>\n",
              "      <td>160</td>\n",
              "      <td>0</td>\n",
              "      <td>5</td>\n",
              "      <td>0.546205</td>\n",
              "      <td>3.0</td>\n",
              "      <td>182.0</td>\n",
              "    </tr>\n",
              "    <tr>\n",
              "      <th>4</th>\n",
              "      <td>0.519055</td>\n",
              "      <td>1742</td>\n",
              "      <td>0</td>\n",
              "      <td>5</td>\n",
              "      <td>0.519936</td>\n",
              "      <td>3.0</td>\n",
              "      <td>1750.0</td>\n",
              "    </tr>\n",
              "    <tr>\n",
              "      <th>5</th>\n",
              "      <td>0.406463</td>\n",
              "      <td>132</td>\n",
              "      <td>2</td>\n",
              "      <td>1</td>\n",
              "      <td>0.584244</td>\n",
              "      <td>2.0</td>\n",
              "      <td>0.0</td>\n",
              "    </tr>\n",
              "    <tr>\n",
              "      <th>6</th>\n",
              "      <td>0.505452</td>\n",
              "      <td>576</td>\n",
              "      <td>0</td>\n",
              "      <td>5</td>\n",
              "      <td>0.715322</td>\n",
              "      <td>3.0</td>\n",
              "      <td>658.0</td>\n",
              "    </tr>\n",
              "    <tr>\n",
              "      <th>7</th>\n",
              "      <td>0.406463</td>\n",
              "      <td>201</td>\n",
              "      <td>2</td>\n",
              "      <td>1</td>\n",
              "      <td>0.678853</td>\n",
              "      <td>2.0</td>\n",
              "      <td>0.0</td>\n",
              "    </tr>\n",
              "    <tr>\n",
              "      <th>8</th>\n",
              "      <td>0.517114</td>\n",
              "      <td>461</td>\n",
              "      <td>2</td>\n",
              "      <td>5</td>\n",
              "      <td>0.582605</td>\n",
              "      <td>3.0</td>\n",
              "      <td>527.0</td>\n",
              "    </tr>\n",
              "    <tr>\n",
              "      <th>9</th>\n",
              "      <td>0.556986</td>\n",
              "      <td>1038</td>\n",
              "      <td>1</td>\n",
              "      <td>1</td>\n",
              "      <td>0.389591</td>\n",
              "      <td>2.0</td>\n",
              "      <td>0.0</td>\n",
              "    </tr>\n",
              "  </tbody>\n",
              "</table>\n",
              "</div>"
            ],
            "text/plain": [
              "   TOKEN_VECT  TOKEN_NUM  GENDER  POS  SENT_VECT  NER  COREFERENCE_CLUSTER\n",
              "0    0.741596        655       0    0   0.677002  2.0                659.0\n",
              "1    0.525894          5       0    1   0.589413  2.0                  0.0\n",
              "2    0.476860       1517       1    5   0.711463  3.0               1516.0\n",
              "3    0.482211        160       0    5   0.546205  3.0                182.0\n",
              "4    0.519055       1742       0    5   0.519936  3.0               1750.0\n",
              "5    0.406463        132       2    1   0.584244  2.0                  0.0\n",
              "6    0.505452        576       0    5   0.715322  3.0                658.0\n",
              "7    0.406463        201       2    1   0.678853  2.0                  0.0\n",
              "8    0.517114        461       2    5   0.582605  3.0                527.0\n",
              "9    0.556986       1038       1    1   0.389591  2.0                  0.0"
            ]
          },
          "metadata": {
            "tags": []
          },
          "execution_count": 1283
        }
      ]
    },
    {
      "cell_type": "code",
      "metadata": {
        "colab": {
          "base_uri": "https://localhost:8080/"
        },
        "id": "gV3OdD0OUKeU",
        "outputId": "1480923d-b831-49f8-d432-a2715a72694c"
      },
      "source": [
        "y"
      ],
      "execution_count": 1284,
      "outputs": [
        {
          "output_type": "execute_result",
          "data": {
            "text/plain": [
              "0         5.0\n",
              "1         0.0\n",
              "2        27.0\n",
              "3       122.0\n",
              "4         0.0\n",
              "        ...  \n",
              "226     521.0\n",
              "227     344.0\n",
              "228    3125.0\n",
              "229    3270.0\n",
              "230     375.0\n",
              "Name: COREFERENCE_CLUSTER, Length: 231, dtype: float64"
            ]
          },
          "metadata": {
            "tags": []
          },
          "execution_count": 1284
        }
      ]
    },
    {
      "cell_type": "markdown",
      "metadata": {
        "id": "5tK813duz_3P"
      },
      "source": [
        "Обучаем модели."
      ]
    },
    {
      "cell_type": "code",
      "metadata": {
        "colab": {
          "base_uri": "https://localhost:8080/"
        },
        "id": "lpdNSWV0fl47",
        "outputId": "7ebf54a8-3061-4def-eda8-af0e52076f84"
      },
      "source": [
        "clf = tree.DecisionTreeClassifier(max_depth=2000, )\n",
        "clf.fit(X, y)\n",
        "clf.score(X_test, y_test)"
      ],
      "execution_count": 1285,
      "outputs": [
        {
          "output_type": "execute_result",
          "data": {
            "text/plain": [
              "0.7586206896551724"
            ]
          },
          "metadata": {
            "tags": []
          },
          "execution_count": 1285
        }
      ]
    },
    {
      "cell_type": "code",
      "metadata": {
        "id": "7EOq1DxzyAiQ",
        "colab": {
          "base_uri": "https://localhost:8080/"
        },
        "outputId": "e70b1a84-7353-454d-98b0-bf93337fa0b1"
      },
      "source": [
        "clf_entropy = tree.DecisionTreeClassifier(criterion='entropy', max_depth=2000)\n",
        "clf_entropy.fit(X, y)\n",
        "clf_entropy.score(X_test, y_test)"
      ],
      "execution_count": 1286,
      "outputs": [
        {
          "output_type": "execute_result",
          "data": {
            "text/plain": [
              "0.7241379310344828"
            ]
          },
          "metadata": {
            "tags": []
          },
          "execution_count": 1286
        }
      ]
    },
    {
      "cell_type": "code",
      "metadata": {
        "colab": {
          "base_uri": "https://localhost:8080/"
        },
        "id": "795Z0wfKBMRp",
        "outputId": "e047abd9-5025-4853-dc0e-f5db3c0ccf28"
      },
      "source": [
        "randf_clf = RandomForestClassifier(max_depth=3000, n_estimators=600, bootstrap=True, )\n",
        "randf_clf.fit(X, y)\n",
        "randf_clf.score(X_test, y_test)"
      ],
      "execution_count": 1287,
      "outputs": [
        {
          "output_type": "execute_result",
          "data": {
            "text/plain": [
              "0.5689655172413793"
            ]
          },
          "metadata": {
            "tags": []
          },
          "execution_count": 1287
        }
      ]
    },
    {
      "cell_type": "code",
      "metadata": {
        "colab": {
          "base_uri": "https://localhost:8080/"
        },
        "id": "h8j0eFJPEDCI",
        "outputId": "d0366c2d-82e1-43be-dbc3-f1e0695433a7"
      },
      "source": [
        "regr = linear_model.LinearRegression()\n",
        "regr.fit(X, y)\n",
        "regr.score(X_test, y_test)"
      ],
      "execution_count": 1288,
      "outputs": [
        {
          "output_type": "execute_result",
          "data": {
            "text/plain": [
              "1.0"
            ]
          },
          "metadata": {
            "tags": []
          },
          "execution_count": 1288
        }
      ]
    },
    {
      "cell_type": "code",
      "metadata": {
        "id": "LgDyuglZCo55"
      },
      "source": [
        "from sklearn import svm"
      ],
      "execution_count": 1289,
      "outputs": []
    },
    {
      "cell_type": "code",
      "metadata": {
        "colab": {
          "base_uri": "https://localhost:8080/"
        },
        "id": "o5Ol9LJQB-Z5",
        "outputId": "736b87c9-d17d-45f3-bab6-8f640d598987"
      },
      "source": [
        "svm_clf = svm.SVC(decision_function_shape='ovo', cache_size=500)\n",
        "svm_clf.fit(X, y)\n",
        "svm_clf.score(X_test, y_test)"
      ],
      "execution_count": 1290,
      "outputs": [
        {
          "output_type": "execute_result",
          "data": {
            "text/plain": [
              "0.43103448275862066"
            ]
          },
          "metadata": {
            "tags": []
          },
          "execution_count": 1290
        }
      ]
    },
    {
      "cell_type": "code",
      "metadata": {
        "colab": {
          "base_uri": "https://localhost:8080/"
        },
        "id": "v-Ib98jycNOB",
        "outputId": "fc78d4f5-4f2d-44d5-ea59-631322c21561"
      },
      "source": [
        "from sklearn.neighbors import KNeighborsClassifier\n",
        "knn_clf = KNeighborsClassifier(n_neighbors=7, weights='distance',algorithm='ball_tree',leaf_size=40, metric='minkowski', p=1).fit(X, y)\n",
        "knn_clf.score(X_test, y_test)"
      ],
      "execution_count": 1291,
      "outputs": [
        {
          "output_type": "execute_result",
          "data": {
            "text/plain": [
              "0.7413793103448276"
            ]
          },
          "metadata": {
            "tags": []
          },
          "execution_count": 1291
        }
      ]
    },
    {
      "cell_type": "code",
      "metadata": {
        "id": "4T66NsKoc_IP"
      },
      "source": [
        "# from sklearn.naive_bayes import MultinomialNB\n",
        "# naive_clf = MultinomialNB().fit(X, y)\n"
      ],
      "execution_count": 1292,
      "outputs": []
    },
    {
      "cell_type": "markdown",
      "metadata": {
        "id": "wBG278Rc0_XD"
      },
      "source": [
        "Функция для оценки моделей"
      ]
    },
    {
      "cell_type": "code",
      "metadata": {
        "id": "FSTKYAktXiS9"
      },
      "source": [
        "def my_eval(X_predicted, y):\n",
        "  \n",
        "  tp = []\n",
        "  fp = []\n",
        "  tn = []\n",
        "  fn = []\n",
        "\n",
        "  for i in range(len(X_predicted)):\n",
        "    if X_predicted[i] != 0.0:\n",
        "      if X_predicted[i] == y_test[i]:\n",
        "        tp.append(i)\n",
        "      else:\n",
        "        fp.append(i)\n",
        "    # берем только те синглтоны, которые относятся к номинативным или прономинальным группам.\n",
        "    elif X_predicted[i] == 0.0 and test.iloc[:,22:23].iloc[[i]].values[0][0] in (2.0, 3.0):\n",
        "      if X_predicted[i] == y_test[i]:\n",
        "        tn.append(i)\n",
        "      else:\n",
        "        fn.append(i)\n",
        "  try:\n",
        "    P = len(tp)/(len(tp) + len(fp))\n",
        "  except ZeroDivisionError:\n",
        "    P = 0\n",
        "  try:\n",
        "    R = len(tp)/(len(tp) + len(fn))\n",
        "  except ZeroDivisionError:\n",
        "    R = 0\n",
        "  try:\n",
        "    F = 2*P*R/(P+R)\n",
        "  except ZeroDivisionError:\n",
        "    F = 0\n",
        "\n",
        "  print(len(tp), ' true positive')\n",
        "  print(len(fp), ' false positive')\n",
        "  print(len(tn), ' true negative')\n",
        "  print(len(fn), ' false negative')\n",
        "  print('---------')\n",
        "  print(P,' presicion')\n",
        "  print(R, ' recall')\n",
        "  print(F, ' f-score')\n",
        "\n"
      ],
      "execution_count": 1293,
      "outputs": []
    },
    {
      "cell_type": "code",
      "metadata": {
        "id": "q0ss_ZBr73-y"
      },
      "source": [
        "pred = clf.predict(X_test)\n",
        "pred_randf = randf_clf.predict(X_test)\n",
        "pred_entropy = clf_entropy.predict(X_test)\n",
        "pred_regr = regr.predict(X_test)\n",
        "pred_svm = svm_clf.predict(X_test)\n",
        "pred_knn = knn_clf.predict(X_test)\n",
        "# naive_pred = naive_clf.predict(X_test)"
      ],
      "execution_count": 1294,
      "outputs": []
    },
    {
      "cell_type": "code",
      "metadata": {
        "id": "SI2hsUJbdK4Q"
      },
      "source": [
        "# my_eval(list(naive_pred), list(y_test))"
      ],
      "execution_count": 1295,
      "outputs": []
    },
    {
      "cell_type": "code",
      "metadata": {
        "colab": {
          "base_uri": "https://localhost:8080/"
        },
        "id": "iJeUENfIcdNY",
        "outputId": "adbc1c76-3d0f-45ae-e156-e3307cc84856"
      },
      "source": [
        "my_eval(list(pred_knn), list(y_test))"
      ],
      "execution_count": 1296,
      "outputs": [
        {
          "output_type": "stream",
          "text": [
            "23  true positive\n",
            "13  false positive\n",
            "20  true negative\n",
            "2  false negative\n",
            "---------\n",
            "0.6388888888888888  presicion\n",
            "0.92  recall\n",
            "0.7540983606557377  f-score\n"
          ],
          "name": "stdout"
        }
      ]
    },
    {
      "cell_type": "code",
      "metadata": {
        "colab": {
          "base_uri": "https://localhost:8080/"
        },
        "id": "dVEiXSg9DF3Z",
        "outputId": "99e49151-9ba1-4819-dff6-e95cb508eb85"
      },
      "source": [
        "my_eval(list(pred_entropy), list(y_test))"
      ],
      "execution_count": 1297,
      "outputs": [
        {
          "output_type": "stream",
          "text": [
            "19  true positive\n",
            "16  false positive\n",
            "23  true negative\n",
            "0  false negative\n",
            "---------\n",
            "0.5428571428571428  presicion\n",
            "1.0  recall\n",
            "0.7037037037037037  f-score\n"
          ],
          "name": "stdout"
        }
      ]
    },
    {
      "cell_type": "code",
      "metadata": {
        "id": "ZUoq9gZXyout",
        "colab": {
          "base_uri": "https://localhost:8080/"
        },
        "outputId": "6569c99b-da63-40eb-d2d4-c0953c6c7099"
      },
      "source": [
        "my_eval(list(pred), list(y_test))"
      ],
      "execution_count": 1298,
      "outputs": [
        {
          "output_type": "stream",
          "text": [
            "21  true positive\n",
            "14  false positive\n",
            "23  true negative\n",
            "0  false negative\n",
            "---------\n",
            "0.6  presicion\n",
            "1.0  recall\n",
            "0.7499999999999999  f-score\n"
          ],
          "name": "stdout"
        }
      ]
    },
    {
      "cell_type": "code",
      "metadata": {
        "colab": {
          "base_uri": "https://localhost:8080/"
        },
        "id": "Zg4pmJBnDFtw",
        "outputId": "30726920-f162-47cd-cdb3-344134338992"
      },
      "source": [
        "my_eval(list(pred_randf), list(y_test))"
      ],
      "execution_count": 1299,
      "outputs": [
        {
          "output_type": "stream",
          "text": [
            "10  true positive\n",
            "24  false positive\n",
            "23  true negative\n",
            "1  false negative\n",
            "---------\n",
            "0.29411764705882354  presicion\n",
            "0.9090909090909091  recall\n",
            "0.4444444444444445  f-score\n"
          ],
          "name": "stdout"
        }
      ]
    },
    {
      "cell_type": "code",
      "metadata": {
        "colab": {
          "base_uri": "https://localhost:8080/"
        },
        "id": "aGTYbbgLEQxy",
        "outputId": "63ab64cf-6602-4978-b0cc-56a8638956fb"
      },
      "source": [
        "my_eval(list(pred_regr), list(y_test))"
      ],
      "execution_count": 1300,
      "outputs": [
        {
          "output_type": "stream",
          "text": [
            "0  true positive\n",
            "58  false positive\n",
            "0  true negative\n",
            "0  false negative\n",
            "---------\n",
            "0.0  presicion\n",
            "0  recall\n",
            "0  f-score\n"
          ],
          "name": "stdout"
        }
      ]
    },
    {
      "cell_type": "code",
      "metadata": {
        "colab": {
          "base_uri": "https://localhost:8080/"
        },
        "id": "g7isaHkricHw",
        "outputId": "2cc6d596-bf70-4073-c3e5-b2ec30d1ed5e"
      },
      "source": [
        "my_eval(list(pred_svm), list(y_test))"
      ],
      "execution_count": 1301,
      "outputs": [
        {
          "output_type": "stream",
          "text": [
            "2  true positive\n",
            "14  false positive\n",
            "23  true negative\n",
            "19  false negative\n",
            "---------\n",
            "0.125  presicion\n",
            "0.09523809523809523  recall\n",
            "0.1081081081081081  f-score\n"
          ],
          "name": "stdout"
        }
      ]
    },
    {
      "cell_type": "code",
      "metadata": {
        "id": "lsoMYdF2CswH"
      },
      "source": [
        ""
      ],
      "execution_count": 1301,
      "outputs": []
    }
  ]
}