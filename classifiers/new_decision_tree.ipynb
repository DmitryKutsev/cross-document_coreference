{
  "nbformat": 4,
  "nbformat_minor": 0,
  "metadata": {
    "colab": {
      "name": "Untitled63.ipynb",
      "provenance": [],
      "authorship_tag": "ABX9TyO4LgPkk0M6AEiI6JaNmwtx",
      "include_colab_link": true
    },
    "kernelspec": {
      "name": "python3",
      "display_name": "Python 3"
    },
    "language_info": {
      "name": "python"
    }
  },
  "cells": [
    {
      "cell_type": "markdown",
      "metadata": {
        "id": "view-in-github",
        "colab_type": "text"
      },
      "source": [
        "<a href=\"https://colab.research.google.com/github/DmitryKutsev/cross-document_coreference/blob/main/classifiers/new_decision_tree.ipynb\" target=\"_parent\"><img src=\"https://colab.research.google.com/assets/colab-badge.svg\" alt=\"Open In Colab\"/></a>"
      ]
    },
    {
      "cell_type": "code",
      "metadata": {
        "id": "jRqz8PB_SGaz"
      },
      "source": [
        "from sklearn import tree\n",
        "import pandas as pd\n",
        "import matplotlib.pyplot as plt\n",
        "import seaborn as sns\n",
        "%matplotlib inline\n"
      ],
      "execution_count": 1,
      "outputs": []
    },
    {
      "cell_type": "code",
      "metadata": {
        "id": "OFLx7egYS2qN"
      },
      "source": [
        "from IPython.display import SVG, display, HTML"
      ],
      "execution_count": 2,
      "outputs": []
    },
    {
      "cell_type": "code",
      "metadata": {
        "id": "5Lhnxf_FoRVA",
        "colab": {
          "base_uri": "https://localhost:8080/"
        },
        "outputId": "d96b2151-26fa-45a2-8902-dcda7b093dc3"
      },
      "source": [
        "from google.colab import drive\n",
        "drive.mount('./content', force_remount=False)"
      ],
      "execution_count": 3,
      "outputs": [
        {
          "output_type": "stream",
          "text": [
            "Mounted at ./content\n"
          ],
          "name": "stdout"
        }
      ]
    },
    {
      "cell_type": "code",
      "metadata": {
        "id": "J_7xbdMuo_RW",
        "colab": {
          "base_uri": "https://localhost:8080/"
        },
        "outputId": "ff52436e-bf0b-44ea-c303-9b4c2c8d539f"
      },
      "source": [
        "!ls\n",
        "import os\n",
        "for i in os.listdir('content/'):\n",
        "  print(i)"
      ],
      "execution_count": 4,
      "outputs": [
        {
          "output_type": "stream",
          "text": [
            "content  sample_data\n",
            ".file-revisions-by-id\n",
            "MyDrive\n",
            ".shortcut-targets-by-id\n",
            ".Trash\n"
          ],
          "name": "stdout"
        }
      ]
    },
    {
      "cell_type": "code",
      "metadata": {
        "id": "xk_hRf26TjUD",
        "colab": {
          "base_uri": "https://localhost:8080/"
        },
        "outputId": "6fe51686-b10f-4500-c75c-1ad0ea25f71b"
      },
      "source": [
        "!wget https://raw.githubusercontent.com/DmitryKutsev/cross-document_coreference/main/data/coref_df_anns60k.csv\n",
        "!wget https://raw.githubusercontent.com/DmitryKutsev/cross-document_coreference/main/data/new_anns60k.csv"
      ],
      "execution_count": 5,
      "outputs": [
        {
          "output_type": "stream",
          "text": [
            "--2021-05-16 08:26:20--  https://raw.githubusercontent.com/DmitryKutsev/cross-document_coreference/main/data/coref_df_anns60k.csv\n",
            "Resolving raw.githubusercontent.com (raw.githubusercontent.com)... 185.199.108.133, 185.199.109.133, 185.199.110.133, ...\n",
            "Connecting to raw.githubusercontent.com (raw.githubusercontent.com)|185.199.108.133|:443... connected.\n",
            "HTTP request sent, awaiting response... 200 OK\n",
            "Length: 1162863 (1.1M) [text/plain]\n",
            "Saving to: ‘coref_df_anns60k.csv’\n",
            "\n",
            "coref_df_anns60k.cs 100%[===================>]   1.11M  --.-KB/s    in 0.02s   \n",
            "\n",
            "2021-05-16 08:26:20 (49.6 MB/s) - ‘coref_df_anns60k.csv’ saved [1162863/1162863]\n",
            "\n",
            "--2021-05-16 08:26:20--  https://raw.githubusercontent.com/DmitryKutsev/cross-document_coreference/main/data/new_anns60k.csv\n",
            "Resolving raw.githubusercontent.com (raw.githubusercontent.com)... 185.199.108.133, 185.199.110.133, 185.199.109.133, ...\n",
            "Connecting to raw.githubusercontent.com (raw.githubusercontent.com)|185.199.108.133|:443... connected.\n",
            "HTTP request sent, awaiting response... 200 OK\n",
            "Length: 1191562 (1.1M) [text/plain]\n",
            "Saving to: ‘new_anns60k.csv’\n",
            "\n",
            "new_anns60k.csv     100%[===================>]   1.14M  --.-KB/s    in 0.03s   \n",
            "\n",
            "2021-05-16 08:26:20 (44.0 MB/s) - ‘new_anns60k.csv’ saved [1191562/1191562]\n",
            "\n"
          ],
          "name": "stdout"
        }
      ]
    },
    {
      "cell_type": "code",
      "metadata": {
        "id": "L7z8djaJTABE"
      },
      "source": [
        "import csv\n",
        "import re\n",
        "from google.colab import files\n",
        "from sklearn.model_selection import train_test_split\n",
        "from sklearn.metrics.pairwise import cosine_similarity"
      ],
      "execution_count": 73,
      "outputs": []
    },
    {
      "cell_type": "code",
      "metadata": {
        "id": "nKgKz0h9SPOK"
      },
      "source": [
        "with open('coref_df_anns60k.csv') as csvfile:\n",
        "  reader = csv.reader(csvfile, delimiter='\\t')\n",
        "  with open('new_df_anns60k.csv', 'w') as write_file:\n",
        "    writer = csv.writer(write_file, delimiter='\\t')\n",
        "    c = 0\n",
        "    for row in reader:\n",
        "      new_row = [i if i and not re.match(r'\\t+?', i) else '0' for i in row]\n",
        "      # print(new_row)\n",
        "      if len(new_row) > 9:\n",
        "        # print(new_row[:9])\n",
        "        new_row = new_row[:9]\n",
        "      writer.writerow(new_row)\n"
      ],
      "execution_count": 30,
      "outputs": []
    },
    {
      "cell_type": "code",
      "metadata": {
        "colab": {
          "base_uri": "https://localhost:8080/",
          "height": 17
        },
        "id": "VzkMqad7YDBr",
        "outputId": "7ea54982-44dc-414b-9625-2e47b9a355e7"
      },
      "source": [
        "files.download('new_df_anns60k.csv')"
      ],
      "execution_count": 39,
      "outputs": [
        {
          "output_type": "display_data",
          "data": {
            "application/javascript": [
              "\n",
              "    async function download(id, filename, size) {\n",
              "      if (!google.colab.kernel.accessAllowed) {\n",
              "        return;\n",
              "      }\n",
              "      const div = document.createElement('div');\n",
              "      const label = document.createElement('label');\n",
              "      label.textContent = `Downloading \"${filename}\": `;\n",
              "      div.appendChild(label);\n",
              "      const progress = document.createElement('progress');\n",
              "      progress.max = size;\n",
              "      div.appendChild(progress);\n",
              "      document.body.appendChild(div);\n",
              "\n",
              "      const buffers = [];\n",
              "      let downloaded = 0;\n",
              "\n",
              "      const channel = await google.colab.kernel.comms.open(id);\n",
              "      // Send a message to notify the kernel that we're ready.\n",
              "      channel.send({})\n",
              "\n",
              "      for await (const message of channel.messages) {\n",
              "        // Send a message to notify the kernel that we're ready.\n",
              "        channel.send({})\n",
              "        if (message.buffers) {\n",
              "          for (const buffer of message.buffers) {\n",
              "            buffers.push(buffer);\n",
              "            downloaded += buffer.byteLength;\n",
              "            progress.value = downloaded;\n",
              "          }\n",
              "        }\n",
              "      }\n",
              "      const blob = new Blob(buffers, {type: 'application/binary'});\n",
              "      const a = document.createElement('a');\n",
              "      a.href = window.URL.createObjectURL(blob);\n",
              "      a.download = filename;\n",
              "      div.appendChild(a);\n",
              "      a.click();\n",
              "      div.remove();\n",
              "    }\n",
              "  "
            ],
            "text/plain": [
              "<IPython.core.display.Javascript object>"
            ]
          },
          "metadata": {
            "tags": []
          }
        },
        {
          "output_type": "display_data",
          "data": {
            "application/javascript": [
              "download(\"download_bf3cc4b1-ad70-40b9-bb07-404719deacc3\", \"new_df_anns60k.csv\", 1184342)"
            ],
            "text/plain": [
              "<IPython.core.display.Javascript object>"
            ]
          },
          "metadata": {
            "tags": []
          }
        }
      ]
    },
    {
      "cell_type": "code",
      "metadata": {
        "id": "fpbwAAb6sUnL"
      },
      "source": [
        "# anns_df = pd.read_csv('coref_df_anns60k.csv', delimiter='\\t', error_bad_lines=False, header=None)\n",
        "anns_df = pd.read_csv('new_df_anns60k.csv', delimiter='\\t')"
      ],
      "execution_count": 32,
      "outputs": []
    },
    {
      "cell_type": "code",
      "metadata": {
        "id": "2CHdd-PNscSW",
        "colab": {
          "base_uri": "https://localhost:8080/",
          "height": 407
        },
        "outputId": "a82c5eca-c800-44a6-fcef-161d93b6e63b"
      },
      "source": [
        "anns_df"
      ],
      "execution_count": 33,
      "outputs": [
        {
          "output_type": "execute_result",
          "data": {
            "text/html": [
              "<div>\n",
              "<style scoped>\n",
              "    .dataframe tbody tr th:only-of-type {\n",
              "        vertical-align: middle;\n",
              "    }\n",
              "\n",
              "    .dataframe tbody tr th {\n",
              "        vertical-align: top;\n",
              "    }\n",
              "\n",
              "    .dataframe thead th {\n",
              "        text-align: right;\n",
              "    }\n",
              "</style>\n",
              "<table border=\"1\" class=\"dataframe\">\n",
              "  <thead>\n",
              "    <tr style=\"text-align: right;\">\n",
              "      <th></th>\n",
              "      <th>TOKEN</th>\n",
              "      <th>TOPIC_NUM</th>\n",
              "      <th>POST_NUM</th>\n",
              "      <th>SENT_NUM</th>\n",
              "      <th>TOKEN_NUM</th>\n",
              "      <th>IS_ANSWER</th>\n",
              "      <th>HEAD</th>\n",
              "      <th>NER</th>\n",
              "      <th>COREFERENCE_CLUSTER</th>\n",
              "    </tr>\n",
              "  </thead>\n",
              "  <tbody>\n",
              "    <tr>\n",
              "      <th>0</th>\n",
              "      <td>обсуждаем</td>\n",
              "      <td>1</td>\n",
              "      <td>0</td>\n",
              "      <td>0</td>\n",
              "      <td>0</td>\n",
              "      <td>0</td>\n",
              "      <td>обсуждаем</td>\n",
              "      <td>0</td>\n",
              "      <td>0.0</td>\n",
              "    </tr>\n",
              "    <tr>\n",
              "      <th>1</th>\n",
              "      <td>препарат</td>\n",
              "      <td>1</td>\n",
              "      <td>0</td>\n",
              "      <td>0</td>\n",
              "      <td>1</td>\n",
              "      <td>0</td>\n",
              "      <td>обсуждаем</td>\n",
              "      <td>0</td>\n",
              "      <td>0.0</td>\n",
              "    </tr>\n",
              "    <tr>\n",
              "      <th>2</th>\n",
              "      <td>рисперидон</td>\n",
              "      <td>1</td>\n",
              "      <td>0</td>\n",
              "      <td>0</td>\n",
              "      <td>2</td>\n",
              "      <td>0</td>\n",
              "      <td>препарат</td>\n",
              "      <td>1</td>\n",
              "      <td>2.0</td>\n",
              "    </tr>\n",
              "    <tr>\n",
              "      <th>3</th>\n",
              "      <td>рисполепт</td>\n",
              "      <td>1</td>\n",
              "      <td>0</td>\n",
              "      <td>0</td>\n",
              "      <td>3</td>\n",
              "      <td>0</td>\n",
              "      <td>рисперидон</td>\n",
              "      <td>1</td>\n",
              "      <td>3.0</td>\n",
              "    </tr>\n",
              "    <tr>\n",
              "      <th>4</th>\n",
              "      <td>сперидан</td>\n",
              "      <td>1</td>\n",
              "      <td>0</td>\n",
              "      <td>0</td>\n",
              "      <td>4</td>\n",
              "      <td>0</td>\n",
              "      <td>рисполепт</td>\n",
              "      <td>1</td>\n",
              "      <td>4.0</td>\n",
              "    </tr>\n",
              "    <tr>\n",
              "      <th>...</th>\n",
              "      <td>...</td>\n",
              "      <td>...</td>\n",
              "      <td>...</td>\n",
              "      <td>...</td>\n",
              "      <td>...</td>\n",
              "      <td>...</td>\n",
              "      <td>...</td>\n",
              "      <td>...</td>\n",
              "      <td>...</td>\n",
              "    </tr>\n",
              "    <tr>\n",
              "      <th>26492</th>\n",
              "      <td>и</td>\n",
              "      <td>22</td>\n",
              "      <td>68</td>\n",
              "      <td>0</td>\n",
              "      <td>2385</td>\n",
              "      <td>0</td>\n",
              "      <td>пошлины</td>\n",
              "      <td>0</td>\n",
              "      <td>0.0</td>\n",
              "    </tr>\n",
              "    <tr>\n",
              "      <th>26493</th>\n",
              "      <td>таможенные</td>\n",
              "      <td>22</td>\n",
              "      <td>68</td>\n",
              "      <td>0</td>\n",
              "      <td>2386</td>\n",
              "      <td>0</td>\n",
              "      <td>пошлины</td>\n",
              "      <td>0</td>\n",
              "      <td>0.0</td>\n",
              "    </tr>\n",
              "    <tr>\n",
              "      <th>26494</th>\n",
              "      <td>пошлины</td>\n",
              "      <td>22</td>\n",
              "      <td>68</td>\n",
              "      <td>0</td>\n",
              "      <td>2387</td>\n",
              "      <td>0</td>\n",
              "      <td>есть</td>\n",
              "      <td>0</td>\n",
              "      <td>0.0</td>\n",
              "    </tr>\n",
              "    <tr>\n",
              "      <th>26495</th>\n",
              "      <td>как</td>\n",
              "      <td>22</td>\n",
              "      <td>68</td>\n",
              "      <td>0</td>\n",
              "      <td>2388</td>\n",
              "      <td>0</td>\n",
              "      <td>есть</td>\n",
              "      <td>0</td>\n",
              "      <td>0.0</td>\n",
              "    </tr>\n",
              "    <tr>\n",
              "      <th>26496</th>\n",
              "      <td>светка</td>\n",
              "      <td>22</td>\n",
              "      <td>69</td>\n",
              "      <td>0</td>\n",
              "      <td>2389</td>\n",
              "      <td>0</td>\n",
              "      <td>светка</td>\n",
              "      <td>0</td>\n",
              "      <td>0.0</td>\n",
              "    </tr>\n",
              "  </tbody>\n",
              "</table>\n",
              "<p>26497 rows × 9 columns</p>\n",
              "</div>"
            ],
            "text/plain": [
              "            TOKEN  TOPIC_NUM  POST_NUM  ...        HEAD  NER  COREFERENCE_CLUSTER\n",
              "0       обсуждаем          1         0  ...   обсуждаем    0                  0.0\n",
              "1        препарат          1         0  ...   обсуждаем    0                  0.0\n",
              "2      рисперидон          1         0  ...    препарат    1                  2.0\n",
              "3       рисполепт          1         0  ...  рисперидон    1                  3.0\n",
              "4        сперидан          1         0  ...   рисполепт    1                  4.0\n",
              "...           ...        ...       ...  ...         ...  ...                  ...\n",
              "26492           и         22        68  ...     пошлины    0                  0.0\n",
              "26493  таможенные         22        68  ...     пошлины    0                  0.0\n",
              "26494     пошлины         22        68  ...        есть    0                  0.0\n",
              "26495         как         22        68  ...        есть    0                  0.0\n",
              "26496      светка         22        69  ...      светка    0                  0.0\n",
              "\n",
              "[26497 rows x 9 columns]"
            ]
          },
          "metadata": {
            "tags": []
          },
          "execution_count": 33
        }
      ]
    },
    {
      "cell_type": "code",
      "metadata": {
        "id": "wi5vLFpvyL14"
      },
      "source": [
        "import numpy as np"
      ],
      "execution_count": 78,
      "outputs": []
    },
    {
      "cell_type": "code",
      "metadata": {
        "id": "zOvIthFwWaOH"
      },
      "source": [
        "cor_df = pd.read_csv('content/MyDrive/coref_fasttext60k.csv', delimiter=' ')"
      ],
      "execution_count": 34,
      "outputs": []
    },
    {
      "cell_type": "code",
      "metadata": {
        "id": "MzpgsOFxyOp1",
        "outputId": "05c6c5ce-aa9a-4868-b88b-69595f47b6e4",
        "colab": {
          "base_uri": "https://localhost:8080/"
        }
      },
      "source": [
        "\n",
        "np.matrix(cor_df.HEAD_VECT[0]).A[0]"
      ],
      "execution_count": 81,
      "outputs": [
        {
          "output_type": "execute_result",
          "data": {
            "text/plain": [
              "array([-2.08233938e-01,  9.96180058e-01, -2.79894114e-01, -9.09143448e-01,\n",
              "        3.49961907e-01,  1.22820950e+00, -4.53999013e-01, -4.96644318e-01,\n",
              "       -5.06227851e-01, -3.50297660e-01, -2.68426925e-01, -3.18647206e-01,\n",
              "       -4.94759202e-01, -4.05789405e-01, -6.19022734e-02,  5.76916397e-01,\n",
              "        6.45665407e-01, -6.29692733e-01, -2.28346493e-02,  4.74443585e-01,\n",
              "        2.75724858e-01,  1.00444555e-01, -2.81267107e-01,  7.38310993e-01,\n",
              "        1.64172634e-01, -1.40955552e-01, -1.34702528e+00, -2.28699774e-01,\n",
              "       -2.00072408e-01,  1.53492257e-01,  2.15266779e-01, -3.75066400e-01,\n",
              "        9.79104459e-01,  1.09640598e-01,  4.11819309e-01, -5.48374474e-01,\n",
              "        5.74254513e-01,  1.78177617e-02,  2.20505193e-01,  8.06000233e-01,\n",
              "       -3.45855951e-01, -9.48401261e-03, -1.23907340e+00, -7.95203969e-02,\n",
              "       -7.97536790e-01, -5.43104485e-02,  4.87657279e-01,  5.39513767e-01,\n",
              "       -2.17315450e-01, -3.24471802e-01, -3.16938460e-02, -4.50928695e-02,\n",
              "       -3.87996256e-01,  1.86525464e-01, -8.76217484e-01,  4.62165594e-01,\n",
              "       -1.30485311e-01,  2.05342710e-01,  4.07475919e-01, -3.70422542e-01,\n",
              "       -5.11448026e-01, -9.77272838e-02,  7.49553964e-02, -2.01120012e-04,\n",
              "       -3.41885537e-01,  5.65519333e-01,  1.14082709e-01,  6.78803146e-01,\n",
              "        4.72706467e-01,  3.42421442e-01, -1.43425480e-01,  1.54427677e-01,\n",
              "       -1.11259866e+00, -2.89237406e-02,  5.81502438e-01,  1.48962364e-01,\n",
              "        1.04394841e+00, -4.68549430e-01, -3.26234043e-01, -7.46992528e-02,\n",
              "        1.37691081e-01, -9.80571359e-02,  8.27818930e-01, -1.83586121e-01,\n",
              "       -1.40500247e-01,  9.09389317e-01,  3.78665477e-01,  3.24974984e-01,\n",
              "        1.12861015e-01,  1.28584728e-01, -1.98210865e-01,  1.06453426e-01,\n",
              "        1.06317341e+00, -1.24137588e-01,  6.81226626e-02, -4.48439986e-01,\n",
              "        1.37087673e-01,  2.65371919e-01, -2.73170382e-01,  7.81468809e-01])"
            ]
          },
          "metadata": {
            "tags": []
          },
          "execution_count": 81
        }
      ]
    },
    {
      "cell_type": "code",
      "metadata": {
        "id": "Eoht1lnExJHw",
        "outputId": "e0162c30-5347-4857-c688-018c71257ad6",
        "colab": {
          "base_uri": "https://localhost:8080/"
        }
      },
      "source": [
        "cosine_similarity([np.matrix(cor_df.TOKEN_VECT[2]).A[0]], [np.matrix(cor_df.TOKEN_VECT[3]).A[0]])[-1][-1]"
      ],
      "execution_count": 95,
      "outputs": [
        {
          "output_type": "execute_result",
          "data": {
            "text/plain": [
              "0.8436395154681279"
            ]
          },
          "metadata": {
            "tags": []
          },
          "execution_count": 95
        }
      ]
    },
    {
      "cell_type": "markdown",
      "metadata": {
        "id": "ZcUH3c9e2Zwe"
      },
      "source": [
        "# **VECTORS HANDLING**"
      ]
    },
    {
      "cell_type": "code",
      "metadata": {
        "id": "pSkpdVWPWofo"
      },
      "source": [
        "cor_df.TOKEN_VECT = [np.matrix(cor_df.TOKEN_VECT[2]).A[0] for i in cor_df.TOKEN_VECT]"
      ],
      "execution_count": 97,
      "outputs": []
    },
    {
      "cell_type": "code",
      "metadata": {
        "id": "C33A2cSUzukQ"
      },
      "source": [
        "cor_df.HEAD_VECT = [np.matrix(cor_df.HEAD_VECT[2]).A[0] for i in cor_df.HEAD_VECT]"
      ],
      "execution_count": 98,
      "outputs": []
    },
    {
      "cell_type": "code",
      "metadata": {
        "id": "j5URCPhbzvJD"
      },
      "source": [
        "cor_df.SENT_VECT = [np.matrix(cor_df.SENT_VECT[2]).A[0] for i in cor_df.SENT_VECT]"
      ],
      "execution_count": 99,
      "outputs": []
    },
    {
      "cell_type": "code",
      "metadata": {
        "id": "-q3XR08zz76n"
      },
      "source": [
        "cor_df.HEAD_CHILDS_VECT = [np.matrix(cor_df.HEAD_CHILDS_VECT[2]).A[0] for i in cor_df.HEAD_CHILDS_VECT]"
      ],
      "execution_count": 100,
      "outputs": []
    },
    {
      "cell_type": "markdown",
      "metadata": {
        "id": "ilbjEHUW2d0c"
      },
      "source": [
        "# **SEMANTIC AXES**"
      ]
    },
    {
      "cell_type": "code",
      "metadata": {
        "id": "KgoxQeza2vwc"
      },
      "source": [
        "head_axe = \n",
        "head_childs_axe = \n",
        "sent_axe = "
      ],
      "execution_count": null,
      "outputs": []
    },
    {
      "cell_type": "code",
      "metadata": {
        "id": "0ESW3_xq2h0O",
        "outputId": "d700fe47-94c1-4590-e8f0-c23404dc4562",
        "colab": {
          "base_uri": "https://localhost:8080/"
        }
      },
      "source": [
        "token_axe = sum(df.loc[df['NER'] == 1].TOKEN_VECT)/len(df.loc[df['NER'] == 1].TOKEN_VECT)\n",
        "head_axe = sum(df.loc[df['NER'] == 1].TOKEN_VECT)/len(df.loc[df['NER'] == 1].TOKEN_VECT)\n",
        "head_childs_axe = sum(df.loc[df['NER'] == 1].TOKEN_VECT)/len(df.loc[df['NER'] == 1].TOKEN_VECT)\n",
        "sent_axe = sum(df.loc[df['NER'] == 1].TOKEN_VECT)/len(df.loc[df['NER'] == 1].TOKEN_VECT)"
      ],
      "execution_count": 111,
      "outputs": [
        {
          "output_type": "execute_result",
          "data": {
            "text/plain": [
              "array([ 0.15259643,  1.0673474 ,  0.84192747, -0.07751556, -0.31298834,\n",
              "        0.09233628, -0.26472288, -0.7381661 ,  0.00519838, -0.49337202,\n",
              "       -0.1820628 , -0.5072496 ,  0.00195641, -0.28637633, -0.7731981 ,\n",
              "        0.01394896,  0.27631348, -0.0254427 ,  0.3246617 , -0.6425943 ,\n",
              "        0.06084309, -0.20216998, -0.609599  ,  0.07342215, -0.27438822,\n",
              "        0.3074228 , -0.4297749 , -0.1696047 , -0.44817436, -0.05152535,\n",
              "       -0.11410664, -0.1833085 ,  0.02531144,  0.09864173,  0.22863983,\n",
              "       -0.00388305,  0.37313434, -0.18915488,  0.06732487,  0.8827775 ,\n",
              "        0.08818786,  0.7271844 , -0.53254646,  0.05460615, -0.28470987,\n",
              "       -0.5048189 ,  0.52019465, -0.3102646 , -0.30192918, -0.13672546,\n",
              "        0.31806943,  0.2003947 , -0.11141903, -0.46284294, -0.11048363,\n",
              "       -0.02093176, -0.29477742, -0.04074341,  0.06674745,  0.02069554,\n",
              "       -0.14356346, -0.6977823 , -0.1604276 , -0.49493006, -0.21191894,\n",
              "       -0.35967693,  0.7625827 , -0.10521115,  0.48796606, -0.03406363,\n",
              "       -0.4430693 , -0.5029211 ,  0.00289623,  0.19447039,  0.43271378,\n",
              "       -0.11857729,  1.0304301 , -0.39917797, -0.45120436, -0.08412111,\n",
              "       -0.14014171, -0.05026855,  0.7211637 ,  0.24647923, -0.18196112,\n",
              "        0.5268831 , -0.21495065, -0.09197988, -0.22142325,  0.32533273,\n",
              "       -0.14525864,  0.08060254,  0.33637738,  0.4106704 , -0.16548389,\n",
              "        0.23268773, -0.02662864, -0.52849716,  0.58896226,  0.34429657])"
            ]
          },
          "metadata": {
            "tags": []
          },
          "execution_count": 111
        }
      ]
    },
    {
      "cell_type": "code",
      "metadata": {
        "colab": {
          "base_uri": "https://localhost:8080/",
          "height": 945
        },
        "id": "FGLkZXITh3BZ",
        "outputId": "f3e04149-4047-46fd-d44e-5ab71c0cebf0"
      },
      "source": [
        "cor_df['NER'] = anns_df['NER']\n",
        "cor_df['COREFERENCE_CLUSTER'] = anns_df['COREFERENCE_CLUSTER']\n",
        "cor_df"
      ],
      "execution_count": 101,
      "outputs": [
        {
          "output_type": "execute_result",
          "data": {
            "text/html": [
              "<div>\n",
              "<style scoped>\n",
              "    .dataframe tbody tr th:only-of-type {\n",
              "        vertical-align: middle;\n",
              "    }\n",
              "\n",
              "    .dataframe tbody tr th {\n",
              "        vertical-align: top;\n",
              "    }\n",
              "\n",
              "    .dataframe thead th {\n",
              "        text-align: right;\n",
              "    }\n",
              "</style>\n",
              "<table border=\"1\" class=\"dataframe\">\n",
              "  <thead>\n",
              "    <tr style=\"text-align: right;\">\n",
              "      <th></th>\n",
              "      <th>TOKEN</th>\n",
              "      <th>TOKEN_VECT</th>\n",
              "      <th>IS_ANSWER</th>\n",
              "      <th>TOPIC_NUM</th>\n",
              "      <th>POST_NUM</th>\n",
              "      <th>SENT_NUM</th>\n",
              "      <th>TOKEN_NUM</th>\n",
              "      <th>ANIMACY</th>\n",
              "      <th>CASE</th>\n",
              "      <th>GENDER</th>\n",
              "      <th>PERSON</th>\n",
              "      <th>POS</th>\n",
              "      <th>DEPENDENCY</th>\n",
              "      <th>HEAD</th>\n",
              "      <th>HEAD_ANIMACY</th>\n",
              "      <th>HEAD_CASE</th>\n",
              "      <th>HEAD_GENDER</th>\n",
              "      <th>HEAD_POS</th>\n",
              "      <th>HEAD_VECT</th>\n",
              "      <th>SENT_VECT</th>\n",
              "      <th>HEAD_CHILDS_VECT</th>\n",
              "      <th>NER</th>\n",
              "      <th>COREFERENCE_CLUSTER</th>\n",
              "    </tr>\n",
              "  </thead>\n",
              "  <tbody>\n",
              "    <tr>\n",
              "      <th>0</th>\n",
              "      <td>обсуждаем</td>\n",
              "      <td>[0.15259643, 1.0673474, 0.84192747, -0.0775155...</td>\n",
              "      <td>0</td>\n",
              "      <td>1</td>\n",
              "      <td>0</td>\n",
              "      <td>0</td>\n",
              "      <td>0</td>\n",
              "      <td>NaN</td>\n",
              "      <td>NaN</td>\n",
              "      <td>NaN</td>\n",
              "      <td>1per</td>\n",
              "      <td>VERB</td>\n",
              "      <td>ROOT</td>\n",
              "      <td>обсуждаем</td>\n",
              "      <td>NaN</td>\n",
              "      <td>NaN</td>\n",
              "      <td>NaN</td>\n",
              "      <td>VERB</td>\n",
              "      <td>[-0.17725945, 0.94834274, 0.90867615, 0.850609...</td>\n",
              "      <td>[0.01863711, 0.2306802, 0.14600733, -0.0191193...</td>\n",
              "      <td>[0.15259643, 1.0673474, 0.84192747, -0.0775155...</td>\n",
              "      <td>0</td>\n",
              "      <td>0.0</td>\n",
              "    </tr>\n",
              "    <tr>\n",
              "      <th>1</th>\n",
              "      <td>препарат</td>\n",
              "      <td>[0.15259643, 1.0673474, 0.84192747, -0.0775155...</td>\n",
              "      <td>0</td>\n",
              "      <td>1</td>\n",
              "      <td>0</td>\n",
              "      <td>0</td>\n",
              "      <td>1</td>\n",
              "      <td>inan</td>\n",
              "      <td>nomn</td>\n",
              "      <td>masc</td>\n",
              "      <td>NaN</td>\n",
              "      <td>NOUN</td>\n",
              "      <td>obj</td>\n",
              "      <td>обсуждаем</td>\n",
              "      <td>NaN</td>\n",
              "      <td>NaN</td>\n",
              "      <td>NaN</td>\n",
              "      <td>VERB</td>\n",
              "      <td>[-0.17725945, 0.94834274, 0.90867615, 0.850609...</td>\n",
              "      <td>[0.01863711, 0.2306802, 0.14600733, -0.0191193...</td>\n",
              "      <td>[0.15259643, 1.0673474, 0.84192747, -0.0775155...</td>\n",
              "      <td>0</td>\n",
              "      <td>0.0</td>\n",
              "    </tr>\n",
              "    <tr>\n",
              "      <th>2</th>\n",
              "      <td>рисперидон</td>\n",
              "      <td>[0.15259643, 1.0673474, 0.84192747, -0.0775155...</td>\n",
              "      <td>0</td>\n",
              "      <td>1</td>\n",
              "      <td>0</td>\n",
              "      <td>0</td>\n",
              "      <td>2</td>\n",
              "      <td>anim</td>\n",
              "      <td>nomn</td>\n",
              "      <td>masc</td>\n",
              "      <td>NaN</td>\n",
              "      <td>NOUN</td>\n",
              "      <td>appos</td>\n",
              "      <td>препарат</td>\n",
              "      <td>inan</td>\n",
              "      <td>nomn</td>\n",
              "      <td>masc</td>\n",
              "      <td>NOUN</td>\n",
              "      <td>[-0.17725945, 0.94834274, 0.90867615, 0.850609...</td>\n",
              "      <td>[0.01863711, 0.2306802, 0.14600733, -0.0191193...</td>\n",
              "      <td>[0.15259643, 1.0673474, 0.84192747, -0.0775155...</td>\n",
              "      <td>1</td>\n",
              "      <td>2.0</td>\n",
              "    </tr>\n",
              "    <tr>\n",
              "      <th>3</th>\n",
              "      <td>рисполепт</td>\n",
              "      <td>[0.15259643, 1.0673474, 0.84192747, -0.0775155...</td>\n",
              "      <td>0</td>\n",
              "      <td>1</td>\n",
              "      <td>0</td>\n",
              "      <td>0</td>\n",
              "      <td>3</td>\n",
              "      <td>inan</td>\n",
              "      <td>gent</td>\n",
              "      <td>femn</td>\n",
              "      <td>NaN</td>\n",
              "      <td>NOUN</td>\n",
              "      <td>parataxis</td>\n",
              "      <td>рисперидон</td>\n",
              "      <td>anim</td>\n",
              "      <td>nomn</td>\n",
              "      <td>masc</td>\n",
              "      <td>NOUN</td>\n",
              "      <td>[-0.17725945, 0.94834274, 0.90867615, 0.850609...</td>\n",
              "      <td>[0.01863711, 0.2306802, 0.14600733, -0.0191193...</td>\n",
              "      <td>[0.15259643, 1.0673474, 0.84192747, -0.0775155...</td>\n",
              "      <td>1</td>\n",
              "      <td>3.0</td>\n",
              "    </tr>\n",
              "    <tr>\n",
              "      <th>4</th>\n",
              "      <td>сперидан</td>\n",
              "      <td>[0.15259643, 1.0673474, 0.84192747, -0.0775155...</td>\n",
              "      <td>0</td>\n",
              "      <td>1</td>\n",
              "      <td>0</td>\n",
              "      <td>0</td>\n",
              "      <td>4</td>\n",
              "      <td>NaN</td>\n",
              "      <td>NaN</td>\n",
              "      <td>masc</td>\n",
              "      <td>NaN</td>\n",
              "      <td>PRTS</td>\n",
              "      <td>conj</td>\n",
              "      <td>рисполепт</td>\n",
              "      <td>inan</td>\n",
              "      <td>gent</td>\n",
              "      <td>femn</td>\n",
              "      <td>NOUN</td>\n",
              "      <td>[-0.17725945, 0.94834274, 0.90867615, 0.850609...</td>\n",
              "      <td>[0.01863711, 0.2306802, 0.14600733, -0.0191193...</td>\n",
              "      <td>[0.15259643, 1.0673474, 0.84192747, -0.0775155...</td>\n",
              "      <td>1</td>\n",
              "      <td>4.0</td>\n",
              "    </tr>\n",
              "    <tr>\n",
              "      <th>...</th>\n",
              "      <td>...</td>\n",
              "      <td>...</td>\n",
              "      <td>...</td>\n",
              "      <td>...</td>\n",
              "      <td>...</td>\n",
              "      <td>...</td>\n",
              "      <td>...</td>\n",
              "      <td>...</td>\n",
              "      <td>...</td>\n",
              "      <td>...</td>\n",
              "      <td>...</td>\n",
              "      <td>...</td>\n",
              "      <td>...</td>\n",
              "      <td>...</td>\n",
              "      <td>...</td>\n",
              "      <td>...</td>\n",
              "      <td>...</td>\n",
              "      <td>...</td>\n",
              "      <td>...</td>\n",
              "      <td>...</td>\n",
              "      <td>...</td>\n",
              "      <td>...</td>\n",
              "      <td>...</td>\n",
              "    </tr>\n",
              "    <tr>\n",
              "      <th>26492</th>\n",
              "      <td>и</td>\n",
              "      <td>[0.15259643, 1.0673474, 0.84192747, -0.0775155...</td>\n",
              "      <td>0</td>\n",
              "      <td>22</td>\n",
              "      <td>68</td>\n",
              "      <td>0</td>\n",
              "      <td>7</td>\n",
              "      <td>NaN</td>\n",
              "      <td>NaN</td>\n",
              "      <td>NaN</td>\n",
              "      <td>NaN</td>\n",
              "      <td>CONJ</td>\n",
              "      <td>cc</td>\n",
              "      <td>пошлины</td>\n",
              "      <td>inan</td>\n",
              "      <td>nomn</td>\n",
              "      <td>femn</td>\n",
              "      <td>NOUN</td>\n",
              "      <td>[-0.17725945, 0.94834274, 0.90867615, 0.850609...</td>\n",
              "      <td>[0.01863711, 0.2306802, 0.14600733, -0.0191193...</td>\n",
              "      <td>[0.15259643, 1.0673474, 0.84192747, -0.0775155...</td>\n",
              "      <td>0</td>\n",
              "      <td>0.0</td>\n",
              "    </tr>\n",
              "    <tr>\n",
              "      <th>26493</th>\n",
              "      <td>таможенные</td>\n",
              "      <td>[0.15259643, 1.0673474, 0.84192747, -0.0775155...</td>\n",
              "      <td>0</td>\n",
              "      <td>22</td>\n",
              "      <td>68</td>\n",
              "      <td>0</td>\n",
              "      <td>8</td>\n",
              "      <td>NaN</td>\n",
              "      <td>nomn</td>\n",
              "      <td>NaN</td>\n",
              "      <td>NaN</td>\n",
              "      <td>ADJF</td>\n",
              "      <td>amod</td>\n",
              "      <td>пошлины</td>\n",
              "      <td>inan</td>\n",
              "      <td>nomn</td>\n",
              "      <td>femn</td>\n",
              "      <td>NOUN</td>\n",
              "      <td>[-0.17725945, 0.94834274, 0.90867615, 0.850609...</td>\n",
              "      <td>[0.01863711, 0.2306802, 0.14600733, -0.0191193...</td>\n",
              "      <td>[0.15259643, 1.0673474, 0.84192747, -0.0775155...</td>\n",
              "      <td>0</td>\n",
              "      <td>0.0</td>\n",
              "    </tr>\n",
              "    <tr>\n",
              "      <th>26494</th>\n",
              "      <td>пошлины</td>\n",
              "      <td>[0.15259643, 1.0673474, 0.84192747, -0.0775155...</td>\n",
              "      <td>0</td>\n",
              "      <td>22</td>\n",
              "      <td>68</td>\n",
              "      <td>0</td>\n",
              "      <td>9</td>\n",
              "      <td>inan</td>\n",
              "      <td>nomn</td>\n",
              "      <td>femn</td>\n",
              "      <td>NaN</td>\n",
              "      <td>NOUN</td>\n",
              "      <td>nsubj</td>\n",
              "      <td>есть</td>\n",
              "      <td>NaN</td>\n",
              "      <td>NaN</td>\n",
              "      <td>NaN</td>\n",
              "      <td>INFN</td>\n",
              "      <td>[-0.17725945, 0.94834274, 0.90867615, 0.850609...</td>\n",
              "      <td>[0.01863711, 0.2306802, 0.14600733, -0.0191193...</td>\n",
              "      <td>[0.15259643, 1.0673474, 0.84192747, -0.0775155...</td>\n",
              "      <td>0</td>\n",
              "      <td>0.0</td>\n",
              "    </tr>\n",
              "    <tr>\n",
              "      <th>26495</th>\n",
              "      <td>как</td>\n",
              "      <td>[0.15259643, 1.0673474, 0.84192747, -0.0775155...</td>\n",
              "      <td>0</td>\n",
              "      <td>22</td>\n",
              "      <td>68</td>\n",
              "      <td>0</td>\n",
              "      <td>10</td>\n",
              "      <td>NaN</td>\n",
              "      <td>NaN</td>\n",
              "      <td>NaN</td>\n",
              "      <td>NaN</td>\n",
              "      <td>CONJ</td>\n",
              "      <td>advmod</td>\n",
              "      <td>есть</td>\n",
              "      <td>NaN</td>\n",
              "      <td>NaN</td>\n",
              "      <td>NaN</td>\n",
              "      <td>INFN</td>\n",
              "      <td>[-0.17725945, 0.94834274, 0.90867615, 0.850609...</td>\n",
              "      <td>[0.01863711, 0.2306802, 0.14600733, -0.0191193...</td>\n",
              "      <td>[0.15259643, 1.0673474, 0.84192747, -0.0775155...</td>\n",
              "      <td>0</td>\n",
              "      <td>0.0</td>\n",
              "    </tr>\n",
              "    <tr>\n",
              "      <th>26496</th>\n",
              "      <td>светка</td>\n",
              "      <td>[0.15259643, 1.0673474, 0.84192747, -0.0775155...</td>\n",
              "      <td>0</td>\n",
              "      <td>22</td>\n",
              "      <td>69</td>\n",
              "      <td>0</td>\n",
              "      <td>0</td>\n",
              "      <td>inan</td>\n",
              "      <td>nomn</td>\n",
              "      <td>femn</td>\n",
              "      <td>NaN</td>\n",
              "      <td>NOUN</td>\n",
              "      <td>ROOT</td>\n",
              "      <td>светка</td>\n",
              "      <td>inan</td>\n",
              "      <td>nomn</td>\n",
              "      <td>femn</td>\n",
              "      <td>NOUN</td>\n",
              "      <td>[-0.17725945, 0.94834274, 0.90867615, 0.850609...</td>\n",
              "      <td>[0.01863711, 0.2306802, 0.14600733, -0.0191193...</td>\n",
              "      <td>[0.15259643, 1.0673474, 0.84192747, -0.0775155...</td>\n",
              "      <td>0</td>\n",
              "      <td>0.0</td>\n",
              "    </tr>\n",
              "  </tbody>\n",
              "</table>\n",
              "<p>26497 rows × 23 columns</p>\n",
              "</div>"
            ],
            "text/plain": [
              "            TOKEN  ... COREFERENCE_CLUSTER\n",
              "0       обсуждаем  ...                 0.0\n",
              "1        препарат  ...                 0.0\n",
              "2      рисперидон  ...                 2.0\n",
              "3       рисполепт  ...                 3.0\n",
              "4        сперидан  ...                 4.0\n",
              "...           ...  ...                 ...\n",
              "26492           и  ...                 0.0\n",
              "26493  таможенные  ...                 0.0\n",
              "26494     пошлины  ...                 0.0\n",
              "26495         как  ...                 0.0\n",
              "26496      светка  ...                 0.0\n",
              "\n",
              "[26497 rows x 23 columns]"
            ]
          },
          "metadata": {
            "tags": []
          },
          "execution_count": 101
        }
      ]
    },
    {
      "cell_type": "code",
      "metadata": {
        "colab": {
          "base_uri": "https://localhost:8080/",
          "height": 150
        },
        "id": "h8G4V6UZjDUF",
        "outputId": "7c12c84c-40ff-4a78-c6cb-f3f1388be4b6"
      },
      "source": [
        "cor_df.iloc[[6541]]"
      ],
      "execution_count": 102,
      "outputs": [
        {
          "output_type": "execute_result",
          "data": {
            "text/html": [
              "<div>\n",
              "<style scoped>\n",
              "    .dataframe tbody tr th:only-of-type {\n",
              "        vertical-align: middle;\n",
              "    }\n",
              "\n",
              "    .dataframe tbody tr th {\n",
              "        vertical-align: top;\n",
              "    }\n",
              "\n",
              "    .dataframe thead th {\n",
              "        text-align: right;\n",
              "    }\n",
              "</style>\n",
              "<table border=\"1\" class=\"dataframe\">\n",
              "  <thead>\n",
              "    <tr style=\"text-align: right;\">\n",
              "      <th></th>\n",
              "      <th>TOKEN</th>\n",
              "      <th>TOKEN_VECT</th>\n",
              "      <th>IS_ANSWER</th>\n",
              "      <th>TOPIC_NUM</th>\n",
              "      <th>POST_NUM</th>\n",
              "      <th>SENT_NUM</th>\n",
              "      <th>TOKEN_NUM</th>\n",
              "      <th>ANIMACY</th>\n",
              "      <th>CASE</th>\n",
              "      <th>GENDER</th>\n",
              "      <th>PERSON</th>\n",
              "      <th>POS</th>\n",
              "      <th>DEPENDENCY</th>\n",
              "      <th>HEAD</th>\n",
              "      <th>HEAD_ANIMACY</th>\n",
              "      <th>HEAD_CASE</th>\n",
              "      <th>HEAD_GENDER</th>\n",
              "      <th>HEAD_POS</th>\n",
              "      <th>HEAD_VECT</th>\n",
              "      <th>SENT_VECT</th>\n",
              "      <th>HEAD_CHILDS_VECT</th>\n",
              "      <th>NER</th>\n",
              "      <th>COREFERENCE_CLUSTER</th>\n",
              "    </tr>\n",
              "  </thead>\n",
              "  <tbody>\n",
              "    <tr>\n",
              "      <th>6541</th>\n",
              "      <td>доминанту</td>\n",
              "      <td>[0.15259643, 1.0673474, 0.84192747, -0.0775155...</td>\n",
              "      <td>1</td>\n",
              "      <td>5</td>\n",
              "      <td>17</td>\n",
              "      <td>0</td>\n",
              "      <td>339</td>\n",
              "      <td>inan</td>\n",
              "      <td>accs</td>\n",
              "      <td>femn</td>\n",
              "      <td>NaN</td>\n",
              "      <td>NOUN</td>\n",
              "      <td>obj</td>\n",
              "      <td>убирает</td>\n",
              "      <td>NaN</td>\n",
              "      <td>NaN</td>\n",
              "      <td>NaN</td>\n",
              "      <td>VERB</td>\n",
              "      <td>[-0.17725945, 0.94834274, 0.90867615, 0.850609...</td>\n",
              "      <td>[0.01863711, 0.2306802, 0.14600733, -0.0191193...</td>\n",
              "      <td>[0.15259643, 1.0673474, 0.84192747, -0.0775155...</td>\n",
              "      <td>0</td>\n",
              "      <td>0.0</td>\n",
              "    </tr>\n",
              "  </tbody>\n",
              "</table>\n",
              "</div>"
            ],
            "text/plain": [
              "          TOKEN  ... COREFERENCE_CLUSTER\n",
              "6541  доминанту  ...                 0.0\n",
              "\n",
              "[1 rows x 23 columns]"
            ]
          },
          "metadata": {
            "tags": []
          },
          "execution_count": 102
        }
      ]
    },
    {
      "cell_type": "code",
      "metadata": {
        "colab": {
          "base_uri": "https://localhost:8080/",
          "height": 232
        },
        "id": "fPIsR9K8jSTf",
        "outputId": "9de8abb6-bcaf-4dc6-fa75-34803a720bbf"
      },
      "source": [
        "cor_df.iloc[:2,:]"
      ],
      "execution_count": 103,
      "outputs": [
        {
          "output_type": "execute_result",
          "data": {
            "text/html": [
              "<div>\n",
              "<style scoped>\n",
              "    .dataframe tbody tr th:only-of-type {\n",
              "        vertical-align: middle;\n",
              "    }\n",
              "\n",
              "    .dataframe tbody tr th {\n",
              "        vertical-align: top;\n",
              "    }\n",
              "\n",
              "    .dataframe thead th {\n",
              "        text-align: right;\n",
              "    }\n",
              "</style>\n",
              "<table border=\"1\" class=\"dataframe\">\n",
              "  <thead>\n",
              "    <tr style=\"text-align: right;\">\n",
              "      <th></th>\n",
              "      <th>TOKEN</th>\n",
              "      <th>TOKEN_VECT</th>\n",
              "      <th>IS_ANSWER</th>\n",
              "      <th>TOPIC_NUM</th>\n",
              "      <th>POST_NUM</th>\n",
              "      <th>SENT_NUM</th>\n",
              "      <th>TOKEN_NUM</th>\n",
              "      <th>ANIMACY</th>\n",
              "      <th>CASE</th>\n",
              "      <th>GENDER</th>\n",
              "      <th>PERSON</th>\n",
              "      <th>POS</th>\n",
              "      <th>DEPENDENCY</th>\n",
              "      <th>HEAD</th>\n",
              "      <th>HEAD_ANIMACY</th>\n",
              "      <th>HEAD_CASE</th>\n",
              "      <th>HEAD_GENDER</th>\n",
              "      <th>HEAD_POS</th>\n",
              "      <th>HEAD_VECT</th>\n",
              "      <th>SENT_VECT</th>\n",
              "      <th>HEAD_CHILDS_VECT</th>\n",
              "      <th>NER</th>\n",
              "      <th>COREFERENCE_CLUSTER</th>\n",
              "    </tr>\n",
              "  </thead>\n",
              "  <tbody>\n",
              "    <tr>\n",
              "      <th>0</th>\n",
              "      <td>обсуждаем</td>\n",
              "      <td>[0.15259643, 1.0673474, 0.84192747, -0.0775155...</td>\n",
              "      <td>0</td>\n",
              "      <td>1</td>\n",
              "      <td>0</td>\n",
              "      <td>0</td>\n",
              "      <td>0</td>\n",
              "      <td>NaN</td>\n",
              "      <td>NaN</td>\n",
              "      <td>NaN</td>\n",
              "      <td>1per</td>\n",
              "      <td>VERB</td>\n",
              "      <td>ROOT</td>\n",
              "      <td>обсуждаем</td>\n",
              "      <td>NaN</td>\n",
              "      <td>NaN</td>\n",
              "      <td>NaN</td>\n",
              "      <td>VERB</td>\n",
              "      <td>[-0.17725945, 0.94834274, 0.90867615, 0.850609...</td>\n",
              "      <td>[0.01863711, 0.2306802, 0.14600733, -0.0191193...</td>\n",
              "      <td>[0.15259643, 1.0673474, 0.84192747, -0.0775155...</td>\n",
              "      <td>0</td>\n",
              "      <td>0.0</td>\n",
              "    </tr>\n",
              "    <tr>\n",
              "      <th>1</th>\n",
              "      <td>препарат</td>\n",
              "      <td>[0.15259643, 1.0673474, 0.84192747, -0.0775155...</td>\n",
              "      <td>0</td>\n",
              "      <td>1</td>\n",
              "      <td>0</td>\n",
              "      <td>0</td>\n",
              "      <td>1</td>\n",
              "      <td>inan</td>\n",
              "      <td>nomn</td>\n",
              "      <td>masc</td>\n",
              "      <td>NaN</td>\n",
              "      <td>NOUN</td>\n",
              "      <td>obj</td>\n",
              "      <td>обсуждаем</td>\n",
              "      <td>NaN</td>\n",
              "      <td>NaN</td>\n",
              "      <td>NaN</td>\n",
              "      <td>VERB</td>\n",
              "      <td>[-0.17725945, 0.94834274, 0.90867615, 0.850609...</td>\n",
              "      <td>[0.01863711, 0.2306802, 0.14600733, -0.0191193...</td>\n",
              "      <td>[0.15259643, 1.0673474, 0.84192747, -0.0775155...</td>\n",
              "      <td>0</td>\n",
              "      <td>0.0</td>\n",
              "    </tr>\n",
              "  </tbody>\n",
              "</table>\n",
              "</div>"
            ],
            "text/plain": [
              "       TOKEN  ... COREFERENCE_CLUSTER\n",
              "0  обсуждаем  ...                 0.0\n",
              "1   препарат  ...                 0.0\n",
              "\n",
              "[2 rows x 23 columns]"
            ]
          },
          "metadata": {
            "tags": []
          },
          "execution_count": 103
        }
      ]
    },
    {
      "cell_type": "code",
      "metadata": {
        "id": "8zzHN3oQjNoC"
      },
      "source": [
        "df = cor_df.iloc[:6541,:]"
      ],
      "execution_count": 104,
      "outputs": []
    },
    {
      "cell_type": "code",
      "metadata": {
        "colab": {
          "base_uri": "https://localhost:8080/",
          "height": 150
        },
        "id": "F2yuqw8dq2xx",
        "outputId": "f976b57e-c5b9-404b-96c3-20ee27516b9a"
      },
      "source": [
        "cor_df.iloc[:1,:]"
      ],
      "execution_count": 105,
      "outputs": [
        {
          "output_type": "execute_result",
          "data": {
            "text/html": [
              "<div>\n",
              "<style scoped>\n",
              "    .dataframe tbody tr th:only-of-type {\n",
              "        vertical-align: middle;\n",
              "    }\n",
              "\n",
              "    .dataframe tbody tr th {\n",
              "        vertical-align: top;\n",
              "    }\n",
              "\n",
              "    .dataframe thead th {\n",
              "        text-align: right;\n",
              "    }\n",
              "</style>\n",
              "<table border=\"1\" class=\"dataframe\">\n",
              "  <thead>\n",
              "    <tr style=\"text-align: right;\">\n",
              "      <th></th>\n",
              "      <th>TOKEN</th>\n",
              "      <th>TOKEN_VECT</th>\n",
              "      <th>IS_ANSWER</th>\n",
              "      <th>TOPIC_NUM</th>\n",
              "      <th>POST_NUM</th>\n",
              "      <th>SENT_NUM</th>\n",
              "      <th>TOKEN_NUM</th>\n",
              "      <th>ANIMACY</th>\n",
              "      <th>CASE</th>\n",
              "      <th>GENDER</th>\n",
              "      <th>PERSON</th>\n",
              "      <th>POS</th>\n",
              "      <th>DEPENDENCY</th>\n",
              "      <th>HEAD</th>\n",
              "      <th>HEAD_ANIMACY</th>\n",
              "      <th>HEAD_CASE</th>\n",
              "      <th>HEAD_GENDER</th>\n",
              "      <th>HEAD_POS</th>\n",
              "      <th>HEAD_VECT</th>\n",
              "      <th>SENT_VECT</th>\n",
              "      <th>HEAD_CHILDS_VECT</th>\n",
              "      <th>NER</th>\n",
              "      <th>COREFERENCE_CLUSTER</th>\n",
              "    </tr>\n",
              "  </thead>\n",
              "  <tbody>\n",
              "    <tr>\n",
              "      <th>0</th>\n",
              "      <td>обсуждаем</td>\n",
              "      <td>[0.15259643, 1.0673474, 0.84192747, -0.0775155...</td>\n",
              "      <td>0</td>\n",
              "      <td>1</td>\n",
              "      <td>0</td>\n",
              "      <td>0</td>\n",
              "      <td>0</td>\n",
              "      <td>NaN</td>\n",
              "      <td>NaN</td>\n",
              "      <td>NaN</td>\n",
              "      <td>1per</td>\n",
              "      <td>VERB</td>\n",
              "      <td>ROOT</td>\n",
              "      <td>обсуждаем</td>\n",
              "      <td>NaN</td>\n",
              "      <td>NaN</td>\n",
              "      <td>NaN</td>\n",
              "      <td>VERB</td>\n",
              "      <td>[-0.17725945, 0.94834274, 0.90867615, 0.850609...</td>\n",
              "      <td>[0.01863711, 0.2306802, 0.14600733, -0.0191193...</td>\n",
              "      <td>[0.15259643, 1.0673474, 0.84192747, -0.0775155...</td>\n",
              "      <td>0</td>\n",
              "      <td>0.0</td>\n",
              "    </tr>\n",
              "  </tbody>\n",
              "</table>\n",
              "</div>"
            ],
            "text/plain": [
              "       TOKEN  ... COREFERENCE_CLUSTER\n",
              "0  обсуждаем  ...                 0.0\n",
              "\n",
              "[1 rows x 23 columns]"
            ]
          },
          "metadata": {
            "tags": []
          },
          "execution_count": 105
        }
      ]
    },
    {
      "cell_type": "code",
      "metadata": {
        "colab": {
          "base_uri": "https://localhost:8080/"
        },
        "id": "ZUxdUD5ZWpku",
        "outputId": "b3c1f6d6-b630-49e1-d24c-17b7f217e1e8"
      },
      "source": [
        "len(df.loc[df['NER'] == 1])"
      ],
      "execution_count": 106,
      "outputs": [
        {
          "output_type": "execute_result",
          "data": {
            "text/plain": [
              "283"
            ]
          },
          "metadata": {
            "tags": []
          },
          "execution_count": 106
        }
      ]
    },
    {
      "cell_type": "code",
      "metadata": {
        "colab": {
          "base_uri": "https://localhost:8080/"
        },
        "id": "M1CiLnyGltqt",
        "outputId": "196d8b97-ac24-4e1c-abbd-a005a5cd2a1a"
      },
      "source": [
        "len(df.loc[df['NER'] == 2])"
      ],
      "execution_count": 107,
      "outputs": [
        {
          "output_type": "execute_result",
          "data": {
            "text/plain": [
              "89"
            ]
          },
          "metadata": {
            "tags": []
          },
          "execution_count": 107
        }
      ]
    },
    {
      "cell_type": "code",
      "metadata": {
        "colab": {
          "base_uri": "https://localhost:8080/"
        },
        "id": "4Te0h4xrlvUH",
        "outputId": "d933bf6a-4db8-4c14-9a83-928b96a8daf1"
      },
      "source": [
        "len(df.loc[df['NER'] == 3])"
      ],
      "execution_count": 108,
      "outputs": [
        {
          "output_type": "execute_result",
          "data": {
            "text/plain": [
              "54"
            ]
          },
          "metadata": {
            "tags": []
          },
          "execution_count": 108
        }
      ]
    },
    {
      "cell_type": "code",
      "metadata": {
        "colab": {
          "base_uri": "https://localhost:8080/"
        },
        "id": "FB-5d7uAn6Jl",
        "outputId": "d741d6b0-e4b9-4c0e-9572-5879c87fc99b"
      },
      "source": [
        "len(df.loc[df['NER'].isin([1,2,3])])"
      ],
      "execution_count": 109,
      "outputs": [
        {
          "output_type": "execute_result",
          "data": {
            "text/plain": [
              "426"
            ]
          },
          "metadata": {
            "tags": []
          },
          "execution_count": 109
        }
      ]
    },
    {
      "cell_type": "code",
      "metadata": {
        "colab": {
          "base_uri": "https://localhost:8080/",
          "height": 945
        },
        "id": "0t2P18AaoYk7",
        "outputId": "471e5159-e213-4c34-c1f6-81cce107a9ff"
      },
      "source": [
        "df.loc[df['NER'].isin([1,2,3])]"
      ],
      "execution_count": 110,
      "outputs": [
        {
          "output_type": "execute_result",
          "data": {
            "text/html": [
              "<div>\n",
              "<style scoped>\n",
              "    .dataframe tbody tr th:only-of-type {\n",
              "        vertical-align: middle;\n",
              "    }\n",
              "\n",
              "    .dataframe tbody tr th {\n",
              "        vertical-align: top;\n",
              "    }\n",
              "\n",
              "    .dataframe thead th {\n",
              "        text-align: right;\n",
              "    }\n",
              "</style>\n",
              "<table border=\"1\" class=\"dataframe\">\n",
              "  <thead>\n",
              "    <tr style=\"text-align: right;\">\n",
              "      <th></th>\n",
              "      <th>TOKEN</th>\n",
              "      <th>TOKEN_VECT</th>\n",
              "      <th>IS_ANSWER</th>\n",
              "      <th>TOPIC_NUM</th>\n",
              "      <th>POST_NUM</th>\n",
              "      <th>SENT_NUM</th>\n",
              "      <th>TOKEN_NUM</th>\n",
              "      <th>ANIMACY</th>\n",
              "      <th>CASE</th>\n",
              "      <th>GENDER</th>\n",
              "      <th>PERSON</th>\n",
              "      <th>POS</th>\n",
              "      <th>DEPENDENCY</th>\n",
              "      <th>HEAD</th>\n",
              "      <th>HEAD_ANIMACY</th>\n",
              "      <th>HEAD_CASE</th>\n",
              "      <th>HEAD_GENDER</th>\n",
              "      <th>HEAD_POS</th>\n",
              "      <th>HEAD_VECT</th>\n",
              "      <th>SENT_VECT</th>\n",
              "      <th>HEAD_CHILDS_VECT</th>\n",
              "      <th>NER</th>\n",
              "      <th>COREFERENCE_CLUSTER</th>\n",
              "    </tr>\n",
              "  </thead>\n",
              "  <tbody>\n",
              "    <tr>\n",
              "      <th>2</th>\n",
              "      <td>рисперидон</td>\n",
              "      <td>[0.15259643, 1.0673474, 0.84192747, -0.0775155...</td>\n",
              "      <td>0</td>\n",
              "      <td>1</td>\n",
              "      <td>0</td>\n",
              "      <td>0</td>\n",
              "      <td>2</td>\n",
              "      <td>anim</td>\n",
              "      <td>nomn</td>\n",
              "      <td>masc</td>\n",
              "      <td>NaN</td>\n",
              "      <td>NOUN</td>\n",
              "      <td>appos</td>\n",
              "      <td>препарат</td>\n",
              "      <td>inan</td>\n",
              "      <td>nomn</td>\n",
              "      <td>masc</td>\n",
              "      <td>NOUN</td>\n",
              "      <td>[-0.17725945, 0.94834274, 0.90867615, 0.850609...</td>\n",
              "      <td>[0.01863711, 0.2306802, 0.14600733, -0.0191193...</td>\n",
              "      <td>[0.15259643, 1.0673474, 0.84192747, -0.0775155...</td>\n",
              "      <td>1</td>\n",
              "      <td>2.0</td>\n",
              "    </tr>\n",
              "    <tr>\n",
              "      <th>3</th>\n",
              "      <td>рисполепт</td>\n",
              "      <td>[0.15259643, 1.0673474, 0.84192747, -0.0775155...</td>\n",
              "      <td>0</td>\n",
              "      <td>1</td>\n",
              "      <td>0</td>\n",
              "      <td>0</td>\n",
              "      <td>3</td>\n",
              "      <td>inan</td>\n",
              "      <td>gent</td>\n",
              "      <td>femn</td>\n",
              "      <td>NaN</td>\n",
              "      <td>NOUN</td>\n",
              "      <td>parataxis</td>\n",
              "      <td>рисперидон</td>\n",
              "      <td>anim</td>\n",
              "      <td>nomn</td>\n",
              "      <td>masc</td>\n",
              "      <td>NOUN</td>\n",
              "      <td>[-0.17725945, 0.94834274, 0.90867615, 0.850609...</td>\n",
              "      <td>[0.01863711, 0.2306802, 0.14600733, -0.0191193...</td>\n",
              "      <td>[0.15259643, 1.0673474, 0.84192747, -0.0775155...</td>\n",
              "      <td>1</td>\n",
              "      <td>3.0</td>\n",
              "    </tr>\n",
              "    <tr>\n",
              "      <th>4</th>\n",
              "      <td>сперидан</td>\n",
              "      <td>[0.15259643, 1.0673474, 0.84192747, -0.0775155...</td>\n",
              "      <td>0</td>\n",
              "      <td>1</td>\n",
              "      <td>0</td>\n",
              "      <td>0</td>\n",
              "      <td>4</td>\n",
              "      <td>NaN</td>\n",
              "      <td>NaN</td>\n",
              "      <td>masc</td>\n",
              "      <td>NaN</td>\n",
              "      <td>PRTS</td>\n",
              "      <td>conj</td>\n",
              "      <td>рисполепт</td>\n",
              "      <td>inan</td>\n",
              "      <td>gent</td>\n",
              "      <td>femn</td>\n",
              "      <td>NOUN</td>\n",
              "      <td>[-0.17725945, 0.94834274, 0.90867615, 0.850609...</td>\n",
              "      <td>[0.01863711, 0.2306802, 0.14600733, -0.0191193...</td>\n",
              "      <td>[0.15259643, 1.0673474, 0.84192747, -0.0775155...</td>\n",
              "      <td>1</td>\n",
              "      <td>4.0</td>\n",
              "    </tr>\n",
              "    <tr>\n",
              "      <th>142</th>\n",
              "      <td>рисполепта</td>\n",
              "      <td>[0.15259643, 1.0673474, 0.84192747, -0.0775155...</td>\n",
              "      <td>0</td>\n",
              "      <td>1</td>\n",
              "      <td>1</td>\n",
              "      <td>13</td>\n",
              "      <td>7</td>\n",
              "      <td>inan</td>\n",
              "      <td>nomn</td>\n",
              "      <td>femn</td>\n",
              "      <td>NaN</td>\n",
              "      <td>NOUN</td>\n",
              "      <td>nmod</td>\n",
              "      <td>дозировку</td>\n",
              "      <td>inan</td>\n",
              "      <td>accs</td>\n",
              "      <td>femn</td>\n",
              "      <td>NOUN</td>\n",
              "      <td>[-0.17725945, 0.94834274, 0.90867615, 0.850609...</td>\n",
              "      <td>[0.01863711, 0.2306802, 0.14600733, -0.0191193...</td>\n",
              "      <td>[0.15259643, 1.0673474, 0.84192747, -0.0775155...</td>\n",
              "      <td>1</td>\n",
              "      <td>142.0</td>\n",
              "    </tr>\n",
              "    <tr>\n",
              "      <th>344</th>\n",
              "      <td>рисполепта</td>\n",
              "      <td>[0.15259643, 1.0673474, 0.84192747, -0.0775155...</td>\n",
              "      <td>1</td>\n",
              "      <td>1</td>\n",
              "      <td>2</td>\n",
              "      <td>4</td>\n",
              "      <td>64</td>\n",
              "      <td>inan</td>\n",
              "      <td>nomn</td>\n",
              "      <td>femn</td>\n",
              "      <td>NaN</td>\n",
              "      <td>NOUN</td>\n",
              "      <td>nmod</td>\n",
              "      <td>приеме</td>\n",
              "      <td>inan</td>\n",
              "      <td>loct</td>\n",
              "      <td>masc</td>\n",
              "      <td>NOUN</td>\n",
              "      <td>[-0.17725945, 0.94834274, 0.90867615, 0.850609...</td>\n",
              "      <td>[0.01863711, 0.2306802, 0.14600733, -0.0191193...</td>\n",
              "      <td>[0.15259643, 1.0673474, 0.84192747, -0.0775155...</td>\n",
              "      <td>1</td>\n",
              "      <td>344.0</td>\n",
              "    </tr>\n",
              "    <tr>\n",
              "      <th>...</th>\n",
              "      <td>...</td>\n",
              "      <td>...</td>\n",
              "      <td>...</td>\n",
              "      <td>...</td>\n",
              "      <td>...</td>\n",
              "      <td>...</td>\n",
              "      <td>...</td>\n",
              "      <td>...</td>\n",
              "      <td>...</td>\n",
              "      <td>...</td>\n",
              "      <td>...</td>\n",
              "      <td>...</td>\n",
              "      <td>...</td>\n",
              "      <td>...</td>\n",
              "      <td>...</td>\n",
              "      <td>...</td>\n",
              "      <td>...</td>\n",
              "      <td>...</td>\n",
              "      <td>...</td>\n",
              "      <td>...</td>\n",
              "      <td>...</td>\n",
              "      <td>...</td>\n",
              "      <td>...</td>\n",
              "    </tr>\n",
              "    <tr>\n",
              "      <th>6502</th>\n",
              "      <td>он</td>\n",
              "      <td>[0.15259643, 1.0673474, 0.84192747, -0.0775155...</td>\n",
              "      <td>1</td>\n",
              "      <td>5</td>\n",
              "      <td>14</td>\n",
              "      <td>0</td>\n",
              "      <td>300</td>\n",
              "      <td>NaN</td>\n",
              "      <td>nomn</td>\n",
              "      <td>masc</td>\n",
              "      <td>3per</td>\n",
              "      <td>NPRO</td>\n",
              "      <td>nsubj</td>\n",
              "      <td>убрал</td>\n",
              "      <td>NaN</td>\n",
              "      <td>NaN</td>\n",
              "      <td>masc</td>\n",
              "      <td>VERB</td>\n",
              "      <td>[-0.17725945, 0.94834274, 0.90867615, 0.850609...</td>\n",
              "      <td>[0.01863711, 0.2306802, 0.14600733, -0.0191193...</td>\n",
              "      <td>[0.15259643, 1.0673474, 0.84192747, -0.0775155...</td>\n",
              "      <td>3</td>\n",
              "      <td>270.0</td>\n",
              "    </tr>\n",
              "    <tr>\n",
              "      <th>6517</th>\n",
              "      <td>тиапридом</td>\n",
              "      <td>[0.15259643, 1.0673474, 0.84192747, -0.0775155...</td>\n",
              "      <td>1</td>\n",
              "      <td>5</td>\n",
              "      <td>15</td>\n",
              "      <td>0</td>\n",
              "      <td>315</td>\n",
              "      <td>anim</td>\n",
              "      <td>ablt</td>\n",
              "      <td>masc</td>\n",
              "      <td>NaN</td>\n",
              "      <td>NOUN</td>\n",
              "      <td>nmod</td>\n",
              "      <td>отравлении</td>\n",
              "      <td>inan</td>\n",
              "      <td>loct</td>\n",
              "      <td>neut</td>\n",
              "      <td>NOUN</td>\n",
              "      <td>[-0.17725945, 0.94834274, 0.90867615, 0.850609...</td>\n",
              "      <td>[0.01863711, 0.2306802, 0.14600733, -0.0191193...</td>\n",
              "      <td>[0.15259643, 1.0673474, 0.84192747, -0.0775155...</td>\n",
              "      <td>1</td>\n",
              "      <td>319.0</td>\n",
              "    </tr>\n",
              "    <tr>\n",
              "      <th>6526</th>\n",
              "      <td>препарат</td>\n",
              "      <td>[0.15259643, 1.0673474, 0.84192747, -0.0775155...</td>\n",
              "      <td>1</td>\n",
              "      <td>5</td>\n",
              "      <td>16</td>\n",
              "      <td>0</td>\n",
              "      <td>324</td>\n",
              "      <td>inan</td>\n",
              "      <td>nomn</td>\n",
              "      <td>masc</td>\n",
              "      <td>NaN</td>\n",
              "      <td>NOUN</td>\n",
              "      <td>obj</td>\n",
              "      <td>отнесли</td>\n",
              "      <td>NaN</td>\n",
              "      <td>NaN</td>\n",
              "      <td>NaN</td>\n",
              "      <td>VERB</td>\n",
              "      <td>[-0.17725945, 0.94834274, 0.90867615, 0.850609...</td>\n",
              "      <td>[0.01863711, 0.2306802, 0.14600733, -0.0191193...</td>\n",
              "      <td>[0.15259643, 1.0673474, 0.84192747, -0.0775155...</td>\n",
              "      <td>2</td>\n",
              "      <td>319.0</td>\n",
              "    </tr>\n",
              "    <tr>\n",
              "      <th>6535</th>\n",
              "      <td>метоклопрамида</td>\n",
              "      <td>[0.15259643, 1.0673474, 0.84192747, -0.0775155...</td>\n",
              "      <td>1</td>\n",
              "      <td>5</td>\n",
              "      <td>16</td>\n",
              "      <td>1</td>\n",
              "      <td>333</td>\n",
              "      <td>inan</td>\n",
              "      <td>gent</td>\n",
              "      <td>masc</td>\n",
              "      <td>NaN</td>\n",
              "      <td>NOUN</td>\n",
              "      <td>nmod</td>\n",
              "      <td>близнец</td>\n",
              "      <td>anim</td>\n",
              "      <td>nomn</td>\n",
              "      <td>masc</td>\n",
              "      <td>NOUN</td>\n",
              "      <td>[-0.17725945, 0.94834274, 0.90867615, 0.850609...</td>\n",
              "      <td>[0.01863711, 0.2306802, 0.14600733, -0.0191193...</td>\n",
              "      <td>[0.15259643, 1.0673474, 0.84192747, -0.0775155...</td>\n",
              "      <td>1</td>\n",
              "      <td>337.0</td>\n",
              "    </tr>\n",
              "    <tr>\n",
              "      <th>6539</th>\n",
              "      <td>тиаприд</td>\n",
              "      <td>[0.15259643, 1.0673474, 0.84192747, -0.0775155...</td>\n",
              "      <td>1</td>\n",
              "      <td>5</td>\n",
              "      <td>17</td>\n",
              "      <td>0</td>\n",
              "      <td>337</td>\n",
              "      <td>anim</td>\n",
              "      <td>nomn</td>\n",
              "      <td>masc</td>\n",
              "      <td>NaN</td>\n",
              "      <td>NOUN</td>\n",
              "      <td>nsubj</td>\n",
              "      <td>убирает</td>\n",
              "      <td>NaN</td>\n",
              "      <td>NaN</td>\n",
              "      <td>NaN</td>\n",
              "      <td>VERB</td>\n",
              "      <td>[-0.17725945, 0.94834274, 0.90867615, 0.850609...</td>\n",
              "      <td>[0.01863711, 0.2306802, 0.14600733, -0.0191193...</td>\n",
              "      <td>[0.15259643, 1.0673474, 0.84192747, -0.0775155...</td>\n",
              "      <td>1</td>\n",
              "      <td>341.0</td>\n",
              "    </tr>\n",
              "  </tbody>\n",
              "</table>\n",
              "<p>426 rows × 23 columns</p>\n",
              "</div>"
            ],
            "text/plain": [
              "               TOKEN  ... COREFERENCE_CLUSTER\n",
              "2         рисперидон  ...                 2.0\n",
              "3          рисполепт  ...                 3.0\n",
              "4           сперидан  ...                 4.0\n",
              "142       рисполепта  ...               142.0\n",
              "344       рисполепта  ...               344.0\n",
              "...              ...  ...                 ...\n",
              "6502              он  ...               270.0\n",
              "6517       тиапридом  ...               319.0\n",
              "6526        препарат  ...               319.0\n",
              "6535  метоклопрамида  ...               337.0\n",
              "6539         тиаприд  ...               341.0\n",
              "\n",
              "[426 rows x 23 columns]"
            ]
          },
          "metadata": {
            "tags": []
          },
          "execution_count": 110
        }
      ]
    },
    {
      "cell_type": "code",
      "metadata": {
        "colab": {
          "base_uri": "https://localhost:8080/",
          "height": 288
        },
        "id": "x9dtPGXhkY7q",
        "outputId": "6b0bb0ab-1d7a-4977-efea-098ec0c24620"
      },
      "source": [
        "df.describe()"
      ],
      "execution_count": 63,
      "outputs": [
        {
          "output_type": "execute_result",
          "data": {
            "text/html": [
              "<div>\n",
              "<style scoped>\n",
              "    .dataframe tbody tr th:only-of-type {\n",
              "        vertical-align: middle;\n",
              "    }\n",
              "\n",
              "    .dataframe tbody tr th {\n",
              "        vertical-align: top;\n",
              "    }\n",
              "\n",
              "    .dataframe thead th {\n",
              "        text-align: right;\n",
              "    }\n",
              "</style>\n",
              "<table border=\"1\" class=\"dataframe\">\n",
              "  <thead>\n",
              "    <tr style=\"text-align: right;\">\n",
              "      <th></th>\n",
              "      <th>IS_ANSWER</th>\n",
              "      <th>TOPIC_NUM</th>\n",
              "      <th>POST_NUM</th>\n",
              "      <th>SENT_NUM</th>\n",
              "      <th>TOKEN_NUM</th>\n",
              "      <th>NER</th>\n",
              "      <th>COREFERENCE_CLUSTER</th>\n",
              "    </tr>\n",
              "  </thead>\n",
              "  <tbody>\n",
              "    <tr>\n",
              "      <th>count</th>\n",
              "      <td>6541.000000</td>\n",
              "      <td>6541.000000</td>\n",
              "      <td>6541.00000</td>\n",
              "      <td>6541.000000</td>\n",
              "      <td>6541.000000</td>\n",
              "      <td>6541.000000</td>\n",
              "      <td>6541.000000</td>\n",
              "    </tr>\n",
              "    <tr>\n",
              "      <th>mean</th>\n",
              "      <td>0.929369</td>\n",
              "      <td>2.830148</td>\n",
              "      <td>15.74377</td>\n",
              "      <td>4.258829</td>\n",
              "      <td>1180.104877</td>\n",
              "      <td>0.095245</td>\n",
              "      <td>66.903532</td>\n",
              "    </tr>\n",
              "    <tr>\n",
              "      <th>std</th>\n",
              "      <td>0.256228</td>\n",
              "      <td>0.910212</td>\n",
              "      <td>12.06082</td>\n",
              "      <td>5.718161</td>\n",
              "      <td>1106.784078</td>\n",
              "      <td>0.403665</td>\n",
              "      <td>370.716460</td>\n",
              "    </tr>\n",
              "    <tr>\n",
              "      <th>min</th>\n",
              "      <td>0.000000</td>\n",
              "      <td>1.000000</td>\n",
              "      <td>0.00000</td>\n",
              "      <td>0.000000</td>\n",
              "      <td>0.000000</td>\n",
              "      <td>0.000000</td>\n",
              "      <td>0.000000</td>\n",
              "    </tr>\n",
              "    <tr>\n",
              "      <th>25%</th>\n",
              "      <td>1.000000</td>\n",
              "      <td>2.000000</td>\n",
              "      <td>6.00000</td>\n",
              "      <td>1.000000</td>\n",
              "      <td>234.000000</td>\n",
              "      <td>0.000000</td>\n",
              "      <td>0.000000</td>\n",
              "    </tr>\n",
              "    <tr>\n",
              "      <th>50%</th>\n",
              "      <td>1.000000</td>\n",
              "      <td>3.000000</td>\n",
              "      <td>14.00000</td>\n",
              "      <td>2.000000</td>\n",
              "      <td>800.000000</td>\n",
              "      <td>0.000000</td>\n",
              "      <td>0.000000</td>\n",
              "    </tr>\n",
              "    <tr>\n",
              "      <th>75%</th>\n",
              "      <td>1.000000</td>\n",
              "      <td>3.000000</td>\n",
              "      <td>23.00000</td>\n",
              "      <td>5.000000</td>\n",
              "      <td>2033.000000</td>\n",
              "      <td>0.000000</td>\n",
              "      <td>0.000000</td>\n",
              "    </tr>\n",
              "    <tr>\n",
              "      <th>max</th>\n",
              "      <td>1.000000</td>\n",
              "      <td>5.000000</td>\n",
              "      <td>49.00000</td>\n",
              "      <td>31.000000</td>\n",
              "      <td>3668.000000</td>\n",
              "      <td>3.000000</td>\n",
              "      <td>3653.000000</td>\n",
              "    </tr>\n",
              "  </tbody>\n",
              "</table>\n",
              "</div>"
            ],
            "text/plain": [
              "         IS_ANSWER    TOPIC_NUM  ...          NER  COREFERENCE_CLUSTER\n",
              "count  6541.000000  6541.000000  ...  6541.000000          6541.000000\n",
              "mean      0.929369     2.830148  ...     0.095245            66.903532\n",
              "std       0.256228     0.910212  ...     0.403665           370.716460\n",
              "min       0.000000     1.000000  ...     0.000000             0.000000\n",
              "25%       1.000000     2.000000  ...     0.000000             0.000000\n",
              "50%       1.000000     3.000000  ...     0.000000             0.000000\n",
              "75%       1.000000     3.000000  ...     0.000000             0.000000\n",
              "max       1.000000     5.000000  ...     3.000000          3653.000000\n",
              "\n",
              "[8 rows x 7 columns]"
            ]
          },
          "metadata": {
            "tags": []
          },
          "execution_count": 63
        }
      ]
    },
    {
      "cell_type": "code",
      "metadata": {
        "id": "_iE_6DTwjs9r"
      },
      "source": [
        "train, test = train_test_split(df, test_size=0.2)"
      ],
      "execution_count": 48,
      "outputs": []
    },
    {
      "cell_type": "code",
      "metadata": {
        "colab": {
          "base_uri": "https://localhost:8080/",
          "height": 963
        },
        "id": "Iqdr1Z1MbxQP",
        "outputId": "5ac7c7a6-023d-4047-ba62-12fe59ed10a2"
      },
      "source": [
        "train"
      ],
      "execution_count": 50,
      "outputs": [
        {
          "output_type": "execute_result",
          "data": {
            "text/html": [
              "<div>\n",
              "<style scoped>\n",
              "    .dataframe tbody tr th:only-of-type {\n",
              "        vertical-align: middle;\n",
              "    }\n",
              "\n",
              "    .dataframe tbody tr th {\n",
              "        vertical-align: top;\n",
              "    }\n",
              "\n",
              "    .dataframe thead th {\n",
              "        text-align: right;\n",
              "    }\n",
              "</style>\n",
              "<table border=\"1\" class=\"dataframe\">\n",
              "  <thead>\n",
              "    <tr style=\"text-align: right;\">\n",
              "      <th></th>\n",
              "      <th>TOKEN</th>\n",
              "      <th>TOKEN_VECT</th>\n",
              "      <th>IS_ANSWER</th>\n",
              "      <th>TOPIC_NUM</th>\n",
              "      <th>POST_NUM</th>\n",
              "      <th>SENT_NUM</th>\n",
              "      <th>TOKEN_NUM</th>\n",
              "      <th>ANIMACY</th>\n",
              "      <th>CASE</th>\n",
              "      <th>GENDER</th>\n",
              "      <th>PERSON</th>\n",
              "      <th>POS</th>\n",
              "      <th>DEPENDENCY</th>\n",
              "      <th>HEAD</th>\n",
              "      <th>HEAD_ANIMACY</th>\n",
              "      <th>HEAD_CASE</th>\n",
              "      <th>HEAD_GENDER</th>\n",
              "      <th>HEAD_POS</th>\n",
              "      <th>HEAD_VECT</th>\n",
              "      <th>SENT_VECT</th>\n",
              "      <th>HEAD_CHILDS_VECT</th>\n",
              "      <th>NER</th>\n",
              "      <th>COREFERENCE_CLUSTER</th>\n",
              "    </tr>\n",
              "  </thead>\n",
              "  <tbody>\n",
              "    <tr>\n",
              "      <th>5094</th>\n",
              "      <td>не</td>\n",
              "      <td>[ 1.3166505   0.7812625   0.03431194  0.549083...</td>\n",
              "      <td>1</td>\n",
              "      <td>3</td>\n",
              "      <td>37</td>\n",
              "      <td>2</td>\n",
              "      <td>3210</td>\n",
              "      <td>NaN</td>\n",
              "      <td>NaN</td>\n",
              "      <td>NaN</td>\n",
              "      <td>NaN</td>\n",
              "      <td>PRCL</td>\n",
              "      <td>advmod</td>\n",
              "      <td>равно</td>\n",
              "      <td>NaN</td>\n",
              "      <td>NaN</td>\n",
              "      <td>NaN</td>\n",
              "      <td>CONJ</td>\n",
              "      <td>[ 0.6384062  -0.2530158   0.4628007   0.504675...</td>\n",
              "      <td>[ 6.81811618e-03  2.16187220e-02  1.59193221e-...</td>\n",
              "      <td>[ 0.5665885   0.11021133 -0.00343395  0.366016...</td>\n",
              "      <td>0</td>\n",
              "      <td>0.0</td>\n",
              "    </tr>\n",
              "    <tr>\n",
              "      <th>4693</th>\n",
              "      <td>возникновения</td>\n",
              "      <td>[ 0.8664403   0.40672255  0.00478971 -0.141247...</td>\n",
              "      <td>1</td>\n",
              "      <td>3</td>\n",
              "      <td>32</td>\n",
              "      <td>5</td>\n",
              "      <td>2809</td>\n",
              "      <td>inan</td>\n",
              "      <td>gent</td>\n",
              "      <td>neut</td>\n",
              "      <td>NaN</td>\n",
              "      <td>NOUN</td>\n",
              "      <td>nmod</td>\n",
              "      <td>профилактика</td>\n",
              "      <td>inan</td>\n",
              "      <td>nomn</td>\n",
              "      <td>femn</td>\n",
              "      <td>NOUN</td>\n",
              "      <td>[ 0.47712106  1.4062586   0.41634303  0.477816...</td>\n",
              "      <td>[ 0.0203335   0.04634707  0.0050947  -0.006470...</td>\n",
              "      <td>[ 0.8566508   0.6194427  -0.06817464  0.148334...</td>\n",
              "      <td>0</td>\n",
              "      <td>0.0</td>\n",
              "    </tr>\n",
              "    <tr>\n",
              "      <th>5647</th>\n",
              "      <td>не</td>\n",
              "      <td>[ 1.3166505   0.7812625   0.03431194  0.549083...</td>\n",
              "      <td>1</td>\n",
              "      <td>4</td>\n",
              "      <td>4</td>\n",
              "      <td>0</td>\n",
              "      <td>23</td>\n",
              "      <td>NaN</td>\n",
              "      <td>NaN</td>\n",
              "      <td>NaN</td>\n",
              "      <td>NaN</td>\n",
              "      <td>PRCL</td>\n",
              "      <td>advmod</td>\n",
              "      <td>принимаю</td>\n",
              "      <td>NaN</td>\n",
              "      <td>NaN</td>\n",
              "      <td>NaN</td>\n",
              "      <td>VERB</td>\n",
              "      <td>[ 0.05930857  0.74574506  0.42736983 -0.408226...</td>\n",
              "      <td>[ 1.02194131e-03  1.94714397e-01  3.48628536e-...</td>\n",
              "      <td>[ 0.38121995  0.42492685  0.120866    0.149430...</td>\n",
              "      <td>0</td>\n",
              "      <td>0.0</td>\n",
              "    </tr>\n",
              "    <tr>\n",
              "      <th>3359</th>\n",
              "      <td>не</td>\n",
              "      <td>[ 1.3166505   0.7812625   0.03431194  0.549083...</td>\n",
              "      <td>1</td>\n",
              "      <td>3</td>\n",
              "      <td>18</td>\n",
              "      <td>7</td>\n",
              "      <td>1475</td>\n",
              "      <td>NaN</td>\n",
              "      <td>NaN</td>\n",
              "      <td>NaN</td>\n",
              "      <td>NaN</td>\n",
              "      <td>PRCL</td>\n",
              "      <td>advmod</td>\n",
              "      <td>знаю</td>\n",
              "      <td>NaN</td>\n",
              "      <td>NaN</td>\n",
              "      <td>NaN</td>\n",
              "      <td>VERB</td>\n",
              "      <td>[ 0.59691274  0.32549492  0.28281662 -0.178887...</td>\n",
              "      <td>[ 0.00463667  0.04266815  0.02191578  0.006892...</td>\n",
              "      <td>[ 0.4862453   0.559837   -0.16834979 -0.177250...</td>\n",
              "      <td>0</td>\n",
              "      <td>0.0</td>\n",
              "    </tr>\n",
              "    <tr>\n",
              "      <th>534</th>\n",
              "      <td>лечили</td>\n",
              "      <td>[ 0.98267573  0.39160138 -0.7314423   0.513561...</td>\n",
              "      <td>1</td>\n",
              "      <td>1</td>\n",
              "      <td>9</td>\n",
              "      <td>1</td>\n",
              "      <td>254</td>\n",
              "      <td>NaN</td>\n",
              "      <td>NaN</td>\n",
              "      <td>NaN</td>\n",
              "      <td>NaN</td>\n",
              "      <td>VERB</td>\n",
              "      <td>ROOT</td>\n",
              "      <td>лечили</td>\n",
              "      <td>NaN</td>\n",
              "      <td>NaN</td>\n",
              "      <td>NaN</td>\n",
              "      <td>VERB</td>\n",
              "      <td>[ 0.98267573  0.39160138 -0.7314423   0.513561...</td>\n",
              "      <td>[ 0.08315846  0.16683042  0.07626291 -0.058545...</td>\n",
              "      <td>[ 0.18342188  0.5628554   0.3697557  -0.437373...</td>\n",
              "      <td>0</td>\n",
              "      <td>0.0</td>\n",
              "    </tr>\n",
              "    <tr>\n",
              "      <th>...</th>\n",
              "      <td>...</td>\n",
              "      <td>...</td>\n",
              "      <td>...</td>\n",
              "      <td>...</td>\n",
              "      <td>...</td>\n",
              "      <td>...</td>\n",
              "      <td>...</td>\n",
              "      <td>...</td>\n",
              "      <td>...</td>\n",
              "      <td>...</td>\n",
              "      <td>...</td>\n",
              "      <td>...</td>\n",
              "      <td>...</td>\n",
              "      <td>...</td>\n",
              "      <td>...</td>\n",
              "      <td>...</td>\n",
              "      <td>...</td>\n",
              "      <td>...</td>\n",
              "      <td>...</td>\n",
              "      <td>...</td>\n",
              "      <td>...</td>\n",
              "      <td>...</td>\n",
              "      <td>...</td>\n",
              "    </tr>\n",
              "    <tr>\n",
              "      <th>1611</th>\n",
              "      <td>несколько</td>\n",
              "      <td>[ 0.7079202  -0.01007268  0.02112754  0.060836...</td>\n",
              "      <td>1</td>\n",
              "      <td>2</td>\n",
              "      <td>17</td>\n",
              "      <td>2</td>\n",
              "      <td>946</td>\n",
              "      <td>NaN</td>\n",
              "      <td>NaN</td>\n",
              "      <td>NaN</td>\n",
              "      <td>NaN</td>\n",
              "      <td>ADVB</td>\n",
              "      <td>nummod:gov</td>\n",
              "      <td>сонлив</td>\n",
              "      <td>NaN</td>\n",
              "      <td>NaN</td>\n",
              "      <td>masc</td>\n",
              "      <td>ADJS</td>\n",
              "      <td>[ 0.51633596  0.67358726  0.47839665 -0.208238...</td>\n",
              "      <td>[ 0.05917258  0.06837457  0.04875167 -0.020298...</td>\n",
              "      <td>[ 0.4823186   0.36119863  0.25625664  0.200282...</td>\n",
              "      <td>0</td>\n",
              "      <td>0.0</td>\n",
              "    </tr>\n",
              "    <tr>\n",
              "      <th>2693</th>\n",
              "      <td>вопрос</td>\n",
              "      <td>[ 0.41350657  1.0234988   0.6429038  -0.423172...</td>\n",
              "      <td>1</td>\n",
              "      <td>3</td>\n",
              "      <td>12</td>\n",
              "      <td>0</td>\n",
              "      <td>809</td>\n",
              "      <td>inan</td>\n",
              "      <td>nomn</td>\n",
              "      <td>masc</td>\n",
              "      <td>NaN</td>\n",
              "      <td>NOUN</td>\n",
              "      <td>ROOT</td>\n",
              "      <td>вопрос</td>\n",
              "      <td>inan</td>\n",
              "      <td>nomn</td>\n",
              "      <td>masc</td>\n",
              "      <td>NOUN</td>\n",
              "      <td>[ 0.41350657  1.0234988   0.6429038  -0.423172...</td>\n",
              "      <td>[ 8.83663818e-03  2.38674413e-02  1.33625148e-...</td>\n",
              "      <td>[ 0.36075425  0.59063596 -0.24404798  0.278417...</td>\n",
              "      <td>0</td>\n",
              "      <td>0.0</td>\n",
              "    </tr>\n",
              "    <tr>\n",
              "      <th>3829</th>\n",
              "      <td>28</td>\n",
              "      <td>[-0.26670137 -0.205963    0.3164352  -0.635385...</td>\n",
              "      <td>1</td>\n",
              "      <td>3</td>\n",
              "      <td>23</td>\n",
              "      <td>4</td>\n",
              "      <td>1945</td>\n",
              "      <td>NaN</td>\n",
              "      <td>NaN</td>\n",
              "      <td>NaN</td>\n",
              "      <td>NaN</td>\n",
              "      <td>NaN</td>\n",
              "      <td>nummod</td>\n",
              "      <td>szt</td>\n",
              "      <td>NaN</td>\n",
              "      <td>NaN</td>\n",
              "      <td>NaN</td>\n",
              "      <td>NaN</td>\n",
              "      <td>[-0.11868086 -0.05016071  0.1532267  -0.274004...</td>\n",
              "      <td>[-4.23500023e-04 -1.25278442e-04  6.87614141e-...</td>\n",
              "      <td>[-0.07967585 -0.07066966 -0.03800365 -0.053264...</td>\n",
              "      <td>0</td>\n",
              "      <td>0.0</td>\n",
              "    </tr>\n",
              "    <tr>\n",
              "      <th>2284</th>\n",
              "      <td>и</td>\n",
              "      <td>[ 0.5048941   0.81449467  0.29763442  0.603937...</td>\n",
              "      <td>1</td>\n",
              "      <td>3</td>\n",
              "      <td>5</td>\n",
              "      <td>12</td>\n",
              "      <td>400</td>\n",
              "      <td>NaN</td>\n",
              "      <td>NaN</td>\n",
              "      <td>NaN</td>\n",
              "      <td>NaN</td>\n",
              "      <td>CONJ</td>\n",
              "      <td>cc</td>\n",
              "      <td>идет</td>\n",
              "      <td>NaN</td>\n",
              "      <td>NaN</td>\n",
              "      <td>NaN</td>\n",
              "      <td>VERB</td>\n",
              "      <td>[ 8.35733175e-01  5.94675660e-01 -2.10102320e-...</td>\n",
              "      <td>[ 3.43929487e-03  8.13973416e-03 -6.64101914e-...</td>\n",
              "      <td>[ 0.6446236   0.42039558  0.01956174 -0.048540...</td>\n",
              "      <td>0</td>\n",
              "      <td>0.0</td>\n",
              "    </tr>\n",
              "    <tr>\n",
              "      <th>3613</th>\n",
              "      <td>позволяют(в</td>\n",
              "      <td>[ 0.42256936  0.45724076  0.25214297  0.722457...</td>\n",
              "      <td>1</td>\n",
              "      <td>3</td>\n",
              "      <td>21</td>\n",
              "      <td>3</td>\n",
              "      <td>1729</td>\n",
              "      <td>NaN</td>\n",
              "      <td>NaN</td>\n",
              "      <td>NaN</td>\n",
              "      <td>NaN</td>\n",
              "      <td>GRND</td>\n",
              "      <td>iobj</td>\n",
              "      <td>учреждений),что</td>\n",
              "      <td>NaN</td>\n",
              "      <td>NaN</td>\n",
              "      <td>neut</td>\n",
              "      <td>ADJS</td>\n",
              "      <td>[ 0.41807732  0.4779532  -0.02087671  0.069008...</td>\n",
              "      <td>[ 0.00422685  0.02799078  0.01106091 -0.014617...</td>\n",
              "      <td>[ 0.42256936  0.45724076  0.25214297  0.722457...</td>\n",
              "      <td>0</td>\n",
              "      <td>0.0</td>\n",
              "    </tr>\n",
              "  </tbody>\n",
              "</table>\n",
              "<p>1309 rows × 23 columns</p>\n",
              "</div>"
            ],
            "text/plain": [
              "              TOKEN  ... COREFERENCE_CLUSTER\n",
              "5094             не  ...                 0.0\n",
              "4693  возникновения  ...                 0.0\n",
              "5647             не  ...                 0.0\n",
              "3359             не  ...                 0.0\n",
              "534          лечили  ...                 0.0\n",
              "...             ...  ...                 ...\n",
              "1611      несколько  ...                 0.0\n",
              "2693         вопрос  ...                 0.0\n",
              "3829             28  ...                 0.0\n",
              "2284              и  ...                 0.0\n",
              "3613    позволяют(в  ...                 0.0\n",
              "\n",
              "[1309 rows x 23 columns]"
            ]
          },
          "metadata": {
            "tags": []
          },
          "execution_count": 50
        }
      ]
    },
    {
      "cell_type": "code",
      "metadata": {
        "id": "pdg6Pp5wbx5Y"
      },
      "source": [
        "# X = cor_df.drop(['COREFERENCE_CLUSTER', 'NER', 'TOKEN'], axis=1)\n",
        "# X_test = cor_df_test.drop(['COREFERENCE_CLUSTER', 'NER', 'TOKEN'], axis=1)\n",
        "# labels_dict = {}\n",
        "# test_labels_dict = {}\n",
        "\n",
        "# for i in X.columns:\n",
        "#   X[i], lbl = pd.factorize(X[i])\n",
        "#   labels_dict[i] = lbl\n",
        "\n",
        "# for i in X_test.columns:\n",
        "#   X_test[i], lbl = pd.factorize(X_test[i])\n",
        "#   test_labels_dict[i] = lbl \n",
        "\n",
        "# y = cor_df['COREFERENCE_CLUSTER']\n",
        "# y, y_label = pd.factorize(y)\n",
        "\n",
        "# y_test = cor_df_test['COREFERENCE_CLUSTER']\n",
        "# y_test, y_test_label = pd.factorize(y_test)"
      ],
      "execution_count": null,
      "outputs": []
    },
    {
      "cell_type": "code",
      "metadata": {
        "id": "4af_SNBkhigO"
      },
      "source": [
        "X"
      ],
      "execution_count": null,
      "outputs": []
    },
    {
      "cell_type": "code",
      "metadata": {
        "id": "NWoToXeMhikG"
      },
      "source": [
        "labels_dict['HEAD_POS']"
      ],
      "execution_count": null,
      "outputs": []
    },
    {
      "cell_type": "code",
      "metadata": {
        "id": "lpdNSWV0fl47"
      },
      "source": [
        "clf = tree.DecisionTreeClassifier()\n",
        "clf.fit(X, y)"
      ],
      "execution_count": null,
      "outputs": []
    },
    {
      "cell_type": "code",
      "metadata": {
        "id": "7EOq1DxzyAiQ"
      },
      "source": [
        "clf_ent = tree.DecisionTreeClassifier(criterion='entropy')\n",
        "clf_ent.fit(X, y)"
      ],
      "execution_count": null,
      "outputs": []
    },
    {
      "cell_type": "code",
      "metadata": {
        "id": "p8tYiCNJzF46"
      },
      "source": [
        "from graphviz import Source\n",
        "from sklearn import tree"
      ],
      "execution_count": null,
      "outputs": []
    },
    {
      "cell_type": "code",
      "metadata": {
        "id": "QDIq9aKH0Zv0"
      },
      "source": [
        "# tree.plot_tree(clf)"
      ],
      "execution_count": null,
      "outputs": []
    },
    {
      "cell_type": "code",
      "metadata": {
        "id": "EG77d3VugU3O"
      },
      "source": [
        "# graph = Source(tree.export_graphviz(clf, out_file=None, \n",
        "#                                     feature_names=list(X), class_names=uniques, filled=True))\n",
        "\n",
        "# display(SVG(graph.pipe(format='svg')))"
      ],
      "execution_count": null,
      "outputs": []
    },
    {
      "cell_type": "code",
      "metadata": {
        "id": "ZUoq9gZXyout"
      },
      "source": [
        "clf.predict(X_test)"
      ],
      "execution_count": null,
      "outputs": []
    },
    {
      "cell_type": "code",
      "metadata": {
        "id": "Mr27dCFq03ch"
      },
      "source": [
        "y_test"
      ],
      "execution_count": null,
      "outputs": []
    },
    {
      "cell_type": "code",
      "metadata": {
        "id": "oh-eg2Kk0yuU"
      },
      "source": [
        "X_test"
      ],
      "execution_count": null,
      "outputs": []
    },
    {
      "cell_type": "code",
      "metadata": {
        "id": "EKHIQKgL000X"
      },
      "source": [
        ""
      ],
      "execution_count": null,
      "outputs": []
    }
  ]
}