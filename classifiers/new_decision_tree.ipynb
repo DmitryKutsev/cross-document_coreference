{
  "nbformat": 4,
  "nbformat_minor": 0,
  "metadata": {
    "colab": {
      "name": "Untitled63.ipynb",
      "provenance": [],
      "authorship_tag": "ABX9TyPplEWb4rmptCD7v0wBookj",
      "include_colab_link": true
    },
    "kernelspec": {
      "name": "python3",
      "display_name": "Python 3"
    },
    "language_info": {
      "name": "python"
    }
  },
  "cells": [
    {
      "cell_type": "markdown",
      "metadata": {
        "id": "view-in-github",
        "colab_type": "text"
      },
      "source": [
        "<a href=\"https://colab.research.google.com/github/DmitryKutsev/cross-document_coreference/blob/main/classifiers/new_decision_tree.ipynb\" target=\"_parent\"><img src=\"https://colab.research.google.com/assets/colab-badge.svg\" alt=\"Open In Colab\"/></a>"
      ]
    },
    {
      "cell_type": "code",
      "metadata": {
        "id": "jRqz8PB_SGaz"
      },
      "source": [
        "from sklearn import tree\n",
        "import pandas as pd\n",
        "import matplotlib.pyplot as plt\n",
        "import seaborn as sns\n",
        "%matplotlib inline\n"
      ],
      "execution_count": 5,
      "outputs": []
    },
    {
      "cell_type": "code",
      "metadata": {
        "id": "OFLx7egYS2qN"
      },
      "source": [
        "from IPython.display import SVG, display, HTML"
      ],
      "execution_count": 6,
      "outputs": []
    },
    {
      "cell_type": "code",
      "metadata": {
        "id": "5Lhnxf_FoRVA",
        "outputId": "9663f155-b7cf-48ab-deb7-3a1c484fc5fb",
        "colab": {
          "base_uri": "https://localhost:8080/"
        }
      },
      "source": [
        "from google.colab import drive\n",
        "drive.mount('./content', force_remount=False)"
      ],
      "execution_count": 7,
      "outputs": [
        {
          "output_type": "stream",
          "text": [
            "Drive already mounted at ./content; to attempt to forcibly remount, call drive.mount(\"./content\", force_remount=True).\n"
          ],
          "name": "stdout"
        }
      ]
    },
    {
      "cell_type": "code",
      "metadata": {
        "id": "J_7xbdMuo_RW",
        "outputId": "9c3c8cf3-c14a-4c76-d6e1-b99685df94fb",
        "colab": {
          "base_uri": "https://localhost:8080/"
        }
      },
      "source": [
        "!ls\n",
        "import os\n",
        "for i in os.listdir('content/'):\n",
        "  print(i)"
      ],
      "execution_count": 8,
      "outputs": [
        {
          "output_type": "stream",
          "text": [
            "content  sample_data\n",
            "MyDrive\n",
            ".shortcut-targets-by-id\n",
            ".file-revisions-by-id\n",
            ".Trash\n"
          ],
          "name": "stdout"
        }
      ]
    },
    {
      "cell_type": "code",
      "metadata": {
        "id": "xk_hRf26TjUD",
        "colab": {
          "base_uri": "https://localhost:8080/"
        },
        "outputId": "a450cf90-d19f-431f-8b65-123b0d8def71"
      },
      "source": [
        "!wget https://raw.githubusercontent.com/DmitryKutsev/cross-document_coreference/main/data/coref_df_anns60k.csv"
      ],
      "execution_count": 12,
      "outputs": [
        {
          "output_type": "stream",
          "text": [
            "--2021-05-13 10:01:55--  https://raw.githubusercontent.com/DmitryKutsev/cross-document_coreference/main/data/coref_df_anns60k.csv\n",
            "Resolving raw.githubusercontent.com (raw.githubusercontent.com)... 185.199.108.133, 185.199.109.133, 185.199.110.133, ...\n",
            "Connecting to raw.githubusercontent.com (raw.githubusercontent.com)|185.199.108.133|:443... connected.\n",
            "HTTP request sent, awaiting response... 200 OK\n",
            "Length: 1071192 (1.0M) [text/plain]\n",
            "Saving to: ‘coref_df_anns60k.csv.1’\n",
            "\n",
            "\rcoref_df_anns60k.cs   0%[                    ]       0  --.-KB/s               \rcoref_df_anns60k.cs 100%[===================>]   1.02M  --.-KB/s    in 0.05s   \n",
            "\n",
            "2021-05-13 10:01:56 (21.5 MB/s) - ‘coref_df_anns60k.csv.1’ saved [1071192/1071192]\n",
            "\n"
          ],
          "name": "stdout"
        }
      ]
    },
    {
      "cell_type": "code",
      "metadata": {
        "id": "fpbwAAb6sUnL",
        "outputId": "89e90186-a6ae-4cd6-d1da-9c640bb2b4ae",
        "colab": {
          "base_uri": "https://localhost:8080/"
        }
      },
      "source": [
        "anns_df = pd.read_csv('coref_df_anns60k.csv', delimiter='\\t', error_bad_lines=False, header=None)"
      ],
      "execution_count": 21,
      "outputs": [
        {
          "output_type": "stream",
          "text": [
            "b'Skipping line 881: expected 9 fields, saw 14\\nSkipping line 882: expected 9 fields, saw 14\\nSkipping line 883: expected 9 fields, saw 14\\nSkipping line 1212: expected 9 fields, saw 14\\nSkipping line 1214: expected 9 fields, saw 14\\nSkipping line 1528: expected 9 fields, saw 14\\nSkipping line 1529: expected 9 fields, saw 14\\nSkipping line 1530: expected 9 fields, saw 14\\nSkipping line 1859: expected 9 fields, saw 14\\nSkipping line 1861: expected 9 fields, saw 14\\nSkipping line 2038: expected 9 fields, saw 14\\nSkipping line 2043: expected 9 fields, saw 14\\nSkipping line 2054: expected 9 fields, saw 14\\nSkipping line 2251: expected 9 fields, saw 14\\nSkipping line 2252: expected 9 fields, saw 14\\nSkipping line 2353: expected 9 fields, saw 14\\nSkipping line 2842: expected 9 fields, saw 14\\nSkipping line 2847: expected 9 fields, saw 14\\nSkipping line 2858: expected 9 fields, saw 14\\nSkipping line 3055: expected 9 fields, saw 14\\nSkipping line 3056: expected 9 fields, saw 14\\nSkipping line 3157: expected 9 fields, saw 14\\nSkipping line 3832: expected 9 fields, saw 14\\nSkipping line 3835: expected 9 fields, saw 14\\nSkipping line 4163: expected 9 fields, saw 14\\nSkipping line 4184: expected 9 fields, saw 14\\nSkipping line 4276: expected 9 fields, saw 14\\nSkipping line 4313: expected 9 fields, saw 14\\nSkipping line 4465: expected 9 fields, saw 14\\nSkipping line 4624: expected 9 fields, saw 14\\nSkipping line 4626: expected 9 fields, saw 14\\nSkipping line 5016: expected 9 fields, saw 14\\nSkipping line 5018: expected 9 fields, saw 14\\nSkipping line 5046: expected 9 fields, saw 14\\nSkipping line 5049: expected 9 fields, saw 14\\nSkipping line 5050: expected 9 fields, saw 14\\nSkipping line 5070: expected 9 fields, saw 14\\nSkipping line 5085: expected 9 fields, saw 14\\nSkipping line 5229: expected 9 fields, saw 14\\nSkipping line 5232: expected 9 fields, saw 14\\nSkipping line 5281: expected 9 fields, saw 14\\nSkipping line 5284: expected 9 fields, saw 14\\nSkipping line 6944: expected 9 fields, saw 12\\nSkipping line 6945: expected 9 fields, saw 12\\nSkipping line 6946: expected 9 fields, saw 12\\nSkipping line 6947: expected 9 fields, saw 12\\nSkipping line 6948: expected 9 fields, saw 12\\nSkipping line 6949: expected 9 fields, saw 12\\nSkipping line 6950: expected 9 fields, saw 12\\nSkipping line 6951: expected 9 fields, saw 12\\nSkipping line 6952: expected 9 fields, saw 12\\nSkipping line 6953: expected 9 fields, saw 12\\nSkipping line 6954: expected 9 fields, saw 12\\nSkipping line 6955: expected 9 fields, saw 12\\nSkipping line 7126: expected 9 fields, saw 14\\nSkipping line 7127: expected 9 fields, saw 14\\nSkipping line 7143: expected 9 fields, saw 12\\nSkipping line 7144: expected 9 fields, saw 12\\nSkipping line 7145: expected 9 fields, saw 12\\nSkipping line 7146: expected 9 fields, saw 12\\nSkipping line 7147: expected 9 fields, saw 12\\nSkipping line 7148: expected 9 fields, saw 12\\nSkipping line 7149: expected 9 fields, saw 12\\nSkipping line 7150: expected 9 fields, saw 12\\nSkipping line 7151: expected 9 fields, saw 12\\nSkipping line 7152: expected 9 fields, saw 12\\nSkipping line 7153: expected 9 fields, saw 12\\nSkipping line 7154: expected 9 fields, saw 12\\nSkipping line 7215: expected 9 fields, saw 14\\nSkipping line 7216: expected 9 fields, saw 14\\nSkipping line 7272: expected 9 fields, saw 14\\nSkipping line 7273: expected 9 fields, saw 14\\nSkipping line 7611: expected 9 fields, saw 14\\nSkipping line 7779: expected 9 fields, saw 14\\nSkipping line 7780: expected 9 fields, saw 14\\nSkipping line 7995: expected 9 fields, saw 14\\nSkipping line 8001: expected 9 fields, saw 14\\nSkipping line 8003: expected 9 fields, saw 14\\nSkipping line 8010: expected 9 fields, saw 14\\nSkipping line 8045: expected 9 fields, saw 14\\nSkipping line 8047: expected 9 fields, saw 14\\nSkipping line 8052: expected 9 fields, saw 14\\nSkipping line 8054: expected 9 fields, saw 14\\nSkipping line 8060: expected 9 fields, saw 14\\nSkipping line 8066: expected 9 fields, saw 14\\nSkipping line 8137: expected 9 fields, saw 14\\nSkipping line 8138: expected 9 fields, saw 14\\nSkipping line 8368: expected 9 fields, saw 14\\nSkipping line 8531: expected 9 fields, saw 14\\nSkipping line 9570: expected 9 fields, saw 13\\nSkipping line 9686: expected 9 fields, saw 14\\nSkipping line 9688: expected 9 fields, saw 14\\nSkipping line 9735: expected 9 fields, saw 14\\nSkipping line 9962: expected 9 fields, saw 14\\nSkipping line 9963: expected 9 fields, saw 14\\nSkipping line 10371: expected 9 fields, saw 13\\nSkipping line 10378: expected 9 fields, saw 14\\nSkipping line 10381: expected 9 fields, saw 14\\nSkipping line 10416: expected 9 fields, saw 13\\nSkipping line 11029: expected 9 fields, saw 13\\nSkipping line 11282: expected 9 fields, saw 14\\nSkipping line 11285: expected 9 fields, saw 14\\nSkipping line 11289: expected 9 fields, saw 14\\nSkipping line 11292: expected 9 fields, saw 14\\nSkipping line 11316: expected 9 fields, saw 14\\nSkipping line 11331: expected 9 fields, saw 14\\nSkipping line 11445: expected 9 fields, saw 14\\nSkipping line 11446: expected 9 fields, saw 14\\nSkipping line 11663: expected 9 fields, saw 13\\nSkipping line 11741: expected 9 fields, saw 14\\nSkipping line 11743: expected 9 fields, saw 14\\nSkipping line 11750: expected 9 fields, saw 14\\nSkipping line 11879: expected 9 fields, saw 13\\nSkipping line 11971: expected 9 fields, saw 13\\nSkipping line 12520: expected 9 fields, saw 13\\nSkipping line 12576: expected 9 fields, saw 14\\nSkipping line 12577: expected 9 fields, saw 14\\nSkipping line 12583: expected 9 fields, saw 14\\nSkipping line 13434: expected 9 fields, saw 14\\nSkipping line 13435: expected 9 fields, saw 14\\nSkipping line 13438: expected 9 fields, saw 14\\nSkipping line 13496: expected 9 fields, saw 13\\nSkipping line 13589: expected 9 fields, saw 14\\nSkipping line 13701: expected 9 fields, saw 14\\nSkipping line 13748: expected 9 fields, saw 13\\nSkipping line 13750: expected 9 fields, saw 13\\nSkipping line 13925: expected 9 fields, saw 13\\nSkipping line 13927: expected 9 fields, saw 13\\nSkipping line 14270: expected 9 fields, saw 14\\nSkipping line 14339: expected 9 fields, saw 14\\nSkipping line 14484: expected 9 fields, saw 13\\nSkipping line 14486: expected 9 fields, saw 13\\nSkipping line 14603: expected 9 fields, saw 14\\nSkipping line 14634: expected 9 fields, saw 14\\nSkipping line 14638: expected 9 fields, saw 14\\nSkipping line 14663: expected 9 fields, saw 13\\nSkipping line 14665: expected 9 fields, saw 13\\nSkipping line 14887: expected 9 fields, saw 14\\nSkipping line 15067: expected 9 fields, saw 14\\nSkipping line 15176: expected 9 fields, saw 13\\nSkipping line 15427: expected 9 fields, saw 14\\nSkipping line 15445: expected 9 fields, saw 14\\nSkipping line 16218: expected 9 fields, saw 14\\nSkipping line 16237: expected 9 fields, saw 13\\nSkipping line 16565: expected 9 fields, saw 14\\nSkipping line 16566: expected 9 fields, saw 14\\nSkipping line 16568: expected 9 fields, saw 14\\nSkipping line 16569: expected 9 fields, saw 14\\nSkipping line 16779: expected 9 fields, saw 14\\nSkipping line 17366: expected 9 fields, saw 14\\nSkipping line 17837: expected 9 fields, saw 14\\nSkipping line 17841: expected 9 fields, saw 14\\nSkipping line 17842: expected 9 fields, saw 14\\nSkipping line 18133: expected 9 fields, saw 14\\nSkipping line 18326: expected 9 fields, saw 14\\nSkipping line 18335: expected 9 fields, saw 14\\nSkipping line 18387: expected 9 fields, saw 14\\nSkipping line 18432: expected 9 fields, saw 14\\nSkipping line 18675: expected 9 fields, saw 14\\nSkipping line 18952: expected 9 fields, saw 14\\nSkipping line 19078: expected 9 fields, saw 14\\nSkipping line 19196: expected 9 fields, saw 14\\nSkipping line 19220: expected 9 fields, saw 14\\nSkipping line 19221: expected 9 fields, saw 14\\nSkipping line 19234: expected 9 fields, saw 14\\nSkipping line 19283: expected 9 fields, saw 14\\nSkipping line 19582: expected 9 fields, saw 14\\nSkipping line 19696: expected 9 fields, saw 14\\nSkipping line 19700: expected 9 fields, saw 14\\nSkipping line 19702: expected 9 fields, saw 14\\nSkipping line 19705: expected 9 fields, saw 14\\nSkipping line 19792: expected 9 fields, saw 14\\nSkipping line 19826: expected 9 fields, saw 14\\nSkipping line 19954: expected 9 fields, saw 14\\nSkipping line 19990: expected 9 fields, saw 14\\nSkipping line 20562: expected 9 fields, saw 14\\nSkipping line 20576: expected 9 fields, saw 14\\nSkipping line 20594: expected 9 fields, saw 14\\nSkipping line 20841: expected 9 fields, saw 14\\nSkipping line 21010: expected 9 fields, saw 14\\nSkipping line 21014: expected 9 fields, saw 14\\nSkipping line 21151: expected 9 fields, saw 14\\nSkipping line 21574: expected 9 fields, saw 14\\nSkipping line 21575: expected 9 fields, saw 14\\nSkipping line 21579: expected 9 fields, saw 14\\nSkipping line 22000: expected 9 fields, saw 14\\nSkipping line 22001: expected 9 fields, saw 14\\nSkipping line 22005: expected 9 fields, saw 14\\nSkipping line 22006: expected 9 fields, saw 14\\nSkipping line 22007: expected 9 fields, saw 14\\nSkipping line 22051: expected 9 fields, saw 14\\nSkipping line 22052: expected 9 fields, saw 14\\nSkipping line 22053: expected 9 fields, saw 14\\nSkipping line 22475: expected 9 fields, saw 14\\nSkipping line 22476: expected 9 fields, saw 14\\nSkipping line 22581: expected 9 fields, saw 14\\nSkipping line 22644: expected 9 fields, saw 14\\nSkipping line 22723: expected 9 fields, saw 14\\nSkipping line 22784: expected 9 fields, saw 14\\nSkipping line 22819: expected 9 fields, saw 14\\nSkipping line 22876: expected 9 fields, saw 14\\nSkipping line 22877: expected 9 fields, saw 14\\nSkipping line 23287: expected 9 fields, saw 14\\nSkipping line 23437: expected 9 fields, saw 14\\nSkipping line 23442: expected 9 fields, saw 14\\nSkipping line 23640: expected 9 fields, saw 14\\nSkipping line 23956: expected 9 fields, saw 14\\nSkipping line 24021: expected 9 fields, saw 14\\nSkipping line 24065: expected 9 fields, saw 14\\nSkipping line 24106: expected 9 fields, saw 14\\nSkipping line 24157: expected 9 fields, saw 14\\nSkipping line 24174: expected 9 fields, saw 14\\nSkipping line 24177: expected 9 fields, saw 14\\nSkipping line 24180: expected 9 fields, saw 14\\nSkipping line 24181: expected 9 fields, saw 14\\nSkipping line 24186: expected 9 fields, saw 14\\nSkipping line 24193: expected 9 fields, saw 14\\nSkipping line 24194: expected 9 fields, saw 14\\nSkipping line 24199: expected 9 fields, saw 14\\nSkipping line 24231: expected 9 fields, saw 14\\nSkipping line 24233: expected 9 fields, saw 14\\nSkipping line 24234: expected 9 fields, saw 14\\nSkipping line 24255: expected 9 fields, saw 14\\nSkipping line 24264: expected 9 fields, saw 14\\nSkipping line 24265: expected 9 fields, saw 14\\nSkipping line 24277: expected 9 fields, saw 14\\nSkipping line 24282: expected 9 fields, saw 14\\nSkipping line 24288: expected 9 fields, saw 14\\nSkipping line 24293: expected 9 fields, saw 14\\nSkipping line 24298: expected 9 fields, saw 14\\nSkipping line 24299: expected 9 fields, saw 14\\nSkipping line 24309: expected 9 fields, saw 14\\nSkipping line 24310: expected 9 fields, saw 14\\nSkipping line 24317: expected 9 fields, saw 14\\nSkipping line 24318: expected 9 fields, saw 14\\nSkipping line 24438: expected 9 fields, saw 14\\nSkipping line 24450: expected 9 fields, saw 14\\nSkipping line 24460: expected 9 fields, saw 14\\nSkipping line 24467: expected 9 fields, saw 14\\nSkipping line 24469: expected 9 fields, saw 14\\nSkipping line 24473: expected 9 fields, saw 14\\nSkipping line 24475: expected 9 fields, saw 14\\nSkipping line 24477: expected 9 fields, saw 14\\nSkipping line 24488: expected 9 fields, saw 14\\nSkipping line 24490: expected 9 fields, saw 14\\nSkipping line 24492: expected 9 fields, saw 14\\nSkipping line 24496: expected 9 fields, saw 14\\nSkipping line 24505: expected 9 fields, saw 14\\nSkipping line 24615: expected 9 fields, saw 14\\nSkipping line 24618: expected 9 fields, saw 14\\nSkipping line 24720: expected 9 fields, saw 14\\nSkipping line 24721: expected 9 fields, saw 14\\nSkipping line 24722: expected 9 fields, saw 14\\nSkipping line 24723: expected 9 fields, saw 14\\nSkipping line 24724: expected 9 fields, saw 14\\nSkipping line 24740: expected 9 fields, saw 14\\nSkipping line 24741: expected 9 fields, saw 14\\nSkipping line 24742: expected 9 fields, saw 14\\nSkipping line 24897: expected 9 fields, saw 14\\nSkipping line 24909: expected 9 fields, saw 14\\nSkipping line 24910: expected 9 fields, saw 14\\nSkipping line 24911: expected 9 fields, saw 14\\nSkipping line 24932: expected 9 fields, saw 14\\nSkipping line 24933: expected 9 fields, saw 14\\nSkipping line 24954: expected 9 fields, saw 14\\nSkipping line 24955: expected 9 fields, saw 14\\nSkipping line 24977: expected 9 fields, saw 14\\nSkipping line 24996: expected 9 fields, saw 14\\nSkipping line 25003: expected 9 fields, saw 14\\nSkipping line 25007: expected 9 fields, saw 14\\nSkipping line 25010: expected 9 fields, saw 14\\nSkipping line 25135: expected 9 fields, saw 14\\nSkipping line 25339: expected 9 fields, saw 14\\nSkipping line 25347: expected 9 fields, saw 14\\nSkipping line 25354: expected 9 fields, saw 14\\nSkipping line 25386: expected 9 fields, saw 14\\nSkipping line 25410: expected 9 fields, saw 14\\nSkipping line 25421: expected 9 fields, saw 14\\nSkipping line 25436: expected 9 fields, saw 14\\nSkipping line 25440: expected 9 fields, saw 14\\nSkipping line 25443: expected 9 fields, saw 14\\nSkipping line 25460: expected 9 fields, saw 14\\nSkipping line 25462: expected 9 fields, saw 14\\nSkipping line 25488: expected 9 fields, saw 14\\nSkipping line 25492: expected 9 fields, saw 14\\nSkipping line 25495: expected 9 fields, saw 14\\nSkipping line 25507: expected 9 fields, saw 14\\nSkipping line 25528: expected 9 fields, saw 14\\nSkipping line 25529: expected 9 fields, saw 14\\nSkipping line 25553: expected 9 fields, saw 14\\nSkipping line 25556: expected 9 fields, saw 14\\nSkipping line 25576: expected 9 fields, saw 14\\nSkipping line 25577: expected 9 fields, saw 14\\nSkipping line 25596: expected 9 fields, saw 14\\nSkipping line 25597: expected 9 fields, saw 14\\nSkipping line 25617: expected 9 fields, saw 14\\nSkipping line 25618: expected 9 fields, saw 14\\nSkipping line 25786: expected 9 fields, saw 14\\nSkipping line 25787: expected 9 fields, saw 14\\nSkipping line 25926: expected 9 fields, saw 14\\nSkipping line 25927: expected 9 fields, saw 14\\nSkipping line 26007: expected 9 fields, saw 14\\nSkipping line 26008: expected 9 fields, saw 14\\nSkipping line 26016: expected 9 fields, saw 14\\nSkipping line 26032: expected 9 fields, saw 14\\nSkipping line 26033: expected 9 fields, saw 14\\nSkipping line 26106: expected 9 fields, saw 14\\nSkipping line 26112: expected 9 fields, saw 14\\nSkipping line 26253: expected 9 fields, saw 14\\nSkipping line 26257: expected 9 fields, saw 14\\nSkipping line 26260: expected 9 fields, saw 14\\nSkipping line 26289: expected 9 fields, saw 14\\nSkipping line 26323: expected 9 fields, saw 14\\nSkipping line 26348: expected 9 fields, saw 14\\nSkipping line 26357: expected 9 fields, saw 14\\nSkipping line 26360: expected 9 fields, saw 14\\nSkipping line 26379: expected 9 fields, saw 14\\nSkipping line 26394: expected 9 fields, saw 14\\nSkipping line 26448: expected 9 fields, saw 14\\n'\n"
          ],
          "name": "stderr"
        }
      ]
    },
    {
      "cell_type": "code",
      "metadata": {
        "id": "2CHdd-PNscSW",
        "outputId": "794ae806-e3e2-4d9b-af37-9ee3c4f560ba",
        "colab": {
          "base_uri": "https://localhost:8080/",
          "height": 407
        }
      },
      "source": [
        "anns_df"
      ],
      "execution_count": 22,
      "outputs": [
        {
          "output_type": "execute_result",
          "data": {
            "text/html": [
              "<div>\n",
              "<style scoped>\n",
              "    .dataframe tbody tr th:only-of-type {\n",
              "        vertical-align: middle;\n",
              "    }\n",
              "\n",
              "    .dataframe tbody tr th {\n",
              "        vertical-align: top;\n",
              "    }\n",
              "\n",
              "    .dataframe thead th {\n",
              "        text-align: right;\n",
              "    }\n",
              "</style>\n",
              "<table border=\"1\" class=\"dataframe\">\n",
              "  <thead>\n",
              "    <tr style=\"text-align: right;\">\n",
              "      <th></th>\n",
              "      <th>0</th>\n",
              "      <th>1</th>\n",
              "      <th>2</th>\n",
              "      <th>3</th>\n",
              "      <th>4</th>\n",
              "      <th>5</th>\n",
              "      <th>6</th>\n",
              "      <th>7</th>\n",
              "      <th>8</th>\n",
              "    </tr>\n",
              "  </thead>\n",
              "  <tbody>\n",
              "    <tr>\n",
              "      <th>0</th>\n",
              "      <td>TOKEN</td>\n",
              "      <td>TOPIC_NUM</td>\n",
              "      <td>POST_NUM</td>\n",
              "      <td>SENT_NUM</td>\n",
              "      <td>IS_ANSWER</td>\n",
              "      <td>HEAD</td>\n",
              "      <td>NER</td>\n",
              "      <td>COREFERENCE_CLUSTER</td>\n",
              "      <td>NaN</td>\n",
              "    </tr>\n",
              "    <tr>\n",
              "      <th>1</th>\n",
              "      <td>обсуждаем</td>\n",
              "      <td>1</td>\n",
              "      <td>0</td>\n",
              "      <td>0</td>\n",
              "      <td>0</td>\n",
              "      <td>обсуждаем</td>\n",
              "      <td>0</td>\n",
              "      <td>0</td>\n",
              "      <td>NaN</td>\n",
              "    </tr>\n",
              "    <tr>\n",
              "      <th>2</th>\n",
              "      <td>препарат</td>\n",
              "      <td>1</td>\n",
              "      <td>0</td>\n",
              "      <td>0</td>\n",
              "      <td>0</td>\n",
              "      <td>обсуждаем</td>\n",
              "      <td>0</td>\n",
              "      <td>0</td>\n",
              "      <td>NaN</td>\n",
              "    </tr>\n",
              "    <tr>\n",
              "      <th>3</th>\n",
              "      <td>рисперидон</td>\n",
              "      <td>1</td>\n",
              "      <td>0</td>\n",
              "      <td>0</td>\n",
              "      <td>0</td>\n",
              "      <td>препарат</td>\n",
              "      <td>мед</td>\n",
              "      <td>рисперидон</td>\n",
              "      <td>NaN</td>\n",
              "    </tr>\n",
              "    <tr>\n",
              "      <th>4</th>\n",
              "      <td>рисполепт</td>\n",
              "      <td>1</td>\n",
              "      <td>0</td>\n",
              "      <td>0</td>\n",
              "      <td>0</td>\n",
              "      <td>рисперидон</td>\n",
              "      <td>мед</td>\n",
              "      <td>рисполепт</td>\n",
              "      <td>NaN</td>\n",
              "    </tr>\n",
              "    <tr>\n",
              "      <th>...</th>\n",
              "      <td>...</td>\n",
              "      <td>...</td>\n",
              "      <td>...</td>\n",
              "      <td>...</td>\n",
              "      <td>...</td>\n",
              "      <td>...</td>\n",
              "      <td>...</td>\n",
              "      <td>...</td>\n",
              "      <td>...</td>\n",
              "    </tr>\n",
              "    <tr>\n",
              "      <th>26174</th>\n",
              "      <td>и</td>\n",
              "      <td>22</td>\n",
              "      <td>68</td>\n",
              "      <td>0</td>\n",
              "      <td>0</td>\n",
              "      <td>пошлины</td>\n",
              "      <td>0</td>\n",
              "      <td>0</td>\n",
              "      <td>NaN</td>\n",
              "    </tr>\n",
              "    <tr>\n",
              "      <th>26175</th>\n",
              "      <td>таможенные</td>\n",
              "      <td>22</td>\n",
              "      <td>68</td>\n",
              "      <td>0</td>\n",
              "      <td>0</td>\n",
              "      <td>пошлины</td>\n",
              "      <td>0</td>\n",
              "      <td>0</td>\n",
              "      <td>NaN</td>\n",
              "    </tr>\n",
              "    <tr>\n",
              "      <th>26176</th>\n",
              "      <td>пошлины</td>\n",
              "      <td>22</td>\n",
              "      <td>68</td>\n",
              "      <td>0</td>\n",
              "      <td>0</td>\n",
              "      <td>есть</td>\n",
              "      <td>0</td>\n",
              "      <td>0</td>\n",
              "      <td>NaN</td>\n",
              "    </tr>\n",
              "    <tr>\n",
              "      <th>26177</th>\n",
              "      <td>как</td>\n",
              "      <td>22</td>\n",
              "      <td>68</td>\n",
              "      <td>0</td>\n",
              "      <td>0</td>\n",
              "      <td>есть</td>\n",
              "      <td>0</td>\n",
              "      <td>0</td>\n",
              "      <td>NaN</td>\n",
              "    </tr>\n",
              "    <tr>\n",
              "      <th>26178</th>\n",
              "      <td>светка</td>\n",
              "      <td>22</td>\n",
              "      <td>69</td>\n",
              "      <td>0</td>\n",
              "      <td>0</td>\n",
              "      <td>светка</td>\n",
              "      <td>0</td>\n",
              "      <td>0</td>\n",
              "      <td>NaN</td>\n",
              "    </tr>\n",
              "  </tbody>\n",
              "</table>\n",
              "<p>26179 rows × 9 columns</p>\n",
              "</div>"
            ],
            "text/plain": [
              "                0          1         2  ...    6                    7   8\n",
              "0           TOKEN  TOPIC_NUM  POST_NUM  ...  NER  COREFERENCE_CLUSTER NaN\n",
              "1       обсуждаем          1         0  ...    0                    0 NaN\n",
              "2        препарат          1         0  ...    0                    0 NaN\n",
              "3      рисперидон          1         0  ...  мед           рисперидон NaN\n",
              "4       рисполепт          1         0  ...  мед            рисполепт NaN\n",
              "...           ...        ...       ...  ...  ...                  ...  ..\n",
              "26174           и         22        68  ...    0                    0 NaN\n",
              "26175  таможенные         22        68  ...    0                    0 NaN\n",
              "26176     пошлины         22        68  ...    0                    0 NaN\n",
              "26177         как         22        68  ...    0                    0 NaN\n",
              "26178      светка         22        69  ...    0                    0 NaN\n",
              "\n",
              "[26179 rows x 9 columns]"
            ]
          },
          "metadata": {
            "tags": []
          },
          "execution_count": 22
        }
      ]
    },
    {
      "cell_type": "code",
      "metadata": {
        "id": "zOvIthFwWaOH"
      },
      "source": [
        "cor_df = pd.read_csv('content/MyDrive/coref_fasttext60k.csv', delimiter=' ')"
      ],
      "execution_count": null,
      "outputs": []
    },
    {
      "cell_type": "code",
      "metadata": {
        "id": "pSkpdVWPWofo"
      },
      "source": [
        "cor_df"
      ],
      "execution_count": null,
      "outputs": []
    },
    {
      "cell_type": "code",
      "metadata": {
        "colab": {
          "base_uri": "https://localhost:8080/"
        },
        "id": "ZUxdUD5ZWpku",
        "outputId": "e92b9cb3-9534-47aa-8128-4ce9b52c1658"
      },
      "source": [
        "cor_df.isnull().sum()"
      ],
      "execution_count": null,
      "outputs": [
        {
          "output_type": "execute_result",
          "data": {
            "text/plain": [
              "TOKEN                     1\n",
              "POST_NUM                  1\n",
              "ANIMACY                   1\n",
              "CASE                      1\n",
              "GENDER                    1\n",
              "PERSON                    1\n",
              "POS                       1\n",
              "DEPENDENCY                1\n",
              "HEAD                      1\n",
              "HEAD_POS                  1\n",
              "HEAD_ANIMACY              1\n",
              "HEAD_CASE                 1\n",
              "HEAD_GENDER               1\n",
              "HEAD_POS.1                1\n",
              "SENT_VECTOR               0\n",
              "NER                       1\n",
              "COREFERENCE_CLUSTER       4\n",
              "Unnamed: 17            1788\n",
              "Unnamed: 18            1797\n",
              "dtype: int64"
            ]
          },
          "metadata": {
            "tags": []
          },
          "execution_count": 156
        }
      ]
    },
    {
      "cell_type": "code",
      "metadata": {
        "id": "tu_6OA6bbcB-"
      },
      "source": [
        "cor_df = cor_df.iloc[:-5,:]\n",
        "cor_df_test = cor_df.iloc[-5:-1,:]\n",
        "cor_df = cor_df.drop(['Unnamed: 17', 'Unnamed: 18'], axis=1)\n",
        "cor_df_test  = cor_df_test .drop(['Unnamed: 17', 'Unnamed: 18'], axis=1)"
      ],
      "execution_count": null,
      "outputs": []
    },
    {
      "cell_type": "code",
      "metadata": {
        "id": "Zm0J6fVGtYbG"
      },
      "source": [
        "cor_df_test = cor_df_test.reset_index()\n",
        "cor_df_test = cor_df_test.drop(['index'], axis=1)"
      ],
      "execution_count": null,
      "outputs": []
    },
    {
      "cell_type": "code",
      "metadata": {
        "colab": {
          "base_uri": "https://localhost:8080/",
          "height": 188
        },
        "id": "tC9EPZRKu33G",
        "outputId": "360b272b-24ec-4379-9464-5cb4c2157ae5"
      },
      "source": [
        "cor_df_test = cor_df_test.drop(['level_0'], axis=1)\n",
        "cor_df_test"
      ],
      "execution_count": null,
      "outputs": [
        {
          "output_type": "execute_result",
          "data": {
            "text/html": [
              "<div>\n",
              "<style scoped>\n",
              "    .dataframe tbody tr th:only-of-type {\n",
              "        vertical-align: middle;\n",
              "    }\n",
              "\n",
              "    .dataframe tbody tr th {\n",
              "        vertical-align: top;\n",
              "    }\n",
              "\n",
              "    .dataframe thead th {\n",
              "        text-align: right;\n",
              "    }\n",
              "</style>\n",
              "<table border=\"1\" class=\"dataframe\">\n",
              "  <thead>\n",
              "    <tr style=\"text-align: right;\">\n",
              "      <th></th>\n",
              "      <th>TOKEN</th>\n",
              "      <th>POST_NUM</th>\n",
              "      <th>ANIMACY</th>\n",
              "      <th>CASE</th>\n",
              "      <th>GENDER</th>\n",
              "      <th>PERSON</th>\n",
              "      <th>POS</th>\n",
              "      <th>DEPENDENCY</th>\n",
              "      <th>HEAD</th>\n",
              "      <th>HEAD_POS</th>\n",
              "      <th>HEAD_ANIMACY</th>\n",
              "      <th>HEAD_CASE</th>\n",
              "      <th>HEAD_GENDER</th>\n",
              "      <th>HEAD_POS.1</th>\n",
              "      <th>SENT_VECTOR</th>\n",
              "      <th>NER</th>\n",
              "      <th>COREFERENCE_CLUSTER</th>\n",
              "    </tr>\n",
              "  </thead>\n",
              "  <tbody>\n",
              "    <tr>\n",
              "      <th>0</th>\n",
              "      <td>что</td>\n",
              "      <td>46.0</td>\n",
              "      <td>-</td>\n",
              "      <td>-</td>\n",
              "      <td>-</td>\n",
              "      <td>-</td>\n",
              "      <td>CONJ</td>\n",
              "      <td>fixed</td>\n",
              "      <td>Так</td>\n",
              "      <td>CONJ</td>\n",
              "      <td>-</td>\n",
              "      <td>-</td>\n",
              "      <td>-</td>\n",
              "      <td>CONJ</td>\n",
              "      <td>0.145365668859865</td>\n",
              "      <td>0</td>\n",
              "      <td>0</td>\n",
              "    </tr>\n",
              "    <tr>\n",
              "      <th>1</th>\n",
              "      <td>дак</td>\n",
              "      <td>46.0</td>\n",
              "      <td>-</td>\n",
              "      <td>-</td>\n",
              "      <td>-</td>\n",
              "      <td>-</td>\n",
              "      <td>CONJ</td>\n",
              "      <td>nsubj</td>\n",
              "      <td>будет</td>\n",
              "      <td>VERB</td>\n",
              "      <td>-</td>\n",
              "      <td>-</td>\n",
              "      <td>-</td>\n",
              "      <td>VERB</td>\n",
              "      <td>0.145365668859865</td>\n",
              "      <td>0</td>\n",
              "      <td>даклатасвир</td>\n",
              "    </tr>\n",
              "    <tr>\n",
              "      <th>2</th>\n",
              "      <td>скоро</td>\n",
              "      <td>46.0</td>\n",
              "      <td>-</td>\n",
              "      <td>-</td>\n",
              "      <td>-</td>\n",
              "      <td>-</td>\n",
              "      <td>ADVB</td>\n",
              "      <td>advmod</td>\n",
              "      <td>будет</td>\n",
              "      <td>VERB</td>\n",
              "      <td>-</td>\n",
              "      <td>-</td>\n",
              "      <td>-</td>\n",
              "      <td>VERB</td>\n",
              "      <td>0.145365668859865</td>\n",
              "      <td>0</td>\n",
              "      <td>0</td>\n",
              "    </tr>\n",
              "    <tr>\n",
              "      <th>3</th>\n",
              "      <td>будет</td>\n",
              "      <td>46.0</td>\n",
              "      <td>-</td>\n",
              "      <td>-</td>\n",
              "      <td>-</td>\n",
              "      <td>3per</td>\n",
              "      <td>VERB</td>\n",
              "      <td>ROOT</td>\n",
              "      <td>будет</td>\n",
              "      <td>VERB</td>\n",
              "      <td>-</td>\n",
              "      <td>-</td>\n",
              "      <td>-</td>\n",
              "      <td>VERB</td>\n",
              "      <td>0.145365668859865</td>\n",
              "      <td>0</td>\n",
              "      <td>0</td>\n",
              "    </tr>\n",
              "  </tbody>\n",
              "</table>\n",
              "</div>"
            ],
            "text/plain": [
              "   TOKEN  POST_NUM ANIMACY  ...        SENT_VECTOR NER COREFERENCE_CLUSTER\n",
              "0    что      46.0       -  ...  0.145365668859865   0                   0\n",
              "1    дак      46.0       -  ...  0.145365668859865   0         даклатасвир\n",
              "2  скоро      46.0       -  ...  0.145365668859865   0                   0\n",
              "3  будет      46.0       -  ...  0.145365668859865   0                   0\n",
              "\n",
              "[4 rows x 17 columns]"
            ]
          },
          "metadata": {
            "tags": []
          },
          "execution_count": 161
        }
      ]
    },
    {
      "cell_type": "code",
      "metadata": {
        "colab": {
          "base_uri": "https://localhost:8080/",
          "height": 445
        },
        "id": "Iqdr1Z1MbxQP",
        "outputId": "f98b8dea-e2de-4ddb-a1fc-3a1712d16354"
      },
      "source": [
        "cor_df"
      ],
      "execution_count": null,
      "outputs": [
        {
          "output_type": "execute_result",
          "data": {
            "text/html": [
              "<div>\n",
              "<style scoped>\n",
              "    .dataframe tbody tr th:only-of-type {\n",
              "        vertical-align: middle;\n",
              "    }\n",
              "\n",
              "    .dataframe tbody tr th {\n",
              "        vertical-align: top;\n",
              "    }\n",
              "\n",
              "    .dataframe thead th {\n",
              "        text-align: right;\n",
              "    }\n",
              "</style>\n",
              "<table border=\"1\" class=\"dataframe\">\n",
              "  <thead>\n",
              "    <tr style=\"text-align: right;\">\n",
              "      <th></th>\n",
              "      <th>TOKEN</th>\n",
              "      <th>POST_NUM</th>\n",
              "      <th>ANIMACY</th>\n",
              "      <th>CASE</th>\n",
              "      <th>GENDER</th>\n",
              "      <th>PERSON</th>\n",
              "      <th>POS</th>\n",
              "      <th>DEPENDENCY</th>\n",
              "      <th>HEAD</th>\n",
              "      <th>HEAD_POS</th>\n",
              "      <th>HEAD_ANIMACY</th>\n",
              "      <th>HEAD_CASE</th>\n",
              "      <th>HEAD_GENDER</th>\n",
              "      <th>HEAD_POS.1</th>\n",
              "      <th>SENT_VECTOR</th>\n",
              "      <th>NER</th>\n",
              "      <th>COREFERENCE_CLUSTER</th>\n",
              "    </tr>\n",
              "  </thead>\n",
              "  <tbody>\n",
              "    <tr>\n",
              "      <th>0</th>\n",
              "      <td>На</td>\n",
              "      <td>10.0</td>\n",
              "      <td>-</td>\n",
              "      <td>-</td>\n",
              "      <td>-</td>\n",
              "      <td>-</td>\n",
              "      <td>PREP</td>\n",
              "      <td>case</td>\n",
              "      <td>рынок</td>\n",
              "      <td>NOUN</td>\n",
              "      <td>inan</td>\n",
              "      <td>accs</td>\n",
              "      <td>masc</td>\n",
              "      <td>NOUN</td>\n",
              "      <td>0.2611904942896217</td>\n",
              "      <td>0</td>\n",
              "      <td>0</td>\n",
              "    </tr>\n",
              "    <tr>\n",
              "      <th>1</th>\n",
              "      <td>рынок</td>\n",
              "      <td>10.0</td>\n",
              "      <td>inan</td>\n",
              "      <td>accs</td>\n",
              "      <td>masc</td>\n",
              "      <td>-</td>\n",
              "      <td>NOUN</td>\n",
              "      <td>obl</td>\n",
              "      <td>вернулся</td>\n",
              "      <td>VERB</td>\n",
              "      <td>-</td>\n",
              "      <td>-</td>\n",
              "      <td>masc</td>\n",
              "      <td>VERB</td>\n",
              "      <td>0.2611904942896217</td>\n",
              "      <td>0</td>\n",
              "      <td>0</td>\n",
              "    </tr>\n",
              "    <tr>\n",
              "      <th>2</th>\n",
              "      <td>снова</td>\n",
              "      <td>10.0</td>\n",
              "      <td>-</td>\n",
              "      <td>-</td>\n",
              "      <td>-</td>\n",
              "      <td>-</td>\n",
              "      <td>ADVB</td>\n",
              "      <td>advmod</td>\n",
              "      <td>вернулся</td>\n",
              "      <td>VERB</td>\n",
              "      <td>-</td>\n",
              "      <td>-</td>\n",
              "      <td>masc</td>\n",
              "      <td>VERB</td>\n",
              "      <td>0.2611904942896217</td>\n",
              "      <td>0</td>\n",
              "      <td>0</td>\n",
              "    </tr>\n",
              "    <tr>\n",
              "      <th>3</th>\n",
              "      <td>вернулся</td>\n",
              "      <td>10.0</td>\n",
              "      <td>-</td>\n",
              "      <td>-</td>\n",
              "      <td>masc</td>\n",
              "      <td>-</td>\n",
              "      <td>VERB</td>\n",
              "      <td>ROOT</td>\n",
              "      <td>вернулся</td>\n",
              "      <td>VERB</td>\n",
              "      <td>-</td>\n",
              "      <td>-</td>\n",
              "      <td>masc</td>\n",
              "      <td>VERB</td>\n",
              "      <td>0.2611904942896217</td>\n",
              "      <td>0</td>\n",
              "      <td>0</td>\n",
              "    </tr>\n",
              "    <tr>\n",
              "      <th>4</th>\n",
              "      <td>алимемазин</td>\n",
              "      <td>10.0</td>\n",
              "      <td>inan</td>\n",
              "      <td>nomn</td>\n",
              "      <td>masc</td>\n",
              "      <td>-</td>\n",
              "      <td>NOUN</td>\n",
              "      <td>nsubj</td>\n",
              "      <td>вернулся</td>\n",
              "      <td>VERB</td>\n",
              "      <td>-</td>\n",
              "      <td>-</td>\n",
              "      <td>masc</td>\n",
              "      <td>VERB</td>\n",
              "      <td>0.2611904942896217</td>\n",
              "      <td>B-MED</td>\n",
              "      <td>алимемазин</td>\n",
              "    </tr>\n",
              "    <tr>\n",
              "      <th>...</th>\n",
              "      <td>...</td>\n",
              "      <td>...</td>\n",
              "      <td>...</td>\n",
              "      <td>...</td>\n",
              "      <td>...</td>\n",
              "      <td>...</td>\n",
              "      <td>...</td>\n",
              "      <td>...</td>\n",
              "      <td>...</td>\n",
              "      <td>...</td>\n",
              "      <td>...</td>\n",
              "      <td>...</td>\n",
              "      <td>...</td>\n",
              "      <td>...</td>\n",
              "      <td>...</td>\n",
              "      <td>...</td>\n",
              "      <td>...</td>\n",
              "    </tr>\n",
              "    <tr>\n",
              "      <th>1788</th>\n",
              "      <td>что</td>\n",
              "      <td>46.0</td>\n",
              "      <td>-</td>\n",
              "      <td>-</td>\n",
              "      <td>-</td>\n",
              "      <td>-</td>\n",
              "      <td>CONJ</td>\n",
              "      <td>fixed</td>\n",
              "      <td>Так</td>\n",
              "      <td>CONJ</td>\n",
              "      <td>-</td>\n",
              "      <td>-</td>\n",
              "      <td>-</td>\n",
              "      <td>CONJ</td>\n",
              "      <td>0.145365668859865</td>\n",
              "      <td>0</td>\n",
              "      <td>0</td>\n",
              "    </tr>\n",
              "    <tr>\n",
              "      <th>1789</th>\n",
              "      <td>дак</td>\n",
              "      <td>46.0</td>\n",
              "      <td>-</td>\n",
              "      <td>-</td>\n",
              "      <td>-</td>\n",
              "      <td>-</td>\n",
              "      <td>CONJ</td>\n",
              "      <td>nsubj</td>\n",
              "      <td>будет</td>\n",
              "      <td>VERB</td>\n",
              "      <td>-</td>\n",
              "      <td>-</td>\n",
              "      <td>-</td>\n",
              "      <td>VERB</td>\n",
              "      <td>0.145365668859865</td>\n",
              "      <td>0</td>\n",
              "      <td>даклатасвир</td>\n",
              "    </tr>\n",
              "    <tr>\n",
              "      <th>1790</th>\n",
              "      <td>скоро</td>\n",
              "      <td>46.0</td>\n",
              "      <td>-</td>\n",
              "      <td>-</td>\n",
              "      <td>-</td>\n",
              "      <td>-</td>\n",
              "      <td>ADVB</td>\n",
              "      <td>advmod</td>\n",
              "      <td>будет</td>\n",
              "      <td>VERB</td>\n",
              "      <td>-</td>\n",
              "      <td>-</td>\n",
              "      <td>-</td>\n",
              "      <td>VERB</td>\n",
              "      <td>0.145365668859865</td>\n",
              "      <td>0</td>\n",
              "      <td>0</td>\n",
              "    </tr>\n",
              "    <tr>\n",
              "      <th>1791</th>\n",
              "      <td>будет</td>\n",
              "      <td>46.0</td>\n",
              "      <td>-</td>\n",
              "      <td>-</td>\n",
              "      <td>-</td>\n",
              "      <td>3per</td>\n",
              "      <td>VERB</td>\n",
              "      <td>ROOT</td>\n",
              "      <td>будет</td>\n",
              "      <td>VERB</td>\n",
              "      <td>-</td>\n",
              "      <td>-</td>\n",
              "      <td>-</td>\n",
              "      <td>VERB</td>\n",
              "      <td>0.145365668859865</td>\n",
              "      <td>0</td>\n",
              "      <td>0</td>\n",
              "    </tr>\n",
              "    <tr>\n",
              "      <th>1792</th>\n",
              "      <td>российского</td>\n",
              "      <td>46.0</td>\n",
              "      <td>-</td>\n",
              "      <td>gent</td>\n",
              "      <td>neut</td>\n",
              "      <td>-</td>\n",
              "      <td>ADJF</td>\n",
              "      <td>amod</td>\n",
              "      <td>производства</td>\n",
              "      <td>NOUN</td>\n",
              "      <td>inan</td>\n",
              "      <td>gent</td>\n",
              "      <td>neut</td>\n",
              "      <td>NOUN</td>\n",
              "      <td>0.145365668859865</td>\n",
              "      <td>0</td>\n",
              "      <td>0</td>\n",
              "    </tr>\n",
              "  </tbody>\n",
              "</table>\n",
              "<p>1793 rows × 17 columns</p>\n",
              "</div>"
            ],
            "text/plain": [
              "            TOKEN  POST_NUM  ...    NER COREFERENCE_CLUSTER\n",
              "0              На      10.0  ...      0                   0\n",
              "1           рынок      10.0  ...      0                   0\n",
              "2           снова      10.0  ...      0                   0\n",
              "3        вернулся      10.0  ...      0                   0\n",
              "4      алимемазин      10.0  ...  B-MED          алимемазин\n",
              "...           ...       ...  ...    ...                 ...\n",
              "1788          что      46.0  ...      0                   0\n",
              "1789          дак      46.0  ...      0         даклатасвир\n",
              "1790        скоро      46.0  ...      0                   0\n",
              "1791        будет      46.0  ...      0                   0\n",
              "1792  российского      46.0  ...      0                   0\n",
              "\n",
              "[1793 rows x 17 columns]"
            ]
          },
          "metadata": {
            "tags": []
          },
          "execution_count": 162
        }
      ]
    },
    {
      "cell_type": "code",
      "metadata": {
        "id": "pdg6Pp5wbx5Y"
      },
      "source": [
        "X = cor_df.drop(['COREFERENCE_CLUSTER', 'NER', 'TOKEN'], axis=1)\n",
        "X_test = cor_df_test.drop(['COREFERENCE_CLUSTER', 'NER', 'TOKEN'], axis=1)\n",
        "labels_dict = {}\n",
        "test_labels_dict = {}\n",
        "\n",
        "for i in X.columns:\n",
        "  X[i], lbl = pd.factorize(X[i])\n",
        "  labels_dict[i] = lbl\n",
        "\n",
        "for i in X_test.columns:\n",
        "  X_test[i], lbl = pd.factorize(X_test[i])\n",
        "  test_labels_dict[i] = lbl \n",
        "\n",
        "y = cor_df['COREFERENCE_CLUSTER']\n",
        "y, y_label = pd.factorize(y)\n",
        "\n",
        "y_test = cor_df_test['COREFERENCE_CLUSTER']\n",
        "y_test, y_test_label = pd.factorize(y_test)"
      ],
      "execution_count": null,
      "outputs": []
    },
    {
      "cell_type": "code",
      "metadata": {
        "colab": {
          "base_uri": "https://localhost:8080/"
        },
        "id": "ITmhwqCjmiIS",
        "outputId": "eed15733-e808-4f2a-feeb-b18c705f7023"
      },
      "source": [
        "y"
      ],
      "execution_count": null,
      "outputs": [
        {
          "output_type": "execute_result",
          "data": {
            "text/plain": [
              "array([0, 0, 0, ..., 0, 0, 0])"
            ]
          },
          "metadata": {
            "tags": []
          },
          "execution_count": 165
        }
      ]
    },
    {
      "cell_type": "code",
      "metadata": {
        "colab": {
          "base_uri": "https://localhost:8080/"
        },
        "id": "0Uwf_5N9mjqx",
        "outputId": "edf569f6-3b1e-4ebd-fecc-1dbc09978cd5"
      },
      "source": [
        "len(y)"
      ],
      "execution_count": null,
      "outputs": [
        {
          "output_type": "execute_result",
          "data": {
            "text/plain": [
              "1793"
            ]
          },
          "metadata": {
            "tags": []
          },
          "execution_count": 166
        }
      ]
    },
    {
      "cell_type": "code",
      "metadata": {
        "colab": {
          "base_uri": "https://localhost:8080/",
          "height": 35
        },
        "id": "v1LlJE6ilpqZ",
        "outputId": "38753cba-9b31-4669-d603-dc02e6da4f8e"
      },
      "source": [
        "label[-1]"
      ],
      "execution_count": null,
      "outputs": [
        {
          "output_type": "execute_result",
          "data": {
            "application/vnd.google.colaboratory.intrinsic+json": {
              "type": "string"
            },
            "text/plain": [
              "'омез'"
            ]
          },
          "metadata": {
            "tags": []
          },
          "execution_count": 167
        }
      ]
    },
    {
      "cell_type": "code",
      "metadata": {
        "colab": {
          "base_uri": "https://localhost:8080/"
        },
        "id": "OoasSiiNlp2R",
        "outputId": "7cb73619-1a08-4438-b957-6157dbc6e7e7"
      },
      "source": [
        "uniques"
      ],
      "execution_count": null,
      "outputs": [
        {
          "output_type": "execute_result",
          "data": {
            "text/plain": [
              "Index(['0', 'алимемазин', 'терален', 'сонапакс ', 'велаксин', 'тералиджен',\n",
              "       'азалептин', 'ремерон', 'золендроновая кислота-B',\n",
              "       'золендроновая кислота-I', 'золендроновая кислота', 'сторониц',\n",
              "       'самарий', 'изотопы', 'HIFU-терапия', 'абраксан', 'гемцитабин',\n",
              "       'капецитабин', 'капицетабин', 'Инорекан', 'софосбувир', 'даклатасвир',\n",
              "       'рибавирин', 'велпатасвир', 'ледипасвир', 'омез'],\n",
              "      dtype='object')"
            ]
          },
          "metadata": {
            "tags": []
          },
          "execution_count": 168
        }
      ]
    },
    {
      "cell_type": "code",
      "metadata": {
        "colab": {
          "base_uri": "https://localhost:8080/",
          "height": 427
        },
        "id": "4af_SNBkhigO",
        "outputId": "5ec4eda1-3f95-4019-f485-c3d13253d1d8"
      },
      "source": [
        "X"
      ],
      "execution_count": null,
      "outputs": [
        {
          "output_type": "execute_result",
          "data": {
            "text/html": [
              "<div>\n",
              "<style scoped>\n",
              "    .dataframe tbody tr th:only-of-type {\n",
              "        vertical-align: middle;\n",
              "    }\n",
              "\n",
              "    .dataframe tbody tr th {\n",
              "        vertical-align: top;\n",
              "    }\n",
              "\n",
              "    .dataframe thead th {\n",
              "        text-align: right;\n",
              "    }\n",
              "</style>\n",
              "<table border=\"1\" class=\"dataframe\">\n",
              "  <thead>\n",
              "    <tr style=\"text-align: right;\">\n",
              "      <th></th>\n",
              "      <th>POST_NUM</th>\n",
              "      <th>ANIMACY</th>\n",
              "      <th>CASE</th>\n",
              "      <th>GENDER</th>\n",
              "      <th>PERSON</th>\n",
              "      <th>POS</th>\n",
              "      <th>DEPENDENCY</th>\n",
              "      <th>HEAD</th>\n",
              "      <th>HEAD_POS</th>\n",
              "      <th>HEAD_ANIMACY</th>\n",
              "      <th>HEAD_CASE</th>\n",
              "      <th>HEAD_GENDER</th>\n",
              "      <th>HEAD_POS.1</th>\n",
              "      <th>SENT_VECTOR</th>\n",
              "    </tr>\n",
              "  </thead>\n",
              "  <tbody>\n",
              "    <tr>\n",
              "      <th>0</th>\n",
              "      <td>0</td>\n",
              "      <td>0</td>\n",
              "      <td>0</td>\n",
              "      <td>0</td>\n",
              "      <td>0</td>\n",
              "      <td>0</td>\n",
              "      <td>0</td>\n",
              "      <td>0</td>\n",
              "      <td>0</td>\n",
              "      <td>0</td>\n",
              "      <td>0</td>\n",
              "      <td>0</td>\n",
              "      <td>0</td>\n",
              "      <td>0</td>\n",
              "    </tr>\n",
              "    <tr>\n",
              "      <th>1</th>\n",
              "      <td>0</td>\n",
              "      <td>1</td>\n",
              "      <td>1</td>\n",
              "      <td>1</td>\n",
              "      <td>0</td>\n",
              "      <td>1</td>\n",
              "      <td>1</td>\n",
              "      <td>1</td>\n",
              "      <td>1</td>\n",
              "      <td>1</td>\n",
              "      <td>1</td>\n",
              "      <td>0</td>\n",
              "      <td>1</td>\n",
              "      <td>0</td>\n",
              "    </tr>\n",
              "    <tr>\n",
              "      <th>2</th>\n",
              "      <td>0</td>\n",
              "      <td>0</td>\n",
              "      <td>0</td>\n",
              "      <td>0</td>\n",
              "      <td>0</td>\n",
              "      <td>2</td>\n",
              "      <td>2</td>\n",
              "      <td>1</td>\n",
              "      <td>1</td>\n",
              "      <td>1</td>\n",
              "      <td>1</td>\n",
              "      <td>0</td>\n",
              "      <td>1</td>\n",
              "      <td>0</td>\n",
              "    </tr>\n",
              "    <tr>\n",
              "      <th>3</th>\n",
              "      <td>0</td>\n",
              "      <td>0</td>\n",
              "      <td>0</td>\n",
              "      <td>1</td>\n",
              "      <td>0</td>\n",
              "      <td>3</td>\n",
              "      <td>3</td>\n",
              "      <td>1</td>\n",
              "      <td>1</td>\n",
              "      <td>1</td>\n",
              "      <td>1</td>\n",
              "      <td>0</td>\n",
              "      <td>1</td>\n",
              "      <td>0</td>\n",
              "    </tr>\n",
              "    <tr>\n",
              "      <th>4</th>\n",
              "      <td>0</td>\n",
              "      <td>1</td>\n",
              "      <td>2</td>\n",
              "      <td>1</td>\n",
              "      <td>0</td>\n",
              "      <td>1</td>\n",
              "      <td>4</td>\n",
              "      <td>1</td>\n",
              "      <td>1</td>\n",
              "      <td>1</td>\n",
              "      <td>1</td>\n",
              "      <td>0</td>\n",
              "      <td>1</td>\n",
              "      <td>0</td>\n",
              "    </tr>\n",
              "    <tr>\n",
              "      <th>...</th>\n",
              "      <td>...</td>\n",
              "      <td>...</td>\n",
              "      <td>...</td>\n",
              "      <td>...</td>\n",
              "      <td>...</td>\n",
              "      <td>...</td>\n",
              "      <td>...</td>\n",
              "      <td>...</td>\n",
              "      <td>...</td>\n",
              "      <td>...</td>\n",
              "      <td>...</td>\n",
              "      <td>...</td>\n",
              "      <td>...</td>\n",
              "      <td>...</td>\n",
              "    </tr>\n",
              "    <tr>\n",
              "      <th>1788</th>\n",
              "      <td>39</td>\n",
              "      <td>0</td>\n",
              "      <td>0</td>\n",
              "      <td>0</td>\n",
              "      <td>0</td>\n",
              "      <td>9</td>\n",
              "      <td>12</td>\n",
              "      <td>498</td>\n",
              "      <td>2</td>\n",
              "      <td>1</td>\n",
              "      <td>1</td>\n",
              "      <td>3</td>\n",
              "      <td>2</td>\n",
              "      <td>147</td>\n",
              "    </tr>\n",
              "    <tr>\n",
              "      <th>1789</th>\n",
              "      <td>39</td>\n",
              "      <td>0</td>\n",
              "      <td>0</td>\n",
              "      <td>0</td>\n",
              "      <td>0</td>\n",
              "      <td>9</td>\n",
              "      <td>4</td>\n",
              "      <td>310</td>\n",
              "      <td>1</td>\n",
              "      <td>1</td>\n",
              "      <td>1</td>\n",
              "      <td>3</td>\n",
              "      <td>1</td>\n",
              "      <td>147</td>\n",
              "    </tr>\n",
              "    <tr>\n",
              "      <th>1790</th>\n",
              "      <td>39</td>\n",
              "      <td>0</td>\n",
              "      <td>0</td>\n",
              "      <td>0</td>\n",
              "      <td>0</td>\n",
              "      <td>2</td>\n",
              "      <td>2</td>\n",
              "      <td>310</td>\n",
              "      <td>1</td>\n",
              "      <td>1</td>\n",
              "      <td>1</td>\n",
              "      <td>3</td>\n",
              "      <td>1</td>\n",
              "      <td>147</td>\n",
              "    </tr>\n",
              "    <tr>\n",
              "      <th>1791</th>\n",
              "      <td>39</td>\n",
              "      <td>0</td>\n",
              "      <td>0</td>\n",
              "      <td>0</td>\n",
              "      <td>2</td>\n",
              "      <td>3</td>\n",
              "      <td>3</td>\n",
              "      <td>310</td>\n",
              "      <td>1</td>\n",
              "      <td>1</td>\n",
              "      <td>1</td>\n",
              "      <td>3</td>\n",
              "      <td>1</td>\n",
              "      <td>147</td>\n",
              "    </tr>\n",
              "    <tr>\n",
              "      <th>1792</th>\n",
              "      <td>39</td>\n",
              "      <td>0</td>\n",
              "      <td>3</td>\n",
              "      <td>2</td>\n",
              "      <td>0</td>\n",
              "      <td>7</td>\n",
              "      <td>11</td>\n",
              "      <td>572</td>\n",
              "      <td>0</td>\n",
              "      <td>0</td>\n",
              "      <td>6</td>\n",
              "      <td>1</td>\n",
              "      <td>0</td>\n",
              "      <td>147</td>\n",
              "    </tr>\n",
              "  </tbody>\n",
              "</table>\n",
              "<p>1793 rows × 14 columns</p>\n",
              "</div>"
            ],
            "text/plain": [
              "      POST_NUM  ANIMACY  CASE  ...  HEAD_GENDER  HEAD_POS.1  SENT_VECTOR\n",
              "0            0        0     0  ...            0           0            0\n",
              "1            0        1     1  ...            0           1            0\n",
              "2            0        0     0  ...            0           1            0\n",
              "3            0        0     0  ...            0           1            0\n",
              "4            0        1     2  ...            0           1            0\n",
              "...        ...      ...   ...  ...          ...         ...          ...\n",
              "1788        39        0     0  ...            3           2          147\n",
              "1789        39        0     0  ...            3           1          147\n",
              "1790        39        0     0  ...            3           1          147\n",
              "1791        39        0     0  ...            3           1          147\n",
              "1792        39        0     3  ...            1           0          147\n",
              "\n",
              "[1793 rows x 14 columns]"
            ]
          },
          "metadata": {
            "tags": []
          },
          "execution_count": 169
        }
      ]
    },
    {
      "cell_type": "code",
      "metadata": {
        "colab": {
          "base_uri": "https://localhost:8080/"
        },
        "id": "NWoToXeMhikG",
        "outputId": "867b62f2-c054-4b46-ed2b-63f7903dd933"
      },
      "source": [
        "labels_dict['HEAD_POS']"
      ],
      "execution_count": null,
      "outputs": [
        {
          "output_type": "execute_result",
          "data": {
            "text/plain": [
              "Index(['NOUN', 'VERB', 'CONJ', 'PRTS', '-', 'PRCL', 'ADJF', 'ADVB', 'PRED',\n",
              "       'INFN', 'NPRO', 'ADJS', 'COMP', 'INTJ', 'NUMR', 'PREP', 'GRND', 'PRTF'],\n",
              "      dtype='object')"
            ]
          },
          "metadata": {
            "tags": []
          },
          "execution_count": 170
        }
      ]
    },
    {
      "cell_type": "code",
      "metadata": {
        "colab": {
          "base_uri": "https://localhost:8080/"
        },
        "id": "lpdNSWV0fl47",
        "outputId": "3208dae2-b1c3-4903-ead0-49c72372bd7d"
      },
      "source": [
        "clf = tree.DecisionTreeClassifier()\n",
        "clf.fit(X, y)"
      ],
      "execution_count": null,
      "outputs": [
        {
          "output_type": "execute_result",
          "data": {
            "text/plain": [
              "DecisionTreeClassifier(ccp_alpha=0.0, class_weight=None, criterion='gini',\n",
              "                       max_depth=None, max_features=None, max_leaf_nodes=None,\n",
              "                       min_impurity_decrease=0.0, min_impurity_split=None,\n",
              "                       min_samples_leaf=1, min_samples_split=2,\n",
              "                       min_weight_fraction_leaf=0.0, presort='deprecated',\n",
              "                       random_state=None, splitter='best')"
            ]
          },
          "metadata": {
            "tags": []
          },
          "execution_count": 171
        }
      ]
    },
    {
      "cell_type": "code",
      "metadata": {
        "id": "7EOq1DxzyAiQ",
        "colab": {
          "base_uri": "https://localhost:8080/"
        },
        "outputId": "ceea5223-c097-4418-9401-54ec911daacd"
      },
      "source": [
        "clf_ent = tree.DecisionTreeClassifier(criterion='entropy')\n",
        "clf_ent.fit(X, y)"
      ],
      "execution_count": null,
      "outputs": [
        {
          "output_type": "execute_result",
          "data": {
            "text/plain": [
              "DecisionTreeClassifier(ccp_alpha=0.0, class_weight=None, criterion='entropy',\n",
              "                       max_depth=None, max_features=None, max_leaf_nodes=None,\n",
              "                       min_impurity_decrease=0.0, min_impurity_split=None,\n",
              "                       min_samples_leaf=1, min_samples_split=2,\n",
              "                       min_weight_fraction_leaf=0.0, presort='deprecated',\n",
              "                       random_state=None, splitter='best')"
            ]
          },
          "metadata": {
            "tags": []
          },
          "execution_count": 172
        }
      ]
    },
    {
      "cell_type": "code",
      "metadata": {
        "id": "p8tYiCNJzF46"
      },
      "source": [
        "from graphviz import Source\n",
        "from sklearn import tree"
      ],
      "execution_count": null,
      "outputs": []
    },
    {
      "cell_type": "code",
      "metadata": {
        "id": "QDIq9aKH0Zv0"
      },
      "source": [
        "# tree.plot_tree(clf)"
      ],
      "execution_count": null,
      "outputs": []
    },
    {
      "cell_type": "code",
      "metadata": {
        "id": "EG77d3VugU3O"
      },
      "source": [
        "# graph = Source(tree.export_graphviz(clf, out_file=None, \n",
        "#                                     feature_names=list(X), class_names=uniques, filled=True))\n",
        "\n",
        "# display(SVG(graph.pipe(format='svg')))"
      ],
      "execution_count": null,
      "outputs": []
    },
    {
      "cell_type": "code",
      "metadata": {
        "id": "ZUoq9gZXyout",
        "colab": {
          "base_uri": "https://localhost:8080/"
        },
        "outputId": "bc744e23-1597-4591-c5b1-e84f4eb48668"
      },
      "source": [
        "clf.predict(X_test)"
      ],
      "execution_count": null,
      "outputs": [
        {
          "output_type": "execute_result",
          "data": {
            "text/plain": [
              "array([0, 0, 0, 0])"
            ]
          },
          "metadata": {
            "tags": []
          },
          "execution_count": 183
        }
      ]
    },
    {
      "cell_type": "code",
      "metadata": {
        "id": "Mr27dCFq03ch",
        "colab": {
          "base_uri": "https://localhost:8080/"
        },
        "outputId": "a551482d-b87e-4755-8b50-a3a704ffc4a7"
      },
      "source": [
        "y_test"
      ],
      "execution_count": null,
      "outputs": [
        {
          "output_type": "execute_result",
          "data": {
            "text/plain": [
              "array([0, 1, 0, 0])"
            ]
          },
          "metadata": {
            "tags": []
          },
          "execution_count": 188
        }
      ]
    },
    {
      "cell_type": "code",
      "metadata": {
        "id": "oh-eg2Kk0yuU",
        "colab": {
          "base_uri": "https://localhost:8080/",
          "height": 188
        },
        "outputId": "613b386e-c70a-447f-cf47-19cad6579ba7"
      },
      "source": [
        "X_test"
      ],
      "execution_count": null,
      "outputs": [
        {
          "output_type": "execute_result",
          "data": {
            "text/html": [
              "<div>\n",
              "<style scoped>\n",
              "    .dataframe tbody tr th:only-of-type {\n",
              "        vertical-align: middle;\n",
              "    }\n",
              "\n",
              "    .dataframe tbody tr th {\n",
              "        vertical-align: top;\n",
              "    }\n",
              "\n",
              "    .dataframe thead th {\n",
              "        text-align: right;\n",
              "    }\n",
              "</style>\n",
              "<table border=\"1\" class=\"dataframe\">\n",
              "  <thead>\n",
              "    <tr style=\"text-align: right;\">\n",
              "      <th></th>\n",
              "      <th>POST_NUM</th>\n",
              "      <th>ANIMACY</th>\n",
              "      <th>CASE</th>\n",
              "      <th>GENDER</th>\n",
              "      <th>PERSON</th>\n",
              "      <th>POS</th>\n",
              "      <th>DEPENDENCY</th>\n",
              "      <th>HEAD</th>\n",
              "      <th>HEAD_POS</th>\n",
              "      <th>HEAD_ANIMACY</th>\n",
              "      <th>HEAD_CASE</th>\n",
              "      <th>HEAD_GENDER</th>\n",
              "      <th>HEAD_POS.1</th>\n",
              "      <th>SENT_VECTOR</th>\n",
              "    </tr>\n",
              "  </thead>\n",
              "  <tbody>\n",
              "    <tr>\n",
              "      <th>0</th>\n",
              "      <td>0</td>\n",
              "      <td>0</td>\n",
              "      <td>0</td>\n",
              "      <td>0</td>\n",
              "      <td>0</td>\n",
              "      <td>0</td>\n",
              "      <td>0</td>\n",
              "      <td>0</td>\n",
              "      <td>0</td>\n",
              "      <td>0</td>\n",
              "      <td>0</td>\n",
              "      <td>0</td>\n",
              "      <td>0</td>\n",
              "      <td>0</td>\n",
              "    </tr>\n",
              "    <tr>\n",
              "      <th>1</th>\n",
              "      <td>0</td>\n",
              "      <td>0</td>\n",
              "      <td>0</td>\n",
              "      <td>0</td>\n",
              "      <td>0</td>\n",
              "      <td>0</td>\n",
              "      <td>1</td>\n",
              "      <td>1</td>\n",
              "      <td>1</td>\n",
              "      <td>0</td>\n",
              "      <td>0</td>\n",
              "      <td>0</td>\n",
              "      <td>1</td>\n",
              "      <td>0</td>\n",
              "    </tr>\n",
              "    <tr>\n",
              "      <th>2</th>\n",
              "      <td>0</td>\n",
              "      <td>0</td>\n",
              "      <td>0</td>\n",
              "      <td>0</td>\n",
              "      <td>0</td>\n",
              "      <td>1</td>\n",
              "      <td>2</td>\n",
              "      <td>1</td>\n",
              "      <td>1</td>\n",
              "      <td>0</td>\n",
              "      <td>0</td>\n",
              "      <td>0</td>\n",
              "      <td>1</td>\n",
              "      <td>0</td>\n",
              "    </tr>\n",
              "    <tr>\n",
              "      <th>3</th>\n",
              "      <td>0</td>\n",
              "      <td>0</td>\n",
              "      <td>0</td>\n",
              "      <td>0</td>\n",
              "      <td>1</td>\n",
              "      <td>2</td>\n",
              "      <td>3</td>\n",
              "      <td>1</td>\n",
              "      <td>1</td>\n",
              "      <td>0</td>\n",
              "      <td>0</td>\n",
              "      <td>0</td>\n",
              "      <td>1</td>\n",
              "      <td>0</td>\n",
              "    </tr>\n",
              "  </tbody>\n",
              "</table>\n",
              "</div>"
            ],
            "text/plain": [
              "   POST_NUM  ANIMACY  CASE  ...  HEAD_GENDER  HEAD_POS.1  SENT_VECTOR\n",
              "0         0        0     0  ...            0           0            0\n",
              "1         0        0     0  ...            0           1            0\n",
              "2         0        0     0  ...            0           1            0\n",
              "3         0        0     0  ...            0           1            0\n",
              "\n",
              "[4 rows x 14 columns]"
            ]
          },
          "metadata": {
            "tags": []
          },
          "execution_count": 184
        }
      ]
    },
    {
      "cell_type": "code",
      "metadata": {
        "id": "EKHIQKgL000X"
      },
      "source": [
        ""
      ],
      "execution_count": null,
      "outputs": []
    }
  ]
}