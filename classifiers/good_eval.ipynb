{
  "nbformat": 4,
  "nbformat_minor": 0,
  "metadata": {
    "colab": {
      "name": "Untitled63.ipynb",
      "provenance": [],
      "authorship_tag": "ABX9TyOoTmNzeQ/ZNXzbMxsa/0CE",
      "include_colab_link": true
    },
    "kernelspec": {
      "name": "python3",
      "display_name": "Python 3"
    },
    "language_info": {
      "name": "python"
    }
  },
  "cells": [
    {
      "cell_type": "markdown",
      "metadata": {
        "id": "view-in-github",
        "colab_type": "text"
      },
      "source": [
        "<a href=\"https://colab.research.google.com/github/DmitryKutsev/cross-document_coreference/blob/main/classifiers/good_eval.ipynb\" target=\"_parent\"><img src=\"https://colab.research.google.com/assets/colab-badge.svg\" alt=\"Open In Colab\"/></a>"
      ]
    },
    {
      "cell_type": "markdown",
      "metadata": {
        "id": "MR2ASbW_mPHn"
      },
      "source": [
        "## **Импорт**"
      ]
    },
    {
      "cell_type": "code",
      "metadata": {
        "id": "jRqz8PB_SGaz"
      },
      "source": [
        "import pandas as pd\n",
        "import matplotlib.pyplot as plt\n",
        "import seaborn as sns\n",
        "%matplotlib inline\n"
      ],
      "execution_count": 1,
      "outputs": []
    },
    {
      "cell_type": "code",
      "metadata": {
        "id": "OFLx7egYS2qN"
      },
      "source": [
        "from IPython.display import SVG, display, HTML"
      ],
      "execution_count": 2,
      "outputs": []
    },
    {
      "cell_type": "code",
      "metadata": {
        "id": "5Lhnxf_FoRVA",
        "colab": {
          "base_uri": "https://localhost:8080/"
        },
        "outputId": "5710f726-c5c4-471b-d05a-04fef6b015a1"
      },
      "source": [
        "from google.colab import drive\n",
        "drive.mount('./content', force_remount=False)"
      ],
      "execution_count": 3,
      "outputs": [
        {
          "output_type": "stream",
          "text": [
            "Mounted at ./content\n"
          ],
          "name": "stdout"
        }
      ]
    },
    {
      "cell_type": "code",
      "metadata": {
        "id": "e6z5yVCTZght"
      },
      "source": [
        "import spacy\n",
        "import numpy as np\n",
        "\n",
        "import gensim\n",
        "from gensim.models import Word2Vec \n",
        "from gensim.models import FastText\n",
        "\n",
        "from nltk.tokenize import RegexpTokenizer\n",
        "from nltk import  sent_tokenize\n",
        "from sklearn.metrics.pairwise import cosine_distances, cosine_similarity\n",
        "import numpy as np\n",
        "import pandas as pd\n",
        "from sklearn.feature_extraction.text import TfidfVectorizer"
      ],
      "execution_count": 4,
      "outputs": []
    },
    {
      "cell_type": "code",
      "metadata": {
        "id": "p8tYiCNJzF46"
      },
      "source": [
        "from graphviz import Source\n",
        "from sklearn import tree, svm, linear_model\n",
        "from sklearn.metrics import confusion_matrix, f1_score, accuracy_score\n",
        "from sklearn.ensemble import RandomForestClassifier\n",
        "from sklearn.neighbors import KNeighborsClassifier\n"
      ],
      "execution_count": 5,
      "outputs": []
    },
    {
      "cell_type": "code",
      "metadata": {
        "id": "J_7xbdMuo_RW",
        "colab": {
          "base_uri": "https://localhost:8080/"
        },
        "outputId": "d5586f40-7958-469c-ce55-1d827d3dbcaf"
      },
      "source": [
        "!ls\n",
        "import os\n",
        "for i in os.listdir('content/'):\n",
        "  print(i)"
      ],
      "execution_count": 6,
      "outputs": [
        {
          "output_type": "stream",
          "text": [
            "content  sample_data\n",
            ".file-revisions-by-id\n",
            ".shortcut-targets-by-id\n",
            "MyDrive\n",
            ".Trash\n"
          ],
          "name": "stdout"
        }
      ]
    },
    {
      "cell_type": "code",
      "metadata": {
        "id": "L7z8djaJTABE"
      },
      "source": [
        "import csv\n",
        "import re\n",
        "from google.colab import files\n",
        "from sklearn.model_selection import train_test_split\n",
        "from sklearn.metrics.pairwise import cosine_similarity"
      ],
      "execution_count": 7,
      "outputs": []
    },
    {
      "cell_type": "markdown",
      "metadata": {
        "id": "UYfVvz6CmVMq"
      },
      "source": [
        "## **Обработка данных**"
      ]
    },
    {
      "cell_type": "code",
      "metadata": {
        "colab": {
          "base_uri": "https://localhost:8080/"
        },
        "id": "DHp2dDuqZj6h",
        "outputId": "3fcb4d03-9050-4852-b827-1b1c7b7fb4e3"
      },
      "source": [
        "!wget https://raw.githubusercontent.com/DmitryKutsev/cross-document_coreference/main/scraping/neuroleptic_antidepr2.txt\n",
        "!wget https://raw.githubusercontent.com/DmitryKutsev/cross-document_coreference/main/scraping/rakpobedim_ru2.txt\n",
        "!wget https://raw.githubusercontent.com/DmitryKutsev/cross-document_coreference/main/scraping/hv-info_gepatit2.txt"
      ],
      "execution_count": 8,
      "outputs": [
        {
          "output_type": "stream",
          "text": [
            "--2021-05-24 07:15:00--  https://raw.githubusercontent.com/DmitryKutsev/cross-document_coreference/main/scraping/neuroleptic_antidepr2.txt\n",
            "Resolving raw.githubusercontent.com (raw.githubusercontent.com)... 185.199.108.133, 185.199.110.133, 185.199.111.133, ...\n",
            "Connecting to raw.githubusercontent.com (raw.githubusercontent.com)|185.199.108.133|:443... connected.\n",
            "HTTP request sent, awaiting response... 200 OK\n",
            "Length: 11655409 (11M) [text/plain]\n",
            "Saving to: ‘neuroleptic_antidepr2.txt’\n",
            "\n",
            "neuroleptic_antidep 100%[===================>]  11.12M  17.0MB/s    in 0.7s    \n",
            "\n",
            "2021-05-24 07:15:03 (17.0 MB/s) - ‘neuroleptic_antidepr2.txt’ saved [11655409/11655409]\n",
            "\n",
            "--2021-05-24 07:15:03--  https://raw.githubusercontent.com/DmitryKutsev/cross-document_coreference/main/scraping/rakpobedim_ru2.txt\n",
            "Resolving raw.githubusercontent.com (raw.githubusercontent.com)... 185.199.108.133, 185.199.109.133, 185.199.110.133, ...\n",
            "Connecting to raw.githubusercontent.com (raw.githubusercontent.com)|185.199.108.133|:443... connected.\n",
            "HTTP request sent, awaiting response... 200 OK\n",
            "Length: 19072917 (18M) [text/plain]\n",
            "Saving to: ‘rakpobedim_ru2.txt’\n",
            "\n",
            "rakpobedim_ru2.txt  100%[===================>]  18.19M  20.8MB/s    in 0.9s    \n",
            "\n",
            "2021-05-24 07:15:06 (20.8 MB/s) - ‘rakpobedim_ru2.txt’ saved [19072917/19072917]\n",
            "\n",
            "--2021-05-24 07:15:06--  https://raw.githubusercontent.com/DmitryKutsev/cross-document_coreference/main/scraping/hv-info_gepatit2.txt\n",
            "Resolving raw.githubusercontent.com (raw.githubusercontent.com)... 185.199.108.133, 185.199.109.133, 185.199.110.133, ...\n",
            "Connecting to raw.githubusercontent.com (raw.githubusercontent.com)|185.199.108.133|:443... connected.\n",
            "HTTP request sent, awaiting response... 200 OK\n",
            "Length: 18273113 (17M) [text/plain]\n",
            "Saving to: ‘hv-info_gepatit2.txt’\n",
            "\n",
            "hv-info_gepatit2.tx 100%[===================>]  17.43M  20.9MB/s    in 0.8s    \n",
            "\n",
            "2021-05-24 07:15:08 (20.9 MB/s) - ‘hv-info_gepatit2.txt’ saved [18273113/18273113]\n",
            "\n"
          ],
          "name": "stdout"
        }
      ]
    },
    {
      "cell_type": "code",
      "metadata": {
        "id": "xk_hRf26TjUD",
        "colab": {
          "base_uri": "https://localhost:8080/"
        },
        "outputId": "4c787d49-776a-44f0-88a2-2c8789ece6cb"
      },
      "source": [
        "!wget https://raw.githubusercontent.com/DmitryKutsev/cross-document_coreference/main/data/coref_df_anns60k.csv\n",
        "!wget https://raw.githubusercontent.com/DmitryKutsev/cross-document_coreference/main/data/annotation_table.csv"
      ],
      "execution_count": 9,
      "outputs": [
        {
          "output_type": "stream",
          "text": [
            "--2021-05-24 07:15:08--  https://raw.githubusercontent.com/DmitryKutsev/cross-document_coreference/main/data/coref_df_anns60k.csv\n",
            "Resolving raw.githubusercontent.com (raw.githubusercontent.com)... 185.199.108.133, 185.199.109.133, 185.199.111.133, ...\n",
            "Connecting to raw.githubusercontent.com (raw.githubusercontent.com)|185.199.108.133|:443... connected.\n",
            "HTTP request sent, awaiting response... 404 Not Found\n",
            "2021-05-24 07:15:09 ERROR 404: Not Found.\n",
            "\n",
            "--2021-05-24 07:15:09--  https://raw.githubusercontent.com/DmitryKutsev/cross-document_coreference/main/data/annotation_table.csv\n",
            "Resolving raw.githubusercontent.com (raw.githubusercontent.com)... 185.199.110.133, 185.199.109.133, 185.199.111.133, ...\n",
            "Connecting to raw.githubusercontent.com (raw.githubusercontent.com)|185.199.110.133|:443... connected.\n",
            "HTTP request sent, awaiting response... 200 OK\n",
            "Length: 2100361 (2.0M) [text/plain]\n",
            "Saving to: ‘annotation_table.csv’\n",
            "\n",
            "annotation_table.cs 100%[===================>]   2.00M  8.94MB/s    in 0.2s    \n",
            "\n",
            "2021-05-24 07:15:10 (8.94 MB/s) - ‘annotation_table.csv’ saved [2100361/2100361]\n",
            "\n"
          ],
          "name": "stdout"
        }
      ]
    },
    {
      "cell_type": "code",
      "metadata": {
        "id": "H_hUZXGd-f3P"
      },
      "source": [
        "handler = open('neuroleptic_antidepr2.txt', 'r', encoding='utf-8')\n",
        "my_txt = handler.read()\n",
        "handler.close()\n",
        "\n",
        "handler = open('hv-info_gepatit2.txt', 'r', encoding='utf-8')\n",
        "my_txt += handler.read()\n",
        "handler.close()\n",
        "\n",
        "handler = open('rakpobedim_ru2.txt', 'r', encoding='utf-8')\n",
        "my_txt += handler.read()\n",
        "handler.close()"
      ],
      "execution_count": 10,
      "outputs": []
    },
    {
      "cell_type": "code",
      "metadata": {
        "id": "Whhtmahdmi36"
      },
      "source": [
        "posts = my_txt.split('----')"
      ],
      "execution_count": 11,
      "outputs": []
    },
    {
      "cell_type": "markdown",
      "metadata": {
        "id": "1BcgZCu2Z6da"
      },
      "source": [
        "## **Обучение векторизатора**"
      ]
    },
    {
      "cell_type": "code",
      "metadata": {
        "id": "LfyCQ883Z1Uy"
      },
      "source": [
        "tokenizer = RegexpTokenizer(r'\\w+')\n",
        "sentences_tokenized = [w.lower() for w in posts]\n",
        "\n",
        "\n",
        "sentences_tokenized = [tokenizer.tokenize(i) for i in sentences_tokenized]\n",
        "ft = FastText(sentences_tokenized, window=5, min_count=5, workers=4,sg=1)"
      ],
      "execution_count": 12,
      "outputs": []
    },
    {
      "cell_type": "markdown",
      "metadata": {
        "id": "cVHJN9DsrmkH"
      },
      "source": [
        "Обработка битых символов, чтобы pandas мог открыть таблицу."
      ]
    },
    {
      "cell_type": "code",
      "metadata": {
        "colab": {
          "base_uri": "https://localhost:8080/"
        },
        "id": "MSjV15tz-UmH",
        "outputId": "150ddd8e-4a95-442b-d25d-e08ef4a90702"
      },
      "source": [
        "count = 0\n",
        "with open('annotation_table.csv') as csvfile:\n",
        "  with open('annotations.csv', 'w') as write_file:\n",
        "    writer = csv.writer(write_file, delimiter='\\t')\n",
        "    for new_row in csvfile:\n",
        "      count +=1\n",
        "      # print(i.split('\\t'))\n",
        "      if len(new_row.split('\\t')) > 19:\n",
        "        new_row = new_row.split('\\t')[:20]\n",
        "        new_row[-1] = new_row[-1][:-1] # cut \\n\n",
        "      writer.writerow(new_row)\n",
        "count"
      ],
      "execution_count": 13,
      "outputs": [
        {
          "output_type": "execute_result",
          "data": {
            "text/plain": [
              "27019"
            ]
          },
          "metadata": {
            "tags": []
          },
          "execution_count": 13
        }
      ]
    },
    {
      "cell_type": "code",
      "metadata": {
        "id": "nKgKz0h9SPOK"
      },
      "source": [
        "# # with open('coref_df_anns60k.csv') as csvfile:\n",
        "# with open('new_anns60k.csv') as csvfile:\n",
        "#   reader = csv.reader(csvfile, delimiter='\\t')\n",
        "#   with open('new_df_anns60k.csv', 'w') as write_file:\n",
        "#     writer = csv.writer(write_file, delimiter='\\t')\n",
        "#     c = 0\n",
        "#     for row in reader:\n",
        "#       c +=1\n",
        "#       new_row = [i if i and not re.match(r'\\t+?', i) else 0 for i in row]\n",
        "#       if len(new_row) > 9:\n",
        "#         new_row = new_row[:9]\n",
        "#       else:\n",
        "#         new_row = [0 for i in range(9)]\n",
        "#       writer.writerow(new_row)\n",
        "# c\n"
      ],
      "execution_count": 14,
      "outputs": []
    },
    {
      "cell_type": "code",
      "metadata": {
        "colab": {
          "base_uri": "https://localhost:8080/"
        },
        "id": "iHSVRy-axVs8",
        "outputId": "b62560a5-6dd3-4310-ab0f-77532f0ed4a9"
      },
      "source": [
        "# !rm new_anns60k.csv.1 new_anns60k.csv.2 new_df_anns60k.csv new_anns60k.csv\n",
        "!ls\n",
        "# !rm annotation_table.csv.2 annotation_table.csv.1 annotation_table.csv annotations.csv"
      ],
      "execution_count": 15,
      "outputs": [
        {
          "output_type": "stream",
          "text": [
            "annotations.csv       hv-info_gepatit2.txt\t sample_data\n",
            "annotation_table.csv  neuroleptic_antidepr2.txt\n",
            "content\t\t      rakpobedim_ru2.txt\n"
          ],
          "name": "stdout"
        }
      ]
    },
    {
      "cell_type": "code",
      "metadata": {
        "id": "fpbwAAb6sUnL",
        "colab": {
          "base_uri": "https://localhost:8080/",
          "height": 427
        },
        "outputId": "33a62b73-a90a-4feb-de65-b670617b41fb"
      },
      "source": [
        "# anns_df = pd.read_csv('coref_df_anns60k.csv', delimiter='\\t', error_bad_lines=False, header=None)\n",
        "anns_df = pd.read_csv('annotations.csv', delimiter='\\t')\n",
        "anns_df"
      ],
      "execution_count": 16,
      "outputs": [
        {
          "output_type": "execute_result",
          "data": {
            "text/html": [
              "<div>\n",
              "<style scoped>\n",
              "    .dataframe tbody tr th:only-of-type {\n",
              "        vertical-align: middle;\n",
              "    }\n",
              "\n",
              "    .dataframe tbody tr th {\n",
              "        vertical-align: top;\n",
              "    }\n",
              "\n",
              "    .dataframe thead th {\n",
              "        text-align: right;\n",
              "    }\n",
              "</style>\n",
              "<table border=\"1\" class=\"dataframe\">\n",
              "  <thead>\n",
              "    <tr style=\"text-align: right;\">\n",
              "      <th></th>\n",
              "      <th>TOKEN</th>\n",
              "      <th>IS_ANSWER</th>\n",
              "      <th>TOPIC_NUM</th>\n",
              "      <th>POST_NUM</th>\n",
              "      <th>SENT_NUM</th>\n",
              "      <th>TOKEN_NUM</th>\n",
              "      <th>ANIMACY</th>\n",
              "      <th>CASE</th>\n",
              "      <th>GENDER</th>\n",
              "      <th>PERSON</th>\n",
              "      <th>POS</th>\n",
              "      <th>DEPENDENCY</th>\n",
              "      <th>HEAD</th>\n",
              "      <th>HEAD_ANIMACY</th>\n",
              "      <th>HEAD_CASE</th>\n",
              "      <th>HEAD_GENDER</th>\n",
              "      <th>HEAD_POS</th>\n",
              "      <th>NER</th>\n",
              "      <th>COREFERENCE_CLUSTER</th>\n",
              "      <th>NUMBER</th>\n",
              "    </tr>\n",
              "  </thead>\n",
              "  <tbody>\n",
              "    <tr>\n",
              "      <th>0</th>\n",
              "      <td>обсуждаем</td>\n",
              "      <td>0</td>\n",
              "      <td>1</td>\n",
              "      <td>0.0</td>\n",
              "      <td>0.0</td>\n",
              "      <td>0.0</td>\n",
              "      <td>NaN</td>\n",
              "      <td>NaN</td>\n",
              "      <td>NaN</td>\n",
              "      <td>1per</td>\n",
              "      <td>VERB</td>\n",
              "      <td>ROOT</td>\n",
              "      <td>обсуждаем</td>\n",
              "      <td>NaN</td>\n",
              "      <td>NaN</td>\n",
              "      <td>NaN</td>\n",
              "      <td>VERB</td>\n",
              "      <td>0</td>\n",
              "      <td>0.0</td>\n",
              "      <td>plur</td>\n",
              "    </tr>\n",
              "    <tr>\n",
              "      <th>1</th>\n",
              "      <td>препарат</td>\n",
              "      <td>0</td>\n",
              "      <td>1</td>\n",
              "      <td>0.0</td>\n",
              "      <td>0.0</td>\n",
              "      <td>1.0</td>\n",
              "      <td>inan</td>\n",
              "      <td>nomn</td>\n",
              "      <td>masc</td>\n",
              "      <td>NaN</td>\n",
              "      <td>NOUN</td>\n",
              "      <td>obj</td>\n",
              "      <td>обсуждаем</td>\n",
              "      <td>NaN</td>\n",
              "      <td>NaN</td>\n",
              "      <td>NaN</td>\n",
              "      <td>VERB</td>\n",
              "      <td>0</td>\n",
              "      <td>0.0</td>\n",
              "      <td>sing</td>\n",
              "    </tr>\n",
              "    <tr>\n",
              "      <th>2</th>\n",
              "      <td>рисперидон</td>\n",
              "      <td>0</td>\n",
              "      <td>1</td>\n",
              "      <td>0.0</td>\n",
              "      <td>0.0</td>\n",
              "      <td>2.0</td>\n",
              "      <td>anim</td>\n",
              "      <td>nomn</td>\n",
              "      <td>masc</td>\n",
              "      <td>NaN</td>\n",
              "      <td>NOUN</td>\n",
              "      <td>appos</td>\n",
              "      <td>препарат</td>\n",
              "      <td>inan</td>\n",
              "      <td>nomn</td>\n",
              "      <td>masc</td>\n",
              "      <td>NOUN</td>\n",
              "      <td>1</td>\n",
              "      <td>2.0</td>\n",
              "      <td>sing</td>\n",
              "    </tr>\n",
              "    <tr>\n",
              "      <th>3</th>\n",
              "      <td>рисполепт</td>\n",
              "      <td>0</td>\n",
              "      <td>1</td>\n",
              "      <td>0.0</td>\n",
              "      <td>0.0</td>\n",
              "      <td>3.0</td>\n",
              "      <td>inan</td>\n",
              "      <td>gent</td>\n",
              "      <td>femn</td>\n",
              "      <td>NaN</td>\n",
              "      <td>NOUN</td>\n",
              "      <td>parataxis</td>\n",
              "      <td>рисперидон</td>\n",
              "      <td>anim</td>\n",
              "      <td>nomn</td>\n",
              "      <td>masc</td>\n",
              "      <td>NOUN</td>\n",
              "      <td>1</td>\n",
              "      <td>3.0</td>\n",
              "      <td>plur</td>\n",
              "    </tr>\n",
              "    <tr>\n",
              "      <th>4</th>\n",
              "      <td>сперидан</td>\n",
              "      <td>0</td>\n",
              "      <td>1</td>\n",
              "      <td>0.0</td>\n",
              "      <td>0.0</td>\n",
              "      <td>4.0</td>\n",
              "      <td>NaN</td>\n",
              "      <td>NaN</td>\n",
              "      <td>masc</td>\n",
              "      <td>NaN</td>\n",
              "      <td>PRTS</td>\n",
              "      <td>conj</td>\n",
              "      <td>рисполепт</td>\n",
              "      <td>inan</td>\n",
              "      <td>gent</td>\n",
              "      <td>femn</td>\n",
              "      <td>NOUN</td>\n",
              "      <td>1</td>\n",
              "      <td>4.0</td>\n",
              "      <td>sing</td>\n",
              "    </tr>\n",
              "    <tr>\n",
              "      <th>...</th>\n",
              "      <td>...</td>\n",
              "      <td>...</td>\n",
              "      <td>...</td>\n",
              "      <td>...</td>\n",
              "      <td>...</td>\n",
              "      <td>...</td>\n",
              "      <td>...</td>\n",
              "      <td>...</td>\n",
              "      <td>...</td>\n",
              "      <td>...</td>\n",
              "      <td>...</td>\n",
              "      <td>...</td>\n",
              "      <td>...</td>\n",
              "      <td>...</td>\n",
              "      <td>...</td>\n",
              "      <td>...</td>\n",
              "      <td>...</td>\n",
              "      <td>...</td>\n",
              "      <td>...</td>\n",
              "      <td>...</td>\n",
              "    </tr>\n",
              "    <tr>\n",
              "      <th>27013</th>\n",
              "      <td>и</td>\n",
              "      <td>0</td>\n",
              "      <td>22</td>\n",
              "      <td>68.0</td>\n",
              "      <td>0.0</td>\n",
              "      <td>2385.0</td>\n",
              "      <td>NaN</td>\n",
              "      <td>NaN</td>\n",
              "      <td>NaN</td>\n",
              "      <td>NaN</td>\n",
              "      <td>CONJ</td>\n",
              "      <td>cc</td>\n",
              "      <td>пошлины</td>\n",
              "      <td>inan</td>\n",
              "      <td>nomn</td>\n",
              "      <td>femn</td>\n",
              "      <td>NOUN</td>\n",
              "      <td>0</td>\n",
              "      <td>0.0</td>\n",
              "      <td>NaN</td>\n",
              "    </tr>\n",
              "    <tr>\n",
              "      <th>27014</th>\n",
              "      <td>таможенные</td>\n",
              "      <td>0</td>\n",
              "      <td>22</td>\n",
              "      <td>68.0</td>\n",
              "      <td>0.0</td>\n",
              "      <td>2386.0</td>\n",
              "      <td>NaN</td>\n",
              "      <td>nomn</td>\n",
              "      <td>NaN</td>\n",
              "      <td>NaN</td>\n",
              "      <td>ADJF</td>\n",
              "      <td>amod</td>\n",
              "      <td>пошлины</td>\n",
              "      <td>inan</td>\n",
              "      <td>nomn</td>\n",
              "      <td>femn</td>\n",
              "      <td>NOUN</td>\n",
              "      <td>0</td>\n",
              "      <td>0.0</td>\n",
              "      <td>plur</td>\n",
              "    </tr>\n",
              "    <tr>\n",
              "      <th>27015</th>\n",
              "      <td>пошлины</td>\n",
              "      <td>0</td>\n",
              "      <td>22</td>\n",
              "      <td>68.0</td>\n",
              "      <td>0.0</td>\n",
              "      <td>2387.0</td>\n",
              "      <td>inan</td>\n",
              "      <td>nomn</td>\n",
              "      <td>femn</td>\n",
              "      <td>NaN</td>\n",
              "      <td>NOUN</td>\n",
              "      <td>nsubj</td>\n",
              "      <td>есть</td>\n",
              "      <td>NaN</td>\n",
              "      <td>NaN</td>\n",
              "      <td>NaN</td>\n",
              "      <td>INFN</td>\n",
              "      <td>0</td>\n",
              "      <td>0.0</td>\n",
              "      <td>plur</td>\n",
              "    </tr>\n",
              "    <tr>\n",
              "      <th>27016</th>\n",
              "      <td>как</td>\n",
              "      <td>0</td>\n",
              "      <td>22</td>\n",
              "      <td>68.0</td>\n",
              "      <td>0.0</td>\n",
              "      <td>2388.0</td>\n",
              "      <td>NaN</td>\n",
              "      <td>NaN</td>\n",
              "      <td>NaN</td>\n",
              "      <td>NaN</td>\n",
              "      <td>CONJ</td>\n",
              "      <td>advmod</td>\n",
              "      <td>есть</td>\n",
              "      <td>NaN</td>\n",
              "      <td>NaN</td>\n",
              "      <td>NaN</td>\n",
              "      <td>INFN</td>\n",
              "      <td>0</td>\n",
              "      <td>0.0</td>\n",
              "      <td>NaN</td>\n",
              "    </tr>\n",
              "    <tr>\n",
              "      <th>27017</th>\n",
              "      <td>светка</td>\n",
              "      <td>0</td>\n",
              "      <td>22</td>\n",
              "      <td>69.0</td>\n",
              "      <td>0.0</td>\n",
              "      <td>2389.0</td>\n",
              "      <td>inan</td>\n",
              "      <td>nomn</td>\n",
              "      <td>femn</td>\n",
              "      <td>NaN</td>\n",
              "      <td>NOUN</td>\n",
              "      <td>ROOT</td>\n",
              "      <td>светка</td>\n",
              "      <td>inan</td>\n",
              "      <td>nomn</td>\n",
              "      <td>femn</td>\n",
              "      <td>NOUN</td>\n",
              "      <td>0</td>\n",
              "      <td>0.0</td>\n",
              "      <td>sing</td>\n",
              "    </tr>\n",
              "  </tbody>\n",
              "</table>\n",
              "<p>27018 rows × 20 columns</p>\n",
              "</div>"
            ],
            "text/plain": [
              "            TOKEN IS_ANSWER TOPIC_NUM  ...  NER  COREFERENCE_CLUSTER  NUMBER\n",
              "0       обсуждаем         0         1  ...    0                  0.0    plur\n",
              "1        препарат         0         1  ...    0                  0.0    sing\n",
              "2      рисперидон         0         1  ...    1                  2.0    sing\n",
              "3       рисполепт         0         1  ...    1                  3.0    plur\n",
              "4        сперидан         0         1  ...    1                  4.0    sing\n",
              "...           ...       ...       ...  ...  ...                  ...     ...\n",
              "27013           и         0        22  ...    0                  0.0     NaN\n",
              "27014  таможенные         0        22  ...    0                  0.0    plur\n",
              "27015     пошлины         0        22  ...    0                  0.0    plur\n",
              "27016         как         0        22  ...    0                  0.0     NaN\n",
              "27017      светка         0        22  ...    0                  0.0    sing\n",
              "\n",
              "[27018 rows x 20 columns]"
            ]
          },
          "metadata": {
            "tags": []
          },
          "execution_count": 16
        }
      ]
    },
    {
      "cell_type": "code",
      "metadata": {
        "id": "xjM8nQk_jQWn"
      },
      "source": [
        "tok_list = []\n",
        "for token in anns_df.TOKEN:\n",
        "  try:\n",
        "    tok_list.append(ft.wv.__getitem__(token.lower()))\n",
        "  except (KeyError, AttributeError):\n",
        "    tok_list.append(0)\n",
        "    # print(token, 'here')\n",
        "anns_df['TOKEN_VECT'] = tok_list\n",
        "\n",
        "\n",
        "tok_list = []\n",
        "for token in anns_df.HEAD:\n",
        "  try:\n",
        "    tok_list.append(ft.wv.__getitem__(token.lower()))\n",
        "  except (KeyError, AttributeError):\n",
        "    tok_list.append(0)\n",
        "    # print(token, 'here')\n",
        "anns_df['HEAD_VECT'] = tok_list"
      ],
      "execution_count": 17,
      "outputs": []
    },
    {
      "cell_type": "code",
      "metadata": {
        "id": "jWdSbqFUkp8y"
      },
      "source": [
        "# tok_list = []\n",
        "# for sent in \n",
        "# for token in anns_df.HEAD:\n",
        "#   try:\n",
        "#     tok_list.append(ft.wv.__getitem__(token.lower()))\n",
        "#   except KeyError:\n",
        "#     tok_list.append(0)\n",
        "#     print(token, 'here')\n",
        "# anns_df['TOKEN_VECT'] = tok_list"
      ],
      "execution_count": 18,
      "outputs": []
    },
    {
      "cell_type": "code",
      "metadata": {
        "id": "Qv4sN0Qz2CQm"
      },
      "source": [
        ""
      ],
      "execution_count": 18,
      "outputs": []
    },
    {
      "cell_type": "code",
      "metadata": {
        "id": "xoPd-FXZzjTG"
      },
      "source": [
        "anns_df = anns_df.loc[(anns_df['TOPIC_NUM'].isin(list(range(30)))) | (anns_df['SENT_NUM'].isin(list(range(10000))))]\n",
        "anns_df = anns_df.reset_index().drop(['index'], axis=1)"
      ],
      "execution_count": 19,
      "outputs": []
    },
    {
      "cell_type": "code",
      "metadata": {
        "colab": {
          "base_uri": "https://localhost:8080/"
        },
        "id": "WkRUG17in__R",
        "outputId": "72533c06-75a6-4f1d-fb3c-8f157c64d617"
      },
      "source": [
        "topics = list(set(anns_df.TOPIC_NUM.values))\n",
        "topics\n",
        "sent_vect_list = []\n",
        "# номера предложений топика\n",
        "for topic_num in topics:\n",
        "\n",
        "  sents_in_topic = list(set(anns_df.loc[anns_df['TOPIC_NUM'] == topic_num].SENT_NUM))\n",
        "  topic_len = len(anns_df.loc[anns_df['TOPIC_NUM'] == topic_num])\n",
        "  for sent_num in sents_in_topic:\n",
        "    tok_vects = anns_df.loc[(anns_df['TOPIC_NUM'] == topic_num) & (anns_df['SENT_NUM'] == sent_num)].TOKEN_VECT\n",
        "    try:\n",
        "      sent_vect = sum(list(tok_vects))/len(tok_vects)\n",
        "    except ZeroDivisionError:\n",
        "      sent_vect = 0\n",
        "      print(anns_df.loc[(anns_df['SENT_NUM'] == sent_num)])\n",
        "    for i in range(len(tok_vects)):\n",
        "      sent_vect_list.append(sent_vect)\n",
        "len(sent_vect_list)\n",
        "# если не класть нулевых предложений - будет длина датафрейма, как он раньше импортировлся, но поздно."
      ],
      "execution_count": 20,
      "outputs": [
        {
          "output_type": "execute_result",
          "data": {
            "text/plain": [
              "26497"
            ]
          },
          "metadata": {
            "tags": []
          },
          "execution_count": 20
        }
      ]
    },
    {
      "cell_type": "code",
      "metadata": {
        "id": "yaGN3xQLyECR"
      },
      "source": [
        "anns_df['SENT_VECT'] = sent_vect_list"
      ],
      "execution_count": 21,
      "outputs": []
    },
    {
      "cell_type": "markdown",
      "metadata": {
        "id": "fBFrdEdsrq0u"
      },
      "source": [
        "Проверим данные"
      ]
    },
    {
      "cell_type": "code",
      "metadata": {
        "colab": {
          "base_uri": "https://localhost:8080/"
        },
        "id": "nxP40HQGnh80",
        "outputId": "e89f07e1-1c67-4d89-8457-bc8d48aaf097"
      },
      "source": [
        "anns_df.SENT_NUM[18]"
      ],
      "execution_count": 22,
      "outputs": [
        {
          "output_type": "execute_result",
          "data": {
            "text/plain": [
              "1.0"
            ]
          },
          "metadata": {
            "tags": []
          },
          "execution_count": 22
        }
      ]
    },
    {
      "cell_type": "code",
      "metadata": {
        "id": "hdc4AOucmDT4"
      },
      "source": [
        "# topics = list(set(df.TOPIC_NUM.values)) \n",
        "# for topic_num in topics:\n",
        "#   # if topic_num == 2:\n",
        "#   #   break\n",
        "#   # извлекаем предложения топика\n",
        "#   sents_in_topic = list(set(df.loc[df['TOPIC_NUM'] == topic_num ].SENT_NUM))\n",
        "#   for sent_num in sents_in_topic:\n",
        "#     sent = df.loc[(df['TOPIC_NUM'] == topic_num)  & (df['SENT_NUM'] == sent_num)]"
      ],
      "execution_count": 23,
      "outputs": []
    },
    {
      "cell_type": "code",
      "metadata": {
        "id": "nKld3dRPz3_m"
      },
      "source": [
        "# vvv = 0\n",
        "# with open('content/MyDrive/coref_fasttext60k_1.csv') as csvfile:\n",
        "#   with open('new_coref_df_anns60k.csv', 'w') as write_file:\n",
        "#     writer = csv.writer(write_file, delimiter='\\t')\n",
        "#     for new_row in csvfile:\n",
        "#       vvv +=1\n",
        "#       # print(i.split('\\t'))\n",
        "#       if len(new_row.split('\\t')) > 9:\n",
        "#         new_row = new_row.split('\\t')[:9]\n",
        "#       writer.writerow(new_row)\n",
        "# vvv"
      ],
      "execution_count": 24,
      "outputs": []
    },
    {
      "cell_type": "code",
      "metadata": {
        "id": "zOvIthFwWaOH"
      },
      "source": [
        "# cor_df = pd.read_csv('content/MyDrive/coref_fasttext60k_1.csv', delimiter=' ')\n",
        "# cor_df"
      ],
      "execution_count": 25,
      "outputs": []
    },
    {
      "cell_type": "code",
      "metadata": {
        "id": "Eoht1lnExJHw"
      },
      "source": [
        "# cosine_similarity([np.matrix(cor_df.TOKEN_VECT[2]).A[0]], [np.matrix(cor_df.TOKEN_VECT[3]).A[0]])[-1][-1]"
      ],
      "execution_count": 26,
      "outputs": []
    },
    {
      "cell_type": "code",
      "metadata": {
        "id": "jJgyUaV7WUAw"
      },
      "source": [
        ""
      ],
      "execution_count": 26,
      "outputs": []
    },
    {
      "cell_type": "markdown",
      "metadata": {
        "id": "ZcUH3c9e2Zwe"
      },
      "source": [
        "# **VECTORS HANDLING**"
      ]
    },
    {
      "cell_type": "markdown",
      "metadata": {
        "id": "vtuQeIa7qo7B"
      },
      "source": [
        "Изменяем значения векторов предложений, главного слова группы, зависимых слов группы, и токена на косинусную дистанцию с семантической осью.\n",
        "\n",
        "Сначала, изменим строковое представление на массив."
      ]
    },
    {
      "cell_type": "code",
      "metadata": {
        "id": "pSkpdVWPWofo"
      },
      "source": [
        "# cor_df.TOKEN_VECT = [np.matrix(i).A[0] for i in cor_df.TOKEN_VECT]\n",
        "# cor_df.HEAD_VECT = [np.matrix(i).A[0] for i in cor_df.HEAD_VECT]\n",
        "# cor_df.SENT_VECT = [np.matrix(i).A[0] for i in cor_df.SENT_VECT]\n",
        "# cor_df.HEAD_CHILDS_VECT = [np.matrix(i).A[0] for i in cor_df.HEAD_CHILDS_VECT]\n"
      ],
      "execution_count": 27,
      "outputs": []
    },
    {
      "cell_type": "markdown",
      "metadata": {
        "id": "pHpVo0QmrWzE"
      },
      "source": [
        "Добавим размеченные данные, и посмотрим, что получилось."
      ]
    },
    {
      "cell_type": "code",
      "metadata": {
        "id": "FGLkZXITh3BZ"
      },
      "source": [
        "# cor_df['NER'] = anns_df['NER']\n",
        "# cor_df['COREFERENCE_CLUSTER'] = anns_df['COREFERENCE_CLUSTER']\n",
        "# cor_df['ANN_TOKEN'] = anns_df['TOKEN']\n",
        "# cor_df"
      ],
      "execution_count": 28,
      "outputs": []
    },
    {
      "cell_type": "code",
      "metadata": {
        "id": "An0u3ZGSAqK9"
      },
      "source": [
        "# cor_df.loc()"
      ],
      "execution_count": 29,
      "outputs": []
    },
    {
      "cell_type": "markdown",
      "metadata": {
        "id": "9EK9eAjjr8Vm"
      },
      "source": [
        "Ограничим датафрейм теми данными, которые были размечены, чтобы была возможность провести оценку системы."
      ]
    },
    {
      "cell_type": "code",
      "metadata": {
        "id": "8zzHN3oQjNoC"
      },
      "source": [
        "df = anns_df.iloc[:15000,:]"
      ],
      "execution_count": 30,
      "outputs": []
    },
    {
      "cell_type": "markdown",
      "metadata": {
        "id": "Md-DxsOHsLN2"
      },
      "source": [
        "Всего наименований препаратов размечено (это не обязательно антецеденты, любое название препарата)."
      ]
    },
    {
      "cell_type": "code",
      "metadata": {
        "colab": {
          "base_uri": "https://localhost:8080/"
        },
        "id": "ZUxdUD5ZWpku",
        "outputId": "f2723e28-df12-4f0c-aee0-d53bd8d69246"
      },
      "source": [
        "len(df.loc[df['NER'] == 1])"
      ],
      "execution_count": 31,
      "outputs": [
        {
          "output_type": "execute_result",
          "data": {
            "text/plain": [
              "581"
            ]
          },
          "metadata": {
            "tags": []
          },
          "execution_count": 31
        }
      ]
    },
    {
      "cell_type": "markdown",
      "metadata": {
        "id": "0kDh_Mw0sO8N"
      },
      "source": [
        "Из них местоимений (прономинальные анафоры)."
      ]
    },
    {
      "cell_type": "code",
      "metadata": {
        "colab": {
          "base_uri": "https://localhost:8080/"
        },
        "id": "4Te0h4xrlvUH",
        "outputId": "28567b55-c10c-4107-a6a4-2a0399dc3118"
      },
      "source": [
        "len(df.loc[df['NER'] == 3])"
      ],
      "execution_count": 32,
      "outputs": [
        {
          "output_type": "execute_result",
          "data": {
            "text/plain": [
              "113"
            ]
          },
          "metadata": {
            "tags": []
          },
          "execution_count": 32
        }
      ]
    },
    {
      "cell_type": "markdown",
      "metadata": {
        "id": "DfRQXgXqsbC2"
      },
      "source": [
        "И номинативные анафоры существительные, такие как \"препарат\" и \"лекарство\". В основном это они и есть."
      ]
    },
    {
      "cell_type": "code",
      "metadata": {
        "colab": {
          "base_uri": "https://localhost:8080/"
        },
        "id": "M1CiLnyGltqt",
        "outputId": "84b313cb-3c0d-4497-ba2a-becaf7e48eaf"
      },
      "source": [
        "len(df.loc[df['NER'] == 2])"
      ],
      "execution_count": 33,
      "outputs": [
        {
          "output_type": "execute_result",
          "data": {
            "text/plain": [
              "215"
            ]
          },
          "metadata": {
            "tags": []
          },
          "execution_count": 33
        }
      ]
    },
    {
      "cell_type": "code",
      "metadata": {
        "colab": {
          "base_uri": "https://localhost:8080/"
        },
        "id": "FB-5d7uAn6Jl",
        "outputId": "7dc249e6-ead4-4f78-f3f2-05f1cdfa2104"
      },
      "source": [
        "len(df.loc[df['NER'].isin([1,2,3])])"
      ],
      "execution_count": 34,
      "outputs": [
        {
          "output_type": "execute_result",
          "data": {
            "text/plain": [
              "909"
            ]
          },
          "metadata": {
            "tags": []
          },
          "execution_count": 34
        }
      ]
    },
    {
      "cell_type": "code",
      "metadata": {
        "id": "LjPlHQCcmBjv"
      },
      "source": [
        "# df['NER'] = [int(i) for i in df['NER']]\n",
        "# df['COREFERENCE_CLUSTER'] = [int(i) for i in df['COREFERENCE_CLUSTER']]"
      ],
      "execution_count": 35,
      "outputs": []
    },
    {
      "cell_type": "markdown",
      "metadata": {
        "id": "IHxSn2iAtJW-"
      },
      "source": [
        "Посмотрим на данные."
      ]
    },
    {
      "cell_type": "code",
      "metadata": {
        "colab": {
          "base_uri": "https://localhost:8080/",
          "height": 0
        },
        "id": "0t2P18AaoYk7",
        "outputId": "8827cd0e-3792-4b61-9a61-81443fb63790"
      },
      "source": [
        "df.loc[df['NER'].isin([1,2,3])]"
      ],
      "execution_count": 36,
      "outputs": [
        {
          "output_type": "execute_result",
          "data": {
            "text/html": [
              "<div>\n",
              "<style scoped>\n",
              "    .dataframe tbody tr th:only-of-type {\n",
              "        vertical-align: middle;\n",
              "    }\n",
              "\n",
              "    .dataframe tbody tr th {\n",
              "        vertical-align: top;\n",
              "    }\n",
              "\n",
              "    .dataframe thead th {\n",
              "        text-align: right;\n",
              "    }\n",
              "</style>\n",
              "<table border=\"1\" class=\"dataframe\">\n",
              "  <thead>\n",
              "    <tr style=\"text-align: right;\">\n",
              "      <th></th>\n",
              "      <th>TOKEN</th>\n",
              "      <th>IS_ANSWER</th>\n",
              "      <th>TOPIC_NUM</th>\n",
              "      <th>POST_NUM</th>\n",
              "      <th>SENT_NUM</th>\n",
              "      <th>TOKEN_NUM</th>\n",
              "      <th>ANIMACY</th>\n",
              "      <th>CASE</th>\n",
              "      <th>GENDER</th>\n",
              "      <th>PERSON</th>\n",
              "      <th>POS</th>\n",
              "      <th>DEPENDENCY</th>\n",
              "      <th>HEAD</th>\n",
              "      <th>HEAD_ANIMACY</th>\n",
              "      <th>HEAD_CASE</th>\n",
              "      <th>HEAD_GENDER</th>\n",
              "      <th>HEAD_POS</th>\n",
              "      <th>NER</th>\n",
              "      <th>COREFERENCE_CLUSTER</th>\n",
              "      <th>NUMBER</th>\n",
              "      <th>TOKEN_VECT</th>\n",
              "      <th>HEAD_VECT</th>\n",
              "      <th>SENT_VECT</th>\n",
              "    </tr>\n",
              "  </thead>\n",
              "  <tbody>\n",
              "    <tr>\n",
              "      <th>2</th>\n",
              "      <td>рисперидон</td>\n",
              "      <td>0</td>\n",
              "      <td>1</td>\n",
              "      <td>0.0</td>\n",
              "      <td>0.0</td>\n",
              "      <td>2.0</td>\n",
              "      <td>anim</td>\n",
              "      <td>nomn</td>\n",
              "      <td>masc</td>\n",
              "      <td>NaN</td>\n",
              "      <td>NOUN</td>\n",
              "      <td>appos</td>\n",
              "      <td>препарат</td>\n",
              "      <td>inan</td>\n",
              "      <td>nomn</td>\n",
              "      <td>masc</td>\n",
              "      <td>NOUN</td>\n",
              "      <td>1</td>\n",
              "      <td>2.0</td>\n",
              "      <td>sing</td>\n",
              "      <td>[0.6422002, 0.9203333, 1.2091188, -0.39404687,...</td>\n",
              "      <td>[-0.00036136972, 1.0909841, -0.019530026, 0.56...</td>\n",
              "      <td>[0.17616315, 0.3446933, 0.058193, -0.062634565...</td>\n",
              "    </tr>\n",
              "    <tr>\n",
              "      <th>3</th>\n",
              "      <td>рисполепт</td>\n",
              "      <td>0</td>\n",
              "      <td>1</td>\n",
              "      <td>0.0</td>\n",
              "      <td>0.0</td>\n",
              "      <td>3.0</td>\n",
              "      <td>inan</td>\n",
              "      <td>gent</td>\n",
              "      <td>femn</td>\n",
              "      <td>NaN</td>\n",
              "      <td>NOUN</td>\n",
              "      <td>parataxis</td>\n",
              "      <td>рисперидон</td>\n",
              "      <td>anim</td>\n",
              "      <td>nomn</td>\n",
              "      <td>masc</td>\n",
              "      <td>NOUN</td>\n",
              "      <td>1</td>\n",
              "      <td>3.0</td>\n",
              "      <td>plur</td>\n",
              "      <td>[0.3091053, 1.0033083, 0.94316226, -0.06092452...</td>\n",
              "      <td>[0.6422002, 0.9203333, 1.2091188, -0.39404687,...</td>\n",
              "      <td>[0.17616315, 0.3446933, 0.058193, -0.062634565...</td>\n",
              "    </tr>\n",
              "    <tr>\n",
              "      <th>4</th>\n",
              "      <td>сперидан</td>\n",
              "      <td>0</td>\n",
              "      <td>1</td>\n",
              "      <td>0.0</td>\n",
              "      <td>0.0</td>\n",
              "      <td>4.0</td>\n",
              "      <td>NaN</td>\n",
              "      <td>NaN</td>\n",
              "      <td>masc</td>\n",
              "      <td>NaN</td>\n",
              "      <td>PRTS</td>\n",
              "      <td>conj</td>\n",
              "      <td>рисполепт</td>\n",
              "      <td>inan</td>\n",
              "      <td>gent</td>\n",
              "      <td>femn</td>\n",
              "      <td>NOUN</td>\n",
              "      <td>1</td>\n",
              "      <td>4.0</td>\n",
              "      <td>sing</td>\n",
              "      <td>[0.29151055, 0.6506362, 0.6896492, -0.36765492...</td>\n",
              "      <td>[0.3091053, 1.0033083, 0.94316226, -0.06092452...</td>\n",
              "      <td>[0.17616315, 0.3446933, 0.058193, -0.062634565...</td>\n",
              "    </tr>\n",
              "    <tr>\n",
              "      <th>21</th>\n",
              "      <td>лекарством</td>\n",
              "      <td>0</td>\n",
              "      <td>1</td>\n",
              "      <td>1.0</td>\n",
              "      <td>1.0</td>\n",
              "      <td>21.0</td>\n",
              "      <td>inan</td>\n",
              "      <td>ablt</td>\n",
              "      <td>neut</td>\n",
              "      <td>NaN</td>\n",
              "      <td>NOUN</td>\n",
              "      <td>conj</td>\n",
              "      <td>нет</td>\n",
              "      <td>NaN</td>\n",
              "      <td>NaN</td>\n",
              "      <td>NaN</td>\n",
              "      <td>PRED</td>\n",
              "      <td>2</td>\n",
              "      <td>0.0</td>\n",
              "      <td>sing</td>\n",
              "      <td>[-0.682182, 0.44038662, -0.4116917, 0.12339758...</td>\n",
              "      <td>[0.55707866, -0.009803482, 0.6789394, 0.377175...</td>\n",
              "      <td>[0.17616315, 0.3446933, 0.058193, -0.062634565...</td>\n",
              "    </tr>\n",
              "    <tr>\n",
              "      <th>142</th>\n",
              "      <td>рисполепта</td>\n",
              "      <td>0</td>\n",
              "      <td>1</td>\n",
              "      <td>1.0</td>\n",
              "      <td>13.0</td>\n",
              "      <td>142.0</td>\n",
              "      <td>inan</td>\n",
              "      <td>nomn</td>\n",
              "      <td>femn</td>\n",
              "      <td>NaN</td>\n",
              "      <td>NOUN</td>\n",
              "      <td>nmod</td>\n",
              "      <td>дозировку</td>\n",
              "      <td>inan</td>\n",
              "      <td>accs</td>\n",
              "      <td>femn</td>\n",
              "      <td>NOUN</td>\n",
              "      <td>1</td>\n",
              "      <td>142.0</td>\n",
              "      <td>sing</td>\n",
              "      <td>[0.3532758, 0.7841546, 0.8411142, -0.10512489,...</td>\n",
              "      <td>[0.41659012, 0.8700146, 0.8149667, 0.005126129...</td>\n",
              "      <td>[0.21825342, 0.39027682, 0.063128404, -0.11102...</td>\n",
              "    </tr>\n",
              "    <tr>\n",
              "      <th>...</th>\n",
              "      <td>...</td>\n",
              "      <td>...</td>\n",
              "      <td>...</td>\n",
              "      <td>...</td>\n",
              "      <td>...</td>\n",
              "      <td>...</td>\n",
              "      <td>...</td>\n",
              "      <td>...</td>\n",
              "      <td>...</td>\n",
              "      <td>...</td>\n",
              "      <td>...</td>\n",
              "      <td>...</td>\n",
              "      <td>...</td>\n",
              "      <td>...</td>\n",
              "      <td>...</td>\n",
              "      <td>...</td>\n",
              "      <td>...</td>\n",
              "      <td>...</td>\n",
              "      <td>...</td>\n",
              "      <td>...</td>\n",
              "      <td>...</td>\n",
              "      <td>...</td>\n",
              "      <td>...</td>\n",
              "    </tr>\n",
              "    <tr>\n",
              "      <th>14807</th>\n",
              "      <td>абраксан</td>\n",
              "      <td>1</td>\n",
              "      <td>15</td>\n",
              "      <td>18.0</td>\n",
              "      <td>3.0</td>\n",
              "      <td>2215.0</td>\n",
              "      <td>anim</td>\n",
              "      <td>gent</td>\n",
              "      <td>femn</td>\n",
              "      <td>NaN</td>\n",
              "      <td>NOUN</td>\n",
              "      <td>obj</td>\n",
              "      <td>спросите</td>\n",
              "      <td>NaN</td>\n",
              "      <td>NaN</td>\n",
              "      <td>NaN</td>\n",
              "      <td>VERB</td>\n",
              "      <td>1</td>\n",
              "      <td>2215.0</td>\n",
              "      <td>plur</td>\n",
              "      <td>[0.5964129, 0.89726555, 0.44491175, -0.4539613...</td>\n",
              "      <td>[0.31332228, 0.060981937, -0.2916319, -0.62042...</td>\n",
              "      <td>[0.16565439, 0.37797835, 0.11320429, -0.171806...</td>\n",
              "    </tr>\n",
              "    <tr>\n",
              "      <th>14809</th>\n",
              "      <td>гемцитабином</td>\n",
              "      <td>1</td>\n",
              "      <td>15</td>\n",
              "      <td>18.0</td>\n",
              "      <td>3.0</td>\n",
              "      <td>2217.0</td>\n",
              "      <td>inan</td>\n",
              "      <td>ablt</td>\n",
              "      <td>masc</td>\n",
              "      <td>NaN</td>\n",
              "      <td>NOUN</td>\n",
              "      <td>nmod</td>\n",
              "      <td>абраксан</td>\n",
              "      <td>anim</td>\n",
              "      <td>gent</td>\n",
              "      <td>femn</td>\n",
              "      <td>NOUN</td>\n",
              "      <td>1</td>\n",
              "      <td>2217.0</td>\n",
              "      <td>sing</td>\n",
              "      <td>[0.084998034, 0.7242142, 0.18191563, 0.1517318...</td>\n",
              "      <td>[0.5964129, 0.89726555, 0.44491175, -0.4539613...</td>\n",
              "      <td>[0.16565439, 0.37797835, 0.11320429, -0.171806...</td>\n",
              "    </tr>\n",
              "    <tr>\n",
              "      <th>14856</th>\n",
              "      <td>фолфиринокс</td>\n",
              "      <td>1</td>\n",
              "      <td>15</td>\n",
              "      <td>18.0</td>\n",
              "      <td>8.0</td>\n",
              "      <td>2264.0</td>\n",
              "      <td>inan</td>\n",
              "      <td>nomn</td>\n",
              "      <td>masc</td>\n",
              "      <td>NaN</td>\n",
              "      <td>NOUN</td>\n",
              "      <td>nmod</td>\n",
              "      <td>схема</td>\n",
              "      <td>inan</td>\n",
              "      <td>nomn</td>\n",
              "      <td>femn</td>\n",
              "      <td>NOUN</td>\n",
              "      <td>1</td>\n",
              "      <td>2264.0</td>\n",
              "      <td>sing</td>\n",
              "      <td>[0.33518997, 0.71797556, 0.14390625, -0.315288...</td>\n",
              "      <td>[0.17215654, 0.2995089, 0.47286636, -0.5153573...</td>\n",
              "      <td>[0.16565439, 0.37797835, 0.11320429, -0.171806...</td>\n",
              "    </tr>\n",
              "    <tr>\n",
              "      <th>14887</th>\n",
              "      <td>иринотекану</td>\n",
              "      <td>1</td>\n",
              "      <td>15</td>\n",
              "      <td>19.0</td>\n",
              "      <td>0.0</td>\n",
              "      <td>2295.0</td>\n",
              "      <td>inan</td>\n",
              "      <td>datv</td>\n",
              "      <td>masc</td>\n",
              "      <td>NaN</td>\n",
              "      <td>NOUN</td>\n",
              "      <td>nmod</td>\n",
              "      <td>аннотации</td>\n",
              "      <td>inan</td>\n",
              "      <td>nomn</td>\n",
              "      <td>femn</td>\n",
              "      <td>NOUN</td>\n",
              "      <td>1</td>\n",
              "      <td>2295.0</td>\n",
              "      <td>sing</td>\n",
              "      <td>[0.29551807, 0.78757876, 0.05905184, 0.0468995...</td>\n",
              "      <td>[0.002435874, 0.8253885, 0.04704721, 0.1811256...</td>\n",
              "      <td>[0.16565439, 0.37797835, 0.11320429, -0.171806...</td>\n",
              "    </tr>\n",
              "    <tr>\n",
              "      <th>14906</th>\n",
              "      <td>него</td>\n",
              "      <td>1</td>\n",
              "      <td>15</td>\n",
              "      <td>19.0</td>\n",
              "      <td>3.0</td>\n",
              "      <td>2314.0</td>\n",
              "      <td>NaN</td>\n",
              "      <td>gent</td>\n",
              "      <td>masc</td>\n",
              "      <td>3per</td>\n",
              "      <td>NPRO</td>\n",
              "      <td>nmod</td>\n",
              "      <td>толк</td>\n",
              "      <td>NaN</td>\n",
              "      <td>NaN</td>\n",
              "      <td>NaN</td>\n",
              "      <td>INTJ</td>\n",
              "      <td>3</td>\n",
              "      <td>2295.0</td>\n",
              "      <td>sing</td>\n",
              "      <td>[0.71353364, 0.5076227, -0.09990383, 0.0295069...</td>\n",
              "      <td>[0.40731153, 0.2634224, 0.5422674, -0.67511135...</td>\n",
              "      <td>[0.16565439, 0.37797835, 0.11320429, -0.171806...</td>\n",
              "    </tr>\n",
              "  </tbody>\n",
              "</table>\n",
              "<p>909 rows × 23 columns</p>\n",
              "</div>"
            ],
            "text/plain": [
              "              TOKEN  ...                                          SENT_VECT\n",
              "2        рисперидон  ...  [0.17616315, 0.3446933, 0.058193, -0.062634565...\n",
              "3         рисполепт  ...  [0.17616315, 0.3446933, 0.058193, -0.062634565...\n",
              "4          сперидан  ...  [0.17616315, 0.3446933, 0.058193, -0.062634565...\n",
              "21       лекарством  ...  [0.17616315, 0.3446933, 0.058193, -0.062634565...\n",
              "142      рисполепта  ...  [0.21825342, 0.39027682, 0.063128404, -0.11102...\n",
              "...             ...  ...                                                ...\n",
              "14807      абраксан  ...  [0.16565439, 0.37797835, 0.11320429, -0.171806...\n",
              "14809  гемцитабином  ...  [0.16565439, 0.37797835, 0.11320429, -0.171806...\n",
              "14856   фолфиринокс  ...  [0.16565439, 0.37797835, 0.11320429, -0.171806...\n",
              "14887   иринотекану  ...  [0.16565439, 0.37797835, 0.11320429, -0.171806...\n",
              "14906          него  ...  [0.16565439, 0.37797835, 0.11320429, -0.171806...\n",
              "\n",
              "[909 rows x 23 columns]"
            ]
          },
          "metadata": {
            "tags": []
          },
          "execution_count": 36
        }
      ]
    },
    {
      "cell_type": "markdown",
      "metadata": {
        "id": "ilbjEHUW2d0c"
      },
      "source": [
        "# **SEMANTIC AXIS**"
      ]
    },
    {
      "cell_type": "markdown",
      "metadata": {
        "id": "ICYR890StPgM"
      },
      "source": [
        "Реализация метода семантических осей.\n",
        "Сначала, выбираем первые предложения каждого топика. Посмотрим на них."
      ]
    },
    {
      "cell_type": "code",
      "metadata": {
        "colab": {
          "base_uri": "https://localhost:8080/",
          "height": 0
        },
        "id": "tEK7B7NT8kb5",
        "outputId": "c465f372-2de7-4650-ef92-903267003db6"
      },
      "source": [
        "axis_df = df.query('POST_NUM == 0 and TOKEN_NUM == 2 and SENT_NUM == 0')\n",
        "axis_df"
      ],
      "execution_count": 37,
      "outputs": [
        {
          "output_type": "execute_result",
          "data": {
            "text/html": [
              "<div>\n",
              "<style scoped>\n",
              "    .dataframe tbody tr th:only-of-type {\n",
              "        vertical-align: middle;\n",
              "    }\n",
              "\n",
              "    .dataframe tbody tr th {\n",
              "        vertical-align: top;\n",
              "    }\n",
              "\n",
              "    .dataframe thead th {\n",
              "        text-align: right;\n",
              "    }\n",
              "</style>\n",
              "<table border=\"1\" class=\"dataframe\">\n",
              "  <thead>\n",
              "    <tr style=\"text-align: right;\">\n",
              "      <th></th>\n",
              "      <th>TOKEN</th>\n",
              "      <th>IS_ANSWER</th>\n",
              "      <th>TOPIC_NUM</th>\n",
              "      <th>POST_NUM</th>\n",
              "      <th>SENT_NUM</th>\n",
              "      <th>TOKEN_NUM</th>\n",
              "      <th>ANIMACY</th>\n",
              "      <th>CASE</th>\n",
              "      <th>GENDER</th>\n",
              "      <th>PERSON</th>\n",
              "      <th>POS</th>\n",
              "      <th>DEPENDENCY</th>\n",
              "      <th>HEAD</th>\n",
              "      <th>HEAD_ANIMACY</th>\n",
              "      <th>HEAD_CASE</th>\n",
              "      <th>HEAD_GENDER</th>\n",
              "      <th>HEAD_POS</th>\n",
              "      <th>NER</th>\n",
              "      <th>COREFERENCE_CLUSTER</th>\n",
              "      <th>NUMBER</th>\n",
              "      <th>TOKEN_VECT</th>\n",
              "      <th>HEAD_VECT</th>\n",
              "      <th>SENT_VECT</th>\n",
              "    </tr>\n",
              "  </thead>\n",
              "  <tbody>\n",
              "    <tr>\n",
              "      <th>2</th>\n",
              "      <td>рисперидон</td>\n",
              "      <td>0</td>\n",
              "      <td>1</td>\n",
              "      <td>0.0</td>\n",
              "      <td>0.0</td>\n",
              "      <td>2.0</td>\n",
              "      <td>anim</td>\n",
              "      <td>nomn</td>\n",
              "      <td>masc</td>\n",
              "      <td>NaN</td>\n",
              "      <td>NOUN</td>\n",
              "      <td>appos</td>\n",
              "      <td>препарат</td>\n",
              "      <td>inan</td>\n",
              "      <td>nomn</td>\n",
              "      <td>masc</td>\n",
              "      <td>NOUN</td>\n",
              "      <td>1</td>\n",
              "      <td>2.0</td>\n",
              "      <td>sing</td>\n",
              "      <td>[0.6422002, 0.9203333, 1.2091188, -0.39404687,...</td>\n",
              "      <td>[-0.00036136972, 1.0909841, -0.019530026, 0.56...</td>\n",
              "      <td>[0.17616315, 0.3446933, 0.058193, -0.062634565...</td>\n",
              "    </tr>\n",
              "    <tr>\n",
              "      <th>576</th>\n",
              "      <td>зелдокс</td>\n",
              "      <td>0</td>\n",
              "      <td>2</td>\n",
              "      <td>0.0</td>\n",
              "      <td>0.0</td>\n",
              "      <td>2.0</td>\n",
              "      <td>inan</td>\n",
              "      <td>nomn</td>\n",
              "      <td>masc</td>\n",
              "      <td>NaN</td>\n",
              "      <td>NOUN</td>\n",
              "      <td>appos</td>\n",
              "      <td>препарат</td>\n",
              "      <td>inan</td>\n",
              "      <td>nomn</td>\n",
              "      <td>masc</td>\n",
              "      <td>NOUN</td>\n",
              "      <td>1</td>\n",
              "      <td>2.0</td>\n",
              "      <td>sing</td>\n",
              "      <td>[0.52026033, 1.042701, 0.27475935, -0.15548646...</td>\n",
              "      <td>[-0.00036136972, 1.0909841, -0.019530026, 0.56...</td>\n",
              "      <td>[-0.20711449, 0.24946558, -0.012944454, -0.155...</td>\n",
              "    </tr>\n",
              "    <tr>\n",
              "      <th>1870</th>\n",
              "      <td>оланзапин</td>\n",
              "      <td>0</td>\n",
              "      <td>3</td>\n",
              "      <td>0.0</td>\n",
              "      <td>0.0</td>\n",
              "      <td>2.0</td>\n",
              "      <td>inan</td>\n",
              "      <td>gent</td>\n",
              "      <td>femn</td>\n",
              "      <td>NaN</td>\n",
              "      <td>NOUN</td>\n",
              "      <td>appos</td>\n",
              "      <td>препарат</td>\n",
              "      <td>inan</td>\n",
              "      <td>nomn</td>\n",
              "      <td>masc</td>\n",
              "      <td>NOUN</td>\n",
              "      <td>1</td>\n",
              "      <td>2.0</td>\n",
              "      <td>plur</td>\n",
              "      <td>[0.51082295, 0.91090816, 0.6259405, -0.3483964...</td>\n",
              "      <td>[-0.00036136972, 1.0909841, -0.019530026, 0.56...</td>\n",
              "      <td>[0.16483341, 0.3735418, 0.10321984, -0.1872682...</td>\n",
              "    </tr>\n",
              "    <tr>\n",
              "      <th>5555</th>\n",
              "      <td>галоперидол</td>\n",
              "      <td>0</td>\n",
              "      <td>4</td>\n",
              "      <td>0.0</td>\n",
              "      <td>0.0</td>\n",
              "      <td>2.0</td>\n",
              "      <td>inan</td>\n",
              "      <td>nomn</td>\n",
              "      <td>masc</td>\n",
              "      <td>NaN</td>\n",
              "      <td>NOUN</td>\n",
              "      <td>obj</td>\n",
              "      <td>обсуждаем</td>\n",
              "      <td>NaN</td>\n",
              "      <td>NaN</td>\n",
              "      <td>NaN</td>\n",
              "      <td>VERB</td>\n",
              "      <td>1</td>\n",
              "      <td>2.0</td>\n",
              "      <td>sing</td>\n",
              "      <td>[0.36183417, 1.1203966, 0.63945556, -0.4248387...</td>\n",
              "      <td>[-0.74677086, 0.25333044, -0.5015719, -0.44010...</td>\n",
              "      <td>[0.32603085, 0.24580134, -0.1411523, -0.105464...</td>\n",
              "    </tr>\n",
              "    <tr>\n",
              "      <th>6200</th>\n",
              "      <td>тиаприд</td>\n",
              "      <td>0</td>\n",
              "      <td>5</td>\n",
              "      <td>0.0</td>\n",
              "      <td>0.0</td>\n",
              "      <td>2.0</td>\n",
              "      <td>anim</td>\n",
              "      <td>nomn</td>\n",
              "      <td>masc</td>\n",
              "      <td>NaN</td>\n",
              "      <td>NOUN</td>\n",
              "      <td>appos</td>\n",
              "      <td>препарат</td>\n",
              "      <td>inan</td>\n",
              "      <td>nomn</td>\n",
              "      <td>masc</td>\n",
              "      <td>NOUN</td>\n",
              "      <td>1</td>\n",
              "      <td>3.0</td>\n",
              "      <td>sing</td>\n",
              "      <td>[0.30627972, 1.0065159, 0.8827934, -0.29866943...</td>\n",
              "      <td>[-0.00036136972, 1.0909841, -0.019530026, 0.56...</td>\n",
              "      <td>[0.18294002, 0.38527223, 0.21451744, -0.169810...</td>\n",
              "    </tr>\n",
              "    <tr>\n",
              "      <th>8450</th>\n",
              "      <td>сероквель</td>\n",
              "      <td>0</td>\n",
              "      <td>6</td>\n",
              "      <td>0.0</td>\n",
              "      <td>0.0</td>\n",
              "      <td>2.0</td>\n",
              "      <td>inan</td>\n",
              "      <td>gent</td>\n",
              "      <td>femn</td>\n",
              "      <td>NaN</td>\n",
              "      <td>NOUN</td>\n",
              "      <td>appos</td>\n",
              "      <td>препарат</td>\n",
              "      <td>inan</td>\n",
              "      <td>nomn</td>\n",
              "      <td>masc</td>\n",
              "      <td>NOUN</td>\n",
              "      <td>1</td>\n",
              "      <td>2.0</td>\n",
              "      <td>plur</td>\n",
              "      <td>[0.43759695, 1.1104311, 0.87404096, 0.07090642...</td>\n",
              "      <td>[-0.00036136972, 1.0909841, -0.019530026, 0.56...</td>\n",
              "      <td>[0.2679471, 0.44669122, 0.058715444, -0.132957...</td>\n",
              "    </tr>\n",
              "    <tr>\n",
              "      <th>8541</th>\n",
              "      <td>день</td>\n",
              "      <td>0</td>\n",
              "      <td>7</td>\n",
              "      <td>0.0</td>\n",
              "      <td>0.0</td>\n",
              "      <td>2.0</td>\n",
              "      <td>inan</td>\n",
              "      <td>accs</td>\n",
              "      <td>masc</td>\n",
              "      <td>NaN</td>\n",
              "      <td>NOUN</td>\n",
              "      <td>ROOT</td>\n",
              "      <td>день</td>\n",
              "      <td>inan</td>\n",
              "      <td>accs</td>\n",
              "      <td>masc</td>\n",
              "      <td>NOUN</td>\n",
              "      <td>0</td>\n",
              "      <td>0.0</td>\n",
              "      <td>sing</td>\n",
              "      <td>[0.60911465, 0.5871983, -0.17297894, 0.1846828...</td>\n",
              "      <td>[0.60911465, 0.5871983, -0.17297894, 0.1846828...</td>\n",
              "      <td>[0.22502188, 0.27203906, 0.07441485, -0.170355...</td>\n",
              "    </tr>\n",
              "    <tr>\n",
              "      <th>11117</th>\n",
              "      <td>500</td>\n",
              "      <td>0</td>\n",
              "      <td>8</td>\n",
              "      <td>0.0</td>\n",
              "      <td>0.0</td>\n",
              "      <td>2.0</td>\n",
              "      <td>NaN</td>\n",
              "      <td>NaN</td>\n",
              "      <td>NaN</td>\n",
              "      <td>NaN</td>\n",
              "      <td>NaN</td>\n",
              "      <td>nummod</td>\n",
              "      <td>мг</td>\n",
              "      <td>inan</td>\n",
              "      <td>nomn</td>\n",
              "      <td>masc</td>\n",
              "      <td>NOUN</td>\n",
              "      <td>0</td>\n",
              "      <td>0.0</td>\n",
              "      <td>NaN</td>\n",
              "      <td>[-0.27041537, -0.70974123, 0.31189176, 0.11940...</td>\n",
              "      <td>[-0.02227375, 0.5922974, 0.67596036, -0.103962...</td>\n",
              "      <td>[0.16980284, 0.3700061, 0.1677584, -0.16217725...</td>\n",
              "    </tr>\n",
              "    <tr>\n",
              "      <th>11787</th>\n",
              "      <td>капецитабин</td>\n",
              "      <td>0</td>\n",
              "      <td>10</td>\n",
              "      <td>0.0</td>\n",
              "      <td>0.0</td>\n",
              "      <td>2.0</td>\n",
              "      <td>anim</td>\n",
              "      <td>nomn</td>\n",
              "      <td>masc</td>\n",
              "      <td>NaN</td>\n",
              "      <td>NOUN</td>\n",
              "      <td>ROOT</td>\n",
              "      <td>капецитабин</td>\n",
              "      <td>anim</td>\n",
              "      <td>nomn</td>\n",
              "      <td>masc</td>\n",
              "      <td>NOUN</td>\n",
              "      <td>1</td>\n",
              "      <td>2.0</td>\n",
              "      <td>sing</td>\n",
              "      <td>[0.024117725, 0.96247023, 0.39689127, -0.31329...</td>\n",
              "      <td>[0.024117725, 0.96247023, 0.39689127, -0.31329...</td>\n",
              "      <td>[0.16117896, 0.3422137, 0.15571809, -0.1424033...</td>\n",
              "    </tr>\n",
              "    <tr>\n",
              "      <th>11806</th>\n",
              "      <td>иресса</td>\n",
              "      <td>0</td>\n",
              "      <td>11</td>\n",
              "      <td>0.0</td>\n",
              "      <td>0.0</td>\n",
              "      <td>2.0</td>\n",
              "      <td>NaN</td>\n",
              "      <td>NaN</td>\n",
              "      <td>NaN</td>\n",
              "      <td>NaN</td>\n",
              "      <td>GRND</td>\n",
              "      <td>nmod</td>\n",
              "      <td>отдам</td>\n",
              "      <td>NaN</td>\n",
              "      <td>NaN</td>\n",
              "      <td>NaN</td>\n",
              "      <td>VERB</td>\n",
              "      <td>1</td>\n",
              "      <td>2.0</td>\n",
              "      <td>NaN</td>\n",
              "      <td>[0.14457746, 0.277566, 0.42839533, -0.10226413...</td>\n",
              "      <td>[-0.1835394, -0.9023262, -0.55792195, -0.63457...</td>\n",
              "      <td>[0.16117896, 0.3422137, 0.15571809, -0.1424033...</td>\n",
              "    </tr>\n",
              "    <tr>\n",
              "      <th>12118</th>\n",
              "      <td>очень</td>\n",
              "      <td>0</td>\n",
              "      <td>12</td>\n",
              "      <td>0.0</td>\n",
              "      <td>0.0</td>\n",
              "      <td>2.0</td>\n",
              "      <td>NaN</td>\n",
              "      <td>NaN</td>\n",
              "      <td>NaN</td>\n",
              "      <td>NaN</td>\n",
              "      <td>ADVB</td>\n",
              "      <td>advmod</td>\n",
              "      <td>нужна</td>\n",
              "      <td>NaN</td>\n",
              "      <td>NaN</td>\n",
              "      <td>femn</td>\n",
              "      <td>ADJS</td>\n",
              "      <td>0</td>\n",
              "      <td>0.0</td>\n",
              "      <td>NaN</td>\n",
              "      <td>[0.45335382, 0.3363227, 0.24007763, -0.4390798...</td>\n",
              "      <td>[1.3528754, 0.61753005, -0.24990335, -0.311192...</td>\n",
              "      <td>[0.14168476, 0.3578017, 0.14512323, -0.0890513...</td>\n",
              "    </tr>\n",
              "    <tr>\n",
              "      <th>12200</th>\n",
              "      <td>очень</td>\n",
              "      <td>0</td>\n",
              "      <td>13</td>\n",
              "      <td>0.0</td>\n",
              "      <td>0.0</td>\n",
              "      <td>2.0</td>\n",
              "      <td>NaN</td>\n",
              "      <td>NaN</td>\n",
              "      <td>NaN</td>\n",
              "      <td>NaN</td>\n",
              "      <td>ADVB</td>\n",
              "      <td>advmod</td>\n",
              "      <td>нужна</td>\n",
              "      <td>NaN</td>\n",
              "      <td>NaN</td>\n",
              "      <td>femn</td>\n",
              "      <td>ADJS</td>\n",
              "      <td>0</td>\n",
              "      <td>0.0</td>\n",
              "      <td>NaN</td>\n",
              "      <td>[0.45335382, 0.3363227, 0.24007763, -0.4390798...</td>\n",
              "      <td>[1.3528754, 0.61753005, -0.24990335, -0.311192...</td>\n",
              "      <td>[0.14168476, 0.3578017, 0.14512323, -0.0890513...</td>\n",
              "    </tr>\n",
              "    <tr>\n",
              "      <th>14936</th>\n",
              "      <td>показания</td>\n",
              "      <td>0</td>\n",
              "      <td>16</td>\n",
              "      <td>0.0</td>\n",
              "      <td>0.0</td>\n",
              "      <td>2.0</td>\n",
              "      <td>inan</td>\n",
              "      <td>nomn</td>\n",
              "      <td>neut</td>\n",
              "      <td>NaN</td>\n",
              "      <td>NOUN</td>\n",
              "      <td>conj</td>\n",
              "      <td>противопоказания</td>\n",
              "      <td>inan</td>\n",
              "      <td>gent</td>\n",
              "      <td>neut</td>\n",
              "      <td>NOUN</td>\n",
              "      <td>0</td>\n",
              "      <td>0.0</td>\n",
              "      <td>plur</td>\n",
              "      <td>[0.6316293, 1.0126196, 0.3556564, 0.47197065, ...</td>\n",
              "      <td>[0.58656955, 0.5653133, 0.85912293, 0.5366003,...</td>\n",
              "      <td>[0.16565439, 0.37797835, 0.11320429, -0.171806...</td>\n",
              "    </tr>\n",
              "  </tbody>\n",
              "</table>\n",
              "</div>"
            ],
            "text/plain": [
              "             TOKEN  ...                                          SENT_VECT\n",
              "2       рисперидон  ...  [0.17616315, 0.3446933, 0.058193, -0.062634565...\n",
              "576        зелдокс  ...  [-0.20711449, 0.24946558, -0.012944454, -0.155...\n",
              "1870     оланзапин  ...  [0.16483341, 0.3735418, 0.10321984, -0.1872682...\n",
              "5555   галоперидол  ...  [0.32603085, 0.24580134, -0.1411523, -0.105464...\n",
              "6200       тиаприд  ...  [0.18294002, 0.38527223, 0.21451744, -0.169810...\n",
              "8450     сероквель  ...  [0.2679471, 0.44669122, 0.058715444, -0.132957...\n",
              "8541          день  ...  [0.22502188, 0.27203906, 0.07441485, -0.170355...\n",
              "11117          500  ...  [0.16980284, 0.3700061, 0.1677584, -0.16217725...\n",
              "11787  капецитабин  ...  [0.16117896, 0.3422137, 0.15571809, -0.1424033...\n",
              "11806       иресса  ...  [0.16117896, 0.3422137, 0.15571809, -0.1424033...\n",
              "12118        очень  ...  [0.14168476, 0.3578017, 0.14512323, -0.0890513...\n",
              "12200        очень  ...  [0.14168476, 0.3578017, 0.14512323, -0.0890513...\n",
              "14936    показания  ...  [0.16565439, 0.37797835, 0.11320429, -0.171806...\n",
              "\n",
              "[13 rows x 23 columns]"
            ]
          },
          "metadata": {
            "tags": []
          },
          "execution_count": 37
        }
      ]
    },
    {
      "cell_type": "code",
      "metadata": {
        "id": "GEiKxebuCPsC"
      },
      "source": [
        "# sum(df.query('POST_NUM == 0 and TOKEN_NUM == 2 and SENT_NUM == 0').TOKEN_VECT)/len(df.query('POST_NUM == 0 and TOKEN_NUM == 2 and SENT_NUM == 0').TOKEN_VECT)"
      ],
      "execution_count": 38,
      "outputs": []
    },
    {
      "cell_type": "markdown",
      "metadata": {
        "id": "r-A7JcK3tsVt"
      },
      "source": [
        "Суммируем верктора токенов, главных слов, предложения целиком, и зависимых слов. Нормализуем."
      ]
    },
    {
      "cell_type": "code",
      "metadata": {
        "id": "0ESW3_xq2h0O"
      },
      "source": [
        "\n",
        "token_axe = sum(axis_df.TOKEN_VECT)/len(axis_df.TOKEN_VECT)\n",
        "head_axe = sum(axis_df.HEAD_VECT)/len(axis_df.HEAD_VECT)\n",
        "# head_childs_axe = sum(axis_df.HEAD_CHILDS_VECT)/len(axis_df.HEAD_CHILDS_VECT)\n",
        "sent_axe = sum(axis_df.SENT_VECT)/len(axis_df.SENT_VECT)"
      ],
      "execution_count": 39,
      "outputs": []
    },
    {
      "cell_type": "code",
      "metadata": {
        "colab": {
          "base_uri": "https://localhost:8080/"
        },
        "id": "1NmYmDIwIbPS",
        "outputId": "f79103d4-7564-4ccc-c9f4-58f44193f38e"
      },
      "source": [
        "df.TOKEN_VECT[710]"
      ],
      "execution_count": 40,
      "outputs": [
        {
          "output_type": "execute_result",
          "data": {
            "text/plain": [
              "0"
            ]
          },
          "metadata": {
            "tags": []
          },
          "execution_count": 40
        }
      ]
    },
    {
      "cell_type": "markdown",
      "metadata": {
        "id": "7La2_kyRuXYI"
      },
      "source": [
        "Функция, которая заменяет столбец с векторами на столбец со значениями косинусной дистанции с соответствующей семантической осью.\n"
      ]
    },
    {
      "cell_type": "code",
      "metadata": {
        "id": "qGfEFxcRHBZz"
      },
      "source": [
        "def make_similarity(df, col, axe):\n",
        "  new_col = []\n",
        "  for ind, vect in enumerate(df[col]):\n",
        "    try:\n",
        "      new_col.append(cosine_similarity([axe], [vect])[-1][-1])\n",
        "    except ValueError:\n",
        "      new_col.append(0)\n",
        "  df[col] = new_col\n",
        "\n"
      ],
      "execution_count": 41,
      "outputs": []
    },
    {
      "cell_type": "code",
      "metadata": {
        "colab": {
          "base_uri": "https://localhost:8080/"
        },
        "id": "pDC2D4LcLFTt",
        "outputId": "bc9d96f0-17f9-433a-8f64-b12d3eba9cee"
      },
      "source": [
        "make_similarity(df, 'TOKEN_VECT', token_axe)\n",
        "make_similarity(df, 'HEAD_VECT', head_axe)\n",
        "# make_similarity(df, 'HEAD_CHILDS_VECT', head_childs_axe)\n",
        "make_similarity(df, 'SENT_VECT', sent_axe)"
      ],
      "execution_count": 42,
      "outputs": [
        {
          "output_type": "stream",
          "text": [
            "/usr/local/lib/python3.7/dist-packages/ipykernel_launcher.py:8: SettingWithCopyWarning: \n",
            "A value is trying to be set on a copy of a slice from a DataFrame.\n",
            "Try using .loc[row_indexer,col_indexer] = value instead\n",
            "\n",
            "See the caveats in the documentation: https://pandas.pydata.org/pandas-docs/stable/user_guide/indexing.html#returning-a-view-versus-a-copy\n",
            "  \n",
            "/usr/local/lib/python3.7/dist-packages/ipykernel_launcher.py:8: SettingWithCopyWarning: \n",
            "A value is trying to be set on a copy of a slice from a DataFrame.\n",
            "Try using .loc[row_indexer,col_indexer] = value instead\n",
            "\n",
            "See the caveats in the documentation: https://pandas.pydata.org/pandas-docs/stable/user_guide/indexing.html#returning-a-view-versus-a-copy\n",
            "  \n",
            "/usr/local/lib/python3.7/dist-packages/ipykernel_launcher.py:8: SettingWithCopyWarning: \n",
            "A value is trying to be set on a copy of a slice from a DataFrame.\n",
            "Try using .loc[row_indexer,col_indexer] = value instead\n",
            "\n",
            "See the caveats in the documentation: https://pandas.pydata.org/pandas-docs/stable/user_guide/indexing.html#returning-a-view-versus-a-copy\n",
            "  \n"
          ],
          "name": "stderr"
        }
      ]
    },
    {
      "cell_type": "code",
      "metadata": {
        "colab": {
          "base_uri": "https://localhost:8080/",
          "height": 0
        },
        "id": "hcdxAoSuucFG",
        "outputId": "a6cd94e2-55a2-4d2c-b4b5-c0835126aa81"
      },
      "source": [
        "df.TOKEN[1]"
      ],
      "execution_count": 43,
      "outputs": [
        {
          "output_type": "execute_result",
          "data": {
            "application/vnd.google.colaboratory.intrinsic+json": {
              "type": "string"
            },
            "text/plain": [
              "'препарат'"
            ]
          },
          "metadata": {
            "tags": []
          },
          "execution_count": 43
        }
      ]
    },
    {
      "cell_type": "code",
      "metadata": {
        "id": "9eJEaD0MuVt-"
      },
      "source": [
        "# df['SUM_VECT']= [(df.TOKEN_VECT[i] + df.SENT_VECT[i])/3 for i in range(len(df.SENT_VECT))]"
      ],
      "execution_count": 44,
      "outputs": []
    },
    {
      "cell_type": "markdown",
      "metadata": {
        "id": "E8S50koyuk8t"
      },
      "source": [
        "Посмотрим на обработанные данные."
      ]
    },
    {
      "cell_type": "code",
      "metadata": {
        "colab": {
          "base_uri": "https://localhost:8080/",
          "height": 0
        },
        "id": "U44h8yUwKDhf",
        "outputId": "1a031adc-14e2-40e1-cc79-3a1fbdcc7ea5"
      },
      "source": [
        "df"
      ],
      "execution_count": 45,
      "outputs": [
        {
          "output_type": "execute_result",
          "data": {
            "text/html": [
              "<div>\n",
              "<style scoped>\n",
              "    .dataframe tbody tr th:only-of-type {\n",
              "        vertical-align: middle;\n",
              "    }\n",
              "\n",
              "    .dataframe tbody tr th {\n",
              "        vertical-align: top;\n",
              "    }\n",
              "\n",
              "    .dataframe thead th {\n",
              "        text-align: right;\n",
              "    }\n",
              "</style>\n",
              "<table border=\"1\" class=\"dataframe\">\n",
              "  <thead>\n",
              "    <tr style=\"text-align: right;\">\n",
              "      <th></th>\n",
              "      <th>TOKEN</th>\n",
              "      <th>IS_ANSWER</th>\n",
              "      <th>TOPIC_NUM</th>\n",
              "      <th>POST_NUM</th>\n",
              "      <th>SENT_NUM</th>\n",
              "      <th>TOKEN_NUM</th>\n",
              "      <th>ANIMACY</th>\n",
              "      <th>CASE</th>\n",
              "      <th>GENDER</th>\n",
              "      <th>PERSON</th>\n",
              "      <th>POS</th>\n",
              "      <th>DEPENDENCY</th>\n",
              "      <th>HEAD</th>\n",
              "      <th>HEAD_ANIMACY</th>\n",
              "      <th>HEAD_CASE</th>\n",
              "      <th>HEAD_GENDER</th>\n",
              "      <th>HEAD_POS</th>\n",
              "      <th>NER</th>\n",
              "      <th>COREFERENCE_CLUSTER</th>\n",
              "      <th>NUMBER</th>\n",
              "      <th>TOKEN_VECT</th>\n",
              "      <th>HEAD_VECT</th>\n",
              "      <th>SENT_VECT</th>\n",
              "    </tr>\n",
              "  </thead>\n",
              "  <tbody>\n",
              "    <tr>\n",
              "      <th>0</th>\n",
              "      <td>обсуждаем</td>\n",
              "      <td>0</td>\n",
              "      <td>1</td>\n",
              "      <td>0.0</td>\n",
              "      <td>0.0</td>\n",
              "      <td>0.0</td>\n",
              "      <td>NaN</td>\n",
              "      <td>NaN</td>\n",
              "      <td>NaN</td>\n",
              "      <td>1per</td>\n",
              "      <td>VERB</td>\n",
              "      <td>ROOT</td>\n",
              "      <td>обсуждаем</td>\n",
              "      <td>NaN</td>\n",
              "      <td>NaN</td>\n",
              "      <td>NaN</td>\n",
              "      <td>VERB</td>\n",
              "      <td>0</td>\n",
              "      <td>0.0</td>\n",
              "      <td>plur</td>\n",
              "      <td>0.467785</td>\n",
              "      <td>0.492365</td>\n",
              "      <td>0.976057</td>\n",
              "    </tr>\n",
              "    <tr>\n",
              "      <th>1</th>\n",
              "      <td>препарат</td>\n",
              "      <td>0</td>\n",
              "      <td>1</td>\n",
              "      <td>0.0</td>\n",
              "      <td>0.0</td>\n",
              "      <td>1.0</td>\n",
              "      <td>inan</td>\n",
              "      <td>nomn</td>\n",
              "      <td>masc</td>\n",
              "      <td>NaN</td>\n",
              "      <td>NOUN</td>\n",
              "      <td>obj</td>\n",
              "      <td>обсуждаем</td>\n",
              "      <td>NaN</td>\n",
              "      <td>NaN</td>\n",
              "      <td>NaN</td>\n",
              "      <td>VERB</td>\n",
              "      <td>0</td>\n",
              "      <td>0.0</td>\n",
              "      <td>sing</td>\n",
              "      <td>0.560020</td>\n",
              "      <td>0.492365</td>\n",
              "      <td>0.976057</td>\n",
              "    </tr>\n",
              "    <tr>\n",
              "      <th>2</th>\n",
              "      <td>рисперидон</td>\n",
              "      <td>0</td>\n",
              "      <td>1</td>\n",
              "      <td>0.0</td>\n",
              "      <td>0.0</td>\n",
              "      <td>2.0</td>\n",
              "      <td>anim</td>\n",
              "      <td>nomn</td>\n",
              "      <td>masc</td>\n",
              "      <td>NaN</td>\n",
              "      <td>NOUN</td>\n",
              "      <td>appos</td>\n",
              "      <td>препарат</td>\n",
              "      <td>inan</td>\n",
              "      <td>nomn</td>\n",
              "      <td>masc</td>\n",
              "      <td>NOUN</td>\n",
              "      <td>1</td>\n",
              "      <td>2.0</td>\n",
              "      <td>sing</td>\n",
              "      <td>0.788884</td>\n",
              "      <td>0.888401</td>\n",
              "      <td>0.976057</td>\n",
              "    </tr>\n",
              "    <tr>\n",
              "      <th>3</th>\n",
              "      <td>рисполепт</td>\n",
              "      <td>0</td>\n",
              "      <td>1</td>\n",
              "      <td>0.0</td>\n",
              "      <td>0.0</td>\n",
              "      <td>3.0</td>\n",
              "      <td>inan</td>\n",
              "      <td>gent</td>\n",
              "      <td>femn</td>\n",
              "      <td>NaN</td>\n",
              "      <td>NOUN</td>\n",
              "      <td>parataxis</td>\n",
              "      <td>рисперидон</td>\n",
              "      <td>anim</td>\n",
              "      <td>nomn</td>\n",
              "      <td>masc</td>\n",
              "      <td>NOUN</td>\n",
              "      <td>1</td>\n",
              "      <td>3.0</td>\n",
              "      <td>plur</td>\n",
              "      <td>0.817054</td>\n",
              "      <td>0.552653</td>\n",
              "      <td>0.976057</td>\n",
              "    </tr>\n",
              "    <tr>\n",
              "      <th>4</th>\n",
              "      <td>сперидан</td>\n",
              "      <td>0</td>\n",
              "      <td>1</td>\n",
              "      <td>0.0</td>\n",
              "      <td>0.0</td>\n",
              "      <td>4.0</td>\n",
              "      <td>NaN</td>\n",
              "      <td>NaN</td>\n",
              "      <td>masc</td>\n",
              "      <td>NaN</td>\n",
              "      <td>PRTS</td>\n",
              "      <td>conj</td>\n",
              "      <td>рисполепт</td>\n",
              "      <td>inan</td>\n",
              "      <td>gent</td>\n",
              "      <td>femn</td>\n",
              "      <td>NOUN</td>\n",
              "      <td>1</td>\n",
              "      <td>4.0</td>\n",
              "      <td>sing</td>\n",
              "      <td>0.728285</td>\n",
              "      <td>0.625592</td>\n",
              "      <td>0.976057</td>\n",
              "    </tr>\n",
              "    <tr>\n",
              "      <th>...</th>\n",
              "      <td>...</td>\n",
              "      <td>...</td>\n",
              "      <td>...</td>\n",
              "      <td>...</td>\n",
              "      <td>...</td>\n",
              "      <td>...</td>\n",
              "      <td>...</td>\n",
              "      <td>...</td>\n",
              "      <td>...</td>\n",
              "      <td>...</td>\n",
              "      <td>...</td>\n",
              "      <td>...</td>\n",
              "      <td>...</td>\n",
              "      <td>...</td>\n",
              "      <td>...</td>\n",
              "      <td>...</td>\n",
              "      <td>...</td>\n",
              "      <td>...</td>\n",
              "      <td>...</td>\n",
              "      <td>...</td>\n",
              "      <td>...</td>\n",
              "      <td>...</td>\n",
              "      <td>...</td>\n",
              "    </tr>\n",
              "    <tr>\n",
              "      <th>14995</th>\n",
              "      <td>эта</td>\n",
              "      <td>0</td>\n",
              "      <td>16</td>\n",
              "      <td>3.0</td>\n",
              "      <td>0.0</td>\n",
              "      <td>61.0</td>\n",
              "      <td>NaN</td>\n",
              "      <td>nomn</td>\n",
              "      <td>femn</td>\n",
              "      <td>NaN</td>\n",
              "      <td>ADJF</td>\n",
              "      <td>det</td>\n",
              "      <td>вакцина</td>\n",
              "      <td>inan</td>\n",
              "      <td>nomn</td>\n",
              "      <td>femn</td>\n",
              "      <td>NOUN</td>\n",
              "      <td>0</td>\n",
              "      <td>0.0</td>\n",
              "      <td>sing</td>\n",
              "      <td>0.396118</td>\n",
              "      <td>0.469639</td>\n",
              "      <td>0.944387</td>\n",
              "    </tr>\n",
              "    <tr>\n",
              "      <th>14996</th>\n",
              "      <td>вакцина</td>\n",
              "      <td>0</td>\n",
              "      <td>16</td>\n",
              "      <td>3.0</td>\n",
              "      <td>0.0</td>\n",
              "      <td>62.0</td>\n",
              "      <td>inan</td>\n",
              "      <td>nomn</td>\n",
              "      <td>femn</td>\n",
              "      <td>NaN</td>\n",
              "      <td>NOUN</td>\n",
              "      <td>nsubj</td>\n",
              "      <td>аукнется</td>\n",
              "      <td>NaN</td>\n",
              "      <td>NaN</td>\n",
              "      <td>NaN</td>\n",
              "      <td>VERB</td>\n",
              "      <td>0</td>\n",
              "      <td>0.0</td>\n",
              "      <td>sing</td>\n",
              "      <td>0.527859</td>\n",
              "      <td>0.597383</td>\n",
              "      <td>0.944387</td>\n",
              "    </tr>\n",
              "    <tr>\n",
              "      <th>14997</th>\n",
              "      <td>аукнется</td>\n",
              "      <td>0</td>\n",
              "      <td>16</td>\n",
              "      <td>3.0</td>\n",
              "      <td>0.0</td>\n",
              "      <td>63.0</td>\n",
              "      <td>NaN</td>\n",
              "      <td>NaN</td>\n",
              "      <td>NaN</td>\n",
              "      <td>3per</td>\n",
              "      <td>VERB</td>\n",
              "      <td>csubj</td>\n",
              "      <td>неизвестно</td>\n",
              "      <td>NaN</td>\n",
              "      <td>NaN</td>\n",
              "      <td>NaN</td>\n",
              "      <td>ADVB</td>\n",
              "      <td>0</td>\n",
              "      <td>0.0</td>\n",
              "      <td>sing</td>\n",
              "      <td>0.551375</td>\n",
              "      <td>0.520354</td>\n",
              "      <td>0.944387</td>\n",
              "    </tr>\n",
              "    <tr>\n",
              "      <th>14998</th>\n",
              "      <td>на</td>\n",
              "      <td>0</td>\n",
              "      <td>16</td>\n",
              "      <td>3.0</td>\n",
              "      <td>0.0</td>\n",
              "      <td>64.0</td>\n",
              "      <td>NaN</td>\n",
              "      <td>NaN</td>\n",
              "      <td>NaN</td>\n",
              "      <td>NaN</td>\n",
              "      <td>PREP</td>\n",
              "      <td>case</td>\n",
              "      <td>организме</td>\n",
              "      <td>inan</td>\n",
              "      <td>loct</td>\n",
              "      <td>masc</td>\n",
              "      <td>NOUN</td>\n",
              "      <td>0</td>\n",
              "      <td>0.0</td>\n",
              "      <td>NaN</td>\n",
              "      <td>0.440334</td>\n",
              "      <td>0.500613</td>\n",
              "      <td>0.944387</td>\n",
              "    </tr>\n",
              "    <tr>\n",
              "      <th>14999</th>\n",
              "      <td>организме</td>\n",
              "      <td>0</td>\n",
              "      <td>16</td>\n",
              "      <td>3.0</td>\n",
              "      <td>0.0</td>\n",
              "      <td>65.0</td>\n",
              "      <td>inan</td>\n",
              "      <td>loct</td>\n",
              "      <td>masc</td>\n",
              "      <td>NaN</td>\n",
              "      <td>NOUN</td>\n",
              "      <td>obl</td>\n",
              "      <td>аукнется</td>\n",
              "      <td>NaN</td>\n",
              "      <td>NaN</td>\n",
              "      <td>NaN</td>\n",
              "      <td>VERB</td>\n",
              "      <td>0</td>\n",
              "      <td>0.0</td>\n",
              "      <td>sing</td>\n",
              "      <td>0.511483</td>\n",
              "      <td>0.597383</td>\n",
              "      <td>0.944387</td>\n",
              "    </tr>\n",
              "  </tbody>\n",
              "</table>\n",
              "<p>15000 rows × 23 columns</p>\n",
              "</div>"
            ],
            "text/plain": [
              "            TOKEN IS_ANSWER TOPIC_NUM  ...  TOKEN_VECT  HEAD_VECT  SENT_VECT\n",
              "0       обсуждаем         0         1  ...    0.467785   0.492365   0.976057\n",
              "1        препарат         0         1  ...    0.560020   0.492365   0.976057\n",
              "2      рисперидон         0         1  ...    0.788884   0.888401   0.976057\n",
              "3       рисполепт         0         1  ...    0.817054   0.552653   0.976057\n",
              "4        сперидан         0         1  ...    0.728285   0.625592   0.976057\n",
              "...           ...       ...       ...  ...         ...        ...        ...\n",
              "14995         эта         0        16  ...    0.396118   0.469639   0.944387\n",
              "14996     вакцина         0        16  ...    0.527859   0.597383   0.944387\n",
              "14997    аукнется         0        16  ...    0.551375   0.520354   0.944387\n",
              "14998          на         0        16  ...    0.440334   0.500613   0.944387\n",
              "14999   организме         0        16  ...    0.511483   0.597383   0.944387\n",
              "\n",
              "[15000 rows x 23 columns]"
            ]
          },
          "metadata": {
            "tags": []
          },
          "execution_count": 45
        }
      ]
    },
    {
      "cell_type": "markdown",
      "metadata": {
        "id": "8FndOykVWO2D"
      },
      "source": [
        "# **ПРАВИЛОВЫЙ АЛГОРИТМ**"
      ]
    },
    {
      "cell_type": "code",
      "metadata": {
        "colab": {
          "base_uri": "https://localhost:8080/"
        },
        "id": "epA2d51jjLGX",
        "outputId": "d7f444fe-e856-4a52-958f-d5dbde00a9e5"
      },
      "source": [
        "# df.SENT_NUM = [int(i) for i in df['SENT_NUM']]\n",
        "# df.POST_NUM = [int(i) for i in df['POST_NUM']]\n",
        "# # df.TOKEN_NUM = [float(i) for i in df['TOKEN_NUM']]\n",
        "df.TOPIC_NUM = [int(i) for i in df['TOPIC_NUM']]\n",
        "# df.NER = [int(i) for i in df['NER']]"
      ],
      "execution_count": 46,
      "outputs": [
        {
          "output_type": "stream",
          "text": [
            "/usr/local/lib/python3.7/dist-packages/pandas/core/generic.py:5170: SettingWithCopyWarning: \n",
            "A value is trying to be set on a copy of a slice from a DataFrame.\n",
            "Try using .loc[row_indexer,col_indexer] = value instead\n",
            "\n",
            "See the caveats in the documentation: https://pandas.pydata.org/pandas-docs/stable/user_guide/indexing.html#returning-a-view-versus-a-copy\n",
            "  self[name] = value\n"
          ],
          "name": "stderr"
        }
      ]
    },
    {
      "cell_type": "code",
      "metadata": {
        "colab": {
          "base_uri": "https://localhost:8080/"
        },
        "id": "sc94aYmsaZE6",
        "outputId": "fd0148e8-2e04-4add-841e-efb21d1e4eb4"
      },
      "source": [
        "topics = list(set(df.TOPIC_NUM.values))\n",
        "topics"
      ],
      "execution_count": 47,
      "outputs": [
        {
          "output_type": "execute_result",
          "data": {
            "text/plain": [
              "[1, 2, 3, 4, 5, 6, 7, 8, 9, 10, 11, 12, 13, 14, 15, 16]"
            ]
          },
          "metadata": {
            "tags": []
          },
          "execution_count": 47
        }
      ]
    },
    {
      "cell_type": "code",
      "metadata": {
        "colab": {
          "base_uri": "https://localhost:8080/",
          "height": 308
        },
        "id": "7TpGdyZywCdx",
        "outputId": "50594b71-ed9e-4ba1-be93-4fc315b06962"
      },
      "source": [
        "df.loc[df['TOKEN_NUM'] == 344 ]"
      ],
      "execution_count": 48,
      "outputs": [
        {
          "output_type": "execute_result",
          "data": {
            "text/html": [
              "<div>\n",
              "<style scoped>\n",
              "    .dataframe tbody tr th:only-of-type {\n",
              "        vertical-align: middle;\n",
              "    }\n",
              "\n",
              "    .dataframe tbody tr th {\n",
              "        vertical-align: top;\n",
              "    }\n",
              "\n",
              "    .dataframe thead th {\n",
              "        text-align: right;\n",
              "    }\n",
              "</style>\n",
              "<table border=\"1\" class=\"dataframe\">\n",
              "  <thead>\n",
              "    <tr style=\"text-align: right;\">\n",
              "      <th></th>\n",
              "      <th>TOKEN</th>\n",
              "      <th>IS_ANSWER</th>\n",
              "      <th>TOPIC_NUM</th>\n",
              "      <th>POST_NUM</th>\n",
              "      <th>SENT_NUM</th>\n",
              "      <th>TOKEN_NUM</th>\n",
              "      <th>ANIMACY</th>\n",
              "      <th>CASE</th>\n",
              "      <th>GENDER</th>\n",
              "      <th>PERSON</th>\n",
              "      <th>POS</th>\n",
              "      <th>DEPENDENCY</th>\n",
              "      <th>HEAD</th>\n",
              "      <th>HEAD_ANIMACY</th>\n",
              "      <th>HEAD_CASE</th>\n",
              "      <th>HEAD_GENDER</th>\n",
              "      <th>HEAD_POS</th>\n",
              "      <th>NER</th>\n",
              "      <th>COREFERENCE_CLUSTER</th>\n",
              "      <th>NUMBER</th>\n",
              "      <th>TOKEN_VECT</th>\n",
              "      <th>HEAD_VECT</th>\n",
              "      <th>SENT_VECT</th>\n",
              "    </tr>\n",
              "  </thead>\n",
              "  <tbody>\n",
              "    <tr>\n",
              "      <th>344</th>\n",
              "      <td>рисполепта</td>\n",
              "      <td>1</td>\n",
              "      <td>1</td>\n",
              "      <td>2.0</td>\n",
              "      <td>4.0</td>\n",
              "      <td>344.0</td>\n",
              "      <td>inan</td>\n",
              "      <td>nomn</td>\n",
              "      <td>femn</td>\n",
              "      <td>NaN</td>\n",
              "      <td>NOUN</td>\n",
              "      <td>nmod</td>\n",
              "      <td>приеме</td>\n",
              "      <td>inan</td>\n",
              "      <td>loct</td>\n",
              "      <td>masc</td>\n",
              "      <td>NOUN</td>\n",
              "      <td>1</td>\n",
              "      <td>344.0</td>\n",
              "      <td>sing</td>\n",
              "      <td>0.766231</td>\n",
              "      <td>0.500547</td>\n",
              "      <td>0.964356</td>\n",
              "    </tr>\n",
              "    <tr>\n",
              "      <th>918</th>\n",
              "      <td>вышло</td>\n",
              "      <td>1</td>\n",
              "      <td>2</td>\n",
              "      <td>6.0</td>\n",
              "      <td>3.0</td>\n",
              "      <td>344.0</td>\n",
              "      <td>NaN</td>\n",
              "      <td>NaN</td>\n",
              "      <td>neut</td>\n",
              "      <td>NaN</td>\n",
              "      <td>VERB</td>\n",
              "      <td>ROOT</td>\n",
              "      <td>вышло</td>\n",
              "      <td>NaN</td>\n",
              "      <td>NaN</td>\n",
              "      <td>neut</td>\n",
              "      <td>VERB</td>\n",
              "      <td>0</td>\n",
              "      <td>0.0</td>\n",
              "      <td>sing</td>\n",
              "      <td>0.519749</td>\n",
              "      <td>0.486272</td>\n",
              "      <td>0.984156</td>\n",
              "    </tr>\n",
              "    <tr>\n",
              "      <th>2212</th>\n",
              "      <td>в</td>\n",
              "      <td>0</td>\n",
              "      <td>3</td>\n",
              "      <td>5.0</td>\n",
              "      <td>8.0</td>\n",
              "      <td>344.0</td>\n",
              "      <td>NaN</td>\n",
              "      <td>NaN</td>\n",
              "      <td>NaN</td>\n",
              "      <td>NaN</td>\n",
              "      <td>PREP</td>\n",
              "      <td>case</td>\n",
              "      <td>использовании</td>\n",
              "      <td>inan</td>\n",
              "      <td>loct</td>\n",
              "      <td>neut</td>\n",
              "      <td>NOUN</td>\n",
              "      <td>0</td>\n",
              "      <td>0.0</td>\n",
              "      <td>NaN</td>\n",
              "      <td>0.464867</td>\n",
              "      <td>0.532210</td>\n",
              "      <td>0.974837</td>\n",
              "    </tr>\n",
              "    <tr>\n",
              "      <th>5897</th>\n",
              "      <td>и</td>\n",
              "      <td>0</td>\n",
              "      <td>4</td>\n",
              "      <td>6.0</td>\n",
              "      <td>7.0</td>\n",
              "      <td>344.0</td>\n",
              "      <td>NaN</td>\n",
              "      <td>NaN</td>\n",
              "      <td>NaN</td>\n",
              "      <td>NaN</td>\n",
              "      <td>CONJ</td>\n",
              "      <td>cc</td>\n",
              "      <td>выписывались</td>\n",
              "      <td>NaN</td>\n",
              "      <td>NaN</td>\n",
              "      <td>NaN</td>\n",
              "      <td>VERB</td>\n",
              "      <td>0</td>\n",
              "      <td>0.0</td>\n",
              "      <td>NaN</td>\n",
              "      <td>0.432702</td>\n",
              "      <td>0.467088</td>\n",
              "      <td>0.917469</td>\n",
              "    </tr>\n",
              "    <tr>\n",
              "      <th>6542</th>\n",
              "      <td>в</td>\n",
              "      <td>0</td>\n",
              "      <td>5</td>\n",
              "      <td>17.0</td>\n",
              "      <td>0.0</td>\n",
              "      <td>344.0</td>\n",
              "      <td>NaN</td>\n",
              "      <td>NaN</td>\n",
              "      <td>NaN</td>\n",
              "      <td>NaN</td>\n",
              "      <td>PREP</td>\n",
              "      <td>case</td>\n",
              "      <td>мозгу</td>\n",
              "      <td>inan</td>\n",
              "      <td>loc2</td>\n",
              "      <td>masc</td>\n",
              "      <td>NOUN</td>\n",
              "      <td>0</td>\n",
              "      <td>0.0</td>\n",
              "      <td>NaN</td>\n",
              "      <td>0.464867</td>\n",
              "      <td>0.427207</td>\n",
              "      <td>0.986065</td>\n",
              "    </tr>\n",
              "    <tr>\n",
              "      <th>8883</th>\n",
              "      <td>их</td>\n",
              "      <td>0</td>\n",
              "      <td>7</td>\n",
              "      <td>0.0</td>\n",
              "      <td>32.0</td>\n",
              "      <td>344.0</td>\n",
              "      <td>NaN</td>\n",
              "      <td>accs</td>\n",
              "      <td>NaN</td>\n",
              "      <td>3per</td>\n",
              "      <td>NPRO</td>\n",
              "      <td>obj</td>\n",
              "      <td>принимать</td>\n",
              "      <td>NaN</td>\n",
              "      <td>NaN</td>\n",
              "      <td>NaN</td>\n",
              "      <td>INFN</td>\n",
              "      <td>0</td>\n",
              "      <td>0.0</td>\n",
              "      <td>plur</td>\n",
              "      <td>0.400450</td>\n",
              "      <td>0.482892</td>\n",
              "      <td>0.946690</td>\n",
              "    </tr>\n",
              "    <tr>\n",
              "      <th>11513</th>\n",
              "      <td>отвратно</td>\n",
              "      <td>0</td>\n",
              "      <td>9</td>\n",
              "      <td>0.0</td>\n",
              "      <td>39.0</td>\n",
              "      <td>344.0</td>\n",
              "      <td>NaN</td>\n",
              "      <td>NaN</td>\n",
              "      <td>NaN</td>\n",
              "      <td>NaN</td>\n",
              "      <td>ADVB</td>\n",
              "      <td>advmod</td>\n",
              "      <td>перенесла</td>\n",
              "      <td>NaN</td>\n",
              "      <td>NaN</td>\n",
              "      <td>femn</td>\n",
              "      <td>VERB</td>\n",
              "      <td>0</td>\n",
              "      <td>0.0</td>\n",
              "      <td>NaN</td>\n",
              "      <td>0.543650</td>\n",
              "      <td>0.525929</td>\n",
              "      <td>0.990285</td>\n",
              "    </tr>\n",
              "    <tr>\n",
              "      <th>12936</th>\n",
              "      <td>будет</td>\n",
              "      <td>0</td>\n",
              "      <td>15</td>\n",
              "      <td>0.0</td>\n",
              "      <td>31.0</td>\n",
              "      <td>344.0</td>\n",
              "      <td>NaN</td>\n",
              "      <td>NaN</td>\n",
              "      <td>NaN</td>\n",
              "      <td>3per</td>\n",
              "      <td>VERB</td>\n",
              "      <td>advcl</td>\n",
              "      <td>проходить</td>\n",
              "      <td>NaN</td>\n",
              "      <td>NaN</td>\n",
              "      <td>NaN</td>\n",
              "      <td>INFN</td>\n",
              "      <td>0</td>\n",
              "      <td>0.0</td>\n",
              "      <td>sing</td>\n",
              "      <td>0.461428</td>\n",
              "      <td>0.591904</td>\n",
              "      <td>0.973172</td>\n",
              "    </tr>\n",
              "  </tbody>\n",
              "</table>\n",
              "</div>"
            ],
            "text/plain": [
              "            TOKEN IS_ANSWER  TOPIC_NUM  ...  TOKEN_VECT  HEAD_VECT  SENT_VECT\n",
              "344    рисполепта         1          1  ...    0.766231   0.500547   0.964356\n",
              "918         вышло         1          2  ...    0.519749   0.486272   0.984156\n",
              "2212            в         0          3  ...    0.464867   0.532210   0.974837\n",
              "5897            и         0          4  ...    0.432702   0.467088   0.917469\n",
              "6542            в         0          5  ...    0.464867   0.427207   0.986065\n",
              "8883           их         0          7  ...    0.400450   0.482892   0.946690\n",
              "11513    отвратно         0          9  ...    0.543650   0.525929   0.990285\n",
              "12936       будет         0         15  ...    0.461428   0.591904   0.973172\n",
              "\n",
              "[8 rows x 23 columns]"
            ]
          },
          "metadata": {
            "tags": []
          },
          "execution_count": 48
        }
      ]
    },
    {
      "cell_type": "code",
      "metadata": {
        "colab": {
          "base_uri": "https://localhost:8080/",
          "height": 248
        },
        "id": "jegaPaSKarn6",
        "outputId": "36da8d8d-8010-44b3-c629-0d82903cac49"
      },
      "source": [
        "\n",
        "topic_num = 1\n",
        "topic_df = df.loc[df['TOPIC_NUM'] == topic_num]\n",
        "# номера предложений топика\n",
        "sents_in_topic = list(set(df.loc[df['TOPIC_NUM'] == topic_num ].SENT_NUM))\n",
        "sents_in_topic\n",
        "# достать пост\n",
        "df.loc[(df['TOPIC_NUM'] == 1) & (df['POST_NUM'] == 1)]\n",
        "# достать конкретное предложение конкретного поста\n",
        "df.loc[(df['TOPIC_NUM'] == 1) & (df['POST_NUM'] == 1) & (df['SENT_NUM'] == 1)]\n",
        "# достать токен из предложение конкретного поста\n",
        "df.loc[(df['TOPIC_NUM'] == 1) & (df['POST_NUM'] == 1) & (df['SENT_NUM'] == 0)]\n"
      ],
      "execution_count": 49,
      "outputs": [
        {
          "output_type": "execute_result",
          "data": {
            "text/html": [
              "<div>\n",
              "<style scoped>\n",
              "    .dataframe tbody tr th:only-of-type {\n",
              "        vertical-align: middle;\n",
              "    }\n",
              "\n",
              "    .dataframe tbody tr th {\n",
              "        vertical-align: top;\n",
              "    }\n",
              "\n",
              "    .dataframe thead th {\n",
              "        text-align: right;\n",
              "    }\n",
              "</style>\n",
              "<table border=\"1\" class=\"dataframe\">\n",
              "  <thead>\n",
              "    <tr style=\"text-align: right;\">\n",
              "      <th></th>\n",
              "      <th>TOKEN</th>\n",
              "      <th>IS_ANSWER</th>\n",
              "      <th>TOPIC_NUM</th>\n",
              "      <th>POST_NUM</th>\n",
              "      <th>SENT_NUM</th>\n",
              "      <th>TOKEN_NUM</th>\n",
              "      <th>ANIMACY</th>\n",
              "      <th>CASE</th>\n",
              "      <th>GENDER</th>\n",
              "      <th>PERSON</th>\n",
              "      <th>POS</th>\n",
              "      <th>DEPENDENCY</th>\n",
              "      <th>HEAD</th>\n",
              "      <th>HEAD_ANIMACY</th>\n",
              "      <th>HEAD_CASE</th>\n",
              "      <th>HEAD_GENDER</th>\n",
              "      <th>HEAD_POS</th>\n",
              "      <th>NER</th>\n",
              "      <th>COREFERENCE_CLUSTER</th>\n",
              "      <th>NUMBER</th>\n",
              "      <th>TOKEN_VECT</th>\n",
              "      <th>HEAD_VECT</th>\n",
              "      <th>SENT_VECT</th>\n",
              "    </tr>\n",
              "  </thead>\n",
              "  <tbody>\n",
              "    <tr>\n",
              "      <th>5</th>\n",
              "      <td>не</td>\n",
              "      <td>0</td>\n",
              "      <td>1</td>\n",
              "      <td>1.0</td>\n",
              "      <td>0.0</td>\n",
              "      <td>5.0</td>\n",
              "      <td>NaN</td>\n",
              "      <td>NaN</td>\n",
              "      <td>NaN</td>\n",
              "      <td>NaN</td>\n",
              "      <td>PRCL</td>\n",
              "      <td>advmod</td>\n",
              "      <td>знаю</td>\n",
              "      <td>NaN</td>\n",
              "      <td>NaN</td>\n",
              "      <td>NaN</td>\n",
              "      <td>VERB</td>\n",
              "      <td>0</td>\n",
              "      <td>0.0</td>\n",
              "      <td>NaN</td>\n",
              "      <td>0.435302</td>\n",
              "      <td>0.487970</td>\n",
              "      <td>0.976057</td>\n",
              "    </tr>\n",
              "    <tr>\n",
              "      <th>6</th>\n",
              "      <td>знаю</td>\n",
              "      <td>0</td>\n",
              "      <td>1</td>\n",
              "      <td>1.0</td>\n",
              "      <td>0.0</td>\n",
              "      <td>6.0</td>\n",
              "      <td>NaN</td>\n",
              "      <td>NaN</td>\n",
              "      <td>NaN</td>\n",
              "      <td>1per</td>\n",
              "      <td>VERB</td>\n",
              "      <td>ROOT</td>\n",
              "      <td>знаю</td>\n",
              "      <td>NaN</td>\n",
              "      <td>NaN</td>\n",
              "      <td>NaN</td>\n",
              "      <td>VERB</td>\n",
              "      <td>0</td>\n",
              "      <td>0.0</td>\n",
              "      <td>sing</td>\n",
              "      <td>0.514558</td>\n",
              "      <td>0.487970</td>\n",
              "      <td>0.976057</td>\n",
              "    </tr>\n",
              "    <tr>\n",
              "      <th>7</th>\n",
              "      <td>стоило</td>\n",
              "      <td>0</td>\n",
              "      <td>1</td>\n",
              "      <td>1.0</td>\n",
              "      <td>0.0</td>\n",
              "      <td>7.0</td>\n",
              "      <td>NaN</td>\n",
              "      <td>NaN</td>\n",
              "      <td>neut</td>\n",
              "      <td>NaN</td>\n",
              "      <td>VERB</td>\n",
              "      <td>ccomp</td>\n",
              "      <td>знаю</td>\n",
              "      <td>NaN</td>\n",
              "      <td>NaN</td>\n",
              "      <td>NaN</td>\n",
              "      <td>VERB</td>\n",
              "      <td>0</td>\n",
              "      <td>0.0</td>\n",
              "      <td>sing</td>\n",
              "      <td>0.485684</td>\n",
              "      <td>0.487970</td>\n",
              "      <td>0.976057</td>\n",
              "    </tr>\n",
              "    <tr>\n",
              "      <th>8</th>\n",
              "      <td>ли</td>\n",
              "      <td>0</td>\n",
              "      <td>1</td>\n",
              "      <td>1.0</td>\n",
              "      <td>0.0</td>\n",
              "      <td>8.0</td>\n",
              "      <td>NaN</td>\n",
              "      <td>NaN</td>\n",
              "      <td>NaN</td>\n",
              "      <td>NaN</td>\n",
              "      <td>CONJ</td>\n",
              "      <td>advmod</td>\n",
              "      <td>стоило</td>\n",
              "      <td>NaN</td>\n",
              "      <td>NaN</td>\n",
              "      <td>neut</td>\n",
              "      <td>VERB</td>\n",
              "      <td>0</td>\n",
              "      <td>0.0</td>\n",
              "      <td>NaN</td>\n",
              "      <td>0.460467</td>\n",
              "      <td>0.451228</td>\n",
              "      <td>0.976057</td>\n",
              "    </tr>\n",
              "    <tr>\n",
              "      <th>9</th>\n",
              "      <td>мне</td>\n",
              "      <td>0</td>\n",
              "      <td>1</td>\n",
              "      <td>1.0</td>\n",
              "      <td>0.0</td>\n",
              "      <td>9.0</td>\n",
              "      <td>NaN</td>\n",
              "      <td>datv</td>\n",
              "      <td>NaN</td>\n",
              "      <td>1per</td>\n",
              "      <td>NPRO</td>\n",
              "      <td>iobj</td>\n",
              "      <td>стоило</td>\n",
              "      <td>NaN</td>\n",
              "      <td>NaN</td>\n",
              "      <td>neut</td>\n",
              "      <td>VERB</td>\n",
              "      <td>0</td>\n",
              "      <td>0.0</td>\n",
              "      <td>sing</td>\n",
              "      <td>0.504242</td>\n",
              "      <td>0.451228</td>\n",
              "      <td>0.976057</td>\n",
              "    </tr>\n",
              "    <tr>\n",
              "      <th>10</th>\n",
              "      <td>писать</td>\n",
              "      <td>0</td>\n",
              "      <td>1</td>\n",
              "      <td>1.0</td>\n",
              "      <td>0.0</td>\n",
              "      <td>10.0</td>\n",
              "      <td>NaN</td>\n",
              "      <td>NaN</td>\n",
              "      <td>NaN</td>\n",
              "      <td>NaN</td>\n",
              "      <td>INFN</td>\n",
              "      <td>csubj</td>\n",
              "      <td>стоило</td>\n",
              "      <td>NaN</td>\n",
              "      <td>NaN</td>\n",
              "      <td>neut</td>\n",
              "      <td>VERB</td>\n",
              "      <td>0</td>\n",
              "      <td>0.0</td>\n",
              "      <td>NaN</td>\n",
              "      <td>0.460003</td>\n",
              "      <td>0.451228</td>\n",
              "      <td>0.976057</td>\n",
              "    </tr>\n",
              "  </tbody>\n",
              "</table>\n",
              "</div>"
            ],
            "text/plain": [
              "     TOKEN IS_ANSWER  TOPIC_NUM  ...  TOKEN_VECT  HEAD_VECT  SENT_VECT\n",
              "5       не         0          1  ...    0.435302   0.487970   0.976057\n",
              "6     знаю         0          1  ...    0.514558   0.487970   0.976057\n",
              "7   стоило         0          1  ...    0.485684   0.487970   0.976057\n",
              "8       ли         0          1  ...    0.460467   0.451228   0.976057\n",
              "9      мне         0          1  ...    0.504242   0.451228   0.976057\n",
              "10  писать         0          1  ...    0.460003   0.451228   0.976057\n",
              "\n",
              "[6 rows x 23 columns]"
            ]
          },
          "metadata": {
            "tags": []
          },
          "execution_count": 49
        }
      ]
    },
    {
      "cell_type": "code",
      "metadata": {
        "colab": {
          "base_uri": "https://localhost:8080/"
        },
        "id": "CR0AoZS_lUaZ",
        "outputId": "0c74dd4f-f289-4f37-fc8f-a332392f776e"
      },
      "source": [
        "for i in df.loc[(df['TOPIC_NUM'] == 1) & (df['POST_NUM'] == 1) & (df['SENT_NUM'] == 0)].values:\n",
        "  print(i[-5])"
      ],
      "execution_count": 50,
      "outputs": [
        {
          "output_type": "stream",
          "text": [
            "0.0\n",
            "0.0\n",
            "0.0\n",
            "0.0\n",
            "0.0\n",
            "0.0\n"
          ],
          "name": "stdout"
        }
      ]
    },
    {
      "cell_type": "code",
      "metadata": {
        "colab": {
          "base_uri": "https://localhost:8080/"
        },
        "id": "Q-jlR3l1tXPz",
        "outputId": "ad6444c3-810a-4056-da3d-a3c0c811af33"
      },
      "source": [
        "# анафоры\n",
        "df.loc[(df['TOPIC_NUM'] == 1) & (df['POST_NUM'] == 1) & (df['SENT_NUM'] == 1)\n",
        "& (df['NER'] > 1)].values[0]"
      ],
      "execution_count": 51,
      "outputs": [
        {
          "output_type": "execute_result",
          "data": {
            "text/plain": [
              "array(['лекарством', '0', 1, 1.0, 1.0, 21.0, 'inan', 'ablt', 'neut', nan,\n",
              "       'NOUN', 'conj', 'нет', nan, nan, nan, 'PRED', 2, 0.0, 'sing',\n",
              "       0.4543353021144867, 0.5150907039642334, 0.9760570526123047],\n",
              "      dtype=object)"
            ]
          },
          "metadata": {
            "tags": []
          },
          "execution_count": 51
        }
      ]
    },
    {
      "cell_type": "code",
      "metadata": {
        "id": "kYvcPF-M1NeU"
      },
      "source": [
        "# sents_in_topic \n",
        "# topic_num\n",
        "# df = df.reset_index()"
      ],
      "execution_count": 52,
      "outputs": []
    },
    {
      "cell_type": "code",
      "metadata": {
        "id": "-YjrloOncshj"
      },
      "source": [
        "# post = df.loc[(df['TOPIC_NUM'] == topic_num) \\\n",
        "#               & (df['POST_NUM'] == post_num) \\\n",
        "#               & (df['SENT_NUM'] <= sent_num)]\n",
        "\n",
        "# current_antecedents = post.loc[(sent['NER'] == 1) ]"
      ],
      "execution_count": 54,
      "outputs": []
    },
    {
      "cell_type": "code",
      "metadata": {
        "id": "Cr4wFis7MMrL"
      },
      "source": [
        "# knn_clf = KNeighborsClassifier(n_neighbors=10, weights='distance',algorithm='ball_tree',leaf_size=5, metric='minkowski', p=1).fit(X, y)\n",
        "# knn_clf.score(X_test, y_test)"
      ],
      "execution_count": 55,
      "outputs": []
    },
    {
      "cell_type": "code",
      "metadata": {
        "id": "Yq47ne9PojeF"
      },
      "source": [
        "def rule_eval(my_X, my_y):\n",
        "  \n",
        "  tp = []\n",
        "  fp = []\n",
        "  tn = []\n",
        "  fn = []\n",
        "\n",
        "  for i in range(len(my_X)):\n",
        "    if my_X[i] != 0:\n",
        "      if my_X[i] == my_y[i]:\n",
        "        tp.append(i)\n",
        "      else:\n",
        "        fp.append(i)\n",
        "    # берем только те синглтоны, которые относятся к номинативным или прономинальным группам.\n",
        "    elif my_X[i] == 0:\n",
        "      if my_X[i] == my_y[i]:\n",
        "        tn.append(i)\n",
        "      else:\n",
        "        fn.append(i)\n",
        "  try:\n",
        "    P = len(tp)/(len(tp) + len(fp))\n",
        "  except ZeroDivisionError:\n",
        "    P = 0\n",
        "  try:\n",
        "    R = len(tp)/(len(tp) + len(fn))\n",
        "  except ZeroDivisionError:\n",
        "    R = 0\n",
        "  try:\n",
        "    F = 2*P*R/(P+R)\n",
        "  except ZeroDivisionError:\n",
        "    F = 0\n",
        "\n",
        "  print(len(tp), ' true positive')\n",
        "  print(len(fp), ' false positive')\n",
        "  print(len(tn), ' true negative')\n",
        "  print(len(fn), ' false negative')\n",
        "  print('---------')\n",
        "  print(P,' presicion')\n",
        "  print(R, ' recall')\n",
        "  print(F, ' f-score')\n"
      ],
      "execution_count": 56,
      "outputs": []
    },
    {
      "cell_type": "code",
      "metadata": {
        "colab": {
          "base_uri": "https://localhost:8080/"
        },
        "id": "eyveocHjeLMJ",
        "outputId": "3ff9bb8e-d4ef-4f3c-be0f-42b57f156922"
      },
      "source": [
        "# def anaphore_in_sent(sent_num, topic_num) это потом\n",
        "# изначально отталкиваемся от номеров топиков, итерация по ним\n",
        "# topics = list(set(df.TOPIC_NUM.values)) это выше\n",
        "ann_clusters = []\n",
        "my_clusters = []\n",
        "post_num = 0\n",
        "for topic_num in topics:\n",
        "  # print(topics, 'topics')\n",
        "  # if post_num == 3:\n",
        "  #   break\n",
        "  # извлекаем посты топика\n",
        "  posts_in_topic = list(set(df.loc[df['TOPIC_NUM'] == topic_num].POST_NUM))\n",
        "  # sents_in_topic = list(set(df.loc[df['TOPIC_NUM'] == topic_num].SENT_NUM))\n",
        "\n",
        "\n",
        "  for post_num in posts_in_topic:\n",
        "    sents_in_post = list(set(df.loc[(df['TOPIC_NUM'] == topic_num) \\\n",
        "                                    & (df['POST_NUM'] == post_num)].SENT_NUM))\n",
        "    # if post_num == 3:\n",
        "    #   break\n",
        "\n",
        "    for sent_num in sents_in_post:\n",
        "\n",
        "      sent = df.loc[(df['TOPIC_NUM'] == topic_num)  & (df['SENT_NUM'] == sent_num) \\\n",
        "                    & (df['POST_NUM'] == post_num)]\n",
        "      # собираем анафоры и антецеденты\n",
        "      current_anaphors = sent.loc[(sent['NER'] > 1)]\n",
        "      current_antecedents = sent.loc[(sent['NER'] == 1)]\n",
        "\n",
        "      # если нет анафоров, продолжать не имеет смысла\n",
        "      \n",
        "      if not list(current_anaphors.TOKEN):\n",
        "        continue\n",
        "\n",
        "      # если в предложении есть один антецедент, самый простой случай\n",
        "      if len(list(current_antecedents.TOKEN)) == 1:\n",
        "        for anfr in current_anaphors.values:\n",
        "          # проверяем сходимость по числу\n",
        "          if anfr[-4] == current_antecedents.NUMBER.values[0]:\n",
        "            # добавляем в список размеченный класс\n",
        "            ann_clusters.append(anfr[-5])\n",
        "            # и класс который определило правило(антецедента из предложения)\n",
        "            my_clusters.append(current_antecedents.TOKEN_NUM.values[0])\n",
        "          else:\n",
        "            # в противном случае присваиваем нулевой класс\n",
        "            ann_clusters.append(anfr[-5])\n",
        "            # и класс, который определило правило(антецедента из предложения)\n",
        "            my_clusters.append(0.0)\n",
        "\n",
        "      # если больше одного!!\n",
        "          \n",
        "      # если в предложении его нет =(\n",
        "      if len(list(current_antecedents.TOKEN)) == 0:\n",
        "        # ищем в посте в предложениях выше\n",
        "        post = df.loc[(df['TOPIC_NUM'] == topic_num) \\\n",
        "                      & (df['POST_NUM'] == post_num) \\\n",
        "                      & (df['SENT_NUM'] <= sent_num)]\n",
        "\n",
        "        current_antecedents = post.loc[(post['NER'] == 1) ]\n",
        "\n",
        "        # если его нету в посте, выбираем первый же антецедент из предыдущих постов\n",
        "        # топика(сверху вниз)\n",
        "        if not list(current_antecedents.TOKEN):\n",
        "          topic = df.loc[(df['TOPIC_NUM'] == topic_num) \\\n",
        "                        & (df['POST_NUM'] <= post_num) \\\n",
        "                        & (df['SENT_NUM'] <= sent_num)]\n",
        "          current_antecedents = topic.loc[(topic['NER'] == 1) ]\n",
        "\n",
        "          # это можно убрать в отдельную функцию\n",
        "          for anfr in current_anaphors.values:\n",
        "            # проверяем сходимость по числу\n",
        "            try:\n",
        "              if anfr[-4] == current_antecedents.NUMBER.values[0]:\n",
        "                # добавляем в список размеченный класс\n",
        "                ann_clusters.append(anfr[-5])\n",
        "                # и класс который определило правило(антецедента из предложения)\n",
        "                my_clusters.append(current_antecedents.TOKEN_NUM.values[0])\n",
        "                # print(ann_clusters, my_clusters, 'am I here?')\n",
        "              else:\n",
        "                # в противном случае присваиваем нулевой класс\n",
        "                ann_clusters.append(anfr[-5])\n",
        "                # и класс, который определило правило(антецедента из предложения)\n",
        "                my_clusters.append(0.0)\n",
        "            # потом разберусь\n",
        "            except IndexError:\n",
        "              my_clusters.append(0.0)\n",
        "              ann_clusters.append(anfr[-5])\n",
        "              \n",
        "\n",
        "        # если антецедент есть в посте раньше, выбираем первый с конца [::-1]\n",
        "        else:\n",
        "          # это можно убрать в отдельную функцию\n",
        "          for anfr in current_anaphors.values:\n",
        "            # проверяем сходимость по числу\n",
        "            if anfr[-4] == current_antecedents.NUMBER.values[-1]:\n",
        "              # добавляем в список размеченный класс\n",
        "              ann_clusters.append(anfr[-5])\n",
        "              # и класс который определило правило(антецедента из предложения)\n",
        "              my_clusters.append(current_antecedents.TOKEN_NUM.values[-1])\n",
        "\n",
        "            else:\n",
        "              # в противном случае присваиваем нулевой класс\n",
        "              ann_clusters.append(anfr[-5])\n",
        "              # и класс, который определило правило(антецедента из предложения)\n",
        "              my_clusters.append(0.0)\n",
        "\n",
        "\n",
        "\n",
        "\n",
        "\n",
        "\n",
        "      # print(list(current_anaphors.TOKEN), list(current_anaphors.TOKEN), list(current_anaphors.COREFERENCE_CLUSTER) )\n",
        "      # print(list(current_antecedents.TOKEN), list(current_antecedents.TOKEN), list(current_antecedents.COREFERENCE_CLUSTER) )\n",
        "print(my_clusters)\n",
        "print('---')\n",
        "print(ann_clusters)\n",
        "print('---')\n",
        "\n",
        "\n",
        "\n"
      ],
      "execution_count": 57,
      "outputs": [
        {
          "output_type": "stream",
          "text": [
            "[2.0, 0.0, 0.0, 344.0, 2.0, 2.0, 2.0, 2.0, 540.0, 11.0, 11.0, 46.0, 108.0, 108.0, 182.0, 182.0, 182.0, 182.0, 375.0, 434.0, 461.0, 658.0, 658.0, 693.0, 755.0, 755.0, 829.0, 829.0, 829.0, 829.0, 1022.0, 1081.0, 1081.0, 1142.0, 26.0, 0.0, 0.0, 0.0, 183.0, 0.0, 0.0, 0.0, 2.0, 2.0, 830.0, 0.0, 0.0, 987.0, 0.0, 0.0, 0.0, 1750.0, 1750.0, 1844.0, 0.0, 2031.0, 2053.0, 0.0, 2058.0, 2156.0, 0.0, 2344.0, 2.0, 0.0, 2711.0, 2711.0, 2766.0, 2766.0, 2766.0, 0.0, 2.0, 0.0, 3125.0, 3125.0, 3270.0, 3350.0, 3350.0, 0.0, 0.0, 0.0, 3619.0, 0.0, 2.0, 5.0, 5.0, 2.0, 114.0, 0.0, 174.0, 0.0, 0.0, 0.0, 287.0, 0.0, 287.0, 287.0, 365.0, 365.0, 0.0, 0.0, 449.0, 0.0, 449.0, 449.0, 527.0, 527.0, 0.0, 0.0, 0.0, 0.0, 0.0, 27.0, 41.0, 41.0, 41.0, 2.0, 2.0, 135.0, 135.0, 0.0, 256.0, 270.0, 270.0, 270.0, 2.0, 2.0, 2.0, 482.0, 482.0, 521.0, 521.0, 521.0, 521.0, 0.0, 0.0, 0.0, 0.0, 786.0, 805.0, 805.0, 870.0, 0.0, 965.0, 965.0, 2.0, 2.0, 2.0, 0.0, 0.0, 0.0, 0.0, 0.0, 0.0, 0.0, 0.0, 2.0, 1455.0, 1516.0, 1609.0, 1657.0, 1722.0, 1770.0, 0.0, 0.0, 0.0, 1905.0, 0.0, 0.0, 2071.0, 0.0, 0.0, 164.0, 0.0, 0.0, 164.0, 164.0, 0.0, 293.0, 0.0, 337.0, 0.0, 410.0, 0.0, 534.0, 0.0, 0.0, 534.0, 663.0, 663.0, 0.0, 0.0, 707.0, 707.0, 0.0, 707.0, 801.0, 0.0, 881.0, 935.0, 0.0, 0.0, 0.0, 1350.0, 0.0, 980.0, 0.0, 0.0, 0.0, 0.0, 980.0, 0.0, 980.0, 980.0, 0.0, 1.0, 243.0, 243.0, 0.0, 0.0, 6.0, 0.0, 0.0, 0.0, 0.0, 0.0, 0.0, 0.0, 0.0, 27.0, 0.0, 0.0, 0.0, 0.0, 0.0, 0.0, 0.0, 122.0, 165.0, 165.0, 263.0, 0.0, 513.0, 556.0, 654.0, 790.0, 813.0, 813.0, 813.0, 0.0, 0.0, 0.0, 0.0, 0.0, 0.0, 0.0, 1080.0, 0.0, 0.0, 0.0, 0.0, 0.0, 0.0, 0.0, 0.0, 0.0, 1696.0, 1757.0, 0.0, 1867.0, 1916.0, 0.0, 2138.0, 2295.0]\n",
            "---\n",
            "[0.0, 0.0, 0.0, 344.0, 2.0, 2.0, 2.0, 2.0, 536.0, 11.0, 11.0, 0.0, 108.0, 108.0, 182.0, 182.0, 182.0, 182.0, 375.0, 434.0, 0.0, 658.0, 658.0, 0.0, 755.0, 755.0, 829.0, 829.0, 829.0, 829.0, 1022.0, 1081.0, 1081.0, 1162.0, 26.0, 183.0, 183.0, 183.0, 183.0, 183.0, 388.0, 388.0, 446.0, 446.0, 830.0, 987.0, 987.0, 987.0, 0.0, 3.0, 1684.0, 1750.0, 1750.0, 0.0, 0.0, 2031.0, 2053.0, 2058.0, 2058.0, 2156.0, 2344.0, 0.0, 2488.0, 3.0, 2711.0, 2711.0, 2766.0, 2766.0, 2766.0, 0.0, 0.0, 3.0, 3125.0, 3125.0, 3270.0, 3350.0, 3350.0, 0.0, 3401.0, 3401.0, 3619.0, 0.0, 2.0, 5.0, 5.0, 5.0, 96.0, 0.0, 156.0, 0.0, 0.0, 0.0, 287.0, 287.0, 287.0, 287.0, 365.0, 367.0, 0.0, 0.0, 449.0, 449.0, 449.0, 449.0, 527.0, 527.0, 0.0, 0.0, 0.0, 0.0, 0.0, 27.0, 41.0, 41.0, 41.0, 41.0, 90.0, 135.0, 135.0, 0.0, 256.0, 270.0, 270.0, 270.0, 270.0, 319.0, 341.0, 482.0, 482.0, 507.0, 521.0, 521.0, 521.0, 521.0, 0.0, 659.0, 659.0, 786.0, 805.0, 805.0, 870.0, 0.0, 0.0, 0.0, 3.0, 0.0, 0.0, 0.0, 0.0, 1262.0, 1277.0, 0.0, 0.0, 0.0, 0.0, 0.0, 1455.0, 1516.0, 1609.0, 1657.0, 1722.0, 1770.0, 0.0, 1884.0, 1884.0, 0.0, 0.0, 0.0, 0.0, 37.0, 0.0, 164.0, 0.0, 192.0, 0.0, 0.0, 293.0, 293.0, 0.0, 0.0, 0.0, 0.0, 0.0, 534.0, 0.0, 0.0, 0.0, 0.0, 663.0, 0.0, 707.0, 735.0, 0.0, 0.0, 766.0, 790.0, 809.0, 881.0, 0.0, 0.0, 0.0, 0.0, 0.0, 0.0, 0.0, 0.0, 0.0, 0.0, 0.0, 0.0, 0.0, 0.0, 0.0, 0.0, 1.0, 243.0, 243.0, 0.0, 0.0, 0.0, 61.0, 61.0, 116.0, 116.0, 133.0, 176.0, 288.0, 288.0, 0.0, 27.0, 27.0, 27.0, 27.0, 27.0, 27.0, 0.0, 122.0, 0.0, 165.0, 263.0, 403.0, 513.0, 564.0, 654.0, 780.0, 803.0, 803.0, 803.0, 803.0, 803.0, 0.0, 0.0, 0.0, 0.0, 0.0, 1098.0, 0.0, 0.0, 1165.0, 0.0, 1342.0, 0.0, 0.0, 1432.0, 0.0, 0.0, 1757.0, 0.0, 1867.0, 0.0, 0.0, 2138.0, 2295.0]\n",
            "---\n"
          ],
          "name": "stdout"
        }
      ]
    },
    {
      "cell_type": "code",
      "metadata": {
        "colab": {
          "base_uri": "https://localhost:8080/"
        },
        "id": "po5u9ei4qc7B",
        "outputId": "98637a13-0b24-4ae1-edb0-9403c2b42ccd"
      },
      "source": [
        "print(len(my_clusters), len(ann_clusters))"
      ],
      "execution_count": 58,
      "outputs": [
        {
          "output_type": "stream",
          "text": [
            "273 273\n"
          ],
          "name": "stdout"
        }
      ]
    },
    {
      "cell_type": "code",
      "metadata": {
        "colab": {
          "base_uri": "https://localhost:8080/"
        },
        "id": "Vna3syCXraJg",
        "outputId": "8e9d7dd2-3e67-4168-8ae5-b78c043c1dbd"
      },
      "source": [
        "range(len(my_clusters)), range(len(ann_clusters))"
      ],
      "execution_count": 59,
      "outputs": [
        {
          "output_type": "execute_result",
          "data": {
            "text/plain": [
              "(range(0, 273), range(0, 273))"
            ]
          },
          "metadata": {
            "tags": []
          },
          "execution_count": 59
        }
      ]
    },
    {
      "cell_type": "code",
      "metadata": {
        "colab": {
          "base_uri": "https://localhost:8080/"
        },
        "id": "SF7-1rhFonGC",
        "outputId": "5ef96c59-06cb-46b1-b83b-0ed86718bd92"
      },
      "source": [
        "rule_eval(my_clusters, ann_clusters)"
      ],
      "execution_count": 60,
      "outputs": [
        {
          "output_type": "stream",
          "text": [
            "101  true positive\n",
            "57  false positive\n",
            "65  true negative\n",
            "50  false negative\n",
            "---------\n",
            "0.6392405063291139  presicion\n",
            "0.6688741721854304  recall\n",
            "0.6537216828478964  f-score\n"
          ],
          "name": "stdout"
        }
      ]
    },
    {
      "cell_type": "code",
      "metadata": {
        "id": "ic1_rxtCeLXe"
      },
      "source": [
        ""
      ],
      "execution_count": 60,
      "outputs": []
    },
    {
      "cell_type": "code",
      "metadata": {
        "colab": {
          "base_uri": "https://localhost:8080/",
          "height": 427
        },
        "id": "r0BCnXXJZtNW",
        "outputId": "e2cc91ef-0c9f-447a-e293-d1763ed60df6"
      },
      "source": [
        "df.loc[df['SENT_NUM'] != 0.0]"
      ],
      "execution_count": 61,
      "outputs": [
        {
          "output_type": "execute_result",
          "data": {
            "text/html": [
              "<div>\n",
              "<style scoped>\n",
              "    .dataframe tbody tr th:only-of-type {\n",
              "        vertical-align: middle;\n",
              "    }\n",
              "\n",
              "    .dataframe tbody tr th {\n",
              "        vertical-align: top;\n",
              "    }\n",
              "\n",
              "    .dataframe thead th {\n",
              "        text-align: right;\n",
              "    }\n",
              "</style>\n",
              "<table border=\"1\" class=\"dataframe\">\n",
              "  <thead>\n",
              "    <tr style=\"text-align: right;\">\n",
              "      <th></th>\n",
              "      <th>TOKEN</th>\n",
              "      <th>IS_ANSWER</th>\n",
              "      <th>TOPIC_NUM</th>\n",
              "      <th>POST_NUM</th>\n",
              "      <th>SENT_NUM</th>\n",
              "      <th>TOKEN_NUM</th>\n",
              "      <th>ANIMACY</th>\n",
              "      <th>CASE</th>\n",
              "      <th>GENDER</th>\n",
              "      <th>PERSON</th>\n",
              "      <th>POS</th>\n",
              "      <th>DEPENDENCY</th>\n",
              "      <th>HEAD</th>\n",
              "      <th>HEAD_ANIMACY</th>\n",
              "      <th>HEAD_CASE</th>\n",
              "      <th>HEAD_GENDER</th>\n",
              "      <th>HEAD_POS</th>\n",
              "      <th>NER</th>\n",
              "      <th>COREFERENCE_CLUSTER</th>\n",
              "      <th>NUMBER</th>\n",
              "      <th>TOKEN_VECT</th>\n",
              "      <th>HEAD_VECT</th>\n",
              "      <th>SENT_VECT</th>\n",
              "    </tr>\n",
              "  </thead>\n",
              "  <tbody>\n",
              "    <tr>\n",
              "      <th>11</th>\n",
              "      <td>у</td>\n",
              "      <td>0</td>\n",
              "      <td>1</td>\n",
              "      <td>1.0</td>\n",
              "      <td>1.0</td>\n",
              "      <td>11.0</td>\n",
              "      <td>NaN</td>\n",
              "      <td>NaN</td>\n",
              "      <td>NaN</td>\n",
              "      <td>NaN</td>\n",
              "      <td>PREP</td>\n",
              "      <td>case</td>\n",
              "      <td>меня</td>\n",
              "      <td>NaN</td>\n",
              "      <td>accs</td>\n",
              "      <td>NaN</td>\n",
              "      <td>NPRO</td>\n",
              "      <td>0</td>\n",
              "      <td>0.0</td>\n",
              "      <td>NaN</td>\n",
              "      <td>0.481519</td>\n",
              "      <td>0.420024</td>\n",
              "      <td>0.976057</td>\n",
              "    </tr>\n",
              "    <tr>\n",
              "      <th>12</th>\n",
              "      <td>меня</td>\n",
              "      <td>0</td>\n",
              "      <td>1</td>\n",
              "      <td>1.0</td>\n",
              "      <td>1.0</td>\n",
              "      <td>12.0</td>\n",
              "      <td>NaN</td>\n",
              "      <td>accs</td>\n",
              "      <td>NaN</td>\n",
              "      <td>1per</td>\n",
              "      <td>NPRO</td>\n",
              "      <td>obl</td>\n",
              "      <td>нет</td>\n",
              "      <td>NaN</td>\n",
              "      <td>NaN</td>\n",
              "      <td>NaN</td>\n",
              "      <td>PRED</td>\n",
              "      <td>0</td>\n",
              "      <td>0.0</td>\n",
              "      <td>sing</td>\n",
              "      <td>0.482882</td>\n",
              "      <td>0.515091</td>\n",
              "      <td>0.976057</td>\n",
              "    </tr>\n",
              "    <tr>\n",
              "      <th>13</th>\n",
              "      <td>практически</td>\n",
              "      <td>0</td>\n",
              "      <td>1</td>\n",
              "      <td>1.0</td>\n",
              "      <td>1.0</td>\n",
              "      <td>13.0</td>\n",
              "      <td>NaN</td>\n",
              "      <td>NaN</td>\n",
              "      <td>NaN</td>\n",
              "      <td>NaN</td>\n",
              "      <td>ADVB</td>\n",
              "      <td>advmod</td>\n",
              "      <td>нет</td>\n",
              "      <td>NaN</td>\n",
              "      <td>NaN</td>\n",
              "      <td>NaN</td>\n",
              "      <td>PRED</td>\n",
              "      <td>0</td>\n",
              "      <td>0.0</td>\n",
              "      <td>NaN</td>\n",
              "      <td>0.521414</td>\n",
              "      <td>0.515091</td>\n",
              "      <td>0.976057</td>\n",
              "    </tr>\n",
              "    <tr>\n",
              "      <th>14</th>\n",
              "      <td>нет</td>\n",
              "      <td>0</td>\n",
              "      <td>1</td>\n",
              "      <td>1.0</td>\n",
              "      <td>1.0</td>\n",
              "      <td>14.0</td>\n",
              "      <td>NaN</td>\n",
              "      <td>NaN</td>\n",
              "      <td>NaN</td>\n",
              "      <td>NaN</td>\n",
              "      <td>PRED</td>\n",
              "      <td>ROOT</td>\n",
              "      <td>нет</td>\n",
              "      <td>NaN</td>\n",
              "      <td>NaN</td>\n",
              "      <td>NaN</td>\n",
              "      <td>PRED</td>\n",
              "      <td>0</td>\n",
              "      <td>0.0</td>\n",
              "      <td>NaN</td>\n",
              "      <td>0.474732</td>\n",
              "      <td>0.515091</td>\n",
              "      <td>0.976057</td>\n",
              "    </tr>\n",
              "    <tr>\n",
              "      <th>15</th>\n",
              "      <td>никаких</td>\n",
              "      <td>0</td>\n",
              "      <td>1</td>\n",
              "      <td>1.0</td>\n",
              "      <td>1.0</td>\n",
              "      <td>15.0</td>\n",
              "      <td>NaN</td>\n",
              "      <td>gent</td>\n",
              "      <td>NaN</td>\n",
              "      <td>NaN</td>\n",
              "      <td>ADJF</td>\n",
              "      <td>det</td>\n",
              "      <td>проблем</td>\n",
              "      <td>inan</td>\n",
              "      <td>gent</td>\n",
              "      <td>femn</td>\n",
              "      <td>NOUN</td>\n",
              "      <td>0</td>\n",
              "      <td>0.0</td>\n",
              "      <td>plur</td>\n",
              "      <td>0.440604</td>\n",
              "      <td>0.549104</td>\n",
              "      <td>0.976057</td>\n",
              "    </tr>\n",
              "    <tr>\n",
              "      <th>...</th>\n",
              "      <td>...</td>\n",
              "      <td>...</td>\n",
              "      <td>...</td>\n",
              "      <td>...</td>\n",
              "      <td>...</td>\n",
              "      <td>...</td>\n",
              "      <td>...</td>\n",
              "      <td>...</td>\n",
              "      <td>...</td>\n",
              "      <td>...</td>\n",
              "      <td>...</td>\n",
              "      <td>...</td>\n",
              "      <td>...</td>\n",
              "      <td>...</td>\n",
              "      <td>...</td>\n",
              "      <td>...</td>\n",
              "      <td>...</td>\n",
              "      <td>...</td>\n",
              "      <td>...</td>\n",
              "      <td>...</td>\n",
              "      <td>...</td>\n",
              "      <td>...</td>\n",
              "      <td>...</td>\n",
              "    </tr>\n",
              "    <tr>\n",
              "      <th>14972</th>\n",
              "      <td>только</td>\n",
              "      <td>0</td>\n",
              "      <td>16</td>\n",
              "      <td>1.0</td>\n",
              "      <td>5.0</td>\n",
              "      <td>38.0</td>\n",
              "      <td>NaN</td>\n",
              "      <td>NaN</td>\n",
              "      <td>NaN</td>\n",
              "      <td>NaN</td>\n",
              "      <td>ADVB</td>\n",
              "      <td>advmod</td>\n",
              "      <td>температура</td>\n",
              "      <td>inan</td>\n",
              "      <td>nomn</td>\n",
              "      <td>femn</td>\n",
              "      <td>NOUN</td>\n",
              "      <td>0</td>\n",
              "      <td>0.0</td>\n",
              "      <td>NaN</td>\n",
              "      <td>0.440661</td>\n",
              "      <td>0.348221</td>\n",
              "      <td>0.944387</td>\n",
              "    </tr>\n",
              "    <tr>\n",
              "      <th>14973</th>\n",
              "      <td>температура</td>\n",
              "      <td>0</td>\n",
              "      <td>16</td>\n",
              "      <td>1.0</td>\n",
              "      <td>5.0</td>\n",
              "      <td>39.0</td>\n",
              "      <td>inan</td>\n",
              "      <td>nomn</td>\n",
              "      <td>femn</td>\n",
              "      <td>NaN</td>\n",
              "      <td>NOUN</td>\n",
              "      <td>nsubj</td>\n",
              "      <td>была</td>\n",
              "      <td>NaN</td>\n",
              "      <td>NaN</td>\n",
              "      <td>femn</td>\n",
              "      <td>VERB</td>\n",
              "      <td>0</td>\n",
              "      <td>0.0</td>\n",
              "      <td>sing</td>\n",
              "      <td>0.401526</td>\n",
              "      <td>0.440228</td>\n",
              "      <td>0.944387</td>\n",
              "    </tr>\n",
              "    <tr>\n",
              "      <th>14974</th>\n",
              "      <td>после</td>\n",
              "      <td>0</td>\n",
              "      <td>16</td>\n",
              "      <td>1.0</td>\n",
              "      <td>5.0</td>\n",
              "      <td>40.0</td>\n",
              "      <td>NaN</td>\n",
              "      <td>NaN</td>\n",
              "      <td>NaN</td>\n",
              "      <td>NaN</td>\n",
              "      <td>PREP</td>\n",
              "      <td>case</td>\n",
              "      <td>прививки</td>\n",
              "      <td>inan</td>\n",
              "      <td>gent</td>\n",
              "      <td>femn</td>\n",
              "      <td>NOUN</td>\n",
              "      <td>0</td>\n",
              "      <td>0.0</td>\n",
              "      <td>NaN</td>\n",
              "      <td>0.439660</td>\n",
              "      <td>0.534284</td>\n",
              "      <td>0.944387</td>\n",
              "    </tr>\n",
              "    <tr>\n",
              "      <th>14975</th>\n",
              "      <td>второй</td>\n",
              "      <td>0</td>\n",
              "      <td>16</td>\n",
              "      <td>1.0</td>\n",
              "      <td>5.0</td>\n",
              "      <td>41.0</td>\n",
              "      <td>NaN</td>\n",
              "      <td>gent</td>\n",
              "      <td>femn</td>\n",
              "      <td>NaN</td>\n",
              "      <td>ADJF</td>\n",
              "      <td>amod</td>\n",
              "      <td>прививки</td>\n",
              "      <td>inan</td>\n",
              "      <td>gent</td>\n",
              "      <td>femn</td>\n",
              "      <td>NOUN</td>\n",
              "      <td>0</td>\n",
              "      <td>0.0</td>\n",
              "      <td>sing</td>\n",
              "      <td>0.525459</td>\n",
              "      <td>0.534284</td>\n",
              "      <td>0.944387</td>\n",
              "    </tr>\n",
              "    <tr>\n",
              "      <th>14976</th>\n",
              "      <td>прививки</td>\n",
              "      <td>0</td>\n",
              "      <td>16</td>\n",
              "      <td>1.0</td>\n",
              "      <td>5.0</td>\n",
              "      <td>42.0</td>\n",
              "      <td>inan</td>\n",
              "      <td>gent</td>\n",
              "      <td>femn</td>\n",
              "      <td>NaN</td>\n",
              "      <td>NOUN</td>\n",
              "      <td>nmod</td>\n",
              "      <td>температура</td>\n",
              "      <td>inan</td>\n",
              "      <td>nomn</td>\n",
              "      <td>femn</td>\n",
              "      <td>NOUN</td>\n",
              "      <td>0</td>\n",
              "      <td>0.0</td>\n",
              "      <td>sing</td>\n",
              "      <td>0.560770</td>\n",
              "      <td>0.348221</td>\n",
              "      <td>0.944387</td>\n",
              "    </tr>\n",
              "  </tbody>\n",
              "</table>\n",
              "<p>12065 rows × 23 columns</p>\n",
              "</div>"
            ],
            "text/plain": [
              "             TOKEN IS_ANSWER  TOPIC_NUM  ...  TOKEN_VECT  HEAD_VECT  SENT_VECT\n",
              "11               у         0          1  ...    0.481519   0.420024   0.976057\n",
              "12            меня         0          1  ...    0.482882   0.515091   0.976057\n",
              "13     практически         0          1  ...    0.521414   0.515091   0.976057\n",
              "14             нет         0          1  ...    0.474732   0.515091   0.976057\n",
              "15         никаких         0          1  ...    0.440604   0.549104   0.976057\n",
              "...            ...       ...        ...  ...         ...        ...        ...\n",
              "14972       только         0         16  ...    0.440661   0.348221   0.944387\n",
              "14973  температура         0         16  ...    0.401526   0.440228   0.944387\n",
              "14974        после         0         16  ...    0.439660   0.534284   0.944387\n",
              "14975       второй         0         16  ...    0.525459   0.534284   0.944387\n",
              "14976     прививки         0         16  ...    0.560770   0.348221   0.944387\n",
              "\n",
              "[12065 rows x 23 columns]"
            ]
          },
          "metadata": {
            "tags": []
          },
          "execution_count": 61
        }
      ]
    },
    {
      "cell_type": "code",
      "metadata": {
        "colab": {
          "base_uri": "https://localhost:8080/"
        },
        "id": "HD8UKo2MWT0A",
        "outputId": "92fb3937-de9b-4f63-b614-48d4c46c2c3e"
      },
      "source": [
        "for i in range(len(df)):\n",
        "  current_raw = df.iloc[[i]].loc[df['NER'] != 0.0]\n",
        "  print(current_raw)\n",
        "  if i == 3:\n",
        "    break"
      ],
      "execution_count": 62,
      "outputs": [
        {
          "output_type": "stream",
          "text": [
            "Empty DataFrame\n",
            "Columns: [TOKEN, IS_ANSWER, TOPIC_NUM, POST_NUM, SENT_NUM, TOKEN_NUM, ANIMACY, CASE, GENDER, PERSON, POS, DEPENDENCY, HEAD, HEAD_ANIMACY, HEAD_CASE, HEAD_GENDER, HEAD_POS, NER, COREFERENCE_CLUSTER, NUMBER, TOKEN_VECT, HEAD_VECT, SENT_VECT]\n",
            "Index: []\n",
            "Empty DataFrame\n",
            "Columns: [TOKEN, IS_ANSWER, TOPIC_NUM, POST_NUM, SENT_NUM, TOKEN_NUM, ANIMACY, CASE, GENDER, PERSON, POS, DEPENDENCY, HEAD, HEAD_ANIMACY, HEAD_CASE, HEAD_GENDER, HEAD_POS, NER, COREFERENCE_CLUSTER, NUMBER, TOKEN_VECT, HEAD_VECT, SENT_VECT]\n",
            "Index: []\n",
            "        TOKEN IS_ANSWER  TOPIC_NUM  ...  TOKEN_VECT  HEAD_VECT  SENT_VECT\n",
            "2  рисперидон         0          1  ...    0.788884   0.888401   0.976057\n",
            "\n",
            "[1 rows x 23 columns]\n",
            "       TOKEN IS_ANSWER  TOPIC_NUM  ...  TOKEN_VECT  HEAD_VECT  SENT_VECT\n",
            "3  рисполепт         0          1  ...    0.817054   0.552653   0.976057\n",
            "\n",
            "[1 rows x 23 columns]\n"
          ],
          "name": "stdout"
        }
      ]
    },
    {
      "cell_type": "code",
      "metadata": {
        "id": "UN4yqiqvYIQH"
      },
      "source": [
        ""
      ],
      "execution_count": 62,
      "outputs": []
    },
    {
      "cell_type": "code",
      "metadata": {
        "id": "Yi_RBPf0YISt"
      },
      "source": [
        ""
      ],
      "execution_count": 62,
      "outputs": []
    },
    {
      "cell_type": "code",
      "metadata": {
        "id": "26QqspXcYIU3"
      },
      "source": [
        ""
      ],
      "execution_count": 62,
      "outputs": []
    },
    {
      "cell_type": "markdown",
      "metadata": {
        "id": "XZo_bJR6uuvc"
      },
      "source": [
        "# **МОДЕЛИ.**"
      ]
    },
    {
      "cell_type": "markdown",
      "metadata": {
        "id": "qrdNCMTOu1P0"
      },
      "source": [
        "Факторизуем троковые данные, чтобы вместо строковых представлений классов были численные."
      ]
    },
    {
      "cell_type": "code",
      "metadata": {
        "colab": {
          "base_uri": "https://localhost:8080/"
        },
        "id": "hn2LX9ViO9i0",
        "outputId": "d20fe9c2-cee9-4dbb-a44b-81b396084732"
      },
      "source": [
        "for_factorize = 'ANIMACY\tCASE\tGENDER\tPERSON\tPOS\tDEPENDENCY\tHEAD\tHEAD_ANIMACY\tHEAD_CASE\tHEAD_GENDER\tHEAD_POS'.split()\n",
        "for_factorize"
      ],
      "execution_count": 63,
      "outputs": [
        {
          "output_type": "execute_result",
          "data": {
            "text/plain": [
              "['ANIMACY',\n",
              " 'CASE',\n",
              " 'GENDER',\n",
              " 'PERSON',\n",
              " 'POS',\n",
              " 'DEPENDENCY',\n",
              " 'HEAD',\n",
              " 'HEAD_ANIMACY',\n",
              " 'HEAD_CASE',\n",
              " 'HEAD_GENDER',\n",
              " 'HEAD_POS']"
            ]
          },
          "metadata": {
            "tags": []
          },
          "execution_count": 63
        }
      ]
    },
    {
      "cell_type": "code",
      "metadata": {
        "colab": {
          "base_uri": "https://localhost:8080/"
        },
        "id": "MuTn5rTEPJq1",
        "outputId": "cffb31b3-3599-43f9-d769-1f435adc96ec"
      },
      "source": [
        "_, lbl = pd.factorize(df.ANIMACY)\n",
        "print(lbl, )\n",
        "_"
      ],
      "execution_count": 64,
      "outputs": [
        {
          "output_type": "stream",
          "text": [
            "Index(['inan', 'anim'], dtype='object')\n"
          ],
          "name": "stdout"
        },
        {
          "output_type": "execute_result",
          "data": {
            "text/plain": [
              "array([-1,  0,  1, ..., -1, -1,  0])"
            ]
          },
          "metadata": {
            "tags": []
          },
          "execution_count": 64
        }
      ]
    },
    {
      "cell_type": "markdown",
      "metadata": {
        "id": "okLj0sOex6rt"
      },
      "source": [
        "Делаем словарь с маппингом, чтобы можно было достать нужное значение по индексу. В значении -1 хранится None"
      ]
    },
    {
      "cell_type": "code",
      "metadata": {
        "colab": {
          "base_uri": "https://localhost:8080/"
        },
        "id": "QoqDVz2lQjmV",
        "outputId": "b54c8ff1-3949-4689-cc59-4b21b141806e"
      },
      "source": [
        "mapping_dict = {}\n",
        "for col_name in for_factorize:\n",
        "  col, lbl = pd.factorize(df[col_name])\n",
        "  df[col_name] = col\n",
        "  mapping_dict[col_name] = lbl\n",
        "mapping_dict  "
      ],
      "execution_count": 65,
      "outputs": [
        {
          "output_type": "stream",
          "text": [
            "/usr/local/lib/python3.7/dist-packages/ipykernel_launcher.py:4: SettingWithCopyWarning: \n",
            "A value is trying to be set on a copy of a slice from a DataFrame.\n",
            "Try using .loc[row_indexer,col_indexer] = value instead\n",
            "\n",
            "See the caveats in the documentation: https://pandas.pydata.org/pandas-docs/stable/user_guide/indexing.html#returning-a-view-versus-a-copy\n",
            "  after removing the cwd from sys.path.\n"
          ],
          "name": "stderr"
        },
        {
          "output_type": "execute_result",
          "data": {
            "text/plain": [
              "{'ANIMACY': Index(['inan', 'anim'], dtype='object'),\n",
              " 'CASE': Index(['nomn', 'gent', 'datv', 'accs', 'loct', 'ablt', 'loc2', 'voct', 'gen2'], dtype='object'),\n",
              " 'DEPENDENCY': Index(['ROOT', 'obj', 'appos', 'parataxis', 'conj', 'advmod', 'ccomp', 'iobj',\n",
              "        'csubj', 'case', 'obl', 'det', 'nsubj', 'cc', 'discourse', 'fixed',\n",
              "        'mark', 'amod', 'advcl', 'xcomp', 'nummod', 'nmod', 'nsubj:pass',\n",
              "        'nummod:gov', 'cop', 'acl:relcl', 'acl', 'aux', 'flat:foreign', 'punct',\n",
              "        'obl:agent', 'flat', 'aux:pass', 'orphan', 'expl', 'csubj:pass'],\n",
              "       dtype='object'),\n",
              " 'GENDER': Index(['masc', 'femn', 'neut'], dtype='object'),\n",
              " 'HEAD': Index(['обсуждаем', 'препарат', 'рисперидон', 'рисполепт', 'знаю', 'стоило',\n",
              "        'меня', 'нет', 'проблем', 'лекарством',\n",
              "        ...\n",
              "        'привился', 'прививки', 'решать', 'неизвестно', 'быстро', 'проводились',\n",
              "        'испытания', 'аукнется', 'вакцина', 'организме'],\n",
              "       dtype='object', length=2514),\n",
              " 'HEAD_ANIMACY': Index(['inan', 'anim', '\"'], dtype='object'),\n",
              " 'HEAD_CASE': Index(['nomn', 'gent', 'accs', 'ablt', 'datv', 'loct', 'loc2', 'voct'], dtype='object'),\n",
              " 'HEAD_GENDER': Index(['masc', 'femn', 'neut'], dtype='object'),\n",
              " 'HEAD_POS': Index(['VERB', 'NOUN', 'NPRO', 'PRED', 'PREP', 'INFN', 'PRTS', 'GRND', 'ADJF',\n",
              "        'ADVB', 'PRCL', 'PRTF', 'CONJ', 'ADJS', 'COMP', 'INTJ', 'NUMR'],\n",
              "       dtype='object'),\n",
              " 'PERSON': Index(['1per', '3per', '2per'], dtype='object'),\n",
              " 'POS': Index(['VERB', 'NOUN', 'PRTS', 'PRCL', 'CONJ', 'NPRO', 'INFN', 'PREP', 'ADVB',\n",
              "        'PRED', 'ADJF', 'NUMR', 'GRND', 'COMP', 'PRTF', 'ADJS', 'INTJ'],\n",
              "       dtype='object')}"
            ]
          },
          "metadata": {
            "tags": []
          },
          "execution_count": 65
        }
      ]
    },
    {
      "cell_type": "code",
      "metadata": {
        "id": "pdg6Pp5wbx5Y"
      },
      "source": [
        "\n",
        "# labels_dict = {}\n",
        "# test_labels_dict = {}\n",
        "\n",
        "# for i in X.columns:\n",
        "#   X[i], lbl = pd.factorize(X[i])\n",
        "#   labels_dict[i] = lbl\n",
        "\n",
        "# for i in X_test.columns:\n",
        "#   X_test[i], lbl = pd.factorize(X_test[i])\n",
        "#   test_labels_dict[i] = lbl \n",
        "\n",
        "# y = cor_df['COREFERENCE_CLUSTER']\n",
        "# y, y_label = pd.factorize(y)\n",
        "\n",
        "# y_test = cor_df_test['COREFERENCE_CLUSTER']\n",
        "# y_test, y_test_label = pd.factorize(y_test)"
      ],
      "execution_count": 66,
      "outputs": []
    },
    {
      "cell_type": "code",
      "metadata": {
        "colab": {
          "base_uri": "https://localhost:8080/",
          "height": 427
        },
        "id": "FJxFPuolOm_y",
        "outputId": "d84d22dd-9589-4895-b51b-5f7d9179843b"
      },
      "source": [
        "df.loc[(df['NER'] == 1.0) | (df['NER'] == 2.0 )]"
      ],
      "execution_count": 67,
      "outputs": [
        {
          "output_type": "execute_result",
          "data": {
            "text/html": [
              "<div>\n",
              "<style scoped>\n",
              "    .dataframe tbody tr th:only-of-type {\n",
              "        vertical-align: middle;\n",
              "    }\n",
              "\n",
              "    .dataframe tbody tr th {\n",
              "        vertical-align: top;\n",
              "    }\n",
              "\n",
              "    .dataframe thead th {\n",
              "        text-align: right;\n",
              "    }\n",
              "</style>\n",
              "<table border=\"1\" class=\"dataframe\">\n",
              "  <thead>\n",
              "    <tr style=\"text-align: right;\">\n",
              "      <th></th>\n",
              "      <th>TOKEN</th>\n",
              "      <th>IS_ANSWER</th>\n",
              "      <th>TOPIC_NUM</th>\n",
              "      <th>POST_NUM</th>\n",
              "      <th>SENT_NUM</th>\n",
              "      <th>TOKEN_NUM</th>\n",
              "      <th>ANIMACY</th>\n",
              "      <th>CASE</th>\n",
              "      <th>GENDER</th>\n",
              "      <th>PERSON</th>\n",
              "      <th>POS</th>\n",
              "      <th>DEPENDENCY</th>\n",
              "      <th>HEAD</th>\n",
              "      <th>HEAD_ANIMACY</th>\n",
              "      <th>HEAD_CASE</th>\n",
              "      <th>HEAD_GENDER</th>\n",
              "      <th>HEAD_POS</th>\n",
              "      <th>NER</th>\n",
              "      <th>COREFERENCE_CLUSTER</th>\n",
              "      <th>NUMBER</th>\n",
              "      <th>TOKEN_VECT</th>\n",
              "      <th>HEAD_VECT</th>\n",
              "      <th>SENT_VECT</th>\n",
              "    </tr>\n",
              "  </thead>\n",
              "  <tbody>\n",
              "    <tr>\n",
              "      <th>2</th>\n",
              "      <td>рисперидон</td>\n",
              "      <td>0</td>\n",
              "      <td>1</td>\n",
              "      <td>0.0</td>\n",
              "      <td>0.0</td>\n",
              "      <td>2.0</td>\n",
              "      <td>1</td>\n",
              "      <td>0</td>\n",
              "      <td>0</td>\n",
              "      <td>-1</td>\n",
              "      <td>1</td>\n",
              "      <td>2</td>\n",
              "      <td>1</td>\n",
              "      <td>0</td>\n",
              "      <td>0</td>\n",
              "      <td>0</td>\n",
              "      <td>1</td>\n",
              "      <td>1</td>\n",
              "      <td>2.0</td>\n",
              "      <td>sing</td>\n",
              "      <td>0.788884</td>\n",
              "      <td>0.888401</td>\n",
              "      <td>0.976057</td>\n",
              "    </tr>\n",
              "    <tr>\n",
              "      <th>3</th>\n",
              "      <td>рисполепт</td>\n",
              "      <td>0</td>\n",
              "      <td>1</td>\n",
              "      <td>0.0</td>\n",
              "      <td>0.0</td>\n",
              "      <td>3.0</td>\n",
              "      <td>0</td>\n",
              "      <td>1</td>\n",
              "      <td>1</td>\n",
              "      <td>-1</td>\n",
              "      <td>1</td>\n",
              "      <td>3</td>\n",
              "      <td>2</td>\n",
              "      <td>1</td>\n",
              "      <td>0</td>\n",
              "      <td>0</td>\n",
              "      <td>1</td>\n",
              "      <td>1</td>\n",
              "      <td>3.0</td>\n",
              "      <td>plur</td>\n",
              "      <td>0.817054</td>\n",
              "      <td>0.552653</td>\n",
              "      <td>0.976057</td>\n",
              "    </tr>\n",
              "    <tr>\n",
              "      <th>4</th>\n",
              "      <td>сперидан</td>\n",
              "      <td>0</td>\n",
              "      <td>1</td>\n",
              "      <td>0.0</td>\n",
              "      <td>0.0</td>\n",
              "      <td>4.0</td>\n",
              "      <td>-1</td>\n",
              "      <td>-1</td>\n",
              "      <td>0</td>\n",
              "      <td>-1</td>\n",
              "      <td>2</td>\n",
              "      <td>4</td>\n",
              "      <td>3</td>\n",
              "      <td>0</td>\n",
              "      <td>1</td>\n",
              "      <td>1</td>\n",
              "      <td>1</td>\n",
              "      <td>1</td>\n",
              "      <td>4.0</td>\n",
              "      <td>sing</td>\n",
              "      <td>0.728285</td>\n",
              "      <td>0.625592</td>\n",
              "      <td>0.976057</td>\n",
              "    </tr>\n",
              "    <tr>\n",
              "      <th>21</th>\n",
              "      <td>лекарством</td>\n",
              "      <td>0</td>\n",
              "      <td>1</td>\n",
              "      <td>1.0</td>\n",
              "      <td>1.0</td>\n",
              "      <td>21.0</td>\n",
              "      <td>0</td>\n",
              "      <td>5</td>\n",
              "      <td>2</td>\n",
              "      <td>-1</td>\n",
              "      <td>1</td>\n",
              "      <td>4</td>\n",
              "      <td>7</td>\n",
              "      <td>-1</td>\n",
              "      <td>-1</td>\n",
              "      <td>-1</td>\n",
              "      <td>3</td>\n",
              "      <td>2</td>\n",
              "      <td>0.0</td>\n",
              "      <td>sing</td>\n",
              "      <td>0.454335</td>\n",
              "      <td>0.515091</td>\n",
              "      <td>0.976057</td>\n",
              "    </tr>\n",
              "    <tr>\n",
              "      <th>142</th>\n",
              "      <td>рисполепта</td>\n",
              "      <td>0</td>\n",
              "      <td>1</td>\n",
              "      <td>1.0</td>\n",
              "      <td>13.0</td>\n",
              "      <td>142.0</td>\n",
              "      <td>0</td>\n",
              "      <td>0</td>\n",
              "      <td>1</td>\n",
              "      <td>-1</td>\n",
              "      <td>1</td>\n",
              "      <td>21</td>\n",
              "      <td>69</td>\n",
              "      <td>0</td>\n",
              "      <td>2</td>\n",
              "      <td>1</td>\n",
              "      <td>1</td>\n",
              "      <td>1</td>\n",
              "      <td>142.0</td>\n",
              "      <td>sing</td>\n",
              "      <td>0.766231</td>\n",
              "      <td>0.481858</td>\n",
              "      <td>0.962897</td>\n",
              "    </tr>\n",
              "    <tr>\n",
              "      <th>...</th>\n",
              "      <td>...</td>\n",
              "      <td>...</td>\n",
              "      <td>...</td>\n",
              "      <td>...</td>\n",
              "      <td>...</td>\n",
              "      <td>...</td>\n",
              "      <td>...</td>\n",
              "      <td>...</td>\n",
              "      <td>...</td>\n",
              "      <td>...</td>\n",
              "      <td>...</td>\n",
              "      <td>...</td>\n",
              "      <td>...</td>\n",
              "      <td>...</td>\n",
              "      <td>...</td>\n",
              "      <td>...</td>\n",
              "      <td>...</td>\n",
              "      <td>...</td>\n",
              "      <td>...</td>\n",
              "      <td>...</td>\n",
              "      <td>...</td>\n",
              "      <td>...</td>\n",
              "      <td>...</td>\n",
              "    </tr>\n",
              "    <tr>\n",
              "      <th>14759</th>\n",
              "      <td>hifu</td>\n",
              "      <td>1</td>\n",
              "      <td>15</td>\n",
              "      <td>17.0</td>\n",
              "      <td>12.0</td>\n",
              "      <td>2167.0</td>\n",
              "      <td>-1</td>\n",
              "      <td>-1</td>\n",
              "      <td>-1</td>\n",
              "      <td>-1</td>\n",
              "      <td>-1</td>\n",
              "      <td>1</td>\n",
              "      <td>1903</td>\n",
              "      <td>-1</td>\n",
              "      <td>-1</td>\n",
              "      <td>-1</td>\n",
              "      <td>0</td>\n",
              "      <td>1</td>\n",
              "      <td>2167.0</td>\n",
              "      <td>NaN</td>\n",
              "      <td>0.535461</td>\n",
              "      <td>0.508761</td>\n",
              "      <td>0.947723</td>\n",
              "    </tr>\n",
              "    <tr>\n",
              "      <th>14807</th>\n",
              "      <td>абраксан</td>\n",
              "      <td>1</td>\n",
              "      <td>15</td>\n",
              "      <td>18.0</td>\n",
              "      <td>3.0</td>\n",
              "      <td>2215.0</td>\n",
              "      <td>1</td>\n",
              "      <td>1</td>\n",
              "      <td>1</td>\n",
              "      <td>-1</td>\n",
              "      <td>1</td>\n",
              "      <td>1</td>\n",
              "      <td>2480</td>\n",
              "      <td>-1</td>\n",
              "      <td>-1</td>\n",
              "      <td>-1</td>\n",
              "      <td>0</td>\n",
              "      <td>1</td>\n",
              "      <td>2215.0</td>\n",
              "      <td>plur</td>\n",
              "      <td>0.689645</td>\n",
              "      <td>0.408740</td>\n",
              "      <td>0.944387</td>\n",
              "    </tr>\n",
              "    <tr>\n",
              "      <th>14809</th>\n",
              "      <td>гемцитабином</td>\n",
              "      <td>1</td>\n",
              "      <td>15</td>\n",
              "      <td>18.0</td>\n",
              "      <td>3.0</td>\n",
              "      <td>2217.0</td>\n",
              "      <td>0</td>\n",
              "      <td>5</td>\n",
              "      <td>0</td>\n",
              "      <td>-1</td>\n",
              "      <td>1</td>\n",
              "      <td>21</td>\n",
              "      <td>2470</td>\n",
              "      <td>1</td>\n",
              "      <td>1</td>\n",
              "      <td>1</td>\n",
              "      <td>1</td>\n",
              "      <td>1</td>\n",
              "      <td>2217.0</td>\n",
              "      <td>sing</td>\n",
              "      <td>0.590692</td>\n",
              "      <td>0.514184</td>\n",
              "      <td>0.944387</td>\n",
              "    </tr>\n",
              "    <tr>\n",
              "      <th>14856</th>\n",
              "      <td>фолфиринокс</td>\n",
              "      <td>1</td>\n",
              "      <td>15</td>\n",
              "      <td>18.0</td>\n",
              "      <td>8.0</td>\n",
              "      <td>2264.0</td>\n",
              "      <td>0</td>\n",
              "      <td>0</td>\n",
              "      <td>0</td>\n",
              "      <td>-1</td>\n",
              "      <td>1</td>\n",
              "      <td>21</td>\n",
              "      <td>1910</td>\n",
              "      <td>0</td>\n",
              "      <td>0</td>\n",
              "      <td>1</td>\n",
              "      <td>1</td>\n",
              "      <td>1</td>\n",
              "      <td>2264.0</td>\n",
              "      <td>sing</td>\n",
              "      <td>0.740064</td>\n",
              "      <td>0.465693</td>\n",
              "      <td>0.944387</td>\n",
              "    </tr>\n",
              "    <tr>\n",
              "      <th>14887</th>\n",
              "      <td>иринотекану</td>\n",
              "      <td>1</td>\n",
              "      <td>15</td>\n",
              "      <td>19.0</td>\n",
              "      <td>0.0</td>\n",
              "      <td>2295.0</td>\n",
              "      <td>0</td>\n",
              "      <td>2</td>\n",
              "      <td>0</td>\n",
              "      <td>-1</td>\n",
              "      <td>1</td>\n",
              "      <td>21</td>\n",
              "      <td>2448</td>\n",
              "      <td>0</td>\n",
              "      <td>0</td>\n",
              "      <td>1</td>\n",
              "      <td>1</td>\n",
              "      <td>1</td>\n",
              "      <td>2295.0</td>\n",
              "      <td>sing</td>\n",
              "      <td>0.705096</td>\n",
              "      <td>0.503118</td>\n",
              "      <td>0.944387</td>\n",
              "    </tr>\n",
              "  </tbody>\n",
              "</table>\n",
              "<p>796 rows × 23 columns</p>\n",
              "</div>"
            ],
            "text/plain": [
              "              TOKEN IS_ANSWER  TOPIC_NUM  ...  TOKEN_VECT  HEAD_VECT  SENT_VECT\n",
              "2        рисперидон         0          1  ...    0.788884   0.888401   0.976057\n",
              "3         рисполепт         0          1  ...    0.817054   0.552653   0.976057\n",
              "4          сперидан         0          1  ...    0.728285   0.625592   0.976057\n",
              "21       лекарством         0          1  ...    0.454335   0.515091   0.976057\n",
              "142      рисполепта         0          1  ...    0.766231   0.481858   0.962897\n",
              "...             ...       ...        ...  ...         ...        ...        ...\n",
              "14759          hifu         1         15  ...    0.535461   0.508761   0.947723\n",
              "14807      абраксан         1         15  ...    0.689645   0.408740   0.944387\n",
              "14809  гемцитабином         1         15  ...    0.590692   0.514184   0.944387\n",
              "14856   фолфиринокс         1         15  ...    0.740064   0.465693   0.944387\n",
              "14887   иринотекану         1         15  ...    0.705096   0.503118   0.944387\n",
              "\n",
              "[796 rows x 23 columns]"
            ]
          },
          "metadata": {
            "tags": []
          },
          "execution_count": 67
        }
      ]
    },
    {
      "cell_type": "markdown",
      "metadata": {
        "id": "gHAqJq-syGu4"
      },
      "source": [
        "Разделим датасет на тестовый и тренировочный. for_train, for_test "
      ]
    },
    {
      "cell_type": "code",
      "metadata": {
        "id": "_iE_6DTwjs9r"
      },
      "source": [
        "# train, test = train_test_split(df.loc[(df['NER'] == 1.0) | (df['NER'] == 2.0 ) | (df['NER'] == 3.0 )], test_size=0.2)\n",
        "# train, test = train_test_split(df, test_size=0.2)\n",
        "train, test = train_test_split(df.loc[(df['NER'] == 2.0 ) | (df['NER'] == 3.0 )], test_size=0.2)"
      ],
      "execution_count": 68,
      "outputs": []
    },
    {
      "cell_type": "code",
      "metadata": {
        "id": "NSpO2JclSBoW"
      },
      "source": [
        "train = train.reset_index()"
      ],
      "execution_count": 69,
      "outputs": []
    },
    {
      "cell_type": "markdown",
      "metadata": {
        "id": "p9jYUXyTyO7S"
      },
      "source": [
        ""
      ]
    },
    {
      "cell_type": "code",
      "metadata": {
        "id": "Iqdr1Z1MbxQP"
      },
      "source": [
        "# train = train.iloc[:,:24].drop(['TOKEN', 'level_0', 'index'], axis=1)\n",
        "# train = train.drop(['TOKEN', 'index'], axis=1)"
      ],
      "execution_count": 70,
      "outputs": []
    },
    {
      "cell_type": "code",
      "metadata": {
        "id": "15JsamoeRUQ3"
      },
      "source": [
        "test = test.reset_index()"
      ],
      "execution_count": 71,
      "outputs": []
    },
    {
      "cell_type": "code",
      "metadata": {
        "colab": {
          "base_uri": "https://localhost:8080/",
          "height": 218
        },
        "id": "yJ-7SyinSvCF",
        "outputId": "0db35264-2784-4e63-ff2f-583ae4a1f908"
      },
      "source": [
        "test.head(5)"
      ],
      "execution_count": 72,
      "outputs": [
        {
          "output_type": "execute_result",
          "data": {
            "text/html": [
              "<div>\n",
              "<style scoped>\n",
              "    .dataframe tbody tr th:only-of-type {\n",
              "        vertical-align: middle;\n",
              "    }\n",
              "\n",
              "    .dataframe tbody tr th {\n",
              "        vertical-align: top;\n",
              "    }\n",
              "\n",
              "    .dataframe thead th {\n",
              "        text-align: right;\n",
              "    }\n",
              "</style>\n",
              "<table border=\"1\" class=\"dataframe\">\n",
              "  <thead>\n",
              "    <tr style=\"text-align: right;\">\n",
              "      <th></th>\n",
              "      <th>index</th>\n",
              "      <th>TOKEN</th>\n",
              "      <th>IS_ANSWER</th>\n",
              "      <th>TOPIC_NUM</th>\n",
              "      <th>POST_NUM</th>\n",
              "      <th>SENT_NUM</th>\n",
              "      <th>TOKEN_NUM</th>\n",
              "      <th>ANIMACY</th>\n",
              "      <th>CASE</th>\n",
              "      <th>GENDER</th>\n",
              "      <th>PERSON</th>\n",
              "      <th>POS</th>\n",
              "      <th>DEPENDENCY</th>\n",
              "      <th>HEAD</th>\n",
              "      <th>HEAD_ANIMACY</th>\n",
              "      <th>HEAD_CASE</th>\n",
              "      <th>HEAD_GENDER</th>\n",
              "      <th>HEAD_POS</th>\n",
              "      <th>NER</th>\n",
              "      <th>COREFERENCE_CLUSTER</th>\n",
              "      <th>NUMBER</th>\n",
              "      <th>TOKEN_VECT</th>\n",
              "      <th>HEAD_VECT</th>\n",
              "      <th>SENT_VECT</th>\n",
              "    </tr>\n",
              "  </thead>\n",
              "  <tbody>\n",
              "    <tr>\n",
              "      <th>0</th>\n",
              "      <td>7682</td>\n",
              "      <td>он</td>\n",
              "      <td>1</td>\n",
              "      <td>5</td>\n",
              "      <td>41.0</td>\n",
              "      <td>3.0</td>\n",
              "      <td>1484.0</td>\n",
              "      <td>-1</td>\n",
              "      <td>0</td>\n",
              "      <td>0</td>\n",
              "      <td>1</td>\n",
              "      <td>5</td>\n",
              "      <td>12</td>\n",
              "      <td>1427</td>\n",
              "      <td>-1</td>\n",
              "      <td>-1</td>\n",
              "      <td>0</td>\n",
              "      <td>0</td>\n",
              "      <td>3</td>\n",
              "      <td>1455.0</td>\n",
              "      <td>sing</td>\n",
              "      <td>0.485894</td>\n",
              "      <td>0.556755</td>\n",
              "      <td>0.984288</td>\n",
              "    </tr>\n",
              "    <tr>\n",
              "      <th>1</th>\n",
              "      <td>11469</td>\n",
              "      <td>обезболивающие</td>\n",
              "      <td>0</td>\n",
              "      <td>9</td>\n",
              "      <td>0.0</td>\n",
              "      <td>34.0</td>\n",
              "      <td>300.0</td>\n",
              "      <td>-1</td>\n",
              "      <td>0</td>\n",
              "      <td>-1</td>\n",
              "      <td>-1</td>\n",
              "      <td>14</td>\n",
              "      <td>26</td>\n",
              "      <td>1557</td>\n",
              "      <td>0</td>\n",
              "      <td>2</td>\n",
              "      <td>1</td>\n",
              "      <td>1</td>\n",
              "      <td>2</td>\n",
              "      <td>301.0</td>\n",
              "      <td>plur</td>\n",
              "      <td>0.612681</td>\n",
              "      <td>0.480567</td>\n",
              "      <td>0.990285</td>\n",
              "    </tr>\n",
              "    <tr>\n",
              "      <th>2</th>\n",
              "      <td>5889</td>\n",
              "      <td>препарат</td>\n",
              "      <td>0</td>\n",
              "      <td>4</td>\n",
              "      <td>6.0</td>\n",
              "      <td>6.0</td>\n",
              "      <td>336.0</td>\n",
              "      <td>0</td>\n",
              "      <td>0</td>\n",
              "      <td>0</td>\n",
              "      <td>-1</td>\n",
              "      <td>1</td>\n",
              "      <td>1</td>\n",
              "      <td>1158</td>\n",
              "      <td>-1</td>\n",
              "      <td>-1</td>\n",
              "      <td>-1</td>\n",
              "      <td>0</td>\n",
              "      <td>2</td>\n",
              "      <td>287.0</td>\n",
              "      <td>sing</td>\n",
              "      <td>0.560020</td>\n",
              "      <td>0.483775</td>\n",
              "      <td>0.888895</td>\n",
              "    </tr>\n",
              "    <tr>\n",
              "      <th>3</th>\n",
              "      <td>9691</td>\n",
              "      <td>препараты</td>\n",
              "      <td>1</td>\n",
              "      <td>7</td>\n",
              "      <td>5.0</td>\n",
              "      <td>0.0</td>\n",
              "      <td>1152.0</td>\n",
              "      <td>0</td>\n",
              "      <td>0</td>\n",
              "      <td>0</td>\n",
              "      <td>-1</td>\n",
              "      <td>1</td>\n",
              "      <td>12</td>\n",
              "      <td>619</td>\n",
              "      <td>-1</td>\n",
              "      <td>-1</td>\n",
              "      <td>-1</td>\n",
              "      <td>13</td>\n",
              "      <td>2</td>\n",
              "      <td>0.0</td>\n",
              "      <td>plur</td>\n",
              "      <td>0.494250</td>\n",
              "      <td>0.328365</td>\n",
              "      <td>0.968499</td>\n",
              "    </tr>\n",
              "    <tr>\n",
              "      <th>4</th>\n",
              "      <td>6254</td>\n",
              "      <td>препарата</td>\n",
              "      <td>0</td>\n",
              "      <td>5</td>\n",
              "      <td>3.0</td>\n",
              "      <td>1.0</td>\n",
              "      <td>56.0</td>\n",
              "      <td>0</td>\n",
              "      <td>1</td>\n",
              "      <td>0</td>\n",
              "      <td>-1</td>\n",
              "      <td>1</td>\n",
              "      <td>21</td>\n",
              "      <td>1264</td>\n",
              "      <td>0</td>\n",
              "      <td>1</td>\n",
              "      <td>2</td>\n",
              "      <td>1</td>\n",
              "      <td>2</td>\n",
              "      <td>41.0</td>\n",
              "      <td>sing</td>\n",
              "      <td>0.499182</td>\n",
              "      <td>0.577588</td>\n",
              "      <td>0.986065</td>\n",
              "    </tr>\n",
              "  </tbody>\n",
              "</table>\n",
              "</div>"
            ],
            "text/plain": [
              "   index           TOKEN IS_ANSWER  ...  TOKEN_VECT  HEAD_VECT  SENT_VECT\n",
              "0   7682              он         1  ...    0.485894   0.556755   0.984288\n",
              "1  11469  обезболивающие         0  ...    0.612681   0.480567   0.990285\n",
              "2   5889        препарат         0  ...    0.560020   0.483775   0.888895\n",
              "3   9691       препараты         1  ...    0.494250   0.328365   0.968499\n",
              "4   6254       препарата         0  ...    0.499182   0.577588   0.986065\n",
              "\n",
              "[5 rows x 24 columns]"
            ]
          },
          "metadata": {
            "tags": []
          },
          "execution_count": 72
        }
      ]
    },
    {
      "cell_type": "code",
      "metadata": {
        "id": "4af_SNBkhigO"
      },
      "source": [
        "# test = test.iloc[:,:24].drop(['TOKEN', 'index'], axis=1)\n",
        "# test = test.drop(['TOKEN', 'index'], axis=1)"
      ],
      "execution_count": 73,
      "outputs": []
    },
    {
      "cell_type": "code",
      "metadata": {
        "id": "cBXo00kAS49b"
      },
      "source": [
        "# test.loc[test['NER'] != 0]"
      ],
      "execution_count": 74,
      "outputs": []
    },
    {
      "cell_type": "code",
      "metadata": {
        "id": "htGIdgGgPeL8"
      },
      "source": [
        "# ['TOPIC_NUM',\t'POST_NUM',\t'TOKEN_NUM',\t'GENDER',\t'PERSON', 'TOKEN', 'TOKEN_VECT', 'IS_ANSWER', 'SENT_NUM', 'HEAD_VECT', 'HEAD_CHILDS_VECT', \n",
        "#  'index', 'HEAD_ANIMACY',\t'HEAD_CASE',\t'HEAD_GENDER', 'ANIMACY',\t'CASE',\t'POS',\t'DEPENDENCY',\t'HEAD',\t'HEAD_POS']"
      ],
      "execution_count": 75,
      "outputs": []
    },
    {
      "cell_type": "code",
      "metadata": {
        "id": "FweGW5SOrkaH"
      },
      "source": [
        "# best set\n",
        "\n",
        "# X, y, X_test, y_test = train.drop(['TOKEN',  'HEAD_VECT', 'POST_NUM', 'IS_ANSWER', 'PERSON', 'HEAD_CHILDS_VECT', 'TOPIC_NUM', 'CASE', 'SENT_NUM', 'DEPENDENCY',  'index', 'HEAD_ANIMACY',\t'HEAD_CASE',\t'HEAD_GENDER', 'ANIMACY',\t\t\t\t'HEAD',\t'HEAD_POS'], axis=1).iloc[:,:18], \\\n",
        "# train.COREFERENCE_CLUSTER, test.drop(['TOKEN',  'HEAD_VECT', 'POST_NUM', 'IS_ANSWER', 'PERSON', 'HEAD_CHILDS_VECT', 'TOPIC_NUM', 'CASE', 'SENT_NUM', 'DEPENDENCY',    'index', 'HEAD_ANIMACY',\t'HEAD_CASE',\t'HEAD_GENDER', 'ANIMACY',\t\t\t'HEAD',\t'HEAD_POS'], axis=1).iloc[:,:18], test.COREFERENCE_CLUSTER"
      ],
      "execution_count": 76,
      "outputs": []
    },
    {
      "cell_type": "markdown",
      "metadata": {
        "id": "59_MptFSzbP9"
      },
      "source": [
        "Делаем наборы для обучения моделей."
      ]
    },
    {
      "cell_type": "code",
      "metadata": {
        "id": "Gz0Kri_pTC1s"
      },
      "source": [
        "X, y, X_test, y_test = train.drop(['TOKEN','GENDER','NUMBER', 'POS', 'HEAD_VECT', 'POST_NUM', 'IS_ANSWER', 'PERSON', 'TOPIC_NUM', 'CASE', 'SENT_NUM', 'DEPENDENCY',  'index', 'HEAD_ANIMACY',\t'HEAD_CASE',\t'HEAD_GENDER', 'ANIMACY',\t\t\t\t'HEAD',\t'HEAD_POS'], axis=1).iloc[:,:18], \\\n",
        "train.COREFERENCE_CLUSTER, test.drop(['TOKEN','GENDER', 'NUMBER', 'POS', 'HEAD_VECT', 'POST_NUM', 'IS_ANSWER', 'PERSON', 'TOPIC_NUM', 'CASE', 'SENT_NUM', 'DEPENDENCY',    'index', 'HEAD_ANIMACY',\t'HEAD_CASE',\t'HEAD_GENDER', 'ANIMACY',\t\t\t'HEAD',\t'HEAD_POS'], axis=1).iloc[:,:18], test.COREFERENCE_CLUSTER"
      ],
      "execution_count": 77,
      "outputs": []
    },
    {
      "cell_type": "code",
      "metadata": {
        "id": "-omX42NNMv52"
      },
      "source": [
        "# X, y, X_test, y_test = train.drop(['TOKEN', 'index'], axis=1).iloc[:,:24], train.COREFERENCE_CLUSTER, test.drop(['TOKEN', 'index'], axis=1).iloc[:,:24], test.COREFERENCE_CLUSTER"
      ],
      "execution_count": 78,
      "outputs": []
    },
    {
      "cell_type": "code",
      "metadata": {
        "id": "2x9H9mrBGOyH"
      },
      "source": [
        "X.NER = [float(i) for i in X.NER]\n",
        "X_test.NER = [float(i) for i in X_test.NER]\n"
      ],
      "execution_count": 79,
      "outputs": []
    },
    {
      "cell_type": "code",
      "metadata": {
        "colab": {
          "base_uri": "https://localhost:8080/"
        },
        "id": "gV3OdD0OUKeU",
        "outputId": "7d18e3d1-00c8-4471-8f2c-cab74d0efb98"
      },
      "source": [
        "y"
      ],
      "execution_count": 80,
      "outputs": [
        {
          "output_type": "execute_result",
          "data": {
            "text/plain": [
              "0      2058.0\n",
              "1       449.0\n",
              "2         0.0\n",
              "3       658.0\n",
              "4         0.0\n",
              "        ...  \n",
              "257       0.0\n",
              "258     564.0\n",
              "259      58.0\n",
              "260     135.0\n",
              "261     806.0\n",
              "Name: COREFERENCE_CLUSTER, Length: 262, dtype: float64"
            ]
          },
          "metadata": {
            "tags": []
          },
          "execution_count": 80
        }
      ]
    },
    {
      "cell_type": "markdown",
      "metadata": {
        "id": "5tK813duz_3P"
      },
      "source": [
        "Обучаем модели."
      ]
    },
    {
      "cell_type": "code",
      "metadata": {
        "colab": {
          "base_uri": "https://localhost:8080/"
        },
        "id": "lpdNSWV0fl47",
        "outputId": "bd60a67e-85fa-4c29-aca4-dff6b4c1047c"
      },
      "source": [
        "clf = tree.DecisionTreeClassifier(max_depth=2000, )\n",
        "clf.fit(X, y)\n",
        "clf.score(X_test, y_test)"
      ],
      "execution_count": 81,
      "outputs": [
        {
          "output_type": "execute_result",
          "data": {
            "text/plain": [
              "0.696969696969697"
            ]
          },
          "metadata": {
            "tags": []
          },
          "execution_count": 81
        }
      ]
    },
    {
      "cell_type": "code",
      "metadata": {
        "id": "7EOq1DxzyAiQ",
        "colab": {
          "base_uri": "https://localhost:8080/"
        },
        "outputId": "4519d0bf-4b88-40af-f0d1-2577fd6460ae"
      },
      "source": [
        "clf_entropy = tree.DecisionTreeClassifier(criterion='entropy', max_depth=2000)\n",
        "clf_entropy.fit(X, y)\n",
        "clf_entropy.score(X_test, y_test)"
      ],
      "execution_count": 82,
      "outputs": [
        {
          "output_type": "execute_result",
          "data": {
            "text/plain": [
              "0.6818181818181818"
            ]
          },
          "metadata": {
            "tags": []
          },
          "execution_count": 82
        }
      ]
    },
    {
      "cell_type": "code",
      "metadata": {
        "colab": {
          "base_uri": "https://localhost:8080/"
        },
        "id": "795Z0wfKBMRp",
        "outputId": "e5cc77db-8083-4f85-8610-32e6795c84c8"
      },
      "source": [
        "randf_clf = RandomForestClassifier(max_depth=3000, n_estimators=600, bootstrap=True, )\n",
        "randf_clf.fit(X, y)\n",
        "randf_clf.score(X_test, y_test)"
      ],
      "execution_count": 83,
      "outputs": [
        {
          "output_type": "execute_result",
          "data": {
            "text/plain": [
              "0.7121212121212122"
            ]
          },
          "metadata": {
            "tags": []
          },
          "execution_count": 83
        }
      ]
    },
    {
      "cell_type": "code",
      "metadata": {
        "colab": {
          "base_uri": "https://localhost:8080/"
        },
        "id": "h8j0eFJPEDCI",
        "outputId": "36253eee-48c5-4f98-aa49-ef992986aa3e"
      },
      "source": [
        "regr = linear_model.LinearRegression()\n",
        "regr.fit(X, y)\n",
        "regr.score(X_test, y_test)"
      ],
      "execution_count": 84,
      "outputs": [
        {
          "output_type": "execute_result",
          "data": {
            "text/plain": [
              "1.0"
            ]
          },
          "metadata": {
            "tags": []
          },
          "execution_count": 84
        }
      ]
    },
    {
      "cell_type": "code",
      "metadata": {
        "colab": {
          "base_uri": "https://localhost:8080/"
        },
        "id": "o5Ol9LJQB-Z5",
        "outputId": "4ae59115-a148-4694-c1c7-1236c27064d0"
      },
      "source": [
        "svm_clf = svm.SVC(decision_function_shape='ovo', cache_size=500)\n",
        "svm_clf.fit(X, y)\n",
        "svm_clf.score(X_test, y_test)"
      ],
      "execution_count": 85,
      "outputs": [
        {
          "output_type": "execute_result",
          "data": {
            "text/plain": [
              "0.3787878787878788"
            ]
          },
          "metadata": {
            "tags": []
          },
          "execution_count": 85
        }
      ]
    },
    {
      "cell_type": "code",
      "metadata": {
        "colab": {
          "base_uri": "https://localhost:8080/"
        },
        "id": "v-Ib98jycNOB",
        "outputId": "37322732-9a30-4d8e-98ed-c9a405ba74d4"
      },
      "source": [
        "\n",
        "knn_clf = KNeighborsClassifier(n_neighbors=10, weights='distance',algorithm='ball_tree',leaf_size=5, metric='minkowski', p=1).fit(X, y)\n",
        "knn_clf.score(X_test, y_test)"
      ],
      "execution_count": 86,
      "outputs": [
        {
          "output_type": "execute_result",
          "data": {
            "text/plain": [
              "0.696969696969697"
            ]
          },
          "metadata": {
            "tags": []
          },
          "execution_count": 86
        }
      ]
    },
    {
      "cell_type": "code",
      "metadata": {
        "id": "4T66NsKoc_IP"
      },
      "source": [
        "# from sklearn.naive_bayes import MultinomialNB\n",
        "# naive_clf = MultinomialNB().fit(X, y)\n"
      ],
      "execution_count": 87,
      "outputs": []
    },
    {
      "cell_type": "markdown",
      "metadata": {
        "id": "wBG278Rc0_XD"
      },
      "source": [
        "# **ОЦЕНКА МОДЕЛЕЙ**"
      ]
    },
    {
      "cell_type": "code",
      "metadata": {
        "id": "FSTKYAktXiS9"
      },
      "source": [
        "def my_eval(X_predicted, y):\n",
        "  \n",
        "  tp = []\n",
        "  fp = []\n",
        "  tn = []\n",
        "  fn = []\n",
        "\n",
        "  for i in range(len(X_predicted)):\n",
        "    if X_predicted[i] != 0.0:\n",
        "      if X_predicted[i] == y_test[i]:\n",
        "        tp.append(i)\n",
        "      else:\n",
        "        fp.append(i)\n",
        "    # берем только те синглтоны, которые относятся к номинативным или прономинальным группам.\n",
        "    elif X_predicted[i] == 0.0 and test.iloc[:,22:23].iloc[[i]].values[0][0] in (2.0, 3.0):\n",
        "      if X_predicted[i] == y_test[i]:\n",
        "        tn.append(i)\n",
        "      else:\n",
        "        fn.append(i)\n",
        "  try:\n",
        "    P = len(tp)/(len(tp) + len(fp))\n",
        "  except ZeroDivisionError:\n",
        "    P = 0\n",
        "  try:\n",
        "    R = len(tp)/(len(tp) + len(fn))\n",
        "  except ZeroDivisionError:\n",
        "    R = 0\n",
        "  try:\n",
        "    F = 2*P*R/(P+R)\n",
        "  except ZeroDivisionError:\n",
        "    F = 0\n",
        "\n",
        "  print(len(tp), ' true positive')\n",
        "  print(len(fp), ' false positive')\n",
        "  print(len(tn), ' true negative')\n",
        "  print(len(fn), ' false negative')\n",
        "  print('---------')\n",
        "  print(P,' presicion')\n",
        "  print(R, ' recall')\n",
        "  print(F, ' f-score')\n",
        "\n"
      ],
      "execution_count": 88,
      "outputs": []
    },
    {
      "cell_type": "code",
      "metadata": {
        "id": "q0ss_ZBr73-y"
      },
      "source": [
        "pred = clf.predict(X_test)\n",
        "pred_randf = randf_clf.predict(X_test)\n",
        "pred_entropy = clf_entropy.predict(X_test)\n",
        "pred_regr = regr.predict(X_test)\n",
        "pred_svm = svm_clf.predict(X_test)\n",
        "pred_knn = knn_clf.predict(X_test)\n",
        "# naive_pred = naive_clf.predict(X_test)"
      ],
      "execution_count": 89,
      "outputs": []
    },
    {
      "cell_type": "code",
      "metadata": {
        "id": "SI2hsUJbdK4Q"
      },
      "source": [
        "# my_eval(list(naive_pred), list(y_test))"
      ],
      "execution_count": 90,
      "outputs": []
    },
    {
      "cell_type": "code",
      "metadata": {
        "colab": {
          "base_uri": "https://localhost:8080/"
        },
        "id": "iJeUENfIcdNY",
        "outputId": "365bc204-0518-40ff-cafc-3831f31d12c5"
      },
      "source": [
        "my_eval(list(pred_knn), list(y_test))"
      ],
      "execution_count": 91,
      "outputs": [
        {
          "output_type": "stream",
          "text": [
            "25  true positive\n",
            "18  false positive\n",
            "0  true negative\n",
            "0  false negative\n",
            "---------\n",
            "0.5813953488372093  presicion\n",
            "1.0  recall\n",
            "0.7352941176470588  f-score\n"
          ],
          "name": "stdout"
        }
      ]
    },
    {
      "cell_type": "code",
      "metadata": {
        "colab": {
          "base_uri": "https://localhost:8080/"
        },
        "id": "dVEiXSg9DF3Z",
        "outputId": "57abf607-d570-448d-ff42-0bbfe222802b"
      },
      "source": [
        "my_eval(list(pred_entropy), list(y_test))"
      ],
      "execution_count": 92,
      "outputs": [
        {
          "output_type": "stream",
          "text": [
            "23  true positive\n",
            "21  false positive\n",
            "0  true negative\n",
            "0  false negative\n",
            "---------\n",
            "0.5227272727272727  presicion\n",
            "1.0  recall\n",
            "0.6865671641791045  f-score\n"
          ],
          "name": "stdout"
        }
      ]
    },
    {
      "cell_type": "code",
      "metadata": {
        "id": "ZUoq9gZXyout",
        "colab": {
          "base_uri": "https://localhost:8080/"
        },
        "outputId": "56b9af46-3396-4a55-8644-2110e3ad5be2"
      },
      "source": [
        "my_eval(list(pred), list(y_test))"
      ],
      "execution_count": 93,
      "outputs": [
        {
          "output_type": "stream",
          "text": [
            "24  true positive\n",
            "20  false positive\n",
            "0  true negative\n",
            "0  false negative\n",
            "---------\n",
            "0.5454545454545454  presicion\n",
            "1.0  recall\n",
            "0.7058823529411764  f-score\n"
          ],
          "name": "stdout"
        }
      ]
    },
    {
      "cell_type": "code",
      "metadata": {
        "colab": {
          "base_uri": "https://localhost:8080/"
        },
        "id": "Zg4pmJBnDFtw",
        "outputId": "90796a57-a126-4bb1-e43b-d90691d99593"
      },
      "source": [
        "my_eval(list(pred_randf), list(y_test))"
      ],
      "execution_count": 94,
      "outputs": [
        {
          "output_type": "stream",
          "text": [
            "25  true positive\n",
            "19  false positive\n",
            "0  true negative\n",
            "0  false negative\n",
            "---------\n",
            "0.5681818181818182  presicion\n",
            "1.0  recall\n",
            "0.7246376811594203  f-score\n"
          ],
          "name": "stdout"
        }
      ]
    },
    {
      "cell_type": "code",
      "metadata": {
        "colab": {
          "base_uri": "https://localhost:8080/"
        },
        "id": "aGTYbbgLEQxy",
        "outputId": "dcc6129b-c73a-4928-bdd3-7512c60336c9"
      },
      "source": [
        "my_eval(list(pred_regr), list(y_test))"
      ],
      "execution_count": 95,
      "outputs": [
        {
          "output_type": "stream",
          "text": [
            "13  true positive\n",
            "53  false positive\n",
            "0  true negative\n",
            "0  false negative\n",
            "---------\n",
            "0.19696969696969696  presicion\n",
            "1.0  recall\n",
            "0.3291139240506329  f-score\n"
          ],
          "name": "stdout"
        }
      ]
    },
    {
      "cell_type": "code",
      "metadata": {
        "colab": {
          "base_uri": "https://localhost:8080/"
        },
        "id": "g7isaHkricHw",
        "outputId": "be54beef-fd3b-4756-9c26-66e5a8184c79"
      },
      "source": [
        "my_eval(list(pred_svm), list(y_test))"
      ],
      "execution_count": 96,
      "outputs": [
        {
          "output_type": "stream",
          "text": [
            "3  true positive\n",
            "18  false positive\n",
            "0  true negative\n",
            "0  false negative\n",
            "---------\n",
            "0.14285714285714285  presicion\n",
            "1.0  recall\n",
            "0.25  f-score\n"
          ],
          "name": "stdout"
        }
      ]
    },
    {
      "cell_type": "code",
      "metadata": {
        "id": "lsoMYdF2CswH"
      },
      "source": [
        ""
      ],
      "execution_count": 96,
      "outputs": []
    }
  ]
}