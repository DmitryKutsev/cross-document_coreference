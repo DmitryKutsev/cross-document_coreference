{
  "nbformat": 4,
  "nbformat_minor": 0,
  "metadata": {
    "colab": {
      "name": "Untitled63.ipynb",
      "provenance": [],
      "authorship_tag": "ABX9TyNPUSrzoT4pB2Qlw0arv5U2",
      "include_colab_link": true
    },
    "kernelspec": {
      "name": "python3",
      "display_name": "Python 3"
    },
    "language_info": {
      "name": "python"
    }
  },
  "cells": [
    {
      "cell_type": "markdown",
      "metadata": {
        "id": "view-in-github",
        "colab_type": "text"
      },
      "source": [
        "<a href=\"https://colab.research.google.com/github/DmitryKutsev/cross-document_coreference/blob/main/classifiers/rule_ml.ipynb\" target=\"_parent\"><img src=\"https://colab.research.google.com/assets/colab-badge.svg\" alt=\"Open In Colab\"/></a>"
      ]
    },
    {
      "cell_type": "markdown",
      "metadata": {
        "id": "MR2ASbW_mPHn"
      },
      "source": [
        "## **Импорт**"
      ]
    },
    {
      "cell_type": "code",
      "metadata": {
        "id": "jRqz8PB_SGaz"
      },
      "source": [
        "import pandas as pd\n",
        "import matplotlib.pyplot as plt\n",
        "import seaborn as sns\n",
        "%matplotlib inline\n"
      ],
      "execution_count": 29,
      "outputs": []
    },
    {
      "cell_type": "code",
      "metadata": {
        "id": "OFLx7egYS2qN"
      },
      "source": [
        "from IPython.display import SVG, display, HTML"
      ],
      "execution_count": 30,
      "outputs": []
    },
    {
      "cell_type": "code",
      "metadata": {
        "id": "5Lhnxf_FoRVA",
        "colab": {
          "base_uri": "https://localhost:8080/"
        },
        "outputId": "008a787a-f045-4a22-9165-57be6a31a5dd"
      },
      "source": [
        "from google.colab import drive\n",
        "drive.mount('./content', force_remount=False)"
      ],
      "execution_count": 31,
      "outputs": [
        {
          "output_type": "stream",
          "text": [
            "Drive already mounted at ./content; to attempt to forcibly remount, call drive.mount(\"./content\", force_remount=True).\n"
          ],
          "name": "stdout"
        }
      ]
    },
    {
      "cell_type": "code",
      "metadata": {
        "id": "p8tYiCNJzF46"
      },
      "source": [
        "from graphviz import Source\n",
        "from sklearn import tree, svm, linear_model\n",
        "from sklearn.metrics import confusion_matrix, f1_score, accuracy_score\n",
        "from sklearn.ensemble import RandomForestClassifier\n",
        "from sklearn.neighbors import KNeighborsClassifier\n"
      ],
      "execution_count": 32,
      "outputs": []
    },
    {
      "cell_type": "code",
      "metadata": {
        "id": "J_7xbdMuo_RW",
        "colab": {
          "base_uri": "https://localhost:8080/"
        },
        "outputId": "4bd3b448-ad55-4ad9-815e-ce9fbc44ce57"
      },
      "source": [
        "!ls\n",
        "import os\n",
        "for i in os.listdir('content/'):\n",
        "  print(i)"
      ],
      "execution_count": 33,
      "outputs": [
        {
          "output_type": "stream",
          "text": [
            "content  new_anns60k.csv  new_anns60k.csv.1  new_df_anns60k.csv  sample_data\n",
            "MyDrive\n",
            ".shortcut-targets-by-id\n",
            ".file-revisions-by-id\n",
            ".Trash\n"
          ],
          "name": "stdout"
        }
      ]
    },
    {
      "cell_type": "code",
      "metadata": {
        "id": "L7z8djaJTABE"
      },
      "source": [
        "import csv\n",
        "import re\n",
        "from google.colab import files\n",
        "from sklearn.model_selection import train_test_split\n",
        "from sklearn.metrics.pairwise import cosine_similarity"
      ],
      "execution_count": 34,
      "outputs": []
    },
    {
      "cell_type": "markdown",
      "metadata": {
        "id": "UYfVvz6CmVMq"
      },
      "source": [
        "## **Обработка данных**"
      ]
    },
    {
      "cell_type": "code",
      "metadata": {
        "id": "xk_hRf26TjUD",
        "colab": {
          "base_uri": "https://localhost:8080/"
        },
        "outputId": "110f262a-6d2c-4a1b-edc4-ffe848187cdf"
      },
      "source": [
        "!wget https://raw.githubusercontent.com/DmitryKutsev/cross-document_coreference/main/data/coref_df_anns60k.csv\n",
        "!wget https://raw.githubusercontent.com/DmitryKutsev/cross-document_coreference/main/data/new_anns60k.csv"
      ],
      "execution_count": 35,
      "outputs": [
        {
          "output_type": "stream",
          "text": [
            "--2021-05-23 08:38:49--  https://raw.githubusercontent.com/DmitryKutsev/cross-document_coreference/main/data/coref_df_anns60k.csv\n",
            "Resolving raw.githubusercontent.com (raw.githubusercontent.com)... 185.199.109.133, 185.199.110.133, 185.199.108.133, ...\n",
            "Connecting to raw.githubusercontent.com (raw.githubusercontent.com)|185.199.109.133|:443... connected.\n",
            "HTTP request sent, awaiting response... 404 Not Found\n",
            "2021-05-23 08:38:50 ERROR 404: Not Found.\n",
            "\n",
            "--2021-05-23 08:38:50--  https://raw.githubusercontent.com/DmitryKutsev/cross-document_coreference/main/data/new_anns60k.csv\n",
            "Resolving raw.githubusercontent.com (raw.githubusercontent.com)... 185.199.108.133, 185.199.109.133, 185.199.110.133, ...\n",
            "Connecting to raw.githubusercontent.com (raw.githubusercontent.com)|185.199.108.133|:443... connected.\n",
            "HTTP request sent, awaiting response... 200 OK\n",
            "Length: 1192455 (1.1M) [text/plain]\n",
            "Saving to: ‘new_anns60k.csv.2’\n",
            "\n",
            "new_anns60k.csv.2   100%[===================>]   1.14M  7.14MB/s    in 0.2s    \n",
            "\n",
            "2021-05-23 08:38:50 (7.14 MB/s) - ‘new_anns60k.csv.2’ saved [1192455/1192455]\n",
            "\n"
          ],
          "name": "stdout"
        }
      ]
    },
    {
      "cell_type": "markdown",
      "metadata": {
        "id": "cVHJN9DsrmkH"
      },
      "source": [
        "Обработка битых символов, чтобы pandas мог открыть таблицу."
      ]
    },
    {
      "cell_type": "code",
      "metadata": {
        "id": "nKgKz0h9SPOK"
      },
      "source": [
        "# with open('coref_df_anns60k.csv') as csvfile:\n",
        "with open('new_anns60k.csv') as csvfile:\n",
        "  reader = csv.reader(csvfile, delimiter='\\t')\n",
        "  with open('new_df_anns60k.csv', 'w') as write_file:\n",
        "    writer = csv.writer(write_file, delimiter='\\t')\n",
        "    c = 0\n",
        "    for row in reader:\n",
        "      new_row = [i if i and not re.match(r'\\t+?', i) else 0 for i in row]\n",
        "      if len(new_row) > 9:\n",
        "        new_row = new_row[:9]\n",
        "      writer.writerow(new_row)\n"
      ],
      "execution_count": 36,
      "outputs": []
    },
    {
      "cell_type": "code",
      "metadata": {
        "id": "fpbwAAb6sUnL"
      },
      "source": [
        "# anns_df = pd.read_csv('coref_df_anns60k.csv', delimiter='\\t', error_bad_lines=False, header=None)\n",
        "anns_df = pd.read_csv('new_df_anns60k.csv', delimiter='\\t')"
      ],
      "execution_count": 37,
      "outputs": []
    },
    {
      "cell_type": "markdown",
      "metadata": {
        "id": "fBFrdEdsrq0u"
      },
      "source": [
        "Проверим данные"
      ]
    },
    {
      "cell_type": "code",
      "metadata": {
        "id": "2CHdd-PNscSW",
        "colab": {
          "base_uri": "https://localhost:8080/",
          "height": 407
        },
        "outputId": "56c1e758-14a4-49be-b625-1498ceb145f3"
      },
      "source": [
        "anns_df"
      ],
      "execution_count": 38,
      "outputs": [
        {
          "output_type": "execute_result",
          "data": {
            "text/html": [
              "<div>\n",
              "<style scoped>\n",
              "    .dataframe tbody tr th:only-of-type {\n",
              "        vertical-align: middle;\n",
              "    }\n",
              "\n",
              "    .dataframe tbody tr th {\n",
              "        vertical-align: top;\n",
              "    }\n",
              "\n",
              "    .dataframe thead th {\n",
              "        text-align: right;\n",
              "    }\n",
              "</style>\n",
              "<table border=\"1\" class=\"dataframe\">\n",
              "  <thead>\n",
              "    <tr style=\"text-align: right;\">\n",
              "      <th></th>\n",
              "      <th>TOKEN</th>\n",
              "      <th>TOPIC_NUM</th>\n",
              "      <th>POST_NUM</th>\n",
              "      <th>SENT_NUM</th>\n",
              "      <th>TOKEN_NUM</th>\n",
              "      <th>IS_ANSWER</th>\n",
              "      <th>HEAD</th>\n",
              "      <th>NER</th>\n",
              "      <th>COREFERENCE_CLUSTER</th>\n",
              "    </tr>\n",
              "  </thead>\n",
              "  <tbody>\n",
              "    <tr>\n",
              "      <th>0</th>\n",
              "      <td>обсуждаем</td>\n",
              "      <td>1.0</td>\n",
              "      <td>0.0</td>\n",
              "      <td>0.0</td>\n",
              "      <td>0.0</td>\n",
              "      <td>0.0</td>\n",
              "      <td>обсуждаем</td>\n",
              "      <td>0.0</td>\n",
              "      <td>0.0</td>\n",
              "    </tr>\n",
              "    <tr>\n",
              "      <th>1</th>\n",
              "      <td>препарат</td>\n",
              "      <td>1.0</td>\n",
              "      <td>0.0</td>\n",
              "      <td>0.0</td>\n",
              "      <td>1.0</td>\n",
              "      <td>0.0</td>\n",
              "      <td>обсуждаем</td>\n",
              "      <td>0.0</td>\n",
              "      <td>0.0</td>\n",
              "    </tr>\n",
              "    <tr>\n",
              "      <th>2</th>\n",
              "      <td>рисперидон</td>\n",
              "      <td>1.0</td>\n",
              "      <td>0.0</td>\n",
              "      <td>0.0</td>\n",
              "      <td>2.0</td>\n",
              "      <td>0.0</td>\n",
              "      <td>препарат</td>\n",
              "      <td>1.0</td>\n",
              "      <td>2.0</td>\n",
              "    </tr>\n",
              "    <tr>\n",
              "      <th>3</th>\n",
              "      <td>рисполепт</td>\n",
              "      <td>1.0</td>\n",
              "      <td>0.0</td>\n",
              "      <td>0.0</td>\n",
              "      <td>3.0</td>\n",
              "      <td>0.0</td>\n",
              "      <td>рисперидон</td>\n",
              "      <td>1.0</td>\n",
              "      <td>3.0</td>\n",
              "    </tr>\n",
              "    <tr>\n",
              "      <th>4</th>\n",
              "      <td>сперидан</td>\n",
              "      <td>1.0</td>\n",
              "      <td>0.0</td>\n",
              "      <td>0.0</td>\n",
              "      <td>4.0</td>\n",
              "      <td>0.0</td>\n",
              "      <td>рисполепт</td>\n",
              "      <td>1.0</td>\n",
              "      <td>4.0</td>\n",
              "    </tr>\n",
              "    <tr>\n",
              "      <th>...</th>\n",
              "      <td>...</td>\n",
              "      <td>...</td>\n",
              "      <td>...</td>\n",
              "      <td>...</td>\n",
              "      <td>...</td>\n",
              "      <td>...</td>\n",
              "      <td>...</td>\n",
              "      <td>...</td>\n",
              "      <td>...</td>\n",
              "    </tr>\n",
              "    <tr>\n",
              "      <th>15405</th>\n",
              "      <td>0</td>\n",
              "      <td>0.0</td>\n",
              "      <td>0.0</td>\n",
              "      <td>0.0</td>\n",
              "      <td>NaN</td>\n",
              "      <td>NaN</td>\n",
              "      <td>NaN</td>\n",
              "      <td>NaN</td>\n",
              "      <td>NaN</td>\n",
              "    </tr>\n",
              "    <tr>\n",
              "      <th>15406</th>\n",
              "      <td>0</td>\n",
              "      <td>0.0</td>\n",
              "      <td>0.0</td>\n",
              "      <td>0.0</td>\n",
              "      <td>NaN</td>\n",
              "      <td>NaN</td>\n",
              "      <td>NaN</td>\n",
              "      <td>NaN</td>\n",
              "      <td>NaN</td>\n",
              "    </tr>\n",
              "    <tr>\n",
              "      <th>15407</th>\n",
              "      <td>0</td>\n",
              "      <td>0.0</td>\n",
              "      <td>0.0</td>\n",
              "      <td>0.0</td>\n",
              "      <td>NaN</td>\n",
              "      <td>NaN</td>\n",
              "      <td>NaN</td>\n",
              "      <td>NaN</td>\n",
              "      <td>NaN</td>\n",
              "    </tr>\n",
              "    <tr>\n",
              "      <th>15408</th>\n",
              "      <td>0</td>\n",
              "      <td>0.0</td>\n",
              "      <td>0.0</td>\n",
              "      <td>0.0</td>\n",
              "      <td>NaN</td>\n",
              "      <td>NaN</td>\n",
              "      <td>NaN</td>\n",
              "      <td>NaN</td>\n",
              "      <td>NaN</td>\n",
              "    </tr>\n",
              "    <tr>\n",
              "      <th>15409</th>\n",
              "      <td>0</td>\n",
              "      <td>NaN</td>\n",
              "      <td>NaN</td>\n",
              "      <td>NaN</td>\n",
              "      <td>NaN</td>\n",
              "      <td>NaN</td>\n",
              "      <td>NaN</td>\n",
              "      <td>NaN</td>\n",
              "      <td>NaN</td>\n",
              "    </tr>\n",
              "  </tbody>\n",
              "</table>\n",
              "<p>15410 rows × 9 columns</p>\n",
              "</div>"
            ],
            "text/plain": [
              "            TOKEN  TOPIC_NUM  POST_NUM  ...        HEAD  NER  COREFERENCE_CLUSTER\n",
              "0       обсуждаем        1.0       0.0  ...   обсуждаем  0.0                  0.0\n",
              "1        препарат        1.0       0.0  ...   обсуждаем  0.0                  0.0\n",
              "2      рисперидон        1.0       0.0  ...    препарат  1.0                  2.0\n",
              "3       рисполепт        1.0       0.0  ...  рисперидон  1.0                  3.0\n",
              "4        сперидан        1.0       0.0  ...   рисполепт  1.0                  4.0\n",
              "...           ...        ...       ...  ...         ...  ...                  ...\n",
              "15405           0        0.0       0.0  ...         NaN  NaN                  NaN\n",
              "15406           0        0.0       0.0  ...         NaN  NaN                  NaN\n",
              "15407           0        0.0       0.0  ...         NaN  NaN                  NaN\n",
              "15408           0        0.0       0.0  ...         NaN  NaN                  NaN\n",
              "15409           0        NaN       NaN  ...         NaN  NaN                  NaN\n",
              "\n",
              "[15410 rows x 9 columns]"
            ]
          },
          "metadata": {
            "tags": []
          },
          "execution_count": 38
        }
      ]
    },
    {
      "cell_type": "code",
      "metadata": {
        "id": "wi5vLFpvyL14"
      },
      "source": [
        "import numpy as np"
      ],
      "execution_count": 39,
      "outputs": []
    },
    {
      "cell_type": "code",
      "metadata": {
        "id": "zOvIthFwWaOH",
        "colab": {
          "base_uri": "https://localhost:8080/",
          "height": 963
        },
        "outputId": "9e60a912-f761-4ad2-c291-91ca4b239530"
      },
      "source": [
        "cor_df = pd.read_csv('content/MyDrive/coref_fasttext60k.csv', delimiter=' ')\n",
        "cor_df"
      ],
      "execution_count": 40,
      "outputs": [
        {
          "output_type": "execute_result",
          "data": {
            "text/html": [
              "<div>\n",
              "<style scoped>\n",
              "    .dataframe tbody tr th:only-of-type {\n",
              "        vertical-align: middle;\n",
              "    }\n",
              "\n",
              "    .dataframe tbody tr th {\n",
              "        vertical-align: top;\n",
              "    }\n",
              "\n",
              "    .dataframe thead th {\n",
              "        text-align: right;\n",
              "    }\n",
              "</style>\n",
              "<table border=\"1\" class=\"dataframe\">\n",
              "  <thead>\n",
              "    <tr style=\"text-align: right;\">\n",
              "      <th></th>\n",
              "      <th>TOKEN</th>\n",
              "      <th>TOKEN_VECT</th>\n",
              "      <th>IS_ANSWER</th>\n",
              "      <th>TOPIC_NUM</th>\n",
              "      <th>POST_NUM</th>\n",
              "      <th>SENT_NUM</th>\n",
              "      <th>TOKEN_NUM</th>\n",
              "      <th>ANIMACY</th>\n",
              "      <th>CASE</th>\n",
              "      <th>GENDER</th>\n",
              "      <th>PERSON</th>\n",
              "      <th>POS</th>\n",
              "      <th>DEPENDENCY</th>\n",
              "      <th>HEAD</th>\n",
              "      <th>HEAD_ANIMACY</th>\n",
              "      <th>HEAD_CASE</th>\n",
              "      <th>HEAD_GENDER</th>\n",
              "      <th>HEAD_POS</th>\n",
              "      <th>HEAD_VECT</th>\n",
              "      <th>SENT_VECT</th>\n",
              "      <th>HEAD_CHILDS_VECT</th>\n",
              "      <th>NER</th>\n",
              "      <th>COREFERENCE_CLUSTER</th>\n",
              "    </tr>\n",
              "  </thead>\n",
              "  <tbody>\n",
              "    <tr>\n",
              "      <th>0</th>\n",
              "      <td>обсуждаем</td>\n",
              "      <td>[-2.08233938e-01  9.96180058e-01 -2.79894114e-...</td>\n",
              "      <td>0</td>\n",
              "      <td>1</td>\n",
              "      <td>0</td>\n",
              "      <td>0</td>\n",
              "      <td>0</td>\n",
              "      <td>NaN</td>\n",
              "      <td>NaN</td>\n",
              "      <td>NaN</td>\n",
              "      <td>1per</td>\n",
              "      <td>VERB</td>\n",
              "      <td>ROOT</td>\n",
              "      <td>обсуждаем</td>\n",
              "      <td>NaN</td>\n",
              "      <td>NaN</td>\n",
              "      <td>NaN</td>\n",
              "      <td>VERB</td>\n",
              "      <td>[-2.08233938e-01  9.96180058e-01 -2.79894114e-...</td>\n",
              "      <td>[ 0.01863711  0.2306802   0.14600733 -0.019119...</td>\n",
              "      <td>[-0.17725945  0.94834274  0.90867615  0.850609...</td>\n",
              "      <td>0</td>\n",
              "      <td>0</td>\n",
              "    </tr>\n",
              "    <tr>\n",
              "      <th>1</th>\n",
              "      <td>препарат</td>\n",
              "      <td>[-0.17725945  0.94834274  0.90867615  0.850609...</td>\n",
              "      <td>0</td>\n",
              "      <td>1</td>\n",
              "      <td>0</td>\n",
              "      <td>0</td>\n",
              "      <td>1</td>\n",
              "      <td>inan</td>\n",
              "      <td>nomn</td>\n",
              "      <td>masc</td>\n",
              "      <td>NaN</td>\n",
              "      <td>NOUN</td>\n",
              "      <td>obj</td>\n",
              "      <td>обсуждаем</td>\n",
              "      <td>NaN</td>\n",
              "      <td>NaN</td>\n",
              "      <td>NaN</td>\n",
              "      <td>VERB</td>\n",
              "      <td>[-2.08233938e-01  9.96180058e-01 -2.79894114e-...</td>\n",
              "      <td>[ 0.01863711  0.2306802   0.14600733 -0.019119...</td>\n",
              "      <td>[-0.17725945  0.94834274  0.90867615  0.850609...</td>\n",
              "      <td>0</td>\n",
              "      <td>0</td>\n",
              "    </tr>\n",
              "    <tr>\n",
              "      <th>2</th>\n",
              "      <td>рисперидон</td>\n",
              "      <td>[ 0.15259643  1.0673474   0.84192747 -0.077515...</td>\n",
              "      <td>0</td>\n",
              "      <td>1</td>\n",
              "      <td>0</td>\n",
              "      <td>0</td>\n",
              "      <td>2</td>\n",
              "      <td>anim</td>\n",
              "      <td>nomn</td>\n",
              "      <td>masc</td>\n",
              "      <td>NaN</td>\n",
              "      <td>NOUN</td>\n",
              "      <td>appos</td>\n",
              "      <td>препарат</td>\n",
              "      <td>inan</td>\n",
              "      <td>nomn</td>\n",
              "      <td>masc</td>\n",
              "      <td>NOUN</td>\n",
              "      <td>[-0.17725945  0.94834274  0.90867615  0.850609...</td>\n",
              "      <td>[ 0.01863711  0.2306802   0.14600733 -0.019119...</td>\n",
              "      <td>[ 0.15259643  1.0673474   0.84192747 -0.077515...</td>\n",
              "      <td>0</td>\n",
              "      <td>0</td>\n",
              "    </tr>\n",
              "    <tr>\n",
              "      <th>3</th>\n",
              "      <td>рисполепт</td>\n",
              "      <td>[ 1.2426247e-02  1.0408522e+00  6.9133490e-01 ...</td>\n",
              "      <td>0</td>\n",
              "      <td>1</td>\n",
              "      <td>0</td>\n",
              "      <td>0</td>\n",
              "      <td>3</td>\n",
              "      <td>inan</td>\n",
              "      <td>gent</td>\n",
              "      <td>femn</td>\n",
              "      <td>NaN</td>\n",
              "      <td>NOUN</td>\n",
              "      <td>parataxis</td>\n",
              "      <td>рисперидон</td>\n",
              "      <td>anim</td>\n",
              "      <td>nomn</td>\n",
              "      <td>masc</td>\n",
              "      <td>NOUN</td>\n",
              "      <td>[ 0.15259643  1.0673474   0.84192747 -0.077515...</td>\n",
              "      <td>[ 0.01863711  0.2306802   0.14600733 -0.019119...</td>\n",
              "      <td>[ 1.2426247e-02  1.0408522e+00  6.9133490e-01 ...</td>\n",
              "      <td>0</td>\n",
              "      <td>0</td>\n",
              "    </tr>\n",
              "    <tr>\n",
              "      <th>4</th>\n",
              "      <td>сперидан</td>\n",
              "      <td>[ 0.08634768  0.893356    0.55127096 -0.065075...</td>\n",
              "      <td>0</td>\n",
              "      <td>1</td>\n",
              "      <td>0</td>\n",
              "      <td>0</td>\n",
              "      <td>4</td>\n",
              "      <td>NaN</td>\n",
              "      <td>NaN</td>\n",
              "      <td>masc</td>\n",
              "      <td>NaN</td>\n",
              "      <td>PRTS</td>\n",
              "      <td>conj</td>\n",
              "      <td>рисполепт</td>\n",
              "      <td>inan</td>\n",
              "      <td>gent</td>\n",
              "      <td>femn</td>\n",
              "      <td>NOUN</td>\n",
              "      <td>[ 1.2426247e-02  1.0408522e+00  6.9133490e-01 ...</td>\n",
              "      <td>[ 0.01863711  0.2306802   0.14600733 -0.019119...</td>\n",
              "      <td>[ 0.02878256  0.29778534  0.18375699 -0.021691...</td>\n",
              "      <td>0</td>\n",
              "      <td>0</td>\n",
              "    </tr>\n",
              "    <tr>\n",
              "      <th>...</th>\n",
              "      <td>...</td>\n",
              "      <td>...</td>\n",
              "      <td>...</td>\n",
              "      <td>...</td>\n",
              "      <td>...</td>\n",
              "      <td>...</td>\n",
              "      <td>...</td>\n",
              "      <td>...</td>\n",
              "      <td>...</td>\n",
              "      <td>...</td>\n",
              "      <td>...</td>\n",
              "      <td>...</td>\n",
              "      <td>...</td>\n",
              "      <td>...</td>\n",
              "      <td>...</td>\n",
              "      <td>...</td>\n",
              "      <td>...</td>\n",
              "      <td>...</td>\n",
              "      <td>...</td>\n",
              "      <td>...</td>\n",
              "      <td>...</td>\n",
              "      <td>...</td>\n",
              "      <td>...</td>\n",
              "    </tr>\n",
              "    <tr>\n",
              "      <th>26492</th>\n",
              "      <td>и</td>\n",
              "      <td>[ 0.5048941   0.81449467  0.29763442  0.603937...</td>\n",
              "      <td>0</td>\n",
              "      <td>22</td>\n",
              "      <td>68</td>\n",
              "      <td>0</td>\n",
              "      <td>7</td>\n",
              "      <td>NaN</td>\n",
              "      <td>NaN</td>\n",
              "      <td>NaN</td>\n",
              "      <td>NaN</td>\n",
              "      <td>CONJ</td>\n",
              "      <td>cc</td>\n",
              "      <td>пошлины</td>\n",
              "      <td>inan</td>\n",
              "      <td>nomn</td>\n",
              "      <td>femn</td>\n",
              "      <td>NOUN</td>\n",
              "      <td>[ 0.7365944  -0.48505062 -0.00257558  0.168963...</td>\n",
              "      <td>[ 1.00772209e-01  6.29534647e-02 -3.53814550e-...</td>\n",
              "      <td>[ 0.41243815  0.190811   -0.11933009  0.042429...</td>\n",
              "      <td>0</td>\n",
              "      <td>0</td>\n",
              "    </tr>\n",
              "    <tr>\n",
              "      <th>26493</th>\n",
              "      <td>таможенные</td>\n",
              "      <td>[ 0.73242044 -0.24206167 -0.6556247  -0.476650...</td>\n",
              "      <td>0</td>\n",
              "      <td>22</td>\n",
              "      <td>68</td>\n",
              "      <td>0</td>\n",
              "      <td>8</td>\n",
              "      <td>NaN</td>\n",
              "      <td>nomn</td>\n",
              "      <td>NaN</td>\n",
              "      <td>NaN</td>\n",
              "      <td>ADJF</td>\n",
              "      <td>amod</td>\n",
              "      <td>пошлины</td>\n",
              "      <td>inan</td>\n",
              "      <td>nomn</td>\n",
              "      <td>femn</td>\n",
              "      <td>NOUN</td>\n",
              "      <td>[ 0.7365944  -0.48505062 -0.00257558  0.168963...</td>\n",
              "      <td>[ 1.00772209e-01  6.29534647e-02 -3.53814550e-...</td>\n",
              "      <td>[ 0.41243815  0.190811   -0.11933009  0.042429...</td>\n",
              "      <td>0</td>\n",
              "      <td>0</td>\n",
              "    </tr>\n",
              "    <tr>\n",
              "      <th>26494</th>\n",
              "      <td>пошлины</td>\n",
              "      <td>[ 0.7365944  -0.48505062 -0.00257558  0.168963...</td>\n",
              "      <td>0</td>\n",
              "      <td>22</td>\n",
              "      <td>68</td>\n",
              "      <td>0</td>\n",
              "      <td>9</td>\n",
              "      <td>inan</td>\n",
              "      <td>nomn</td>\n",
              "      <td>femn</td>\n",
              "      <td>NaN</td>\n",
              "      <td>NOUN</td>\n",
              "      <td>nsubj</td>\n",
              "      <td>есть</td>\n",
              "      <td>NaN</td>\n",
              "      <td>NaN</td>\n",
              "      <td>NaN</td>\n",
              "      <td>INFN</td>\n",
              "      <td>[-0.0050342   0.14796825  0.08416066 -0.776544...</td>\n",
              "      <td>[ 1.00772209e-01  6.29534647e-02 -3.53814550e-...</td>\n",
              "      <td>[ 5.7842094e-01  9.1962010e-02 -1.9555457e-01 ...</td>\n",
              "      <td>0</td>\n",
              "      <td>0</td>\n",
              "    </tr>\n",
              "    <tr>\n",
              "      <th>26495</th>\n",
              "      <td>как</td>\n",
              "      <td>[ 1.0349948e+00  7.3793733e-01 -3.8374668e-01 ...</td>\n",
              "      <td>0</td>\n",
              "      <td>22</td>\n",
              "      <td>68</td>\n",
              "      <td>0</td>\n",
              "      <td>10</td>\n",
              "      <td>NaN</td>\n",
              "      <td>NaN</td>\n",
              "      <td>NaN</td>\n",
              "      <td>NaN</td>\n",
              "      <td>CONJ</td>\n",
              "      <td>advmod</td>\n",
              "      <td>есть</td>\n",
              "      <td>NaN</td>\n",
              "      <td>NaN</td>\n",
              "      <td>NaN</td>\n",
              "      <td>INFN</td>\n",
              "      <td>[-0.0050342   0.14796825  0.08416066 -0.776544...</td>\n",
              "      <td>[ 1.00772209e-01  6.29534647e-02 -3.53814550e-...</td>\n",
              "      <td>[ 5.7842094e-01  9.1962010e-02 -1.9555457e-01 ...</td>\n",
              "      <td>0</td>\n",
              "      <td>0</td>\n",
              "    </tr>\n",
              "    <tr>\n",
              "      <th>26496</th>\n",
              "      <td>светка</td>\n",
              "      <td>[ 0.5079827   0.70259637  0.12796001 -0.312092...</td>\n",
              "      <td>0</td>\n",
              "      <td>22</td>\n",
              "      <td>69</td>\n",
              "      <td>0</td>\n",
              "      <td>0</td>\n",
              "      <td>inan</td>\n",
              "      <td>nomn</td>\n",
              "      <td>femn</td>\n",
              "      <td>NaN</td>\n",
              "      <td>NOUN</td>\n",
              "      <td>ROOT</td>\n",
              "      <td>светка</td>\n",
              "      <td>inan</td>\n",
              "      <td>nomn</td>\n",
              "      <td>femn</td>\n",
              "      <td>NOUN</td>\n",
              "      <td>[ 0.5079827   0.70259637  0.12796001 -0.312092...</td>\n",
              "      <td>[ 0.5079827   0.70259637  0.12796001 -0.312092...</td>\n",
              "      <td>0.0</td>\n",
              "      <td>0</td>\n",
              "      <td>0</td>\n",
              "    </tr>\n",
              "  </tbody>\n",
              "</table>\n",
              "<p>26497 rows × 23 columns</p>\n",
              "</div>"
            ],
            "text/plain": [
              "            TOKEN  ... COREFERENCE_CLUSTER\n",
              "0       обсуждаем  ...                   0\n",
              "1        препарат  ...                   0\n",
              "2      рисперидон  ...                   0\n",
              "3       рисполепт  ...                   0\n",
              "4        сперидан  ...                   0\n",
              "...           ...  ...                 ...\n",
              "26492           и  ...                   0\n",
              "26493  таможенные  ...                   0\n",
              "26494     пошлины  ...                   0\n",
              "26495         как  ...                   0\n",
              "26496      светка  ...                   0\n",
              "\n",
              "[26497 rows x 23 columns]"
            ]
          },
          "metadata": {
            "tags": []
          },
          "execution_count": 40
        }
      ]
    },
    {
      "cell_type": "code",
      "metadata": {
        "colab": {
          "base_uri": "https://localhost:8080/"
        },
        "id": "Eoht1lnExJHw",
        "outputId": "331d06c7-6e3b-47b2-cc95-8685d427e47c"
      },
      "source": [
        "cosine_similarity([np.matrix(cor_df.TOKEN_VECT[2]).A[0]], [np.matrix(cor_df.TOKEN_VECT[3]).A[0]])[-1][-1]"
      ],
      "execution_count": 41,
      "outputs": [
        {
          "output_type": "execute_result",
          "data": {
            "text/plain": [
              "0.8436395154681279"
            ]
          },
          "metadata": {
            "tags": []
          },
          "execution_count": 41
        }
      ]
    },
    {
      "cell_type": "code",
      "metadata": {
        "id": "jJgyUaV7WUAw"
      },
      "source": [
        ""
      ],
      "execution_count": 41,
      "outputs": []
    },
    {
      "cell_type": "markdown",
      "metadata": {
        "id": "ZcUH3c9e2Zwe"
      },
      "source": [
        "# **VECTORS HANDLING**"
      ]
    },
    {
      "cell_type": "markdown",
      "metadata": {
        "id": "vtuQeIa7qo7B"
      },
      "source": [
        "Изменяем значения векторов предложений, главного слова группы, зависимых слов группы, и токена на косинусную дистанцию с семантической осью.\n",
        "\n",
        "Сначала, изменим строковое представление на массив."
      ]
    },
    {
      "cell_type": "code",
      "metadata": {
        "id": "pSkpdVWPWofo"
      },
      "source": [
        "cor_df.TOKEN_VECT = [np.matrix(i).A[0] for i in cor_df.TOKEN_VECT]\n",
        "cor_df.HEAD_VECT = [np.matrix(i).A[0] for i in cor_df.HEAD_VECT]\n",
        "cor_df.SENT_VECT = [np.matrix(i).A[0] for i in cor_df.SENT_VECT]\n",
        "cor_df.HEAD_CHILDS_VECT = [np.matrix(i).A[0] for i in cor_df.HEAD_CHILDS_VECT]"
      ],
      "execution_count": 42,
      "outputs": []
    },
    {
      "cell_type": "markdown",
      "metadata": {
        "id": "pHpVo0QmrWzE"
      },
      "source": [
        "Добавим размеченные данные, и посмотрим, что получилось."
      ]
    },
    {
      "cell_type": "code",
      "metadata": {
        "id": "FGLkZXITh3BZ"
      },
      "source": [
        "cor_df['NER'] = anns_df['NER']\n",
        "cor_df['COREFERENCE_CLUSTER'] = anns_df['COREFERENCE_CLUSTER']\n",
        "# cor_df"
      ],
      "execution_count": 43,
      "outputs": []
    },
    {
      "cell_type": "markdown",
      "metadata": {
        "id": "9EK9eAjjr8Vm"
      },
      "source": [
        "Ограничим датафрейм теми данными, которые были размечены, чтобы была возможность провести оценку системы."
      ]
    },
    {
      "cell_type": "code",
      "metadata": {
        "id": "8zzHN3oQjNoC"
      },
      "source": [
        "df = cor_df.iloc[:15000,:]"
      ],
      "execution_count": 44,
      "outputs": []
    },
    {
      "cell_type": "code",
      "metadata": {
        "colab": {
          "base_uri": "https://localhost:8080/",
          "height": 945
        },
        "id": "K-oA3ghDGz5-",
        "outputId": "6e4aa02b-338e-4fdb-a3d1-680b86c8bac3"
      },
      "source": [
        "df"
      ],
      "execution_count": 45,
      "outputs": [
        {
          "output_type": "execute_result",
          "data": {
            "text/html": [
              "<div>\n",
              "<style scoped>\n",
              "    .dataframe tbody tr th:only-of-type {\n",
              "        vertical-align: middle;\n",
              "    }\n",
              "\n",
              "    .dataframe tbody tr th {\n",
              "        vertical-align: top;\n",
              "    }\n",
              "\n",
              "    .dataframe thead th {\n",
              "        text-align: right;\n",
              "    }\n",
              "</style>\n",
              "<table border=\"1\" class=\"dataframe\">\n",
              "  <thead>\n",
              "    <tr style=\"text-align: right;\">\n",
              "      <th></th>\n",
              "      <th>TOKEN</th>\n",
              "      <th>TOKEN_VECT</th>\n",
              "      <th>IS_ANSWER</th>\n",
              "      <th>TOPIC_NUM</th>\n",
              "      <th>POST_NUM</th>\n",
              "      <th>SENT_NUM</th>\n",
              "      <th>TOKEN_NUM</th>\n",
              "      <th>ANIMACY</th>\n",
              "      <th>CASE</th>\n",
              "      <th>GENDER</th>\n",
              "      <th>PERSON</th>\n",
              "      <th>POS</th>\n",
              "      <th>DEPENDENCY</th>\n",
              "      <th>HEAD</th>\n",
              "      <th>HEAD_ANIMACY</th>\n",
              "      <th>HEAD_CASE</th>\n",
              "      <th>HEAD_GENDER</th>\n",
              "      <th>HEAD_POS</th>\n",
              "      <th>HEAD_VECT</th>\n",
              "      <th>SENT_VECT</th>\n",
              "      <th>HEAD_CHILDS_VECT</th>\n",
              "      <th>NER</th>\n",
              "      <th>COREFERENCE_CLUSTER</th>\n",
              "    </tr>\n",
              "  </thead>\n",
              "  <tbody>\n",
              "    <tr>\n",
              "      <th>0</th>\n",
              "      <td>обсуждаем</td>\n",
              "      <td>[-0.208233938, 0.996180058, -0.279894114, -0.9...</td>\n",
              "      <td>0</td>\n",
              "      <td>1</td>\n",
              "      <td>0</td>\n",
              "      <td>0</td>\n",
              "      <td>0</td>\n",
              "      <td>NaN</td>\n",
              "      <td>NaN</td>\n",
              "      <td>NaN</td>\n",
              "      <td>1per</td>\n",
              "      <td>VERB</td>\n",
              "      <td>ROOT</td>\n",
              "      <td>обсуждаем</td>\n",
              "      <td>NaN</td>\n",
              "      <td>NaN</td>\n",
              "      <td>NaN</td>\n",
              "      <td>VERB</td>\n",
              "      <td>[-0.208233938, 0.996180058, -0.279894114, -0.9...</td>\n",
              "      <td>[0.01863711, 0.2306802, 0.14600733, -0.0191193...</td>\n",
              "      <td>[-0.17725945, 0.94834274, 0.90867615, 0.850609...</td>\n",
              "      <td>0.0</td>\n",
              "      <td>0.0</td>\n",
              "    </tr>\n",
              "    <tr>\n",
              "      <th>1</th>\n",
              "      <td>препарат</td>\n",
              "      <td>[-0.17725945, 0.94834274, 0.90867615, 0.850609...</td>\n",
              "      <td>0</td>\n",
              "      <td>1</td>\n",
              "      <td>0</td>\n",
              "      <td>0</td>\n",
              "      <td>1</td>\n",
              "      <td>inan</td>\n",
              "      <td>nomn</td>\n",
              "      <td>masc</td>\n",
              "      <td>NaN</td>\n",
              "      <td>NOUN</td>\n",
              "      <td>obj</td>\n",
              "      <td>обсуждаем</td>\n",
              "      <td>NaN</td>\n",
              "      <td>NaN</td>\n",
              "      <td>NaN</td>\n",
              "      <td>VERB</td>\n",
              "      <td>[-0.208233938, 0.996180058, -0.279894114, -0.9...</td>\n",
              "      <td>[0.01863711, 0.2306802, 0.14600733, -0.0191193...</td>\n",
              "      <td>[-0.17725945, 0.94834274, 0.90867615, 0.850609...</td>\n",
              "      <td>0.0</td>\n",
              "      <td>0.0</td>\n",
              "    </tr>\n",
              "    <tr>\n",
              "      <th>2</th>\n",
              "      <td>рисперидон</td>\n",
              "      <td>[0.15259643, 1.0673474, 0.84192747, -0.0775155...</td>\n",
              "      <td>0</td>\n",
              "      <td>1</td>\n",
              "      <td>0</td>\n",
              "      <td>0</td>\n",
              "      <td>2</td>\n",
              "      <td>anim</td>\n",
              "      <td>nomn</td>\n",
              "      <td>masc</td>\n",
              "      <td>NaN</td>\n",
              "      <td>NOUN</td>\n",
              "      <td>appos</td>\n",
              "      <td>препарат</td>\n",
              "      <td>inan</td>\n",
              "      <td>nomn</td>\n",
              "      <td>masc</td>\n",
              "      <td>NOUN</td>\n",
              "      <td>[-0.17725945, 0.94834274, 0.90867615, 0.850609...</td>\n",
              "      <td>[0.01863711, 0.2306802, 0.14600733, -0.0191193...</td>\n",
              "      <td>[0.15259643, 1.0673474, 0.84192747, -0.0775155...</td>\n",
              "      <td>1.0</td>\n",
              "      <td>2.0</td>\n",
              "    </tr>\n",
              "    <tr>\n",
              "      <th>3</th>\n",
              "      <td>рисполепт</td>\n",
              "      <td>[0.012426247, 1.0408522, 0.6913349, -0.1638528...</td>\n",
              "      <td>0</td>\n",
              "      <td>1</td>\n",
              "      <td>0</td>\n",
              "      <td>0</td>\n",
              "      <td>3</td>\n",
              "      <td>inan</td>\n",
              "      <td>gent</td>\n",
              "      <td>femn</td>\n",
              "      <td>NaN</td>\n",
              "      <td>NOUN</td>\n",
              "      <td>parataxis</td>\n",
              "      <td>рисперидон</td>\n",
              "      <td>anim</td>\n",
              "      <td>nomn</td>\n",
              "      <td>masc</td>\n",
              "      <td>NOUN</td>\n",
              "      <td>[0.15259643, 1.0673474, 0.84192747, -0.0775155...</td>\n",
              "      <td>[0.01863711, 0.2306802, 0.14600733, -0.0191193...</td>\n",
              "      <td>[0.012426247, 1.0408522, 0.6913349, -0.1638528...</td>\n",
              "      <td>1.0</td>\n",
              "      <td>3.0</td>\n",
              "    </tr>\n",
              "    <tr>\n",
              "      <th>4</th>\n",
              "      <td>сперидан</td>\n",
              "      <td>[0.08634768, 0.893356, 0.55127096, -0.06507572...</td>\n",
              "      <td>0</td>\n",
              "      <td>1</td>\n",
              "      <td>0</td>\n",
              "      <td>0</td>\n",
              "      <td>4</td>\n",
              "      <td>NaN</td>\n",
              "      <td>NaN</td>\n",
              "      <td>masc</td>\n",
              "      <td>NaN</td>\n",
              "      <td>PRTS</td>\n",
              "      <td>conj</td>\n",
              "      <td>рисполепт</td>\n",
              "      <td>inan</td>\n",
              "      <td>gent</td>\n",
              "      <td>femn</td>\n",
              "      <td>NOUN</td>\n",
              "      <td>[0.012426247, 1.0408522, 0.6913349, -0.1638528...</td>\n",
              "      <td>[0.01863711, 0.2306802, 0.14600733, -0.0191193...</td>\n",
              "      <td>[0.02878256, 0.29778534, 0.18375699, -0.021691...</td>\n",
              "      <td>1.0</td>\n",
              "      <td>4.0</td>\n",
              "    </tr>\n",
              "    <tr>\n",
              "      <th>...</th>\n",
              "      <td>...</td>\n",
              "      <td>...</td>\n",
              "      <td>...</td>\n",
              "      <td>...</td>\n",
              "      <td>...</td>\n",
              "      <td>...</td>\n",
              "      <td>...</td>\n",
              "      <td>...</td>\n",
              "      <td>...</td>\n",
              "      <td>...</td>\n",
              "      <td>...</td>\n",
              "      <td>...</td>\n",
              "      <td>...</td>\n",
              "      <td>...</td>\n",
              "      <td>...</td>\n",
              "      <td>...</td>\n",
              "      <td>...</td>\n",
              "      <td>...</td>\n",
              "      <td>...</td>\n",
              "      <td>...</td>\n",
              "      <td>...</td>\n",
              "      <td>...</td>\n",
              "      <td>...</td>\n",
              "    </tr>\n",
              "    <tr>\n",
              "      <th>14995</th>\n",
              "      <td>эта</td>\n",
              "      <td>[0.46855617, 0.33405855, 0.19523463, -0.341421...</td>\n",
              "      <td>0</td>\n",
              "      <td>16</td>\n",
              "      <td>3</td>\n",
              "      <td>0</td>\n",
              "      <td>10</td>\n",
              "      <td>NaN</td>\n",
              "      <td>nomn</td>\n",
              "      <td>femn</td>\n",
              "      <td>NaN</td>\n",
              "      <td>ADJF</td>\n",
              "      <td>det</td>\n",
              "      <td>вакцина</td>\n",
              "      <td>inan</td>\n",
              "      <td>nomn</td>\n",
              "      <td>femn</td>\n",
              "      <td>NOUN</td>\n",
              "      <td>[0.3625939, 0.13204741, -0.02575476, -0.517570...</td>\n",
              "      <td>[0.0185163, 0.03019085, 0.00883435, 0.01005786...</td>\n",
              "      <td>[0.46855617, 0.33405855, 0.19523463, -0.341421...</td>\n",
              "      <td>0.0</td>\n",
              "      <td>0.0</td>\n",
              "    </tr>\n",
              "    <tr>\n",
              "      <th>14996</th>\n",
              "      <td>вакцина</td>\n",
              "      <td>[0.3625939, 0.13204741, -0.02575476, -0.517570...</td>\n",
              "      <td>0</td>\n",
              "      <td>16</td>\n",
              "      <td>3</td>\n",
              "      <td>0</td>\n",
              "      <td>11</td>\n",
              "      <td>inan</td>\n",
              "      <td>nomn</td>\n",
              "      <td>femn</td>\n",
              "      <td>NaN</td>\n",
              "      <td>NOUN</td>\n",
              "      <td>nsubj</td>\n",
              "      <td>аукнется</td>\n",
              "      <td>NaN</td>\n",
              "      <td>NaN</td>\n",
              "      <td>NaN</td>\n",
              "      <td>VERB</td>\n",
              "      <td>[0.4076383, 0.26426148, 0.31928974, 0.1378843,...</td>\n",
              "      <td>[0.0185163, 0.03019085, 0.00883435, 0.01005786...</td>\n",
              "      <td>[0.49104294, 0.533049, -0.17000696, 0.3062497,...</td>\n",
              "      <td>0.0</td>\n",
              "      <td>0.0</td>\n",
              "    </tr>\n",
              "    <tr>\n",
              "      <th>14997</th>\n",
              "      <td>аукнется</td>\n",
              "      <td>[0.4076383, 0.26426148, 0.31928974, 0.1378843,...</td>\n",
              "      <td>0</td>\n",
              "      <td>16</td>\n",
              "      <td>3</td>\n",
              "      <td>0</td>\n",
              "      <td>12</td>\n",
              "      <td>NaN</td>\n",
              "      <td>NaN</td>\n",
              "      <td>NaN</td>\n",
              "      <td>3per</td>\n",
              "      <td>VERB</td>\n",
              "      <td>csubj</td>\n",
              "      <td>неизвестно</td>\n",
              "      <td>NaN</td>\n",
              "      <td>NaN</td>\n",
              "      <td>NaN</td>\n",
              "      <td>ADVB</td>\n",
              "      <td>[0.49159753, 0.09829157, 0.20229428, -0.199118...</td>\n",
              "      <td>[0.0185163, 0.03019085, 0.00883435, 0.01005786...</td>\n",
              "      <td>[0.22764659, 0.2621964, 0.24174161, 0.01494996...</td>\n",
              "      <td>0.0</td>\n",
              "      <td>0.0</td>\n",
              "    </tr>\n",
              "    <tr>\n",
              "      <th>14998</th>\n",
              "      <td>на</td>\n",
              "      <td>[0.76294684, 0.88684666, 0.41325688, 0.3235328...</td>\n",
              "      <td>0</td>\n",
              "      <td>16</td>\n",
              "      <td>3</td>\n",
              "      <td>0</td>\n",
              "      <td>13</td>\n",
              "      <td>NaN</td>\n",
              "      <td>NaN</td>\n",
              "      <td>NaN</td>\n",
              "      <td>NaN</td>\n",
              "      <td>PREP</td>\n",
              "      <td>case</td>\n",
              "      <td>организме</td>\n",
              "      <td>inan</td>\n",
              "      <td>loct</td>\n",
              "      <td>masc</td>\n",
              "      <td>NOUN</td>\n",
              "      <td>[0.3846327, 0.56424165, 0.09776899, 0.7855562,...</td>\n",
              "      <td>[0.0185163, 0.03019085, 0.00883435, 0.01005786...</td>\n",
              "      <td>[0.76294684, 0.88684666, 0.41325688, 0.3235328...</td>\n",
              "      <td>0.0</td>\n",
              "      <td>0.0</td>\n",
              "    </tr>\n",
              "    <tr>\n",
              "      <th>14999</th>\n",
              "      <td>организме</td>\n",
              "      <td>[0.3846327, 0.56424165, 0.09776899, 0.7855562,...</td>\n",
              "      <td>0</td>\n",
              "      <td>16</td>\n",
              "      <td>3</td>\n",
              "      <td>0</td>\n",
              "      <td>14</td>\n",
              "      <td>inan</td>\n",
              "      <td>loct</td>\n",
              "      <td>masc</td>\n",
              "      <td>NaN</td>\n",
              "      <td>NOUN</td>\n",
              "      <td>obl</td>\n",
              "      <td>аукнется</td>\n",
              "      <td>NaN</td>\n",
              "      <td>NaN</td>\n",
              "      <td>NaN</td>\n",
              "      <td>VERB</td>\n",
              "      <td>[0.4076383, 0.26426148, 0.31928974, 0.1378843,...</td>\n",
              "      <td>[0.0185163, 0.03019085, 0.00883435, 0.01005786...</td>\n",
              "      <td>[0.49104294, 0.533049, -0.17000696, 0.3062497,...</td>\n",
              "      <td>0.0</td>\n",
              "      <td>0.0</td>\n",
              "    </tr>\n",
              "  </tbody>\n",
              "</table>\n",
              "<p>15000 rows × 23 columns</p>\n",
              "</div>"
            ],
            "text/plain": [
              "            TOKEN  ... COREFERENCE_CLUSTER\n",
              "0       обсуждаем  ...                 0.0\n",
              "1        препарат  ...                 0.0\n",
              "2      рисперидон  ...                 2.0\n",
              "3       рисполепт  ...                 3.0\n",
              "4        сперидан  ...                 4.0\n",
              "...           ...  ...                 ...\n",
              "14995         эта  ...                 0.0\n",
              "14996     вакцина  ...                 0.0\n",
              "14997    аукнется  ...                 0.0\n",
              "14998          на  ...                 0.0\n",
              "14999   организме  ...                 0.0\n",
              "\n",
              "[15000 rows x 23 columns]"
            ]
          },
          "metadata": {
            "tags": []
          },
          "execution_count": 45
        }
      ]
    },
    {
      "cell_type": "markdown",
      "metadata": {
        "id": "Md-DxsOHsLN2"
      },
      "source": [
        "Всего наименований препаратов размечено (это не обязательно антецеденты, любое название препарата)."
      ]
    },
    {
      "cell_type": "code",
      "metadata": {
        "colab": {
          "base_uri": "https://localhost:8080/"
        },
        "id": "ZUxdUD5ZWpku",
        "outputId": "82ecd43e-dc28-4730-f7f1-80a6b411113c"
      },
      "source": [
        "len(df.loc[df['NER'] == 1])"
      ],
      "execution_count": 46,
      "outputs": [
        {
          "output_type": "execute_result",
          "data": {
            "text/plain": [
              "576"
            ]
          },
          "metadata": {
            "tags": []
          },
          "execution_count": 46
        }
      ]
    },
    {
      "cell_type": "markdown",
      "metadata": {
        "id": "0kDh_Mw0sO8N"
      },
      "source": [
        "Из них местоимений (прономинальные анафоры)."
      ]
    },
    {
      "cell_type": "code",
      "metadata": {
        "colab": {
          "base_uri": "https://localhost:8080/"
        },
        "id": "4Te0h4xrlvUH",
        "outputId": "2b502d07-a6e2-40b1-cc15-fba653686202"
      },
      "source": [
        "len(df.loc[df['NER'] == 3])"
      ],
      "execution_count": 47,
      "outputs": [
        {
          "output_type": "execute_result",
          "data": {
            "text/plain": [
              "113"
            ]
          },
          "metadata": {
            "tags": []
          },
          "execution_count": 47
        }
      ]
    },
    {
      "cell_type": "markdown",
      "metadata": {
        "id": "DfRQXgXqsbC2"
      },
      "source": [
        "И номинативные анафоры существительные, такие как \"препарат\" и \"лекарство\". В основном это они и есть."
      ]
    },
    {
      "cell_type": "code",
      "metadata": {
        "colab": {
          "base_uri": "https://localhost:8080/"
        },
        "id": "M1CiLnyGltqt",
        "outputId": "2b539b7e-4c7a-450b-e6f9-40055eac4520"
      },
      "source": [
        "len(df.loc[df['NER'] == 2])"
      ],
      "execution_count": 48,
      "outputs": [
        {
          "output_type": "execute_result",
          "data": {
            "text/plain": [
              "214"
            ]
          },
          "metadata": {
            "tags": []
          },
          "execution_count": 48
        }
      ]
    },
    {
      "cell_type": "code",
      "metadata": {
        "colab": {
          "base_uri": "https://localhost:8080/"
        },
        "id": "FB-5d7uAn6Jl",
        "outputId": "7bbaa2a1-c48a-42a3-97a9-be22f4e76392"
      },
      "source": [
        "len(df.loc[df['NER'].isin([1,2,3])])"
      ],
      "execution_count": 49,
      "outputs": [
        {
          "output_type": "execute_result",
          "data": {
            "text/plain": [
              "903"
            ]
          },
          "metadata": {
            "tags": []
          },
          "execution_count": 49
        }
      ]
    },
    {
      "cell_type": "code",
      "metadata": {
        "id": "LjPlHQCcmBjv"
      },
      "source": [
        "# df['NER'] = [int(i) for i in df['NER']]\n",
        "# df['COREFERENCE_CLUSTER'] = [int(i) for i in df['COREFERENCE_CLUSTER']]"
      ],
      "execution_count": 50,
      "outputs": []
    },
    {
      "cell_type": "markdown",
      "metadata": {
        "id": "IHxSn2iAtJW-"
      },
      "source": [
        "Посмотрим на данные."
      ]
    },
    {
      "cell_type": "code",
      "metadata": {
        "colab": {
          "base_uri": "https://localhost:8080/",
          "height": 945
        },
        "id": "0t2P18AaoYk7",
        "outputId": "96ab0244-0f18-4d71-a916-8f86b3c49b42"
      },
      "source": [
        "df.loc[df['NER'].isin([1,2,3])]"
      ],
      "execution_count": 51,
      "outputs": [
        {
          "output_type": "execute_result",
          "data": {
            "text/html": [
              "<div>\n",
              "<style scoped>\n",
              "    .dataframe tbody tr th:only-of-type {\n",
              "        vertical-align: middle;\n",
              "    }\n",
              "\n",
              "    .dataframe tbody tr th {\n",
              "        vertical-align: top;\n",
              "    }\n",
              "\n",
              "    .dataframe thead th {\n",
              "        text-align: right;\n",
              "    }\n",
              "</style>\n",
              "<table border=\"1\" class=\"dataframe\">\n",
              "  <thead>\n",
              "    <tr style=\"text-align: right;\">\n",
              "      <th></th>\n",
              "      <th>TOKEN</th>\n",
              "      <th>TOKEN_VECT</th>\n",
              "      <th>IS_ANSWER</th>\n",
              "      <th>TOPIC_NUM</th>\n",
              "      <th>POST_NUM</th>\n",
              "      <th>SENT_NUM</th>\n",
              "      <th>TOKEN_NUM</th>\n",
              "      <th>ANIMACY</th>\n",
              "      <th>CASE</th>\n",
              "      <th>GENDER</th>\n",
              "      <th>PERSON</th>\n",
              "      <th>POS</th>\n",
              "      <th>DEPENDENCY</th>\n",
              "      <th>HEAD</th>\n",
              "      <th>HEAD_ANIMACY</th>\n",
              "      <th>HEAD_CASE</th>\n",
              "      <th>HEAD_GENDER</th>\n",
              "      <th>HEAD_POS</th>\n",
              "      <th>HEAD_VECT</th>\n",
              "      <th>SENT_VECT</th>\n",
              "      <th>HEAD_CHILDS_VECT</th>\n",
              "      <th>NER</th>\n",
              "      <th>COREFERENCE_CLUSTER</th>\n",
              "    </tr>\n",
              "  </thead>\n",
              "  <tbody>\n",
              "    <tr>\n",
              "      <th>2</th>\n",
              "      <td>рисперидон</td>\n",
              "      <td>[0.15259643, 1.0673474, 0.84192747, -0.0775155...</td>\n",
              "      <td>0</td>\n",
              "      <td>1</td>\n",
              "      <td>0</td>\n",
              "      <td>0</td>\n",
              "      <td>2</td>\n",
              "      <td>anim</td>\n",
              "      <td>nomn</td>\n",
              "      <td>masc</td>\n",
              "      <td>NaN</td>\n",
              "      <td>NOUN</td>\n",
              "      <td>appos</td>\n",
              "      <td>препарат</td>\n",
              "      <td>inan</td>\n",
              "      <td>nomn</td>\n",
              "      <td>masc</td>\n",
              "      <td>NOUN</td>\n",
              "      <td>[-0.17725945, 0.94834274, 0.90867615, 0.850609...</td>\n",
              "      <td>[0.01863711, 0.2306802, 0.14600733, -0.0191193...</td>\n",
              "      <td>[0.15259643, 1.0673474, 0.84192747, -0.0775155...</td>\n",
              "      <td>1.0</td>\n",
              "      <td>2.0</td>\n",
              "    </tr>\n",
              "    <tr>\n",
              "      <th>3</th>\n",
              "      <td>рисполепт</td>\n",
              "      <td>[0.012426247, 1.0408522, 0.6913349, -0.1638528...</td>\n",
              "      <td>0</td>\n",
              "      <td>1</td>\n",
              "      <td>0</td>\n",
              "      <td>0</td>\n",
              "      <td>3</td>\n",
              "      <td>inan</td>\n",
              "      <td>gent</td>\n",
              "      <td>femn</td>\n",
              "      <td>NaN</td>\n",
              "      <td>NOUN</td>\n",
              "      <td>parataxis</td>\n",
              "      <td>рисперидон</td>\n",
              "      <td>anim</td>\n",
              "      <td>nomn</td>\n",
              "      <td>masc</td>\n",
              "      <td>NOUN</td>\n",
              "      <td>[0.15259643, 1.0673474, 0.84192747, -0.0775155...</td>\n",
              "      <td>[0.01863711, 0.2306802, 0.14600733, -0.0191193...</td>\n",
              "      <td>[0.012426247, 1.0408522, 0.6913349, -0.1638528...</td>\n",
              "      <td>1.0</td>\n",
              "      <td>3.0</td>\n",
              "    </tr>\n",
              "    <tr>\n",
              "      <th>4</th>\n",
              "      <td>сперидан</td>\n",
              "      <td>[0.08634768, 0.893356, 0.55127096, -0.06507572...</td>\n",
              "      <td>0</td>\n",
              "      <td>1</td>\n",
              "      <td>0</td>\n",
              "      <td>0</td>\n",
              "      <td>4</td>\n",
              "      <td>NaN</td>\n",
              "      <td>NaN</td>\n",
              "      <td>masc</td>\n",
              "      <td>NaN</td>\n",
              "      <td>PRTS</td>\n",
              "      <td>conj</td>\n",
              "      <td>рисполепт</td>\n",
              "      <td>inan</td>\n",
              "      <td>gent</td>\n",
              "      <td>femn</td>\n",
              "      <td>NOUN</td>\n",
              "      <td>[0.012426247, 1.0408522, 0.6913349, -0.1638528...</td>\n",
              "      <td>[0.01863711, 0.2306802, 0.14600733, -0.0191193...</td>\n",
              "      <td>[0.02878256, 0.29778534, 0.18375699, -0.021691...</td>\n",
              "      <td>1.0</td>\n",
              "      <td>4.0</td>\n",
              "    </tr>\n",
              "    <tr>\n",
              "      <th>21</th>\n",
              "      <td>лекарством</td>\n",
              "      <td>[0.598588, -0.07832722, 0.23088205, -0.3704158...</td>\n",
              "      <td>0</td>\n",
              "      <td>1</td>\n",
              "      <td>1</td>\n",
              "      <td>1</td>\n",
              "      <td>10</td>\n",
              "      <td>inan</td>\n",
              "      <td>ablt</td>\n",
              "      <td>neut</td>\n",
              "      <td>NaN</td>\n",
              "      <td>NOUN</td>\n",
              "      <td>conj</td>\n",
              "      <td>нет</td>\n",
              "      <td>NaN</td>\n",
              "      <td>NaN</td>\n",
              "      <td>NaN</td>\n",
              "      <td>PRED</td>\n",
              "      <td>[1.3479745, 0.34477097, 0.20343542, 0.10220611...</td>\n",
              "      <td>[0.05498165, -0.00549405, 0.01865345, -0.03142...</td>\n",
              "      <td>[0.42120528, 0.21546456, 0.00441866, -0.240917...</td>\n",
              "      <td>2.0</td>\n",
              "      <td>0.0</td>\n",
              "    </tr>\n",
              "    <tr>\n",
              "      <th>142</th>\n",
              "      <td>рисполепта</td>\n",
              "      <td>[0.20826544, 0.5118653, 0.6703367, -0.22502856...</td>\n",
              "      <td>0</td>\n",
              "      <td>1</td>\n",
              "      <td>1</td>\n",
              "      <td>13</td>\n",
              "      <td>7</td>\n",
              "      <td>inan</td>\n",
              "      <td>nomn</td>\n",
              "      <td>femn</td>\n",
              "      <td>NaN</td>\n",
              "      <td>NOUN</td>\n",
              "      <td>nmod</td>\n",
              "      <td>дозировку</td>\n",
              "      <td>inan</td>\n",
              "      <td>accs</td>\n",
              "      <td>femn</td>\n",
              "      <td>NOUN</td>\n",
              "      <td>[0.5131939, 0.9708054, 0.53676724, 0.09788364,...</td>\n",
              "      <td>[0.11585727, 0.1283627, 0.02299715, -0.0095005...</td>\n",
              "      <td>[0.28126505, 0.3790152, 0.5397224, -0.09368, -...</td>\n",
              "      <td>1.0</td>\n",
              "      <td>142.0</td>\n",
              "    </tr>\n",
              "    <tr>\n",
              "      <th>...</th>\n",
              "      <td>...</td>\n",
              "      <td>...</td>\n",
              "      <td>...</td>\n",
              "      <td>...</td>\n",
              "      <td>...</td>\n",
              "      <td>...</td>\n",
              "      <td>...</td>\n",
              "      <td>...</td>\n",
              "      <td>...</td>\n",
              "      <td>...</td>\n",
              "      <td>...</td>\n",
              "      <td>...</td>\n",
              "      <td>...</td>\n",
              "      <td>...</td>\n",
              "      <td>...</td>\n",
              "      <td>...</td>\n",
              "      <td>...</td>\n",
              "      <td>...</td>\n",
              "      <td>...</td>\n",
              "      <td>...</td>\n",
              "      <td>...</td>\n",
              "      <td>...</td>\n",
              "      <td>...</td>\n",
              "    </tr>\n",
              "    <tr>\n",
              "      <th>14737</th>\n",
              "      <td>капецитабин</td>\n",
              "      <td>[0.342338204, 1.20741296, 0.623081028, 0.04668...</td>\n",
              "      <td>1</td>\n",
              "      <td>15</td>\n",
              "      <td>17</td>\n",
              "      <td>10</td>\n",
              "      <td>1760</td>\n",
              "      <td>anim</td>\n",
              "      <td>nomn</td>\n",
              "      <td>masc</td>\n",
              "      <td>NaN</td>\n",
              "      <td>NOUN</td>\n",
              "      <td>obj</td>\n",
              "      <td>закончили</td>\n",
              "      <td>NaN</td>\n",
              "      <td>NaN</td>\n",
              "      <td>NaN</td>\n",
              "      <td>VERB</td>\n",
              "      <td>[0.47268036, 0.591915309, 0.0497007072, 9.5443...</td>\n",
              "      <td>[0.03567506, 0.05356697, -0.02985729, 0.017830...</td>\n",
              "      <td>[0.22042012, 0.68094474, 0.0970263, 0.13410695...</td>\n",
              "      <td>1.0</td>\n",
              "      <td>2215.0</td>\n",
              "    </tr>\n",
              "    <tr>\n",
              "      <th>14739</th>\n",
              "      <td>пить</td>\n",
              "      <td>[0.32367313, 1.055545, 0.06944968, 0.37159777,...</td>\n",
              "      <td>1</td>\n",
              "      <td>15</td>\n",
              "      <td>17</td>\n",
              "      <td>10</td>\n",
              "      <td>1762</td>\n",
              "      <td>NaN</td>\n",
              "      <td>NaN</td>\n",
              "      <td>NaN</td>\n",
              "      <td>NaN</td>\n",
              "      <td>INFN</td>\n",
              "      <td>xcomp</td>\n",
              "      <td>закончили</td>\n",
              "      <td>NaN</td>\n",
              "      <td>NaN</td>\n",
              "      <td>NaN</td>\n",
              "      <td>VERB</td>\n",
              "      <td>[0.47268036, 0.591915309, 0.0497007072, 9.5443...</td>\n",
              "      <td>[0.03567506, 0.05356697, -0.02985729, 0.017830...</td>\n",
              "      <td>[0.22042012, 0.68094474, 0.0970263, 0.13410695...</td>\n",
              "      <td>1.0</td>\n",
              "      <td>2217.0</td>\n",
              "    </tr>\n",
              "    <tr>\n",
              "      <th>14786</th>\n",
              "      <td>чем</td>\n",
              "      <td>[0.02129029, 0.3361394, 0.37177402, -0.1613324...</td>\n",
              "      <td>1</td>\n",
              "      <td>15</td>\n",
              "      <td>18</td>\n",
              "      <td>0</td>\n",
              "      <td>1809</td>\n",
              "      <td>NaN</td>\n",
              "      <td>NaN</td>\n",
              "      <td>NaN</td>\n",
              "      <td>NaN</td>\n",
              "      <td>CONJ</td>\n",
              "      <td>fixed</td>\n",
              "      <td>тогда</td>\n",
              "      <td>NaN</td>\n",
              "      <td>NaN</td>\n",
              "      <td>NaN</td>\n",
              "      <td>ADVB</td>\n",
              "      <td>[0.63305646, 0.76141953, 0.38590235, -0.319505...</td>\n",
              "      <td>[0.02524, 0.01563716, -0.04932618, -0.00945873...</td>\n",
              "      <td>[0.02129029, 0.3361394, 0.37177402, -0.1613324...</td>\n",
              "      <td>1.0</td>\n",
              "      <td>2264.0</td>\n",
              "    </tr>\n",
              "    <tr>\n",
              "      <th>14817</th>\n",
              "      <td>данный</td>\n",
              "      <td>[0.20950672, 1.1722854, -0.22494371, 0.0924339...</td>\n",
              "      <td>1</td>\n",
              "      <td>15</td>\n",
              "      <td>18</td>\n",
              "      <td>4</td>\n",
              "      <td>1840</td>\n",
              "      <td>inan</td>\n",
              "      <td>accs</td>\n",
              "      <td>masc</td>\n",
              "      <td>NaN</td>\n",
              "      <td>ADJF</td>\n",
              "      <td>amod</td>\n",
              "      <td>момент</td>\n",
              "      <td>inan</td>\n",
              "      <td>accs</td>\n",
              "      <td>masc</td>\n",
              "      <td>NOUN</td>\n",
              "      <td>[0.13350825, 1.0182619, -0.18650436, 0.4104124...</td>\n",
              "      <td>[0.0310304258, 0.0191320945, 0.027789766, -0.0...</td>\n",
              "      <td>[0.4862268, 1.029566, 0.09415659, 0.20798339, ...</td>\n",
              "      <td>1.0</td>\n",
              "      <td>2295.0</td>\n",
              "    </tr>\n",
              "    <tr>\n",
              "      <th>14836</th>\n",
              "      <td>палате</td>\n",
              "      <td>[-0.3576566, 0.19132045, 0.23264506, -0.019612...</td>\n",
              "      <td>1</td>\n",
              "      <td>15</td>\n",
              "      <td>18</td>\n",
              "      <td>5</td>\n",
              "      <td>1859</td>\n",
              "      <td>inan</td>\n",
              "      <td>loct</td>\n",
              "      <td>femn</td>\n",
              "      <td>NaN</td>\n",
              "      <td>NOUN</td>\n",
              "      <td>nmod</td>\n",
              "      <td>соседка</td>\n",
              "      <td>anim</td>\n",
              "      <td>nomn</td>\n",
              "      <td>femn</td>\n",
              "      <td>NOUN</td>\n",
              "      <td>[0.64610934, 0.41141477, 0.36687788, -0.901124...</td>\n",
              "      <td>[-0.00964161754, 0.0563719198, -0.00847674813,...</td>\n",
              "      <td>[-0.3576566, 0.19132045, 0.23264506, -0.019612...</td>\n",
              "      <td>3.0</td>\n",
              "      <td>2295.0</td>\n",
              "    </tr>\n",
              "  </tbody>\n",
              "</table>\n",
              "<p>903 rows × 23 columns</p>\n",
              "</div>"
            ],
            "text/plain": [
              "             TOKEN  ... COREFERENCE_CLUSTER\n",
              "2       рисперидон  ...                 2.0\n",
              "3        рисполепт  ...                 3.0\n",
              "4         сперидан  ...                 4.0\n",
              "21      лекарством  ...                 0.0\n",
              "142     рисполепта  ...               142.0\n",
              "...            ...  ...                 ...\n",
              "14737  капецитабин  ...              2215.0\n",
              "14739         пить  ...              2217.0\n",
              "14786          чем  ...              2264.0\n",
              "14817       данный  ...              2295.0\n",
              "14836       палате  ...              2295.0\n",
              "\n",
              "[903 rows x 23 columns]"
            ]
          },
          "metadata": {
            "tags": []
          },
          "execution_count": 51
        }
      ]
    },
    {
      "cell_type": "markdown",
      "metadata": {
        "id": "ilbjEHUW2d0c"
      },
      "source": [
        "# **SEMANTIC AXIS**"
      ]
    },
    {
      "cell_type": "markdown",
      "metadata": {
        "id": "ICYR890StPgM"
      },
      "source": [
        "Реализация метода семантических осей.\n",
        "Сначала, выбираем первые предложения каждого топика. Посмотрим на них."
      ]
    },
    {
      "cell_type": "code",
      "metadata": {
        "colab": {
          "base_uri": "https://localhost:8080/",
          "height": 1000
        },
        "id": "tEK7B7NT8kb5",
        "outputId": "799d72ed-bc0b-4729-ce8a-ebce92faa6af"
      },
      "source": [
        "axis_df = df.query('POST_NUM == 0 and TOKEN_NUM == 2 and SENT_NUM == 0')\n",
        "axis_df"
      ],
      "execution_count": 52,
      "outputs": [
        {
          "output_type": "execute_result",
          "data": {
            "text/html": [
              "<div>\n",
              "<style scoped>\n",
              "    .dataframe tbody tr th:only-of-type {\n",
              "        vertical-align: middle;\n",
              "    }\n",
              "\n",
              "    .dataframe tbody tr th {\n",
              "        vertical-align: top;\n",
              "    }\n",
              "\n",
              "    .dataframe thead th {\n",
              "        text-align: right;\n",
              "    }\n",
              "</style>\n",
              "<table border=\"1\" class=\"dataframe\">\n",
              "  <thead>\n",
              "    <tr style=\"text-align: right;\">\n",
              "      <th></th>\n",
              "      <th>TOKEN</th>\n",
              "      <th>TOKEN_VECT</th>\n",
              "      <th>IS_ANSWER</th>\n",
              "      <th>TOPIC_NUM</th>\n",
              "      <th>POST_NUM</th>\n",
              "      <th>SENT_NUM</th>\n",
              "      <th>TOKEN_NUM</th>\n",
              "      <th>ANIMACY</th>\n",
              "      <th>CASE</th>\n",
              "      <th>GENDER</th>\n",
              "      <th>PERSON</th>\n",
              "      <th>POS</th>\n",
              "      <th>DEPENDENCY</th>\n",
              "      <th>HEAD</th>\n",
              "      <th>HEAD_ANIMACY</th>\n",
              "      <th>HEAD_CASE</th>\n",
              "      <th>HEAD_GENDER</th>\n",
              "      <th>HEAD_POS</th>\n",
              "      <th>HEAD_VECT</th>\n",
              "      <th>SENT_VECT</th>\n",
              "      <th>HEAD_CHILDS_VECT</th>\n",
              "      <th>NER</th>\n",
              "      <th>COREFERENCE_CLUSTER</th>\n",
              "    </tr>\n",
              "  </thead>\n",
              "  <tbody>\n",
              "    <tr>\n",
              "      <th>2</th>\n",
              "      <td>рисперидон</td>\n",
              "      <td>[0.15259643, 1.0673474, 0.84192747, -0.0775155...</td>\n",
              "      <td>0</td>\n",
              "      <td>1</td>\n",
              "      <td>0</td>\n",
              "      <td>0</td>\n",
              "      <td>2</td>\n",
              "      <td>anim</td>\n",
              "      <td>nomn</td>\n",
              "      <td>masc</td>\n",
              "      <td>NaN</td>\n",
              "      <td>NOUN</td>\n",
              "      <td>appos</td>\n",
              "      <td>препарат</td>\n",
              "      <td>inan</td>\n",
              "      <td>nomn</td>\n",
              "      <td>masc</td>\n",
              "      <td>NOUN</td>\n",
              "      <td>[-0.17725945, 0.94834274, 0.90867615, 0.850609...</td>\n",
              "      <td>[0.01863711, 0.2306802, 0.14600733, -0.0191193...</td>\n",
              "      <td>[0.15259643, 1.0673474, 0.84192747, -0.0775155...</td>\n",
              "      <td>1.0</td>\n",
              "      <td>2.0</td>\n",
              "    </tr>\n",
              "    <tr>\n",
              "      <th>576</th>\n",
              "      <td>зелдокс</td>\n",
              "      <td>[0.2465947, 1.0097265, 0.31869438, 0.07363212,...</td>\n",
              "      <td>0</td>\n",
              "      <td>2</td>\n",
              "      <td>0</td>\n",
              "      <td>0</td>\n",
              "      <td>2</td>\n",
              "      <td>inan</td>\n",
              "      <td>nomn</td>\n",
              "      <td>masc</td>\n",
              "      <td>NaN</td>\n",
              "      <td>NOUN</td>\n",
              "      <td>appos</td>\n",
              "      <td>препарат</td>\n",
              "      <td>inan</td>\n",
              "      <td>nomn</td>\n",
              "      <td>masc</td>\n",
              "      <td>NOUN</td>\n",
              "      <td>[-0.17725945, 0.94834274, 0.90867615, 0.850609...</td>\n",
              "      <td>[0.03948287, 0.24082112, 0.22588146, -0.017884...</td>\n",
              "      <td>[0.2465947, 1.0097265, 0.31869438, 0.07363212,...</td>\n",
              "      <td>1.0</td>\n",
              "      <td>2.0</td>\n",
              "    </tr>\n",
              "    <tr>\n",
              "      <th>1870</th>\n",
              "      <td>оланзапин</td>\n",
              "      <td>[-0.082683861, 1.2017089, 0.67815673, -0.22599...</td>\n",
              "      <td>0</td>\n",
              "      <td>3</td>\n",
              "      <td>0</td>\n",
              "      <td>0</td>\n",
              "      <td>2</td>\n",
              "      <td>inan</td>\n",
              "      <td>gent</td>\n",
              "      <td>femn</td>\n",
              "      <td>NaN</td>\n",
              "      <td>NOUN</td>\n",
              "      <td>appos</td>\n",
              "      <td>препарат</td>\n",
              "      <td>inan</td>\n",
              "      <td>nomn</td>\n",
              "      <td>masc</td>\n",
              "      <td>NOUN</td>\n",
              "      <td>[-0.17725945, 0.94834274, 0.90867615, 0.850609...</td>\n",
              "      <td>[0.01915067, 0.0875298, 0.09080387, 0.00378973...</td>\n",
              "      <td>[-0.082683861, 1.2017089, 0.67815673, -0.22599...</td>\n",
              "      <td>1.0</td>\n",
              "      <td>2.0</td>\n",
              "    </tr>\n",
              "    <tr>\n",
              "      <th>5555</th>\n",
              "      <td>галоперидол</td>\n",
              "      <td>[-0.03019532, 1.2394575, 0.18222564, -0.215572...</td>\n",
              "      <td>0</td>\n",
              "      <td>4</td>\n",
              "      <td>0</td>\n",
              "      <td>0</td>\n",
              "      <td>2</td>\n",
              "      <td>inan</td>\n",
              "      <td>nomn</td>\n",
              "      <td>masc</td>\n",
              "      <td>NaN</td>\n",
              "      <td>NOUN</td>\n",
              "      <td>obj</td>\n",
              "      <td>обсуждаем</td>\n",
              "      <td>NaN</td>\n",
              "      <td>NaN</td>\n",
              "      <td>NaN</td>\n",
              "      <td>VERB</td>\n",
              "      <td>[-0.208233938, 0.996180058, -0.279894114, -0.9...</td>\n",
              "      <td>[-0.03747297, 0.5554195, 0.15133946, -0.011017...</td>\n",
              "      <td>[-0.10372739, 1.0939001, 0.5454509, 0.3175185,...</td>\n",
              "      <td>1.0</td>\n",
              "      <td>2.0</td>\n",
              "    </tr>\n",
              "    <tr>\n",
              "      <th>6200</th>\n",
              "      <td>тиаприд</td>\n",
              "      <td>[0.27581334, 0.80696917, 1.0271364, -0.1037090...</td>\n",
              "      <td>0</td>\n",
              "      <td>5</td>\n",
              "      <td>0</td>\n",
              "      <td>0</td>\n",
              "      <td>2</td>\n",
              "      <td>anim</td>\n",
              "      <td>nomn</td>\n",
              "      <td>masc</td>\n",
              "      <td>NaN</td>\n",
              "      <td>NOUN</td>\n",
              "      <td>appos</td>\n",
              "      <td>препарат</td>\n",
              "      <td>inan</td>\n",
              "      <td>nomn</td>\n",
              "      <td>masc</td>\n",
              "      <td>NOUN</td>\n",
              "      <td>[-0.17725945, 0.94834274, 0.90867615, 0.850609...</td>\n",
              "      <td>[0.10855111, 0.28903672, 0.2550475, -0.0276597...</td>\n",
              "      <td>[0.27581334, 0.80696917, 1.0271364, -0.1037090...</td>\n",
              "      <td>1.0</td>\n",
              "      <td>3.0</td>\n",
              "    </tr>\n",
              "    <tr>\n",
              "      <th>8450</th>\n",
              "      <td>сероквель</td>\n",
              "      <td>[0.087633356, 0.93445277, 0.69432694, 0.298702...</td>\n",
              "      <td>0</td>\n",
              "      <td>6</td>\n",
              "      <td>0</td>\n",
              "      <td>0</td>\n",
              "      <td>2</td>\n",
              "      <td>inan</td>\n",
              "      <td>gent</td>\n",
              "      <td>femn</td>\n",
              "      <td>NaN</td>\n",
              "      <td>NOUN</td>\n",
              "      <td>appos</td>\n",
              "      <td>препарат</td>\n",
              "      <td>inan</td>\n",
              "      <td>nomn</td>\n",
              "      <td>masc</td>\n",
              "      <td>NOUN</td>\n",
              "      <td>[-0.17725945, 0.94834274, 0.90867615, 0.850609...</td>\n",
              "      <td>[-0.04207938, 0.36281538, 0.25962716, 0.010672...</td>\n",
              "      <td>[0.087633356, 0.93445277, 0.69432694, 0.298702...</td>\n",
              "      <td>1.0</td>\n",
              "      <td>2.0</td>\n",
              "    </tr>\n",
              "    <tr>\n",
              "      <th>8541</th>\n",
              "      <td>день</td>\n",
              "      <td>[0.11187396, 1.2210127, -0.88301444, -0.466371...</td>\n",
              "      <td>0</td>\n",
              "      <td>7</td>\n",
              "      <td>0</td>\n",
              "      <td>0</td>\n",
              "      <td>2</td>\n",
              "      <td>inan</td>\n",
              "      <td>accs</td>\n",
              "      <td>masc</td>\n",
              "      <td>NaN</td>\n",
              "      <td>NOUN</td>\n",
              "      <td>ROOT</td>\n",
              "      <td>день</td>\n",
              "      <td>inan</td>\n",
              "      <td>accs</td>\n",
              "      <td>masc</td>\n",
              "      <td>NOUN</td>\n",
              "      <td>[0.11187396, 1.2210127, -0.88301444, -0.466371...</td>\n",
              "      <td>[0.10426845, 0.58591, -0.40001512, -0.31153095...</td>\n",
              "      <td>[0.3036255, 0.7870125, -0.33815098, -0.5249253...</td>\n",
              "      <td>0.0</td>\n",
              "      <td>0.0</td>\n",
              "    </tr>\n",
              "    <tr>\n",
              "      <th>11117</th>\n",
              "      <td>500</td>\n",
              "      <td>[0.34515736, 0.99082905, 1.1647757, 0.13400415...</td>\n",
              "      <td>0</td>\n",
              "      <td>8</td>\n",
              "      <td>0</td>\n",
              "      <td>0</td>\n",
              "      <td>2</td>\n",
              "      <td>NaN</td>\n",
              "      <td>NaN</td>\n",
              "      <td>NaN</td>\n",
              "      <td>NaN</td>\n",
              "      <td>NaN</td>\n",
              "      <td>nummod</td>\n",
              "      <td>мг</td>\n",
              "      <td>inan</td>\n",
              "      <td>nomn</td>\n",
              "      <td>masc</td>\n",
              "      <td>NOUN</td>\n",
              "      <td>[0.0851192921, 0.789108872, 0.923557222, -0.23...</td>\n",
              "      <td>[0.00030258, -0.03585999, -0.01680361, -0.0245...</td>\n",
              "      <td>[0.0]</td>\n",
              "      <td>0.0</td>\n",
              "      <td>0.0</td>\n",
              "    </tr>\n",
              "    <tr>\n",
              "      <th>11787</th>\n",
              "      <td>капецитабин</td>\n",
              "      <td>[0.342338204, 1.20741296, 0.623081028, 0.04668...</td>\n",
              "      <td>0</td>\n",
              "      <td>10</td>\n",
              "      <td>0</td>\n",
              "      <td>0</td>\n",
              "      <td>2</td>\n",
              "      <td>anim</td>\n",
              "      <td>nomn</td>\n",
              "      <td>masc</td>\n",
              "      <td>NaN</td>\n",
              "      <td>NOUN</td>\n",
              "      <td>ROOT</td>\n",
              "      <td>капецитабин</td>\n",
              "      <td>anim</td>\n",
              "      <td>nomn</td>\n",
              "      <td>masc</td>\n",
              "      <td>NOUN</td>\n",
              "      <td>[0.342338204, 1.20741296, 0.623081028, 0.04668...</td>\n",
              "      <td>[0.00206052, -0.05985366, 0.06623499, -0.06572...</td>\n",
              "      <td>[-0.0034975, 0.14409654, 0.24720684, -0.020498...</td>\n",
              "      <td>0.0</td>\n",
              "      <td>0.0</td>\n",
              "    </tr>\n",
              "    <tr>\n",
              "      <th>11806</th>\n",
              "      <td>иресса</td>\n",
              "      <td>[0.403851897, 0.462512106, 0.103562765, -0.530...</td>\n",
              "      <td>0</td>\n",
              "      <td>11</td>\n",
              "      <td>0</td>\n",
              "      <td>0</td>\n",
              "      <td>2</td>\n",
              "      <td>NaN</td>\n",
              "      <td>NaN</td>\n",
              "      <td>NaN</td>\n",
              "      <td>NaN</td>\n",
              "      <td>GRND</td>\n",
              "      <td>nmod</td>\n",
              "      <td>отдам</td>\n",
              "      <td>NaN</td>\n",
              "      <td>NaN</td>\n",
              "      <td>NaN</td>\n",
              "      <td>VERB</td>\n",
              "      <td>[0.235153243, -0.000665825617, 0.172356203, 0....</td>\n",
              "      <td>[0.07661632, 0.08160812, 0.05639331, 0.0203737...</td>\n",
              "      <td>[0.12400526, 0.19563669, 0.21844696, -0.525781...</td>\n",
              "      <td>0.0</td>\n",
              "      <td>0.0</td>\n",
              "    </tr>\n",
              "    <tr>\n",
              "      <th>12118</th>\n",
              "      <td>очень</td>\n",
              "      <td>[0.50080717, 0.97543329, 0.21518297, -0.491112...</td>\n",
              "      <td>0</td>\n",
              "      <td>12</td>\n",
              "      <td>0</td>\n",
              "      <td>0</td>\n",
              "      <td>2</td>\n",
              "      <td>NaN</td>\n",
              "      <td>NaN</td>\n",
              "      <td>NaN</td>\n",
              "      <td>NaN</td>\n",
              "      <td>ADVB</td>\n",
              "      <td>advmod</td>\n",
              "      <td>нужна</td>\n",
              "      <td>NaN</td>\n",
              "      <td>NaN</td>\n",
              "      <td>femn</td>\n",
              "      <td>ADJS</td>\n",
              "      <td>[0.80720174, -0.10315988, 0.85512, -0.6219189,...</td>\n",
              "      <td>[0.12552494, 0.08589336, 0.03145502, -0.066575...</td>\n",
              "      <td>[0.382049769, 0.343235791, -0.0281428993, -0.3...</td>\n",
              "      <td>0.0</td>\n",
              "      <td>0.0</td>\n",
              "    </tr>\n",
              "    <tr>\n",
              "      <th>12200</th>\n",
              "      <td>очень</td>\n",
              "      <td>[0.50080717, 0.97543329, 0.21518297, -0.491112...</td>\n",
              "      <td>0</td>\n",
              "      <td>13</td>\n",
              "      <td>0</td>\n",
              "      <td>0</td>\n",
              "      <td>2</td>\n",
              "      <td>NaN</td>\n",
              "      <td>NaN</td>\n",
              "      <td>NaN</td>\n",
              "      <td>NaN</td>\n",
              "      <td>ADVB</td>\n",
              "      <td>advmod</td>\n",
              "      <td>нужна</td>\n",
              "      <td>NaN</td>\n",
              "      <td>NaN</td>\n",
              "      <td>femn</td>\n",
              "      <td>ADJS</td>\n",
              "      <td>[0.80720174, -0.10315988, 0.85512, -0.6219189,...</td>\n",
              "      <td>[0.12552494, 0.08589336, 0.03145502, -0.066575...</td>\n",
              "      <td>[0.382049769, 0.343235791, -0.0281428993, -0.3...</td>\n",
              "      <td>0.0</td>\n",
              "      <td>0.0</td>\n",
              "    </tr>\n",
              "    <tr>\n",
              "      <th>14936</th>\n",
              "      <td>показания</td>\n",
              "      <td>[1.2479405, 0.7843368, 0.13361824, 0.42770186,...</td>\n",
              "      <td>0</td>\n",
              "      <td>16</td>\n",
              "      <td>0</td>\n",
              "      <td>0</td>\n",
              "      <td>2</td>\n",
              "      <td>inan</td>\n",
              "      <td>nomn</td>\n",
              "      <td>neut</td>\n",
              "      <td>NaN</td>\n",
              "      <td>NOUN</td>\n",
              "      <td>conj</td>\n",
              "      <td>противопоказания</td>\n",
              "      <td>inan</td>\n",
              "      <td>gent</td>\n",
              "      <td>neut</td>\n",
              "      <td>NOUN</td>\n",
              "      <td>[1.0876162, 0.81554294, 0.21823575, 0.27713153...</td>\n",
              "      <td>[0.1005468, 0.15991989, 0.04482105, 0.20846026...</td>\n",
              "      <td>[0.91195953, 0.95809585, 0.091002718, 0.921486...</td>\n",
              "      <td>0.0</td>\n",
              "      <td>0.0</td>\n",
              "    </tr>\n",
              "  </tbody>\n",
              "</table>\n",
              "</div>"
            ],
            "text/plain": [
              "             TOKEN  ... COREFERENCE_CLUSTER\n",
              "2       рисперидон  ...                 2.0\n",
              "576        зелдокс  ...                 2.0\n",
              "1870     оланзапин  ...                 2.0\n",
              "5555   галоперидол  ...                 2.0\n",
              "6200       тиаприд  ...                 3.0\n",
              "8450     сероквель  ...                 2.0\n",
              "8541          день  ...                 0.0\n",
              "11117          500  ...                 0.0\n",
              "11787  капецитабин  ...                 0.0\n",
              "11806       иресса  ...                 0.0\n",
              "12118        очень  ...                 0.0\n",
              "12200        очень  ...                 0.0\n",
              "14936    показания  ...                 0.0\n",
              "\n",
              "[13 rows x 23 columns]"
            ]
          },
          "metadata": {
            "tags": []
          },
          "execution_count": 52
        }
      ]
    },
    {
      "cell_type": "code",
      "metadata": {
        "id": "GEiKxebuCPsC"
      },
      "source": [
        "# sum(df.query('POST_NUM == 0 and TOKEN_NUM == 2 and SENT_NUM == 0').TOKEN_VECT)/len(df.query('POST_NUM == 0 and TOKEN_NUM == 2 and SENT_NUM == 0').TOKEN_VECT)"
      ],
      "execution_count": 53,
      "outputs": []
    },
    {
      "cell_type": "markdown",
      "metadata": {
        "id": "r-A7JcK3tsVt"
      },
      "source": [
        "Суммируем верктора токенов, главных слов, предложения целиком, и зависимых слов. Нормализуем."
      ]
    },
    {
      "cell_type": "code",
      "metadata": {
        "id": "0ESW3_xq2h0O"
      },
      "source": [
        "\n",
        "token_axe = sum(axis_df.TOKEN_VECT)/len(axis_df.TOKEN_VECT)\n",
        "head_axe = sum(axis_df.HEAD_VECT)/len(axis_df.HEAD_VECT)\n",
        "head_childs_axe = sum(axis_df.HEAD_CHILDS_VECT)/len(axis_df.HEAD_CHILDS_VECT)\n",
        "sent_axe = sum(axis_df.SENT_VECT)/len(axis_df.SENT_VECT)"
      ],
      "execution_count": 54,
      "outputs": []
    },
    {
      "cell_type": "code",
      "metadata": {
        "colab": {
          "base_uri": "https://localhost:8080/"
        },
        "id": "1NmYmDIwIbPS",
        "outputId": "6a744166-65b3-4b8f-fbb3-5bff31d8af47"
      },
      "source": [
        "df.TOKEN_VECT[710]"
      ],
      "execution_count": 55,
      "outputs": [
        {
          "output_type": "execute_result",
          "data": {
            "text/plain": [
              "array([nan])"
            ]
          },
          "metadata": {
            "tags": []
          },
          "execution_count": 55
        }
      ]
    },
    {
      "cell_type": "markdown",
      "metadata": {
        "id": "7La2_kyRuXYI"
      },
      "source": [
        "Функция, которая заменяет столбец с векторами на столбец со значениями косинусной дистанции с соответствующей семантической осью.\n"
      ]
    },
    {
      "cell_type": "code",
      "metadata": {
        "id": "qGfEFxcRHBZz"
      },
      "source": [
        "def make_similarity(df, col, axe):\n",
        "  new_col = []\n",
        "  for ind, vect in enumerate(df[col]):\n",
        "    try:\n",
        "      new_col.append(cosine_similarity([axe], [vect])[-1][-1])\n",
        "    except ValueError:\n",
        "      new_col.append(0)\n",
        "  df[col] = new_col\n",
        "\n"
      ],
      "execution_count": 56,
      "outputs": []
    },
    {
      "cell_type": "code",
      "metadata": {
        "colab": {
          "base_uri": "https://localhost:8080/"
        },
        "id": "pDC2D4LcLFTt",
        "outputId": "72973aa1-6eb3-4d94-9849-a8f35d93ddd1"
      },
      "source": [
        "make_similarity(df, 'TOKEN_VECT', token_axe)\n",
        "make_similarity(df, 'HEAD_VECT', head_axe)\n",
        "make_similarity(df, 'HEAD_CHILDS_VECT', head_childs_axe)\n",
        "make_similarity(df, 'SENT_VECT', sent_axe)"
      ],
      "execution_count": 57,
      "outputs": [
        {
          "output_type": "stream",
          "text": [
            "/usr/local/lib/python3.7/dist-packages/ipykernel_launcher.py:8: SettingWithCopyWarning: \n",
            "A value is trying to be set on a copy of a slice from a DataFrame.\n",
            "Try using .loc[row_indexer,col_indexer] = value instead\n",
            "\n",
            "See the caveats in the documentation: https://pandas.pydata.org/pandas-docs/stable/user_guide/indexing.html#returning-a-view-versus-a-copy\n",
            "  \n",
            "/usr/local/lib/python3.7/dist-packages/ipykernel_launcher.py:8: SettingWithCopyWarning: \n",
            "A value is trying to be set on a copy of a slice from a DataFrame.\n",
            "Try using .loc[row_indexer,col_indexer] = value instead\n",
            "\n",
            "See the caveats in the documentation: https://pandas.pydata.org/pandas-docs/stable/user_guide/indexing.html#returning-a-view-versus-a-copy\n",
            "  \n",
            "/usr/local/lib/python3.7/dist-packages/ipykernel_launcher.py:8: SettingWithCopyWarning: \n",
            "A value is trying to be set on a copy of a slice from a DataFrame.\n",
            "Try using .loc[row_indexer,col_indexer] = value instead\n",
            "\n",
            "See the caveats in the documentation: https://pandas.pydata.org/pandas-docs/stable/user_guide/indexing.html#returning-a-view-versus-a-copy\n",
            "  \n",
            "/usr/local/lib/python3.7/dist-packages/ipykernel_launcher.py:8: SettingWithCopyWarning: \n",
            "A value is trying to be set on a copy of a slice from a DataFrame.\n",
            "Try using .loc[row_indexer,col_indexer] = value instead\n",
            "\n",
            "See the caveats in the documentation: https://pandas.pydata.org/pandas-docs/stable/user_guide/indexing.html#returning-a-view-versus-a-copy\n",
            "  \n"
          ],
          "name": "stderr"
        }
      ]
    },
    {
      "cell_type": "code",
      "metadata": {
        "colab": {
          "base_uri": "https://localhost:8080/",
          "height": 35
        },
        "id": "hcdxAoSuucFG",
        "outputId": "562b8661-dcf0-4848-82d9-0acf4674080b"
      },
      "source": [
        "df.TOKEN[1]"
      ],
      "execution_count": 58,
      "outputs": [
        {
          "output_type": "execute_result",
          "data": {
            "application/vnd.google.colaboratory.intrinsic+json": {
              "type": "string"
            },
            "text/plain": [
              "'препарат'"
            ]
          },
          "metadata": {
            "tags": []
          },
          "execution_count": 58
        }
      ]
    },
    {
      "cell_type": "code",
      "metadata": {
        "id": "9eJEaD0MuVt-"
      },
      "source": [
        "# df['SUM_VECT']= [(df.TOKEN_VECT[i] + df.SENT_VECT[i])/3 for i in range(len(df.SENT_VECT))]"
      ],
      "execution_count": 59,
      "outputs": []
    },
    {
      "cell_type": "markdown",
      "metadata": {
        "id": "E8S50koyuk8t"
      },
      "source": [
        "Посмотрим на данные."
      ]
    },
    {
      "cell_type": "code",
      "metadata": {
        "colab": {
          "base_uri": "https://localhost:8080/",
          "height": 427
        },
        "id": "U44h8yUwKDhf",
        "outputId": "e2e76531-5569-4c8a-f236-2a427945eaeb"
      },
      "source": [
        "df"
      ],
      "execution_count": 60,
      "outputs": [
        {
          "output_type": "execute_result",
          "data": {
            "text/html": [
              "<div>\n",
              "<style scoped>\n",
              "    .dataframe tbody tr th:only-of-type {\n",
              "        vertical-align: middle;\n",
              "    }\n",
              "\n",
              "    .dataframe tbody tr th {\n",
              "        vertical-align: top;\n",
              "    }\n",
              "\n",
              "    .dataframe thead th {\n",
              "        text-align: right;\n",
              "    }\n",
              "</style>\n",
              "<table border=\"1\" class=\"dataframe\">\n",
              "  <thead>\n",
              "    <tr style=\"text-align: right;\">\n",
              "      <th></th>\n",
              "      <th>TOKEN</th>\n",
              "      <th>TOKEN_VECT</th>\n",
              "      <th>IS_ANSWER</th>\n",
              "      <th>TOPIC_NUM</th>\n",
              "      <th>POST_NUM</th>\n",
              "      <th>SENT_NUM</th>\n",
              "      <th>TOKEN_NUM</th>\n",
              "      <th>ANIMACY</th>\n",
              "      <th>CASE</th>\n",
              "      <th>GENDER</th>\n",
              "      <th>PERSON</th>\n",
              "      <th>POS</th>\n",
              "      <th>DEPENDENCY</th>\n",
              "      <th>HEAD</th>\n",
              "      <th>HEAD_ANIMACY</th>\n",
              "      <th>HEAD_CASE</th>\n",
              "      <th>HEAD_GENDER</th>\n",
              "      <th>HEAD_POS</th>\n",
              "      <th>HEAD_VECT</th>\n",
              "      <th>SENT_VECT</th>\n",
              "      <th>HEAD_CHILDS_VECT</th>\n",
              "      <th>NER</th>\n",
              "      <th>COREFERENCE_CLUSTER</th>\n",
              "    </tr>\n",
              "  </thead>\n",
              "  <tbody>\n",
              "    <tr>\n",
              "      <th>0</th>\n",
              "      <td>обсуждаем</td>\n",
              "      <td>0.478969</td>\n",
              "      <td>0</td>\n",
              "      <td>1</td>\n",
              "      <td>0</td>\n",
              "      <td>0</td>\n",
              "      <td>0</td>\n",
              "      <td>NaN</td>\n",
              "      <td>NaN</td>\n",
              "      <td>NaN</td>\n",
              "      <td>1per</td>\n",
              "      <td>VERB</td>\n",
              "      <td>ROOT</td>\n",
              "      <td>обсуждаем</td>\n",
              "      <td>NaN</td>\n",
              "      <td>NaN</td>\n",
              "      <td>NaN</td>\n",
              "      <td>VERB</td>\n",
              "      <td>0.514440</td>\n",
              "      <td>0.835993</td>\n",
              "      <td>0.605408</td>\n",
              "      <td>0.0</td>\n",
              "      <td>0.0</td>\n",
              "    </tr>\n",
              "    <tr>\n",
              "      <th>1</th>\n",
              "      <td>препарат</td>\n",
              "      <td>0.525897</td>\n",
              "      <td>0</td>\n",
              "      <td>1</td>\n",
              "      <td>0</td>\n",
              "      <td>0</td>\n",
              "      <td>1</td>\n",
              "      <td>inan</td>\n",
              "      <td>nomn</td>\n",
              "      <td>masc</td>\n",
              "      <td>NaN</td>\n",
              "      <td>NOUN</td>\n",
              "      <td>obj</td>\n",
              "      <td>обсуждаем</td>\n",
              "      <td>NaN</td>\n",
              "      <td>NaN</td>\n",
              "      <td>NaN</td>\n",
              "      <td>VERB</td>\n",
              "      <td>0.514440</td>\n",
              "      <td>0.835993</td>\n",
              "      <td>0.605408</td>\n",
              "      <td>0.0</td>\n",
              "      <td>0.0</td>\n",
              "    </tr>\n",
              "    <tr>\n",
              "      <th>2</th>\n",
              "      <td>рисперидон</td>\n",
              "      <td>0.779845</td>\n",
              "      <td>0</td>\n",
              "      <td>1</td>\n",
              "      <td>0</td>\n",
              "      <td>0</td>\n",
              "      <td>2</td>\n",
              "      <td>anim</td>\n",
              "      <td>nomn</td>\n",
              "      <td>masc</td>\n",
              "      <td>NaN</td>\n",
              "      <td>NOUN</td>\n",
              "      <td>appos</td>\n",
              "      <td>препарат</td>\n",
              "      <td>inan</td>\n",
              "      <td>nomn</td>\n",
              "      <td>masc</td>\n",
              "      <td>NOUN</td>\n",
              "      <td>0.878739</td>\n",
              "      <td>0.835993</td>\n",
              "      <td>0.808772</td>\n",
              "      <td>1.0</td>\n",
              "      <td>2.0</td>\n",
              "    </tr>\n",
              "    <tr>\n",
              "      <th>3</th>\n",
              "      <td>рисполепт</td>\n",
              "      <td>0.797031</td>\n",
              "      <td>0</td>\n",
              "      <td>1</td>\n",
              "      <td>0</td>\n",
              "      <td>0</td>\n",
              "      <td>3</td>\n",
              "      <td>inan</td>\n",
              "      <td>gent</td>\n",
              "      <td>femn</td>\n",
              "      <td>NaN</td>\n",
              "      <td>NOUN</td>\n",
              "      <td>parataxis</td>\n",
              "      <td>рисперидон</td>\n",
              "      <td>anim</td>\n",
              "      <td>nomn</td>\n",
              "      <td>masc</td>\n",
              "      <td>NOUN</td>\n",
              "      <td>0.554854</td>\n",
              "      <td>0.835993</td>\n",
              "      <td>0.830899</td>\n",
              "      <td>1.0</td>\n",
              "      <td>3.0</td>\n",
              "    </tr>\n",
              "    <tr>\n",
              "      <th>4</th>\n",
              "      <td>сперидан</td>\n",
              "      <td>0.760111</td>\n",
              "      <td>0</td>\n",
              "      <td>1</td>\n",
              "      <td>0</td>\n",
              "      <td>0</td>\n",
              "      <td>4</td>\n",
              "      <td>NaN</td>\n",
              "      <td>NaN</td>\n",
              "      <td>masc</td>\n",
              "      <td>NaN</td>\n",
              "      <td>PRTS</td>\n",
              "      <td>conj</td>\n",
              "      <td>рисполепт</td>\n",
              "      <td>inan</td>\n",
              "      <td>gent</td>\n",
              "      <td>femn</td>\n",
              "      <td>NOUN</td>\n",
              "      <td>0.602089</td>\n",
              "      <td>0.835993</td>\n",
              "      <td>0.805134</td>\n",
              "      <td>1.0</td>\n",
              "      <td>4.0</td>\n",
              "    </tr>\n",
              "    <tr>\n",
              "      <th>...</th>\n",
              "      <td>...</td>\n",
              "      <td>...</td>\n",
              "      <td>...</td>\n",
              "      <td>...</td>\n",
              "      <td>...</td>\n",
              "      <td>...</td>\n",
              "      <td>...</td>\n",
              "      <td>...</td>\n",
              "      <td>...</td>\n",
              "      <td>...</td>\n",
              "      <td>...</td>\n",
              "      <td>...</td>\n",
              "      <td>...</td>\n",
              "      <td>...</td>\n",
              "      <td>...</td>\n",
              "      <td>...</td>\n",
              "      <td>...</td>\n",
              "      <td>...</td>\n",
              "      <td>...</td>\n",
              "      <td>...</td>\n",
              "      <td>...</td>\n",
              "      <td>...</td>\n",
              "      <td>...</td>\n",
              "    </tr>\n",
              "    <tr>\n",
              "      <th>14995</th>\n",
              "      <td>эта</td>\n",
              "      <td>0.411351</td>\n",
              "      <td>0</td>\n",
              "      <td>16</td>\n",
              "      <td>3</td>\n",
              "      <td>0</td>\n",
              "      <td>10</td>\n",
              "      <td>NaN</td>\n",
              "      <td>nomn</td>\n",
              "      <td>femn</td>\n",
              "      <td>NaN</td>\n",
              "      <td>ADJF</td>\n",
              "      <td>det</td>\n",
              "      <td>вакцина</td>\n",
              "      <td>inan</td>\n",
              "      <td>nomn</td>\n",
              "      <td>femn</td>\n",
              "      <td>NOUN</td>\n",
              "      <td>0.465146</td>\n",
              "      <td>0.449984</td>\n",
              "      <td>0.398606</td>\n",
              "      <td>0.0</td>\n",
              "      <td>0.0</td>\n",
              "    </tr>\n",
              "    <tr>\n",
              "      <th>14996</th>\n",
              "      <td>вакцина</td>\n",
              "      <td>0.506801</td>\n",
              "      <td>0</td>\n",
              "      <td>16</td>\n",
              "      <td>3</td>\n",
              "      <td>0</td>\n",
              "      <td>11</td>\n",
              "      <td>inan</td>\n",
              "      <td>nomn</td>\n",
              "      <td>femn</td>\n",
              "      <td>NaN</td>\n",
              "      <td>NOUN</td>\n",
              "      <td>nsubj</td>\n",
              "      <td>аукнется</td>\n",
              "      <td>NaN</td>\n",
              "      <td>NaN</td>\n",
              "      <td>NaN</td>\n",
              "      <td>VERB</td>\n",
              "      <td>0.617590</td>\n",
              "      <td>0.449984</td>\n",
              "      <td>0.714478</td>\n",
              "      <td>0.0</td>\n",
              "      <td>0.0</td>\n",
              "    </tr>\n",
              "    <tr>\n",
              "      <th>14997</th>\n",
              "      <td>аукнется</td>\n",
              "      <td>0.544597</td>\n",
              "      <td>0</td>\n",
              "      <td>16</td>\n",
              "      <td>3</td>\n",
              "      <td>0</td>\n",
              "      <td>12</td>\n",
              "      <td>NaN</td>\n",
              "      <td>NaN</td>\n",
              "      <td>NaN</td>\n",
              "      <td>3per</td>\n",
              "      <td>VERB</td>\n",
              "      <td>csubj</td>\n",
              "      <td>неизвестно</td>\n",
              "      <td>NaN</td>\n",
              "      <td>NaN</td>\n",
              "      <td>NaN</td>\n",
              "      <td>ADVB</td>\n",
              "      <td>0.561118</td>\n",
              "      <td>0.449984</td>\n",
              "      <td>0.608900</td>\n",
              "      <td>0.0</td>\n",
              "      <td>0.0</td>\n",
              "    </tr>\n",
              "    <tr>\n",
              "      <th>14998</th>\n",
              "      <td>на</td>\n",
              "      <td>0.450034</td>\n",
              "      <td>0</td>\n",
              "      <td>16</td>\n",
              "      <td>3</td>\n",
              "      <td>0</td>\n",
              "      <td>13</td>\n",
              "      <td>NaN</td>\n",
              "      <td>NaN</td>\n",
              "      <td>NaN</td>\n",
              "      <td>NaN</td>\n",
              "      <td>PREP</td>\n",
              "      <td>case</td>\n",
              "      <td>организме</td>\n",
              "      <td>inan</td>\n",
              "      <td>loct</td>\n",
              "      <td>masc</td>\n",
              "      <td>NOUN</td>\n",
              "      <td>0.493778</td>\n",
              "      <td>0.449984</td>\n",
              "      <td>0.418060</td>\n",
              "      <td>0.0</td>\n",
              "      <td>0.0</td>\n",
              "    </tr>\n",
              "    <tr>\n",
              "      <th>14999</th>\n",
              "      <td>организме</td>\n",
              "      <td>0.493471</td>\n",
              "      <td>0</td>\n",
              "      <td>16</td>\n",
              "      <td>3</td>\n",
              "      <td>0</td>\n",
              "      <td>14</td>\n",
              "      <td>inan</td>\n",
              "      <td>loct</td>\n",
              "      <td>masc</td>\n",
              "      <td>NaN</td>\n",
              "      <td>NOUN</td>\n",
              "      <td>obl</td>\n",
              "      <td>аукнется</td>\n",
              "      <td>NaN</td>\n",
              "      <td>NaN</td>\n",
              "      <td>NaN</td>\n",
              "      <td>VERB</td>\n",
              "      <td>0.617590</td>\n",
              "      <td>0.449984</td>\n",
              "      <td>0.714478</td>\n",
              "      <td>0.0</td>\n",
              "      <td>0.0</td>\n",
              "    </tr>\n",
              "  </tbody>\n",
              "</table>\n",
              "<p>15000 rows × 23 columns</p>\n",
              "</div>"
            ],
            "text/plain": [
              "            TOKEN  TOKEN_VECT  ...  NER  COREFERENCE_CLUSTER\n",
              "0       обсуждаем    0.478969  ...  0.0                  0.0\n",
              "1        препарат    0.525897  ...  0.0                  0.0\n",
              "2      рисперидон    0.779845  ...  1.0                  2.0\n",
              "3       рисполепт    0.797031  ...  1.0                  3.0\n",
              "4        сперидан    0.760111  ...  1.0                  4.0\n",
              "...           ...         ...  ...  ...                  ...\n",
              "14995         эта    0.411351  ...  0.0                  0.0\n",
              "14996     вакцина    0.506801  ...  0.0                  0.0\n",
              "14997    аукнется    0.544597  ...  0.0                  0.0\n",
              "14998          на    0.450034  ...  0.0                  0.0\n",
              "14999   организме    0.493471  ...  0.0                  0.0\n",
              "\n",
              "[15000 rows x 23 columns]"
            ]
          },
          "metadata": {
            "tags": []
          },
          "execution_count": 60
        }
      ]
    },
    {
      "cell_type": "markdown",
      "metadata": {
        "id": "8FndOykVWO2D"
      },
      "source": [
        "# **ПРАВИЛОВЫЙ АЛГОРИТМ**"
      ]
    },
    {
      "cell_type": "code",
      "metadata": {
        "id": "sc94aYmsaZE6",
        "outputId": "f08b1477-6a34-4f44-9dbf-91f5d3fa6d9e",
        "colab": {
          "base_uri": "https://localhost:8080/"
        }
      },
      "source": [
        "topics = list(set(df.TOPIC_NUM.values))\n",
        "topics"
      ],
      "execution_count": 69,
      "outputs": [
        {
          "output_type": "execute_result",
          "data": {
            "text/plain": [
              "[1, 2, 3, 4, 5, 6, 7, 8, 9, 10, 11, 12, 13, 14, 15, 16]"
            ]
          },
          "metadata": {
            "tags": []
          },
          "execution_count": 69
        }
      ]
    },
    {
      "cell_type": "code",
      "metadata": {
        "id": "jegaPaSKarn6",
        "outputId": "d600843c-de6d-44d2-aa72-983e693fa297",
        "colab": {
          "base_uri": "https://localhost:8080/",
          "height": 98
        }
      },
      "source": [
        "topic_num = 1\n",
        "topic_df = df.loc[df['TOPIC_NUM'] == topic_num]\n",
        "# номера предложений топика\n",
        "sents_in_topic = list(set(df.loc[df['TOPIC_NUM'] == topic_num ].SENT_NUM))\n",
        "sents_in_topic\n",
        "# достать пост\n",
        "df.loc[(df['TOPIC_NUM'] == 1) & (df['POST_NUM'] == 1)]\n",
        "# достать конкретное предложение конкретного поста\n",
        "df.loc[(df['TOPIC_NUM'] == 1) & (df['POST_NUM'] == 1) & (df['SENT_NUM'] == 1)]\n",
        "# достать токен из предложение конкретного поста\n",
        "df.loc[(df['TOPIC_NUM'] == 1) & (df['POST_NUM'] == 1) & (df['SENT_NUM'] == 1)].iloc[[2]]"
      ],
      "execution_count": 86,
      "outputs": [
        {
          "output_type": "execute_result",
          "data": {
            "text/html": [
              "<div>\n",
              "<style scoped>\n",
              "    .dataframe tbody tr th:only-of-type {\n",
              "        vertical-align: middle;\n",
              "    }\n",
              "\n",
              "    .dataframe tbody tr th {\n",
              "        vertical-align: top;\n",
              "    }\n",
              "\n",
              "    .dataframe thead th {\n",
              "        text-align: right;\n",
              "    }\n",
              "</style>\n",
              "<table border=\"1\" class=\"dataframe\">\n",
              "  <thead>\n",
              "    <tr style=\"text-align: right;\">\n",
              "      <th></th>\n",
              "      <th>TOKEN</th>\n",
              "      <th>TOKEN_VECT</th>\n",
              "      <th>IS_ANSWER</th>\n",
              "      <th>TOPIC_NUM</th>\n",
              "      <th>POST_NUM</th>\n",
              "      <th>SENT_NUM</th>\n",
              "      <th>TOKEN_NUM</th>\n",
              "      <th>ANIMACY</th>\n",
              "      <th>CASE</th>\n",
              "      <th>GENDER</th>\n",
              "      <th>PERSON</th>\n",
              "      <th>POS</th>\n",
              "      <th>DEPENDENCY</th>\n",
              "      <th>HEAD</th>\n",
              "      <th>HEAD_ANIMACY</th>\n",
              "      <th>HEAD_CASE</th>\n",
              "      <th>HEAD_GENDER</th>\n",
              "      <th>HEAD_POS</th>\n",
              "      <th>HEAD_VECT</th>\n",
              "      <th>SENT_VECT</th>\n",
              "      <th>HEAD_CHILDS_VECT</th>\n",
              "      <th>NER</th>\n",
              "      <th>COREFERENCE_CLUSTER</th>\n",
              "    </tr>\n",
              "  </thead>\n",
              "  <tbody>\n",
              "    <tr>\n",
              "      <th>13</th>\n",
              "      <td>практически</td>\n",
              "      <td>0.569599</td>\n",
              "      <td>0</td>\n",
              "      <td>1</td>\n",
              "      <td>1</td>\n",
              "      <td>1</td>\n",
              "      <td>2</td>\n",
              "      <td>NaN</td>\n",
              "      <td>NaN</td>\n",
              "      <td>NaN</td>\n",
              "      <td>NaN</td>\n",
              "      <td>ADVB</td>\n",
              "      <td>advmod</td>\n",
              "      <td>нет</td>\n",
              "      <td>NaN</td>\n",
              "      <td>NaN</td>\n",
              "      <td>NaN</td>\n",
              "      <td>PRED</td>\n",
              "      <td>0.520258</td>\n",
              "      <td>0.518605</td>\n",
              "      <td>0.660347</td>\n",
              "      <td>0.0</td>\n",
              "      <td>0.0</td>\n",
              "    </tr>\n",
              "  </tbody>\n",
              "</table>\n",
              "</div>"
            ],
            "text/plain": [
              "          TOKEN  TOKEN_VECT  ...  NER  COREFERENCE_CLUSTER\n",
              "13  практически    0.569599  ...  0.0                  0.0\n",
              "\n",
              "[1 rows x 23 columns]"
            ]
          },
          "metadata": {
            "tags": []
          },
          "execution_count": 86
        }
      ]
    },
    {
      "cell_type": "code",
      "metadata": {
        "id": "eyveocHjeLMJ"
      },
      "source": [
        "Мы"
      ],
      "execution_count": null,
      "outputs": []
    },
    {
      "cell_type": "code",
      "metadata": {
        "id": "ic1_rxtCeLXe"
      },
      "source": [
        ""
      ],
      "execution_count": null,
      "outputs": []
    },
    {
      "cell_type": "code",
      "metadata": {
        "id": "r0BCnXXJZtNW"
      },
      "source": [
        "df.loc[df['SENT_NUM'] != 0.0]"
      ],
      "execution_count": null,
      "outputs": []
    },
    {
      "cell_type": "code",
      "metadata": {
        "id": "HD8UKo2MWT0A",
        "outputId": "bb50b73c-575a-4b5b-b11e-e52f733f2dbd",
        "colab": {
          "base_uri": "https://localhost:8080/"
        }
      },
      "source": [
        "for i in range(len(df)):\n",
        "  current_raw = df.iloc[[i]].loc[df['NER'] != 0.0]\n",
        "  print(current_raw)\n",
        "  if i == 3:\n",
        "    break"
      ],
      "execution_count": 65,
      "outputs": [
        {
          "output_type": "stream",
          "text": [
            "Empty DataFrame\n",
            "Columns: [TOKEN, TOKEN_VECT, IS_ANSWER, TOPIC_NUM, POST_NUM, SENT_NUM, TOKEN_NUM, ANIMACY, CASE, GENDER, PERSON, POS, DEPENDENCY, HEAD, HEAD_ANIMACY, HEAD_CASE, HEAD_GENDER, HEAD_POS, HEAD_VECT, SENT_VECT, HEAD_CHILDS_VECT, NER, COREFERENCE_CLUSTER]\n",
            "Index: []\n",
            "Empty DataFrame\n",
            "Columns: [TOKEN, TOKEN_VECT, IS_ANSWER, TOPIC_NUM, POST_NUM, SENT_NUM, TOKEN_NUM, ANIMACY, CASE, GENDER, PERSON, POS, DEPENDENCY, HEAD, HEAD_ANIMACY, HEAD_CASE, HEAD_GENDER, HEAD_POS, HEAD_VECT, SENT_VECT, HEAD_CHILDS_VECT, NER, COREFERENCE_CLUSTER]\n",
            "Index: []\n",
            "        TOKEN  TOKEN_VECT  ...  NER  COREFERENCE_CLUSTER\n",
            "2  рисперидон    0.779845  ...  1.0                  2.0\n",
            "\n",
            "[1 rows x 23 columns]\n",
            "       TOKEN  TOKEN_VECT  IS_ANSWER  ...  HEAD_CHILDS_VECT  NER  COREFERENCE_CLUSTER\n",
            "3  рисполепт    0.797031          0  ...          0.830899  1.0                  3.0\n",
            "\n",
            "[1 rows x 23 columns]\n"
          ],
          "name": "stdout"
        }
      ]
    },
    {
      "cell_type": "code",
      "metadata": {
        "id": "UN4yqiqvYIQH"
      },
      "source": [
        ""
      ],
      "execution_count": null,
      "outputs": []
    },
    {
      "cell_type": "code",
      "metadata": {
        "id": "Yi_RBPf0YISt"
      },
      "source": [
        ""
      ],
      "execution_count": null,
      "outputs": []
    },
    {
      "cell_type": "code",
      "metadata": {
        "id": "26QqspXcYIU3"
      },
      "source": [
        ""
      ],
      "execution_count": null,
      "outputs": []
    },
    {
      "cell_type": "markdown",
      "metadata": {
        "id": "XZo_bJR6uuvc"
      },
      "source": [
        "# **МОДЕЛИ.**"
      ]
    },
    {
      "cell_type": "markdown",
      "metadata": {
        "id": "qrdNCMTOu1P0"
      },
      "source": [
        "Факторизуем троковые данные, чтобы вместо строковых представлений классов были численные."
      ]
    },
    {
      "cell_type": "code",
      "metadata": {
        "colab": {
          "base_uri": "https://localhost:8080/"
        },
        "id": "hn2LX9ViO9i0",
        "outputId": "7a80ec81-11c6-42a9-ca92-d1b024f7abf3"
      },
      "source": [
        "for_factorize = 'ANIMACY\tCASE\tGENDER\tPERSON\tPOS\tDEPENDENCY\tHEAD\tHEAD_ANIMACY\tHEAD_CASE\tHEAD_GENDER\tHEAD_POS'.split()\n",
        "for_factorize"
      ],
      "execution_count": 1404,
      "outputs": [
        {
          "output_type": "execute_result",
          "data": {
            "text/plain": [
              "['ANIMACY',\n",
              " 'CASE',\n",
              " 'GENDER',\n",
              " 'PERSON',\n",
              " 'POS',\n",
              " 'DEPENDENCY',\n",
              " 'HEAD',\n",
              " 'HEAD_ANIMACY',\n",
              " 'HEAD_CASE',\n",
              " 'HEAD_GENDER',\n",
              " 'HEAD_POS']"
            ]
          },
          "metadata": {
            "tags": []
          },
          "execution_count": 1404
        }
      ]
    },
    {
      "cell_type": "code",
      "metadata": {
        "colab": {
          "base_uri": "https://localhost:8080/"
        },
        "id": "MuTn5rTEPJq1",
        "outputId": "1bde336b-a7e0-4972-b571-857c76ac1149"
      },
      "source": [
        "_, lbl = pd.factorize(df.ANIMACY)\n",
        "print(lbl, )\n",
        "_"
      ],
      "execution_count": 1405,
      "outputs": [
        {
          "output_type": "stream",
          "text": [
            "Index(['inan', 'anim'], dtype='object')\n"
          ],
          "name": "stdout"
        },
        {
          "output_type": "execute_result",
          "data": {
            "text/plain": [
              "array([-1,  0,  1, ..., -1, -1,  0])"
            ]
          },
          "metadata": {
            "tags": []
          },
          "execution_count": 1405
        }
      ]
    },
    {
      "cell_type": "markdown",
      "metadata": {
        "id": "okLj0sOex6rt"
      },
      "source": [
        "Делаем словарь с маппингом, чтобы можно было достать нужное значение по индексу. В значении -1 хранится None"
      ]
    },
    {
      "cell_type": "code",
      "metadata": {
        "colab": {
          "base_uri": "https://localhost:8080/"
        },
        "id": "QoqDVz2lQjmV",
        "outputId": "fa3c2e2d-67f7-434d-bcff-9393123c9a41"
      },
      "source": [
        "mapping_dict = {}\n",
        "for col_name in for_factorize:\n",
        "  col, lbl = pd.factorize(df[col_name])\n",
        "  df[col_name] = col\n",
        "  mapping_dict[col_name] = lbl\n",
        "mapping_dict  "
      ],
      "execution_count": 1406,
      "outputs": [
        {
          "output_type": "stream",
          "text": [
            "/usr/local/lib/python3.7/dist-packages/ipykernel_launcher.py:4: SettingWithCopyWarning: \n",
            "A value is trying to be set on a copy of a slice from a DataFrame.\n",
            "Try using .loc[row_indexer,col_indexer] = value instead\n",
            "\n",
            "See the caveats in the documentation: https://pandas.pydata.org/pandas-docs/stable/user_guide/indexing.html#returning-a-view-versus-a-copy\n",
            "  after removing the cwd from sys.path.\n"
          ],
          "name": "stderr"
        },
        {
          "output_type": "execute_result",
          "data": {
            "text/plain": [
              "{'ANIMACY': Index(['inan', 'anim'], dtype='object'),\n",
              " 'CASE': Index(['nomn', 'gent', 'datv', 'accs', 'loct', 'ablt', 'loc2', 'voct', 'gen2'], dtype='object'),\n",
              " 'DEPENDENCY': Index(['ROOT', 'obj', 'appos', 'parataxis', 'conj', 'advmod', 'ccomp', 'iobj',\n",
              "        'csubj', 'case', 'obl', 'det', 'nsubj', 'cc', 'discourse', 'fixed',\n",
              "        'mark', 'amod', 'advcl', 'xcomp', 'nummod', 'nmod', 'nsubj:pass',\n",
              "        'nummod:gov', 'cop', 'acl:relcl', 'acl', 'aux', 'flat:foreign', 'punct',\n",
              "        'obl:agent', 'flat', 'aux:pass', 'orphan', 'expl', 'csubj:pass'],\n",
              "       dtype='object'),\n",
              " 'GENDER': Index(['masc', 'femn', 'neut'], dtype='object'),\n",
              " 'HEAD': Index(['обсуждаем', 'препарат', 'рисперидон', 'рисполепт', 'знаю', 'стоило',\n",
              "        'меня', 'нет', 'проблем', 'лекарством',\n",
              "        ...\n",
              "        'привился', 'прививки', 'решать', 'неизвестно', 'быстро', 'проводились',\n",
              "        'испытания', 'аукнется', 'вакцина', 'организме'],\n",
              "       dtype='object', length=2519),\n",
              " 'HEAD_ANIMACY': Index(['inan', 'anim'], dtype='object'),\n",
              " 'HEAD_CASE': Index(['nomn', 'gent', 'accs', 'ablt', 'datv', 'loct', 'loc2', 'voct'], dtype='object'),\n",
              " 'HEAD_GENDER': Index(['masc', 'femn', 'neut'], dtype='object'),\n",
              " 'HEAD_POS': Index(['VERB', 'NOUN', 'NPRO', 'PRED', 'PREP', 'INFN', 'PRTS', 'GRND', 'ADJF',\n",
              "        'ADVB', 'PRCL', 'PRTF', 'CONJ', 'ADJS', 'COMP', 'INTJ', 'NUMR'],\n",
              "       dtype='object'),\n",
              " 'PERSON': Index(['1per', '3per', '2per'], dtype='object'),\n",
              " 'POS': Index(['VERB', 'NOUN', 'PRTS', 'PRCL', 'CONJ', 'NPRO', 'INFN', 'PREP', 'ADVB',\n",
              "        'PRED', 'ADJF', 'NUMR', 'GRND', 'COMP', 'PRTF', 'ADJS', 'INTJ'],\n",
              "       dtype='object')}"
            ]
          },
          "metadata": {
            "tags": []
          },
          "execution_count": 1406
        }
      ]
    },
    {
      "cell_type": "code",
      "metadata": {
        "id": "pdg6Pp5wbx5Y"
      },
      "source": [
        "\n",
        "# labels_dict = {}\n",
        "# test_labels_dict = {}\n",
        "\n",
        "# for i in X.columns:\n",
        "#   X[i], lbl = pd.factorize(X[i])\n",
        "#   labels_dict[i] = lbl\n",
        "\n",
        "# for i in X_test.columns:\n",
        "#   X_test[i], lbl = pd.factorize(X_test[i])\n",
        "#   test_labels_dict[i] = lbl \n",
        "\n",
        "# y = cor_df['COREFERENCE_CLUSTER']\n",
        "# y, y_label = pd.factorize(y)\n",
        "\n",
        "# y_test = cor_df_test['COREFERENCE_CLUSTER']\n",
        "# y_test, y_test_label = pd.factorize(y_test)"
      ],
      "execution_count": 1407,
      "outputs": []
    },
    {
      "cell_type": "code",
      "metadata": {
        "colab": {
          "base_uri": "https://localhost:8080/",
          "height": 427
        },
        "id": "FJxFPuolOm_y",
        "outputId": "884bdcf4-d66a-4b16-ec0c-664b19ad4dc8"
      },
      "source": [
        "df.loc[(df['NER'] == 1.0) | (df['NER'] == 2.0 )]"
      ],
      "execution_count": 1408,
      "outputs": [
        {
          "output_type": "execute_result",
          "data": {
            "text/html": [
              "<div>\n",
              "<style scoped>\n",
              "    .dataframe tbody tr th:only-of-type {\n",
              "        vertical-align: middle;\n",
              "    }\n",
              "\n",
              "    .dataframe tbody tr th {\n",
              "        vertical-align: top;\n",
              "    }\n",
              "\n",
              "    .dataframe thead th {\n",
              "        text-align: right;\n",
              "    }\n",
              "</style>\n",
              "<table border=\"1\" class=\"dataframe\">\n",
              "  <thead>\n",
              "    <tr style=\"text-align: right;\">\n",
              "      <th></th>\n",
              "      <th>TOKEN</th>\n",
              "      <th>TOKEN_VECT</th>\n",
              "      <th>IS_ANSWER</th>\n",
              "      <th>TOPIC_NUM</th>\n",
              "      <th>POST_NUM</th>\n",
              "      <th>SENT_NUM</th>\n",
              "      <th>TOKEN_NUM</th>\n",
              "      <th>ANIMACY</th>\n",
              "      <th>CASE</th>\n",
              "      <th>GENDER</th>\n",
              "      <th>PERSON</th>\n",
              "      <th>POS</th>\n",
              "      <th>DEPENDENCY</th>\n",
              "      <th>HEAD</th>\n",
              "      <th>HEAD_ANIMACY</th>\n",
              "      <th>HEAD_CASE</th>\n",
              "      <th>HEAD_GENDER</th>\n",
              "      <th>HEAD_POS</th>\n",
              "      <th>HEAD_VECT</th>\n",
              "      <th>SENT_VECT</th>\n",
              "      <th>HEAD_CHILDS_VECT</th>\n",
              "      <th>NER</th>\n",
              "      <th>COREFERENCE_CLUSTER</th>\n",
              "    </tr>\n",
              "  </thead>\n",
              "  <tbody>\n",
              "    <tr>\n",
              "      <th>2</th>\n",
              "      <td>рисперидон</td>\n",
              "      <td>0.779845</td>\n",
              "      <td>0</td>\n",
              "      <td>1</td>\n",
              "      <td>0</td>\n",
              "      <td>0</td>\n",
              "      <td>2</td>\n",
              "      <td>1</td>\n",
              "      <td>0</td>\n",
              "      <td>0</td>\n",
              "      <td>-1</td>\n",
              "      <td>1</td>\n",
              "      <td>2</td>\n",
              "      <td>1</td>\n",
              "      <td>0</td>\n",
              "      <td>0</td>\n",
              "      <td>0</td>\n",
              "      <td>1</td>\n",
              "      <td>0.878739</td>\n",
              "      <td>0.835993</td>\n",
              "      <td>0.808772</td>\n",
              "      <td>1.0</td>\n",
              "      <td>2.0</td>\n",
              "    </tr>\n",
              "    <tr>\n",
              "      <th>3</th>\n",
              "      <td>рисполепт</td>\n",
              "      <td>0.797031</td>\n",
              "      <td>0</td>\n",
              "      <td>1</td>\n",
              "      <td>0</td>\n",
              "      <td>0</td>\n",
              "      <td>3</td>\n",
              "      <td>0</td>\n",
              "      <td>1</td>\n",
              "      <td>1</td>\n",
              "      <td>-1</td>\n",
              "      <td>1</td>\n",
              "      <td>3</td>\n",
              "      <td>2</td>\n",
              "      <td>1</td>\n",
              "      <td>0</td>\n",
              "      <td>0</td>\n",
              "      <td>1</td>\n",
              "      <td>0.554854</td>\n",
              "      <td>0.835993</td>\n",
              "      <td>0.830899</td>\n",
              "      <td>1.0</td>\n",
              "      <td>3.0</td>\n",
              "    </tr>\n",
              "    <tr>\n",
              "      <th>4</th>\n",
              "      <td>сперидан</td>\n",
              "      <td>0.760111</td>\n",
              "      <td>0</td>\n",
              "      <td>1</td>\n",
              "      <td>0</td>\n",
              "      <td>0</td>\n",
              "      <td>4</td>\n",
              "      <td>-1</td>\n",
              "      <td>-1</td>\n",
              "      <td>0</td>\n",
              "      <td>-1</td>\n",
              "      <td>2</td>\n",
              "      <td>4</td>\n",
              "      <td>3</td>\n",
              "      <td>0</td>\n",
              "      <td>1</td>\n",
              "      <td>1</td>\n",
              "      <td>1</td>\n",
              "      <td>0.602089</td>\n",
              "      <td>0.835993</td>\n",
              "      <td>0.805134</td>\n",
              "      <td>1.0</td>\n",
              "      <td>4.0</td>\n",
              "    </tr>\n",
              "    <tr>\n",
              "      <th>21</th>\n",
              "      <td>лекарством</td>\n",
              "      <td>0.456023</td>\n",
              "      <td>0</td>\n",
              "      <td>1</td>\n",
              "      <td>1</td>\n",
              "      <td>1</td>\n",
              "      <td>10</td>\n",
              "      <td>0</td>\n",
              "      <td>5</td>\n",
              "      <td>2</td>\n",
              "      <td>-1</td>\n",
              "      <td>1</td>\n",
              "      <td>4</td>\n",
              "      <td>7</td>\n",
              "      <td>-1</td>\n",
              "      <td>-1</td>\n",
              "      <td>-1</td>\n",
              "      <td>3</td>\n",
              "      <td>0.520258</td>\n",
              "      <td>0.518605</td>\n",
              "      <td>0.660347</td>\n",
              "      <td>2.0</td>\n",
              "      <td>0.0</td>\n",
              "    </tr>\n",
              "    <tr>\n",
              "      <th>142</th>\n",
              "      <td>рисполепта</td>\n",
              "      <td>0.731182</td>\n",
              "      <td>0</td>\n",
              "      <td>1</td>\n",
              "      <td>1</td>\n",
              "      <td>13</td>\n",
              "      <td>7</td>\n",
              "      <td>0</td>\n",
              "      <td>0</td>\n",
              "      <td>1</td>\n",
              "      <td>-1</td>\n",
              "      <td>1</td>\n",
              "      <td>21</td>\n",
              "      <td>69</td>\n",
              "      <td>0</td>\n",
              "      <td>2</td>\n",
              "      <td>1</td>\n",
              "      <td>1</td>\n",
              "      <td>0.471137</td>\n",
              "      <td>0.639488</td>\n",
              "      <td>0.762393</td>\n",
              "      <td>1.0</td>\n",
              "      <td>142.0</td>\n",
              "    </tr>\n",
              "    <tr>\n",
              "      <th>...</th>\n",
              "      <td>...</td>\n",
              "      <td>...</td>\n",
              "      <td>...</td>\n",
              "      <td>...</td>\n",
              "      <td>...</td>\n",
              "      <td>...</td>\n",
              "      <td>...</td>\n",
              "      <td>...</td>\n",
              "      <td>...</td>\n",
              "      <td>...</td>\n",
              "      <td>...</td>\n",
              "      <td>...</td>\n",
              "      <td>...</td>\n",
              "      <td>...</td>\n",
              "      <td>...</td>\n",
              "      <td>...</td>\n",
              "      <td>...</td>\n",
              "      <td>...</td>\n",
              "      <td>...</td>\n",
              "      <td>...</td>\n",
              "      <td>...</td>\n",
              "      <td>...</td>\n",
              "      <td>...</td>\n",
              "    </tr>\n",
              "    <tr>\n",
              "      <th>12726</th>\n",
              "      <td>приходили</td>\n",
              "      <td>0.534609</td>\n",
              "      <td>0</td>\n",
              "      <td>15</td>\n",
              "      <td>0</td>\n",
              "      <td>10</td>\n",
              "      <td>1</td>\n",
              "      <td>-1</td>\n",
              "      <td>-1</td>\n",
              "      <td>-1</td>\n",
              "      <td>-1</td>\n",
              "      <td>0</td>\n",
              "      <td>0</td>\n",
              "      <td>2307</td>\n",
              "      <td>-1</td>\n",
              "      <td>-1</td>\n",
              "      <td>-1</td>\n",
              "      <td>0</td>\n",
              "      <td>0.510058</td>\n",
              "      <td>0.492714</td>\n",
              "      <td>0.630305</td>\n",
              "      <td>1.0</td>\n",
              "      <td>204.0</td>\n",
              "    </tr>\n",
              "    <tr>\n",
              "      <th>12785</th>\n",
              "      <td>завершению</td>\n",
              "      <td>0.453896</td>\n",
              "      <td>0</td>\n",
              "      <td>15</td>\n",
              "      <td>0</td>\n",
              "      <td>16</td>\n",
              "      <td>1</td>\n",
              "      <td>0</td>\n",
              "      <td>2</td>\n",
              "      <td>2</td>\n",
              "      <td>-1</td>\n",
              "      <td>1</td>\n",
              "      <td>10</td>\n",
              "      <td>1851</td>\n",
              "      <td>-1</td>\n",
              "      <td>-1</td>\n",
              "      <td>-1</td>\n",
              "      <td>0</td>\n",
              "      <td>0.390514</td>\n",
              "      <td>0.437342</td>\n",
              "      <td>0.503593</td>\n",
              "      <td>1.0</td>\n",
              "      <td>263.0</td>\n",
              "    </tr>\n",
              "    <tr>\n",
              "      <th>12854</th>\n",
              "      <td>к</td>\n",
              "      <td>0.415880</td>\n",
              "      <td>0</td>\n",
              "      <td>15</td>\n",
              "      <td>0</td>\n",
              "      <td>22</td>\n",
              "      <td>3</td>\n",
              "      <td>-1</td>\n",
              "      <td>-1</td>\n",
              "      <td>-1</td>\n",
              "      <td>-1</td>\n",
              "      <td>7</td>\n",
              "      <td>9</td>\n",
              "      <td>2332</td>\n",
              "      <td>1</td>\n",
              "      <td>2</td>\n",
              "      <td>1</td>\n",
              "      <td>1</td>\n",
              "      <td>0.626481</td>\n",
              "      <td>0.641312</td>\n",
              "      <td>0.428054</td>\n",
              "      <td>1.0</td>\n",
              "      <td>332.0</td>\n",
              "    </tr>\n",
              "    <tr>\n",
              "      <th>12876</th>\n",
              "      <td>стадию</td>\n",
              "      <td>0.542401</td>\n",
              "      <td>0</td>\n",
              "      <td>15</td>\n",
              "      <td>0</td>\n",
              "      <td>25</td>\n",
              "      <td>7</td>\n",
              "      <td>0</td>\n",
              "      <td>3</td>\n",
              "      <td>1</td>\n",
              "      <td>-1</td>\n",
              "      <td>1</td>\n",
              "      <td>1</td>\n",
              "      <td>1777</td>\n",
              "      <td>-1</td>\n",
              "      <td>-1</td>\n",
              "      <td>-1</td>\n",
              "      <td>0</td>\n",
              "      <td>0.475252</td>\n",
              "      <td>0.694040</td>\n",
              "      <td>0.622309</td>\n",
              "      <td>2.0</td>\n",
              "      <td>0.0</td>\n",
              "    </tr>\n",
              "    <tr>\n",
              "      <th>12879</th>\n",
              "      <td>моя</td>\n",
              "      <td>0.407910</td>\n",
              "      <td>0</td>\n",
              "      <td>15</td>\n",
              "      <td>0</td>\n",
              "      <td>26</td>\n",
              "      <td>0</td>\n",
              "      <td>-1</td>\n",
              "      <td>0</td>\n",
              "      <td>1</td>\n",
              "      <td>-1</td>\n",
              "      <td>10</td>\n",
              "      <td>11</td>\n",
              "      <td>2342</td>\n",
              "      <td>1</td>\n",
              "      <td>0</td>\n",
              "      <td>1</td>\n",
              "      <td>1</td>\n",
              "      <td>0.386935</td>\n",
              "      <td>0.578338</td>\n",
              "      <td>0.518951</td>\n",
              "      <td>1.0</td>\n",
              "      <td>357.0</td>\n",
              "    </tr>\n",
              "  </tbody>\n",
              "</table>\n",
              "<p>708 rows × 23 columns</p>\n",
              "</div>"
            ],
            "text/plain": [
              "            TOKEN  TOKEN_VECT  ...  NER  COREFERENCE_CLUSTER\n",
              "2      рисперидон    0.779845  ...  1.0                  2.0\n",
              "3       рисполепт    0.797031  ...  1.0                  3.0\n",
              "4        сперидан    0.760111  ...  1.0                  4.0\n",
              "21     лекарством    0.456023  ...  2.0                  0.0\n",
              "142    рисполепта    0.731182  ...  1.0                142.0\n",
              "...           ...         ...  ...  ...                  ...\n",
              "12726   приходили    0.534609  ...  1.0                204.0\n",
              "12785  завершению    0.453896  ...  1.0                263.0\n",
              "12854           к    0.415880  ...  1.0                332.0\n",
              "12876      стадию    0.542401  ...  2.0                  0.0\n",
              "12879         моя    0.407910  ...  1.0                357.0\n",
              "\n",
              "[708 rows x 23 columns]"
            ]
          },
          "metadata": {
            "tags": []
          },
          "execution_count": 1408
        }
      ]
    },
    {
      "cell_type": "markdown",
      "metadata": {
        "id": "gHAqJq-syGu4"
      },
      "source": [
        "Разделим датасет на тестовый и тренировочный. for_train, for_test "
      ]
    },
    {
      "cell_type": "code",
      "metadata": {
        "id": "_iE_6DTwjs9r"
      },
      "source": [
        "# train, test = train_test_split(df.loc[(df['NER'] == 1.0) | (df['NER'] == 2.0 ) | (df['NER'] == 3.0 )], test_size=0.2)\n",
        "# train, test = train_test_split(df, test_size=0.2)\n",
        "train, test = train_test_split(df.loc[(df['NER'] == 2.0 ) | (df['NER'] == 3.0 )], test_size=0.2)"
      ],
      "execution_count": 1409,
      "outputs": []
    },
    {
      "cell_type": "code",
      "metadata": {
        "id": "NSpO2JclSBoW"
      },
      "source": [
        "train = train.reset_index()"
      ],
      "execution_count": 1410,
      "outputs": []
    },
    {
      "cell_type": "markdown",
      "metadata": {
        "id": "p9jYUXyTyO7S"
      },
      "source": [
        ""
      ]
    },
    {
      "cell_type": "code",
      "metadata": {
        "id": "Iqdr1Z1MbxQP"
      },
      "source": [
        "# train = train.iloc[:,:24].drop(['TOKEN', 'level_0', 'index'], axis=1)\n",
        "# train = train.drop(['TOKEN', 'index'], axis=1)"
      ],
      "execution_count": 1411,
      "outputs": []
    },
    {
      "cell_type": "code",
      "metadata": {
        "id": "15JsamoeRUQ3"
      },
      "source": [
        "test = test.reset_index()"
      ],
      "execution_count": 1412,
      "outputs": []
    },
    {
      "cell_type": "code",
      "metadata": {
        "colab": {
          "base_uri": "https://localhost:8080/",
          "height": 218
        },
        "id": "yJ-7SyinSvCF",
        "outputId": "7d246990-930d-4fa1-f84d-6767dd19dac1"
      },
      "source": [
        "test.head(5)"
      ],
      "execution_count": 1413,
      "outputs": [
        {
          "output_type": "execute_result",
          "data": {
            "text/html": [
              "<div>\n",
              "<style scoped>\n",
              "    .dataframe tbody tr th:only-of-type {\n",
              "        vertical-align: middle;\n",
              "    }\n",
              "\n",
              "    .dataframe tbody tr th {\n",
              "        vertical-align: top;\n",
              "    }\n",
              "\n",
              "    .dataframe thead th {\n",
              "        text-align: right;\n",
              "    }\n",
              "</style>\n",
              "<table border=\"1\" class=\"dataframe\">\n",
              "  <thead>\n",
              "    <tr style=\"text-align: right;\">\n",
              "      <th></th>\n",
              "      <th>index</th>\n",
              "      <th>TOKEN</th>\n",
              "      <th>TOKEN_VECT</th>\n",
              "      <th>IS_ANSWER</th>\n",
              "      <th>TOPIC_NUM</th>\n",
              "      <th>POST_NUM</th>\n",
              "      <th>SENT_NUM</th>\n",
              "      <th>TOKEN_NUM</th>\n",
              "      <th>ANIMACY</th>\n",
              "      <th>CASE</th>\n",
              "      <th>GENDER</th>\n",
              "      <th>PERSON</th>\n",
              "      <th>POS</th>\n",
              "      <th>DEPENDENCY</th>\n",
              "      <th>HEAD</th>\n",
              "      <th>HEAD_ANIMACY</th>\n",
              "      <th>HEAD_CASE</th>\n",
              "      <th>HEAD_GENDER</th>\n",
              "      <th>HEAD_POS</th>\n",
              "      <th>HEAD_VECT</th>\n",
              "      <th>SENT_VECT</th>\n",
              "      <th>HEAD_CHILDS_VECT</th>\n",
              "      <th>NER</th>\n",
              "      <th>COREFERENCE_CLUSTER</th>\n",
              "    </tr>\n",
              "  </thead>\n",
              "  <tbody>\n",
              "    <tr>\n",
              "      <th>0</th>\n",
              "      <td>3673</td>\n",
              "      <td>препараты</td>\n",
              "      <td>0.468716</td>\n",
              "      <td>1</td>\n",
              "      <td>3</td>\n",
              "      <td>22</td>\n",
              "      <td>1</td>\n",
              "      <td>1789</td>\n",
              "      <td>0</td>\n",
              "      <td>0</td>\n",
              "      <td>0</td>\n",
              "      <td>-1</td>\n",
              "      <td>1</td>\n",
              "      <td>1</td>\n",
              "      <td>739</td>\n",
              "      <td>-1</td>\n",
              "      <td>-1</td>\n",
              "      <td>-1</td>\n",
              "      <td>5</td>\n",
              "      <td>0.658265</td>\n",
              "      <td>0.673832</td>\n",
              "      <td>0.677477</td>\n",
              "      <td>2.0</td>\n",
              "      <td>1795.0</td>\n",
              "    </tr>\n",
              "    <tr>\n",
              "      <th>1</th>\n",
              "      <td>2256</td>\n",
              "      <td>препаратов</td>\n",
              "      <td>0.464472</td>\n",
              "      <td>1</td>\n",
              "      <td>3</td>\n",
              "      <td>5</td>\n",
              "      <td>12</td>\n",
              "      <td>372</td>\n",
              "      <td>0</td>\n",
              "      <td>1</td>\n",
              "      <td>0</td>\n",
              "      <td>-1</td>\n",
              "      <td>1</td>\n",
              "      <td>21</td>\n",
              "      <td>569</td>\n",
              "      <td>0</td>\n",
              "      <td>5</td>\n",
              "      <td>1</td>\n",
              "      <td>1</td>\n",
              "      <td>0.420347</td>\n",
              "      <td>0.502091</td>\n",
              "      <td>0.589498</td>\n",
              "      <td>2.0</td>\n",
              "      <td>388.0</td>\n",
              "    </tr>\n",
              "    <tr>\n",
              "      <th>2</th>\n",
              "      <td>9144</td>\n",
              "      <td>химии</td>\n",
              "      <td>0.556986</td>\n",
              "      <td>1</td>\n",
              "      <td>7</td>\n",
              "      <td>1</td>\n",
              "      <td>18</td>\n",
              "      <td>241</td>\n",
              "      <td>0</td>\n",
              "      <td>1</td>\n",
              "      <td>1</td>\n",
              "      <td>-1</td>\n",
              "      <td>1</td>\n",
              "      <td>10</td>\n",
              "      <td>1699</td>\n",
              "      <td>-1</td>\n",
              "      <td>0</td>\n",
              "      <td>2</td>\n",
              "      <td>8</td>\n",
              "      <td>0.465183</td>\n",
              "      <td>0.564593</td>\n",
              "      <td>0.646650</td>\n",
              "      <td>2.0</td>\n",
              "      <td>0.0</td>\n",
              "    </tr>\n",
              "    <tr>\n",
              "      <th>3</th>\n",
              "      <td>7336</td>\n",
              "      <td>нейролептиками</td>\n",
              "      <td>0.589178</td>\n",
              "      <td>1</td>\n",
              "      <td>5</td>\n",
              "      <td>35</td>\n",
              "      <td>3</td>\n",
              "      <td>1134</td>\n",
              "      <td>0</td>\n",
              "      <td>5</td>\n",
              "      <td>0</td>\n",
              "      <td>-1</td>\n",
              "      <td>1</td>\n",
              "      <td>21</td>\n",
              "      <td>1459</td>\n",
              "      <td>0</td>\n",
              "      <td>2</td>\n",
              "      <td>1</td>\n",
              "      <td>1</td>\n",
              "      <td>0.418195</td>\n",
              "      <td>0.493534</td>\n",
              "      <td>0.665142</td>\n",
              "      <td>2.0</td>\n",
              "      <td>0.0</td>\n",
              "    </tr>\n",
              "    <tr>\n",
              "      <th>4</th>\n",
              "      <td>6526</td>\n",
              "      <td>препарат</td>\n",
              "      <td>0.525897</td>\n",
              "      <td>1</td>\n",
              "      <td>5</td>\n",
              "      <td>16</td>\n",
              "      <td>0</td>\n",
              "      <td>324</td>\n",
              "      <td>0</td>\n",
              "      <td>0</td>\n",
              "      <td>0</td>\n",
              "      <td>-1</td>\n",
              "      <td>1</td>\n",
              "      <td>1</td>\n",
              "      <td>1280</td>\n",
              "      <td>-1</td>\n",
              "      <td>-1</td>\n",
              "      <td>-1</td>\n",
              "      <td>0</td>\n",
              "      <td>0.583459</td>\n",
              "      <td>0.713328</td>\n",
              "      <td>0.764346</td>\n",
              "      <td>2.0</td>\n",
              "      <td>319.0</td>\n",
              "    </tr>\n",
              "  </tbody>\n",
              "</table>\n",
              "</div>"
            ],
            "text/plain": [
              "   index           TOKEN  ...  NER  COREFERENCE_CLUSTER\n",
              "0   3673       препараты  ...  2.0               1795.0\n",
              "1   2256      препаратов  ...  2.0                388.0\n",
              "2   9144           химии  ...  2.0                  0.0\n",
              "3   7336  нейролептиками  ...  2.0                  0.0\n",
              "4   6526        препарат  ...  2.0                319.0\n",
              "\n",
              "[5 rows x 24 columns]"
            ]
          },
          "metadata": {
            "tags": []
          },
          "execution_count": 1413
        }
      ]
    },
    {
      "cell_type": "code",
      "metadata": {
        "id": "4af_SNBkhigO"
      },
      "source": [
        "# test = test.iloc[:,:24].drop(['TOKEN', 'index'], axis=1)\n",
        "# test = test.drop(['TOKEN', 'index'], axis=1)"
      ],
      "execution_count": 1414,
      "outputs": []
    },
    {
      "cell_type": "code",
      "metadata": {
        "id": "cBXo00kAS49b"
      },
      "source": [
        "# test.loc[test['NER'] != 0]"
      ],
      "execution_count": 1415,
      "outputs": []
    },
    {
      "cell_type": "code",
      "metadata": {
        "id": "htGIdgGgPeL8"
      },
      "source": [
        "# ['TOPIC_NUM',\t'POST_NUM',\t'TOKEN_NUM',\t'GENDER',\t'PERSON', 'TOKEN', 'TOKEN_VECT', 'IS_ANSWER', 'SENT_NUM', 'HEAD_VECT', 'HEAD_CHILDS_VECT', \n",
        "#  'index', 'HEAD_ANIMACY',\t'HEAD_CASE',\t'HEAD_GENDER', 'ANIMACY',\t'CASE',\t'POS',\t'DEPENDENCY',\t'HEAD',\t'HEAD_POS']"
      ],
      "execution_count": 1416,
      "outputs": []
    },
    {
      "cell_type": "code",
      "metadata": {
        "id": "FweGW5SOrkaH"
      },
      "source": [
        "# best set\n",
        "\n",
        "# X, y, X_test, y_test = train.drop(['TOKEN',  'HEAD_VECT', 'POST_NUM', 'IS_ANSWER', 'PERSON', 'HEAD_CHILDS_VECT', 'TOPIC_NUM', 'CASE', 'SENT_NUM', 'DEPENDENCY',  'index', 'HEAD_ANIMACY',\t'HEAD_CASE',\t'HEAD_GENDER', 'ANIMACY',\t\t\t\t'HEAD',\t'HEAD_POS'], axis=1).iloc[:,:18], \\\n",
        "# train.COREFERENCE_CLUSTER, test.drop(['TOKEN',  'HEAD_VECT', 'POST_NUM', 'IS_ANSWER', 'PERSON', 'HEAD_CHILDS_VECT', 'TOPIC_NUM', 'CASE', 'SENT_NUM', 'DEPENDENCY',    'index', 'HEAD_ANIMACY',\t'HEAD_CASE',\t'HEAD_GENDER', 'ANIMACY',\t\t\t'HEAD',\t'HEAD_POS'], axis=1).iloc[:,:18], test.COREFERENCE_CLUSTER"
      ],
      "execution_count": 1417,
      "outputs": []
    },
    {
      "cell_type": "markdown",
      "metadata": {
        "id": "59_MptFSzbP9"
      },
      "source": [
        "Делаем наборы для обучения моделей."
      ]
    },
    {
      "cell_type": "code",
      "metadata": {
        "id": "Gz0Kri_pTC1s"
      },
      "source": [
        "X, y, X_test, y_test = train.drop(['TOKEN',  'HEAD_VECT', 'POST_NUM', 'IS_ANSWER', 'PERSON', 'HEAD_CHILDS_VECT', 'TOPIC_NUM', 'CASE', 'SENT_NUM', 'DEPENDENCY',  'index', 'HEAD_ANIMACY',\t'HEAD_CASE',\t'HEAD_GENDER', 'ANIMACY',\t\t\t\t'HEAD',\t'HEAD_POS'], axis=1).iloc[:,:18], \\\n",
        "train.COREFERENCE_CLUSTER, test.drop(['TOKEN',  'HEAD_VECT', 'POST_NUM', 'IS_ANSWER', 'PERSON', 'HEAD_CHILDS_VECT', 'TOPIC_NUM', 'CASE', 'SENT_NUM', 'DEPENDENCY',    'index', 'HEAD_ANIMACY',\t'HEAD_CASE',\t'HEAD_GENDER', 'ANIMACY',\t\t\t'HEAD',\t'HEAD_POS'], axis=1).iloc[:,:18], test.COREFERENCE_CLUSTER"
      ],
      "execution_count": 1418,
      "outputs": []
    },
    {
      "cell_type": "code",
      "metadata": {
        "id": "-omX42NNMv52"
      },
      "source": [
        "# X, y, X_test, y_test = train.drop(['TOKEN', 'index'], axis=1).iloc[:,:24], train.COREFERENCE_CLUSTER, test.drop(['TOKEN', 'index'], axis=1).iloc[:,:24], test.COREFERENCE_CLUSTER"
      ],
      "execution_count": 1419,
      "outputs": []
    },
    {
      "cell_type": "code",
      "metadata": {
        "colab": {
          "base_uri": "https://localhost:8080/",
          "height": 407
        },
        "id": "2x9H9mrBGOyH",
        "outputId": "b6781611-7ba2-4601-c078-0567e7d7778e"
      },
      "source": [
        "X"
      ],
      "execution_count": 1420,
      "outputs": [
        {
          "output_type": "execute_result",
          "data": {
            "text/html": [
              "<div>\n",
              "<style scoped>\n",
              "    .dataframe tbody tr th:only-of-type {\n",
              "        vertical-align: middle;\n",
              "    }\n",
              "\n",
              "    .dataframe tbody tr th {\n",
              "        vertical-align: top;\n",
              "    }\n",
              "\n",
              "    .dataframe thead th {\n",
              "        text-align: right;\n",
              "    }\n",
              "</style>\n",
              "<table border=\"1\" class=\"dataframe\">\n",
              "  <thead>\n",
              "    <tr style=\"text-align: right;\">\n",
              "      <th></th>\n",
              "      <th>TOKEN_VECT</th>\n",
              "      <th>TOKEN_NUM</th>\n",
              "      <th>GENDER</th>\n",
              "      <th>POS</th>\n",
              "      <th>SENT_VECT</th>\n",
              "      <th>NER</th>\n",
              "      <th>COREFERENCE_CLUSTER</th>\n",
              "    </tr>\n",
              "  </thead>\n",
              "  <tbody>\n",
              "    <tr>\n",
              "      <th>0</th>\n",
              "      <td>0.519055</td>\n",
              "      <td>221</td>\n",
              "      <td>0</td>\n",
              "      <td>5</td>\n",
              "      <td>0.743045</td>\n",
              "      <td>3.0</td>\n",
              "      <td>218.0</td>\n",
              "    </tr>\n",
              "    <tr>\n",
              "      <th>1</th>\n",
              "      <td>0.584090</td>\n",
              "      <td>84</td>\n",
              "      <td>-1</td>\n",
              "      <td>-1</td>\n",
              "      <td>0.615114</td>\n",
              "      <td>2.0</td>\n",
              "      <td>0.0</td>\n",
              "    </tr>\n",
              "    <tr>\n",
              "      <th>2</th>\n",
              "      <td>0.454605</td>\n",
              "      <td>35</td>\n",
              "      <td>-1</td>\n",
              "      <td>16</td>\n",
              "      <td>0.525582</td>\n",
              "      <td>2.0</td>\n",
              "      <td>0.0</td>\n",
              "    </tr>\n",
              "    <tr>\n",
              "      <th>3</th>\n",
              "      <td>0.457997</td>\n",
              "      <td>62</td>\n",
              "      <td>-1</td>\n",
              "      <td>11</td>\n",
              "      <td>0.600316</td>\n",
              "      <td>2.0</td>\n",
              "      <td>6.0</td>\n",
              "    </tr>\n",
              "    <tr>\n",
              "      <th>4</th>\n",
              "      <td>0.471790</td>\n",
              "      <td>1660</td>\n",
              "      <td>1</td>\n",
              "      <td>5</td>\n",
              "      <td>0.739101</td>\n",
              "      <td>3.0</td>\n",
              "      <td>1657.0</td>\n",
              "    </tr>\n",
              "    <tr>\n",
              "      <th>...</th>\n",
              "      <td>...</td>\n",
              "      <td>...</td>\n",
              "      <td>...</td>\n",
              "      <td>...</td>\n",
              "      <td>...</td>\n",
              "      <td>...</td>\n",
              "      <td>...</td>\n",
              "    </tr>\n",
              "    <tr>\n",
              "      <th>226</th>\n",
              "      <td>0.476860</td>\n",
              "      <td>1568</td>\n",
              "      <td>1</td>\n",
              "      <td>5</td>\n",
              "      <td>0.616808</td>\n",
              "      <td>3.0</td>\n",
              "      <td>1582.0</td>\n",
              "    </tr>\n",
              "    <tr>\n",
              "      <th>227</th>\n",
              "      <td>0.525897</td>\n",
              "      <td>320</td>\n",
              "      <td>0</td>\n",
              "      <td>1</td>\n",
              "      <td>0.641136</td>\n",
              "      <td>2.0</td>\n",
              "      <td>663.0</td>\n",
              "    </tr>\n",
              "    <tr>\n",
              "      <th>228</th>\n",
              "      <td>0.468716</td>\n",
              "      <td>732</td>\n",
              "      <td>0</td>\n",
              "      <td>1</td>\n",
              "      <td>0.435643</td>\n",
              "      <td>2.0</td>\n",
              "      <td>0.0</td>\n",
              "    </tr>\n",
              "    <tr>\n",
              "      <th>229</th>\n",
              "      <td>0.525897</td>\n",
              "      <td>2721</td>\n",
              "      <td>0</td>\n",
              "      <td>1</td>\n",
              "      <td>0.703564</td>\n",
              "      <td>2.0</td>\n",
              "      <td>2711.0</td>\n",
              "    </tr>\n",
              "    <tr>\n",
              "      <th>230</th>\n",
              "      <td>0.525897</td>\n",
              "      <td>635</td>\n",
              "      <td>0</td>\n",
              "      <td>1</td>\n",
              "      <td>0.593342</td>\n",
              "      <td>2.0</td>\n",
              "      <td>0.0</td>\n",
              "    </tr>\n",
              "  </tbody>\n",
              "</table>\n",
              "<p>231 rows × 7 columns</p>\n",
              "</div>"
            ],
            "text/plain": [
              "     TOKEN_VECT  TOKEN_NUM  GENDER  POS  SENT_VECT  NER  COREFERENCE_CLUSTER\n",
              "0      0.519055        221       0    5   0.743045  3.0                218.0\n",
              "1      0.584090         84      -1   -1   0.615114  2.0                  0.0\n",
              "2      0.454605         35      -1   16   0.525582  2.0                  0.0\n",
              "3      0.457997         62      -1   11   0.600316  2.0                  6.0\n",
              "4      0.471790       1660       1    5   0.739101  3.0               1657.0\n",
              "..          ...        ...     ...  ...        ...  ...                  ...\n",
              "226    0.476860       1568       1    5   0.616808  3.0               1582.0\n",
              "227    0.525897        320       0    1   0.641136  2.0                663.0\n",
              "228    0.468716        732       0    1   0.435643  2.0                  0.0\n",
              "229    0.525897       2721       0    1   0.703564  2.0               2711.0\n",
              "230    0.525897        635       0    1   0.593342  2.0                  0.0\n",
              "\n",
              "[231 rows x 7 columns]"
            ]
          },
          "metadata": {
            "tags": []
          },
          "execution_count": 1420
        }
      ]
    },
    {
      "cell_type": "code",
      "metadata": {
        "colab": {
          "base_uri": "https://localhost:8080/",
          "height": 348
        },
        "id": "t3H4tT8RUKbb",
        "outputId": "423d2fa2-6dfb-4dcb-8ec6-656f2f65f2d5"
      },
      "source": [
        "X_test.head(10)"
      ],
      "execution_count": 1421,
      "outputs": [
        {
          "output_type": "execute_result",
          "data": {
            "text/html": [
              "<div>\n",
              "<style scoped>\n",
              "    .dataframe tbody tr th:only-of-type {\n",
              "        vertical-align: middle;\n",
              "    }\n",
              "\n",
              "    .dataframe tbody tr th {\n",
              "        vertical-align: top;\n",
              "    }\n",
              "\n",
              "    .dataframe thead th {\n",
              "        text-align: right;\n",
              "    }\n",
              "</style>\n",
              "<table border=\"1\" class=\"dataframe\">\n",
              "  <thead>\n",
              "    <tr style=\"text-align: right;\">\n",
              "      <th></th>\n",
              "      <th>TOKEN_VECT</th>\n",
              "      <th>TOKEN_NUM</th>\n",
              "      <th>GENDER</th>\n",
              "      <th>POS</th>\n",
              "      <th>SENT_VECT</th>\n",
              "      <th>NER</th>\n",
              "      <th>COREFERENCE_CLUSTER</th>\n",
              "    </tr>\n",
              "  </thead>\n",
              "  <tbody>\n",
              "    <tr>\n",
              "      <th>0</th>\n",
              "      <td>0.468716</td>\n",
              "      <td>1789</td>\n",
              "      <td>0</td>\n",
              "      <td>1</td>\n",
              "      <td>0.673832</td>\n",
              "      <td>2.0</td>\n",
              "      <td>1795.0</td>\n",
              "    </tr>\n",
              "    <tr>\n",
              "      <th>1</th>\n",
              "      <td>0.464472</td>\n",
              "      <td>372</td>\n",
              "      <td>0</td>\n",
              "      <td>1</td>\n",
              "      <td>0.502091</td>\n",
              "      <td>2.0</td>\n",
              "      <td>388.0</td>\n",
              "    </tr>\n",
              "    <tr>\n",
              "      <th>2</th>\n",
              "      <td>0.556986</td>\n",
              "      <td>241</td>\n",
              "      <td>1</td>\n",
              "      <td>1</td>\n",
              "      <td>0.564593</td>\n",
              "      <td>2.0</td>\n",
              "      <td>0.0</td>\n",
              "    </tr>\n",
              "    <tr>\n",
              "      <th>3</th>\n",
              "      <td>0.589178</td>\n",
              "      <td>1134</td>\n",
              "      <td>0</td>\n",
              "      <td>1</td>\n",
              "      <td>0.493534</td>\n",
              "      <td>2.0</td>\n",
              "      <td>0.0</td>\n",
              "    </tr>\n",
              "    <tr>\n",
              "      <th>4</th>\n",
              "      <td>0.525897</td>\n",
              "      <td>324</td>\n",
              "      <td>0</td>\n",
              "      <td>1</td>\n",
              "      <td>0.713328</td>\n",
              "      <td>2.0</td>\n",
              "      <td>319.0</td>\n",
              "    </tr>\n",
              "    <tr>\n",
              "      <th>5</th>\n",
              "      <td>0.406463</td>\n",
              "      <td>72</td>\n",
              "      <td>2</td>\n",
              "      <td>1</td>\n",
              "      <td>0.584244</td>\n",
              "      <td>2.0</td>\n",
              "      <td>0.0</td>\n",
              "    </tr>\n",
              "    <tr>\n",
              "      <th>6</th>\n",
              "      <td>0.459385</td>\n",
              "      <td>1032</td>\n",
              "      <td>0</td>\n",
              "      <td>1</td>\n",
              "      <td>0.497320</td>\n",
              "      <td>2.0</td>\n",
              "      <td>1081.0</td>\n",
              "    </tr>\n",
              "    <tr>\n",
              "      <th>7</th>\n",
              "      <td>0.505452</td>\n",
              "      <td>512</td>\n",
              "      <td>0</td>\n",
              "      <td>5</td>\n",
              "      <td>0.484634</td>\n",
              "      <td>3.0</td>\n",
              "      <td>507.0</td>\n",
              "    </tr>\n",
              "    <tr>\n",
              "      <th>8</th>\n",
              "      <td>0.525897</td>\n",
              "      <td>265</td>\n",
              "      <td>0</td>\n",
              "      <td>1</td>\n",
              "      <td>0.625485</td>\n",
              "      <td>2.0</td>\n",
              "      <td>287.0</td>\n",
              "    </tr>\n",
              "    <tr>\n",
              "      <th>9</th>\n",
              "      <td>0.525897</td>\n",
              "      <td>3113</td>\n",
              "      <td>0</td>\n",
              "      <td>1</td>\n",
              "      <td>0.519936</td>\n",
              "      <td>2.0</td>\n",
              "      <td>3125.0</td>\n",
              "    </tr>\n",
              "  </tbody>\n",
              "</table>\n",
              "</div>"
            ],
            "text/plain": [
              "   TOKEN_VECT  TOKEN_NUM  GENDER  POS  SENT_VECT  NER  COREFERENCE_CLUSTER\n",
              "0    0.468716       1789       0    1   0.673832  2.0               1795.0\n",
              "1    0.464472        372       0    1   0.502091  2.0                388.0\n",
              "2    0.556986        241       1    1   0.564593  2.0                  0.0\n",
              "3    0.589178       1134       0    1   0.493534  2.0                  0.0\n",
              "4    0.525897        324       0    1   0.713328  2.0                319.0\n",
              "5    0.406463         72       2    1   0.584244  2.0                  0.0\n",
              "6    0.459385       1032       0    1   0.497320  2.0               1081.0\n",
              "7    0.505452        512       0    5   0.484634  3.0                507.0\n",
              "8    0.525897        265       0    1   0.625485  2.0                287.0\n",
              "9    0.525897       3113       0    1   0.519936  2.0               3125.0"
            ]
          },
          "metadata": {
            "tags": []
          },
          "execution_count": 1421
        }
      ]
    },
    {
      "cell_type": "code",
      "metadata": {
        "colab": {
          "base_uri": "https://localhost:8080/"
        },
        "id": "gV3OdD0OUKeU",
        "outputId": "ed9ff6ea-4d61-475d-94cc-a9048aa07478"
      },
      "source": [
        "y"
      ],
      "execution_count": 1422,
      "outputs": [
        {
          "output_type": "execute_result",
          "data": {
            "text/plain": [
              "0       218.0\n",
              "1         0.0\n",
              "2         0.0\n",
              "3         6.0\n",
              "4      1657.0\n",
              "        ...  \n",
              "226    1582.0\n",
              "227     663.0\n",
              "228       0.0\n",
              "229    2711.0\n",
              "230       0.0\n",
              "Name: COREFERENCE_CLUSTER, Length: 231, dtype: float64"
            ]
          },
          "metadata": {
            "tags": []
          },
          "execution_count": 1422
        }
      ]
    },
    {
      "cell_type": "markdown",
      "metadata": {
        "id": "5tK813duz_3P"
      },
      "source": [
        "Обучаем модели."
      ]
    },
    {
      "cell_type": "code",
      "metadata": {
        "colab": {
          "base_uri": "https://localhost:8080/"
        },
        "id": "lpdNSWV0fl47",
        "outputId": "73fe96b7-e04b-4640-ae06-90ac43be86ad"
      },
      "source": [
        "clf = tree.DecisionTreeClassifier(max_depth=2000, )\n",
        "clf.fit(X, y)\n",
        "clf.score(X_test, y_test)"
      ],
      "execution_count": 1423,
      "outputs": [
        {
          "output_type": "execute_result",
          "data": {
            "text/plain": [
              "0.603448275862069"
            ]
          },
          "metadata": {
            "tags": []
          },
          "execution_count": 1423
        }
      ]
    },
    {
      "cell_type": "code",
      "metadata": {
        "id": "7EOq1DxzyAiQ",
        "colab": {
          "base_uri": "https://localhost:8080/"
        },
        "outputId": "d4256fa1-b760-4ca6-87f7-1a027252bff7"
      },
      "source": [
        "clf_entropy = tree.DecisionTreeClassifier(criterion='entropy', max_depth=2000)\n",
        "clf_entropy.fit(X, y)\n",
        "clf_entropy.score(X_test, y_test)"
      ],
      "execution_count": 1424,
      "outputs": [
        {
          "output_type": "execute_result",
          "data": {
            "text/plain": [
              "0.6379310344827587"
            ]
          },
          "metadata": {
            "tags": []
          },
          "execution_count": 1424
        }
      ]
    },
    {
      "cell_type": "code",
      "metadata": {
        "colab": {
          "base_uri": "https://localhost:8080/"
        },
        "id": "795Z0wfKBMRp",
        "outputId": "dc8345f5-45fe-4c8a-c81d-529d013a2460"
      },
      "source": [
        "randf_clf = RandomForestClassifier(max_depth=3000, n_estimators=600, bootstrap=True, )\n",
        "randf_clf.fit(X, y)\n",
        "randf_clf.score(X_test, y_test)"
      ],
      "execution_count": 1425,
      "outputs": [
        {
          "output_type": "execute_result",
          "data": {
            "text/plain": [
              "0.5344827586206896"
            ]
          },
          "metadata": {
            "tags": []
          },
          "execution_count": 1425
        }
      ]
    },
    {
      "cell_type": "code",
      "metadata": {
        "colab": {
          "base_uri": "https://localhost:8080/"
        },
        "id": "h8j0eFJPEDCI",
        "outputId": "68bea717-27d8-4880-b744-9fbe0c1a74fa"
      },
      "source": [
        "regr = linear_model.LinearRegression()\n",
        "regr.fit(X, y)\n",
        "regr.score(X_test, y_test)"
      ],
      "execution_count": 1426,
      "outputs": [
        {
          "output_type": "execute_result",
          "data": {
            "text/plain": [
              "1.0"
            ]
          },
          "metadata": {
            "tags": []
          },
          "execution_count": 1426
        }
      ]
    },
    {
      "cell_type": "code",
      "metadata": {
        "id": "LgDyuglZCo55"
      },
      "source": [
        "from sklearn import svm"
      ],
      "execution_count": 1427,
      "outputs": []
    },
    {
      "cell_type": "code",
      "metadata": {
        "colab": {
          "base_uri": "https://localhost:8080/"
        },
        "id": "o5Ol9LJQB-Z5",
        "outputId": "748eb861-1fe3-464b-db5b-3a9075797a8e"
      },
      "source": [
        "svm_clf = svm.SVC(decision_function_shape='ovo', cache_size=500)\n",
        "svm_clf.fit(X, y)\n",
        "svm_clf.score(X_test, y_test)"
      ],
      "execution_count": 1428,
      "outputs": [
        {
          "output_type": "execute_result",
          "data": {
            "text/plain": [
              "0.39655172413793105"
            ]
          },
          "metadata": {
            "tags": []
          },
          "execution_count": 1428
        }
      ]
    },
    {
      "cell_type": "code",
      "metadata": {
        "colab": {
          "base_uri": "https://localhost:8080/"
        },
        "id": "v-Ib98jycNOB",
        "outputId": "7f16d55e-a6f6-4572-958a-6d1d00feb873"
      },
      "source": [
        "from sklearn.neighbors import KNeighborsClassifier\n",
        "knn_clf = KNeighborsClassifier(n_neighbors=7, weights='distance',algorithm='ball_tree',leaf_size=40, metric='minkowski', p=1).fit(X, y)\n",
        "knn_clf.score(X_test, y_test)"
      ],
      "execution_count": 1429,
      "outputs": [
        {
          "output_type": "execute_result",
          "data": {
            "text/plain": [
              "0.6724137931034483"
            ]
          },
          "metadata": {
            "tags": []
          },
          "execution_count": 1429
        }
      ]
    },
    {
      "cell_type": "code",
      "metadata": {
        "id": "4T66NsKoc_IP"
      },
      "source": [
        "# from sklearn.naive_bayes import MultinomialNB\n",
        "# naive_clf = MultinomialNB().fit(X, y)\n"
      ],
      "execution_count": 1430,
      "outputs": []
    },
    {
      "cell_type": "markdown",
      "metadata": {
        "id": "wBG278Rc0_XD"
      },
      "source": [
        "# **ОЦЕНКА МОДЕЛЕЙ**"
      ]
    },
    {
      "cell_type": "code",
      "metadata": {
        "id": "FSTKYAktXiS9"
      },
      "source": [
        "def my_eval(X_predicted, y):\n",
        "  \n",
        "  tp = []\n",
        "  fp = []\n",
        "  tn = []\n",
        "  fn = []\n",
        "\n",
        "  for i in range(len(X_predicted)):\n",
        "    if X_predicted[i] != 0.0:\n",
        "      if X_predicted[i] == y_test[i]:\n",
        "        tp.append(i)\n",
        "      else:\n",
        "        fp.append(i)\n",
        "    # берем только те синглтоны, которые относятся к номинативным или прономинальным группам.\n",
        "    elif X_predicted[i] == 0.0 and test.iloc[:,22:23].iloc[[i]].values[0][0] in (2.0, 3.0):\n",
        "      if X_predicted[i] == y_test[i]:\n",
        "        tn.append(i)\n",
        "      else:\n",
        "        fn.append(i)\n",
        "  try:\n",
        "    P = len(tp)/(len(tp) + len(fp))\n",
        "  except ZeroDivisionError:\n",
        "    P = 0\n",
        "  try:\n",
        "    R = len(tp)/(len(tp) + len(fn))\n",
        "  except ZeroDivisionError:\n",
        "    R = 0\n",
        "  try:\n",
        "    F = 2*P*R/(P+R)\n",
        "  except ZeroDivisionError:\n",
        "    F = 0\n",
        "\n",
        "  print(len(tp), ' true positive')\n",
        "  print(len(fp), ' false positive')\n",
        "  print(len(tn), ' true negative')\n",
        "  print(len(fn), ' false negative')\n",
        "  print('---------')\n",
        "  print(P,' presicion')\n",
        "  print(R, ' recall')\n",
        "  print(F, ' f-score')\n",
        "\n"
      ],
      "execution_count": 1431,
      "outputs": []
    },
    {
      "cell_type": "code",
      "metadata": {
        "id": "q0ss_ZBr73-y"
      },
      "source": [
        "pred = clf.predict(X_test)\n",
        "pred_randf = randf_clf.predict(X_test)\n",
        "pred_entropy = clf_entropy.predict(X_test)\n",
        "pred_regr = regr.predict(X_test)\n",
        "pred_svm = svm_clf.predict(X_test)\n",
        "pred_knn = knn_clf.predict(X_test)\n",
        "# naive_pred = naive_clf.predict(X_test)"
      ],
      "execution_count": 1432,
      "outputs": []
    },
    {
      "cell_type": "code",
      "metadata": {
        "id": "SI2hsUJbdK4Q"
      },
      "source": [
        "# my_eval(list(naive_pred), list(y_test))"
      ],
      "execution_count": 1433,
      "outputs": []
    },
    {
      "cell_type": "code",
      "metadata": {
        "colab": {
          "base_uri": "https://localhost:8080/"
        },
        "id": "iJeUENfIcdNY",
        "outputId": "69035aaa-6fdf-4fa1-b84f-47543b1a2a25"
      },
      "source": [
        "my_eval(list(pred_knn), list(y_test))"
      ],
      "execution_count": 1434,
      "outputs": [
        {
          "output_type": "stream",
          "text": [
            "17  true positive\n",
            "17  false positive\n",
            "22  true negative\n",
            "2  false negative\n",
            "---------\n",
            "0.5  presicion\n",
            "0.8947368421052632  recall\n",
            "0.6415094339622641  f-score\n"
          ],
          "name": "stdout"
        }
      ]
    },
    {
      "cell_type": "code",
      "metadata": {
        "colab": {
          "base_uri": "https://localhost:8080/"
        },
        "id": "dVEiXSg9DF3Z",
        "outputId": "d42abff6-42df-4668-9057-9c42a29a3f6c"
      },
      "source": [
        "my_eval(list(pred_entropy), list(y_test))"
      ],
      "execution_count": 1435,
      "outputs": [
        {
          "output_type": "stream",
          "text": [
            "14  true positive\n",
            "20  false positive\n",
            "23  true negative\n",
            "1  false negative\n",
            "---------\n",
            "0.4117647058823529  presicion\n",
            "0.9333333333333333  recall\n",
            "0.5714285714285713  f-score\n"
          ],
          "name": "stdout"
        }
      ]
    },
    {
      "cell_type": "code",
      "metadata": {
        "id": "ZUoq9gZXyout",
        "colab": {
          "base_uri": "https://localhost:8080/"
        },
        "outputId": "d28a7234-7ca9-4c86-b97b-b2f7718121b3"
      },
      "source": [
        "my_eval(list(pred), list(y_test))"
      ],
      "execution_count": 1436,
      "outputs": [
        {
          "output_type": "stream",
          "text": [
            "12  true positive\n",
            "22  false positive\n",
            "23  true negative\n",
            "1  false negative\n",
            "---------\n",
            "0.35294117647058826  presicion\n",
            "0.9230769230769231  recall\n",
            "0.5106382978723405  f-score\n"
          ],
          "name": "stdout"
        }
      ]
    },
    {
      "cell_type": "code",
      "metadata": {
        "colab": {
          "base_uri": "https://localhost:8080/"
        },
        "id": "Zg4pmJBnDFtw",
        "outputId": "f6806f95-ac6c-4324-802d-be8ce57eb44f"
      },
      "source": [
        "my_eval(list(pred_randf), list(y_test))"
      ],
      "execution_count": 1437,
      "outputs": [
        {
          "output_type": "stream",
          "text": [
            "8  true positive\n",
            "26  false positive\n",
            "23  true negative\n",
            "1  false negative\n",
            "---------\n",
            "0.23529411764705882  presicion\n",
            "0.8888888888888888  recall\n",
            "0.3720930232558139  f-score\n"
          ],
          "name": "stdout"
        }
      ]
    },
    {
      "cell_type": "code",
      "metadata": {
        "colab": {
          "base_uri": "https://localhost:8080/"
        },
        "id": "aGTYbbgLEQxy",
        "outputId": "e9553621-8040-4bc7-ca1c-a4de4dbcd017"
      },
      "source": [
        "my_eval(list(pred_regr), list(y_test))"
      ],
      "execution_count": 1438,
      "outputs": [
        {
          "output_type": "stream",
          "text": [
            "2  true positive\n",
            "56  false positive\n",
            "0  true negative\n",
            "0  false negative\n",
            "---------\n",
            "0.034482758620689655  presicion\n",
            "1.0  recall\n",
            "0.06666666666666667  f-score\n"
          ],
          "name": "stdout"
        }
      ]
    },
    {
      "cell_type": "code",
      "metadata": {
        "colab": {
          "base_uri": "https://localhost:8080/"
        },
        "id": "g7isaHkricHw",
        "outputId": "445d812b-2720-48b1-94b5-59b9e576e6b8"
      },
      "source": [
        "my_eval(list(pred_svm), list(y_test))"
      ],
      "execution_count": 1439,
      "outputs": [
        {
          "output_type": "stream",
          "text": [
            "0  true positive\n",
            "12  false positive\n",
            "23  true negative\n",
            "23  false negative\n",
            "---------\n",
            "0.0  presicion\n",
            "0.0  recall\n",
            "0  f-score\n"
          ],
          "name": "stdout"
        }
      ]
    },
    {
      "cell_type": "code",
      "metadata": {
        "id": "lsoMYdF2CswH"
      },
      "source": [
        ""
      ],
      "execution_count": 1439,
      "outputs": []
    }
  ]
}