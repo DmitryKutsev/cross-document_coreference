{
  "nbformat": 4,
  "nbformat_minor": 0,
  "metadata": {
    "colab": {
      "name": "Untitled63.ipynb",
      "provenance": [],
      "authorship_tag": "ABX9TyNUN+YCFTc3t2cect1m0Iy9",
      "include_colab_link": true
    },
    "kernelspec": {
      "name": "python3",
      "display_name": "Python 3"
    },
    "language_info": {
      "name": "python"
    }
  },
  "cells": [
    {
      "cell_type": "markdown",
      "metadata": {
        "id": "view-in-github",
        "colab_type": "text"
      },
      "source": [
        "<a href=\"https://colab.research.google.com/github/DmitryKutsev/cross-document_coreference/blob/main/classifiers/rule_ml_pair.ipynb\" target=\"_parent\"><img src=\"https://colab.research.google.com/assets/colab-badge.svg\" alt=\"Open In Colab\"/></a>"
      ]
    },
    {
      "cell_type": "markdown",
      "metadata": {
        "id": "MR2ASbW_mPHn"
      },
      "source": [
        "## **Импорт**"
      ]
    },
    {
      "cell_type": "code",
      "metadata": {
        "id": "jRqz8PB_SGaz"
      },
      "source": [
        "import pandas as pd\n",
        "import matplotlib.pyplot as plt\n",
        "import seaborn as sns\n",
        "%matplotlib inline\n"
      ],
      "execution_count": 1,
      "outputs": []
    },
    {
      "cell_type": "code",
      "metadata": {
        "id": "OFLx7egYS2qN"
      },
      "source": [
        "from IPython.display import SVG, display, HTML"
      ],
      "execution_count": 2,
      "outputs": []
    },
    {
      "cell_type": "code",
      "metadata": {
        "id": "5Lhnxf_FoRVA",
        "colab": {
          "base_uri": "https://localhost:8080/"
        },
        "outputId": "f6163f7c-a981-41bc-f73d-248c61333da0"
      },
      "source": [
        "from google.colab import drive\n",
        "drive.mount('./content', force_remount=False)"
      ],
      "execution_count": 3,
      "outputs": [
        {
          "output_type": "stream",
          "text": [
            "Drive already mounted at ./content; to attempt to forcibly remount, call drive.mount(\"./content\", force_remount=True).\n"
          ],
          "name": "stdout"
        }
      ]
    },
    {
      "cell_type": "code",
      "metadata": {
        "id": "e6z5yVCTZght"
      },
      "source": [
        "import spacy\n",
        "import numpy as np\n",
        "\n",
        "import gensim\n",
        "from gensim.models import Word2Vec \n",
        "from gensim.models import FastText\n",
        "\n",
        "from nltk.tokenize import RegexpTokenizer\n",
        "from nltk import  sent_tokenize\n",
        "from sklearn.metrics.pairwise import cosine_distances, cosine_similarity\n",
        "import numpy as np\n",
        "import pandas as pd\n",
        "from sklearn.feature_extraction.text import TfidfVectorizer"
      ],
      "execution_count": 4,
      "outputs": []
    },
    {
      "cell_type": "code",
      "metadata": {
        "id": "p8tYiCNJzF46"
      },
      "source": [
        "from graphviz import Source\n",
        "from sklearn import tree, svm, linear_model\n",
        "from sklearn.metrics import confusion_matrix, f1_score, accuracy_score\n",
        "from sklearn.ensemble import RandomForestClassifier\n",
        "from sklearn.neighbors import KNeighborsClassifier\n"
      ],
      "execution_count": 5,
      "outputs": []
    },
    {
      "cell_type": "code",
      "metadata": {
        "id": "J_7xbdMuo_RW",
        "colab": {
          "base_uri": "https://localhost:8080/"
        },
        "outputId": "4b215121-b9aa-405a-a4f2-b50b562b413e"
      },
      "source": [
        "!ls\n",
        "import os\n",
        "for i in os.listdir('content/'):\n",
        "  print(i)"
      ],
      "execution_count": 6,
      "outputs": [
        {
          "output_type": "stream",
          "text": [
            "annotations.csv\t\tneuroleptic_antidepr2.txt\n",
            "annotation_table.csv\tneuroleptic_antidepr2.txt.1\n",
            "annotation_table.csv.1\tneuroleptic_antidepr2.txt.2\n",
            "annotation_table.csv.2\tneuroleptic_antidepr2.txt.3\n",
            "annotation_table.csv.3\tneuroleptic_antidepr2.txt.4\n",
            "annotation_table.csv.4\tneuroleptic_antidepr2.txt.5\n",
            "annotation_table.csv.5\tneuroleptic_antidepr2.txt.6\n",
            "annotation_table.csv.6\tneuroleptic_antidepr2.txt.7\n",
            "annotation_table.csv.7\tneuroleptic_antidepr2.txt.8\n",
            "annotation_table.csv.8\trakpobedim_ru2.txt\n",
            "content\t\t\trakpobedim_ru2.txt.1\n",
            "hv-info_gepatit2.txt\trakpobedim_ru2.txt.2\n",
            "hv-info_gepatit2.txt.1\trakpobedim_ru2.txt.3\n",
            "hv-info_gepatit2.txt.2\trakpobedim_ru2.txt.4\n",
            "hv-info_gepatit2.txt.3\trakpobedim_ru2.txt.5\n",
            "hv-info_gepatit2.txt.4\trakpobedim_ru2.txt.6\n",
            "hv-info_gepatit2.txt.5\trakpobedim_ru2.txt.7\n",
            "hv-info_gepatit2.txt.6\trakpobedim_ru2.txt.8\n",
            "hv-info_gepatit2.txt.7\tsample_data\n",
            "hv-info_gepatit2.txt.8\n",
            ".file-revisions-by-id\n",
            ".shortcut-targets-by-id\n",
            "MyDrive\n",
            ".Trash\n"
          ],
          "name": "stdout"
        }
      ]
    },
    {
      "cell_type": "code",
      "metadata": {
        "id": "L7z8djaJTABE"
      },
      "source": [
        "import csv\n",
        "import re\n",
        "from google.colab import files\n",
        "from sklearn.model_selection import train_test_split\n",
        "from sklearn.metrics.pairwise import cosine_similarity"
      ],
      "execution_count": 7,
      "outputs": []
    },
    {
      "cell_type": "markdown",
      "metadata": {
        "id": "UYfVvz6CmVMq"
      },
      "source": [
        "## **Обработка данных**"
      ]
    },
    {
      "cell_type": "code",
      "metadata": {
        "colab": {
          "base_uri": "https://localhost:8080/"
        },
        "id": "DHp2dDuqZj6h",
        "outputId": "1f973045-d30b-44ec-891c-3a9129f68333"
      },
      "source": [
        "!wget https://raw.githubusercontent.com/DmitryKutsev/cross-document_coreference/main/scraping/neuroleptic_antidepr2.txt\n",
        "!wget https://raw.githubusercontent.com/DmitryKutsev/cross-document_coreference/main/scraping/rakpobedim_ru2.txt\n",
        "!wget https://raw.githubusercontent.com/DmitryKutsev/cross-document_coreference/main/scraping/hv-info_gepatit2.txt"
      ],
      "execution_count": 8,
      "outputs": [
        {
          "output_type": "stream",
          "text": [
            "--2021-05-24 23:35:42--  https://raw.githubusercontent.com/DmitryKutsev/cross-document_coreference/main/scraping/neuroleptic_antidepr2.txt\n",
            "Resolving raw.githubusercontent.com (raw.githubusercontent.com)... 185.199.108.133, 185.199.109.133, 185.199.110.133, ...\n",
            "Connecting to raw.githubusercontent.com (raw.githubusercontent.com)|185.199.108.133|:443... connected.\n",
            "HTTP request sent, awaiting response... 200 OK\n",
            "Length: 11655409 (11M) [text/plain]\n",
            "Saving to: ‘neuroleptic_antidepr2.txt.9’\n",
            "\n",
            "neuroleptic_antidep 100%[===================>]  11.12M  30.0MB/s    in 0.4s    \n",
            "\n",
            "2021-05-24 23:35:43 (30.0 MB/s) - ‘neuroleptic_antidepr2.txt.9’ saved [11655409/11655409]\n",
            "\n",
            "--2021-05-24 23:35:43--  https://raw.githubusercontent.com/DmitryKutsev/cross-document_coreference/main/scraping/rakpobedim_ru2.txt\n",
            "Resolving raw.githubusercontent.com (raw.githubusercontent.com)... 185.199.108.133, 185.199.109.133, 185.199.110.133, ...\n",
            "Connecting to raw.githubusercontent.com (raw.githubusercontent.com)|185.199.108.133|:443... connected.\n",
            "HTTP request sent, awaiting response... 200 OK\n",
            "Length: 19072917 (18M) [text/plain]\n",
            "Saving to: ‘rakpobedim_ru2.txt.9’\n",
            "\n",
            "rakpobedim_ru2.txt. 100%[===================>]  18.19M  43.5MB/s    in 0.4s    \n",
            "\n",
            "2021-05-24 23:35:44 (43.5 MB/s) - ‘rakpobedim_ru2.txt.9’ saved [19072917/19072917]\n",
            "\n",
            "--2021-05-24 23:35:44--  https://raw.githubusercontent.com/DmitryKutsev/cross-document_coreference/main/scraping/hv-info_gepatit2.txt\n",
            "Resolving raw.githubusercontent.com (raw.githubusercontent.com)... 185.199.108.133, 185.199.109.133, 185.199.110.133, ...\n",
            "Connecting to raw.githubusercontent.com (raw.githubusercontent.com)|185.199.108.133|:443... connected.\n",
            "HTTP request sent, awaiting response... 200 OK\n",
            "Length: 18273113 (17M) [text/plain]\n",
            "Saving to: ‘hv-info_gepatit2.txt.9’\n",
            "\n",
            "hv-info_gepatit2.tx 100%[===================>]  17.43M  70.3MB/s    in 0.2s    \n",
            "\n",
            "2021-05-24 23:35:46 (70.3 MB/s) - ‘hv-info_gepatit2.txt.9’ saved [18273113/18273113]\n",
            "\n"
          ],
          "name": "stdout"
        }
      ]
    },
    {
      "cell_type": "code",
      "metadata": {
        "id": "xk_hRf26TjUD",
        "colab": {
          "base_uri": "https://localhost:8080/"
        },
        "outputId": "4b98fa68-6ff3-47a8-8fff-0bf8ffe20cc9"
      },
      "source": [
        "!wget https://raw.githubusercontent.com/DmitryKutsev/cross-document_coreference/main/data/coref_df_anns60k.csv\n",
        "!wget https://raw.githubusercontent.com/DmitryKutsev/cross-document_coreference/main/data/annotation_table.csv"
      ],
      "execution_count": 9,
      "outputs": [
        {
          "output_type": "stream",
          "text": [
            "--2021-05-24 23:35:46--  https://raw.githubusercontent.com/DmitryKutsev/cross-document_coreference/main/data/coref_df_anns60k.csv\n",
            "Resolving raw.githubusercontent.com (raw.githubusercontent.com)... 185.199.111.133, 185.199.108.133, 185.199.110.133, ...\n",
            "Connecting to raw.githubusercontent.com (raw.githubusercontent.com)|185.199.111.133|:443... connected.\n",
            "HTTP request sent, awaiting response... 404 Not Found\n",
            "2021-05-24 23:35:46 ERROR 404: Not Found.\n",
            "\n",
            "--2021-05-24 23:35:46--  https://raw.githubusercontent.com/DmitryKutsev/cross-document_coreference/main/data/annotation_table.csv\n",
            "Resolving raw.githubusercontent.com (raw.githubusercontent.com)... 185.199.111.133, 185.199.108.133, 185.199.110.133, ...\n",
            "Connecting to raw.githubusercontent.com (raw.githubusercontent.com)|185.199.111.133|:443... connected.\n",
            "HTTP request sent, awaiting response... 200 OK\n",
            "Length: 2100361 (2.0M) [text/plain]\n",
            "Saving to: ‘annotation_table.csv.9’\n",
            "\n",
            "annotation_table.cs 100%[===================>]   2.00M  --.-KB/s    in 0.08s   \n",
            "\n",
            "2021-05-24 23:35:46 (23.6 MB/s) - ‘annotation_table.csv.9’ saved [2100361/2100361]\n",
            "\n"
          ],
          "name": "stdout"
        }
      ]
    },
    {
      "cell_type": "code",
      "metadata": {
        "id": "H_hUZXGd-f3P"
      },
      "source": [
        "handler = open('neuroleptic_antidepr2.txt', 'r', encoding='utf-8')\n",
        "my_txt = handler.read()\n",
        "handler.close()\n",
        "\n",
        "handler = open('hv-info_gepatit2.txt', 'r', encoding='utf-8')\n",
        "my_txt += handler.read()\n",
        "handler.close()\n",
        "\n",
        "handler = open('rakpobedim_ru2.txt', 'r', encoding='utf-8')\n",
        "my_txt += handler.read()\n",
        "handler.close()"
      ],
      "execution_count": 10,
      "outputs": []
    },
    {
      "cell_type": "code",
      "metadata": {
        "id": "Whhtmahdmi36"
      },
      "source": [
        "posts = my_txt.split('----')"
      ],
      "execution_count": 11,
      "outputs": []
    },
    {
      "cell_type": "markdown",
      "metadata": {
        "id": "1BcgZCu2Z6da"
      },
      "source": [
        "## **Обучение векторизатора**"
      ]
    },
    {
      "cell_type": "code",
      "metadata": {
        "id": "LfyCQ883Z1Uy"
      },
      "source": [
        "tokenizer = RegexpTokenizer(r'\\w+')\n",
        "sentences_tokenized = [w.lower() for w in posts]\n",
        "\n",
        "\n",
        "sentences_tokenized = [tokenizer.tokenize(i) for i in sentences_tokenized]\n",
        "ft = FastText(sentences_tokenized, window=5, min_count=5, workers=4,sg=1)"
      ],
      "execution_count": 12,
      "outputs": []
    },
    {
      "cell_type": "markdown",
      "metadata": {
        "id": "cVHJN9DsrmkH"
      },
      "source": [
        "Обработка битых символов, чтобы pandas мог открыть таблицу."
      ]
    },
    {
      "cell_type": "code",
      "metadata": {
        "colab": {
          "base_uri": "https://localhost:8080/"
        },
        "id": "MSjV15tz-UmH",
        "outputId": "f44eff97-98b5-415d-865b-68104f950b16"
      },
      "source": [
        "count = 0\n",
        "with open('annotation_table.csv') as csvfile:\n",
        "  with open('annotations.csv', 'w') as write_file:\n",
        "    writer = csv.writer(write_file, delimiter='\\t')\n",
        "    for new_row in csvfile:\n",
        "      count +=1\n",
        "      # print(i.split('\\t'))\n",
        "      if len(new_row.split('\\t')) > 19:\n",
        "        new_row = new_row.split('\\t')[:20]\n",
        "        new_row[-1] = new_row[-1][:-1] # cut \\n\n",
        "      writer.writerow(new_row)\n",
        "count"
      ],
      "execution_count": 13,
      "outputs": [
        {
          "output_type": "execute_result",
          "data": {
            "text/plain": [
              "27019"
            ]
          },
          "metadata": {
            "tags": []
          },
          "execution_count": 13
        }
      ]
    },
    {
      "cell_type": "code",
      "metadata": {
        "id": "nKgKz0h9SPOK"
      },
      "source": [
        "# # with open('coref_df_anns60k.csv') as csvfile:\n",
        "# with open('new_anns60k.csv') as csvfile:\n",
        "#   reader = csv.reader(csvfile, delimiter='\\t')\n",
        "#   with open('new_df_anns60k.csv', 'w') as write_file:\n",
        "#     writer = csv.writer(write_file, delimiter='\\t')\n",
        "#     c = 0\n",
        "#     for row in reader:\n",
        "#       c +=1\n",
        "#       new_row = [i if i and not re.match(r'\\t+?', i) else 0 for i in row]\n",
        "#       if len(new_row) > 9:\n",
        "#         new_row = new_row[:9]\n",
        "#       else:\n",
        "#         new_row = [0 for i in range(9)]\n",
        "#       writer.writerow(new_row)\n",
        "# c\n"
      ],
      "execution_count": 14,
      "outputs": []
    },
    {
      "cell_type": "code",
      "metadata": {
        "colab": {
          "base_uri": "https://localhost:8080/"
        },
        "id": "iHSVRy-axVs8",
        "outputId": "a3aada29-5987-4e7d-ff51-0bac7d72b0c9"
      },
      "source": [
        "# !rm new_anns60k.csv.1 new_anns60k.csv.2 new_df_anns60k.csv new_anns60k.csv\n",
        "!ls\n",
        "# !rm annotation_table.csv.2 annotation_table.csv.1 annotation_table.csv annotations.csv"
      ],
      "execution_count": 15,
      "outputs": [
        {
          "output_type": "stream",
          "text": [
            "annotations.csv\t\tneuroleptic_antidepr2.txt\n",
            "annotation_table.csv\tneuroleptic_antidepr2.txt.1\n",
            "annotation_table.csv.1\tneuroleptic_antidepr2.txt.2\n",
            "annotation_table.csv.2\tneuroleptic_antidepr2.txt.3\n",
            "annotation_table.csv.3\tneuroleptic_antidepr2.txt.4\n",
            "annotation_table.csv.4\tneuroleptic_antidepr2.txt.5\n",
            "annotation_table.csv.5\tneuroleptic_antidepr2.txt.6\n",
            "annotation_table.csv.6\tneuroleptic_antidepr2.txt.7\n",
            "annotation_table.csv.7\tneuroleptic_antidepr2.txt.8\n",
            "annotation_table.csv.8\tneuroleptic_antidepr2.txt.9\n",
            "annotation_table.csv.9\trakpobedim_ru2.txt\n",
            "content\t\t\trakpobedim_ru2.txt.1\n",
            "hv-info_gepatit2.txt\trakpobedim_ru2.txt.2\n",
            "hv-info_gepatit2.txt.1\trakpobedim_ru2.txt.3\n",
            "hv-info_gepatit2.txt.2\trakpobedim_ru2.txt.4\n",
            "hv-info_gepatit2.txt.3\trakpobedim_ru2.txt.5\n",
            "hv-info_gepatit2.txt.4\trakpobedim_ru2.txt.6\n",
            "hv-info_gepatit2.txt.5\trakpobedim_ru2.txt.7\n",
            "hv-info_gepatit2.txt.6\trakpobedim_ru2.txt.8\n",
            "hv-info_gepatit2.txt.7\trakpobedim_ru2.txt.9\n",
            "hv-info_gepatit2.txt.8\tsample_data\n",
            "hv-info_gepatit2.txt.9\n"
          ],
          "name": "stdout"
        }
      ]
    },
    {
      "cell_type": "code",
      "metadata": {
        "id": "fpbwAAb6sUnL",
        "colab": {
          "base_uri": "https://localhost:8080/",
          "height": 427
        },
        "outputId": "026a5e19-fb3a-4e9f-abfd-0f4fb621b8be"
      },
      "source": [
        "# anns_df = pd.read_csv('coref_df_anns60k.csv', delimiter='\\t', error_bad_lines=False, header=None)\n",
        "anns_df = pd.read_csv('annotations.csv', delimiter='\\t')\n",
        "anns_df"
      ],
      "execution_count": 16,
      "outputs": [
        {
          "output_type": "execute_result",
          "data": {
            "text/html": [
              "<div>\n",
              "<style scoped>\n",
              "    .dataframe tbody tr th:only-of-type {\n",
              "        vertical-align: middle;\n",
              "    }\n",
              "\n",
              "    .dataframe tbody tr th {\n",
              "        vertical-align: top;\n",
              "    }\n",
              "\n",
              "    .dataframe thead th {\n",
              "        text-align: right;\n",
              "    }\n",
              "</style>\n",
              "<table border=\"1\" class=\"dataframe\">\n",
              "  <thead>\n",
              "    <tr style=\"text-align: right;\">\n",
              "      <th></th>\n",
              "      <th>TOKEN</th>\n",
              "      <th>IS_ANSWER</th>\n",
              "      <th>TOPIC_NUM</th>\n",
              "      <th>POST_NUM</th>\n",
              "      <th>SENT_NUM</th>\n",
              "      <th>TOKEN_NUM</th>\n",
              "      <th>ANIMACY</th>\n",
              "      <th>CASE</th>\n",
              "      <th>GENDER</th>\n",
              "      <th>PERSON</th>\n",
              "      <th>POS</th>\n",
              "      <th>DEPENDENCY</th>\n",
              "      <th>HEAD</th>\n",
              "      <th>HEAD_ANIMACY</th>\n",
              "      <th>HEAD_CASE</th>\n",
              "      <th>HEAD_GENDER</th>\n",
              "      <th>HEAD_POS</th>\n",
              "      <th>NER</th>\n",
              "      <th>COREFERENCE_CLUSTER</th>\n",
              "      <th>NUMBER</th>\n",
              "    </tr>\n",
              "  </thead>\n",
              "  <tbody>\n",
              "    <tr>\n",
              "      <th>0</th>\n",
              "      <td>обсуждаем</td>\n",
              "      <td>0</td>\n",
              "      <td>1</td>\n",
              "      <td>0.0</td>\n",
              "      <td>0.0</td>\n",
              "      <td>0.0</td>\n",
              "      <td>NaN</td>\n",
              "      <td>NaN</td>\n",
              "      <td>NaN</td>\n",
              "      <td>1per</td>\n",
              "      <td>VERB</td>\n",
              "      <td>ROOT</td>\n",
              "      <td>обсуждаем</td>\n",
              "      <td>NaN</td>\n",
              "      <td>NaN</td>\n",
              "      <td>NaN</td>\n",
              "      <td>VERB</td>\n",
              "      <td>0</td>\n",
              "      <td>0.0</td>\n",
              "      <td>plur</td>\n",
              "    </tr>\n",
              "    <tr>\n",
              "      <th>1</th>\n",
              "      <td>препарат</td>\n",
              "      <td>0</td>\n",
              "      <td>1</td>\n",
              "      <td>0.0</td>\n",
              "      <td>0.0</td>\n",
              "      <td>1.0</td>\n",
              "      <td>inan</td>\n",
              "      <td>nomn</td>\n",
              "      <td>masc</td>\n",
              "      <td>NaN</td>\n",
              "      <td>NOUN</td>\n",
              "      <td>obj</td>\n",
              "      <td>обсуждаем</td>\n",
              "      <td>NaN</td>\n",
              "      <td>NaN</td>\n",
              "      <td>NaN</td>\n",
              "      <td>VERB</td>\n",
              "      <td>0</td>\n",
              "      <td>0.0</td>\n",
              "      <td>sing</td>\n",
              "    </tr>\n",
              "    <tr>\n",
              "      <th>2</th>\n",
              "      <td>рисперидон</td>\n",
              "      <td>0</td>\n",
              "      <td>1</td>\n",
              "      <td>0.0</td>\n",
              "      <td>0.0</td>\n",
              "      <td>2.0</td>\n",
              "      <td>anim</td>\n",
              "      <td>nomn</td>\n",
              "      <td>masc</td>\n",
              "      <td>NaN</td>\n",
              "      <td>NOUN</td>\n",
              "      <td>appos</td>\n",
              "      <td>препарат</td>\n",
              "      <td>inan</td>\n",
              "      <td>nomn</td>\n",
              "      <td>masc</td>\n",
              "      <td>NOUN</td>\n",
              "      <td>1</td>\n",
              "      <td>2.0</td>\n",
              "      <td>sing</td>\n",
              "    </tr>\n",
              "    <tr>\n",
              "      <th>3</th>\n",
              "      <td>рисполепт</td>\n",
              "      <td>0</td>\n",
              "      <td>1</td>\n",
              "      <td>0.0</td>\n",
              "      <td>0.0</td>\n",
              "      <td>3.0</td>\n",
              "      <td>inan</td>\n",
              "      <td>gent</td>\n",
              "      <td>femn</td>\n",
              "      <td>NaN</td>\n",
              "      <td>NOUN</td>\n",
              "      <td>parataxis</td>\n",
              "      <td>рисперидон</td>\n",
              "      <td>anim</td>\n",
              "      <td>nomn</td>\n",
              "      <td>masc</td>\n",
              "      <td>NOUN</td>\n",
              "      <td>1</td>\n",
              "      <td>3.0</td>\n",
              "      <td>plur</td>\n",
              "    </tr>\n",
              "    <tr>\n",
              "      <th>4</th>\n",
              "      <td>сперидан</td>\n",
              "      <td>0</td>\n",
              "      <td>1</td>\n",
              "      <td>0.0</td>\n",
              "      <td>0.0</td>\n",
              "      <td>4.0</td>\n",
              "      <td>NaN</td>\n",
              "      <td>NaN</td>\n",
              "      <td>masc</td>\n",
              "      <td>NaN</td>\n",
              "      <td>PRTS</td>\n",
              "      <td>conj</td>\n",
              "      <td>рисполепт</td>\n",
              "      <td>inan</td>\n",
              "      <td>gent</td>\n",
              "      <td>femn</td>\n",
              "      <td>NOUN</td>\n",
              "      <td>1</td>\n",
              "      <td>4.0</td>\n",
              "      <td>sing</td>\n",
              "    </tr>\n",
              "    <tr>\n",
              "      <th>...</th>\n",
              "      <td>...</td>\n",
              "      <td>...</td>\n",
              "      <td>...</td>\n",
              "      <td>...</td>\n",
              "      <td>...</td>\n",
              "      <td>...</td>\n",
              "      <td>...</td>\n",
              "      <td>...</td>\n",
              "      <td>...</td>\n",
              "      <td>...</td>\n",
              "      <td>...</td>\n",
              "      <td>...</td>\n",
              "      <td>...</td>\n",
              "      <td>...</td>\n",
              "      <td>...</td>\n",
              "      <td>...</td>\n",
              "      <td>...</td>\n",
              "      <td>...</td>\n",
              "      <td>...</td>\n",
              "      <td>...</td>\n",
              "    </tr>\n",
              "    <tr>\n",
              "      <th>27013</th>\n",
              "      <td>и</td>\n",
              "      <td>0</td>\n",
              "      <td>22</td>\n",
              "      <td>68.0</td>\n",
              "      <td>0.0</td>\n",
              "      <td>2385.0</td>\n",
              "      <td>NaN</td>\n",
              "      <td>NaN</td>\n",
              "      <td>NaN</td>\n",
              "      <td>NaN</td>\n",
              "      <td>CONJ</td>\n",
              "      <td>cc</td>\n",
              "      <td>пошлины</td>\n",
              "      <td>inan</td>\n",
              "      <td>nomn</td>\n",
              "      <td>femn</td>\n",
              "      <td>NOUN</td>\n",
              "      <td>0</td>\n",
              "      <td>0.0</td>\n",
              "      <td>NaN</td>\n",
              "    </tr>\n",
              "    <tr>\n",
              "      <th>27014</th>\n",
              "      <td>таможенные</td>\n",
              "      <td>0</td>\n",
              "      <td>22</td>\n",
              "      <td>68.0</td>\n",
              "      <td>0.0</td>\n",
              "      <td>2386.0</td>\n",
              "      <td>NaN</td>\n",
              "      <td>nomn</td>\n",
              "      <td>NaN</td>\n",
              "      <td>NaN</td>\n",
              "      <td>ADJF</td>\n",
              "      <td>amod</td>\n",
              "      <td>пошлины</td>\n",
              "      <td>inan</td>\n",
              "      <td>nomn</td>\n",
              "      <td>femn</td>\n",
              "      <td>NOUN</td>\n",
              "      <td>0</td>\n",
              "      <td>0.0</td>\n",
              "      <td>plur</td>\n",
              "    </tr>\n",
              "    <tr>\n",
              "      <th>27015</th>\n",
              "      <td>пошлины</td>\n",
              "      <td>0</td>\n",
              "      <td>22</td>\n",
              "      <td>68.0</td>\n",
              "      <td>0.0</td>\n",
              "      <td>2387.0</td>\n",
              "      <td>inan</td>\n",
              "      <td>nomn</td>\n",
              "      <td>femn</td>\n",
              "      <td>NaN</td>\n",
              "      <td>NOUN</td>\n",
              "      <td>nsubj</td>\n",
              "      <td>есть</td>\n",
              "      <td>NaN</td>\n",
              "      <td>NaN</td>\n",
              "      <td>NaN</td>\n",
              "      <td>INFN</td>\n",
              "      <td>0</td>\n",
              "      <td>0.0</td>\n",
              "      <td>plur</td>\n",
              "    </tr>\n",
              "    <tr>\n",
              "      <th>27016</th>\n",
              "      <td>как</td>\n",
              "      <td>0</td>\n",
              "      <td>22</td>\n",
              "      <td>68.0</td>\n",
              "      <td>0.0</td>\n",
              "      <td>2388.0</td>\n",
              "      <td>NaN</td>\n",
              "      <td>NaN</td>\n",
              "      <td>NaN</td>\n",
              "      <td>NaN</td>\n",
              "      <td>CONJ</td>\n",
              "      <td>advmod</td>\n",
              "      <td>есть</td>\n",
              "      <td>NaN</td>\n",
              "      <td>NaN</td>\n",
              "      <td>NaN</td>\n",
              "      <td>INFN</td>\n",
              "      <td>0</td>\n",
              "      <td>0.0</td>\n",
              "      <td>NaN</td>\n",
              "    </tr>\n",
              "    <tr>\n",
              "      <th>27017</th>\n",
              "      <td>светка</td>\n",
              "      <td>0</td>\n",
              "      <td>22</td>\n",
              "      <td>69.0</td>\n",
              "      <td>0.0</td>\n",
              "      <td>2389.0</td>\n",
              "      <td>inan</td>\n",
              "      <td>nomn</td>\n",
              "      <td>femn</td>\n",
              "      <td>NaN</td>\n",
              "      <td>NOUN</td>\n",
              "      <td>ROOT</td>\n",
              "      <td>светка</td>\n",
              "      <td>inan</td>\n",
              "      <td>nomn</td>\n",
              "      <td>femn</td>\n",
              "      <td>NOUN</td>\n",
              "      <td>0</td>\n",
              "      <td>0.0</td>\n",
              "      <td>sing</td>\n",
              "    </tr>\n",
              "  </tbody>\n",
              "</table>\n",
              "<p>27018 rows × 20 columns</p>\n",
              "</div>"
            ],
            "text/plain": [
              "            TOKEN IS_ANSWER TOPIC_NUM  ...  NER  COREFERENCE_CLUSTER  NUMBER\n",
              "0       обсуждаем         0         1  ...    0                  0.0    plur\n",
              "1        препарат         0         1  ...    0                  0.0    sing\n",
              "2      рисперидон         0         1  ...    1                  2.0    sing\n",
              "3       рисполепт         0         1  ...    1                  3.0    plur\n",
              "4        сперидан         0         1  ...    1                  4.0    sing\n",
              "...           ...       ...       ...  ...  ...                  ...     ...\n",
              "27013           и         0        22  ...    0                  0.0     NaN\n",
              "27014  таможенные         0        22  ...    0                  0.0    plur\n",
              "27015     пошлины         0        22  ...    0                  0.0    plur\n",
              "27016         как         0        22  ...    0                  0.0     NaN\n",
              "27017      светка         0        22  ...    0                  0.0    sing\n",
              "\n",
              "[27018 rows x 20 columns]"
            ]
          },
          "metadata": {
            "tags": []
          },
          "execution_count": 16
        }
      ]
    },
    {
      "cell_type": "code",
      "metadata": {
        "id": "xjM8nQk_jQWn"
      },
      "source": [
        "tok_list = []\n",
        "for token in anns_df.TOKEN:\n",
        "  try:\n",
        "    tok_list.append(ft.wv.__getitem__(token.lower()))\n",
        "  except (KeyError, AttributeError):\n",
        "    tok_list.append(0)\n",
        "    # print(token, 'here')\n",
        "anns_df['TOKEN_VECT'] = tok_list\n",
        "\n",
        "\n",
        "tok_list = []\n",
        "for token in anns_df.HEAD:\n",
        "  try:\n",
        "    tok_list.append(ft.wv.__getitem__(token.lower()))\n",
        "  except (KeyError, AttributeError):\n",
        "    tok_list.append(0)\n",
        "    # print(token, 'here')\n",
        "anns_df['HEAD_VECT'] = tok_list"
      ],
      "execution_count": 17,
      "outputs": []
    },
    {
      "cell_type": "code",
      "metadata": {
        "id": "jWdSbqFUkp8y"
      },
      "source": [
        "# tok_list = []\n",
        "# for sent in \n",
        "# for token in anns_df.HEAD:\n",
        "#   try:\n",
        "#     tok_list.append(ft.wv.__getitem__(token.lower()))\n",
        "#   except KeyError:\n",
        "#     tok_list.append(0)\n",
        "#     print(token, 'here')\n",
        "# anns_df['TOKEN_VECT'] = tok_list"
      ],
      "execution_count": 18,
      "outputs": []
    },
    {
      "cell_type": "code",
      "metadata": {
        "id": "Qv4sN0Qz2CQm"
      },
      "source": [
        ""
      ],
      "execution_count": 18,
      "outputs": []
    },
    {
      "cell_type": "code",
      "metadata": {
        "id": "xoPd-FXZzjTG"
      },
      "source": [
        "anns_df = anns_df.loc[(anns_df['TOPIC_NUM'].isin(list(range(30)))) | (anns_df['SENT_NUM'].isin(list(range(10000))))]\n",
        "anns_df = anns_df.reset_index().drop(['index'], axis=1)"
      ],
      "execution_count": 19,
      "outputs": []
    },
    {
      "cell_type": "code",
      "metadata": {
        "colab": {
          "base_uri": "https://localhost:8080/"
        },
        "id": "WkRUG17in__R",
        "outputId": "cf20c9b9-77ef-4552-ed9a-c805dc403a75"
      },
      "source": [
        "topics = list(set(anns_df.TOPIC_NUM.values))\n",
        "topics\n",
        "sent_vect_list = []\n",
        "# номера предложений топика\n",
        "for topic_num in topics:\n",
        "\n",
        "  sents_in_topic = list(set(anns_df.loc[anns_df['TOPIC_NUM'] == topic_num].SENT_NUM))\n",
        "  topic_len = len(anns_df.loc[anns_df['TOPIC_NUM'] == topic_num])\n",
        "  for sent_num in sents_in_topic:\n",
        "    tok_vects = anns_df.loc[(anns_df['TOPIC_NUM'] == topic_num) & (anns_df['SENT_NUM'] == sent_num)].TOKEN_VECT\n",
        "    try:\n",
        "      sent_vect = sum(list(tok_vects))/len(tok_vects)\n",
        "    except ZeroDivisionError:\n",
        "      sent_vect = 0\n",
        "      print(anns_df.loc[(anns_df['SENT_NUM'] == sent_num)])\n",
        "    for i in range(len(tok_vects)):\n",
        "      sent_vect_list.append(sent_vect)\n",
        "len(sent_vect_list)\n",
        "# если не класть нулевых предложений - будет длина датафрейма, как он раньше импортировлся, но поздно."
      ],
      "execution_count": 20,
      "outputs": [
        {
          "output_type": "execute_result",
          "data": {
            "text/plain": [
              "26497"
            ]
          },
          "metadata": {
            "tags": []
          },
          "execution_count": 20
        }
      ]
    },
    {
      "cell_type": "code",
      "metadata": {
        "id": "yaGN3xQLyECR"
      },
      "source": [
        "anns_df['SENT_VECT'] = sent_vect_list"
      ],
      "execution_count": 21,
      "outputs": []
    },
    {
      "cell_type": "markdown",
      "metadata": {
        "id": "fBFrdEdsrq0u"
      },
      "source": [
        "Проверим данные"
      ]
    },
    {
      "cell_type": "code",
      "metadata": {
        "colab": {
          "base_uri": "https://localhost:8080/"
        },
        "id": "nxP40HQGnh80",
        "outputId": "bfb4dc3b-ff0c-41ec-f491-ab3f6cd4fc08"
      },
      "source": [
        "anns_df.SENT_NUM[18]"
      ],
      "execution_count": 22,
      "outputs": [
        {
          "output_type": "execute_result",
          "data": {
            "text/plain": [
              "1.0"
            ]
          },
          "metadata": {
            "tags": []
          },
          "execution_count": 22
        }
      ]
    },
    {
      "cell_type": "code",
      "metadata": {
        "id": "hdc4AOucmDT4"
      },
      "source": [
        "# topics = list(set(df.TOPIC_NUM.values)) \n",
        "# for topic_num in topics:\n",
        "#   # if topic_num == 2:\n",
        "#   #   break\n",
        "#   # извлекаем предложения топика\n",
        "#   sents_in_topic = list(set(df.loc[df['TOPIC_NUM'] == topic_num ].SENT_NUM))\n",
        "#   for sent_num in sents_in_topic:\n",
        "#     sent = df.loc[(df['TOPIC_NUM'] == topic_num)  & (df['SENT_NUM'] == sent_num)]"
      ],
      "execution_count": 23,
      "outputs": []
    },
    {
      "cell_type": "code",
      "metadata": {
        "id": "nKld3dRPz3_m"
      },
      "source": [
        "# vvv = 0\n",
        "# with open('content/MyDrive/coref_fasttext60k_1.csv') as csvfile:\n",
        "#   with open('new_coref_df_anns60k.csv', 'w') as write_file:\n",
        "#     writer = csv.writer(write_file, delimiter='\\t')\n",
        "#     for new_row in csvfile:\n",
        "#       vvv +=1\n",
        "#       # print(i.split('\\t'))\n",
        "#       if len(new_row.split('\\t')) > 9:\n",
        "#         new_row = new_row.split('\\t')[:9]\n",
        "#       writer.writerow(new_row)\n",
        "# vvv"
      ],
      "execution_count": 24,
      "outputs": []
    },
    {
      "cell_type": "code",
      "metadata": {
        "id": "zOvIthFwWaOH"
      },
      "source": [
        "# cor_df = pd.read_csv('content/MyDrive/coref_fasttext60k_1.csv', delimiter=' ')\n",
        "# cor_df"
      ],
      "execution_count": 25,
      "outputs": []
    },
    {
      "cell_type": "code",
      "metadata": {
        "id": "Eoht1lnExJHw"
      },
      "source": [
        "# cosine_similarity([np.matrix(cor_df.TOKEN_VECT[2]).A[0]], [np.matrix(cor_df.TOKEN_VECT[3]).A[0]])[-1][-1]"
      ],
      "execution_count": 26,
      "outputs": []
    },
    {
      "cell_type": "code",
      "metadata": {
        "id": "jJgyUaV7WUAw"
      },
      "source": [
        ""
      ],
      "execution_count": 26,
      "outputs": []
    },
    {
      "cell_type": "markdown",
      "metadata": {
        "id": "ZcUH3c9e2Zwe"
      },
      "source": [
        "# **VECTORS HANDLING**"
      ]
    },
    {
      "cell_type": "markdown",
      "metadata": {
        "id": "vtuQeIa7qo7B"
      },
      "source": [
        "Изменяем значения векторов предложений, главного слова группы, зависимых слов группы, и токена на косинусную дистанцию с семантической осью.\n",
        "\n",
        "Сначала, изменим строковое представление на массив."
      ]
    },
    {
      "cell_type": "code",
      "metadata": {
        "id": "pSkpdVWPWofo"
      },
      "source": [
        "# cor_df.TOKEN_VECT = [np.matrix(i).A[0] for i in cor_df.TOKEN_VECT]\n",
        "# cor_df.HEAD_VECT = [np.matrix(i).A[0] for i in cor_df.HEAD_VECT]\n",
        "# cor_df.SENT_VECT = [np.matrix(i).A[0] for i in cor_df.SENT_VECT]\n",
        "# cor_df.HEAD_CHILDS_VECT = [np.matrix(i).A[0] for i in cor_df.HEAD_CHILDS_VECT]\n"
      ],
      "execution_count": 27,
      "outputs": []
    },
    {
      "cell_type": "markdown",
      "metadata": {
        "id": "pHpVo0QmrWzE"
      },
      "source": [
        "Добавим размеченные данные, и посмотрим, что получилось."
      ]
    },
    {
      "cell_type": "code",
      "metadata": {
        "id": "FGLkZXITh3BZ"
      },
      "source": [
        "# cor_df['NER'] = anns_df['NER']\n",
        "# cor_df['COREFERENCE_CLUSTER'] = anns_df['COREFERENCE_CLUSTER']\n",
        "# cor_df['ANN_TOKEN'] = anns_df['TOKEN']\n",
        "# cor_df"
      ],
      "execution_count": 28,
      "outputs": []
    },
    {
      "cell_type": "code",
      "metadata": {
        "id": "An0u3ZGSAqK9"
      },
      "source": [
        "# cor_df.loc()"
      ],
      "execution_count": 29,
      "outputs": []
    },
    {
      "cell_type": "markdown",
      "metadata": {
        "id": "9EK9eAjjr8Vm"
      },
      "source": [
        "Ограничим датафрейм теми данными, которые были размечены, чтобы была возможность провести оценку системы."
      ]
    },
    {
      "cell_type": "code",
      "metadata": {
        "id": "8zzHN3oQjNoC"
      },
      "source": [
        "df = anns_df.iloc[:15000,:]"
      ],
      "execution_count": 30,
      "outputs": []
    },
    {
      "cell_type": "markdown",
      "metadata": {
        "id": "Md-DxsOHsLN2"
      },
      "source": [
        "Всего наименований препаратов размечено (это не обязательно антецеденты, любое название препарата)."
      ]
    },
    {
      "cell_type": "code",
      "metadata": {
        "colab": {
          "base_uri": "https://localhost:8080/"
        },
        "id": "ZUxdUD5ZWpku",
        "outputId": "7b9eb0f8-e022-4c74-82f5-c4299a0904db"
      },
      "source": [
        "len(df.loc[df['NER'] == 1])"
      ],
      "execution_count": 31,
      "outputs": [
        {
          "output_type": "execute_result",
          "data": {
            "text/plain": [
              "581"
            ]
          },
          "metadata": {
            "tags": []
          },
          "execution_count": 31
        }
      ]
    },
    {
      "cell_type": "markdown",
      "metadata": {
        "id": "0kDh_Mw0sO8N"
      },
      "source": [
        "Из них местоимений (прономинальные анафоры)."
      ]
    },
    {
      "cell_type": "code",
      "metadata": {
        "colab": {
          "base_uri": "https://localhost:8080/"
        },
        "id": "4Te0h4xrlvUH",
        "outputId": "daf81ee9-7a44-4d87-e832-dead546b80e7"
      },
      "source": [
        "len(df.loc[df['NER'] == 3])"
      ],
      "execution_count": 32,
      "outputs": [
        {
          "output_type": "execute_result",
          "data": {
            "text/plain": [
              "113"
            ]
          },
          "metadata": {
            "tags": []
          },
          "execution_count": 32
        }
      ]
    },
    {
      "cell_type": "markdown",
      "metadata": {
        "id": "DfRQXgXqsbC2"
      },
      "source": [
        "И номинативные анафоры существительные, такие как \"препарат\" и \"лекарство\". В основном это они и есть."
      ]
    },
    {
      "cell_type": "code",
      "metadata": {
        "colab": {
          "base_uri": "https://localhost:8080/"
        },
        "id": "M1CiLnyGltqt",
        "outputId": "924440cf-3ad4-4c94-8349-d339309188f8"
      },
      "source": [
        "len(df.loc[df['NER'] == 2])"
      ],
      "execution_count": 33,
      "outputs": [
        {
          "output_type": "execute_result",
          "data": {
            "text/plain": [
              "215"
            ]
          },
          "metadata": {
            "tags": []
          },
          "execution_count": 33
        }
      ]
    },
    {
      "cell_type": "code",
      "metadata": {
        "colab": {
          "base_uri": "https://localhost:8080/"
        },
        "id": "FB-5d7uAn6Jl",
        "outputId": "2d9e9c95-c4b7-4ee3-ca4d-1cdd6e11264b"
      },
      "source": [
        "len(df.loc[df['NER'].isin([1,2,3])])"
      ],
      "execution_count": 34,
      "outputs": [
        {
          "output_type": "execute_result",
          "data": {
            "text/plain": [
              "909"
            ]
          },
          "metadata": {
            "tags": []
          },
          "execution_count": 34
        }
      ]
    },
    {
      "cell_type": "code",
      "metadata": {
        "id": "LjPlHQCcmBjv"
      },
      "source": [
        "# df['NER'] = [int(i) for i in df['NER']]\n",
        "# df['COREFERENCE_CLUSTER'] = [int(i) for i in df['COREFERENCE_CLUSTER']]"
      ],
      "execution_count": 35,
      "outputs": []
    },
    {
      "cell_type": "markdown",
      "metadata": {
        "id": "IHxSn2iAtJW-"
      },
      "source": [
        "Посмотрим на данные."
      ]
    },
    {
      "cell_type": "code",
      "metadata": {
        "colab": {
          "base_uri": "https://localhost:8080/",
          "height": 945
        },
        "id": "0t2P18AaoYk7",
        "outputId": "3a4c52b1-fb3c-4a2c-c421-b033f53211d6"
      },
      "source": [
        "df.loc[df['NER'].isin([1,2,3])]"
      ],
      "execution_count": 36,
      "outputs": [
        {
          "output_type": "execute_result",
          "data": {
            "text/html": [
              "<div>\n",
              "<style scoped>\n",
              "    .dataframe tbody tr th:only-of-type {\n",
              "        vertical-align: middle;\n",
              "    }\n",
              "\n",
              "    .dataframe tbody tr th {\n",
              "        vertical-align: top;\n",
              "    }\n",
              "\n",
              "    .dataframe thead th {\n",
              "        text-align: right;\n",
              "    }\n",
              "</style>\n",
              "<table border=\"1\" class=\"dataframe\">\n",
              "  <thead>\n",
              "    <tr style=\"text-align: right;\">\n",
              "      <th></th>\n",
              "      <th>TOKEN</th>\n",
              "      <th>IS_ANSWER</th>\n",
              "      <th>TOPIC_NUM</th>\n",
              "      <th>POST_NUM</th>\n",
              "      <th>SENT_NUM</th>\n",
              "      <th>TOKEN_NUM</th>\n",
              "      <th>ANIMACY</th>\n",
              "      <th>CASE</th>\n",
              "      <th>GENDER</th>\n",
              "      <th>PERSON</th>\n",
              "      <th>POS</th>\n",
              "      <th>DEPENDENCY</th>\n",
              "      <th>HEAD</th>\n",
              "      <th>HEAD_ANIMACY</th>\n",
              "      <th>HEAD_CASE</th>\n",
              "      <th>HEAD_GENDER</th>\n",
              "      <th>HEAD_POS</th>\n",
              "      <th>NER</th>\n",
              "      <th>COREFERENCE_CLUSTER</th>\n",
              "      <th>NUMBER</th>\n",
              "      <th>TOKEN_VECT</th>\n",
              "      <th>HEAD_VECT</th>\n",
              "      <th>SENT_VECT</th>\n",
              "    </tr>\n",
              "  </thead>\n",
              "  <tbody>\n",
              "    <tr>\n",
              "      <th>2</th>\n",
              "      <td>рисперидон</td>\n",
              "      <td>0</td>\n",
              "      <td>1</td>\n",
              "      <td>0.0</td>\n",
              "      <td>0.0</td>\n",
              "      <td>2.0</td>\n",
              "      <td>anim</td>\n",
              "      <td>nomn</td>\n",
              "      <td>masc</td>\n",
              "      <td>NaN</td>\n",
              "      <td>NOUN</td>\n",
              "      <td>appos</td>\n",
              "      <td>препарат</td>\n",
              "      <td>inan</td>\n",
              "      <td>nomn</td>\n",
              "      <td>masc</td>\n",
              "      <td>NOUN</td>\n",
              "      <td>1</td>\n",
              "      <td>2.0</td>\n",
              "      <td>sing</td>\n",
              "      <td>[0.52989316, 0.66116303, 0.80405414, 0.1667848...</td>\n",
              "      <td>[-0.05602419, 1.3713305, 0.48728576, 1.3173157...</td>\n",
              "      <td>[0.15188894, 0.47630128, 0.19712001, -0.135239...</td>\n",
              "    </tr>\n",
              "    <tr>\n",
              "      <th>3</th>\n",
              "      <td>рисполепт</td>\n",
              "      <td>0</td>\n",
              "      <td>1</td>\n",
              "      <td>0.0</td>\n",
              "      <td>0.0</td>\n",
              "      <td>3.0</td>\n",
              "      <td>inan</td>\n",
              "      <td>gent</td>\n",
              "      <td>femn</td>\n",
              "      <td>NaN</td>\n",
              "      <td>NOUN</td>\n",
              "      <td>parataxis</td>\n",
              "      <td>рисперидон</td>\n",
              "      <td>anim</td>\n",
              "      <td>nomn</td>\n",
              "      <td>masc</td>\n",
              "      <td>NOUN</td>\n",
              "      <td>1</td>\n",
              "      <td>3.0</td>\n",
              "      <td>plur</td>\n",
              "      <td>[0.5861964, 0.9571688, 0.59529054, 0.15614, 0....</td>\n",
              "      <td>[0.52989316, 0.66116303, 0.80405414, 0.1667848...</td>\n",
              "      <td>[0.15188894, 0.47630128, 0.19712001, -0.135239...</td>\n",
              "    </tr>\n",
              "    <tr>\n",
              "      <th>4</th>\n",
              "      <td>сперидан</td>\n",
              "      <td>0</td>\n",
              "      <td>1</td>\n",
              "      <td>0.0</td>\n",
              "      <td>0.0</td>\n",
              "      <td>4.0</td>\n",
              "      <td>NaN</td>\n",
              "      <td>NaN</td>\n",
              "      <td>masc</td>\n",
              "      <td>NaN</td>\n",
              "      <td>PRTS</td>\n",
              "      <td>conj</td>\n",
              "      <td>рисполепт</td>\n",
              "      <td>inan</td>\n",
              "      <td>gent</td>\n",
              "      <td>femn</td>\n",
              "      <td>NOUN</td>\n",
              "      <td>1</td>\n",
              "      <td>4.0</td>\n",
              "      <td>sing</td>\n",
              "      <td>[0.13672307, 0.77963775, 0.636794, 0.1634183, ...</td>\n",
              "      <td>[0.5861964, 0.9571688, 0.59529054, 0.15614, 0....</td>\n",
              "      <td>[0.15188894, 0.47630128, 0.19712001, -0.135239...</td>\n",
              "    </tr>\n",
              "    <tr>\n",
              "      <th>21</th>\n",
              "      <td>лекарством</td>\n",
              "      <td>0</td>\n",
              "      <td>1</td>\n",
              "      <td>1.0</td>\n",
              "      <td>1.0</td>\n",
              "      <td>21.0</td>\n",
              "      <td>inan</td>\n",
              "      <td>ablt</td>\n",
              "      <td>neut</td>\n",
              "      <td>NaN</td>\n",
              "      <td>NOUN</td>\n",
              "      <td>conj</td>\n",
              "      <td>нет</td>\n",
              "      <td>NaN</td>\n",
              "      <td>NaN</td>\n",
              "      <td>NaN</td>\n",
              "      <td>PRED</td>\n",
              "      <td>2</td>\n",
              "      <td>0.0</td>\n",
              "      <td>sing</td>\n",
              "      <td>[-0.310879, 1.2153386, 0.30751365, 0.11475402,...</td>\n",
              "      <td>[0.8418265, 0.31743556, 0.3601378, 0.020493388...</td>\n",
              "      <td>[0.105063275, 0.4141047, 0.4832334, -0.0696449...</td>\n",
              "    </tr>\n",
              "    <tr>\n",
              "      <th>142</th>\n",
              "      <td>рисполепта</td>\n",
              "      <td>0</td>\n",
              "      <td>1</td>\n",
              "      <td>1.0</td>\n",
              "      <td>13.0</td>\n",
              "      <td>142.0</td>\n",
              "      <td>inan</td>\n",
              "      <td>nomn</td>\n",
              "      <td>femn</td>\n",
              "      <td>NaN</td>\n",
              "      <td>NOUN</td>\n",
              "      <td>nmod</td>\n",
              "      <td>дозировку</td>\n",
              "      <td>inan</td>\n",
              "      <td>accs</td>\n",
              "      <td>femn</td>\n",
              "      <td>NOUN</td>\n",
              "      <td>1</td>\n",
              "      <td>142.0</td>\n",
              "      <td>sing</td>\n",
              "      <td>[0.56313324, 0.8396723, 0.67768383, 0.06166613...</td>\n",
              "      <td>[0.61126375, 1.1168321, 0.42246604, 0.38041788...</td>\n",
              "      <td>[0.08132484, 0.7005222, 0.35762572, -0.2417465...</td>\n",
              "    </tr>\n",
              "    <tr>\n",
              "      <th>...</th>\n",
              "      <td>...</td>\n",
              "      <td>...</td>\n",
              "      <td>...</td>\n",
              "      <td>...</td>\n",
              "      <td>...</td>\n",
              "      <td>...</td>\n",
              "      <td>...</td>\n",
              "      <td>...</td>\n",
              "      <td>...</td>\n",
              "      <td>...</td>\n",
              "      <td>...</td>\n",
              "      <td>...</td>\n",
              "      <td>...</td>\n",
              "      <td>...</td>\n",
              "      <td>...</td>\n",
              "      <td>...</td>\n",
              "      <td>...</td>\n",
              "      <td>...</td>\n",
              "      <td>...</td>\n",
              "      <td>...</td>\n",
              "      <td>...</td>\n",
              "      <td>...</td>\n",
              "      <td>...</td>\n",
              "    </tr>\n",
              "    <tr>\n",
              "      <th>14807</th>\n",
              "      <td>абраксан</td>\n",
              "      <td>1</td>\n",
              "      <td>15</td>\n",
              "      <td>18.0</td>\n",
              "      <td>3.0</td>\n",
              "      <td>2215.0</td>\n",
              "      <td>anim</td>\n",
              "      <td>gent</td>\n",
              "      <td>femn</td>\n",
              "      <td>NaN</td>\n",
              "      <td>NOUN</td>\n",
              "      <td>obj</td>\n",
              "      <td>спросите</td>\n",
              "      <td>NaN</td>\n",
              "      <td>NaN</td>\n",
              "      <td>NaN</td>\n",
              "      <td>VERB</td>\n",
              "      <td>1</td>\n",
              "      <td>2215.0</td>\n",
              "      <td>plur</td>\n",
              "      <td>[0.54627293, 0.71837795, 0.54261947, -0.002646...</td>\n",
              "      <td>[0.3498348, 0.0620882, -0.11074386, 0.1959932,...</td>\n",
              "      <td>[0.3786574, 0.35384712, 0.16447143, 0.07777113...</td>\n",
              "    </tr>\n",
              "    <tr>\n",
              "      <th>14809</th>\n",
              "      <td>гемцитабином</td>\n",
              "      <td>1</td>\n",
              "      <td>15</td>\n",
              "      <td>18.0</td>\n",
              "      <td>3.0</td>\n",
              "      <td>2217.0</td>\n",
              "      <td>inan</td>\n",
              "      <td>ablt</td>\n",
              "      <td>masc</td>\n",
              "      <td>NaN</td>\n",
              "      <td>NOUN</td>\n",
              "      <td>nmod</td>\n",
              "      <td>абраксан</td>\n",
              "      <td>anim</td>\n",
              "      <td>gent</td>\n",
              "      <td>femn</td>\n",
              "      <td>NOUN</td>\n",
              "      <td>1</td>\n",
              "      <td>2217.0</td>\n",
              "      <td>sing</td>\n",
              "      <td>[0.016098425, 0.83841366, 0.21292609, 0.153194...</td>\n",
              "      <td>[0.54627293, 0.71837795, 0.54261947, -0.002646...</td>\n",
              "      <td>[0.3786574, 0.35384712, 0.16447143, 0.07777113...</td>\n",
              "    </tr>\n",
              "    <tr>\n",
              "      <th>14856</th>\n",
              "      <td>фолфиринокс</td>\n",
              "      <td>1</td>\n",
              "      <td>15</td>\n",
              "      <td>18.0</td>\n",
              "      <td>8.0</td>\n",
              "      <td>2264.0</td>\n",
              "      <td>inan</td>\n",
              "      <td>nomn</td>\n",
              "      <td>masc</td>\n",
              "      <td>NaN</td>\n",
              "      <td>NOUN</td>\n",
              "      <td>nmod</td>\n",
              "      <td>схема</td>\n",
              "      <td>inan</td>\n",
              "      <td>nomn</td>\n",
              "      <td>femn</td>\n",
              "      <td>NOUN</td>\n",
              "      <td>1</td>\n",
              "      <td>2264.0</td>\n",
              "      <td>sing</td>\n",
              "      <td>[0.45440283, 0.43411574, 0.26088437, -0.195037...</td>\n",
              "      <td>[0.49486047, -0.14809924, 0.91566277, -0.54630...</td>\n",
              "      <td>[0.3786574, 0.35384712, 0.16447143, 0.07777113...</td>\n",
              "    </tr>\n",
              "    <tr>\n",
              "      <th>14887</th>\n",
              "      <td>иринотекану</td>\n",
              "      <td>1</td>\n",
              "      <td>15</td>\n",
              "      <td>19.0</td>\n",
              "      <td>0.0</td>\n",
              "      <td>2295.0</td>\n",
              "      <td>inan</td>\n",
              "      <td>datv</td>\n",
              "      <td>masc</td>\n",
              "      <td>NaN</td>\n",
              "      <td>NOUN</td>\n",
              "      <td>nmod</td>\n",
              "      <td>аннотации</td>\n",
              "      <td>inan</td>\n",
              "      <td>nomn</td>\n",
              "      <td>femn</td>\n",
              "      <td>NOUN</td>\n",
              "      <td>1</td>\n",
              "      <td>2295.0</td>\n",
              "      <td>sing</td>\n",
              "      <td>[0.61597925, 0.71795684, 0.18081982, 0.0862167...</td>\n",
              "      <td>[0.001423307, 0.9877145, -0.17775936, 0.075810...</td>\n",
              "      <td>[0.3786574, 0.35384712, 0.16447143, 0.07777113...</td>\n",
              "    </tr>\n",
              "    <tr>\n",
              "      <th>14906</th>\n",
              "      <td>него</td>\n",
              "      <td>1</td>\n",
              "      <td>15</td>\n",
              "      <td>19.0</td>\n",
              "      <td>3.0</td>\n",
              "      <td>2314.0</td>\n",
              "      <td>NaN</td>\n",
              "      <td>gent</td>\n",
              "      <td>masc</td>\n",
              "      <td>3per</td>\n",
              "      <td>NPRO</td>\n",
              "      <td>nmod</td>\n",
              "      <td>толк</td>\n",
              "      <td>NaN</td>\n",
              "      <td>NaN</td>\n",
              "      <td>NaN</td>\n",
              "      <td>INTJ</td>\n",
              "      <td>3</td>\n",
              "      <td>2295.0</td>\n",
              "      <td>sing</td>\n",
              "      <td>[1.1606514, 0.43359038, 0.21344896, -0.4912714...</td>\n",
              "      <td>[0.25854415, -0.444726, 0.5831581, -0.77687985...</td>\n",
              "      <td>[0.3786574, 0.35384712, 0.16447143, 0.07777113...</td>\n",
              "    </tr>\n",
              "  </tbody>\n",
              "</table>\n",
              "<p>909 rows × 23 columns</p>\n",
              "</div>"
            ],
            "text/plain": [
              "              TOKEN  ...                                          SENT_VECT\n",
              "2        рисперидон  ...  [0.15188894, 0.47630128, 0.19712001, -0.135239...\n",
              "3         рисполепт  ...  [0.15188894, 0.47630128, 0.19712001, -0.135239...\n",
              "4          сперидан  ...  [0.15188894, 0.47630128, 0.19712001, -0.135239...\n",
              "21       лекарством  ...  [0.105063275, 0.4141047, 0.4832334, -0.0696449...\n",
              "142      рисполепта  ...  [0.08132484, 0.7005222, 0.35762572, -0.2417465...\n",
              "...             ...  ...                                                ...\n",
              "14807      абраксан  ...  [0.3786574, 0.35384712, 0.16447143, 0.07777113...\n",
              "14809  гемцитабином  ...  [0.3786574, 0.35384712, 0.16447143, 0.07777113...\n",
              "14856   фолфиринокс  ...  [0.3786574, 0.35384712, 0.16447143, 0.07777113...\n",
              "14887   иринотекану  ...  [0.3786574, 0.35384712, 0.16447143, 0.07777113...\n",
              "14906          него  ...  [0.3786574, 0.35384712, 0.16447143, 0.07777113...\n",
              "\n",
              "[909 rows x 23 columns]"
            ]
          },
          "metadata": {
            "tags": []
          },
          "execution_count": 36
        }
      ]
    },
    {
      "cell_type": "markdown",
      "metadata": {
        "id": "ilbjEHUW2d0c"
      },
      "source": [
        "# **SEMANTIC AXIS**"
      ]
    },
    {
      "cell_type": "markdown",
      "metadata": {
        "id": "ICYR890StPgM"
      },
      "source": [
        "Реализация метода семантических осей.\n",
        "Сначала, выбираем первые предложения каждого топика. Посмотрим на них."
      ]
    },
    {
      "cell_type": "code",
      "metadata": {
        "colab": {
          "base_uri": "https://localhost:8080/",
          "height": 1000
        },
        "id": "tEK7B7NT8kb5",
        "outputId": "759e2420-ee50-4154-c9d2-31bb8e44ef9d"
      },
      "source": [
        "axis_df = df.query('POST_NUM == 0 and TOKEN_NUM == 2 and SENT_NUM == 0')\n",
        "axis_df"
      ],
      "execution_count": 37,
      "outputs": [
        {
          "output_type": "execute_result",
          "data": {
            "text/html": [
              "<div>\n",
              "<style scoped>\n",
              "    .dataframe tbody tr th:only-of-type {\n",
              "        vertical-align: middle;\n",
              "    }\n",
              "\n",
              "    .dataframe tbody tr th {\n",
              "        vertical-align: top;\n",
              "    }\n",
              "\n",
              "    .dataframe thead th {\n",
              "        text-align: right;\n",
              "    }\n",
              "</style>\n",
              "<table border=\"1\" class=\"dataframe\">\n",
              "  <thead>\n",
              "    <tr style=\"text-align: right;\">\n",
              "      <th></th>\n",
              "      <th>TOKEN</th>\n",
              "      <th>IS_ANSWER</th>\n",
              "      <th>TOPIC_NUM</th>\n",
              "      <th>POST_NUM</th>\n",
              "      <th>SENT_NUM</th>\n",
              "      <th>TOKEN_NUM</th>\n",
              "      <th>ANIMACY</th>\n",
              "      <th>CASE</th>\n",
              "      <th>GENDER</th>\n",
              "      <th>PERSON</th>\n",
              "      <th>POS</th>\n",
              "      <th>DEPENDENCY</th>\n",
              "      <th>HEAD</th>\n",
              "      <th>HEAD_ANIMACY</th>\n",
              "      <th>HEAD_CASE</th>\n",
              "      <th>HEAD_GENDER</th>\n",
              "      <th>HEAD_POS</th>\n",
              "      <th>NER</th>\n",
              "      <th>COREFERENCE_CLUSTER</th>\n",
              "      <th>NUMBER</th>\n",
              "      <th>TOKEN_VECT</th>\n",
              "      <th>HEAD_VECT</th>\n",
              "      <th>SENT_VECT</th>\n",
              "    </tr>\n",
              "  </thead>\n",
              "  <tbody>\n",
              "    <tr>\n",
              "      <th>2</th>\n",
              "      <td>рисперидон</td>\n",
              "      <td>0</td>\n",
              "      <td>1</td>\n",
              "      <td>0.0</td>\n",
              "      <td>0.0</td>\n",
              "      <td>2.0</td>\n",
              "      <td>anim</td>\n",
              "      <td>nomn</td>\n",
              "      <td>masc</td>\n",
              "      <td>NaN</td>\n",
              "      <td>NOUN</td>\n",
              "      <td>appos</td>\n",
              "      <td>препарат</td>\n",
              "      <td>inan</td>\n",
              "      <td>nomn</td>\n",
              "      <td>masc</td>\n",
              "      <td>NOUN</td>\n",
              "      <td>1</td>\n",
              "      <td>2.0</td>\n",
              "      <td>sing</td>\n",
              "      <td>[0.52989316, 0.66116303, 0.80405414, 0.1667848...</td>\n",
              "      <td>[-0.05602419, 1.3713305, 0.48728576, 1.3173157...</td>\n",
              "      <td>[0.15188894, 0.47630128, 0.19712001, -0.135239...</td>\n",
              "    </tr>\n",
              "    <tr>\n",
              "      <th>576</th>\n",
              "      <td>зелдокс</td>\n",
              "      <td>0</td>\n",
              "      <td>2</td>\n",
              "      <td>0.0</td>\n",
              "      <td>0.0</td>\n",
              "      <td>2.0</td>\n",
              "      <td>inan</td>\n",
              "      <td>nomn</td>\n",
              "      <td>masc</td>\n",
              "      <td>NaN</td>\n",
              "      <td>NOUN</td>\n",
              "      <td>appos</td>\n",
              "      <td>препарат</td>\n",
              "      <td>inan</td>\n",
              "      <td>nomn</td>\n",
              "      <td>masc</td>\n",
              "      <td>NOUN</td>\n",
              "      <td>1</td>\n",
              "      <td>2.0</td>\n",
              "      <td>sing</td>\n",
              "      <td>[0.4476504, 0.92441326, 0.5744501, -0.11262302...</td>\n",
              "      <td>[-0.05602419, 1.3713305, 0.48728576, 1.3173157...</td>\n",
              "      <td>[0.32248265, 0.48711208, 0.23260376, -0.003890...</td>\n",
              "    </tr>\n",
              "    <tr>\n",
              "      <th>1870</th>\n",
              "      <td>оланзапин</td>\n",
              "      <td>0</td>\n",
              "      <td>3</td>\n",
              "      <td>0.0</td>\n",
              "      <td>0.0</td>\n",
              "      <td>2.0</td>\n",
              "      <td>inan</td>\n",
              "      <td>gent</td>\n",
              "      <td>femn</td>\n",
              "      <td>NaN</td>\n",
              "      <td>NOUN</td>\n",
              "      <td>appos</td>\n",
              "      <td>препарат</td>\n",
              "      <td>inan</td>\n",
              "      <td>nomn</td>\n",
              "      <td>masc</td>\n",
              "      <td>NOUN</td>\n",
              "      <td>1</td>\n",
              "      <td>2.0</td>\n",
              "      <td>plur</td>\n",
              "      <td>[0.39558592, 0.6582631, 0.578083, -0.03835348,...</td>\n",
              "      <td>[-0.05602419, 1.3713305, 0.48728576, 1.3173157...</td>\n",
              "      <td>[0.42017376, 0.35683358, 0.1135206, 0.00777316...</td>\n",
              "    </tr>\n",
              "    <tr>\n",
              "      <th>5555</th>\n",
              "      <td>галоперидол</td>\n",
              "      <td>0</td>\n",
              "      <td>4</td>\n",
              "      <td>0.0</td>\n",
              "      <td>0.0</td>\n",
              "      <td>2.0</td>\n",
              "      <td>inan</td>\n",
              "      <td>nomn</td>\n",
              "      <td>masc</td>\n",
              "      <td>NaN</td>\n",
              "      <td>NOUN</td>\n",
              "      <td>obj</td>\n",
              "      <td>обсуждаем</td>\n",
              "      <td>NaN</td>\n",
              "      <td>NaN</td>\n",
              "      <td>NaN</td>\n",
              "      <td>VERB</td>\n",
              "      <td>1</td>\n",
              "      <td>2.0</td>\n",
              "      <td>sing</td>\n",
              "      <td>[0.28657344, 1.2659293, 0.263747, 0.049427845,...</td>\n",
              "      <td>[-0.60645026, 0.40584835, -0.28015998, -0.1943...</td>\n",
              "      <td>[0.22129436, 0.19725913, 0.2205431, 0.00559320...</td>\n",
              "    </tr>\n",
              "    <tr>\n",
              "      <th>6200</th>\n",
              "      <td>тиаприд</td>\n",
              "      <td>0</td>\n",
              "      <td>5</td>\n",
              "      <td>0.0</td>\n",
              "      <td>0.0</td>\n",
              "      <td>2.0</td>\n",
              "      <td>anim</td>\n",
              "      <td>nomn</td>\n",
              "      <td>masc</td>\n",
              "      <td>NaN</td>\n",
              "      <td>NOUN</td>\n",
              "      <td>appos</td>\n",
              "      <td>препарат</td>\n",
              "      <td>inan</td>\n",
              "      <td>nomn</td>\n",
              "      <td>masc</td>\n",
              "      <td>NOUN</td>\n",
              "      <td>1</td>\n",
              "      <td>3.0</td>\n",
              "      <td>sing</td>\n",
              "      <td>[0.50418127, 0.42649567, 0.6586662, -0.1669650...</td>\n",
              "      <td>[-0.05602419, 1.3713305, 0.48728576, 1.3173157...</td>\n",
              "      <td>[0.21120502, 0.2751641, 0.23118126, 0.00680639...</td>\n",
              "    </tr>\n",
              "    <tr>\n",
              "      <th>8450</th>\n",
              "      <td>сероквель</td>\n",
              "      <td>0</td>\n",
              "      <td>6</td>\n",
              "      <td>0.0</td>\n",
              "      <td>0.0</td>\n",
              "      <td>2.0</td>\n",
              "      <td>inan</td>\n",
              "      <td>gent</td>\n",
              "      <td>femn</td>\n",
              "      <td>NaN</td>\n",
              "      <td>NOUN</td>\n",
              "      <td>appos</td>\n",
              "      <td>препарат</td>\n",
              "      <td>inan</td>\n",
              "      <td>nomn</td>\n",
              "      <td>masc</td>\n",
              "      <td>NOUN</td>\n",
              "      <td>1</td>\n",
              "      <td>2.0</td>\n",
              "      <td>plur</td>\n",
              "      <td>[0.7197289, 0.8970752, 0.6137448, 0.08047691, ...</td>\n",
              "      <td>[-0.05602419, 1.3713305, 0.48728576, 1.3173157...</td>\n",
              "      <td>[0.17428371, 0.39893225, 0.13767146, 0.0223892...</td>\n",
              "    </tr>\n",
              "    <tr>\n",
              "      <th>8541</th>\n",
              "      <td>день</td>\n",
              "      <td>0</td>\n",
              "      <td>7</td>\n",
              "      <td>0.0</td>\n",
              "      <td>0.0</td>\n",
              "      <td>2.0</td>\n",
              "      <td>inan</td>\n",
              "      <td>accs</td>\n",
              "      <td>masc</td>\n",
              "      <td>NaN</td>\n",
              "      <td>NOUN</td>\n",
              "      <td>ROOT</td>\n",
              "      <td>день</td>\n",
              "      <td>inan</td>\n",
              "      <td>accs</td>\n",
              "      <td>masc</td>\n",
              "      <td>NOUN</td>\n",
              "      <td>0</td>\n",
              "      <td>0.0</td>\n",
              "      <td>sing</td>\n",
              "      <td>[-0.68165106, 0.960153, -0.12893267, 0.4452025...</td>\n",
              "      <td>[-0.68165106, 0.960153, -0.12893267, 0.4452025...</td>\n",
              "      <td>[0.15323366, 0.31769386, 0.2856932, -0.0074439...</td>\n",
              "    </tr>\n",
              "    <tr>\n",
              "      <th>11117</th>\n",
              "      <td>500</td>\n",
              "      <td>0</td>\n",
              "      <td>8</td>\n",
              "      <td>0.0</td>\n",
              "      <td>0.0</td>\n",
              "      <td>2.0</td>\n",
              "      <td>NaN</td>\n",
              "      <td>NaN</td>\n",
              "      <td>NaN</td>\n",
              "      <td>NaN</td>\n",
              "      <td>NaN</td>\n",
              "      <td>nummod</td>\n",
              "      <td>мг</td>\n",
              "      <td>inan</td>\n",
              "      <td>nomn</td>\n",
              "      <td>masc</td>\n",
              "      <td>NOUN</td>\n",
              "      <td>0</td>\n",
              "      <td>0.0</td>\n",
              "      <td>NaN</td>\n",
              "      <td>[0.62875265, 0.568246, 1.1540365, 0.36850327, ...</td>\n",
              "      <td>[0.17638081, 0.25628808, 0.92794704, 0.0974672...</td>\n",
              "      <td>[0.22877258, 0.36473462, 0.2783909, 0.02115054...</td>\n",
              "    </tr>\n",
              "    <tr>\n",
              "      <th>11787</th>\n",
              "      <td>капецитабин</td>\n",
              "      <td>0</td>\n",
              "      <td>10</td>\n",
              "      <td>0.0</td>\n",
              "      <td>0.0</td>\n",
              "      <td>2.0</td>\n",
              "      <td>anim</td>\n",
              "      <td>nomn</td>\n",
              "      <td>masc</td>\n",
              "      <td>NaN</td>\n",
              "      <td>NOUN</td>\n",
              "      <td>ROOT</td>\n",
              "      <td>капецитабин</td>\n",
              "      <td>anim</td>\n",
              "      <td>nomn</td>\n",
              "      <td>masc</td>\n",
              "      <td>NOUN</td>\n",
              "      <td>1</td>\n",
              "      <td>2.0</td>\n",
              "      <td>sing</td>\n",
              "      <td>[0.4853327, 0.9936661, 0.47487772, -0.21124959...</td>\n",
              "      <td>[0.4853327, 0.9936661, 0.47487772, -0.21124959...</td>\n",
              "      <td>[0.26554897, 0.39730182, 0.23929222, -0.000707...</td>\n",
              "    </tr>\n",
              "    <tr>\n",
              "      <th>11806</th>\n",
              "      <td>иресса</td>\n",
              "      <td>0</td>\n",
              "      <td>11</td>\n",
              "      <td>0.0</td>\n",
              "      <td>0.0</td>\n",
              "      <td>2.0</td>\n",
              "      <td>NaN</td>\n",
              "      <td>NaN</td>\n",
              "      <td>NaN</td>\n",
              "      <td>NaN</td>\n",
              "      <td>GRND</td>\n",
              "      <td>nmod</td>\n",
              "      <td>отдам</td>\n",
              "      <td>NaN</td>\n",
              "      <td>NaN</td>\n",
              "      <td>NaN</td>\n",
              "      <td>VERB</td>\n",
              "      <td>1</td>\n",
              "      <td>2.0</td>\n",
              "      <td>NaN</td>\n",
              "      <td>[-0.063725516, 0.6332471, 0.67203027, -0.40263...</td>\n",
              "      <td>[0.51499057, 0.52115315, 0.39133263, -0.690674...</td>\n",
              "      <td>[0.26554897, 0.39730182, 0.23929222, -0.000707...</td>\n",
              "    </tr>\n",
              "    <tr>\n",
              "      <th>12118</th>\n",
              "      <td>очень</td>\n",
              "      <td>0</td>\n",
              "      <td>12</td>\n",
              "      <td>0.0</td>\n",
              "      <td>0.0</td>\n",
              "      <td>2.0</td>\n",
              "      <td>NaN</td>\n",
              "      <td>NaN</td>\n",
              "      <td>NaN</td>\n",
              "      <td>NaN</td>\n",
              "      <td>ADVB</td>\n",
              "      <td>advmod</td>\n",
              "      <td>нужна</td>\n",
              "      <td>NaN</td>\n",
              "      <td>NaN</td>\n",
              "      <td>femn</td>\n",
              "      <td>ADJS</td>\n",
              "      <td>0</td>\n",
              "      <td>0.0</td>\n",
              "      <td>NaN</td>\n",
              "      <td>[0.29716137, 0.565487, 0.23762155, -0.267522, ...</td>\n",
              "      <td>[0.6742249, 0.32852334, 0.82319486, -1.2418246...</td>\n",
              "      <td>[0.25769338, 0.4129166, 0.321093, 0.03973761, ...</td>\n",
              "    </tr>\n",
              "    <tr>\n",
              "      <th>12200</th>\n",
              "      <td>очень</td>\n",
              "      <td>0</td>\n",
              "      <td>13</td>\n",
              "      <td>0.0</td>\n",
              "      <td>0.0</td>\n",
              "      <td>2.0</td>\n",
              "      <td>NaN</td>\n",
              "      <td>NaN</td>\n",
              "      <td>NaN</td>\n",
              "      <td>NaN</td>\n",
              "      <td>ADVB</td>\n",
              "      <td>advmod</td>\n",
              "      <td>нужна</td>\n",
              "      <td>NaN</td>\n",
              "      <td>NaN</td>\n",
              "      <td>femn</td>\n",
              "      <td>ADJS</td>\n",
              "      <td>0</td>\n",
              "      <td>0.0</td>\n",
              "      <td>NaN</td>\n",
              "      <td>[0.29716137, 0.565487, 0.23762155, -0.267522, ...</td>\n",
              "      <td>[0.6742249, 0.32852334, 0.82319486, -1.2418246...</td>\n",
              "      <td>[0.25769338, 0.4129166, 0.321093, 0.03973761, ...</td>\n",
              "    </tr>\n",
              "    <tr>\n",
              "      <th>14936</th>\n",
              "      <td>показания</td>\n",
              "      <td>0</td>\n",
              "      <td>16</td>\n",
              "      <td>0.0</td>\n",
              "      <td>0.0</td>\n",
              "      <td>2.0</td>\n",
              "      <td>inan</td>\n",
              "      <td>nomn</td>\n",
              "      <td>neut</td>\n",
              "      <td>NaN</td>\n",
              "      <td>NOUN</td>\n",
              "      <td>conj</td>\n",
              "      <td>противопоказания</td>\n",
              "      <td>inan</td>\n",
              "      <td>gent</td>\n",
              "      <td>neut</td>\n",
              "      <td>NOUN</td>\n",
              "      <td>0</td>\n",
              "      <td>0.0</td>\n",
              "      <td>plur</td>\n",
              "      <td>[0.6818411, 1.2477546, 0.097736314, 0.58751494...</td>\n",
              "      <td>[0.5879152, 0.8822711, 0.58301055, 0.457169, -...</td>\n",
              "      <td>[0.3786574, 0.35384712, 0.16447143, 0.07777113...</td>\n",
              "    </tr>\n",
              "  </tbody>\n",
              "</table>\n",
              "</div>"
            ],
            "text/plain": [
              "             TOKEN  ...                                          SENT_VECT\n",
              "2       рисперидон  ...  [0.15188894, 0.47630128, 0.19712001, -0.135239...\n",
              "576        зелдокс  ...  [0.32248265, 0.48711208, 0.23260376, -0.003890...\n",
              "1870     оланзапин  ...  [0.42017376, 0.35683358, 0.1135206, 0.00777316...\n",
              "5555   галоперидол  ...  [0.22129436, 0.19725913, 0.2205431, 0.00559320...\n",
              "6200       тиаприд  ...  [0.21120502, 0.2751641, 0.23118126, 0.00680639...\n",
              "8450     сероквель  ...  [0.17428371, 0.39893225, 0.13767146, 0.0223892...\n",
              "8541          день  ...  [0.15323366, 0.31769386, 0.2856932, -0.0074439...\n",
              "11117          500  ...  [0.22877258, 0.36473462, 0.2783909, 0.02115054...\n",
              "11787  капецитабин  ...  [0.26554897, 0.39730182, 0.23929222, -0.000707...\n",
              "11806       иресса  ...  [0.26554897, 0.39730182, 0.23929222, -0.000707...\n",
              "12118        очень  ...  [0.25769338, 0.4129166, 0.321093, 0.03973761, ...\n",
              "12200        очень  ...  [0.25769338, 0.4129166, 0.321093, 0.03973761, ...\n",
              "14936    показания  ...  [0.3786574, 0.35384712, 0.16447143, 0.07777113...\n",
              "\n",
              "[13 rows x 23 columns]"
            ]
          },
          "metadata": {
            "tags": []
          },
          "execution_count": 37
        }
      ]
    },
    {
      "cell_type": "code",
      "metadata": {
        "id": "GEiKxebuCPsC"
      },
      "source": [
        "# sum(df.query('POST_NUM == 0 and TOKEN_NUM == 2 and SENT_NUM == 0').TOKEN_VECT)/len(df.query('POST_NUM == 0 and TOKEN_NUM == 2 and SENT_NUM == 0').TOKEN_VECT)"
      ],
      "execution_count": 38,
      "outputs": []
    },
    {
      "cell_type": "markdown",
      "metadata": {
        "id": "r-A7JcK3tsVt"
      },
      "source": [
        "Суммируем верктора токенов, главных слов, предложения целиком, и зависимых слов. Нормализуем."
      ]
    },
    {
      "cell_type": "code",
      "metadata": {
        "id": "0ESW3_xq2h0O"
      },
      "source": [
        "\n",
        "token_axe = sum(axis_df.TOKEN_VECT)/len(axis_df.TOKEN_VECT)\n",
        "head_axe = sum(axis_df.HEAD_VECT)/len(axis_df.HEAD_VECT)\n",
        "# head_childs_axe = sum(axis_df.HEAD_CHILDS_VECT)/len(axis_df.HEAD_CHILDS_VECT)\n",
        "sent_axe = sum(axis_df.SENT_VECT)/len(axis_df.SENT_VECT)"
      ],
      "execution_count": 39,
      "outputs": []
    },
    {
      "cell_type": "code",
      "metadata": {
        "colab": {
          "base_uri": "https://localhost:8080/"
        },
        "id": "1NmYmDIwIbPS",
        "outputId": "fb809c91-a7aa-4888-8c78-96ae82cd94dd"
      },
      "source": [
        "df.TOKEN_VECT[710]"
      ],
      "execution_count": 40,
      "outputs": [
        {
          "output_type": "execute_result",
          "data": {
            "text/plain": [
              "0"
            ]
          },
          "metadata": {
            "tags": []
          },
          "execution_count": 40
        }
      ]
    },
    {
      "cell_type": "markdown",
      "metadata": {
        "id": "7La2_kyRuXYI"
      },
      "source": [
        "Функция, которая заменяет столбец с векторами на столбец со значениями косинусной дистанции с соответствующей семантической осью.\n"
      ]
    },
    {
      "cell_type": "code",
      "metadata": {
        "id": "qGfEFxcRHBZz"
      },
      "source": [
        "def make_similarity(df, col, axe):\n",
        "  new_col = []\n",
        "  for ind, vect in enumerate(df[col]):\n",
        "    try:\n",
        "      new_col.append(cosine_similarity([axe], [vect])[-1][-1])\n",
        "    except ValueError:\n",
        "      new_col.append(0)\n",
        "  df[col] = new_col\n",
        "\n"
      ],
      "execution_count": 41,
      "outputs": []
    },
    {
      "cell_type": "code",
      "metadata": {
        "colab": {
          "base_uri": "https://localhost:8080/"
        },
        "id": "pDC2D4LcLFTt",
        "outputId": "c88ff7ad-4663-45dd-e060-fa846ba02b10"
      },
      "source": [
        "make_similarity(df, 'TOKEN_VECT', token_axe)\n",
        "make_similarity(df, 'HEAD_VECT', head_axe)\n",
        "# make_similarity(df, 'HEAD_CHILDS_VECT', head_childs_axe)\n",
        "make_similarity(df, 'SENT_VECT', sent_axe)"
      ],
      "execution_count": 42,
      "outputs": [
        {
          "output_type": "stream",
          "text": [
            "/usr/local/lib/python3.7/dist-packages/ipykernel_launcher.py:8: SettingWithCopyWarning: \n",
            "A value is trying to be set on a copy of a slice from a DataFrame.\n",
            "Try using .loc[row_indexer,col_indexer] = value instead\n",
            "\n",
            "See the caveats in the documentation: https://pandas.pydata.org/pandas-docs/stable/user_guide/indexing.html#returning-a-view-versus-a-copy\n",
            "  \n",
            "/usr/local/lib/python3.7/dist-packages/ipykernel_launcher.py:8: SettingWithCopyWarning: \n",
            "A value is trying to be set on a copy of a slice from a DataFrame.\n",
            "Try using .loc[row_indexer,col_indexer] = value instead\n",
            "\n",
            "See the caveats in the documentation: https://pandas.pydata.org/pandas-docs/stable/user_guide/indexing.html#returning-a-view-versus-a-copy\n",
            "  \n",
            "/usr/local/lib/python3.7/dist-packages/ipykernel_launcher.py:8: SettingWithCopyWarning: \n",
            "A value is trying to be set on a copy of a slice from a DataFrame.\n",
            "Try using .loc[row_indexer,col_indexer] = value instead\n",
            "\n",
            "See the caveats in the documentation: https://pandas.pydata.org/pandas-docs/stable/user_guide/indexing.html#returning-a-view-versus-a-copy\n",
            "  \n"
          ],
          "name": "stderr"
        }
      ]
    },
    {
      "cell_type": "code",
      "metadata": {
        "colab": {
          "base_uri": "https://localhost:8080/",
          "height": 35
        },
        "id": "hcdxAoSuucFG",
        "outputId": "1ac64960-f4ce-4a48-fdfb-07f95521a336"
      },
      "source": [
        "df.TOKEN[1]"
      ],
      "execution_count": 43,
      "outputs": [
        {
          "output_type": "execute_result",
          "data": {
            "application/vnd.google.colaboratory.intrinsic+json": {
              "type": "string"
            },
            "text/plain": [
              "'препарат'"
            ]
          },
          "metadata": {
            "tags": []
          },
          "execution_count": 43
        }
      ]
    },
    {
      "cell_type": "code",
      "metadata": {
        "id": "9eJEaD0MuVt-"
      },
      "source": [
        "# df['SUM_VECT']= [(df.TOKEN_VECT[i] + df.SENT_VECT[i])/3 for i in range(len(df.SENT_VECT))]"
      ],
      "execution_count": 44,
      "outputs": []
    },
    {
      "cell_type": "markdown",
      "metadata": {
        "id": "E8S50koyuk8t"
      },
      "source": [
        "Посмотрим на обработанные данные."
      ]
    },
    {
      "cell_type": "code",
      "metadata": {
        "colab": {
          "base_uri": "https://localhost:8080/",
          "height": 427
        },
        "id": "U44h8yUwKDhf",
        "outputId": "357e9213-8e22-4984-d171-326713ab548e"
      },
      "source": [
        "df"
      ],
      "execution_count": 45,
      "outputs": [
        {
          "output_type": "execute_result",
          "data": {
            "text/html": [
              "<div>\n",
              "<style scoped>\n",
              "    .dataframe tbody tr th:only-of-type {\n",
              "        vertical-align: middle;\n",
              "    }\n",
              "\n",
              "    .dataframe tbody tr th {\n",
              "        vertical-align: top;\n",
              "    }\n",
              "\n",
              "    .dataframe thead th {\n",
              "        text-align: right;\n",
              "    }\n",
              "</style>\n",
              "<table border=\"1\" class=\"dataframe\">\n",
              "  <thead>\n",
              "    <tr style=\"text-align: right;\">\n",
              "      <th></th>\n",
              "      <th>TOKEN</th>\n",
              "      <th>IS_ANSWER</th>\n",
              "      <th>TOPIC_NUM</th>\n",
              "      <th>POST_NUM</th>\n",
              "      <th>SENT_NUM</th>\n",
              "      <th>TOKEN_NUM</th>\n",
              "      <th>ANIMACY</th>\n",
              "      <th>CASE</th>\n",
              "      <th>GENDER</th>\n",
              "      <th>PERSON</th>\n",
              "      <th>POS</th>\n",
              "      <th>DEPENDENCY</th>\n",
              "      <th>HEAD</th>\n",
              "      <th>HEAD_ANIMACY</th>\n",
              "      <th>HEAD_CASE</th>\n",
              "      <th>HEAD_GENDER</th>\n",
              "      <th>HEAD_POS</th>\n",
              "      <th>NER</th>\n",
              "      <th>COREFERENCE_CLUSTER</th>\n",
              "      <th>NUMBER</th>\n",
              "      <th>TOKEN_VECT</th>\n",
              "      <th>HEAD_VECT</th>\n",
              "      <th>SENT_VECT</th>\n",
              "    </tr>\n",
              "  </thead>\n",
              "  <tbody>\n",
              "    <tr>\n",
              "      <th>0</th>\n",
              "      <td>обсуждаем</td>\n",
              "      <td>0</td>\n",
              "      <td>1</td>\n",
              "      <td>0.0</td>\n",
              "      <td>0.0</td>\n",
              "      <td>0.0</td>\n",
              "      <td>NaN</td>\n",
              "      <td>NaN</td>\n",
              "      <td>NaN</td>\n",
              "      <td>1per</td>\n",
              "      <td>VERB</td>\n",
              "      <td>ROOT</td>\n",
              "      <td>обсуждаем</td>\n",
              "      <td>NaN</td>\n",
              "      <td>NaN</td>\n",
              "      <td>NaN</td>\n",
              "      <td>VERB</td>\n",
              "      <td>0</td>\n",
              "      <td>0.0</td>\n",
              "      <td>plur</td>\n",
              "      <td>0.478800</td>\n",
              "      <td>0.513731</td>\n",
              "      <td>0.914983</td>\n",
              "    </tr>\n",
              "    <tr>\n",
              "      <th>1</th>\n",
              "      <td>препарат</td>\n",
              "      <td>0</td>\n",
              "      <td>1</td>\n",
              "      <td>0.0</td>\n",
              "      <td>0.0</td>\n",
              "      <td>1.0</td>\n",
              "      <td>inan</td>\n",
              "      <td>nomn</td>\n",
              "      <td>masc</td>\n",
              "      <td>NaN</td>\n",
              "      <td>NOUN</td>\n",
              "      <td>obj</td>\n",
              "      <td>обсуждаем</td>\n",
              "      <td>NaN</td>\n",
              "      <td>NaN</td>\n",
              "      <td>NaN</td>\n",
              "      <td>VERB</td>\n",
              "      <td>0</td>\n",
              "      <td>0.0</td>\n",
              "      <td>sing</td>\n",
              "      <td>0.534916</td>\n",
              "      <td>0.513731</td>\n",
              "      <td>0.914983</td>\n",
              "    </tr>\n",
              "    <tr>\n",
              "      <th>2</th>\n",
              "      <td>рисперидон</td>\n",
              "      <td>0</td>\n",
              "      <td>1</td>\n",
              "      <td>0.0</td>\n",
              "      <td>0.0</td>\n",
              "      <td>2.0</td>\n",
              "      <td>anim</td>\n",
              "      <td>nomn</td>\n",
              "      <td>masc</td>\n",
              "      <td>NaN</td>\n",
              "      <td>NOUN</td>\n",
              "      <td>appos</td>\n",
              "      <td>препарат</td>\n",
              "      <td>inan</td>\n",
              "      <td>nomn</td>\n",
              "      <td>masc</td>\n",
              "      <td>NOUN</td>\n",
              "      <td>1</td>\n",
              "      <td>2.0</td>\n",
              "      <td>sing</td>\n",
              "      <td>0.799821</td>\n",
              "      <td>0.881828</td>\n",
              "      <td>0.914983</td>\n",
              "    </tr>\n",
              "    <tr>\n",
              "      <th>3</th>\n",
              "      <td>рисполепт</td>\n",
              "      <td>0</td>\n",
              "      <td>1</td>\n",
              "      <td>0.0</td>\n",
              "      <td>0.0</td>\n",
              "      <td>3.0</td>\n",
              "      <td>inan</td>\n",
              "      <td>gent</td>\n",
              "      <td>femn</td>\n",
              "      <td>NaN</td>\n",
              "      <td>NOUN</td>\n",
              "      <td>parataxis</td>\n",
              "      <td>рисперидон</td>\n",
              "      <td>anim</td>\n",
              "      <td>nomn</td>\n",
              "      <td>masc</td>\n",
              "      <td>NOUN</td>\n",
              "      <td>1</td>\n",
              "      <td>3.0</td>\n",
              "      <td>plur</td>\n",
              "      <td>0.813941</td>\n",
              "      <td>0.574603</td>\n",
              "      <td>0.914983</td>\n",
              "    </tr>\n",
              "    <tr>\n",
              "      <th>4</th>\n",
              "      <td>сперидан</td>\n",
              "      <td>0</td>\n",
              "      <td>1</td>\n",
              "      <td>0.0</td>\n",
              "      <td>0.0</td>\n",
              "      <td>4.0</td>\n",
              "      <td>NaN</td>\n",
              "      <td>NaN</td>\n",
              "      <td>masc</td>\n",
              "      <td>NaN</td>\n",
              "      <td>PRTS</td>\n",
              "      <td>conj</td>\n",
              "      <td>рисполепт</td>\n",
              "      <td>inan</td>\n",
              "      <td>gent</td>\n",
              "      <td>femn</td>\n",
              "      <td>NOUN</td>\n",
              "      <td>1</td>\n",
              "      <td>4.0</td>\n",
              "      <td>sing</td>\n",
              "      <td>0.730241</td>\n",
              "      <td>0.680588</td>\n",
              "      <td>0.914983</td>\n",
              "    </tr>\n",
              "    <tr>\n",
              "      <th>...</th>\n",
              "      <td>...</td>\n",
              "      <td>...</td>\n",
              "      <td>...</td>\n",
              "      <td>...</td>\n",
              "      <td>...</td>\n",
              "      <td>...</td>\n",
              "      <td>...</td>\n",
              "      <td>...</td>\n",
              "      <td>...</td>\n",
              "      <td>...</td>\n",
              "      <td>...</td>\n",
              "      <td>...</td>\n",
              "      <td>...</td>\n",
              "      <td>...</td>\n",
              "      <td>...</td>\n",
              "      <td>...</td>\n",
              "      <td>...</td>\n",
              "      <td>...</td>\n",
              "      <td>...</td>\n",
              "      <td>...</td>\n",
              "      <td>...</td>\n",
              "      <td>...</td>\n",
              "      <td>...</td>\n",
              "    </tr>\n",
              "    <tr>\n",
              "      <th>14995</th>\n",
              "      <td>эта</td>\n",
              "      <td>0</td>\n",
              "      <td>16</td>\n",
              "      <td>3.0</td>\n",
              "      <td>0.0</td>\n",
              "      <td>61.0</td>\n",
              "      <td>NaN</td>\n",
              "      <td>nomn</td>\n",
              "      <td>femn</td>\n",
              "      <td>NaN</td>\n",
              "      <td>ADJF</td>\n",
              "      <td>det</td>\n",
              "      <td>вакцина</td>\n",
              "      <td>inan</td>\n",
              "      <td>nomn</td>\n",
              "      <td>femn</td>\n",
              "      <td>NOUN</td>\n",
              "      <td>0</td>\n",
              "      <td>0.0</td>\n",
              "      <td>sing</td>\n",
              "      <td>0.397897</td>\n",
              "      <td>0.456912</td>\n",
              "      <td>0.981547</td>\n",
              "    </tr>\n",
              "    <tr>\n",
              "      <th>14996</th>\n",
              "      <td>вакцина</td>\n",
              "      <td>0</td>\n",
              "      <td>16</td>\n",
              "      <td>3.0</td>\n",
              "      <td>0.0</td>\n",
              "      <td>62.0</td>\n",
              "      <td>inan</td>\n",
              "      <td>nomn</td>\n",
              "      <td>femn</td>\n",
              "      <td>NaN</td>\n",
              "      <td>NOUN</td>\n",
              "      <td>nsubj</td>\n",
              "      <td>аукнется</td>\n",
              "      <td>NaN</td>\n",
              "      <td>NaN</td>\n",
              "      <td>NaN</td>\n",
              "      <td>VERB</td>\n",
              "      <td>0</td>\n",
              "      <td>0.0</td>\n",
              "      <td>sing</td>\n",
              "      <td>0.506270</td>\n",
              "      <td>0.574207</td>\n",
              "      <td>0.981547</td>\n",
              "    </tr>\n",
              "    <tr>\n",
              "      <th>14997</th>\n",
              "      <td>аукнется</td>\n",
              "      <td>0</td>\n",
              "      <td>16</td>\n",
              "      <td>3.0</td>\n",
              "      <td>0.0</td>\n",
              "      <td>63.0</td>\n",
              "      <td>NaN</td>\n",
              "      <td>NaN</td>\n",
              "      <td>NaN</td>\n",
              "      <td>3per</td>\n",
              "      <td>VERB</td>\n",
              "      <td>csubj</td>\n",
              "      <td>неизвестно</td>\n",
              "      <td>NaN</td>\n",
              "      <td>NaN</td>\n",
              "      <td>NaN</td>\n",
              "      <td>ADVB</td>\n",
              "      <td>0</td>\n",
              "      <td>0.0</td>\n",
              "      <td>sing</td>\n",
              "      <td>0.511537</td>\n",
              "      <td>0.545054</td>\n",
              "      <td>0.981547</td>\n",
              "    </tr>\n",
              "    <tr>\n",
              "      <th>14998</th>\n",
              "      <td>на</td>\n",
              "      <td>0</td>\n",
              "      <td>16</td>\n",
              "      <td>3.0</td>\n",
              "      <td>0.0</td>\n",
              "      <td>64.0</td>\n",
              "      <td>NaN</td>\n",
              "      <td>NaN</td>\n",
              "      <td>NaN</td>\n",
              "      <td>NaN</td>\n",
              "      <td>PREP</td>\n",
              "      <td>case</td>\n",
              "      <td>организме</td>\n",
              "      <td>inan</td>\n",
              "      <td>loct</td>\n",
              "      <td>masc</td>\n",
              "      <td>NOUN</td>\n",
              "      <td>0</td>\n",
              "      <td>0.0</td>\n",
              "      <td>NaN</td>\n",
              "      <td>0.444679</td>\n",
              "      <td>0.488556</td>\n",
              "      <td>0.981547</td>\n",
              "    </tr>\n",
              "    <tr>\n",
              "      <th>14999</th>\n",
              "      <td>организме</td>\n",
              "      <td>0</td>\n",
              "      <td>16</td>\n",
              "      <td>3.0</td>\n",
              "      <td>0.0</td>\n",
              "      <td>65.0</td>\n",
              "      <td>inan</td>\n",
              "      <td>loct</td>\n",
              "      <td>masc</td>\n",
              "      <td>NaN</td>\n",
              "      <td>NOUN</td>\n",
              "      <td>obl</td>\n",
              "      <td>аукнется</td>\n",
              "      <td>NaN</td>\n",
              "      <td>NaN</td>\n",
              "      <td>NaN</td>\n",
              "      <td>VERB</td>\n",
              "      <td>0</td>\n",
              "      <td>0.0</td>\n",
              "      <td>sing</td>\n",
              "      <td>0.495021</td>\n",
              "      <td>0.574207</td>\n",
              "      <td>0.979486</td>\n",
              "    </tr>\n",
              "  </tbody>\n",
              "</table>\n",
              "<p>15000 rows × 23 columns</p>\n",
              "</div>"
            ],
            "text/plain": [
              "            TOKEN IS_ANSWER TOPIC_NUM  ...  TOKEN_VECT  HEAD_VECT  SENT_VECT\n",
              "0       обсуждаем         0         1  ...    0.478800   0.513731   0.914983\n",
              "1        препарат         0         1  ...    0.534916   0.513731   0.914983\n",
              "2      рисперидон         0         1  ...    0.799821   0.881828   0.914983\n",
              "3       рисполепт         0         1  ...    0.813941   0.574603   0.914983\n",
              "4        сперидан         0         1  ...    0.730241   0.680588   0.914983\n",
              "...           ...       ...       ...  ...         ...        ...        ...\n",
              "14995         эта         0        16  ...    0.397897   0.456912   0.981547\n",
              "14996     вакцина         0        16  ...    0.506270   0.574207   0.981547\n",
              "14997    аукнется         0        16  ...    0.511537   0.545054   0.981547\n",
              "14998          на         0        16  ...    0.444679   0.488556   0.981547\n",
              "14999   организме         0        16  ...    0.495021   0.574207   0.979486\n",
              "\n",
              "[15000 rows x 23 columns]"
            ]
          },
          "metadata": {
            "tags": []
          },
          "execution_count": 45
        }
      ]
    },
    {
      "cell_type": "markdown",
      "metadata": {
        "id": "8FndOykVWO2D"
      },
      "source": [
        "# **ПРАВИЛОВЫЙ АЛГОРИТМ**"
      ]
    },
    {
      "cell_type": "code",
      "metadata": {
        "colab": {
          "base_uri": "https://localhost:8080/"
        },
        "id": "epA2d51jjLGX",
        "outputId": "fa3758ec-b83a-497c-96fa-e6ca08c049f9"
      },
      "source": [
        "# df.SENT_NUM = [int(i) for i in df['SENT_NUM']]\n",
        "# df.POST_NUM = [int(i) for i in df['POST_NUM']]\n",
        "# # df.TOKEN_NUM = [float(i) for i in df['TOKEN_NUM']]\n",
        "df.TOPIC_NUM = [int(i) for i in df['TOPIC_NUM']]\n",
        "df.IS_ANSWER = [int(i) for i in df['TOPIC_NUM']]\n",
        "# df.NER = [int(i) for i in df['NER']]"
      ],
      "execution_count": 46,
      "outputs": [
        {
          "output_type": "stream",
          "text": [
            "/usr/local/lib/python3.7/dist-packages/pandas/core/generic.py:5170: SettingWithCopyWarning: \n",
            "A value is trying to be set on a copy of a slice from a DataFrame.\n",
            "Try using .loc[row_indexer,col_indexer] = value instead\n",
            "\n",
            "See the caveats in the documentation: https://pandas.pydata.org/pandas-docs/stable/user_guide/indexing.html#returning-a-view-versus-a-copy\n",
            "  self[name] = value\n"
          ],
          "name": "stderr"
        }
      ]
    },
    {
      "cell_type": "code",
      "metadata": {
        "colab": {
          "base_uri": "https://localhost:8080/"
        },
        "id": "sc94aYmsaZE6",
        "outputId": "058f334f-759e-4294-b025-18440bf706c6"
      },
      "source": [
        "topics = list(set(df.TOPIC_NUM.values))\n",
        "topics"
      ],
      "execution_count": 47,
      "outputs": [
        {
          "output_type": "execute_result",
          "data": {
            "text/plain": [
              "[1, 2, 3, 4, 5, 6, 7, 8, 9, 10, 11, 12, 13, 14, 15, 16]"
            ]
          },
          "metadata": {
            "tags": []
          },
          "execution_count": 47
        }
      ]
    },
    {
      "cell_type": "code",
      "metadata": {
        "colab": {
          "base_uri": "https://localhost:8080/",
          "height": 308
        },
        "id": "7TpGdyZywCdx",
        "outputId": "c8e7344a-18fa-4345-d141-a7c83555825f"
      },
      "source": [
        "df.loc[df['TOKEN_NUM'] == 344 ]"
      ],
      "execution_count": 48,
      "outputs": [
        {
          "output_type": "execute_result",
          "data": {
            "text/html": [
              "<div>\n",
              "<style scoped>\n",
              "    .dataframe tbody tr th:only-of-type {\n",
              "        vertical-align: middle;\n",
              "    }\n",
              "\n",
              "    .dataframe tbody tr th {\n",
              "        vertical-align: top;\n",
              "    }\n",
              "\n",
              "    .dataframe thead th {\n",
              "        text-align: right;\n",
              "    }\n",
              "</style>\n",
              "<table border=\"1\" class=\"dataframe\">\n",
              "  <thead>\n",
              "    <tr style=\"text-align: right;\">\n",
              "      <th></th>\n",
              "      <th>TOKEN</th>\n",
              "      <th>IS_ANSWER</th>\n",
              "      <th>TOPIC_NUM</th>\n",
              "      <th>POST_NUM</th>\n",
              "      <th>SENT_NUM</th>\n",
              "      <th>TOKEN_NUM</th>\n",
              "      <th>ANIMACY</th>\n",
              "      <th>CASE</th>\n",
              "      <th>GENDER</th>\n",
              "      <th>PERSON</th>\n",
              "      <th>POS</th>\n",
              "      <th>DEPENDENCY</th>\n",
              "      <th>HEAD</th>\n",
              "      <th>HEAD_ANIMACY</th>\n",
              "      <th>HEAD_CASE</th>\n",
              "      <th>HEAD_GENDER</th>\n",
              "      <th>HEAD_POS</th>\n",
              "      <th>NER</th>\n",
              "      <th>COREFERENCE_CLUSTER</th>\n",
              "      <th>NUMBER</th>\n",
              "      <th>TOKEN_VECT</th>\n",
              "      <th>HEAD_VECT</th>\n",
              "      <th>SENT_VECT</th>\n",
              "    </tr>\n",
              "  </thead>\n",
              "  <tbody>\n",
              "    <tr>\n",
              "      <th>344</th>\n",
              "      <td>рисполепта</td>\n",
              "      <td>1</td>\n",
              "      <td>1</td>\n",
              "      <td>2.0</td>\n",
              "      <td>4.0</td>\n",
              "      <td>344.0</td>\n",
              "      <td>inan</td>\n",
              "      <td>nomn</td>\n",
              "      <td>femn</td>\n",
              "      <td>NaN</td>\n",
              "      <td>NOUN</td>\n",
              "      <td>nmod</td>\n",
              "      <td>приеме</td>\n",
              "      <td>inan</td>\n",
              "      <td>loct</td>\n",
              "      <td>masc</td>\n",
              "      <td>NOUN</td>\n",
              "      <td>1</td>\n",
              "      <td>344.0</td>\n",
              "      <td>sing</td>\n",
              "      <td>0.744327</td>\n",
              "      <td>0.474823</td>\n",
              "      <td>0.943423</td>\n",
              "    </tr>\n",
              "    <tr>\n",
              "      <th>918</th>\n",
              "      <td>вышло</td>\n",
              "      <td>2</td>\n",
              "      <td>2</td>\n",
              "      <td>6.0</td>\n",
              "      <td>3.0</td>\n",
              "      <td>344.0</td>\n",
              "      <td>NaN</td>\n",
              "      <td>NaN</td>\n",
              "      <td>neut</td>\n",
              "      <td>NaN</td>\n",
              "      <td>VERB</td>\n",
              "      <td>ROOT</td>\n",
              "      <td>вышло</td>\n",
              "      <td>NaN</td>\n",
              "      <td>NaN</td>\n",
              "      <td>neut</td>\n",
              "      <td>VERB</td>\n",
              "      <td>0</td>\n",
              "      <td>0.0</td>\n",
              "      <td>sing</td>\n",
              "      <td>0.500822</td>\n",
              "      <td>0.473973</td>\n",
              "      <td>0.959016</td>\n",
              "    </tr>\n",
              "    <tr>\n",
              "      <th>2212</th>\n",
              "      <td>в</td>\n",
              "      <td>3</td>\n",
              "      <td>3</td>\n",
              "      <td>5.0</td>\n",
              "      <td>8.0</td>\n",
              "      <td>344.0</td>\n",
              "      <td>NaN</td>\n",
              "      <td>NaN</td>\n",
              "      <td>NaN</td>\n",
              "      <td>NaN</td>\n",
              "      <td>PREP</td>\n",
              "      <td>case</td>\n",
              "      <td>использовании</td>\n",
              "      <td>inan</td>\n",
              "      <td>loct</td>\n",
              "      <td>neut</td>\n",
              "      <td>NOUN</td>\n",
              "      <td>0</td>\n",
              "      <td>0.0</td>\n",
              "      <td>NaN</td>\n",
              "      <td>0.452540</td>\n",
              "      <td>0.508909</td>\n",
              "      <td>0.959896</td>\n",
              "    </tr>\n",
              "    <tr>\n",
              "      <th>5897</th>\n",
              "      <td>и</td>\n",
              "      <td>4</td>\n",
              "      <td>4</td>\n",
              "      <td>6.0</td>\n",
              "      <td>7.0</td>\n",
              "      <td>344.0</td>\n",
              "      <td>NaN</td>\n",
              "      <td>NaN</td>\n",
              "      <td>NaN</td>\n",
              "      <td>NaN</td>\n",
              "      <td>CONJ</td>\n",
              "      <td>cc</td>\n",
              "      <td>выписывались</td>\n",
              "      <td>NaN</td>\n",
              "      <td>NaN</td>\n",
              "      <td>NaN</td>\n",
              "      <td>VERB</td>\n",
              "      <td>0</td>\n",
              "      <td>0.0</td>\n",
              "      <td>NaN</td>\n",
              "      <td>0.416583</td>\n",
              "      <td>0.441735</td>\n",
              "      <td>0.989138</td>\n",
              "    </tr>\n",
              "    <tr>\n",
              "      <th>6542</th>\n",
              "      <td>в</td>\n",
              "      <td>5</td>\n",
              "      <td>5</td>\n",
              "      <td>17.0</td>\n",
              "      <td>0.0</td>\n",
              "      <td>344.0</td>\n",
              "      <td>NaN</td>\n",
              "      <td>NaN</td>\n",
              "      <td>NaN</td>\n",
              "      <td>NaN</td>\n",
              "      <td>PREP</td>\n",
              "      <td>case</td>\n",
              "      <td>мозгу</td>\n",
              "      <td>inan</td>\n",
              "      <td>loc2</td>\n",
              "      <td>masc</td>\n",
              "      <td>NOUN</td>\n",
              "      <td>0</td>\n",
              "      <td>0.0</td>\n",
              "      <td>NaN</td>\n",
              "      <td>0.452540</td>\n",
              "      <td>0.392281</td>\n",
              "      <td>0.992058</td>\n",
              "    </tr>\n",
              "    <tr>\n",
              "      <th>8883</th>\n",
              "      <td>их</td>\n",
              "      <td>7</td>\n",
              "      <td>7</td>\n",
              "      <td>0.0</td>\n",
              "      <td>32.0</td>\n",
              "      <td>344.0</td>\n",
              "      <td>NaN</td>\n",
              "      <td>accs</td>\n",
              "      <td>NaN</td>\n",
              "      <td>3per</td>\n",
              "      <td>NPRO</td>\n",
              "      <td>obj</td>\n",
              "      <td>принимать</td>\n",
              "      <td>NaN</td>\n",
              "      <td>NaN</td>\n",
              "      <td>NaN</td>\n",
              "      <td>INFN</td>\n",
              "      <td>0</td>\n",
              "      <td>0.0</td>\n",
              "      <td>plur</td>\n",
              "      <td>0.393018</td>\n",
              "      <td>0.493345</td>\n",
              "      <td>0.957022</td>\n",
              "    </tr>\n",
              "    <tr>\n",
              "      <th>11513</th>\n",
              "      <td>отвратно</td>\n",
              "      <td>9</td>\n",
              "      <td>9</td>\n",
              "      <td>0.0</td>\n",
              "      <td>39.0</td>\n",
              "      <td>344.0</td>\n",
              "      <td>NaN</td>\n",
              "      <td>NaN</td>\n",
              "      <td>NaN</td>\n",
              "      <td>NaN</td>\n",
              "      <td>ADVB</td>\n",
              "      <td>advmod</td>\n",
              "      <td>перенесла</td>\n",
              "      <td>NaN</td>\n",
              "      <td>NaN</td>\n",
              "      <td>femn</td>\n",
              "      <td>VERB</td>\n",
              "      <td>0</td>\n",
              "      <td>0.0</td>\n",
              "      <td>NaN</td>\n",
              "      <td>0.487285</td>\n",
              "      <td>0.502938</td>\n",
              "      <td>0.979763</td>\n",
              "    </tr>\n",
              "    <tr>\n",
              "      <th>12936</th>\n",
              "      <td>будет</td>\n",
              "      <td>15</td>\n",
              "      <td>15</td>\n",
              "      <td>0.0</td>\n",
              "      <td>31.0</td>\n",
              "      <td>344.0</td>\n",
              "      <td>NaN</td>\n",
              "      <td>NaN</td>\n",
              "      <td>NaN</td>\n",
              "      <td>3per</td>\n",
              "      <td>VERB</td>\n",
              "      <td>advcl</td>\n",
              "      <td>проходить</td>\n",
              "      <td>NaN</td>\n",
              "      <td>NaN</td>\n",
              "      <td>NaN</td>\n",
              "      <td>INFN</td>\n",
              "      <td>0</td>\n",
              "      <td>0.0</td>\n",
              "      <td>sing</td>\n",
              "      <td>0.443375</td>\n",
              "      <td>0.581290</td>\n",
              "      <td>0.973762</td>\n",
              "    </tr>\n",
              "  </tbody>\n",
              "</table>\n",
              "</div>"
            ],
            "text/plain": [
              "            TOKEN  IS_ANSWER  TOPIC_NUM  ...  TOKEN_VECT  HEAD_VECT  SENT_VECT\n",
              "344    рисполепта          1          1  ...    0.744327   0.474823   0.943423\n",
              "918         вышло          2          2  ...    0.500822   0.473973   0.959016\n",
              "2212            в          3          3  ...    0.452540   0.508909   0.959896\n",
              "5897            и          4          4  ...    0.416583   0.441735   0.989138\n",
              "6542            в          5          5  ...    0.452540   0.392281   0.992058\n",
              "8883           их          7          7  ...    0.393018   0.493345   0.957022\n",
              "11513    отвратно          9          9  ...    0.487285   0.502938   0.979763\n",
              "12936       будет         15         15  ...    0.443375   0.581290   0.973762\n",
              "\n",
              "[8 rows x 23 columns]"
            ]
          },
          "metadata": {
            "tags": []
          },
          "execution_count": 48
        }
      ]
    },
    {
      "cell_type": "code",
      "metadata": {
        "colab": {
          "base_uri": "https://localhost:8080/",
          "height": 248
        },
        "id": "jegaPaSKarn6",
        "outputId": "3db62550-2813-449b-d5c8-aed31f2065c4"
      },
      "source": [
        "\n",
        "topic_num = 1\n",
        "topic_df = df.loc[df['TOPIC_NUM'] == topic_num]\n",
        "# номера предложений топика\n",
        "sents_in_topic = list(set(df.loc[df['TOPIC_NUM'] == topic_num ].SENT_NUM))\n",
        "sents_in_topic\n",
        "# достать пост\n",
        "df.loc[(df['TOPIC_NUM'] == 1) & (df['POST_NUM'] == 1)]\n",
        "# достать конкретное предложение конкретного поста\n",
        "df.loc[(df['TOPIC_NUM'] == 1) & (df['POST_NUM'] == 1) & (df['SENT_NUM'] == 1)]\n",
        "# достать токен из предложение конкретного поста\n",
        "df.loc[(df['TOPIC_NUM'] == 1) & (df['POST_NUM'] == 1) & (df['SENT_NUM'] == 0)]\n"
      ],
      "execution_count": 49,
      "outputs": [
        {
          "output_type": "execute_result",
          "data": {
            "text/html": [
              "<div>\n",
              "<style scoped>\n",
              "    .dataframe tbody tr th:only-of-type {\n",
              "        vertical-align: middle;\n",
              "    }\n",
              "\n",
              "    .dataframe tbody tr th {\n",
              "        vertical-align: top;\n",
              "    }\n",
              "\n",
              "    .dataframe thead th {\n",
              "        text-align: right;\n",
              "    }\n",
              "</style>\n",
              "<table border=\"1\" class=\"dataframe\">\n",
              "  <thead>\n",
              "    <tr style=\"text-align: right;\">\n",
              "      <th></th>\n",
              "      <th>TOKEN</th>\n",
              "      <th>IS_ANSWER</th>\n",
              "      <th>TOPIC_NUM</th>\n",
              "      <th>POST_NUM</th>\n",
              "      <th>SENT_NUM</th>\n",
              "      <th>TOKEN_NUM</th>\n",
              "      <th>ANIMACY</th>\n",
              "      <th>CASE</th>\n",
              "      <th>GENDER</th>\n",
              "      <th>PERSON</th>\n",
              "      <th>POS</th>\n",
              "      <th>DEPENDENCY</th>\n",
              "      <th>HEAD</th>\n",
              "      <th>HEAD_ANIMACY</th>\n",
              "      <th>HEAD_CASE</th>\n",
              "      <th>HEAD_GENDER</th>\n",
              "      <th>HEAD_POS</th>\n",
              "      <th>NER</th>\n",
              "      <th>COREFERENCE_CLUSTER</th>\n",
              "      <th>NUMBER</th>\n",
              "      <th>TOKEN_VECT</th>\n",
              "      <th>HEAD_VECT</th>\n",
              "      <th>SENT_VECT</th>\n",
              "    </tr>\n",
              "  </thead>\n",
              "  <tbody>\n",
              "    <tr>\n",
              "      <th>5</th>\n",
              "      <td>не</td>\n",
              "      <td>1</td>\n",
              "      <td>1</td>\n",
              "      <td>1.0</td>\n",
              "      <td>0.0</td>\n",
              "      <td>5.0</td>\n",
              "      <td>NaN</td>\n",
              "      <td>NaN</td>\n",
              "      <td>NaN</td>\n",
              "      <td>NaN</td>\n",
              "      <td>PRCL</td>\n",
              "      <td>advmod</td>\n",
              "      <td>знаю</td>\n",
              "      <td>NaN</td>\n",
              "      <td>NaN</td>\n",
              "      <td>NaN</td>\n",
              "      <td>VERB</td>\n",
              "      <td>0</td>\n",
              "      <td>0.0</td>\n",
              "      <td>NaN</td>\n",
              "      <td>0.425436</td>\n",
              "      <td>0.459552</td>\n",
              "      <td>0.914983</td>\n",
              "    </tr>\n",
              "    <tr>\n",
              "      <th>6</th>\n",
              "      <td>знаю</td>\n",
              "      <td>1</td>\n",
              "      <td>1</td>\n",
              "      <td>1.0</td>\n",
              "      <td>0.0</td>\n",
              "      <td>6.0</td>\n",
              "      <td>NaN</td>\n",
              "      <td>NaN</td>\n",
              "      <td>NaN</td>\n",
              "      <td>1per</td>\n",
              "      <td>VERB</td>\n",
              "      <td>ROOT</td>\n",
              "      <td>знаю</td>\n",
              "      <td>NaN</td>\n",
              "      <td>NaN</td>\n",
              "      <td>NaN</td>\n",
              "      <td>VERB</td>\n",
              "      <td>0</td>\n",
              "      <td>0.0</td>\n",
              "      <td>sing</td>\n",
              "      <td>0.509180</td>\n",
              "      <td>0.459552</td>\n",
              "      <td>0.914983</td>\n",
              "    </tr>\n",
              "    <tr>\n",
              "      <th>7</th>\n",
              "      <td>стоило</td>\n",
              "      <td>1</td>\n",
              "      <td>1</td>\n",
              "      <td>1.0</td>\n",
              "      <td>0.0</td>\n",
              "      <td>7.0</td>\n",
              "      <td>NaN</td>\n",
              "      <td>NaN</td>\n",
              "      <td>neut</td>\n",
              "      <td>NaN</td>\n",
              "      <td>VERB</td>\n",
              "      <td>ccomp</td>\n",
              "      <td>знаю</td>\n",
              "      <td>NaN</td>\n",
              "      <td>NaN</td>\n",
              "      <td>NaN</td>\n",
              "      <td>VERB</td>\n",
              "      <td>0</td>\n",
              "      <td>0.0</td>\n",
              "      <td>sing</td>\n",
              "      <td>0.488086</td>\n",
              "      <td>0.459552</td>\n",
              "      <td>0.914983</td>\n",
              "    </tr>\n",
              "    <tr>\n",
              "      <th>8</th>\n",
              "      <td>ли</td>\n",
              "      <td>1</td>\n",
              "      <td>1</td>\n",
              "      <td>1.0</td>\n",
              "      <td>0.0</td>\n",
              "      <td>8.0</td>\n",
              "      <td>NaN</td>\n",
              "      <td>NaN</td>\n",
              "      <td>NaN</td>\n",
              "      <td>NaN</td>\n",
              "      <td>CONJ</td>\n",
              "      <td>advmod</td>\n",
              "      <td>стоило</td>\n",
              "      <td>NaN</td>\n",
              "      <td>NaN</td>\n",
              "      <td>neut</td>\n",
              "      <td>VERB</td>\n",
              "      <td>0</td>\n",
              "      <td>0.0</td>\n",
              "      <td>NaN</td>\n",
              "      <td>0.492087</td>\n",
              "      <td>0.452047</td>\n",
              "      <td>0.914983</td>\n",
              "    </tr>\n",
              "    <tr>\n",
              "      <th>9</th>\n",
              "      <td>мне</td>\n",
              "      <td>1</td>\n",
              "      <td>1</td>\n",
              "      <td>1.0</td>\n",
              "      <td>0.0</td>\n",
              "      <td>9.0</td>\n",
              "      <td>NaN</td>\n",
              "      <td>datv</td>\n",
              "      <td>NaN</td>\n",
              "      <td>1per</td>\n",
              "      <td>NPRO</td>\n",
              "      <td>iobj</td>\n",
              "      <td>стоило</td>\n",
              "      <td>NaN</td>\n",
              "      <td>NaN</td>\n",
              "      <td>neut</td>\n",
              "      <td>VERB</td>\n",
              "      <td>0</td>\n",
              "      <td>0.0</td>\n",
              "      <td>sing</td>\n",
              "      <td>0.517417</td>\n",
              "      <td>0.452047</td>\n",
              "      <td>0.914983</td>\n",
              "    </tr>\n",
              "    <tr>\n",
              "      <th>10</th>\n",
              "      <td>писать</td>\n",
              "      <td>1</td>\n",
              "      <td>1</td>\n",
              "      <td>1.0</td>\n",
              "      <td>0.0</td>\n",
              "      <td>10.0</td>\n",
              "      <td>NaN</td>\n",
              "      <td>NaN</td>\n",
              "      <td>NaN</td>\n",
              "      <td>NaN</td>\n",
              "      <td>INFN</td>\n",
              "      <td>csubj</td>\n",
              "      <td>стоило</td>\n",
              "      <td>NaN</td>\n",
              "      <td>NaN</td>\n",
              "      <td>neut</td>\n",
              "      <td>VERB</td>\n",
              "      <td>0</td>\n",
              "      <td>0.0</td>\n",
              "      <td>NaN</td>\n",
              "      <td>0.418900</td>\n",
              "      <td>0.452047</td>\n",
              "      <td>0.914983</td>\n",
              "    </tr>\n",
              "  </tbody>\n",
              "</table>\n",
              "</div>"
            ],
            "text/plain": [
              "     TOKEN  IS_ANSWER  TOPIC_NUM  ...  TOKEN_VECT  HEAD_VECT  SENT_VECT\n",
              "5       не          1          1  ...    0.425436   0.459552   0.914983\n",
              "6     знаю          1          1  ...    0.509180   0.459552   0.914983\n",
              "7   стоило          1          1  ...    0.488086   0.459552   0.914983\n",
              "8       ли          1          1  ...    0.492087   0.452047   0.914983\n",
              "9      мне          1          1  ...    0.517417   0.452047   0.914983\n",
              "10  писать          1          1  ...    0.418900   0.452047   0.914983\n",
              "\n",
              "[6 rows x 23 columns]"
            ]
          },
          "metadata": {
            "tags": []
          },
          "execution_count": 49
        }
      ]
    },
    {
      "cell_type": "code",
      "metadata": {
        "colab": {
          "base_uri": "https://localhost:8080/"
        },
        "id": "CR0AoZS_lUaZ",
        "outputId": "f648f970-9f59-44fd-dfbd-ab1410ae1a2a"
      },
      "source": [
        "for i in df.loc[(df['TOPIC_NUM'] == 1) & (df['POST_NUM'] == 1) & (df['SENT_NUM'] == 0)].values:\n",
        "  print(i[-5])"
      ],
      "execution_count": 50,
      "outputs": [
        {
          "output_type": "stream",
          "text": [
            "0.0\n",
            "0.0\n",
            "0.0\n",
            "0.0\n",
            "0.0\n",
            "0.0\n"
          ],
          "name": "stdout"
        }
      ]
    },
    {
      "cell_type": "code",
      "metadata": {
        "colab": {
          "base_uri": "https://localhost:8080/"
        },
        "id": "Q-jlR3l1tXPz",
        "outputId": "ff8d059b-73a9-4c12-f591-aecbb1731fbd"
      },
      "source": [
        "# анафоры\n",
        "df.loc[(df['TOPIC_NUM'] == 1) & (df['POST_NUM'] == 1) & (df['SENT_NUM'] == 1)\n",
        "& (df['NER'] > 1)].values[0]"
      ],
      "execution_count": 51,
      "outputs": [
        {
          "output_type": "execute_result",
          "data": {
            "text/plain": [
              "array(['лекарством', 1, 1, 1.0, 1.0, 21.0, 'inan', 'ablt', 'neut', nan,\n",
              "       'NOUN', 'conj', 'нет', nan, nan, nan, 'PRED', 2, 0.0, 'sing',\n",
              "       0.4469050467014313, 0.5528465509414673, 0.8430876135826111],\n",
              "      dtype=object)"
            ]
          },
          "metadata": {
            "tags": []
          },
          "execution_count": 51
        }
      ]
    },
    {
      "cell_type": "code",
      "metadata": {
        "id": "kYvcPF-M1NeU"
      },
      "source": [
        "# sents_in_topic \n",
        "# topic_num\n",
        "# df = df.reset_index()"
      ],
      "execution_count": 52,
      "outputs": []
    },
    {
      "cell_type": "code",
      "metadata": {
        "id": "Cr4wFis7MMrL"
      },
      "source": [
        "# knn_clf = KNeighborsClassifier(n_neighbors=10, weights='distance',algorithm='ball_tree',leaf_size=5, metric='minkowski', p=1).fit(X, y)\n",
        "# knn_clf.score(X_test, y_test)"
      ],
      "execution_count": 53,
      "outputs": []
    },
    {
      "cell_type": "code",
      "metadata": {
        "id": "Yq47ne9PojeF"
      },
      "source": [
        "def rule_eval(my_X, my_y):\n",
        "  \n",
        "  tp = []\n",
        "  fp = []\n",
        "  tn = []\n",
        "  fn = []\n",
        "\n",
        "  for i in range(len(my_X)):\n",
        "    if my_X[i] != 0:\n",
        "      if my_X[i] == my_y[i]:\n",
        "        tp.append(i)\n",
        "      else:\n",
        "        fp.append(i)\n",
        "    # берем только те синглтоны, которые относятся к номинативным или прономинальным группам.\n",
        "    elif my_X[i] == 0:\n",
        "      if my_X[i] == my_y[i]:\n",
        "        tn.append(i)\n",
        "      else:\n",
        "        fn.append(i)\n",
        "  try:\n",
        "    P = len(tp)/(len(tp) + len(fp))\n",
        "  except ZeroDivisionError:\n",
        "    P = 0\n",
        "  try:\n",
        "    R = len(tp)/(len(tp) + len(fn))\n",
        "  except ZeroDivisionError:\n",
        "    R = 0\n",
        "  try:\n",
        "    F = 2*P*R/(P+R)\n",
        "  except ZeroDivisionError:\n",
        "    F = 0\n",
        "\n",
        "  print(len(tp), ' true positive')\n",
        "  print(len(fp), ' false positive')\n",
        "  print(len(tn), ' true negative')\n",
        "  print(len(fn), ' false negative')\n",
        "  print('---------')\n",
        "  print(P,' presicion')\n",
        "  print(R, ' recall')\n",
        "  print(F, ' f-score')\n"
      ],
      "execution_count": 54,
      "outputs": []
    },
    {
      "cell_type": "code",
      "metadata": {
        "colab": {
          "base_uri": "https://localhost:8080/"
        },
        "id": "zAoYr7-E2-Rd",
        "outputId": "8d5757d0-5a9c-44fd-e5ef-e69ae7c5c937"
      },
      "source": [
        "topics = list(set(df.TOPIC_NUM.values))\n",
        "topics"
      ],
      "execution_count": 55,
      "outputs": [
        {
          "output_type": "execute_result",
          "data": {
            "text/plain": [
              "[1, 2, 3, 4, 5, 6, 7, 8, 9, 10, 11, 12, 13, 14, 15, 16]"
            ]
          },
          "metadata": {
            "tags": []
          },
          "execution_count": 55
        }
      ]
    },
    {
      "cell_type": "code",
      "metadata": {
        "colab": {
          "base_uri": "https://localhost:8080/"
        },
        "id": "eyveocHjeLMJ",
        "outputId": "8d7d0db7-a167-4864-9883-427e836e0cda"
      },
      "source": [
        "# def anaphore_in_sent(sent_num, topic_num) это потом\n",
        "# изначально отталкиваемся от номеров топиков, итерация по ним\n",
        "# topics = list(set(df.TOPIC_NUM.values)) это выше\n",
        "anf_len = 0\n",
        "ant_len = 0\n",
        "ann_clusters = []\n",
        "my_clusters = []\n",
        "post_num = 0\n",
        "for topic_num in topics:\n",
        "  # print(topics, 'topics')\n",
        "  # if post_num == 3:\n",
        "  #   break\n",
        "  # извлекаем посты топика\n",
        "  posts_in_topic = list(set(df.loc[df['TOPIC_NUM'] == topic_num].POST_NUM))\n",
        "  # sents_in_topic = list(set(df.loc[df['TOPIC_NUM'] == topic_num].SENT_NUM))\n",
        "\n",
        "\n",
        "  for post_num in posts_in_topic:\n",
        "    sents_in_post = list(set(df.loc[(df['TOPIC_NUM'] == topic_num) \\\n",
        "                                    & (df['POST_NUM'] == post_num)].SENT_NUM))\n",
        "    # if post_num == 3:\n",
        "    #   break\n",
        "\n",
        "    for sent_num in sents_in_post:\n",
        "\n",
        "      sent = df.loc[(df['TOPIC_NUM'] == topic_num)  & (df['SENT_NUM'] == sent_num) \\\n",
        "                    & (df['POST_NUM'] == post_num)]\n",
        "      # собираем анафоры и антецеденты\n",
        "      current_anaphors = sent.loc[(sent['NER'] > 1)]\n",
        "      current_antecedents = sent.loc[(sent['NER'] == 1)]\n",
        "      anf_len += len(current_anaphors)\n",
        "      ant_len += len(current_antecedents)\n",
        "      # если нет анафоров, продолжать не имеет смысла\n",
        "      \n",
        "      if not list(current_anaphors.TOKEN):\n",
        "        continue\n",
        "\n",
        "      # если в предложении есть один антецедент, самый простой случай\n",
        "      if len(list(current_antecedents.TOKEN)) >= 1:\n",
        "        for anfr in current_anaphors.values:\n",
        "          # проверяем сходимость по числу\n",
        "          if anfr[-4] == current_antecedents.NUMBER.values[0]:\n",
        "            # добавляем в список размеченный класс\n",
        "            ann_clusters.append(anfr[-5])\n",
        "            # и класс который определило правило(антецедента из предложения)\n",
        "            my_clusters.append(current_antecedents.TOKEN_NUM.values[0])\n",
        "          else:\n",
        "            # в противном случае присваиваем нулевой класс\n",
        "            ann_clusters.append(anfr[-5])\n",
        "            # и класс, который определило правило(антецедента из предложения)\n",
        "            my_clusters.append(0.0)\n",
        "\n",
        "      # если больше одного!!\n",
        "          \n",
        "      # если в предложении его нет =(\n",
        "      elif len(list(current_antecedents.TOKEN)) == 0:\n",
        "        # ищем в посте в предложениях выше\n",
        "        post = df.loc[(df['TOPIC_NUM'] == topic_num) \\\n",
        "                      & (df['POST_NUM'] == post_num) \\\n",
        "                      & (df['SENT_NUM'] <= sent_num)]\n",
        "\n",
        "        current_antecedents = post.loc[(post['NER'] == 1) ]\n",
        "\n",
        "        # если его нету в посте, выбираем первый же антецедент из предыдущих постов\n",
        "        # топика(сверху вниз)\n",
        "        if not list(current_antecedents.TOKEN):\n",
        "          topic = df.loc[(df['TOPIC_NUM'] == topic_num)]\n",
        "          current_antecedents = topic.loc[(topic['NER'] == 1) ]\n",
        "          # проверяем, а антецеденты-то есть?\n",
        "          if not current_antecedents.TOKEN.values.any():\n",
        "              # присваиваем нулевой класс, если нет даже в топике\n",
        "              ann_clusters.append(anfr[-5])\n",
        "              # и класс, который определило правило(антецедента из предложения)\n",
        "              # для оценки\n",
        "              my_clusters.append(0.0)\n",
        "              continue\n",
        "          # ну и если они есть\n",
        "          # это можно убрать в отдельную функцию\n",
        "          for anfr in current_anaphors.values:\n",
        "            # проверяем сходимость по числу\n",
        "            # try:\n",
        "            if anfr[-4] == current_antecedents.NUMBER.values[0]:\n",
        "              # добавляем в список размеченный класс\n",
        "              ann_clusters.append(anfr[-5])\n",
        "              # и класс который определило правило(антецедента из предложения)\n",
        "              my_clusters.append(current_antecedents.TOKEN_NUM.values[0])\n",
        "              # print(ann_clusters, my_clusters, 'am I here?')\n",
        "            else:\n",
        "              # в противном случае присваиваем нулевой класс\n",
        "              ann_clusters.append(anfr[-5])\n",
        "              # и класс, который определило правило(антецедента из предложения)\n",
        "              my_clusters.append(0.0)\n",
        "\n",
        "\n",
        "        # если антецедент есть в посте раньше, выбираем первый с конца [::-1]\n",
        "        else:\n",
        "          # это можно убрать в отдельную функцию\n",
        "          for anfr in current_anaphors.values:\n",
        "            # проверяем сходимость по числу, если число вообще есть\n",
        "          \n",
        "            if anfr[-4] == current_antecedents.NUMBER.values[-1]:\n",
        "              # добавляем в список размеченный класс\n",
        "              ann_clusters.append(anfr[-5])\n",
        "              # и класс который определило правило(антецедента из предложения)\n",
        "              my_clusters.append(current_antecedents.TOKEN_NUM.values[-1])\n",
        "\n",
        "            else:\n",
        "              # в противном случае присваиваем нулевой класс\n",
        "              ann_clusters.append(anfr[-5])\n",
        "              # и класс, который определило правило(антецедента из предложения)\n",
        "              my_clusters.append(0.0)\n",
        "\n",
        "\n",
        "\n",
        "\n",
        "\n",
        "\n",
        "      # print(list(current_anaphors.TOKEN), list(current_anaphors.TOKEN), list(current_anaphors.COREFERENCE_CLUSTER) )\n",
        "      # print(list(current_antecedents.TOKEN), list(current_antecedents.TOKEN), list(current_antecedents.COREFERENCE_CLUSTER) )\n",
        "print(my_clusters)\n",
        "print('---')\n",
        "print(ann_clusters)\n",
        "print('---')\n",
        "print(len(my_clusters), len(ann_clusters))\n",
        "print(anf_len, ant_len)\n",
        "\n",
        "\n"
      ],
      "execution_count": 56,
      "outputs": [
        {
          "output_type": "stream",
          "text": [
            "[2.0, 0.0, 0.0, 344.0, 2.0, 2.0, 440.0, 2.0, 2.0, 540.0, 2.0, 11.0, 11.0, 46.0, 108.0, 108.0, 182.0, 182.0, 182.0, 182.0, 375.0, 434.0, 461.0, 658.0, 658.0, 693.0, 755.0, 755.0, 829.0, 829.0, 829.0, 829.0, 1022.0, 1081.0, 1081.0, 1142.0, 26.0, 0.0, 0.0, 0.0, 183.0, 0.0, 0.0, 0.0, 2.0, 2.0, 575.0, 679.0, 0.0, 0.0, 830.0, 0.0, 0.0, 987.0, 0.0, 1379.0, 0.0, 1483.0, 0.0, 0.0, 0.0, 1750.0, 1750.0, 0.0, 1844.0, 0.0, 2031.0, 2053.0, 0.0, 2058.0, 2155.0, 0.0, 2156.0, 0.0, 2344.0, 2.0, 0.0, 2711.0, 2711.0, 2766.0, 2766.0, 2766.0, 0.0, 0.0, 2.0, 0.0, 3125.0, 3125.0, 3270.0, 3350.0, 3350.0, 0.0, 0.0, 0.0, 3619.0, 0.0, 2.0, 5.0, 5.0, 2.0, 114.0, 0.0, 174.0, 0.0, 0.0, 0.0, 0.0, 287.0, 0.0, 287.0, 287.0, 365.0, 365.0, 0.0, 0.0, 0.0, 449.0, 0.0, 449.0, 449.0, 527.0, 527.0, 0.0, 0.0, 0.0, 0.0, 0.0, 2.0, 10.0, 27.0, 41.0, 41.0, 41.0, 2.0, 2.0, 135.0, 135.0, 0.0, 218.0, 231.0, 239.0, 239.0, 256.0, 270.0, 270.0, 270.0, 2.0, 2.0, 2.0, 447.0, 482.0, 482.0, 521.0, 521.0, 521.0, 521.0, 0.0, 0.0, 0.0, 0.0, 0.0, 786.0, 805.0, 805.0, 870.0, 0.0, 0.0, 0.0, 965.0, 965.0, 2.0, 2.0, 2.0, 1133.0, 1133.0, 1133.0, 0.0, 1210.0, 1210.0, 1210.0, 0.0, 0.0, 0.0, 0.0, 0.0, 0.0, 0.0, 0.0, 2.0, 1455.0, 1516.0, 1609.0, 1657.0, 1722.0, 1770.0, 0.0, 0.0, 0.0, 1905.0, 1984.0, 0.0, 0.0, 0.0, 2071.0, 2109.0, 0.0, 0.0, 0.0, 51.0, 0.0, 0.0, 164.0, 0.0, 0.0, 164.0, 164.0, 0.0, 293.0, 0.0, 337.0, 0.0, 410.0, 0.0, 534.0, 0.0, 0.0, 534.0, 663.0, 663.0, 0.0, 0.0, 707.0, 707.0, 0.0, 707.0, 801.0, 0.0, 871.0, 881.0, 935.0, 0.0, 0.0, 0.0, 1350.0, 0.0, 0.0, 0.0, 0.0, 0.0, 0.0, 1809.0, 1809.0, 0.0, 0.0, 0.0, 0.0, 0.0, 1.0, 243.0, 243.0, 301.0, 0.0, 174.0, 0.0, 2.0, 0.0, 0.0, 6.0, 57.0, 0.0, 0.0, 0.0, 0.0, 0.0, 0.0, 0.0, 0.0, 27.0, 0.0, 0.0, 0.0, 0.0, 0.0, 0.0, 0.0, 122.0, 165.0, 165.0, 263.0, 0.0, 0.0, 513.0, 556.0, 654.0, 790.0, 813.0, 813.0, 813.0, 0.0, 0.0, 0.0, 0.0, 0.0, 0.0, 0.0, 1080.0, 0.0, 0.0, 0.0, 0.0, 0.0, 0.0, 0.0, 0.0, 0.0, 1696.0, 1757.0, 0.0, 0.0, 0.0, 0.0, 0.0, 1867.0, 1916.0, 0.0, 2108.0, 2138.0, 2295.0]\n",
            "---\n",
            "[0.0, 0.0, 0.0, 344.0, 2.0, 2.0, 442.0, 2.0, 2.0, 536.0, 0.0, 11.0, 11.0, 0.0, 108.0, 108.0, 182.0, 182.0, 182.0, 182.0, 375.0, 434.0, 0.0, 658.0, 658.0, 0.0, 755.0, 755.0, 829.0, 829.0, 829.0, 829.0, 1022.0, 1081.0, 1081.0, 1162.0, 26.0, 183.0, 183.0, 183.0, 183.0, 183.0, 388.0, 388.0, 446.0, 446.0, 0.0, 686.0, 778.0, 806.0, 830.0, 987.0, 987.0, 987.0, 0.0, 1379.0, 1473.0, 1490.0, 1582.0, 3.0, 1684.0, 1750.0, 1750.0, 1795.0, 0.0, 0.0, 2031.0, 2053.0, 2058.0, 2058.0, 2156.0, 2156.0, 2156.0, 2344.0, 0.0, 2488.0, 3.0, 2711.0, 2711.0, 2766.0, 2766.0, 2766.0, 0.0, 2853.0, 0.0, 3.0, 3125.0, 3125.0, 3270.0, 3350.0, 3350.0, 0.0, 3401.0, 3401.0, 3619.0, 0.0, 2.0, 5.0, 5.0, 5.0, 96.0, 0.0, 156.0, 0.0, 0.0, 0.0, 0.0, 287.0, 287.0, 287.0, 287.0, 365.0, 367.0, 0.0, 0.0, 0.0, 449.0, 449.0, 449.0, 449.0, 527.0, 527.0, 0.0, 0.0, 0.0, 0.0, 0.0, 2.0, 14.0, 27.0, 41.0, 41.0, 41.0, 41.0, 90.0, 135.0, 135.0, 0.0, 218.0, 231.0, 239.0, 243.0, 256.0, 270.0, 270.0, 270.0, 270.0, 319.0, 341.0, 447.0, 482.0, 482.0, 507.0, 521.0, 521.0, 521.0, 521.0, 0.0, 659.0, 659.0, 738.0, 786.0, 805.0, 805.0, 870.0, 0.0, 937.0, 0.0, 0.0, 0.0, 3.0, 0.0, 0.0, 0.0, 0.0, 0.0, 0.0, 0.0, 0.0, 0.0, 0.0, 1262.0, 1277.0, 0.0, 0.0, 0.0, 0.0, 0.0, 0.0, 1455.0, 1516.0, 1609.0, 1657.0, 1722.0, 1770.0, 0.0, 1884.0, 1884.0, 0.0, 1984.0, 0.0, 0.0, 0.0, 0.0, 0.0, 37.0, 0.0, 51.0, 0.0, 71.0, 0.0, 164.0, 0.0, 192.0, 0.0, 0.0, 293.0, 293.0, 0.0, 0.0, 0.0, 0.0, 0.0, 534.0, 0.0, 0.0, 0.0, 0.0, 663.0, 0.0, 707.0, 735.0, 0.0, 0.0, 766.0, 790.0, 809.0, 852.0, 881.0, 0.0, 0.0, 0.0, 0.0, 0.0, 0.0, 0.0, 0.0, 0.0, 0.0, 0.0, 1809.0, 1809.0, 0.0, 0.0, 0.0, 0.0, 0.0, 1.0, 243.0, 243.0, 301.0, 0.0, 0.0, 2.0, 6.0, 11.0, 6.0, 0.0, 58.0, 61.0, 61.0, 116.0, 116.0, 133.0, 176.0, 288.0, 288.0, 0.0, 27.0, 27.0, 27.0, 27.0, 27.0, 27.0, 0.0, 122.0, 0.0, 165.0, 263.0, 0.0, 403.0, 513.0, 564.0, 654.0, 780.0, 803.0, 803.0, 803.0, 803.0, 803.0, 0.0, 0.0, 0.0, 0.0, 0.0, 1098.0, 0.0, 0.0, 1165.0, 0.0, 1342.0, 0.0, 0.0, 1432.0, 0.0, 0.0, 1757.0, 1782.0, 1782.0, 0.0, 1827.0, 1827.0, 1867.0, 0.0, 0.0, 0.0, 2138.0, 2295.0]\n",
            "---\n",
            "328 328\n",
            "328 581\n"
          ],
          "name": "stdout"
        }
      ]
    },
    {
      "cell_type": "code",
      "metadata": {
        "colab": {
          "base_uri": "https://localhost:8080/"
        },
        "id": "SF7-1rhFonGC",
        "outputId": "91b06a82-6d65-4269-b05d-03bc30f882b0"
      },
      "source": [
        "rule_eval(my_clusters, ann_clusters)"
      ],
      "execution_count": 57,
      "outputs": [
        {
          "output_type": "stream",
          "text": [
            "111  true positive\n",
            "74  false positive\n",
            "75  true negative\n",
            "68  false negative\n",
            "---------\n",
            "0.6  presicion\n",
            "0.6201117318435754  recall\n",
            "0.6098901098901098  f-score\n"
          ],
          "name": "stdout"
        }
      ]
    },
    {
      "cell_type": "markdown",
      "metadata": {
        "id": "XZo_bJR6uuvc"
      },
      "source": [
        "# **МОДЕЛИ.**"
      ]
    },
    {
      "cell_type": "markdown",
      "metadata": {
        "id": "qrdNCMTOu1P0"
      },
      "source": [
        "Факторизуем троковые данные, чтобы вместо строковых представлений классов были численные."
      ]
    },
    {
      "cell_type": "code",
      "metadata": {
        "colab": {
          "base_uri": "https://localhost:8080/"
        },
        "id": "hn2LX9ViO9i0",
        "outputId": "240798ea-e440-4cab-8d1e-9e9768e23aa0"
      },
      "source": [
        "for_factorize = 'ANIMACY \tCASE\tGENDER\tPERSON\tPOS\tDEPENDENCY\tHEAD\tHEAD_ANIMACY\tHEAD_CASE\tHEAD_GENDER\tHEAD_POS NUMBER'.split()\n",
        "for_factorize"
      ],
      "execution_count": 58,
      "outputs": [
        {
          "output_type": "execute_result",
          "data": {
            "text/plain": [
              "['ANIMACY',\n",
              " 'CASE',\n",
              " 'GENDER',\n",
              " 'PERSON',\n",
              " 'POS',\n",
              " 'DEPENDENCY',\n",
              " 'HEAD',\n",
              " 'HEAD_ANIMACY',\n",
              " 'HEAD_CASE',\n",
              " 'HEAD_GENDER',\n",
              " 'HEAD_POS',\n",
              " 'NUMBER']"
            ]
          },
          "metadata": {
            "tags": []
          },
          "execution_count": 58
        }
      ]
    },
    {
      "cell_type": "code",
      "metadata": {
        "colab": {
          "base_uri": "https://localhost:8080/"
        },
        "id": "MuTn5rTEPJq1",
        "outputId": "1297665a-7fdf-462e-e64b-e58b3eebf684"
      },
      "source": [
        "_, lbl = pd.factorize(df.ANIMACY)\n",
        "print(lbl, )\n",
        "_"
      ],
      "execution_count": 59,
      "outputs": [
        {
          "output_type": "stream",
          "text": [
            "Index(['inan', 'anim'], dtype='object')\n"
          ],
          "name": "stdout"
        },
        {
          "output_type": "execute_result",
          "data": {
            "text/plain": [
              "array([-1,  0,  1, ..., -1, -1,  0])"
            ]
          },
          "metadata": {
            "tags": []
          },
          "execution_count": 59
        }
      ]
    },
    {
      "cell_type": "markdown",
      "metadata": {
        "id": "okLj0sOex6rt"
      },
      "source": [
        "Делаем словарь с маппингом, чтобы можно было достать нужное значение по индексу. В значении -1 хранится None"
      ]
    },
    {
      "cell_type": "code",
      "metadata": {
        "colab": {
          "base_uri": "https://localhost:8080/"
        },
        "id": "QoqDVz2lQjmV",
        "outputId": "747e3de5-64bb-490c-a929-1eb12f5aba14"
      },
      "source": [
        "mapping_dict = {}\n",
        "for col_name in for_factorize:\n",
        "  col, lbl = pd.factorize(df[col_name])\n",
        "  df[col_name] = col\n",
        "  mapping_dict[col_name] = lbl\n",
        "mapping_dict  "
      ],
      "execution_count": 60,
      "outputs": [
        {
          "output_type": "stream",
          "text": [
            "/usr/local/lib/python3.7/dist-packages/ipykernel_launcher.py:4: SettingWithCopyWarning: \n",
            "A value is trying to be set on a copy of a slice from a DataFrame.\n",
            "Try using .loc[row_indexer,col_indexer] = value instead\n",
            "\n",
            "See the caveats in the documentation: https://pandas.pydata.org/pandas-docs/stable/user_guide/indexing.html#returning-a-view-versus-a-copy\n",
            "  after removing the cwd from sys.path.\n"
          ],
          "name": "stderr"
        },
        {
          "output_type": "execute_result",
          "data": {
            "text/plain": [
              "{'ANIMACY': Index(['inan', 'anim'], dtype='object'),\n",
              " 'CASE': Index(['nomn', 'gent', 'datv', 'accs', 'loct', 'ablt', 'loc2', 'voct', 'gen2'], dtype='object'),\n",
              " 'DEPENDENCY': Index(['ROOT', 'obj', 'appos', 'parataxis', 'conj', 'advmod', 'ccomp', 'iobj',\n",
              "        'csubj', 'case', 'obl', 'det', 'nsubj', 'cc', 'discourse', 'fixed',\n",
              "        'mark', 'amod', 'advcl', 'xcomp', 'nummod', 'nmod', 'nsubj:pass',\n",
              "        'nummod:gov', 'cop', 'acl:relcl', 'acl', 'aux', 'flat:foreign', 'punct',\n",
              "        'obl:agent', 'flat', 'aux:pass', 'orphan', 'expl', 'csubj:pass'],\n",
              "       dtype='object'),\n",
              " 'GENDER': Index(['masc', 'femn', 'neut'], dtype='object'),\n",
              " 'HEAD': Index(['обсуждаем', 'препарат', 'рисперидон', 'рисполепт', 'знаю', 'стоило',\n",
              "        'меня', 'нет', 'проблем', 'лекарством',\n",
              "        ...\n",
              "        'привился', 'прививки', 'решать', 'неизвестно', 'быстро', 'проводились',\n",
              "        'испытания', 'аукнется', 'вакцина', 'организме'],\n",
              "       dtype='object', length=2514),\n",
              " 'HEAD_ANIMACY': Index(['inan', 'anim', '\"'], dtype='object'),\n",
              " 'HEAD_CASE': Index(['nomn', 'gent', 'accs', 'ablt', 'datv', 'loct', 'loc2', 'voct'], dtype='object'),\n",
              " 'HEAD_GENDER': Index(['masc', 'femn', 'neut'], dtype='object'),\n",
              " 'HEAD_POS': Index(['VERB', 'NOUN', 'NPRO', 'PRED', 'PREP', 'INFN', 'PRTS', 'GRND', 'ADJF',\n",
              "        'ADVB', 'PRCL', 'PRTF', 'CONJ', 'ADJS', 'COMP', 'INTJ', 'NUMR'],\n",
              "       dtype='object'),\n",
              " 'NUMBER': Index(['plur', 'sing', '0'], dtype='object'),\n",
              " 'PERSON': Index(['1per', '3per', '2per'], dtype='object'),\n",
              " 'POS': Index(['VERB', 'NOUN', 'PRTS', 'PRCL', 'CONJ', 'NPRO', 'INFN', 'PREP', 'ADVB',\n",
              "        'PRED', 'ADJF', 'NUMR', 'GRND', 'COMP', 'PRTF', 'ADJS', 'INTJ'],\n",
              "       dtype='object')}"
            ]
          },
          "metadata": {
            "tags": []
          },
          "execution_count": 60
        }
      ]
    },
    {
      "cell_type": "code",
      "metadata": {
        "id": "pdg6Pp5wbx5Y"
      },
      "source": [
        "\n",
        "# labels_dict = {}\n",
        "# test_labels_dict = {}\n",
        "\n",
        "# for i in X.columns:\n",
        "#   X[i], lbl = pd.factorize(X[i])\n",
        "#   labels_dict[i] = lbl\n",
        "\n",
        "# for i in X_test.columns:\n",
        "#   X_test[i], lbl = pd.factorize(X_test[i])\n",
        "#   test_labels_dict[i] = lbl \n",
        "\n",
        "# y = cor_df['COREFERENCE_CLUSTER']\n",
        "# y, y_label = pd.factorize(y)\n",
        "\n",
        "# y_test = cor_df_test['COREFERENCE_CLUSTER']\n",
        "# y_test, y_test_label = pd.factorize(y_test)"
      ],
      "execution_count": 61,
      "outputs": []
    },
    {
      "cell_type": "code",
      "metadata": {
        "colab": {
          "base_uri": "https://localhost:8080/",
          "height": 427
        },
        "id": "FJxFPuolOm_y",
        "outputId": "97744cb6-017f-487e-a0d7-8f9dd4c612e9"
      },
      "source": [
        "df.loc[(df['NER'] == 1.0) | (df['NER'] == 2.0 )]"
      ],
      "execution_count": 161,
      "outputs": [
        {
          "output_type": "execute_result",
          "data": {
            "text/html": [
              "<div>\n",
              "<style scoped>\n",
              "    .dataframe tbody tr th:only-of-type {\n",
              "        vertical-align: middle;\n",
              "    }\n",
              "\n",
              "    .dataframe tbody tr th {\n",
              "        vertical-align: top;\n",
              "    }\n",
              "\n",
              "    .dataframe thead th {\n",
              "        text-align: right;\n",
              "    }\n",
              "</style>\n",
              "<table border=\"1\" class=\"dataframe\">\n",
              "  <thead>\n",
              "    <tr style=\"text-align: right;\">\n",
              "      <th></th>\n",
              "      <th>TOKEN</th>\n",
              "      <th>IS_ANSWER</th>\n",
              "      <th>TOPIC_NUM</th>\n",
              "      <th>POST_NUM</th>\n",
              "      <th>SENT_NUM</th>\n",
              "      <th>TOKEN_NUM</th>\n",
              "      <th>ANIMACY</th>\n",
              "      <th>CASE</th>\n",
              "      <th>GENDER</th>\n",
              "      <th>PERSON</th>\n",
              "      <th>POS</th>\n",
              "      <th>DEPENDENCY</th>\n",
              "      <th>HEAD</th>\n",
              "      <th>HEAD_ANIMACY</th>\n",
              "      <th>HEAD_CASE</th>\n",
              "      <th>HEAD_GENDER</th>\n",
              "      <th>HEAD_POS</th>\n",
              "      <th>NER</th>\n",
              "      <th>COREFERENCE_CLUSTER</th>\n",
              "      <th>NUMBER</th>\n",
              "      <th>TOKEN_VECT</th>\n",
              "      <th>HEAD_VECT</th>\n",
              "      <th>SENT_VECT</th>\n",
              "    </tr>\n",
              "  </thead>\n",
              "  <tbody>\n",
              "    <tr>\n",
              "      <th>2</th>\n",
              "      <td>рисперидон</td>\n",
              "      <td>1</td>\n",
              "      <td>1</td>\n",
              "      <td>0.0</td>\n",
              "      <td>0.0</td>\n",
              "      <td>2.0</td>\n",
              "      <td>1</td>\n",
              "      <td>0</td>\n",
              "      <td>0</td>\n",
              "      <td>-1</td>\n",
              "      <td>1</td>\n",
              "      <td>2</td>\n",
              "      <td>1</td>\n",
              "      <td>0</td>\n",
              "      <td>0</td>\n",
              "      <td>0</td>\n",
              "      <td>1</td>\n",
              "      <td>1</td>\n",
              "      <td>2.0</td>\n",
              "      <td>1</td>\n",
              "      <td>0.799821</td>\n",
              "      <td>0.881828</td>\n",
              "      <td>0.914983</td>\n",
              "    </tr>\n",
              "    <tr>\n",
              "      <th>3</th>\n",
              "      <td>рисполепт</td>\n",
              "      <td>1</td>\n",
              "      <td>1</td>\n",
              "      <td>0.0</td>\n",
              "      <td>0.0</td>\n",
              "      <td>3.0</td>\n",
              "      <td>0</td>\n",
              "      <td>1</td>\n",
              "      <td>1</td>\n",
              "      <td>-1</td>\n",
              "      <td>1</td>\n",
              "      <td>3</td>\n",
              "      <td>2</td>\n",
              "      <td>1</td>\n",
              "      <td>0</td>\n",
              "      <td>0</td>\n",
              "      <td>1</td>\n",
              "      <td>1</td>\n",
              "      <td>3.0</td>\n",
              "      <td>0</td>\n",
              "      <td>0.813941</td>\n",
              "      <td>0.574603</td>\n",
              "      <td>0.914983</td>\n",
              "    </tr>\n",
              "    <tr>\n",
              "      <th>4</th>\n",
              "      <td>сперидан</td>\n",
              "      <td>1</td>\n",
              "      <td>1</td>\n",
              "      <td>0.0</td>\n",
              "      <td>0.0</td>\n",
              "      <td>4.0</td>\n",
              "      <td>-1</td>\n",
              "      <td>-1</td>\n",
              "      <td>0</td>\n",
              "      <td>-1</td>\n",
              "      <td>2</td>\n",
              "      <td>4</td>\n",
              "      <td>3</td>\n",
              "      <td>0</td>\n",
              "      <td>1</td>\n",
              "      <td>1</td>\n",
              "      <td>1</td>\n",
              "      <td>1</td>\n",
              "      <td>4.0</td>\n",
              "      <td>1</td>\n",
              "      <td>0.730241</td>\n",
              "      <td>0.680588</td>\n",
              "      <td>0.914983</td>\n",
              "    </tr>\n",
              "    <tr>\n",
              "      <th>21</th>\n",
              "      <td>лекарством</td>\n",
              "      <td>1</td>\n",
              "      <td>1</td>\n",
              "      <td>1.0</td>\n",
              "      <td>1.0</td>\n",
              "      <td>21.0</td>\n",
              "      <td>0</td>\n",
              "      <td>5</td>\n",
              "      <td>2</td>\n",
              "      <td>-1</td>\n",
              "      <td>1</td>\n",
              "      <td>4</td>\n",
              "      <td>7</td>\n",
              "      <td>-1</td>\n",
              "      <td>-1</td>\n",
              "      <td>-1</td>\n",
              "      <td>3</td>\n",
              "      <td>2</td>\n",
              "      <td>0.0</td>\n",
              "      <td>1</td>\n",
              "      <td>0.446905</td>\n",
              "      <td>0.552847</td>\n",
              "      <td>0.843088</td>\n",
              "    </tr>\n",
              "    <tr>\n",
              "      <th>142</th>\n",
              "      <td>рисполепта</td>\n",
              "      <td>1</td>\n",
              "      <td>1</td>\n",
              "      <td>1.0</td>\n",
              "      <td>13.0</td>\n",
              "      <td>142.0</td>\n",
              "      <td>0</td>\n",
              "      <td>0</td>\n",
              "      <td>1</td>\n",
              "      <td>-1</td>\n",
              "      <td>1</td>\n",
              "      <td>21</td>\n",
              "      <td>69</td>\n",
              "      <td>0</td>\n",
              "      <td>2</td>\n",
              "      <td>1</td>\n",
              "      <td>1</td>\n",
              "      <td>1</td>\n",
              "      <td>142.0</td>\n",
              "      <td>1</td>\n",
              "      <td>0.744327</td>\n",
              "      <td>0.509409</td>\n",
              "      <td>0.882947</td>\n",
              "    </tr>\n",
              "    <tr>\n",
              "      <th>...</th>\n",
              "      <td>...</td>\n",
              "      <td>...</td>\n",
              "      <td>...</td>\n",
              "      <td>...</td>\n",
              "      <td>...</td>\n",
              "      <td>...</td>\n",
              "      <td>...</td>\n",
              "      <td>...</td>\n",
              "      <td>...</td>\n",
              "      <td>...</td>\n",
              "      <td>...</td>\n",
              "      <td>...</td>\n",
              "      <td>...</td>\n",
              "      <td>...</td>\n",
              "      <td>...</td>\n",
              "      <td>...</td>\n",
              "      <td>...</td>\n",
              "      <td>...</td>\n",
              "      <td>...</td>\n",
              "      <td>...</td>\n",
              "      <td>...</td>\n",
              "      <td>...</td>\n",
              "      <td>...</td>\n",
              "    </tr>\n",
              "    <tr>\n",
              "      <th>14759</th>\n",
              "      <td>hifu</td>\n",
              "      <td>15</td>\n",
              "      <td>15</td>\n",
              "      <td>17.0</td>\n",
              "      <td>12.0</td>\n",
              "      <td>2167.0</td>\n",
              "      <td>-1</td>\n",
              "      <td>-1</td>\n",
              "      <td>-1</td>\n",
              "      <td>-1</td>\n",
              "      <td>-1</td>\n",
              "      <td>1</td>\n",
              "      <td>1903</td>\n",
              "      <td>-1</td>\n",
              "      <td>-1</td>\n",
              "      <td>-1</td>\n",
              "      <td>0</td>\n",
              "      <td>1</td>\n",
              "      <td>2167.0</td>\n",
              "      <td>-1</td>\n",
              "      <td>0.515243</td>\n",
              "      <td>0.504965</td>\n",
              "      <td>0.985836</td>\n",
              "    </tr>\n",
              "    <tr>\n",
              "      <th>14807</th>\n",
              "      <td>абраксан</td>\n",
              "      <td>15</td>\n",
              "      <td>15</td>\n",
              "      <td>18.0</td>\n",
              "      <td>3.0</td>\n",
              "      <td>2215.0</td>\n",
              "      <td>1</td>\n",
              "      <td>1</td>\n",
              "      <td>1</td>\n",
              "      <td>-1</td>\n",
              "      <td>1</td>\n",
              "      <td>1</td>\n",
              "      <td>2480</td>\n",
              "      <td>-1</td>\n",
              "      <td>-1</td>\n",
              "      <td>-1</td>\n",
              "      <td>0</td>\n",
              "      <td>1</td>\n",
              "      <td>2215.0</td>\n",
              "      <td>0</td>\n",
              "      <td>0.736828</td>\n",
              "      <td>0.413219</td>\n",
              "      <td>0.981547</td>\n",
              "    </tr>\n",
              "    <tr>\n",
              "      <th>14809</th>\n",
              "      <td>гемцитабином</td>\n",
              "      <td>15</td>\n",
              "      <td>15</td>\n",
              "      <td>18.0</td>\n",
              "      <td>3.0</td>\n",
              "      <td>2217.0</td>\n",
              "      <td>0</td>\n",
              "      <td>5</td>\n",
              "      <td>0</td>\n",
              "      <td>-1</td>\n",
              "      <td>1</td>\n",
              "      <td>21</td>\n",
              "      <td>2470</td>\n",
              "      <td>1</td>\n",
              "      <td>1</td>\n",
              "      <td>1</td>\n",
              "      <td>1</td>\n",
              "      <td>1</td>\n",
              "      <td>2217.0</td>\n",
              "      <td>1</td>\n",
              "      <td>0.599902</td>\n",
              "      <td>0.515348</td>\n",
              "      <td>0.981547</td>\n",
              "    </tr>\n",
              "    <tr>\n",
              "      <th>14856</th>\n",
              "      <td>фолфиринокс</td>\n",
              "      <td>15</td>\n",
              "      <td>15</td>\n",
              "      <td>18.0</td>\n",
              "      <td>8.0</td>\n",
              "      <td>2264.0</td>\n",
              "      <td>0</td>\n",
              "      <td>0</td>\n",
              "      <td>0</td>\n",
              "      <td>-1</td>\n",
              "      <td>1</td>\n",
              "      <td>21</td>\n",
              "      <td>1910</td>\n",
              "      <td>0</td>\n",
              "      <td>0</td>\n",
              "      <td>1</td>\n",
              "      <td>1</td>\n",
              "      <td>1</td>\n",
              "      <td>2264.0</td>\n",
              "      <td>1</td>\n",
              "      <td>0.679347</td>\n",
              "      <td>0.478782</td>\n",
              "      <td>0.981547</td>\n",
              "    </tr>\n",
              "    <tr>\n",
              "      <th>14887</th>\n",
              "      <td>иринотекану</td>\n",
              "      <td>15</td>\n",
              "      <td>15</td>\n",
              "      <td>19.0</td>\n",
              "      <td>0.0</td>\n",
              "      <td>2295.0</td>\n",
              "      <td>0</td>\n",
              "      <td>2</td>\n",
              "      <td>0</td>\n",
              "      <td>-1</td>\n",
              "      <td>1</td>\n",
              "      <td>21</td>\n",
              "      <td>2448</td>\n",
              "      <td>0</td>\n",
              "      <td>0</td>\n",
              "      <td>1</td>\n",
              "      <td>1</td>\n",
              "      <td>1</td>\n",
              "      <td>2295.0</td>\n",
              "      <td>1</td>\n",
              "      <td>0.682320</td>\n",
              "      <td>0.483412</td>\n",
              "      <td>0.981547</td>\n",
              "    </tr>\n",
              "  </tbody>\n",
              "</table>\n",
              "<p>796 rows × 23 columns</p>\n",
              "</div>"
            ],
            "text/plain": [
              "              TOKEN  IS_ANSWER  TOPIC_NUM  ...  TOKEN_VECT  HEAD_VECT  SENT_VECT\n",
              "2        рисперидон          1          1  ...    0.799821   0.881828   0.914983\n",
              "3         рисполепт          1          1  ...    0.813941   0.574603   0.914983\n",
              "4          сперидан          1          1  ...    0.730241   0.680588   0.914983\n",
              "21       лекарством          1          1  ...    0.446905   0.552847   0.843088\n",
              "142      рисполепта          1          1  ...    0.744327   0.509409   0.882947\n",
              "...             ...        ...        ...  ...         ...        ...        ...\n",
              "14759          hifu         15         15  ...    0.515243   0.504965   0.985836\n",
              "14807      абраксан         15         15  ...    0.736828   0.413219   0.981547\n",
              "14809  гемцитабином         15         15  ...    0.599902   0.515348   0.981547\n",
              "14856   фолфиринокс         15         15  ...    0.679347   0.478782   0.981547\n",
              "14887   иринотекану         15         15  ...    0.682320   0.483412   0.981547\n",
              "\n",
              "[796 rows x 23 columns]"
            ]
          },
          "metadata": {
            "tags": []
          },
          "execution_count": 161
        }
      ]
    },
    {
      "cell_type": "markdown",
      "metadata": {
        "id": "gHAqJq-syGu4"
      },
      "source": [
        "Разделим датасет на тестовый и тренировочный. for_train, for_test "
      ]
    },
    {
      "cell_type": "code",
      "metadata": {
        "id": "_iE_6DTwjs9r"
      },
      "source": [
        "# train, test = train_test_split(df.loc[(df['NER'] == 1.0) | (df['NER'] == 2.0 ) | (df['NER'] == 3.0 )], test_size=0.2)\n",
        "# train, test = train_test_split(df, test_size=0.2)\n",
        "train, test = train_test_split(df.loc[(df['NER'] == 2.0 ) | (df['NER'] == 3.0 )], test_size=0.2)"
      ],
      "execution_count": 63,
      "outputs": []
    },
    {
      "cell_type": "code",
      "metadata": {
        "id": "NSpO2JclSBoW"
      },
      "source": [
        "train = train.reset_index()"
      ],
      "execution_count": 64,
      "outputs": []
    },
    {
      "cell_type": "markdown",
      "metadata": {
        "id": "p9jYUXyTyO7S"
      },
      "source": [
        ""
      ]
    },
    {
      "cell_type": "code",
      "metadata": {
        "id": "15JsamoeRUQ3"
      },
      "source": [
        "test = test.reset_index()"
      ],
      "execution_count": 65,
      "outputs": []
    },
    {
      "cell_type": "code",
      "metadata": {
        "colab": {
          "base_uri": "https://localhost:8080/",
          "height": 218
        },
        "id": "yJ-7SyinSvCF",
        "outputId": "fd510f6d-846a-4dc5-ff89-e0cd8b295b43"
      },
      "source": [
        "test.head(5)"
      ],
      "execution_count": 66,
      "outputs": [
        {
          "output_type": "execute_result",
          "data": {
            "text/html": [
              "<div>\n",
              "<style scoped>\n",
              "    .dataframe tbody tr th:only-of-type {\n",
              "        vertical-align: middle;\n",
              "    }\n",
              "\n",
              "    .dataframe tbody tr th {\n",
              "        vertical-align: top;\n",
              "    }\n",
              "\n",
              "    .dataframe thead th {\n",
              "        text-align: right;\n",
              "    }\n",
              "</style>\n",
              "<table border=\"1\" class=\"dataframe\">\n",
              "  <thead>\n",
              "    <tr style=\"text-align: right;\">\n",
              "      <th></th>\n",
              "      <th>index</th>\n",
              "      <th>TOKEN</th>\n",
              "      <th>IS_ANSWER</th>\n",
              "      <th>TOPIC_NUM</th>\n",
              "      <th>POST_NUM</th>\n",
              "      <th>SENT_NUM</th>\n",
              "      <th>TOKEN_NUM</th>\n",
              "      <th>ANIMACY</th>\n",
              "      <th>CASE</th>\n",
              "      <th>GENDER</th>\n",
              "      <th>PERSON</th>\n",
              "      <th>POS</th>\n",
              "      <th>DEPENDENCY</th>\n",
              "      <th>HEAD</th>\n",
              "      <th>HEAD_ANIMACY</th>\n",
              "      <th>HEAD_CASE</th>\n",
              "      <th>HEAD_GENDER</th>\n",
              "      <th>HEAD_POS</th>\n",
              "      <th>NER</th>\n",
              "      <th>COREFERENCE_CLUSTER</th>\n",
              "      <th>NUMBER</th>\n",
              "      <th>TOKEN_VECT</th>\n",
              "      <th>HEAD_VECT</th>\n",
              "      <th>SENT_VECT</th>\n",
              "    </tr>\n",
              "  </thead>\n",
              "  <tbody>\n",
              "    <tr>\n",
              "      <th>0</th>\n",
              "      <td>7682</td>\n",
              "      <td>он</td>\n",
              "      <td>5</td>\n",
              "      <td>5</td>\n",
              "      <td>41.0</td>\n",
              "      <td>3.0</td>\n",
              "      <td>1484.0</td>\n",
              "      <td>-1</td>\n",
              "      <td>0</td>\n",
              "      <td>0</td>\n",
              "      <td>1</td>\n",
              "      <td>5</td>\n",
              "      <td>12</td>\n",
              "      <td>1427</td>\n",
              "      <td>-1</td>\n",
              "      <td>-1</td>\n",
              "      <td>0</td>\n",
              "      <td>0</td>\n",
              "      <td>3</td>\n",
              "      <td>1455.0</td>\n",
              "      <td>1</td>\n",
              "      <td>0.514413</td>\n",
              "      <td>0.575679</td>\n",
              "      <td>0.983559</td>\n",
              "    </tr>\n",
              "    <tr>\n",
              "      <th>1</th>\n",
              "      <td>11469</td>\n",
              "      <td>обезболивающие</td>\n",
              "      <td>9</td>\n",
              "      <td>9</td>\n",
              "      <td>0.0</td>\n",
              "      <td>34.0</td>\n",
              "      <td>300.0</td>\n",
              "      <td>-1</td>\n",
              "      <td>0</td>\n",
              "      <td>-1</td>\n",
              "      <td>-1</td>\n",
              "      <td>14</td>\n",
              "      <td>26</td>\n",
              "      <td>1557</td>\n",
              "      <td>0</td>\n",
              "      <td>2</td>\n",
              "      <td>1</td>\n",
              "      <td>1</td>\n",
              "      <td>2</td>\n",
              "      <td>301.0</td>\n",
              "      <td>0</td>\n",
              "      <td>0.590481</td>\n",
              "      <td>0.482550</td>\n",
              "      <td>0.979763</td>\n",
              "    </tr>\n",
              "    <tr>\n",
              "      <th>2</th>\n",
              "      <td>5889</td>\n",
              "      <td>препарат</td>\n",
              "      <td>4</td>\n",
              "      <td>4</td>\n",
              "      <td>6.0</td>\n",
              "      <td>6.0</td>\n",
              "      <td>336.0</td>\n",
              "      <td>0</td>\n",
              "      <td>0</td>\n",
              "      <td>0</td>\n",
              "      <td>-1</td>\n",
              "      <td>1</td>\n",
              "      <td>1</td>\n",
              "      <td>1158</td>\n",
              "      <td>-1</td>\n",
              "      <td>-1</td>\n",
              "      <td>-1</td>\n",
              "      <td>0</td>\n",
              "      <td>2</td>\n",
              "      <td>287.0</td>\n",
              "      <td>1</td>\n",
              "      <td>0.534916</td>\n",
              "      <td>0.492989</td>\n",
              "      <td>0.989138</td>\n",
              "    </tr>\n",
              "    <tr>\n",
              "      <th>3</th>\n",
              "      <td>9691</td>\n",
              "      <td>препараты</td>\n",
              "      <td>7</td>\n",
              "      <td>7</td>\n",
              "      <td>5.0</td>\n",
              "      <td>0.0</td>\n",
              "      <td>1152.0</td>\n",
              "      <td>0</td>\n",
              "      <td>0</td>\n",
              "      <td>0</td>\n",
              "      <td>-1</td>\n",
              "      <td>1</td>\n",
              "      <td>12</td>\n",
              "      <td>619</td>\n",
              "      <td>-1</td>\n",
              "      <td>-1</td>\n",
              "      <td>-1</td>\n",
              "      <td>13</td>\n",
              "      <td>2</td>\n",
              "      <td>0.0</td>\n",
              "      <td>0</td>\n",
              "      <td>0.457579</td>\n",
              "      <td>0.349272</td>\n",
              "      <td>0.972120</td>\n",
              "    </tr>\n",
              "    <tr>\n",
              "      <th>4</th>\n",
              "      <td>6254</td>\n",
              "      <td>препарата</td>\n",
              "      <td>5</td>\n",
              "      <td>5</td>\n",
              "      <td>3.0</td>\n",
              "      <td>1.0</td>\n",
              "      <td>56.0</td>\n",
              "      <td>0</td>\n",
              "      <td>1</td>\n",
              "      <td>0</td>\n",
              "      <td>-1</td>\n",
              "      <td>1</td>\n",
              "      <td>21</td>\n",
              "      <td>1264</td>\n",
              "      <td>0</td>\n",
              "      <td>1</td>\n",
              "      <td>2</td>\n",
              "      <td>1</td>\n",
              "      <td>2</td>\n",
              "      <td>41.0</td>\n",
              "      <td>1</td>\n",
              "      <td>0.462206</td>\n",
              "      <td>0.592557</td>\n",
              "      <td>0.992058</td>\n",
              "    </tr>\n",
              "  </tbody>\n",
              "</table>\n",
              "</div>"
            ],
            "text/plain": [
              "   index           TOKEN  IS_ANSWER  ...  TOKEN_VECT  HEAD_VECT  SENT_VECT\n",
              "0   7682              он          5  ...    0.514413   0.575679   0.983559\n",
              "1  11469  обезболивающие          9  ...    0.590481   0.482550   0.979763\n",
              "2   5889        препарат          4  ...    0.534916   0.492989   0.989138\n",
              "3   9691       препараты          7  ...    0.457579   0.349272   0.972120\n",
              "4   6254       препарата          5  ...    0.462206   0.592557   0.992058\n",
              "\n",
              "[5 rows x 24 columns]"
            ]
          },
          "metadata": {
            "tags": []
          },
          "execution_count": 66
        }
      ]
    },
    {
      "cell_type": "code",
      "metadata": {
        "id": "4af_SNBkhigO"
      },
      "source": [
        "# test = test.iloc[:,:24].drop(['TOKEN', 'index'], axis=1)\n",
        "# test = test.drop(['TOKEN', 'index'], axis=1)"
      ],
      "execution_count": 67,
      "outputs": []
    },
    {
      "cell_type": "code",
      "metadata": {
        "id": "cBXo00kAS49b"
      },
      "source": [
        "# test.loc[test['NER'] != 0]"
      ],
      "execution_count": 68,
      "outputs": []
    },
    {
      "cell_type": "code",
      "metadata": {
        "id": "htGIdgGgPeL8"
      },
      "source": [
        "# ['TOPIC_NUM',\t'POST_NUM',\t'TOKEN_NUM',\t'GENDER',\t'PERSON', 'TOKEN', 'TOKEN_VECT', 'IS_ANSWER', 'SENT_NUM', 'HEAD_VECT', 'HEAD_CHILDS_VECT', \n",
        "#  'index', 'HEAD_ANIMACY',\t'HEAD_CASE',\t'HEAD_GENDER', 'ANIMACY',\t'CASE',\t'POS',\t'DEPENDENCY',\t'HEAD',\t'HEAD_POS']"
      ],
      "execution_count": 69,
      "outputs": []
    },
    {
      "cell_type": "code",
      "metadata": {
        "id": "FweGW5SOrkaH"
      },
      "source": [
        "# best set\n",
        "\n",
        "# X, y, X_test, y_test = train.drop(['TOKEN',  'HEAD_VECT', 'POST_NUM', 'IS_ANSWER', 'PERSON', 'HEAD_CHILDS_VECT', 'TOPIC_NUM', 'CASE', 'SENT_NUM', 'DEPENDENCY',  'index', 'HEAD_ANIMACY',\t'HEAD_CASE',\t'HEAD_GENDER', 'ANIMACY',\t\t\t\t'HEAD',\t'HEAD_POS'], axis=1).iloc[:,:18], \\\n",
        "# train.COREFERENCE_CLUSTER, test.drop(['TOKEN',  'HEAD_VECT', 'POST_NUM', 'IS_ANSWER', 'PERSON', 'HEAD_CHILDS_VECT', 'TOPIC_NUM', 'CASE', 'SENT_NUM', 'DEPENDENCY',    'index', 'HEAD_ANIMACY',\t'HEAD_CASE',\t'HEAD_GENDER', 'ANIMACY',\t\t\t'HEAD',\t'HEAD_POS'], axis=1).iloc[:,:18], test.COREFERENCE_CLUSTER"
      ],
      "execution_count": 70,
      "outputs": []
    },
    {
      "cell_type": "markdown",
      "metadata": {
        "id": "59_MptFSzbP9"
      },
      "source": [
        "Делаем наборы для обучения моделей."
      ]
    },
    {
      "cell_type": "code",
      "metadata": {
        "id": "Gz0Kri_pTC1s"
      },
      "source": [
        "X, y, X_test, y_test = train.drop(['TOKEN','GENDER','NUMBER', 'POS', 'HEAD_VECT', 'POST_NUM', 'IS_ANSWER', 'PERSON', 'TOPIC_NUM', 'CASE', 'SENT_NUM', 'DEPENDENCY',  'index', 'HEAD_ANIMACY',\t'HEAD_CASE',\t'HEAD_GENDER', 'ANIMACY',\t'HEAD',\t'HEAD_POS'], axis=1).iloc[:,:18], \\\n",
        "train.COREFERENCE_CLUSTER, test.drop(['TOKEN','GENDER', 'NUMBER', 'POS', 'HEAD_VECT', 'POST_NUM', 'IS_ANSWER', 'PERSON', 'TOPIC_NUM', 'CASE', 'SENT_NUM', 'DEPENDENCY',    'index', 'HEAD_ANIMACY',\t'HEAD_CASE',\t'HEAD_GENDER', 'ANIMACY',\t'HEAD',\t'HEAD_POS'], axis=1).iloc[:,:18], test.COREFERENCE_CLUSTER"
      ],
      "execution_count": 71,
      "outputs": []
    },
    {
      "cell_type": "code",
      "metadata": {
        "id": "-omX42NNMv52"
      },
      "source": [
        "# X, y, X_test, y_test = train.drop(['TOKEN', 'index'], axis=1).iloc[:,:24], train.COREFERENCE_CLUSTER, test.drop(['TOKEN', 'index'], axis=1).iloc[:,:24], test.COREFERENCE_CLUSTER"
      ],
      "execution_count": 72,
      "outputs": []
    },
    {
      "cell_type": "code",
      "metadata": {
        "id": "2x9H9mrBGOyH"
      },
      "source": [
        "X.NER = [float(i) for i in X.NER]\n",
        "X_test.NER = [float(i) for i in X_test.NER]\n"
      ],
      "execution_count": 73,
      "outputs": []
    },
    {
      "cell_type": "code",
      "metadata": {
        "colab": {
          "base_uri": "https://localhost:8080/"
        },
        "id": "gV3OdD0OUKeU",
        "outputId": "96913ddd-b3d1-4c7b-8888-706bed82c169"
      },
      "source": [
        "y"
      ],
      "execution_count": 74,
      "outputs": [
        {
          "output_type": "execute_result",
          "data": {
            "text/plain": [
              "0      2058.0\n",
              "1       449.0\n",
              "2         0.0\n",
              "3       658.0\n",
              "4         0.0\n",
              "        ...  \n",
              "257       0.0\n",
              "258     564.0\n",
              "259      58.0\n",
              "260     135.0\n",
              "261     806.0\n",
              "Name: COREFERENCE_CLUSTER, Length: 262, dtype: float64"
            ]
          },
          "metadata": {
            "tags": []
          },
          "execution_count": 74
        }
      ]
    },
    {
      "cell_type": "markdown",
      "metadata": {
        "id": "5tK813duz_3P"
      },
      "source": [
        "Обучаем модели."
      ]
    },
    {
      "cell_type": "code",
      "metadata": {
        "colab": {
          "base_uri": "https://localhost:8080/"
        },
        "id": "lpdNSWV0fl47",
        "outputId": "2b3c2834-176e-4d55-86f5-642b6288a4c6"
      },
      "source": [
        "clf = tree.DecisionTreeClassifier(max_depth=2000, )\n",
        "clf.fit(X, y)\n",
        "clf.score(X_test, y_test)"
      ],
      "execution_count": 75,
      "outputs": [
        {
          "output_type": "execute_result",
          "data": {
            "text/plain": [
              "0.7272727272727273"
            ]
          },
          "metadata": {
            "tags": []
          },
          "execution_count": 75
        }
      ]
    },
    {
      "cell_type": "code",
      "metadata": {
        "id": "7EOq1DxzyAiQ",
        "colab": {
          "base_uri": "https://localhost:8080/"
        },
        "outputId": "d3e145cb-9f21-4030-b987-f68be0261765"
      },
      "source": [
        "clf_entropy = tree.DecisionTreeClassifier(criterion='entropy', max_depth=2000)\n",
        "clf_entropy.fit(X, y)\n",
        "clf_entropy.score(X_test, y_test)"
      ],
      "execution_count": 76,
      "outputs": [
        {
          "output_type": "execute_result",
          "data": {
            "text/plain": [
              "0.6666666666666666"
            ]
          },
          "metadata": {
            "tags": []
          },
          "execution_count": 76
        }
      ]
    },
    {
      "cell_type": "code",
      "metadata": {
        "colab": {
          "base_uri": "https://localhost:8080/"
        },
        "id": "795Z0wfKBMRp",
        "outputId": "91a1a991-8f38-46b4-feef-4da01de8d57e"
      },
      "source": [
        "randf_clf = RandomForestClassifier(max_depth=3000, n_estimators=600, bootstrap=True, )\n",
        "randf_clf.fit(X, y)\n",
        "randf_clf.score(X_test, y_test)"
      ],
      "execution_count": 77,
      "outputs": [
        {
          "output_type": "execute_result",
          "data": {
            "text/plain": [
              "0.6818181818181818"
            ]
          },
          "metadata": {
            "tags": []
          },
          "execution_count": 77
        }
      ]
    },
    {
      "cell_type": "code",
      "metadata": {
        "colab": {
          "base_uri": "https://localhost:8080/"
        },
        "id": "h8j0eFJPEDCI",
        "outputId": "3a1d0867-77dc-49b8-bddd-4d700c5a0cba"
      },
      "source": [
        "regr = linear_model.LinearRegression()\n",
        "regr.fit(X, y)\n",
        "regr.score(X_test, y_test)\n"
      ],
      "execution_count": 78,
      "outputs": [
        {
          "output_type": "execute_result",
          "data": {
            "text/plain": [
              "1.0"
            ]
          },
          "metadata": {
            "tags": []
          },
          "execution_count": 78
        }
      ]
    },
    {
      "cell_type": "code",
      "metadata": {
        "colab": {
          "base_uri": "https://localhost:8080/"
        },
        "id": "o5Ol9LJQB-Z5",
        "outputId": "4a4b8e04-d701-478d-928e-6bcdffdb1314"
      },
      "source": [
        "svm_clf = svm.SVC(decision_function_shape='ovo', cache_size=500)\n",
        "svm_clf.fit(X, y)\n",
        "svm_clf.score(X_test, y_test)"
      ],
      "execution_count": 79,
      "outputs": [
        {
          "output_type": "execute_result",
          "data": {
            "text/plain": [
              "0.3787878787878788"
            ]
          },
          "metadata": {
            "tags": []
          },
          "execution_count": 79
        }
      ]
    },
    {
      "cell_type": "code",
      "metadata": {
        "colab": {
          "base_uri": "https://localhost:8080/"
        },
        "id": "v-Ib98jycNOB",
        "outputId": "c50d4566-3ee8-40a9-96e7-9d54919c62b2"
      },
      "source": [
        "\n",
        "knn_clf = KNeighborsClassifier(n_neighbors=10, weights='distance',algorithm='ball_tree',leaf_size=5, metric='minkowski', p=1).fit(X, y)\n",
        "knn_clf.score(X_test, y_test)"
      ],
      "execution_count": 80,
      "outputs": [
        {
          "output_type": "execute_result",
          "data": {
            "text/plain": [
              "0.696969696969697"
            ]
          },
          "metadata": {
            "tags": []
          },
          "execution_count": 80
        }
      ]
    },
    {
      "cell_type": "code",
      "metadata": {
        "id": "4T66NsKoc_IP"
      },
      "source": [
        "# from sklearn.naive_bayes import MultinomialNB\n",
        "# naive_clf = MultinomialNB().fit(X, y)\n"
      ],
      "execution_count": 81,
      "outputs": []
    },
    {
      "cell_type": "markdown",
      "metadata": {
        "id": "wBG278Rc0_XD"
      },
      "source": [
        "# **ОЦЕНКА МОДЕЛЕЙ**"
      ]
    },
    {
      "cell_type": "code",
      "metadata": {
        "id": "26QqspXcYIU3"
      },
      "source": [
        ""
      ],
      "execution_count": 81,
      "outputs": []
    },
    {
      "cell_type": "code",
      "metadata": {
        "id": "FSTKYAktXiS9"
      },
      "source": [
        "def my_eval(X_predicted, y):\n",
        "  \n",
        "  tp = []\n",
        "  fp = []\n",
        "  tn = []\n",
        "  fn = []\n",
        "\n",
        "  for i in range(len(X_predicted)):\n",
        "    if X_predicted[i] != 0.0:\n",
        "      if X_predicted[i] == y_test[i]:\n",
        "        tp.append(i)\n",
        "      else:\n",
        "        fp.append(i)\n",
        "    # берем только те синглтоны, которые относятся к номинативным или прономинальным группам.\n",
        "    elif X_predicted[i] == 0.0 and test.iloc[:,22:23].iloc[[i]].values[0][0] in (2.0, 3.0):\n",
        "      if X_predicted[i] == y_test[i]:\n",
        "        tn.append(i)\n",
        "      else:\n",
        "        fn.append(i)\n",
        "  try:\n",
        "    P = len(tp)/(len(tp) + len(fp))\n",
        "  except ZeroDivisionError:\n",
        "    P = 0\n",
        "  try:\n",
        "    R = len(tp)/(len(tp) + len(fn))\n",
        "  except ZeroDivisionError:\n",
        "    R = 0\n",
        "  try:\n",
        "    F = 2*P*R/(P+R)\n",
        "  except ZeroDivisionError:\n",
        "    F = 0\n",
        "\n",
        "  print(len(tp), ' true positive')\n",
        "  print(len(fp), ' false positive')\n",
        "  print(len(tn), ' true negative')\n",
        "  print(len(fn), ' false negative')\n",
        "  print('---------')\n",
        "  print(P,' presicion')\n",
        "  print(R, ' recall')\n",
        "  print(F, ' f-score')\n",
        "\n"
      ],
      "execution_count": 82,
      "outputs": []
    },
    {
      "cell_type": "code",
      "metadata": {
        "id": "q0ss_ZBr73-y"
      },
      "source": [
        "pred = clf.predict(X_test)\n",
        "pred_randf = randf_clf.predict(X_test)\n",
        "pred_entropy = clf_entropy.predict(X_test)\n",
        "pred_regr = regr.predict(X_test)\n",
        "pred_svm = svm_clf.predict(X_test)\n",
        "pred_knn = knn_clf.predict(X_test)\n",
        "# naive_pred = naive_clf.predict(X_test)"
      ],
      "execution_count": 83,
      "outputs": []
    },
    {
      "cell_type": "code",
      "metadata": {
        "id": "SI2hsUJbdK4Q"
      },
      "source": [
        "# my_eval(list(naive_pred), list(y_test))"
      ],
      "execution_count": 84,
      "outputs": []
    },
    {
      "cell_type": "code",
      "metadata": {
        "colab": {
          "base_uri": "https://localhost:8080/"
        },
        "id": "iJeUENfIcdNY",
        "outputId": "0d5edcaf-f683-4f39-c5b0-89c0db55a4e6"
      },
      "source": [
        "my_eval(list(pred_knn), list(y_test))"
      ],
      "execution_count": 85,
      "outputs": [
        {
          "output_type": "stream",
          "text": [
            "25  true positive\n",
            "18  false positive\n",
            "0  true negative\n",
            "0  false negative\n",
            "---------\n",
            "0.5813953488372093  presicion\n",
            "1.0  recall\n",
            "0.7352941176470588  f-score\n"
          ],
          "name": "stdout"
        }
      ]
    },
    {
      "cell_type": "code",
      "metadata": {
        "colab": {
          "base_uri": "https://localhost:8080/"
        },
        "id": "dVEiXSg9DF3Z",
        "outputId": "bc975910-7db2-487d-808c-51d63c0f7777"
      },
      "source": [
        "my_eval(list(pred_entropy), list(y_test))"
      ],
      "execution_count": 86,
      "outputs": [
        {
          "output_type": "stream",
          "text": [
            "22  true positive\n",
            "22  false positive\n",
            "0  true negative\n",
            "0  false negative\n",
            "---------\n",
            "0.5  presicion\n",
            "1.0  recall\n",
            "0.6666666666666666  f-score\n"
          ],
          "name": "stdout"
        }
      ]
    },
    {
      "cell_type": "code",
      "metadata": {
        "id": "ZUoq9gZXyout",
        "colab": {
          "base_uri": "https://localhost:8080/"
        },
        "outputId": "70ec4ee6-1c18-49e1-8d43-03826edcd10f"
      },
      "source": [
        "my_eval(list(pred), list(y_test))"
      ],
      "execution_count": 87,
      "outputs": [
        {
          "output_type": "stream",
          "text": [
            "26  true positive\n",
            "18  false positive\n",
            "0  true negative\n",
            "0  false negative\n",
            "---------\n",
            "0.5909090909090909  presicion\n",
            "1.0  recall\n",
            "0.7428571428571429  f-score\n"
          ],
          "name": "stdout"
        }
      ]
    },
    {
      "cell_type": "code",
      "metadata": {
        "colab": {
          "base_uri": "https://localhost:8080/"
        },
        "id": "Zg4pmJBnDFtw",
        "outputId": "677ac9cb-ccd2-4508-dbb6-15438a13079d"
      },
      "source": [
        "my_eval(list(pred_randf), list(y_test))"
      ],
      "execution_count": 88,
      "outputs": [
        {
          "output_type": "stream",
          "text": [
            "23  true positive\n",
            "21  false positive\n",
            "0  true negative\n",
            "0  false negative\n",
            "---------\n",
            "0.5227272727272727  presicion\n",
            "1.0  recall\n",
            "0.6865671641791045  f-score\n"
          ],
          "name": "stdout"
        }
      ]
    },
    {
      "cell_type": "code",
      "metadata": {
        "colab": {
          "base_uri": "https://localhost:8080/"
        },
        "id": "aGTYbbgLEQxy",
        "outputId": "c23f07bc-a622-4e60-8dac-479ee0d3d568"
      },
      "source": [
        "my_eval(list(pred_regr), list(y_test))"
      ],
      "execution_count": 89,
      "outputs": [
        {
          "output_type": "stream",
          "text": [
            "7  true positive\n",
            "59  false positive\n",
            "0  true negative\n",
            "0  false negative\n",
            "---------\n",
            "0.10606060606060606  presicion\n",
            "1.0  recall\n",
            "0.19178082191780824  f-score\n"
          ],
          "name": "stdout"
        }
      ]
    },
    {
      "cell_type": "code",
      "metadata": {
        "colab": {
          "base_uri": "https://localhost:8080/"
        },
        "id": "g7isaHkricHw",
        "outputId": "756a36c6-c049-423c-ebfd-6f3f2950c3f6"
      },
      "source": [
        "my_eval(list(pred_svm), list(y_test))"
      ],
      "execution_count": 90,
      "outputs": [
        {
          "output_type": "stream",
          "text": [
            "3  true positive\n",
            "18  false positive\n",
            "0  true negative\n",
            "0  false negative\n",
            "---------\n",
            "0.14285714285714285  presicion\n",
            "1.0  recall\n",
            "0.25  f-score\n"
          ],
          "name": "stdout"
        }
      ]
    },
    {
      "cell_type": "code",
      "metadata": {
        "id": "lsoMYdF2CswH"
      },
      "source": [
        "# df['TOPIC_NUM'] == 1\n",
        "# df.loc[df['TOPIC_NUM'] == 1]"
      ],
      "execution_count": 102,
      "outputs": []
    },
    {
      "cell_type": "code",
      "metadata": {
        "colab": {
          "base_uri": "https://localhost:8080/",
          "height": 407
        },
        "id": "yK7cNeUq-PQq",
        "outputId": "1b7eb237-7c8a-49b6-be41-02f57db91cda"
      },
      "source": [
        "df.drop(['TOKEN','GENDER','NUMBER', 'POS', 'HEAD_VECT', 'POST_NUM', 'IS_ANSWER', 'PERSON', \\\n",
        "         'TOPIC_NUM', 'CASE', 'SENT_NUM', 'DEPENDENCY',  'HEAD_ANIMACY',\t'HEAD_CASE',\t\\\n",
        "         'HEAD_GENDER', 'ANIMACY',\t'HEAD',\t'HEAD_POS'], axis=1).iloc[:,:18]"
      ],
      "execution_count": 167,
      "outputs": [
        {
          "output_type": "execute_result",
          "data": {
            "text/html": [
              "<div>\n",
              "<style scoped>\n",
              "    .dataframe tbody tr th:only-of-type {\n",
              "        vertical-align: middle;\n",
              "    }\n",
              "\n",
              "    .dataframe tbody tr th {\n",
              "        vertical-align: top;\n",
              "    }\n",
              "\n",
              "    .dataframe thead th {\n",
              "        text-align: right;\n",
              "    }\n",
              "</style>\n",
              "<table border=\"1\" class=\"dataframe\">\n",
              "  <thead>\n",
              "    <tr style=\"text-align: right;\">\n",
              "      <th></th>\n",
              "      <th>TOKEN_NUM</th>\n",
              "      <th>NER</th>\n",
              "      <th>COREFERENCE_CLUSTER</th>\n",
              "      <th>TOKEN_VECT</th>\n",
              "      <th>SENT_VECT</th>\n",
              "    </tr>\n",
              "  </thead>\n",
              "  <tbody>\n",
              "    <tr>\n",
              "      <th>0</th>\n",
              "      <td>0.0</td>\n",
              "      <td>0</td>\n",
              "      <td>0.0</td>\n",
              "      <td>0.478800</td>\n",
              "      <td>0.914983</td>\n",
              "    </tr>\n",
              "    <tr>\n",
              "      <th>1</th>\n",
              "      <td>1.0</td>\n",
              "      <td>0</td>\n",
              "      <td>0.0</td>\n",
              "      <td>0.534916</td>\n",
              "      <td>0.914983</td>\n",
              "    </tr>\n",
              "    <tr>\n",
              "      <th>2</th>\n",
              "      <td>2.0</td>\n",
              "      <td>1</td>\n",
              "      <td>2.0</td>\n",
              "      <td>0.799821</td>\n",
              "      <td>0.914983</td>\n",
              "    </tr>\n",
              "    <tr>\n",
              "      <th>3</th>\n",
              "      <td>3.0</td>\n",
              "      <td>1</td>\n",
              "      <td>3.0</td>\n",
              "      <td>0.813941</td>\n",
              "      <td>0.914983</td>\n",
              "    </tr>\n",
              "    <tr>\n",
              "      <th>4</th>\n",
              "      <td>4.0</td>\n",
              "      <td>1</td>\n",
              "      <td>4.0</td>\n",
              "      <td>0.730241</td>\n",
              "      <td>0.914983</td>\n",
              "    </tr>\n",
              "    <tr>\n",
              "      <th>...</th>\n",
              "      <td>...</td>\n",
              "      <td>...</td>\n",
              "      <td>...</td>\n",
              "      <td>...</td>\n",
              "      <td>...</td>\n",
              "    </tr>\n",
              "    <tr>\n",
              "      <th>14995</th>\n",
              "      <td>61.0</td>\n",
              "      <td>0</td>\n",
              "      <td>0.0</td>\n",
              "      <td>0.397897</td>\n",
              "      <td>0.981547</td>\n",
              "    </tr>\n",
              "    <tr>\n",
              "      <th>14996</th>\n",
              "      <td>62.0</td>\n",
              "      <td>0</td>\n",
              "      <td>0.0</td>\n",
              "      <td>0.506270</td>\n",
              "      <td>0.981547</td>\n",
              "    </tr>\n",
              "    <tr>\n",
              "      <th>14997</th>\n",
              "      <td>63.0</td>\n",
              "      <td>0</td>\n",
              "      <td>0.0</td>\n",
              "      <td>0.511537</td>\n",
              "      <td>0.981547</td>\n",
              "    </tr>\n",
              "    <tr>\n",
              "      <th>14998</th>\n",
              "      <td>64.0</td>\n",
              "      <td>0</td>\n",
              "      <td>0.0</td>\n",
              "      <td>0.444679</td>\n",
              "      <td>0.981547</td>\n",
              "    </tr>\n",
              "    <tr>\n",
              "      <th>14999</th>\n",
              "      <td>65.0</td>\n",
              "      <td>0</td>\n",
              "      <td>0.0</td>\n",
              "      <td>0.495021</td>\n",
              "      <td>0.979486</td>\n",
              "    </tr>\n",
              "  </tbody>\n",
              "</table>\n",
              "<p>15000 rows × 5 columns</p>\n",
              "</div>"
            ],
            "text/plain": [
              "       TOKEN_NUM  NER  COREFERENCE_CLUSTER  TOKEN_VECT  SENT_VECT\n",
              "0            0.0    0                  0.0    0.478800   0.914983\n",
              "1            1.0    0                  0.0    0.534916   0.914983\n",
              "2            2.0    1                  2.0    0.799821   0.914983\n",
              "3            3.0    1                  3.0    0.813941   0.914983\n",
              "4            4.0    1                  4.0    0.730241   0.914983\n",
              "...          ...  ...                  ...         ...        ...\n",
              "14995       61.0    0                  0.0    0.397897   0.981547\n",
              "14996       62.0    0                  0.0    0.506270   0.981547\n",
              "14997       63.0    0                  0.0    0.511537   0.981547\n",
              "14998       64.0    0                  0.0    0.444679   0.981547\n",
              "14999       65.0    0                  0.0    0.495021   0.979486\n",
              "\n",
              "[15000 rows x 5 columns]"
            ]
          },
          "metadata": {
            "tags": []
          },
          "execution_count": 167
        }
      ]
    },
    {
      "cell_type": "code",
      "metadata": {
        "colab": {
          "base_uri": "https://localhost:8080/"
        },
        "id": "KzvMMHqC_NZd",
        "outputId": "a1b52b98-43d3-4a84-98e5-7392bc9e7fb3"
      },
      "source": [
        "list(df.values[1])[2:6] + list(df.values[1])[17:18] + list(df.values[1])[19:23]"
      ],
      "execution_count": 179,
      "outputs": [
        {
          "output_type": "execute_result",
          "data": {
            "text/plain": [
              "[1,\n",
              " 0.0,\n",
              " 0.0,\n",
              " 1.0,\n",
              " 0,\n",
              " 1,\n",
              " 0.5349155068397522,\n",
              " 0.5137307047843933,\n",
              " 0.9149831533432007]"
            ]
          },
          "metadata": {
            "tags": []
          },
          "execution_count": 179
        }
      ]
    },
    {
      "cell_type": "code",
      "metadata": {
        "colab": {
          "base_uri": "https://localhost:8080/",
          "height": 427
        },
        "id": "1d3czPw9-0Tt",
        "outputId": "9e151763-f7f4-4a89-89e9-47b63cd32424"
      },
      "source": [
        "df.loc[(df['COREFERENCE_CLUSTER'] != 0) & (df['NER'] > 1)]"
      ],
      "execution_count": 225,
      "outputs": [
        {
          "output_type": "execute_result",
          "data": {
            "text/html": [
              "<div>\n",
              "<style scoped>\n",
              "    .dataframe tbody tr th:only-of-type {\n",
              "        vertical-align: middle;\n",
              "    }\n",
              "\n",
              "    .dataframe tbody tr th {\n",
              "        vertical-align: top;\n",
              "    }\n",
              "\n",
              "    .dataframe thead th {\n",
              "        text-align: right;\n",
              "    }\n",
              "</style>\n",
              "<table border=\"1\" class=\"dataframe\">\n",
              "  <thead>\n",
              "    <tr style=\"text-align: right;\">\n",
              "      <th></th>\n",
              "      <th>TOKEN</th>\n",
              "      <th>IS_ANSWER</th>\n",
              "      <th>TOPIC_NUM</th>\n",
              "      <th>POST_NUM</th>\n",
              "      <th>SENT_NUM</th>\n",
              "      <th>TOKEN_NUM</th>\n",
              "      <th>ANIMACY</th>\n",
              "      <th>CASE</th>\n",
              "      <th>GENDER</th>\n",
              "      <th>PERSON</th>\n",
              "      <th>POS</th>\n",
              "      <th>DEPENDENCY</th>\n",
              "      <th>HEAD</th>\n",
              "      <th>HEAD_ANIMACY</th>\n",
              "      <th>HEAD_CASE</th>\n",
              "      <th>HEAD_GENDER</th>\n",
              "      <th>HEAD_POS</th>\n",
              "      <th>NER</th>\n",
              "      <th>COREFERENCE_CLUSTER</th>\n",
              "      <th>NUMBER</th>\n",
              "      <th>TOKEN_VECT</th>\n",
              "      <th>HEAD_VECT</th>\n",
              "      <th>SENT_VECT</th>\n",
              "    </tr>\n",
              "  </thead>\n",
              "  <tbody>\n",
              "    <tr>\n",
              "      <th>366</th>\n",
              "      <td>препарата</td>\n",
              "      <td>1</td>\n",
              "      <td>1</td>\n",
              "      <td>2.0</td>\n",
              "      <td>5.0</td>\n",
              "      <td>366.0</td>\n",
              "      <td>0</td>\n",
              "      <td>1</td>\n",
              "      <td>0</td>\n",
              "      <td>-1</td>\n",
              "      <td>1</td>\n",
              "      <td>21</td>\n",
              "      <td>154</td>\n",
              "      <td>0</td>\n",
              "      <td>1</td>\n",
              "      <td>1</td>\n",
              "      <td>1</td>\n",
              "      <td>2</td>\n",
              "      <td>344.0</td>\n",
              "      <td>1</td>\n",
              "      <td>0.462206</td>\n",
              "      <td>0.440209</td>\n",
              "      <td>0.943423</td>\n",
              "    </tr>\n",
              "    <tr>\n",
              "      <th>421</th>\n",
              "      <td>препарат</td>\n",
              "      <td>1</td>\n",
              "      <td>1</td>\n",
              "      <td>5.0</td>\n",
              "      <td>0.0</td>\n",
              "      <td>421.0</td>\n",
              "      <td>0</td>\n",
              "      <td>0</td>\n",
              "      <td>0</td>\n",
              "      <td>-1</td>\n",
              "      <td>1</td>\n",
              "      <td>0</td>\n",
              "      <td>1</td>\n",
              "      <td>0</td>\n",
              "      <td>0</td>\n",
              "      <td>0</td>\n",
              "      <td>1</td>\n",
              "      <td>2</td>\n",
              "      <td>2.0</td>\n",
              "      <td>1</td>\n",
              "      <td>0.534916</td>\n",
              "      <td>0.881828</td>\n",
              "      <td>0.943423</td>\n",
              "    </tr>\n",
              "    <tr>\n",
              "      <th>429</th>\n",
              "      <td>препарат</td>\n",
              "      <td>1</td>\n",
              "      <td>1</td>\n",
              "      <td>6.0</td>\n",
              "      <td>0.0</td>\n",
              "      <td>429.0</td>\n",
              "      <td>0</td>\n",
              "      <td>0</td>\n",
              "      <td>0</td>\n",
              "      <td>-1</td>\n",
              "      <td>1</td>\n",
              "      <td>12</td>\n",
              "      <td>179</td>\n",
              "      <td>-1</td>\n",
              "      <td>-1</td>\n",
              "      <td>-1</td>\n",
              "      <td>0</td>\n",
              "      <td>2</td>\n",
              "      <td>2.0</td>\n",
              "      <td>1</td>\n",
              "      <td>0.534916</td>\n",
              "      <td>0.529394</td>\n",
              "      <td>0.943423</td>\n",
              "    </tr>\n",
              "    <tr>\n",
              "      <th>446</th>\n",
              "      <td>последнему</td>\n",
              "      <td>1</td>\n",
              "      <td>1</td>\n",
              "      <td>6.0</td>\n",
              "      <td>2.0</td>\n",
              "      <td>446.0</td>\n",
              "      <td>-1</td>\n",
              "      <td>2</td>\n",
              "      <td>0</td>\n",
              "      <td>-1</td>\n",
              "      <td>10</td>\n",
              "      <td>7</td>\n",
              "      <td>184</td>\n",
              "      <td>-1</td>\n",
              "      <td>-1</td>\n",
              "      <td>-1</td>\n",
              "      <td>0</td>\n",
              "      <td>2</td>\n",
              "      <td>442.0</td>\n",
              "      <td>1</td>\n",
              "      <td>0.554641</td>\n",
              "      <td>0.509320</td>\n",
              "      <td>0.943423</td>\n",
              "    </tr>\n",
              "    <tr>\n",
              "      <th>454</th>\n",
              "      <td>препарат</td>\n",
              "      <td>1</td>\n",
              "      <td>1</td>\n",
              "      <td>7.0</td>\n",
              "      <td>0.0</td>\n",
              "      <td>454.0</td>\n",
              "      <td>0</td>\n",
              "      <td>0</td>\n",
              "      <td>0</td>\n",
              "      <td>-1</td>\n",
              "      <td>1</td>\n",
              "      <td>12</td>\n",
              "      <td>189</td>\n",
              "      <td>-1</td>\n",
              "      <td>-1</td>\n",
              "      <td>-1</td>\n",
              "      <td>0</td>\n",
              "      <td>2</td>\n",
              "      <td>2.0</td>\n",
              "      <td>1</td>\n",
              "      <td>0.534916</td>\n",
              "      <td>0.488707</td>\n",
              "      <td>0.981541</td>\n",
              "    </tr>\n",
              "    <tr>\n",
              "      <th>...</th>\n",
              "      <td>...</td>\n",
              "      <td>...</td>\n",
              "      <td>...</td>\n",
              "      <td>...</td>\n",
              "      <td>...</td>\n",
              "      <td>...</td>\n",
              "      <td>...</td>\n",
              "      <td>...</td>\n",
              "      <td>...</td>\n",
              "      <td>...</td>\n",
              "      <td>...</td>\n",
              "      <td>...</td>\n",
              "      <td>...</td>\n",
              "      <td>...</td>\n",
              "      <td>...</td>\n",
              "      <td>...</td>\n",
              "      <td>...</td>\n",
              "      <td>...</td>\n",
              "      <td>...</td>\n",
              "      <td>...</td>\n",
              "      <td>...</td>\n",
              "      <td>...</td>\n",
              "      <td>...</td>\n",
              "    </tr>\n",
              "    <tr>\n",
              "      <th>14427</th>\n",
              "      <td>него</td>\n",
              "      <td>15</td>\n",
              "      <td>15</td>\n",
              "      <td>14.0</td>\n",
              "      <td>2.0</td>\n",
              "      <td>1835.0</td>\n",
              "      <td>-1</td>\n",
              "      <td>1</td>\n",
              "      <td>0</td>\n",
              "      <td>1</td>\n",
              "      <td>5</td>\n",
              "      <td>10</td>\n",
              "      <td>195</td>\n",
              "      <td>-1</td>\n",
              "      <td>-1</td>\n",
              "      <td>-1</td>\n",
              "      <td>9</td>\n",
              "      <td>3</td>\n",
              "      <td>1827.0</td>\n",
              "      <td>1</td>\n",
              "      <td>0.501803</td>\n",
              "      <td>0.571326</td>\n",
              "      <td>0.926079</td>\n",
              "    </tr>\n",
              "    <tr>\n",
              "      <th>14440</th>\n",
              "      <td>его</td>\n",
              "      <td>15</td>\n",
              "      <td>15</td>\n",
              "      <td>14.0</td>\n",
              "      <td>2.0</td>\n",
              "      <td>1848.0</td>\n",
              "      <td>-1</td>\n",
              "      <td>3</td>\n",
              "      <td>0</td>\n",
              "      <td>1</td>\n",
              "      <td>5</td>\n",
              "      <td>1</td>\n",
              "      <td>1175</td>\n",
              "      <td>-1</td>\n",
              "      <td>-1</td>\n",
              "      <td>-1</td>\n",
              "      <td>0</td>\n",
              "      <td>3</td>\n",
              "      <td>1827.0</td>\n",
              "      <td>1</td>\n",
              "      <td>0.480690</td>\n",
              "      <td>0.509213</td>\n",
              "      <td>0.926079</td>\n",
              "    </tr>\n",
              "    <tr>\n",
              "      <th>14478</th>\n",
              "      <td>него</td>\n",
              "      <td>15</td>\n",
              "      <td>15</td>\n",
              "      <td>14.0</td>\n",
              "      <td>6.0</td>\n",
              "      <td>1886.0</td>\n",
              "      <td>-1</td>\n",
              "      <td>1</td>\n",
              "      <td>0</td>\n",
              "      <td>1</td>\n",
              "      <td>5</td>\n",
              "      <td>21</td>\n",
              "      <td>2453</td>\n",
              "      <td>-1</td>\n",
              "      <td>-1</td>\n",
              "      <td>-1</td>\n",
              "      <td>15</td>\n",
              "      <td>3</td>\n",
              "      <td>1867.0</td>\n",
              "      <td>1</td>\n",
              "      <td>0.501803</td>\n",
              "      <td>0.491467</td>\n",
              "      <td>0.926079</td>\n",
              "    </tr>\n",
              "    <tr>\n",
              "      <th>14733</th>\n",
              "      <td>него</td>\n",
              "      <td>15</td>\n",
              "      <td>15</td>\n",
              "      <td>17.0</td>\n",
              "      <td>8.0</td>\n",
              "      <td>2141.0</td>\n",
              "      <td>-1</td>\n",
              "      <td>1</td>\n",
              "      <td>0</td>\n",
              "      <td>1</td>\n",
              "      <td>5</td>\n",
              "      <td>10</td>\n",
              "      <td>2278</td>\n",
              "      <td>-1</td>\n",
              "      <td>-1</td>\n",
              "      <td>1</td>\n",
              "      <td>0</td>\n",
              "      <td>3</td>\n",
              "      <td>2138.0</td>\n",
              "      <td>1</td>\n",
              "      <td>0.501803</td>\n",
              "      <td>0.574542</td>\n",
              "      <td>0.985836</td>\n",
              "    </tr>\n",
              "    <tr>\n",
              "      <th>14906</th>\n",
              "      <td>него</td>\n",
              "      <td>15</td>\n",
              "      <td>15</td>\n",
              "      <td>19.0</td>\n",
              "      <td>3.0</td>\n",
              "      <td>2314.0</td>\n",
              "      <td>-1</td>\n",
              "      <td>1</td>\n",
              "      <td>0</td>\n",
              "      <td>1</td>\n",
              "      <td>5</td>\n",
              "      <td>21</td>\n",
              "      <td>2453</td>\n",
              "      <td>-1</td>\n",
              "      <td>-1</td>\n",
              "      <td>-1</td>\n",
              "      <td>15</td>\n",
              "      <td>3</td>\n",
              "      <td>2295.0</td>\n",
              "      <td>1</td>\n",
              "      <td>0.501803</td>\n",
              "      <td>0.491467</td>\n",
              "      <td>0.981547</td>\n",
              "    </tr>\n",
              "  </tbody>\n",
              "</table>\n",
              "<p>213 rows × 23 columns</p>\n",
              "</div>"
            ],
            "text/plain": [
              "            TOKEN  IS_ANSWER  TOPIC_NUM  ...  TOKEN_VECT  HEAD_VECT  SENT_VECT\n",
              "366     препарата          1          1  ...    0.462206   0.440209   0.943423\n",
              "421      препарат          1          1  ...    0.534916   0.881828   0.943423\n",
              "429      препарат          1          1  ...    0.534916   0.529394   0.943423\n",
              "446    последнему          1          1  ...    0.554641   0.509320   0.943423\n",
              "454      препарат          1          1  ...    0.534916   0.488707   0.981541\n",
              "...           ...        ...        ...  ...         ...        ...        ...\n",
              "14427        него         15         15  ...    0.501803   0.571326   0.926079\n",
              "14440         его         15         15  ...    0.480690   0.509213   0.926079\n",
              "14478        него         15         15  ...    0.501803   0.491467   0.926079\n",
              "14733        него         15         15  ...    0.501803   0.574542   0.985836\n",
              "14906        него         15         15  ...    0.501803   0.491467   0.981547\n",
              "\n",
              "[213 rows x 23 columns]"
            ]
          },
          "metadata": {
            "tags": []
          },
          "execution_count": 225
        }
      ]
    },
    {
      "cell_type": "markdown",
      "metadata": {
        "id": "GbbH96pVOsrR"
      },
      "source": [
        "# **ПОПАРНЫЙ МЕТОД**"
      ]
    },
    {
      "cell_type": "code",
      "metadata": {
        "colab": {
          "base_uri": "https://localhost:8080/"
        },
        "id": "DdxzQC_INIYX",
        "outputId": "c681d3b9-3fad-42b9-98de-7ff5d4953000"
      },
      "source": [
        "topics = list(set(df.TOPIC_NUM.values))\n",
        "topics\n",
        "\n",
        "\n",
        "pair_anaphors = []\n",
        "pair_antecedents = []\n",
        "relation_list = []\n",
        "counter = 0\n",
        "\n",
        "for topic_num in topics:\n",
        "\n",
        "  all_anaphors = df.loc[(df['TOPIC_NUM'] == topic_num) & (df['NER'] > 1)]\n",
        "\n",
        "  all_antecedents = df.loc[(df['TOPIC_NUM'] == topic_num) & (df['NER'] == 1)]\n",
        "\n",
        "  for anaphor in all_anaphors.values:\n",
        "    # чтобы примеры влезли в память, и модель не переобучилась на антипримерах,\n",
        "    # возьмем один положительный и два отрицательных класса для каждого анафора\n",
        "    counter = 0\n",
        "    for antecedent in all_antecedents.values:\n",
        "      is_relation = 0\n",
        "\n",
        "      # print(anaphor[-5], antecedent[5])\n",
        "      if anaphor[-5] == antecedent[5]:\n",
        "        is_relation = 1\n",
        "        # такие срезы, чтобы убрать лишние данные, и в том числе разметку с ответами\n",
        "        pair_anaphors.append(list(anaphor)[2:6] + list(anaphor)[17:18]\\\n",
        "                             + list(anaphor)[19:23])\n",
        "        \n",
        "        pair_antecedents.append(list(antecedent)[2:6] + list(antecedent)[17:18]\\\n",
        "                             + list(antecedent)[19:23])\n",
        "        \n",
        "        relation_list.append(is_relation)\n",
        "      else:\n",
        "        if counter < 3:\n",
        "\n",
        "          pair_anaphors.append(list(anaphor)[2:6] + list(anaphor)[17:18]\\\n",
        "                              + list(anaphor)[19:23])\n",
        "          \n",
        "          pair_antecedents.append(list(antecedent)[2:6] + list(antecedent)[17:18]\\\n",
        "                              + list(antecedent)[19:23])\n",
        "          \n",
        "          relation_list.append(is_relation)\n",
        "          counter += 1\n",
        "\n",
        "  # counter += 1\n",
        "\n",
        "print(pair_anaphors[0][0], pair_antecedents[0][0], relation_list[0])\n",
        "len(pair_anaphors), len(pair_antecedents), len(relation_list)"
      ],
      "execution_count": 242,
      "outputs": [
        {
          "output_type": "stream",
          "text": [
            "1 1 0\n"
          ],
          "name": "stdout"
        },
        {
          "output_type": "execute_result",
          "data": {
            "text/plain": [
              "(1160, 1160, 1160)"
            ]
          },
          "metadata": {
            "tags": []
          },
          "execution_count": 242
        }
      ]
    },
    {
      "cell_type": "code",
      "metadata": {
        "colab": {
          "base_uri": "https://localhost:8080/"
        },
        "id": "dFaTNusICNlA",
        "outputId": "04ae74f9-96bd-44cf-a5ed-21b9f3c91e6e"
      },
      "source": [
        "# можно посмотреть, что получилось\n",
        "pair_anaphors[0]"
      ],
      "execution_count": 243,
      "outputs": [
        {
          "output_type": "execute_result",
          "data": {
            "text/plain": [
              "[1,\n",
              " 1.0,\n",
              " 1.0,\n",
              " 21.0,\n",
              " 2,\n",
              " 1,\n",
              " 0.4469050467014313,\n",
              " 0.5528465509414673,\n",
              " 0.8430876135826111]"
            ]
          },
          "metadata": {
            "tags": []
          },
          "execution_count": 243
        }
      ]
    },
    {
      "cell_type": "code",
      "metadata": {
        "colab": {
          "base_uri": "https://localhost:8080/"
        },
        "id": "saSgfNvhB5bH",
        "outputId": "e8b57590-8d9e-4cb5-8abc-96052f4e6506"
      },
      "source": [
        "# проверим, третьим элементом должен быть номер токена\n",
        "pair_anaphors[0][3]"
      ],
      "execution_count": 244,
      "outputs": [
        {
          "output_type": "execute_result",
          "data": {
            "text/plain": [
              "21.0"
            ]
          },
          "metadata": {
            "tags": []
          },
          "execution_count": 244
        }
      ]
    },
    {
      "cell_type": "code",
      "metadata": {
        "colab": {
          "base_uri": "https://localhost:8080/",
          "height": 98
        },
        "id": "e5ddVbD7Cf4i",
        "outputId": "50534006-7c72-4e58-b52a-4230b9e38404"
      },
      "source": [
        "# все сходится. мы взяли колонки с номерами поста, предложения и токена,\\\n",
        "# колонку NER, число, и вектора\n",
        "df.loc[df.TOKEN_NUM == 21.0].iloc[[0]]"
      ],
      "execution_count": 245,
      "outputs": [
        {
          "output_type": "execute_result",
          "data": {
            "text/html": [
              "<div>\n",
              "<style scoped>\n",
              "    .dataframe tbody tr th:only-of-type {\n",
              "        vertical-align: middle;\n",
              "    }\n",
              "\n",
              "    .dataframe tbody tr th {\n",
              "        vertical-align: top;\n",
              "    }\n",
              "\n",
              "    .dataframe thead th {\n",
              "        text-align: right;\n",
              "    }\n",
              "</style>\n",
              "<table border=\"1\" class=\"dataframe\">\n",
              "  <thead>\n",
              "    <tr style=\"text-align: right;\">\n",
              "      <th></th>\n",
              "      <th>TOKEN</th>\n",
              "      <th>IS_ANSWER</th>\n",
              "      <th>TOPIC_NUM</th>\n",
              "      <th>POST_NUM</th>\n",
              "      <th>SENT_NUM</th>\n",
              "      <th>TOKEN_NUM</th>\n",
              "      <th>ANIMACY</th>\n",
              "      <th>CASE</th>\n",
              "      <th>GENDER</th>\n",
              "      <th>PERSON</th>\n",
              "      <th>POS</th>\n",
              "      <th>DEPENDENCY</th>\n",
              "      <th>HEAD</th>\n",
              "      <th>HEAD_ANIMACY</th>\n",
              "      <th>HEAD_CASE</th>\n",
              "      <th>HEAD_GENDER</th>\n",
              "      <th>HEAD_POS</th>\n",
              "      <th>NER</th>\n",
              "      <th>COREFERENCE_CLUSTER</th>\n",
              "      <th>NUMBER</th>\n",
              "      <th>TOKEN_VECT</th>\n",
              "      <th>HEAD_VECT</th>\n",
              "      <th>SENT_VECT</th>\n",
              "    </tr>\n",
              "  </thead>\n",
              "  <tbody>\n",
              "    <tr>\n",
              "      <th>21</th>\n",
              "      <td>лекарством</td>\n",
              "      <td>1</td>\n",
              "      <td>1</td>\n",
              "      <td>1.0</td>\n",
              "      <td>1.0</td>\n",
              "      <td>21.0</td>\n",
              "      <td>0</td>\n",
              "      <td>5</td>\n",
              "      <td>2</td>\n",
              "      <td>-1</td>\n",
              "      <td>1</td>\n",
              "      <td>4</td>\n",
              "      <td>7</td>\n",
              "      <td>-1</td>\n",
              "      <td>-1</td>\n",
              "      <td>-1</td>\n",
              "      <td>3</td>\n",
              "      <td>2</td>\n",
              "      <td>0.0</td>\n",
              "      <td>1</td>\n",
              "      <td>0.446905</td>\n",
              "      <td>0.552847</td>\n",
              "      <td>0.843088</td>\n",
              "    </tr>\n",
              "  </tbody>\n",
              "</table>\n",
              "</div>"
            ],
            "text/plain": [
              "         TOKEN  IS_ANSWER  TOPIC_NUM  ...  TOKEN_VECT  HEAD_VECT  SENT_VECT\n",
              "21  лекарством          1          1  ...    0.446905   0.552847   0.843088\n",
              "\n",
              "[1 rows x 23 columns]"
            ]
          },
          "metadata": {
            "tags": []
          },
          "execution_count": 245
        }
      ]
    },
    {
      "cell_type": "code",
      "metadata": {
        "colab": {
          "base_uri": "https://localhost:8080/",
          "height": 516
        },
        "id": "G1jPQOrVUOtz",
        "outputId": "e355d4e4-f330-456e-bbf3-9507b0a6935d"
      },
      "source": [
        "cosine = [cosine_similarity([pair_anaphors[i]], [pair_antecedents[i]])[0][0] for i in range(len(pair_anaphors))]\n",
        "# pair_df = pd.DataFrame(columns=['anaphs', 'ants', 'rel'])\n",
        "pair_df = pd.DataFrame(columns=['cosine', 'rel'])\n",
        "\n",
        "# pair_df['anaphs'] = pair_anaphors\n",
        "# pair_df['ants'] = pair_antecedents\n",
        "pair_df['cosine'] = cosine\n",
        "pair_df['rel'] = relation_list\n",
        "\n",
        "print(pair_df.loc[pair_df['cosine'] > 1])\n",
        "print(pair_df.loc[pair_df['rel'] > 1])\n",
        "pair_df"
      ],
      "execution_count": 246,
      "outputs": [
        {
          "output_type": "stream",
          "text": [
            "Empty DataFrame\n",
            "Columns: [cosine, rel]\n",
            "Index: []\n",
            "Empty DataFrame\n",
            "Columns: [cosine, rel]\n",
            "Index: []\n"
          ],
          "name": "stdout"
        },
        {
          "output_type": "execute_result",
          "data": {
            "text/html": [
              "<div>\n",
              "<style scoped>\n",
              "    .dataframe tbody tr th:only-of-type {\n",
              "        vertical-align: middle;\n",
              "    }\n",
              "\n",
              "    .dataframe tbody tr th {\n",
              "        vertical-align: top;\n",
              "    }\n",
              "\n",
              "    .dataframe thead th {\n",
              "        text-align: right;\n",
              "    }\n",
              "</style>\n",
              "<table border=\"1\" class=\"dataframe\">\n",
              "  <thead>\n",
              "    <tr style=\"text-align: right;\">\n",
              "      <th></th>\n",
              "      <th>cosine</th>\n",
              "      <th>rel</th>\n",
              "    </tr>\n",
              "  </thead>\n",
              "  <tbody>\n",
              "    <tr>\n",
              "      <th>0</th>\n",
              "      <td>0.737681</td>\n",
              "      <td>0</td>\n",
              "    </tr>\n",
              "    <tr>\n",
              "      <th>1</th>\n",
              "      <td>0.887521</td>\n",
              "      <td>0</td>\n",
              "    </tr>\n",
              "    <tr>\n",
              "      <th>2</th>\n",
              "      <td>0.923855</td>\n",
              "      <td>0</td>\n",
              "    </tr>\n",
              "    <tr>\n",
              "      <th>3</th>\n",
              "      <td>0.661648</td>\n",
              "      <td>0</td>\n",
              "    </tr>\n",
              "    <tr>\n",
              "      <th>4</th>\n",
              "      <td>0.839553</td>\n",
              "      <td>0</td>\n",
              "    </tr>\n",
              "    <tr>\n",
              "      <th>...</th>\n",
              "      <td>...</td>\n",
              "      <td>...</td>\n",
              "    </tr>\n",
              "    <tr>\n",
              "      <th>1155</th>\n",
              "      <td>0.999999</td>\n",
              "      <td>1</td>\n",
              "    </tr>\n",
              "    <tr>\n",
              "      <th>1156</th>\n",
              "      <td>0.626041</td>\n",
              "      <td>0</td>\n",
              "    </tr>\n",
              "    <tr>\n",
              "      <th>1157</th>\n",
              "      <td>0.989071</td>\n",
              "      <td>0</td>\n",
              "    </tr>\n",
              "    <tr>\n",
              "      <th>1158</th>\n",
              "      <td>0.989644</td>\n",
              "      <td>0</td>\n",
              "    </tr>\n",
              "    <tr>\n",
              "      <th>1159</th>\n",
              "      <td>0.999999</td>\n",
              "      <td>1</td>\n",
              "    </tr>\n",
              "  </tbody>\n",
              "</table>\n",
              "<p>1160 rows × 2 columns</p>\n",
              "</div>"
            ],
            "text/plain": [
              "        cosine  rel\n",
              "0     0.737681    0\n",
              "1     0.887521    0\n",
              "2     0.923855    0\n",
              "3     0.661648    0\n",
              "4     0.839553    0\n",
              "...        ...  ...\n",
              "1155  0.999999    1\n",
              "1156  0.626041    0\n",
              "1157  0.989071    0\n",
              "1158  0.989644    0\n",
              "1159  0.999999    1\n",
              "\n",
              "[1160 rows x 2 columns]"
            ]
          },
          "metadata": {
            "tags": []
          },
          "execution_count": 246
        }
      ]
    },
    {
      "cell_type": "code",
      "metadata": {
        "colab": {
          "base_uri": "https://localhost:8080/",
          "height": 407
        },
        "id": "j2CP2j1AFPgC",
        "outputId": "5030ed0f-7c5f-491c-968d-c8c400a2a059"
      },
      "source": [
        "pair_df.loc[pair_df.rel != 0]"
      ],
      "execution_count": 247,
      "outputs": [
        {
          "output_type": "execute_result",
          "data": {
            "text/html": [
              "<div>\n",
              "<style scoped>\n",
              "    .dataframe tbody tr th:only-of-type {\n",
              "        vertical-align: middle;\n",
              "    }\n",
              "\n",
              "    .dataframe tbody tr th {\n",
              "        vertical-align: top;\n",
              "    }\n",
              "\n",
              "    .dataframe thead th {\n",
              "        text-align: right;\n",
              "    }\n",
              "</style>\n",
              "<table border=\"1\" class=\"dataframe\">\n",
              "  <thead>\n",
              "    <tr style=\"text-align: right;\">\n",
              "      <th></th>\n",
              "      <th>cosine</th>\n",
              "      <th>rel</th>\n",
              "    </tr>\n",
              "  </thead>\n",
              "  <tbody>\n",
              "    <tr>\n",
              "      <th>12</th>\n",
              "      <td>0.999994</td>\n",
              "      <td>1</td>\n",
              "    </tr>\n",
              "    <tr>\n",
              "      <th>13</th>\n",
              "      <td>0.662112</td>\n",
              "      <td>1</td>\n",
              "    </tr>\n",
              "    <tr>\n",
              "      <th>17</th>\n",
              "      <td>0.661769</td>\n",
              "      <td>1</td>\n",
              "    </tr>\n",
              "    <tr>\n",
              "      <th>24</th>\n",
              "      <td>0.999997</td>\n",
              "      <td>1</td>\n",
              "    </tr>\n",
              "    <tr>\n",
              "      <th>25</th>\n",
              "      <td>0.661513</td>\n",
              "      <td>1</td>\n",
              "    </tr>\n",
              "    <tr>\n",
              "      <th>...</th>\n",
              "      <td>...</td>\n",
              "      <td>...</td>\n",
              "    </tr>\n",
              "    <tr>\n",
              "      <th>1113</th>\n",
              "      <td>0.999982</td>\n",
              "      <td>1</td>\n",
              "    </tr>\n",
              "    <tr>\n",
              "      <th>1123</th>\n",
              "      <td>0.999998</td>\n",
              "      <td>1</td>\n",
              "    </tr>\n",
              "    <tr>\n",
              "      <th>1142</th>\n",
              "      <td>0.999998</td>\n",
              "      <td>1</td>\n",
              "    </tr>\n",
              "    <tr>\n",
              "      <th>1155</th>\n",
              "      <td>0.999999</td>\n",
              "      <td>1</td>\n",
              "    </tr>\n",
              "    <tr>\n",
              "      <th>1159</th>\n",
              "      <td>0.999999</td>\n",
              "      <td>1</td>\n",
              "    </tr>\n",
              "  </tbody>\n",
              "</table>\n",
              "<p>192 rows × 2 columns</p>\n",
              "</div>"
            ],
            "text/plain": [
              "        cosine  rel\n",
              "12    0.999994    1\n",
              "13    0.662112    1\n",
              "17    0.661769    1\n",
              "24    0.999997    1\n",
              "25    0.661513    1\n",
              "...        ...  ...\n",
              "1113  0.999982    1\n",
              "1123  0.999998    1\n",
              "1142  0.999998    1\n",
              "1155  0.999999    1\n",
              "1159  0.999999    1\n",
              "\n",
              "[192 rows x 2 columns]"
            ]
          },
          "metadata": {
            "tags": []
          },
          "execution_count": 247
        }
      ]
    },
    {
      "cell_type": "code",
      "metadata": {
        "id": "ZUx9pzbetYcI"
      },
      "source": [
        ""
      ],
      "execution_count": 247,
      "outputs": []
    },
    {
      "cell_type": "code",
      "metadata": {
        "id": "riQ5ES4sQeNt"
      },
      "source": [
        "train, test = train_test_split(pair_df, test_size=0.2)\n",
        "train = train.reset_index()\n",
        "test = test.reset_index()"
      ],
      "execution_count": 248,
      "outputs": []
    },
    {
      "cell_type": "code",
      "metadata": {
        "id": "w-mkNjcQRMKO"
      },
      "source": [
        "X, y, X_test, y_test = train.iloc[:, 1:2], train.rel, test.iloc[:, 1:2], test.rel\n"
      ],
      "execution_count": 249,
      "outputs": []
    },
    {
      "cell_type": "code",
      "metadata": {
        "colab": {
          "base_uri": "https://localhost:8080/",
          "height": 78
        },
        "id": "S8AKnqug1qid",
        "outputId": "881c2682-f50a-4801-883e-5dd3aa3bc8c8"
      },
      "source": [
        "train.iloc[:1, 1:2]"
      ],
      "execution_count": 250,
      "outputs": [
        {
          "output_type": "execute_result",
          "data": {
            "text/html": [
              "<div>\n",
              "<style scoped>\n",
              "    .dataframe tbody tr th:only-of-type {\n",
              "        vertical-align: middle;\n",
              "    }\n",
              "\n",
              "    .dataframe tbody tr th {\n",
              "        vertical-align: top;\n",
              "    }\n",
              "\n",
              "    .dataframe thead th {\n",
              "        text-align: right;\n",
              "    }\n",
              "</style>\n",
              "<table border=\"1\" class=\"dataframe\">\n",
              "  <thead>\n",
              "    <tr style=\"text-align: right;\">\n",
              "      <th></th>\n",
              "      <th>cosine</th>\n",
              "    </tr>\n",
              "  </thead>\n",
              "  <tbody>\n",
              "    <tr>\n",
              "      <th>0</th>\n",
              "      <td>0.975927</td>\n",
              "    </tr>\n",
              "  </tbody>\n",
              "</table>\n",
              "</div>"
            ],
            "text/plain": [
              "     cosine\n",
              "0  0.975927"
            ]
          },
          "metadata": {
            "tags": []
          },
          "execution_count": 250
        }
      ]
    },
    {
      "cell_type": "code",
      "metadata": {
        "colab": {
          "base_uri": "https://localhost:8080/",
          "height": 78
        },
        "id": "Y1rslVYUEthb",
        "outputId": "825a83da-8dde-48b3-915c-fc8f3dfd7e9a"
      },
      "source": [
        "test.iloc[:1, 1:2]"
      ],
      "execution_count": 251,
      "outputs": [
        {
          "output_type": "execute_result",
          "data": {
            "text/html": [
              "<div>\n",
              "<style scoped>\n",
              "    .dataframe tbody tr th:only-of-type {\n",
              "        vertical-align: middle;\n",
              "    }\n",
              "\n",
              "    .dataframe tbody tr th {\n",
              "        vertical-align: top;\n",
              "    }\n",
              "\n",
              "    .dataframe thead th {\n",
              "        text-align: right;\n",
              "    }\n",
              "</style>\n",
              "<table border=\"1\" class=\"dataframe\">\n",
              "  <thead>\n",
              "    <tr style=\"text-align: right;\">\n",
              "      <th></th>\n",
              "      <th>cosine</th>\n",
              "    </tr>\n",
              "  </thead>\n",
              "  <tbody>\n",
              "    <tr>\n",
              "      <th>0</th>\n",
              "      <td>0.984462</td>\n",
              "    </tr>\n",
              "  </tbody>\n",
              "</table>\n",
              "</div>"
            ],
            "text/plain": [
              "     cosine\n",
              "0  0.984462"
            ]
          },
          "metadata": {
            "tags": []
          },
          "execution_count": 251
        }
      ]
    },
    {
      "cell_type": "code",
      "metadata": {
        "colab": {
          "base_uri": "https://localhost:8080/"
        },
        "id": "R7de5MvZmsZ0",
        "outputId": "a042b446-f35d-4a57-deaf-b4ce0cfb5979"
      },
      "source": [
        "regr = linear_model.LinearRegression()\n",
        "regr.fit(X, y)\n",
        "\n",
        "print(regr.score(X_test, y_test))\n",
        "print('-----')\n",
        "pred = regr.predict(X_test)\n",
        "rule_eval(pred, y_test)"
      ],
      "execution_count": 252,
      "outputs": [
        {
          "output_type": "stream",
          "text": [
            "0.1754822805147904\n",
            "-----\n",
            "0  true positive\n",
            "232  false positive\n",
            "0  true negative\n",
            "0  false negative\n",
            "---------\n",
            "0.0  presicion\n",
            "0  recall\n",
            "0  f-score\n"
          ],
          "name": "stdout"
        }
      ]
    },
    {
      "cell_type": "code",
      "metadata": {
        "colab": {
          "base_uri": "https://localhost:8080/"
        },
        "id": "RWsI8ACWmscm",
        "outputId": "2eeb8560-fee7-49b6-b4f4-1762f56b5f89"
      },
      "source": [
        "knn_clf = KNeighborsClassifier(n_neighbors=10, weights='distance',algorithm='ball_tree',leaf_size=5, metric='minkowski', p=1)\n",
        "knn_clf.fit(X, y)\n",
        "\n",
        "print(knn_clf.score(X_test, y_test))\n",
        "print('-----')\n",
        "pred = knn_clf.predict(X_test)\n",
        "rule_eval(pred, y_test)"
      ],
      "execution_count": 253,
      "outputs": [
        {
          "output_type": "stream",
          "text": [
            "0.9482758620689655\n",
            "-----\n",
            "29  true positive\n",
            "5  false positive\n",
            "191  true negative\n",
            "7  false negative\n",
            "---------\n",
            "0.8529411764705882  presicion\n",
            "0.8055555555555556  recall\n",
            "0.8285714285714286  f-score\n"
          ],
          "name": "stdout"
        }
      ]
    },
    {
      "cell_type": "code",
      "metadata": {
        "colab": {
          "base_uri": "https://localhost:8080/"
        },
        "id": "yFQblTEP7WHM",
        "outputId": "eb49a205-e84c-4136-8bfb-8beae204de5c"
      },
      "source": [
        "dtclf = tree.DecisionTreeClassifier(max_depth=2000, )\n",
        "dtclf.fit(X, y)\n",
        "\n",
        "print(dtclf.score(X_test, y_test))\n",
        "print('-----')\n",
        "pred = dtclf.predict(X_test)\n",
        "rule_eval(pred, y_test)\n"
      ],
      "execution_count": 254,
      "outputs": [
        {
          "output_type": "stream",
          "text": [
            "0.9396551724137931\n",
            "-----\n",
            "29  true positive\n",
            "7  false positive\n",
            "189  true negative\n",
            "7  false negative\n",
            "---------\n",
            "0.8055555555555556  presicion\n",
            "0.8055555555555556  recall\n",
            "0.8055555555555556  f-score\n"
          ],
          "name": "stdout"
        }
      ]
    },
    {
      "cell_type": "code",
      "metadata": {
        "colab": {
          "base_uri": "https://localhost:8080/"
        },
        "id": "GO_pYTOb7eCu",
        "outputId": "e360e3a3-dca8-43cf-db4d-244b371c96fa"
      },
      "source": [
        "clf = tree.DecisionTreeClassifier(criterion='entropy', max_depth=2000)\n",
        "clf.fit(X, y)\n",
        "\n",
        "print(clf.score(X_test, y_test))\n",
        "print('-----')\n",
        "pred = clf.predict(X_test)\n",
        "rule_eval(pred, y_test)"
      ],
      "execution_count": 255,
      "outputs": [
        {
          "output_type": "stream",
          "text": [
            "0.9396551724137931\n",
            "-----\n",
            "29  true positive\n",
            "7  false positive\n",
            "189  true negative\n",
            "7  false negative\n",
            "---------\n",
            "0.8055555555555556  presicion\n",
            "0.8055555555555556  recall\n",
            "0.8055555555555556  f-score\n"
          ],
          "name": "stdout"
        }
      ]
    },
    {
      "cell_type": "code",
      "metadata": {
        "colab": {
          "base_uri": "https://localhost:8080/"
        },
        "id": "b6E6D_lq7lpc",
        "outputId": "94d08056-5938-4f3a-9388-d11236c5825d"
      },
      "source": [
        "clf = RandomForestClassifier(max_depth=3000, n_estimators=600, bootstrap=True, )\n",
        "clf.fit(X, y)\n",
        "\n",
        "print(clf.score(X_test, y_test))\n",
        "print('-----')\n",
        "pred = clf.predict(X_test)\n",
        "rule_eval(pred, y_test)"
      ],
      "execution_count": 256,
      "outputs": [
        {
          "output_type": "stream",
          "text": [
            "0.9396551724137931\n",
            "-----\n",
            "29  true positive\n",
            "7  false positive\n",
            "189  true negative\n",
            "7  false negative\n",
            "---------\n",
            "0.8055555555555556  presicion\n",
            "0.8055555555555556  recall\n",
            "0.8055555555555556  f-score\n"
          ],
          "name": "stdout"
        }
      ]
    },
    {
      "cell_type": "code",
      "metadata": {
        "id": "o1muZz-I3cZn"
      },
      "source": [
        "# knn_clf = KNeighborsClassifier(n_neighbors=10, weights='distance',algorithm='ball_tree',leaf_size=5, metric='minkowski', p=1).fit(X, y)\n",
        "# knn_clf.score(X_test, y_test)"
      ],
      "execution_count": null,
      "outputs": []
    },
    {
      "cell_type": "code",
      "metadata": {
        "id": "ic1_rxtCeLXe"
      },
      "source": [
        "# clf = tree.DecisionTreeClassifier(max_depth=2000, )\n",
        "# clf.fit(X, y)\n",
        "# clf.score(X_test, y_test)"
      ],
      "execution_count": null,
      "outputs": []
    }
  ]
}