{
  "nbformat": 4,
  "nbformat_minor": 0,
  "metadata": {
    "colab": {
      "name": "Untitled63.ipynb",
      "provenance": [],
      "authorship_tag": "ABX9TyPER7PTFZZhCEc2qvZQM7zw",
      "include_colab_link": true
    },
    "kernelspec": {
      "name": "python3",
      "display_name": "Python 3"
    },
    "language_info": {
      "name": "python"
    }
  },
  "cells": [
    {
      "cell_type": "markdown",
      "metadata": {
        "id": "view-in-github",
        "colab_type": "text"
      },
      "source": [
        "<a href=\"https://colab.research.google.com/github/DmitryKutsev/cross-document_coreference/blob/main/classifiers/rule_ml_pair_pron.ipynb\" target=\"_parent\"><img src=\"https://colab.research.google.com/assets/colab-badge.svg\" alt=\"Open In Colab\"/></a>"
      ]
    },
    {
      "cell_type": "code",
      "metadata": {
        "id": "YxBTOIHR8XrF",
        "colab": {
          "base_uri": "https://localhost:8080/"
        },
        "outputId": "c914122e-d8bb-457b-f06f-f6def9d597b7"
      },
      "source": [
        "pip install pymorphy2[fast]"
      ],
      "execution_count": 340,
      "outputs": [
        {
          "output_type": "stream",
          "text": [
            "Requirement already satisfied: pymorphy2[fast] in /usr/local/lib/python3.7/dist-packages (0.9.1)\n",
            "Requirement already satisfied: pymorphy2-dicts-ru<3.0,>=2.4 in /usr/local/lib/python3.7/dist-packages (from pymorphy2[fast]) (2.4.417127.4579844)\n",
            "Requirement already satisfied: dawg-python>=0.7.1 in /usr/local/lib/python3.7/dist-packages (from pymorphy2[fast]) (0.7.2)\n",
            "Requirement already satisfied: docopt>=0.6 in /usr/local/lib/python3.7/dist-packages (from pymorphy2[fast]) (0.6.2)\n",
            "Requirement already satisfied: DAWG>=0.8; extra == \"fast\" in /usr/local/lib/python3.7/dist-packages (from pymorphy2[fast]) (0.8.0)\n"
          ],
          "name": "stdout"
        }
      ]
    },
    {
      "cell_type": "markdown",
      "metadata": {
        "id": "MR2ASbW_mPHn"
      },
      "source": [
        "## **Импорт**"
      ]
    },
    {
      "cell_type": "code",
      "metadata": {
        "id": "jRqz8PB_SGaz"
      },
      "source": [
        "import pandas as pd\n",
        "import matplotlib.pyplot as plt\n",
        "import seaborn as sns\n",
        "%matplotlib inline\n"
      ],
      "execution_count": 341,
      "outputs": []
    },
    {
      "cell_type": "code",
      "metadata": {
        "id": "OFLx7egYS2qN"
      },
      "source": [
        "from IPython.display import SVG, display, HTML"
      ],
      "execution_count": 342,
      "outputs": []
    },
    {
      "cell_type": "code",
      "metadata": {
        "id": "5Lhnxf_FoRVA",
        "colab": {
          "base_uri": "https://localhost:8080/"
        },
        "outputId": "04d707e8-79e2-48d9-b668-5389b14472be"
      },
      "source": [
        "from google.colab import drive\n",
        "drive.mount('./content', force_remount=False)"
      ],
      "execution_count": 343,
      "outputs": [
        {
          "output_type": "stream",
          "text": [
            "Drive already mounted at ./content; to attempt to forcibly remount, call drive.mount(\"./content\", force_remount=True).\n"
          ],
          "name": "stdout"
        }
      ]
    },
    {
      "cell_type": "code",
      "metadata": {
        "id": "e6z5yVCTZght"
      },
      "source": [
        "import spacy\n",
        "import numpy as np\n",
        "\n",
        "import gensim\n",
        "from gensim.models import Word2Vec \n",
        "from gensim.models import FastText\n",
        "\n",
        "from nltk.tokenize import RegexpTokenizer\n",
        "from nltk import  sent_tokenize\n",
        "from sklearn.metrics.pairwise import cosine_distances, cosine_similarity\n",
        "import numpy as np\n",
        "import pandas as pd\n",
        "from sklearn.feature_extraction.text import TfidfVectorizer"
      ],
      "execution_count": 344,
      "outputs": []
    },
    {
      "cell_type": "code",
      "metadata": {
        "id": "p8tYiCNJzF46"
      },
      "source": [
        "from graphviz import Source\n",
        "from sklearn import tree, svm, linear_model\n",
        "from sklearn.metrics import confusion_matrix, f1_score, accuracy_score\n",
        "from sklearn.ensemble import RandomForestClassifier\n",
        "from sklearn.neighbors import KNeighborsClassifier\n"
      ],
      "execution_count": 345,
      "outputs": []
    },
    {
      "cell_type": "code",
      "metadata": {
        "id": "J_7xbdMuo_RW",
        "colab": {
          "base_uri": "https://localhost:8080/"
        },
        "outputId": "a8739eb0-2cd4-4434-8677-c037f21d691e"
      },
      "source": [
        "!ls\n",
        "import os\n",
        "for i in os.listdir('content/'):\n",
        "  print(i)"
      ],
      "execution_count": 346,
      "outputs": [
        {
          "output_type": "stream",
          "text": [
            "annotations.csv\t\thv-info_gepatit2.txt\t     rakpobedim_ru2.txt\n",
            "annotation_table.csv\thv-info_gepatit2.txt.1\t     rakpobedim_ru2.txt.1\n",
            "annotation_table.csv.1\tneuroleptic_antidepr2.txt    sample_data\n",
            "content\t\t\tneuroleptic_antidepr2.txt.1\n",
            ".shortcut-targets-by-id\n",
            "MyDrive\n",
            ".file-revisions-by-id\n",
            ".Trash\n"
          ],
          "name": "stdout"
        }
      ]
    },
    {
      "cell_type": "code",
      "metadata": {
        "id": "L7z8djaJTABE"
      },
      "source": [
        "import csv\n",
        "import re\n",
        "from google.colab import files\n",
        "from sklearn.model_selection import train_test_split\n",
        "from sklearn.metrics.pairwise import cosine_similarity"
      ],
      "execution_count": 347,
      "outputs": []
    },
    {
      "cell_type": "markdown",
      "metadata": {
        "id": "UYfVvz6CmVMq"
      },
      "source": [
        "## **Обработка данных**"
      ]
    },
    {
      "cell_type": "code",
      "metadata": {
        "colab": {
          "base_uri": "https://localhost:8080/"
        },
        "id": "DHp2dDuqZj6h",
        "outputId": "8995ca9c-b8ec-4312-c6bd-7b652e3835d0"
      },
      "source": [
        "!wget https://raw.githubusercontent.com/DmitryKutsev/cross-document_coreference/main/scraping/neuroleptic_antidepr2.txt\n",
        "!wget https://raw.githubusercontent.com/DmitryKutsev/cross-document_coreference/main/scraping/rakpobedim_ru2.txt\n",
        "!wget https://raw.githubusercontent.com/DmitryKutsev/cross-document_coreference/main/scraping/hv-info_gepatit2.txt"
      ],
      "execution_count": 348,
      "outputs": [
        {
          "output_type": "stream",
          "text": [
            "--2021-05-25 16:49:30--  https://raw.githubusercontent.com/DmitryKutsev/cross-document_coreference/main/scraping/neuroleptic_antidepr2.txt\n",
            "Resolving raw.githubusercontent.com (raw.githubusercontent.com)... 185.199.108.133, 185.199.110.133, 185.199.109.133, ...\n",
            "Connecting to raw.githubusercontent.com (raw.githubusercontent.com)|185.199.108.133|:443... connected.\n",
            "HTTP request sent, awaiting response... 200 OK\n",
            "Length: 11655409 (11M) [text/plain]\n",
            "Saving to: ‘neuroleptic_antidepr2.txt.2’\n",
            "\n",
            "neuroleptic_antidep 100%[===================>]  11.12M  45.3MB/s    in 0.2s    \n",
            "\n",
            "2021-05-25 16:49:31 (45.3 MB/s) - ‘neuroleptic_antidepr2.txt.2’ saved [11655409/11655409]\n",
            "\n",
            "--2021-05-25 16:49:31--  https://raw.githubusercontent.com/DmitryKutsev/cross-document_coreference/main/scraping/rakpobedim_ru2.txt\n",
            "Resolving raw.githubusercontent.com (raw.githubusercontent.com)... 185.199.108.133, 185.199.109.133, 185.199.110.133, ...\n",
            "Connecting to raw.githubusercontent.com (raw.githubusercontent.com)|185.199.108.133|:443... connected.\n",
            "HTTP request sent, awaiting response... 200 OK\n",
            "Length: 19072917 (18M) [text/plain]\n",
            "Saving to: ‘rakpobedim_ru2.txt.2’\n",
            "\n",
            "rakpobedim_ru2.txt. 100%[===================>]  18.19M  68.2MB/s    in 0.3s    \n",
            "\n",
            "2021-05-25 16:49:33 (68.2 MB/s) - ‘rakpobedim_ru2.txt.2’ saved [19072917/19072917]\n",
            "\n",
            "--2021-05-25 16:49:33--  https://raw.githubusercontent.com/DmitryKutsev/cross-document_coreference/main/scraping/hv-info_gepatit2.txt\n",
            "Resolving raw.githubusercontent.com (raw.githubusercontent.com)... 185.199.108.133, 185.199.109.133, 185.199.110.133, ...\n",
            "Connecting to raw.githubusercontent.com (raw.githubusercontent.com)|185.199.108.133|:443... connected.\n",
            "HTTP request sent, awaiting response... 200 OK\n",
            "Length: 18273113 (17M) [text/plain]\n",
            "Saving to: ‘hv-info_gepatit2.txt.2’\n",
            "\n",
            "hv-info_gepatit2.tx 100%[===================>]  17.43M  38.3MB/s    in 0.5s    \n",
            "\n",
            "2021-05-25 16:49:34 (38.3 MB/s) - ‘hv-info_gepatit2.txt.2’ saved [18273113/18273113]\n",
            "\n"
          ],
          "name": "stdout"
        }
      ]
    },
    {
      "cell_type": "code",
      "metadata": {
        "id": "xk_hRf26TjUD",
        "colab": {
          "base_uri": "https://localhost:8080/"
        },
        "outputId": "ac597238-62b9-45e2-c170-7862af66d8e9"
      },
      "source": [
        "!wget https://raw.githubusercontent.com/DmitryKutsev/cross-document_coreference/main/data/coref_df_anns60k.csv\n",
        "!wget https://raw.githubusercontent.com/DmitryKutsev/cross-document_coreference/main/data/annotation_table.csv"
      ],
      "execution_count": 349,
      "outputs": [
        {
          "output_type": "stream",
          "text": [
            "--2021-05-25 16:49:34--  https://raw.githubusercontent.com/DmitryKutsev/cross-document_coreference/main/data/coref_df_anns60k.csv\n",
            "Resolving raw.githubusercontent.com (raw.githubusercontent.com)... 185.199.108.133, 185.199.109.133, 185.199.110.133, ...\n",
            "Connecting to raw.githubusercontent.com (raw.githubusercontent.com)|185.199.108.133|:443... connected.\n",
            "HTTP request sent, awaiting response... 404 Not Found\n",
            "2021-05-25 16:49:34 ERROR 404: Not Found.\n",
            "\n",
            "--2021-05-25 16:49:35--  https://raw.githubusercontent.com/DmitryKutsev/cross-document_coreference/main/data/annotation_table.csv\n",
            "Resolving raw.githubusercontent.com (raw.githubusercontent.com)... 185.199.110.133, 185.199.111.133, 185.199.108.133, ...\n",
            "Connecting to raw.githubusercontent.com (raw.githubusercontent.com)|185.199.110.133|:443... connected.\n",
            "HTTP request sent, awaiting response... 200 OK\n",
            "Length: 2100469 (2.0M) [text/plain]\n",
            "Saving to: ‘annotation_table.csv.2’\n",
            "\n",
            "annotation_table.cs 100%[===================>]   2.00M  --.-KB/s    in 0.05s   \n",
            "\n",
            "2021-05-25 16:49:35 (39.6 MB/s) - ‘annotation_table.csv.2’ saved [2100469/2100469]\n",
            "\n"
          ],
          "name": "stdout"
        }
      ]
    },
    {
      "cell_type": "code",
      "metadata": {
        "id": "H_hUZXGd-f3P"
      },
      "source": [
        "handler = open('neuroleptic_antidepr2.txt', 'r', encoding='utf-8')\n",
        "my_txt = handler.read()\n",
        "handler.close()\n",
        "\n",
        "handler = open('hv-info_gepatit2.txt', 'r', encoding='utf-8')\n",
        "my_txt += handler.read()\n",
        "handler.close()\n",
        "\n",
        "handler = open('rakpobedim_ru2.txt', 'r', encoding='utf-8')\n",
        "my_txt += handler.read()\n",
        "handler.close()"
      ],
      "execution_count": 350,
      "outputs": []
    },
    {
      "cell_type": "code",
      "metadata": {
        "id": "Whhtmahdmi36"
      },
      "source": [
        "posts = my_txt.split('----')"
      ],
      "execution_count": 351,
      "outputs": []
    },
    {
      "cell_type": "code",
      "metadata": {
        "id": "MpCgvol38SQ0"
      },
      "source": [
        "import pymorphy2\n",
        "morph = pymorphy2.MorphAnalyzer()"
      ],
      "execution_count": 352,
      "outputs": []
    },
    {
      "cell_type": "code",
      "metadata": {
        "id": "dFtg8mIC8ysz",
        "colab": {
          "base_uri": "https://localhost:8080/",
          "height": 35
        },
        "outputId": "195b7600-39a6-47c4-e6d1-769c06c1ff66"
      },
      "source": [
        "morph.parse('он')[0].normal_form"
      ],
      "execution_count": 353,
      "outputs": [
        {
          "output_type": "execute_result",
          "data": {
            "application/vnd.google.colaboratory.intrinsic+json": {
              "type": "string"
            },
            "text/plain": [
              "'он'"
            ]
          },
          "metadata": {
            "tags": []
          },
          "execution_count": 353
        }
      ]
    },
    {
      "cell_type": "markdown",
      "metadata": {
        "id": "1BcgZCu2Z6da"
      },
      "source": [
        "## **Обучение векторизатора**"
      ]
    },
    {
      "cell_type": "code",
      "metadata": {
        "id": "LfyCQ883Z1Uy"
      },
      "source": [
        "tokenizer = RegexpTokenizer(r'\\w+')\n",
        "sentences_tokenized = [w.lower() for w in posts]\n",
        "\n",
        "\n",
        "sentences_tokenized = [tokenizer.tokenize(morph.parse(i)[0].normal_form) for i in sentences_tokenized]\n",
        "ft = FastText(sentences_tokenized, window=5, min_count=5, workers=4,sg=1)"
      ],
      "execution_count": 354,
      "outputs": []
    },
    {
      "cell_type": "markdown",
      "metadata": {
        "id": "cVHJN9DsrmkH"
      },
      "source": [
        "Обработка битых символов, чтобы pandas мог открыть таблицу."
      ]
    },
    {
      "cell_type": "code",
      "metadata": {
        "colab": {
          "base_uri": "https://localhost:8080/"
        },
        "id": "MSjV15tz-UmH",
        "outputId": "f3430c0d-08ea-40eb-a293-50784625cd3a"
      },
      "source": [
        "count = 0\n",
        "with open('annotation_table.csv') as csvfile:\n",
        "  with open('annotations.csv', 'w') as write_file:\n",
        "    writer = csv.writer(write_file, delimiter='\\t')\n",
        "    for new_row in csvfile:\n",
        "      count +=1\n",
        "      # print(i.split('\\t'))\n",
        "      if len(new_row.split('\\t')) > 19:\n",
        "        new_row = new_row.split('\\t')[:20]\n",
        "        new_row[-1] = new_row[-1][:-1] # cut \\n\n",
        "      writer.writerow(new_row)\n",
        "count"
      ],
      "execution_count": 355,
      "outputs": [
        {
          "output_type": "execute_result",
          "data": {
            "text/plain": [
              "27019"
            ]
          },
          "metadata": {
            "tags": []
          },
          "execution_count": 355
        }
      ]
    },
    {
      "cell_type": "code",
      "metadata": {
        "id": "nKgKz0h9SPOK"
      },
      "source": [
        "# # with open('coref_df_anns60k.csv') as csvfile:\n",
        "# with open('new_anns60k.csv') as csvfile:\n",
        "#   reader = csv.reader(csvfile, delimiter='\\t')\n",
        "#   with open('new_df_anns60k.csv', 'w') as write_file:\n",
        "#     writer = csv.writer(write_file, delimiter='\\t')\n",
        "#     c = 0\n",
        "#     for row in reader:\n",
        "#       c +=1\n",
        "#       new_row = [i if i and not re.match(r'\\t+?', i) else 0 for i in row]\n",
        "#       if len(new_row) > 9:\n",
        "#         new_row = new_row[:9]\n",
        "#       else:\n",
        "#         new_row = [0 for i in range(9)]\n",
        "#       writer.writerow(new_row)\n",
        "# c\n"
      ],
      "execution_count": 356,
      "outputs": []
    },
    {
      "cell_type": "code",
      "metadata": {
        "colab": {
          "base_uri": "https://localhost:8080/"
        },
        "id": "iHSVRy-axVs8",
        "outputId": "b5a8b977-aaa9-4bfb-a228-75fae8dbbdce"
      },
      "source": [
        "# !rm new_anns60k.csv.1 new_anns60k.csv.2 new_df_anns60k.csv new_anns60k.csv\n",
        "!ls\n",
        "# !rm annotation_table.csv.2 annotation_table.csv.1 annotation_table.csv annotations.csv"
      ],
      "execution_count": 357,
      "outputs": [
        {
          "output_type": "stream",
          "text": [
            "annotations.csv\t\tneuroleptic_antidepr2.txt\n",
            "annotation_table.csv\tneuroleptic_antidepr2.txt.1\n",
            "annotation_table.csv.1\tneuroleptic_antidepr2.txt.2\n",
            "annotation_table.csv.2\trakpobedim_ru2.txt\n",
            "content\t\t\trakpobedim_ru2.txt.1\n",
            "hv-info_gepatit2.txt\trakpobedim_ru2.txt.2\n",
            "hv-info_gepatit2.txt.1\tsample_data\n",
            "hv-info_gepatit2.txt.2\n"
          ],
          "name": "stdout"
        }
      ]
    },
    {
      "cell_type": "code",
      "metadata": {
        "id": "fpbwAAb6sUnL",
        "colab": {
          "base_uri": "https://localhost:8080/",
          "height": 0
        },
        "outputId": "f95ccc91-31f9-40ff-a9eb-f5ac8ff9485a"
      },
      "source": [
        "# anns_df = pd.read_csv('coref_df_anns60k.csv', delimiter='\\t', error_bad_lines=False, header=None)\n",
        "anns_df = pd.read_csv('annotations.csv', delimiter='\\t')\n",
        "anns_df"
      ],
      "execution_count": 358,
      "outputs": [
        {
          "output_type": "execute_result",
          "data": {
            "text/html": [
              "<div>\n",
              "<style scoped>\n",
              "    .dataframe tbody tr th:only-of-type {\n",
              "        vertical-align: middle;\n",
              "    }\n",
              "\n",
              "    .dataframe tbody tr th {\n",
              "        vertical-align: top;\n",
              "    }\n",
              "\n",
              "    .dataframe thead th {\n",
              "        text-align: right;\n",
              "    }\n",
              "</style>\n",
              "<table border=\"1\" class=\"dataframe\">\n",
              "  <thead>\n",
              "    <tr style=\"text-align: right;\">\n",
              "      <th></th>\n",
              "      <th>TOKEN</th>\n",
              "      <th>IS_ANSWER</th>\n",
              "      <th>TOPIC_NUM</th>\n",
              "      <th>POST_NUM</th>\n",
              "      <th>SENT_NUM</th>\n",
              "      <th>TOKEN_NUM</th>\n",
              "      <th>ANIMACY</th>\n",
              "      <th>CASE</th>\n",
              "      <th>GENDER</th>\n",
              "      <th>PERSON</th>\n",
              "      <th>POS</th>\n",
              "      <th>DEPENDENCY</th>\n",
              "      <th>HEAD</th>\n",
              "      <th>HEAD_ANIMACY</th>\n",
              "      <th>HEAD_CASE</th>\n",
              "      <th>HEAD_GENDER</th>\n",
              "      <th>HEAD_POS</th>\n",
              "      <th>NER</th>\n",
              "      <th>COREFERENCE_CLUSTER</th>\n",
              "      <th>NUMBER</th>\n",
              "    </tr>\n",
              "  </thead>\n",
              "  <tbody>\n",
              "    <tr>\n",
              "      <th>0</th>\n",
              "      <td>обсуждаем</td>\n",
              "      <td>0</td>\n",
              "      <td>1</td>\n",
              "      <td>0.0</td>\n",
              "      <td>0.0</td>\n",
              "      <td>0.0</td>\n",
              "      <td>NaN</td>\n",
              "      <td>NaN</td>\n",
              "      <td>NaN</td>\n",
              "      <td>1per</td>\n",
              "      <td>VERB</td>\n",
              "      <td>ROOT</td>\n",
              "      <td>обсуждаем</td>\n",
              "      <td>NaN</td>\n",
              "      <td>NaN</td>\n",
              "      <td>NaN</td>\n",
              "      <td>VERB</td>\n",
              "      <td>0</td>\n",
              "      <td>0.0</td>\n",
              "      <td>plur</td>\n",
              "    </tr>\n",
              "    <tr>\n",
              "      <th>1</th>\n",
              "      <td>препарат</td>\n",
              "      <td>0</td>\n",
              "      <td>1</td>\n",
              "      <td>0.0</td>\n",
              "      <td>0.0</td>\n",
              "      <td>1.0</td>\n",
              "      <td>inan</td>\n",
              "      <td>nomn</td>\n",
              "      <td>masc</td>\n",
              "      <td>NaN</td>\n",
              "      <td>NOUN</td>\n",
              "      <td>obj</td>\n",
              "      <td>обсуждаем</td>\n",
              "      <td>NaN</td>\n",
              "      <td>NaN</td>\n",
              "      <td>NaN</td>\n",
              "      <td>VERB</td>\n",
              "      <td>0</td>\n",
              "      <td>0.0</td>\n",
              "      <td>sing</td>\n",
              "    </tr>\n",
              "    <tr>\n",
              "      <th>2</th>\n",
              "      <td>рисперидон</td>\n",
              "      <td>0</td>\n",
              "      <td>1</td>\n",
              "      <td>0.0</td>\n",
              "      <td>0.0</td>\n",
              "      <td>2.0</td>\n",
              "      <td>anim</td>\n",
              "      <td>nomn</td>\n",
              "      <td>masc</td>\n",
              "      <td>NaN</td>\n",
              "      <td>NOUN</td>\n",
              "      <td>appos</td>\n",
              "      <td>препарат</td>\n",
              "      <td>inan</td>\n",
              "      <td>nomn</td>\n",
              "      <td>masc</td>\n",
              "      <td>NOUN</td>\n",
              "      <td>1</td>\n",
              "      <td>2.0</td>\n",
              "      <td>sing</td>\n",
              "    </tr>\n",
              "    <tr>\n",
              "      <th>3</th>\n",
              "      <td>рисполепт</td>\n",
              "      <td>0</td>\n",
              "      <td>1</td>\n",
              "      <td>0.0</td>\n",
              "      <td>0.0</td>\n",
              "      <td>3.0</td>\n",
              "      <td>inan</td>\n",
              "      <td>gent</td>\n",
              "      <td>femn</td>\n",
              "      <td>NaN</td>\n",
              "      <td>NOUN</td>\n",
              "      <td>parataxis</td>\n",
              "      <td>рисперидон</td>\n",
              "      <td>anim</td>\n",
              "      <td>nomn</td>\n",
              "      <td>masc</td>\n",
              "      <td>NOUN</td>\n",
              "      <td>1</td>\n",
              "      <td>3.0</td>\n",
              "      <td>plur</td>\n",
              "    </tr>\n",
              "    <tr>\n",
              "      <th>4</th>\n",
              "      <td>сперидан</td>\n",
              "      <td>0</td>\n",
              "      <td>1</td>\n",
              "      <td>0.0</td>\n",
              "      <td>0.0</td>\n",
              "      <td>4.0</td>\n",
              "      <td>NaN</td>\n",
              "      <td>NaN</td>\n",
              "      <td>masc</td>\n",
              "      <td>NaN</td>\n",
              "      <td>PRTS</td>\n",
              "      <td>conj</td>\n",
              "      <td>рисполепт</td>\n",
              "      <td>inan</td>\n",
              "      <td>gent</td>\n",
              "      <td>femn</td>\n",
              "      <td>NOUN</td>\n",
              "      <td>1</td>\n",
              "      <td>4.0</td>\n",
              "      <td>sing</td>\n",
              "    </tr>\n",
              "    <tr>\n",
              "      <th>...</th>\n",
              "      <td>...</td>\n",
              "      <td>...</td>\n",
              "      <td>...</td>\n",
              "      <td>...</td>\n",
              "      <td>...</td>\n",
              "      <td>...</td>\n",
              "      <td>...</td>\n",
              "      <td>...</td>\n",
              "      <td>...</td>\n",
              "      <td>...</td>\n",
              "      <td>...</td>\n",
              "      <td>...</td>\n",
              "      <td>...</td>\n",
              "      <td>...</td>\n",
              "      <td>...</td>\n",
              "      <td>...</td>\n",
              "      <td>...</td>\n",
              "      <td>...</td>\n",
              "      <td>...</td>\n",
              "      <td>...</td>\n",
              "    </tr>\n",
              "    <tr>\n",
              "      <th>27013</th>\n",
              "      <td>и</td>\n",
              "      <td>0</td>\n",
              "      <td>22</td>\n",
              "      <td>68.0</td>\n",
              "      <td>0.0</td>\n",
              "      <td>2385.0</td>\n",
              "      <td>NaN</td>\n",
              "      <td>NaN</td>\n",
              "      <td>NaN</td>\n",
              "      <td>NaN</td>\n",
              "      <td>CONJ</td>\n",
              "      <td>cc</td>\n",
              "      <td>пошлины</td>\n",
              "      <td>inan</td>\n",
              "      <td>nomn</td>\n",
              "      <td>femn</td>\n",
              "      <td>NOUN</td>\n",
              "      <td>0</td>\n",
              "      <td>0.0</td>\n",
              "      <td>NaN</td>\n",
              "    </tr>\n",
              "    <tr>\n",
              "      <th>27014</th>\n",
              "      <td>таможенные</td>\n",
              "      <td>0</td>\n",
              "      <td>22</td>\n",
              "      <td>68.0</td>\n",
              "      <td>0.0</td>\n",
              "      <td>2386.0</td>\n",
              "      <td>NaN</td>\n",
              "      <td>nomn</td>\n",
              "      <td>NaN</td>\n",
              "      <td>NaN</td>\n",
              "      <td>ADJF</td>\n",
              "      <td>amod</td>\n",
              "      <td>пошлины</td>\n",
              "      <td>inan</td>\n",
              "      <td>nomn</td>\n",
              "      <td>femn</td>\n",
              "      <td>NOUN</td>\n",
              "      <td>0</td>\n",
              "      <td>0.0</td>\n",
              "      <td>plur</td>\n",
              "    </tr>\n",
              "    <tr>\n",
              "      <th>27015</th>\n",
              "      <td>пошлины</td>\n",
              "      <td>0</td>\n",
              "      <td>22</td>\n",
              "      <td>68.0</td>\n",
              "      <td>0.0</td>\n",
              "      <td>2387.0</td>\n",
              "      <td>inan</td>\n",
              "      <td>nomn</td>\n",
              "      <td>femn</td>\n",
              "      <td>NaN</td>\n",
              "      <td>NOUN</td>\n",
              "      <td>nsubj</td>\n",
              "      <td>есть</td>\n",
              "      <td>NaN</td>\n",
              "      <td>NaN</td>\n",
              "      <td>NaN</td>\n",
              "      <td>INFN</td>\n",
              "      <td>0</td>\n",
              "      <td>0.0</td>\n",
              "      <td>plur</td>\n",
              "    </tr>\n",
              "    <tr>\n",
              "      <th>27016</th>\n",
              "      <td>как</td>\n",
              "      <td>0</td>\n",
              "      <td>22</td>\n",
              "      <td>68.0</td>\n",
              "      <td>0.0</td>\n",
              "      <td>2388.0</td>\n",
              "      <td>NaN</td>\n",
              "      <td>NaN</td>\n",
              "      <td>NaN</td>\n",
              "      <td>NaN</td>\n",
              "      <td>CONJ</td>\n",
              "      <td>advmod</td>\n",
              "      <td>есть</td>\n",
              "      <td>NaN</td>\n",
              "      <td>NaN</td>\n",
              "      <td>NaN</td>\n",
              "      <td>INFN</td>\n",
              "      <td>0</td>\n",
              "      <td>0.0</td>\n",
              "      <td>NaN</td>\n",
              "    </tr>\n",
              "    <tr>\n",
              "      <th>27017</th>\n",
              "      <td>светка</td>\n",
              "      <td>0</td>\n",
              "      <td>22</td>\n",
              "      <td>69.0</td>\n",
              "      <td>0.0</td>\n",
              "      <td>2389.0</td>\n",
              "      <td>inan</td>\n",
              "      <td>nomn</td>\n",
              "      <td>femn</td>\n",
              "      <td>NaN</td>\n",
              "      <td>NOUN</td>\n",
              "      <td>ROOT</td>\n",
              "      <td>светка</td>\n",
              "      <td>inan</td>\n",
              "      <td>nomn</td>\n",
              "      <td>femn</td>\n",
              "      <td>NOUN</td>\n",
              "      <td>0</td>\n",
              "      <td>0.0</td>\n",
              "      <td>sing</td>\n",
              "    </tr>\n",
              "  </tbody>\n",
              "</table>\n",
              "<p>27018 rows × 20 columns</p>\n",
              "</div>"
            ],
            "text/plain": [
              "            TOKEN IS_ANSWER TOPIC_NUM  ...  NER  COREFERENCE_CLUSTER  NUMBER\n",
              "0       обсуждаем         0         1  ...    0                  0.0    plur\n",
              "1        препарат         0         1  ...    0                  0.0    sing\n",
              "2      рисперидон         0         1  ...    1                  2.0    sing\n",
              "3       рисполепт         0         1  ...    1                  3.0    plur\n",
              "4        сперидан         0         1  ...    1                  4.0    sing\n",
              "...           ...       ...       ...  ...  ...                  ...     ...\n",
              "27013           и         0        22  ...    0                  0.0     NaN\n",
              "27014  таможенные         0        22  ...    0                  0.0    plur\n",
              "27015     пошлины         0        22  ...    0                  0.0    plur\n",
              "27016         как         0        22  ...    0                  0.0     NaN\n",
              "27017      светка         0        22  ...    0                  0.0    sing\n",
              "\n",
              "[27018 rows x 20 columns]"
            ]
          },
          "metadata": {
            "tags": []
          },
          "execution_count": 358
        }
      ]
    },
    {
      "cell_type": "code",
      "metadata": {
        "id": "xjM8nQk_jQWn"
      },
      "source": [
        "tok_list = []\n",
        "for token in anns_df.TOKEN:\n",
        "  try:\n",
        "    tok_list.append(ft.wv.__getitem__(token.lower()))\n",
        "  except (KeyError, AttributeError):\n",
        "    tok_list.append(0)\n",
        "    # print(token, 'here')\n",
        "anns_df['TOKEN_VECT'] = tok_list\n",
        "\n",
        "\n",
        "tok_list = []\n",
        "for token in anns_df.HEAD:\n",
        "  try:\n",
        "    tok_list.append(ft.wv.__getitem__(token.lower()))\n",
        "  except (KeyError, AttributeError):\n",
        "    tok_list.append(0)\n",
        "    # print(token, 'here')\n",
        "anns_df['HEAD_VECT'] = tok_list"
      ],
      "execution_count": 359,
      "outputs": []
    },
    {
      "cell_type": "code",
      "metadata": {
        "id": "jWdSbqFUkp8y"
      },
      "source": [
        "# tok_list = []\n",
        "# for sent in \n",
        "# for token in anns_df.HEAD:\n",
        "#   try:\n",
        "#     tok_list.append(ft.wv.__getitem__(token.lower()))\n",
        "#   except KeyError:\n",
        "#     tok_list.append(0)\n",
        "#     print(token, 'here')\n",
        "# anns_df['TOKEN_VECT'] = tok_list"
      ],
      "execution_count": 360,
      "outputs": []
    },
    {
      "cell_type": "code",
      "metadata": {
        "id": "Qv4sN0Qz2CQm"
      },
      "source": [
        ""
      ],
      "execution_count": 360,
      "outputs": []
    },
    {
      "cell_type": "code",
      "metadata": {
        "id": "xoPd-FXZzjTG"
      },
      "source": [
        "anns_df = anns_df.loc[(anns_df['TOPIC_NUM'].isin(list(range(30)))) | (anns_df['SENT_NUM'].isin(list(range(10000))))]\n",
        "anns_df = anns_df.reset_index().drop(['index'], axis=1)"
      ],
      "execution_count": 361,
      "outputs": []
    },
    {
      "cell_type": "code",
      "metadata": {
        "colab": {
          "base_uri": "https://localhost:8080/"
        },
        "id": "WkRUG17in__R",
        "outputId": "165dff21-12ff-4f00-c528-fe88e2648423"
      },
      "source": [
        "topics = list(set(anns_df.TOPIC_NUM.values))\n",
        "topics\n",
        "sent_vect_list = []\n",
        "# номера предложений топика\n",
        "for topic_num in topics:\n",
        "\n",
        "  sents_in_topic = list(set(anns_df.loc[anns_df['TOPIC_NUM'] == topic_num].SENT_NUM))\n",
        "  topic_len = len(anns_df.loc[anns_df['TOPIC_NUM'] == topic_num])\n",
        "  for sent_num in sents_in_topic:\n",
        "    tok_vects = anns_df.loc[(anns_df['TOPIC_NUM'] == topic_num) & (anns_df['SENT_NUM'] == sent_num)].TOKEN_VECT\n",
        "    try:\n",
        "      sent_vect = sum(list(tok_vects))/len(tok_vects)\n",
        "    except ZeroDivisionError:\n",
        "      sent_vect = 0\n",
        "      print(anns_df.loc[(anns_df['SENT_NUM'] == sent_num)])\n",
        "    for i in range(len(tok_vects)):\n",
        "      sent_vect_list.append(sent_vect)\n",
        "len(sent_vect_list)\n",
        "# если не класть нулевых предложений - будет длина датафрейма, как он раньше импортировлся, но поздно."
      ],
      "execution_count": 362,
      "outputs": [
        {
          "output_type": "execute_result",
          "data": {
            "text/plain": [
              "26497"
            ]
          },
          "metadata": {
            "tags": []
          },
          "execution_count": 362
        }
      ]
    },
    {
      "cell_type": "code",
      "metadata": {
        "id": "yaGN3xQLyECR"
      },
      "source": [
        "anns_df['SENT_VECT'] = sent_vect_list"
      ],
      "execution_count": 363,
      "outputs": []
    },
    {
      "cell_type": "markdown",
      "metadata": {
        "id": "fBFrdEdsrq0u"
      },
      "source": [
        "Проверим данные"
      ]
    },
    {
      "cell_type": "code",
      "metadata": {
        "colab": {
          "base_uri": "https://localhost:8080/"
        },
        "id": "nxP40HQGnh80",
        "outputId": "04bfd431-96a7-46d9-afcb-f4c7f74b8407"
      },
      "source": [
        "anns_df.SENT_NUM[18]"
      ],
      "execution_count": 364,
      "outputs": [
        {
          "output_type": "execute_result",
          "data": {
            "text/plain": [
              "1.0"
            ]
          },
          "metadata": {
            "tags": []
          },
          "execution_count": 364
        }
      ]
    },
    {
      "cell_type": "code",
      "metadata": {
        "id": "hdc4AOucmDT4"
      },
      "source": [
        "# topics = list(set(df.TOPIC_NUM.values)) \n",
        "# for topic_num in topics:\n",
        "#   # if topic_num == 2:\n",
        "#   #   break\n",
        "#   # извлекаем предложения топика\n",
        "#   sents_in_topic = list(set(df.loc[df['TOPIC_NUM'] == topic_num ].SENT_NUM))\n",
        "#   for sent_num in sents_in_topic:\n",
        "#     sent = df.loc[(df['TOPIC_NUM'] == topic_num)  & (df['SENT_NUM'] == sent_num)]"
      ],
      "execution_count": 365,
      "outputs": []
    },
    {
      "cell_type": "code",
      "metadata": {
        "id": "nKld3dRPz3_m"
      },
      "source": [
        "# vvv = 0\n",
        "# with open('content/MyDrive/coref_fasttext60k_1.csv') as csvfile:\n",
        "#   with open('new_coref_df_anns60k.csv', 'w') as write_file:\n",
        "#     writer = csv.writer(write_file, delimiter='\\t')\n",
        "#     for new_row in csvfile:\n",
        "#       vvv +=1\n",
        "#       # print(i.split('\\t'))\n",
        "#       if len(new_row.split('\\t')) > 9:\n",
        "#         new_row = new_row.split('\\t')[:9]\n",
        "#       writer.writerow(new_row)\n",
        "# vvv"
      ],
      "execution_count": 366,
      "outputs": []
    },
    {
      "cell_type": "code",
      "metadata": {
        "id": "zOvIthFwWaOH"
      },
      "source": [
        "# cor_df = pd.read_csv('content/MyDrive/coref_fasttext60k_1.csv', delimiter=' ')\n",
        "# cor_df"
      ],
      "execution_count": 367,
      "outputs": []
    },
    {
      "cell_type": "code",
      "metadata": {
        "id": "Eoht1lnExJHw"
      },
      "source": [
        "# cosine_similarity([np.matrix(cor_df.TOKEN_VECT[2]).A[0]], [np.matrix(cor_df.TOKEN_VECT[3]).A[0]])[-1][-1]"
      ],
      "execution_count": 368,
      "outputs": []
    },
    {
      "cell_type": "code",
      "metadata": {
        "id": "jJgyUaV7WUAw"
      },
      "source": [
        ""
      ],
      "execution_count": 368,
      "outputs": []
    },
    {
      "cell_type": "markdown",
      "metadata": {
        "id": "ZcUH3c9e2Zwe"
      },
      "source": [
        "# **VECTORS HANDLING**"
      ]
    },
    {
      "cell_type": "markdown",
      "metadata": {
        "id": "vtuQeIa7qo7B"
      },
      "source": [
        "Изменяем значения векторов предложений, главного слова группы, зависимых слов группы, и токена на косинусную дистанцию с семантической осью.\n",
        "\n",
        "Сначала, изменим строковое представление на массив."
      ]
    },
    {
      "cell_type": "code",
      "metadata": {
        "id": "pSkpdVWPWofo"
      },
      "source": [
        "# cor_df.TOKEN_VECT = [np.matrix(i).A[0] for i in cor_df.TOKEN_VECT]\n",
        "# cor_df.HEAD_VECT = [np.matrix(i).A[0] for i in cor_df.HEAD_VECT]\n",
        "# cor_df.SENT_VECT = [np.matrix(i).A[0] for i in cor_df.SENT_VECT]\n",
        "# cor_df.HEAD_CHILDS_VECT = [np.matrix(i).A[0] for i in cor_df.HEAD_CHILDS_VECT]\n"
      ],
      "execution_count": 369,
      "outputs": []
    },
    {
      "cell_type": "markdown",
      "metadata": {
        "id": "pHpVo0QmrWzE"
      },
      "source": [
        "Добавим размеченные данные, и посмотрим, что получилось."
      ]
    },
    {
      "cell_type": "code",
      "metadata": {
        "id": "FGLkZXITh3BZ"
      },
      "source": [
        "# cor_df['NER'] = anns_df['NER']\n",
        "# cor_df['COREFERENCE_CLUSTER'] = anns_df['COREFERENCE_CLUSTER']\n",
        "# cor_df['ANN_TOKEN'] = anns_df['TOKEN']\n",
        "# cor_df"
      ],
      "execution_count": 370,
      "outputs": []
    },
    {
      "cell_type": "code",
      "metadata": {
        "id": "An0u3ZGSAqK9"
      },
      "source": [
        "# cor_df.loc()"
      ],
      "execution_count": 371,
      "outputs": []
    },
    {
      "cell_type": "markdown",
      "metadata": {
        "id": "9EK9eAjjr8Vm"
      },
      "source": [
        "Ограничим датафрейм теми данными, которые были размечены, чтобы была возможность провести оценку системы."
      ]
    },
    {
      "cell_type": "code",
      "metadata": {
        "id": "8zzHN3oQjNoC"
      },
      "source": [
        "# df = anns_df.iloc[:15000,:]\n",
        "df = anns_df.iloc[:17200,:]"
      ],
      "execution_count": 372,
      "outputs": []
    },
    {
      "cell_type": "markdown",
      "metadata": {
        "id": "Md-DxsOHsLN2"
      },
      "source": [
        "Всего наименований препаратов размечено (это не обязательно антецеденты, любое название препарата)."
      ]
    },
    {
      "cell_type": "code",
      "metadata": {
        "colab": {
          "base_uri": "https://localhost:8080/"
        },
        "id": "ZUxdUD5ZWpku",
        "outputId": "001d6c86-9509-4dd8-9d6e-347c4cb9d3ae"
      },
      "source": [
        "len(df.loc[df['NER'] == 1])"
      ],
      "execution_count": 373,
      "outputs": [
        {
          "output_type": "execute_result",
          "data": {
            "text/plain": [
              "604"
            ]
          },
          "metadata": {
            "tags": []
          },
          "execution_count": 373
        }
      ]
    },
    {
      "cell_type": "markdown",
      "metadata": {
        "id": "0kDh_Mw0sO8N"
      },
      "source": [
        "Из них местоимений (прономинальные анафоры)."
      ]
    },
    {
      "cell_type": "code",
      "metadata": {
        "colab": {
          "base_uri": "https://localhost:8080/"
        },
        "id": "4Te0h4xrlvUH",
        "outputId": "861a9516-e96a-4eb3-d0d9-d85b0a5e7113"
      },
      "source": [
        "len(df.loc[df['NER'] == 3])"
      ],
      "execution_count": 374,
      "outputs": [
        {
          "output_type": "execute_result",
          "data": {
            "text/plain": [
              "117"
            ]
          },
          "metadata": {
            "tags": []
          },
          "execution_count": 374
        }
      ]
    },
    {
      "cell_type": "markdown",
      "metadata": {
        "id": "DfRQXgXqsbC2"
      },
      "source": [
        "И номинативные анафоры существительные, такие как \"препарат\" и \"лекарство\". В основном это они и есть."
      ]
    },
    {
      "cell_type": "code",
      "metadata": {
        "colab": {
          "base_uri": "https://localhost:8080/"
        },
        "id": "M1CiLnyGltqt",
        "outputId": "66cb2846-bba0-481e-c4fc-dd83f30739c3"
      },
      "source": [
        "len(df.loc[df['NER'] == 2])"
      ],
      "execution_count": 375,
      "outputs": [
        {
          "output_type": "execute_result",
          "data": {
            "text/plain": [
              "230"
            ]
          },
          "metadata": {
            "tags": []
          },
          "execution_count": 375
        }
      ]
    },
    {
      "cell_type": "code",
      "metadata": {
        "id": "FjO8H_76_BbA",
        "colab": {
          "base_uri": "https://localhost:8080/"
        },
        "outputId": "123803df-9fe0-441f-ad91-e49ef129edcb"
      },
      "source": [
        "len(df.loc[df['NER'].isin([2,3])])"
      ],
      "execution_count": 376,
      "outputs": [
        {
          "output_type": "execute_result",
          "data": {
            "text/plain": [
              "347"
            ]
          },
          "metadata": {
            "tags": []
          },
          "execution_count": 376
        }
      ]
    },
    {
      "cell_type": "code",
      "metadata": {
        "colab": {
          "base_uri": "https://localhost:8080/"
        },
        "id": "FB-5d7uAn6Jl",
        "outputId": "5118c946-6d12-4f62-8f14-3a944fc30989"
      },
      "source": [
        "len(df.loc[df['NER'].isin([1,2,3])])"
      ],
      "execution_count": 377,
      "outputs": [
        {
          "output_type": "execute_result",
          "data": {
            "text/plain": [
              "951"
            ]
          },
          "metadata": {
            "tags": []
          },
          "execution_count": 377
        }
      ]
    },
    {
      "cell_type": "code",
      "metadata": {
        "id": "LjPlHQCcmBjv"
      },
      "source": [
        "# df['NER'] = [int(i) for i in df['NER']]\n",
        "# df['COREFERENCE_CLUSTER'] = [int(i) for i in df['COREFERENCE_CLUSTER']]"
      ],
      "execution_count": 378,
      "outputs": []
    },
    {
      "cell_type": "markdown",
      "metadata": {
        "id": "IHxSn2iAtJW-"
      },
      "source": [
        "Посмотрим на данные."
      ]
    },
    {
      "cell_type": "code",
      "metadata": {
        "colab": {
          "base_uri": "https://localhost:8080/",
          "height": 0
        },
        "id": "0t2P18AaoYk7",
        "outputId": "a536398b-59b4-4109-806f-32a31f46ea4d"
      },
      "source": [
        "df.loc[df['NER'].isin([1,2,3])]"
      ],
      "execution_count": 379,
      "outputs": [
        {
          "output_type": "execute_result",
          "data": {
            "text/html": [
              "<div>\n",
              "<style scoped>\n",
              "    .dataframe tbody tr th:only-of-type {\n",
              "        vertical-align: middle;\n",
              "    }\n",
              "\n",
              "    .dataframe tbody tr th {\n",
              "        vertical-align: top;\n",
              "    }\n",
              "\n",
              "    .dataframe thead th {\n",
              "        text-align: right;\n",
              "    }\n",
              "</style>\n",
              "<table border=\"1\" class=\"dataframe\">\n",
              "  <thead>\n",
              "    <tr style=\"text-align: right;\">\n",
              "      <th></th>\n",
              "      <th>TOKEN</th>\n",
              "      <th>IS_ANSWER</th>\n",
              "      <th>TOPIC_NUM</th>\n",
              "      <th>POST_NUM</th>\n",
              "      <th>SENT_NUM</th>\n",
              "      <th>TOKEN_NUM</th>\n",
              "      <th>ANIMACY</th>\n",
              "      <th>CASE</th>\n",
              "      <th>GENDER</th>\n",
              "      <th>PERSON</th>\n",
              "      <th>POS</th>\n",
              "      <th>DEPENDENCY</th>\n",
              "      <th>HEAD</th>\n",
              "      <th>HEAD_ANIMACY</th>\n",
              "      <th>HEAD_CASE</th>\n",
              "      <th>HEAD_GENDER</th>\n",
              "      <th>HEAD_POS</th>\n",
              "      <th>NER</th>\n",
              "      <th>COREFERENCE_CLUSTER</th>\n",
              "      <th>NUMBER</th>\n",
              "      <th>TOKEN_VECT</th>\n",
              "      <th>HEAD_VECT</th>\n",
              "      <th>SENT_VECT</th>\n",
              "    </tr>\n",
              "  </thead>\n",
              "  <tbody>\n",
              "    <tr>\n",
              "      <th>2</th>\n",
              "      <td>рисперидон</td>\n",
              "      <td>0</td>\n",
              "      <td>1</td>\n",
              "      <td>0.0</td>\n",
              "      <td>0.0</td>\n",
              "      <td>2.0</td>\n",
              "      <td>anim</td>\n",
              "      <td>nomn</td>\n",
              "      <td>masc</td>\n",
              "      <td>NaN</td>\n",
              "      <td>NOUN</td>\n",
              "      <td>appos</td>\n",
              "      <td>препарат</td>\n",
              "      <td>inan</td>\n",
              "      <td>nomn</td>\n",
              "      <td>masc</td>\n",
              "      <td>NOUN</td>\n",
              "      <td>1</td>\n",
              "      <td>2.0</td>\n",
              "      <td>sing</td>\n",
              "      <td>[0.74367255, 1.0672952, 0.4427513, -0.00718458...</td>\n",
              "      <td>[0.1934802, 0.9862153, 0.193794, 0.6324422, -0...</td>\n",
              "      <td>[0.18214528, 0.42482236, 0.25480556, -0.247987...</td>\n",
              "    </tr>\n",
              "    <tr>\n",
              "      <th>3</th>\n",
              "      <td>рисполепт</td>\n",
              "      <td>0</td>\n",
              "      <td>1</td>\n",
              "      <td>0.0</td>\n",
              "      <td>0.0</td>\n",
              "      <td>3.0</td>\n",
              "      <td>inan</td>\n",
              "      <td>gent</td>\n",
              "      <td>femn</td>\n",
              "      <td>NaN</td>\n",
              "      <td>NOUN</td>\n",
              "      <td>parataxis</td>\n",
              "      <td>рисперидон</td>\n",
              "      <td>anim</td>\n",
              "      <td>nomn</td>\n",
              "      <td>masc</td>\n",
              "      <td>NOUN</td>\n",
              "      <td>1</td>\n",
              "      <td>3.0</td>\n",
              "      <td>plur</td>\n",
              "      <td>[0.6807331, 0.8204332, 0.24968927, -0.20220336...</td>\n",
              "      <td>[0.74367255, 1.0672952, 0.4427513, -0.00718458...</td>\n",
              "      <td>[0.18214528, 0.42482236, 0.25480556, -0.247987...</td>\n",
              "    </tr>\n",
              "    <tr>\n",
              "      <th>4</th>\n",
              "      <td>сперидан</td>\n",
              "      <td>0</td>\n",
              "      <td>1</td>\n",
              "      <td>0.0</td>\n",
              "      <td>0.0</td>\n",
              "      <td>4.0</td>\n",
              "      <td>NaN</td>\n",
              "      <td>NaN</td>\n",
              "      <td>masc</td>\n",
              "      <td>NaN</td>\n",
              "      <td>PRTS</td>\n",
              "      <td>conj</td>\n",
              "      <td>рисполепт</td>\n",
              "      <td>inan</td>\n",
              "      <td>gent</td>\n",
              "      <td>femn</td>\n",
              "      <td>NOUN</td>\n",
              "      <td>1</td>\n",
              "      <td>4.0</td>\n",
              "      <td>sing</td>\n",
              "      <td>[0.50205547, 0.903761, 0.592246, -0.338901, 0....</td>\n",
              "      <td>[0.6807331, 0.8204332, 0.24968927, -0.20220336...</td>\n",
              "      <td>[0.18214528, 0.42482236, 0.25480556, -0.247987...</td>\n",
              "    </tr>\n",
              "    <tr>\n",
              "      <th>21</th>\n",
              "      <td>лекарством</td>\n",
              "      <td>0</td>\n",
              "      <td>1</td>\n",
              "      <td>1.0</td>\n",
              "      <td>1.0</td>\n",
              "      <td>21.0</td>\n",
              "      <td>inan</td>\n",
              "      <td>ablt</td>\n",
              "      <td>neut</td>\n",
              "      <td>NaN</td>\n",
              "      <td>NOUN</td>\n",
              "      <td>conj</td>\n",
              "      <td>нет</td>\n",
              "      <td>NaN</td>\n",
              "      <td>NaN</td>\n",
              "      <td>NaN</td>\n",
              "      <td>PRED</td>\n",
              "      <td>2</td>\n",
              "      <td>0.0</td>\n",
              "      <td>sing</td>\n",
              "      <td>[0.32014084, 0.23710169, 0.13242272, 0.1219887...</td>\n",
              "      <td>[0.30877045, 0.05210442, 0.40708372, 0.1741310...</td>\n",
              "      <td>[0.18214528, 0.42482236, 0.25480556, -0.247987...</td>\n",
              "    </tr>\n",
              "    <tr>\n",
              "      <th>142</th>\n",
              "      <td>рисполепта</td>\n",
              "      <td>0</td>\n",
              "      <td>1</td>\n",
              "      <td>1.0</td>\n",
              "      <td>13.0</td>\n",
              "      <td>142.0</td>\n",
              "      <td>inan</td>\n",
              "      <td>nomn</td>\n",
              "      <td>femn</td>\n",
              "      <td>NaN</td>\n",
              "      <td>NOUN</td>\n",
              "      <td>nmod</td>\n",
              "      <td>дозировку</td>\n",
              "      <td>inan</td>\n",
              "      <td>accs</td>\n",
              "      <td>femn</td>\n",
              "      <td>NOUN</td>\n",
              "      <td>1</td>\n",
              "      <td>142.0</td>\n",
              "      <td>sing</td>\n",
              "      <td>[0.62865883, 0.5999332, 0.2755363, -0.10313408...</td>\n",
              "      <td>[0.37717536, 0.82462984, 0.5385625, 0.27880532...</td>\n",
              "      <td>[0.18214528, 0.42482236, 0.25480556, -0.247987...</td>\n",
              "    </tr>\n",
              "    <tr>\n",
              "      <th>...</th>\n",
              "      <td>...</td>\n",
              "      <td>...</td>\n",
              "      <td>...</td>\n",
              "      <td>...</td>\n",
              "      <td>...</td>\n",
              "      <td>...</td>\n",
              "      <td>...</td>\n",
              "      <td>...</td>\n",
              "      <td>...</td>\n",
              "      <td>...</td>\n",
              "      <td>...</td>\n",
              "      <td>...</td>\n",
              "      <td>...</td>\n",
              "      <td>...</td>\n",
              "      <td>...</td>\n",
              "      <td>...</td>\n",
              "      <td>...</td>\n",
              "      <td>...</td>\n",
              "      <td>...</td>\n",
              "      <td>...</td>\n",
              "      <td>...</td>\n",
              "      <td>...</td>\n",
              "      <td>...</td>\n",
              "    </tr>\n",
              "    <tr>\n",
              "      <th>16961</th>\n",
              "      <td>капецитабина</td>\n",
              "      <td>0</td>\n",
              "      <td>20</td>\n",
              "      <td>0.0</td>\n",
              "      <td>23.0</td>\n",
              "      <td>372.0</td>\n",
              "      <td>anim</td>\n",
              "      <td>gent</td>\n",
              "      <td>masc</td>\n",
              "      <td>NaN</td>\n",
              "      <td>NOUN</td>\n",
              "      <td>obj</td>\n",
              "      <td>назначил</td>\n",
              "      <td>NaN</td>\n",
              "      <td>NaN</td>\n",
              "      <td>masc</td>\n",
              "      <td>VERB</td>\n",
              "      <td>1</td>\n",
              "      <td>372.0</td>\n",
              "      <td>sing</td>\n",
              "      <td>[0.33226147, 0.7147286, -0.034476563, -0.35904...</td>\n",
              "      <td>[0.22429304, 1.1660023, -0.04803299, -0.346238...</td>\n",
              "      <td>[0.24512853, 0.364704, 0.18704905, -0.18924204...</td>\n",
              "    </tr>\n",
              "    <tr>\n",
              "      <th>17147</th>\n",
              "      <td>гемцитабина</td>\n",
              "      <td>0</td>\n",
              "      <td>20</td>\n",
              "      <td>3.0</td>\n",
              "      <td>1.0</td>\n",
              "      <td>558.0</td>\n",
              "      <td>anim</td>\n",
              "      <td>gent</td>\n",
              "      <td>masc</td>\n",
              "      <td>NaN</td>\n",
              "      <td>NOUN</td>\n",
              "      <td>nmod</td>\n",
              "      <td>побочку</td>\n",
              "      <td>inan</td>\n",
              "      <td>accs</td>\n",
              "      <td>femn</td>\n",
              "      <td>NOUN</td>\n",
              "      <td>1</td>\n",
              "      <td>558.0</td>\n",
              "      <td>sing</td>\n",
              "      <td>[0.20799102, 0.90808153, 0.08167018, -0.371151...</td>\n",
              "      <td>[1.075783, 0.22411518, -0.058686167, 0.2439490...</td>\n",
              "      <td>[-0.2368678, 0.34312898, 1.1441252, -0.1990969...</td>\n",
              "    </tr>\n",
              "    <tr>\n",
              "      <th>17164</th>\n",
              "      <td>капецитабине</td>\n",
              "      <td>0</td>\n",
              "      <td>20</td>\n",
              "      <td>3.0</td>\n",
              "      <td>2.0</td>\n",
              "      <td>575.0</td>\n",
              "      <td>anim</td>\n",
              "      <td>loct</td>\n",
              "      <td>masc</td>\n",
              "      <td>NaN</td>\n",
              "      <td>NOUN</td>\n",
              "      <td>nmod</td>\n",
              "      <td>отзывов</td>\n",
              "      <td>inan</td>\n",
              "      <td>gent</td>\n",
              "      <td>masc</td>\n",
              "      <td>NOUN</td>\n",
              "      <td>1</td>\n",
              "      <td>575.0</td>\n",
              "      <td>sing</td>\n",
              "      <td>[0.4403542, 0.72532654, -0.06516096, -0.178569...</td>\n",
              "      <td>[0.30951902, -0.20995915, 0.14135073, 0.609884...</td>\n",
              "      <td>[0.506883, 0.4411788, 0.23506606, 0.32862663, ...</td>\n",
              "    </tr>\n",
              "    <tr>\n",
              "      <th>17182</th>\n",
              "      <td>гемцитабин</td>\n",
              "      <td>1</td>\n",
              "      <td>20</td>\n",
              "      <td>4.0</td>\n",
              "      <td>1.0</td>\n",
              "      <td>593.0</td>\n",
              "      <td>anim</td>\n",
              "      <td>nomn</td>\n",
              "      <td>masc</td>\n",
              "      <td>NaN</td>\n",
              "      <td>NOUN</td>\n",
              "      <td>nmod</td>\n",
              "      <td>тему</td>\n",
              "      <td>inan</td>\n",
              "      <td>accs</td>\n",
              "      <td>femn</td>\n",
              "      <td>NOUN</td>\n",
              "      <td>1</td>\n",
              "      <td>593.0</td>\n",
              "      <td>sing</td>\n",
              "      <td>[0.34379128, 1.156924, -0.023522697, -0.431543...</td>\n",
              "      <td>[0.79581046, 0.7280067, -0.7401876, 0.08276815...</td>\n",
              "      <td>[0.12538674, 0.30265155, 0.016594496, 0.025974...</td>\n",
              "    </tr>\n",
              "    <tr>\n",
              "      <th>17199</th>\n",
              "      <td>капецитабин</td>\n",
              "      <td>1</td>\n",
              "      <td>20</td>\n",
              "      <td>4.0</td>\n",
              "      <td>1.0</td>\n",
              "      <td>610.0</td>\n",
              "      <td>anim</td>\n",
              "      <td>nomn</td>\n",
              "      <td>masc</td>\n",
              "      <td>NaN</td>\n",
              "      <td>NOUN</td>\n",
              "      <td>obj</td>\n",
              "      <td>пить</td>\n",
              "      <td>NaN</td>\n",
              "      <td>NaN</td>\n",
              "      <td>NaN</td>\n",
              "      <td>INFN</td>\n",
              "      <td>1</td>\n",
              "      <td>610.0</td>\n",
              "      <td>sing</td>\n",
              "      <td>[0.46309364, 0.925598, -0.15441523, -0.414916,...</td>\n",
              "      <td>[0.34026042, 0.23229502, 0.019506784, 0.261217...</td>\n",
              "      <td>[0.25643477, 0.3311439, -0.008925006, -0.01800...</td>\n",
              "    </tr>\n",
              "  </tbody>\n",
              "</table>\n",
              "<p>951 rows × 23 columns</p>\n",
              "</div>"
            ],
            "text/plain": [
              "              TOKEN  ...                                          SENT_VECT\n",
              "2        рисперидон  ...  [0.18214528, 0.42482236, 0.25480556, -0.247987...\n",
              "3         рисполепт  ...  [0.18214528, 0.42482236, 0.25480556, -0.247987...\n",
              "4          сперидан  ...  [0.18214528, 0.42482236, 0.25480556, -0.247987...\n",
              "21       лекарством  ...  [0.18214528, 0.42482236, 0.25480556, -0.247987...\n",
              "142      рисполепта  ...  [0.18214528, 0.42482236, 0.25480556, -0.247987...\n",
              "...             ...  ...                                                ...\n",
              "16961  капецитабина  ...  [0.24512853, 0.364704, 0.18704905, -0.18924204...\n",
              "17147   гемцитабина  ...  [-0.2368678, 0.34312898, 1.1441252, -0.1990969...\n",
              "17164  капецитабине  ...  [0.506883, 0.4411788, 0.23506606, 0.32862663, ...\n",
              "17182    гемцитабин  ...  [0.12538674, 0.30265155, 0.016594496, 0.025974...\n",
              "17199   капецитабин  ...  [0.25643477, 0.3311439, -0.008925006, -0.01800...\n",
              "\n",
              "[951 rows x 23 columns]"
            ]
          },
          "metadata": {
            "tags": []
          },
          "execution_count": 379
        }
      ]
    },
    {
      "cell_type": "markdown",
      "metadata": {
        "id": "ilbjEHUW2d0c"
      },
      "source": [
        "# **SEMANTIC AXIS**"
      ]
    },
    {
      "cell_type": "markdown",
      "metadata": {
        "id": "ICYR890StPgM"
      },
      "source": [
        "Реализация метода семантических осей.\n",
        "Сначала, выбираем первые предложения каждого топика. Посмотрим на них."
      ]
    },
    {
      "cell_type": "code",
      "metadata": {
        "colab": {
          "base_uri": "https://localhost:8080/",
          "height": 0
        },
        "id": "tEK7B7NT8kb5",
        "outputId": "4dcce5da-d553-4e5c-cbb7-c5700e8722d4"
      },
      "source": [
        "axis_df = df.query('POST_NUM == 0 and TOKEN_NUM == 2 and SENT_NUM == 0')\n",
        "axis_df"
      ],
      "execution_count": 380,
      "outputs": [
        {
          "output_type": "execute_result",
          "data": {
            "text/html": [
              "<div>\n",
              "<style scoped>\n",
              "    .dataframe tbody tr th:only-of-type {\n",
              "        vertical-align: middle;\n",
              "    }\n",
              "\n",
              "    .dataframe tbody tr th {\n",
              "        vertical-align: top;\n",
              "    }\n",
              "\n",
              "    .dataframe thead th {\n",
              "        text-align: right;\n",
              "    }\n",
              "</style>\n",
              "<table border=\"1\" class=\"dataframe\">\n",
              "  <thead>\n",
              "    <tr style=\"text-align: right;\">\n",
              "      <th></th>\n",
              "      <th>TOKEN</th>\n",
              "      <th>IS_ANSWER</th>\n",
              "      <th>TOPIC_NUM</th>\n",
              "      <th>POST_NUM</th>\n",
              "      <th>SENT_NUM</th>\n",
              "      <th>TOKEN_NUM</th>\n",
              "      <th>ANIMACY</th>\n",
              "      <th>CASE</th>\n",
              "      <th>GENDER</th>\n",
              "      <th>PERSON</th>\n",
              "      <th>POS</th>\n",
              "      <th>DEPENDENCY</th>\n",
              "      <th>HEAD</th>\n",
              "      <th>HEAD_ANIMACY</th>\n",
              "      <th>HEAD_CASE</th>\n",
              "      <th>HEAD_GENDER</th>\n",
              "      <th>HEAD_POS</th>\n",
              "      <th>NER</th>\n",
              "      <th>COREFERENCE_CLUSTER</th>\n",
              "      <th>NUMBER</th>\n",
              "      <th>TOKEN_VECT</th>\n",
              "      <th>HEAD_VECT</th>\n",
              "      <th>SENT_VECT</th>\n",
              "    </tr>\n",
              "  </thead>\n",
              "  <tbody>\n",
              "    <tr>\n",
              "      <th>2</th>\n",
              "      <td>рисперидон</td>\n",
              "      <td>0</td>\n",
              "      <td>1</td>\n",
              "      <td>0.0</td>\n",
              "      <td>0.0</td>\n",
              "      <td>2.0</td>\n",
              "      <td>anim</td>\n",
              "      <td>nomn</td>\n",
              "      <td>masc</td>\n",
              "      <td>NaN</td>\n",
              "      <td>NOUN</td>\n",
              "      <td>appos</td>\n",
              "      <td>препарат</td>\n",
              "      <td>inan</td>\n",
              "      <td>nomn</td>\n",
              "      <td>masc</td>\n",
              "      <td>NOUN</td>\n",
              "      <td>1</td>\n",
              "      <td>2.0</td>\n",
              "      <td>sing</td>\n",
              "      <td>[0.74367255, 1.0672952, 0.4427513, -0.00718458...</td>\n",
              "      <td>[0.1934802, 0.9862153, 0.193794, 0.6324422, -0...</td>\n",
              "      <td>[0.18214528, 0.42482236, 0.25480556, -0.247987...</td>\n",
              "    </tr>\n",
              "    <tr>\n",
              "      <th>576</th>\n",
              "      <td>зелдокс</td>\n",
              "      <td>0</td>\n",
              "      <td>2</td>\n",
              "      <td>0.0</td>\n",
              "      <td>0.0</td>\n",
              "      <td>2.0</td>\n",
              "      <td>inan</td>\n",
              "      <td>nomn</td>\n",
              "      <td>masc</td>\n",
              "      <td>NaN</td>\n",
              "      <td>NOUN</td>\n",
              "      <td>appos</td>\n",
              "      <td>препарат</td>\n",
              "      <td>inan</td>\n",
              "      <td>nomn</td>\n",
              "      <td>masc</td>\n",
              "      <td>NOUN</td>\n",
              "      <td>1</td>\n",
              "      <td>2.0</td>\n",
              "      <td>sing</td>\n",
              "      <td>[0.28180775, 0.585976, -0.027220845, -0.006679...</td>\n",
              "      <td>[0.1934802, 0.9862153, 0.193794, 0.6324422, -0...</td>\n",
              "      <td>[0.31877407, 0.27384245, 0.23799655, -0.019877...</td>\n",
              "    </tr>\n",
              "    <tr>\n",
              "      <th>1870</th>\n",
              "      <td>оланзапин</td>\n",
              "      <td>0</td>\n",
              "      <td>3</td>\n",
              "      <td>0.0</td>\n",
              "      <td>0.0</td>\n",
              "      <td>2.0</td>\n",
              "      <td>inan</td>\n",
              "      <td>gent</td>\n",
              "      <td>femn</td>\n",
              "      <td>NaN</td>\n",
              "      <td>NOUN</td>\n",
              "      <td>appos</td>\n",
              "      <td>препарат</td>\n",
              "      <td>inan</td>\n",
              "      <td>nomn</td>\n",
              "      <td>masc</td>\n",
              "      <td>NOUN</td>\n",
              "      <td>1</td>\n",
              "      <td>2.0</td>\n",
              "      <td>plur</td>\n",
              "      <td>[0.3386204, 0.8115517, 0.24658626, 0.023461971...</td>\n",
              "      <td>[0.1934802, 0.9862153, 0.193794, 0.6324422, -0...</td>\n",
              "      <td>[0.16827986, 0.36521766, 0.16673455, -0.139714...</td>\n",
              "    </tr>\n",
              "    <tr>\n",
              "      <th>5555</th>\n",
              "      <td>галоперидол</td>\n",
              "      <td>0</td>\n",
              "      <td>4</td>\n",
              "      <td>0.0</td>\n",
              "      <td>0.0</td>\n",
              "      <td>2.0</td>\n",
              "      <td>inan</td>\n",
              "      <td>nomn</td>\n",
              "      <td>masc</td>\n",
              "      <td>NaN</td>\n",
              "      <td>NOUN</td>\n",
              "      <td>obj</td>\n",
              "      <td>обсуждаем</td>\n",
              "      <td>NaN</td>\n",
              "      <td>NaN</td>\n",
              "      <td>NaN</td>\n",
              "      <td>VERB</td>\n",
              "      <td>1</td>\n",
              "      <td>2.0</td>\n",
              "      <td>sing</td>\n",
              "      <td>[0.39166826, 0.99277925, -0.0719932, -0.163770...</td>\n",
              "      <td>[0.14862487, 0.9987901, -0.6877503, 0.21326372...</td>\n",
              "      <td>[0.19538836, 0.24671851, 0.22614184, -0.117926...</td>\n",
              "    </tr>\n",
              "    <tr>\n",
              "      <th>6200</th>\n",
              "      <td>тиаприд</td>\n",
              "      <td>0</td>\n",
              "      <td>5</td>\n",
              "      <td>0.0</td>\n",
              "      <td>0.0</td>\n",
              "      <td>2.0</td>\n",
              "      <td>anim</td>\n",
              "      <td>nomn</td>\n",
              "      <td>masc</td>\n",
              "      <td>NaN</td>\n",
              "      <td>NOUN</td>\n",
              "      <td>appos</td>\n",
              "      <td>препарат</td>\n",
              "      <td>inan</td>\n",
              "      <td>nomn</td>\n",
              "      <td>masc</td>\n",
              "      <td>NOUN</td>\n",
              "      <td>1</td>\n",
              "      <td>3.0</td>\n",
              "      <td>sing</td>\n",
              "      <td>[0.40354937, 0.5370169, 0.72131264, 0.01367176...</td>\n",
              "      <td>[0.1934802, 0.9862153, 0.193794, 0.6324422, -0...</td>\n",
              "      <td>[0.19538836, 0.24671851, 0.22614184, -0.117926...</td>\n",
              "    </tr>\n",
              "    <tr>\n",
              "      <th>8450</th>\n",
              "      <td>сероквель</td>\n",
              "      <td>0</td>\n",
              "      <td>6</td>\n",
              "      <td>0.0</td>\n",
              "      <td>0.0</td>\n",
              "      <td>2.0</td>\n",
              "      <td>inan</td>\n",
              "      <td>gent</td>\n",
              "      <td>femn</td>\n",
              "      <td>NaN</td>\n",
              "      <td>NOUN</td>\n",
              "      <td>appos</td>\n",
              "      <td>препарат</td>\n",
              "      <td>inan</td>\n",
              "      <td>nomn</td>\n",
              "      <td>masc</td>\n",
              "      <td>NOUN</td>\n",
              "      <td>1</td>\n",
              "      <td>2.0</td>\n",
              "      <td>plur</td>\n",
              "      <td>[0.39650926, 0.6585794, 0.22466663, 0.09290536...</td>\n",
              "      <td>[0.1934802, 0.9862153, 0.193794, 0.6324422, -0...</td>\n",
              "      <td>[0.19896087, 0.2520365, 0.2642898, -0.02040538...</td>\n",
              "    </tr>\n",
              "    <tr>\n",
              "      <th>8541</th>\n",
              "      <td>день</td>\n",
              "      <td>0</td>\n",
              "      <td>7</td>\n",
              "      <td>0.0</td>\n",
              "      <td>0.0</td>\n",
              "      <td>2.0</td>\n",
              "      <td>inan</td>\n",
              "      <td>accs</td>\n",
              "      <td>masc</td>\n",
              "      <td>NaN</td>\n",
              "      <td>NOUN</td>\n",
              "      <td>ROOT</td>\n",
              "      <td>день</td>\n",
              "      <td>inan</td>\n",
              "      <td>accs</td>\n",
              "      <td>masc</td>\n",
              "      <td>NOUN</td>\n",
              "      <td>0</td>\n",
              "      <td>0.0</td>\n",
              "      <td>sing</td>\n",
              "      <td>[0.15776056, 0.28668377, -0.5131789, -0.648180...</td>\n",
              "      <td>[0.15776056, 0.28668377, -0.5131789, -0.648180...</td>\n",
              "      <td>[0.19896087, 0.2520365, 0.2642898, -0.02040538...</td>\n",
              "    </tr>\n",
              "    <tr>\n",
              "      <th>11117</th>\n",
              "      <td>500</td>\n",
              "      <td>0</td>\n",
              "      <td>8</td>\n",
              "      <td>0.0</td>\n",
              "      <td>0.0</td>\n",
              "      <td>2.0</td>\n",
              "      <td>NaN</td>\n",
              "      <td>NaN</td>\n",
              "      <td>NaN</td>\n",
              "      <td>NaN</td>\n",
              "      <td>NaN</td>\n",
              "      <td>nummod</td>\n",
              "      <td>мг</td>\n",
              "      <td>inan</td>\n",
              "      <td>nomn</td>\n",
              "      <td>masc</td>\n",
              "      <td>NOUN</td>\n",
              "      <td>0</td>\n",
              "      <td>0.0</td>\n",
              "      <td>NaN</td>\n",
              "      <td>[-0.009512476, 0.25214523, 1.0603454, 0.401625...</td>\n",
              "      <td>[0.46519738, 0.33663577, 0.826196, -0.2671354,...</td>\n",
              "      <td>[0.26705536, 0.36440584, 0.17336996, 0.0138553...</td>\n",
              "    </tr>\n",
              "    <tr>\n",
              "      <th>11787</th>\n",
              "      <td>капецитабин</td>\n",
              "      <td>0</td>\n",
              "      <td>10</td>\n",
              "      <td>0.0</td>\n",
              "      <td>0.0</td>\n",
              "      <td>2.0</td>\n",
              "      <td>anim</td>\n",
              "      <td>nomn</td>\n",
              "      <td>masc</td>\n",
              "      <td>NaN</td>\n",
              "      <td>NOUN</td>\n",
              "      <td>ROOT</td>\n",
              "      <td>капецитабин</td>\n",
              "      <td>anim</td>\n",
              "      <td>nomn</td>\n",
              "      <td>masc</td>\n",
              "      <td>NOUN</td>\n",
              "      <td>1</td>\n",
              "      <td>2.0</td>\n",
              "      <td>sing</td>\n",
              "      <td>[0.46309364, 0.925598, -0.15441523, -0.414916,...</td>\n",
              "      <td>[0.46309364, 0.925598, -0.15441523, -0.414916,...</td>\n",
              "      <td>[0.3741008, 0.3369214, 0.08105631, -0.07942103...</td>\n",
              "    </tr>\n",
              "    <tr>\n",
              "      <th>11806</th>\n",
              "      <td>иресса</td>\n",
              "      <td>0</td>\n",
              "      <td>11</td>\n",
              "      <td>0.0</td>\n",
              "      <td>0.0</td>\n",
              "      <td>2.0</td>\n",
              "      <td>NaN</td>\n",
              "      <td>NaN</td>\n",
              "      <td>NaN</td>\n",
              "      <td>NaN</td>\n",
              "      <td>GRND</td>\n",
              "      <td>nmod</td>\n",
              "      <td>отдам</td>\n",
              "      <td>NaN</td>\n",
              "      <td>NaN</td>\n",
              "      <td>NaN</td>\n",
              "      <td>VERB</td>\n",
              "      <td>1</td>\n",
              "      <td>2.0</td>\n",
              "      <td>NaN</td>\n",
              "      <td>[0.22230078, 0.7548038, 0.5806439, -0.7783884,...</td>\n",
              "      <td>[0.6454563, 1.3787891, -0.08284547, -0.8815415...</td>\n",
              "      <td>[0.3741008, 0.3369214, 0.08105631, -0.07942103...</td>\n",
              "    </tr>\n",
              "    <tr>\n",
              "      <th>12118</th>\n",
              "      <td>очень</td>\n",
              "      <td>0</td>\n",
              "      <td>12</td>\n",
              "      <td>0.0</td>\n",
              "      <td>0.0</td>\n",
              "      <td>2.0</td>\n",
              "      <td>NaN</td>\n",
              "      <td>NaN</td>\n",
              "      <td>NaN</td>\n",
              "      <td>NaN</td>\n",
              "      <td>ADVB</td>\n",
              "      <td>advmod</td>\n",
              "      <td>нужна</td>\n",
              "      <td>NaN</td>\n",
              "      <td>NaN</td>\n",
              "      <td>femn</td>\n",
              "      <td>ADJS</td>\n",
              "      <td>0</td>\n",
              "      <td>0.0</td>\n",
              "      <td>NaN</td>\n",
              "      <td>[0.7602969, 1.0898595, 0.24321386, -0.7180496,...</td>\n",
              "      <td>[1.0514017, 0.1298035, 0.124464616, -0.5091129...</td>\n",
              "      <td>[0.25921476, 0.3129598, -0.12391357, -0.091772...</td>\n",
              "    </tr>\n",
              "    <tr>\n",
              "      <th>12200</th>\n",
              "      <td>очень</td>\n",
              "      <td>0</td>\n",
              "      <td>13</td>\n",
              "      <td>0.0</td>\n",
              "      <td>0.0</td>\n",
              "      <td>2.0</td>\n",
              "      <td>NaN</td>\n",
              "      <td>NaN</td>\n",
              "      <td>NaN</td>\n",
              "      <td>NaN</td>\n",
              "      <td>ADVB</td>\n",
              "      <td>advmod</td>\n",
              "      <td>нужна</td>\n",
              "      <td>NaN</td>\n",
              "      <td>NaN</td>\n",
              "      <td>femn</td>\n",
              "      <td>ADJS</td>\n",
              "      <td>0</td>\n",
              "      <td>0.0</td>\n",
              "      <td>NaN</td>\n",
              "      <td>[0.7602969, 1.0898595, 0.24321386, -0.7180496,...</td>\n",
              "      <td>[1.0514017, 0.1298035, 0.124464616, -0.5091129...</td>\n",
              "      <td>[0.09398829, 0.043431763, -0.11227751, -0.0539...</td>\n",
              "    </tr>\n",
              "    <tr>\n",
              "      <th>14936</th>\n",
              "      <td>показания</td>\n",
              "      <td>0</td>\n",
              "      <td>16</td>\n",
              "      <td>0.0</td>\n",
              "      <td>0.0</td>\n",
              "      <td>2.0</td>\n",
              "      <td>inan</td>\n",
              "      <td>nomn</td>\n",
              "      <td>neut</td>\n",
              "      <td>NaN</td>\n",
              "      <td>NOUN</td>\n",
              "      <td>conj</td>\n",
              "      <td>противопоказания</td>\n",
              "      <td>inan</td>\n",
              "      <td>gent</td>\n",
              "      <td>neut</td>\n",
              "      <td>NOUN</td>\n",
              "      <td>0</td>\n",
              "      <td>0.0</td>\n",
              "      <td>plur</td>\n",
              "      <td>[0.43960813, 1.0184845, 0.13973969, 0.06580678...</td>\n",
              "      <td>[0.539705, 0.6155676, 0.1489855, 0.3148585, -0...</td>\n",
              "      <td>[0.20576093, 0.26656115, 0.19958295, -0.135161...</td>\n",
              "    </tr>\n",
              "    <tr>\n",
              "      <th>15914</th>\n",
              "      <td>медицинском</td>\n",
              "      <td>0</td>\n",
              "      <td>17</td>\n",
              "      <td>0.0</td>\n",
              "      <td>0.0</td>\n",
              "      <td>2.0</td>\n",
              "      <td>NaN</td>\n",
              "      <td>loct</td>\n",
              "      <td>masc</td>\n",
              "      <td>NaN</td>\n",
              "      <td>ADJF</td>\n",
              "      <td>amod</td>\n",
              "      <td>центре</td>\n",
              "      <td>inan</td>\n",
              "      <td>loct</td>\n",
              "      <td>masc</td>\n",
              "      <td>NOUN</td>\n",
              "      <td>0</td>\n",
              "      <td>0.0</td>\n",
              "      <td>sing</td>\n",
              "      <td>[0.109544314, -0.06820312, -0.26395273, -0.280...</td>\n",
              "      <td>[0.18526848, 0.7424086, 0.32514632, -0.5176228...</td>\n",
              "      <td>[0.36483926, 0.31632203, 0.15238614, -0.153097...</td>\n",
              "    </tr>\n",
              "    <tr>\n",
              "      <th>16582</th>\n",
              "      <td>ервой</td>\n",
              "      <td>0</td>\n",
              "      <td>19</td>\n",
              "      <td>0.0</td>\n",
              "      <td>0.0</td>\n",
              "      <td>2.0</td>\n",
              "      <td>inan</td>\n",
              "      <td>nomn</td>\n",
              "      <td>masc</td>\n",
              "      <td>NaN</td>\n",
              "      <td>NOUN</td>\n",
              "      <td>obj</td>\n",
              "      <td>ищем</td>\n",
              "      <td>NaN</td>\n",
              "      <td>NaN</td>\n",
              "      <td>NaN</td>\n",
              "      <td>VERB</td>\n",
              "      <td>0</td>\n",
              "      <td>0.0</td>\n",
              "      <td>sing</td>\n",
              "      <td>[-0.34094143, -0.37811533, 0.42654076, -0.5185...</td>\n",
              "      <td>[0.32400513, 0.479988, -0.24495874, -0.1244664...</td>\n",
              "      <td>[0.2786121, 0.3502932, 0.10621399, -0.01359223...</td>\n",
              "    </tr>\n",
              "  </tbody>\n",
              "</table>\n",
              "</div>"
            ],
            "text/plain": [
              "             TOKEN  ...                                          SENT_VECT\n",
              "2       рисперидон  ...  [0.18214528, 0.42482236, 0.25480556, -0.247987...\n",
              "576        зелдокс  ...  [0.31877407, 0.27384245, 0.23799655, -0.019877...\n",
              "1870     оланзапин  ...  [0.16827986, 0.36521766, 0.16673455, -0.139714...\n",
              "5555   галоперидол  ...  [0.19538836, 0.24671851, 0.22614184, -0.117926...\n",
              "6200       тиаприд  ...  [0.19538836, 0.24671851, 0.22614184, -0.117926...\n",
              "8450     сероквель  ...  [0.19896087, 0.2520365, 0.2642898, -0.02040538...\n",
              "8541          день  ...  [0.19896087, 0.2520365, 0.2642898, -0.02040538...\n",
              "11117          500  ...  [0.26705536, 0.36440584, 0.17336996, 0.0138553...\n",
              "11787  капецитабин  ...  [0.3741008, 0.3369214, 0.08105631, -0.07942103...\n",
              "11806       иресса  ...  [0.3741008, 0.3369214, 0.08105631, -0.07942103...\n",
              "12118        очень  ...  [0.25921476, 0.3129598, -0.12391357, -0.091772...\n",
              "12200        очень  ...  [0.09398829, 0.043431763, -0.11227751, -0.0539...\n",
              "14936    показания  ...  [0.20576093, 0.26656115, 0.19958295, -0.135161...\n",
              "15914  медицинском  ...  [0.36483926, 0.31632203, 0.15238614, -0.153097...\n",
              "16582        ервой  ...  [0.2786121, 0.3502932, 0.10621399, -0.01359223...\n",
              "\n",
              "[15 rows x 23 columns]"
            ]
          },
          "metadata": {
            "tags": []
          },
          "execution_count": 380
        }
      ]
    },
    {
      "cell_type": "code",
      "metadata": {
        "id": "GEiKxebuCPsC"
      },
      "source": [
        "# sum(df.query('POST_NUM == 0 and TOKEN_NUM == 2 and SENT_NUM == 0').TOKEN_VECT)/len(df.query('POST_NUM == 0 and TOKEN_NUM == 2 and SENT_NUM == 0').TOKEN_VECT)"
      ],
      "execution_count": 381,
      "outputs": []
    },
    {
      "cell_type": "markdown",
      "metadata": {
        "id": "r-A7JcK3tsVt"
      },
      "source": [
        "Суммируем верктора токенов, главных слов, предложения целиком, и зависимых слов. Нормализуем."
      ]
    },
    {
      "cell_type": "code",
      "metadata": {
        "id": "0ESW3_xq2h0O"
      },
      "source": [
        "\n",
        "token_axe = sum(axis_df.TOKEN_VECT)/len(axis_df.TOKEN_VECT)\n",
        "head_axe = sum(axis_df.HEAD_VECT)/len(axis_df.HEAD_VECT)\n",
        "# head_childs_axe = sum(axis_df.HEAD_CHILDS_VECT)/len(axis_df.HEAD_CHILDS_VECT)\n",
        "sent_axe = sum(axis_df.SENT_VECT)/len(axis_df.SENT_VECT)"
      ],
      "execution_count": 382,
      "outputs": []
    },
    {
      "cell_type": "code",
      "metadata": {
        "colab": {
          "base_uri": "https://localhost:8080/"
        },
        "id": "1NmYmDIwIbPS",
        "outputId": "d10cad97-c66c-4355-81d3-91b18a5baa9f"
      },
      "source": [
        "df.TOKEN_VECT[710]"
      ],
      "execution_count": 383,
      "outputs": [
        {
          "output_type": "execute_result",
          "data": {
            "text/plain": [
              "0"
            ]
          },
          "metadata": {
            "tags": []
          },
          "execution_count": 383
        }
      ]
    },
    {
      "cell_type": "markdown",
      "metadata": {
        "id": "7La2_kyRuXYI"
      },
      "source": [
        "Функция, которая заменяет столбец с векторами на столбец со значениями косинусной дистанции с соответствующей семантической осью.\n"
      ]
    },
    {
      "cell_type": "code",
      "metadata": {
        "id": "qGfEFxcRHBZz"
      },
      "source": [
        "def make_similarity(df, col, axe):\n",
        "  new_col = []\n",
        "  for ind, vect in enumerate(df[col]):\n",
        "    try:\n",
        "      new_col.append(cosine_similarity([axe], [vect])[-1][-1])\n",
        "    except ValueError:\n",
        "      new_col.append(0)\n",
        "  df[col] = new_col\n",
        "\n"
      ],
      "execution_count": 384,
      "outputs": []
    },
    {
      "cell_type": "code",
      "metadata": {
        "colab": {
          "base_uri": "https://localhost:8080/"
        },
        "id": "pDC2D4LcLFTt",
        "outputId": "38baa913-68e3-4deb-9145-d2614c8a2955"
      },
      "source": [
        "make_similarity(df, 'TOKEN_VECT', token_axe)\n",
        "make_similarity(df, 'HEAD_VECT', head_axe)\n",
        "# make_similarity(df, 'HEAD_CHILDS_VECT', head_childs_axe)\n",
        "make_similarity(df, 'SENT_VECT', sent_axe)"
      ],
      "execution_count": 385,
      "outputs": [
        {
          "output_type": "stream",
          "text": [
            "/usr/local/lib/python3.7/dist-packages/ipykernel_launcher.py:8: SettingWithCopyWarning: \n",
            "A value is trying to be set on a copy of a slice from a DataFrame.\n",
            "Try using .loc[row_indexer,col_indexer] = value instead\n",
            "\n",
            "See the caveats in the documentation: https://pandas.pydata.org/pandas-docs/stable/user_guide/indexing.html#returning-a-view-versus-a-copy\n",
            "  \n",
            "/usr/local/lib/python3.7/dist-packages/ipykernel_launcher.py:8: SettingWithCopyWarning: \n",
            "A value is trying to be set on a copy of a slice from a DataFrame.\n",
            "Try using .loc[row_indexer,col_indexer] = value instead\n",
            "\n",
            "See the caveats in the documentation: https://pandas.pydata.org/pandas-docs/stable/user_guide/indexing.html#returning-a-view-versus-a-copy\n",
            "  \n",
            "/usr/local/lib/python3.7/dist-packages/ipykernel_launcher.py:8: SettingWithCopyWarning: \n",
            "A value is trying to be set on a copy of a slice from a DataFrame.\n",
            "Try using .loc[row_indexer,col_indexer] = value instead\n",
            "\n",
            "See the caveats in the documentation: https://pandas.pydata.org/pandas-docs/stable/user_guide/indexing.html#returning-a-view-versus-a-copy\n",
            "  \n"
          ],
          "name": "stderr"
        }
      ]
    },
    {
      "cell_type": "code",
      "metadata": {
        "colab": {
          "base_uri": "https://localhost:8080/",
          "height": 0
        },
        "id": "hcdxAoSuucFG",
        "outputId": "156bce03-b8a3-4cec-c5ef-6e68bef607ae"
      },
      "source": [
        "df.TOKEN[1]"
      ],
      "execution_count": 386,
      "outputs": [
        {
          "output_type": "execute_result",
          "data": {
            "application/vnd.google.colaboratory.intrinsic+json": {
              "type": "string"
            },
            "text/plain": [
              "'препарат'"
            ]
          },
          "metadata": {
            "tags": []
          },
          "execution_count": 386
        }
      ]
    },
    {
      "cell_type": "code",
      "metadata": {
        "id": "9eJEaD0MuVt-"
      },
      "source": [
        "# df['SUM_VECT']= [(df.TOKEN_VECT[i] + df.SENT_VECT[i])/3 for i in range(len(df.SENT_VECT))]"
      ],
      "execution_count": 387,
      "outputs": []
    },
    {
      "cell_type": "markdown",
      "metadata": {
        "id": "E8S50koyuk8t"
      },
      "source": [
        "Посмотрим на обработанные данные."
      ]
    },
    {
      "cell_type": "code",
      "metadata": {
        "colab": {
          "base_uri": "https://localhost:8080/",
          "height": 0
        },
        "id": "U44h8yUwKDhf",
        "outputId": "781c98c2-9829-4824-fd50-025adcb8fefe"
      },
      "source": [
        "df"
      ],
      "execution_count": 388,
      "outputs": [
        {
          "output_type": "execute_result",
          "data": {
            "text/html": [
              "<div>\n",
              "<style scoped>\n",
              "    .dataframe tbody tr th:only-of-type {\n",
              "        vertical-align: middle;\n",
              "    }\n",
              "\n",
              "    .dataframe tbody tr th {\n",
              "        vertical-align: top;\n",
              "    }\n",
              "\n",
              "    .dataframe thead th {\n",
              "        text-align: right;\n",
              "    }\n",
              "</style>\n",
              "<table border=\"1\" class=\"dataframe\">\n",
              "  <thead>\n",
              "    <tr style=\"text-align: right;\">\n",
              "      <th></th>\n",
              "      <th>TOKEN</th>\n",
              "      <th>IS_ANSWER</th>\n",
              "      <th>TOPIC_NUM</th>\n",
              "      <th>POST_NUM</th>\n",
              "      <th>SENT_NUM</th>\n",
              "      <th>TOKEN_NUM</th>\n",
              "      <th>ANIMACY</th>\n",
              "      <th>CASE</th>\n",
              "      <th>GENDER</th>\n",
              "      <th>PERSON</th>\n",
              "      <th>POS</th>\n",
              "      <th>DEPENDENCY</th>\n",
              "      <th>HEAD</th>\n",
              "      <th>HEAD_ANIMACY</th>\n",
              "      <th>HEAD_CASE</th>\n",
              "      <th>HEAD_GENDER</th>\n",
              "      <th>HEAD_POS</th>\n",
              "      <th>NER</th>\n",
              "      <th>COREFERENCE_CLUSTER</th>\n",
              "      <th>NUMBER</th>\n",
              "      <th>TOKEN_VECT</th>\n",
              "      <th>HEAD_VECT</th>\n",
              "      <th>SENT_VECT</th>\n",
              "    </tr>\n",
              "  </thead>\n",
              "  <tbody>\n",
              "    <tr>\n",
              "      <th>0</th>\n",
              "      <td>обсуждаем</td>\n",
              "      <td>0</td>\n",
              "      <td>1</td>\n",
              "      <td>0.0</td>\n",
              "      <td>0.0</td>\n",
              "      <td>0.0</td>\n",
              "      <td>NaN</td>\n",
              "      <td>NaN</td>\n",
              "      <td>NaN</td>\n",
              "      <td>1per</td>\n",
              "      <td>VERB</td>\n",
              "      <td>ROOT</td>\n",
              "      <td>обсуждаем</td>\n",
              "      <td>NaN</td>\n",
              "      <td>NaN</td>\n",
              "      <td>NaN</td>\n",
              "      <td>VERB</td>\n",
              "      <td>0</td>\n",
              "      <td>0.0</td>\n",
              "      <td>plur</td>\n",
              "      <td>0.511493</td>\n",
              "      <td>0.548062</td>\n",
              "      <td>0.940151</td>\n",
              "    </tr>\n",
              "    <tr>\n",
              "      <th>1</th>\n",
              "      <td>препарат</td>\n",
              "      <td>0</td>\n",
              "      <td>1</td>\n",
              "      <td>0.0</td>\n",
              "      <td>0.0</td>\n",
              "      <td>1.0</td>\n",
              "      <td>inan</td>\n",
              "      <td>nomn</td>\n",
              "      <td>masc</td>\n",
              "      <td>NaN</td>\n",
              "      <td>NOUN</td>\n",
              "      <td>obj</td>\n",
              "      <td>обсуждаем</td>\n",
              "      <td>NaN</td>\n",
              "      <td>NaN</td>\n",
              "      <td>NaN</td>\n",
              "      <td>VERB</td>\n",
              "      <td>0</td>\n",
              "      <td>0.0</td>\n",
              "      <td>sing</td>\n",
              "      <td>0.555853</td>\n",
              "      <td>0.548062</td>\n",
              "      <td>0.940151</td>\n",
              "    </tr>\n",
              "    <tr>\n",
              "      <th>2</th>\n",
              "      <td>рисперидон</td>\n",
              "      <td>0</td>\n",
              "      <td>1</td>\n",
              "      <td>0.0</td>\n",
              "      <td>0.0</td>\n",
              "      <td>2.0</td>\n",
              "      <td>anim</td>\n",
              "      <td>nomn</td>\n",
              "      <td>masc</td>\n",
              "      <td>NaN</td>\n",
              "      <td>NOUN</td>\n",
              "      <td>appos</td>\n",
              "      <td>препарат</td>\n",
              "      <td>inan</td>\n",
              "      <td>nomn</td>\n",
              "      <td>masc</td>\n",
              "      <td>NOUN</td>\n",
              "      <td>1</td>\n",
              "      <td>2.0</td>\n",
              "      <td>sing</td>\n",
              "      <td>0.748514</td>\n",
              "      <td>0.872590</td>\n",
              "      <td>0.940151</td>\n",
              "    </tr>\n",
              "    <tr>\n",
              "      <th>3</th>\n",
              "      <td>рисполепт</td>\n",
              "      <td>0</td>\n",
              "      <td>1</td>\n",
              "      <td>0.0</td>\n",
              "      <td>0.0</td>\n",
              "      <td>3.0</td>\n",
              "      <td>inan</td>\n",
              "      <td>gent</td>\n",
              "      <td>femn</td>\n",
              "      <td>NaN</td>\n",
              "      <td>NOUN</td>\n",
              "      <td>parataxis</td>\n",
              "      <td>рисперидон</td>\n",
              "      <td>anim</td>\n",
              "      <td>nomn</td>\n",
              "      <td>masc</td>\n",
              "      <td>NOUN</td>\n",
              "      <td>1</td>\n",
              "      <td>3.0</td>\n",
              "      <td>plur</td>\n",
              "      <td>0.780698</td>\n",
              "      <td>0.538442</td>\n",
              "      <td>0.940151</td>\n",
              "    </tr>\n",
              "    <tr>\n",
              "      <th>4</th>\n",
              "      <td>сперидан</td>\n",
              "      <td>0</td>\n",
              "      <td>1</td>\n",
              "      <td>0.0</td>\n",
              "      <td>0.0</td>\n",
              "      <td>4.0</td>\n",
              "      <td>NaN</td>\n",
              "      <td>NaN</td>\n",
              "      <td>masc</td>\n",
              "      <td>NaN</td>\n",
              "      <td>PRTS</td>\n",
              "      <td>conj</td>\n",
              "      <td>рисполепт</td>\n",
              "      <td>inan</td>\n",
              "      <td>gent</td>\n",
              "      <td>femn</td>\n",
              "      <td>NOUN</td>\n",
              "      <td>1</td>\n",
              "      <td>4.0</td>\n",
              "      <td>sing</td>\n",
              "      <td>0.747382</td>\n",
              "      <td>0.597916</td>\n",
              "      <td>0.940151</td>\n",
              "    </tr>\n",
              "    <tr>\n",
              "      <th>...</th>\n",
              "      <td>...</td>\n",
              "      <td>...</td>\n",
              "      <td>...</td>\n",
              "      <td>...</td>\n",
              "      <td>...</td>\n",
              "      <td>...</td>\n",
              "      <td>...</td>\n",
              "      <td>...</td>\n",
              "      <td>...</td>\n",
              "      <td>...</td>\n",
              "      <td>...</td>\n",
              "      <td>...</td>\n",
              "      <td>...</td>\n",
              "      <td>...</td>\n",
              "      <td>...</td>\n",
              "      <td>...</td>\n",
              "      <td>...</td>\n",
              "      <td>...</td>\n",
              "      <td>...</td>\n",
              "      <td>...</td>\n",
              "      <td>...</td>\n",
              "      <td>...</td>\n",
              "      <td>...</td>\n",
              "    </tr>\n",
              "    <tr>\n",
              "      <th>17195</th>\n",
              "      <td>теперь</td>\n",
              "      <td>1</td>\n",
              "      <td>20</td>\n",
              "      <td>4.0</td>\n",
              "      <td>1.0</td>\n",
              "      <td>606.0</td>\n",
              "      <td>NaN</td>\n",
              "      <td>NaN</td>\n",
              "      <td>NaN</td>\n",
              "      <td>NaN</td>\n",
              "      <td>ADVB</td>\n",
              "      <td>advmod</td>\n",
              "      <td>назначили</td>\n",
              "      <td>NaN</td>\n",
              "      <td>NaN</td>\n",
              "      <td>NaN</td>\n",
              "      <td>VERB</td>\n",
              "      <td>0</td>\n",
              "      <td>0.0</td>\n",
              "      <td>NaN</td>\n",
              "      <td>0.481405</td>\n",
              "      <td>0.560032</td>\n",
              "      <td>0.914776</td>\n",
              "    </tr>\n",
              "    <tr>\n",
              "      <th>17196</th>\n",
              "      <td>нам</td>\n",
              "      <td>1</td>\n",
              "      <td>20</td>\n",
              "      <td>4.0</td>\n",
              "      <td>1.0</td>\n",
              "      <td>607.0</td>\n",
              "      <td>NaN</td>\n",
              "      <td>datv</td>\n",
              "      <td>NaN</td>\n",
              "      <td>1per</td>\n",
              "      <td>NPRO</td>\n",
              "      <td>iobj</td>\n",
              "      <td>назначили</td>\n",
              "      <td>NaN</td>\n",
              "      <td>NaN</td>\n",
              "      <td>NaN</td>\n",
              "      <td>VERB</td>\n",
              "      <td>0</td>\n",
              "      <td>0.0</td>\n",
              "      <td>plur</td>\n",
              "      <td>0.529800</td>\n",
              "      <td>0.560032</td>\n",
              "      <td>0.914776</td>\n",
              "    </tr>\n",
              "    <tr>\n",
              "      <th>17197</th>\n",
              "      <td>назначили</td>\n",
              "      <td>1</td>\n",
              "      <td>20</td>\n",
              "      <td>4.0</td>\n",
              "      <td>1.0</td>\n",
              "      <td>608.0</td>\n",
              "      <td>NaN</td>\n",
              "      <td>NaN</td>\n",
              "      <td>NaN</td>\n",
              "      <td>NaN</td>\n",
              "      <td>VERB</td>\n",
              "      <td>conj</td>\n",
              "      <td>пошел</td>\n",
              "      <td>NaN</td>\n",
              "      <td>NaN</td>\n",
              "      <td>masc</td>\n",
              "      <td>VERB</td>\n",
              "      <td>0</td>\n",
              "      <td>0.0</td>\n",
              "      <td>plur</td>\n",
              "      <td>0.679308</td>\n",
              "      <td>0.541322</td>\n",
              "      <td>0.914776</td>\n",
              "    </tr>\n",
              "    <tr>\n",
              "      <th>17198</th>\n",
              "      <td>пить</td>\n",
              "      <td>1</td>\n",
              "      <td>20</td>\n",
              "      <td>4.0</td>\n",
              "      <td>1.0</td>\n",
              "      <td>609.0</td>\n",
              "      <td>NaN</td>\n",
              "      <td>NaN</td>\n",
              "      <td>NaN</td>\n",
              "      <td>NaN</td>\n",
              "      <td>INFN</td>\n",
              "      <td>xcomp</td>\n",
              "      <td>назначили</td>\n",
              "      <td>NaN</td>\n",
              "      <td>NaN</td>\n",
              "      <td>NaN</td>\n",
              "      <td>VERB</td>\n",
              "      <td>0</td>\n",
              "      <td>0.0</td>\n",
              "      <td>NaN</td>\n",
              "      <td>0.611021</td>\n",
              "      <td>0.560032</td>\n",
              "      <td>0.914776</td>\n",
              "    </tr>\n",
              "    <tr>\n",
              "      <th>17199</th>\n",
              "      <td>капецитабин</td>\n",
              "      <td>1</td>\n",
              "      <td>20</td>\n",
              "      <td>4.0</td>\n",
              "      <td>1.0</td>\n",
              "      <td>610.0</td>\n",
              "      <td>anim</td>\n",
              "      <td>nomn</td>\n",
              "      <td>masc</td>\n",
              "      <td>NaN</td>\n",
              "      <td>NOUN</td>\n",
              "      <td>obj</td>\n",
              "      <td>пить</td>\n",
              "      <td>NaN</td>\n",
              "      <td>NaN</td>\n",
              "      <td>NaN</td>\n",
              "      <td>INFN</td>\n",
              "      <td>1</td>\n",
              "      <td>610.0</td>\n",
              "      <td>sing</td>\n",
              "      <td>0.712759</td>\n",
              "      <td>0.583721</td>\n",
              "      <td>0.914776</td>\n",
              "    </tr>\n",
              "  </tbody>\n",
              "</table>\n",
              "<p>17200 rows × 23 columns</p>\n",
              "</div>"
            ],
            "text/plain": [
              "             TOKEN IS_ANSWER TOPIC_NUM  ...  TOKEN_VECT  HEAD_VECT  SENT_VECT\n",
              "0        обсуждаем         0         1  ...    0.511493   0.548062   0.940151\n",
              "1         препарат         0         1  ...    0.555853   0.548062   0.940151\n",
              "2       рисперидон         0         1  ...    0.748514   0.872590   0.940151\n",
              "3        рисполепт         0         1  ...    0.780698   0.538442   0.940151\n",
              "4         сперидан         0         1  ...    0.747382   0.597916   0.940151\n",
              "...            ...       ...       ...  ...         ...        ...        ...\n",
              "17195       теперь         1        20  ...    0.481405   0.560032   0.914776\n",
              "17196          нам         1        20  ...    0.529800   0.560032   0.914776\n",
              "17197    назначили         1        20  ...    0.679308   0.541322   0.914776\n",
              "17198         пить         1        20  ...    0.611021   0.560032   0.914776\n",
              "17199  капецитабин         1        20  ...    0.712759   0.583721   0.914776\n",
              "\n",
              "[17200 rows x 23 columns]"
            ]
          },
          "metadata": {
            "tags": []
          },
          "execution_count": 388
        }
      ]
    },
    {
      "cell_type": "markdown",
      "metadata": {
        "id": "8FndOykVWO2D"
      },
      "source": [
        "# **ПРАВИЛОВЫЙ АЛГОРИТМ**"
      ]
    },
    {
      "cell_type": "code",
      "metadata": {
        "colab": {
          "base_uri": "https://localhost:8080/"
        },
        "id": "epA2d51jjLGX",
        "outputId": "c8afcc7f-2f62-48f1-a1da-78973a369b7a"
      },
      "source": [
        "# df.SENT_NUM = [int(i) for i in df['SENT_NUM']]\n",
        "# df.POST_NUM = [int(i) for i in df['POST_NUM']]\n",
        "# # df.TOKEN_NUM = [float(i) for i in df['TOKEN_NUM']]\n",
        "df.TOPIC_NUM = [int(i) for i in df['TOPIC_NUM']]\n",
        "df.IS_ANSWER = [int(i) for i in df['TOPIC_NUM']]\n",
        "# df.NER = [int(i) for i in df['NER']]"
      ],
      "execution_count": 389,
      "outputs": [
        {
          "output_type": "stream",
          "text": [
            "/usr/local/lib/python3.7/dist-packages/pandas/core/generic.py:5170: SettingWithCopyWarning: \n",
            "A value is trying to be set on a copy of a slice from a DataFrame.\n",
            "Try using .loc[row_indexer,col_indexer] = value instead\n",
            "\n",
            "See the caveats in the documentation: https://pandas.pydata.org/pandas-docs/stable/user_guide/indexing.html#returning-a-view-versus-a-copy\n",
            "  self[name] = value\n"
          ],
          "name": "stderr"
        }
      ]
    },
    {
      "cell_type": "code",
      "metadata": {
        "colab": {
          "base_uri": "https://localhost:8080/"
        },
        "id": "sc94aYmsaZE6",
        "outputId": "09afdc0c-eb01-4bdc-c581-e295dbbec5f2"
      },
      "source": [
        "topics = list(set(df.TOPIC_NUM.values))\n",
        "topics"
      ],
      "execution_count": 390,
      "outputs": [
        {
          "output_type": "execute_result",
          "data": {
            "text/plain": [
              "[1, 2, 3, 4, 5, 6, 7, 8, 9, 10, 11, 12, 13, 14, 15, 16, 17, 18, 19, 20]"
            ]
          },
          "metadata": {
            "tags": []
          },
          "execution_count": 390
        }
      ]
    },
    {
      "cell_type": "code",
      "metadata": {
        "colab": {
          "base_uri": "https://localhost:8080/",
          "height": 398
        },
        "id": "7TpGdyZywCdx",
        "outputId": "0f64e3d4-d43a-457b-daa6-f8680c4b3fd6"
      },
      "source": [
        "df.loc[df['TOKEN_NUM'] == 344 ]"
      ],
      "execution_count": 391,
      "outputs": [
        {
          "output_type": "execute_result",
          "data": {
            "text/html": [
              "<div>\n",
              "<style scoped>\n",
              "    .dataframe tbody tr th:only-of-type {\n",
              "        vertical-align: middle;\n",
              "    }\n",
              "\n",
              "    .dataframe tbody tr th {\n",
              "        vertical-align: top;\n",
              "    }\n",
              "\n",
              "    .dataframe thead th {\n",
              "        text-align: right;\n",
              "    }\n",
              "</style>\n",
              "<table border=\"1\" class=\"dataframe\">\n",
              "  <thead>\n",
              "    <tr style=\"text-align: right;\">\n",
              "      <th></th>\n",
              "      <th>TOKEN</th>\n",
              "      <th>IS_ANSWER</th>\n",
              "      <th>TOPIC_NUM</th>\n",
              "      <th>POST_NUM</th>\n",
              "      <th>SENT_NUM</th>\n",
              "      <th>TOKEN_NUM</th>\n",
              "      <th>ANIMACY</th>\n",
              "      <th>CASE</th>\n",
              "      <th>GENDER</th>\n",
              "      <th>PERSON</th>\n",
              "      <th>POS</th>\n",
              "      <th>DEPENDENCY</th>\n",
              "      <th>HEAD</th>\n",
              "      <th>HEAD_ANIMACY</th>\n",
              "      <th>HEAD_CASE</th>\n",
              "      <th>HEAD_GENDER</th>\n",
              "      <th>HEAD_POS</th>\n",
              "      <th>NER</th>\n",
              "      <th>COREFERENCE_CLUSTER</th>\n",
              "      <th>NUMBER</th>\n",
              "      <th>TOKEN_VECT</th>\n",
              "      <th>HEAD_VECT</th>\n",
              "      <th>SENT_VECT</th>\n",
              "    </tr>\n",
              "  </thead>\n",
              "  <tbody>\n",
              "    <tr>\n",
              "      <th>344</th>\n",
              "      <td>рисполепта</td>\n",
              "      <td>1</td>\n",
              "      <td>1</td>\n",
              "      <td>2.0</td>\n",
              "      <td>4.0</td>\n",
              "      <td>344.0</td>\n",
              "      <td>inan</td>\n",
              "      <td>nomn</td>\n",
              "      <td>femn</td>\n",
              "      <td>NaN</td>\n",
              "      <td>NOUN</td>\n",
              "      <td>nmod</td>\n",
              "      <td>приеме</td>\n",
              "      <td>inan</td>\n",
              "      <td>loct</td>\n",
              "      <td>masc</td>\n",
              "      <td>NOUN</td>\n",
              "      <td>1</td>\n",
              "      <td>344.0</td>\n",
              "      <td>sing</td>\n",
              "      <td>0.733511</td>\n",
              "      <td>0.477531</td>\n",
              "      <td>0.987734</td>\n",
              "    </tr>\n",
              "    <tr>\n",
              "      <th>918</th>\n",
              "      <td>вышло</td>\n",
              "      <td>2</td>\n",
              "      <td>2</td>\n",
              "      <td>6.0</td>\n",
              "      <td>3.0</td>\n",
              "      <td>344.0</td>\n",
              "      <td>NaN</td>\n",
              "      <td>NaN</td>\n",
              "      <td>neut</td>\n",
              "      <td>NaN</td>\n",
              "      <td>VERB</td>\n",
              "      <td>ROOT</td>\n",
              "      <td>вышло</td>\n",
              "      <td>NaN</td>\n",
              "      <td>NaN</td>\n",
              "      <td>neut</td>\n",
              "      <td>VERB</td>\n",
              "      <td>0</td>\n",
              "      <td>0.0</td>\n",
              "      <td>sing</td>\n",
              "      <td>0.537783</td>\n",
              "      <td>0.506262</td>\n",
              "      <td>0.985670</td>\n",
              "    </tr>\n",
              "    <tr>\n",
              "      <th>2212</th>\n",
              "      <td>в</td>\n",
              "      <td>3</td>\n",
              "      <td>3</td>\n",
              "      <td>5.0</td>\n",
              "      <td>8.0</td>\n",
              "      <td>344.0</td>\n",
              "      <td>NaN</td>\n",
              "      <td>NaN</td>\n",
              "      <td>NaN</td>\n",
              "      <td>NaN</td>\n",
              "      <td>PREP</td>\n",
              "      <td>case</td>\n",
              "      <td>использовании</td>\n",
              "      <td>inan</td>\n",
              "      <td>loct</td>\n",
              "      <td>neut</td>\n",
              "      <td>NOUN</td>\n",
              "      <td>0</td>\n",
              "      <td>0.0</td>\n",
              "      <td>NaN</td>\n",
              "      <td>0.477080</td>\n",
              "      <td>0.551901</td>\n",
              "      <td>0.891423</td>\n",
              "    </tr>\n",
              "    <tr>\n",
              "      <th>5897</th>\n",
              "      <td>и</td>\n",
              "      <td>4</td>\n",
              "      <td>4</td>\n",
              "      <td>6.0</td>\n",
              "      <td>7.0</td>\n",
              "      <td>344.0</td>\n",
              "      <td>NaN</td>\n",
              "      <td>NaN</td>\n",
              "      <td>NaN</td>\n",
              "      <td>NaN</td>\n",
              "      <td>CONJ</td>\n",
              "      <td>cc</td>\n",
              "      <td>выписывались</td>\n",
              "      <td>NaN</td>\n",
              "      <td>NaN</td>\n",
              "      <td>NaN</td>\n",
              "      <td>VERB</td>\n",
              "      <td>0</td>\n",
              "      <td>0.0</td>\n",
              "      <td>NaN</td>\n",
              "      <td>0.438114</td>\n",
              "      <td>0.520339</td>\n",
              "      <td>0.980574</td>\n",
              "    </tr>\n",
              "    <tr>\n",
              "      <th>6542</th>\n",
              "      <td>в</td>\n",
              "      <td>5</td>\n",
              "      <td>5</td>\n",
              "      <td>17.0</td>\n",
              "      <td>0.0</td>\n",
              "      <td>344.0</td>\n",
              "      <td>NaN</td>\n",
              "      <td>NaN</td>\n",
              "      <td>NaN</td>\n",
              "      <td>NaN</td>\n",
              "      <td>PREP</td>\n",
              "      <td>case</td>\n",
              "      <td>мозгу</td>\n",
              "      <td>inan</td>\n",
              "      <td>loc2</td>\n",
              "      <td>masc</td>\n",
              "      <td>NOUN</td>\n",
              "      <td>0</td>\n",
              "      <td>0.0</td>\n",
              "      <td>NaN</td>\n",
              "      <td>0.477080</td>\n",
              "      <td>0.457997</td>\n",
              "      <td>0.980574</td>\n",
              "    </tr>\n",
              "    <tr>\n",
              "      <th>8883</th>\n",
              "      <td>их</td>\n",
              "      <td>7</td>\n",
              "      <td>7</td>\n",
              "      <td>0.0</td>\n",
              "      <td>32.0</td>\n",
              "      <td>344.0</td>\n",
              "      <td>NaN</td>\n",
              "      <td>accs</td>\n",
              "      <td>NaN</td>\n",
              "      <td>3per</td>\n",
              "      <td>NPRO</td>\n",
              "      <td>obj</td>\n",
              "      <td>принимать</td>\n",
              "      <td>NaN</td>\n",
              "      <td>NaN</td>\n",
              "      <td>NaN</td>\n",
              "      <td>INFN</td>\n",
              "      <td>0</td>\n",
              "      <td>0.0</td>\n",
              "      <td>plur</td>\n",
              "      <td>0.452732</td>\n",
              "      <td>0.508339</td>\n",
              "      <td>0.983035</td>\n",
              "    </tr>\n",
              "    <tr>\n",
              "      <th>11513</th>\n",
              "      <td>отвратно</td>\n",
              "      <td>9</td>\n",
              "      <td>9</td>\n",
              "      <td>0.0</td>\n",
              "      <td>39.0</td>\n",
              "      <td>344.0</td>\n",
              "      <td>NaN</td>\n",
              "      <td>NaN</td>\n",
              "      <td>NaN</td>\n",
              "      <td>NaN</td>\n",
              "      <td>ADVB</td>\n",
              "      <td>advmod</td>\n",
              "      <td>перенесла</td>\n",
              "      <td>NaN</td>\n",
              "      <td>NaN</td>\n",
              "      <td>femn</td>\n",
              "      <td>VERB</td>\n",
              "      <td>0</td>\n",
              "      <td>0.0</td>\n",
              "      <td>NaN</td>\n",
              "      <td>0.568667</td>\n",
              "      <td>0.527573</td>\n",
              "      <td>0.946235</td>\n",
              "    </tr>\n",
              "    <tr>\n",
              "      <th>12936</th>\n",
              "      <td>будет</td>\n",
              "      <td>15</td>\n",
              "      <td>15</td>\n",
              "      <td>0.0</td>\n",
              "      <td>31.0</td>\n",
              "      <td>344.0</td>\n",
              "      <td>NaN</td>\n",
              "      <td>NaN</td>\n",
              "      <td>NaN</td>\n",
              "      <td>3per</td>\n",
              "      <td>VERB</td>\n",
              "      <td>advcl</td>\n",
              "      <td>проходить</td>\n",
              "      <td>NaN</td>\n",
              "      <td>NaN</td>\n",
              "      <td>NaN</td>\n",
              "      <td>INFN</td>\n",
              "      <td>0</td>\n",
              "      <td>0.0</td>\n",
              "      <td>sing</td>\n",
              "      <td>0.476435</td>\n",
              "      <td>0.609814</td>\n",
              "      <td>0.930205</td>\n",
              "    </tr>\n",
              "    <tr>\n",
              "      <th>15278</th>\n",
              "      <td>ковид</td>\n",
              "      <td>16</td>\n",
              "      <td>16</td>\n",
              "      <td>9.0</td>\n",
              "      <td>0.0</td>\n",
              "      <td>344.0</td>\n",
              "      <td>inan</td>\n",
              "      <td>nomn</td>\n",
              "      <td>masc</td>\n",
              "      <td>NaN</td>\n",
              "      <td>NOUN</td>\n",
              "      <td>conj</td>\n",
              "      <td>наименование</td>\n",
              "      <td>inan</td>\n",
              "      <td>nomn</td>\n",
              "      <td>neut</td>\n",
              "      <td>NOUN</td>\n",
              "      <td>0</td>\n",
              "      <td>0.0</td>\n",
              "      <td>sing</td>\n",
              "      <td>0.571122</td>\n",
              "      <td>0.507422</td>\n",
              "      <td>0.747537</td>\n",
              "    </tr>\n",
              "    <tr>\n",
              "      <th>16465</th>\n",
              "      <td>сказал</td>\n",
              "      <td>18</td>\n",
              "      <td>18</td>\n",
              "      <td>7.0</td>\n",
              "      <td>2.0</td>\n",
              "      <td>344.0</td>\n",
              "      <td>NaN</td>\n",
              "      <td>NaN</td>\n",
              "      <td>masc</td>\n",
              "      <td>NaN</td>\n",
              "      <td>VERB</td>\n",
              "      <td>acl:relcl</td>\n",
              "      <td>парень</td>\n",
              "      <td>anim</td>\n",
              "      <td>nomn</td>\n",
              "      <td>masc</td>\n",
              "      <td>NOUN</td>\n",
              "      <td>0</td>\n",
              "      <td>0.0</td>\n",
              "      <td>sing</td>\n",
              "      <td>0.455498</td>\n",
              "      <td>0.529717</td>\n",
              "      <td>0.867651</td>\n",
              "    </tr>\n",
              "    <tr>\n",
              "      <th>16933</th>\n",
              "      <td>ведет</td>\n",
              "      <td>20</td>\n",
              "      <td>20</td>\n",
              "      <td>0.0</td>\n",
              "      <td>21.0</td>\n",
              "      <td>344.0</td>\n",
              "      <td>NaN</td>\n",
              "      <td>NaN</td>\n",
              "      <td>NaN</td>\n",
              "      <td>3per</td>\n",
              "      <td>VERB</td>\n",
              "      <td>acl:relcl</td>\n",
              "      <td>доктор</td>\n",
              "      <td>anim</td>\n",
              "      <td>nomn</td>\n",
              "      <td>masc</td>\n",
              "      <td>NOUN</td>\n",
              "      <td>0</td>\n",
              "      <td>0.0</td>\n",
              "      <td>sing</td>\n",
              "      <td>0.487133</td>\n",
              "      <td>0.604785</td>\n",
              "      <td>0.923766</td>\n",
              "    </tr>\n",
              "  </tbody>\n",
              "</table>\n",
              "</div>"
            ],
            "text/plain": [
              "            TOKEN  IS_ANSWER  TOPIC_NUM  ...  TOKEN_VECT  HEAD_VECT  SENT_VECT\n",
              "344    рисполепта          1          1  ...    0.733511   0.477531   0.987734\n",
              "918         вышло          2          2  ...    0.537783   0.506262   0.985670\n",
              "2212            в          3          3  ...    0.477080   0.551901   0.891423\n",
              "5897            и          4          4  ...    0.438114   0.520339   0.980574\n",
              "6542            в          5          5  ...    0.477080   0.457997   0.980574\n",
              "8883           их          7          7  ...    0.452732   0.508339   0.983035\n",
              "11513    отвратно          9          9  ...    0.568667   0.527573   0.946235\n",
              "12936       будет         15         15  ...    0.476435   0.609814   0.930205\n",
              "15278       ковид         16         16  ...    0.571122   0.507422   0.747537\n",
              "16465      сказал         18         18  ...    0.455498   0.529717   0.867651\n",
              "16933       ведет         20         20  ...    0.487133   0.604785   0.923766\n",
              "\n",
              "[11 rows x 23 columns]"
            ]
          },
          "metadata": {
            "tags": []
          },
          "execution_count": 391
        }
      ]
    },
    {
      "cell_type": "code",
      "metadata": {
        "colab": {
          "base_uri": "https://localhost:8080/",
          "height": 248
        },
        "id": "jegaPaSKarn6",
        "outputId": "4c6a3864-e2f8-4c8a-9b32-96161e1ced49"
      },
      "source": [
        "\n",
        "topic_num = 1\n",
        "topic_df = df.loc[df['TOPIC_NUM'] == topic_num]\n",
        "# номера предложений топика\n",
        "sents_in_topic = list(set(df.loc[df['TOPIC_NUM'] == topic_num ].SENT_NUM))\n",
        "sents_in_topic\n",
        "# достать пост\n",
        "df.loc[(df['TOPIC_NUM'] == 1) & (df['POST_NUM'] == 1)]\n",
        "# достать конкретное предложение конкретного поста\n",
        "df.loc[(df['TOPIC_NUM'] == 1) & (df['POST_NUM'] == 1) & (df['SENT_NUM'] == 1)]\n",
        "# достать токен из предложение конкретного поста\n",
        "df.loc[(df['TOPIC_NUM'] == 1) & (df['POST_NUM'] == 1) & (df['SENT_NUM'] == 0)]\n"
      ],
      "execution_count": 392,
      "outputs": [
        {
          "output_type": "execute_result",
          "data": {
            "text/html": [
              "<div>\n",
              "<style scoped>\n",
              "    .dataframe tbody tr th:only-of-type {\n",
              "        vertical-align: middle;\n",
              "    }\n",
              "\n",
              "    .dataframe tbody tr th {\n",
              "        vertical-align: top;\n",
              "    }\n",
              "\n",
              "    .dataframe thead th {\n",
              "        text-align: right;\n",
              "    }\n",
              "</style>\n",
              "<table border=\"1\" class=\"dataframe\">\n",
              "  <thead>\n",
              "    <tr style=\"text-align: right;\">\n",
              "      <th></th>\n",
              "      <th>TOKEN</th>\n",
              "      <th>IS_ANSWER</th>\n",
              "      <th>TOPIC_NUM</th>\n",
              "      <th>POST_NUM</th>\n",
              "      <th>SENT_NUM</th>\n",
              "      <th>TOKEN_NUM</th>\n",
              "      <th>ANIMACY</th>\n",
              "      <th>CASE</th>\n",
              "      <th>GENDER</th>\n",
              "      <th>PERSON</th>\n",
              "      <th>POS</th>\n",
              "      <th>DEPENDENCY</th>\n",
              "      <th>HEAD</th>\n",
              "      <th>HEAD_ANIMACY</th>\n",
              "      <th>HEAD_CASE</th>\n",
              "      <th>HEAD_GENDER</th>\n",
              "      <th>HEAD_POS</th>\n",
              "      <th>NER</th>\n",
              "      <th>COREFERENCE_CLUSTER</th>\n",
              "      <th>NUMBER</th>\n",
              "      <th>TOKEN_VECT</th>\n",
              "      <th>HEAD_VECT</th>\n",
              "      <th>SENT_VECT</th>\n",
              "    </tr>\n",
              "  </thead>\n",
              "  <tbody>\n",
              "    <tr>\n",
              "      <th>5</th>\n",
              "      <td>не</td>\n",
              "      <td>1</td>\n",
              "      <td>1</td>\n",
              "      <td>1.0</td>\n",
              "      <td>0.0</td>\n",
              "      <td>5.0</td>\n",
              "      <td>NaN</td>\n",
              "      <td>NaN</td>\n",
              "      <td>NaN</td>\n",
              "      <td>NaN</td>\n",
              "      <td>PRCL</td>\n",
              "      <td>advmod</td>\n",
              "      <td>знаю</td>\n",
              "      <td>NaN</td>\n",
              "      <td>NaN</td>\n",
              "      <td>NaN</td>\n",
              "      <td>VERB</td>\n",
              "      <td>0</td>\n",
              "      <td>0.0</td>\n",
              "      <td>NaN</td>\n",
              "      <td>0.446344</td>\n",
              "      <td>0.490678</td>\n",
              "      <td>0.940151</td>\n",
              "    </tr>\n",
              "    <tr>\n",
              "      <th>6</th>\n",
              "      <td>знаю</td>\n",
              "      <td>1</td>\n",
              "      <td>1</td>\n",
              "      <td>1.0</td>\n",
              "      <td>0.0</td>\n",
              "      <td>6.0</td>\n",
              "      <td>NaN</td>\n",
              "      <td>NaN</td>\n",
              "      <td>NaN</td>\n",
              "      <td>1per</td>\n",
              "      <td>VERB</td>\n",
              "      <td>ROOT</td>\n",
              "      <td>знаю</td>\n",
              "      <td>NaN</td>\n",
              "      <td>NaN</td>\n",
              "      <td>NaN</td>\n",
              "      <td>VERB</td>\n",
              "      <td>0</td>\n",
              "      <td>0.0</td>\n",
              "      <td>sing</td>\n",
              "      <td>0.535778</td>\n",
              "      <td>0.490678</td>\n",
              "      <td>0.940151</td>\n",
              "    </tr>\n",
              "    <tr>\n",
              "      <th>7</th>\n",
              "      <td>стоило</td>\n",
              "      <td>1</td>\n",
              "      <td>1</td>\n",
              "      <td>1.0</td>\n",
              "      <td>0.0</td>\n",
              "      <td>7.0</td>\n",
              "      <td>NaN</td>\n",
              "      <td>NaN</td>\n",
              "      <td>neut</td>\n",
              "      <td>NaN</td>\n",
              "      <td>VERB</td>\n",
              "      <td>ccomp</td>\n",
              "      <td>знаю</td>\n",
              "      <td>NaN</td>\n",
              "      <td>NaN</td>\n",
              "      <td>NaN</td>\n",
              "      <td>VERB</td>\n",
              "      <td>0</td>\n",
              "      <td>0.0</td>\n",
              "      <td>sing</td>\n",
              "      <td>0.522965</td>\n",
              "      <td>0.490678</td>\n",
              "      <td>0.940151</td>\n",
              "    </tr>\n",
              "    <tr>\n",
              "      <th>8</th>\n",
              "      <td>ли</td>\n",
              "      <td>1</td>\n",
              "      <td>1</td>\n",
              "      <td>1.0</td>\n",
              "      <td>0.0</td>\n",
              "      <td>8.0</td>\n",
              "      <td>NaN</td>\n",
              "      <td>NaN</td>\n",
              "      <td>NaN</td>\n",
              "      <td>NaN</td>\n",
              "      <td>CONJ</td>\n",
              "      <td>advmod</td>\n",
              "      <td>стоило</td>\n",
              "      <td>NaN</td>\n",
              "      <td>NaN</td>\n",
              "      <td>neut</td>\n",
              "      <td>VERB</td>\n",
              "      <td>0</td>\n",
              "      <td>0.0</td>\n",
              "      <td>NaN</td>\n",
              "      <td>0.499507</td>\n",
              "      <td>0.456048</td>\n",
              "      <td>0.940151</td>\n",
              "    </tr>\n",
              "    <tr>\n",
              "      <th>9</th>\n",
              "      <td>мне</td>\n",
              "      <td>1</td>\n",
              "      <td>1</td>\n",
              "      <td>1.0</td>\n",
              "      <td>0.0</td>\n",
              "      <td>9.0</td>\n",
              "      <td>NaN</td>\n",
              "      <td>datv</td>\n",
              "      <td>NaN</td>\n",
              "      <td>1per</td>\n",
              "      <td>NPRO</td>\n",
              "      <td>iobj</td>\n",
              "      <td>стоило</td>\n",
              "      <td>NaN</td>\n",
              "      <td>NaN</td>\n",
              "      <td>neut</td>\n",
              "      <td>VERB</td>\n",
              "      <td>0</td>\n",
              "      <td>0.0</td>\n",
              "      <td>sing</td>\n",
              "      <td>0.504008</td>\n",
              "      <td>0.456048</td>\n",
              "      <td>0.940151</td>\n",
              "    </tr>\n",
              "    <tr>\n",
              "      <th>10</th>\n",
              "      <td>писать</td>\n",
              "      <td>1</td>\n",
              "      <td>1</td>\n",
              "      <td>1.0</td>\n",
              "      <td>0.0</td>\n",
              "      <td>10.0</td>\n",
              "      <td>NaN</td>\n",
              "      <td>NaN</td>\n",
              "      <td>NaN</td>\n",
              "      <td>NaN</td>\n",
              "      <td>INFN</td>\n",
              "      <td>csubj</td>\n",
              "      <td>стоило</td>\n",
              "      <td>NaN</td>\n",
              "      <td>NaN</td>\n",
              "      <td>neut</td>\n",
              "      <td>VERB</td>\n",
              "      <td>0</td>\n",
              "      <td>0.0</td>\n",
              "      <td>NaN</td>\n",
              "      <td>0.500269</td>\n",
              "      <td>0.456048</td>\n",
              "      <td>0.940151</td>\n",
              "    </tr>\n",
              "  </tbody>\n",
              "</table>\n",
              "</div>"
            ],
            "text/plain": [
              "     TOKEN  IS_ANSWER  TOPIC_NUM  ...  TOKEN_VECT  HEAD_VECT  SENT_VECT\n",
              "5       не          1          1  ...    0.446344   0.490678   0.940151\n",
              "6     знаю          1          1  ...    0.535778   0.490678   0.940151\n",
              "7   стоило          1          1  ...    0.522965   0.490678   0.940151\n",
              "8       ли          1          1  ...    0.499507   0.456048   0.940151\n",
              "9      мне          1          1  ...    0.504008   0.456048   0.940151\n",
              "10  писать          1          1  ...    0.500269   0.456048   0.940151\n",
              "\n",
              "[6 rows x 23 columns]"
            ]
          },
          "metadata": {
            "tags": []
          },
          "execution_count": 392
        }
      ]
    },
    {
      "cell_type": "code",
      "metadata": {
        "colab": {
          "base_uri": "https://localhost:8080/"
        },
        "id": "CR0AoZS_lUaZ",
        "outputId": "a4da4c53-23d6-4fc9-c890-9f70d8d05cf1"
      },
      "source": [
        "for i in df.loc[(df['TOPIC_NUM'] == 1) & (df['POST_NUM'] == 1) & (df['SENT_NUM'] == 0)].values:\n",
        "  print(i[-5])"
      ],
      "execution_count": 393,
      "outputs": [
        {
          "output_type": "stream",
          "text": [
            "0.0\n",
            "0.0\n",
            "0.0\n",
            "0.0\n",
            "0.0\n",
            "0.0\n"
          ],
          "name": "stdout"
        }
      ]
    },
    {
      "cell_type": "code",
      "metadata": {
        "colab": {
          "base_uri": "https://localhost:8080/"
        },
        "id": "Q-jlR3l1tXPz",
        "outputId": "7fa92a87-34bc-498a-8fbf-1aa17df2390b"
      },
      "source": [
        "# анафоры\n",
        "df.loc[(df['TOPIC_NUM'] == 1) & (df['POST_NUM'] == 1) & (df['SENT_NUM'] == 1)\n",
        "& (df['NER'] > 1)].values[0]"
      ],
      "execution_count": 394,
      "outputs": [
        {
          "output_type": "execute_result",
          "data": {
            "text/plain": [
              "array(['лекарством', 1, 1, 1.0, 1.0, 21.0, 'inan', 'ablt', 'neut', nan,\n",
              "       'NOUN', 'conj', 'нет', nan, nan, nan, 'PRED', 2, 0.0, 'sing',\n",
              "       0.47826406359672546, 0.5794814825057983, 0.9401507377624512],\n",
              "      dtype=object)"
            ]
          },
          "metadata": {
            "tags": []
          },
          "execution_count": 394
        }
      ]
    },
    {
      "cell_type": "code",
      "metadata": {
        "id": "kYvcPF-M1NeU"
      },
      "source": [
        "# sents_in_topic \n",
        "# topic_num\n",
        "# df = df.reset_index()"
      ],
      "execution_count": 395,
      "outputs": []
    },
    {
      "cell_type": "code",
      "metadata": {
        "id": "Cr4wFis7MMrL"
      },
      "source": [
        "# knn_clf = KNeighborsClassifier(n_neighbors=10, weights='distance',algorithm='ball_tree',leaf_size=5, metric='minkowski', p=1).fit(X, y)\n",
        "# knn_clf.score(X_test, y_test)"
      ],
      "execution_count": 396,
      "outputs": []
    },
    {
      "cell_type": "code",
      "metadata": {
        "id": "Yq47ne9PojeF"
      },
      "source": [
        "def rule_eval(my_X, my_y):\n",
        "  \n",
        "  tp = []\n",
        "  fp = []\n",
        "  tn = []\n",
        "  fn = []\n",
        "\n",
        "  for i in range(len(my_X)):\n",
        "    if my_X[i] != 0:\n",
        "      if my_X[i] == my_y[i]:\n",
        "        tp.append(i)\n",
        "      else:\n",
        "        fp.append(i)\n",
        "    # берем только те синглтоны, которые относятся к номинативным или прономинальным группам.\n",
        "    elif my_X[i] == 0:\n",
        "      if my_X[i] == my_y[i]:\n",
        "        tn.append(i)\n",
        "      else:\n",
        "        fn.append(i)\n",
        "  try:\n",
        "    P = len(tp)/(len(tp) + len(fp))\n",
        "  except ZeroDivisionError:\n",
        "    P = 0\n",
        "  try:\n",
        "    R = len(tp)/(len(tp) + len(fn))\n",
        "  except ZeroDivisionError:\n",
        "    R = 0\n",
        "  try:\n",
        "    F = 2*P*R/(P+R)\n",
        "  except ZeroDivisionError:\n",
        "    F = 0\n",
        "\n",
        "  print(len(tp), ' true positive')\n",
        "  print(len(fp), ' false positive')\n",
        "  print(len(tn), ' true negative')\n",
        "  print(len(fn), ' false negative')\n",
        "  print('---------')\n",
        "  print(P,' presicion')\n",
        "  print(R, ' recall')\n",
        "  print(F, ' f-score')\n"
      ],
      "execution_count": 397,
      "outputs": []
    },
    {
      "cell_type": "code",
      "metadata": {
        "id": "q5r3SixWKJ3b",
        "colab": {
          "base_uri": "https://localhost:8080/",
          "height": 68
        },
        "outputId": "0c416874-a31d-425d-cd63-1e505f6ef2c9"
      },
      "source": [
        "df.loc[(df['POS'] == 5) &  (df['PERSON'] == 1)].iloc[30:40, :]"
      ],
      "execution_count": 398,
      "outputs": [
        {
          "output_type": "execute_result",
          "data": {
            "text/html": [
              "<div>\n",
              "<style scoped>\n",
              "    .dataframe tbody tr th:only-of-type {\n",
              "        vertical-align: middle;\n",
              "    }\n",
              "\n",
              "    .dataframe tbody tr th {\n",
              "        vertical-align: top;\n",
              "    }\n",
              "\n",
              "    .dataframe thead th {\n",
              "        text-align: right;\n",
              "    }\n",
              "</style>\n",
              "<table border=\"1\" class=\"dataframe\">\n",
              "  <thead>\n",
              "    <tr style=\"text-align: right;\">\n",
              "      <th></th>\n",
              "      <th>TOKEN</th>\n",
              "      <th>IS_ANSWER</th>\n",
              "      <th>TOPIC_NUM</th>\n",
              "      <th>POST_NUM</th>\n",
              "      <th>SENT_NUM</th>\n",
              "      <th>TOKEN_NUM</th>\n",
              "      <th>ANIMACY</th>\n",
              "      <th>CASE</th>\n",
              "      <th>GENDER</th>\n",
              "      <th>PERSON</th>\n",
              "      <th>POS</th>\n",
              "      <th>DEPENDENCY</th>\n",
              "      <th>HEAD</th>\n",
              "      <th>HEAD_ANIMACY</th>\n",
              "      <th>HEAD_CASE</th>\n",
              "      <th>HEAD_GENDER</th>\n",
              "      <th>HEAD_POS</th>\n",
              "      <th>NER</th>\n",
              "      <th>COREFERENCE_CLUSTER</th>\n",
              "      <th>NUMBER</th>\n",
              "      <th>TOKEN_VECT</th>\n",
              "      <th>HEAD_VECT</th>\n",
              "      <th>SENT_VECT</th>\n",
              "    </tr>\n",
              "  </thead>\n",
              "  <tbody>\n",
              "  </tbody>\n",
              "</table>\n",
              "</div>"
            ],
            "text/plain": [
              "Empty DataFrame\n",
              "Columns: [TOKEN, IS_ANSWER, TOPIC_NUM, POST_NUM, SENT_NUM, TOKEN_NUM, ANIMACY, CASE, GENDER, PERSON, POS, DEPENDENCY, HEAD, HEAD_ANIMACY, HEAD_CASE, HEAD_GENDER, HEAD_POS, NER, COREFERENCE_CLUSTER, NUMBER, TOKEN_VECT, HEAD_VECT, SENT_VECT]\n",
              "Index: []"
            ]
          },
          "metadata": {
            "tags": []
          },
          "execution_count": 398
        }
      ]
    },
    {
      "cell_type": "code",
      "metadata": {
        "colab": {
          "base_uri": "https://localhost:8080/"
        },
        "id": "zAoYr7-E2-Rd",
        "outputId": "f8125122-fff8-45a1-8755-00e5d79d123c"
      },
      "source": [
        "topics = list(set(df.TOPIC_NUM.values))\n",
        "topics\n",
        "# all_anaphors = df.loc[(df['TOPIC_NUM'] == topic_num) & (df['POS'] == 5)]"
      ],
      "execution_count": 399,
      "outputs": [
        {
          "output_type": "execute_result",
          "data": {
            "text/plain": [
              "[1, 2, 3, 4, 5, 6, 7, 8, 9, 10, 11, 12, 13, 14, 15, 16, 17, 18, 19, 20]"
            ]
          },
          "metadata": {
            "tags": []
          },
          "execution_count": 399
        }
      ]
    },
    {
      "cell_type": "code",
      "metadata": {
        "colab": {
          "base_uri": "https://localhost:8080/"
        },
        "id": "eyveocHjeLMJ",
        "outputId": "5ab75901-9b6f-4f61-bd20-3b5465e3b5fb"
      },
      "source": [
        "# def anaphore_in_sent(sent_num, topic_num) это потом\n",
        "# изначально отталкиваемся от номеров топиков, итерация по ним\n",
        "# topics = list(set(df.TOPIC_NUM.values)) это выше\n",
        "anf_len = 0\n",
        "ant_len = 0\n",
        "ann_clusters = []\n",
        "my_clusters = []\n",
        "post_num = 0\n",
        "for topic_num in topics:\n",
        "  # print(topics, 'topics')\n",
        "  # if post_num == 3:\n",
        "  #   break\n",
        "  # извлекаем посты топика\n",
        "  posts_in_topic = list(set(df.loc[df['TOPIC_NUM'] == topic_num].POST_NUM))\n",
        "  # sents_in_topic = list(set(df.loc[df['TOPIC_NUM'] == topic_num].SENT_NUM))\n",
        "\n",
        "\n",
        "  for post_num in posts_in_topic:\n",
        "    sents_in_post = list(set(df.loc[(df['TOPIC_NUM'] == topic_num) \\\n",
        "                                    & (df['POST_NUM'] == post_num)].SENT_NUM))\n",
        "    # if post_num == 3:\n",
        "    #   break\n",
        "\n",
        "    for sent_num in sents_in_post:\n",
        "\n",
        "      sent = df.loc[(df['TOPIC_NUM'] == topic_num)  & (df['SENT_NUM'] == sent_num) \\\n",
        "                    & (df['POST_NUM'] == post_num)]\n",
        "      # собираем анафоры и антецеденты\n",
        "      # current_anaphors = sent.loc[(df['POS'] == 5) &  (df['PERSON'] == 1)]\n",
        "      current_anaphors = sent.loc[(df['POS'] == 5) &  (df['NER'] > 1)]\n",
        "      # current_antecedents = sent.loc[(sent['NER'] > 1)]\n",
        "      current_antecedents = sent.loc[(sent['NER'] == 1)]\n",
        "      anf_len += len(current_anaphors)\n",
        "      ant_len += len(current_antecedents)\n",
        "      # если нет анафоров, продолжать не имеет смысла\n",
        "      \n",
        "      if not list(current_anaphors.TOKEN):\n",
        "        continue\n",
        "\n",
        "      # если в предложении есть один антецедент, самый простой случай\n",
        "      if len(list(current_antecedents.TOKEN)) >= 1:\n",
        "        for anfr in current_anaphors.values:\n",
        "          # проверяем сходимость по числу\n",
        "          if anfr[-4] == current_antecedents.NUMBER.values[0]:\n",
        "            # добавляем в список размеченный класс\n",
        "            ann_clusters.append(anfr[-5])\n",
        "            # и класс который определило правило(антецедента из предложения)\n",
        "            my_clusters.append(current_antecedents.TOKEN_NUM.values[0])\n",
        "          else:\n",
        "            # в противном случае присваиваем нулевой класс\n",
        "            ann_clusters.append(anfr[-5])\n",
        "            # и класс, который определило правило(антецедента из предложения)\n",
        "            my_clusters.append(0.0)\n",
        "\n",
        "      # если больше одного!!\n",
        "          \n",
        "      # если в предложении его нет =(\n",
        "      elif len(list(current_antecedents.TOKEN)) == 0:\n",
        "        # ищем в посте в предложениях выше\n",
        "        post = df.loc[(df['TOPIC_NUM'] == topic_num) \\\n",
        "                      & (df['POST_NUM'] == post_num) \\\n",
        "                      & (df['SENT_NUM'] <= sent_num)]\n",
        "\n",
        "        current_antecedents = post.loc[(post['NER'] == 1) ]\n",
        "\n",
        "        # если его нету в посте, выбираем первый же антецедент из предыдущих постов\n",
        "        # топика(сверху вниз)\n",
        "        if not list(current_antecedents.TOKEN):\n",
        "          topic = df.loc[(df['TOPIC_NUM'] == topic_num)]\n",
        "          current_antecedents = topic.loc[(topic['NER'] == 1) ]\n",
        "          # проверяем, а антецеденты-то есть?\n",
        "          if not current_antecedents.TOKEN.values.any():\n",
        "              # присваиваем нулевой класс, если нет даже в топике\n",
        "              ann_clusters.append(anfr[-5])\n",
        "              # и класс, который определило правило(антецедента из предложения)\n",
        "              # для оценки\n",
        "              my_clusters.append(0.0)\n",
        "              continue\n",
        "          # ну и если они есть\n",
        "          # это можно убрать в отдельную функцию\n",
        "          for anfr in current_anaphors.values:\n",
        "            # проверяем сходимость по числу\n",
        "            # try:\n",
        "            if anfr[-4] == current_antecedents.NUMBER.values[0]:\n",
        "              # добавляем в список размеченный класс\n",
        "              ann_clusters.append(anfr[-5])\n",
        "              # и класс который определило правило(антецедента из предложения)\n",
        "              my_clusters.append(current_antecedents.TOKEN_NUM.values[0])\n",
        "              # print(ann_clusters, my_clusters, 'am I here?')\n",
        "            else:\n",
        "              # в противном случае присваиваем нулевой класс\n",
        "              ann_clusters.append(anfr[-5])\n",
        "              # и класс, который определило правило(антецедента из предложения)\n",
        "              my_clusters.append(0.0)\n",
        "\n",
        "\n",
        "        # если антецедент есть в посте раньше, выбираем первый с конца [::-1]\n",
        "        else:\n",
        "          # это можно убрать в отдельную функцию\n",
        "          for anfr in current_anaphors.values:\n",
        "            # проверяем сходимость по числу, если число вообще есть\n",
        "          \n",
        "            if anfr[-4] == current_antecedents.NUMBER.values[-1]:\n",
        "              # добавляем в список размеченный класс\n",
        "              ann_clusters.append(anfr[-5])\n",
        "              # и класс который определило правило(антецедента из предложения)\n",
        "              my_clusters.append(current_antecedents.TOKEN_NUM.values[-1])\n",
        "\n",
        "            else:\n",
        "              # в противном случае присваиваем нулевой класс\n",
        "              ann_clusters.append(anfr[-5])\n",
        "              # и класс, который определило правило(антецедента из предложения)\n",
        "              my_clusters.append(0.0)\n",
        "\n",
        "\n",
        "\n",
        "\n",
        "\n",
        "\n",
        "      # print(list(current_anaphors.TOKEN), list(current_anaphors.TOKEN), list(current_anaphors.COREFERENCE_CLUSTER) )\n",
        "      # print(list(current_antecedents.TOKEN), list(current_antecedents.TOKEN), list(current_antecedents.COREFERENCE_CLUSTER) )\n",
        "print(my_clusters)\n",
        "print('---')\n",
        "print(ann_clusters)\n",
        "print('---')\n",
        "print(len(my_clusters), len(ann_clusters))\n",
        "print(anf_len, ant_len)\n",
        "\n",
        "\n"
      ],
      "execution_count": 400,
      "outputs": [
        {
          "output_type": "stream",
          "text": [
            "[]\n",
            "---\n",
            "[]\n",
            "---\n",
            "0 0\n",
            "0 604\n"
          ],
          "name": "stdout"
        }
      ]
    },
    {
      "cell_type": "code",
      "metadata": {
        "colab": {
          "base_uri": "https://localhost:8080/"
        },
        "id": "SF7-1rhFonGC",
        "outputId": "63eba14b-5ab8-4c75-9226-494f61dc4a74"
      },
      "source": [
        "rule_eval(my_clusters, ann_clusters)"
      ],
      "execution_count": 401,
      "outputs": [
        {
          "output_type": "stream",
          "text": [
            "0  true positive\n",
            "0  false positive\n",
            "0  true negative\n",
            "0  false negative\n",
            "---------\n",
            "0  presicion\n",
            "0  recall\n",
            "0  f-score\n"
          ],
          "name": "stdout"
        }
      ]
    },
    {
      "cell_type": "markdown",
      "metadata": {
        "id": "XZo_bJR6uuvc"
      },
      "source": [
        "# **МОДЕЛИ.**"
      ]
    },
    {
      "cell_type": "markdown",
      "metadata": {
        "id": "qrdNCMTOu1P0"
      },
      "source": [
        "Факторизуем троковые данные, чтобы вместо строковых представлений классов были численные."
      ]
    },
    {
      "cell_type": "code",
      "metadata": {
        "colab": {
          "base_uri": "https://localhost:8080/"
        },
        "id": "hn2LX9ViO9i0",
        "outputId": "62b00d22-3a25-4e7f-a21a-f7e56419aa80"
      },
      "source": [
        "for_factorize = 'ANIMACY \tCASE\tGENDER\tPERSON\tPOS\tDEPENDENCY\tHEAD\tHEAD_ANIMACY\tHEAD_CASE\tHEAD_GENDER\tHEAD_POS NUMBER'.split()\n",
        "for_factorize"
      ],
      "execution_count": 402,
      "outputs": [
        {
          "output_type": "execute_result",
          "data": {
            "text/plain": [
              "['ANIMACY',\n",
              " 'CASE',\n",
              " 'GENDER',\n",
              " 'PERSON',\n",
              " 'POS',\n",
              " 'DEPENDENCY',\n",
              " 'HEAD',\n",
              " 'HEAD_ANIMACY',\n",
              " 'HEAD_CASE',\n",
              " 'HEAD_GENDER',\n",
              " 'HEAD_POS',\n",
              " 'NUMBER']"
            ]
          },
          "metadata": {
            "tags": []
          },
          "execution_count": 402
        }
      ]
    },
    {
      "cell_type": "code",
      "metadata": {
        "colab": {
          "base_uri": "https://localhost:8080/"
        },
        "id": "MuTn5rTEPJq1",
        "outputId": "be9555a4-2d28-4ebe-e640-0f9502d76b7b"
      },
      "source": [
        "_, lbl = pd.factorize(df.ANIMACY)\n",
        "print(lbl, )\n",
        "_"
      ],
      "execution_count": 403,
      "outputs": [
        {
          "output_type": "stream",
          "text": [
            "Index(['inan', 'anim'], dtype='object')\n"
          ],
          "name": "stdout"
        },
        {
          "output_type": "execute_result",
          "data": {
            "text/plain": [
              "array([-1,  0,  1, ..., -1, -1,  1])"
            ]
          },
          "metadata": {
            "tags": []
          },
          "execution_count": 403
        }
      ]
    },
    {
      "cell_type": "markdown",
      "metadata": {
        "id": "okLj0sOex6rt"
      },
      "source": [
        "Делаем словарь с маппингом, чтобы можно было достать нужное значение по индексу. В значении -1 хранится None"
      ]
    },
    {
      "cell_type": "code",
      "metadata": {
        "colab": {
          "base_uri": "https://localhost:8080/"
        },
        "id": "QoqDVz2lQjmV",
        "outputId": "0a2c3216-f093-4a6a-f250-1484135ae1ae"
      },
      "source": [
        "mapping_dict = {}\n",
        "for col_name in for_factorize:\n",
        "  col, lbl = pd.factorize(df[col_name])\n",
        "  df[col_name] = col\n",
        "  mapping_dict[col_name] = lbl\n",
        "mapping_dict  "
      ],
      "execution_count": 404,
      "outputs": [
        {
          "output_type": "stream",
          "text": [
            "/usr/local/lib/python3.7/dist-packages/ipykernel_launcher.py:4: SettingWithCopyWarning: \n",
            "A value is trying to be set on a copy of a slice from a DataFrame.\n",
            "Try using .loc[row_indexer,col_indexer] = value instead\n",
            "\n",
            "See the caveats in the documentation: https://pandas.pydata.org/pandas-docs/stable/user_guide/indexing.html#returning-a-view-versus-a-copy\n",
            "  after removing the cwd from sys.path.\n"
          ],
          "name": "stderr"
        },
        {
          "output_type": "execute_result",
          "data": {
            "text/plain": [
              "{'ANIMACY': Index(['inan', 'anim'], dtype='object'),\n",
              " 'CASE': Index(['nomn', 'gent', 'datv', 'accs', 'loct', 'ablt', 'loc2', 'voct', 'gen2'], dtype='object'),\n",
              " 'DEPENDENCY': Index(['ROOT', 'obj', 'appos', 'parataxis', 'conj', 'advmod', 'ccomp', 'iobj',\n",
              "        'csubj', 'case', 'obl', 'det', 'nsubj', 'cc', 'discourse', 'fixed',\n",
              "        'mark', 'amod', 'advcl', 'xcomp', 'nummod', 'nmod', 'nsubj:pass',\n",
              "        'nummod:gov', 'cop', 'acl:relcl', 'acl', 'aux', 'flat:foreign', 'punct',\n",
              "        'obl:agent', 'flat', 'aux:pass', 'orphan', 'expl', 'csubj:pass'],\n",
              "       dtype='object'),\n",
              " 'GENDER': Index(['masc', 'femn', 'neut'], dtype='object'),\n",
              " 'HEAD': Index(['обсуждаем', 'препарат', 'рисперидон', 'рисполепт', 'знаю', 'стоило',\n",
              "        'меня', 'нет', 'проблем', 'лекарством',\n",
              "        ...\n",
              "        'удобнее', 'иллюстрации', 'поиске', 'темам', 'посмотреть', 'случай',\n",
              "        'описала', 'побочку', 'гемцитабина', 'прошлась'],\n",
              "       dtype='object', length=2898),\n",
              " 'HEAD_ANIMACY': Index(['inan', 'anim', '\"'], dtype='object'),\n",
              " 'HEAD_CASE': Index(['nomn', 'gent', 'accs', 'ablt', 'datv', 'loct', 'loc2', 'voct'], dtype='object'),\n",
              " 'HEAD_GENDER': Index(['masc', 'femn', 'neut'], dtype='object'),\n",
              " 'HEAD_POS': Index(['VERB', 'NOUN', 'NPRO', 'PRED', 'PREP', 'INFN', 'PRTS', 'GRND', 'ADJF',\n",
              "        'ADVB', 'PRCL', 'PRTF', 'CONJ', 'ADJS', 'COMP', 'INTJ', 'NUMR'],\n",
              "       dtype='object'),\n",
              " 'NUMBER': Index(['plur', 'sing', '0'], dtype='object'),\n",
              " 'PERSON': Index(['1per', '3per', '2per'], dtype='object'),\n",
              " 'POS': Index(['VERB', 'NOUN', 'PRTS', 'PRCL', 'CONJ', 'NPRO', 'INFN', 'PREP', 'ADVB',\n",
              "        'PRED', 'ADJF', 'NUMR', 'GRND', 'COMP', 'PRTF', 'ADJS', 'INTJ'],\n",
              "       dtype='object')}"
            ]
          },
          "metadata": {
            "tags": []
          },
          "execution_count": 404
        }
      ]
    },
    {
      "cell_type": "code",
      "metadata": {
        "id": "pdg6Pp5wbx5Y"
      },
      "source": [
        "\n",
        "# labels_dict = {}\n",
        "# test_labels_dict = {}\n",
        "\n",
        "# for i in X.columns:\n",
        "#   X[i], lbl = pd.factorize(X[i])\n",
        "#   labels_dict[i] = lbl\n",
        "\n",
        "# for i in X_test.columns:\n",
        "#   X_test[i], lbl = pd.factorize(X_test[i])\n",
        "#   test_labels_dict[i] = lbl \n",
        "\n",
        "# y = cor_df['COREFERENCE_CLUSTER']\n",
        "# y, y_label = pd.factorize(y)\n",
        "\n",
        "# y_test = cor_df_test['COREFERENCE_CLUSTER']\n",
        "# y_test, y_test_label = pd.factorize(y_test)"
      ],
      "execution_count": 405,
      "outputs": []
    },
    {
      "cell_type": "code",
      "metadata": {
        "id": "EKsGPRxflEPt",
        "colab": {
          "base_uri": "https://localhost:8080/",
          "height": 427
        },
        "outputId": "806a8fff-c8a9-4566-87f8-61da23bf1d82"
      },
      "source": [
        "df.loc[ (df['NER'] == 3.0 )]"
      ],
      "execution_count": 406,
      "outputs": [
        {
          "output_type": "execute_result",
          "data": {
            "text/html": [
              "<div>\n",
              "<style scoped>\n",
              "    .dataframe tbody tr th:only-of-type {\n",
              "        vertical-align: middle;\n",
              "    }\n",
              "\n",
              "    .dataframe tbody tr th {\n",
              "        vertical-align: top;\n",
              "    }\n",
              "\n",
              "    .dataframe thead th {\n",
              "        text-align: right;\n",
              "    }\n",
              "</style>\n",
              "<table border=\"1\" class=\"dataframe\">\n",
              "  <thead>\n",
              "    <tr style=\"text-align: right;\">\n",
              "      <th></th>\n",
              "      <th>TOKEN</th>\n",
              "      <th>IS_ANSWER</th>\n",
              "      <th>TOPIC_NUM</th>\n",
              "      <th>POST_NUM</th>\n",
              "      <th>SENT_NUM</th>\n",
              "      <th>TOKEN_NUM</th>\n",
              "      <th>ANIMACY</th>\n",
              "      <th>CASE</th>\n",
              "      <th>GENDER</th>\n",
              "      <th>PERSON</th>\n",
              "      <th>POS</th>\n",
              "      <th>DEPENDENCY</th>\n",
              "      <th>HEAD</th>\n",
              "      <th>HEAD_ANIMACY</th>\n",
              "      <th>HEAD_CASE</th>\n",
              "      <th>HEAD_GENDER</th>\n",
              "      <th>HEAD_POS</th>\n",
              "      <th>NER</th>\n",
              "      <th>COREFERENCE_CLUSTER</th>\n",
              "      <th>NUMBER</th>\n",
              "      <th>TOKEN_VECT</th>\n",
              "      <th>HEAD_VECT</th>\n",
              "      <th>SENT_VECT</th>\n",
              "    </tr>\n",
              "  </thead>\n",
              "  <tbody>\n",
              "    <tr>\n",
              "      <th>475</th>\n",
              "      <td>его</td>\n",
              "      <td>1</td>\n",
              "      <td>1</td>\n",
              "      <td>7.0</td>\n",
              "      <td>1.0</td>\n",
              "      <td>475.0</td>\n",
              "      <td>-1</td>\n",
              "      <td>3</td>\n",
              "      <td>0</td>\n",
              "      <td>1</td>\n",
              "      <td>5</td>\n",
              "      <td>11</td>\n",
              "      <td>199</td>\n",
              "      <td>0</td>\n",
              "      <td>2</td>\n",
              "      <td>2</td>\n",
              "      <td>1</td>\n",
              "      <td>3</td>\n",
              "      <td>2.0</td>\n",
              "      <td>1</td>\n",
              "      <td>0.538783</td>\n",
              "      <td>0.356303</td>\n",
              "      <td>0.983795</td>\n",
              "    </tr>\n",
              "    <tr>\n",
              "      <th>566</th>\n",
              "      <td>он</td>\n",
              "      <td>1</td>\n",
              "      <td>1</td>\n",
              "      <td>9.0</td>\n",
              "      <td>3.0</td>\n",
              "      <td>566.0</td>\n",
              "      <td>-1</td>\n",
              "      <td>0</td>\n",
              "      <td>0</td>\n",
              "      <td>1</td>\n",
              "      <td>5</td>\n",
              "      <td>12</td>\n",
              "      <td>231</td>\n",
              "      <td>-1</td>\n",
              "      <td>-1</td>\n",
              "      <td>0</td>\n",
              "      <td>0</td>\n",
              "      <td>3</td>\n",
              "      <td>536.0</td>\n",
              "      <td>1</td>\n",
              "      <td>0.518812</td>\n",
              "      <td>0.414909</td>\n",
              "      <td>0.983795</td>\n",
              "    </tr>\n",
              "    <tr>\n",
              "      <th>587</th>\n",
              "      <td>он</td>\n",
              "      <td>2</td>\n",
              "      <td>2</td>\n",
              "      <td>1.0</td>\n",
              "      <td>0.0</td>\n",
              "      <td>13.0</td>\n",
              "      <td>-1</td>\n",
              "      <td>0</td>\n",
              "      <td>0</td>\n",
              "      <td>1</td>\n",
              "      <td>5</td>\n",
              "      <td>12</td>\n",
              "      <td>235</td>\n",
              "      <td>-1</td>\n",
              "      <td>-1</td>\n",
              "      <td>0</td>\n",
              "      <td>0</td>\n",
              "      <td>3</td>\n",
              "      <td>11.0</td>\n",
              "      <td>1</td>\n",
              "      <td>0.518812</td>\n",
              "      <td>0.529281</td>\n",
              "      <td>0.983795</td>\n",
              "    </tr>\n",
              "    <tr>\n",
              "      <th>594</th>\n",
              "      <td>он</td>\n",
              "      <td>2</td>\n",
              "      <td>2</td>\n",
              "      <td>1.0</td>\n",
              "      <td>1.0</td>\n",
              "      <td>20.0</td>\n",
              "      <td>-1</td>\n",
              "      <td>0</td>\n",
              "      <td>0</td>\n",
              "      <td>1</td>\n",
              "      <td>5</td>\n",
              "      <td>12</td>\n",
              "      <td>242</td>\n",
              "      <td>-1</td>\n",
              "      <td>-1</td>\n",
              "      <td>-1</td>\n",
              "      <td>0</td>\n",
              "      <td>3</td>\n",
              "      <td>11.0</td>\n",
              "      <td>1</td>\n",
              "      <td>0.518812</td>\n",
              "      <td>0.549865</td>\n",
              "      <td>0.983795</td>\n",
              "    </tr>\n",
              "    <tr>\n",
              "      <th>736</th>\n",
              "      <td>него</td>\n",
              "      <td>2</td>\n",
              "      <td>2</td>\n",
              "      <td>3.0</td>\n",
              "      <td>5.0</td>\n",
              "      <td>162.0</td>\n",
              "      <td>-1</td>\n",
              "      <td>1</td>\n",
              "      <td>0</td>\n",
              "      <td>1</td>\n",
              "      <td>5</td>\n",
              "      <td>10</td>\n",
              "      <td>293</td>\n",
              "      <td>-1</td>\n",
              "      <td>-1</td>\n",
              "      <td>-1</td>\n",
              "      <td>0</td>\n",
              "      <td>3</td>\n",
              "      <td>108.0</td>\n",
              "      <td>1</td>\n",
              "      <td>0.526389</td>\n",
              "      <td>0.563216</td>\n",
              "      <td>0.982309</td>\n",
              "    </tr>\n",
              "    <tr>\n",
              "      <th>...</th>\n",
              "      <td>...</td>\n",
              "      <td>...</td>\n",
              "      <td>...</td>\n",
              "      <td>...</td>\n",
              "      <td>...</td>\n",
              "      <td>...</td>\n",
              "      <td>...</td>\n",
              "      <td>...</td>\n",
              "      <td>...</td>\n",
              "      <td>...</td>\n",
              "      <td>...</td>\n",
              "      <td>...</td>\n",
              "      <td>...</td>\n",
              "      <td>...</td>\n",
              "      <td>...</td>\n",
              "      <td>...</td>\n",
              "      <td>...</td>\n",
              "      <td>...</td>\n",
              "      <td>...</td>\n",
              "      <td>...</td>\n",
              "      <td>...</td>\n",
              "      <td>...</td>\n",
              "      <td>...</td>\n",
              "    </tr>\n",
              "    <tr>\n",
              "      <th>14906</th>\n",
              "      <td>него</td>\n",
              "      <td>15</td>\n",
              "      <td>15</td>\n",
              "      <td>19.0</td>\n",
              "      <td>3.0</td>\n",
              "      <td>2314.0</td>\n",
              "      <td>-1</td>\n",
              "      <td>1</td>\n",
              "      <td>0</td>\n",
              "      <td>1</td>\n",
              "      <td>5</td>\n",
              "      <td>21</td>\n",
              "      <td>2453</td>\n",
              "      <td>-1</td>\n",
              "      <td>-1</td>\n",
              "      <td>-1</td>\n",
              "      <td>15</td>\n",
              "      <td>3</td>\n",
              "      <td>2295.0</td>\n",
              "      <td>1</td>\n",
              "      <td>0.526389</td>\n",
              "      <td>0.471126</td>\n",
              "      <td>0.975469</td>\n",
              "    </tr>\n",
              "    <tr>\n",
              "      <th>14967</th>\n",
              "      <td>он</td>\n",
              "      <td>16</td>\n",
              "      <td>16</td>\n",
              "      <td>1.0</td>\n",
              "      <td>4.0</td>\n",
              "      <td>33.0</td>\n",
              "      <td>-1</td>\n",
              "      <td>0</td>\n",
              "      <td>0</td>\n",
              "      <td>1</td>\n",
              "      <td>5</td>\n",
              "      <td>12</td>\n",
              "      <td>2504</td>\n",
              "      <td>-1</td>\n",
              "      <td>-1</td>\n",
              "      <td>0</td>\n",
              "      <td>0</td>\n",
              "      <td>3</td>\n",
              "      <td>0.0</td>\n",
              "      <td>1</td>\n",
              "      <td>0.518812</td>\n",
              "      <td>0.583091</td>\n",
              "      <td>0.975469</td>\n",
              "    </tr>\n",
              "    <tr>\n",
              "      <th>16328</th>\n",
              "      <td>они</td>\n",
              "      <td>18</td>\n",
              "      <td>18</td>\n",
              "      <td>6.0</td>\n",
              "      <td>2.0</td>\n",
              "      <td>207.0</td>\n",
              "      <td>-1</td>\n",
              "      <td>0</td>\n",
              "      <td>-1</td>\n",
              "      <td>1</td>\n",
              "      <td>5</td>\n",
              "      <td>12</td>\n",
              "      <td>2507</td>\n",
              "      <td>-1</td>\n",
              "      <td>-1</td>\n",
              "      <td>-1</td>\n",
              "      <td>9</td>\n",
              "      <td>3</td>\n",
              "      <td>0.0</td>\n",
              "      <td>0</td>\n",
              "      <td>0.446876</td>\n",
              "      <td>0.496836</td>\n",
              "      <td>0.951310</td>\n",
              "    </tr>\n",
              "    <tr>\n",
              "      <th>16391</th>\n",
              "      <td>его</td>\n",
              "      <td>18</td>\n",
              "      <td>18</td>\n",
              "      <td>6.0</td>\n",
              "      <td>5.0</td>\n",
              "      <td>270.0</td>\n",
              "      <td>-1</td>\n",
              "      <td>3</td>\n",
              "      <td>0</td>\n",
              "      <td>1</td>\n",
              "      <td>5</td>\n",
              "      <td>1</td>\n",
              "      <td>1588</td>\n",
              "      <td>-1</td>\n",
              "      <td>-1</td>\n",
              "      <td>-1</td>\n",
              "      <td>5</td>\n",
              "      <td>3</td>\n",
              "      <td>0.0</td>\n",
              "      <td>1</td>\n",
              "      <td>0.538783</td>\n",
              "      <td>0.545282</td>\n",
              "      <td>0.936769</td>\n",
              "    </tr>\n",
              "    <tr>\n",
              "      <th>16496</th>\n",
              "      <td>он</td>\n",
              "      <td>18</td>\n",
              "      <td>18</td>\n",
              "      <td>7.0</td>\n",
              "      <td>4.0</td>\n",
              "      <td>375.0</td>\n",
              "      <td>-1</td>\n",
              "      <td>0</td>\n",
              "      <td>0</td>\n",
              "      <td>1</td>\n",
              "      <td>5</td>\n",
              "      <td>12</td>\n",
              "      <td>1237</td>\n",
              "      <td>-1</td>\n",
              "      <td>-1</td>\n",
              "      <td>0</td>\n",
              "      <td>0</td>\n",
              "      <td>3</td>\n",
              "      <td>0.0</td>\n",
              "      <td>1</td>\n",
              "      <td>0.518812</td>\n",
              "      <td>0.414427</td>\n",
              "      <td>0.940285</td>\n",
              "    </tr>\n",
              "  </tbody>\n",
              "</table>\n",
              "<p>117 rows × 23 columns</p>\n",
              "</div>"
            ],
            "text/plain": [
              "      TOKEN  IS_ANSWER  TOPIC_NUM  ...  TOKEN_VECT  HEAD_VECT  SENT_VECT\n",
              "475     его          1          1  ...    0.538783   0.356303   0.983795\n",
              "566      он          1          1  ...    0.518812   0.414909   0.983795\n",
              "587      он          2          2  ...    0.518812   0.529281   0.983795\n",
              "594      он          2          2  ...    0.518812   0.549865   0.983795\n",
              "736    него          2          2  ...    0.526389   0.563216   0.982309\n",
              "...     ...        ...        ...  ...         ...        ...        ...\n",
              "14906  него         15         15  ...    0.526389   0.471126   0.975469\n",
              "14967    он         16         16  ...    0.518812   0.583091   0.975469\n",
              "16328   они         18         18  ...    0.446876   0.496836   0.951310\n",
              "16391   его         18         18  ...    0.538783   0.545282   0.936769\n",
              "16496    он         18         18  ...    0.518812   0.414427   0.940285\n",
              "\n",
              "[117 rows x 23 columns]"
            ]
          },
          "metadata": {
            "tags": []
          },
          "execution_count": 406
        }
      ]
    },
    {
      "cell_type": "code",
      "metadata": {
        "colab": {
          "base_uri": "https://localhost:8080/",
          "height": 427
        },
        "id": "FJxFPuolOm_y",
        "outputId": "aa111ae9-6721-407c-c2da-8f7a68c737f8"
      },
      "source": [
        "df.loc[(df['NER'] == 1.0) | (df['NER'] == 2.0 )]"
      ],
      "execution_count": 407,
      "outputs": [
        {
          "output_type": "execute_result",
          "data": {
            "text/html": [
              "<div>\n",
              "<style scoped>\n",
              "    .dataframe tbody tr th:only-of-type {\n",
              "        vertical-align: middle;\n",
              "    }\n",
              "\n",
              "    .dataframe tbody tr th {\n",
              "        vertical-align: top;\n",
              "    }\n",
              "\n",
              "    .dataframe thead th {\n",
              "        text-align: right;\n",
              "    }\n",
              "</style>\n",
              "<table border=\"1\" class=\"dataframe\">\n",
              "  <thead>\n",
              "    <tr style=\"text-align: right;\">\n",
              "      <th></th>\n",
              "      <th>TOKEN</th>\n",
              "      <th>IS_ANSWER</th>\n",
              "      <th>TOPIC_NUM</th>\n",
              "      <th>POST_NUM</th>\n",
              "      <th>SENT_NUM</th>\n",
              "      <th>TOKEN_NUM</th>\n",
              "      <th>ANIMACY</th>\n",
              "      <th>CASE</th>\n",
              "      <th>GENDER</th>\n",
              "      <th>PERSON</th>\n",
              "      <th>POS</th>\n",
              "      <th>DEPENDENCY</th>\n",
              "      <th>HEAD</th>\n",
              "      <th>HEAD_ANIMACY</th>\n",
              "      <th>HEAD_CASE</th>\n",
              "      <th>HEAD_GENDER</th>\n",
              "      <th>HEAD_POS</th>\n",
              "      <th>NER</th>\n",
              "      <th>COREFERENCE_CLUSTER</th>\n",
              "      <th>NUMBER</th>\n",
              "      <th>TOKEN_VECT</th>\n",
              "      <th>HEAD_VECT</th>\n",
              "      <th>SENT_VECT</th>\n",
              "    </tr>\n",
              "  </thead>\n",
              "  <tbody>\n",
              "    <tr>\n",
              "      <th>2</th>\n",
              "      <td>рисперидон</td>\n",
              "      <td>1</td>\n",
              "      <td>1</td>\n",
              "      <td>0.0</td>\n",
              "      <td>0.0</td>\n",
              "      <td>2.0</td>\n",
              "      <td>1</td>\n",
              "      <td>0</td>\n",
              "      <td>0</td>\n",
              "      <td>-1</td>\n",
              "      <td>1</td>\n",
              "      <td>2</td>\n",
              "      <td>1</td>\n",
              "      <td>0</td>\n",
              "      <td>0</td>\n",
              "      <td>0</td>\n",
              "      <td>1</td>\n",
              "      <td>1</td>\n",
              "      <td>2.0</td>\n",
              "      <td>1</td>\n",
              "      <td>0.748514</td>\n",
              "      <td>0.872590</td>\n",
              "      <td>0.940151</td>\n",
              "    </tr>\n",
              "    <tr>\n",
              "      <th>3</th>\n",
              "      <td>рисполепт</td>\n",
              "      <td>1</td>\n",
              "      <td>1</td>\n",
              "      <td>0.0</td>\n",
              "      <td>0.0</td>\n",
              "      <td>3.0</td>\n",
              "      <td>0</td>\n",
              "      <td>1</td>\n",
              "      <td>1</td>\n",
              "      <td>-1</td>\n",
              "      <td>1</td>\n",
              "      <td>3</td>\n",
              "      <td>2</td>\n",
              "      <td>1</td>\n",
              "      <td>0</td>\n",
              "      <td>0</td>\n",
              "      <td>1</td>\n",
              "      <td>1</td>\n",
              "      <td>3.0</td>\n",
              "      <td>0</td>\n",
              "      <td>0.780698</td>\n",
              "      <td>0.538442</td>\n",
              "      <td>0.940151</td>\n",
              "    </tr>\n",
              "    <tr>\n",
              "      <th>4</th>\n",
              "      <td>сперидан</td>\n",
              "      <td>1</td>\n",
              "      <td>1</td>\n",
              "      <td>0.0</td>\n",
              "      <td>0.0</td>\n",
              "      <td>4.0</td>\n",
              "      <td>-1</td>\n",
              "      <td>-1</td>\n",
              "      <td>0</td>\n",
              "      <td>-1</td>\n",
              "      <td>2</td>\n",
              "      <td>4</td>\n",
              "      <td>3</td>\n",
              "      <td>0</td>\n",
              "      <td>1</td>\n",
              "      <td>1</td>\n",
              "      <td>1</td>\n",
              "      <td>1</td>\n",
              "      <td>4.0</td>\n",
              "      <td>1</td>\n",
              "      <td>0.747382</td>\n",
              "      <td>0.597916</td>\n",
              "      <td>0.940151</td>\n",
              "    </tr>\n",
              "    <tr>\n",
              "      <th>21</th>\n",
              "      <td>лекарством</td>\n",
              "      <td>1</td>\n",
              "      <td>1</td>\n",
              "      <td>1.0</td>\n",
              "      <td>1.0</td>\n",
              "      <td>21.0</td>\n",
              "      <td>0</td>\n",
              "      <td>5</td>\n",
              "      <td>2</td>\n",
              "      <td>-1</td>\n",
              "      <td>1</td>\n",
              "      <td>4</td>\n",
              "      <td>7</td>\n",
              "      <td>-1</td>\n",
              "      <td>-1</td>\n",
              "      <td>-1</td>\n",
              "      <td>3</td>\n",
              "      <td>2</td>\n",
              "      <td>0.0</td>\n",
              "      <td>1</td>\n",
              "      <td>0.478264</td>\n",
              "      <td>0.579481</td>\n",
              "      <td>0.940151</td>\n",
              "    </tr>\n",
              "    <tr>\n",
              "      <th>142</th>\n",
              "      <td>рисполепта</td>\n",
              "      <td>1</td>\n",
              "      <td>1</td>\n",
              "      <td>1.0</td>\n",
              "      <td>13.0</td>\n",
              "      <td>142.0</td>\n",
              "      <td>0</td>\n",
              "      <td>0</td>\n",
              "      <td>1</td>\n",
              "      <td>-1</td>\n",
              "      <td>1</td>\n",
              "      <td>21</td>\n",
              "      <td>69</td>\n",
              "      <td>0</td>\n",
              "      <td>2</td>\n",
              "      <td>1</td>\n",
              "      <td>1</td>\n",
              "      <td>1</td>\n",
              "      <td>142.0</td>\n",
              "      <td>1</td>\n",
              "      <td>0.733511</td>\n",
              "      <td>0.513843</td>\n",
              "      <td>0.940151</td>\n",
              "    </tr>\n",
              "    <tr>\n",
              "      <th>...</th>\n",
              "      <td>...</td>\n",
              "      <td>...</td>\n",
              "      <td>...</td>\n",
              "      <td>...</td>\n",
              "      <td>...</td>\n",
              "      <td>...</td>\n",
              "      <td>...</td>\n",
              "      <td>...</td>\n",
              "      <td>...</td>\n",
              "      <td>...</td>\n",
              "      <td>...</td>\n",
              "      <td>...</td>\n",
              "      <td>...</td>\n",
              "      <td>...</td>\n",
              "      <td>...</td>\n",
              "      <td>...</td>\n",
              "      <td>...</td>\n",
              "      <td>...</td>\n",
              "      <td>...</td>\n",
              "      <td>...</td>\n",
              "      <td>...</td>\n",
              "      <td>...</td>\n",
              "      <td>...</td>\n",
              "    </tr>\n",
              "    <tr>\n",
              "      <th>16961</th>\n",
              "      <td>капецитабина</td>\n",
              "      <td>20</td>\n",
              "      <td>20</td>\n",
              "      <td>0.0</td>\n",
              "      <td>23.0</td>\n",
              "      <td>372.0</td>\n",
              "      <td>1</td>\n",
              "      <td>1</td>\n",
              "      <td>0</td>\n",
              "      <td>-1</td>\n",
              "      <td>1</td>\n",
              "      <td>1</td>\n",
              "      <td>1405</td>\n",
              "      <td>-1</td>\n",
              "      <td>-1</td>\n",
              "      <td>0</td>\n",
              "      <td>0</td>\n",
              "      <td>1</td>\n",
              "      <td>372.0</td>\n",
              "      <td>1</td>\n",
              "      <td>0.723284</td>\n",
              "      <td>0.585758</td>\n",
              "      <td>0.901807</td>\n",
              "    </tr>\n",
              "    <tr>\n",
              "      <th>17147</th>\n",
              "      <td>гемцитабина</td>\n",
              "      <td>20</td>\n",
              "      <td>20</td>\n",
              "      <td>3.0</td>\n",
              "      <td>1.0</td>\n",
              "      <td>558.0</td>\n",
              "      <td>1</td>\n",
              "      <td>1</td>\n",
              "      <td>0</td>\n",
              "      <td>-1</td>\n",
              "      <td>1</td>\n",
              "      <td>21</td>\n",
              "      <td>2895</td>\n",
              "      <td>0</td>\n",
              "      <td>2</td>\n",
              "      <td>1</td>\n",
              "      <td>1</td>\n",
              "      <td>1</td>\n",
              "      <td>558.0</td>\n",
              "      <td>1</td>\n",
              "      <td>0.631628</td>\n",
              "      <td>0.533001</td>\n",
              "      <td>0.642479</td>\n",
              "    </tr>\n",
              "    <tr>\n",
              "      <th>17164</th>\n",
              "      <td>капецитабине</td>\n",
              "      <td>20</td>\n",
              "      <td>20</td>\n",
              "      <td>3.0</td>\n",
              "      <td>2.0</td>\n",
              "      <td>575.0</td>\n",
              "      <td>1</td>\n",
              "      <td>4</td>\n",
              "      <td>0</td>\n",
              "      <td>-1</td>\n",
              "      <td>1</td>\n",
              "      <td>21</td>\n",
              "      <td>2277</td>\n",
              "      <td>0</td>\n",
              "      <td>1</td>\n",
              "      <td>0</td>\n",
              "      <td>1</td>\n",
              "      <td>1</td>\n",
              "      <td>575.0</td>\n",
              "      <td>1</td>\n",
              "      <td>0.733918</td>\n",
              "      <td>0.400140</td>\n",
              "      <td>0.758116</td>\n",
              "    </tr>\n",
              "    <tr>\n",
              "      <th>17182</th>\n",
              "      <td>гемцитабин</td>\n",
              "      <td>20</td>\n",
              "      <td>20</td>\n",
              "      <td>4.0</td>\n",
              "      <td>1.0</td>\n",
              "      <td>593.0</td>\n",
              "      <td>1</td>\n",
              "      <td>0</td>\n",
              "      <td>0</td>\n",
              "      <td>-1</td>\n",
              "      <td>1</td>\n",
              "      <td>21</td>\n",
              "      <td>121</td>\n",
              "      <td>0</td>\n",
              "      <td>2</td>\n",
              "      <td>1</td>\n",
              "      <td>1</td>\n",
              "      <td>1</td>\n",
              "      <td>593.0</td>\n",
              "      <td>1</td>\n",
              "      <td>0.615298</td>\n",
              "      <td>0.472652</td>\n",
              "      <td>0.893035</td>\n",
              "    </tr>\n",
              "    <tr>\n",
              "      <th>17199</th>\n",
              "      <td>капецитабин</td>\n",
              "      <td>20</td>\n",
              "      <td>20</td>\n",
              "      <td>4.0</td>\n",
              "      <td>1.0</td>\n",
              "      <td>610.0</td>\n",
              "      <td>1</td>\n",
              "      <td>0</td>\n",
              "      <td>0</td>\n",
              "      <td>-1</td>\n",
              "      <td>1</td>\n",
              "      <td>1</td>\n",
              "      <td>229</td>\n",
              "      <td>-1</td>\n",
              "      <td>-1</td>\n",
              "      <td>-1</td>\n",
              "      <td>5</td>\n",
              "      <td>1</td>\n",
              "      <td>610.0</td>\n",
              "      <td>1</td>\n",
              "      <td>0.712759</td>\n",
              "      <td>0.583721</td>\n",
              "      <td>0.914776</td>\n",
              "    </tr>\n",
              "  </tbody>\n",
              "</table>\n",
              "<p>834 rows × 23 columns</p>\n",
              "</div>"
            ],
            "text/plain": [
              "              TOKEN  IS_ANSWER  TOPIC_NUM  ...  TOKEN_VECT  HEAD_VECT  SENT_VECT\n",
              "2        рисперидон          1          1  ...    0.748514   0.872590   0.940151\n",
              "3         рисполепт          1          1  ...    0.780698   0.538442   0.940151\n",
              "4          сперидан          1          1  ...    0.747382   0.597916   0.940151\n",
              "21       лекарством          1          1  ...    0.478264   0.579481   0.940151\n",
              "142      рисполепта          1          1  ...    0.733511   0.513843   0.940151\n",
              "...             ...        ...        ...  ...         ...        ...        ...\n",
              "16961  капецитабина         20         20  ...    0.723284   0.585758   0.901807\n",
              "17147   гемцитабина         20         20  ...    0.631628   0.533001   0.642479\n",
              "17164  капецитабине         20         20  ...    0.733918   0.400140   0.758116\n",
              "17182    гемцитабин         20         20  ...    0.615298   0.472652   0.893035\n",
              "17199   капецитабин         20         20  ...    0.712759   0.583721   0.914776\n",
              "\n",
              "[834 rows x 23 columns]"
            ]
          },
          "metadata": {
            "tags": []
          },
          "execution_count": 407
        }
      ]
    },
    {
      "cell_type": "markdown",
      "metadata": {
        "id": "gHAqJq-syGu4"
      },
      "source": [
        "Разделим датасет на тестовый и тренировочный. for_train, for_test "
      ]
    },
    {
      "cell_type": "code",
      "metadata": {
        "id": "_iE_6DTwjs9r"
      },
      "source": [
        "# train, test = train_test_split(df.loc[(df['NER'] == 1.0) | (df['NER'] == 2.0 ) | (df['NER'] == 3.0 )], test_size=0.2)\n",
        "# train, test = train_test_split(df, test_size=0.2)\n",
        "train, test = train_test_split(df.loc[(df['NER'] == 2.0 ) | (df['NER'] == 3.0 )], test_size=0.2)"
      ],
      "execution_count": 408,
      "outputs": []
    },
    {
      "cell_type": "code",
      "metadata": {
        "id": "NSpO2JclSBoW"
      },
      "source": [
        "train = train.reset_index()"
      ],
      "execution_count": 409,
      "outputs": []
    },
    {
      "cell_type": "markdown",
      "metadata": {
        "id": "p9jYUXyTyO7S"
      },
      "source": [
        ""
      ]
    },
    {
      "cell_type": "code",
      "metadata": {
        "id": "15JsamoeRUQ3"
      },
      "source": [
        "test = test.reset_index()"
      ],
      "execution_count": 410,
      "outputs": []
    },
    {
      "cell_type": "code",
      "metadata": {
        "colab": {
          "base_uri": "https://localhost:8080/",
          "height": 218
        },
        "id": "yJ-7SyinSvCF",
        "outputId": "1af5c568-b774-4ca7-a177-c4896324e868"
      },
      "source": [
        "test.head(5)"
      ],
      "execution_count": 411,
      "outputs": [
        {
          "output_type": "execute_result",
          "data": {
            "text/html": [
              "<div>\n",
              "<style scoped>\n",
              "    .dataframe tbody tr th:only-of-type {\n",
              "        vertical-align: middle;\n",
              "    }\n",
              "\n",
              "    .dataframe tbody tr th {\n",
              "        vertical-align: top;\n",
              "    }\n",
              "\n",
              "    .dataframe thead th {\n",
              "        text-align: right;\n",
              "    }\n",
              "</style>\n",
              "<table border=\"1\" class=\"dataframe\">\n",
              "  <thead>\n",
              "    <tr style=\"text-align: right;\">\n",
              "      <th></th>\n",
              "      <th>index</th>\n",
              "      <th>TOKEN</th>\n",
              "      <th>IS_ANSWER</th>\n",
              "      <th>TOPIC_NUM</th>\n",
              "      <th>POST_NUM</th>\n",
              "      <th>SENT_NUM</th>\n",
              "      <th>TOKEN_NUM</th>\n",
              "      <th>ANIMACY</th>\n",
              "      <th>CASE</th>\n",
              "      <th>GENDER</th>\n",
              "      <th>PERSON</th>\n",
              "      <th>POS</th>\n",
              "      <th>DEPENDENCY</th>\n",
              "      <th>HEAD</th>\n",
              "      <th>HEAD_ANIMACY</th>\n",
              "      <th>HEAD_CASE</th>\n",
              "      <th>HEAD_GENDER</th>\n",
              "      <th>HEAD_POS</th>\n",
              "      <th>NER</th>\n",
              "      <th>COREFERENCE_CLUSTER</th>\n",
              "      <th>NUMBER</th>\n",
              "      <th>TOKEN_VECT</th>\n",
              "      <th>HEAD_VECT</th>\n",
              "      <th>SENT_VECT</th>\n",
              "    </tr>\n",
              "  </thead>\n",
              "  <tbody>\n",
              "    <tr>\n",
              "      <th>0</th>\n",
              "      <td>11565</td>\n",
              "      <td>наркотики</td>\n",
              "      <td>9</td>\n",
              "      <td>9</td>\n",
              "      <td>0.0</td>\n",
              "      <td>50.0</td>\n",
              "      <td>396.0</td>\n",
              "      <td>0</td>\n",
              "      <td>3</td>\n",
              "      <td>0</td>\n",
              "      <td>-1</td>\n",
              "      <td>1</td>\n",
              "      <td>18</td>\n",
              "      <td>2121</td>\n",
              "      <td>-1</td>\n",
              "      <td>0</td>\n",
              "      <td>-1</td>\n",
              "      <td>11</td>\n",
              "      <td>2</td>\n",
              "      <td>0.0</td>\n",
              "      <td>0</td>\n",
              "      <td>0.449996</td>\n",
              "      <td>0.428758</td>\n",
              "      <td>0.817399</td>\n",
              "    </tr>\n",
              "    <tr>\n",
              "      <th>1</th>\n",
              "      <td>11924</td>\n",
              "      <td>таб</td>\n",
              "      <td>11</td>\n",
              "      <td>11</td>\n",
              "      <td>7.0</td>\n",
              "      <td>0.0</td>\n",
              "      <td>120.0</td>\n",
              "      <td>-1</td>\n",
              "      <td>-1</td>\n",
              "      <td>-1</td>\n",
              "      <td>-1</td>\n",
              "      <td>-1</td>\n",
              "      <td>2</td>\n",
              "      <td>2190</td>\n",
              "      <td>-1</td>\n",
              "      <td>-1</td>\n",
              "      <td>-1</td>\n",
              "      <td>-1</td>\n",
              "      <td>2</td>\n",
              "      <td>116.0</td>\n",
              "      <td>-1</td>\n",
              "      <td>0.638869</td>\n",
              "      <td>0.610794</td>\n",
              "      <td>0.963449</td>\n",
              "    </tr>\n",
              "    <tr>\n",
              "      <th>2</th>\n",
              "      <td>454</td>\n",
              "      <td>препарат</td>\n",
              "      <td>1</td>\n",
              "      <td>1</td>\n",
              "      <td>7.0</td>\n",
              "      <td>0.0</td>\n",
              "      <td>454.0</td>\n",
              "      <td>0</td>\n",
              "      <td>0</td>\n",
              "      <td>0</td>\n",
              "      <td>-1</td>\n",
              "      <td>1</td>\n",
              "      <td>12</td>\n",
              "      <td>189</td>\n",
              "      <td>-1</td>\n",
              "      <td>-1</td>\n",
              "      <td>-1</td>\n",
              "      <td>0</td>\n",
              "      <td>2</td>\n",
              "      <td>2.0</td>\n",
              "      <td>1</td>\n",
              "      <td>0.555853</td>\n",
              "      <td>0.500703</td>\n",
              "      <td>0.983795</td>\n",
              "    </tr>\n",
              "    <tr>\n",
              "      <th>3</th>\n",
              "      <td>10053</td>\n",
              "      <td>химия</td>\n",
              "      <td>7</td>\n",
              "      <td>7</td>\n",
              "      <td>8.0</td>\n",
              "      <td>8.0</td>\n",
              "      <td>1514.0</td>\n",
              "      <td>0</td>\n",
              "      <td>0</td>\n",
              "      <td>1</td>\n",
              "      <td>-1</td>\n",
              "      <td>1</td>\n",
              "      <td>12</td>\n",
              "      <td>1849</td>\n",
              "      <td>-1</td>\n",
              "      <td>-1</td>\n",
              "      <td>-1</td>\n",
              "      <td>0</td>\n",
              "      <td>2</td>\n",
              "      <td>0.0</td>\n",
              "      <td>1</td>\n",
              "      <td>0.563985</td>\n",
              "      <td>0.571254</td>\n",
              "      <td>0.962667</td>\n",
              "    </tr>\n",
              "    <tr>\n",
              "      <th>4</th>\n",
              "      <td>2263</td>\n",
              "      <td>их</td>\n",
              "      <td>3</td>\n",
              "      <td>3</td>\n",
              "      <td>5.0</td>\n",
              "      <td>12.0</td>\n",
              "      <td>395.0</td>\n",
              "      <td>-1</td>\n",
              "      <td>3</td>\n",
              "      <td>-1</td>\n",
              "      <td>1</td>\n",
              "      <td>5</td>\n",
              "      <td>1</td>\n",
              "      <td>571</td>\n",
              "      <td>-1</td>\n",
              "      <td>-1</td>\n",
              "      <td>-1</td>\n",
              "      <td>5</td>\n",
              "      <td>3</td>\n",
              "      <td>388.0</td>\n",
              "      <td>0</td>\n",
              "      <td>0.452732</td>\n",
              "      <td>0.666801</td>\n",
              "      <td>0.966394</td>\n",
              "    </tr>\n",
              "  </tbody>\n",
              "</table>\n",
              "</div>"
            ],
            "text/plain": [
              "   index      TOKEN  IS_ANSWER  ...  TOKEN_VECT  HEAD_VECT  SENT_VECT\n",
              "0  11565  наркотики          9  ...    0.449996   0.428758   0.817399\n",
              "1  11924        таб         11  ...    0.638869   0.610794   0.963449\n",
              "2    454   препарат          1  ...    0.555853   0.500703   0.983795\n",
              "3  10053      химия          7  ...    0.563985   0.571254   0.962667\n",
              "4   2263         их          3  ...    0.452732   0.666801   0.966394\n",
              "\n",
              "[5 rows x 24 columns]"
            ]
          },
          "metadata": {
            "tags": []
          },
          "execution_count": 411
        }
      ]
    },
    {
      "cell_type": "code",
      "metadata": {
        "id": "4af_SNBkhigO"
      },
      "source": [
        "# test = test.iloc[:,:24].drop(['TOKEN', 'index'], axis=1)\n",
        "# test = test.drop(['TOKEN', 'index'], axis=1)"
      ],
      "execution_count": 412,
      "outputs": []
    },
    {
      "cell_type": "code",
      "metadata": {
        "id": "cBXo00kAS49b"
      },
      "source": [
        "# test.loc[test['NER'] != 0]"
      ],
      "execution_count": 413,
      "outputs": []
    },
    {
      "cell_type": "code",
      "metadata": {
        "id": "htGIdgGgPeL8"
      },
      "source": [
        "# ['TOPIC_NUM',\t'POST_NUM',\t'TOKEN_NUM',\t'GENDER',\t'PERSON', 'TOKEN', 'TOKEN_VECT', 'IS_ANSWER', 'SENT_NUM', 'HEAD_VECT', 'HEAD_CHILDS_VECT', \n",
        "#  'index', 'HEAD_ANIMACY',\t'HEAD_CASE',\t'HEAD_GENDER', 'ANIMACY',\t'CASE',\t'POS',\t'DEPENDENCY',\t'HEAD',\t'HEAD_POS']"
      ],
      "execution_count": 414,
      "outputs": []
    },
    {
      "cell_type": "code",
      "metadata": {
        "id": "FweGW5SOrkaH"
      },
      "source": [
        "# best set\n",
        "\n",
        "# X, y, X_test, y_test = train.drop(['TOKEN',  'HEAD_VECT', 'POST_NUM', 'IS_ANSWER', 'PERSON', 'HEAD_CHILDS_VECT', 'TOPIC_NUM', 'CASE', 'SENT_NUM', 'DEPENDENCY',  'index', 'HEAD_ANIMACY',\t'HEAD_CASE',\t'HEAD_GENDER', 'ANIMACY',\t\t\t\t'HEAD',\t'HEAD_POS'], axis=1).iloc[:,:18], \\\n",
        "# train.COREFERENCE_CLUSTER, test.drop(['TOKEN',  'HEAD_VECT', 'POST_NUM', 'IS_ANSWER', 'PERSON', 'HEAD_CHILDS_VECT', 'TOPIC_NUM', 'CASE', 'SENT_NUM', 'DEPENDENCY',    'index', 'HEAD_ANIMACY',\t'HEAD_CASE',\t'HEAD_GENDER', 'ANIMACY',\t\t\t'HEAD',\t'HEAD_POS'], axis=1).iloc[:,:18], test.COREFERENCE_CLUSTER"
      ],
      "execution_count": 415,
      "outputs": []
    },
    {
      "cell_type": "markdown",
      "metadata": {
        "id": "59_MptFSzbP9"
      },
      "source": [
        "Делаем наборы для обучения моделей."
      ]
    },
    {
      "cell_type": "code",
      "metadata": {
        "id": "Gz0Kri_pTC1s"
      },
      "source": [
        "X, y, X_test, y_test = train.drop(['TOKEN','GENDER','NUMBER', 'POS', 'HEAD_VECT', 'POST_NUM', 'IS_ANSWER', 'PERSON', \\\n",
        "                                   'TOPIC_NUM', 'CASE', 'SENT_NUM', 'DEPENDENCY',  'index', 'HEAD_ANIMACY',\t'HEAD_CASE',\\\n",
        "                                   \t'HEAD_GENDER', 'ANIMACY',\t'HEAD',\t'HEAD_POS'], axis=1).iloc[:,:18], \\\n",
        "train.COREFERENCE_CLUSTER, test.drop(['TOKEN','GENDER', 'NUMBER', 'POS', 'HEAD_VECT', 'POST_NUM', 'IS_ANSWER', 'PERSON', 'TOPIC_NUM', \\\n",
        "                                      'CASE', 'SENT_NUM', 'DEPENDENCY',    'index', 'HEAD_ANIMACY',\t'HEAD_CASE',\\\n",
        "                                      'HEAD_GENDER', 'ANIMACY',\t'HEAD',\t'HEAD_POS'], axis=1).iloc[:,:18],\\\n",
        "                                       test.COREFERENCE_CLUSTER"
      ],
      "execution_count": 421,
      "outputs": []
    },
    {
      "cell_type": "code",
      "metadata": {
        "id": "-omX42NNMv52"
      },
      "source": [
        "# X, y, X_test, y_test = train.drop(['TOKEN', 'index'], axis=1).iloc[:,:24], train.COREFERENCE_CLUSTER, test.drop(['TOKEN', 'index'], axis=1).iloc[:,:24], test.COREFERENCE_CLUSTER"
      ],
      "execution_count": 422,
      "outputs": []
    },
    {
      "cell_type": "code",
      "metadata": {
        "id": "2x9H9mrBGOyH"
      },
      "source": [
        "X.NER = [float(i) for i in X.NER]\n",
        "X_test.NER = [float(i) for i in X_test.NER]\n"
      ],
      "execution_count": 423,
      "outputs": []
    },
    {
      "cell_type": "code",
      "metadata": {
        "colab": {
          "base_uri": "https://localhost:8080/"
        },
        "id": "gV3OdD0OUKeU",
        "outputId": "b66db344-08fd-4e4a-d411-fc6cc510c61a"
      },
      "source": [
        "y"
      ],
      "execution_count": 424,
      "outputs": [
        {
          "output_type": "execute_result",
          "data": {
            "text/plain": [
              "0        0.0\n",
              "1        0.0\n",
              "2      156.0\n",
              "3      135.0\n",
              "4        0.0\n",
              "       ...  \n",
              "272      0.0\n",
              "273    564.0\n",
              "274     58.0\n",
              "275    135.0\n",
              "276    806.0\n",
              "Name: COREFERENCE_CLUSTER, Length: 277, dtype: float64"
            ]
          },
          "metadata": {
            "tags": []
          },
          "execution_count": 424
        }
      ]
    },
    {
      "cell_type": "markdown",
      "metadata": {
        "id": "5tK813duz_3P"
      },
      "source": [
        "Обучаем модели."
      ]
    },
    {
      "cell_type": "code",
      "metadata": {
        "colab": {
          "base_uri": "https://localhost:8080/"
        },
        "id": "lpdNSWV0fl47",
        "outputId": "4bc8adc1-32e9-4eb1-a688-2ffb4fef41d7"
      },
      "source": [
        "clf = tree.DecisionTreeClassifier(max_depth=2000, )\n",
        "clf.fit(X, y)\n",
        "clf.score(X_test, y_test)"
      ],
      "execution_count": 425,
      "outputs": [
        {
          "output_type": "execute_result",
          "data": {
            "text/plain": [
              "0.6285714285714286"
            ]
          },
          "metadata": {
            "tags": []
          },
          "execution_count": 425
        }
      ]
    },
    {
      "cell_type": "code",
      "metadata": {
        "id": "7EOq1DxzyAiQ",
        "colab": {
          "base_uri": "https://localhost:8080/"
        },
        "outputId": "797b81e2-8b6b-4429-9851-91cb13531e55"
      },
      "source": [
        "clf_entropy = tree.DecisionTreeClassifier(criterion='entropy', max_depth=2000)\n",
        "clf_entropy.fit(X, y)\n",
        "clf_entropy.score(X_test, y_test)"
      ],
      "execution_count": 426,
      "outputs": [
        {
          "output_type": "execute_result",
          "data": {
            "text/plain": [
              "0.6428571428571429"
            ]
          },
          "metadata": {
            "tags": []
          },
          "execution_count": 426
        }
      ]
    },
    {
      "cell_type": "code",
      "metadata": {
        "colab": {
          "base_uri": "https://localhost:8080/"
        },
        "id": "795Z0wfKBMRp",
        "outputId": "c46c1243-9194-48b6-8e1e-06b1de4068fe"
      },
      "source": [
        "randf_clf = RandomForestClassifier(max_depth=3000, n_estimators=600, bootstrap=True, )\n",
        "randf_clf.fit(X, y)\n",
        "randf_clf.score(X_test, y_test)"
      ],
      "execution_count": 427,
      "outputs": [
        {
          "output_type": "execute_result",
          "data": {
            "text/plain": [
              "0.6142857142857143"
            ]
          },
          "metadata": {
            "tags": []
          },
          "execution_count": 427
        }
      ]
    },
    {
      "cell_type": "code",
      "metadata": {
        "colab": {
          "base_uri": "https://localhost:8080/"
        },
        "id": "h8j0eFJPEDCI",
        "outputId": "2f62c745-2b15-4f0e-d4e5-73eada2b5346"
      },
      "source": [
        "regr = linear_model.LinearRegression()\n",
        "regr.fit(X, y)\n",
        "regr.score(X_test, y_test)\n"
      ],
      "execution_count": 428,
      "outputs": [
        {
          "output_type": "execute_result",
          "data": {
            "text/plain": [
              "1.0"
            ]
          },
          "metadata": {
            "tags": []
          },
          "execution_count": 428
        }
      ]
    },
    {
      "cell_type": "code",
      "metadata": {
        "colab": {
          "base_uri": "https://localhost:8080/"
        },
        "id": "o5Ol9LJQB-Z5",
        "outputId": "6ffa4cca-9cd3-440d-8f5b-3771c02e95d1"
      },
      "source": [
        "svm_clf = svm.SVC(decision_function_shape='ovo', cache_size=500)\n",
        "svm_clf.fit(X, y)\n",
        "svm_clf.score(X_test, y_test)"
      ],
      "execution_count": 429,
      "outputs": [
        {
          "output_type": "execute_result",
          "data": {
            "text/plain": [
              "0.4"
            ]
          },
          "metadata": {
            "tags": []
          },
          "execution_count": 429
        }
      ]
    },
    {
      "cell_type": "code",
      "metadata": {
        "colab": {
          "base_uri": "https://localhost:8080/"
        },
        "id": "v-Ib98jycNOB",
        "outputId": "c74e41fc-67e7-4465-f961-57f7c4596d15"
      },
      "source": [
        "\n",
        "knn_clf = KNeighborsClassifier(n_neighbors=10, weights='distance',algorithm='ball_tree',leaf_size=5, metric='minkowski', p=1).fit(X, y)\n",
        "knn_clf.score(X_test, y_test)"
      ],
      "execution_count": 430,
      "outputs": [
        {
          "output_type": "execute_result",
          "data": {
            "text/plain": [
              "0.6571428571428571"
            ]
          },
          "metadata": {
            "tags": []
          },
          "execution_count": 430
        }
      ]
    },
    {
      "cell_type": "code",
      "metadata": {
        "id": "4T66NsKoc_IP"
      },
      "source": [
        "# from sklearn.naive_bayes import MultinomialNB\n",
        "# naive_clf = MultinomialNB().fit(X, y)\n"
      ],
      "execution_count": 431,
      "outputs": []
    },
    {
      "cell_type": "markdown",
      "metadata": {
        "id": "wBG278Rc0_XD"
      },
      "source": [
        "# **ОЦЕНКА МОДЕЛЕЙ**"
      ]
    },
    {
      "cell_type": "code",
      "metadata": {
        "id": "26QqspXcYIU3"
      },
      "source": [
        ""
      ],
      "execution_count": 431,
      "outputs": []
    },
    {
      "cell_type": "code",
      "metadata": {
        "id": "FSTKYAktXiS9"
      },
      "source": [
        "def my_eval(X_predicted, y):\n",
        "  \n",
        "  tp = []\n",
        "  fp = []\n",
        "  tn = []\n",
        "  fn = []\n",
        "\n",
        "  for i in range(len(X_predicted)):\n",
        "    if X_predicted[i] != 0.0:\n",
        "      if X_predicted[i] == y_test[i]:\n",
        "        tp.append(i)\n",
        "      else:\n",
        "        fp.append(i)\n",
        "    # берем только те синглтоны, которые относятся к номинативным или прономинальным группам.\n",
        "    elif X_predicted[i] == 0.0 and test.iloc[:,22:23].iloc[[i]].values[0][0] in (2.0, 3.0):\n",
        "      if X_predicted[i] == y_test[i]:\n",
        "        tn.append(i)\n",
        "      else:\n",
        "        fn.append(i)\n",
        "  try:\n",
        "    P = len(tp)/(len(tp) + len(fp))\n",
        "  except ZeroDivisionError:\n",
        "    P = 0\n",
        "  try:\n",
        "    R = len(tp)/(len(tp) + len(fn))\n",
        "  except ZeroDivisionError:\n",
        "    R = 0\n",
        "  try:\n",
        "    F = 2*P*R/(P+R)\n",
        "  except ZeroDivisionError:\n",
        "    F = 0\n",
        "\n",
        "  print(len(tp), ' true positive')\n",
        "  print(len(fp), ' false positive')\n",
        "  print(len(tn), ' true negative')\n",
        "  print(len(fn), ' false negative')\n",
        "  print('---------')\n",
        "  print(P,' presicion')\n",
        "  print(R, ' recall')\n",
        "  print(F, ' f-score')\n",
        "\n"
      ],
      "execution_count": 432,
      "outputs": []
    },
    {
      "cell_type": "code",
      "metadata": {
        "id": "q0ss_ZBr73-y"
      },
      "source": [
        "pred = clf.predict(X_test)\n",
        "pred_randf = randf_clf.predict(X_test)\n",
        "pred_entropy = clf_entropy.predict(X_test)\n",
        "pred_regr = regr.predict(X_test)\n",
        "pred_svm = svm_clf.predict(X_test)\n",
        "pred_knn = knn_clf.predict(X_test)\n",
        "# naive_pred = naive_clf.predict(X_test)"
      ],
      "execution_count": 433,
      "outputs": []
    },
    {
      "cell_type": "code",
      "metadata": {
        "id": "SI2hsUJbdK4Q"
      },
      "source": [
        "# my_eval(list(naive_pred), list(y_test))"
      ],
      "execution_count": 434,
      "outputs": []
    },
    {
      "cell_type": "code",
      "metadata": {
        "colab": {
          "base_uri": "https://localhost:8080/"
        },
        "id": "iJeUENfIcdNY",
        "outputId": "96efa3ac-81fe-4dc8-b09b-cb344acee983"
      },
      "source": [
        "my_eval(list(pred_knn), list(y_test))"
      ],
      "execution_count": 435,
      "outputs": [
        {
          "output_type": "stream",
          "text": [
            "20  true positive\n",
            "22  false positive\n",
            "0  true negative\n",
            "0  false negative\n",
            "---------\n",
            "0.47619047619047616  presicion\n",
            "1.0  recall\n",
            "0.6451612903225806  f-score\n"
          ],
          "name": "stdout"
        }
      ]
    },
    {
      "cell_type": "code",
      "metadata": {
        "colab": {
          "base_uri": "https://localhost:8080/"
        },
        "id": "dVEiXSg9DF3Z",
        "outputId": "041f7d5e-05fc-41b0-d5a8-de52982cab4e"
      },
      "source": [
        "my_eval(list(pred_entropy), list(y_test))"
      ],
      "execution_count": 436,
      "outputs": [
        {
          "output_type": "stream",
          "text": [
            "19  true positive\n",
            "25  false positive\n",
            "0  true negative\n",
            "0  false negative\n",
            "---------\n",
            "0.4318181818181818  presicion\n",
            "1.0  recall\n",
            "0.6031746031746031  f-score\n"
          ],
          "name": "stdout"
        }
      ]
    },
    {
      "cell_type": "code",
      "metadata": {
        "id": "ZUoq9gZXyout",
        "colab": {
          "base_uri": "https://localhost:8080/"
        },
        "outputId": "66f90b6a-8b46-403f-9ce2-05dff18c6878"
      },
      "source": [
        "my_eval(list(pred), list(y_test))"
      ],
      "execution_count": 437,
      "outputs": [
        {
          "output_type": "stream",
          "text": [
            "18  true positive\n",
            "26  false positive\n",
            "0  true negative\n",
            "0  false negative\n",
            "---------\n",
            "0.4090909090909091  presicion\n",
            "1.0  recall\n",
            "0.5806451612903226  f-score\n"
          ],
          "name": "stdout"
        }
      ]
    },
    {
      "cell_type": "code",
      "metadata": {
        "colab": {
          "base_uri": "https://localhost:8080/"
        },
        "id": "Zg4pmJBnDFtw",
        "outputId": "1a47c89e-8c92-4776-be1b-78c5f4fc2a05"
      },
      "source": [
        "my_eval(list(pred_randf), list(y_test))"
      ],
      "execution_count": 438,
      "outputs": [
        {
          "output_type": "stream",
          "text": [
            "17  true positive\n",
            "27  false positive\n",
            "0  true negative\n",
            "0  false negative\n",
            "---------\n",
            "0.38636363636363635  presicion\n",
            "1.0  recall\n",
            "0.5573770491803279  f-score\n"
          ],
          "name": "stdout"
        }
      ]
    },
    {
      "cell_type": "code",
      "metadata": {
        "colab": {
          "base_uri": "https://localhost:8080/"
        },
        "id": "aGTYbbgLEQxy",
        "outputId": "4589a270-a038-4d76-fc51-1dc499ec5131"
      },
      "source": [
        "my_eval(list(pred_regr), list(y_test))"
      ],
      "execution_count": 439,
      "outputs": [
        {
          "output_type": "stream",
          "text": [
            "3  true positive\n",
            "67  false positive\n",
            "0  true negative\n",
            "0  false negative\n",
            "---------\n",
            "0.04285714285714286  presicion\n",
            "1.0  recall\n",
            "0.0821917808219178  f-score\n"
          ],
          "name": "stdout"
        }
      ]
    },
    {
      "cell_type": "code",
      "metadata": {
        "colab": {
          "base_uri": "https://localhost:8080/"
        },
        "id": "g7isaHkricHw",
        "outputId": "2062da11-6b56-4696-96a3-432a89842666"
      },
      "source": [
        "my_eval(list(pred_svm), list(y_test))"
      ],
      "execution_count": 440,
      "outputs": [
        {
          "output_type": "stream",
          "text": [
            "2  true positive\n",
            "20  false positive\n",
            "0  true negative\n",
            "0  false negative\n",
            "---------\n",
            "0.09090909090909091  presicion\n",
            "1.0  recall\n",
            "0.16666666666666669  f-score\n"
          ],
          "name": "stdout"
        }
      ]
    },
    {
      "cell_type": "code",
      "metadata": {
        "id": "lsoMYdF2CswH"
      },
      "source": [
        "# df['TOPIC_NUM'] == 1\n",
        "# df.loc[df['TOPIC_NUM'] == 1]"
      ],
      "execution_count": 441,
      "outputs": []
    },
    {
      "cell_type": "code",
      "metadata": {
        "colab": {
          "base_uri": "https://localhost:8080/",
          "height": 407
        },
        "id": "yK7cNeUq-PQq",
        "outputId": "4f2d3318-ef17-4f87-eedb-c4c0875a098c"
      },
      "source": [
        "df.drop(['TOKEN','GENDER','NUMBER', 'POS', 'HEAD_VECT', 'POST_NUM', 'IS_ANSWER', 'PERSON', \\\n",
        "         'TOPIC_NUM', 'CASE', 'SENT_NUM', 'DEPENDENCY',  'HEAD_ANIMACY',\t'HEAD_CASE',\t\\\n",
        "         'HEAD_GENDER', 'ANIMACY',\t'HEAD',\t'HEAD_POS'], axis=1).iloc[:,:18]"
      ],
      "execution_count": 442,
      "outputs": [
        {
          "output_type": "execute_result",
          "data": {
            "text/html": [
              "<div>\n",
              "<style scoped>\n",
              "    .dataframe tbody tr th:only-of-type {\n",
              "        vertical-align: middle;\n",
              "    }\n",
              "\n",
              "    .dataframe tbody tr th {\n",
              "        vertical-align: top;\n",
              "    }\n",
              "\n",
              "    .dataframe thead th {\n",
              "        text-align: right;\n",
              "    }\n",
              "</style>\n",
              "<table border=\"1\" class=\"dataframe\">\n",
              "  <thead>\n",
              "    <tr style=\"text-align: right;\">\n",
              "      <th></th>\n",
              "      <th>TOKEN_NUM</th>\n",
              "      <th>NER</th>\n",
              "      <th>COREFERENCE_CLUSTER</th>\n",
              "      <th>TOKEN_VECT</th>\n",
              "      <th>SENT_VECT</th>\n",
              "    </tr>\n",
              "  </thead>\n",
              "  <tbody>\n",
              "    <tr>\n",
              "      <th>0</th>\n",
              "      <td>0.0</td>\n",
              "      <td>0</td>\n",
              "      <td>0.0</td>\n",
              "      <td>0.511493</td>\n",
              "      <td>0.940151</td>\n",
              "    </tr>\n",
              "    <tr>\n",
              "      <th>1</th>\n",
              "      <td>1.0</td>\n",
              "      <td>0</td>\n",
              "      <td>0.0</td>\n",
              "      <td>0.555853</td>\n",
              "      <td>0.940151</td>\n",
              "    </tr>\n",
              "    <tr>\n",
              "      <th>2</th>\n",
              "      <td>2.0</td>\n",
              "      <td>1</td>\n",
              "      <td>2.0</td>\n",
              "      <td>0.748514</td>\n",
              "      <td>0.940151</td>\n",
              "    </tr>\n",
              "    <tr>\n",
              "      <th>3</th>\n",
              "      <td>3.0</td>\n",
              "      <td>1</td>\n",
              "      <td>3.0</td>\n",
              "      <td>0.780698</td>\n",
              "      <td>0.940151</td>\n",
              "    </tr>\n",
              "    <tr>\n",
              "      <th>4</th>\n",
              "      <td>4.0</td>\n",
              "      <td>1</td>\n",
              "      <td>4.0</td>\n",
              "      <td>0.747382</td>\n",
              "      <td>0.940151</td>\n",
              "    </tr>\n",
              "    <tr>\n",
              "      <th>...</th>\n",
              "      <td>...</td>\n",
              "      <td>...</td>\n",
              "      <td>...</td>\n",
              "      <td>...</td>\n",
              "      <td>...</td>\n",
              "    </tr>\n",
              "    <tr>\n",
              "      <th>17195</th>\n",
              "      <td>606.0</td>\n",
              "      <td>0</td>\n",
              "      <td>0.0</td>\n",
              "      <td>0.481405</td>\n",
              "      <td>0.914776</td>\n",
              "    </tr>\n",
              "    <tr>\n",
              "      <th>17196</th>\n",
              "      <td>607.0</td>\n",
              "      <td>0</td>\n",
              "      <td>0.0</td>\n",
              "      <td>0.529800</td>\n",
              "      <td>0.914776</td>\n",
              "    </tr>\n",
              "    <tr>\n",
              "      <th>17197</th>\n",
              "      <td>608.0</td>\n",
              "      <td>0</td>\n",
              "      <td>0.0</td>\n",
              "      <td>0.679308</td>\n",
              "      <td>0.914776</td>\n",
              "    </tr>\n",
              "    <tr>\n",
              "      <th>17198</th>\n",
              "      <td>609.0</td>\n",
              "      <td>0</td>\n",
              "      <td>0.0</td>\n",
              "      <td>0.611021</td>\n",
              "      <td>0.914776</td>\n",
              "    </tr>\n",
              "    <tr>\n",
              "      <th>17199</th>\n",
              "      <td>610.0</td>\n",
              "      <td>1</td>\n",
              "      <td>610.0</td>\n",
              "      <td>0.712759</td>\n",
              "      <td>0.914776</td>\n",
              "    </tr>\n",
              "  </tbody>\n",
              "</table>\n",
              "<p>17200 rows × 5 columns</p>\n",
              "</div>"
            ],
            "text/plain": [
              "       TOKEN_NUM  NER  COREFERENCE_CLUSTER  TOKEN_VECT  SENT_VECT\n",
              "0            0.0    0                  0.0    0.511493   0.940151\n",
              "1            1.0    0                  0.0    0.555853   0.940151\n",
              "2            2.0    1                  2.0    0.748514   0.940151\n",
              "3            3.0    1                  3.0    0.780698   0.940151\n",
              "4            4.0    1                  4.0    0.747382   0.940151\n",
              "...          ...  ...                  ...         ...        ...\n",
              "17195      606.0    0                  0.0    0.481405   0.914776\n",
              "17196      607.0    0                  0.0    0.529800   0.914776\n",
              "17197      608.0    0                  0.0    0.679308   0.914776\n",
              "17198      609.0    0                  0.0    0.611021   0.914776\n",
              "17199      610.0    1                610.0    0.712759   0.914776\n",
              "\n",
              "[17200 rows x 5 columns]"
            ]
          },
          "metadata": {
            "tags": []
          },
          "execution_count": 442
        }
      ]
    },
    {
      "cell_type": "code",
      "metadata": {
        "colab": {
          "base_uri": "https://localhost:8080/"
        },
        "id": "KzvMMHqC_NZd",
        "outputId": "facc7a63-ef59-4ded-c6b4-d4b56ab96929"
      },
      "source": [
        "len(df.loc[(df['POS'] == 5) & (df['NER'] > 1)].TOKEN)"
      ],
      "execution_count": 443,
      "outputs": [
        {
          "output_type": "execute_result",
          "data": {
            "text/plain": [
              "119"
            ]
          },
          "metadata": {
            "tags": []
          },
          "execution_count": 443
        }
      ]
    },
    {
      "cell_type": "code",
      "metadata": {
        "colab": {
          "base_uri": "https://localhost:8080/",
          "height": 427
        },
        "id": "1d3czPw9-0Tt",
        "outputId": "a4d85eb2-d85f-4c53-a3d5-a40963f4311c"
      },
      "source": [
        "df.loc[(df['COREFERENCE_CLUSTER'] != 0) & (df['NER'] > 1)]"
      ],
      "execution_count": 444,
      "outputs": [
        {
          "output_type": "execute_result",
          "data": {
            "text/html": [
              "<div>\n",
              "<style scoped>\n",
              "    .dataframe tbody tr th:only-of-type {\n",
              "        vertical-align: middle;\n",
              "    }\n",
              "\n",
              "    .dataframe tbody tr th {\n",
              "        vertical-align: top;\n",
              "    }\n",
              "\n",
              "    .dataframe thead th {\n",
              "        text-align: right;\n",
              "    }\n",
              "</style>\n",
              "<table border=\"1\" class=\"dataframe\">\n",
              "  <thead>\n",
              "    <tr style=\"text-align: right;\">\n",
              "      <th></th>\n",
              "      <th>TOKEN</th>\n",
              "      <th>IS_ANSWER</th>\n",
              "      <th>TOPIC_NUM</th>\n",
              "      <th>POST_NUM</th>\n",
              "      <th>SENT_NUM</th>\n",
              "      <th>TOKEN_NUM</th>\n",
              "      <th>ANIMACY</th>\n",
              "      <th>CASE</th>\n",
              "      <th>GENDER</th>\n",
              "      <th>PERSON</th>\n",
              "      <th>POS</th>\n",
              "      <th>DEPENDENCY</th>\n",
              "      <th>HEAD</th>\n",
              "      <th>HEAD_ANIMACY</th>\n",
              "      <th>HEAD_CASE</th>\n",
              "      <th>HEAD_GENDER</th>\n",
              "      <th>HEAD_POS</th>\n",
              "      <th>NER</th>\n",
              "      <th>COREFERENCE_CLUSTER</th>\n",
              "      <th>NUMBER</th>\n",
              "      <th>TOKEN_VECT</th>\n",
              "      <th>HEAD_VECT</th>\n",
              "      <th>SENT_VECT</th>\n",
              "    </tr>\n",
              "  </thead>\n",
              "  <tbody>\n",
              "    <tr>\n",
              "      <th>366</th>\n",
              "      <td>препарата</td>\n",
              "      <td>1</td>\n",
              "      <td>1</td>\n",
              "      <td>2.0</td>\n",
              "      <td>5.0</td>\n",
              "      <td>366.0</td>\n",
              "      <td>0</td>\n",
              "      <td>1</td>\n",
              "      <td>0</td>\n",
              "      <td>-1</td>\n",
              "      <td>1</td>\n",
              "      <td>21</td>\n",
              "      <td>154</td>\n",
              "      <td>0</td>\n",
              "      <td>1</td>\n",
              "      <td>1</td>\n",
              "      <td>1</td>\n",
              "      <td>2</td>\n",
              "      <td>344.0</td>\n",
              "      <td>1</td>\n",
              "      <td>0.508213</td>\n",
              "      <td>0.396940</td>\n",
              "      <td>0.987734</td>\n",
              "    </tr>\n",
              "    <tr>\n",
              "      <th>421</th>\n",
              "      <td>препарат</td>\n",
              "      <td>1</td>\n",
              "      <td>1</td>\n",
              "      <td>5.0</td>\n",
              "      <td>0.0</td>\n",
              "      <td>421.0</td>\n",
              "      <td>0</td>\n",
              "      <td>0</td>\n",
              "      <td>0</td>\n",
              "      <td>-1</td>\n",
              "      <td>1</td>\n",
              "      <td>0</td>\n",
              "      <td>1</td>\n",
              "      <td>0</td>\n",
              "      <td>0</td>\n",
              "      <td>0</td>\n",
              "      <td>1</td>\n",
              "      <td>2</td>\n",
              "      <td>2.0</td>\n",
              "      <td>1</td>\n",
              "      <td>0.555853</td>\n",
              "      <td>0.872590</td>\n",
              "      <td>0.987734</td>\n",
              "    </tr>\n",
              "    <tr>\n",
              "      <th>429</th>\n",
              "      <td>препарат</td>\n",
              "      <td>1</td>\n",
              "      <td>1</td>\n",
              "      <td>6.0</td>\n",
              "      <td>0.0</td>\n",
              "      <td>429.0</td>\n",
              "      <td>0</td>\n",
              "      <td>0</td>\n",
              "      <td>0</td>\n",
              "      <td>-1</td>\n",
              "      <td>1</td>\n",
              "      <td>12</td>\n",
              "      <td>179</td>\n",
              "      <td>-1</td>\n",
              "      <td>-1</td>\n",
              "      <td>-1</td>\n",
              "      <td>0</td>\n",
              "      <td>2</td>\n",
              "      <td>2.0</td>\n",
              "      <td>1</td>\n",
              "      <td>0.555853</td>\n",
              "      <td>0.528305</td>\n",
              "      <td>0.987734</td>\n",
              "    </tr>\n",
              "    <tr>\n",
              "      <th>446</th>\n",
              "      <td>последнему</td>\n",
              "      <td>1</td>\n",
              "      <td>1</td>\n",
              "      <td>6.0</td>\n",
              "      <td>2.0</td>\n",
              "      <td>446.0</td>\n",
              "      <td>-1</td>\n",
              "      <td>2</td>\n",
              "      <td>0</td>\n",
              "      <td>-1</td>\n",
              "      <td>10</td>\n",
              "      <td>7</td>\n",
              "      <td>184</td>\n",
              "      <td>-1</td>\n",
              "      <td>-1</td>\n",
              "      <td>-1</td>\n",
              "      <td>0</td>\n",
              "      <td>2</td>\n",
              "      <td>442.0</td>\n",
              "      <td>1</td>\n",
              "      <td>0.596424</td>\n",
              "      <td>0.515744</td>\n",
              "      <td>0.987734</td>\n",
              "    </tr>\n",
              "    <tr>\n",
              "      <th>454</th>\n",
              "      <td>препарат</td>\n",
              "      <td>1</td>\n",
              "      <td>1</td>\n",
              "      <td>7.0</td>\n",
              "      <td>0.0</td>\n",
              "      <td>454.0</td>\n",
              "      <td>0</td>\n",
              "      <td>0</td>\n",
              "      <td>0</td>\n",
              "      <td>-1</td>\n",
              "      <td>1</td>\n",
              "      <td>12</td>\n",
              "      <td>189</td>\n",
              "      <td>-1</td>\n",
              "      <td>-1</td>\n",
              "      <td>-1</td>\n",
              "      <td>0</td>\n",
              "      <td>2</td>\n",
              "      <td>2.0</td>\n",
              "      <td>1</td>\n",
              "      <td>0.555853</td>\n",
              "      <td>0.500703</td>\n",
              "      <td>0.983795</td>\n",
              "    </tr>\n",
              "    <tr>\n",
              "      <th>...</th>\n",
              "      <td>...</td>\n",
              "      <td>...</td>\n",
              "      <td>...</td>\n",
              "      <td>...</td>\n",
              "      <td>...</td>\n",
              "      <td>...</td>\n",
              "      <td>...</td>\n",
              "      <td>...</td>\n",
              "      <td>...</td>\n",
              "      <td>...</td>\n",
              "      <td>...</td>\n",
              "      <td>...</td>\n",
              "      <td>...</td>\n",
              "      <td>...</td>\n",
              "      <td>...</td>\n",
              "      <td>...</td>\n",
              "      <td>...</td>\n",
              "      <td>...</td>\n",
              "      <td>...</td>\n",
              "      <td>...</td>\n",
              "      <td>...</td>\n",
              "      <td>...</td>\n",
              "      <td>...</td>\n",
              "    </tr>\n",
              "    <tr>\n",
              "      <th>14427</th>\n",
              "      <td>него</td>\n",
              "      <td>15</td>\n",
              "      <td>15</td>\n",
              "      <td>14.0</td>\n",
              "      <td>2.0</td>\n",
              "      <td>1835.0</td>\n",
              "      <td>-1</td>\n",
              "      <td>1</td>\n",
              "      <td>0</td>\n",
              "      <td>1</td>\n",
              "      <td>5</td>\n",
              "      <td>10</td>\n",
              "      <td>195</td>\n",
              "      <td>-1</td>\n",
              "      <td>-1</td>\n",
              "      <td>-1</td>\n",
              "      <td>9</td>\n",
              "      <td>3</td>\n",
              "      <td>1827.0</td>\n",
              "      <td>1</td>\n",
              "      <td>0.526389</td>\n",
              "      <td>0.591696</td>\n",
              "      <td>0.787079</td>\n",
              "    </tr>\n",
              "    <tr>\n",
              "      <th>14440</th>\n",
              "      <td>его</td>\n",
              "      <td>15</td>\n",
              "      <td>15</td>\n",
              "      <td>14.0</td>\n",
              "      <td>2.0</td>\n",
              "      <td>1848.0</td>\n",
              "      <td>-1</td>\n",
              "      <td>3</td>\n",
              "      <td>0</td>\n",
              "      <td>1</td>\n",
              "      <td>5</td>\n",
              "      <td>1</td>\n",
              "      <td>1175</td>\n",
              "      <td>-1</td>\n",
              "      <td>-1</td>\n",
              "      <td>-1</td>\n",
              "      <td>0</td>\n",
              "      <td>3</td>\n",
              "      <td>1827.0</td>\n",
              "      <td>1</td>\n",
              "      <td>0.538783</td>\n",
              "      <td>0.502882</td>\n",
              "      <td>0.787079</td>\n",
              "    </tr>\n",
              "    <tr>\n",
              "      <th>14478</th>\n",
              "      <td>него</td>\n",
              "      <td>15</td>\n",
              "      <td>15</td>\n",
              "      <td>14.0</td>\n",
              "      <td>6.0</td>\n",
              "      <td>1886.0</td>\n",
              "      <td>-1</td>\n",
              "      <td>1</td>\n",
              "      <td>0</td>\n",
              "      <td>1</td>\n",
              "      <td>5</td>\n",
              "      <td>21</td>\n",
              "      <td>2453</td>\n",
              "      <td>-1</td>\n",
              "      <td>-1</td>\n",
              "      <td>-1</td>\n",
              "      <td>15</td>\n",
              "      <td>3</td>\n",
              "      <td>1867.0</td>\n",
              "      <td>1</td>\n",
              "      <td>0.526389</td>\n",
              "      <td>0.471126</td>\n",
              "      <td>0.707177</td>\n",
              "    </tr>\n",
              "    <tr>\n",
              "      <th>14733</th>\n",
              "      <td>него</td>\n",
              "      <td>15</td>\n",
              "      <td>15</td>\n",
              "      <td>17.0</td>\n",
              "      <td>8.0</td>\n",
              "      <td>2141.0</td>\n",
              "      <td>-1</td>\n",
              "      <td>1</td>\n",
              "      <td>0</td>\n",
              "      <td>1</td>\n",
              "      <td>5</td>\n",
              "      <td>10</td>\n",
              "      <td>2278</td>\n",
              "      <td>-1</td>\n",
              "      <td>-1</td>\n",
              "      <td>1</td>\n",
              "      <td>0</td>\n",
              "      <td>3</td>\n",
              "      <td>2138.0</td>\n",
              "      <td>1</td>\n",
              "      <td>0.526389</td>\n",
              "      <td>0.597843</td>\n",
              "      <td>0.634580</td>\n",
              "    </tr>\n",
              "    <tr>\n",
              "      <th>14906</th>\n",
              "      <td>него</td>\n",
              "      <td>15</td>\n",
              "      <td>15</td>\n",
              "      <td>19.0</td>\n",
              "      <td>3.0</td>\n",
              "      <td>2314.0</td>\n",
              "      <td>-1</td>\n",
              "      <td>1</td>\n",
              "      <td>0</td>\n",
              "      <td>1</td>\n",
              "      <td>5</td>\n",
              "      <td>21</td>\n",
              "      <td>2453</td>\n",
              "      <td>-1</td>\n",
              "      <td>-1</td>\n",
              "      <td>-1</td>\n",
              "      <td>15</td>\n",
              "      <td>3</td>\n",
              "      <td>2295.0</td>\n",
              "      <td>1</td>\n",
              "      <td>0.526389</td>\n",
              "      <td>0.471126</td>\n",
              "      <td>0.975469</td>\n",
              "    </tr>\n",
              "  </tbody>\n",
              "</table>\n",
              "<p>213 rows × 23 columns</p>\n",
              "</div>"
            ],
            "text/plain": [
              "            TOKEN  IS_ANSWER  TOPIC_NUM  ...  TOKEN_VECT  HEAD_VECT  SENT_VECT\n",
              "366     препарата          1          1  ...    0.508213   0.396940   0.987734\n",
              "421      препарат          1          1  ...    0.555853   0.872590   0.987734\n",
              "429      препарат          1          1  ...    0.555853   0.528305   0.987734\n",
              "446    последнему          1          1  ...    0.596424   0.515744   0.987734\n",
              "454      препарат          1          1  ...    0.555853   0.500703   0.983795\n",
              "...           ...        ...        ...  ...         ...        ...        ...\n",
              "14427        него         15         15  ...    0.526389   0.591696   0.787079\n",
              "14440         его         15         15  ...    0.538783   0.502882   0.787079\n",
              "14478        него         15         15  ...    0.526389   0.471126   0.707177\n",
              "14733        него         15         15  ...    0.526389   0.597843   0.634580\n",
              "14906        него         15         15  ...    0.526389   0.471126   0.975469\n",
              "\n",
              "[213 rows x 23 columns]"
            ]
          },
          "metadata": {
            "tags": []
          },
          "execution_count": 444
        }
      ]
    },
    {
      "cell_type": "markdown",
      "metadata": {
        "id": "GbbH96pVOsrR"
      },
      "source": [
        "# **ПОПАРНЫЙ МЕТОД**"
      ]
    },
    {
      "cell_type": "code",
      "metadata": {
        "id": "WBvs6qzc5hkg"
      },
      "source": [
        "def pair_eval(X_predicted, y):\n",
        "  \n",
        "  tp = []\n",
        "  fp = []\n",
        "  tn = []\n",
        "  fn = []\n",
        "\n",
        "  for i in range(len(X_predicted)):\n",
        "    if X_predicted[i] != 0.0:\n",
        "      if X_predicted[i] == y[i]:\n",
        "        tp.append(i)\n",
        "      else:\n",
        "        fp.append(i)\n",
        "    # берем только те синглтоны, которые относятся к номинативным или прономинальным группам.\n",
        "    elif X_predicted[i] == 0.0:\n",
        "      if X_predicted[i] == y[i]:\n",
        "        tn.append(i)\n",
        "      else:\n",
        "        fn.append(i)\n",
        "  try:\n",
        "    P = len(tp)/(len(tp) + len(fp))\n",
        "  except ZeroDivisionError:\n",
        "    P = 0\n",
        "  try:\n",
        "    R = len(tp)/(len(tp) + len(fn))\n",
        "  except ZeroDivisionError:\n",
        "    R = 0\n",
        "  try:\n",
        "    F = 2*P*R/(P+R)\n",
        "  except ZeroDivisionError:\n",
        "    F = 0\n",
        "\n",
        "  print(len(tp), ' true positive')\n",
        "  print(len(fp), ' false positive')\n",
        "  print(len(tn), ' true negative')\n",
        "  print(len(fn), ' false negative')\n",
        "  print('---------')\n",
        "  print(P,' presicion')\n",
        "  print(R, ' recall')\n",
        "  print(F, ' f-score')"
      ],
      "execution_count": 445,
      "outputs": []
    },
    {
      "cell_type": "code",
      "metadata": {
        "colab": {
          "base_uri": "https://localhost:8080/"
        },
        "id": "DdxzQC_INIYX",
        "outputId": "04641a26-430c-4d7c-c5e9-7d30cb9baabe"
      },
      "source": [
        "topics = list(set(df.TOPIC_NUM.values))\n",
        "topics\n",
        "\n",
        "\n",
        "pair_anaphors = []\n",
        "pair_antecedents = []\n",
        "relation_list = []\n",
        "counter = 0\n",
        "ants_with_anaph = 0\n",
        "len_anapfors = 0\n",
        "for topic_num in topics:\n",
        "\n",
        "  # all_anaphors = df.loc[(df['TOPIC_NUM'] == topic_num) & (df['NER'] > 1)]\n",
        "  all_anaphors = df.loc[(df['TOPIC_NUM'] == topic_num) & (df['POS'] == 5)]\n",
        "\n",
        "  all_antecedents = df.loc[(df['TOPIC_NUM'] == topic_num) & (df['NER'] == 1)]\n",
        "  \n",
        "  len_anapfors += len(all_anaphors)\n",
        "  for anaphor in all_anaphors.values:\n",
        "    # чтобы примеры влезли в память, и модель не переобучилась на антипримерах,\n",
        "    # возьмем один положительный и два отрицательных класса для каждого анафора\n",
        "    counter = 0\n",
        "    is_relation = 0\n",
        "    for antecedent in all_antecedents.values:\n",
        "      \n",
        "\n",
        "      # print(anaphor[-5], antecedent[5])\n",
        "      if anaphor[-5] == antecedent[5]:\n",
        "        ants_with_anaph += 1\n",
        "        is_relation = 1\n",
        "        # такие срезы, чтобы убрать лишние данные, и в том числе разметку с ответами\n",
        "        pair_anaphors.append(list(anaphor)[3:6] )# + list(anaphor)[17:18]\\\n",
        "                             # + list(anaphor)[19:23])\n",
        "        \n",
        "        pair_antecedents.append(list(antecedent)[3:6]) # + list(antecedent)[17:18]\\\n",
        "                             # + list(antecedent)[19:23])\n",
        "        \n",
        "        relation_list.append(is_relation)\n",
        "      else:\n",
        "        if counter != 1:\n",
        "\n",
        "          pair_anaphors.append(list(anaphor)[3:6] )# + list(anaphor)[17:18]\\\n",
        "                              # + list(anaphor)[19:23])\n",
        "          \n",
        "          pair_antecedents.append(list(antecedent)[3:6]) # + list(antecedent)[17:18]\\\n",
        "                              # + list(antecedent)[19:23])\n",
        "          \n",
        "          relation_list.append(is_relation)\n",
        "          counter = 1\n",
        "\n",
        "  # counter += 1\n",
        "print(len_anapfors)\n",
        "print('---')\n",
        "print(pair_anaphors[0][0], pair_antecedents[0][0], relation_list[0])\n",
        "len(pair_anaphors), len(pair_antecedents), len(relation_list)"
      ],
      "execution_count": 446,
      "outputs": [
        {
          "output_type": "stream",
          "text": [
            "725\n",
            "---\n",
            "1.0 0.0 0\n"
          ],
          "name": "stdout"
        },
        {
          "output_type": "execute_result",
          "data": {
            "text/plain": [
              "(766, 766, 766)"
            ]
          },
          "metadata": {
            "tags": []
          },
          "execution_count": 446
        }
      ]
    },
    {
      "cell_type": "code",
      "metadata": {
        "colab": {
          "base_uri": "https://localhost:8080/"
        },
        "id": "dFaTNusICNlA",
        "outputId": "14418cf7-16f6-4e0d-efd8-6838423c8ffb"
      },
      "source": [
        "# можно посмотреть, что получилось\n",
        "relation_list[:20]"
      ],
      "execution_count": 447,
      "outputs": [
        {
          "output_type": "execute_result",
          "data": {
            "text/plain": [
              "[0, 0, 0, 0, 0, 0, 0, 0, 0, 0, 0, 0, 0, 0, 0, 0, 0, 0, 0, 0]"
            ]
          },
          "metadata": {
            "tags": []
          },
          "execution_count": 447
        }
      ]
    },
    {
      "cell_type": "code",
      "metadata": {
        "id": "orw-NPQ9iy9e",
        "colab": {
          "base_uri": "https://localhost:8080/"
        },
        "outputId": "4ab5dc57-cd52-4c51-eb6c-caf020d6b1d0"
      },
      "source": [
        "pair_anaphors[0]"
      ],
      "execution_count": 448,
      "outputs": [
        {
          "output_type": "execute_result",
          "data": {
            "text/plain": [
              "[1.0, 0.0, 9.0]"
            ]
          },
          "metadata": {
            "tags": []
          },
          "execution_count": 448
        }
      ]
    },
    {
      "cell_type": "code",
      "metadata": {
        "colab": {
          "base_uri": "https://localhost:8080/"
        },
        "id": "saSgfNvhB5bH",
        "outputId": "47c1b920-d265-4bec-b57f-2ca100cdf751"
      },
      "source": [
        "# проверим, третьим элементом должен быть номер токена\n",
        "len([i for i in relation_list if i==1])"
      ],
      "execution_count": 449,
      "outputs": [
        {
          "output_type": "execute_result",
          "data": {
            "text/plain": [
              "88"
            ]
          },
          "metadata": {
            "tags": []
          },
          "execution_count": 449
        }
      ]
    },
    {
      "cell_type": "code",
      "metadata": {
        "colab": {
          "base_uri": "https://localhost:8080/",
          "height": 98
        },
        "id": "e5ddVbD7Cf4i",
        "outputId": "243f4997-e6d1-420f-b077-1eeb135791a2"
      },
      "source": [
        "# все сходится. мы взяли колонки с номерами поста, предложения и токена,\\\n",
        "# колонку NER, число, и вектора\n",
        "df.loc[df.TOKEN_NUM == 21.0].iloc[[0]]"
      ],
      "execution_count": 450,
      "outputs": [
        {
          "output_type": "execute_result",
          "data": {
            "text/html": [
              "<div>\n",
              "<style scoped>\n",
              "    .dataframe tbody tr th:only-of-type {\n",
              "        vertical-align: middle;\n",
              "    }\n",
              "\n",
              "    .dataframe tbody tr th {\n",
              "        vertical-align: top;\n",
              "    }\n",
              "\n",
              "    .dataframe thead th {\n",
              "        text-align: right;\n",
              "    }\n",
              "</style>\n",
              "<table border=\"1\" class=\"dataframe\">\n",
              "  <thead>\n",
              "    <tr style=\"text-align: right;\">\n",
              "      <th></th>\n",
              "      <th>TOKEN</th>\n",
              "      <th>IS_ANSWER</th>\n",
              "      <th>TOPIC_NUM</th>\n",
              "      <th>POST_NUM</th>\n",
              "      <th>SENT_NUM</th>\n",
              "      <th>TOKEN_NUM</th>\n",
              "      <th>ANIMACY</th>\n",
              "      <th>CASE</th>\n",
              "      <th>GENDER</th>\n",
              "      <th>PERSON</th>\n",
              "      <th>POS</th>\n",
              "      <th>DEPENDENCY</th>\n",
              "      <th>HEAD</th>\n",
              "      <th>HEAD_ANIMACY</th>\n",
              "      <th>HEAD_CASE</th>\n",
              "      <th>HEAD_GENDER</th>\n",
              "      <th>HEAD_POS</th>\n",
              "      <th>NER</th>\n",
              "      <th>COREFERENCE_CLUSTER</th>\n",
              "      <th>NUMBER</th>\n",
              "      <th>TOKEN_VECT</th>\n",
              "      <th>HEAD_VECT</th>\n",
              "      <th>SENT_VECT</th>\n",
              "    </tr>\n",
              "  </thead>\n",
              "  <tbody>\n",
              "    <tr>\n",
              "      <th>21</th>\n",
              "      <td>лекарством</td>\n",
              "      <td>1</td>\n",
              "      <td>1</td>\n",
              "      <td>1.0</td>\n",
              "      <td>1.0</td>\n",
              "      <td>21.0</td>\n",
              "      <td>0</td>\n",
              "      <td>5</td>\n",
              "      <td>2</td>\n",
              "      <td>-1</td>\n",
              "      <td>1</td>\n",
              "      <td>4</td>\n",
              "      <td>7</td>\n",
              "      <td>-1</td>\n",
              "      <td>-1</td>\n",
              "      <td>-1</td>\n",
              "      <td>3</td>\n",
              "      <td>2</td>\n",
              "      <td>0.0</td>\n",
              "      <td>1</td>\n",
              "      <td>0.478264</td>\n",
              "      <td>0.579481</td>\n",
              "      <td>0.940151</td>\n",
              "    </tr>\n",
              "  </tbody>\n",
              "</table>\n",
              "</div>"
            ],
            "text/plain": [
              "         TOKEN  IS_ANSWER  TOPIC_NUM  ...  TOKEN_VECT  HEAD_VECT  SENT_VECT\n",
              "21  лекарством          1          1  ...    0.478264   0.579481   0.940151\n",
              "\n",
              "[1 rows x 23 columns]"
            ]
          },
          "metadata": {
            "tags": []
          },
          "execution_count": 450
        }
      ]
    },
    {
      "cell_type": "code",
      "metadata": {
        "colab": {
          "base_uri": "https://localhost:8080/",
          "height": 516
        },
        "id": "G1jPQOrVUOtz",
        "outputId": "33040d55-4ee9-4ef9-c8aa-b3beec1d7445"
      },
      "source": [
        "cosine = [cosine_similarity([pair_anaphors[i]], [pair_antecedents[i]])[0][0] for i in range(len(pair_anaphors))]\n",
        "# pair_df = pd.DataFrame(columns=['anaphs', 'ants', 'rel'])\n",
        "pair_df = pd.DataFrame(columns=['cosine', 'rel'])\n",
        "\n",
        "# pair_df['anaphs'] = pair_anaphors\n",
        "# pair_df['ants'] = pair_antecedents\n",
        "pair_df['cosine'] = cosine\n",
        "pair_df['rel'] = relation_list\n",
        "\n",
        "print(pair_df.loc[pair_df['cosine'] > 1])\n",
        "print(pair_df.loc[pair_df['rel'] > 1])\n",
        "pair_df"
      ],
      "execution_count": 451,
      "outputs": [
        {
          "output_type": "stream",
          "text": [
            "Empty DataFrame\n",
            "Columns: [cosine, rel]\n",
            "Index: []\n",
            "Empty DataFrame\n",
            "Columns: [cosine, rel]\n",
            "Index: []\n"
          ],
          "name": "stdout"
        },
        {
          "output_type": "execute_result",
          "data": {
            "text/html": [
              "<div>\n",
              "<style scoped>\n",
              "    .dataframe tbody tr th:only-of-type {\n",
              "        vertical-align: middle;\n",
              "    }\n",
              "\n",
              "    .dataframe tbody tr th {\n",
              "        vertical-align: top;\n",
              "    }\n",
              "\n",
              "    .dataframe thead th {\n",
              "        text-align: right;\n",
              "    }\n",
              "</style>\n",
              "<table border=\"1\" class=\"dataframe\">\n",
              "  <thead>\n",
              "    <tr style=\"text-align: right;\">\n",
              "      <th></th>\n",
              "      <th>cosine</th>\n",
              "      <th>rel</th>\n",
              "    </tr>\n",
              "  </thead>\n",
              "  <tbody>\n",
              "    <tr>\n",
              "      <th>0</th>\n",
              "      <td>0.993884</td>\n",
              "      <td>0</td>\n",
              "    </tr>\n",
              "    <tr>\n",
              "      <th>1</th>\n",
              "      <td>0.993127</td>\n",
              "      <td>0</td>\n",
              "    </tr>\n",
              "    <tr>\n",
              "      <th>2</th>\n",
              "      <td>0.995440</td>\n",
              "      <td>0</td>\n",
              "    </tr>\n",
              "    <tr>\n",
              "      <th>3</th>\n",
              "      <td>0.996729</td>\n",
              "      <td>0</td>\n",
              "    </tr>\n",
              "    <tr>\n",
              "      <th>4</th>\n",
              "      <td>0.997029</td>\n",
              "      <td>0</td>\n",
              "    </tr>\n",
              "    <tr>\n",
              "      <th>...</th>\n",
              "      <td>...</td>\n",
              "      <td>...</td>\n",
              "    </tr>\n",
              "    <tr>\n",
              "      <th>761</th>\n",
              "      <td>0.986387</td>\n",
              "      <td>0</td>\n",
              "    </tr>\n",
              "    <tr>\n",
              "      <th>762</th>\n",
              "      <td>0.986379</td>\n",
              "      <td>0</td>\n",
              "    </tr>\n",
              "    <tr>\n",
              "      <th>763</th>\n",
              "      <td>0.986649</td>\n",
              "      <td>0</td>\n",
              "    </tr>\n",
              "    <tr>\n",
              "      <th>764</th>\n",
              "      <td>0.986646</td>\n",
              "      <td>0</td>\n",
              "    </tr>\n",
              "    <tr>\n",
              "      <th>765</th>\n",
              "      <td>0.986642</td>\n",
              "      <td>0</td>\n",
              "    </tr>\n",
              "  </tbody>\n",
              "</table>\n",
              "<p>766 rows × 2 columns</p>\n",
              "</div>"
            ],
            "text/plain": [
              "       cosine  rel\n",
              "0    0.993884    0\n",
              "1    0.993127    0\n",
              "2    0.995440    0\n",
              "3    0.996729    0\n",
              "4    0.997029    0\n",
              "..        ...  ...\n",
              "761  0.986387    0\n",
              "762  0.986379    0\n",
              "763  0.986649    0\n",
              "764  0.986646    0\n",
              "765  0.986642    0\n",
              "\n",
              "[766 rows x 2 columns]"
            ]
          },
          "metadata": {
            "tags": []
          },
          "execution_count": 451
        }
      ]
    },
    {
      "cell_type": "code",
      "metadata": {
        "colab": {
          "base_uri": "https://localhost:8080/",
          "height": 407
        },
        "id": "j2CP2j1AFPgC",
        "outputId": "4ce29ec6-329b-49fd-f2cc-379d763a675e"
      },
      "source": [
        "pair_df.loc[pair_df.rel != 0]"
      ],
      "execution_count": 452,
      "outputs": [
        {
          "output_type": "execute_result",
          "data": {
            "text/html": [
              "<div>\n",
              "<style scoped>\n",
              "    .dataframe tbody tr th:only-of-type {\n",
              "        vertical-align: middle;\n",
              "    }\n",
              "\n",
              "    .dataframe tbody tr th {\n",
              "        vertical-align: top;\n",
              "    }\n",
              "\n",
              "    .dataframe thead th {\n",
              "        text-align: right;\n",
              "    }\n",
              "</style>\n",
              "<table border=\"1\" class=\"dataframe\">\n",
              "  <thead>\n",
              "    <tr style=\"text-align: right;\">\n",
              "      <th></th>\n",
              "      <th>cosine</th>\n",
              "      <th>rel</th>\n",
              "    </tr>\n",
              "  </thead>\n",
              "  <tbody>\n",
              "    <tr>\n",
              "      <th>26</th>\n",
              "      <td>0.999889</td>\n",
              "      <td>1</td>\n",
              "    </tr>\n",
              "    <tr>\n",
              "      <th>27</th>\n",
              "      <td>0.999889</td>\n",
              "      <td>1</td>\n",
              "    </tr>\n",
              "    <tr>\n",
              "      <th>33</th>\n",
              "      <td>0.999994</td>\n",
              "      <td>1</td>\n",
              "    </tr>\n",
              "    <tr>\n",
              "      <th>36</th>\n",
              "      <td>0.999904</td>\n",
              "      <td>1</td>\n",
              "    </tr>\n",
              "    <tr>\n",
              "      <th>38</th>\n",
              "      <td>0.997928</td>\n",
              "      <td>1</td>\n",
              "    </tr>\n",
              "    <tr>\n",
              "      <th>...</th>\n",
              "      <td>...</td>\n",
              "      <td>...</td>\n",
              "    </tr>\n",
              "    <tr>\n",
              "      <th>643</th>\n",
              "      <td>0.999996</td>\n",
              "      <td>1</td>\n",
              "    </tr>\n",
              "    <tr>\n",
              "      <th>651</th>\n",
              "      <td>0.999984</td>\n",
              "      <td>1</td>\n",
              "    </tr>\n",
              "    <tr>\n",
              "      <th>669</th>\n",
              "      <td>0.999999</td>\n",
              "      <td>1</td>\n",
              "    </tr>\n",
              "    <tr>\n",
              "      <th>684</th>\n",
              "      <td>1.000000</td>\n",
              "      <td>1</td>\n",
              "    </tr>\n",
              "    <tr>\n",
              "      <th>696</th>\n",
              "      <td>0.999999</td>\n",
              "      <td>1</td>\n",
              "    </tr>\n",
              "  </tbody>\n",
              "</table>\n",
              "<p>88 rows × 2 columns</p>\n",
              "</div>"
            ],
            "text/plain": [
              "       cosine  rel\n",
              "26   0.999889    1\n",
              "27   0.999889    1\n",
              "33   0.999994    1\n",
              "36   0.999904    1\n",
              "38   0.997928    1\n",
              "..        ...  ...\n",
              "643  0.999996    1\n",
              "651  0.999984    1\n",
              "669  0.999999    1\n",
              "684  1.000000    1\n",
              "696  0.999999    1\n",
              "\n",
              "[88 rows x 2 columns]"
            ]
          },
          "metadata": {
            "tags": []
          },
          "execution_count": 452
        }
      ]
    },
    {
      "cell_type": "code",
      "metadata": {
        "id": "ZUx9pzbetYcI"
      },
      "source": [
        ""
      ],
      "execution_count": 452,
      "outputs": []
    },
    {
      "cell_type": "code",
      "metadata": {
        "id": "riQ5ES4sQeNt"
      },
      "source": [
        "train, test = train_test_split(med_df, test_size=0.3, shuffle=True)\n",
        "train = train.reset_index()\n",
        "test = test.reset_index()\n"
      ],
      "execution_count": 453,
      "outputs": []
    },
    {
      "cell_type": "code",
      "metadata": {
        "id": "k_TAFZU4-UZO"
      },
      "source": [
        ""
      ],
      "execution_count": 453,
      "outputs": []
    },
    {
      "cell_type": "code",
      "metadata": {
        "colab": {
          "base_uri": "https://localhost:8080/",
          "height": 78
        },
        "id": "S8AKnqug1qid",
        "outputId": "77c5000a-d220-469b-f3d1-18958f60a0aa"
      },
      "source": [
        "train.iloc[:1, 1:2]"
      ],
      "execution_count": 454,
      "outputs": [
        {
          "output_type": "execute_result",
          "data": {
            "text/html": [
              "<div>\n",
              "<style scoped>\n",
              "    .dataframe tbody tr th:only-of-type {\n",
              "        vertical-align: middle;\n",
              "    }\n",
              "\n",
              "    .dataframe tbody tr th {\n",
              "        vertical-align: top;\n",
              "    }\n",
              "\n",
              "    .dataframe thead th {\n",
              "        text-align: right;\n",
              "    }\n",
              "</style>\n",
              "<table border=\"1\" class=\"dataframe\">\n",
              "  <thead>\n",
              "    <tr style=\"text-align: right;\">\n",
              "      <th></th>\n",
              "      <th>TOKEN_VECT</th>\n",
              "    </tr>\n",
              "  </thead>\n",
              "  <tbody>\n",
              "    <tr>\n",
              "      <th>0</th>\n",
              "      <td>0.539772</td>\n",
              "    </tr>\n",
              "  </tbody>\n",
              "</table>\n",
              "</div>"
            ],
            "text/plain": [
              "   TOKEN_VECT\n",
              "0    0.539772"
            ]
          },
          "metadata": {
            "tags": []
          },
          "execution_count": 454
        }
      ]
    },
    {
      "cell_type": "code",
      "metadata": {
        "colab": {
          "base_uri": "https://localhost:8080/",
          "height": 78
        },
        "id": "Y1rslVYUEthb",
        "outputId": "bcd55ea1-094d-4228-ccb6-c11ad53d86b7"
      },
      "source": [
        "test.iloc[:1, 1:2]"
      ],
      "execution_count": 455,
      "outputs": [
        {
          "output_type": "execute_result",
          "data": {
            "text/html": [
              "<div>\n",
              "<style scoped>\n",
              "    .dataframe tbody tr th:only-of-type {\n",
              "        vertical-align: middle;\n",
              "    }\n",
              "\n",
              "    .dataframe tbody tr th {\n",
              "        vertical-align: top;\n",
              "    }\n",
              "\n",
              "    .dataframe thead th {\n",
              "        text-align: right;\n",
              "    }\n",
              "</style>\n",
              "<table border=\"1\" class=\"dataframe\">\n",
              "  <thead>\n",
              "    <tr style=\"text-align: right;\">\n",
              "      <th></th>\n",
              "      <th>TOKEN_VECT</th>\n",
              "    </tr>\n",
              "  </thead>\n",
              "  <tbody>\n",
              "    <tr>\n",
              "      <th>0</th>\n",
              "      <td>0.591945</td>\n",
              "    </tr>\n",
              "  </tbody>\n",
              "</table>\n",
              "</div>"
            ],
            "text/plain": [
              "   TOKEN_VECT\n",
              "0    0.591945"
            ]
          },
          "metadata": {
            "tags": []
          },
          "execution_count": 455
        }
      ]
    },
    {
      "cell_type": "code",
      "metadata": {
        "id": "mp7Zua0694Jx"
      },
      "source": [
        "def pair_eval(X_predicted, y):\n",
        "  \n",
        "  tp = []\n",
        "  fp = []\n",
        "  tn = []\n",
        "  fn = []\n",
        "\n",
        "  for i in range(len(X_predicted)):\n",
        "    if X_predicted[i] != 0.0:\n",
        "      if X_predicted[i] == y[i]:\n",
        "        tp.append(i)\n",
        "      else:\n",
        "        fp.append(i)\n",
        "    # берем только те синглтоны, которые относятся к номинативным или прономинальным группам.\n",
        "    elif X_predicted[i] == 0.0:\n",
        "      if X_predicted[i] == y[i]:\n",
        "        tn.append(i)\n",
        "      else:\n",
        "        fn.append(i)\n",
        "  try:\n",
        "    P = len(tp)/(len(tp) + len(fp))\n",
        "  except ZeroDivisionError:\n",
        "    P = 0\n",
        "  try:\n",
        "    R = len(tp)/(len(tp) + len(fn))\n",
        "  except ZeroDivisionError:\n",
        "    R = 0\n",
        "  try:\n",
        "    F = 2*P*R/(P+R)\n",
        "  except ZeroDivisionError:\n",
        "    F = 0\n",
        "\n",
        "  print(len(tp), ' true positive')\n",
        "  print(len(fp), ' false positive')\n",
        "  print(len(tn), ' true negative')\n",
        "  print(len(fn), ' false negative')\n",
        "  print('---------')\n",
        "  print(P,' presicion')\n",
        "  print(R, ' recall')\n",
        "  print(F, ' f-score')"
      ],
      "execution_count": 456,
      "outputs": []
    },
    {
      "cell_type": "code",
      "metadata": {
        "colab": {
          "base_uri": "https://localhost:8080/"
        },
        "id": "R7de5MvZmsZ0",
        "outputId": "f297968a-c220-45dd-d2fa-d210412fe6e0"
      },
      "source": [
        "regr = linear_model.LinearRegression()\n",
        "regr.fit(X, y)\n",
        "\n",
        "\n",
        "print('-----')\n",
        "pred = regr.predict(X_test)\n",
        "pair_eval(pred, y_test)"
      ],
      "execution_count": 457,
      "outputs": [
        {
          "output_type": "stream",
          "text": [
            "-----\n",
            "3  true positive\n",
            "67  false positive\n",
            "0  true negative\n",
            "0  false negative\n",
            "---------\n",
            "0.04285714285714286  presicion\n",
            "1.0  recall\n",
            "0.0821917808219178  f-score\n"
          ],
          "name": "stdout"
        }
      ]
    },
    {
      "cell_type": "code",
      "metadata": {
        "colab": {
          "base_uri": "https://localhost:8080/"
        },
        "id": "RWsI8ACWmscm",
        "outputId": "a9a183b4-61ab-48c8-8ef5-3d6b64804c61"
      },
      "source": [
        "knn_clf = KNeighborsClassifier(n_neighbors=10, weights='distance',algorithm='ball_tree',leaf_size=5, metric='minkowski', p=1)\n",
        "knn_clf.fit(X, y)\n",
        "\n",
        "\n",
        "print('-----')\n",
        "pred = knn_clf.predict(X_test)\n",
        "pair_eval(pred, y_test)"
      ],
      "execution_count": 458,
      "outputs": [
        {
          "output_type": "stream",
          "text": [
            "-----\n",
            "20  true positive\n",
            "22  false positive\n",
            "26  true negative\n",
            "2  false negative\n",
            "---------\n",
            "0.47619047619047616  presicion\n",
            "0.9090909090909091  recall\n",
            "0.6249999999999999  f-score\n"
          ],
          "name": "stdout"
        }
      ]
    },
    {
      "cell_type": "code",
      "metadata": {
        "colab": {
          "base_uri": "https://localhost:8080/"
        },
        "id": "yFQblTEP7WHM",
        "outputId": "395a3dff-15b0-472a-e4a3-0760c11683bb"
      },
      "source": [
        "dtclf = tree.DecisionTreeClassifier(max_depth=2000, )\n",
        "dtclf.fit(X, y)\n",
        "\n",
        "\n",
        "print('-----')\n",
        "pred = dtclf.predict(X_test)\n",
        "pair_eval(pred, y_test)\n"
      ],
      "execution_count": 459,
      "outputs": [
        {
          "output_type": "stream",
          "text": [
            "-----\n",
            "19  true positive\n",
            "25  false positive\n",
            "26  true negative\n",
            "0  false negative\n",
            "---------\n",
            "0.4318181818181818  presicion\n",
            "1.0  recall\n",
            "0.6031746031746031  f-score\n"
          ],
          "name": "stdout"
        }
      ]
    },
    {
      "cell_type": "code",
      "metadata": {
        "colab": {
          "base_uri": "https://localhost:8080/"
        },
        "id": "GO_pYTOb7eCu",
        "outputId": "636994f1-bc34-444f-de3d-744406be4176"
      },
      "source": [
        "clf = tree.DecisionTreeClassifier(criterion='entropy', max_depth=2000)\n",
        "clf.fit(X, y)\n",
        "\n",
        "\n",
        "print('-----')\n",
        "pred = clf.predict(X_test)\n",
        "pair_eval(pred, y_test)"
      ],
      "execution_count": 460,
      "outputs": [
        {
          "output_type": "stream",
          "text": [
            "-----\n",
            "20  true positive\n",
            "24  false positive\n",
            "26  true negative\n",
            "0  false negative\n",
            "---------\n",
            "0.45454545454545453  presicion\n",
            "1.0  recall\n",
            "0.625  f-score\n"
          ],
          "name": "stdout"
        }
      ]
    },
    {
      "cell_type": "code",
      "metadata": {
        "colab": {
          "base_uri": "https://localhost:8080/"
        },
        "id": "b6E6D_lq7lpc",
        "outputId": "20ceb0a8-f82d-4471-fc91-e232a283c598"
      },
      "source": [
        "clf = RandomForestClassifier(max_depth=3000, n_estimators=600, bootstrap=True, )\n",
        "clf.fit(X, y)\n",
        "\n",
        "\n",
        "print('-----')\n",
        "pred = clf.predict(X_test)\n",
        "rule_eval(pred, y_test)"
      ],
      "execution_count": 461,
      "outputs": [
        {
          "output_type": "stream",
          "text": [
            "-----\n",
            "17  true positive\n",
            "27  false positive\n",
            "26  true negative\n",
            "0  false negative\n",
            "---------\n",
            "0.38636363636363635  presicion\n",
            "1.0  recall\n",
            "0.5573770491803279  f-score\n"
          ],
          "name": "stdout"
        }
      ]
    },
    {
      "cell_type": "code",
      "metadata": {
        "id": "o1muZz-I3cZn"
      },
      "source": [
        "# knn_clf = KNeighborsClassifier(n_neighbors=10, weights='distance',algorithm='ball_tree',leaf_size=5, metric='minkowski', p=1).fit(X, y)\n",
        "# knn_clf.score(X_test, y_test)"
      ],
      "execution_count": 462,
      "outputs": []
    },
    {
      "cell_type": "code",
      "metadata": {
        "id": "ic1_rxtCeLXe"
      },
      "source": [
        "# clf = tree.DecisionTreeClassifier(max_depth=2000, )\n",
        "# clf.fit(X, y)\n",
        "# clf.score(X_test, y_test)"
      ],
      "execution_count": 463,
      "outputs": []
    },
    {
      "cell_type": "markdown",
      "metadata": {
        "id": "wu1oPAFvwozn"
      },
      "source": [
        "# **Извлечение номинативных анафоров**"
      ]
    },
    {
      "cell_type": "code",
      "metadata": {
        "colab": {
          "base_uri": "https://localhost:8080/",
          "height": 427
        },
        "id": "YSNTlhIOwxzo",
        "outputId": "5941e993-12eb-4b71-e567-2e7997447727"
      },
      "source": [
        "df.loc[(df['POS'] == 1) &  (df['NER'] == 0)].iloc[:209, :]"
      ],
      "execution_count": 464,
      "outputs": [
        {
          "output_type": "execute_result",
          "data": {
            "text/html": [
              "<div>\n",
              "<style scoped>\n",
              "    .dataframe tbody tr th:only-of-type {\n",
              "        vertical-align: middle;\n",
              "    }\n",
              "\n",
              "    .dataframe tbody tr th {\n",
              "        vertical-align: top;\n",
              "    }\n",
              "\n",
              "    .dataframe thead th {\n",
              "        text-align: right;\n",
              "    }\n",
              "</style>\n",
              "<table border=\"1\" class=\"dataframe\">\n",
              "  <thead>\n",
              "    <tr style=\"text-align: right;\">\n",
              "      <th></th>\n",
              "      <th>TOKEN</th>\n",
              "      <th>IS_ANSWER</th>\n",
              "      <th>TOPIC_NUM</th>\n",
              "      <th>POST_NUM</th>\n",
              "      <th>SENT_NUM</th>\n",
              "      <th>TOKEN_NUM</th>\n",
              "      <th>ANIMACY</th>\n",
              "      <th>CASE</th>\n",
              "      <th>GENDER</th>\n",
              "      <th>PERSON</th>\n",
              "      <th>POS</th>\n",
              "      <th>DEPENDENCY</th>\n",
              "      <th>HEAD</th>\n",
              "      <th>HEAD_ANIMACY</th>\n",
              "      <th>HEAD_CASE</th>\n",
              "      <th>HEAD_GENDER</th>\n",
              "      <th>HEAD_POS</th>\n",
              "      <th>NER</th>\n",
              "      <th>COREFERENCE_CLUSTER</th>\n",
              "      <th>NUMBER</th>\n",
              "      <th>TOKEN_VECT</th>\n",
              "      <th>HEAD_VECT</th>\n",
              "      <th>SENT_VECT</th>\n",
              "    </tr>\n",
              "  </thead>\n",
              "  <tbody>\n",
              "    <tr>\n",
              "      <th>1</th>\n",
              "      <td>препарат</td>\n",
              "      <td>1</td>\n",
              "      <td>1</td>\n",
              "      <td>0.0</td>\n",
              "      <td>0.0</td>\n",
              "      <td>1.0</td>\n",
              "      <td>0</td>\n",
              "      <td>0</td>\n",
              "      <td>0</td>\n",
              "      <td>-1</td>\n",
              "      <td>1</td>\n",
              "      <td>1</td>\n",
              "      <td>0</td>\n",
              "      <td>-1</td>\n",
              "      <td>-1</td>\n",
              "      <td>-1</td>\n",
              "      <td>0</td>\n",
              "      <td>0</td>\n",
              "      <td>0.0</td>\n",
              "      <td>1</td>\n",
              "      <td>0.555853</td>\n",
              "      <td>0.548062</td>\n",
              "      <td>0.940151</td>\n",
              "    </tr>\n",
              "    <tr>\n",
              "      <th>16</th>\n",
              "      <td>проблем</td>\n",
              "      <td>1</td>\n",
              "      <td>1</td>\n",
              "      <td>1.0</td>\n",
              "      <td>1.0</td>\n",
              "      <td>16.0</td>\n",
              "      <td>0</td>\n",
              "      <td>1</td>\n",
              "      <td>1</td>\n",
              "      <td>-1</td>\n",
              "      <td>1</td>\n",
              "      <td>12</td>\n",
              "      <td>7</td>\n",
              "      <td>-1</td>\n",
              "      <td>-1</td>\n",
              "      <td>-1</td>\n",
              "      <td>3</td>\n",
              "      <td>0</td>\n",
              "      <td>0.0</td>\n",
              "      <td>0</td>\n",
              "      <td>0.527591</td>\n",
              "      <td>0.579481</td>\n",
              "      <td>0.940151</td>\n",
              "    </tr>\n",
              "    <tr>\n",
              "      <th>19</th>\n",
              "      <td>частности</td>\n",
              "      <td>1</td>\n",
              "      <td>1</td>\n",
              "      <td>1.0</td>\n",
              "      <td>1.0</td>\n",
              "      <td>19.0</td>\n",
              "      <td>0</td>\n",
              "      <td>4</td>\n",
              "      <td>1</td>\n",
              "      <td>-1</td>\n",
              "      <td>1</td>\n",
              "      <td>15</td>\n",
              "      <td>10</td>\n",
              "      <td>-1</td>\n",
              "      <td>-1</td>\n",
              "      <td>-1</td>\n",
              "      <td>4</td>\n",
              "      <td>0</td>\n",
              "      <td>0.0</td>\n",
              "      <td>1</td>\n",
              "      <td>0.500563</td>\n",
              "      <td>0.411267</td>\n",
              "      <td>0.940151</td>\n",
              "    </tr>\n",
              "    <tr>\n",
              "      <th>24</th>\n",
              "      <td>мере</td>\n",
              "      <td>1</td>\n",
              "      <td>1</td>\n",
              "      <td>1.0</td>\n",
              "      <td>2.0</td>\n",
              "      <td>24.0</td>\n",
              "      <td>0</td>\n",
              "      <td>2</td>\n",
              "      <td>1</td>\n",
              "      <td>-1</td>\n",
              "      <td>1</td>\n",
              "      <td>15</td>\n",
              "      <td>12</td>\n",
              "      <td>-1</td>\n",
              "      <td>-1</td>\n",
              "      <td>-1</td>\n",
              "      <td>4</td>\n",
              "      <td>0</td>\n",
              "      <td>0.0</td>\n",
              "      <td>1</td>\n",
              "      <td>0.585340</td>\n",
              "      <td>0.512961</td>\n",
              "      <td>0.940151</td>\n",
              "    </tr>\n",
              "    <tr>\n",
              "      <th>25</th>\n",
              "      <td>врач</td>\n",
              "      <td>1</td>\n",
              "      <td>1</td>\n",
              "      <td>1.0</td>\n",
              "      <td>2.0</td>\n",
              "      <td>25.0</td>\n",
              "      <td>1</td>\n",
              "      <td>0</td>\n",
              "      <td>0</td>\n",
              "      <td>-1</td>\n",
              "      <td>1</td>\n",
              "      <td>12</td>\n",
              "      <td>11</td>\n",
              "      <td>-1</td>\n",
              "      <td>-1</td>\n",
              "      <td>-1</td>\n",
              "      <td>0</td>\n",
              "      <td>0</td>\n",
              "      <td>0.0</td>\n",
              "      <td>1</td>\n",
              "      <td>0.639741</td>\n",
              "      <td>0.491005</td>\n",
              "      <td>0.940151</td>\n",
              "    </tr>\n",
              "    <tr>\n",
              "      <th>...</th>\n",
              "      <td>...</td>\n",
              "      <td>...</td>\n",
              "      <td>...</td>\n",
              "      <td>...</td>\n",
              "      <td>...</td>\n",
              "      <td>...</td>\n",
              "      <td>...</td>\n",
              "      <td>...</td>\n",
              "      <td>...</td>\n",
              "      <td>...</td>\n",
              "      <td>...</td>\n",
              "      <td>...</td>\n",
              "      <td>...</td>\n",
              "      <td>...</td>\n",
              "      <td>...</td>\n",
              "      <td>...</td>\n",
              "      <td>...</td>\n",
              "      <td>...</td>\n",
              "      <td>...</td>\n",
              "      <td>...</td>\n",
              "      <td>...</td>\n",
              "      <td>...</td>\n",
              "      <td>...</td>\n",
              "    </tr>\n",
              "    <tr>\n",
              "      <th>813</th>\n",
              "      <td>дереала</td>\n",
              "      <td>2</td>\n",
              "      <td>2</td>\n",
              "      <td>4.0</td>\n",
              "      <td>2.0</td>\n",
              "      <td>239.0</td>\n",
              "      <td>0</td>\n",
              "      <td>1</td>\n",
              "      <td>0</td>\n",
              "      <td>-1</td>\n",
              "      <td>1</td>\n",
              "      <td>21</td>\n",
              "      <td>274</td>\n",
              "      <td>0</td>\n",
              "      <td>0</td>\n",
              "      <td>0</td>\n",
              "      <td>1</td>\n",
              "      <td>0</td>\n",
              "      <td>0.0</td>\n",
              "      <td>1</td>\n",
              "      <td>0.636992</td>\n",
              "      <td>0.469510</td>\n",
              "      <td>0.982309</td>\n",
              "    </tr>\n",
              "    <tr>\n",
              "      <th>849</th>\n",
              "      <td>месяц</td>\n",
              "      <td>2</td>\n",
              "      <td>2</td>\n",
              "      <td>5.0</td>\n",
              "      <td>1.0</td>\n",
              "      <td>275.0</td>\n",
              "      <td>0</td>\n",
              "      <td>3</td>\n",
              "      <td>0</td>\n",
              "      <td>-1</td>\n",
              "      <td>1</td>\n",
              "      <td>10</td>\n",
              "      <td>324</td>\n",
              "      <td>-1</td>\n",
              "      <td>-1</td>\n",
              "      <td>-1</td>\n",
              "      <td>5</td>\n",
              "      <td>0</td>\n",
              "      <td>0.0</td>\n",
              "      <td>1</td>\n",
              "      <td>0.567132</td>\n",
              "      <td>0.533752</td>\n",
              "      <td>0.985670</td>\n",
              "    </tr>\n",
              "    <tr>\n",
              "      <th>853</th>\n",
              "      <td>манию</td>\n",
              "      <td>2</td>\n",
              "      <td>2</td>\n",
              "      <td>5.0</td>\n",
              "      <td>1.0</td>\n",
              "      <td>279.0</td>\n",
              "      <td>0</td>\n",
              "      <td>3</td>\n",
              "      <td>1</td>\n",
              "      <td>-1</td>\n",
              "      <td>1</td>\n",
              "      <td>10</td>\n",
              "      <td>326</td>\n",
              "      <td>-1</td>\n",
              "      <td>-1</td>\n",
              "      <td>1</td>\n",
              "      <td>0</td>\n",
              "      <td>0</td>\n",
              "      <td>0.0</td>\n",
              "      <td>1</td>\n",
              "      <td>0.476588</td>\n",
              "      <td>0.564877</td>\n",
              "      <td>0.985670</td>\n",
              "    </tr>\n",
              "    <tr>\n",
              "      <th>856</th>\n",
              "      <td>мг</td>\n",
              "      <td>2</td>\n",
              "      <td>2</td>\n",
              "      <td>5.0</td>\n",
              "      <td>1.0</td>\n",
              "      <td>282.0</td>\n",
              "      <td>0</td>\n",
              "      <td>0</td>\n",
              "      <td>0</td>\n",
              "      <td>-1</td>\n",
              "      <td>1</td>\n",
              "      <td>10</td>\n",
              "      <td>326</td>\n",
              "      <td>-1</td>\n",
              "      <td>-1</td>\n",
              "      <td>1</td>\n",
              "      <td>0</td>\n",
              "      <td>0</td>\n",
              "      <td>0.0</td>\n",
              "      <td>1</td>\n",
              "      <td>0.571075</td>\n",
              "      <td>0.564877</td>\n",
              "      <td>0.985670</td>\n",
              "    </tr>\n",
              "    <tr>\n",
              "      <th>859</th>\n",
              "      <td>началом</td>\n",
              "      <td>2</td>\n",
              "      <td>2</td>\n",
              "      <td>5.0</td>\n",
              "      <td>2.0</td>\n",
              "      <td>285.0</td>\n",
              "      <td>0</td>\n",
              "      <td>5</td>\n",
              "      <td>2</td>\n",
              "      <td>-1</td>\n",
              "      <td>1</td>\n",
              "      <td>10</td>\n",
              "      <td>328</td>\n",
              "      <td>-1</td>\n",
              "      <td>-1</td>\n",
              "      <td>1</td>\n",
              "      <td>0</td>\n",
              "      <td>0</td>\n",
              "      <td>0.0</td>\n",
              "      <td>1</td>\n",
              "      <td>0.509427</td>\n",
              "      <td>0.446319</td>\n",
              "      <td>0.985670</td>\n",
              "    </tr>\n",
              "  </tbody>\n",
              "</table>\n",
              "<p>209 rows × 23 columns</p>\n",
              "</div>"
            ],
            "text/plain": [
              "         TOKEN  IS_ANSWER  TOPIC_NUM  ...  TOKEN_VECT  HEAD_VECT  SENT_VECT\n",
              "1     препарат          1          1  ...    0.555853   0.548062   0.940151\n",
              "16     проблем          1          1  ...    0.527591   0.579481   0.940151\n",
              "19   частности          1          1  ...    0.500563   0.411267   0.940151\n",
              "24        мере          1          1  ...    0.585340   0.512961   0.940151\n",
              "25        врач          1          1  ...    0.639741   0.491005   0.940151\n",
              "..         ...        ...        ...  ...         ...        ...        ...\n",
              "813    дереала          2          2  ...    0.636992   0.469510   0.982309\n",
              "849      месяц          2          2  ...    0.567132   0.533752   0.985670\n",
              "853      манию          2          2  ...    0.476588   0.564877   0.985670\n",
              "856         мг          2          2  ...    0.571075   0.564877   0.985670\n",
              "859    началом          2          2  ...    0.509427   0.446319   0.985670\n",
              "\n",
              "[209 rows x 23 columns]"
            ]
          },
          "metadata": {
            "tags": []
          },
          "execution_count": 464
        }
      ]
    },
    {
      "cell_type": "code",
      "metadata": {
        "colab": {
          "base_uri": "https://localhost:8080/",
          "height": 427
        },
        "id": "SWnRm3kkxNgF",
        "outputId": "23745200-332a-4209-de12-7e98f1a003b6"
      },
      "source": [
        "df.loc[(df['POS'] == 1) & (df['NER'] > 1)] "
      ],
      "execution_count": 465,
      "outputs": [
        {
          "output_type": "execute_result",
          "data": {
            "text/html": [
              "<div>\n",
              "<style scoped>\n",
              "    .dataframe tbody tr th:only-of-type {\n",
              "        vertical-align: middle;\n",
              "    }\n",
              "\n",
              "    .dataframe tbody tr th {\n",
              "        vertical-align: top;\n",
              "    }\n",
              "\n",
              "    .dataframe thead th {\n",
              "        text-align: right;\n",
              "    }\n",
              "</style>\n",
              "<table border=\"1\" class=\"dataframe\">\n",
              "  <thead>\n",
              "    <tr style=\"text-align: right;\">\n",
              "      <th></th>\n",
              "      <th>TOKEN</th>\n",
              "      <th>IS_ANSWER</th>\n",
              "      <th>TOPIC_NUM</th>\n",
              "      <th>POST_NUM</th>\n",
              "      <th>SENT_NUM</th>\n",
              "      <th>TOKEN_NUM</th>\n",
              "      <th>ANIMACY</th>\n",
              "      <th>CASE</th>\n",
              "      <th>GENDER</th>\n",
              "      <th>PERSON</th>\n",
              "      <th>POS</th>\n",
              "      <th>DEPENDENCY</th>\n",
              "      <th>HEAD</th>\n",
              "      <th>HEAD_ANIMACY</th>\n",
              "      <th>HEAD_CASE</th>\n",
              "      <th>HEAD_GENDER</th>\n",
              "      <th>HEAD_POS</th>\n",
              "      <th>NER</th>\n",
              "      <th>COREFERENCE_CLUSTER</th>\n",
              "      <th>NUMBER</th>\n",
              "      <th>TOKEN_VECT</th>\n",
              "      <th>HEAD_VECT</th>\n",
              "      <th>SENT_VECT</th>\n",
              "    </tr>\n",
              "  </thead>\n",
              "  <tbody>\n",
              "    <tr>\n",
              "      <th>21</th>\n",
              "      <td>лекарством</td>\n",
              "      <td>1</td>\n",
              "      <td>1</td>\n",
              "      <td>1.0</td>\n",
              "      <td>1.0</td>\n",
              "      <td>21.0</td>\n",
              "      <td>0</td>\n",
              "      <td>5</td>\n",
              "      <td>2</td>\n",
              "      <td>-1</td>\n",
              "      <td>1</td>\n",
              "      <td>4</td>\n",
              "      <td>7</td>\n",
              "      <td>-1</td>\n",
              "      <td>-1</td>\n",
              "      <td>-1</td>\n",
              "      <td>3</td>\n",
              "      <td>2</td>\n",
              "      <td>0.0</td>\n",
              "      <td>1</td>\n",
              "      <td>0.478264</td>\n",
              "      <td>0.579481</td>\n",
              "      <td>0.940151</td>\n",
              "    </tr>\n",
              "    <tr>\n",
              "      <th>217</th>\n",
              "      <td>таблетки</td>\n",
              "      <td>1</td>\n",
              "      <td>1</td>\n",
              "      <td>1.0</td>\n",
              "      <td>21.0</td>\n",
              "      <td>217.0</td>\n",
              "      <td>0</td>\n",
              "      <td>3</td>\n",
              "      <td>1</td>\n",
              "      <td>-1</td>\n",
              "      <td>1</td>\n",
              "      <td>10</td>\n",
              "      <td>101</td>\n",
              "      <td>-1</td>\n",
              "      <td>-1</td>\n",
              "      <td>1</td>\n",
              "      <td>0</td>\n",
              "      <td>2</td>\n",
              "      <td>0.0</td>\n",
              "      <td>0</td>\n",
              "      <td>0.536826</td>\n",
              "      <td>0.702714</td>\n",
              "      <td>0.940151</td>\n",
              "    </tr>\n",
              "    <tr>\n",
              "      <th>295</th>\n",
              "      <td>таблетки</td>\n",
              "      <td>1</td>\n",
              "      <td>1</td>\n",
              "      <td>2.0</td>\n",
              "      <td>0.0</td>\n",
              "      <td>295.0</td>\n",
              "      <td>0</td>\n",
              "      <td>3</td>\n",
              "      <td>1</td>\n",
              "      <td>-1</td>\n",
              "      <td>1</td>\n",
              "      <td>10</td>\n",
              "      <td>101</td>\n",
              "      <td>-1</td>\n",
              "      <td>-1</td>\n",
              "      <td>1</td>\n",
              "      <td>0</td>\n",
              "      <td>2</td>\n",
              "      <td>0.0</td>\n",
              "      <td>0</td>\n",
              "      <td>0.536826</td>\n",
              "      <td>0.702714</td>\n",
              "      <td>0.987734</td>\n",
              "    </tr>\n",
              "    <tr>\n",
              "      <th>366</th>\n",
              "      <td>препарата</td>\n",
              "      <td>1</td>\n",
              "      <td>1</td>\n",
              "      <td>2.0</td>\n",
              "      <td>5.0</td>\n",
              "      <td>366.0</td>\n",
              "      <td>0</td>\n",
              "      <td>1</td>\n",
              "      <td>0</td>\n",
              "      <td>-1</td>\n",
              "      <td>1</td>\n",
              "      <td>21</td>\n",
              "      <td>154</td>\n",
              "      <td>0</td>\n",
              "      <td>1</td>\n",
              "      <td>1</td>\n",
              "      <td>1</td>\n",
              "      <td>2</td>\n",
              "      <td>344.0</td>\n",
              "      <td>1</td>\n",
              "      <td>0.508213</td>\n",
              "      <td>0.396940</td>\n",
              "      <td>0.987734</td>\n",
              "    </tr>\n",
              "    <tr>\n",
              "      <th>421</th>\n",
              "      <td>препарат</td>\n",
              "      <td>1</td>\n",
              "      <td>1</td>\n",
              "      <td>5.0</td>\n",
              "      <td>0.0</td>\n",
              "      <td>421.0</td>\n",
              "      <td>0</td>\n",
              "      <td>0</td>\n",
              "      <td>0</td>\n",
              "      <td>-1</td>\n",
              "      <td>1</td>\n",
              "      <td>0</td>\n",
              "      <td>1</td>\n",
              "      <td>0</td>\n",
              "      <td>0</td>\n",
              "      <td>0</td>\n",
              "      <td>1</td>\n",
              "      <td>2</td>\n",
              "      <td>2.0</td>\n",
              "      <td>1</td>\n",
              "      <td>0.555853</td>\n",
              "      <td>0.872590</td>\n",
              "      <td>0.987734</td>\n",
              "    </tr>\n",
              "    <tr>\n",
              "      <th>...</th>\n",
              "      <td>...</td>\n",
              "      <td>...</td>\n",
              "      <td>...</td>\n",
              "      <td>...</td>\n",
              "      <td>...</td>\n",
              "      <td>...</td>\n",
              "      <td>...</td>\n",
              "      <td>...</td>\n",
              "      <td>...</td>\n",
              "      <td>...</td>\n",
              "      <td>...</td>\n",
              "      <td>...</td>\n",
              "      <td>...</td>\n",
              "      <td>...</td>\n",
              "      <td>...</td>\n",
              "      <td>...</td>\n",
              "      <td>...</td>\n",
              "      <td>...</td>\n",
              "      <td>...</td>\n",
              "      <td>...</td>\n",
              "      <td>...</td>\n",
              "      <td>...</td>\n",
              "      <td>...</td>\n",
              "    </tr>\n",
              "    <tr>\n",
              "      <th>15630</th>\n",
              "      <td>прививки</td>\n",
              "      <td>16</td>\n",
              "      <td>16</td>\n",
              "      <td>16.0</td>\n",
              "      <td>0.0</td>\n",
              "      <td>696.0</td>\n",
              "      <td>0</td>\n",
              "      <td>1</td>\n",
              "      <td>1</td>\n",
              "      <td>-1</td>\n",
              "      <td>1</td>\n",
              "      <td>1</td>\n",
              "      <td>2636</td>\n",
              "      <td>1</td>\n",
              "      <td>0</td>\n",
              "      <td>0</td>\n",
              "      <td>1</td>\n",
              "      <td>2</td>\n",
              "      <td>0.0</td>\n",
              "      <td>1</td>\n",
              "      <td>0.617029</td>\n",
              "      <td>0.604673</td>\n",
              "      <td>0.918507</td>\n",
              "    </tr>\n",
              "    <tr>\n",
              "      <th>15651</th>\n",
              "      <td>вакцина</td>\n",
              "      <td>16</td>\n",
              "      <td>16</td>\n",
              "      <td>16.0</td>\n",
              "      <td>0.0</td>\n",
              "      <td>717.0</td>\n",
              "      <td>0</td>\n",
              "      <td>0</td>\n",
              "      <td>1</td>\n",
              "      <td>-1</td>\n",
              "      <td>1</td>\n",
              "      <td>21</td>\n",
              "      <td>2642</td>\n",
              "      <td>0</td>\n",
              "      <td>0</td>\n",
              "      <td>2</td>\n",
              "      <td>1</td>\n",
              "      <td>2</td>\n",
              "      <td>0.0</td>\n",
              "      <td>1</td>\n",
              "      <td>0.562525</td>\n",
              "      <td>0.492866</td>\n",
              "      <td>0.884891</td>\n",
              "    </tr>\n",
              "    <tr>\n",
              "      <th>15692</th>\n",
              "      <td>химиотерапии</td>\n",
              "      <td>16</td>\n",
              "      <td>16</td>\n",
              "      <td>17.0</td>\n",
              "      <td>3.0</td>\n",
              "      <td>758.0</td>\n",
              "      <td>0</td>\n",
              "      <td>1</td>\n",
              "      <td>1</td>\n",
              "      <td>-1</td>\n",
              "      <td>1</td>\n",
              "      <td>21</td>\n",
              "      <td>142</td>\n",
              "      <td>1</td>\n",
              "      <td>0</td>\n",
              "      <td>0</td>\n",
              "      <td>1</td>\n",
              "      <td>2</td>\n",
              "      <td>0.0</td>\n",
              "      <td>1</td>\n",
              "      <td>0.582360</td>\n",
              "      <td>0.591892</td>\n",
              "      <td>0.953768</td>\n",
              "    </tr>\n",
              "    <tr>\n",
              "      <th>15751</th>\n",
              "      <td>химиотерапий</td>\n",
              "      <td>16</td>\n",
              "      <td>16</td>\n",
              "      <td>18.0</td>\n",
              "      <td>1.0</td>\n",
              "      <td>817.0</td>\n",
              "      <td>0</td>\n",
              "      <td>1</td>\n",
              "      <td>1</td>\n",
              "      <td>-1</td>\n",
              "      <td>1</td>\n",
              "      <td>21</td>\n",
              "      <td>2609</td>\n",
              "      <td>0</td>\n",
              "      <td>1</td>\n",
              "      <td>1</td>\n",
              "      <td>1</td>\n",
              "      <td>2</td>\n",
              "      <td>0.0</td>\n",
              "      <td>0</td>\n",
              "      <td>0.642314</td>\n",
              "      <td>0.634780</td>\n",
              "      <td>0.950154</td>\n",
              "    </tr>\n",
              "    <tr>\n",
              "      <th>15873</th>\n",
              "      <td>вакцина</td>\n",
              "      <td>16</td>\n",
              "      <td>16</td>\n",
              "      <td>19.0</td>\n",
              "      <td>0.0</td>\n",
              "      <td>939.0</td>\n",
              "      <td>0</td>\n",
              "      <td>0</td>\n",
              "      <td>1</td>\n",
              "      <td>-1</td>\n",
              "      <td>1</td>\n",
              "      <td>21</td>\n",
              "      <td>2642</td>\n",
              "      <td>0</td>\n",
              "      <td>0</td>\n",
              "      <td>2</td>\n",
              "      <td>1</td>\n",
              "      <td>2</td>\n",
              "      <td>0.0</td>\n",
              "      <td>1</td>\n",
              "      <td>0.562525</td>\n",
              "      <td>0.492866</td>\n",
              "      <td>0.874737</td>\n",
              "    </tr>\n",
              "  </tbody>\n",
              "</table>\n",
              "<p>209 rows × 23 columns</p>\n",
              "</div>"
            ],
            "text/plain": [
              "              TOKEN  IS_ANSWER  TOPIC_NUM  ...  TOKEN_VECT  HEAD_VECT  SENT_VECT\n",
              "21       лекарством          1          1  ...    0.478264   0.579481   0.940151\n",
              "217        таблетки          1          1  ...    0.536826   0.702714   0.940151\n",
              "295        таблетки          1          1  ...    0.536826   0.702714   0.987734\n",
              "366       препарата          1          1  ...    0.508213   0.396940   0.987734\n",
              "421        препарат          1          1  ...    0.555853   0.872590   0.987734\n",
              "...             ...        ...        ...  ...         ...        ...        ...\n",
              "15630      прививки         16         16  ...    0.617029   0.604673   0.918507\n",
              "15651       вакцина         16         16  ...    0.562525   0.492866   0.884891\n",
              "15692  химиотерапии         16         16  ...    0.582360   0.591892   0.953768\n",
              "15751  химиотерапий         16         16  ...    0.642314   0.634780   0.950154\n",
              "15873       вакцина         16         16  ...    0.562525   0.492866   0.874737\n",
              "\n",
              "[209 rows x 23 columns]"
            ]
          },
          "metadata": {
            "tags": []
          },
          "execution_count": 465
        }
      ]
    },
    {
      "cell_type": "code",
      "metadata": {
        "colab": {
          "base_uri": "https://localhost:8080/"
        },
        "id": "enYSMFeiyZ2-",
        "outputId": "d55bb394-107c-4c49-82f1-53e683478b1c"
      },
      "source": [
        "# df.loc[(df['POS'] == 1) &  (df['NER'] == 0)].iloc[:209, :].append(df.loc[(df['POS'] == 1) & (df['NER'] > 1)])\n",
        "df.loc[(df['POS'] == 1) & (df['NER'] > 1)]\n",
        "np.mean(df.loc[(df['POS'] == 1) & (df['NER'] > 1)].CASE)"
      ],
      "execution_count": 547,
      "outputs": [
        {
          "output_type": "execute_result",
          "data": {
            "text/plain": [
              "1.1100478468899522"
            ]
          },
          "metadata": {
            "tags": []
          },
          "execution_count": 547
        }
      ]
    },
    {
      "cell_type": "code",
      "metadata": {
        "colab": {
          "base_uri": "https://localhost:8080/",
          "height": 656
        },
        "id": "AhW7C8jhxPgn",
        "outputId": "228e1b2b-8f66-470f-edee-cd843b6b3d6e"
      },
      "source": [
        "print(len(df.loc[(df['POS'] != 1) & (df['POS'] != 5) & (df['NER'] > 1) ]))\n",
        "df.loc[(df['POS'] != 1) & (df['POS'] != 5) & (df['NER'] > 1) ]"
      ],
      "execution_count": 467,
      "outputs": [
        {
          "output_type": "stream",
          "text": [
            "19\n"
          ],
          "name": "stdout"
        },
        {
          "output_type": "execute_result",
          "data": {
            "text/html": [
              "<div>\n",
              "<style scoped>\n",
              "    .dataframe tbody tr th:only-of-type {\n",
              "        vertical-align: middle;\n",
              "    }\n",
              "\n",
              "    .dataframe tbody tr th {\n",
              "        vertical-align: top;\n",
              "    }\n",
              "\n",
              "    .dataframe thead th {\n",
              "        text-align: right;\n",
              "    }\n",
              "</style>\n",
              "<table border=\"1\" class=\"dataframe\">\n",
              "  <thead>\n",
              "    <tr style=\"text-align: right;\">\n",
              "      <th></th>\n",
              "      <th>TOKEN</th>\n",
              "      <th>IS_ANSWER</th>\n",
              "      <th>TOPIC_NUM</th>\n",
              "      <th>POST_NUM</th>\n",
              "      <th>SENT_NUM</th>\n",
              "      <th>TOKEN_NUM</th>\n",
              "      <th>ANIMACY</th>\n",
              "      <th>CASE</th>\n",
              "      <th>GENDER</th>\n",
              "      <th>PERSON</th>\n",
              "      <th>POS</th>\n",
              "      <th>DEPENDENCY</th>\n",
              "      <th>HEAD</th>\n",
              "      <th>HEAD_ANIMACY</th>\n",
              "      <th>HEAD_CASE</th>\n",
              "      <th>HEAD_GENDER</th>\n",
              "      <th>HEAD_POS</th>\n",
              "      <th>NER</th>\n",
              "      <th>COREFERENCE_CLUSTER</th>\n",
              "      <th>NUMBER</th>\n",
              "      <th>TOKEN_VECT</th>\n",
              "      <th>HEAD_VECT</th>\n",
              "      <th>SENT_VECT</th>\n",
              "    </tr>\n",
              "  </thead>\n",
              "  <tbody>\n",
              "    <tr>\n",
              "      <th>446</th>\n",
              "      <td>последнему</td>\n",
              "      <td>1</td>\n",
              "      <td>1</td>\n",
              "      <td>6.0</td>\n",
              "      <td>2.0</td>\n",
              "      <td>446.0</td>\n",
              "      <td>-1</td>\n",
              "      <td>2</td>\n",
              "      <td>0</td>\n",
              "      <td>-1</td>\n",
              "      <td>10</td>\n",
              "      <td>7</td>\n",
              "      <td>184</td>\n",
              "      <td>-1</td>\n",
              "      <td>-1</td>\n",
              "      <td>-1</td>\n",
              "      <td>0</td>\n",
              "      <td>2</td>\n",
              "      <td>442.0</td>\n",
              "      <td>1</td>\n",
              "      <td>0.596424</td>\n",
              "      <td>0.515744</td>\n",
              "      <td>0.987734</td>\n",
              "    </tr>\n",
              "    <tr>\n",
              "      <th>3539</th>\n",
              "      <td>препарат.точнее</td>\n",
              "      <td>3</td>\n",
              "      <td>3</td>\n",
              "      <td>21.0</td>\n",
              "      <td>0.0</td>\n",
              "      <td>1671.0</td>\n",
              "      <td>-1</td>\n",
              "      <td>-1</td>\n",
              "      <td>-1</td>\n",
              "      <td>-1</td>\n",
              "      <td>13</td>\n",
              "      <td>0</td>\n",
              "      <td>691</td>\n",
              "      <td>-1</td>\n",
              "      <td>-1</td>\n",
              "      <td>-1</td>\n",
              "      <td>14</td>\n",
              "      <td>2</td>\n",
              "      <td>3.0</td>\n",
              "      <td>-1</td>\n",
              "      <td>0.614747</td>\n",
              "      <td>0.883487</td>\n",
              "      <td>0.794524</td>\n",
              "    </tr>\n",
              "    <tr>\n",
              "      <th>5222</th>\n",
              "      <td>новейший</td>\n",
              "      <td>3</td>\n",
              "      <td>3</td>\n",
              "      <td>38.0</td>\n",
              "      <td>5.0</td>\n",
              "      <td>3354.0</td>\n",
              "      <td>-1</td>\n",
              "      <td>0</td>\n",
              "      <td>0</td>\n",
              "      <td>-1</td>\n",
              "      <td>10</td>\n",
              "      <td>0</td>\n",
              "      <td>1085</td>\n",
              "      <td>-1</td>\n",
              "      <td>0</td>\n",
              "      <td>0</td>\n",
              "      <td>8</td>\n",
              "      <td>2</td>\n",
              "      <td>3350.0</td>\n",
              "      <td>1</td>\n",
              "      <td>0.628864</td>\n",
              "      <td>0.583122</td>\n",
              "      <td>0.980574</td>\n",
              "    </tr>\n",
              "    <tr>\n",
              "      <th>6857</th>\n",
              "      <td>тиапридал</td>\n",
              "      <td>5</td>\n",
              "      <td>5</td>\n",
              "      <td>23.0</td>\n",
              "      <td>6.0</td>\n",
              "      <td>659.0</td>\n",
              "      <td>-1</td>\n",
              "      <td>-1</td>\n",
              "      <td>0</td>\n",
              "      <td>-1</td>\n",
              "      <td>0</td>\n",
              "      <td>12</td>\n",
              "      <td>958</td>\n",
              "      <td>-1</td>\n",
              "      <td>-1</td>\n",
              "      <td>-1</td>\n",
              "      <td>0</td>\n",
              "      <td>2</td>\n",
              "      <td>659.0</td>\n",
              "      <td>1</td>\n",
              "      <td>0.717247</td>\n",
              "      <td>0.507526</td>\n",
              "      <td>0.980574</td>\n",
              "    </tr>\n",
              "    <tr>\n",
              "      <th>8834</th>\n",
              "      <td>это</td>\n",
              "      <td>7</td>\n",
              "      <td>7</td>\n",
              "      <td>0.0</td>\n",
              "      <td>25.0</td>\n",
              "      <td>295.0</td>\n",
              "      <td>-1</td>\n",
              "      <td>-1</td>\n",
              "      <td>-1</td>\n",
              "      <td>-1</td>\n",
              "      <td>3</td>\n",
              "      <td>12</td>\n",
              "      <td>941</td>\n",
              "      <td>-1</td>\n",
              "      <td>-1</td>\n",
              "      <td>-1</td>\n",
              "      <td>9</td>\n",
              "      <td>3</td>\n",
              "      <td>293.0</td>\n",
              "      <td>-1</td>\n",
              "      <td>0.466551</td>\n",
              "      <td>0.433009</td>\n",
              "      <td>0.983035</td>\n",
              "    </tr>\n",
              "    <tr>\n",
              "      <th>8928</th>\n",
              "      <td>хт</td>\n",
              "      <td>7</td>\n",
              "      <td>7</td>\n",
              "      <td>1.0</td>\n",
              "      <td>2.0</td>\n",
              "      <td>389.0</td>\n",
              "      <td>-1</td>\n",
              "      <td>-1</td>\n",
              "      <td>-1</td>\n",
              "      <td>-1</td>\n",
              "      <td>-1</td>\n",
              "      <td>21</td>\n",
              "      <td>1634</td>\n",
              "      <td>0</td>\n",
              "      <td>0</td>\n",
              "      <td>0</td>\n",
              "      <td>1</td>\n",
              "      <td>2</td>\n",
              "      <td>0.0</td>\n",
              "      <td>-1</td>\n",
              "      <td>0.581063</td>\n",
              "      <td>0.491617</td>\n",
              "      <td>0.983035</td>\n",
              "    </tr>\n",
              "    <tr>\n",
              "      <th>8987</th>\n",
              "      <td>хт</td>\n",
              "      <td>7</td>\n",
              "      <td>7</td>\n",
              "      <td>1.0</td>\n",
              "      <td>8.0</td>\n",
              "      <td>448.0</td>\n",
              "      <td>-1</td>\n",
              "      <td>-1</td>\n",
              "      <td>-1</td>\n",
              "      <td>-1</td>\n",
              "      <td>-1</td>\n",
              "      <td>21</td>\n",
              "      <td>1651</td>\n",
              "      <td>0</td>\n",
              "      <td>1</td>\n",
              "      <td>2</td>\n",
              "      <td>1</td>\n",
              "      <td>2</td>\n",
              "      <td>0.0</td>\n",
              "      <td>-1</td>\n",
              "      <td>0.581063</td>\n",
              "      <td>0.549501</td>\n",
              "      <td>0.983035</td>\n",
              "    </tr>\n",
              "    <tr>\n",
              "      <th>9086</th>\n",
              "      <td>хт</td>\n",
              "      <td>7</td>\n",
              "      <td>7</td>\n",
              "      <td>1.0</td>\n",
              "      <td>13.0</td>\n",
              "      <td>547.0</td>\n",
              "      <td>-1</td>\n",
              "      <td>-1</td>\n",
              "      <td>-1</td>\n",
              "      <td>-1</td>\n",
              "      <td>-1</td>\n",
              "      <td>10</td>\n",
              "      <td>229</td>\n",
              "      <td>-1</td>\n",
              "      <td>-1</td>\n",
              "      <td>-1</td>\n",
              "      <td>5</td>\n",
              "      <td>2</td>\n",
              "      <td>0.0</td>\n",
              "      <td>-1</td>\n",
              "      <td>0.581063</td>\n",
              "      <td>0.583721</td>\n",
              "      <td>0.983035</td>\n",
              "    </tr>\n",
              "    <tr>\n",
              "      <th>9497</th>\n",
              "      <td>ксф</td>\n",
              "      <td>7</td>\n",
              "      <td>7</td>\n",
              "      <td>1.0</td>\n",
              "      <td>57.0</td>\n",
              "      <td>958.0</td>\n",
              "      <td>-1</td>\n",
              "      <td>-1</td>\n",
              "      <td>-1</td>\n",
              "      <td>-1</td>\n",
              "      <td>-1</td>\n",
              "      <td>12</td>\n",
              "      <td>1791</td>\n",
              "      <td>-1</td>\n",
              "      <td>-1</td>\n",
              "      <td>-1</td>\n",
              "      <td>0</td>\n",
              "      <td>2</td>\n",
              "      <td>0.0</td>\n",
              "      <td>-1</td>\n",
              "      <td>0.519756</td>\n",
              "      <td>0.616502</td>\n",
              "      <td>0.980807</td>\n",
              "    </tr>\n",
              "    <tr>\n",
              "      <th>9935</th>\n",
              "      <td>хт</td>\n",
              "      <td>7</td>\n",
              "      <td>7</td>\n",
              "      <td>7.0</td>\n",
              "      <td>0.0</td>\n",
              "      <td>1396.0</td>\n",
              "      <td>-1</td>\n",
              "      <td>-1</td>\n",
              "      <td>-1</td>\n",
              "      <td>-1</td>\n",
              "      <td>-1</td>\n",
              "      <td>21</td>\n",
              "      <td>1634</td>\n",
              "      <td>0</td>\n",
              "      <td>0</td>\n",
              "      <td>0</td>\n",
              "      <td>1</td>\n",
              "      <td>2</td>\n",
              "      <td>0.0</td>\n",
              "      <td>-1</td>\n",
              "      <td>0.581063</td>\n",
              "      <td>0.491617</td>\n",
              "      <td>0.978946</td>\n",
              "    </tr>\n",
              "    <tr>\n",
              "      <th>11469</th>\n",
              "      <td>обезболивающие</td>\n",
              "      <td>9</td>\n",
              "      <td>9</td>\n",
              "      <td>0.0</td>\n",
              "      <td>34.0</td>\n",
              "      <td>300.0</td>\n",
              "      <td>-1</td>\n",
              "      <td>0</td>\n",
              "      <td>-1</td>\n",
              "      <td>-1</td>\n",
              "      <td>14</td>\n",
              "      <td>26</td>\n",
              "      <td>1557</td>\n",
              "      <td>0</td>\n",
              "      <td>2</td>\n",
              "      <td>1</td>\n",
              "      <td>1</td>\n",
              "      <td>2</td>\n",
              "      <td>301.0</td>\n",
              "      <td>0</td>\n",
              "      <td>0.592737</td>\n",
              "      <td>0.521969</td>\n",
              "      <td>0.946552</td>\n",
              "    </tr>\n",
              "    <tr>\n",
              "      <th>11825</th>\n",
              "      <td>её</td>\n",
              "      <td>11</td>\n",
              "      <td>11</td>\n",
              "      <td>0.0</td>\n",
              "      <td>2.0</td>\n",
              "      <td>21.0</td>\n",
              "      <td>-1</td>\n",
              "      <td>1</td>\n",
              "      <td>2</td>\n",
              "      <td>-1</td>\n",
              "      <td>10</td>\n",
              "      <td>1</td>\n",
              "      <td>1175</td>\n",
              "      <td>-1</td>\n",
              "      <td>-1</td>\n",
              "      <td>-1</td>\n",
              "      <td>0</td>\n",
              "      <td>3</td>\n",
              "      <td>0.0</td>\n",
              "      <td>1</td>\n",
              "      <td>0.405793</td>\n",
              "      <td>0.502882</td>\n",
              "      <td>0.977832</td>\n",
              "    </tr>\n",
              "    <tr>\n",
              "      <th>11867</th>\n",
              "      <td>таб</td>\n",
              "      <td>11</td>\n",
              "      <td>11</td>\n",
              "      <td>4.0</td>\n",
              "      <td>0.0</td>\n",
              "      <td>63.0</td>\n",
              "      <td>-1</td>\n",
              "      <td>-1</td>\n",
              "      <td>-1</td>\n",
              "      <td>-1</td>\n",
              "      <td>-1</td>\n",
              "      <td>2</td>\n",
              "      <td>2172</td>\n",
              "      <td>-1</td>\n",
              "      <td>-1</td>\n",
              "      <td>-1</td>\n",
              "      <td>7</td>\n",
              "      <td>2</td>\n",
              "      <td>61.0</td>\n",
              "      <td>-1</td>\n",
              "      <td>0.638869</td>\n",
              "      <td>0.572064</td>\n",
              "      <td>0.956091</td>\n",
              "    </tr>\n",
              "    <tr>\n",
              "      <th>11869</th>\n",
              "      <td>таб</td>\n",
              "      <td>11</td>\n",
              "      <td>11</td>\n",
              "      <td>4.0</td>\n",
              "      <td>0.0</td>\n",
              "      <td>65.0</td>\n",
              "      <td>-1</td>\n",
              "      <td>-1</td>\n",
              "      <td>-1</td>\n",
              "      <td>-1</td>\n",
              "      <td>-1</td>\n",
              "      <td>2</td>\n",
              "      <td>2190</td>\n",
              "      <td>-1</td>\n",
              "      <td>-1</td>\n",
              "      <td>-1</td>\n",
              "      <td>-1</td>\n",
              "      <td>2</td>\n",
              "      <td>61.0</td>\n",
              "      <td>-1</td>\n",
              "      <td>0.638869</td>\n",
              "      <td>0.610794</td>\n",
              "      <td>0.956091</td>\n",
              "    </tr>\n",
              "    <tr>\n",
              "      <th>11922</th>\n",
              "      <td>таб</td>\n",
              "      <td>11</td>\n",
              "      <td>11</td>\n",
              "      <td>7.0</td>\n",
              "      <td>0.0</td>\n",
              "      <td>118.0</td>\n",
              "      <td>-1</td>\n",
              "      <td>-1</td>\n",
              "      <td>-1</td>\n",
              "      <td>-1</td>\n",
              "      <td>-1</td>\n",
              "      <td>2</td>\n",
              "      <td>2172</td>\n",
              "      <td>-1</td>\n",
              "      <td>-1</td>\n",
              "      <td>-1</td>\n",
              "      <td>7</td>\n",
              "      <td>2</td>\n",
              "      <td>116.0</td>\n",
              "      <td>-1</td>\n",
              "      <td>0.638869</td>\n",
              "      <td>0.572064</td>\n",
              "      <td>0.963449</td>\n",
              "    </tr>\n",
              "    <tr>\n",
              "      <th>11924</th>\n",
              "      <td>таб</td>\n",
              "      <td>11</td>\n",
              "      <td>11</td>\n",
              "      <td>7.0</td>\n",
              "      <td>0.0</td>\n",
              "      <td>120.0</td>\n",
              "      <td>-1</td>\n",
              "      <td>-1</td>\n",
              "      <td>-1</td>\n",
              "      <td>-1</td>\n",
              "      <td>-1</td>\n",
              "      <td>2</td>\n",
              "      <td>2190</td>\n",
              "      <td>-1</td>\n",
              "      <td>-1</td>\n",
              "      <td>-1</td>\n",
              "      <td>-1</td>\n",
              "      <td>2</td>\n",
              "      <td>116.0</td>\n",
              "      <td>-1</td>\n",
              "      <td>0.638869</td>\n",
              "      <td>0.610794</td>\n",
              "      <td>0.963449</td>\n",
              "    </tr>\n",
              "    <tr>\n",
              "      <th>12094</th>\n",
              "      <td>таб</td>\n",
              "      <td>11</td>\n",
              "      <td>11</td>\n",
              "      <td>13.0</td>\n",
              "      <td>0.0</td>\n",
              "      <td>290.0</td>\n",
              "      <td>-1</td>\n",
              "      <td>-1</td>\n",
              "      <td>-1</td>\n",
              "      <td>-1</td>\n",
              "      <td>-1</td>\n",
              "      <td>2</td>\n",
              "      <td>2172</td>\n",
              "      <td>-1</td>\n",
              "      <td>-1</td>\n",
              "      <td>-1</td>\n",
              "      <td>7</td>\n",
              "      <td>2</td>\n",
              "      <td>288.0</td>\n",
              "      <td>-1</td>\n",
              "      <td>0.638869</td>\n",
              "      <td>0.572064</td>\n",
              "      <td>0.959917</td>\n",
              "    </tr>\n",
              "    <tr>\n",
              "      <th>12096</th>\n",
              "      <td>таб</td>\n",
              "      <td>11</td>\n",
              "      <td>11</td>\n",
              "      <td>13.0</td>\n",
              "      <td>0.0</td>\n",
              "      <td>292.0</td>\n",
              "      <td>-1</td>\n",
              "      <td>-1</td>\n",
              "      <td>-1</td>\n",
              "      <td>-1</td>\n",
              "      <td>-1</td>\n",
              "      <td>2</td>\n",
              "      <td>2190</td>\n",
              "      <td>-1</td>\n",
              "      <td>-1</td>\n",
              "      <td>-1</td>\n",
              "      <td>-1</td>\n",
              "      <td>2</td>\n",
              "      <td>288.0</td>\n",
              "      <td>-1</td>\n",
              "      <td>0.638869</td>\n",
              "      <td>0.610794</td>\n",
              "      <td>0.959917</td>\n",
              "    </tr>\n",
              "    <tr>\n",
              "      <th>13000</th>\n",
              "      <td>это</td>\n",
              "      <td>15</td>\n",
              "      <td>15</td>\n",
              "      <td>1.0</td>\n",
              "      <td>1.0</td>\n",
              "      <td>408.0</td>\n",
              "      <td>-1</td>\n",
              "      <td>-1</td>\n",
              "      <td>-1</td>\n",
              "      <td>-1</td>\n",
              "      <td>3</td>\n",
              "      <td>1</td>\n",
              "      <td>1035</td>\n",
              "      <td>-1</td>\n",
              "      <td>-1</td>\n",
              "      <td>-1</td>\n",
              "      <td>12</td>\n",
              "      <td>3</td>\n",
              "      <td>403.0</td>\n",
              "      <td>-1</td>\n",
              "      <td>0.466551</td>\n",
              "      <td>0.453764</td>\n",
              "      <td>0.930205</td>\n",
              "    </tr>\n",
              "  </tbody>\n",
              "</table>\n",
              "</div>"
            ],
            "text/plain": [
              "                 TOKEN  IS_ANSWER  TOPIC_NUM  ...  TOKEN_VECT  HEAD_VECT  SENT_VECT\n",
              "446         последнему          1          1  ...    0.596424   0.515744   0.987734\n",
              "3539   препарат.точнее          3          3  ...    0.614747   0.883487   0.794524\n",
              "5222          новейший          3          3  ...    0.628864   0.583122   0.980574\n",
              "6857         тиапридал          5          5  ...    0.717247   0.507526   0.980574\n",
              "8834               это          7          7  ...    0.466551   0.433009   0.983035\n",
              "8928                хт          7          7  ...    0.581063   0.491617   0.983035\n",
              "8987                хт          7          7  ...    0.581063   0.549501   0.983035\n",
              "9086                хт          7          7  ...    0.581063   0.583721   0.983035\n",
              "9497               ксф          7          7  ...    0.519756   0.616502   0.980807\n",
              "9935                хт          7          7  ...    0.581063   0.491617   0.978946\n",
              "11469   обезболивающие          9          9  ...    0.592737   0.521969   0.946552\n",
              "11825               её         11         11  ...    0.405793   0.502882   0.977832\n",
              "11867              таб         11         11  ...    0.638869   0.572064   0.956091\n",
              "11869              таб         11         11  ...    0.638869   0.610794   0.956091\n",
              "11922              таб         11         11  ...    0.638869   0.572064   0.963449\n",
              "11924              таб         11         11  ...    0.638869   0.610794   0.963449\n",
              "12094              таб         11         11  ...    0.638869   0.572064   0.959917\n",
              "12096              таб         11         11  ...    0.638869   0.610794   0.959917\n",
              "13000              это         15         15  ...    0.466551   0.453764   0.930205\n",
              "\n",
              "[19 rows x 23 columns]"
            ]
          },
          "metadata": {
            "tags": []
          },
          "execution_count": 467
        }
      ]
    },
    {
      "cell_type": "code",
      "metadata": {
        "id": "dErtzUQOxhBr"
      },
      "source": [
        "med_df = df.loc[(df['POS'] == 1) &  (df['NER'] == 0)].iloc[:2409, :]\\\n",
        "            .append(df.loc[(df['POS'] == 1) & (df['NER'] > 1)]).\\\n",
        "            loc[:,['TOKEN_VECT', 'CASE', 'HEAD_VECT', 'NER']]\n",
        "\n",
        "\n",
        "# med_df = df.loc[(df['POS'] == 1) &  (df['NER'] == 0)].iloc[:1409, :]\\\n",
        "#             .append(df.loc[(df['POS'] == 1) & (df['NER'] > 1)]).\\\n",
        "#             loc[:,['TOKEN_VECT', 'HEAD_VECT', 'SENT_VECT', 'NER']]"
      ],
      "execution_count": 577,
      "outputs": []
    },
    {
      "cell_type": "code",
      "metadata": {
        "colab": {
          "base_uri": "https://localhost:8080/",
          "height": 407
        },
        "id": "4_SHsbOD7CgI",
        "outputId": "3c6bb6f7-9790-4867-cc6f-53ec471b5f73"
      },
      "source": [
        "med_df"
      ],
      "execution_count": 578,
      "outputs": [
        {
          "output_type": "execute_result",
          "data": {
            "text/html": [
              "<div>\n",
              "<style scoped>\n",
              "    .dataframe tbody tr th:only-of-type {\n",
              "        vertical-align: middle;\n",
              "    }\n",
              "\n",
              "    .dataframe tbody tr th {\n",
              "        vertical-align: top;\n",
              "    }\n",
              "\n",
              "    .dataframe thead th {\n",
              "        text-align: right;\n",
              "    }\n",
              "</style>\n",
              "<table border=\"1\" class=\"dataframe\">\n",
              "  <thead>\n",
              "    <tr style=\"text-align: right;\">\n",
              "      <th></th>\n",
              "      <th>TOKEN_VECT</th>\n",
              "      <th>CASE</th>\n",
              "      <th>HEAD_VECT</th>\n",
              "      <th>NER</th>\n",
              "    </tr>\n",
              "  </thead>\n",
              "  <tbody>\n",
              "    <tr>\n",
              "      <th>1</th>\n",
              "      <td>0.555853</td>\n",
              "      <td>0</td>\n",
              "      <td>0.548062</td>\n",
              "      <td>0</td>\n",
              "    </tr>\n",
              "    <tr>\n",
              "      <th>16</th>\n",
              "      <td>0.527591</td>\n",
              "      <td>1</td>\n",
              "      <td>0.579481</td>\n",
              "      <td>0</td>\n",
              "    </tr>\n",
              "    <tr>\n",
              "      <th>19</th>\n",
              "      <td>0.500563</td>\n",
              "      <td>4</td>\n",
              "      <td>0.411267</td>\n",
              "      <td>0</td>\n",
              "    </tr>\n",
              "    <tr>\n",
              "      <th>24</th>\n",
              "      <td>0.585340</td>\n",
              "      <td>2</td>\n",
              "      <td>0.512961</td>\n",
              "      <td>0</td>\n",
              "    </tr>\n",
              "    <tr>\n",
              "      <th>25</th>\n",
              "      <td>0.639741</td>\n",
              "      <td>0</td>\n",
              "      <td>0.491005</td>\n",
              "      <td>0</td>\n",
              "    </tr>\n",
              "    <tr>\n",
              "      <th>...</th>\n",
              "      <td>...</td>\n",
              "      <td>...</td>\n",
              "      <td>...</td>\n",
              "      <td>...</td>\n",
              "    </tr>\n",
              "    <tr>\n",
              "      <th>15630</th>\n",
              "      <td>0.617029</td>\n",
              "      <td>1</td>\n",
              "      <td>0.604673</td>\n",
              "      <td>2</td>\n",
              "    </tr>\n",
              "    <tr>\n",
              "      <th>15651</th>\n",
              "      <td>0.562525</td>\n",
              "      <td>0</td>\n",
              "      <td>0.492866</td>\n",
              "      <td>2</td>\n",
              "    </tr>\n",
              "    <tr>\n",
              "      <th>15692</th>\n",
              "      <td>0.582360</td>\n",
              "      <td>1</td>\n",
              "      <td>0.591892</td>\n",
              "      <td>2</td>\n",
              "    </tr>\n",
              "    <tr>\n",
              "      <th>15751</th>\n",
              "      <td>0.642314</td>\n",
              "      <td>1</td>\n",
              "      <td>0.634780</td>\n",
              "      <td>2</td>\n",
              "    </tr>\n",
              "    <tr>\n",
              "      <th>15873</th>\n",
              "      <td>0.562525</td>\n",
              "      <td>0</td>\n",
              "      <td>0.492866</td>\n",
              "      <td>2</td>\n",
              "    </tr>\n",
              "  </tbody>\n",
              "</table>\n",
              "<p>2618 rows × 4 columns</p>\n",
              "</div>"
            ],
            "text/plain": [
              "       TOKEN_VECT  CASE  HEAD_VECT  NER\n",
              "1        0.555853     0   0.548062    0\n",
              "16       0.527591     1   0.579481    0\n",
              "19       0.500563     4   0.411267    0\n",
              "24       0.585340     2   0.512961    0\n",
              "25       0.639741     0   0.491005    0\n",
              "...           ...   ...        ...  ...\n",
              "15630    0.617029     1   0.604673    2\n",
              "15651    0.562525     0   0.492866    2\n",
              "15692    0.582360     1   0.591892    2\n",
              "15751    0.642314     1   0.634780    2\n",
              "15873    0.562525     0   0.492866    2\n",
              "\n",
              "[2618 rows x 4 columns]"
            ]
          },
          "metadata": {
            "tags": []
          },
          "execution_count": 578
        }
      ]
    },
    {
      "cell_type": "code",
      "metadata": {
        "id": "QTW6mOFi7SG2"
      },
      "source": [
        "train, test = train_test_split(med_df, test_size=0.3, shuffle=True)\n",
        "train = train.reset_index().drop(['index'], axis=1)\n",
        "test = test.reset_index().drop(['index'], axis=1)\n",
        "X, y, X_test, y_test = train.drop(['NER'], axis=1), \\\n",
        "                    train.NER, test.drop(['NER'], axis=1), test.NER"
      ],
      "execution_count": 589,
      "outputs": []
    },
    {
      "cell_type": "code",
      "metadata": {
        "id": "vvvcLGr7f4R7"
      },
      "source": [
        "# pred = knn_clf.predict(X_test)\n",
        "# pair_eval(pred, y_test)"
      ],
      "execution_count": 590,
      "outputs": []
    },
    {
      "cell_type": "code",
      "metadata": {
        "id": "JnvF6WT-_CtP",
        "outputId": "101bd077-64b3-48ac-f3c1-c04a5e519f23",
        "colab": {
          "base_uri": "https://localhost:8080/",
          "height": 407
        }
      },
      "source": [
        "X"
      ],
      "execution_count": 591,
      "outputs": [
        {
          "output_type": "execute_result",
          "data": {
            "text/html": [
              "<div>\n",
              "<style scoped>\n",
              "    .dataframe tbody tr th:only-of-type {\n",
              "        vertical-align: middle;\n",
              "    }\n",
              "\n",
              "    .dataframe tbody tr th {\n",
              "        vertical-align: top;\n",
              "    }\n",
              "\n",
              "    .dataframe thead th {\n",
              "        text-align: right;\n",
              "    }\n",
              "</style>\n",
              "<table border=\"1\" class=\"dataframe\">\n",
              "  <thead>\n",
              "    <tr style=\"text-align: right;\">\n",
              "      <th></th>\n",
              "      <th>TOKEN_VECT</th>\n",
              "      <th>CASE</th>\n",
              "      <th>HEAD_VECT</th>\n",
              "    </tr>\n",
              "  </thead>\n",
              "  <tbody>\n",
              "    <tr>\n",
              "      <th>0</th>\n",
              "      <td>0.413238</td>\n",
              "      <td>3</td>\n",
              "      <td>0.543120</td>\n",
              "    </tr>\n",
              "    <tr>\n",
              "      <th>1</th>\n",
              "      <td>0.485381</td>\n",
              "      <td>3</td>\n",
              "      <td>0.579044</td>\n",
              "    </tr>\n",
              "    <tr>\n",
              "      <th>2</th>\n",
              "      <td>0.484837</td>\n",
              "      <td>2</td>\n",
              "      <td>0.512961</td>\n",
              "    </tr>\n",
              "    <tr>\n",
              "      <th>3</th>\n",
              "      <td>0.548511</td>\n",
              "      <td>4</td>\n",
              "      <td>0.531576</td>\n",
              "    </tr>\n",
              "    <tr>\n",
              "      <th>4</th>\n",
              "      <td>0.609434</td>\n",
              "      <td>1</td>\n",
              "      <td>0.415718</td>\n",
              "    </tr>\n",
              "    <tr>\n",
              "      <th>...</th>\n",
              "      <td>...</td>\n",
              "      <td>...</td>\n",
              "      <td>...</td>\n",
              "    </tr>\n",
              "    <tr>\n",
              "      <th>1827</th>\n",
              "      <td>0.502560</td>\n",
              "      <td>0</td>\n",
              "      <td>0.453764</td>\n",
              "    </tr>\n",
              "    <tr>\n",
              "      <th>1828</th>\n",
              "      <td>0.623113</td>\n",
              "      <td>1</td>\n",
              "      <td>0.438414</td>\n",
              "    </tr>\n",
              "    <tr>\n",
              "      <th>1829</th>\n",
              "      <td>0.513533</td>\n",
              "      <td>0</td>\n",
              "      <td>0.445637</td>\n",
              "    </tr>\n",
              "    <tr>\n",
              "      <th>1830</th>\n",
              "      <td>0.515981</td>\n",
              "      <td>1</td>\n",
              "      <td>0.460780</td>\n",
              "    </tr>\n",
              "    <tr>\n",
              "      <th>1831</th>\n",
              "      <td>0.496472</td>\n",
              "      <td>0</td>\n",
              "      <td>0.560762</td>\n",
              "    </tr>\n",
              "  </tbody>\n",
              "</table>\n",
              "<p>1832 rows × 3 columns</p>\n",
              "</div>"
            ],
            "text/plain": [
              "      TOKEN_VECT  CASE  HEAD_VECT\n",
              "0       0.413238     3   0.543120\n",
              "1       0.485381     3   0.579044\n",
              "2       0.484837     2   0.512961\n",
              "3       0.548511     4   0.531576\n",
              "4       0.609434     1   0.415718\n",
              "...          ...   ...        ...\n",
              "1827    0.502560     0   0.453764\n",
              "1828    0.623113     1   0.438414\n",
              "1829    0.513533     0   0.445637\n",
              "1830    0.515981     1   0.460780\n",
              "1831    0.496472     0   0.560762\n",
              "\n",
              "[1832 rows x 3 columns]"
            ]
          },
          "metadata": {
            "tags": []
          },
          "execution_count": 591
        }
      ]
    },
    {
      "cell_type": "code",
      "metadata": {
        "id": "JhBDF1ZK_bVY",
        "outputId": "24a05813-a51c-4d46-edf6-c90b2c1ce7c4",
        "colab": {
          "base_uri": "https://localhost:8080/"
        }
      },
      "source": [
        "y"
      ],
      "execution_count": 592,
      "outputs": [
        {
          "output_type": "execute_result",
          "data": {
            "text/plain": [
              "0       2\n",
              "1       0\n",
              "2       0\n",
              "3       0\n",
              "4       0\n",
              "       ..\n",
              "1827    0\n",
              "1828    0\n",
              "1829    0\n",
              "1830    0\n",
              "1831    0\n",
              "Name: NER, Length: 1832, dtype: int64"
            ]
          },
          "metadata": {
            "tags": []
          },
          "execution_count": 592
        }
      ]
    },
    {
      "cell_type": "code",
      "metadata": {
        "id": "aWIvsB8T_EH2",
        "outputId": "7d3815d7-dd9e-46e8-e17c-197dfadf9344",
        "colab": {
          "base_uri": "https://localhost:8080/"
        }
      },
      "source": [
        "len([i for i in y if i == 2])"
      ],
      "execution_count": 593,
      "outputs": [
        {
          "output_type": "execute_result",
          "data": {
            "text/plain": [
              "135"
            ]
          },
          "metadata": {
            "tags": []
          },
          "execution_count": 593
        }
      ]
    },
    {
      "cell_type": "code",
      "metadata": {
        "id": "3Ntl4HyY_lri",
        "outputId": "731092b3-6840-425d-c20a-e0159b7cd506",
        "colab": {
          "base_uri": "https://localhost:8080/"
        }
      },
      "source": [
        "y_test"
      ],
      "execution_count": 594,
      "outputs": [
        {
          "output_type": "execute_result",
          "data": {
            "text/plain": [
              "0      0\n",
              "1      2\n",
              "2      0\n",
              "3      0\n",
              "4      0\n",
              "      ..\n",
              "781    0\n",
              "782    0\n",
              "783    0\n",
              "784    0\n",
              "785    0\n",
              "Name: NER, Length: 786, dtype: int64"
            ]
          },
          "metadata": {
            "tags": []
          },
          "execution_count": 594
        }
      ]
    },
    {
      "cell_type": "code",
      "metadata": {
        "id": "YuYtaZWp_nqE",
        "outputId": "d1981df4-3b5d-4165-cd4f-f42afba83461",
        "colab": {
          "base_uri": "https://localhost:8080/"
        }
      },
      "source": [
        "len([i for i in y_test if i == 2])"
      ],
      "execution_count": 595,
      "outputs": [
        {
          "output_type": "execute_result",
          "data": {
            "text/plain": [
              "72"
            ]
          },
          "metadata": {
            "tags": []
          },
          "execution_count": 595
        }
      ]
    },
    {
      "cell_type": "code",
      "metadata": {
        "id": "qDwPVvWn9LfF",
        "outputId": "71100bb2-a71f-428d-80e2-f9cc4eca2e9d",
        "colab": {
          "base_uri": "https://localhost:8080/"
        }
      },
      "source": [
        "regr = linear_model.LinearRegression()\n",
        "regr.fit(X, y)\n",
        "\n",
        "\n",
        "print('-----')\n",
        "pred = regr.predict(X_test)\n",
        "pair_eval(pred, y_test)"
      ],
      "execution_count": 596,
      "outputs": [
        {
          "output_type": "stream",
          "text": [
            "-----\n",
            "0  true positive\n",
            "786  false positive\n",
            "0  true negative\n",
            "0  false negative\n",
            "---------\n",
            "0.0  presicion\n",
            "0  recall\n",
            "0  f-score\n"
          ],
          "name": "stdout"
        }
      ]
    },
    {
      "cell_type": "code",
      "metadata": {
        "id": "h886Japc9eNm",
        "outputId": "9699aa5e-c672-49ae-cdcd-6ab9dd157827",
        "colab": {
          "base_uri": "https://localhost:8080/"
        }
      },
      "source": [
        "knn_clf = KNeighborsClassifier(n_neighbors=10, weights='distance',algorithm='ball_tree',leaf_size=5, metric='minkowski', p=1)\n",
        "knn_clf.fit(X, y)\n",
        "\n",
        "\n",
        "print('-----')\n",
        "pred = knn_clf.predict(X_test)\n",
        "pair_eval(pred, y_test)"
      ],
      "execution_count": 597,
      "outputs": [
        {
          "output_type": "stream",
          "text": [
            "-----\n",
            "29  true positive\n",
            "6  false positive\n",
            "708  true negative\n",
            "43  false negative\n",
            "---------\n",
            "0.8285714285714286  presicion\n",
            "0.4027777777777778  recall\n",
            "0.5420560747663552  f-score\n"
          ],
          "name": "stdout"
        }
      ]
    },
    {
      "cell_type": "code",
      "metadata": {
        "id": "jwOfaFZZ9jkw",
        "outputId": "2c42a501-5ab3-4c4c-aebd-7a5c25c7de06",
        "colab": {
          "base_uri": "https://localhost:8080/"
        }
      },
      "source": [
        "clf = tree.DecisionTreeClassifier(criterion='entropy', max_depth=2000)\n",
        "clf.fit(X, y)\n",
        "\n",
        "\n",
        "print('-----')\n",
        "pred = clf.predict(X_test)\n",
        "pair_eval(pred, y_test)"
      ],
      "execution_count": 598,
      "outputs": [
        {
          "output_type": "stream",
          "text": [
            "-----\n",
            "38  true positive\n",
            "18  false positive\n",
            "696  true negative\n",
            "34  false negative\n",
            "---------\n",
            "0.6785714285714286  presicion\n",
            "0.5277777777777778  recall\n",
            "0.5937499999999999  f-score\n"
          ],
          "name": "stdout"
        }
      ]
    },
    {
      "cell_type": "code",
      "metadata": {
        "id": "woE7V_xa9uuz"
      },
      "source": [
        ""
      ],
      "execution_count": 532,
      "outputs": []
    },
    {
      "cell_type": "markdown",
      "metadata": {
        "id": "ZzTKJ6H-biWi"
      },
      "source": [
        ""
      ]
    }
  ]
}