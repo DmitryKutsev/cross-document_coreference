{
  "nbformat": 4,
  "nbformat_minor": 0,
  "metadata": {
    "colab": {
      "name": "Untitled55.ipynb",
      "provenance": [],
      "authorship_tag": "ABX9TyNXpvqnacqrGq4YberOF9R3",
      "include_colab_link": true
    },
    "kernelspec": {
      "name": "python3",
      "display_name": "Python 3"
    },
    "language_info": {
      "name": "python"
    }
  },
  "cells": [
    {
      "cell_type": "markdown",
      "metadata": {
        "id": "view-in-github",
        "colab_type": "text"
      },
      "source": [
        "<a href=\"https://colab.research.google.com/github/DmitryKutsev/cross-document_coreference/blob/main/text_analysis_coref.ipynb\" target=\"_parent\"><img src=\"https://colab.research.google.com/assets/colab-badge.svg\" alt=\"Open In Colab\"/></a>"
      ]
    },
    {
      "cell_type": "code",
      "metadata": {
        "colab": {
          "base_uri": "https://localhost:8080/"
        },
        "id": "oA2EFVEBdpW8",
        "outputId": "009d84bb-2cb6-4870-aea5-6ed277a107db"
      },
      "source": [
        "!pip install -U pip setuptools wheel\n",
        "!pip install -U spacy\n",
        "!python -m spacy download ru_core_news_sm\n",
        "!python -m spacy download ru_core_news_md"
      ],
      "execution_count": 47,
      "outputs": [
        {
          "output_type": "stream",
          "text": [
            "Requirement already satisfied: pip in /usr/local/lib/python3.7/dist-packages (21.1.1)\n",
            "Requirement already satisfied: setuptools in /usr/local/lib/python3.7/dist-packages (56.1.0)\n",
            "Requirement already satisfied: wheel in /usr/local/lib/python3.7/dist-packages (0.36.2)\n",
            "\u001b[33mWARNING: Running pip as root will break packages and permissions. You should install packages reliably by using venv: https://pip.pypa.io/warnings/venv\u001b[0m\n",
            "Requirement already satisfied: spacy in /usr/local/lib/python3.7/dist-packages (3.0.6)\n",
            "Requirement already satisfied: typing-extensions<4.0.0.0,>=3.7.4 in /usr/local/lib/python3.7/dist-packages (from spacy) (3.7.4.3)\n",
            "Requirement already satisfied: setuptools in /usr/local/lib/python3.7/dist-packages (from spacy) (56.1.0)\n",
            "Requirement already satisfied: wasabi<1.1.0,>=0.8.1 in /usr/local/lib/python3.7/dist-packages (from spacy) (0.8.2)\n",
            "Requirement already satisfied: typer<0.4.0,>=0.3.0 in /usr/local/lib/python3.7/dist-packages (from spacy) (0.3.2)\n",
            "Requirement already satisfied: jinja2 in /usr/local/lib/python3.7/dist-packages (from spacy) (2.11.3)\n",
            "Requirement already satisfied: spacy-legacy<3.1.0,>=3.0.4 in /usr/local/lib/python3.7/dist-packages (from spacy) (3.0.5)\n",
            "Requirement already satisfied: thinc<8.1.0,>=8.0.3 in /usr/local/lib/python3.7/dist-packages (from spacy) (8.0.3)\n",
            "Requirement already satisfied: catalogue<2.1.0,>=2.0.3 in /usr/local/lib/python3.7/dist-packages (from spacy) (2.0.4)\n",
            "Requirement already satisfied: blis<0.8.0,>=0.4.0 in /usr/local/lib/python3.7/dist-packages (from spacy) (0.4.1)\n",
            "Requirement already satisfied: cymem<2.1.0,>=2.0.2 in /usr/local/lib/python3.7/dist-packages (from spacy) (2.0.5)\n",
            "Requirement already satisfied: pydantic<1.8.0,>=1.7.1 in /usr/local/lib/python3.7/dist-packages (from spacy) (1.7.3)\n",
            "Requirement already satisfied: requests<3.0.0,>=2.13.0 in /usr/local/lib/python3.7/dist-packages (from spacy) (2.23.0)\n",
            "Requirement already satisfied: preshed<3.1.0,>=3.0.2 in /usr/local/lib/python3.7/dist-packages (from spacy) (3.0.5)\n",
            "Requirement already satisfied: numpy>=1.15.0 in /usr/local/lib/python3.7/dist-packages (from spacy) (1.19.5)\n",
            "Requirement already satisfied: murmurhash<1.1.0,>=0.28.0 in /usr/local/lib/python3.7/dist-packages (from spacy) (1.0.5)\n",
            "Requirement already satisfied: tqdm<5.0.0,>=4.38.0 in /usr/local/lib/python3.7/dist-packages (from spacy) (4.41.1)\n",
            "Requirement already satisfied: packaging>=20.0 in /usr/local/lib/python3.7/dist-packages (from spacy) (20.9)\n",
            "Requirement already satisfied: srsly<3.0.0,>=2.4.1 in /usr/local/lib/python3.7/dist-packages (from spacy) (2.4.1)\n",
            "Requirement already satisfied: pathy>=0.3.5 in /usr/local/lib/python3.7/dist-packages (from spacy) (0.5.2)\n",
            "Requirement already satisfied: zipp>=0.5 in /usr/local/lib/python3.7/dist-packages (from catalogue<2.1.0,>=2.0.3->spacy) (3.4.1)\n",
            "Requirement already satisfied: pyparsing>=2.0.2 in /usr/local/lib/python3.7/dist-packages (from packaging>=20.0->spacy) (2.4.7)\n",
            "Requirement already satisfied: smart-open<4.0.0,>=2.2.0 in /usr/local/lib/python3.7/dist-packages (from pathy>=0.3.5->spacy) (3.0.0)\n",
            "Requirement already satisfied: chardet<4,>=3.0.2 in /usr/local/lib/python3.7/dist-packages (from requests<3.0.0,>=2.13.0->spacy) (3.0.4)\n",
            "Requirement already satisfied: urllib3!=1.25.0,!=1.25.1,<1.26,>=1.21.1 in /usr/local/lib/python3.7/dist-packages (from requests<3.0.0,>=2.13.0->spacy) (1.24.3)\n",
            "Requirement already satisfied: idna<3,>=2.5 in /usr/local/lib/python3.7/dist-packages (from requests<3.0.0,>=2.13.0->spacy) (2.10)\n",
            "Requirement already satisfied: certifi>=2017.4.17 in /usr/local/lib/python3.7/dist-packages (from requests<3.0.0,>=2.13.0->spacy) (2020.12.5)\n",
            "Requirement already satisfied: click<7.2.0,>=7.1.1 in /usr/local/lib/python3.7/dist-packages (from typer<0.4.0,>=0.3.0->spacy) (7.1.2)\n",
            "Requirement already satisfied: MarkupSafe>=0.23 in /usr/local/lib/python3.7/dist-packages (from jinja2->spacy) (1.1.1)\n",
            "\u001b[33mWARNING: Running pip as root will break packages and permissions. You should install packages reliably by using venv: https://pip.pypa.io/warnings/venv\u001b[0m\n",
            "2021-05-05 20:31:20.699537: I tensorflow/stream_executor/platform/default/dso_loader.cc:49] Successfully opened dynamic library libcudart.so.11.0\n",
            "Collecting ru-core-news-sm==3.0.0\n",
            "  Downloading https://github.com/explosion/spacy-models/releases/download/ru_core_news_sm-3.0.0/ru_core_news_sm-3.0.0-py3-none-any.whl (17.9 MB)\n",
            "\u001b[K     |████████████████████████████████| 17.9 MB 1.3 MB/s \n",
            "\u001b[?25hRequirement already satisfied: spacy<3.1.0,>=3.0.0 in /usr/local/lib/python3.7/dist-packages (from ru-core-news-sm==3.0.0) (3.0.6)\n",
            "Requirement already satisfied: pymorphy2>=0.9 in /usr/local/lib/python3.7/dist-packages (from ru-core-news-sm==3.0.0) (0.9.1)\n",
            "Requirement already satisfied: docopt>=0.6 in /usr/local/lib/python3.7/dist-packages (from pymorphy2>=0.9->ru-core-news-sm==3.0.0) (0.6.2)\n",
            "Requirement already satisfied: pymorphy2-dicts-ru<3.0,>=2.4 in /usr/local/lib/python3.7/dist-packages (from pymorphy2>=0.9->ru-core-news-sm==3.0.0) (2.4.417127.4579844)\n",
            "Requirement already satisfied: dawg-python>=0.7.1 in /usr/local/lib/python3.7/dist-packages (from pymorphy2>=0.9->ru-core-news-sm==3.0.0) (0.7.2)\n",
            "Requirement already satisfied: pydantic<1.8.0,>=1.7.1 in /usr/local/lib/python3.7/dist-packages (from spacy<3.1.0,>=3.0.0->ru-core-news-sm==3.0.0) (1.7.3)\n",
            "Requirement already satisfied: numpy>=1.15.0 in /usr/local/lib/python3.7/dist-packages (from spacy<3.1.0,>=3.0.0->ru-core-news-sm==3.0.0) (1.19.5)\n",
            "Requirement already satisfied: srsly<3.0.0,>=2.4.1 in /usr/local/lib/python3.7/dist-packages (from spacy<3.1.0,>=3.0.0->ru-core-news-sm==3.0.0) (2.4.1)\n",
            "Requirement already satisfied: spacy-legacy<3.1.0,>=3.0.4 in /usr/local/lib/python3.7/dist-packages (from spacy<3.1.0,>=3.0.0->ru-core-news-sm==3.0.0) (3.0.5)\n",
            "Requirement already satisfied: typer<0.4.0,>=0.3.0 in /usr/local/lib/python3.7/dist-packages (from spacy<3.1.0,>=3.0.0->ru-core-news-sm==3.0.0) (0.3.2)\n",
            "Requirement already satisfied: catalogue<2.1.0,>=2.0.3 in /usr/local/lib/python3.7/dist-packages (from spacy<3.1.0,>=3.0.0->ru-core-news-sm==3.0.0) (2.0.4)\n",
            "Requirement already satisfied: pathy>=0.3.5 in /usr/local/lib/python3.7/dist-packages (from spacy<3.1.0,>=3.0.0->ru-core-news-sm==3.0.0) (0.5.2)\n",
            "Requirement already satisfied: blis<0.8.0,>=0.4.0 in /usr/local/lib/python3.7/dist-packages (from spacy<3.1.0,>=3.0.0->ru-core-news-sm==3.0.0) (0.4.1)\n",
            "Requirement already satisfied: typing-extensions<4.0.0.0,>=3.7.4 in /usr/local/lib/python3.7/dist-packages (from spacy<3.1.0,>=3.0.0->ru-core-news-sm==3.0.0) (3.7.4.3)\n",
            "Requirement already satisfied: murmurhash<1.1.0,>=0.28.0 in /usr/local/lib/python3.7/dist-packages (from spacy<3.1.0,>=3.0.0->ru-core-news-sm==3.0.0) (1.0.5)\n",
            "Requirement already satisfied: cymem<2.1.0,>=2.0.2 in /usr/local/lib/python3.7/dist-packages (from spacy<3.1.0,>=3.0.0->ru-core-news-sm==3.0.0) (2.0.5)\n",
            "Requirement already satisfied: packaging>=20.0 in /usr/local/lib/python3.7/dist-packages (from spacy<3.1.0,>=3.0.0->ru-core-news-sm==3.0.0) (20.9)\n",
            "Requirement already satisfied: jinja2 in /usr/local/lib/python3.7/dist-packages (from spacy<3.1.0,>=3.0.0->ru-core-news-sm==3.0.0) (2.11.3)\n",
            "Requirement already satisfied: setuptools in /usr/local/lib/python3.7/dist-packages (from spacy<3.1.0,>=3.0.0->ru-core-news-sm==3.0.0) (56.1.0)\n",
            "Requirement already satisfied: tqdm<5.0.0,>=4.38.0 in /usr/local/lib/python3.7/dist-packages (from spacy<3.1.0,>=3.0.0->ru-core-news-sm==3.0.0) (4.41.1)\n",
            "Requirement already satisfied: wasabi<1.1.0,>=0.8.1 in /usr/local/lib/python3.7/dist-packages (from spacy<3.1.0,>=3.0.0->ru-core-news-sm==3.0.0) (0.8.2)\n",
            "Requirement already satisfied: requests<3.0.0,>=2.13.0 in /usr/local/lib/python3.7/dist-packages (from spacy<3.1.0,>=3.0.0->ru-core-news-sm==3.0.0) (2.23.0)\n",
            "Requirement already satisfied: preshed<3.1.0,>=3.0.2 in /usr/local/lib/python3.7/dist-packages (from spacy<3.1.0,>=3.0.0->ru-core-news-sm==3.0.0) (3.0.5)\n",
            "Requirement already satisfied: thinc<8.1.0,>=8.0.3 in /usr/local/lib/python3.7/dist-packages (from spacy<3.1.0,>=3.0.0->ru-core-news-sm==3.0.0) (8.0.3)\n",
            "Requirement already satisfied: zipp>=0.5 in /usr/local/lib/python3.7/dist-packages (from catalogue<2.1.0,>=2.0.3->spacy<3.1.0,>=3.0.0->ru-core-news-sm==3.0.0) (3.4.1)\n",
            "Requirement already satisfied: pyparsing>=2.0.2 in /usr/local/lib/python3.7/dist-packages (from packaging>=20.0->spacy<3.1.0,>=3.0.0->ru-core-news-sm==3.0.0) (2.4.7)\n",
            "Requirement already satisfied: smart-open<4.0.0,>=2.2.0 in /usr/local/lib/python3.7/dist-packages (from pathy>=0.3.5->spacy<3.1.0,>=3.0.0->ru-core-news-sm==3.0.0) (3.0.0)\n",
            "Requirement already satisfied: certifi>=2017.4.17 in /usr/local/lib/python3.7/dist-packages (from requests<3.0.0,>=2.13.0->spacy<3.1.0,>=3.0.0->ru-core-news-sm==3.0.0) (2020.12.5)\n",
            "Requirement already satisfied: urllib3!=1.25.0,!=1.25.1,<1.26,>=1.21.1 in /usr/local/lib/python3.7/dist-packages (from requests<3.0.0,>=2.13.0->spacy<3.1.0,>=3.0.0->ru-core-news-sm==3.0.0) (1.24.3)\n",
            "Requirement already satisfied: idna<3,>=2.5 in /usr/local/lib/python3.7/dist-packages (from requests<3.0.0,>=2.13.0->spacy<3.1.0,>=3.0.0->ru-core-news-sm==3.0.0) (2.10)\n",
            "Requirement already satisfied: chardet<4,>=3.0.2 in /usr/local/lib/python3.7/dist-packages (from requests<3.0.0,>=2.13.0->spacy<3.1.0,>=3.0.0->ru-core-news-sm==3.0.0) (3.0.4)\n",
            "Requirement already satisfied: click<7.2.0,>=7.1.1 in /usr/local/lib/python3.7/dist-packages (from typer<0.4.0,>=0.3.0->spacy<3.1.0,>=3.0.0->ru-core-news-sm==3.0.0) (7.1.2)\n",
            "Requirement already satisfied: MarkupSafe>=0.23 in /usr/local/lib/python3.7/dist-packages (from jinja2->spacy<3.1.0,>=3.0.0->ru-core-news-sm==3.0.0) (1.1.1)\n",
            "\u001b[33mWARNING: Running pip as root will break packages and permissions. You should install packages reliably by using venv: https://pip.pypa.io/warnings/venv\u001b[0m\n",
            "\u001b[38;5;2m✔ Download and installation successful\u001b[0m\n",
            "You can now load the package via spacy.load('ru_core_news_sm')\n",
            "2021-05-05 20:31:30.294119: I tensorflow/stream_executor/platform/default/dso_loader.cc:49] Successfully opened dynamic library libcudart.so.11.0\n",
            "Collecting ru-core-news-md==3.0.0\n",
            "  Downloading https://github.com/explosion/spacy-models/releases/download/ru_core_news_md-3.0.0/ru_core_news_md-3.0.0-py3-none-any.whl (43.9 MB)\n",
            "\u001b[K     |████████████████████████████████| 43.9 MB 18 kB/s \n",
            "\u001b[?25hRequirement already satisfied: pymorphy2>=0.9 in /usr/local/lib/python3.7/dist-packages (from ru-core-news-md==3.0.0) (0.9.1)\n",
            "Requirement already satisfied: spacy<3.1.0,>=3.0.0 in /usr/local/lib/python3.7/dist-packages (from ru-core-news-md==3.0.0) (3.0.6)\n",
            "Requirement already satisfied: pymorphy2-dicts-ru<3.0,>=2.4 in /usr/local/lib/python3.7/dist-packages (from pymorphy2>=0.9->ru-core-news-md==3.0.0) (2.4.417127.4579844)\n",
            "Requirement already satisfied: dawg-python>=0.7.1 in /usr/local/lib/python3.7/dist-packages (from pymorphy2>=0.9->ru-core-news-md==3.0.0) (0.7.2)\n",
            "Requirement already satisfied: docopt>=0.6 in /usr/local/lib/python3.7/dist-packages (from pymorphy2>=0.9->ru-core-news-md==3.0.0) (0.6.2)\n",
            "Requirement already satisfied: wasabi<1.1.0,>=0.8.1 in /usr/local/lib/python3.7/dist-packages (from spacy<3.1.0,>=3.0.0->ru-core-news-md==3.0.0) (0.8.2)\n",
            "Requirement already satisfied: packaging>=20.0 in /usr/local/lib/python3.7/dist-packages (from spacy<3.1.0,>=3.0.0->ru-core-news-md==3.0.0) (20.9)\n",
            "Requirement already satisfied: tqdm<5.0.0,>=4.38.0 in /usr/local/lib/python3.7/dist-packages (from spacy<3.1.0,>=3.0.0->ru-core-news-md==3.0.0) (4.41.1)\n",
            "Requirement already satisfied: cymem<2.1.0,>=2.0.2 in /usr/local/lib/python3.7/dist-packages (from spacy<3.1.0,>=3.0.0->ru-core-news-md==3.0.0) (2.0.5)\n",
            "Requirement already satisfied: srsly<3.0.0,>=2.4.1 in /usr/local/lib/python3.7/dist-packages (from spacy<3.1.0,>=3.0.0->ru-core-news-md==3.0.0) (2.4.1)\n",
            "Requirement already satisfied: catalogue<2.1.0,>=2.0.3 in /usr/local/lib/python3.7/dist-packages (from spacy<3.1.0,>=3.0.0->ru-core-news-md==3.0.0) (2.0.4)\n",
            "Requirement already satisfied: jinja2 in /usr/local/lib/python3.7/dist-packages (from spacy<3.1.0,>=3.0.0->ru-core-news-md==3.0.0) (2.11.3)\n",
            "Requirement already satisfied: typer<0.4.0,>=0.3.0 in /usr/local/lib/python3.7/dist-packages (from spacy<3.1.0,>=3.0.0->ru-core-news-md==3.0.0) (0.3.2)\n",
            "Requirement already satisfied: preshed<3.1.0,>=3.0.2 in /usr/local/lib/python3.7/dist-packages (from spacy<3.1.0,>=3.0.0->ru-core-news-md==3.0.0) (3.0.5)\n",
            "Requirement already satisfied: pydantic<1.8.0,>=1.7.1 in /usr/local/lib/python3.7/dist-packages (from spacy<3.1.0,>=3.0.0->ru-core-news-md==3.0.0) (1.7.3)\n",
            "Requirement already satisfied: numpy>=1.15.0 in /usr/local/lib/python3.7/dist-packages (from spacy<3.1.0,>=3.0.0->ru-core-news-md==3.0.0) (1.19.5)\n",
            "Requirement already satisfied: typing-extensions<4.0.0.0,>=3.7.4 in /usr/local/lib/python3.7/dist-packages (from spacy<3.1.0,>=3.0.0->ru-core-news-md==3.0.0) (3.7.4.3)\n",
            "Requirement already satisfied: thinc<8.1.0,>=8.0.3 in /usr/local/lib/python3.7/dist-packages (from spacy<3.1.0,>=3.0.0->ru-core-news-md==3.0.0) (8.0.3)\n",
            "Requirement already satisfied: murmurhash<1.1.0,>=0.28.0 in /usr/local/lib/python3.7/dist-packages (from spacy<3.1.0,>=3.0.0->ru-core-news-md==3.0.0) (1.0.5)\n",
            "Requirement already satisfied: blis<0.8.0,>=0.4.0 in /usr/local/lib/python3.7/dist-packages (from spacy<3.1.0,>=3.0.0->ru-core-news-md==3.0.0) (0.4.1)\n",
            "Requirement already satisfied: pathy>=0.3.5 in /usr/local/lib/python3.7/dist-packages (from spacy<3.1.0,>=3.0.0->ru-core-news-md==3.0.0) (0.5.2)\n",
            "Requirement already satisfied: setuptools in /usr/local/lib/python3.7/dist-packages (from spacy<3.1.0,>=3.0.0->ru-core-news-md==3.0.0) (56.1.0)\n",
            "Requirement already satisfied: spacy-legacy<3.1.0,>=3.0.4 in /usr/local/lib/python3.7/dist-packages (from spacy<3.1.0,>=3.0.0->ru-core-news-md==3.0.0) (3.0.5)\n",
            "Requirement already satisfied: requests<3.0.0,>=2.13.0 in /usr/local/lib/python3.7/dist-packages (from spacy<3.1.0,>=3.0.0->ru-core-news-md==3.0.0) (2.23.0)\n",
            "Requirement already satisfied: zipp>=0.5 in /usr/local/lib/python3.7/dist-packages (from catalogue<2.1.0,>=2.0.3->spacy<3.1.0,>=3.0.0->ru-core-news-md==3.0.0) (3.4.1)\n",
            "Requirement already satisfied: pyparsing>=2.0.2 in /usr/local/lib/python3.7/dist-packages (from packaging>=20.0->spacy<3.1.0,>=3.0.0->ru-core-news-md==3.0.0) (2.4.7)\n",
            "Requirement already satisfied: smart-open<4.0.0,>=2.2.0 in /usr/local/lib/python3.7/dist-packages (from pathy>=0.3.5->spacy<3.1.0,>=3.0.0->ru-core-news-md==3.0.0) (3.0.0)\n",
            "Requirement already satisfied: certifi>=2017.4.17 in /usr/local/lib/python3.7/dist-packages (from requests<3.0.0,>=2.13.0->spacy<3.1.0,>=3.0.0->ru-core-news-md==3.0.0) (2020.12.5)\n",
            "Requirement already satisfied: idna<3,>=2.5 in /usr/local/lib/python3.7/dist-packages (from requests<3.0.0,>=2.13.0->spacy<3.1.0,>=3.0.0->ru-core-news-md==3.0.0) (2.10)\n",
            "Requirement already satisfied: urllib3!=1.25.0,!=1.25.1,<1.26,>=1.21.1 in /usr/local/lib/python3.7/dist-packages (from requests<3.0.0,>=2.13.0->spacy<3.1.0,>=3.0.0->ru-core-news-md==3.0.0) (1.24.3)\n",
            "Requirement already satisfied: chardet<4,>=3.0.2 in /usr/local/lib/python3.7/dist-packages (from requests<3.0.0,>=2.13.0->spacy<3.1.0,>=3.0.0->ru-core-news-md==3.0.0) (3.0.4)\n",
            "Requirement already satisfied: click<7.2.0,>=7.1.1 in /usr/local/lib/python3.7/dist-packages (from typer<0.4.0,>=0.3.0->spacy<3.1.0,>=3.0.0->ru-core-news-md==3.0.0) (7.1.2)\n",
            "Requirement already satisfied: MarkupSafe>=0.23 in /usr/local/lib/python3.7/dist-packages (from jinja2->spacy<3.1.0,>=3.0.0->ru-core-news-md==3.0.0) (1.1.1)\n",
            "\u001b[33mWARNING: Running pip as root will break packages and permissions. You should install packages reliably by using venv: https://pip.pypa.io/warnings/venv\u001b[0m\n",
            "\u001b[38;5;2m✔ Download and installation successful\u001b[0m\n",
            "You can now load the package via spacy.load('ru_core_news_md')\n"
          ],
          "name": "stdout"
        }
      ]
    },
    {
      "cell_type": "code",
      "metadata": {
        "colab": {
          "base_uri": "https://localhost:8080/"
        },
        "id": "V7UjWjAX7P9d",
        "outputId": "c1044749-3a56-40aa-f143-8957efd244f5"
      },
      "source": [
        "pip install pymorphy2[fast]"
      ],
      "execution_count": 48,
      "outputs": [
        {
          "output_type": "stream",
          "text": [
            "Requirement already satisfied: pymorphy2[fast] in /usr/local/lib/python3.7/dist-packages (0.9.1)\n",
            "Requirement already satisfied: docopt>=0.6 in /usr/local/lib/python3.7/dist-packages (from pymorphy2[fast]) (0.6.2)\n",
            "Requirement already satisfied: pymorphy2-dicts-ru<3.0,>=2.4 in /usr/local/lib/python3.7/dist-packages (from pymorphy2[fast]) (2.4.417127.4579844)\n",
            "Requirement already satisfied: dawg-python>=0.7.1 in /usr/local/lib/python3.7/dist-packages (from pymorphy2[fast]) (0.7.2)\n",
            "Requirement already satisfied: DAWG>=0.8 in /usr/local/lib/python3.7/dist-packages (from pymorphy2[fast]) (0.8.0)\n",
            "\u001b[33mWARNING: Running pip as root will break packages and permissions. You should install packages reliably by using venv: https://pip.pypa.io/warnings/venv\u001b[0m\n"
          ],
          "name": "stdout"
        }
      ]
    },
    {
      "cell_type": "code",
      "metadata": {
        "colab": {
          "base_uri": "https://localhost:8080/"
        },
        "id": "YPb5-By9vJOA",
        "outputId": "1be17163-d1a0-416c-c419-3bfd5b6d94b9"
      },
      "source": [
        "pip install Gensim"
      ],
      "execution_count": 49,
      "outputs": [
        {
          "output_type": "stream",
          "text": [
            "Requirement already satisfied: Gensim in /usr/local/lib/python3.7/dist-packages (3.6.0)\n",
            "Requirement already satisfied: numpy>=1.11.3 in /usr/local/lib/python3.7/dist-packages (from Gensim) (1.19.5)\n",
            "Requirement already satisfied: six>=1.5.0 in /usr/local/lib/python3.7/dist-packages (from Gensim) (1.15.0)\n",
            "Requirement already satisfied: smart-open>=1.2.1 in /usr/local/lib/python3.7/dist-packages (from Gensim) (3.0.0)\n",
            "Requirement already satisfied: scipy>=0.18.1 in /usr/local/lib/python3.7/dist-packages (from Gensim) (1.4.1)\n",
            "Requirement already satisfied: requests in /usr/local/lib/python3.7/dist-packages (from smart-open>=1.2.1->Gensim) (2.23.0)\n",
            "Requirement already satisfied: idna<3,>=2.5 in /usr/local/lib/python3.7/dist-packages (from requests->smart-open>=1.2.1->Gensim) (2.10)\n",
            "Requirement already satisfied: urllib3!=1.25.0,!=1.25.1,<1.26,>=1.21.1 in /usr/local/lib/python3.7/dist-packages (from requests->smart-open>=1.2.1->Gensim) (1.24.3)\n",
            "Requirement already satisfied: certifi>=2017.4.17 in /usr/local/lib/python3.7/dist-packages (from requests->smart-open>=1.2.1->Gensim) (2020.12.5)\n",
            "Requirement already satisfied: chardet<4,>=3.0.2 in /usr/local/lib/python3.7/dist-packages (from requests->smart-open>=1.2.1->Gensim) (3.0.4)\n",
            "\u001b[33mWARNING: Running pip as root will break packages and permissions. You should install packages reliably by using venv: https://pip.pypa.io/warnings/venv\u001b[0m\n"
          ],
          "name": "stdout"
        }
      ]
    },
    {
      "cell_type": "code",
      "metadata": {
        "id": "FA9wDY-2d-pF"
      },
      "source": [
        "import spacy\n",
        "import gensim\n",
        "from gensim.models import Word2Vec \n",
        "from nltk.tokenize import RegexpTokenizer\n",
        "from nltk import  sent_tokenize\n",
        "from sklearn.metrics.pairwise import cosine_distances, cosine_similarity\n",
        "import numpy as np\n",
        "import pandas as pd\n",
        "from sklearn.feature_extraction.text import TfidfVectorizer"
      ],
      "execution_count": 50,
      "outputs": []
    },
    {
      "cell_type": "code",
      "metadata": {
        "id": "eBhu8gSAd_6M"
      },
      "source": [
        "nlp = spacy.load('ru_core_news_md')"
      ],
      "execution_count": 51,
      "outputs": []
    },
    {
      "cell_type": "code",
      "metadata": {
        "colab": {
          "base_uri": "https://localhost:8080/"
        },
        "id": "tOvjxp5z8ZDc",
        "outputId": "692afbf1-b6fc-43f3-894f-fa029d962f93"
      },
      "source": [
        "!wget https://raw.githubusercontent.com/DmitryKutsev/cross-document_coreference/main/scraping/neuroleptic_ru.txt"
      ],
      "execution_count": 52,
      "outputs": [
        {
          "output_type": "stream",
          "text": [
            "--2021-05-05 20:31:53--  https://raw.githubusercontent.com/DmitryKutsev/cross-document_coreference/main/scraping/neuroleptic_ru.txt\n",
            "Resolving raw.githubusercontent.com (raw.githubusercontent.com)... 185.199.108.133, 185.199.109.133, 185.199.110.133, ...\n",
            "Connecting to raw.githubusercontent.com (raw.githubusercontent.com)|185.199.108.133|:443... connected.\n",
            "HTTP request sent, awaiting response... 200 OK\n",
            "Length: 3638613 (3.5M) [text/plain]\n",
            "Saving to: ‘neuroleptic_ru.txt.1’\n",
            "\n",
            "neuroleptic_ru.txt. 100%[===================>]   3.47M  13.8MB/s    in 0.3s    \n",
            "\n",
            "2021-05-05 20:31:54 (13.8 MB/s) - ‘neuroleptic_ru.txt.1’ saved [3638613/3638613]\n",
            "\n"
          ],
          "name": "stdout"
        }
      ]
    },
    {
      "cell_type": "code",
      "metadata": {
        "colab": {
          "base_uri": "https://localhost:8080/"
        },
        "id": "Ql21vrWnb2qF",
        "outputId": "e2c97302-b034-413d-d6ba-f2fe17e4f4e2"
      },
      "source": [
        "!wget https://raw.githubusercontent.com/DmitryKutsev/cross-document_coreference/main/scraping/rakpobedim_ru.txt"
      ],
      "execution_count": 53,
      "outputs": [
        {
          "output_type": "stream",
          "text": [
            "--2021-05-05 20:31:54--  https://raw.githubusercontent.com/DmitryKutsev/cross-document_coreference/main/scraping/rakpobedim_ru.txt\n",
            "Resolving raw.githubusercontent.com (raw.githubusercontent.com)... 185.199.108.133, 185.199.109.133, 185.199.110.133, ...\n",
            "Connecting to raw.githubusercontent.com (raw.githubusercontent.com)|185.199.108.133|:443... connected.\n",
            "HTTP request sent, awaiting response... 200 OK\n",
            "Length: 12963713 (12M) [text/plain]\n",
            "Saving to: ‘rakpobedim_ru.txt.1’\n",
            "\n",
            "rakpobedim_ru.txt.1 100%[===================>]  12.36M  24.0MB/s    in 0.5s    \n",
            "\n",
            "2021-05-05 20:31:55 (24.0 MB/s) - ‘rakpobedim_ru.txt.1’ saved [12963713/12963713]\n",
            "\n"
          ],
          "name": "stdout"
        }
      ]
    },
    {
      "cell_type": "code",
      "metadata": {
        "colab": {
          "base_uri": "https://localhost:8080/"
        },
        "id": "R0ZudIeTb22Z",
        "outputId": "ad17ef64-2659-4465-b851-a2dbc8639c75"
      },
      "source": [
        "!wget https://raw.githubusercontent.com/DmitryKutsev/cross-document_coreference/main/scraping/hv-info_gepatit.txt"
      ],
      "execution_count": 54,
      "outputs": [
        {
          "output_type": "stream",
          "text": [
            "--2021-05-05 20:31:55--  https://raw.githubusercontent.com/DmitryKutsev/cross-document_coreference/main/scraping/hv-info_gepatit.txt\n",
            "Resolving raw.githubusercontent.com (raw.githubusercontent.com)... 185.199.108.133, 185.199.109.133, 185.199.110.133, ...\n",
            "Connecting to raw.githubusercontent.com (raw.githubusercontent.com)|185.199.108.133|:443... connected.\n",
            "HTTP request sent, awaiting response... 200 OK\n",
            "Length: 6298252 (6.0M) [text/plain]\n",
            "Saving to: ‘hv-info_gepatit.txt.1’\n",
            "\n",
            "hv-info_gepatit.txt 100%[===================>]   6.01M  16.4MB/s    in 0.4s    \n",
            "\n",
            "2021-05-05 20:31:55 (16.4 MB/s) - ‘hv-info_gepatit.txt.1’ saved [6298252/6298252]\n",
            "\n"
          ],
          "name": "stdout"
        }
      ]
    },
    {
      "cell_type": "code",
      "metadata": {
        "colab": {
          "base_uri": "https://localhost:8080/"
        },
        "id": "vpy6V0dtsM79",
        "outputId": "554f46cc-46fd-4ce5-8a94-cf5d505e6ffb"
      },
      "source": [
        "!wget https://rusvectores.org/static/models/news_upos_cbow_300_2_2017.bin.gz"
      ],
      "execution_count": 55,
      "outputs": [
        {
          "output_type": "stream",
          "text": [
            "--2021-05-05 20:31:56--  https://rusvectores.org/static/models/news_upos_cbow_300_2_2017.bin.gz\n",
            "Resolving rusvectores.org (rusvectores.org)... 116.203.104.23\n",
            "Connecting to rusvectores.org (rusvectores.org)|116.203.104.23|:443... connected.\n",
            "HTTP request sent, awaiting response... 200 OK\n",
            "Length: 140310878 (134M) [application/x-gzip]\n",
            "Saving to: ‘news_upos_cbow_300_2_2017.bin.gz.2’\n",
            "\n",
            "news_upos_cbow_300_ 100%[===================>] 133.81M  21.0MB/s    in 6.9s    \n",
            "\n",
            "2021-05-05 20:32:03 (19.3 MB/s) - ‘news_upos_cbow_300_2_2017.bin.gz.2’ saved [140310878/140310878]\n",
            "\n"
          ],
          "name": "stdout"
        }
      ]
    },
    {
      "cell_type": "code",
      "metadata": {
        "id": "v3dEmsOH8eOZ"
      },
      "source": [
        "handler = open('neuroleptic_ru.txt', 'r', encoding='utf-8')\n",
        "my_txt = handler.read()\n",
        "handler.close()\n"
      ],
      "execution_count": 56,
      "outputs": []
    },
    {
      "cell_type": "code",
      "metadata": {
        "id": "G4UmH2pucmxK"
      },
      "source": [
        "handler = open('hv-info_gepatit.txt', 'r', encoding='utf-8')\n",
        "my_txt += handler.read()\n",
        "handler.close()"
      ],
      "execution_count": 57,
      "outputs": []
    },
    {
      "cell_type": "code",
      "metadata": {
        "id": "wBp9WjLNcgsJ"
      },
      "source": [
        "handler = open('rakpobedim_ru.txt', 'r', encoding='utf-8')\n",
        "my_txt += handler.read()\n",
        "handler.close()"
      ],
      "execution_count": 58,
      "outputs": []
    },
    {
      "cell_type": "code",
      "metadata": {
        "colab": {
          "base_uri": "https://localhost:8080/"
        },
        "id": "Z_8MyfaucZxO",
        "outputId": "6d8b26d9-64a2-406a-8c37-f86d40f6f76e"
      },
      "source": [
        "len(my_txt)"
      ],
      "execution_count": 59,
      "outputs": [
        {
          "output_type": "execute_result",
          "data": {
            "text/plain": [
              "13016908"
            ]
          },
          "metadata": {
            "tags": []
          },
          "execution_count": 59
        }
      ]
    },
    {
      "cell_type": "code",
      "metadata": {
        "id": "aiQH5Q0pZJQZ"
      },
      "source": [
        "tfidf = TfidfVectorizer(max_features=3000, ngram_range=(1,3))"
      ],
      "execution_count": 60,
      "outputs": []
    },
    {
      "cell_type": "code",
      "metadata": {
        "colab": {
          "base_uri": "https://localhost:8080/"
        },
        "id": "e410Dy9KdGqv",
        "outputId": "e147122e-b7d8-4572-9a84-fc5253b45dc3"
      },
      "source": [
        "!wget https://rusvectores.org/static/models/news_upos_cbow_300_2_2017.bin.gz"
      ],
      "execution_count": 61,
      "outputs": [
        {
          "output_type": "stream",
          "text": [
            "--2021-05-05 20:32:04--  https://rusvectores.org/static/models/news_upos_cbow_300_2_2017.bin.gz\n",
            "Resolving rusvectores.org (rusvectores.org)... 116.203.104.23\n",
            "Connecting to rusvectores.org (rusvectores.org)|116.203.104.23|:443... connected.\n",
            "HTTP request sent, awaiting response... 200 OK\n",
            "Length: 140310878 (134M) [application/x-gzip]\n",
            "Saving to: ‘news_upos_cbow_300_2_2017.bin.gz.3’\n",
            "\n",
            "news_upos_cbow_300_ 100%[===================>] 133.81M  23.3MB/s    in 6.4s    \n",
            "\n",
            "2021-05-05 20:32:10 (20.9 MB/s) - ‘news_upos_cbow_300_2_2017.bin.gz.3’ saved [140310878/140310878]\n",
            "\n"
          ],
          "name": "stdout"
        }
      ]
    },
    {
      "cell_type": "code",
      "metadata": {
        "id": "JLT6J1ua82fF"
      },
      "source": [
        "posts = str_list = my_txt.split('----')"
      ],
      "execution_count": 62,
      "outputs": []
    },
    {
      "cell_type": "code",
      "metadata": {
        "id": "zXZdM39Zzais"
      },
      "source": [
        "tokenizer = RegexpTokenizer(r'\\w+')\n",
        "sentences_tokenized = [w.lower() for w in posts]\n",
        "\n",
        "vectorized_txt = tfidf.fit_transform(sentences_tokenized)\n",
        "sentences_tokenized = [tokenizer.tokenize(i) for i in sentences_tokenized]"
      ],
      "execution_count": 63,
      "outputs": []
    },
    {
      "cell_type": "code",
      "metadata": {
        "id": "W44Ejf4ILyxP"
      },
      "source": [
        "from gensim.models import FastText\n",
        "from google.colab import files"
      ],
      "execution_count": 64,
      "outputs": []
    },
    {
      "cell_type": "code",
      "metadata": {
        "id": "H3DaCSYSLbti"
      },
      "source": [
        "ft = FastText(sentences_tokenized, size=100, window=5, min_count=5, workers=4,sg=1)"
      ],
      "execution_count": 65,
      "outputs": []
    },
    {
      "cell_type": "code",
      "metadata": {
        "id": "wjXk9HzZL7Xi",
        "outputId": "31d01c64-f210-4d8a-d814-776b1215da80",
        "colab": {
          "base_uri": "https://localhost:8080/"
        }
      },
      "source": [
        "ft.most_similar('алимемазин')"
      ],
      "execution_count": 66,
      "outputs": [
        {
          "output_type": "stream",
          "text": [
            "/usr/local/lib/python3.7/dist-packages/ipykernel_launcher.py:1: DeprecationWarning: Call to deprecated `most_similar` (Method will be removed in 4.0.0, use self.wv.most_similar() instead).\n",
            "  \"\"\"Entry point for launching an IPython kernel.\n"
          ],
          "name": "stderr"
        },
        {
          "output_type": "execute_result",
          "data": {
            "text/plain": [
              "[('левомепромазин', 0.8881936073303223),\n",
              " ('хлорпромазин', 0.863217830657959),\n",
              " ('трифлуоперазин', 0.8540201187133789),\n",
              " ('тиоридазин', 0.8524168729782104),\n",
              " ('флупентиксол', 0.8407307267189026),\n",
              " ('саркозин', 0.839452862739563),\n",
              " ('тизерцин', 0.8383066654205322),\n",
              " ('зуклопентиксол', 0.8367112874984741),\n",
              " ('палиперидон', 0.8348816633224487),\n",
              " ('флупентиксола', 0.8264579176902771)]"
            ]
          },
          "metadata": {
            "tags": []
          },
          "execution_count": 66
        }
      ]
    },
    {
      "cell_type": "code",
      "metadata": {
        "id": "wWOUZIx5Mu4e",
        "outputId": "84c9f62a-f5b9-415d-fbce-2e535b45591b",
        "colab": {
          "base_uri": "https://localhost:8080/"
        }
      },
      "source": [
        "ft.wv.__getitem__('алимемазин')"
      ],
      "execution_count": 67,
      "outputs": [
        {
          "output_type": "execute_result",
          "data": {
            "text/plain": [
              "array([-0.19141215, -0.17774145, -0.22505116,  0.3930469 ,  0.2722114 ,\n",
              "       -0.08688641,  0.0538663 , -0.00939174, -0.09319028,  0.1759918 ,\n",
              "       -0.23820367,  0.34295017,  0.07379159, -0.06503055, -0.43044055,\n",
              "        0.07127316,  0.45762634, -0.20185265,  0.10893501, -0.0715092 ,\n",
              "        0.17989086,  0.22505763, -0.07567516,  0.37397075,  0.06719073,\n",
              "       -0.19658335,  0.05161051, -0.09121012,  0.55530864, -0.10352173,\n",
              "       -0.3504836 ,  0.30780098, -0.08295261, -0.14436   ,  0.08618001,\n",
              "        0.10153401,  0.03278841, -0.0530084 , -0.14843382,  0.28717676,\n",
              "        0.3605114 ,  0.11710894, -0.6245839 , -0.03557574,  0.0619835 ,\n",
              "        0.04350219,  0.2219474 ,  0.04994988, -0.20186073,  0.01828795,\n",
              "       -0.43029007, -0.23079708, -0.35106277, -0.08056272, -0.21141922,\n",
              "       -0.13126785,  0.21252218, -0.06816931,  0.03809527, -0.06911878,\n",
              "        0.06998801,  0.28292462, -0.4726258 ,  0.01234577,  0.09673467,\n",
              "        0.23618829, -0.24593511, -0.07939471,  0.21396916,  0.05245586,\n",
              "        0.17519371, -0.15692933, -0.20185561,  0.09669399,  0.19660503,\n",
              "        0.0900501 , -0.1897007 ,  0.3065017 ,  0.11947193,  0.06121151,\n",
              "       -0.20617792, -0.04524861, -0.24197927,  0.01657632, -0.1537265 ,\n",
              "        0.22593582,  0.1309107 , -0.10035255,  0.19338432,  0.0968083 ,\n",
              "       -0.38651964,  0.17067054,  0.23366307, -0.12106716,  0.16337752,\n",
              "       -0.09674644,  0.24048904, -0.3989488 ,  0.15900064, -0.0231037 ],\n",
              "      dtype=float32)"
            ]
          },
          "metadata": {
            "tags": []
          },
          "execution_count": 67
        }
      ]
    },
    {
      "cell_type": "code",
      "metadata": {
        "id": "jdYJspc4MtWu",
        "outputId": "b487437f-e78c-414a-8441-6e7c3056b360",
        "colab": {
          "base_uri": "https://localhost:8080/",
          "height": 171
        }
      },
      "source": [
        "cosine_similarity(np.atleast_2d(model.wv.get_vector('алимемазин')), \\\n",
        "                  np.atleast_2d(model.wv.get_vector('азалептин')))[0][0]"
      ],
      "execution_count": 68,
      "outputs": [
        {
          "output_type": "error",
          "ename": "NameError",
          "evalue": "ignored",
          "traceback": [
            "\u001b[0;31m---------------------------------------------------------------------------\u001b[0m",
            "\u001b[0;31mNameError\u001b[0m                                 Traceback (most recent call last)",
            "\u001b[0;32m<ipython-input-68-1a885d371c0c>\u001b[0m in \u001b[0;36m<module>\u001b[0;34m()\u001b[0m\n\u001b[0;32m----> 1\u001b[0;31m \u001b[0mcosine_similarity\u001b[0m\u001b[0;34m(\u001b[0m\u001b[0mnp\u001b[0m\u001b[0;34m.\u001b[0m\u001b[0matleast_2d\u001b[0m\u001b[0;34m(\u001b[0m\u001b[0mmodel\u001b[0m\u001b[0;34m.\u001b[0m\u001b[0mwv\u001b[0m\u001b[0;34m.\u001b[0m\u001b[0mget_vector\u001b[0m\u001b[0;34m(\u001b[0m\u001b[0;34m'алимемазин'\u001b[0m\u001b[0;34m)\u001b[0m\u001b[0;34m)\u001b[0m\u001b[0;34m,\u001b[0m                   \u001b[0mnp\u001b[0m\u001b[0;34m.\u001b[0m\u001b[0matleast_2d\u001b[0m\u001b[0;34m(\u001b[0m\u001b[0mmodel\u001b[0m\u001b[0;34m.\u001b[0m\u001b[0mwv\u001b[0m\u001b[0;34m.\u001b[0m\u001b[0mget_vector\u001b[0m\u001b[0;34m(\u001b[0m\u001b[0;34m'азалептин'\u001b[0m\u001b[0;34m)\u001b[0m\u001b[0;34m)\u001b[0m\u001b[0;34m)\u001b[0m\u001b[0;34m[\u001b[0m\u001b[0;36m0\u001b[0m\u001b[0;34m]\u001b[0m\u001b[0;34m[\u001b[0m\u001b[0;36m0\u001b[0m\u001b[0;34m]\u001b[0m\u001b[0;34m\u001b[0m\u001b[0;34m\u001b[0m\u001b[0m\n\u001b[0m",
            "\u001b[0;31mNameError\u001b[0m: name 'model' is not defined"
          ]
        }
      ]
    },
    {
      "cell_type": "code",
      "metadata": {
        "id": "ZXJmNeDnFJb8"
      },
      "source": [
        "files.download('small_fasttext')"
      ],
      "execution_count": null,
      "outputs": []
    },
    {
      "cell_type": "code",
      "metadata": {
        "id": "ucjN2SXmu_qe"
      },
      "source": [
        "w2v = gensim.models.KeyedVectors.load_word2vec_format('news_upos_cbow_300_2_2017.bin.gz', binary=True)"
      ],
      "execution_count": null,
      "outputs": []
    },
    {
      "cell_type": "code",
      "metadata": {
        "id": "Ufr_mUmQwc_3"
      },
      "source": [
        "model = Word2Vec(size=300, min_count=1)\n",
        "model.build_vocab(sentences_tokenized)\n",
        "total_examples = model.corpus_count\n",
        "model.build_vocab([list(w2v.vocab.keys())], update=True)\n",
        "model.intersect_word2vec_format(\"news_upos_cbow_300_2_2017.bin.gz\", binary=True)\n",
        "model.train(sentences_tokenized, total_examples=total_examples, epochs=model.iter)"
      ],
      "execution_count": null,
      "outputs": []
    },
    {
      "cell_type": "code",
      "metadata": {
        "id": "dgavzX4yA-Nx"
      },
      "source": [
        "# int(model['препарат'][-1])\n",
        "model.wv.__getitem__('препарат')[-1]"
      ],
      "execution_count": null,
      "outputs": []
    },
    {
      "cell_type": "code",
      "metadata": {
        "id": "FQK8uC2H0737"
      },
      "source": [
        "model.most_similar('препарат')"
      ],
      "execution_count": null,
      "outputs": []
    },
    {
      "cell_type": "code",
      "metadata": {
        "id": "st-Fx4gW18sL"
      },
      "source": [
        "# model['алимемазин']\n",
        "model.wv.most_similar('алимемазин')"
      ],
      "execution_count": null,
      "outputs": []
    },
    {
      "cell_type": "code",
      "metadata": {
        "id": "sXFz2x3vNSmI"
      },
      "source": [
        "cosine_similarity(np.atleast_2d(ft.wv.get_vector('алимемазин')), \\\n",
        "                  np.atleast_2d(ft.wv.get_vector('азалептин')))[0][0]"
      ],
      "execution_count": null,
      "outputs": []
    },
    {
      "cell_type": "code",
      "metadata": {
        "id": "cSaPsAMzNXcq"
      },
      "source": [
        "cosine_similarity(np.atleast_2d(ft.wv.get_vector('алимемазин')), \\\n",
        "                  np.atleast_2d(ft.wv.get_vector('стул')))[0][0]"
      ],
      "execution_count": null,
      "outputs": []
    },
    {
      "cell_type": "code",
      "metadata": {
        "id": "sWfPCgbmNw3n"
      },
      "source": [
        "cosine_similarity(np.atleast_2d(ft.wv.get_vector('дак')), \\\n",
        "                  np.atleast_2d(ft.wv.get_vector('соф')))[0][0]"
      ],
      "execution_count": null,
      "outputs": []
    },
    {
      "cell_type": "code",
      "metadata": {
        "id": "zC3kW8hY5LNN"
      },
      "source": [
        "cosine_similarity(np.atleast_2d(ft.wv.get_vector('дак')), \\\n",
        "                  np.atleast_2d(ft.wv.get_vector('софосбувир')))[0][0]"
      ],
      "execution_count": null,
      "outputs": []
    },
    {
      "cell_type": "code",
      "metadata": {
        "id": "nDMJTQnwNlWN"
      },
      "source": [
        "cosine_similarity(np.atleast_2d(ft.wv.get_vector('соф')), \\\n",
        "                  np.atleast_2d(ft.wv.get_vector('софосбувир')))[0][0]"
      ],
      "execution_count": null,
      "outputs": []
    },
    {
      "cell_type": "code",
      "metadata": {
        "id": "H3YeIYgLf9o2"
      },
      "source": [
        "# Модель есть, теперь надо набрать корпус из трех форумов примерно поровну, и чтобы не помереть при разметке."
      ],
      "execution_count": 70,
      "outputs": []
    },
    {
      "cell_type": "markdown",
      "metadata": {
        "id": "2sdy4JIXW_Ld"
      },
      "source": [
        "СОВСЕМ НЕМНОЖКО, для начала!!\n"
      ]
    },
    {
      "cell_type": "code",
      "metadata": {
        "id": "SPnaS6Vq3Hxz"
      },
      "source": [
        "short_txt = \" \"\n",
        "handler = open('neuroleptic_ru.txt', 'r', encoding='utf-8')\n",
        "short_txt = handler.read()[:20000]\n",
        "handler.close()\n",
        "\n",
        "handler = open('rakpobedim_ru.txt', 'r', encoding='utf-8')\n",
        "short_txt += handler.read()[:20000]\n",
        "handler.close()\n",
        "\n",
        "handler = open('hv-info_gepatit.txt', 'r', encoding='utf-8')\n",
        "short_txt += handler.read()[:20000]\n",
        "handler.close()"
      ],
      "execution_count": 143,
      "outputs": []
    },
    {
      "cell_type": "code",
      "metadata": {
        "colab": {
          "base_uri": "https://localhost:8080/"
        },
        "id": "WISiAodR9MvG",
        "outputId": "19aecd8d-5215-4d03-ae41-1f6841a40148"
      },
      "source": [
        "len(short_txt)"
      ],
      "execution_count": 144,
      "outputs": [
        {
          "output_type": "execute_result",
          "data": {
            "text/plain": [
              "60000"
            ]
          },
          "metadata": {
            "tags": []
          },
          "execution_count": 144
        }
      ]
    },
    {
      "cell_type": "code",
      "metadata": {
        "colab": {
          "base_uri": "https://localhost:8080/"
        },
        "id": "11jQB9ave4EV",
        "outputId": "a2b1a231-4788-4289-e2ca-b8af17ca91d9"
      },
      "source": [
        "import nltk\n",
        "nltk.download('punkt')"
      ],
      "execution_count": 145,
      "outputs": [
        {
          "output_type": "stream",
          "text": [
            "[nltk_data] Downloading package punkt to /root/nltk_data...\n",
            "[nltk_data]   Package punkt is already up-to-date!\n"
          ],
          "name": "stdout"
        },
        {
          "output_type": "execute_result",
          "data": {
            "text/plain": [
              "True"
            ]
          },
          "metadata": {
            "tags": []
          },
          "execution_count": 145
        }
      ]
    },
    {
      "cell_type": "code",
      "metadata": {
        "id": "p10zOb_FigNW",
        "colab": {
          "base_uri": "https://localhost:8080/",
          "height": 54
        },
        "outputId": "facab472-0bdf-48b2-aea4-0ca0f0b2a5bb"
      },
      "source": [
        "short_posts = str_list = short_txt.split('----')\n",
        "short_posts[10]"
      ],
      "execution_count": 146,
      "outputs": [
        {
          "output_type": "execute_result",
          "data": {
            "application/vnd.google.colaboratory.intrinsic+json": {
              "type": "string"
            },
            "text/plain": [
              "'\\nНа рынок снова вернулся алимемазин (раньше терален назывался). Хотелось бы узнать Ваше мнение. Кто принимал в своей практике, что хорошего, что плохого\\n\\n____________________________________________\\nСообщение отредактировано.\\n\\nДобавлена ссылка на ролик в You Tube.\\n\\nСообщение отредактировал Гилев: 12 Апрель 2020 - 07:55\\nДобавлена ссылка на ролик в You Tube\\n'"
            ]
          },
          "metadata": {
            "tags": []
          },
          "execution_count": 146
        }
      ]
    },
    {
      "cell_type": "code",
      "metadata": {
        "colab": {
          "base_uri": "https://localhost:8080/"
        },
        "id": "iA5HwgJZiu_p",
        "outputId": "e8c1b399-2aae-440c-f54d-1b58c7bb28db"
      },
      "source": [
        "len(short_posts)\n"
      ],
      "execution_count": 147,
      "outputs": [
        {
          "output_type": "execute_result",
          "data": {
            "text/plain": [
              "194"
            ]
          },
          "metadata": {
            "tags": []
          },
          "execution_count": 147
        }
      ]
    },
    {
      "cell_type": "code",
      "metadata": {
        "id": "ujUUyr1fjh-_"
      },
      "source": [
        "# Словарь предложение:номер поста\n",
        "tokenizer = RegexpTokenizer(r'\\w+')\n",
        "sent_dict = {}\n",
        "for num, post in enumerate(short_posts):\n",
        "  for sent in nltk.sent_tokenize(post):\n",
        "    sent = ' '.join(tokenizer.tokenize(sent))\n",
        "    sent = sent.replace('_', '') \n",
        "    # sent = nltk.regexp_tokenize(sent, '[а-яА-яa-zA-Z.!? ]')\n",
        "    if sent:\n",
        "      sent_dict[sent] = num "
      ],
      "execution_count": 149,
      "outputs": []
    },
    {
      "cell_type": "code",
      "metadata": {
        "colab": {
          "base_uri": "https://localhost:8080/"
        },
        "id": "HxANj7E9k4Hr",
        "outputId": "e5e34e89-a29b-487a-c049-ecbd46ecb5a2"
      },
      "source": [
        "len(sent_dict)"
      ],
      "execution_count": 150,
      "outputs": [
        {
          "output_type": "execute_result",
          "data": {
            "text/plain": [
              "537"
            ]
          },
          "metadata": {
            "tags": []
          },
          "execution_count": 150
        }
      ]
    },
    {
      "cell_type": "code",
      "metadata": {
        "colab": {
          "base_uri": "https://localhost:8080/"
        },
        "id": "YMExp782kkgX",
        "outputId": "5c080efa-cfb3-47b8-e263-1dda533c698d"
      },
      "source": [
        "# только для удобства, если не будет влезать в память - использую ключи словаря\n",
        "sent_list = list(sent_dict.keys())\n",
        "sent_list[:9]"
      ],
      "execution_count": 151,
      "outputs": [
        {
          "output_type": "execute_result",
          "data": {
            "text/plain": [
              "['На рынок снова вернулся алимемазин раньше терален назывался',\n",
              " 'Хотелось бы узнать Ваше мнение',\n",
              " 'Кто принимал в своей практике что хорошего что плохого  Сообщение отредактировано',\n",
              " 'Добавлена ссылка на ролик в You Tube',\n",
              " 'Сообщение отредактировал Гилев 12 Апрель 2020 07 55 Добавлена ссылка на ролик в You Tube',\n",
              " 'Орто сказал а 27 11 2008 19 59 На рынок снова вернулся алимемазин раньше терален назывался',\n",
              " 'Кто принимал в своей практике что хорошего что плохого Это тот редкий случай когда антипсихотик оставил самые приятные впечатления к сожалению про моно терапию рассказать не могу т к принимал его совместно с антидепрессантами Орто а где его можно приобрести не подскажете',\n",
              " 'В Волгограде есть почти во всех аптеках стоит 80 руб',\n",
              " 'Мы его применяемм в основном как вегетостабилизатор']"
            ]
          },
          "metadata": {
            "tags": []
          },
          "execution_count": 151
        }
      ]
    },
    {
      "cell_type": "code",
      "metadata": {
        "colab": {
          "base_uri": "https://localhost:8080/"
        },
        "id": "p7q4bxQIl0-X",
        "outputId": "ce77023e-cf67-4f08-b128-9b6ccc1a4977"
      },
      "source": [
        "sent_dict[sent_list[0]]"
      ],
      "execution_count": 152,
      "outputs": [
        {
          "output_type": "execute_result",
          "data": {
            "text/plain": [
              "10"
            ]
          },
          "metadata": {
            "tags": []
          },
          "execution_count": 152
        }
      ]
    },
    {
      "cell_type": "code",
      "metadata": {
        "id": "OYNALloAivPV"
      },
      "source": [
        "\n",
        "# sentences_tokenized = [w.lower() for w in short_posts]\n",
        "# sentences_tokenized = [tokenizer.tokenize(i) for i in sentences_tokenized]\n",
        "# sentences_tokenized[0]"
      ],
      "execution_count": 153,
      "outputs": []
    },
    {
      "cell_type": "code",
      "metadata": {
        "id": "F-3v3Ee47avH"
      },
      "source": [
        "import pymorphy2\n",
        "morph = pymorphy2.MorphAnalyzer()"
      ],
      "execution_count": 154,
      "outputs": []
    },
    {
      "cell_type": "code",
      "metadata": {
        "colab": {
          "base_uri": "https://localhost:8080/"
        },
        "id": "TjqqQEOB0XaO",
        "outputId": "5559eb9d-d962-4c15-976a-c8617c75a3e9"
      },
      "source": [
        "sample = 'он'\n",
        "print('Одуш', morph.parse(sample)[0].tag.animacy)\n",
        "print('Падеж', morph.parse(sample)[0].tag.case )\n",
        "print('Пол', morph.parse(sample)[0].tag.gender)\n",
        "print('Число', morph.parse(sample)[0].tag.number)\n",
        "print('Лицо', morph.parse(sample)[0].tag.person)\n",
        "print('Часть речи', morph.parse(sample)[0].tag.POS)\n",
        "print('Время', morph.parse(sample)[0].tag.tense)\n",
        "print('Залог', morph.parse(sample)[0].tag.voice)\n",
        "\n"
      ],
      "execution_count": 155,
      "outputs": [
        {
          "output_type": "stream",
          "text": [
            "Одуш None\n",
            "Падеж nomn\n",
            "Пол masc\n",
            "Число sing\n",
            "Лицо 3per\n",
            "Часть речи NPRO\n",
            "Время None\n",
            "Залог None\n"
          ],
          "name": "stdout"
        }
      ]
    },
    {
      "cell_type": "code",
      "metadata": {
        "colab": {
          "base_uri": "https://localhost:8080/"
        },
        "id": "zLk-dMgV7Ucy",
        "outputId": "fb3a535a-b7a8-4176-94bd-f0f22d598479"
      },
      "source": [
        "aa = morph.parse(sample)[0]\n",
        "print(aa.tag)"
      ],
      "execution_count": 156,
      "outputs": [
        {
          "output_type": "stream",
          "text": [
            "NPRO,masc,3per,Anph sing,nomn\n"
          ],
          "name": "stdout"
        }
      ]
    },
    {
      "cell_type": "code",
      "metadata": {
        "colab": {
          "base_uri": "https://localhost:8080/"
        },
        "id": "WBClLCDiptwg",
        "outputId": "eca5efc8-200d-4a5e-e5a6-c70876a7e922"
      },
      "source": [
        "sent_list[61:89]"
      ],
      "execution_count": 157,
      "outputs": [
        {
          "output_type": "execute_result",
          "data": {
            "text/plain": [
              "['Похоже он у меня работает как аугментация к АД',\n",
              " 'Сегодня повысил ципралекс до 10мг сначала размазало а сейчас вечером прям норм стало даже повышенное настроение и голова заработала',\n",
              " 'Кстати какой ад на либидыч меньше воздействует ципра или сертралин',\n",
              " 'возможно сертралин',\n",
              " 'Из побочек добавилась бессонница',\n",
              " 'Я для сна при приеме карипразина пил еще 1 4 тизирцина для сна впринципе работало но неделе через 2 появилась бессонница мог спать по 3 часа Или не мог долго уснуть',\n",
              " 'Из побочек еще тревога сильная была',\n",
              " 'Он вообще препарат стимулирующий',\n",
              " 'Обсуждаем препарат Сероквель Кветиапин',\n",
              " 'Повышает ли сероквель уровень пролактина в крови',\n",
              " 'Есть ли после него акатизия тремор В основном какие побочные встречаются при прееме Сероквеля',\n",
              " 'На уровень пролактина Сероквель практически не влияет',\n",
              " 'Экстрапирамидные осложнения также бывают редко',\n",
              " 'Этот препарат отличается хорошей переносимостью',\n",
              " 'Лечит ли Сероквель негативную симптоматику',\n",
              " 'Нужно отметить что к сожалению Сероквель сильно снижает артериальное давление и гипотоникам АД 90 60 он по крайней мере не рекомендуется При применении с антидепрессантами ТЦА СИОЗСиН вызывает выраженную тахикардию В целом достаточно неплохой атипичный нейролептик',\n",
              " 'Easy сказал а Нужно отметить что к сожалению Сероквель сильно снижает артериальное давление и гипотоникам АД 90 60 он по крайней мере не рекомендуется При применении с антидепрессантами ТЦА СИОЗСиН вызывает выраженную тахикардию В целом достаточно неплохой атипичный нейролептик А лечит ли сероквель негфтивную симптоматику',\n",
              " 'И вызывает ли этот препорат депрессию',\n",
              " 'Да Сероквель пожалуй один из лучших препаратов влияющих на негативную симптоматику',\n",
              " 'Вызывает ли Сероквель дипрессию',\n",
              " 'И еще вызывает ли этот препорат сексуальную дисфункцию в организме',\n",
              " 'Наталья1978 сказал а Вызывает ли Сероквель дипрессию',\n",
              " 'Депрессию не лечет это не антидепрессант',\n",
              " 'Если только депрессия не была вызвана шизофренией',\n",
              " 'Дисфункцию не вызывает некоторые даже сообщали о повышение либидо женщины',\n",
              " 'Единсвенный недостаток это набор веса',\n",
              " 'Dark сказал а Наталья1978 сказал а Вызывает ли Сероквель дипрессию',\n",
              " 'При изолированном приеме Сероквель конечно вызовет депрессию Но иногда нейролептики выписывают к антидепрессантам что бы преодолеть их резистентность при длительном приеме При шизофрении картина конечно другая если она с депрессией то Сероквель в малых дозировках очень даже помогает']"
            ]
          },
          "metadata": {
            "tags": []
          },
          "execution_count": 157
        }
      ]
    },
    {
      "cell_type": "code",
      "metadata": {
        "colab": {
          "base_uri": "https://localhost:8080/",
          "height": 35
        },
        "id": "IAQjMN3B_sQc",
        "outputId": "f3c39426-aa06-46d9-de45-d612c8908120"
      },
      "source": [
        "sent_list[66]"
      ],
      "execution_count": 158,
      "outputs": [
        {
          "output_type": "execute_result",
          "data": {
            "application/vnd.google.colaboratory.intrinsic+json": {
              "type": "string"
            },
            "text/plain": [
              "'Я для сна при приеме карипразина пил еще 1 4 тизирцина для сна впринципе работало но неделе через 2 появилась бессонница мог спать по 3 часа Или не мог долго уснуть'"
            ]
          },
          "metadata": {
            "tags": []
          },
          "execution_count": 158
        }
      ]
    },
    {
      "cell_type": "code",
      "metadata": {
        "id": "ztjqE_Mu04w3",
        "colab": {
          "base_uri": "https://localhost:8080/"
        },
        "outputId": "fee097b4-4677-43fe-cbab-2efb4a2224fb"
      },
      "source": [
        "doc = nlp(sent_list[66])\n",
        "for token in doc:\n",
        "    print(token.text, token.dep_, token.head.text, token.head.pos_, \n",
        "            [child for child in token.children], morph.parse(token.text)[0].tag,\n",
        "          [child for child in token.head.children])\n"
      ],
      "execution_count": 159,
      "outputs": [
        {
          "output_type": "stream",
          "text": [
            "Я nsubj пил VERB [] NPRO,1per sing,nomn [Я, сна, приеме, тизирцина, впринципе, работало, появилась, мог, мог]\n",
            "для case сна NOUN [] PREP [для]\n",
            "сна obl пил VERB [для] NOUN,inan,masc sing,gent [Я, сна, приеме, тизирцина, впринципе, работало, появилась, мог, мог]\n",
            "при case приеме NOUN [] PREP [при, карипразина]\n",
            "приеме obl пил VERB [при, карипразина] NOUN,inan,masc sing,loct [Я, сна, приеме, тизирцина, впринципе, работало, появилась, мог, мог]\n",
            "карипразина nmod приеме NOUN [] NOUN,anim,masc,Sgtm,Surn sing,gent [при, карипразина]\n",
            "пил ROOT пил VERB [Я, сна, приеме, тизирцина, впринципе, работало, появилась, мог, мог] VERB,impf,tran masc,sing,past,indc [Я, сна, приеме, тизирцина, впринципе, работало, появилась, мог, мог]\n",
            "еще advmod 1 NUM [] ADVB [еще]\n",
            "1 nummod 4 NUM [еще] NUMB,intg [1]\n",
            "4 nummod:gov тизирцина NOUN [1] NUMB,intg [4, сна]\n",
            "тизирцина obj пил VERB [4, сна] NOUN,anim,masc,Sgtm,Surn sing,gent [Я, сна, приеме, тизирцина, впринципе, работало, появилась, мог, мог]\n",
            "для case сна NOUN [] PREP [для]\n",
            "сна nmod тизирцина NOUN [для] NOUN,inan,masc sing,gent [4, сна]\n",
            "впринципе iobj пил VERB [] NOUN,inan,masc sing,loct [Я, сна, приеме, тизирцина, впринципе, работало, появилась, мог, мог]\n",
            "работало conj пил VERB [] VERB,impf,intr neut,sing,past,indc [Я, сна, приеме, тизирцина, впринципе, работало, появилась, мог, мог]\n",
            "но cc появилась VERB [] CONJ [но, неделе]\n",
            "неделе obl появилась VERB [2] NOUN,inan,femn sing,loct [но, неделе]\n",
            "через case 2 NUM [] PREP [через]\n",
            "2 nmod неделе NOUN [через] NUMB,intg [2]\n",
            "появилась conj пил VERB [но, неделе] VERB,perf,intr femn,sing,past,indc [Я, сна, приеме, тизирцина, впринципе, работало, появилась, мог, мог]\n",
            "бессонница nsubj мог VERB [] NOUN,inan,femn sing,nomn [бессонница, спать]\n",
            "мог conj пил VERB [бессонница, спать] VERB,impf,intr masc,sing,past,indc [Я, сна, приеме, тизирцина, впринципе, работало, появилась, мог, мог]\n",
            "спать xcomp мог VERB [часа] INFN,impf,intr [бессонница, спать]\n",
            "по case часа NOUN [] PREP [по, 3]\n",
            "3 nummod:gov часа NOUN [] NUMB,intg [по, 3]\n",
            "часа obl спать VERB [по, 3] NOUN,inan,masc sing,gent [часа]\n",
            "Или cc мог VERB [] CONJ [Или, не, долго, уснуть]\n",
            "не advmod мог VERB [] PRCL [Или, не, долго, уснуть]\n",
            "мог conj пил VERB [Или, не, долго, уснуть] VERB,impf,intr masc,sing,past,indc [Я, сна, приеме, тизирцина, впринципе, работало, появилась, мог, мог]\n",
            "долго advmod мог VERB [] ADVB [Или, не, долго, уснуть]\n",
            "уснуть xcomp мог VERB [] INFN,perf,intr [Или, не, долго, уснуть]\n"
          ],
          "name": "stdout"
        }
      ]
    },
    {
      "cell_type": "code",
      "metadata": {
        "colab": {
          "base_uri": "https://localhost:8080/"
        },
        "id": "4dd4UU-Dde0K",
        "outputId": "9620435a-6965-4ba2-aeb2-ad346798981d"
      },
      "source": [
        "doc = nlp(sent_list[61])\n",
        "for token in doc:\n",
        "    print(token.text, token.dep_, token.head.text, token.head.pos_,\n",
        "            [child for child in token.children], morph.parse(token.text)[0].tag,\n",
        "          [child for child in token.head.children],)\n"
      ],
      "execution_count": 160,
      "outputs": [
        {
          "output_type": "stream",
          "text": [
            "Похоже advmod работает VERB [] ADVB [Похоже, он, меня, аугментация, АД]\n",
            "он nsubj работает VERB [] NPRO,masc,3per,Anph sing,nomn [Похоже, он, меня, аугментация, АД]\n",
            "у case меня PRON [] PREP [у]\n",
            "меня obl работает VERB [у] NPRO,1per sing,accs [Похоже, он, меня, аугментация, АД]\n",
            "работает ROOT работает VERB [Похоже, он, меня, аугментация, АД] VERB,impf,intr sing,3per,pres,indc [Похоже, он, меня, аугментация, АД]\n",
            "как case аугментация NOUN [] CONJ [как]\n",
            "аугментация obl работает VERB [как] NOUN,inan,femn sing,nomn [Похоже, он, меня, аугментация, АД]\n",
            "к case АД PROPN [] PREP [к]\n",
            "АД obl работает VERB [к] NOUN,inan,masc,Sgtm sing,nomn [Похоже, он, меня, аугментация, АД]\n"
          ],
          "name": "stdout"
        }
      ]
    },
    {
      "cell_type": "code",
      "metadata": {
        "id": "DOm7fPDO8AMI",
        "outputId": "7ee0ad10-e276-442c-fe76-c19af89bc177",
        "colab": {
          "base_uri": "https://localhost:8080/"
        }
      },
      "source": [
        "sample = 'он'\n",
        "print('Одуш', morph.parse(sample)[0].tag.animacy)\n",
        "print('Падеж', morph.parse(sample)[0].tag.case )\n",
        "print('Пол', morph.parse(sample)[0].tag.gender)\n",
        "print('Число', morph.parse(sample)[0].tag.number)\n",
        "print('Лицо', morph.parse(sample)[0].tag.person)\n",
        "print('Часть речи', morph.parse(sample)[0].tag.POS)\n",
        "print('Время', morph.parse(sample)[0].tag.tense)\n",
        "print('Залог', morph.parse(sample)[0].tag.voice)\n"
      ],
      "execution_count": 162,
      "outputs": [
        {
          "output_type": "stream",
          "text": [
            "Одуш None\n",
            "Падеж nomn\n",
            "Пол masc\n",
            "Число sing\n",
            "Лицо 3per\n",
            "Часть речи NPRO\n",
            "Время None\n",
            "Залог None\n"
          ],
          "name": "stdout"
        }
      ]
    },
    {
      "cell_type": "markdown",
      "metadata": {
        "id": "ku0NMgIJomMR"
      },
      "source": [
        "***Разметка для кореференции***"
      ]
    },
    {
      "cell_type": "code",
      "metadata": {
        "id": "i13--Gw9pASO"
      },
      "source": [
        "coref_df = pd.DataFrame(columns=['TOKEN', 'TOKEN_VECT', 'POST_NUM', 'ANIMACY', 'CASE', 'GENDER', 'PERSON', 'POS', 'DEPENDENCY', 'HEAD', 'HEAD_VECT' 'HEAD_POS',\n",
        "                                 'HEAD_ANIMACY', 'HEAD_CASE', 'HEAD_GENDER',  'HEAD_POS', 'SENT_VECTOR', 'HEAD_CHILDS_VECT', 'NER',\n",
        "                                 'COREFERENCE_CLUSTER', ])"
      ],
      "execution_count": 163,
      "outputs": []
    },
    {
      "cell_type": "code",
      "metadata": {
        "colab": {
          "base_uri": "https://localhost:8080/"
        },
        "id": "Sm-d5yaz5mH5",
        "outputId": "575b7672-f002-4d08-eed6-a688c3989ae8"
      },
      "source": [
        "sent_vector = 0\n",
        "for sent in sent_list:\n",
        "  sent_vector = 0\n",
        "  post_num = sent_dict.get(sent)\n",
        "  # sent_vector = sum([model.wv.__getitem__(tok.lower())[-1] for tok in sent.split()])\n",
        "  \n",
        "  for i in sent.split():\n",
        "    try:     \n",
        "      sent_vector += ft.wv.__getitem__(i.lower())[-1]\n",
        "    except KeyError:\n",
        "      print(i)\n",
        "  sent_vector = sent_vector/len(sent.split())\n",
        "  # if sent_vector == '-' or None or 0:\n",
        "  #   print(sent)\n",
        "  my_sent = nlp(sent)\n",
        "  for token in my_sent:\n",
        "    morphy = morph.parse(token.text)[0]\n",
        "\n",
        "    app_dict = {}\n",
        "    app_dict['TOKEN'] = token.text or '-'\n",
        "    try:\n",
        "      app_dict['TOKEN_VECT'] = ft.wv.__getitem__(token.text.lower())[-1] if token.text else '-'\n",
        "    except KeyError:\n",
        "      print(token.text.lower())\n",
        "    app_dict['POST_NUM'] = post_num or '-'\n",
        "    app_dict['ANIMACY'] = morphy.tag.animacy or '-'\n",
        "    app_dict['CASE'] = morphy.tag.case or '-'\n",
        "    app_dict['GENDER'] = morphy.tag.gender or '-'\n",
        "    app_dict['PERSON'] = morphy.tag.person or '-'\n",
        "    app_dict['POS'] = morphy.tag.POS or '-' \n",
        "    app_dict['DEPENDENCY'] = token.dep_ or '-'\n",
        "\n",
        "    app_dict['HEAD'] = token.head.text or '-'\n",
        "    try:\n",
        "      app_dict['HEAD_VECT'] = ft.wv.__getitem__(token.head.text)[-1] if token.head.text else '-'\n",
        "    except KeyError:\n",
        "      print(token.head.text)\n",
        "    app_dict['HEAD_POS'] = token.head.pos_ or '-'\n",
        "    morphy = morph.parse(token.head.text)[0] or '-'\n",
        "    app_dict['HEAD_ANIMACY'] = morphy.tag.animacy or '-'\n",
        "    app_dict['HEAD_CASE'] = morphy.tag.case or '-'\n",
        "    app_dict['HEAD_GENDER'] = morphy.tag.gender or '-'\n",
        "    # app_dict['HEAD_PERSON'] = morphy.tag.person or '-'\n",
        "    app_dict['HEAD_POS'] = morphy.tag.POS or '-'\n",
        "    app_dict['SENT_VECTOR'] = sent_vector or '-'\n",
        "    try:\n",
        "      if token.head.children:\n",
        "        app_dict['HEAD_CHILDS_VECT'] = 0\n",
        "        for child in token.head.children:\n",
        "          app_dict['HEAD_CHILDS_VECT'] += ft[child.text.lower()][-1]\n",
        "        if list(token.head.children):\n",
        "          app_dict['HEAD_CHILDS_VECT'] = app_dict['HEAD_CHILDS_VECT']/len(list(token.head.children))\n",
        "    except KeyError:\n",
        "      print(child.text.lower())\n",
        "\n",
        "    app_dict['NER'] = 0\n",
        "    app_dict['COREFERENCE_CLUSTER'] = 0\n",
        "    coref_df = coref_df.append(app_dict, ignore_index=True)\n"
      ],
      "execution_count": 164,
      "outputs": [
        {
          "output_type": "stream",
          "text": [
            "/usr/local/lib/python3.7/dist-packages/ipykernel_launcher.py:50: DeprecationWarning: Call to deprecated `__getitem__` (Method will be removed in 4.0.0, use self.wv.__getitem__() instead).\n"
          ],
          "name": "stderr"
        },
        {
          "output_type": "stream",
          "text": [
            " \n",
            " \n",
            " \n",
            "ПП\n",
            "ПП\n",
            "D3\n",
            "d3\n",
            "d3\n",
            "D3\n",
            "Он\n",
            "АД\n",
            "D2\n",
            "Да\n",
            "По\n",
            "По\n",
            "NO\n",
            "NO\n",
            "И\n",
            "УЗИ\n",
            "УЗИ\n",
            "Ой\n",
            "В\n",
            "В\n",
            "РПЖ\n",
            "РПЖ\n",
            "И\n",
            "РПЖ\n",
            "Из\n",
            "РПЖ\n",
            "РПЖ\n",
            "ЛП\n",
            "C\n",
            "3Mb\n",
            "3mb\n",
            "PDF\n",
            "3mb\n",
            "PDF\n",
            "3mb\n",
            "PDF\n",
            "3mb\n",
            "PDF\n",
            "3mb\n",
            "PDF\n",
            "3mb\n",
            "PDF\n",
            "3mb\n",
            "PDF\n",
            "3mb\n",
            "PDF\n",
            "3mb\n",
            "PDF\n",
            "3mb\n",
            "PDF\n",
            "3mb\n",
            "PDF\n",
            "3mb\n",
            "PDF\n",
            "3mb\n",
            "PDF\n",
            "3mb\n",
            "ППД\n",
            "Да\n",
            "Да\n",
            "БЛ\n",
            "БЛ\n",
            "БЛ\n",
            "Но\n",
            "Но\n",
            "По\n",
            "Р\n",
            "УВО\n",
            "PR\n",
            "PR\n",
            "Да\n",
            "Да\n",
            "PR\n",
            "PR\n",
            "ППД\n",
            "ППД\n",
            "ОЗТ\n",
            "ППД\n",
            "ОЗТ\n",
            "RATING\n",
            "УВО\n",
            "УВО\n",
            "УВО\n",
            "УВО\n",
            "КИ\n",
            "URL\n",
            "URL\n",
            "URL\n",
            "URL\n",
            "URL\n",
            "URL\n",
            "URL\n",
            "ВСЕХ\n",
            "А\n",
            "Т\n",
            "Т\n",
            "Ну\n",
            "Ну\n",
            "Ок\n",
            "Ок\n",
            "Ок\n",
            "EASL\n",
            "1a\n",
            "А1\n",
            "1a\n",
            "1a\n",
            "а1\n",
            "а1\n",
            "а1\n",
            "а1\n",
            "Вы\n"
          ],
          "name": "stdout"
        }
      ]
    },
    {
      "cell_type": "code",
      "metadata": {
        "colab": {
          "base_uri": "https://localhost:8080/",
          "height": 427
        },
        "id": "jGtB6FGc9ITr",
        "outputId": "f03d1b2f-cae3-4fa3-8015-359804d651d5"
      },
      "source": [
        "coref_df"
      ],
      "execution_count": 165,
      "outputs": [
        {
          "output_type": "execute_result",
          "data": {
            "text/html": [
              "<div>\n",
              "<style scoped>\n",
              "    .dataframe tbody tr th:only-of-type {\n",
              "        vertical-align: middle;\n",
              "    }\n",
              "\n",
              "    .dataframe tbody tr th {\n",
              "        vertical-align: top;\n",
              "    }\n",
              "\n",
              "    .dataframe thead th {\n",
              "        text-align: right;\n",
              "    }\n",
              "</style>\n",
              "<table border=\"1\" class=\"dataframe\">\n",
              "  <thead>\n",
              "    <tr style=\"text-align: right;\">\n",
              "      <th></th>\n",
              "      <th>TOKEN</th>\n",
              "      <th>TOKEN_VECT</th>\n",
              "      <th>POST_NUM</th>\n",
              "      <th>ANIMACY</th>\n",
              "      <th>CASE</th>\n",
              "      <th>GENDER</th>\n",
              "      <th>PERSON</th>\n",
              "      <th>POS</th>\n",
              "      <th>DEPENDENCY</th>\n",
              "      <th>HEAD</th>\n",
              "      <th>HEAD_VECTHEAD_POS</th>\n",
              "      <th>HEAD_ANIMACY</th>\n",
              "      <th>HEAD_CASE</th>\n",
              "      <th>HEAD_GENDER</th>\n",
              "      <th>HEAD_POS</th>\n",
              "      <th>SENT_VECTOR</th>\n",
              "      <th>HEAD_CHILDS_VECT</th>\n",
              "      <th>NER</th>\n",
              "      <th>COREFERENCE_CLUSTER</th>\n",
              "      <th>HEAD_VECT</th>\n",
              "    </tr>\n",
              "  </thead>\n",
              "  <tbody>\n",
              "    <tr>\n",
              "      <th>0</th>\n",
              "      <td>На</td>\n",
              "      <td>-0.046335</td>\n",
              "      <td>10</td>\n",
              "      <td>-</td>\n",
              "      <td>-</td>\n",
              "      <td>-</td>\n",
              "      <td>-</td>\n",
              "      <td>PREP</td>\n",
              "      <td>case</td>\n",
              "      <td>рынок</td>\n",
              "      <td>NaN</td>\n",
              "      <td>inan</td>\n",
              "      <td>accs</td>\n",
              "      <td>masc</td>\n",
              "      <td>NOUN</td>\n",
              "      <td>0.094495</td>\n",
              "      <td>-0.046335</td>\n",
              "      <td>0</td>\n",
              "      <td>0</td>\n",
              "      <td>0.150048</td>\n",
              "    </tr>\n",
              "    <tr>\n",
              "      <th>1</th>\n",
              "      <td>рынок</td>\n",
              "      <td>0.150048</td>\n",
              "      <td>10</td>\n",
              "      <td>inan</td>\n",
              "      <td>accs</td>\n",
              "      <td>masc</td>\n",
              "      <td>-</td>\n",
              "      <td>NOUN</td>\n",
              "      <td>obl</td>\n",
              "      <td>вернулся</td>\n",
              "      <td>NaN</td>\n",
              "      <td>-</td>\n",
              "      <td>-</td>\n",
              "      <td>masc</td>\n",
              "      <td>VERB</td>\n",
              "      <td>0.094495</td>\n",
              "      <td>0.056298</td>\n",
              "      <td>0</td>\n",
              "      <td>0</td>\n",
              "      <td>0.284159</td>\n",
              "    </tr>\n",
              "    <tr>\n",
              "      <th>2</th>\n",
              "      <td>снова</td>\n",
              "      <td>-0.071036</td>\n",
              "      <td>10</td>\n",
              "      <td>-</td>\n",
              "      <td>-</td>\n",
              "      <td>-</td>\n",
              "      <td>-</td>\n",
              "      <td>ADVB</td>\n",
              "      <td>advmod</td>\n",
              "      <td>вернулся</td>\n",
              "      <td>NaN</td>\n",
              "      <td>-</td>\n",
              "      <td>-</td>\n",
              "      <td>masc</td>\n",
              "      <td>VERB</td>\n",
              "      <td>0.094495</td>\n",
              "      <td>0.056298</td>\n",
              "      <td>0</td>\n",
              "      <td>0</td>\n",
              "      <td>0.284159</td>\n",
              "    </tr>\n",
              "    <tr>\n",
              "      <th>3</th>\n",
              "      <td>вернулся</td>\n",
              "      <td>0.284159</td>\n",
              "      <td>10</td>\n",
              "      <td>-</td>\n",
              "      <td>-</td>\n",
              "      <td>masc</td>\n",
              "      <td>-</td>\n",
              "      <td>VERB</td>\n",
              "      <td>ROOT</td>\n",
              "      <td>вернулся</td>\n",
              "      <td>NaN</td>\n",
              "      <td>-</td>\n",
              "      <td>-</td>\n",
              "      <td>masc</td>\n",
              "      <td>VERB</td>\n",
              "      <td>0.094495</td>\n",
              "      <td>0.056298</td>\n",
              "      <td>0</td>\n",
              "      <td>0</td>\n",
              "      <td>0.284159</td>\n",
              "    </tr>\n",
              "    <tr>\n",
              "      <th>4</th>\n",
              "      <td>алимемазин</td>\n",
              "      <td>-0.023104</td>\n",
              "      <td>10</td>\n",
              "      <td>inan</td>\n",
              "      <td>nomn</td>\n",
              "      <td>masc</td>\n",
              "      <td>-</td>\n",
              "      <td>NOUN</td>\n",
              "      <td>nsubj</td>\n",
              "      <td>вернулся</td>\n",
              "      <td>NaN</td>\n",
              "      <td>-</td>\n",
              "      <td>-</td>\n",
              "      <td>masc</td>\n",
              "      <td>VERB</td>\n",
              "      <td>0.094495</td>\n",
              "      <td>0.056298</td>\n",
              "      <td>0</td>\n",
              "      <td>0</td>\n",
              "      <td>0.284159</td>\n",
              "    </tr>\n",
              "    <tr>\n",
              "      <th>...</th>\n",
              "      <td>...</td>\n",
              "      <td>...</td>\n",
              "      <td>...</td>\n",
              "      <td>...</td>\n",
              "      <td>...</td>\n",
              "      <td>...</td>\n",
              "      <td>...</td>\n",
              "      <td>...</td>\n",
              "      <td>...</td>\n",
              "      <td>...</td>\n",
              "      <td>...</td>\n",
              "      <td>...</td>\n",
              "      <td>...</td>\n",
              "      <td>...</td>\n",
              "      <td>...</td>\n",
              "      <td>...</td>\n",
              "      <td>...</td>\n",
              "      <td>...</td>\n",
              "      <td>...</td>\n",
              "      <td>...</td>\n",
              "    </tr>\n",
              "    <tr>\n",
              "      <th>6674</th>\n",
              "      <td>3</td>\n",
              "      <td>-0.009287</td>\n",
              "      <td>193</td>\n",
              "      <td>-</td>\n",
              "      <td>-</td>\n",
              "      <td>-</td>\n",
              "      <td>-</td>\n",
              "      <td>-</td>\n",
              "      <td>ROOT</td>\n",
              "      <td>3</td>\n",
              "      <td>NaN</td>\n",
              "      <td>-</td>\n",
              "      <td>-</td>\n",
              "      <td>-</td>\n",
              "      <td>-</td>\n",
              "      <td>-0.124611</td>\n",
              "      <td>0.000000</td>\n",
              "      <td>0</td>\n",
              "      <td>0</td>\n",
              "      <td>-0.009287</td>\n",
              "    </tr>\n",
              "    <tr>\n",
              "      <th>6675</th>\n",
              "      <td>Пациенты</td>\n",
              "      <td>0.141368</td>\n",
              "      <td>193</td>\n",
              "      <td>anim</td>\n",
              "      <td>nomn</td>\n",
              "      <td>masc</td>\n",
              "      <td>-</td>\n",
              "      <td>NOUN</td>\n",
              "      <td>ROOT</td>\n",
              "      <td>Пациенты</td>\n",
              "      <td>NaN</td>\n",
              "      <td>anim</td>\n",
              "      <td>nomn</td>\n",
              "      <td>masc</td>\n",
              "      <td>NOUN</td>\n",
              "      <td>-0.219679</td>\n",
              "      <td>-0.072722</td>\n",
              "      <td>0</td>\n",
              "      <td>0</td>\n",
              "      <td>0.198803</td>\n",
              "    </tr>\n",
              "    <tr>\n",
              "      <th>6676</th>\n",
              "      <td>принимавшие</td>\n",
              "      <td>0.195333</td>\n",
              "      <td>193</td>\n",
              "      <td>-</td>\n",
              "      <td>nomn</td>\n",
              "      <td>-</td>\n",
              "      <td>-</td>\n",
              "      <td>PRTF</td>\n",
              "      <td>acl</td>\n",
              "      <td>Пациенты</td>\n",
              "      <td>NaN</td>\n",
              "      <td>anim</td>\n",
              "      <td>nomn</td>\n",
              "      <td>masc</td>\n",
              "      <td>NOUN</td>\n",
              "      <td>-0.219679</td>\n",
              "      <td>-0.072722</td>\n",
              "      <td>0</td>\n",
              "      <td>0</td>\n",
              "      <td>0.198803</td>\n",
              "    </tr>\n",
              "    <tr>\n",
              "      <th>6677</th>\n",
              "      <td>софосбувир</td>\n",
              "      <td>-0.874638</td>\n",
              "      <td>193</td>\n",
              "      <td>anim</td>\n",
              "      <td>gent</td>\n",
              "      <td>femn</td>\n",
              "      <td>-</td>\n",
              "      <td>NOUN</td>\n",
              "      <td>obj</td>\n",
              "      <td>принимавшие</td>\n",
              "      <td>NaN</td>\n",
              "      <td>-</td>\n",
              "      <td>nomn</td>\n",
              "      <td>-</td>\n",
              "      <td>PRTF</td>\n",
              "      <td>-0.219679</td>\n",
              "      <td>-0.874638</td>\n",
              "      <td>0</td>\n",
              "      <td>0</td>\n",
              "      <td>0.195333</td>\n",
              "    </tr>\n",
              "    <tr>\n",
              "      <th>6678</th>\n",
              "      <td>400</td>\n",
              "      <td>-0.340777</td>\n",
              "      <td>193</td>\n",
              "      <td>-</td>\n",
              "      <td>-</td>\n",
              "      <td>-</td>\n",
              "      <td>-</td>\n",
              "      <td>-</td>\n",
              "      <td>punct</td>\n",
              "      <td>Пациенты</td>\n",
              "      <td>NaN</td>\n",
              "      <td>anim</td>\n",
              "      <td>nomn</td>\n",
              "      <td>masc</td>\n",
              "      <td>NOUN</td>\n",
              "      <td>-0.219679</td>\n",
              "      <td>-0.072722</td>\n",
              "      <td>0</td>\n",
              "      <td>0</td>\n",
              "      <td>0.198803</td>\n",
              "    </tr>\n",
              "  </tbody>\n",
              "</table>\n",
              "<p>6679 rows × 20 columns</p>\n",
              "</div>"
            ],
            "text/plain": [
              "            TOKEN  TOKEN_VECT POST_NUM  ... NER COREFERENCE_CLUSTER HEAD_VECT\n",
              "0              На   -0.046335       10  ...   0                   0  0.150048\n",
              "1           рынок    0.150048       10  ...   0                   0  0.284159\n",
              "2           снова   -0.071036       10  ...   0                   0  0.284159\n",
              "3        вернулся    0.284159       10  ...   0                   0  0.284159\n",
              "4      алимемазин   -0.023104       10  ...   0                   0  0.284159\n",
              "...           ...         ...      ...  ...  ..                 ...       ...\n",
              "6674            3   -0.009287      193  ...   0                   0 -0.009287\n",
              "6675     Пациенты    0.141368      193  ...   0                   0  0.198803\n",
              "6676  принимавшие    0.195333      193  ...   0                   0  0.198803\n",
              "6677   софосбувир   -0.874638      193  ...   0                   0  0.195333\n",
              "6678          400   -0.340777      193  ...   0                   0  0.198803\n",
              "\n",
              "[6679 rows x 20 columns]"
            ]
          },
          "metadata": {
            "tags": []
          },
          "execution_count": 165
        }
      ]
    },
    {
      "cell_type": "code",
      "metadata": {
        "id": "2VDbf0ysWDkb"
      },
      "source": [
        "coref_df.to_csv('toy_coref_fasttext.csv', sep=' ', index=False)"
      ],
      "execution_count": 166,
      "outputs": []
    },
    {
      "cell_type": "code",
      "metadata": {
        "id": "KuDjOd2g-Pg0"
      },
      "source": [
        "from google.colab import files"
      ],
      "execution_count": 167,
      "outputs": []
    },
    {
      "cell_type": "code",
      "metadata": {
        "colab": {
          "base_uri": "https://localhost:8080/",
          "height": 17
        },
        "id": "tSAG8kV8-Rob",
        "outputId": "800b34fc-fa57-49ac-db87-e7876ef9b296"
      },
      "source": [
        "files.download('toy_coref_fasttext.csv')"
      ],
      "execution_count": 168,
      "outputs": [
        {
          "output_type": "display_data",
          "data": {
            "application/javascript": [
              "\n",
              "    async function download(id, filename, size) {\n",
              "      if (!google.colab.kernel.accessAllowed) {\n",
              "        return;\n",
              "      }\n",
              "      const div = document.createElement('div');\n",
              "      const label = document.createElement('label');\n",
              "      label.textContent = `Downloading \"${filename}\": `;\n",
              "      div.appendChild(label);\n",
              "      const progress = document.createElement('progress');\n",
              "      progress.max = size;\n",
              "      div.appendChild(progress);\n",
              "      document.body.appendChild(div);\n",
              "\n",
              "      const buffers = [];\n",
              "      let downloaded = 0;\n",
              "\n",
              "      const channel = await google.colab.kernel.comms.open(id);\n",
              "      // Send a message to notify the kernel that we're ready.\n",
              "      channel.send({})\n",
              "\n",
              "      for await (const message of channel.messages) {\n",
              "        // Send a message to notify the kernel that we're ready.\n",
              "        channel.send({})\n",
              "        if (message.buffers) {\n",
              "          for (const buffer of message.buffers) {\n",
              "            buffers.push(buffer);\n",
              "            downloaded += buffer.byteLength;\n",
              "            progress.value = downloaded;\n",
              "          }\n",
              "        }\n",
              "      }\n",
              "      const blob = new Blob(buffers, {type: 'application/binary'});\n",
              "      const a = document.createElement('a');\n",
              "      a.href = window.URL.createObjectURL(blob);\n",
              "      a.download = filename;\n",
              "      div.appendChild(a);\n",
              "      a.click();\n",
              "      div.remove();\n",
              "    }\n",
              "  "
            ],
            "text/plain": [
              "<IPython.core.display.Javascript object>"
            ]
          },
          "metadata": {
            "tags": []
          }
        },
        {
          "output_type": "display_data",
          "data": {
            "application/javascript": [
              "download(\"download_a2b25435-fe40-46bb-9a2f-b996462edaec\", \"toy_coref_fasttext.csv\", 1000278)"
            ],
            "text/plain": [
              "<IPython.core.display.Javascript object>"
            ]
          },
          "metadata": {
            "tags": []
          }
        }
      ]
    },
    {
      "cell_type": "code",
      "metadata": {
        "id": "Qb2JTOA1QJri"
      },
      "source": [
        ""
      ],
      "execution_count": null,
      "outputs": []
    }
  ]
}